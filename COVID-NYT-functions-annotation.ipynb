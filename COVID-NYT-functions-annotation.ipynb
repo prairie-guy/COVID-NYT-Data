{
 "cells": [
  {
   "cell_type": "markdown",
   "metadata": {},
   "source": [
    "## COVID NYT Functions Annotation\n",
    "https://github.com/nytimes/covid-19-data"
   ]
  },
  {
   "cell_type": "markdown",
   "metadata": {},
   "source": [
    "### May 28, 2020"
   ]
  },
  {
   "cell_type": "markdown",
   "metadata": {},
   "source": [
    "### These are annotations to the COVID-NYT-functions.jl as of this date. No attempt will be made to keep this in-snych with those functions. Please refer to that file for the most recent defintions of these functions."
   ]
  },
  {
   "cell_type": "code",
   "execution_count": 4,
   "metadata": {},
   "outputs": [],
   "source": [
    "using CSV, DataFrames, Plots, Dates"
   ]
  },
  {
   "cell_type": "code",
   "execution_count": 5,
   "metadata": {
    "scrolled": true
   },
   "outputs": [
    {
     "data": {
      "text/plain": [
       "Plots.GRBackend()"
      ]
     },
     "execution_count": 5,
     "metadata": {},
     "output_type": "execute_result"
    }
   ],
   "source": [
    "gr()"
   ]
  },
  {
   "cell_type": "markdown",
   "metadata": {},
   "source": [
    "### Utility Functions"
   ]
  },
  {
   "cell_type": "code",
   "execution_count": 6,
   "metadata": {},
   "outputs": [
    {
     "data": {
      "text/plain": [
       "get_state_populations (generic function with 1 method)"
      ]
     },
     "execution_count": 6,
     "metadata": {},
     "output_type": "execute_result"
    }
   ],
   "source": [
    "function get_state_populations()\n",
    "    url = \"https://raw.githubusercontent.com/prairie-guy/2019-State-and-County-Population-with-FIPS-key/master/2019_state_populations.csv\"\n",
    "    CSV.read(download(url),type=String,types=Dict(3=>Int64))\n",
    "end"
   ]
  },
  {
   "cell_type": "code",
   "execution_count": 7,
   "metadata": {},
   "outputs": [
    {
     "data": {
      "text/plain": [
       "get_county_populations (generic function with 1 method)"
      ]
     },
     "execution_count": 7,
     "metadata": {},
     "output_type": "execute_result"
    }
   ],
   "source": [
    "function get_county_populations()\n",
    "    url = \"https://raw.githubusercontent.com/prairie-guy/2019-State-and-County-Population-with-FIPS-key/master/2019_county_populations.csv\"\n",
    "    # Field '4' is fips, which should be a string\n",
    "    CSV.read(download(url),type=String,types=Dict(4=>Int64))\n",
    "end"
   ]
  },
  {
   "cell_type": "markdown",
   "metadata": {},
   "source": [
    "#### Vector Functions"
   ]
  },
  {
   "cell_type": "markdown",
   "metadata": {},
   "source": [
    "These vector functions must take a vector, apply the function and return a vector of the same size. The parameter $days$ is used by all and indicates the shift. Padding must provided"
   ]
  },
  {
   "cell_type": "code",
   "execution_count": 8,
   "metadata": {},
   "outputs": [
    {
     "data": {
      "text/plain": [
       "moving_avg (generic function with 1 method)"
      ]
     },
     "execution_count": 8,
     "metadata": {},
     "output_type": "execute_result"
    }
   ],
   "source": [
    "function moving_avg(b, days::Int)\n",
    "    total = copy(b)\n",
    "    days <= length(b) || (total .= 0.0; return(total))\n",
    "    for i in 1:days-1\n",
    "        new = b[1:i]\n",
    "        append!(new,b[1:end-i])\n",
    "        total = total .+ new\n",
    "    end\n",
    "    #println(b)\n",
    "    #println(total)\n",
    "    round.(total./days,digits=1)\n",
    "end"
   ]
  },
  {
   "cell_type": "code",
   "execution_count": 9,
   "metadata": {},
   "outputs": [
    {
     "data": {
      "text/plain": [
       "total (generic function with 1 method)"
      ]
     },
     "execution_count": 9,
     "metadata": {},
     "output_type": "execute_result"
    }
   ],
   "source": [
    "function total(b)\n",
    "    a = copy(b)\n",
    "    #println(a)\n",
    "    last = 0\n",
    "    for (i,v) in enumerate(a)\n",
    "        a[i] = v + last\n",
    "        last = a[i]\n",
    "    end\n",
    "    a\n",
    "end"
   ]
  },
  {
   "cell_type": "code",
   "execution_count": 10,
   "metadata": {},
   "outputs": [
    {
     "data": {
      "text/plain": [
       "percent_change (generic function with 1 method)"
      ]
     },
     "execution_count": 10,
     "metadata": {},
     "output_type": "execute_result"
    }
   ],
   "source": [
    "function percent_change(b, days::Int) # a,b are vectors\n",
    "    a = copy(b)\n",
    "    days <= length(b)  || (a .= 0.0;return(a))\n",
    "    a = a[1:end-days]\n",
    "    a = append!(zeros(Float64,days),a)\n",
    "    #println(b)\n",
    "    #println(a)\n",
    "    round.(100*(b./a .- 1),digits=1)\n",
    "end"
   ]
  },
  {
   "cell_type": "code",
   "execution_count": 11,
   "metadata": {},
   "outputs": [
    {
     "data": {
      "text/plain": [
       "delta (generic function with 2 methods)"
      ]
     },
     "execution_count": 11,
     "metadata": {},
     "output_type": "execute_result"
    }
   ],
   "source": [
    "delta(b, days::Int=1) = append!([0],b[2:end] - b[1:end-1])"
   ]
  },
  {
   "cell_type": "code",
   "execution_count": 12,
   "metadata": {},
   "outputs": [
    {
     "data": {
      "text/plain": [
       "delta_2 (generic function with 2 methods)"
      ]
     },
     "execution_count": 12,
     "metadata": {},
     "output_type": "execute_result"
    }
   ],
   "source": [
    "function delta_2(b, days::Int=1) # a,b are vectors\n",
    "    a = copy(b)\n",
    "    days <= length(b)  || (a .= 0;return(a))\n",
    "    a = a[1:end-days]\n",
    "    a = append!(zeros(Int64,days),a)\n",
    "    #println(b)\n",
    "    #println(a)\n",
    "    #round.(b .- a,digits=1)\n",
    "    b .- a\n",
    "end"
   ]
  },
  {
   "cell_type": "code",
   "execution_count": 13,
   "metadata": {},
   "outputs": [
    {
     "ename": "UndefVarError",
     "evalue": "UndefVarError: v not defined",
     "output_type": "error",
     "traceback": [
      "UndefVarError: v not defined",
      "",
      "Stacktrace:",
      " [1] top-level scope at In[13]:1"
     ]
    }
   ],
   "source": [
    "delta_2(v)"
   ]
  },
  {
   "cell_type": "markdown",
   "metadata": {},
   "source": [
    "### Get NYT County COVID Data       "
   ]
  },
  {
   "cell_type": "markdown",
   "metadata": {},
   "source": [
    "Data is sourced from NYT Github ordered from earliest to lastest date with $cases$ and $deaths$ shown by $county$\n",
    "\n",
    "`get_nyt_county_covid_data` accepts `days_ma` (specifies the number of days to use for moving averages) and `days_delta` (specifies the number of days to use for percent changes). It then does the following:\n",
    "\n",
    "- Downloads most recent NYT Data from Github\n",
    "- Sorts the data starting with the most recent $date$\n",
    "- Adds fields for the daily increases in $cases$ and $deaths$\n",
    "- Calculates the moving averages for $cases$, $deaths$ as of each date (Padding of zeros are added as needed)\n",
    "- Calculates the moving averages for $casesIncrease$ and $deathsIncrease$ as of each date\n",
    "- Calculates the percent change in $cases$ and $casesIncrease$ (The former is velocity; the later accceleration)\n",
    "- Calculates the percent change in $deaths$ and $deathsIncrease$ (The former is velocity; the later accceleration)\n",
    "- Filters out any rows for which a $county$ is missing\n",
    "- Adds county $populations$ with 2019 Census information\n",
    "- Fixes $New York City$ to be comprised of a county of the five borroughs\n",
    "- Fixes $Kansas City$ to be comprised of three counties \n",
    "- Returns a DataFrame for each county by each date with the forementioned fields\n",
    "\n",
    "Here are the field names returned:\n",
    "\n",
    "- date                                                                                                             \n",
    "- county                                                                                                           \n",
    "- state                                                                                                             \n",
    "- fips                                                                                                             \n",
    "- cases                                                                                                             \n",
    "- deaths                                                                                                           \n",
    "- casesMA                                                                                                           \n",
    "- casesIncrease                                                                                                     \n",
    "- casesIncreaseMA                                                                                                   \n",
    "- pch_casesMA                                                                                                       \n",
    "- pch_casesIncreaseMA                                                                                               \n",
    "- deathsMA                                                                                                         \n",
    "- deathsIncrease                                                                                                   \n",
    "- deathsIncreaseMA                                                                                                 \n",
    "- pch_deathsMA                                                                                                     \n",
    "- pch_deathsIncreaseMA                                                                                             \n",
    "- population "
   ]
  },
  {
   "cell_type": "code",
   "execution_count": 14,
   "metadata": {},
   "outputs": [
    {
     "data": {
      "text/plain": [
       "make_df_region (generic function with 1 method)"
      ]
     },
     "execution_count": 14,
     "metadata": {},
     "output_type": "execute_result"
    }
   ],
   "source": [
    "# Internal function only\n",
    "function make_df_region(df_region, region, days_ma, days_delta) \n",
    "    # true => 'state/county', false => 'state'\n",
    "    by_region = region ? [:state,:county] : [:state]\n",
    "\n",
    "    dfc = sort(df_region)\n",
    "    dfc[!,:casesMA]                  .= 0.0\n",
    "    dfc[!,:casesIncrease]            .= 0\n",
    "    dfc[!,:casesIncreaseMA]          .= 0.0\n",
    "    dfc[!,:pch_casesMA]              .= 0.0\n",
    "    dfc[!,:pch_casesIncreaseMA]      .= 0.0\n",
    "    \n",
    "    dfc[!,:deathsMA]                 .= 0.0\n",
    "    dfc[!,:deathsIncrease]           .= 0\n",
    "    dfc[!,:deathsIncreaseMA]         .= 0.0\n",
    "    dfc[!,:pch_deathsMA]             .= 0.0\n",
    "    dfc[!,:pch_deathsIncreaseMA]     .= 0.0\n",
    "    \n",
    "    for df in groupby(dfc, by_region)\n",
    "        df.casesMA                   .= moving_avg(df.cases,days_ma)        \n",
    "        df.casesIncrease             .= delta(df.cases)\n",
    "        df.casesIncreaseMA           .= moving_avg(df.casesIncrease,days_ma)\n",
    "        df.pch_casesMA               .= percent_change(df.casesMA,days_delta)\n",
    "        df.pch_casesIncreaseMA       .= percent_change(df.casesIncreaseMA,days_delta)\n",
    "        \n",
    "        df.deathsMA                  .= moving_avg(df.deaths,days_ma)\n",
    "        df.deathsIncrease            .= delta(df.deaths)\n",
    "        df.deathsIncreaseMA          .= moving_avg(df.deathsIncrease,days_ma)\n",
    "        df.pch_deathsMA              .= percent_change(df.deathsMA,days_delta)\n",
    "        df.pch_deathsIncreaseMA      .= percent_change(df.deathsIncreaseMA,days_delta)\n",
    "    end\n",
    "    dfc\n",
    "end\n",
    "\n"
   ]
  },
  {
   "cell_type": "code",
   "execution_count": 15,
   "metadata": {},
   "outputs": [
    {
     "data": {
      "text/plain": [
       "get_nyt_county_covid_data (generic function with 3 methods)"
      ]
     },
     "execution_count": 15,
     "metadata": {},
     "output_type": "execute_result"
    }
   ],
   "source": [
    "function get_nyt_county_covid_data(days_ma::Int=7,days_delta::Int=7) # Assumes {:cases, :deaths} exist\n",
    "    url = \"https://raw.githubusercontent.com/nytimes/covid-19-data/master/us-counties.csv\"\n",
    "    # Field '4' is fips, which should be a string\n",
    "    dfc = CSV.read(download(url),silencewarnings=true,types=Dict(4=>String))\n",
    "\n",
    "    # 'true' means to select 'states/counties'\n",
    "    dfc = make_df_region(dfc, true, days_ma, days_delta) \n",
    "\n",
    "    dfc     = filter(r->r.county != \"Unknown\",dfc)\n",
    "    pops    = get_county_populations()\n",
    "    df_fips = DataFrame(fips=pops.fips,population=pops.population)\n",
    "\n",
    "    # New York City is considered a county\n",
    "    nyc = filter(r->  r.state == \"New York\",\n",
    "                 filter(r->\n",
    "            r.county ==\"Bronx County\" ||\n",
    "            r.county ==\"Kings County\" ||\n",
    "            r.county ==\"New York County\" ||\n",
    "            r.county ==\"Queens County\" ||\n",
    "            r.county ==\"Richmond County\",\n",
    "        pops))\n",
    "    nyc_pop = combine(nyc,:population=>sum)[1,1]\n",
    "\n",
    "    # Kansas City is considered a county\n",
    "    kc = filter(r->  r.state == \"Missouri\",\n",
    "            filter(r->\n",
    "            r.county ==\"Cass County\" ||\n",
    "            r.county ==\"Clay County\" ||\n",
    "            r.county ==\"Jackson County\" ||\n",
    "            r.county ==\"Platte County\",\n",
    "        pops))\n",
    "    kc_pop = combine(kc,:population=>sum)[1,1] \n",
    "\n",
    "    # Join 'population with into dfc'\n",
    "    dfc = leftjoin(dfc,df_fips, on=\"fips\")\n",
    "    dfc[dfc[:,:county] .== \"New York City\",:population] .= nyc_pop\n",
    "    dfc[dfc[:,:county] .== \"Kansas City\"  ,:population] .= kc_pop\n",
    "    dfc[ismissing.(dfc[:,:fips]),:fips] .= \"-1\"\n",
    "    \n",
    "    dfc\n",
    "end"
   ]
  },
  {
   "cell_type": "code",
   "execution_count": 16,
   "metadata": {},
   "outputs": [
    {
     "data": {
      "text/plain": [
       "get_nyt_state_covid_data (generic function with 3 methods)"
      ]
     },
     "execution_count": 16,
     "metadata": {},
     "output_type": "execute_result"
    }
   ],
   "source": [
    "function get_nyt_state_covid_data(days_ma::Int=7,days_delta::Int=7) # Assumes {:cases, :deaths} exist\n",
    "    url = \"https://raw.githubusercontent.com/nytimes/covid-19-data/master/us-states.csv\"\n",
    "\n",
    "    # Field '3' is fips, which should be a string\n",
    "    dfc = CSV.read(download(url),silencewarnings=true,types=Dict(3=>String))\n",
    "\n",
    "    # 'false' means to select 'states'\n",
    "    dfc = make_df_region(dfc, false, days_ma, days_delta) \n",
    "\n",
    "    # In 'pops' state are represented as 'xx000' but 'xx' in dfc\n",
    "    pops      = get_state_populations()\n",
    "    pops.fips = map(r->r[1:2],pops.fips)\n",
    "    df_fips   = DataFrame(fips=pops.fips,population=pops.population)\n",
    "\n",
    "    # Join 'population with into dfc'\n",
    "    # Puerto Rico, Virgin Islands and Guam are not in NYT data and are removed\n",
    "    dfc = leftjoin(dfc,df_fips, on=\"fips\")\n",
    "    dfc = filter(r->!ismissing(r.population),dfc)\n",
    "    \n",
    "    dfc\n",
    "end"
   ]
  },
  {
   "cell_type": "markdown",
   "metadata": {},
   "source": [
    "#### Select data for a specific $State$ and $County$"
   ]
  },
  {
   "cell_type": "code",
   "execution_count": 17,
   "metadata": {
    "scrolled": true
   },
   "outputs": [
    {
     "data": {
      "text/plain": [
       "select_region (generic function with 2 methods)"
      ]
     },
     "execution_count": 17,
     "metadata": {},
     "output_type": "execute_result"
    }
   ],
   "source": [
    "function select_region(dfc::DataFrame, state::String, county::String, cols=[])\n",
    "    df = filter(r-> r.state .== state && r.county .== county, dfc)\n",
    "    isempty(cols) ? df : df[:,cols]\n",
    "end"
   ]
  },
  {
   "cell_type": "code",
   "execution_count": 18,
   "metadata": {},
   "outputs": [
    {
     "data": {
      "text/plain": [
       "select_region (generic function with 4 methods)"
      ]
     },
     "execution_count": 18,
     "metadata": {},
     "output_type": "execute_result"
    }
   ],
   "source": [
    "function select_region(dfc::DataFrame, state::String, cols=[])\n",
    "    df = filter(r-> r.state .== state, dfc)\n",
    "    isempty(cols) ? df : df[:,cols]\n",
    "end"
   ]
  },
  {
   "cell_type": "markdown",
   "metadata": {},
   "source": [
    "## Aggregation By County and State"
   ]
  },
  {
   "cell_type": "code",
   "execution_count": 19,
   "metadata": {},
   "outputs": [
    {
     "data": {
      "text/plain": [
       "aggregate_by_region (generic function with 1 method)"
      ]
     },
     "execution_count": 19,
     "metadata": {},
     "output_type": "execute_result"
    }
   ],
   "source": [
    "# Internal function\n",
    "function aggregate_by_region(dfc, cols, names, region, select_by)\n",
    "    by_region = region ? [:state,:county] : [:state]\n",
    "    df = DataFrame()\n",
    "    for g in groupby(dfc,by_region)\n",
    "        row = select_by(g)\n",
    "        push!(df,row)\n",
    "    end\n",
    "    df = df[:,cols]\n",
    "    if !isempty(names) \n",
    "        rename!(df,names)\n",
    "    end\n",
    "    sort(df)\n",
    "end   "
   ]
  },
  {
   "cell_type": "code",
   "execution_count": 20,
   "metadata": {},
   "outputs": [
    {
     "data": {
      "text/plain": [
       "aggregate_by_county (generic function with 2 methods)"
      ]
     },
     "execution_count": 20,
     "metadata": {},
     "output_type": "execute_result"
    }
   ],
   "source": [
    "function aggregate_by_county(dfc, \n",
    "                             cols=[:date,:state, :county,:fips,\n",
    "                                   :cases,:casesMA,:pch_casesMA,\n",
    "                                   :casesIncrease,:casesIncreaseMA,:pch_casesIncreaseMA,\n",
    "                                   :deaths,:deathsMA,:pch_deathsMA,\n",
    "                                   :deathsIncrease,:deathsIncreaseMA,:pch_deathsIncreaseMA,\n",
    "                                   :population];\n",
    "                             names = [], select_by = last)\n",
    "    aggregate_by_region(dfc, cols, names, true, select_by)\n",
    "end"
   ]
  },
  {
   "cell_type": "code",
   "execution_count": 21,
   "metadata": {},
   "outputs": [
    {
     "data": {
      "text/plain": [
       "aggregate_by_state (generic function with 2 methods)"
      ]
     },
     "execution_count": 21,
     "metadata": {},
     "output_type": "execute_result"
    }
   ],
   "source": [
    "function aggregate_by_state(dfc,\n",
    "                            cols=[:date,:state,:fips,\n",
    "                                  :cases,:casesMA,:pch_casesMA,\n",
    "                                   :casesIncrease,:casesIncreaseMA,:pch_casesIncreaseMA,\n",
    "                                   :deaths,:deathsMA,:pch_deathsMA,\n",
    "                                  :deathsIncrease,:deathsIncreaseMA,:pch_deathsIncreaseMA,\n",
    "                                  :population];\n",
    "                            names = [], select_by = last)\n",
    "    aggregate_by_region(dfc, cols,  names, false, select_by)\n",
    "end"
   ]
  },
  {
   "cell_type": "markdown",
   "metadata": {},
   "source": [
    "### Epidemiological Curves"
   ]
  },
  {
   "cell_type": "code",
   "execution_count": 22,
   "metadata": {},
   "outputs": [
    {
     "data": {
      "text/plain": [
       "graph_epidemiological_curve (generic function with 1 method)"
      ]
     },
     "execution_count": 22,
     "metadata": {},
     "output_type": "execute_result"
    }
   ],
   "source": [
    "function graph_epidemiological_curve(dfc::DataFrame, state::String, county::String)\n",
    "    df = select_region(dfc,state,county)\n",
    "    bar(df.date, df.casesIncrease, label = \"Daily Cases\")\n",
    "    plot!(df.date, df.casesIncreaseMA,\n",
    "          xticks=Date.(df.date)[1:14:end], xrotation=45,\n",
    "          lw=2, color=:red,leg=:topleft, label = \"7-day Avg\")\n",
    "    xlabel!(\"Date\")\n",
    "    ylabel!(\"New Cases\")\n",
    "    title!(\"New Daily Cases\\n$(county), $(state)\")   \n",
    "end"
   ]
  },
  {
   "cell_type": "code",
   "execution_count": 23,
   "metadata": {},
   "outputs": [
    {
     "data": {
      "text/plain": [
       "graph_epidemiological_curve (generic function with 2 methods)"
      ]
     },
     "execution_count": 23,
     "metadata": {},
     "output_type": "execute_result"
    }
   ],
   "source": [
    "function graph_epidemiological_curve(dfc::DataFrame, state::String)\n",
    "    df = select_region(dfc,state)\n",
    "    bar(df.date, df.casesIncrease, label = \"Daily Cases\")\n",
    "    plot!(df.date, df.casesIncreaseMA,\n",
    "          xticks=Date.(df.date)[1:14:end], xrotation=45,\n",
    "          lw=2, color=:red,leg=:topleft, label = \"7-day Avg\")\n",
    "    xlabel!(\"Date\")\n",
    "    ylabel!(\"New Cases\")\n",
    "    title!(\"New Daily Cases\\n$(state)\")   \n",
    "end"
   ]
  },
  {
   "cell_type": "code",
   "execution_count": null,
   "metadata": {},
   "outputs": [],
   "source": []
  }
 ],
 "metadata": {
  "@webio": {
   "lastCommId": null,
   "lastKernelId": null
  },
  "kernelspec": {
   "display_name": "Julia 1.4.1",
   "language": "julia",
   "name": "julia-1.4"
  },
  "language_info": {
   "file_extension": ".jl",
   "mimetype": "application/julia",
   "name": "julia",
   "version": "1.4.1"
  }
 },
 "nbformat": 4,
 "nbformat_minor": 4
}
