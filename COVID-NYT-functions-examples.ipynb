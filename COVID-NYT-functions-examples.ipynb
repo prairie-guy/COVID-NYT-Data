{
 "cells": [
  {
   "cell_type": "markdown",
   "metadata": {},
   "source": [
    "### Example Usage and Validation\n",
    "Demonstrate the key functions from `COVID-NYT-functions.jl`\n",
    "\n",
    "https://github.com/nytimes/covid-19-data"
   ]
  },
  {
   "cell_type": "markdown",
   "metadata": {},
   "source": [
    "### Include all of the core functions"
   ]
  },
  {
   "cell_type": "code",
   "execution_count": 48,
   "metadata": {},
   "outputs": [],
   "source": [
    "include(\"COVID-NYT-functions.jl\"); "
   ]
  },
  {
   "cell_type": "markdown",
   "metadata": {},
   "source": [
    "@tbl macro uses TableView to display DataFrames"
   ]
  },
  {
   "cell_type": "code",
   "execution_count": 49,
   "metadata": {},
   "outputs": [],
   "source": [
    "using DataFrames, Plots"
   ]
  },
  {
   "cell_type": "markdown",
   "metadata": {},
   "source": [
    "### Get New York Times COVID County Data"
   ]
  },
  {
   "cell_type": "code",
   "execution_count": 50,
   "metadata": {
    "scrolled": true
   },
   "outputs": [
    {
     "name": "stdout",
     "output_type": "stream",
     "text": [
      "  2.553506 seconds (10.87 M allocations: 502.999 MiB, 6.01% gc time)\n"
     ]
    },
    {
     "data": {
      "application/vnd.webio.node+json": {
       "children": [
        {
         "children": [
          {
           "children": [
            ""
           ],
           "instanceArgs": {
            "namespace": "html",
            "tag": "div"
           },
           "nodeType": "DOM",
           "props": {
            "style": {
             "background-color": "#F5F7F7",
             "color": "#1c1f20",
             "font-family": "-apple-system, BlinkMacSystemFont, \"Segoe UI\", Roboto, Oxygen-Sans, Ubuntu, Cantarell, \"Helvetica Neue\", sans-serif",
             "height": "0",
             "padding": "0"
            }
           },
           "type": "node"
          },
          {
           "children": [],
           "instanceArgs": {
            "namespace": "html",
            "tag": "div"
           },
           "nodeType": "DOM",
           "props": {
            "className": "ag-theme-balham",
            "id": "grid-a0d6c92a",
            "style": {
             "height": "500px",
             "width": "100%"
            }
           },
           "type": "node"
          }
         ],
         "instanceArgs": {
          "namespace": "html",
          "tag": "div"
         },
         "nodeType": "DOM",
         "props": {},
         "type": "node"
        }
       ],
       "instanceArgs": {
        "handlers": {
         "requestedrows": [
          "(function (val){return WebIO.getval({\"name\":\"rowparams\",\"scope\":\"13887487826808142412\",\"id\":\"ob_174\",\"type\":\"observable\"}).successCallback(val,null)})"
         ]
        },
        "id": "13887487826808142412",
        "imports": {
         "data": [
          {
           "name": null,
           "type": "js",
           "url": "/assetserver/8a878f8aac4fcc3aa0fe3544f3b6004cfb87e28d-rowNumberRenderer.js"
          },
          {
           "name": null,
           "type": "js",
           "url": "/assetserver/49affd7ae36d0aac75380aa149861ff1594bff9c-ag-grid.js"
          },
          {
           "name": null,
           "type": "css",
           "url": "/assetserver/44eec805f61ccdf030080bfd1a559f03509a0021-ag-grid.css"
          },
          {
           "name": null,
           "type": "css",
           "url": "/assetserver/e4213c8e832c90aaafe2b3164c0bbb5b67c7a305-ag-grid-light.css"
          },
          {
           "name": null,
           "type": "css",
           "url": "/assetserver/b082734171f365ccefe5d7b6015f8162af17e3a6-ag-grid-dark.css"
          }
         ],
         "type": "async_block"
        },
        "mount_callbacks": [
         "function () {\n    var handler = ((function (RowNumberRenderer,agGrid){var gridOptions={\"onCellFocused\":(function (ev){var x={}; (ev.rowIndex!==undefined) ? (x[\"rowIndex\"]=(ev.rowIndex+1)) : undefined; (ev.colDef!==undefined) ? (x[\"column\"]=ev.colDef.headerName) : undefined; return WebIO.setval({\"name\":\"onCellFocused\",\"scope\":\"13887487826808142412\",\"id\":\"ob_172\",\"type\":\"observable\"},x)}),\"onCellValueChanged\":(function (){return }),\"rowModelType\":\"infinite\",\"onRowClicked\":(function (ev){var x={}; (ev.rowIndex!==undefined) ? (x[\"rowIndex\"]=(ev.rowIndex+1)) : undefined; (ev.colDef!==undefined) ? (x[\"column\"]=ev.colDef.headerName) : undefined; return WebIO.setval({\"name\":\"onRowClicked\",\"scope\":\"13887487826808142412\",\"id\":\"ob_171\",\"type\":\"observable\"},x)}),\"maxConcurrentDatasourceRequests\":1,\"columnDefs\":[{\"filter\":false,\"editable\":false,\"headerTooltip\":\"\",\"field\":\"__row__\",\"headerName\":\"Row\",\"sortable\":false,\"type\":\"numericColumn\",\"cellRenderer\":\"rowNumberRenderer\",\"resizable\":true},{\"filter\":false,\"editable\":false,\"headerTooltip\":\"Date\",\"field\":\"date\",\"headerName\":\"date\",\"sortable\":false,\"type\":null,\"resizable\":true},{\"filter\":false,\"editable\":false,\"headerTooltip\":\"String\",\"field\":\"county\",\"headerName\":\"county\",\"sortable\":false,\"type\":null,\"resizable\":true},{\"filter\":false,\"editable\":false,\"headerTooltip\":\"String\",\"field\":\"state\",\"headerName\":\"state\",\"sortable\":false,\"type\":null,\"resizable\":true},{\"filter\":false,\"editable\":false,\"headerTooltip\":\"Union{Missing, String}\",\"field\":\"fips\",\"headerName\":\"fips\",\"sortable\":false,\"type\":null,\"resizable\":true},{\"filter\":false,\"editable\":false,\"headerTooltip\":\"Int64\",\"field\":\"cases\",\"headerName\":\"cases\",\"sortable\":false,\"type\":\"numericColumn\",\"resizable\":true},{\"filter\":false,\"editable\":false,\"headerTooltip\":\"Int64\",\"field\":\"deaths\",\"headerName\":\"deaths\",\"sortable\":false,\"type\":\"numericColumn\",\"resizable\":true},{\"filter\":false,\"editable\":false,\"headerTooltip\":\"Float64\",\"field\":\"casesMA\",\"headerName\":\"casesMA\",\"sortable\":false,\"type\":\"numericColumn\",\"resizable\":true},{\"filter\":false,\"editable\":false,\"headerTooltip\":\"Int64\",\"field\":\"casesIncrease\",\"headerName\":\"casesIncrease\",\"sortable\":false,\"type\":\"numericColumn\",\"resizable\":true},{\"filter\":false,\"editable\":false,\"headerTooltip\":\"Float64\",\"field\":\"casesIncreaseMA\",\"headerName\":\"casesIncreaseMA\",\"sortable\":false,\"type\":\"numericColumn\",\"resizable\":true},{\"filter\":false,\"editable\":false,\"headerTooltip\":\"Float64\",\"field\":\"pch_casesMA\",\"headerName\":\"pch_casesMA\",\"sortable\":false,\"type\":\"numericColumn\",\"resizable\":true},{\"filter\":false,\"editable\":false,\"headerTooltip\":\"Float64\",\"field\":\"pch_casesIncreaseMA\",\"headerName\":\"pch_casesIncreaseMA\",\"sortable\":false,\"type\":\"numericColumn\",\"resizable\":true},{\"filter\":false,\"editable\":false,\"headerTooltip\":\"Float64\",\"field\":\"deathsMA\",\"headerName\":\"deathsMA\",\"sortable\":false,\"type\":\"numericColumn\",\"resizable\":true},{\"filter\":false,\"editable\":false,\"headerTooltip\":\"Int64\",\"field\":\"deathsIncrease\",\"headerName\":\"deathsIncrease\",\"sortable\":false,\"type\":\"numericColumn\",\"resizable\":true},{\"filter\":false,\"editable\":false,\"headerTooltip\":\"Float64\",\"field\":\"deathsIncreaseMA\",\"headerName\":\"deathsIncreaseMA\",\"sortable\":false,\"type\":\"numericColumn\",\"resizable\":true},{\"filter\":false,\"editable\":false,\"headerTooltip\":\"Float64\",\"field\":\"pch_deathsMA\",\"headerName\":\"pch_deathsMA\",\"sortable\":false,\"type\":\"numericColumn\",\"resizable\":true},{\"filter\":false,\"editable\":false,\"headerTooltip\":\"Float64\",\"field\":\"pch_deathsIncreaseMA\",\"headerName\":\"pch_deathsIncreaseMA\",\"sortable\":false,\"type\":\"numericColumn\",\"resizable\":true},{\"filter\":false,\"editable\":false,\"headerTooltip\":\"Union{Missing, Int64}\",\"field\":\"population\",\"headerName\":\"population\",\"sortable\":false,\"type\":\"numericColumn\",\"resizable\":true}],\"cacheBlockSize\":1000,\"datasource\":{\"rowCount\":null,\"getRows\":(function (rowParams){return WebIO.setval({\"name\":\"rowparams\",\"scope\":\"13887487826808142412\",\"id\":\"ob_174\",\"type\":\"observable\"},rowParams)})},\"multiSortKey\":\"ctrl\",\"maxBlocksInCache\":100,\"onCellDoubleClicked\":(function (ev){var x={}; (ev.rowIndex!==undefined) ? (x[\"rowIndex\"]=(ev.rowIndex+1)) : undefined; (ev.colDef!==undefined) ? (x[\"column\"]=ev.colDef.headerName) : undefined; return WebIO.setval({\"name\":\"onCellDoubleClicked\",\"scope\":\"13887487826808142412\",\"id\":\"ob_170\",\"type\":\"observable\"},x)}),\"onCellKeyDown\":(function (ev){var x={}; (ev.rowIndex!==undefined) ? (x[\"rowIndex\"]=(ev.rowIndex+1)) : undefined; (ev.colDef!==undefined) ? (x[\"column\"]=ev.colDef.headerName) : undefined; return WebIO.setval({\"name\":\"onCellKeyDown\",\"scope\":\"13887487826808142412\",\"id\":\"ob_173\",\"type\":\"observable\"},x)}),\"onCellClicked\":(function (ev){var x={}; (ev.rowIndex!==undefined) ? (x[\"rowIndex\"]=(ev.rowIndex+1)) : undefined; (ev.colDef!==undefined) ? (x[\"column\"]=ev.colDef.headerName) : undefined; return WebIO.setval({\"name\":\"onCellClicked\",\"scope\":\"13887487826808142412\",\"id\":\"ob_169\",\"type\":\"observable\"},x)})}; var el=document.getElementById(\"grid-a0d6c92a\"); gridOptions.components={\"rowNumberRenderer\":RowNumberRenderer}; this.table=new agGrid.Grid(el,gridOptions); gridOptions.columnApi.autoSizeColumn(\"__row__\"); return gridOptions.columnApi.autoSizeColumns([\"date\",\"county\",\"state\",\"fips\",\"cases\",\"deaths\",\"casesMA\",\"casesIncrease\",\"casesIncreaseMA\",\"pch_casesMA\",\"pch_casesIncreaseMA\",\"deathsMA\",\"deathsIncrease\",\"deathsIncreaseMA\",\"pch_deathsMA\",\"pch_deathsIncreaseMA\",\"population\"])}));\n    (WebIO.importBlock({\"data\":[{\"name\":null,\"type\":\"js\",\"url\":\"/assetserver/8a878f8aac4fcc3aa0fe3544f3b6004cfb87e28d-rowNumberRenderer.js\"},{\"name\":null,\"type\":\"js\",\"url\":\"/assetserver/49affd7ae36d0aac75380aa149861ff1594bff9c-ag-grid.js\"},{\"name\":null,\"type\":\"css\",\"url\":\"/assetserver/44eec805f61ccdf030080bfd1a559f03509a0021-ag-grid.css\"},{\"name\":null,\"type\":\"css\",\"url\":\"/assetserver/e4213c8e832c90aaafe2b3164c0bbb5b67c7a305-ag-grid-light.css\"},{\"name\":null,\"type\":\"css\",\"url\":\"/assetserver/b082734171f365ccefe5d7b6015f8162af17e3a6-ag-grid-dark.css\"}],\"type\":\"async_block\"})).then((imports) => handler.apply(this, imports));\n}\n"
        ],
        "observables": {
         "onCellClicked": {
          "id": "ob_169",
          "sync": false,
          "value": null
         },
         "onCellDoubleClicked": {
          "id": "ob_170",
          "sync": false,
          "value": null
         },
         "onCellFocused": {
          "id": "ob_172",
          "sync": false,
          "value": null
         },
         "onCellKeyDown": {
          "id": "ob_173",
          "sync": false,
          "value": null
         },
         "onRowClicked": {
          "id": "ob_171",
          "sync": false,
          "value": null
         },
         "requestedrows": {
          "id": "ob_175",
          "sync": false,
          "value": {}
         },
         "rowparams": {
          "id": "ob_174",
          "sync": true,
          "value": {
           "endRow": 100,
           "startRow": 1,
           "successCallback": "(function (v){return null})"
          }
         }
        },
        "systemjs_options": null
       },
       "nodeType": "Scope",
       "props": {},
       "type": "node"
      },
      "text/html": [
       "<div\n",
       "    class=\"webio-mountpoint\"\n",
       "    data-webio-mountpoint=\"29511753085375252\"\n",
       ">\n",
       "    <script>\n",
       "    if (window.require && require.defined && require.defined(\"nbextensions/webio-jupyter-notebook\")) {\n",
       "        console.log(\"Jupyter WebIO extension detected, not mounting.\");\n",
       "    } else if (window.WebIO) {\n",
       "        WebIO.mount(\n",
       "            document.querySelector('[data-webio-mountpoint=\"29511753085375252\"]'),\n",
       "            {\"props\":{},\"nodeType\":\"Scope\",\"type\":\"node\",\"instanceArgs\":{\"imports\":{\"data\":[{\"name\":null,\"type\":\"js\",\"url\":\"\\/assetserver\\/8a878f8aac4fcc3aa0fe3544f3b6004cfb87e28d-rowNumberRenderer.js\"},{\"name\":null,\"type\":\"js\",\"url\":\"\\/assetserver\\/49affd7ae36d0aac75380aa149861ff1594bff9c-ag-grid.js\"},{\"name\":null,\"type\":\"css\",\"url\":\"\\/assetserver\\/44eec805f61ccdf030080bfd1a559f03509a0021-ag-grid.css\"},{\"name\":null,\"type\":\"css\",\"url\":\"\\/assetserver\\/e4213c8e832c90aaafe2b3164c0bbb5b67c7a305-ag-grid-light.css\"},{\"name\":null,\"type\":\"css\",\"url\":\"\\/assetserver\\/b082734171f365ccefe5d7b6015f8162af17e3a6-ag-grid-dark.css\"}],\"type\":\"async_block\"},\"id\":\"13887487826808142412\",\"handlers\":{\"requestedrows\":[\"(function (val){return WebIO.getval({\\\"name\\\":\\\"rowparams\\\",\\\"scope\\\":\\\"13887487826808142412\\\",\\\"id\\\":\\\"ob_174\\\",\\\"type\\\":\\\"observable\\\"}).successCallback(val,null)})\"]},\"systemjs_options\":null,\"mount_callbacks\":[\"function () {\\n    var handler = ((function (RowNumberRenderer,agGrid){var gridOptions={\\\"onCellFocused\\\":(function (ev){var x={}; (ev.rowIndex!==undefined) ? (x[\\\"rowIndex\\\"]=(ev.rowIndex+1)) : undefined; (ev.colDef!==undefined) ? (x[\\\"column\\\"]=ev.colDef.headerName) : undefined; return WebIO.setval({\\\"name\\\":\\\"onCellFocused\\\",\\\"scope\\\":\\\"13887487826808142412\\\",\\\"id\\\":\\\"ob_172\\\",\\\"type\\\":\\\"observable\\\"},x)}),\\\"onCellValueChanged\\\":(function (){return }),\\\"rowModelType\\\":\\\"infinite\\\",\\\"onRowClicked\\\":(function (ev){var x={}; (ev.rowIndex!==undefined) ? (x[\\\"rowIndex\\\"]=(ev.rowIndex+1)) : undefined; (ev.colDef!==undefined) ? (x[\\\"column\\\"]=ev.colDef.headerName) : undefined; return WebIO.setval({\\\"name\\\":\\\"onRowClicked\\\",\\\"scope\\\":\\\"13887487826808142412\\\",\\\"id\\\":\\\"ob_171\\\",\\\"type\\\":\\\"observable\\\"},x)}),\\\"maxConcurrentDatasourceRequests\\\":1,\\\"columnDefs\\\":[{\\\"filter\\\":false,\\\"editable\\\":false,\\\"headerTooltip\\\":\\\"\\\",\\\"field\\\":\\\"__row__\\\",\\\"headerName\\\":\\\"Row\\\",\\\"sortable\\\":false,\\\"type\\\":\\\"numericColumn\\\",\\\"cellRenderer\\\":\\\"rowNumberRenderer\\\",\\\"resizable\\\":true},{\\\"filter\\\":false,\\\"editable\\\":false,\\\"headerTooltip\\\":\\\"Date\\\",\\\"field\\\":\\\"date\\\",\\\"headerName\\\":\\\"date\\\",\\\"sortable\\\":false,\\\"type\\\":null,\\\"resizable\\\":true},{\\\"filter\\\":false,\\\"editable\\\":false,\\\"headerTooltip\\\":\\\"String\\\",\\\"field\\\":\\\"county\\\",\\\"headerName\\\":\\\"county\\\",\\\"sortable\\\":false,\\\"type\\\":null,\\\"resizable\\\":true},{\\\"filter\\\":false,\\\"editable\\\":false,\\\"headerTooltip\\\":\\\"String\\\",\\\"field\\\":\\\"state\\\",\\\"headerName\\\":\\\"state\\\",\\\"sortable\\\":false,\\\"type\\\":null,\\\"resizable\\\":true},{\\\"filter\\\":false,\\\"editable\\\":false,\\\"headerTooltip\\\":\\\"Union{Missing, String}\\\",\\\"field\\\":\\\"fips\\\",\\\"headerName\\\":\\\"fips\\\",\\\"sortable\\\":false,\\\"type\\\":null,\\\"resizable\\\":true},{\\\"filter\\\":false,\\\"editable\\\":false,\\\"headerTooltip\\\":\\\"Int64\\\",\\\"field\\\":\\\"cases\\\",\\\"headerName\\\":\\\"cases\\\",\\\"sortable\\\":false,\\\"type\\\":\\\"numericColumn\\\",\\\"resizable\\\":true},{\\\"filter\\\":false,\\\"editable\\\":false,\\\"headerTooltip\\\":\\\"Int64\\\",\\\"field\\\":\\\"deaths\\\",\\\"headerName\\\":\\\"deaths\\\",\\\"sortable\\\":false,\\\"type\\\":\\\"numericColumn\\\",\\\"resizable\\\":true},{\\\"filter\\\":false,\\\"editable\\\":false,\\\"headerTooltip\\\":\\\"Float64\\\",\\\"field\\\":\\\"casesMA\\\",\\\"headerName\\\":\\\"casesMA\\\",\\\"sortable\\\":false,\\\"type\\\":\\\"numericColumn\\\",\\\"resizable\\\":true},{\\\"filter\\\":false,\\\"editable\\\":false,\\\"headerTooltip\\\":\\\"Int64\\\",\\\"field\\\":\\\"casesIncrease\\\",\\\"headerName\\\":\\\"casesIncrease\\\",\\\"sortable\\\":false,\\\"type\\\":\\\"numericColumn\\\",\\\"resizable\\\":true},{\\\"filter\\\":false,\\\"editable\\\":false,\\\"headerTooltip\\\":\\\"Float64\\\",\\\"field\\\":\\\"casesIncreaseMA\\\",\\\"headerName\\\":\\\"casesIncreaseMA\\\",\\\"sortable\\\":false,\\\"type\\\":\\\"numericColumn\\\",\\\"resizable\\\":true},{\\\"filter\\\":false,\\\"editable\\\":false,\\\"headerTooltip\\\":\\\"Float64\\\",\\\"field\\\":\\\"pch_casesMA\\\",\\\"headerName\\\":\\\"pch_casesMA\\\",\\\"sortable\\\":false,\\\"type\\\":\\\"numericColumn\\\",\\\"resizable\\\":true},{\\\"filter\\\":false,\\\"editable\\\":false,\\\"headerTooltip\\\":\\\"Float64\\\",\\\"field\\\":\\\"pch_casesIncreaseMA\\\",\\\"headerName\\\":\\\"pch_casesIncreaseMA\\\",\\\"sortable\\\":false,\\\"type\\\":\\\"numericColumn\\\",\\\"resizable\\\":true},{\\\"filter\\\":false,\\\"editable\\\":false,\\\"headerTooltip\\\":\\\"Float64\\\",\\\"field\\\":\\\"deathsMA\\\",\\\"headerName\\\":\\\"deathsMA\\\",\\\"sortable\\\":false,\\\"type\\\":\\\"numericColumn\\\",\\\"resizable\\\":true},{\\\"filter\\\":false,\\\"editable\\\":false,\\\"headerTooltip\\\":\\\"Int64\\\",\\\"field\\\":\\\"deathsIncrease\\\",\\\"headerName\\\":\\\"deathsIncrease\\\",\\\"sortable\\\":false,\\\"type\\\":\\\"numericColumn\\\",\\\"resizable\\\":true},{\\\"filter\\\":false,\\\"editable\\\":false,\\\"headerTooltip\\\":\\\"Float64\\\",\\\"field\\\":\\\"deathsIncreaseMA\\\",\\\"headerName\\\":\\\"deathsIncreaseMA\\\",\\\"sortable\\\":false,\\\"type\\\":\\\"numericColumn\\\",\\\"resizable\\\":true},{\\\"filter\\\":false,\\\"editable\\\":false,\\\"headerTooltip\\\":\\\"Float64\\\",\\\"field\\\":\\\"pch_deathsMA\\\",\\\"headerName\\\":\\\"pch_deathsMA\\\",\\\"sortable\\\":false,\\\"type\\\":\\\"numericColumn\\\",\\\"resizable\\\":true},{\\\"filter\\\":false,\\\"editable\\\":false,\\\"headerTooltip\\\":\\\"Float64\\\",\\\"field\\\":\\\"pch_deathsIncreaseMA\\\",\\\"headerName\\\":\\\"pch_deathsIncreaseMA\\\",\\\"sortable\\\":false,\\\"type\\\":\\\"numericColumn\\\",\\\"resizable\\\":true},{\\\"filter\\\":false,\\\"editable\\\":false,\\\"headerTooltip\\\":\\\"Union{Missing, Int64}\\\",\\\"field\\\":\\\"population\\\",\\\"headerName\\\":\\\"population\\\",\\\"sortable\\\":false,\\\"type\\\":\\\"numericColumn\\\",\\\"resizable\\\":true}],\\\"cacheBlockSize\\\":1000,\\\"datasource\\\":{\\\"rowCount\\\":null,\\\"getRows\\\":(function (rowParams){return WebIO.setval({\\\"name\\\":\\\"rowparams\\\",\\\"scope\\\":\\\"13887487826808142412\\\",\\\"id\\\":\\\"ob_174\\\",\\\"type\\\":\\\"observable\\\"},rowParams)})},\\\"multiSortKey\\\":\\\"ctrl\\\",\\\"maxBlocksInCache\\\":100,\\\"onCellDoubleClicked\\\":(function (ev){var x={}; (ev.rowIndex!==undefined) ? (x[\\\"rowIndex\\\"]=(ev.rowIndex+1)) : undefined; (ev.colDef!==undefined) ? (x[\\\"column\\\"]=ev.colDef.headerName) : undefined; return WebIO.setval({\\\"name\\\":\\\"onCellDoubleClicked\\\",\\\"scope\\\":\\\"13887487826808142412\\\",\\\"id\\\":\\\"ob_170\\\",\\\"type\\\":\\\"observable\\\"},x)}),\\\"onCellKeyDown\\\":(function (ev){var x={}; (ev.rowIndex!==undefined) ? (x[\\\"rowIndex\\\"]=(ev.rowIndex+1)) : undefined; (ev.colDef!==undefined) ? (x[\\\"column\\\"]=ev.colDef.headerName) : undefined; return WebIO.setval({\\\"name\\\":\\\"onCellKeyDown\\\",\\\"scope\\\":\\\"13887487826808142412\\\",\\\"id\\\":\\\"ob_173\\\",\\\"type\\\":\\\"observable\\\"},x)}),\\\"onCellClicked\\\":(function (ev){var x={}; (ev.rowIndex!==undefined) ? (x[\\\"rowIndex\\\"]=(ev.rowIndex+1)) : undefined; (ev.colDef!==undefined) ? (x[\\\"column\\\"]=ev.colDef.headerName) : undefined; return WebIO.setval({\\\"name\\\":\\\"onCellClicked\\\",\\\"scope\\\":\\\"13887487826808142412\\\",\\\"id\\\":\\\"ob_169\\\",\\\"type\\\":\\\"observable\\\"},x)})}; var el=document.getElementById(\\\"grid-a0d6c92a\\\"); gridOptions.components={\\\"rowNumberRenderer\\\":RowNumberRenderer}; this.table=new agGrid.Grid(el,gridOptions); gridOptions.columnApi.autoSizeColumn(\\\"__row__\\\"); return gridOptions.columnApi.autoSizeColumns([\\\"date\\\",\\\"county\\\",\\\"state\\\",\\\"fips\\\",\\\"cases\\\",\\\"deaths\\\",\\\"casesMA\\\",\\\"casesIncrease\\\",\\\"casesIncreaseMA\\\",\\\"pch_casesMA\\\",\\\"pch_casesIncreaseMA\\\",\\\"deathsMA\\\",\\\"deathsIncrease\\\",\\\"deathsIncreaseMA\\\",\\\"pch_deathsMA\\\",\\\"pch_deathsIncreaseMA\\\",\\\"population\\\"])}));\\n    (WebIO.importBlock({\\\"data\\\":[{\\\"name\\\":null,\\\"type\\\":\\\"js\\\",\\\"url\\\":\\\"\\/assetserver\\/8a878f8aac4fcc3aa0fe3544f3b6004cfb87e28d-rowNumberRenderer.js\\\"},{\\\"name\\\":null,\\\"type\\\":\\\"js\\\",\\\"url\\\":\\\"\\/assetserver\\/49affd7ae36d0aac75380aa149861ff1594bff9c-ag-grid.js\\\"},{\\\"name\\\":null,\\\"type\\\":\\\"css\\\",\\\"url\\\":\\\"\\/assetserver\\/44eec805f61ccdf030080bfd1a559f03509a0021-ag-grid.css\\\"},{\\\"name\\\":null,\\\"type\\\":\\\"css\\\",\\\"url\\\":\\\"\\/assetserver\\/e4213c8e832c90aaafe2b3164c0bbb5b67c7a305-ag-grid-light.css\\\"},{\\\"name\\\":null,\\\"type\\\":\\\"css\\\",\\\"url\\\":\\\"\\/assetserver\\/b082734171f365ccefe5d7b6015f8162af17e3a6-ag-grid-dark.css\\\"}],\\\"type\\\":\\\"async_block\\\"})).then((imports) => handler.apply(this, imports));\\n}\\n\"],\"observables\":{\"onCellKeyDown\":{\"sync\":false,\"id\":\"ob_173\",\"value\":null},\"onRowClicked\":{\"sync\":false,\"id\":\"ob_171\",\"value\":null},\"onCellDoubleClicked\":{\"sync\":false,\"id\":\"ob_170\",\"value\":null},\"requestedrows\":{\"sync\":false,\"id\":\"ob_175\",\"value\":{}},\"onCellClicked\":{\"sync\":false,\"id\":\"ob_169\",\"value\":null},\"onCellFocused\":{\"sync\":false,\"id\":\"ob_172\",\"value\":null},\"rowparams\":{\"sync\":true,\"id\":\"ob_174\",\"value\":{\"successCallback\":\"(function (v){return null})\",\"startRow\":1,\"endRow\":100}}}},\"children\":[{\"props\":{},\"nodeType\":\"DOM\",\"type\":\"node\",\"instanceArgs\":{\"namespace\":\"html\",\"tag\":\"div\"},\"children\":[{\"props\":{\"style\":{\"height\":\"0\",\"padding\":\"0\",\"background-color\":\"#F5F7F7\",\"color\":\"#1c1f20\",\"font-family\":\"-apple-system, BlinkMacSystemFont, \\\"Segoe UI\\\", Roboto, Oxygen-Sans, Ubuntu, Cantarell, \\\"Helvetica Neue\\\", sans-serif\"}},\"nodeType\":\"DOM\",\"type\":\"node\",\"instanceArgs\":{\"namespace\":\"html\",\"tag\":\"div\"},\"children\":[\"\"]},{\"props\":{\"id\":\"grid-a0d6c92a\",\"className\":\"ag-theme-balham\",\"style\":{\"height\":\"500px\",\"width\":\"100%\"}},\"nodeType\":\"DOM\",\"type\":\"node\",\"instanceArgs\":{\"namespace\":\"html\",\"tag\":\"div\"},\"children\":[]}]}]},\n",
       "            window,\n",
       "        );\n",
       "    } else {\n",
       "        document\n",
       "            .querySelector('[data-webio-mountpoint=\"29511753085375252\"]')\n",
       "            .innerHTML = (\n",
       "                '<div style=\"padding: 1em; background-color: #f8d6da; border: 1px solid #f5c6cb\">' +\n",
       "                '<p><strong>WebIO not detected.</strong></p>' +\n",
       "                '<p>Please read ' +\n",
       "                '<a href=\"https://juliagizmos.github.io/WebIO.jl/latest/troubleshooting/not-detected/\" target=\"_blank\">the troubleshooting guide</a> ' +\n",
       "                'for more information on how to resolve this issue.</p>' +\n",
       "                '<p><a href=\"https://juliagizmos.github.io/WebIO.jl/latest/troubleshooting/not-detected/\" target=\"_blank\">https://juliagizmos.github.io/WebIO.jl/latest/troubleshooting/not-detected/</a></p>' +\n",
       "                '</div>'\n",
       "            );\n",
       "    }\n",
       "    </script>\n",
       "</div>\n"
      ],
      "text/plain": [
       "WebIO.Scope(WebIO.Node{WebIO.DOM}(WebIO.DOM(:html, :div), Any[WebIO.Node{WebIO.DOM}(WebIO.DOM(:html, :div), Any[\"\"], Dict{Symbol,Any}(:style => Dict(\"height\" => \"0\",\"padding\" => \"0\",\"background-color\" => \"#F5F7F7\",\"color\" => \"#1c1f20\",\"font-family\" => \"-apple-system, BlinkMacSystemFont, \\\"Segoe UI\\\", Roboto, Oxygen-Sans, Ubuntu, Cantarell, \\\"Helvetica Neue\\\", sans-serif\"))), WebIO.Node{WebIO.DOM}(WebIO.DOM(:html, :div), Any[], Dict{Symbol,Any}(:id => \"grid-a0d6c92a\",:className => \"ag-theme-balham\",:style => Dict(\"height\" => \"500px\",\"width\" => \"100%\")))], Dict{Symbol,Any}()), Dict{String,Tuple{Observables.AbstractObservable,Union{Nothing, Bool}}}(\"onCellKeyDown\" => (Observable{Any} with 0 listeners. Value:\n",
       "nothing, nothing),\"onRowClicked\" => (Observable{Any} with 0 listeners. Value:\n",
       "nothing, nothing),\"onCellDoubleClicked\" => (Observable{Any} with 0 listeners. Value:\n",
       "nothing, nothing),\"requestedrows\" => (Observable{JSON.Writer.JSONText} with 1 listeners. Value:\n",
       "JSON.Writer.JSONText(\"{}\"), nothing),\"onCellClicked\" => (Observable{Any} with 0 listeners. Value:\n",
       "nothing, nothing),\"onCellFocused\" => (Observable{Any} with 0 listeners. Value:\n",
       "nothing, nothing),\"rowparams\" => (Observable{Dict{String,Any}} with 1 listeners. Value:\n",
       "Dict{String,Any}(\"successCallback\" => WebIO.JSString(\"(function (v){return null})\"),\"startRow\" => 1,\"endRow\" => 100), nothing)), Set(String[]), nothing, WebIO.Asset[WebIO.Asset(\"js\", nothing, \"/Users/cdaniels/.julia/packages/TableView/CxWLO/src/rowNumberRenderer.js\"), WebIO.Asset(\"js\", nothing, \"/Users/cdaniels/.julia/packages/TableView/CxWLO/deps/ag-grid-22.1.0/ag-grid.js\"), WebIO.Asset(\"css\", nothing, \"/Users/cdaniels/.julia/packages/TableView/CxWLO/deps/ag-grid-22.1.0/ag-grid.css\"), WebIO.Asset(\"css\", nothing, \"/Users/cdaniels/.julia/packages/TableView/CxWLO/deps/ag-grid-22.1.0/ag-grid-light.css\"), WebIO.Asset(\"css\", nothing, \"/Users/cdaniels/.julia/packages/TableView/CxWLO/deps/ag-grid-22.1.0/ag-grid-dark.css\")], Dict{Any,Any}(\"requestedrows\" => Any[WebIO.JSString(\"(function (val){return WebIO.getval({\\\"name\\\":\\\"rowparams\\\",\\\"scope\\\":\\\"13887487826808142412\\\",\\\"id\\\":\\\"ob_174\\\",\\\"type\\\":\\\"observable\\\"}).successCallback(val,null)})\")]), WebIO.ConnectionPool(Channel{Any}(sz_max:32,sz_curr:0), Set(WebIO.AbstractConnection[]), Base.GenericCondition{Base.AlwaysLockedST}(Base.InvasiveLinkedList{Task}(Task (runnable) @0x000000011d2f1690, Task (runnable) @0x000000011d2f1690), Base.AlwaysLockedST(1))), WebIO.JSString[WebIO.JSString(\"function () {\\n    var handler = ((function (RowNumberRenderer,agGrid){var gridOptions={\\\"onCellFocused\\\":(function (ev){var x={}; (ev.rowIndex!==undefined) ? (x[\\\"rowIndex\\\"]=(ev.rowIndex+1)) : undefined; (ev.colDef!==undefined) ? (x[\\\"column\\\"]=ev.colDef.headerName) : undefined; return WebIO.setval({\\\"name\\\":\\\"onCellFocused\\\",\\\"scope\\\":\\\"13887487826808142412\\\",\\\"id\\\":\\\"ob_172\\\",\\\"type\\\":\\\"observable\\\"},x)}),\\\"onCellValueChanged\\\":(function (){return }),\\\"rowModelType\\\":\\\"infinite\\\",\\\"onRowClicked\\\":(function (ev){var x={}; (ev.rowIndex!==undefined) ? (x[\\\"rowIndex\\\"]=(ev.rowIndex+1)) : undefined; (ev.colDef!==undefined) ? (x[\\\"column\\\"]=ev.colDef.headerName) : undefined; return WebIO.setval({\\\"name\\\":\\\"onRowClicked\\\",\\\"scope\\\":\\\"13887487826808142412\\\",\\\"id\\\":\\\"ob_171\\\",\\\"type\\\":\\\"observable\\\"},x)}),\\\"maxConcurrentDatasourceRequests\\\":1,\\\"columnDefs\\\":[{\\\"filter\\\":false,\\\"editable\\\":false,\\\"headerTooltip\\\":\\\"\\\",\\\"field\\\":\\\"__row__\\\",\\\"headerName\\\":\\\"Row\\\",\\\"sortable\\\":false,\\\"type\\\":\\\"numericColumn\\\",\\\"cellRenderer\\\":\\\"rowNumberRenderer\\\",\\\"resizable\\\":true},{\\\"filter\\\":false,\\\"editable\\\":false,\\\"headerTooltip\\\":\\\"Date\\\",\\\"field\\\":\\\"date\\\",\\\"headerName\\\":\\\"date\\\",\\\"sortable\\\":false,\\\"type\\\":null,\\\"resizable\\\":true},{\\\"filter\\\":false,\\\"editable\\\":false,\\\"headerTooltip\\\":\\\"String\\\",\\\"field\\\":\\\"county\\\",\\\"headerName\\\":\\\"county\\\",\\\"sortable\\\":false,\\\"type\\\":null,\\\"resizable\\\":true},{\\\"filter\\\":false,\\\"editable\\\":false,\\\"headerTooltip\\\":\\\"String\\\",\\\"field\\\":\\\"state\\\",\\\"headerName\\\":\\\"state\\\",\\\"sortable\\\":false,\\\"type\\\":null,\\\"resizable\\\":true},{\\\"filter\\\":false,\\\"editable\\\":false,\\\"headerTooltip\\\":\\\"Union{Missing, String}\\\",\\\"field\\\":\\\"fips\\\",\\\"headerName\\\":\\\"fips\\\",\\\"sortable\\\":false,\\\"type\\\":null,\\\"resizable\\\":true},{\\\"filter\\\":false,\\\"editable\\\":false,\\\"headerTooltip\\\":\\\"Int64\\\",\\\"field\\\":\\\"cases\\\",\\\"headerName\\\":\\\"cases\\\",\\\"sortable\\\":false,\\\"type\\\":\\\"numericColumn\\\",\\\"resizable\\\":true},{\\\"filter\\\":false,\\\"editable\\\":false,\\\"headerTooltip\\\":\\\"Int64\\\",\\\"field\\\":\\\"deaths\\\",\\\"headerName\\\":\\\"deaths\\\",\\\"sortable\\\":false,\\\"type\\\":\\\"numericColumn\\\",\\\"resizable\\\":true},{\\\"filter\\\":false,\\\"editable\\\":false,\\\"headerTooltip\\\":\\\"Float64\\\",\\\"field\\\":\\\"casesMA\\\",\\\"headerName\\\":\\\"casesMA\\\",\\\"sortable\\\":false,\\\"type\\\":\\\"numericColumn\\\",\\\"resizable\\\":true},{\\\"filter\\\":false,\\\"editable\\\":false,\\\"headerTooltip\\\":\\\"Int64\\\",\\\"field\\\":\\\"casesIncrease\\\",\\\"headerName\\\":\\\"casesIncrease\\\",\\\"sortable\\\":false,\\\"type\\\":\\\"numericColumn\\\",\\\"resizable\\\":true},{\\\"filter\\\":false,\\\"editable\\\":false,\\\"headerTooltip\\\":\\\"Float64\\\",\\\"field\\\":\\\"casesIncreaseMA\\\",\\\"headerName\\\":\\\"casesIncreaseMA\\\",\\\"sortable\\\":false,\\\"type\\\":\\\"numericColumn\\\",\\\"resizable\\\":true},{\\\"filter\\\":false,\\\"editable\\\":false,\\\"headerTooltip\\\":\\\"Float64\\\",\\\"field\\\":\\\"pch_casesMA\\\",\\\"headerName\\\":\\\"pch_casesMA\\\",\\\"sortable\\\":false,\\\"type\\\":\\\"numericColumn\\\",\\\"resizable\\\":true},{\\\"filter\\\":false,\\\"editable\\\":false,\\\"headerTooltip\\\":\\\"Float64\\\",\\\"field\\\":\\\"pch_casesIncreaseMA\\\",\\\"headerName\\\":\\\"pch_casesIncreaseMA\\\",\\\"sortable\\\":false,\\\"type\\\":\\\"numericColumn\\\",\\\"resizable\\\":true},{\\\"filter\\\":false,\\\"editable\\\":false,\\\"headerTooltip\\\":\\\"Float64\\\",\\\"field\\\":\\\"deathsMA\\\",\\\"headerName\\\":\\\"deathsMA\\\",\\\"sortable\\\":false,\\\"type\\\":\\\"numericColumn\\\",\\\"resizable\\\":true},{\\\"filter\\\":false,\\\"editable\\\":false,\\\"headerTooltip\\\":\\\"Int64\\\",\\\"field\\\":\\\"deathsIncrease\\\",\\\"headerName\\\":\\\"deathsIncrease\\\",\\\"sortable\\\":false,\\\"type\\\":\\\"numericColumn\\\",\\\"resizable\\\":true},{\\\"filter\\\":false,\\\"editable\\\":false,\\\"headerTooltip\\\":\\\"Float64\\\",\\\"field\\\":\\\"deathsIncreaseMA\\\",\\\"headerName\\\":\\\"deathsIncreaseMA\\\",\\\"sortable\\\":false,\\\"type\\\":\\\"numericColumn\\\",\\\"resizable\\\":true},{\\\"filter\\\":false,\\\"editable\\\":false,\\\"headerTooltip\\\":\\\"Float64\\\",\\\"field\\\":\\\"pch_deathsMA\\\",\\\"headerName\\\":\\\"pch_deathsMA\\\",\\\"sortable\\\":false,\\\"type\\\":\\\"numericColumn\\\",\\\"resizable\\\":true},{\\\"filter\\\":false,\\\"editable\\\":false,\\\"headerTooltip\\\":\\\"Float64\\\",\\\"field\\\":\\\"pch_deathsIncreaseMA\\\",\\\"headerName\\\":\\\"pch_deathsIncreaseMA\\\",\\\"sortable\\\":false,\\\"type\\\":\\\"numericColumn\\\",\\\"resizable\\\":true},{\\\"filter\\\":false,\\\"editable\\\":false,\\\"headerTooltip\\\":\\\"Union{Missing, Int64}\\\",\\\"field\\\":\\\"population\\\",\\\"headerName\\\":\\\"population\\\",\\\"sortable\\\":false,\\\"type\\\":\\\"numericColumn\\\",\\\"resizable\\\":true}],\\\"cacheBlockSize\\\":1000,\\\"datasource\\\":{\\\"rowCount\\\":null,\\\"getRows\\\":(function (rowParams){return WebIO.setval({\\\"name\\\":\\\"rowparams\\\",\\\"scope\\\":\\\"13887487826808142412\\\",\\\"id\\\":\\\"ob_174\\\",\\\"type\\\":\\\"observable\\\"},rowParams)})},\\\"multiSortKey\\\":\\\"ctrl\\\",\\\"maxBlocksInCache\\\":100,\\\"onCellDoubleClicked\\\":(function (ev){var x={}; (ev.rowIndex!==undefined) ? (x[\\\"rowIndex\\\"]=(ev.rowIndex+1)) : undefined; (ev.colDef!==undefined) ? (x[\\\"column\\\"]=ev.colDef.headerName) : undefined; return WebIO.setval({\\\"name\\\":\\\"onCellDoubleClicked\\\",\\\"scope\\\":\\\"13887487826808142412\\\",\\\"id\\\":\\\"ob_170\\\",\\\"type\\\":\\\"observable\\\"},x)}),\\\"onCellKeyDown\\\":(function (ev){var x={}; (ev.rowIndex!==undefined) ? (x[\\\"rowIndex\\\"]=(ev.rowIndex+1)) : undefined; (ev.colDef!==undefined) ? (x[\\\"column\\\"]=ev.colDef.headerName) : undefined; return WebIO.setval({\\\"name\\\":\\\"onCellKeyDown\\\",\\\"scope\\\":\\\"13887487826808142412\\\",\\\"id\\\":\\\"ob_173\\\",\\\"type\\\":\\\"observable\\\"},x)}),\\\"onCellClicked\\\":(function (ev){var x={}; (ev.rowIndex!==undefined) ? (x[\\\"rowIndex\\\"]=(ev.rowIndex+1)) : undefined; (ev.colDef!==undefined) ? (x[\\\"column\\\"]=ev.colDef.headerName) : undefined; return WebIO.setval({\\\"name\\\":\\\"onCellClicked\\\",\\\"scope\\\":\\\"13887487826808142412\\\",\\\"id\\\":\\\"ob_169\\\",\\\"type\\\":\\\"observable\\\"},x)})}; var el=document.getElementById(\\\"grid-a0d6c92a\\\"); gridOptions.components={\\\"rowNumberRenderer\\\":RowNumberRenderer}; this.table=new agGrid.Grid(el,gridOptions); gridOptions.columnApi.autoSizeColumn(\\\"__row__\\\"); return gridOptions.columnApi.autoSizeColumns([\\\"date\\\",\\\"county\\\",\\\"state\\\",\\\"fips\\\",\\\"cases\\\",\\\"deaths\\\",\\\"casesMA\\\",\\\"casesIncrease\\\",\\\"casesIncreaseMA\\\",\\\"pch_casesMA\\\",\\\"pch_casesIncreaseMA\\\",\\\"deathsMA\\\",\\\"deathsIncrease\\\",\\\"deathsIncreaseMA\\\",\\\"pch_deathsMA\\\",\\\"pch_deathsIncreaseMA\\\",\\\"population\\\"])}));\\n    (WebIO.importBlock({\\\"data\\\":[{\\\"name\\\":null,\\\"type\\\":\\\"js\\\",\\\"url\\\":\\\"/assetserver/8a878f8aac4fcc3aa0fe3544f3b6004cfb87e28d-rowNumberRenderer.js\\\"},{\\\"name\\\":null,\\\"type\\\":\\\"js\\\",\\\"url\\\":\\\"/assetserver/49affd7ae36d0aac75380aa149861ff1594bff9c-ag-grid.js\\\"},{\\\"name\\\":null,\\\"type\\\":\\\"css\\\",\\\"url\\\":\\\"/assetserver/44eec805f61ccdf030080bfd1a559f03509a0021-ag-grid.css\\\"},{\\\"name\\\":null,\\\"type\\\":\\\"css\\\",\\\"url\\\":\\\"/assetserver/e4213c8e832c90aaafe2b3164c0bbb5b67c7a305-ag-grid-light.css\\\"},{\\\"name\\\":null,\\\"type\\\":\\\"css\\\",\\\"url\\\":\\\"/assetserver/b082734171f365ccefe5d7b6015f8162af17e3a6-ag-grid-dark.css\\\"}],\\\"type\\\":\\\"async_block\\\"})).then((imports) => handler.apply(this, imports));\\n}\\n\")])"
      ]
     },
     "execution_count": 50,
     "metadata": {
      "application/vnd.webio.node+json": {
       "kernelId": "3229260e-45e1-405c-811b-0c4817f5e87c"
      }
     },
     "output_type": "execute_result"
    }
   ],
   "source": [
    "@time dfc = get_nyt_county_covid_data()\n",
    "@tbl dfc"
   ]
  },
  {
   "cell_type": "code",
   "execution_count": 51,
   "metadata": {},
   "outputs": [
    {
     "data": {
      "text/plain": [
       "17-element Array{String,1}:\n",
       " \"date\"\n",
       " \"county\"\n",
       " \"state\"\n",
       " \"fips\"\n",
       " \"cases\"\n",
       " \"deaths\"\n",
       " \"casesMA\"\n",
       " \"casesIncrease\"\n",
       " \"casesIncreaseMA\"\n",
       " \"pch_casesMA\"\n",
       " \"pch_casesIncreaseMA\"\n",
       " \"deathsMA\"\n",
       " \"deathsIncrease\"\n",
       " \"deathsIncreaseMA\"\n",
       " \"pch_deathsMA\"\n",
       " \"pch_deathsIncreaseMA\"\n",
       " \"population\""
      ]
     },
     "execution_count": 51,
     "metadata": {},
     "output_type": "execute_result"
    }
   ],
   "source": [
    "names(dfc)"
   ]
  },
  {
   "cell_type": "markdown",
   "metadata": {},
   "source": [
    "### Get New York Times COVID State Data"
   ]
  },
  {
   "cell_type": "code",
   "execution_count": 52,
   "metadata": {
    "scrolled": false
   },
   "outputs": [
    {
     "name": "stdout",
     "output_type": "stream",
     "text": [
      "  0.901892 seconds (432.30 k allocations: 22.855 MiB, 19.99% gc time)\n"
     ]
    },
    {
     "data": {
      "application/vnd.webio.node+json": {
       "children": [
        {
         "children": [
          {
           "children": [
            ""
           ],
           "instanceArgs": {
            "namespace": "html",
            "tag": "div"
           },
           "nodeType": "DOM",
           "props": {
            "style": {
             "background-color": "#F5F7F7",
             "color": "#1c1f20",
             "font-family": "-apple-system, BlinkMacSystemFont, \"Segoe UI\", Roboto, Oxygen-Sans, Ubuntu, Cantarell, \"Helvetica Neue\", sans-serif",
             "height": "0",
             "padding": "0"
            }
           },
           "type": "node"
          },
          {
           "children": [],
           "instanceArgs": {
            "namespace": "html",
            "tag": "div"
           },
           "nodeType": "DOM",
           "props": {
            "className": "ag-theme-balham",
            "id": "grid-a1712cea",
            "style": {
             "height": "500px",
             "width": "100%"
            }
           },
           "type": "node"
          }
         ],
         "instanceArgs": {
          "namespace": "html",
          "tag": "div"
         },
         "nodeType": "DOM",
         "props": {},
         "type": "node"
        }
       ],
       "instanceArgs": {
        "handlers": {
         "requestedrows": [
          "(function (val){return WebIO.getval({\"name\":\"rowparams\",\"scope\":\"12801209795802805070\",\"id\":\"ob_181\",\"type\":\"observable\"}).successCallback(val,null)})"
         ]
        },
        "id": "12801209795802805070",
        "imports": {
         "data": [
          {
           "name": null,
           "type": "js",
           "url": "/assetserver/8a878f8aac4fcc3aa0fe3544f3b6004cfb87e28d-rowNumberRenderer.js"
          },
          {
           "name": null,
           "type": "js",
           "url": "/assetserver/49affd7ae36d0aac75380aa149861ff1594bff9c-ag-grid.js"
          },
          {
           "name": null,
           "type": "css",
           "url": "/assetserver/44eec805f61ccdf030080bfd1a559f03509a0021-ag-grid.css"
          },
          {
           "name": null,
           "type": "css",
           "url": "/assetserver/e4213c8e832c90aaafe2b3164c0bbb5b67c7a305-ag-grid-light.css"
          },
          {
           "name": null,
           "type": "css",
           "url": "/assetserver/b082734171f365ccefe5d7b6015f8162af17e3a6-ag-grid-dark.css"
          }
         ],
         "type": "async_block"
        },
        "mount_callbacks": [
         "function () {\n    var handler = ((function (RowNumberRenderer,agGrid){var gridOptions={\"onCellFocused\":(function (ev){var x={}; (ev.rowIndex!==undefined) ? (x[\"rowIndex\"]=(ev.rowIndex+1)) : undefined; (ev.colDef!==undefined) ? (x[\"column\"]=ev.colDef.headerName) : undefined; return WebIO.setval({\"name\":\"onCellFocused\",\"scope\":\"12801209795802805070\",\"id\":\"ob_179\",\"type\":\"observable\"},x)}),\"onCellValueChanged\":(function (){return }),\"rowModelType\":\"infinite\",\"onRowClicked\":(function (ev){var x={}; (ev.rowIndex!==undefined) ? (x[\"rowIndex\"]=(ev.rowIndex+1)) : undefined; (ev.colDef!==undefined) ? (x[\"column\"]=ev.colDef.headerName) : undefined; return WebIO.setval({\"name\":\"onRowClicked\",\"scope\":\"12801209795802805070\",\"id\":\"ob_178\",\"type\":\"observable\"},x)}),\"maxConcurrentDatasourceRequests\":1,\"columnDefs\":[{\"filter\":false,\"editable\":false,\"headerTooltip\":\"\",\"field\":\"__row__\",\"headerName\":\"Row\",\"sortable\":false,\"type\":\"numericColumn\",\"cellRenderer\":\"rowNumberRenderer\",\"resizable\":true},{\"filter\":false,\"editable\":false,\"headerTooltip\":\"Date\",\"field\":\"date\",\"headerName\":\"date\",\"sortable\":false,\"type\":null,\"resizable\":true},{\"filter\":false,\"editable\":false,\"headerTooltip\":\"String\",\"field\":\"state\",\"headerName\":\"state\",\"sortable\":false,\"type\":null,\"resizable\":true},{\"filter\":false,\"editable\":false,\"headerTooltip\":\"String\",\"field\":\"fips\",\"headerName\":\"fips\",\"sortable\":false,\"type\":null,\"resizable\":true},{\"filter\":false,\"editable\":false,\"headerTooltip\":\"Int64\",\"field\":\"cases\",\"headerName\":\"cases\",\"sortable\":false,\"type\":\"numericColumn\",\"resizable\":true},{\"filter\":false,\"editable\":false,\"headerTooltip\":\"Int64\",\"field\":\"deaths\",\"headerName\":\"deaths\",\"sortable\":false,\"type\":\"numericColumn\",\"resizable\":true},{\"filter\":false,\"editable\":false,\"headerTooltip\":\"Float64\",\"field\":\"casesMA\",\"headerName\":\"casesMA\",\"sortable\":false,\"type\":\"numericColumn\",\"resizable\":true},{\"filter\":false,\"editable\":false,\"headerTooltip\":\"Int64\",\"field\":\"casesIncrease\",\"headerName\":\"casesIncrease\",\"sortable\":false,\"type\":\"numericColumn\",\"resizable\":true},{\"filter\":false,\"editable\":false,\"headerTooltip\":\"Float64\",\"field\":\"casesIncreaseMA\",\"headerName\":\"casesIncreaseMA\",\"sortable\":false,\"type\":\"numericColumn\",\"resizable\":true},{\"filter\":false,\"editable\":false,\"headerTooltip\":\"Float64\",\"field\":\"pch_casesMA\",\"headerName\":\"pch_casesMA\",\"sortable\":false,\"type\":\"numericColumn\",\"resizable\":true},{\"filter\":false,\"editable\":false,\"headerTooltip\":\"Float64\",\"field\":\"pch_casesIncreaseMA\",\"headerName\":\"pch_casesIncreaseMA\",\"sortable\":false,\"type\":\"numericColumn\",\"resizable\":true},{\"filter\":false,\"editable\":false,\"headerTooltip\":\"Float64\",\"field\":\"deathsMA\",\"headerName\":\"deathsMA\",\"sortable\":false,\"type\":\"numericColumn\",\"resizable\":true},{\"filter\":false,\"editable\":false,\"headerTooltip\":\"Int64\",\"field\":\"deathsIncrease\",\"headerName\":\"deathsIncrease\",\"sortable\":false,\"type\":\"numericColumn\",\"resizable\":true},{\"filter\":false,\"editable\":false,\"headerTooltip\":\"Float64\",\"field\":\"deathsIncreaseMA\",\"headerName\":\"deathsIncreaseMA\",\"sortable\":false,\"type\":\"numericColumn\",\"resizable\":true},{\"filter\":false,\"editable\":false,\"headerTooltip\":\"Float64\",\"field\":\"pch_deathsMA\",\"headerName\":\"pch_deathsMA\",\"sortable\":false,\"type\":\"numericColumn\",\"resizable\":true},{\"filter\":false,\"editable\":false,\"headerTooltip\":\"Float64\",\"field\":\"pch_deathsIncreaseMA\",\"headerName\":\"pch_deathsIncreaseMA\",\"sortable\":false,\"type\":\"numericColumn\",\"resizable\":true},{\"filter\":false,\"editable\":false,\"headerTooltip\":\"Union{Missing, Int64}\",\"field\":\"population\",\"headerName\":\"population\",\"sortable\":false,\"type\":\"numericColumn\",\"resizable\":true}],\"cacheBlockSize\":1000,\"datasource\":{\"rowCount\":null,\"getRows\":(function (rowParams){return WebIO.setval({\"name\":\"rowparams\",\"scope\":\"12801209795802805070\",\"id\":\"ob_181\",\"type\":\"observable\"},rowParams)})},\"multiSortKey\":\"ctrl\",\"maxBlocksInCache\":100,\"onCellDoubleClicked\":(function (ev){var x={}; (ev.rowIndex!==undefined) ? (x[\"rowIndex\"]=(ev.rowIndex+1)) : undefined; (ev.colDef!==undefined) ? (x[\"column\"]=ev.colDef.headerName) : undefined; return WebIO.setval({\"name\":\"onCellDoubleClicked\",\"scope\":\"12801209795802805070\",\"id\":\"ob_177\",\"type\":\"observable\"},x)}),\"onCellKeyDown\":(function (ev){var x={}; (ev.rowIndex!==undefined) ? (x[\"rowIndex\"]=(ev.rowIndex+1)) : undefined; (ev.colDef!==undefined) ? (x[\"column\"]=ev.colDef.headerName) : undefined; return WebIO.setval({\"name\":\"onCellKeyDown\",\"scope\":\"12801209795802805070\",\"id\":\"ob_180\",\"type\":\"observable\"},x)}),\"onCellClicked\":(function (ev){var x={}; (ev.rowIndex!==undefined) ? (x[\"rowIndex\"]=(ev.rowIndex+1)) : undefined; (ev.colDef!==undefined) ? (x[\"column\"]=ev.colDef.headerName) : undefined; return WebIO.setval({\"name\":\"onCellClicked\",\"scope\":\"12801209795802805070\",\"id\":\"ob_176\",\"type\":\"observable\"},x)})}; var el=document.getElementById(\"grid-a1712cea\"); gridOptions.components={\"rowNumberRenderer\":RowNumberRenderer}; this.table=new agGrid.Grid(el,gridOptions); gridOptions.columnApi.autoSizeColumn(\"__row__\"); return gridOptions.columnApi.autoSizeColumns([\"date\",\"state\",\"fips\",\"cases\",\"deaths\",\"casesMA\",\"casesIncrease\",\"casesIncreaseMA\",\"pch_casesMA\",\"pch_casesIncreaseMA\",\"deathsMA\",\"deathsIncrease\",\"deathsIncreaseMA\",\"pch_deathsMA\",\"pch_deathsIncreaseMA\",\"population\"])}));\n    (WebIO.importBlock({\"data\":[{\"name\":null,\"type\":\"js\",\"url\":\"/assetserver/8a878f8aac4fcc3aa0fe3544f3b6004cfb87e28d-rowNumberRenderer.js\"},{\"name\":null,\"type\":\"js\",\"url\":\"/assetserver/49affd7ae36d0aac75380aa149861ff1594bff9c-ag-grid.js\"},{\"name\":null,\"type\":\"css\",\"url\":\"/assetserver/44eec805f61ccdf030080bfd1a559f03509a0021-ag-grid.css\"},{\"name\":null,\"type\":\"css\",\"url\":\"/assetserver/e4213c8e832c90aaafe2b3164c0bbb5b67c7a305-ag-grid-light.css\"},{\"name\":null,\"type\":\"css\",\"url\":\"/assetserver/b082734171f365ccefe5d7b6015f8162af17e3a6-ag-grid-dark.css\"}],\"type\":\"async_block\"})).then((imports) => handler.apply(this, imports));\n}\n"
        ],
        "observables": {
         "onCellClicked": {
          "id": "ob_176",
          "sync": false,
          "value": null
         },
         "onCellDoubleClicked": {
          "id": "ob_177",
          "sync": false,
          "value": null
         },
         "onCellFocused": {
          "id": "ob_179",
          "sync": false,
          "value": null
         },
         "onCellKeyDown": {
          "id": "ob_180",
          "sync": false,
          "value": null
         },
         "onRowClicked": {
          "id": "ob_178",
          "sync": false,
          "value": null
         },
         "requestedrows": {
          "id": "ob_182",
          "sync": false,
          "value": {}
         },
         "rowparams": {
          "id": "ob_181",
          "sync": true,
          "value": {
           "endRow": 100,
           "startRow": 1,
           "successCallback": "(function (v){return null})"
          }
         }
        },
        "systemjs_options": null
       },
       "nodeType": "Scope",
       "props": {},
       "type": "node"
      },
      "text/html": [
       "<div\n",
       "    class=\"webio-mountpoint\"\n",
       "    data-webio-mountpoint=\"2991699782696425767\"\n",
       ">\n",
       "    <script>\n",
       "    if (window.require && require.defined && require.defined(\"nbextensions/webio-jupyter-notebook\")) {\n",
       "        console.log(\"Jupyter WebIO extension detected, not mounting.\");\n",
       "    } else if (window.WebIO) {\n",
       "        WebIO.mount(\n",
       "            document.querySelector('[data-webio-mountpoint=\"2991699782696425767\"]'),\n",
       "            {\"props\":{},\"nodeType\":\"Scope\",\"type\":\"node\",\"instanceArgs\":{\"imports\":{\"data\":[{\"name\":null,\"type\":\"js\",\"url\":\"\\/assetserver\\/8a878f8aac4fcc3aa0fe3544f3b6004cfb87e28d-rowNumberRenderer.js\"},{\"name\":null,\"type\":\"js\",\"url\":\"\\/assetserver\\/49affd7ae36d0aac75380aa149861ff1594bff9c-ag-grid.js\"},{\"name\":null,\"type\":\"css\",\"url\":\"\\/assetserver\\/44eec805f61ccdf030080bfd1a559f03509a0021-ag-grid.css\"},{\"name\":null,\"type\":\"css\",\"url\":\"\\/assetserver\\/e4213c8e832c90aaafe2b3164c0bbb5b67c7a305-ag-grid-light.css\"},{\"name\":null,\"type\":\"css\",\"url\":\"\\/assetserver\\/b082734171f365ccefe5d7b6015f8162af17e3a6-ag-grid-dark.css\"}],\"type\":\"async_block\"},\"id\":\"12801209795802805070\",\"handlers\":{\"requestedrows\":[\"(function (val){return WebIO.getval({\\\"name\\\":\\\"rowparams\\\",\\\"scope\\\":\\\"12801209795802805070\\\",\\\"id\\\":\\\"ob_181\\\",\\\"type\\\":\\\"observable\\\"}).successCallback(val,null)})\"]},\"systemjs_options\":null,\"mount_callbacks\":[\"function () {\\n    var handler = ((function (RowNumberRenderer,agGrid){var gridOptions={\\\"onCellFocused\\\":(function (ev){var x={}; (ev.rowIndex!==undefined) ? (x[\\\"rowIndex\\\"]=(ev.rowIndex+1)) : undefined; (ev.colDef!==undefined) ? (x[\\\"column\\\"]=ev.colDef.headerName) : undefined; return WebIO.setval({\\\"name\\\":\\\"onCellFocused\\\",\\\"scope\\\":\\\"12801209795802805070\\\",\\\"id\\\":\\\"ob_179\\\",\\\"type\\\":\\\"observable\\\"},x)}),\\\"onCellValueChanged\\\":(function (){return }),\\\"rowModelType\\\":\\\"infinite\\\",\\\"onRowClicked\\\":(function (ev){var x={}; (ev.rowIndex!==undefined) ? (x[\\\"rowIndex\\\"]=(ev.rowIndex+1)) : undefined; (ev.colDef!==undefined) ? (x[\\\"column\\\"]=ev.colDef.headerName) : undefined; return WebIO.setval({\\\"name\\\":\\\"onRowClicked\\\",\\\"scope\\\":\\\"12801209795802805070\\\",\\\"id\\\":\\\"ob_178\\\",\\\"type\\\":\\\"observable\\\"},x)}),\\\"maxConcurrentDatasourceRequests\\\":1,\\\"columnDefs\\\":[{\\\"filter\\\":false,\\\"editable\\\":false,\\\"headerTooltip\\\":\\\"\\\",\\\"field\\\":\\\"__row__\\\",\\\"headerName\\\":\\\"Row\\\",\\\"sortable\\\":false,\\\"type\\\":\\\"numericColumn\\\",\\\"cellRenderer\\\":\\\"rowNumberRenderer\\\",\\\"resizable\\\":true},{\\\"filter\\\":false,\\\"editable\\\":false,\\\"headerTooltip\\\":\\\"Date\\\",\\\"field\\\":\\\"date\\\",\\\"headerName\\\":\\\"date\\\",\\\"sortable\\\":false,\\\"type\\\":null,\\\"resizable\\\":true},{\\\"filter\\\":false,\\\"editable\\\":false,\\\"headerTooltip\\\":\\\"String\\\",\\\"field\\\":\\\"state\\\",\\\"headerName\\\":\\\"state\\\",\\\"sortable\\\":false,\\\"type\\\":null,\\\"resizable\\\":true},{\\\"filter\\\":false,\\\"editable\\\":false,\\\"headerTooltip\\\":\\\"String\\\",\\\"field\\\":\\\"fips\\\",\\\"headerName\\\":\\\"fips\\\",\\\"sortable\\\":false,\\\"type\\\":null,\\\"resizable\\\":true},{\\\"filter\\\":false,\\\"editable\\\":false,\\\"headerTooltip\\\":\\\"Int64\\\",\\\"field\\\":\\\"cases\\\",\\\"headerName\\\":\\\"cases\\\",\\\"sortable\\\":false,\\\"type\\\":\\\"numericColumn\\\",\\\"resizable\\\":true},{\\\"filter\\\":false,\\\"editable\\\":false,\\\"headerTooltip\\\":\\\"Int64\\\",\\\"field\\\":\\\"deaths\\\",\\\"headerName\\\":\\\"deaths\\\",\\\"sortable\\\":false,\\\"type\\\":\\\"numericColumn\\\",\\\"resizable\\\":true},{\\\"filter\\\":false,\\\"editable\\\":false,\\\"headerTooltip\\\":\\\"Float64\\\",\\\"field\\\":\\\"casesMA\\\",\\\"headerName\\\":\\\"casesMA\\\",\\\"sortable\\\":false,\\\"type\\\":\\\"numericColumn\\\",\\\"resizable\\\":true},{\\\"filter\\\":false,\\\"editable\\\":false,\\\"headerTooltip\\\":\\\"Int64\\\",\\\"field\\\":\\\"casesIncrease\\\",\\\"headerName\\\":\\\"casesIncrease\\\",\\\"sortable\\\":false,\\\"type\\\":\\\"numericColumn\\\",\\\"resizable\\\":true},{\\\"filter\\\":false,\\\"editable\\\":false,\\\"headerTooltip\\\":\\\"Float64\\\",\\\"field\\\":\\\"casesIncreaseMA\\\",\\\"headerName\\\":\\\"casesIncreaseMA\\\",\\\"sortable\\\":false,\\\"type\\\":\\\"numericColumn\\\",\\\"resizable\\\":true},{\\\"filter\\\":false,\\\"editable\\\":false,\\\"headerTooltip\\\":\\\"Float64\\\",\\\"field\\\":\\\"pch_casesMA\\\",\\\"headerName\\\":\\\"pch_casesMA\\\",\\\"sortable\\\":false,\\\"type\\\":\\\"numericColumn\\\",\\\"resizable\\\":true},{\\\"filter\\\":false,\\\"editable\\\":false,\\\"headerTooltip\\\":\\\"Float64\\\",\\\"field\\\":\\\"pch_casesIncreaseMA\\\",\\\"headerName\\\":\\\"pch_casesIncreaseMA\\\",\\\"sortable\\\":false,\\\"type\\\":\\\"numericColumn\\\",\\\"resizable\\\":true},{\\\"filter\\\":false,\\\"editable\\\":false,\\\"headerTooltip\\\":\\\"Float64\\\",\\\"field\\\":\\\"deathsMA\\\",\\\"headerName\\\":\\\"deathsMA\\\",\\\"sortable\\\":false,\\\"type\\\":\\\"numericColumn\\\",\\\"resizable\\\":true},{\\\"filter\\\":false,\\\"editable\\\":false,\\\"headerTooltip\\\":\\\"Int64\\\",\\\"field\\\":\\\"deathsIncrease\\\",\\\"headerName\\\":\\\"deathsIncrease\\\",\\\"sortable\\\":false,\\\"type\\\":\\\"numericColumn\\\",\\\"resizable\\\":true},{\\\"filter\\\":false,\\\"editable\\\":false,\\\"headerTooltip\\\":\\\"Float64\\\",\\\"field\\\":\\\"deathsIncreaseMA\\\",\\\"headerName\\\":\\\"deathsIncreaseMA\\\",\\\"sortable\\\":false,\\\"type\\\":\\\"numericColumn\\\",\\\"resizable\\\":true},{\\\"filter\\\":false,\\\"editable\\\":false,\\\"headerTooltip\\\":\\\"Float64\\\",\\\"field\\\":\\\"pch_deathsMA\\\",\\\"headerName\\\":\\\"pch_deathsMA\\\",\\\"sortable\\\":false,\\\"type\\\":\\\"numericColumn\\\",\\\"resizable\\\":true},{\\\"filter\\\":false,\\\"editable\\\":false,\\\"headerTooltip\\\":\\\"Float64\\\",\\\"field\\\":\\\"pch_deathsIncreaseMA\\\",\\\"headerName\\\":\\\"pch_deathsIncreaseMA\\\",\\\"sortable\\\":false,\\\"type\\\":\\\"numericColumn\\\",\\\"resizable\\\":true},{\\\"filter\\\":false,\\\"editable\\\":false,\\\"headerTooltip\\\":\\\"Union{Missing, Int64}\\\",\\\"field\\\":\\\"population\\\",\\\"headerName\\\":\\\"population\\\",\\\"sortable\\\":false,\\\"type\\\":\\\"numericColumn\\\",\\\"resizable\\\":true}],\\\"cacheBlockSize\\\":1000,\\\"datasource\\\":{\\\"rowCount\\\":null,\\\"getRows\\\":(function (rowParams){return WebIO.setval({\\\"name\\\":\\\"rowparams\\\",\\\"scope\\\":\\\"12801209795802805070\\\",\\\"id\\\":\\\"ob_181\\\",\\\"type\\\":\\\"observable\\\"},rowParams)})},\\\"multiSortKey\\\":\\\"ctrl\\\",\\\"maxBlocksInCache\\\":100,\\\"onCellDoubleClicked\\\":(function (ev){var x={}; (ev.rowIndex!==undefined) ? (x[\\\"rowIndex\\\"]=(ev.rowIndex+1)) : undefined; (ev.colDef!==undefined) ? (x[\\\"column\\\"]=ev.colDef.headerName) : undefined; return WebIO.setval({\\\"name\\\":\\\"onCellDoubleClicked\\\",\\\"scope\\\":\\\"12801209795802805070\\\",\\\"id\\\":\\\"ob_177\\\",\\\"type\\\":\\\"observable\\\"},x)}),\\\"onCellKeyDown\\\":(function (ev){var x={}; (ev.rowIndex!==undefined) ? (x[\\\"rowIndex\\\"]=(ev.rowIndex+1)) : undefined; (ev.colDef!==undefined) ? (x[\\\"column\\\"]=ev.colDef.headerName) : undefined; return WebIO.setval({\\\"name\\\":\\\"onCellKeyDown\\\",\\\"scope\\\":\\\"12801209795802805070\\\",\\\"id\\\":\\\"ob_180\\\",\\\"type\\\":\\\"observable\\\"},x)}),\\\"onCellClicked\\\":(function (ev){var x={}; (ev.rowIndex!==undefined) ? (x[\\\"rowIndex\\\"]=(ev.rowIndex+1)) : undefined; (ev.colDef!==undefined) ? (x[\\\"column\\\"]=ev.colDef.headerName) : undefined; return WebIO.setval({\\\"name\\\":\\\"onCellClicked\\\",\\\"scope\\\":\\\"12801209795802805070\\\",\\\"id\\\":\\\"ob_176\\\",\\\"type\\\":\\\"observable\\\"},x)})}; var el=document.getElementById(\\\"grid-a1712cea\\\"); gridOptions.components={\\\"rowNumberRenderer\\\":RowNumberRenderer}; this.table=new agGrid.Grid(el,gridOptions); gridOptions.columnApi.autoSizeColumn(\\\"__row__\\\"); return gridOptions.columnApi.autoSizeColumns([\\\"date\\\",\\\"state\\\",\\\"fips\\\",\\\"cases\\\",\\\"deaths\\\",\\\"casesMA\\\",\\\"casesIncrease\\\",\\\"casesIncreaseMA\\\",\\\"pch_casesMA\\\",\\\"pch_casesIncreaseMA\\\",\\\"deathsMA\\\",\\\"deathsIncrease\\\",\\\"deathsIncreaseMA\\\",\\\"pch_deathsMA\\\",\\\"pch_deathsIncreaseMA\\\",\\\"population\\\"])}));\\n    (WebIO.importBlock({\\\"data\\\":[{\\\"name\\\":null,\\\"type\\\":\\\"js\\\",\\\"url\\\":\\\"\\/assetserver\\/8a878f8aac4fcc3aa0fe3544f3b6004cfb87e28d-rowNumberRenderer.js\\\"},{\\\"name\\\":null,\\\"type\\\":\\\"js\\\",\\\"url\\\":\\\"\\/assetserver\\/49affd7ae36d0aac75380aa149861ff1594bff9c-ag-grid.js\\\"},{\\\"name\\\":null,\\\"type\\\":\\\"css\\\",\\\"url\\\":\\\"\\/assetserver\\/44eec805f61ccdf030080bfd1a559f03509a0021-ag-grid.css\\\"},{\\\"name\\\":null,\\\"type\\\":\\\"css\\\",\\\"url\\\":\\\"\\/assetserver\\/e4213c8e832c90aaafe2b3164c0bbb5b67c7a305-ag-grid-light.css\\\"},{\\\"name\\\":null,\\\"type\\\":\\\"css\\\",\\\"url\\\":\\\"\\/assetserver\\/b082734171f365ccefe5d7b6015f8162af17e3a6-ag-grid-dark.css\\\"}],\\\"type\\\":\\\"async_block\\\"})).then((imports) => handler.apply(this, imports));\\n}\\n\"],\"observables\":{\"onCellKeyDown\":{\"sync\":false,\"id\":\"ob_180\",\"value\":null},\"onRowClicked\":{\"sync\":false,\"id\":\"ob_178\",\"value\":null},\"onCellDoubleClicked\":{\"sync\":false,\"id\":\"ob_177\",\"value\":null},\"requestedrows\":{\"sync\":false,\"id\":\"ob_182\",\"value\":{}},\"onCellClicked\":{\"sync\":false,\"id\":\"ob_176\",\"value\":null},\"onCellFocused\":{\"sync\":false,\"id\":\"ob_179\",\"value\":null},\"rowparams\":{\"sync\":true,\"id\":\"ob_181\",\"value\":{\"successCallback\":\"(function (v){return null})\",\"startRow\":1,\"endRow\":100}}}},\"children\":[{\"props\":{},\"nodeType\":\"DOM\",\"type\":\"node\",\"instanceArgs\":{\"namespace\":\"html\",\"tag\":\"div\"},\"children\":[{\"props\":{\"style\":{\"height\":\"0\",\"padding\":\"0\",\"background-color\":\"#F5F7F7\",\"color\":\"#1c1f20\",\"font-family\":\"-apple-system, BlinkMacSystemFont, \\\"Segoe UI\\\", Roboto, Oxygen-Sans, Ubuntu, Cantarell, \\\"Helvetica Neue\\\", sans-serif\"}},\"nodeType\":\"DOM\",\"type\":\"node\",\"instanceArgs\":{\"namespace\":\"html\",\"tag\":\"div\"},\"children\":[\"\"]},{\"props\":{\"id\":\"grid-a1712cea\",\"className\":\"ag-theme-balham\",\"style\":{\"height\":\"500px\",\"width\":\"100%\"}},\"nodeType\":\"DOM\",\"type\":\"node\",\"instanceArgs\":{\"namespace\":\"html\",\"tag\":\"div\"},\"children\":[]}]}]},\n",
       "            window,\n",
       "        );\n",
       "    } else {\n",
       "        document\n",
       "            .querySelector('[data-webio-mountpoint=\"2991699782696425767\"]')\n",
       "            .innerHTML = (\n",
       "                '<div style=\"padding: 1em; background-color: #f8d6da; border: 1px solid #f5c6cb\">' +\n",
       "                '<p><strong>WebIO not detected.</strong></p>' +\n",
       "                '<p>Please read ' +\n",
       "                '<a href=\"https://juliagizmos.github.io/WebIO.jl/latest/troubleshooting/not-detected/\" target=\"_blank\">the troubleshooting guide</a> ' +\n",
       "                'for more information on how to resolve this issue.</p>' +\n",
       "                '<p><a href=\"https://juliagizmos.github.io/WebIO.jl/latest/troubleshooting/not-detected/\" target=\"_blank\">https://juliagizmos.github.io/WebIO.jl/latest/troubleshooting/not-detected/</a></p>' +\n",
       "                '</div>'\n",
       "            );\n",
       "    }\n",
       "    </script>\n",
       "</div>\n"
      ],
      "text/plain": [
       "WebIO.Scope(WebIO.Node{WebIO.DOM}(WebIO.DOM(:html, :div), Any[WebIO.Node{WebIO.DOM}(WebIO.DOM(:html, :div), Any[\"\"], Dict{Symbol,Any}(:style => Dict(\"height\" => \"0\",\"padding\" => \"0\",\"background-color\" => \"#F5F7F7\",\"color\" => \"#1c1f20\",\"font-family\" => \"-apple-system, BlinkMacSystemFont, \\\"Segoe UI\\\", Roboto, Oxygen-Sans, Ubuntu, Cantarell, \\\"Helvetica Neue\\\", sans-serif\"))), WebIO.Node{WebIO.DOM}(WebIO.DOM(:html, :div), Any[], Dict{Symbol,Any}(:id => \"grid-a1712cea\",:className => \"ag-theme-balham\",:style => Dict(\"height\" => \"500px\",\"width\" => \"100%\")))], Dict{Symbol,Any}()), Dict{String,Tuple{Observables.AbstractObservable,Union{Nothing, Bool}}}(\"onCellKeyDown\" => (Observable{Any} with 0 listeners. Value:\n",
       "nothing, nothing),\"onRowClicked\" => (Observable{Any} with 0 listeners. Value:\n",
       "nothing, nothing),\"onCellDoubleClicked\" => (Observable{Any} with 0 listeners. Value:\n",
       "nothing, nothing),\"requestedrows\" => (Observable{JSON.Writer.JSONText} with 1 listeners. Value:\n",
       "JSON.Writer.JSONText(\"{}\"), nothing),\"onCellClicked\" => (Observable{Any} with 0 listeners. Value:\n",
       "nothing, nothing),\"onCellFocused\" => (Observable{Any} with 0 listeners. Value:\n",
       "nothing, nothing),\"rowparams\" => (Observable{Dict{String,Any}} with 1 listeners. Value:\n",
       "Dict{String,Any}(\"successCallback\" => WebIO.JSString(\"(function (v){return null})\"),\"startRow\" => 1,\"endRow\" => 100), nothing)), Set(String[]), nothing, WebIO.Asset[WebIO.Asset(\"js\", nothing, \"/Users/cdaniels/.julia/packages/TableView/CxWLO/src/rowNumberRenderer.js\"), WebIO.Asset(\"js\", nothing, \"/Users/cdaniels/.julia/packages/TableView/CxWLO/deps/ag-grid-22.1.0/ag-grid.js\"), WebIO.Asset(\"css\", nothing, \"/Users/cdaniels/.julia/packages/TableView/CxWLO/deps/ag-grid-22.1.0/ag-grid.css\"), WebIO.Asset(\"css\", nothing, \"/Users/cdaniels/.julia/packages/TableView/CxWLO/deps/ag-grid-22.1.0/ag-grid-light.css\"), WebIO.Asset(\"css\", nothing, \"/Users/cdaniels/.julia/packages/TableView/CxWLO/deps/ag-grid-22.1.0/ag-grid-dark.css\")], Dict{Any,Any}(\"requestedrows\" => Any[WebIO.JSString(\"(function (val){return WebIO.getval({\\\"name\\\":\\\"rowparams\\\",\\\"scope\\\":\\\"12801209795802805070\\\",\\\"id\\\":\\\"ob_181\\\",\\\"type\\\":\\\"observable\\\"}).successCallback(val,null)})\")]), WebIO.ConnectionPool(Channel{Any}(sz_max:32,sz_curr:0), Set(WebIO.AbstractConnection[]), Base.GenericCondition{Base.AlwaysLockedST}(Base.InvasiveLinkedList{Task}(Task (runnable) @0x000000011e06f3d0, Task (runnable) @0x000000011e06f3d0), Base.AlwaysLockedST(1))), WebIO.JSString[WebIO.JSString(\"function () {\\n    var handler = ((function (RowNumberRenderer,agGrid){var gridOptions={\\\"onCellFocused\\\":(function (ev){var x={}; (ev.rowIndex!==undefined) ? (x[\\\"rowIndex\\\"]=(ev.rowIndex+1)) : undefined; (ev.colDef!==undefined) ? (x[\\\"column\\\"]=ev.colDef.headerName) : undefined; return WebIO.setval({\\\"name\\\":\\\"onCellFocused\\\",\\\"scope\\\":\\\"12801209795802805070\\\",\\\"id\\\":\\\"ob_179\\\",\\\"type\\\":\\\"observable\\\"},x)}),\\\"onCellValueChanged\\\":(function (){return }),\\\"rowModelType\\\":\\\"infinite\\\",\\\"onRowClicked\\\":(function (ev){var x={}; (ev.rowIndex!==undefined) ? (x[\\\"rowIndex\\\"]=(ev.rowIndex+1)) : undefined; (ev.colDef!==undefined) ? (x[\\\"column\\\"]=ev.colDef.headerName) : undefined; return WebIO.setval({\\\"name\\\":\\\"onRowClicked\\\",\\\"scope\\\":\\\"12801209795802805070\\\",\\\"id\\\":\\\"ob_178\\\",\\\"type\\\":\\\"observable\\\"},x)}),\\\"maxConcurrentDatasourceRequests\\\":1,\\\"columnDefs\\\":[{\\\"filter\\\":false,\\\"editable\\\":false,\\\"headerTooltip\\\":\\\"\\\",\\\"field\\\":\\\"__row__\\\",\\\"headerName\\\":\\\"Row\\\",\\\"sortable\\\":false,\\\"type\\\":\\\"numericColumn\\\",\\\"cellRenderer\\\":\\\"rowNumberRenderer\\\",\\\"resizable\\\":true},{\\\"filter\\\":false,\\\"editable\\\":false,\\\"headerTooltip\\\":\\\"Date\\\",\\\"field\\\":\\\"date\\\",\\\"headerName\\\":\\\"date\\\",\\\"sortable\\\":false,\\\"type\\\":null,\\\"resizable\\\":true},{\\\"filter\\\":false,\\\"editable\\\":false,\\\"headerTooltip\\\":\\\"String\\\",\\\"field\\\":\\\"state\\\",\\\"headerName\\\":\\\"state\\\",\\\"sortable\\\":false,\\\"type\\\":null,\\\"resizable\\\":true},{\\\"filter\\\":false,\\\"editable\\\":false,\\\"headerTooltip\\\":\\\"String\\\",\\\"field\\\":\\\"fips\\\",\\\"headerName\\\":\\\"fips\\\",\\\"sortable\\\":false,\\\"type\\\":null,\\\"resizable\\\":true},{\\\"filter\\\":false,\\\"editable\\\":false,\\\"headerTooltip\\\":\\\"Int64\\\",\\\"field\\\":\\\"cases\\\",\\\"headerName\\\":\\\"cases\\\",\\\"sortable\\\":false,\\\"type\\\":\\\"numericColumn\\\",\\\"resizable\\\":true},{\\\"filter\\\":false,\\\"editable\\\":false,\\\"headerTooltip\\\":\\\"Int64\\\",\\\"field\\\":\\\"deaths\\\",\\\"headerName\\\":\\\"deaths\\\",\\\"sortable\\\":false,\\\"type\\\":\\\"numericColumn\\\",\\\"resizable\\\":true},{\\\"filter\\\":false,\\\"editable\\\":false,\\\"headerTooltip\\\":\\\"Float64\\\",\\\"field\\\":\\\"casesMA\\\",\\\"headerName\\\":\\\"casesMA\\\",\\\"sortable\\\":false,\\\"type\\\":\\\"numericColumn\\\",\\\"resizable\\\":true},{\\\"filter\\\":false,\\\"editable\\\":false,\\\"headerTooltip\\\":\\\"Int64\\\",\\\"field\\\":\\\"casesIncrease\\\",\\\"headerName\\\":\\\"casesIncrease\\\",\\\"sortable\\\":false,\\\"type\\\":\\\"numericColumn\\\",\\\"resizable\\\":true},{\\\"filter\\\":false,\\\"editable\\\":false,\\\"headerTooltip\\\":\\\"Float64\\\",\\\"field\\\":\\\"casesIncreaseMA\\\",\\\"headerName\\\":\\\"casesIncreaseMA\\\",\\\"sortable\\\":false,\\\"type\\\":\\\"numericColumn\\\",\\\"resizable\\\":true},{\\\"filter\\\":false,\\\"editable\\\":false,\\\"headerTooltip\\\":\\\"Float64\\\",\\\"field\\\":\\\"pch_casesMA\\\",\\\"headerName\\\":\\\"pch_casesMA\\\",\\\"sortable\\\":false,\\\"type\\\":\\\"numericColumn\\\",\\\"resizable\\\":true},{\\\"filter\\\":false,\\\"editable\\\":false,\\\"headerTooltip\\\":\\\"Float64\\\",\\\"field\\\":\\\"pch_casesIncreaseMA\\\",\\\"headerName\\\":\\\"pch_casesIncreaseMA\\\",\\\"sortable\\\":false,\\\"type\\\":\\\"numericColumn\\\",\\\"resizable\\\":true},{\\\"filter\\\":false,\\\"editable\\\":false,\\\"headerTooltip\\\":\\\"Float64\\\",\\\"field\\\":\\\"deathsMA\\\",\\\"headerName\\\":\\\"deathsMA\\\",\\\"sortable\\\":false,\\\"type\\\":\\\"numericColumn\\\",\\\"resizable\\\":true},{\\\"filter\\\":false,\\\"editable\\\":false,\\\"headerTooltip\\\":\\\"Int64\\\",\\\"field\\\":\\\"deathsIncrease\\\",\\\"headerName\\\":\\\"deathsIncrease\\\",\\\"sortable\\\":false,\\\"type\\\":\\\"numericColumn\\\",\\\"resizable\\\":true},{\\\"filter\\\":false,\\\"editable\\\":false,\\\"headerTooltip\\\":\\\"Float64\\\",\\\"field\\\":\\\"deathsIncreaseMA\\\",\\\"headerName\\\":\\\"deathsIncreaseMA\\\",\\\"sortable\\\":false,\\\"type\\\":\\\"numericColumn\\\",\\\"resizable\\\":true},{\\\"filter\\\":false,\\\"editable\\\":false,\\\"headerTooltip\\\":\\\"Float64\\\",\\\"field\\\":\\\"pch_deathsMA\\\",\\\"headerName\\\":\\\"pch_deathsMA\\\",\\\"sortable\\\":false,\\\"type\\\":\\\"numericColumn\\\",\\\"resizable\\\":true},{\\\"filter\\\":false,\\\"editable\\\":false,\\\"headerTooltip\\\":\\\"Float64\\\",\\\"field\\\":\\\"pch_deathsIncreaseMA\\\",\\\"headerName\\\":\\\"pch_deathsIncreaseMA\\\",\\\"sortable\\\":false,\\\"type\\\":\\\"numericColumn\\\",\\\"resizable\\\":true},{\\\"filter\\\":false,\\\"editable\\\":false,\\\"headerTooltip\\\":\\\"Union{Missing, Int64}\\\",\\\"field\\\":\\\"population\\\",\\\"headerName\\\":\\\"population\\\",\\\"sortable\\\":false,\\\"type\\\":\\\"numericColumn\\\",\\\"resizable\\\":true}],\\\"cacheBlockSize\\\":1000,\\\"datasource\\\":{\\\"rowCount\\\":null,\\\"getRows\\\":(function (rowParams){return WebIO.setval({\\\"name\\\":\\\"rowparams\\\",\\\"scope\\\":\\\"12801209795802805070\\\",\\\"id\\\":\\\"ob_181\\\",\\\"type\\\":\\\"observable\\\"},rowParams)})},\\\"multiSortKey\\\":\\\"ctrl\\\",\\\"maxBlocksInCache\\\":100,\\\"onCellDoubleClicked\\\":(function (ev){var x={}; (ev.rowIndex!==undefined) ? (x[\\\"rowIndex\\\"]=(ev.rowIndex+1)) : undefined; (ev.colDef!==undefined) ? (x[\\\"column\\\"]=ev.colDef.headerName) : undefined; return WebIO.setval({\\\"name\\\":\\\"onCellDoubleClicked\\\",\\\"scope\\\":\\\"12801209795802805070\\\",\\\"id\\\":\\\"ob_177\\\",\\\"type\\\":\\\"observable\\\"},x)}),\\\"onCellKeyDown\\\":(function (ev){var x={}; (ev.rowIndex!==undefined) ? (x[\\\"rowIndex\\\"]=(ev.rowIndex+1)) : undefined; (ev.colDef!==undefined) ? (x[\\\"column\\\"]=ev.colDef.headerName) : undefined; return WebIO.setval({\\\"name\\\":\\\"onCellKeyDown\\\",\\\"scope\\\":\\\"12801209795802805070\\\",\\\"id\\\":\\\"ob_180\\\",\\\"type\\\":\\\"observable\\\"},x)}),\\\"onCellClicked\\\":(function (ev){var x={}; (ev.rowIndex!==undefined) ? (x[\\\"rowIndex\\\"]=(ev.rowIndex+1)) : undefined; (ev.colDef!==undefined) ? (x[\\\"column\\\"]=ev.colDef.headerName) : undefined; return WebIO.setval({\\\"name\\\":\\\"onCellClicked\\\",\\\"scope\\\":\\\"12801209795802805070\\\",\\\"id\\\":\\\"ob_176\\\",\\\"type\\\":\\\"observable\\\"},x)})}; var el=document.getElementById(\\\"grid-a1712cea\\\"); gridOptions.components={\\\"rowNumberRenderer\\\":RowNumberRenderer}; this.table=new agGrid.Grid(el,gridOptions); gridOptions.columnApi.autoSizeColumn(\\\"__row__\\\"); return gridOptions.columnApi.autoSizeColumns([\\\"date\\\",\\\"state\\\",\\\"fips\\\",\\\"cases\\\",\\\"deaths\\\",\\\"casesMA\\\",\\\"casesIncrease\\\",\\\"casesIncreaseMA\\\",\\\"pch_casesMA\\\",\\\"pch_casesIncreaseMA\\\",\\\"deathsMA\\\",\\\"deathsIncrease\\\",\\\"deathsIncreaseMA\\\",\\\"pch_deathsMA\\\",\\\"pch_deathsIncreaseMA\\\",\\\"population\\\"])}));\\n    (WebIO.importBlock({\\\"data\\\":[{\\\"name\\\":null,\\\"type\\\":\\\"js\\\",\\\"url\\\":\\\"/assetserver/8a878f8aac4fcc3aa0fe3544f3b6004cfb87e28d-rowNumberRenderer.js\\\"},{\\\"name\\\":null,\\\"type\\\":\\\"js\\\",\\\"url\\\":\\\"/assetserver/49affd7ae36d0aac75380aa149861ff1594bff9c-ag-grid.js\\\"},{\\\"name\\\":null,\\\"type\\\":\\\"css\\\",\\\"url\\\":\\\"/assetserver/44eec805f61ccdf030080bfd1a559f03509a0021-ag-grid.css\\\"},{\\\"name\\\":null,\\\"type\\\":\\\"css\\\",\\\"url\\\":\\\"/assetserver/e4213c8e832c90aaafe2b3164c0bbb5b67c7a305-ag-grid-light.css\\\"},{\\\"name\\\":null,\\\"type\\\":\\\"css\\\",\\\"url\\\":\\\"/assetserver/b082734171f365ccefe5d7b6015f8162af17e3a6-ag-grid-dark.css\\\"}],\\\"type\\\":\\\"async_block\\\"})).then((imports) => handler.apply(this, imports));\\n}\\n\")])"
      ]
     },
     "execution_count": 52,
     "metadata": {
      "application/vnd.webio.node+json": {
       "kernelId": "3229260e-45e1-405c-811b-0c4817f5e87c"
      }
     },
     "output_type": "execute_result"
    }
   ],
   "source": [
    "@time dfs = get_nyt_state_covid_data()\n",
    "@tbl dfs"
   ]
  },
  {
   "cell_type": "code",
   "execution_count": 53,
   "metadata": {},
   "outputs": [
    {
     "data": {
      "text/plain": [
       "16-element Array{String,1}:\n",
       " \"date\"\n",
       " \"state\"\n",
       " \"fips\"\n",
       " \"cases\"\n",
       " \"deaths\"\n",
       " \"casesMA\"\n",
       " \"casesIncrease\"\n",
       " \"casesIncreaseMA\"\n",
       " \"pch_casesMA\"\n",
       " \"pch_casesIncreaseMA\"\n",
       " \"deathsMA\"\n",
       " \"deathsIncrease\"\n",
       " \"deathsIncreaseMA\"\n",
       " \"pch_deathsMA\"\n",
       " \"pch_deathsIncreaseMA\"\n",
       " \"population\""
      ]
     },
     "execution_count": 53,
     "metadata": {},
     "output_type": "execute_result"
    }
   ],
   "source": [
    "names(dfs)"
   ]
  },
  {
   "cell_type": "markdown",
   "metadata": {},
   "source": [
    "#### For a given $dfc$ select a $State$ and $County$ and optionally add $cols$, which should be symbols previously defined"
   ]
  },
  {
   "cell_type": "code",
   "execution_count": 54,
   "metadata": {},
   "outputs": [
    {
     "data": {
      "application/vnd.webio.node+json": {
       "children": [
        {
         "children": [
          {
           "children": [
            ""
           ],
           "instanceArgs": {
            "namespace": "html",
            "tag": "div"
           },
           "nodeType": "DOM",
           "props": {
            "style": {
             "background-color": "#F5F7F7",
             "color": "#1c1f20",
             "font-family": "-apple-system, BlinkMacSystemFont, \"Segoe UI\", Roboto, Oxygen-Sans, Ubuntu, Cantarell, \"Helvetica Neue\", sans-serif",
             "height": "0",
             "padding": "0"
            }
           },
           "type": "node"
          },
          {
           "children": [],
           "instanceArgs": {
            "namespace": "html",
            "tag": "div"
           },
           "nodeType": "DOM",
           "props": {
            "className": "ag-theme-balham",
            "id": "grid-a2ebc918",
            "style": {
             "height": "500px",
             "width": "100%"
            }
           },
           "type": "node"
          }
         ],
         "instanceArgs": {
          "namespace": "html",
          "tag": "div"
         },
         "nodeType": "DOM",
         "props": {},
         "type": "node"
        }
       ],
       "instanceArgs": {
        "handlers": {
         "requestedrows": [
          "(function (val){return WebIO.getval({\"name\":\"rowparams\",\"scope\":\"11144361479020266823\",\"id\":\"ob_188\",\"type\":\"observable\"}).successCallback(val,null)})"
         ]
        },
        "id": "11144361479020266823",
        "imports": {
         "data": [
          {
           "name": null,
           "type": "js",
           "url": "/assetserver/8a878f8aac4fcc3aa0fe3544f3b6004cfb87e28d-rowNumberRenderer.js"
          },
          {
           "name": null,
           "type": "js",
           "url": "/assetserver/49affd7ae36d0aac75380aa149861ff1594bff9c-ag-grid.js"
          },
          {
           "name": null,
           "type": "css",
           "url": "/assetserver/44eec805f61ccdf030080bfd1a559f03509a0021-ag-grid.css"
          },
          {
           "name": null,
           "type": "css",
           "url": "/assetserver/e4213c8e832c90aaafe2b3164c0bbb5b67c7a305-ag-grid-light.css"
          },
          {
           "name": null,
           "type": "css",
           "url": "/assetserver/b082734171f365ccefe5d7b6015f8162af17e3a6-ag-grid-dark.css"
          }
         ],
         "type": "async_block"
        },
        "mount_callbacks": [
         "function () {\n    var handler = ((function (RowNumberRenderer,agGrid){var gridOptions={\"onCellFocused\":(function (ev){var x={}; (ev.rowIndex!==undefined) ? (x[\"rowIndex\"]=(ev.rowIndex+1)) : undefined; (ev.colDef!==undefined) ? (x[\"column\"]=ev.colDef.headerName) : undefined; return WebIO.setval({\"name\":\"onCellFocused\",\"scope\":\"11144361479020266823\",\"id\":\"ob_186\",\"type\":\"observable\"},x)}),\"onCellValueChanged\":(function (){return }),\"rowModelType\":\"infinite\",\"onRowClicked\":(function (ev){var x={}; (ev.rowIndex!==undefined) ? (x[\"rowIndex\"]=(ev.rowIndex+1)) : undefined; (ev.colDef!==undefined) ? (x[\"column\"]=ev.colDef.headerName) : undefined; return WebIO.setval({\"name\":\"onRowClicked\",\"scope\":\"11144361479020266823\",\"id\":\"ob_185\",\"type\":\"observable\"},x)}),\"maxConcurrentDatasourceRequests\":1,\"columnDefs\":[{\"filter\":false,\"editable\":false,\"headerTooltip\":\"\",\"field\":\"__row__\",\"headerName\":\"Row\",\"sortable\":false,\"type\":\"numericColumn\",\"cellRenderer\":\"rowNumberRenderer\",\"resizable\":true},{\"filter\":false,\"editable\":false,\"headerTooltip\":\"Date\",\"field\":\"date\",\"headerName\":\"date\",\"sortable\":false,\"type\":null,\"resizable\":true},{\"filter\":false,\"editable\":false,\"headerTooltip\":\"String\",\"field\":\"county\",\"headerName\":\"county\",\"sortable\":false,\"type\":null,\"resizable\":true},{\"filter\":false,\"editable\":false,\"headerTooltip\":\"String\",\"field\":\"state\",\"headerName\":\"state\",\"sortable\":false,\"type\":null,\"resizable\":true},{\"filter\":false,\"editable\":false,\"headerTooltip\":\"Union{Missing, String}\",\"field\":\"fips\",\"headerName\":\"fips\",\"sortable\":false,\"type\":null,\"resizable\":true},{\"filter\":false,\"editable\":false,\"headerTooltip\":\"Int64\",\"field\":\"cases\",\"headerName\":\"cases\",\"sortable\":false,\"type\":\"numericColumn\",\"resizable\":true},{\"filter\":false,\"editable\":false,\"headerTooltip\":\"Int64\",\"field\":\"deaths\",\"headerName\":\"deaths\",\"sortable\":false,\"type\":\"numericColumn\",\"resizable\":true},{\"filter\":false,\"editable\":false,\"headerTooltip\":\"Float64\",\"field\":\"casesMA\",\"headerName\":\"casesMA\",\"sortable\":false,\"type\":\"numericColumn\",\"resizable\":true},{\"filter\":false,\"editable\":false,\"headerTooltip\":\"Int64\",\"field\":\"casesIncrease\",\"headerName\":\"casesIncrease\",\"sortable\":false,\"type\":\"numericColumn\",\"resizable\":true},{\"filter\":false,\"editable\":false,\"headerTooltip\":\"Float64\",\"field\":\"casesIncreaseMA\",\"headerName\":\"casesIncreaseMA\",\"sortable\":false,\"type\":\"numericColumn\",\"resizable\":true},{\"filter\":false,\"editable\":false,\"headerTooltip\":\"Float64\",\"field\":\"pch_casesMA\",\"headerName\":\"pch_casesMA\",\"sortable\":false,\"type\":\"numericColumn\",\"resizable\":true},{\"filter\":false,\"editable\":false,\"headerTooltip\":\"Float64\",\"field\":\"pch_casesIncreaseMA\",\"headerName\":\"pch_casesIncreaseMA\",\"sortable\":false,\"type\":\"numericColumn\",\"resizable\":true},{\"filter\":false,\"editable\":false,\"headerTooltip\":\"Float64\",\"field\":\"deathsMA\",\"headerName\":\"deathsMA\",\"sortable\":false,\"type\":\"numericColumn\",\"resizable\":true},{\"filter\":false,\"editable\":false,\"headerTooltip\":\"Int64\",\"field\":\"deathsIncrease\",\"headerName\":\"deathsIncrease\",\"sortable\":false,\"type\":\"numericColumn\",\"resizable\":true},{\"filter\":false,\"editable\":false,\"headerTooltip\":\"Float64\",\"field\":\"deathsIncreaseMA\",\"headerName\":\"deathsIncreaseMA\",\"sortable\":false,\"type\":\"numericColumn\",\"resizable\":true},{\"filter\":false,\"editable\":false,\"headerTooltip\":\"Float64\",\"field\":\"pch_deathsMA\",\"headerName\":\"pch_deathsMA\",\"sortable\":false,\"type\":\"numericColumn\",\"resizable\":true},{\"filter\":false,\"editable\":false,\"headerTooltip\":\"Float64\",\"field\":\"pch_deathsIncreaseMA\",\"headerName\":\"pch_deathsIncreaseMA\",\"sortable\":false,\"type\":\"numericColumn\",\"resizable\":true},{\"filter\":false,\"editable\":false,\"headerTooltip\":\"Union{Missing, Int64}\",\"field\":\"population\",\"headerName\":\"population\",\"sortable\":false,\"type\":\"numericColumn\",\"resizable\":true}],\"cacheBlockSize\":1000,\"datasource\":{\"rowCount\":null,\"getRows\":(function (rowParams){return WebIO.setval({\"name\":\"rowparams\",\"scope\":\"11144361479020266823\",\"id\":\"ob_188\",\"type\":\"observable\"},rowParams)})},\"multiSortKey\":\"ctrl\",\"maxBlocksInCache\":100,\"onCellDoubleClicked\":(function (ev){var x={}; (ev.rowIndex!==undefined) ? (x[\"rowIndex\"]=(ev.rowIndex+1)) : undefined; (ev.colDef!==undefined) ? (x[\"column\"]=ev.colDef.headerName) : undefined; return WebIO.setval({\"name\":\"onCellDoubleClicked\",\"scope\":\"11144361479020266823\",\"id\":\"ob_184\",\"type\":\"observable\"},x)}),\"onCellKeyDown\":(function (ev){var x={}; (ev.rowIndex!==undefined) ? (x[\"rowIndex\"]=(ev.rowIndex+1)) : undefined; (ev.colDef!==undefined) ? (x[\"column\"]=ev.colDef.headerName) : undefined; return WebIO.setval({\"name\":\"onCellKeyDown\",\"scope\":\"11144361479020266823\",\"id\":\"ob_187\",\"type\":\"observable\"},x)}),\"onCellClicked\":(function (ev){var x={}; (ev.rowIndex!==undefined) ? (x[\"rowIndex\"]=(ev.rowIndex+1)) : undefined; (ev.colDef!==undefined) ? (x[\"column\"]=ev.colDef.headerName) : undefined; return WebIO.setval({\"name\":\"onCellClicked\",\"scope\":\"11144361479020266823\",\"id\":\"ob_183\",\"type\":\"observable\"},x)})}; var el=document.getElementById(\"grid-a2ebc918\"); gridOptions.components={\"rowNumberRenderer\":RowNumberRenderer}; this.table=new agGrid.Grid(el,gridOptions); gridOptions.columnApi.autoSizeColumn(\"__row__\"); return gridOptions.columnApi.autoSizeColumns([\"date\",\"county\",\"state\",\"fips\",\"cases\",\"deaths\",\"casesMA\",\"casesIncrease\",\"casesIncreaseMA\",\"pch_casesMA\",\"pch_casesIncreaseMA\",\"deathsMA\",\"deathsIncrease\",\"deathsIncreaseMA\",\"pch_deathsMA\",\"pch_deathsIncreaseMA\",\"population\"])}));\n    (WebIO.importBlock({\"data\":[{\"name\":null,\"type\":\"js\",\"url\":\"/assetserver/8a878f8aac4fcc3aa0fe3544f3b6004cfb87e28d-rowNumberRenderer.js\"},{\"name\":null,\"type\":\"js\",\"url\":\"/assetserver/49affd7ae36d0aac75380aa149861ff1594bff9c-ag-grid.js\"},{\"name\":null,\"type\":\"css\",\"url\":\"/assetserver/44eec805f61ccdf030080bfd1a559f03509a0021-ag-grid.css\"},{\"name\":null,\"type\":\"css\",\"url\":\"/assetserver/e4213c8e832c90aaafe2b3164c0bbb5b67c7a305-ag-grid-light.css\"},{\"name\":null,\"type\":\"css\",\"url\":\"/assetserver/b082734171f365ccefe5d7b6015f8162af17e3a6-ag-grid-dark.css\"}],\"type\":\"async_block\"})).then((imports) => handler.apply(this, imports));\n}\n"
        ],
        "observables": {
         "onCellClicked": {
          "id": "ob_183",
          "sync": false,
          "value": null
         },
         "onCellDoubleClicked": {
          "id": "ob_184",
          "sync": false,
          "value": null
         },
         "onCellFocused": {
          "id": "ob_186",
          "sync": false,
          "value": null
         },
         "onCellKeyDown": {
          "id": "ob_187",
          "sync": false,
          "value": null
         },
         "onRowClicked": {
          "id": "ob_185",
          "sync": false,
          "value": null
         },
         "requestedrows": {
          "id": "ob_189",
          "sync": false,
          "value": {}
         },
         "rowparams": {
          "id": "ob_188",
          "sync": true,
          "value": {
           "endRow": 100,
           "startRow": 1,
           "successCallback": "(function (v){return null})"
          }
         }
        },
        "systemjs_options": null
       },
       "nodeType": "Scope",
       "props": {},
       "type": "node"
      },
      "text/html": [
       "<div\n",
       "    class=\"webio-mountpoint\"\n",
       "    data-webio-mountpoint=\"5695280587565561693\"\n",
       ">\n",
       "    <script>\n",
       "    if (window.require && require.defined && require.defined(\"nbextensions/webio-jupyter-notebook\")) {\n",
       "        console.log(\"Jupyter WebIO extension detected, not mounting.\");\n",
       "    } else if (window.WebIO) {\n",
       "        WebIO.mount(\n",
       "            document.querySelector('[data-webio-mountpoint=\"5695280587565561693\"]'),\n",
       "            {\"props\":{},\"nodeType\":\"Scope\",\"type\":\"node\",\"instanceArgs\":{\"imports\":{\"data\":[{\"name\":null,\"type\":\"js\",\"url\":\"\\/assetserver\\/8a878f8aac4fcc3aa0fe3544f3b6004cfb87e28d-rowNumberRenderer.js\"},{\"name\":null,\"type\":\"js\",\"url\":\"\\/assetserver\\/49affd7ae36d0aac75380aa149861ff1594bff9c-ag-grid.js\"},{\"name\":null,\"type\":\"css\",\"url\":\"\\/assetserver\\/44eec805f61ccdf030080bfd1a559f03509a0021-ag-grid.css\"},{\"name\":null,\"type\":\"css\",\"url\":\"\\/assetserver\\/e4213c8e832c90aaafe2b3164c0bbb5b67c7a305-ag-grid-light.css\"},{\"name\":null,\"type\":\"css\",\"url\":\"\\/assetserver\\/b082734171f365ccefe5d7b6015f8162af17e3a6-ag-grid-dark.css\"}],\"type\":\"async_block\"},\"id\":\"11144361479020266823\",\"handlers\":{\"requestedrows\":[\"(function (val){return WebIO.getval({\\\"name\\\":\\\"rowparams\\\",\\\"scope\\\":\\\"11144361479020266823\\\",\\\"id\\\":\\\"ob_188\\\",\\\"type\\\":\\\"observable\\\"}).successCallback(val,null)})\"]},\"systemjs_options\":null,\"mount_callbacks\":[\"function () {\\n    var handler = ((function (RowNumberRenderer,agGrid){var gridOptions={\\\"onCellFocused\\\":(function (ev){var x={}; (ev.rowIndex!==undefined) ? (x[\\\"rowIndex\\\"]=(ev.rowIndex+1)) : undefined; (ev.colDef!==undefined) ? (x[\\\"column\\\"]=ev.colDef.headerName) : undefined; return WebIO.setval({\\\"name\\\":\\\"onCellFocused\\\",\\\"scope\\\":\\\"11144361479020266823\\\",\\\"id\\\":\\\"ob_186\\\",\\\"type\\\":\\\"observable\\\"},x)}),\\\"onCellValueChanged\\\":(function (){return }),\\\"rowModelType\\\":\\\"infinite\\\",\\\"onRowClicked\\\":(function (ev){var x={}; (ev.rowIndex!==undefined) ? (x[\\\"rowIndex\\\"]=(ev.rowIndex+1)) : undefined; (ev.colDef!==undefined) ? (x[\\\"column\\\"]=ev.colDef.headerName) : undefined; return WebIO.setval({\\\"name\\\":\\\"onRowClicked\\\",\\\"scope\\\":\\\"11144361479020266823\\\",\\\"id\\\":\\\"ob_185\\\",\\\"type\\\":\\\"observable\\\"},x)}),\\\"maxConcurrentDatasourceRequests\\\":1,\\\"columnDefs\\\":[{\\\"filter\\\":false,\\\"editable\\\":false,\\\"headerTooltip\\\":\\\"\\\",\\\"field\\\":\\\"__row__\\\",\\\"headerName\\\":\\\"Row\\\",\\\"sortable\\\":false,\\\"type\\\":\\\"numericColumn\\\",\\\"cellRenderer\\\":\\\"rowNumberRenderer\\\",\\\"resizable\\\":true},{\\\"filter\\\":false,\\\"editable\\\":false,\\\"headerTooltip\\\":\\\"Date\\\",\\\"field\\\":\\\"date\\\",\\\"headerName\\\":\\\"date\\\",\\\"sortable\\\":false,\\\"type\\\":null,\\\"resizable\\\":true},{\\\"filter\\\":false,\\\"editable\\\":false,\\\"headerTooltip\\\":\\\"String\\\",\\\"field\\\":\\\"county\\\",\\\"headerName\\\":\\\"county\\\",\\\"sortable\\\":false,\\\"type\\\":null,\\\"resizable\\\":true},{\\\"filter\\\":false,\\\"editable\\\":false,\\\"headerTooltip\\\":\\\"String\\\",\\\"field\\\":\\\"state\\\",\\\"headerName\\\":\\\"state\\\",\\\"sortable\\\":false,\\\"type\\\":null,\\\"resizable\\\":true},{\\\"filter\\\":false,\\\"editable\\\":false,\\\"headerTooltip\\\":\\\"Union{Missing, String}\\\",\\\"field\\\":\\\"fips\\\",\\\"headerName\\\":\\\"fips\\\",\\\"sortable\\\":false,\\\"type\\\":null,\\\"resizable\\\":true},{\\\"filter\\\":false,\\\"editable\\\":false,\\\"headerTooltip\\\":\\\"Int64\\\",\\\"field\\\":\\\"cases\\\",\\\"headerName\\\":\\\"cases\\\",\\\"sortable\\\":false,\\\"type\\\":\\\"numericColumn\\\",\\\"resizable\\\":true},{\\\"filter\\\":false,\\\"editable\\\":false,\\\"headerTooltip\\\":\\\"Int64\\\",\\\"field\\\":\\\"deaths\\\",\\\"headerName\\\":\\\"deaths\\\",\\\"sortable\\\":false,\\\"type\\\":\\\"numericColumn\\\",\\\"resizable\\\":true},{\\\"filter\\\":false,\\\"editable\\\":false,\\\"headerTooltip\\\":\\\"Float64\\\",\\\"field\\\":\\\"casesMA\\\",\\\"headerName\\\":\\\"casesMA\\\",\\\"sortable\\\":false,\\\"type\\\":\\\"numericColumn\\\",\\\"resizable\\\":true},{\\\"filter\\\":false,\\\"editable\\\":false,\\\"headerTooltip\\\":\\\"Int64\\\",\\\"field\\\":\\\"casesIncrease\\\",\\\"headerName\\\":\\\"casesIncrease\\\",\\\"sortable\\\":false,\\\"type\\\":\\\"numericColumn\\\",\\\"resizable\\\":true},{\\\"filter\\\":false,\\\"editable\\\":false,\\\"headerTooltip\\\":\\\"Float64\\\",\\\"field\\\":\\\"casesIncreaseMA\\\",\\\"headerName\\\":\\\"casesIncreaseMA\\\",\\\"sortable\\\":false,\\\"type\\\":\\\"numericColumn\\\",\\\"resizable\\\":true},{\\\"filter\\\":false,\\\"editable\\\":false,\\\"headerTooltip\\\":\\\"Float64\\\",\\\"field\\\":\\\"pch_casesMA\\\",\\\"headerName\\\":\\\"pch_casesMA\\\",\\\"sortable\\\":false,\\\"type\\\":\\\"numericColumn\\\",\\\"resizable\\\":true},{\\\"filter\\\":false,\\\"editable\\\":false,\\\"headerTooltip\\\":\\\"Float64\\\",\\\"field\\\":\\\"pch_casesIncreaseMA\\\",\\\"headerName\\\":\\\"pch_casesIncreaseMA\\\",\\\"sortable\\\":false,\\\"type\\\":\\\"numericColumn\\\",\\\"resizable\\\":true},{\\\"filter\\\":false,\\\"editable\\\":false,\\\"headerTooltip\\\":\\\"Float64\\\",\\\"field\\\":\\\"deathsMA\\\",\\\"headerName\\\":\\\"deathsMA\\\",\\\"sortable\\\":false,\\\"type\\\":\\\"numericColumn\\\",\\\"resizable\\\":true},{\\\"filter\\\":false,\\\"editable\\\":false,\\\"headerTooltip\\\":\\\"Int64\\\",\\\"field\\\":\\\"deathsIncrease\\\",\\\"headerName\\\":\\\"deathsIncrease\\\",\\\"sortable\\\":false,\\\"type\\\":\\\"numericColumn\\\",\\\"resizable\\\":true},{\\\"filter\\\":false,\\\"editable\\\":false,\\\"headerTooltip\\\":\\\"Float64\\\",\\\"field\\\":\\\"deathsIncreaseMA\\\",\\\"headerName\\\":\\\"deathsIncreaseMA\\\",\\\"sortable\\\":false,\\\"type\\\":\\\"numericColumn\\\",\\\"resizable\\\":true},{\\\"filter\\\":false,\\\"editable\\\":false,\\\"headerTooltip\\\":\\\"Float64\\\",\\\"field\\\":\\\"pch_deathsMA\\\",\\\"headerName\\\":\\\"pch_deathsMA\\\",\\\"sortable\\\":false,\\\"type\\\":\\\"numericColumn\\\",\\\"resizable\\\":true},{\\\"filter\\\":false,\\\"editable\\\":false,\\\"headerTooltip\\\":\\\"Float64\\\",\\\"field\\\":\\\"pch_deathsIncreaseMA\\\",\\\"headerName\\\":\\\"pch_deathsIncreaseMA\\\",\\\"sortable\\\":false,\\\"type\\\":\\\"numericColumn\\\",\\\"resizable\\\":true},{\\\"filter\\\":false,\\\"editable\\\":false,\\\"headerTooltip\\\":\\\"Union{Missing, Int64}\\\",\\\"field\\\":\\\"population\\\",\\\"headerName\\\":\\\"population\\\",\\\"sortable\\\":false,\\\"type\\\":\\\"numericColumn\\\",\\\"resizable\\\":true}],\\\"cacheBlockSize\\\":1000,\\\"datasource\\\":{\\\"rowCount\\\":null,\\\"getRows\\\":(function (rowParams){return WebIO.setval({\\\"name\\\":\\\"rowparams\\\",\\\"scope\\\":\\\"11144361479020266823\\\",\\\"id\\\":\\\"ob_188\\\",\\\"type\\\":\\\"observable\\\"},rowParams)})},\\\"multiSortKey\\\":\\\"ctrl\\\",\\\"maxBlocksInCache\\\":100,\\\"onCellDoubleClicked\\\":(function (ev){var x={}; (ev.rowIndex!==undefined) ? (x[\\\"rowIndex\\\"]=(ev.rowIndex+1)) : undefined; (ev.colDef!==undefined) ? (x[\\\"column\\\"]=ev.colDef.headerName) : undefined; return WebIO.setval({\\\"name\\\":\\\"onCellDoubleClicked\\\",\\\"scope\\\":\\\"11144361479020266823\\\",\\\"id\\\":\\\"ob_184\\\",\\\"type\\\":\\\"observable\\\"},x)}),\\\"onCellKeyDown\\\":(function (ev){var x={}; (ev.rowIndex!==undefined) ? (x[\\\"rowIndex\\\"]=(ev.rowIndex+1)) : undefined; (ev.colDef!==undefined) ? (x[\\\"column\\\"]=ev.colDef.headerName) : undefined; return WebIO.setval({\\\"name\\\":\\\"onCellKeyDown\\\",\\\"scope\\\":\\\"11144361479020266823\\\",\\\"id\\\":\\\"ob_187\\\",\\\"type\\\":\\\"observable\\\"},x)}),\\\"onCellClicked\\\":(function (ev){var x={}; (ev.rowIndex!==undefined) ? (x[\\\"rowIndex\\\"]=(ev.rowIndex+1)) : undefined; (ev.colDef!==undefined) ? (x[\\\"column\\\"]=ev.colDef.headerName) : undefined; return WebIO.setval({\\\"name\\\":\\\"onCellClicked\\\",\\\"scope\\\":\\\"11144361479020266823\\\",\\\"id\\\":\\\"ob_183\\\",\\\"type\\\":\\\"observable\\\"},x)})}; var el=document.getElementById(\\\"grid-a2ebc918\\\"); gridOptions.components={\\\"rowNumberRenderer\\\":RowNumberRenderer}; this.table=new agGrid.Grid(el,gridOptions); gridOptions.columnApi.autoSizeColumn(\\\"__row__\\\"); return gridOptions.columnApi.autoSizeColumns([\\\"date\\\",\\\"county\\\",\\\"state\\\",\\\"fips\\\",\\\"cases\\\",\\\"deaths\\\",\\\"casesMA\\\",\\\"casesIncrease\\\",\\\"casesIncreaseMA\\\",\\\"pch_casesMA\\\",\\\"pch_casesIncreaseMA\\\",\\\"deathsMA\\\",\\\"deathsIncrease\\\",\\\"deathsIncreaseMA\\\",\\\"pch_deathsMA\\\",\\\"pch_deathsIncreaseMA\\\",\\\"population\\\"])}));\\n    (WebIO.importBlock({\\\"data\\\":[{\\\"name\\\":null,\\\"type\\\":\\\"js\\\",\\\"url\\\":\\\"\\/assetserver\\/8a878f8aac4fcc3aa0fe3544f3b6004cfb87e28d-rowNumberRenderer.js\\\"},{\\\"name\\\":null,\\\"type\\\":\\\"js\\\",\\\"url\\\":\\\"\\/assetserver\\/49affd7ae36d0aac75380aa149861ff1594bff9c-ag-grid.js\\\"},{\\\"name\\\":null,\\\"type\\\":\\\"css\\\",\\\"url\\\":\\\"\\/assetserver\\/44eec805f61ccdf030080bfd1a559f03509a0021-ag-grid.css\\\"},{\\\"name\\\":null,\\\"type\\\":\\\"css\\\",\\\"url\\\":\\\"\\/assetserver\\/e4213c8e832c90aaafe2b3164c0bbb5b67c7a305-ag-grid-light.css\\\"},{\\\"name\\\":null,\\\"type\\\":\\\"css\\\",\\\"url\\\":\\\"\\/assetserver\\/b082734171f365ccefe5d7b6015f8162af17e3a6-ag-grid-dark.css\\\"}],\\\"type\\\":\\\"async_block\\\"})).then((imports) => handler.apply(this, imports));\\n}\\n\"],\"observables\":{\"onCellKeyDown\":{\"sync\":false,\"id\":\"ob_187\",\"value\":null},\"onRowClicked\":{\"sync\":false,\"id\":\"ob_185\",\"value\":null},\"onCellDoubleClicked\":{\"sync\":false,\"id\":\"ob_184\",\"value\":null},\"requestedrows\":{\"sync\":false,\"id\":\"ob_189\",\"value\":{}},\"onCellClicked\":{\"sync\":false,\"id\":\"ob_183\",\"value\":null},\"onCellFocused\":{\"sync\":false,\"id\":\"ob_186\",\"value\":null},\"rowparams\":{\"sync\":true,\"id\":\"ob_188\",\"value\":{\"successCallback\":\"(function (v){return null})\",\"startRow\":1,\"endRow\":100}}}},\"children\":[{\"props\":{},\"nodeType\":\"DOM\",\"type\":\"node\",\"instanceArgs\":{\"namespace\":\"html\",\"tag\":\"div\"},\"children\":[{\"props\":{\"style\":{\"height\":\"0\",\"padding\":\"0\",\"background-color\":\"#F5F7F7\",\"color\":\"#1c1f20\",\"font-family\":\"-apple-system, BlinkMacSystemFont, \\\"Segoe UI\\\", Roboto, Oxygen-Sans, Ubuntu, Cantarell, \\\"Helvetica Neue\\\", sans-serif\"}},\"nodeType\":\"DOM\",\"type\":\"node\",\"instanceArgs\":{\"namespace\":\"html\",\"tag\":\"div\"},\"children\":[\"\"]},{\"props\":{\"id\":\"grid-a2ebc918\",\"className\":\"ag-theme-balham\",\"style\":{\"height\":\"500px\",\"width\":\"100%\"}},\"nodeType\":\"DOM\",\"type\":\"node\",\"instanceArgs\":{\"namespace\":\"html\",\"tag\":\"div\"},\"children\":[]}]}]},\n",
       "            window,\n",
       "        );\n",
       "    } else {\n",
       "        document\n",
       "            .querySelector('[data-webio-mountpoint=\"5695280587565561693\"]')\n",
       "            .innerHTML = (\n",
       "                '<div style=\"padding: 1em; background-color: #f8d6da; border: 1px solid #f5c6cb\">' +\n",
       "                '<p><strong>WebIO not detected.</strong></p>' +\n",
       "                '<p>Please read ' +\n",
       "                '<a href=\"https://juliagizmos.github.io/WebIO.jl/latest/troubleshooting/not-detected/\" target=\"_blank\">the troubleshooting guide</a> ' +\n",
       "                'for more information on how to resolve this issue.</p>' +\n",
       "                '<p><a href=\"https://juliagizmos.github.io/WebIO.jl/latest/troubleshooting/not-detected/\" target=\"_blank\">https://juliagizmos.github.io/WebIO.jl/latest/troubleshooting/not-detected/</a></p>' +\n",
       "                '</div>'\n",
       "            );\n",
       "    }\n",
       "    </script>\n",
       "</div>\n"
      ],
      "text/plain": [
       "WebIO.Scope(WebIO.Node{WebIO.DOM}(WebIO.DOM(:html, :div), Any[WebIO.Node{WebIO.DOM}(WebIO.DOM(:html, :div), Any[\"\"], Dict{Symbol,Any}(:style => Dict(\"height\" => \"0\",\"padding\" => \"0\",\"background-color\" => \"#F5F7F7\",\"color\" => \"#1c1f20\",\"font-family\" => \"-apple-system, BlinkMacSystemFont, \\\"Segoe UI\\\", Roboto, Oxygen-Sans, Ubuntu, Cantarell, \\\"Helvetica Neue\\\", sans-serif\"))), WebIO.Node{WebIO.DOM}(WebIO.DOM(:html, :div), Any[], Dict{Symbol,Any}(:id => \"grid-a2ebc918\",:className => \"ag-theme-balham\",:style => Dict(\"height\" => \"500px\",\"width\" => \"100%\")))], Dict{Symbol,Any}()), Dict{String,Tuple{Observables.AbstractObservable,Union{Nothing, Bool}}}(\"onCellKeyDown\" => (Observable{Any} with 0 listeners. Value:\n",
       "nothing, nothing),\"onRowClicked\" => (Observable{Any} with 0 listeners. Value:\n",
       "nothing, nothing),\"onCellDoubleClicked\" => (Observable{Any} with 0 listeners. Value:\n",
       "nothing, nothing),\"requestedrows\" => (Observable{JSON.Writer.JSONText} with 1 listeners. Value:\n",
       "JSON.Writer.JSONText(\"{}\"), nothing),\"onCellClicked\" => (Observable{Any} with 0 listeners. Value:\n",
       "nothing, nothing),\"onCellFocused\" => (Observable{Any} with 0 listeners. Value:\n",
       "nothing, nothing),\"rowparams\" => (Observable{Dict{String,Any}} with 1 listeners. Value:\n",
       "Dict{String,Any}(\"successCallback\" => WebIO.JSString(\"(function (v){return null})\"),\"startRow\" => 1,\"endRow\" => 100), nothing)), Set(String[]), nothing, WebIO.Asset[WebIO.Asset(\"js\", nothing, \"/Users/cdaniels/.julia/packages/TableView/CxWLO/src/rowNumberRenderer.js\"), WebIO.Asset(\"js\", nothing, \"/Users/cdaniels/.julia/packages/TableView/CxWLO/deps/ag-grid-22.1.0/ag-grid.js\"), WebIO.Asset(\"css\", nothing, \"/Users/cdaniels/.julia/packages/TableView/CxWLO/deps/ag-grid-22.1.0/ag-grid.css\"), WebIO.Asset(\"css\", nothing, \"/Users/cdaniels/.julia/packages/TableView/CxWLO/deps/ag-grid-22.1.0/ag-grid-light.css\"), WebIO.Asset(\"css\", nothing, \"/Users/cdaniels/.julia/packages/TableView/CxWLO/deps/ag-grid-22.1.0/ag-grid-dark.css\")], Dict{Any,Any}(\"requestedrows\" => Any[WebIO.JSString(\"(function (val){return WebIO.getval({\\\"name\\\":\\\"rowparams\\\",\\\"scope\\\":\\\"11144361479020266823\\\",\\\"id\\\":\\\"ob_188\\\",\\\"type\\\":\\\"observable\\\"}).successCallback(val,null)})\")]), WebIO.ConnectionPool(Channel{Any}(sz_max:32,sz_curr:0), Set(WebIO.AbstractConnection[]), Base.GenericCondition{Base.AlwaysLockedST}(Base.InvasiveLinkedList{Task}(Task (runnable) @0x000000011f2d9d50, Task (runnable) @0x000000011f2d9d50), Base.AlwaysLockedST(1))), WebIO.JSString[WebIO.JSString(\"function () {\\n    var handler = ((function (RowNumberRenderer,agGrid){var gridOptions={\\\"onCellFocused\\\":(function (ev){var x={}; (ev.rowIndex!==undefined) ? (x[\\\"rowIndex\\\"]=(ev.rowIndex+1)) : undefined; (ev.colDef!==undefined) ? (x[\\\"column\\\"]=ev.colDef.headerName) : undefined; return WebIO.setval({\\\"name\\\":\\\"onCellFocused\\\",\\\"scope\\\":\\\"11144361479020266823\\\",\\\"id\\\":\\\"ob_186\\\",\\\"type\\\":\\\"observable\\\"},x)}),\\\"onCellValueChanged\\\":(function (){return }),\\\"rowModelType\\\":\\\"infinite\\\",\\\"onRowClicked\\\":(function (ev){var x={}; (ev.rowIndex!==undefined) ? (x[\\\"rowIndex\\\"]=(ev.rowIndex+1)) : undefined; (ev.colDef!==undefined) ? (x[\\\"column\\\"]=ev.colDef.headerName) : undefined; return WebIO.setval({\\\"name\\\":\\\"onRowClicked\\\",\\\"scope\\\":\\\"11144361479020266823\\\",\\\"id\\\":\\\"ob_185\\\",\\\"type\\\":\\\"observable\\\"},x)}),\\\"maxConcurrentDatasourceRequests\\\":1,\\\"columnDefs\\\":[{\\\"filter\\\":false,\\\"editable\\\":false,\\\"headerTooltip\\\":\\\"\\\",\\\"field\\\":\\\"__row__\\\",\\\"headerName\\\":\\\"Row\\\",\\\"sortable\\\":false,\\\"type\\\":\\\"numericColumn\\\",\\\"cellRenderer\\\":\\\"rowNumberRenderer\\\",\\\"resizable\\\":true},{\\\"filter\\\":false,\\\"editable\\\":false,\\\"headerTooltip\\\":\\\"Date\\\",\\\"field\\\":\\\"date\\\",\\\"headerName\\\":\\\"date\\\",\\\"sortable\\\":false,\\\"type\\\":null,\\\"resizable\\\":true},{\\\"filter\\\":false,\\\"editable\\\":false,\\\"headerTooltip\\\":\\\"String\\\",\\\"field\\\":\\\"county\\\",\\\"headerName\\\":\\\"county\\\",\\\"sortable\\\":false,\\\"type\\\":null,\\\"resizable\\\":true},{\\\"filter\\\":false,\\\"editable\\\":false,\\\"headerTooltip\\\":\\\"String\\\",\\\"field\\\":\\\"state\\\",\\\"headerName\\\":\\\"state\\\",\\\"sortable\\\":false,\\\"type\\\":null,\\\"resizable\\\":true},{\\\"filter\\\":false,\\\"editable\\\":false,\\\"headerTooltip\\\":\\\"Union{Missing, String}\\\",\\\"field\\\":\\\"fips\\\",\\\"headerName\\\":\\\"fips\\\",\\\"sortable\\\":false,\\\"type\\\":null,\\\"resizable\\\":true},{\\\"filter\\\":false,\\\"editable\\\":false,\\\"headerTooltip\\\":\\\"Int64\\\",\\\"field\\\":\\\"cases\\\",\\\"headerName\\\":\\\"cases\\\",\\\"sortable\\\":false,\\\"type\\\":\\\"numericColumn\\\",\\\"resizable\\\":true},{\\\"filter\\\":false,\\\"editable\\\":false,\\\"headerTooltip\\\":\\\"Int64\\\",\\\"field\\\":\\\"deaths\\\",\\\"headerName\\\":\\\"deaths\\\",\\\"sortable\\\":false,\\\"type\\\":\\\"numericColumn\\\",\\\"resizable\\\":true},{\\\"filter\\\":false,\\\"editable\\\":false,\\\"headerTooltip\\\":\\\"Float64\\\",\\\"field\\\":\\\"casesMA\\\",\\\"headerName\\\":\\\"casesMA\\\",\\\"sortable\\\":false,\\\"type\\\":\\\"numericColumn\\\",\\\"resizable\\\":true},{\\\"filter\\\":false,\\\"editable\\\":false,\\\"headerTooltip\\\":\\\"Int64\\\",\\\"field\\\":\\\"casesIncrease\\\",\\\"headerName\\\":\\\"casesIncrease\\\",\\\"sortable\\\":false,\\\"type\\\":\\\"numericColumn\\\",\\\"resizable\\\":true},{\\\"filter\\\":false,\\\"editable\\\":false,\\\"headerTooltip\\\":\\\"Float64\\\",\\\"field\\\":\\\"casesIncreaseMA\\\",\\\"headerName\\\":\\\"casesIncreaseMA\\\",\\\"sortable\\\":false,\\\"type\\\":\\\"numericColumn\\\",\\\"resizable\\\":true},{\\\"filter\\\":false,\\\"editable\\\":false,\\\"headerTooltip\\\":\\\"Float64\\\",\\\"field\\\":\\\"pch_casesMA\\\",\\\"headerName\\\":\\\"pch_casesMA\\\",\\\"sortable\\\":false,\\\"type\\\":\\\"numericColumn\\\",\\\"resizable\\\":true},{\\\"filter\\\":false,\\\"editable\\\":false,\\\"headerTooltip\\\":\\\"Float64\\\",\\\"field\\\":\\\"pch_casesIncreaseMA\\\",\\\"headerName\\\":\\\"pch_casesIncreaseMA\\\",\\\"sortable\\\":false,\\\"type\\\":\\\"numericColumn\\\",\\\"resizable\\\":true},{\\\"filter\\\":false,\\\"editable\\\":false,\\\"headerTooltip\\\":\\\"Float64\\\",\\\"field\\\":\\\"deathsMA\\\",\\\"headerName\\\":\\\"deathsMA\\\",\\\"sortable\\\":false,\\\"type\\\":\\\"numericColumn\\\",\\\"resizable\\\":true},{\\\"filter\\\":false,\\\"editable\\\":false,\\\"headerTooltip\\\":\\\"Int64\\\",\\\"field\\\":\\\"deathsIncrease\\\",\\\"headerName\\\":\\\"deathsIncrease\\\",\\\"sortable\\\":false,\\\"type\\\":\\\"numericColumn\\\",\\\"resizable\\\":true},{\\\"filter\\\":false,\\\"editable\\\":false,\\\"headerTooltip\\\":\\\"Float64\\\",\\\"field\\\":\\\"deathsIncreaseMA\\\",\\\"headerName\\\":\\\"deathsIncreaseMA\\\",\\\"sortable\\\":false,\\\"type\\\":\\\"numericColumn\\\",\\\"resizable\\\":true},{\\\"filter\\\":false,\\\"editable\\\":false,\\\"headerTooltip\\\":\\\"Float64\\\",\\\"field\\\":\\\"pch_deathsMA\\\",\\\"headerName\\\":\\\"pch_deathsMA\\\",\\\"sortable\\\":false,\\\"type\\\":\\\"numericColumn\\\",\\\"resizable\\\":true},{\\\"filter\\\":false,\\\"editable\\\":false,\\\"headerTooltip\\\":\\\"Float64\\\",\\\"field\\\":\\\"pch_deathsIncreaseMA\\\",\\\"headerName\\\":\\\"pch_deathsIncreaseMA\\\",\\\"sortable\\\":false,\\\"type\\\":\\\"numericColumn\\\",\\\"resizable\\\":true},{\\\"filter\\\":false,\\\"editable\\\":false,\\\"headerTooltip\\\":\\\"Union{Missing, Int64}\\\",\\\"field\\\":\\\"population\\\",\\\"headerName\\\":\\\"population\\\",\\\"sortable\\\":false,\\\"type\\\":\\\"numericColumn\\\",\\\"resizable\\\":true}],\\\"cacheBlockSize\\\":1000,\\\"datasource\\\":{\\\"rowCount\\\":null,\\\"getRows\\\":(function (rowParams){return WebIO.setval({\\\"name\\\":\\\"rowparams\\\",\\\"scope\\\":\\\"11144361479020266823\\\",\\\"id\\\":\\\"ob_188\\\",\\\"type\\\":\\\"observable\\\"},rowParams)})},\\\"multiSortKey\\\":\\\"ctrl\\\",\\\"maxBlocksInCache\\\":100,\\\"onCellDoubleClicked\\\":(function (ev){var x={}; (ev.rowIndex!==undefined) ? (x[\\\"rowIndex\\\"]=(ev.rowIndex+1)) : undefined; (ev.colDef!==undefined) ? (x[\\\"column\\\"]=ev.colDef.headerName) : undefined; return WebIO.setval({\\\"name\\\":\\\"onCellDoubleClicked\\\",\\\"scope\\\":\\\"11144361479020266823\\\",\\\"id\\\":\\\"ob_184\\\",\\\"type\\\":\\\"observable\\\"},x)}),\\\"onCellKeyDown\\\":(function (ev){var x={}; (ev.rowIndex!==undefined) ? (x[\\\"rowIndex\\\"]=(ev.rowIndex+1)) : undefined; (ev.colDef!==undefined) ? (x[\\\"column\\\"]=ev.colDef.headerName) : undefined; return WebIO.setval({\\\"name\\\":\\\"onCellKeyDown\\\",\\\"scope\\\":\\\"11144361479020266823\\\",\\\"id\\\":\\\"ob_187\\\",\\\"type\\\":\\\"observable\\\"},x)}),\\\"onCellClicked\\\":(function (ev){var x={}; (ev.rowIndex!==undefined) ? (x[\\\"rowIndex\\\"]=(ev.rowIndex+1)) : undefined; (ev.colDef!==undefined) ? (x[\\\"column\\\"]=ev.colDef.headerName) : undefined; return WebIO.setval({\\\"name\\\":\\\"onCellClicked\\\",\\\"scope\\\":\\\"11144361479020266823\\\",\\\"id\\\":\\\"ob_183\\\",\\\"type\\\":\\\"observable\\\"},x)})}; var el=document.getElementById(\\\"grid-a2ebc918\\\"); gridOptions.components={\\\"rowNumberRenderer\\\":RowNumberRenderer}; this.table=new agGrid.Grid(el,gridOptions); gridOptions.columnApi.autoSizeColumn(\\\"__row__\\\"); return gridOptions.columnApi.autoSizeColumns([\\\"date\\\",\\\"county\\\",\\\"state\\\",\\\"fips\\\",\\\"cases\\\",\\\"deaths\\\",\\\"casesMA\\\",\\\"casesIncrease\\\",\\\"casesIncreaseMA\\\",\\\"pch_casesMA\\\",\\\"pch_casesIncreaseMA\\\",\\\"deathsMA\\\",\\\"deathsIncrease\\\",\\\"deathsIncreaseMA\\\",\\\"pch_deathsMA\\\",\\\"pch_deathsIncreaseMA\\\",\\\"population\\\"])}));\\n    (WebIO.importBlock({\\\"data\\\":[{\\\"name\\\":null,\\\"type\\\":\\\"js\\\",\\\"url\\\":\\\"/assetserver/8a878f8aac4fcc3aa0fe3544f3b6004cfb87e28d-rowNumberRenderer.js\\\"},{\\\"name\\\":null,\\\"type\\\":\\\"js\\\",\\\"url\\\":\\\"/assetserver/49affd7ae36d0aac75380aa149861ff1594bff9c-ag-grid.js\\\"},{\\\"name\\\":null,\\\"type\\\":\\\"css\\\",\\\"url\\\":\\\"/assetserver/44eec805f61ccdf030080bfd1a559f03509a0021-ag-grid.css\\\"},{\\\"name\\\":null,\\\"type\\\":\\\"css\\\",\\\"url\\\":\\\"/assetserver/e4213c8e832c90aaafe2b3164c0bbb5b67c7a305-ag-grid-light.css\\\"},{\\\"name\\\":null,\\\"type\\\":\\\"css\\\",\\\"url\\\":\\\"/assetserver/b082734171f365ccefe5d7b6015f8162af17e3a6-ag-grid-dark.css\\\"}],\\\"type\\\":\\\"async_block\\\"})).then((imports) => handler.apply(this, imports));\\n}\\n\")])"
      ]
     },
     "execution_count": 54,
     "metadata": {
      "application/vnd.webio.node+json": {
       "kernelId": "3229260e-45e1-405c-811b-0c4817f5e87c"
      }
     },
     "output_type": "execute_result"
    }
   ],
   "source": [
    "@tbl select_region(dfc,\"Illinois\")"
   ]
  },
  {
   "cell_type": "code",
   "execution_count": 55,
   "metadata": {
    "scrolled": false
   },
   "outputs": [
    {
     "data": {
      "application/vnd.webio.node+json": {
       "children": [
        {
         "children": [
          {
           "children": [
            ""
           ],
           "instanceArgs": {
            "namespace": "html",
            "tag": "div"
           },
           "nodeType": "DOM",
           "props": {
            "style": {
             "background-color": "#F5F7F7",
             "color": "#1c1f20",
             "font-family": "-apple-system, BlinkMacSystemFont, \"Segoe UI\", Roboto, Oxygen-Sans, Ubuntu, Cantarell, \"Helvetica Neue\", sans-serif",
             "height": "0",
             "padding": "0"
            }
           },
           "type": "node"
          },
          {
           "children": [],
           "instanceArgs": {
            "namespace": "html",
            "tag": "div"
           },
           "nodeType": "DOM",
           "props": {
            "className": "ag-theme-balham",
            "id": "grid-a31fedc2",
            "style": {
             "height": "500px",
             "width": "100%"
            }
           },
           "type": "node"
          }
         ],
         "instanceArgs": {
          "namespace": "html",
          "tag": "div"
         },
         "nodeType": "DOM",
         "props": {},
         "type": "node"
        }
       ],
       "instanceArgs": {
        "handlers": {
         "requestedrows": [
          "(function (val){return WebIO.getval({\"name\":\"rowparams\",\"scope\":\"7241060194114948126\",\"id\":\"ob_195\",\"type\":\"observable\"}).successCallback(val,null)})"
         ]
        },
        "id": "7241060194114948126",
        "imports": {
         "data": [
          {
           "name": null,
           "type": "js",
           "url": "/assetserver/8a878f8aac4fcc3aa0fe3544f3b6004cfb87e28d-rowNumberRenderer.js"
          },
          {
           "name": null,
           "type": "js",
           "url": "/assetserver/49affd7ae36d0aac75380aa149861ff1594bff9c-ag-grid.js"
          },
          {
           "name": null,
           "type": "css",
           "url": "/assetserver/44eec805f61ccdf030080bfd1a559f03509a0021-ag-grid.css"
          },
          {
           "name": null,
           "type": "css",
           "url": "/assetserver/e4213c8e832c90aaafe2b3164c0bbb5b67c7a305-ag-grid-light.css"
          },
          {
           "name": null,
           "type": "css",
           "url": "/assetserver/b082734171f365ccefe5d7b6015f8162af17e3a6-ag-grid-dark.css"
          }
         ],
         "type": "async_block"
        },
        "mount_callbacks": [
         "function () {\n    var handler = ((function (RowNumberRenderer,agGrid){var gridOptions={\"onCellFocused\":(function (ev){var x={}; (ev.rowIndex!==undefined) ? (x[\"rowIndex\"]=(ev.rowIndex+1)) : undefined; (ev.colDef!==undefined) ? (x[\"column\"]=ev.colDef.headerName) : undefined; return WebIO.setval({\"name\":\"onCellFocused\",\"scope\":\"7241060194114948126\",\"id\":\"ob_193\",\"type\":\"observable\"},x)}),\"onCellValueChanged\":(function (){return }),\"rowModelType\":\"infinite\",\"onRowClicked\":(function (ev){var x={}; (ev.rowIndex!==undefined) ? (x[\"rowIndex\"]=(ev.rowIndex+1)) : undefined; (ev.colDef!==undefined) ? (x[\"column\"]=ev.colDef.headerName) : undefined; return WebIO.setval({\"name\":\"onRowClicked\",\"scope\":\"7241060194114948126\",\"id\":\"ob_192\",\"type\":\"observable\"},x)}),\"maxConcurrentDatasourceRequests\":1,\"columnDefs\":[{\"filter\":false,\"editable\":false,\"headerTooltip\":\"\",\"field\":\"__row__\",\"headerName\":\"Row\",\"sortable\":false,\"type\":\"numericColumn\",\"cellRenderer\":\"rowNumberRenderer\",\"resizable\":true},{\"filter\":false,\"editable\":false,\"headerTooltip\":\"Date\",\"field\":\"date\",\"headerName\":\"date\",\"sortable\":false,\"type\":null,\"resizable\":true},{\"filter\":false,\"editable\":false,\"headerTooltip\":\"String\",\"field\":\"county\",\"headerName\":\"county\",\"sortable\":false,\"type\":null,\"resizable\":true},{\"filter\":false,\"editable\":false,\"headerTooltip\":\"String\",\"field\":\"state\",\"headerName\":\"state\",\"sortable\":false,\"type\":null,\"resizable\":true},{\"filter\":false,\"editable\":false,\"headerTooltip\":\"Union{Missing, String}\",\"field\":\"fips\",\"headerName\":\"fips\",\"sortable\":false,\"type\":null,\"resizable\":true},{\"filter\":false,\"editable\":false,\"headerTooltip\":\"Int64\",\"field\":\"cases\",\"headerName\":\"cases\",\"sortable\":false,\"type\":\"numericColumn\",\"resizable\":true},{\"filter\":false,\"editable\":false,\"headerTooltip\":\"Int64\",\"field\":\"deaths\",\"headerName\":\"deaths\",\"sortable\":false,\"type\":\"numericColumn\",\"resizable\":true},{\"filter\":false,\"editable\":false,\"headerTooltip\":\"Float64\",\"field\":\"casesMA\",\"headerName\":\"casesMA\",\"sortable\":false,\"type\":\"numericColumn\",\"resizable\":true},{\"filter\":false,\"editable\":false,\"headerTooltip\":\"Int64\",\"field\":\"casesIncrease\",\"headerName\":\"casesIncrease\",\"sortable\":false,\"type\":\"numericColumn\",\"resizable\":true},{\"filter\":false,\"editable\":false,\"headerTooltip\":\"Float64\",\"field\":\"casesIncreaseMA\",\"headerName\":\"casesIncreaseMA\",\"sortable\":false,\"type\":\"numericColumn\",\"resizable\":true},{\"filter\":false,\"editable\":false,\"headerTooltip\":\"Float64\",\"field\":\"pch_casesMA\",\"headerName\":\"pch_casesMA\",\"sortable\":false,\"type\":\"numericColumn\",\"resizable\":true},{\"filter\":false,\"editable\":false,\"headerTooltip\":\"Float64\",\"field\":\"pch_casesIncreaseMA\",\"headerName\":\"pch_casesIncreaseMA\",\"sortable\":false,\"type\":\"numericColumn\",\"resizable\":true},{\"filter\":false,\"editable\":false,\"headerTooltip\":\"Float64\",\"field\":\"deathsMA\",\"headerName\":\"deathsMA\",\"sortable\":false,\"type\":\"numericColumn\",\"resizable\":true},{\"filter\":false,\"editable\":false,\"headerTooltip\":\"Int64\",\"field\":\"deathsIncrease\",\"headerName\":\"deathsIncrease\",\"sortable\":false,\"type\":\"numericColumn\",\"resizable\":true},{\"filter\":false,\"editable\":false,\"headerTooltip\":\"Float64\",\"field\":\"deathsIncreaseMA\",\"headerName\":\"deathsIncreaseMA\",\"sortable\":false,\"type\":\"numericColumn\",\"resizable\":true},{\"filter\":false,\"editable\":false,\"headerTooltip\":\"Float64\",\"field\":\"pch_deathsMA\",\"headerName\":\"pch_deathsMA\",\"sortable\":false,\"type\":\"numericColumn\",\"resizable\":true},{\"filter\":false,\"editable\":false,\"headerTooltip\":\"Float64\",\"field\":\"pch_deathsIncreaseMA\",\"headerName\":\"pch_deathsIncreaseMA\",\"sortable\":false,\"type\":\"numericColumn\",\"resizable\":true},{\"filter\":false,\"editable\":false,\"headerTooltip\":\"Union{Missing, Int64}\",\"field\":\"population\",\"headerName\":\"population\",\"sortable\":false,\"type\":\"numericColumn\",\"resizable\":true}],\"cacheBlockSize\":1000,\"datasource\":{\"rowCount\":null,\"getRows\":(function (rowParams){return WebIO.setval({\"name\":\"rowparams\",\"scope\":\"7241060194114948126\",\"id\":\"ob_195\",\"type\":\"observable\"},rowParams)})},\"multiSortKey\":\"ctrl\",\"maxBlocksInCache\":100,\"onCellDoubleClicked\":(function (ev){var x={}; (ev.rowIndex!==undefined) ? (x[\"rowIndex\"]=(ev.rowIndex+1)) : undefined; (ev.colDef!==undefined) ? (x[\"column\"]=ev.colDef.headerName) : undefined; return WebIO.setval({\"name\":\"onCellDoubleClicked\",\"scope\":\"7241060194114948126\",\"id\":\"ob_191\",\"type\":\"observable\"},x)}),\"onCellKeyDown\":(function (ev){var x={}; (ev.rowIndex!==undefined) ? (x[\"rowIndex\"]=(ev.rowIndex+1)) : undefined; (ev.colDef!==undefined) ? (x[\"column\"]=ev.colDef.headerName) : undefined; return WebIO.setval({\"name\":\"onCellKeyDown\",\"scope\":\"7241060194114948126\",\"id\":\"ob_194\",\"type\":\"observable\"},x)}),\"onCellClicked\":(function (ev){var x={}; (ev.rowIndex!==undefined) ? (x[\"rowIndex\"]=(ev.rowIndex+1)) : undefined; (ev.colDef!==undefined) ? (x[\"column\"]=ev.colDef.headerName) : undefined; return WebIO.setval({\"name\":\"onCellClicked\",\"scope\":\"7241060194114948126\",\"id\":\"ob_190\",\"type\":\"observable\"},x)})}; var el=document.getElementById(\"grid-a31fedc2\"); gridOptions.components={\"rowNumberRenderer\":RowNumberRenderer}; this.table=new agGrid.Grid(el,gridOptions); gridOptions.columnApi.autoSizeColumn(\"__row__\"); return gridOptions.columnApi.autoSizeColumns([\"date\",\"county\",\"state\",\"fips\",\"cases\",\"deaths\",\"casesMA\",\"casesIncrease\",\"casesIncreaseMA\",\"pch_casesMA\",\"pch_casesIncreaseMA\",\"deathsMA\",\"deathsIncrease\",\"deathsIncreaseMA\",\"pch_deathsMA\",\"pch_deathsIncreaseMA\",\"population\"])}));\n    (WebIO.importBlock({\"data\":[{\"name\":null,\"type\":\"js\",\"url\":\"/assetserver/8a878f8aac4fcc3aa0fe3544f3b6004cfb87e28d-rowNumberRenderer.js\"},{\"name\":null,\"type\":\"js\",\"url\":\"/assetserver/49affd7ae36d0aac75380aa149861ff1594bff9c-ag-grid.js\"},{\"name\":null,\"type\":\"css\",\"url\":\"/assetserver/44eec805f61ccdf030080bfd1a559f03509a0021-ag-grid.css\"},{\"name\":null,\"type\":\"css\",\"url\":\"/assetserver/e4213c8e832c90aaafe2b3164c0bbb5b67c7a305-ag-grid-light.css\"},{\"name\":null,\"type\":\"css\",\"url\":\"/assetserver/b082734171f365ccefe5d7b6015f8162af17e3a6-ag-grid-dark.css\"}],\"type\":\"async_block\"})).then((imports) => handler.apply(this, imports));\n}\n"
        ],
        "observables": {
         "onCellClicked": {
          "id": "ob_190",
          "sync": false,
          "value": null
         },
         "onCellDoubleClicked": {
          "id": "ob_191",
          "sync": false,
          "value": null
         },
         "onCellFocused": {
          "id": "ob_193",
          "sync": false,
          "value": null
         },
         "onCellKeyDown": {
          "id": "ob_194",
          "sync": false,
          "value": null
         },
         "onRowClicked": {
          "id": "ob_192",
          "sync": false,
          "value": null
         },
         "requestedrows": {
          "id": "ob_196",
          "sync": false,
          "value": {}
         },
         "rowparams": {
          "id": "ob_195",
          "sync": true,
          "value": {
           "endRow": 100,
           "startRow": 1,
           "successCallback": "(function (v){return null})"
          }
         }
        },
        "systemjs_options": null
       },
       "nodeType": "Scope",
       "props": {},
       "type": "node"
      },
      "text/html": [
       "<div\n",
       "    class=\"webio-mountpoint\"\n",
       "    data-webio-mountpoint=\"18160613233489639666\"\n",
       ">\n",
       "    <script>\n",
       "    if (window.require && require.defined && require.defined(\"nbextensions/webio-jupyter-notebook\")) {\n",
       "        console.log(\"Jupyter WebIO extension detected, not mounting.\");\n",
       "    } else if (window.WebIO) {\n",
       "        WebIO.mount(\n",
       "            document.querySelector('[data-webio-mountpoint=\"18160613233489639666\"]'),\n",
       "            {\"props\":{},\"nodeType\":\"Scope\",\"type\":\"node\",\"instanceArgs\":{\"imports\":{\"data\":[{\"name\":null,\"type\":\"js\",\"url\":\"\\/assetserver\\/8a878f8aac4fcc3aa0fe3544f3b6004cfb87e28d-rowNumberRenderer.js\"},{\"name\":null,\"type\":\"js\",\"url\":\"\\/assetserver\\/49affd7ae36d0aac75380aa149861ff1594bff9c-ag-grid.js\"},{\"name\":null,\"type\":\"css\",\"url\":\"\\/assetserver\\/44eec805f61ccdf030080bfd1a559f03509a0021-ag-grid.css\"},{\"name\":null,\"type\":\"css\",\"url\":\"\\/assetserver\\/e4213c8e832c90aaafe2b3164c0bbb5b67c7a305-ag-grid-light.css\"},{\"name\":null,\"type\":\"css\",\"url\":\"\\/assetserver\\/b082734171f365ccefe5d7b6015f8162af17e3a6-ag-grid-dark.css\"}],\"type\":\"async_block\"},\"id\":\"7241060194114948126\",\"handlers\":{\"requestedrows\":[\"(function (val){return WebIO.getval({\\\"name\\\":\\\"rowparams\\\",\\\"scope\\\":\\\"7241060194114948126\\\",\\\"id\\\":\\\"ob_195\\\",\\\"type\\\":\\\"observable\\\"}).successCallback(val,null)})\"]},\"systemjs_options\":null,\"mount_callbacks\":[\"function () {\\n    var handler = ((function (RowNumberRenderer,agGrid){var gridOptions={\\\"onCellFocused\\\":(function (ev){var x={}; (ev.rowIndex!==undefined) ? (x[\\\"rowIndex\\\"]=(ev.rowIndex+1)) : undefined; (ev.colDef!==undefined) ? (x[\\\"column\\\"]=ev.colDef.headerName) : undefined; return WebIO.setval({\\\"name\\\":\\\"onCellFocused\\\",\\\"scope\\\":\\\"7241060194114948126\\\",\\\"id\\\":\\\"ob_193\\\",\\\"type\\\":\\\"observable\\\"},x)}),\\\"onCellValueChanged\\\":(function (){return }),\\\"rowModelType\\\":\\\"infinite\\\",\\\"onRowClicked\\\":(function (ev){var x={}; (ev.rowIndex!==undefined) ? (x[\\\"rowIndex\\\"]=(ev.rowIndex+1)) : undefined; (ev.colDef!==undefined) ? (x[\\\"column\\\"]=ev.colDef.headerName) : undefined; return WebIO.setval({\\\"name\\\":\\\"onRowClicked\\\",\\\"scope\\\":\\\"7241060194114948126\\\",\\\"id\\\":\\\"ob_192\\\",\\\"type\\\":\\\"observable\\\"},x)}),\\\"maxConcurrentDatasourceRequests\\\":1,\\\"columnDefs\\\":[{\\\"filter\\\":false,\\\"editable\\\":false,\\\"headerTooltip\\\":\\\"\\\",\\\"field\\\":\\\"__row__\\\",\\\"headerName\\\":\\\"Row\\\",\\\"sortable\\\":false,\\\"type\\\":\\\"numericColumn\\\",\\\"cellRenderer\\\":\\\"rowNumberRenderer\\\",\\\"resizable\\\":true},{\\\"filter\\\":false,\\\"editable\\\":false,\\\"headerTooltip\\\":\\\"Date\\\",\\\"field\\\":\\\"date\\\",\\\"headerName\\\":\\\"date\\\",\\\"sortable\\\":false,\\\"type\\\":null,\\\"resizable\\\":true},{\\\"filter\\\":false,\\\"editable\\\":false,\\\"headerTooltip\\\":\\\"String\\\",\\\"field\\\":\\\"county\\\",\\\"headerName\\\":\\\"county\\\",\\\"sortable\\\":false,\\\"type\\\":null,\\\"resizable\\\":true},{\\\"filter\\\":false,\\\"editable\\\":false,\\\"headerTooltip\\\":\\\"String\\\",\\\"field\\\":\\\"state\\\",\\\"headerName\\\":\\\"state\\\",\\\"sortable\\\":false,\\\"type\\\":null,\\\"resizable\\\":true},{\\\"filter\\\":false,\\\"editable\\\":false,\\\"headerTooltip\\\":\\\"Union{Missing, String}\\\",\\\"field\\\":\\\"fips\\\",\\\"headerName\\\":\\\"fips\\\",\\\"sortable\\\":false,\\\"type\\\":null,\\\"resizable\\\":true},{\\\"filter\\\":false,\\\"editable\\\":false,\\\"headerTooltip\\\":\\\"Int64\\\",\\\"field\\\":\\\"cases\\\",\\\"headerName\\\":\\\"cases\\\",\\\"sortable\\\":false,\\\"type\\\":\\\"numericColumn\\\",\\\"resizable\\\":true},{\\\"filter\\\":false,\\\"editable\\\":false,\\\"headerTooltip\\\":\\\"Int64\\\",\\\"field\\\":\\\"deaths\\\",\\\"headerName\\\":\\\"deaths\\\",\\\"sortable\\\":false,\\\"type\\\":\\\"numericColumn\\\",\\\"resizable\\\":true},{\\\"filter\\\":false,\\\"editable\\\":false,\\\"headerTooltip\\\":\\\"Float64\\\",\\\"field\\\":\\\"casesMA\\\",\\\"headerName\\\":\\\"casesMA\\\",\\\"sortable\\\":false,\\\"type\\\":\\\"numericColumn\\\",\\\"resizable\\\":true},{\\\"filter\\\":false,\\\"editable\\\":false,\\\"headerTooltip\\\":\\\"Int64\\\",\\\"field\\\":\\\"casesIncrease\\\",\\\"headerName\\\":\\\"casesIncrease\\\",\\\"sortable\\\":false,\\\"type\\\":\\\"numericColumn\\\",\\\"resizable\\\":true},{\\\"filter\\\":false,\\\"editable\\\":false,\\\"headerTooltip\\\":\\\"Float64\\\",\\\"field\\\":\\\"casesIncreaseMA\\\",\\\"headerName\\\":\\\"casesIncreaseMA\\\",\\\"sortable\\\":false,\\\"type\\\":\\\"numericColumn\\\",\\\"resizable\\\":true},{\\\"filter\\\":false,\\\"editable\\\":false,\\\"headerTooltip\\\":\\\"Float64\\\",\\\"field\\\":\\\"pch_casesMA\\\",\\\"headerName\\\":\\\"pch_casesMA\\\",\\\"sortable\\\":false,\\\"type\\\":\\\"numericColumn\\\",\\\"resizable\\\":true},{\\\"filter\\\":false,\\\"editable\\\":false,\\\"headerTooltip\\\":\\\"Float64\\\",\\\"field\\\":\\\"pch_casesIncreaseMA\\\",\\\"headerName\\\":\\\"pch_casesIncreaseMA\\\",\\\"sortable\\\":false,\\\"type\\\":\\\"numericColumn\\\",\\\"resizable\\\":true},{\\\"filter\\\":false,\\\"editable\\\":false,\\\"headerTooltip\\\":\\\"Float64\\\",\\\"field\\\":\\\"deathsMA\\\",\\\"headerName\\\":\\\"deathsMA\\\",\\\"sortable\\\":false,\\\"type\\\":\\\"numericColumn\\\",\\\"resizable\\\":true},{\\\"filter\\\":false,\\\"editable\\\":false,\\\"headerTooltip\\\":\\\"Int64\\\",\\\"field\\\":\\\"deathsIncrease\\\",\\\"headerName\\\":\\\"deathsIncrease\\\",\\\"sortable\\\":false,\\\"type\\\":\\\"numericColumn\\\",\\\"resizable\\\":true},{\\\"filter\\\":false,\\\"editable\\\":false,\\\"headerTooltip\\\":\\\"Float64\\\",\\\"field\\\":\\\"deathsIncreaseMA\\\",\\\"headerName\\\":\\\"deathsIncreaseMA\\\",\\\"sortable\\\":false,\\\"type\\\":\\\"numericColumn\\\",\\\"resizable\\\":true},{\\\"filter\\\":false,\\\"editable\\\":false,\\\"headerTooltip\\\":\\\"Float64\\\",\\\"field\\\":\\\"pch_deathsMA\\\",\\\"headerName\\\":\\\"pch_deathsMA\\\",\\\"sortable\\\":false,\\\"type\\\":\\\"numericColumn\\\",\\\"resizable\\\":true},{\\\"filter\\\":false,\\\"editable\\\":false,\\\"headerTooltip\\\":\\\"Float64\\\",\\\"field\\\":\\\"pch_deathsIncreaseMA\\\",\\\"headerName\\\":\\\"pch_deathsIncreaseMA\\\",\\\"sortable\\\":false,\\\"type\\\":\\\"numericColumn\\\",\\\"resizable\\\":true},{\\\"filter\\\":false,\\\"editable\\\":false,\\\"headerTooltip\\\":\\\"Union{Missing, Int64}\\\",\\\"field\\\":\\\"population\\\",\\\"headerName\\\":\\\"population\\\",\\\"sortable\\\":false,\\\"type\\\":\\\"numericColumn\\\",\\\"resizable\\\":true}],\\\"cacheBlockSize\\\":1000,\\\"datasource\\\":{\\\"rowCount\\\":null,\\\"getRows\\\":(function (rowParams){return WebIO.setval({\\\"name\\\":\\\"rowparams\\\",\\\"scope\\\":\\\"7241060194114948126\\\",\\\"id\\\":\\\"ob_195\\\",\\\"type\\\":\\\"observable\\\"},rowParams)})},\\\"multiSortKey\\\":\\\"ctrl\\\",\\\"maxBlocksInCache\\\":100,\\\"onCellDoubleClicked\\\":(function (ev){var x={}; (ev.rowIndex!==undefined) ? (x[\\\"rowIndex\\\"]=(ev.rowIndex+1)) : undefined; (ev.colDef!==undefined) ? (x[\\\"column\\\"]=ev.colDef.headerName) : undefined; return WebIO.setval({\\\"name\\\":\\\"onCellDoubleClicked\\\",\\\"scope\\\":\\\"7241060194114948126\\\",\\\"id\\\":\\\"ob_191\\\",\\\"type\\\":\\\"observable\\\"},x)}),\\\"onCellKeyDown\\\":(function (ev){var x={}; (ev.rowIndex!==undefined) ? (x[\\\"rowIndex\\\"]=(ev.rowIndex+1)) : undefined; (ev.colDef!==undefined) ? (x[\\\"column\\\"]=ev.colDef.headerName) : undefined; return WebIO.setval({\\\"name\\\":\\\"onCellKeyDown\\\",\\\"scope\\\":\\\"7241060194114948126\\\",\\\"id\\\":\\\"ob_194\\\",\\\"type\\\":\\\"observable\\\"},x)}),\\\"onCellClicked\\\":(function (ev){var x={}; (ev.rowIndex!==undefined) ? (x[\\\"rowIndex\\\"]=(ev.rowIndex+1)) : undefined; (ev.colDef!==undefined) ? (x[\\\"column\\\"]=ev.colDef.headerName) : undefined; return WebIO.setval({\\\"name\\\":\\\"onCellClicked\\\",\\\"scope\\\":\\\"7241060194114948126\\\",\\\"id\\\":\\\"ob_190\\\",\\\"type\\\":\\\"observable\\\"},x)})}; var el=document.getElementById(\\\"grid-a31fedc2\\\"); gridOptions.components={\\\"rowNumberRenderer\\\":RowNumberRenderer}; this.table=new agGrid.Grid(el,gridOptions); gridOptions.columnApi.autoSizeColumn(\\\"__row__\\\"); return gridOptions.columnApi.autoSizeColumns([\\\"date\\\",\\\"county\\\",\\\"state\\\",\\\"fips\\\",\\\"cases\\\",\\\"deaths\\\",\\\"casesMA\\\",\\\"casesIncrease\\\",\\\"casesIncreaseMA\\\",\\\"pch_casesMA\\\",\\\"pch_casesIncreaseMA\\\",\\\"deathsMA\\\",\\\"deathsIncrease\\\",\\\"deathsIncreaseMA\\\",\\\"pch_deathsMA\\\",\\\"pch_deathsIncreaseMA\\\",\\\"population\\\"])}));\\n    (WebIO.importBlock({\\\"data\\\":[{\\\"name\\\":null,\\\"type\\\":\\\"js\\\",\\\"url\\\":\\\"\\/assetserver\\/8a878f8aac4fcc3aa0fe3544f3b6004cfb87e28d-rowNumberRenderer.js\\\"},{\\\"name\\\":null,\\\"type\\\":\\\"js\\\",\\\"url\\\":\\\"\\/assetserver\\/49affd7ae36d0aac75380aa149861ff1594bff9c-ag-grid.js\\\"},{\\\"name\\\":null,\\\"type\\\":\\\"css\\\",\\\"url\\\":\\\"\\/assetserver\\/44eec805f61ccdf030080bfd1a559f03509a0021-ag-grid.css\\\"},{\\\"name\\\":null,\\\"type\\\":\\\"css\\\",\\\"url\\\":\\\"\\/assetserver\\/e4213c8e832c90aaafe2b3164c0bbb5b67c7a305-ag-grid-light.css\\\"},{\\\"name\\\":null,\\\"type\\\":\\\"css\\\",\\\"url\\\":\\\"\\/assetserver\\/b082734171f365ccefe5d7b6015f8162af17e3a6-ag-grid-dark.css\\\"}],\\\"type\\\":\\\"async_block\\\"})).then((imports) => handler.apply(this, imports));\\n}\\n\"],\"observables\":{\"onCellKeyDown\":{\"sync\":false,\"id\":\"ob_194\",\"value\":null},\"onRowClicked\":{\"sync\":false,\"id\":\"ob_192\",\"value\":null},\"onCellDoubleClicked\":{\"sync\":false,\"id\":\"ob_191\",\"value\":null},\"requestedrows\":{\"sync\":false,\"id\":\"ob_196\",\"value\":{}},\"onCellClicked\":{\"sync\":false,\"id\":\"ob_190\",\"value\":null},\"onCellFocused\":{\"sync\":false,\"id\":\"ob_193\",\"value\":null},\"rowparams\":{\"sync\":true,\"id\":\"ob_195\",\"value\":{\"successCallback\":\"(function (v){return null})\",\"startRow\":1,\"endRow\":100}}}},\"children\":[{\"props\":{},\"nodeType\":\"DOM\",\"type\":\"node\",\"instanceArgs\":{\"namespace\":\"html\",\"tag\":\"div\"},\"children\":[{\"props\":{\"style\":{\"height\":\"0\",\"padding\":\"0\",\"background-color\":\"#F5F7F7\",\"color\":\"#1c1f20\",\"font-family\":\"-apple-system, BlinkMacSystemFont, \\\"Segoe UI\\\", Roboto, Oxygen-Sans, Ubuntu, Cantarell, \\\"Helvetica Neue\\\", sans-serif\"}},\"nodeType\":\"DOM\",\"type\":\"node\",\"instanceArgs\":{\"namespace\":\"html\",\"tag\":\"div\"},\"children\":[\"\"]},{\"props\":{\"id\":\"grid-a31fedc2\",\"className\":\"ag-theme-balham\",\"style\":{\"height\":\"500px\",\"width\":\"100%\"}},\"nodeType\":\"DOM\",\"type\":\"node\",\"instanceArgs\":{\"namespace\":\"html\",\"tag\":\"div\"},\"children\":[]}]}]},\n",
       "            window,\n",
       "        );\n",
       "    } else {\n",
       "        document\n",
       "            .querySelector('[data-webio-mountpoint=\"18160613233489639666\"]')\n",
       "            .innerHTML = (\n",
       "                '<div style=\"padding: 1em; background-color: #f8d6da; border: 1px solid #f5c6cb\">' +\n",
       "                '<p><strong>WebIO not detected.</strong></p>' +\n",
       "                '<p>Please read ' +\n",
       "                '<a href=\"https://juliagizmos.github.io/WebIO.jl/latest/troubleshooting/not-detected/\" target=\"_blank\">the troubleshooting guide</a> ' +\n",
       "                'for more information on how to resolve this issue.</p>' +\n",
       "                '<p><a href=\"https://juliagizmos.github.io/WebIO.jl/latest/troubleshooting/not-detected/\" target=\"_blank\">https://juliagizmos.github.io/WebIO.jl/latest/troubleshooting/not-detected/</a></p>' +\n",
       "                '</div>'\n",
       "            );\n",
       "    }\n",
       "    </script>\n",
       "</div>\n"
      ],
      "text/plain": [
       "WebIO.Scope(WebIO.Node{WebIO.DOM}(WebIO.DOM(:html, :div), Any[WebIO.Node{WebIO.DOM}(WebIO.DOM(:html, :div), Any[\"\"], Dict{Symbol,Any}(:style => Dict(\"height\" => \"0\",\"padding\" => \"0\",\"background-color\" => \"#F5F7F7\",\"color\" => \"#1c1f20\",\"font-family\" => \"-apple-system, BlinkMacSystemFont, \\\"Segoe UI\\\", Roboto, Oxygen-Sans, Ubuntu, Cantarell, \\\"Helvetica Neue\\\", sans-serif\"))), WebIO.Node{WebIO.DOM}(WebIO.DOM(:html, :div), Any[], Dict{Symbol,Any}(:id => \"grid-a31fedc2\",:className => \"ag-theme-balham\",:style => Dict(\"height\" => \"500px\",\"width\" => \"100%\")))], Dict{Symbol,Any}()), Dict{String,Tuple{Observables.AbstractObservable,Union{Nothing, Bool}}}(\"onCellKeyDown\" => (Observable{Any} with 0 listeners. Value:\n",
       "nothing, nothing),\"onRowClicked\" => (Observable{Any} with 0 listeners. Value:\n",
       "nothing, nothing),\"onCellDoubleClicked\" => (Observable{Any} with 0 listeners. Value:\n",
       "nothing, nothing),\"requestedrows\" => (Observable{JSON.Writer.JSONText} with 1 listeners. Value:\n",
       "JSON.Writer.JSONText(\"{}\"), nothing),\"onCellClicked\" => (Observable{Any} with 0 listeners. Value:\n",
       "nothing, nothing),\"onCellFocused\" => (Observable{Any} with 0 listeners. Value:\n",
       "nothing, nothing),\"rowparams\" => (Observable{Dict{String,Any}} with 1 listeners. Value:\n",
       "Dict{String,Any}(\"successCallback\" => WebIO.JSString(\"(function (v){return null})\"),\"startRow\" => 1,\"endRow\" => 100), nothing)), Set(String[]), nothing, WebIO.Asset[WebIO.Asset(\"js\", nothing, \"/Users/cdaniels/.julia/packages/TableView/CxWLO/src/rowNumberRenderer.js\"), WebIO.Asset(\"js\", nothing, \"/Users/cdaniels/.julia/packages/TableView/CxWLO/deps/ag-grid-22.1.0/ag-grid.js\"), WebIO.Asset(\"css\", nothing, \"/Users/cdaniels/.julia/packages/TableView/CxWLO/deps/ag-grid-22.1.0/ag-grid.css\"), WebIO.Asset(\"css\", nothing, \"/Users/cdaniels/.julia/packages/TableView/CxWLO/deps/ag-grid-22.1.0/ag-grid-light.css\"), WebIO.Asset(\"css\", nothing, \"/Users/cdaniels/.julia/packages/TableView/CxWLO/deps/ag-grid-22.1.0/ag-grid-dark.css\")], Dict{Any,Any}(\"requestedrows\" => Any[WebIO.JSString(\"(function (val){return WebIO.getval({\\\"name\\\":\\\"rowparams\\\",\\\"scope\\\":\\\"7241060194114948126\\\",\\\"id\\\":\\\"ob_195\\\",\\\"type\\\":\\\"observable\\\"}).successCallback(val,null)})\")]), WebIO.ConnectionPool(Channel{Any}(sz_max:32,sz_curr:0), Set(WebIO.AbstractConnection[]), Base.GenericCondition{Base.AlwaysLockedST}(Base.InvasiveLinkedList{Task}(Task (runnable) @0x000000011d2f0910, Task (runnable) @0x000000011d2f0910), Base.AlwaysLockedST(1))), WebIO.JSString[WebIO.JSString(\"function () {\\n    var handler = ((function (RowNumberRenderer,agGrid){var gridOptions={\\\"onCellFocused\\\":(function (ev){var x={}; (ev.rowIndex!==undefined) ? (x[\\\"rowIndex\\\"]=(ev.rowIndex+1)) : undefined; (ev.colDef!==undefined) ? (x[\\\"column\\\"]=ev.colDef.headerName) : undefined; return WebIO.setval({\\\"name\\\":\\\"onCellFocused\\\",\\\"scope\\\":\\\"7241060194114948126\\\",\\\"id\\\":\\\"ob_193\\\",\\\"type\\\":\\\"observable\\\"},x)}),\\\"onCellValueChanged\\\":(function (){return }),\\\"rowModelType\\\":\\\"infinite\\\",\\\"onRowClicked\\\":(function (ev){var x={}; (ev.rowIndex!==undefined) ? (x[\\\"rowIndex\\\"]=(ev.rowIndex+1)) : undefined; (ev.colDef!==undefined) ? (x[\\\"column\\\"]=ev.colDef.headerName) : undefined; return WebIO.setval({\\\"name\\\":\\\"onRowClicked\\\",\\\"scope\\\":\\\"7241060194114948126\\\",\\\"id\\\":\\\"ob_192\\\",\\\"type\\\":\\\"observable\\\"},x)}),\\\"maxConcurrentDatasourceRequests\\\":1,\\\"columnDefs\\\":[{\\\"filter\\\":false,\\\"editable\\\":false,\\\"headerTooltip\\\":\\\"\\\",\\\"field\\\":\\\"__row__\\\",\\\"headerName\\\":\\\"Row\\\",\\\"sortable\\\":false,\\\"type\\\":\\\"numericColumn\\\",\\\"cellRenderer\\\":\\\"rowNumberRenderer\\\",\\\"resizable\\\":true},{\\\"filter\\\":false,\\\"editable\\\":false,\\\"headerTooltip\\\":\\\"Date\\\",\\\"field\\\":\\\"date\\\",\\\"headerName\\\":\\\"date\\\",\\\"sortable\\\":false,\\\"type\\\":null,\\\"resizable\\\":true},{\\\"filter\\\":false,\\\"editable\\\":false,\\\"headerTooltip\\\":\\\"String\\\",\\\"field\\\":\\\"county\\\",\\\"headerName\\\":\\\"county\\\",\\\"sortable\\\":false,\\\"type\\\":null,\\\"resizable\\\":true},{\\\"filter\\\":false,\\\"editable\\\":false,\\\"headerTooltip\\\":\\\"String\\\",\\\"field\\\":\\\"state\\\",\\\"headerName\\\":\\\"state\\\",\\\"sortable\\\":false,\\\"type\\\":null,\\\"resizable\\\":true},{\\\"filter\\\":false,\\\"editable\\\":false,\\\"headerTooltip\\\":\\\"Union{Missing, String}\\\",\\\"field\\\":\\\"fips\\\",\\\"headerName\\\":\\\"fips\\\",\\\"sortable\\\":false,\\\"type\\\":null,\\\"resizable\\\":true},{\\\"filter\\\":false,\\\"editable\\\":false,\\\"headerTooltip\\\":\\\"Int64\\\",\\\"field\\\":\\\"cases\\\",\\\"headerName\\\":\\\"cases\\\",\\\"sortable\\\":false,\\\"type\\\":\\\"numericColumn\\\",\\\"resizable\\\":true},{\\\"filter\\\":false,\\\"editable\\\":false,\\\"headerTooltip\\\":\\\"Int64\\\",\\\"field\\\":\\\"deaths\\\",\\\"headerName\\\":\\\"deaths\\\",\\\"sortable\\\":false,\\\"type\\\":\\\"numericColumn\\\",\\\"resizable\\\":true},{\\\"filter\\\":false,\\\"editable\\\":false,\\\"headerTooltip\\\":\\\"Float64\\\",\\\"field\\\":\\\"casesMA\\\",\\\"headerName\\\":\\\"casesMA\\\",\\\"sortable\\\":false,\\\"type\\\":\\\"numericColumn\\\",\\\"resizable\\\":true},{\\\"filter\\\":false,\\\"editable\\\":false,\\\"headerTooltip\\\":\\\"Int64\\\",\\\"field\\\":\\\"casesIncrease\\\",\\\"headerName\\\":\\\"casesIncrease\\\",\\\"sortable\\\":false,\\\"type\\\":\\\"numericColumn\\\",\\\"resizable\\\":true},{\\\"filter\\\":false,\\\"editable\\\":false,\\\"headerTooltip\\\":\\\"Float64\\\",\\\"field\\\":\\\"casesIncreaseMA\\\",\\\"headerName\\\":\\\"casesIncreaseMA\\\",\\\"sortable\\\":false,\\\"type\\\":\\\"numericColumn\\\",\\\"resizable\\\":true},{\\\"filter\\\":false,\\\"editable\\\":false,\\\"headerTooltip\\\":\\\"Float64\\\",\\\"field\\\":\\\"pch_casesMA\\\",\\\"headerName\\\":\\\"pch_casesMA\\\",\\\"sortable\\\":false,\\\"type\\\":\\\"numericColumn\\\",\\\"resizable\\\":true},{\\\"filter\\\":false,\\\"editable\\\":false,\\\"headerTooltip\\\":\\\"Float64\\\",\\\"field\\\":\\\"pch_casesIncreaseMA\\\",\\\"headerName\\\":\\\"pch_casesIncreaseMA\\\",\\\"sortable\\\":false,\\\"type\\\":\\\"numericColumn\\\",\\\"resizable\\\":true},{\\\"filter\\\":false,\\\"editable\\\":false,\\\"headerTooltip\\\":\\\"Float64\\\",\\\"field\\\":\\\"deathsMA\\\",\\\"headerName\\\":\\\"deathsMA\\\",\\\"sortable\\\":false,\\\"type\\\":\\\"numericColumn\\\",\\\"resizable\\\":true},{\\\"filter\\\":false,\\\"editable\\\":false,\\\"headerTooltip\\\":\\\"Int64\\\",\\\"field\\\":\\\"deathsIncrease\\\",\\\"headerName\\\":\\\"deathsIncrease\\\",\\\"sortable\\\":false,\\\"type\\\":\\\"numericColumn\\\",\\\"resizable\\\":true},{\\\"filter\\\":false,\\\"editable\\\":false,\\\"headerTooltip\\\":\\\"Float64\\\",\\\"field\\\":\\\"deathsIncreaseMA\\\",\\\"headerName\\\":\\\"deathsIncreaseMA\\\",\\\"sortable\\\":false,\\\"type\\\":\\\"numericColumn\\\",\\\"resizable\\\":true},{\\\"filter\\\":false,\\\"editable\\\":false,\\\"headerTooltip\\\":\\\"Float64\\\",\\\"field\\\":\\\"pch_deathsMA\\\",\\\"headerName\\\":\\\"pch_deathsMA\\\",\\\"sortable\\\":false,\\\"type\\\":\\\"numericColumn\\\",\\\"resizable\\\":true},{\\\"filter\\\":false,\\\"editable\\\":false,\\\"headerTooltip\\\":\\\"Float64\\\",\\\"field\\\":\\\"pch_deathsIncreaseMA\\\",\\\"headerName\\\":\\\"pch_deathsIncreaseMA\\\",\\\"sortable\\\":false,\\\"type\\\":\\\"numericColumn\\\",\\\"resizable\\\":true},{\\\"filter\\\":false,\\\"editable\\\":false,\\\"headerTooltip\\\":\\\"Union{Missing, Int64}\\\",\\\"field\\\":\\\"population\\\",\\\"headerName\\\":\\\"population\\\",\\\"sortable\\\":false,\\\"type\\\":\\\"numericColumn\\\",\\\"resizable\\\":true}],\\\"cacheBlockSize\\\":1000,\\\"datasource\\\":{\\\"rowCount\\\":null,\\\"getRows\\\":(function (rowParams){return WebIO.setval({\\\"name\\\":\\\"rowparams\\\",\\\"scope\\\":\\\"7241060194114948126\\\",\\\"id\\\":\\\"ob_195\\\",\\\"type\\\":\\\"observable\\\"},rowParams)})},\\\"multiSortKey\\\":\\\"ctrl\\\",\\\"maxBlocksInCache\\\":100,\\\"onCellDoubleClicked\\\":(function (ev){var x={}; (ev.rowIndex!==undefined) ? (x[\\\"rowIndex\\\"]=(ev.rowIndex+1)) : undefined; (ev.colDef!==undefined) ? (x[\\\"column\\\"]=ev.colDef.headerName) : undefined; return WebIO.setval({\\\"name\\\":\\\"onCellDoubleClicked\\\",\\\"scope\\\":\\\"7241060194114948126\\\",\\\"id\\\":\\\"ob_191\\\",\\\"type\\\":\\\"observable\\\"},x)}),\\\"onCellKeyDown\\\":(function (ev){var x={}; (ev.rowIndex!==undefined) ? (x[\\\"rowIndex\\\"]=(ev.rowIndex+1)) : undefined; (ev.colDef!==undefined) ? (x[\\\"column\\\"]=ev.colDef.headerName) : undefined; return WebIO.setval({\\\"name\\\":\\\"onCellKeyDown\\\",\\\"scope\\\":\\\"7241060194114948126\\\",\\\"id\\\":\\\"ob_194\\\",\\\"type\\\":\\\"observable\\\"},x)}),\\\"onCellClicked\\\":(function (ev){var x={}; (ev.rowIndex!==undefined) ? (x[\\\"rowIndex\\\"]=(ev.rowIndex+1)) : undefined; (ev.colDef!==undefined) ? (x[\\\"column\\\"]=ev.colDef.headerName) : undefined; return WebIO.setval({\\\"name\\\":\\\"onCellClicked\\\",\\\"scope\\\":\\\"7241060194114948126\\\",\\\"id\\\":\\\"ob_190\\\",\\\"type\\\":\\\"observable\\\"},x)})}; var el=document.getElementById(\\\"grid-a31fedc2\\\"); gridOptions.components={\\\"rowNumberRenderer\\\":RowNumberRenderer}; this.table=new agGrid.Grid(el,gridOptions); gridOptions.columnApi.autoSizeColumn(\\\"__row__\\\"); return gridOptions.columnApi.autoSizeColumns([\\\"date\\\",\\\"county\\\",\\\"state\\\",\\\"fips\\\",\\\"cases\\\",\\\"deaths\\\",\\\"casesMA\\\",\\\"casesIncrease\\\",\\\"casesIncreaseMA\\\",\\\"pch_casesMA\\\",\\\"pch_casesIncreaseMA\\\",\\\"deathsMA\\\",\\\"deathsIncrease\\\",\\\"deathsIncreaseMA\\\",\\\"pch_deathsMA\\\",\\\"pch_deathsIncreaseMA\\\",\\\"population\\\"])}));\\n    (WebIO.importBlock({\\\"data\\\":[{\\\"name\\\":null,\\\"type\\\":\\\"js\\\",\\\"url\\\":\\\"/assetserver/8a878f8aac4fcc3aa0fe3544f3b6004cfb87e28d-rowNumberRenderer.js\\\"},{\\\"name\\\":null,\\\"type\\\":\\\"js\\\",\\\"url\\\":\\\"/assetserver/49affd7ae36d0aac75380aa149861ff1594bff9c-ag-grid.js\\\"},{\\\"name\\\":null,\\\"type\\\":\\\"css\\\",\\\"url\\\":\\\"/assetserver/44eec805f61ccdf030080bfd1a559f03509a0021-ag-grid.css\\\"},{\\\"name\\\":null,\\\"type\\\":\\\"css\\\",\\\"url\\\":\\\"/assetserver/e4213c8e832c90aaafe2b3164c0bbb5b67c7a305-ag-grid-light.css\\\"},{\\\"name\\\":null,\\\"type\\\":\\\"css\\\",\\\"url\\\":\\\"/assetserver/b082734171f365ccefe5d7b6015f8162af17e3a6-ag-grid-dark.css\\\"}],\\\"type\\\":\\\"async_block\\\"})).then((imports) => handler.apply(this, imports));\\n}\\n\")])"
      ]
     },
     "execution_count": 55,
     "metadata": {
      "application/vnd.webio.node+json": {
       "kernelId": "3229260e-45e1-405c-811b-0c4817f5e87c"
      }
     },
     "output_type": "execute_result"
    }
   ],
   "source": [
    "@tbl select_region(dfc,\"Illinois\",\"Cook\")"
   ]
  },
  {
   "cell_type": "code",
   "execution_count": 56,
   "metadata": {
    "scrolled": true
   },
   "outputs": [
    {
     "data": {
      "application/vnd.webio.node+json": {
       "children": [
        {
         "children": [
          {
           "children": [
            ""
           ],
           "instanceArgs": {
            "namespace": "html",
            "tag": "div"
           },
           "nodeType": "DOM",
           "props": {
            "style": {
             "background-color": "#F5F7F7",
             "color": "#1c1f20",
             "font-family": "-apple-system, BlinkMacSystemFont, \"Segoe UI\", Roboto, Oxygen-Sans, Ubuntu, Cantarell, \"Helvetica Neue\", sans-serif",
             "height": "0",
             "padding": "0"
            }
           },
           "type": "node"
          },
          {
           "children": [],
           "instanceArgs": {
            "namespace": "html",
            "tag": "div"
           },
           "nodeType": "DOM",
           "props": {
            "className": "ag-theme-balham",
            "id": "grid-a3421ff2",
            "style": {
             "height": "500px",
             "width": "100%"
            }
           },
           "type": "node"
          }
         ],
         "instanceArgs": {
          "namespace": "html",
          "tag": "div"
         },
         "nodeType": "DOM",
         "props": {},
         "type": "node"
        }
       ],
       "instanceArgs": {
        "handlers": {
         "requestedrows": [
          "(function (val){return WebIO.getval({\"name\":\"rowparams\",\"scope\":\"10800614335600720337\",\"id\":\"ob_202\",\"type\":\"observable\"}).successCallback(val,null)})"
         ]
        },
        "id": "10800614335600720337",
        "imports": {
         "data": [
          {
           "name": null,
           "type": "js",
           "url": "/assetserver/8a878f8aac4fcc3aa0fe3544f3b6004cfb87e28d-rowNumberRenderer.js"
          },
          {
           "name": null,
           "type": "js",
           "url": "/assetserver/49affd7ae36d0aac75380aa149861ff1594bff9c-ag-grid.js"
          },
          {
           "name": null,
           "type": "css",
           "url": "/assetserver/44eec805f61ccdf030080bfd1a559f03509a0021-ag-grid.css"
          },
          {
           "name": null,
           "type": "css",
           "url": "/assetserver/e4213c8e832c90aaafe2b3164c0bbb5b67c7a305-ag-grid-light.css"
          },
          {
           "name": null,
           "type": "css",
           "url": "/assetserver/b082734171f365ccefe5d7b6015f8162af17e3a6-ag-grid-dark.css"
          }
         ],
         "type": "async_block"
        },
        "mount_callbacks": [
         "function () {\n    var handler = ((function (RowNumberRenderer,agGrid){var gridOptions={\"onCellFocused\":(function (ev){var x={}; (ev.rowIndex!==undefined) ? (x[\"rowIndex\"]=(ev.rowIndex+1)) : undefined; (ev.colDef!==undefined) ? (x[\"column\"]=ev.colDef.headerName) : undefined; return WebIO.setval({\"name\":\"onCellFocused\",\"scope\":\"10800614335600720337\",\"id\":\"ob_200\",\"type\":\"observable\"},x)}),\"onCellValueChanged\":(function (){return }),\"rowModelType\":\"infinite\",\"onRowClicked\":(function (ev){var x={}; (ev.rowIndex!==undefined) ? (x[\"rowIndex\"]=(ev.rowIndex+1)) : undefined; (ev.colDef!==undefined) ? (x[\"column\"]=ev.colDef.headerName) : undefined; return WebIO.setval({\"name\":\"onRowClicked\",\"scope\":\"10800614335600720337\",\"id\":\"ob_199\",\"type\":\"observable\"},x)}),\"maxConcurrentDatasourceRequests\":1,\"columnDefs\":[{\"filter\":false,\"editable\":false,\"headerTooltip\":\"\",\"field\":\"__row__\",\"headerName\":\"Row\",\"sortable\":false,\"type\":\"numericColumn\",\"cellRenderer\":\"rowNumberRenderer\",\"resizable\":true},{\"filter\":false,\"editable\":false,\"headerTooltip\":\"Date\",\"field\":\"date\",\"headerName\":\"date\",\"sortable\":false,\"type\":null,\"resizable\":true},{\"filter\":false,\"editable\":false,\"headerTooltip\":\"String\",\"field\":\"state\",\"headerName\":\"state\",\"sortable\":false,\"type\":null,\"resizable\":true},{\"filter\":false,\"editable\":false,\"headerTooltip\":\"Int64\",\"field\":\"casesIncrease\",\"headerName\":\"casesIncrease\",\"sortable\":false,\"type\":\"numericColumn\",\"resizable\":true},{\"filter\":false,\"editable\":false,\"headerTooltip\":\"Int64\",\"field\":\"deathsIncrease\",\"headerName\":\"deathsIncrease\",\"sortable\":false,\"type\":\"numericColumn\",\"resizable\":true}],\"cacheBlockSize\":1000,\"datasource\":{\"rowCount\":null,\"getRows\":(function (rowParams){return WebIO.setval({\"name\":\"rowparams\",\"scope\":\"10800614335600720337\",\"id\":\"ob_202\",\"type\":\"observable\"},rowParams)})},\"multiSortKey\":\"ctrl\",\"maxBlocksInCache\":100,\"onCellDoubleClicked\":(function (ev){var x={}; (ev.rowIndex!==undefined) ? (x[\"rowIndex\"]=(ev.rowIndex+1)) : undefined; (ev.colDef!==undefined) ? (x[\"column\"]=ev.colDef.headerName) : undefined; return WebIO.setval({\"name\":\"onCellDoubleClicked\",\"scope\":\"10800614335600720337\",\"id\":\"ob_198\",\"type\":\"observable\"},x)}),\"onCellKeyDown\":(function (ev){var x={}; (ev.rowIndex!==undefined) ? (x[\"rowIndex\"]=(ev.rowIndex+1)) : undefined; (ev.colDef!==undefined) ? (x[\"column\"]=ev.colDef.headerName) : undefined; return WebIO.setval({\"name\":\"onCellKeyDown\",\"scope\":\"10800614335600720337\",\"id\":\"ob_201\",\"type\":\"observable\"},x)}),\"onCellClicked\":(function (ev){var x={}; (ev.rowIndex!==undefined) ? (x[\"rowIndex\"]=(ev.rowIndex+1)) : undefined; (ev.colDef!==undefined) ? (x[\"column\"]=ev.colDef.headerName) : undefined; return WebIO.setval({\"name\":\"onCellClicked\",\"scope\":\"10800614335600720337\",\"id\":\"ob_197\",\"type\":\"observable\"},x)})}; var el=document.getElementById(\"grid-a3421ff2\"); gridOptions.components={\"rowNumberRenderer\":RowNumberRenderer}; this.table=new agGrid.Grid(el,gridOptions); gridOptions.columnApi.autoSizeColumn(\"__row__\"); return gridOptions.columnApi.autoSizeColumns([\"date\",\"state\",\"casesIncrease\",\"deathsIncrease\"])}));\n    (WebIO.importBlock({\"data\":[{\"name\":null,\"type\":\"js\",\"url\":\"/assetserver/8a878f8aac4fcc3aa0fe3544f3b6004cfb87e28d-rowNumberRenderer.js\"},{\"name\":null,\"type\":\"js\",\"url\":\"/assetserver/49affd7ae36d0aac75380aa149861ff1594bff9c-ag-grid.js\"},{\"name\":null,\"type\":\"css\",\"url\":\"/assetserver/44eec805f61ccdf030080bfd1a559f03509a0021-ag-grid.css\"},{\"name\":null,\"type\":\"css\",\"url\":\"/assetserver/e4213c8e832c90aaafe2b3164c0bbb5b67c7a305-ag-grid-light.css\"},{\"name\":null,\"type\":\"css\",\"url\":\"/assetserver/b082734171f365ccefe5d7b6015f8162af17e3a6-ag-grid-dark.css\"}],\"type\":\"async_block\"})).then((imports) => handler.apply(this, imports));\n}\n"
        ],
        "observables": {
         "onCellClicked": {
          "id": "ob_197",
          "sync": false,
          "value": null
         },
         "onCellDoubleClicked": {
          "id": "ob_198",
          "sync": false,
          "value": null
         },
         "onCellFocused": {
          "id": "ob_200",
          "sync": false,
          "value": null
         },
         "onCellKeyDown": {
          "id": "ob_201",
          "sync": false,
          "value": null
         },
         "onRowClicked": {
          "id": "ob_199",
          "sync": false,
          "value": null
         },
         "requestedrows": {
          "id": "ob_203",
          "sync": false,
          "value": {}
         },
         "rowparams": {
          "id": "ob_202",
          "sync": true,
          "value": {
           "endRow": 100,
           "startRow": 1,
           "successCallback": "(function (v){return null})"
          }
         }
        },
        "systemjs_options": null
       },
       "nodeType": "Scope",
       "props": {},
       "type": "node"
      },
      "text/html": [
       "<div\n",
       "    class=\"webio-mountpoint\"\n",
       "    data-webio-mountpoint=\"709507293531156965\"\n",
       ">\n",
       "    <script>\n",
       "    if (window.require && require.defined && require.defined(\"nbextensions/webio-jupyter-notebook\")) {\n",
       "        console.log(\"Jupyter WebIO extension detected, not mounting.\");\n",
       "    } else if (window.WebIO) {\n",
       "        WebIO.mount(\n",
       "            document.querySelector('[data-webio-mountpoint=\"709507293531156965\"]'),\n",
       "            {\"props\":{},\"nodeType\":\"Scope\",\"type\":\"node\",\"instanceArgs\":{\"imports\":{\"data\":[{\"name\":null,\"type\":\"js\",\"url\":\"\\/assetserver\\/8a878f8aac4fcc3aa0fe3544f3b6004cfb87e28d-rowNumberRenderer.js\"},{\"name\":null,\"type\":\"js\",\"url\":\"\\/assetserver\\/49affd7ae36d0aac75380aa149861ff1594bff9c-ag-grid.js\"},{\"name\":null,\"type\":\"css\",\"url\":\"\\/assetserver\\/44eec805f61ccdf030080bfd1a559f03509a0021-ag-grid.css\"},{\"name\":null,\"type\":\"css\",\"url\":\"\\/assetserver\\/e4213c8e832c90aaafe2b3164c0bbb5b67c7a305-ag-grid-light.css\"},{\"name\":null,\"type\":\"css\",\"url\":\"\\/assetserver\\/b082734171f365ccefe5d7b6015f8162af17e3a6-ag-grid-dark.css\"}],\"type\":\"async_block\"},\"id\":\"10800614335600720337\",\"handlers\":{\"requestedrows\":[\"(function (val){return WebIO.getval({\\\"name\\\":\\\"rowparams\\\",\\\"scope\\\":\\\"10800614335600720337\\\",\\\"id\\\":\\\"ob_202\\\",\\\"type\\\":\\\"observable\\\"}).successCallback(val,null)})\"]},\"systemjs_options\":null,\"mount_callbacks\":[\"function () {\\n    var handler = ((function (RowNumberRenderer,agGrid){var gridOptions={\\\"onCellFocused\\\":(function (ev){var x={}; (ev.rowIndex!==undefined) ? (x[\\\"rowIndex\\\"]=(ev.rowIndex+1)) : undefined; (ev.colDef!==undefined) ? (x[\\\"column\\\"]=ev.colDef.headerName) : undefined; return WebIO.setval({\\\"name\\\":\\\"onCellFocused\\\",\\\"scope\\\":\\\"10800614335600720337\\\",\\\"id\\\":\\\"ob_200\\\",\\\"type\\\":\\\"observable\\\"},x)}),\\\"onCellValueChanged\\\":(function (){return }),\\\"rowModelType\\\":\\\"infinite\\\",\\\"onRowClicked\\\":(function (ev){var x={}; (ev.rowIndex!==undefined) ? (x[\\\"rowIndex\\\"]=(ev.rowIndex+1)) : undefined; (ev.colDef!==undefined) ? (x[\\\"column\\\"]=ev.colDef.headerName) : undefined; return WebIO.setval({\\\"name\\\":\\\"onRowClicked\\\",\\\"scope\\\":\\\"10800614335600720337\\\",\\\"id\\\":\\\"ob_199\\\",\\\"type\\\":\\\"observable\\\"},x)}),\\\"maxConcurrentDatasourceRequests\\\":1,\\\"columnDefs\\\":[{\\\"filter\\\":false,\\\"editable\\\":false,\\\"headerTooltip\\\":\\\"\\\",\\\"field\\\":\\\"__row__\\\",\\\"headerName\\\":\\\"Row\\\",\\\"sortable\\\":false,\\\"type\\\":\\\"numericColumn\\\",\\\"cellRenderer\\\":\\\"rowNumberRenderer\\\",\\\"resizable\\\":true},{\\\"filter\\\":false,\\\"editable\\\":false,\\\"headerTooltip\\\":\\\"Date\\\",\\\"field\\\":\\\"date\\\",\\\"headerName\\\":\\\"date\\\",\\\"sortable\\\":false,\\\"type\\\":null,\\\"resizable\\\":true},{\\\"filter\\\":false,\\\"editable\\\":false,\\\"headerTooltip\\\":\\\"String\\\",\\\"field\\\":\\\"state\\\",\\\"headerName\\\":\\\"state\\\",\\\"sortable\\\":false,\\\"type\\\":null,\\\"resizable\\\":true},{\\\"filter\\\":false,\\\"editable\\\":false,\\\"headerTooltip\\\":\\\"Int64\\\",\\\"field\\\":\\\"casesIncrease\\\",\\\"headerName\\\":\\\"casesIncrease\\\",\\\"sortable\\\":false,\\\"type\\\":\\\"numericColumn\\\",\\\"resizable\\\":true},{\\\"filter\\\":false,\\\"editable\\\":false,\\\"headerTooltip\\\":\\\"Int64\\\",\\\"field\\\":\\\"deathsIncrease\\\",\\\"headerName\\\":\\\"deathsIncrease\\\",\\\"sortable\\\":false,\\\"type\\\":\\\"numericColumn\\\",\\\"resizable\\\":true}],\\\"cacheBlockSize\\\":1000,\\\"datasource\\\":{\\\"rowCount\\\":null,\\\"getRows\\\":(function (rowParams){return WebIO.setval({\\\"name\\\":\\\"rowparams\\\",\\\"scope\\\":\\\"10800614335600720337\\\",\\\"id\\\":\\\"ob_202\\\",\\\"type\\\":\\\"observable\\\"},rowParams)})},\\\"multiSortKey\\\":\\\"ctrl\\\",\\\"maxBlocksInCache\\\":100,\\\"onCellDoubleClicked\\\":(function (ev){var x={}; (ev.rowIndex!==undefined) ? (x[\\\"rowIndex\\\"]=(ev.rowIndex+1)) : undefined; (ev.colDef!==undefined) ? (x[\\\"column\\\"]=ev.colDef.headerName) : undefined; return WebIO.setval({\\\"name\\\":\\\"onCellDoubleClicked\\\",\\\"scope\\\":\\\"10800614335600720337\\\",\\\"id\\\":\\\"ob_198\\\",\\\"type\\\":\\\"observable\\\"},x)}),\\\"onCellKeyDown\\\":(function (ev){var x={}; (ev.rowIndex!==undefined) ? (x[\\\"rowIndex\\\"]=(ev.rowIndex+1)) : undefined; (ev.colDef!==undefined) ? (x[\\\"column\\\"]=ev.colDef.headerName) : undefined; return WebIO.setval({\\\"name\\\":\\\"onCellKeyDown\\\",\\\"scope\\\":\\\"10800614335600720337\\\",\\\"id\\\":\\\"ob_201\\\",\\\"type\\\":\\\"observable\\\"},x)}),\\\"onCellClicked\\\":(function (ev){var x={}; (ev.rowIndex!==undefined) ? (x[\\\"rowIndex\\\"]=(ev.rowIndex+1)) : undefined; (ev.colDef!==undefined) ? (x[\\\"column\\\"]=ev.colDef.headerName) : undefined; return WebIO.setval({\\\"name\\\":\\\"onCellClicked\\\",\\\"scope\\\":\\\"10800614335600720337\\\",\\\"id\\\":\\\"ob_197\\\",\\\"type\\\":\\\"observable\\\"},x)})}; var el=document.getElementById(\\\"grid-a3421ff2\\\"); gridOptions.components={\\\"rowNumberRenderer\\\":RowNumberRenderer}; this.table=new agGrid.Grid(el,gridOptions); gridOptions.columnApi.autoSizeColumn(\\\"__row__\\\"); return gridOptions.columnApi.autoSizeColumns([\\\"date\\\",\\\"state\\\",\\\"casesIncrease\\\",\\\"deathsIncrease\\\"])}));\\n    (WebIO.importBlock({\\\"data\\\":[{\\\"name\\\":null,\\\"type\\\":\\\"js\\\",\\\"url\\\":\\\"\\/assetserver\\/8a878f8aac4fcc3aa0fe3544f3b6004cfb87e28d-rowNumberRenderer.js\\\"},{\\\"name\\\":null,\\\"type\\\":\\\"js\\\",\\\"url\\\":\\\"\\/assetserver\\/49affd7ae36d0aac75380aa149861ff1594bff9c-ag-grid.js\\\"},{\\\"name\\\":null,\\\"type\\\":\\\"css\\\",\\\"url\\\":\\\"\\/assetserver\\/44eec805f61ccdf030080bfd1a559f03509a0021-ag-grid.css\\\"},{\\\"name\\\":null,\\\"type\\\":\\\"css\\\",\\\"url\\\":\\\"\\/assetserver\\/e4213c8e832c90aaafe2b3164c0bbb5b67c7a305-ag-grid-light.css\\\"},{\\\"name\\\":null,\\\"type\\\":\\\"css\\\",\\\"url\\\":\\\"\\/assetserver\\/b082734171f365ccefe5d7b6015f8162af17e3a6-ag-grid-dark.css\\\"}],\\\"type\\\":\\\"async_block\\\"})).then((imports) => handler.apply(this, imports));\\n}\\n\"],\"observables\":{\"onCellKeyDown\":{\"sync\":false,\"id\":\"ob_201\",\"value\":null},\"onRowClicked\":{\"sync\":false,\"id\":\"ob_199\",\"value\":null},\"onCellDoubleClicked\":{\"sync\":false,\"id\":\"ob_198\",\"value\":null},\"requestedrows\":{\"sync\":false,\"id\":\"ob_203\",\"value\":{}},\"onCellClicked\":{\"sync\":false,\"id\":\"ob_197\",\"value\":null},\"onCellFocused\":{\"sync\":false,\"id\":\"ob_200\",\"value\":null},\"rowparams\":{\"sync\":true,\"id\":\"ob_202\",\"value\":{\"successCallback\":\"(function (v){return null})\",\"startRow\":1,\"endRow\":100}}}},\"children\":[{\"props\":{},\"nodeType\":\"DOM\",\"type\":\"node\",\"instanceArgs\":{\"namespace\":\"html\",\"tag\":\"div\"},\"children\":[{\"props\":{\"style\":{\"height\":\"0\",\"padding\":\"0\",\"background-color\":\"#F5F7F7\",\"color\":\"#1c1f20\",\"font-family\":\"-apple-system, BlinkMacSystemFont, \\\"Segoe UI\\\", Roboto, Oxygen-Sans, Ubuntu, Cantarell, \\\"Helvetica Neue\\\", sans-serif\"}},\"nodeType\":\"DOM\",\"type\":\"node\",\"instanceArgs\":{\"namespace\":\"html\",\"tag\":\"div\"},\"children\":[\"\"]},{\"props\":{\"id\":\"grid-a3421ff2\",\"className\":\"ag-theme-balham\",\"style\":{\"height\":\"500px\",\"width\":\"100%\"}},\"nodeType\":\"DOM\",\"type\":\"node\",\"instanceArgs\":{\"namespace\":\"html\",\"tag\":\"div\"},\"children\":[]}]}]},\n",
       "            window,\n",
       "        );\n",
       "    } else {\n",
       "        document\n",
       "            .querySelector('[data-webio-mountpoint=\"709507293531156965\"]')\n",
       "            .innerHTML = (\n",
       "                '<div style=\"padding: 1em; background-color: #f8d6da; border: 1px solid #f5c6cb\">' +\n",
       "                '<p><strong>WebIO not detected.</strong></p>' +\n",
       "                '<p>Please read ' +\n",
       "                '<a href=\"https://juliagizmos.github.io/WebIO.jl/latest/troubleshooting/not-detected/\" target=\"_blank\">the troubleshooting guide</a> ' +\n",
       "                'for more information on how to resolve this issue.</p>' +\n",
       "                '<p><a href=\"https://juliagizmos.github.io/WebIO.jl/latest/troubleshooting/not-detected/\" target=\"_blank\">https://juliagizmos.github.io/WebIO.jl/latest/troubleshooting/not-detected/</a></p>' +\n",
       "                '</div>'\n",
       "            );\n",
       "    }\n",
       "    </script>\n",
       "</div>\n"
      ],
      "text/plain": [
       "WebIO.Scope(WebIO.Node{WebIO.DOM}(WebIO.DOM(:html, :div), Any[WebIO.Node{WebIO.DOM}(WebIO.DOM(:html, :div), Any[\"\"], Dict{Symbol,Any}(:style => Dict(\"height\" => \"0\",\"padding\" => \"0\",\"background-color\" => \"#F5F7F7\",\"color\" => \"#1c1f20\",\"font-family\" => \"-apple-system, BlinkMacSystemFont, \\\"Segoe UI\\\", Roboto, Oxygen-Sans, Ubuntu, Cantarell, \\\"Helvetica Neue\\\", sans-serif\"))), WebIO.Node{WebIO.DOM}(WebIO.DOM(:html, :div), Any[], Dict{Symbol,Any}(:id => \"grid-a3421ff2\",:className => \"ag-theme-balham\",:style => Dict(\"height\" => \"500px\",\"width\" => \"100%\")))], Dict{Symbol,Any}()), Dict{String,Tuple{Observables.AbstractObservable,Union{Nothing, Bool}}}(\"onCellKeyDown\" => (Observable{Any} with 0 listeners. Value:\n",
       "nothing, nothing),\"onRowClicked\" => (Observable{Any} with 0 listeners. Value:\n",
       "nothing, nothing),\"onCellDoubleClicked\" => (Observable{Any} with 0 listeners. Value:\n",
       "nothing, nothing),\"requestedrows\" => (Observable{JSON.Writer.JSONText} with 1 listeners. Value:\n",
       "JSON.Writer.JSONText(\"{}\"), nothing),\"onCellClicked\" => (Observable{Any} with 0 listeners. Value:\n",
       "nothing, nothing),\"onCellFocused\" => (Observable{Any} with 0 listeners. Value:\n",
       "nothing, nothing),\"rowparams\" => (Observable{Dict{String,Any}} with 1 listeners. Value:\n",
       "Dict{String,Any}(\"successCallback\" => WebIO.JSString(\"(function (v){return null})\"),\"startRow\" => 1,\"endRow\" => 100), nothing)), Set(String[]), nothing, WebIO.Asset[WebIO.Asset(\"js\", nothing, \"/Users/cdaniels/.julia/packages/TableView/CxWLO/src/rowNumberRenderer.js\"), WebIO.Asset(\"js\", nothing, \"/Users/cdaniels/.julia/packages/TableView/CxWLO/deps/ag-grid-22.1.0/ag-grid.js\"), WebIO.Asset(\"css\", nothing, \"/Users/cdaniels/.julia/packages/TableView/CxWLO/deps/ag-grid-22.1.0/ag-grid.css\"), WebIO.Asset(\"css\", nothing, \"/Users/cdaniels/.julia/packages/TableView/CxWLO/deps/ag-grid-22.1.0/ag-grid-light.css\"), WebIO.Asset(\"css\", nothing, \"/Users/cdaniels/.julia/packages/TableView/CxWLO/deps/ag-grid-22.1.0/ag-grid-dark.css\")], Dict{Any,Any}(\"requestedrows\" => Any[WebIO.JSString(\"(function (val){return WebIO.getval({\\\"name\\\":\\\"rowparams\\\",\\\"scope\\\":\\\"10800614335600720337\\\",\\\"id\\\":\\\"ob_202\\\",\\\"type\\\":\\\"observable\\\"}).successCallback(val,null)})\")]), WebIO.ConnectionPool(Channel{Any}(sz_max:32,sz_curr:0), Set(WebIO.AbstractConnection[]), Base.GenericCondition{Base.AlwaysLockedST}(Base.InvasiveLinkedList{Task}(Task (runnable) @0x000000011d2f3a90, Task (runnable) @0x000000011d2f3a90), Base.AlwaysLockedST(1))), WebIO.JSString[WebIO.JSString(\"function () {\\n    var handler = ((function (RowNumberRenderer,agGrid){var gridOptions={\\\"onCellFocused\\\":(function (ev){var x={}; (ev.rowIndex!==undefined) ? (x[\\\"rowIndex\\\"]=(ev.rowIndex+1)) : undefined; (ev.colDef!==undefined) ? (x[\\\"column\\\"]=ev.colDef.headerName) : undefined; return WebIO.setval({\\\"name\\\":\\\"onCellFocused\\\",\\\"scope\\\":\\\"10800614335600720337\\\",\\\"id\\\":\\\"ob_200\\\",\\\"type\\\":\\\"observable\\\"},x)}),\\\"onCellValueChanged\\\":(function (){return }),\\\"rowModelType\\\":\\\"infinite\\\",\\\"onRowClicked\\\":(function (ev){var x={}; (ev.rowIndex!==undefined) ? (x[\\\"rowIndex\\\"]=(ev.rowIndex+1)) : undefined; (ev.colDef!==undefined) ? (x[\\\"column\\\"]=ev.colDef.headerName) : undefined; return WebIO.setval({\\\"name\\\":\\\"onRowClicked\\\",\\\"scope\\\":\\\"10800614335600720337\\\",\\\"id\\\":\\\"ob_199\\\",\\\"type\\\":\\\"observable\\\"},x)}),\\\"maxConcurrentDatasourceRequests\\\":1,\\\"columnDefs\\\":[{\\\"filter\\\":false,\\\"editable\\\":false,\\\"headerTooltip\\\":\\\"\\\",\\\"field\\\":\\\"__row__\\\",\\\"headerName\\\":\\\"Row\\\",\\\"sortable\\\":false,\\\"type\\\":\\\"numericColumn\\\",\\\"cellRenderer\\\":\\\"rowNumberRenderer\\\",\\\"resizable\\\":true},{\\\"filter\\\":false,\\\"editable\\\":false,\\\"headerTooltip\\\":\\\"Date\\\",\\\"field\\\":\\\"date\\\",\\\"headerName\\\":\\\"date\\\",\\\"sortable\\\":false,\\\"type\\\":null,\\\"resizable\\\":true},{\\\"filter\\\":false,\\\"editable\\\":false,\\\"headerTooltip\\\":\\\"String\\\",\\\"field\\\":\\\"state\\\",\\\"headerName\\\":\\\"state\\\",\\\"sortable\\\":false,\\\"type\\\":null,\\\"resizable\\\":true},{\\\"filter\\\":false,\\\"editable\\\":false,\\\"headerTooltip\\\":\\\"Int64\\\",\\\"field\\\":\\\"casesIncrease\\\",\\\"headerName\\\":\\\"casesIncrease\\\",\\\"sortable\\\":false,\\\"type\\\":\\\"numericColumn\\\",\\\"resizable\\\":true},{\\\"filter\\\":false,\\\"editable\\\":false,\\\"headerTooltip\\\":\\\"Int64\\\",\\\"field\\\":\\\"deathsIncrease\\\",\\\"headerName\\\":\\\"deathsIncrease\\\",\\\"sortable\\\":false,\\\"type\\\":\\\"numericColumn\\\",\\\"resizable\\\":true}],\\\"cacheBlockSize\\\":1000,\\\"datasource\\\":{\\\"rowCount\\\":null,\\\"getRows\\\":(function (rowParams){return WebIO.setval({\\\"name\\\":\\\"rowparams\\\",\\\"scope\\\":\\\"10800614335600720337\\\",\\\"id\\\":\\\"ob_202\\\",\\\"type\\\":\\\"observable\\\"},rowParams)})},\\\"multiSortKey\\\":\\\"ctrl\\\",\\\"maxBlocksInCache\\\":100,\\\"onCellDoubleClicked\\\":(function (ev){var x={}; (ev.rowIndex!==undefined) ? (x[\\\"rowIndex\\\"]=(ev.rowIndex+1)) : undefined; (ev.colDef!==undefined) ? (x[\\\"column\\\"]=ev.colDef.headerName) : undefined; return WebIO.setval({\\\"name\\\":\\\"onCellDoubleClicked\\\",\\\"scope\\\":\\\"10800614335600720337\\\",\\\"id\\\":\\\"ob_198\\\",\\\"type\\\":\\\"observable\\\"},x)}),\\\"onCellKeyDown\\\":(function (ev){var x={}; (ev.rowIndex!==undefined) ? (x[\\\"rowIndex\\\"]=(ev.rowIndex+1)) : undefined; (ev.colDef!==undefined) ? (x[\\\"column\\\"]=ev.colDef.headerName) : undefined; return WebIO.setval({\\\"name\\\":\\\"onCellKeyDown\\\",\\\"scope\\\":\\\"10800614335600720337\\\",\\\"id\\\":\\\"ob_201\\\",\\\"type\\\":\\\"observable\\\"},x)}),\\\"onCellClicked\\\":(function (ev){var x={}; (ev.rowIndex!==undefined) ? (x[\\\"rowIndex\\\"]=(ev.rowIndex+1)) : undefined; (ev.colDef!==undefined) ? (x[\\\"column\\\"]=ev.colDef.headerName) : undefined; return WebIO.setval({\\\"name\\\":\\\"onCellClicked\\\",\\\"scope\\\":\\\"10800614335600720337\\\",\\\"id\\\":\\\"ob_197\\\",\\\"type\\\":\\\"observable\\\"},x)})}; var el=document.getElementById(\\\"grid-a3421ff2\\\"); gridOptions.components={\\\"rowNumberRenderer\\\":RowNumberRenderer}; this.table=new agGrid.Grid(el,gridOptions); gridOptions.columnApi.autoSizeColumn(\\\"__row__\\\"); return gridOptions.columnApi.autoSizeColumns([\\\"date\\\",\\\"state\\\",\\\"casesIncrease\\\",\\\"deathsIncrease\\\"])}));\\n    (WebIO.importBlock({\\\"data\\\":[{\\\"name\\\":null,\\\"type\\\":\\\"js\\\",\\\"url\\\":\\\"/assetserver/8a878f8aac4fcc3aa0fe3544f3b6004cfb87e28d-rowNumberRenderer.js\\\"},{\\\"name\\\":null,\\\"type\\\":\\\"js\\\",\\\"url\\\":\\\"/assetserver/49affd7ae36d0aac75380aa149861ff1594bff9c-ag-grid.js\\\"},{\\\"name\\\":null,\\\"type\\\":\\\"css\\\",\\\"url\\\":\\\"/assetserver/44eec805f61ccdf030080bfd1a559f03509a0021-ag-grid.css\\\"},{\\\"name\\\":null,\\\"type\\\":\\\"css\\\",\\\"url\\\":\\\"/assetserver/e4213c8e832c90aaafe2b3164c0bbb5b67c7a305-ag-grid-light.css\\\"},{\\\"name\\\":null,\\\"type\\\":\\\"css\\\",\\\"url\\\":\\\"/assetserver/b082734171f365ccefe5d7b6015f8162af17e3a6-ag-grid-dark.css\\\"}],\\\"type\\\":\\\"async_block\\\"})).then((imports) => handler.apply(this, imports));\\n}\\n\")])"
      ]
     },
     "execution_count": 56,
     "metadata": {
      "application/vnd.webio.node+json": {
       "kernelId": "3229260e-45e1-405c-811b-0c4817f5e87c"
      }
     },
     "output_type": "execute_result"
    }
   ],
   "source": [
    "@tbl sort(select_region(dfc,\"Illinois\",\"Cook\",[:date,:state,:casesIncrease,:deathsIncrease]),rev=true)"
   ]
  },
  {
   "cell_type": "code",
   "execution_count": 57,
   "metadata": {
    "scrolled": true
   },
   "outputs": [
    {
     "data": {
      "application/vnd.webio.node+json": {
       "children": [
        {
         "children": [
          {
           "children": [
            ""
           ],
           "instanceArgs": {
            "namespace": "html",
            "tag": "div"
           },
           "nodeType": "DOM",
           "props": {
            "style": {
             "background-color": "#F5F7F7",
             "color": "#1c1f20",
             "font-family": "-apple-system, BlinkMacSystemFont, \"Segoe UI\", Roboto, Oxygen-Sans, Ubuntu, Cantarell, \"Helvetica Neue\", sans-serif",
             "height": "0",
             "padding": "0"
            }
           },
           "type": "node"
          },
          {
           "children": [],
           "instanceArgs": {
            "namespace": "html",
            "tag": "div"
           },
           "nodeType": "DOM",
           "props": {
            "className": "ag-theme-balham",
            "id": "grid-a376218a",
            "style": {
             "height": "500px",
             "width": "100%"
            }
           },
           "type": "node"
          }
         ],
         "instanceArgs": {
          "namespace": "html",
          "tag": "div"
         },
         "nodeType": "DOM",
         "props": {},
         "type": "node"
        }
       ],
       "instanceArgs": {
        "handlers": {
         "requestedrows": [
          "(function (val){return WebIO.getval({\"name\":\"rowparams\",\"scope\":\"581984468964848817\",\"id\":\"ob_209\",\"type\":\"observable\"}).successCallback(val,null)})"
         ]
        },
        "id": "581984468964848817",
        "imports": {
         "data": [
          {
           "name": null,
           "type": "js",
           "url": "/assetserver/8a878f8aac4fcc3aa0fe3544f3b6004cfb87e28d-rowNumberRenderer.js"
          },
          {
           "name": null,
           "type": "js",
           "url": "/assetserver/49affd7ae36d0aac75380aa149861ff1594bff9c-ag-grid.js"
          },
          {
           "name": null,
           "type": "css",
           "url": "/assetserver/44eec805f61ccdf030080bfd1a559f03509a0021-ag-grid.css"
          },
          {
           "name": null,
           "type": "css",
           "url": "/assetserver/e4213c8e832c90aaafe2b3164c0bbb5b67c7a305-ag-grid-light.css"
          },
          {
           "name": null,
           "type": "css",
           "url": "/assetserver/b082734171f365ccefe5d7b6015f8162af17e3a6-ag-grid-dark.css"
          }
         ],
         "type": "async_block"
        },
        "mount_callbacks": [
         "function () {\n    var handler = ((function (RowNumberRenderer,agGrid){var gridOptions={\"onCellFocused\":(function (ev){var x={}; (ev.rowIndex!==undefined) ? (x[\"rowIndex\"]=(ev.rowIndex+1)) : undefined; (ev.colDef!==undefined) ? (x[\"column\"]=ev.colDef.headerName) : undefined; return WebIO.setval({\"name\":\"onCellFocused\",\"scope\":\"581984468964848817\",\"id\":\"ob_207\",\"type\":\"observable\"},x)}),\"onCellValueChanged\":(function (){return }),\"rowModelType\":\"infinite\",\"onRowClicked\":(function (ev){var x={}; (ev.rowIndex!==undefined) ? (x[\"rowIndex\"]=(ev.rowIndex+1)) : undefined; (ev.colDef!==undefined) ? (x[\"column\"]=ev.colDef.headerName) : undefined; return WebIO.setval({\"name\":\"onRowClicked\",\"scope\":\"581984468964848817\",\"id\":\"ob_206\",\"type\":\"observable\"},x)}),\"maxConcurrentDatasourceRequests\":1,\"columnDefs\":[{\"filter\":false,\"editable\":false,\"headerTooltip\":\"\",\"field\":\"__row__\",\"headerName\":\"Row\",\"sortable\":false,\"type\":\"numericColumn\",\"cellRenderer\":\"rowNumberRenderer\",\"resizable\":true},{\"filter\":false,\"editable\":false,\"headerTooltip\":\"Date\",\"field\":\"date\",\"headerName\":\"date\",\"sortable\":false,\"type\":null,\"resizable\":true},{\"filter\":false,\"editable\":false,\"headerTooltip\":\"Int64\",\"field\":\"casesIncrease\",\"headerName\":\"casesIncrease\",\"sortable\":false,\"type\":\"numericColumn\",\"resizable\":true},{\"filter\":false,\"editable\":false,\"headerTooltip\":\"Float64\",\"field\":\"casesIncreaseMA\",\"headerName\":\"casesIncreaseMA\",\"sortable\":false,\"type\":\"numericColumn\",\"resizable\":true}],\"cacheBlockSize\":1000,\"datasource\":{\"rowCount\":null,\"getRows\":(function (rowParams){return WebIO.setval({\"name\":\"rowparams\",\"scope\":\"581984468964848817\",\"id\":\"ob_209\",\"type\":\"observable\"},rowParams)})},\"multiSortKey\":\"ctrl\",\"maxBlocksInCache\":100,\"onCellDoubleClicked\":(function (ev){var x={}; (ev.rowIndex!==undefined) ? (x[\"rowIndex\"]=(ev.rowIndex+1)) : undefined; (ev.colDef!==undefined) ? (x[\"column\"]=ev.colDef.headerName) : undefined; return WebIO.setval({\"name\":\"onCellDoubleClicked\",\"scope\":\"581984468964848817\",\"id\":\"ob_205\",\"type\":\"observable\"},x)}),\"onCellKeyDown\":(function (ev){var x={}; (ev.rowIndex!==undefined) ? (x[\"rowIndex\"]=(ev.rowIndex+1)) : undefined; (ev.colDef!==undefined) ? (x[\"column\"]=ev.colDef.headerName) : undefined; return WebIO.setval({\"name\":\"onCellKeyDown\",\"scope\":\"581984468964848817\",\"id\":\"ob_208\",\"type\":\"observable\"},x)}),\"onCellClicked\":(function (ev){var x={}; (ev.rowIndex!==undefined) ? (x[\"rowIndex\"]=(ev.rowIndex+1)) : undefined; (ev.colDef!==undefined) ? (x[\"column\"]=ev.colDef.headerName) : undefined; return WebIO.setval({\"name\":\"onCellClicked\",\"scope\":\"581984468964848817\",\"id\":\"ob_204\",\"type\":\"observable\"},x)})}; var el=document.getElementById(\"grid-a376218a\"); gridOptions.components={\"rowNumberRenderer\":RowNumberRenderer}; this.table=new agGrid.Grid(el,gridOptions); gridOptions.columnApi.autoSizeColumn(\"__row__\"); return gridOptions.columnApi.autoSizeColumns([\"date\",\"casesIncrease\",\"casesIncreaseMA\"])}));\n    (WebIO.importBlock({\"data\":[{\"name\":null,\"type\":\"js\",\"url\":\"/assetserver/8a878f8aac4fcc3aa0fe3544f3b6004cfb87e28d-rowNumberRenderer.js\"},{\"name\":null,\"type\":\"js\",\"url\":\"/assetserver/49affd7ae36d0aac75380aa149861ff1594bff9c-ag-grid.js\"},{\"name\":null,\"type\":\"css\",\"url\":\"/assetserver/44eec805f61ccdf030080bfd1a559f03509a0021-ag-grid.css\"},{\"name\":null,\"type\":\"css\",\"url\":\"/assetserver/e4213c8e832c90aaafe2b3164c0bbb5b67c7a305-ag-grid-light.css\"},{\"name\":null,\"type\":\"css\",\"url\":\"/assetserver/b082734171f365ccefe5d7b6015f8162af17e3a6-ag-grid-dark.css\"}],\"type\":\"async_block\"})).then((imports) => handler.apply(this, imports));\n}\n"
        ],
        "observables": {
         "onCellClicked": {
          "id": "ob_204",
          "sync": false,
          "value": null
         },
         "onCellDoubleClicked": {
          "id": "ob_205",
          "sync": false,
          "value": null
         },
         "onCellFocused": {
          "id": "ob_207",
          "sync": false,
          "value": null
         },
         "onCellKeyDown": {
          "id": "ob_208",
          "sync": false,
          "value": null
         },
         "onRowClicked": {
          "id": "ob_206",
          "sync": false,
          "value": null
         },
         "requestedrows": {
          "id": "ob_210",
          "sync": false,
          "value": {}
         },
         "rowparams": {
          "id": "ob_209",
          "sync": true,
          "value": {
           "endRow": 100,
           "startRow": 1,
           "successCallback": "(function (v){return null})"
          }
         }
        },
        "systemjs_options": null
       },
       "nodeType": "Scope",
       "props": {},
       "type": "node"
      },
      "text/html": [
       "<div\n",
       "    class=\"webio-mountpoint\"\n",
       "    data-webio-mountpoint=\"5611107517863989105\"\n",
       ">\n",
       "    <script>\n",
       "    if (window.require && require.defined && require.defined(\"nbextensions/webio-jupyter-notebook\")) {\n",
       "        console.log(\"Jupyter WebIO extension detected, not mounting.\");\n",
       "    } else if (window.WebIO) {\n",
       "        WebIO.mount(\n",
       "            document.querySelector('[data-webio-mountpoint=\"5611107517863989105\"]'),\n",
       "            {\"props\":{},\"nodeType\":\"Scope\",\"type\":\"node\",\"instanceArgs\":{\"imports\":{\"data\":[{\"name\":null,\"type\":\"js\",\"url\":\"\\/assetserver\\/8a878f8aac4fcc3aa0fe3544f3b6004cfb87e28d-rowNumberRenderer.js\"},{\"name\":null,\"type\":\"js\",\"url\":\"\\/assetserver\\/49affd7ae36d0aac75380aa149861ff1594bff9c-ag-grid.js\"},{\"name\":null,\"type\":\"css\",\"url\":\"\\/assetserver\\/44eec805f61ccdf030080bfd1a559f03509a0021-ag-grid.css\"},{\"name\":null,\"type\":\"css\",\"url\":\"\\/assetserver\\/e4213c8e832c90aaafe2b3164c0bbb5b67c7a305-ag-grid-light.css\"},{\"name\":null,\"type\":\"css\",\"url\":\"\\/assetserver\\/b082734171f365ccefe5d7b6015f8162af17e3a6-ag-grid-dark.css\"}],\"type\":\"async_block\"},\"id\":\"581984468964848817\",\"handlers\":{\"requestedrows\":[\"(function (val){return WebIO.getval({\\\"name\\\":\\\"rowparams\\\",\\\"scope\\\":\\\"581984468964848817\\\",\\\"id\\\":\\\"ob_209\\\",\\\"type\\\":\\\"observable\\\"}).successCallback(val,null)})\"]},\"systemjs_options\":null,\"mount_callbacks\":[\"function () {\\n    var handler = ((function (RowNumberRenderer,agGrid){var gridOptions={\\\"onCellFocused\\\":(function (ev){var x={}; (ev.rowIndex!==undefined) ? (x[\\\"rowIndex\\\"]=(ev.rowIndex+1)) : undefined; (ev.colDef!==undefined) ? (x[\\\"column\\\"]=ev.colDef.headerName) : undefined; return WebIO.setval({\\\"name\\\":\\\"onCellFocused\\\",\\\"scope\\\":\\\"581984468964848817\\\",\\\"id\\\":\\\"ob_207\\\",\\\"type\\\":\\\"observable\\\"},x)}),\\\"onCellValueChanged\\\":(function (){return }),\\\"rowModelType\\\":\\\"infinite\\\",\\\"onRowClicked\\\":(function (ev){var x={}; (ev.rowIndex!==undefined) ? (x[\\\"rowIndex\\\"]=(ev.rowIndex+1)) : undefined; (ev.colDef!==undefined) ? (x[\\\"column\\\"]=ev.colDef.headerName) : undefined; return WebIO.setval({\\\"name\\\":\\\"onRowClicked\\\",\\\"scope\\\":\\\"581984468964848817\\\",\\\"id\\\":\\\"ob_206\\\",\\\"type\\\":\\\"observable\\\"},x)}),\\\"maxConcurrentDatasourceRequests\\\":1,\\\"columnDefs\\\":[{\\\"filter\\\":false,\\\"editable\\\":false,\\\"headerTooltip\\\":\\\"\\\",\\\"field\\\":\\\"__row__\\\",\\\"headerName\\\":\\\"Row\\\",\\\"sortable\\\":false,\\\"type\\\":\\\"numericColumn\\\",\\\"cellRenderer\\\":\\\"rowNumberRenderer\\\",\\\"resizable\\\":true},{\\\"filter\\\":false,\\\"editable\\\":false,\\\"headerTooltip\\\":\\\"Date\\\",\\\"field\\\":\\\"date\\\",\\\"headerName\\\":\\\"date\\\",\\\"sortable\\\":false,\\\"type\\\":null,\\\"resizable\\\":true},{\\\"filter\\\":false,\\\"editable\\\":false,\\\"headerTooltip\\\":\\\"Int64\\\",\\\"field\\\":\\\"casesIncrease\\\",\\\"headerName\\\":\\\"casesIncrease\\\",\\\"sortable\\\":false,\\\"type\\\":\\\"numericColumn\\\",\\\"resizable\\\":true},{\\\"filter\\\":false,\\\"editable\\\":false,\\\"headerTooltip\\\":\\\"Float64\\\",\\\"field\\\":\\\"casesIncreaseMA\\\",\\\"headerName\\\":\\\"casesIncreaseMA\\\",\\\"sortable\\\":false,\\\"type\\\":\\\"numericColumn\\\",\\\"resizable\\\":true}],\\\"cacheBlockSize\\\":1000,\\\"datasource\\\":{\\\"rowCount\\\":null,\\\"getRows\\\":(function (rowParams){return WebIO.setval({\\\"name\\\":\\\"rowparams\\\",\\\"scope\\\":\\\"581984468964848817\\\",\\\"id\\\":\\\"ob_209\\\",\\\"type\\\":\\\"observable\\\"},rowParams)})},\\\"multiSortKey\\\":\\\"ctrl\\\",\\\"maxBlocksInCache\\\":100,\\\"onCellDoubleClicked\\\":(function (ev){var x={}; (ev.rowIndex!==undefined) ? (x[\\\"rowIndex\\\"]=(ev.rowIndex+1)) : undefined; (ev.colDef!==undefined) ? (x[\\\"column\\\"]=ev.colDef.headerName) : undefined; return WebIO.setval({\\\"name\\\":\\\"onCellDoubleClicked\\\",\\\"scope\\\":\\\"581984468964848817\\\",\\\"id\\\":\\\"ob_205\\\",\\\"type\\\":\\\"observable\\\"},x)}),\\\"onCellKeyDown\\\":(function (ev){var x={}; (ev.rowIndex!==undefined) ? (x[\\\"rowIndex\\\"]=(ev.rowIndex+1)) : undefined; (ev.colDef!==undefined) ? (x[\\\"column\\\"]=ev.colDef.headerName) : undefined; return WebIO.setval({\\\"name\\\":\\\"onCellKeyDown\\\",\\\"scope\\\":\\\"581984468964848817\\\",\\\"id\\\":\\\"ob_208\\\",\\\"type\\\":\\\"observable\\\"},x)}),\\\"onCellClicked\\\":(function (ev){var x={}; (ev.rowIndex!==undefined) ? (x[\\\"rowIndex\\\"]=(ev.rowIndex+1)) : undefined; (ev.colDef!==undefined) ? (x[\\\"column\\\"]=ev.colDef.headerName) : undefined; return WebIO.setval({\\\"name\\\":\\\"onCellClicked\\\",\\\"scope\\\":\\\"581984468964848817\\\",\\\"id\\\":\\\"ob_204\\\",\\\"type\\\":\\\"observable\\\"},x)})}; var el=document.getElementById(\\\"grid-a376218a\\\"); gridOptions.components={\\\"rowNumberRenderer\\\":RowNumberRenderer}; this.table=new agGrid.Grid(el,gridOptions); gridOptions.columnApi.autoSizeColumn(\\\"__row__\\\"); return gridOptions.columnApi.autoSizeColumns([\\\"date\\\",\\\"casesIncrease\\\",\\\"casesIncreaseMA\\\"])}));\\n    (WebIO.importBlock({\\\"data\\\":[{\\\"name\\\":null,\\\"type\\\":\\\"js\\\",\\\"url\\\":\\\"\\/assetserver\\/8a878f8aac4fcc3aa0fe3544f3b6004cfb87e28d-rowNumberRenderer.js\\\"},{\\\"name\\\":null,\\\"type\\\":\\\"js\\\",\\\"url\\\":\\\"\\/assetserver\\/49affd7ae36d0aac75380aa149861ff1594bff9c-ag-grid.js\\\"},{\\\"name\\\":null,\\\"type\\\":\\\"css\\\",\\\"url\\\":\\\"\\/assetserver\\/44eec805f61ccdf030080bfd1a559f03509a0021-ag-grid.css\\\"},{\\\"name\\\":null,\\\"type\\\":\\\"css\\\",\\\"url\\\":\\\"\\/assetserver\\/e4213c8e832c90aaafe2b3164c0bbb5b67c7a305-ag-grid-light.css\\\"},{\\\"name\\\":null,\\\"type\\\":\\\"css\\\",\\\"url\\\":\\\"\\/assetserver\\/b082734171f365ccefe5d7b6015f8162af17e3a6-ag-grid-dark.css\\\"}],\\\"type\\\":\\\"async_block\\\"})).then((imports) => handler.apply(this, imports));\\n}\\n\"],\"observables\":{\"onCellKeyDown\":{\"sync\":false,\"id\":\"ob_208\",\"value\":null},\"onRowClicked\":{\"sync\":false,\"id\":\"ob_206\",\"value\":null},\"onCellDoubleClicked\":{\"sync\":false,\"id\":\"ob_205\",\"value\":null},\"requestedrows\":{\"sync\":false,\"id\":\"ob_210\",\"value\":{}},\"onCellClicked\":{\"sync\":false,\"id\":\"ob_204\",\"value\":null},\"onCellFocused\":{\"sync\":false,\"id\":\"ob_207\",\"value\":null},\"rowparams\":{\"sync\":true,\"id\":\"ob_209\",\"value\":{\"successCallback\":\"(function (v){return null})\",\"startRow\":1,\"endRow\":100}}}},\"children\":[{\"props\":{},\"nodeType\":\"DOM\",\"type\":\"node\",\"instanceArgs\":{\"namespace\":\"html\",\"tag\":\"div\"},\"children\":[{\"props\":{\"style\":{\"height\":\"0\",\"padding\":\"0\",\"background-color\":\"#F5F7F7\",\"color\":\"#1c1f20\",\"font-family\":\"-apple-system, BlinkMacSystemFont, \\\"Segoe UI\\\", Roboto, Oxygen-Sans, Ubuntu, Cantarell, \\\"Helvetica Neue\\\", sans-serif\"}},\"nodeType\":\"DOM\",\"type\":\"node\",\"instanceArgs\":{\"namespace\":\"html\",\"tag\":\"div\"},\"children\":[\"\"]},{\"props\":{\"id\":\"grid-a376218a\",\"className\":\"ag-theme-balham\",\"style\":{\"height\":\"500px\",\"width\":\"100%\"}},\"nodeType\":\"DOM\",\"type\":\"node\",\"instanceArgs\":{\"namespace\":\"html\",\"tag\":\"div\"},\"children\":[]}]}]},\n",
       "            window,\n",
       "        );\n",
       "    } else {\n",
       "        document\n",
       "            .querySelector('[data-webio-mountpoint=\"5611107517863989105\"]')\n",
       "            .innerHTML = (\n",
       "                '<div style=\"padding: 1em; background-color: #f8d6da; border: 1px solid #f5c6cb\">' +\n",
       "                '<p><strong>WebIO not detected.</strong></p>' +\n",
       "                '<p>Please read ' +\n",
       "                '<a href=\"https://juliagizmos.github.io/WebIO.jl/latest/troubleshooting/not-detected/\" target=\"_blank\">the troubleshooting guide</a> ' +\n",
       "                'for more information on how to resolve this issue.</p>' +\n",
       "                '<p><a href=\"https://juliagizmos.github.io/WebIO.jl/latest/troubleshooting/not-detected/\" target=\"_blank\">https://juliagizmos.github.io/WebIO.jl/latest/troubleshooting/not-detected/</a></p>' +\n",
       "                '</div>'\n",
       "            );\n",
       "    }\n",
       "    </script>\n",
       "</div>\n"
      ],
      "text/plain": [
       "WebIO.Scope(WebIO.Node{WebIO.DOM}(WebIO.DOM(:html, :div), Any[WebIO.Node{WebIO.DOM}(WebIO.DOM(:html, :div), Any[\"\"], Dict{Symbol,Any}(:style => Dict(\"height\" => \"0\",\"padding\" => \"0\",\"background-color\" => \"#F5F7F7\",\"color\" => \"#1c1f20\",\"font-family\" => \"-apple-system, BlinkMacSystemFont, \\\"Segoe UI\\\", Roboto, Oxygen-Sans, Ubuntu, Cantarell, \\\"Helvetica Neue\\\", sans-serif\"))), WebIO.Node{WebIO.DOM}(WebIO.DOM(:html, :div), Any[], Dict{Symbol,Any}(:id => \"grid-a376218a\",:className => \"ag-theme-balham\",:style => Dict(\"height\" => \"500px\",\"width\" => \"100%\")))], Dict{Symbol,Any}()), Dict{String,Tuple{Observables.AbstractObservable,Union{Nothing, Bool}}}(\"onCellKeyDown\" => (Observable{Any} with 0 listeners. Value:\n",
       "nothing, nothing),\"onRowClicked\" => (Observable{Any} with 0 listeners. Value:\n",
       "nothing, nothing),\"onCellDoubleClicked\" => (Observable{Any} with 0 listeners. Value:\n",
       "nothing, nothing),\"requestedrows\" => (Observable{JSON.Writer.JSONText} with 1 listeners. Value:\n",
       "JSON.Writer.JSONText(\"{}\"), nothing),\"onCellClicked\" => (Observable{Any} with 0 listeners. Value:\n",
       "nothing, nothing),\"onCellFocused\" => (Observable{Any} with 0 listeners. Value:\n",
       "nothing, nothing),\"rowparams\" => (Observable{Dict{String,Any}} with 1 listeners. Value:\n",
       "Dict{String,Any}(\"successCallback\" => WebIO.JSString(\"(function (v){return null})\"),\"startRow\" => 1,\"endRow\" => 100), nothing)), Set(String[]), nothing, WebIO.Asset[WebIO.Asset(\"js\", nothing, \"/Users/cdaniels/.julia/packages/TableView/CxWLO/src/rowNumberRenderer.js\"), WebIO.Asset(\"js\", nothing, \"/Users/cdaniels/.julia/packages/TableView/CxWLO/deps/ag-grid-22.1.0/ag-grid.js\"), WebIO.Asset(\"css\", nothing, \"/Users/cdaniels/.julia/packages/TableView/CxWLO/deps/ag-grid-22.1.0/ag-grid.css\"), WebIO.Asset(\"css\", nothing, \"/Users/cdaniels/.julia/packages/TableView/CxWLO/deps/ag-grid-22.1.0/ag-grid-light.css\"), WebIO.Asset(\"css\", nothing, \"/Users/cdaniels/.julia/packages/TableView/CxWLO/deps/ag-grid-22.1.0/ag-grid-dark.css\")], Dict{Any,Any}(\"requestedrows\" => Any[WebIO.JSString(\"(function (val){return WebIO.getval({\\\"name\\\":\\\"rowparams\\\",\\\"scope\\\":\\\"581984468964848817\\\",\\\"id\\\":\\\"ob_209\\\",\\\"type\\\":\\\"observable\\\"}).successCallback(val,null)})\")]), WebIO.ConnectionPool(Channel{Any}(sz_max:32,sz_curr:0), Set(WebIO.AbstractConnection[]), Base.GenericCondition{Base.AlwaysLockedST}(Base.InvasiveLinkedList{Task}(Task (runnable) @0x000000011e06d8d0, Task (runnable) @0x000000011e06d8d0), Base.AlwaysLockedST(1))), WebIO.JSString[WebIO.JSString(\"function () {\\n    var handler = ((function (RowNumberRenderer,agGrid){var gridOptions={\\\"onCellFocused\\\":(function (ev){var x={}; (ev.rowIndex!==undefined) ? (x[\\\"rowIndex\\\"]=(ev.rowIndex+1)) : undefined; (ev.colDef!==undefined) ? (x[\\\"column\\\"]=ev.colDef.headerName) : undefined; return WebIO.setval({\\\"name\\\":\\\"onCellFocused\\\",\\\"scope\\\":\\\"581984468964848817\\\",\\\"id\\\":\\\"ob_207\\\",\\\"type\\\":\\\"observable\\\"},x)}),\\\"onCellValueChanged\\\":(function (){return }),\\\"rowModelType\\\":\\\"infinite\\\",\\\"onRowClicked\\\":(function (ev){var x={}; (ev.rowIndex!==undefined) ? (x[\\\"rowIndex\\\"]=(ev.rowIndex+1)) : undefined; (ev.colDef!==undefined) ? (x[\\\"column\\\"]=ev.colDef.headerName) : undefined; return WebIO.setval({\\\"name\\\":\\\"onRowClicked\\\",\\\"scope\\\":\\\"581984468964848817\\\",\\\"id\\\":\\\"ob_206\\\",\\\"type\\\":\\\"observable\\\"},x)}),\\\"maxConcurrentDatasourceRequests\\\":1,\\\"columnDefs\\\":[{\\\"filter\\\":false,\\\"editable\\\":false,\\\"headerTooltip\\\":\\\"\\\",\\\"field\\\":\\\"__row__\\\",\\\"headerName\\\":\\\"Row\\\",\\\"sortable\\\":false,\\\"type\\\":\\\"numericColumn\\\",\\\"cellRenderer\\\":\\\"rowNumberRenderer\\\",\\\"resizable\\\":true},{\\\"filter\\\":false,\\\"editable\\\":false,\\\"headerTooltip\\\":\\\"Date\\\",\\\"field\\\":\\\"date\\\",\\\"headerName\\\":\\\"date\\\",\\\"sortable\\\":false,\\\"type\\\":null,\\\"resizable\\\":true},{\\\"filter\\\":false,\\\"editable\\\":false,\\\"headerTooltip\\\":\\\"Int64\\\",\\\"field\\\":\\\"casesIncrease\\\",\\\"headerName\\\":\\\"casesIncrease\\\",\\\"sortable\\\":false,\\\"type\\\":\\\"numericColumn\\\",\\\"resizable\\\":true},{\\\"filter\\\":false,\\\"editable\\\":false,\\\"headerTooltip\\\":\\\"Float64\\\",\\\"field\\\":\\\"casesIncreaseMA\\\",\\\"headerName\\\":\\\"casesIncreaseMA\\\",\\\"sortable\\\":false,\\\"type\\\":\\\"numericColumn\\\",\\\"resizable\\\":true}],\\\"cacheBlockSize\\\":1000,\\\"datasource\\\":{\\\"rowCount\\\":null,\\\"getRows\\\":(function (rowParams){return WebIO.setval({\\\"name\\\":\\\"rowparams\\\",\\\"scope\\\":\\\"581984468964848817\\\",\\\"id\\\":\\\"ob_209\\\",\\\"type\\\":\\\"observable\\\"},rowParams)})},\\\"multiSortKey\\\":\\\"ctrl\\\",\\\"maxBlocksInCache\\\":100,\\\"onCellDoubleClicked\\\":(function (ev){var x={}; (ev.rowIndex!==undefined) ? (x[\\\"rowIndex\\\"]=(ev.rowIndex+1)) : undefined; (ev.colDef!==undefined) ? (x[\\\"column\\\"]=ev.colDef.headerName) : undefined; return WebIO.setval({\\\"name\\\":\\\"onCellDoubleClicked\\\",\\\"scope\\\":\\\"581984468964848817\\\",\\\"id\\\":\\\"ob_205\\\",\\\"type\\\":\\\"observable\\\"},x)}),\\\"onCellKeyDown\\\":(function (ev){var x={}; (ev.rowIndex!==undefined) ? (x[\\\"rowIndex\\\"]=(ev.rowIndex+1)) : undefined; (ev.colDef!==undefined) ? (x[\\\"column\\\"]=ev.colDef.headerName) : undefined; return WebIO.setval({\\\"name\\\":\\\"onCellKeyDown\\\",\\\"scope\\\":\\\"581984468964848817\\\",\\\"id\\\":\\\"ob_208\\\",\\\"type\\\":\\\"observable\\\"},x)}),\\\"onCellClicked\\\":(function (ev){var x={}; (ev.rowIndex!==undefined) ? (x[\\\"rowIndex\\\"]=(ev.rowIndex+1)) : undefined; (ev.colDef!==undefined) ? (x[\\\"column\\\"]=ev.colDef.headerName) : undefined; return WebIO.setval({\\\"name\\\":\\\"onCellClicked\\\",\\\"scope\\\":\\\"581984468964848817\\\",\\\"id\\\":\\\"ob_204\\\",\\\"type\\\":\\\"observable\\\"},x)})}; var el=document.getElementById(\\\"grid-a376218a\\\"); gridOptions.components={\\\"rowNumberRenderer\\\":RowNumberRenderer}; this.table=new agGrid.Grid(el,gridOptions); gridOptions.columnApi.autoSizeColumn(\\\"__row__\\\"); return gridOptions.columnApi.autoSizeColumns([\\\"date\\\",\\\"casesIncrease\\\",\\\"casesIncreaseMA\\\"])}));\\n    (WebIO.importBlock({\\\"data\\\":[{\\\"name\\\":null,\\\"type\\\":\\\"js\\\",\\\"url\\\":\\\"/assetserver/8a878f8aac4fcc3aa0fe3544f3b6004cfb87e28d-rowNumberRenderer.js\\\"},{\\\"name\\\":null,\\\"type\\\":\\\"js\\\",\\\"url\\\":\\\"/assetserver/49affd7ae36d0aac75380aa149861ff1594bff9c-ag-grid.js\\\"},{\\\"name\\\":null,\\\"type\\\":\\\"css\\\",\\\"url\\\":\\\"/assetserver/44eec805f61ccdf030080bfd1a559f03509a0021-ag-grid.css\\\"},{\\\"name\\\":null,\\\"type\\\":\\\"css\\\",\\\"url\\\":\\\"/assetserver/e4213c8e832c90aaafe2b3164c0bbb5b67c7a305-ag-grid-light.css\\\"},{\\\"name\\\":null,\\\"type\\\":\\\"css\\\",\\\"url\\\":\\\"/assetserver/b082734171f365ccefe5d7b6015f8162af17e3a6-ag-grid-dark.css\\\"}],\\\"type\\\":\\\"async_block\\\"})).then((imports) => handler.apply(this, imports));\\n}\\n\")])"
      ]
     },
     "execution_count": 57,
     "metadata": {
      "application/vnd.webio.node+json": {
       "kernelId": "3229260e-45e1-405c-811b-0c4817f5e87c"
      }
     },
     "output_type": "execute_result"
    }
   ],
   "source": [
    "@tbl sort(select_region(dfc,\"Illinois\",\"Cook\",[:date,:casesIncrease,:casesIncreaseMA]),rev=true)"
   ]
  },
  {
   "cell_type": "code",
   "execution_count": 58,
   "metadata": {},
   "outputs": [
    {
     "data": {
      "application/vnd.webio.node+json": {
       "children": [
        {
         "children": [
          {
           "children": [
            ""
           ],
           "instanceArgs": {
            "namespace": "html",
            "tag": "div"
           },
           "nodeType": "DOM",
           "props": {
            "style": {
             "background-color": "#F5F7F7",
             "color": "#1c1f20",
             "font-family": "-apple-system, BlinkMacSystemFont, \"Segoe UI\", Roboto, Oxygen-Sans, Ubuntu, Cantarell, \"Helvetica Neue\", sans-serif",
             "height": "0",
             "padding": "0"
            }
           },
           "type": "node"
          },
          {
           "children": [],
           "instanceArgs": {
            "namespace": "html",
            "tag": "div"
           },
           "nodeType": "DOM",
           "props": {
            "className": "ag-theme-balham",
            "id": "grid-a3b9ec3a",
            "style": {
             "height": "500px",
             "width": "100%"
            }
           },
           "type": "node"
          }
         ],
         "instanceArgs": {
          "namespace": "html",
          "tag": "div"
         },
         "nodeType": "DOM",
         "props": {},
         "type": "node"
        }
       ],
       "instanceArgs": {
        "handlers": {
         "requestedrows": [
          "(function (val){return WebIO.getval({\"name\":\"rowparams\",\"scope\":\"3380959971419576956\",\"id\":\"ob_216\",\"type\":\"observable\"}).successCallback(val,null)})"
         ]
        },
        "id": "3380959971419576956",
        "imports": {
         "data": [
          {
           "name": null,
           "type": "js",
           "url": "/assetserver/8a878f8aac4fcc3aa0fe3544f3b6004cfb87e28d-rowNumberRenderer.js"
          },
          {
           "name": null,
           "type": "js",
           "url": "/assetserver/49affd7ae36d0aac75380aa149861ff1594bff9c-ag-grid.js"
          },
          {
           "name": null,
           "type": "css",
           "url": "/assetserver/44eec805f61ccdf030080bfd1a559f03509a0021-ag-grid.css"
          },
          {
           "name": null,
           "type": "css",
           "url": "/assetserver/e4213c8e832c90aaafe2b3164c0bbb5b67c7a305-ag-grid-light.css"
          },
          {
           "name": null,
           "type": "css",
           "url": "/assetserver/b082734171f365ccefe5d7b6015f8162af17e3a6-ag-grid-dark.css"
          }
         ],
         "type": "async_block"
        },
        "mount_callbacks": [
         "function () {\n    var handler = ((function (RowNumberRenderer,agGrid){var gridOptions={\"onCellFocused\":(function (ev){var x={}; (ev.rowIndex!==undefined) ? (x[\"rowIndex\"]=(ev.rowIndex+1)) : undefined; (ev.colDef!==undefined) ? (x[\"column\"]=ev.colDef.headerName) : undefined; return WebIO.setval({\"name\":\"onCellFocused\",\"scope\":\"3380959971419576956\",\"id\":\"ob_214\",\"type\":\"observable\"},x)}),\"onCellValueChanged\":(function (){return }),\"rowModelType\":\"infinite\",\"onRowClicked\":(function (ev){var x={}; (ev.rowIndex!==undefined) ? (x[\"rowIndex\"]=(ev.rowIndex+1)) : undefined; (ev.colDef!==undefined) ? (x[\"column\"]=ev.colDef.headerName) : undefined; return WebIO.setval({\"name\":\"onRowClicked\",\"scope\":\"3380959971419576956\",\"id\":\"ob_213\",\"type\":\"observable\"},x)}),\"maxConcurrentDatasourceRequests\":1,\"columnDefs\":[{\"filter\":false,\"editable\":false,\"headerTooltip\":\"\",\"field\":\"__row__\",\"headerName\":\"Row\",\"sortable\":false,\"type\":\"numericColumn\",\"cellRenderer\":\"rowNumberRenderer\",\"resizable\":true},{\"filter\":false,\"editable\":false,\"headerTooltip\":\"Date\",\"field\":\"date\",\"headerName\":\"date\",\"sortable\":false,\"type\":null,\"resizable\":true},{\"filter\":false,\"editable\":false,\"headerTooltip\":\"Int64\",\"field\":\"casesIncrease\",\"headerName\":\"casesIncrease\",\"sortable\":false,\"type\":\"numericColumn\",\"resizable\":true},{\"filter\":false,\"editable\":false,\"headerTooltip\":\"Float64\",\"field\":\"casesIncreaseMA\",\"headerName\":\"casesIncreaseMA\",\"sortable\":false,\"type\":\"numericColumn\",\"resizable\":true},{\"filter\":false,\"editable\":false,\"headerTooltip\":\"Float64\",\"field\":\"pch_casesIncreaseMA\",\"headerName\":\"pch_casesIncreaseMA\",\"sortable\":false,\"type\":\"numericColumn\",\"resizable\":true},{\"filter\":false,\"editable\":false,\"headerTooltip\":\"Int64\",\"field\":\"cases\",\"headerName\":\"cases\",\"sortable\":false,\"type\":\"numericColumn\",\"resizable\":true},{\"filter\":false,\"editable\":false,\"headerTooltip\":\"Float64\",\"field\":\"casesMA\",\"headerName\":\"casesMA\",\"sortable\":false,\"type\":\"numericColumn\",\"resizable\":true},{\"filter\":false,\"editable\":false,\"headerTooltip\":\"Float64\",\"field\":\"pch_casesMA\",\"headerName\":\"pch_casesMA\",\"sortable\":false,\"type\":\"numericColumn\",\"resizable\":true}],\"cacheBlockSize\":1000,\"datasource\":{\"rowCount\":null,\"getRows\":(function (rowParams){return WebIO.setval({\"name\":\"rowparams\",\"scope\":\"3380959971419576956\",\"id\":\"ob_216\",\"type\":\"observable\"},rowParams)})},\"multiSortKey\":\"ctrl\",\"maxBlocksInCache\":100,\"onCellDoubleClicked\":(function (ev){var x={}; (ev.rowIndex!==undefined) ? (x[\"rowIndex\"]=(ev.rowIndex+1)) : undefined; (ev.colDef!==undefined) ? (x[\"column\"]=ev.colDef.headerName) : undefined; return WebIO.setval({\"name\":\"onCellDoubleClicked\",\"scope\":\"3380959971419576956\",\"id\":\"ob_212\",\"type\":\"observable\"},x)}),\"onCellKeyDown\":(function (ev){var x={}; (ev.rowIndex!==undefined) ? (x[\"rowIndex\"]=(ev.rowIndex+1)) : undefined; (ev.colDef!==undefined) ? (x[\"column\"]=ev.colDef.headerName) : undefined; return WebIO.setval({\"name\":\"onCellKeyDown\",\"scope\":\"3380959971419576956\",\"id\":\"ob_215\",\"type\":\"observable\"},x)}),\"onCellClicked\":(function (ev){var x={}; (ev.rowIndex!==undefined) ? (x[\"rowIndex\"]=(ev.rowIndex+1)) : undefined; (ev.colDef!==undefined) ? (x[\"column\"]=ev.colDef.headerName) : undefined; return WebIO.setval({\"name\":\"onCellClicked\",\"scope\":\"3380959971419576956\",\"id\":\"ob_211\",\"type\":\"observable\"},x)})}; var el=document.getElementById(\"grid-a3b9ec3a\"); gridOptions.components={\"rowNumberRenderer\":RowNumberRenderer}; this.table=new agGrid.Grid(el,gridOptions); gridOptions.columnApi.autoSizeColumn(\"__row__\"); return gridOptions.columnApi.autoSizeColumns([\"date\",\"casesIncrease\",\"casesIncreaseMA\",\"pch_casesIncreaseMA\",\"cases\",\"casesMA\",\"pch_casesMA\"])}));\n    (WebIO.importBlock({\"data\":[{\"name\":null,\"type\":\"js\",\"url\":\"/assetserver/8a878f8aac4fcc3aa0fe3544f3b6004cfb87e28d-rowNumberRenderer.js\"},{\"name\":null,\"type\":\"js\",\"url\":\"/assetserver/49affd7ae36d0aac75380aa149861ff1594bff9c-ag-grid.js\"},{\"name\":null,\"type\":\"css\",\"url\":\"/assetserver/44eec805f61ccdf030080bfd1a559f03509a0021-ag-grid.css\"},{\"name\":null,\"type\":\"css\",\"url\":\"/assetserver/e4213c8e832c90aaafe2b3164c0bbb5b67c7a305-ag-grid-light.css\"},{\"name\":null,\"type\":\"css\",\"url\":\"/assetserver/b082734171f365ccefe5d7b6015f8162af17e3a6-ag-grid-dark.css\"}],\"type\":\"async_block\"})).then((imports) => handler.apply(this, imports));\n}\n"
        ],
        "observables": {
         "onCellClicked": {
          "id": "ob_211",
          "sync": false,
          "value": null
         },
         "onCellDoubleClicked": {
          "id": "ob_212",
          "sync": false,
          "value": null
         },
         "onCellFocused": {
          "id": "ob_214",
          "sync": false,
          "value": null
         },
         "onCellKeyDown": {
          "id": "ob_215",
          "sync": false,
          "value": null
         },
         "onRowClicked": {
          "id": "ob_213",
          "sync": false,
          "value": null
         },
         "requestedrows": {
          "id": "ob_217",
          "sync": false,
          "value": {}
         },
         "rowparams": {
          "id": "ob_216",
          "sync": true,
          "value": {
           "endRow": 100,
           "startRow": 1,
           "successCallback": "(function (v){return null})"
          }
         }
        },
        "systemjs_options": null
       },
       "nodeType": "Scope",
       "props": {},
       "type": "node"
      },
      "text/html": [
       "<div\n",
       "    class=\"webio-mountpoint\"\n",
       "    data-webio-mountpoint=\"14367277749839197960\"\n",
       ">\n",
       "    <script>\n",
       "    if (window.require && require.defined && require.defined(\"nbextensions/webio-jupyter-notebook\")) {\n",
       "        console.log(\"Jupyter WebIO extension detected, not mounting.\");\n",
       "    } else if (window.WebIO) {\n",
       "        WebIO.mount(\n",
       "            document.querySelector('[data-webio-mountpoint=\"14367277749839197960\"]'),\n",
       "            {\"props\":{},\"nodeType\":\"Scope\",\"type\":\"node\",\"instanceArgs\":{\"imports\":{\"data\":[{\"name\":null,\"type\":\"js\",\"url\":\"\\/assetserver\\/8a878f8aac4fcc3aa0fe3544f3b6004cfb87e28d-rowNumberRenderer.js\"},{\"name\":null,\"type\":\"js\",\"url\":\"\\/assetserver\\/49affd7ae36d0aac75380aa149861ff1594bff9c-ag-grid.js\"},{\"name\":null,\"type\":\"css\",\"url\":\"\\/assetserver\\/44eec805f61ccdf030080bfd1a559f03509a0021-ag-grid.css\"},{\"name\":null,\"type\":\"css\",\"url\":\"\\/assetserver\\/e4213c8e832c90aaafe2b3164c0bbb5b67c7a305-ag-grid-light.css\"},{\"name\":null,\"type\":\"css\",\"url\":\"\\/assetserver\\/b082734171f365ccefe5d7b6015f8162af17e3a6-ag-grid-dark.css\"}],\"type\":\"async_block\"},\"id\":\"3380959971419576956\",\"handlers\":{\"requestedrows\":[\"(function (val){return WebIO.getval({\\\"name\\\":\\\"rowparams\\\",\\\"scope\\\":\\\"3380959971419576956\\\",\\\"id\\\":\\\"ob_216\\\",\\\"type\\\":\\\"observable\\\"}).successCallback(val,null)})\"]},\"systemjs_options\":null,\"mount_callbacks\":[\"function () {\\n    var handler = ((function (RowNumberRenderer,agGrid){var gridOptions={\\\"onCellFocused\\\":(function (ev){var x={}; (ev.rowIndex!==undefined) ? (x[\\\"rowIndex\\\"]=(ev.rowIndex+1)) : undefined; (ev.colDef!==undefined) ? (x[\\\"column\\\"]=ev.colDef.headerName) : undefined; return WebIO.setval({\\\"name\\\":\\\"onCellFocused\\\",\\\"scope\\\":\\\"3380959971419576956\\\",\\\"id\\\":\\\"ob_214\\\",\\\"type\\\":\\\"observable\\\"},x)}),\\\"onCellValueChanged\\\":(function (){return }),\\\"rowModelType\\\":\\\"infinite\\\",\\\"onRowClicked\\\":(function (ev){var x={}; (ev.rowIndex!==undefined) ? (x[\\\"rowIndex\\\"]=(ev.rowIndex+1)) : undefined; (ev.colDef!==undefined) ? (x[\\\"column\\\"]=ev.colDef.headerName) : undefined; return WebIO.setval({\\\"name\\\":\\\"onRowClicked\\\",\\\"scope\\\":\\\"3380959971419576956\\\",\\\"id\\\":\\\"ob_213\\\",\\\"type\\\":\\\"observable\\\"},x)}),\\\"maxConcurrentDatasourceRequests\\\":1,\\\"columnDefs\\\":[{\\\"filter\\\":false,\\\"editable\\\":false,\\\"headerTooltip\\\":\\\"\\\",\\\"field\\\":\\\"__row__\\\",\\\"headerName\\\":\\\"Row\\\",\\\"sortable\\\":false,\\\"type\\\":\\\"numericColumn\\\",\\\"cellRenderer\\\":\\\"rowNumberRenderer\\\",\\\"resizable\\\":true},{\\\"filter\\\":false,\\\"editable\\\":false,\\\"headerTooltip\\\":\\\"Date\\\",\\\"field\\\":\\\"date\\\",\\\"headerName\\\":\\\"date\\\",\\\"sortable\\\":false,\\\"type\\\":null,\\\"resizable\\\":true},{\\\"filter\\\":false,\\\"editable\\\":false,\\\"headerTooltip\\\":\\\"Int64\\\",\\\"field\\\":\\\"casesIncrease\\\",\\\"headerName\\\":\\\"casesIncrease\\\",\\\"sortable\\\":false,\\\"type\\\":\\\"numericColumn\\\",\\\"resizable\\\":true},{\\\"filter\\\":false,\\\"editable\\\":false,\\\"headerTooltip\\\":\\\"Float64\\\",\\\"field\\\":\\\"casesIncreaseMA\\\",\\\"headerName\\\":\\\"casesIncreaseMA\\\",\\\"sortable\\\":false,\\\"type\\\":\\\"numericColumn\\\",\\\"resizable\\\":true},{\\\"filter\\\":false,\\\"editable\\\":false,\\\"headerTooltip\\\":\\\"Float64\\\",\\\"field\\\":\\\"pch_casesIncreaseMA\\\",\\\"headerName\\\":\\\"pch_casesIncreaseMA\\\",\\\"sortable\\\":false,\\\"type\\\":\\\"numericColumn\\\",\\\"resizable\\\":true},{\\\"filter\\\":false,\\\"editable\\\":false,\\\"headerTooltip\\\":\\\"Int64\\\",\\\"field\\\":\\\"cases\\\",\\\"headerName\\\":\\\"cases\\\",\\\"sortable\\\":false,\\\"type\\\":\\\"numericColumn\\\",\\\"resizable\\\":true},{\\\"filter\\\":false,\\\"editable\\\":false,\\\"headerTooltip\\\":\\\"Float64\\\",\\\"field\\\":\\\"casesMA\\\",\\\"headerName\\\":\\\"casesMA\\\",\\\"sortable\\\":false,\\\"type\\\":\\\"numericColumn\\\",\\\"resizable\\\":true},{\\\"filter\\\":false,\\\"editable\\\":false,\\\"headerTooltip\\\":\\\"Float64\\\",\\\"field\\\":\\\"pch_casesMA\\\",\\\"headerName\\\":\\\"pch_casesMA\\\",\\\"sortable\\\":false,\\\"type\\\":\\\"numericColumn\\\",\\\"resizable\\\":true}],\\\"cacheBlockSize\\\":1000,\\\"datasource\\\":{\\\"rowCount\\\":null,\\\"getRows\\\":(function (rowParams){return WebIO.setval({\\\"name\\\":\\\"rowparams\\\",\\\"scope\\\":\\\"3380959971419576956\\\",\\\"id\\\":\\\"ob_216\\\",\\\"type\\\":\\\"observable\\\"},rowParams)})},\\\"multiSortKey\\\":\\\"ctrl\\\",\\\"maxBlocksInCache\\\":100,\\\"onCellDoubleClicked\\\":(function (ev){var x={}; (ev.rowIndex!==undefined) ? (x[\\\"rowIndex\\\"]=(ev.rowIndex+1)) : undefined; (ev.colDef!==undefined) ? (x[\\\"column\\\"]=ev.colDef.headerName) : undefined; return WebIO.setval({\\\"name\\\":\\\"onCellDoubleClicked\\\",\\\"scope\\\":\\\"3380959971419576956\\\",\\\"id\\\":\\\"ob_212\\\",\\\"type\\\":\\\"observable\\\"},x)}),\\\"onCellKeyDown\\\":(function (ev){var x={}; (ev.rowIndex!==undefined) ? (x[\\\"rowIndex\\\"]=(ev.rowIndex+1)) : undefined; (ev.colDef!==undefined) ? (x[\\\"column\\\"]=ev.colDef.headerName) : undefined; return WebIO.setval({\\\"name\\\":\\\"onCellKeyDown\\\",\\\"scope\\\":\\\"3380959971419576956\\\",\\\"id\\\":\\\"ob_215\\\",\\\"type\\\":\\\"observable\\\"},x)}),\\\"onCellClicked\\\":(function (ev){var x={}; (ev.rowIndex!==undefined) ? (x[\\\"rowIndex\\\"]=(ev.rowIndex+1)) : undefined; (ev.colDef!==undefined) ? (x[\\\"column\\\"]=ev.colDef.headerName) : undefined; return WebIO.setval({\\\"name\\\":\\\"onCellClicked\\\",\\\"scope\\\":\\\"3380959971419576956\\\",\\\"id\\\":\\\"ob_211\\\",\\\"type\\\":\\\"observable\\\"},x)})}; var el=document.getElementById(\\\"grid-a3b9ec3a\\\"); gridOptions.components={\\\"rowNumberRenderer\\\":RowNumberRenderer}; this.table=new agGrid.Grid(el,gridOptions); gridOptions.columnApi.autoSizeColumn(\\\"__row__\\\"); return gridOptions.columnApi.autoSizeColumns([\\\"date\\\",\\\"casesIncrease\\\",\\\"casesIncreaseMA\\\",\\\"pch_casesIncreaseMA\\\",\\\"cases\\\",\\\"casesMA\\\",\\\"pch_casesMA\\\"])}));\\n    (WebIO.importBlock({\\\"data\\\":[{\\\"name\\\":null,\\\"type\\\":\\\"js\\\",\\\"url\\\":\\\"\\/assetserver\\/8a878f8aac4fcc3aa0fe3544f3b6004cfb87e28d-rowNumberRenderer.js\\\"},{\\\"name\\\":null,\\\"type\\\":\\\"js\\\",\\\"url\\\":\\\"\\/assetserver\\/49affd7ae36d0aac75380aa149861ff1594bff9c-ag-grid.js\\\"},{\\\"name\\\":null,\\\"type\\\":\\\"css\\\",\\\"url\\\":\\\"\\/assetserver\\/44eec805f61ccdf030080bfd1a559f03509a0021-ag-grid.css\\\"},{\\\"name\\\":null,\\\"type\\\":\\\"css\\\",\\\"url\\\":\\\"\\/assetserver\\/e4213c8e832c90aaafe2b3164c0bbb5b67c7a305-ag-grid-light.css\\\"},{\\\"name\\\":null,\\\"type\\\":\\\"css\\\",\\\"url\\\":\\\"\\/assetserver\\/b082734171f365ccefe5d7b6015f8162af17e3a6-ag-grid-dark.css\\\"}],\\\"type\\\":\\\"async_block\\\"})).then((imports) => handler.apply(this, imports));\\n}\\n\"],\"observables\":{\"onCellKeyDown\":{\"sync\":false,\"id\":\"ob_215\",\"value\":null},\"onRowClicked\":{\"sync\":false,\"id\":\"ob_213\",\"value\":null},\"onCellDoubleClicked\":{\"sync\":false,\"id\":\"ob_212\",\"value\":null},\"requestedrows\":{\"sync\":false,\"id\":\"ob_217\",\"value\":{}},\"onCellClicked\":{\"sync\":false,\"id\":\"ob_211\",\"value\":null},\"onCellFocused\":{\"sync\":false,\"id\":\"ob_214\",\"value\":null},\"rowparams\":{\"sync\":true,\"id\":\"ob_216\",\"value\":{\"successCallback\":\"(function (v){return null})\",\"startRow\":1,\"endRow\":100}}}},\"children\":[{\"props\":{},\"nodeType\":\"DOM\",\"type\":\"node\",\"instanceArgs\":{\"namespace\":\"html\",\"tag\":\"div\"},\"children\":[{\"props\":{\"style\":{\"height\":\"0\",\"padding\":\"0\",\"background-color\":\"#F5F7F7\",\"color\":\"#1c1f20\",\"font-family\":\"-apple-system, BlinkMacSystemFont, \\\"Segoe UI\\\", Roboto, Oxygen-Sans, Ubuntu, Cantarell, \\\"Helvetica Neue\\\", sans-serif\"}},\"nodeType\":\"DOM\",\"type\":\"node\",\"instanceArgs\":{\"namespace\":\"html\",\"tag\":\"div\"},\"children\":[\"\"]},{\"props\":{\"id\":\"grid-a3b9ec3a\",\"className\":\"ag-theme-balham\",\"style\":{\"height\":\"500px\",\"width\":\"100%\"}},\"nodeType\":\"DOM\",\"type\":\"node\",\"instanceArgs\":{\"namespace\":\"html\",\"tag\":\"div\"},\"children\":[]}]}]},\n",
       "            window,\n",
       "        );\n",
       "    } else {\n",
       "        document\n",
       "            .querySelector('[data-webio-mountpoint=\"14367277749839197960\"]')\n",
       "            .innerHTML = (\n",
       "                '<div style=\"padding: 1em; background-color: #f8d6da; border: 1px solid #f5c6cb\">' +\n",
       "                '<p><strong>WebIO not detected.</strong></p>' +\n",
       "                '<p>Please read ' +\n",
       "                '<a href=\"https://juliagizmos.github.io/WebIO.jl/latest/troubleshooting/not-detected/\" target=\"_blank\">the troubleshooting guide</a> ' +\n",
       "                'for more information on how to resolve this issue.</p>' +\n",
       "                '<p><a href=\"https://juliagizmos.github.io/WebIO.jl/latest/troubleshooting/not-detected/\" target=\"_blank\">https://juliagizmos.github.io/WebIO.jl/latest/troubleshooting/not-detected/</a></p>' +\n",
       "                '</div>'\n",
       "            );\n",
       "    }\n",
       "    </script>\n",
       "</div>\n"
      ],
      "text/plain": [
       "WebIO.Scope(WebIO.Node{WebIO.DOM}(WebIO.DOM(:html, :div), Any[WebIO.Node{WebIO.DOM}(WebIO.DOM(:html, :div), Any[\"\"], Dict{Symbol,Any}(:style => Dict(\"height\" => \"0\",\"padding\" => \"0\",\"background-color\" => \"#F5F7F7\",\"color\" => \"#1c1f20\",\"font-family\" => \"-apple-system, BlinkMacSystemFont, \\\"Segoe UI\\\", Roboto, Oxygen-Sans, Ubuntu, Cantarell, \\\"Helvetica Neue\\\", sans-serif\"))), WebIO.Node{WebIO.DOM}(WebIO.DOM(:html, :div), Any[], Dict{Symbol,Any}(:id => \"grid-a3b9ec3a\",:className => \"ag-theme-balham\",:style => Dict(\"height\" => \"500px\",\"width\" => \"100%\")))], Dict{Symbol,Any}()), Dict{String,Tuple{Observables.AbstractObservable,Union{Nothing, Bool}}}(\"onCellKeyDown\" => (Observable{Any} with 0 listeners. Value:\n",
       "nothing, nothing),\"onRowClicked\" => (Observable{Any} with 0 listeners. Value:\n",
       "nothing, nothing),\"onCellDoubleClicked\" => (Observable{Any} with 0 listeners. Value:\n",
       "nothing, nothing),\"requestedrows\" => (Observable{JSON.Writer.JSONText} with 1 listeners. Value:\n",
       "JSON.Writer.JSONText(\"{}\"), nothing),\"onCellClicked\" => (Observable{Any} with 0 listeners. Value:\n",
       "nothing, nothing),\"onCellFocused\" => (Observable{Any} with 0 listeners. Value:\n",
       "nothing, nothing),\"rowparams\" => (Observable{Dict{String,Any}} with 1 listeners. Value:\n",
       "Dict{String,Any}(\"successCallback\" => WebIO.JSString(\"(function (v){return null})\"),\"startRow\" => 1,\"endRow\" => 100), nothing)), Set(String[]), nothing, WebIO.Asset[WebIO.Asset(\"js\", nothing, \"/Users/cdaniels/.julia/packages/TableView/CxWLO/src/rowNumberRenderer.js\"), WebIO.Asset(\"js\", nothing, \"/Users/cdaniels/.julia/packages/TableView/CxWLO/deps/ag-grid-22.1.0/ag-grid.js\"), WebIO.Asset(\"css\", nothing, \"/Users/cdaniels/.julia/packages/TableView/CxWLO/deps/ag-grid-22.1.0/ag-grid.css\"), WebIO.Asset(\"css\", nothing, \"/Users/cdaniels/.julia/packages/TableView/CxWLO/deps/ag-grid-22.1.0/ag-grid-light.css\"), WebIO.Asset(\"css\", nothing, \"/Users/cdaniels/.julia/packages/TableView/CxWLO/deps/ag-grid-22.1.0/ag-grid-dark.css\")], Dict{Any,Any}(\"requestedrows\" => Any[WebIO.JSString(\"(function (val){return WebIO.getval({\\\"name\\\":\\\"rowparams\\\",\\\"scope\\\":\\\"3380959971419576956\\\",\\\"id\\\":\\\"ob_216\\\",\\\"type\\\":\\\"observable\\\"}).successCallback(val,null)})\")]), WebIO.ConnectionPool(Channel{Any}(sz_max:32,sz_curr:0), Set(WebIO.AbstractConnection[]), Base.GenericCondition{Base.AlwaysLockedST}(Base.InvasiveLinkedList{Task}(Task (runnable) @0x000000011d2f1f90, Task (runnable) @0x000000011d2f1f90), Base.AlwaysLockedST(1))), WebIO.JSString[WebIO.JSString(\"function () {\\n    var handler = ((function (RowNumberRenderer,agGrid){var gridOptions={\\\"onCellFocused\\\":(function (ev){var x={}; (ev.rowIndex!==undefined) ? (x[\\\"rowIndex\\\"]=(ev.rowIndex+1)) : undefined; (ev.colDef!==undefined) ? (x[\\\"column\\\"]=ev.colDef.headerName) : undefined; return WebIO.setval({\\\"name\\\":\\\"onCellFocused\\\",\\\"scope\\\":\\\"3380959971419576956\\\",\\\"id\\\":\\\"ob_214\\\",\\\"type\\\":\\\"observable\\\"},x)}),\\\"onCellValueChanged\\\":(function (){return }),\\\"rowModelType\\\":\\\"infinite\\\",\\\"onRowClicked\\\":(function (ev){var x={}; (ev.rowIndex!==undefined) ? (x[\\\"rowIndex\\\"]=(ev.rowIndex+1)) : undefined; (ev.colDef!==undefined) ? (x[\\\"column\\\"]=ev.colDef.headerName) : undefined; return WebIO.setval({\\\"name\\\":\\\"onRowClicked\\\",\\\"scope\\\":\\\"3380959971419576956\\\",\\\"id\\\":\\\"ob_213\\\",\\\"type\\\":\\\"observable\\\"},x)}),\\\"maxConcurrentDatasourceRequests\\\":1,\\\"columnDefs\\\":[{\\\"filter\\\":false,\\\"editable\\\":false,\\\"headerTooltip\\\":\\\"\\\",\\\"field\\\":\\\"__row__\\\",\\\"headerName\\\":\\\"Row\\\",\\\"sortable\\\":false,\\\"type\\\":\\\"numericColumn\\\",\\\"cellRenderer\\\":\\\"rowNumberRenderer\\\",\\\"resizable\\\":true},{\\\"filter\\\":false,\\\"editable\\\":false,\\\"headerTooltip\\\":\\\"Date\\\",\\\"field\\\":\\\"date\\\",\\\"headerName\\\":\\\"date\\\",\\\"sortable\\\":false,\\\"type\\\":null,\\\"resizable\\\":true},{\\\"filter\\\":false,\\\"editable\\\":false,\\\"headerTooltip\\\":\\\"Int64\\\",\\\"field\\\":\\\"casesIncrease\\\",\\\"headerName\\\":\\\"casesIncrease\\\",\\\"sortable\\\":false,\\\"type\\\":\\\"numericColumn\\\",\\\"resizable\\\":true},{\\\"filter\\\":false,\\\"editable\\\":false,\\\"headerTooltip\\\":\\\"Float64\\\",\\\"field\\\":\\\"casesIncreaseMA\\\",\\\"headerName\\\":\\\"casesIncreaseMA\\\",\\\"sortable\\\":false,\\\"type\\\":\\\"numericColumn\\\",\\\"resizable\\\":true},{\\\"filter\\\":false,\\\"editable\\\":false,\\\"headerTooltip\\\":\\\"Float64\\\",\\\"field\\\":\\\"pch_casesIncreaseMA\\\",\\\"headerName\\\":\\\"pch_casesIncreaseMA\\\",\\\"sortable\\\":false,\\\"type\\\":\\\"numericColumn\\\",\\\"resizable\\\":true},{\\\"filter\\\":false,\\\"editable\\\":false,\\\"headerTooltip\\\":\\\"Int64\\\",\\\"field\\\":\\\"cases\\\",\\\"headerName\\\":\\\"cases\\\",\\\"sortable\\\":false,\\\"type\\\":\\\"numericColumn\\\",\\\"resizable\\\":true},{\\\"filter\\\":false,\\\"editable\\\":false,\\\"headerTooltip\\\":\\\"Float64\\\",\\\"field\\\":\\\"casesMA\\\",\\\"headerName\\\":\\\"casesMA\\\",\\\"sortable\\\":false,\\\"type\\\":\\\"numericColumn\\\",\\\"resizable\\\":true},{\\\"filter\\\":false,\\\"editable\\\":false,\\\"headerTooltip\\\":\\\"Float64\\\",\\\"field\\\":\\\"pch_casesMA\\\",\\\"headerName\\\":\\\"pch_casesMA\\\",\\\"sortable\\\":false,\\\"type\\\":\\\"numericColumn\\\",\\\"resizable\\\":true}],\\\"cacheBlockSize\\\":1000,\\\"datasource\\\":{\\\"rowCount\\\":null,\\\"getRows\\\":(function (rowParams){return WebIO.setval({\\\"name\\\":\\\"rowparams\\\",\\\"scope\\\":\\\"3380959971419576956\\\",\\\"id\\\":\\\"ob_216\\\",\\\"type\\\":\\\"observable\\\"},rowParams)})},\\\"multiSortKey\\\":\\\"ctrl\\\",\\\"maxBlocksInCache\\\":100,\\\"onCellDoubleClicked\\\":(function (ev){var x={}; (ev.rowIndex!==undefined) ? (x[\\\"rowIndex\\\"]=(ev.rowIndex+1)) : undefined; (ev.colDef!==undefined) ? (x[\\\"column\\\"]=ev.colDef.headerName) : undefined; return WebIO.setval({\\\"name\\\":\\\"onCellDoubleClicked\\\",\\\"scope\\\":\\\"3380959971419576956\\\",\\\"id\\\":\\\"ob_212\\\",\\\"type\\\":\\\"observable\\\"},x)}),\\\"onCellKeyDown\\\":(function (ev){var x={}; (ev.rowIndex!==undefined) ? (x[\\\"rowIndex\\\"]=(ev.rowIndex+1)) : undefined; (ev.colDef!==undefined) ? (x[\\\"column\\\"]=ev.colDef.headerName) : undefined; return WebIO.setval({\\\"name\\\":\\\"onCellKeyDown\\\",\\\"scope\\\":\\\"3380959971419576956\\\",\\\"id\\\":\\\"ob_215\\\",\\\"type\\\":\\\"observable\\\"},x)}),\\\"onCellClicked\\\":(function (ev){var x={}; (ev.rowIndex!==undefined) ? (x[\\\"rowIndex\\\"]=(ev.rowIndex+1)) : undefined; (ev.colDef!==undefined) ? (x[\\\"column\\\"]=ev.colDef.headerName) : undefined; return WebIO.setval({\\\"name\\\":\\\"onCellClicked\\\",\\\"scope\\\":\\\"3380959971419576956\\\",\\\"id\\\":\\\"ob_211\\\",\\\"type\\\":\\\"observable\\\"},x)})}; var el=document.getElementById(\\\"grid-a3b9ec3a\\\"); gridOptions.components={\\\"rowNumberRenderer\\\":RowNumberRenderer}; this.table=new agGrid.Grid(el,gridOptions); gridOptions.columnApi.autoSizeColumn(\\\"__row__\\\"); return gridOptions.columnApi.autoSizeColumns([\\\"date\\\",\\\"casesIncrease\\\",\\\"casesIncreaseMA\\\",\\\"pch_casesIncreaseMA\\\",\\\"cases\\\",\\\"casesMA\\\",\\\"pch_casesMA\\\"])}));\\n    (WebIO.importBlock({\\\"data\\\":[{\\\"name\\\":null,\\\"type\\\":\\\"js\\\",\\\"url\\\":\\\"/assetserver/8a878f8aac4fcc3aa0fe3544f3b6004cfb87e28d-rowNumberRenderer.js\\\"},{\\\"name\\\":null,\\\"type\\\":\\\"js\\\",\\\"url\\\":\\\"/assetserver/49affd7ae36d0aac75380aa149861ff1594bff9c-ag-grid.js\\\"},{\\\"name\\\":null,\\\"type\\\":\\\"css\\\",\\\"url\\\":\\\"/assetserver/44eec805f61ccdf030080bfd1a559f03509a0021-ag-grid.css\\\"},{\\\"name\\\":null,\\\"type\\\":\\\"css\\\",\\\"url\\\":\\\"/assetserver/e4213c8e832c90aaafe2b3164c0bbb5b67c7a305-ag-grid-light.css\\\"},{\\\"name\\\":null,\\\"type\\\":\\\"css\\\",\\\"url\\\":\\\"/assetserver/b082734171f365ccefe5d7b6015f8162af17e3a6-ag-grid-dark.css\\\"}],\\\"type\\\":\\\"async_block\\\"})).then((imports) => handler.apply(this, imports));\\n}\\n\")])"
      ]
     },
     "execution_count": 58,
     "metadata": {
      "application/vnd.webio.node+json": {
       "kernelId": "3229260e-45e1-405c-811b-0c4817f5e87c"
      }
     },
     "output_type": "execute_result"
    }
   ],
   "source": [
    "@tbl sort(select_region(dfc,\"Illinois\",\"Cook\",\n",
    "    [:date,:casesIncrease,:casesIncreaseMA,:pch_casesIncreaseMA,:cases,:casesMA,:pch_casesMA]),rev=false)"
   ]
  },
  {
   "cell_type": "markdown",
   "metadata": {},
   "source": [
    "## Aggregation By County"
   ]
  },
  {
   "cell_type": "code",
   "execution_count": 59,
   "metadata": {
    "scrolled": true
   },
   "outputs": [
    {
     "name": "stdout",
     "output_type": "stream",
     "text": [
      "  0.075210 seconds (598.35 k allocations: 26.012 MiB)\n"
     ]
    },
    {
     "data": {
      "application/vnd.webio.node+json": {
       "children": [
        {
         "children": [
          {
           "children": [
            ""
           ],
           "instanceArgs": {
            "namespace": "html",
            "tag": "div"
           },
           "nodeType": "DOM",
           "props": {
            "style": {
             "background-color": "#F5F7F7",
             "color": "#1c1f20",
             "font-family": "-apple-system, BlinkMacSystemFont, \"Segoe UI\", Roboto, Oxygen-Sans, Ubuntu, Cantarell, \"Helvetica Neue\", sans-serif",
             "height": "0",
             "padding": "0"
            }
           },
           "type": "node"
          },
          {
           "children": [],
           "instanceArgs": {
            "namespace": "html",
            "tag": "div"
           },
           "nodeType": "DOM",
           "props": {
            "className": "ag-theme-balham",
            "id": "grid-a44565e2",
            "style": {
             "height": "500px",
             "width": "100%"
            }
           },
           "type": "node"
          }
         ],
         "instanceArgs": {
          "namespace": "html",
          "tag": "div"
         },
         "nodeType": "DOM",
         "props": {},
         "type": "node"
        }
       ],
       "instanceArgs": {
        "handlers": {
         "requestedrows": [
          "(function (val){return WebIO.getval({\"name\":\"rowparams\",\"scope\":\"5062946008541036367\",\"id\":\"ob_223\",\"type\":\"observable\"}).successCallback(val,null)})"
         ]
        },
        "id": "5062946008541036367",
        "imports": {
         "data": [
          {
           "name": null,
           "type": "js",
           "url": "/assetserver/8a878f8aac4fcc3aa0fe3544f3b6004cfb87e28d-rowNumberRenderer.js"
          },
          {
           "name": null,
           "type": "js",
           "url": "/assetserver/49affd7ae36d0aac75380aa149861ff1594bff9c-ag-grid.js"
          },
          {
           "name": null,
           "type": "css",
           "url": "/assetserver/44eec805f61ccdf030080bfd1a559f03509a0021-ag-grid.css"
          },
          {
           "name": null,
           "type": "css",
           "url": "/assetserver/e4213c8e832c90aaafe2b3164c0bbb5b67c7a305-ag-grid-light.css"
          },
          {
           "name": null,
           "type": "css",
           "url": "/assetserver/b082734171f365ccefe5d7b6015f8162af17e3a6-ag-grid-dark.css"
          }
         ],
         "type": "async_block"
        },
        "mount_callbacks": [
         "function () {\n    var handler = ((function (RowNumberRenderer,agGrid){var gridOptions={\"onCellFocused\":(function (ev){var x={}; (ev.rowIndex!==undefined) ? (x[\"rowIndex\"]=(ev.rowIndex+1)) : undefined; (ev.colDef!==undefined) ? (x[\"column\"]=ev.colDef.headerName) : undefined; return WebIO.setval({\"name\":\"onCellFocused\",\"scope\":\"5062946008541036367\",\"id\":\"ob_221\",\"type\":\"observable\"},x)}),\"onCellValueChanged\":(function (){return }),\"rowModelType\":\"infinite\",\"onRowClicked\":(function (ev){var x={}; (ev.rowIndex!==undefined) ? (x[\"rowIndex\"]=(ev.rowIndex+1)) : undefined; (ev.colDef!==undefined) ? (x[\"column\"]=ev.colDef.headerName) : undefined; return WebIO.setval({\"name\":\"onRowClicked\",\"scope\":\"5062946008541036367\",\"id\":\"ob_220\",\"type\":\"observable\"},x)}),\"maxConcurrentDatasourceRequests\":1,\"columnDefs\":[{\"filter\":false,\"editable\":false,\"headerTooltip\":\"\",\"field\":\"__row__\",\"headerName\":\"Row\",\"sortable\":false,\"type\":\"numericColumn\",\"cellRenderer\":\"rowNumberRenderer\",\"resizable\":true},{\"filter\":false,\"editable\":false,\"headerTooltip\":\"Date\",\"field\":\"date\",\"headerName\":\"date\",\"sortable\":false,\"type\":null,\"resizable\":true},{\"filter\":false,\"editable\":false,\"headerTooltip\":\"String\",\"field\":\"state\",\"headerName\":\"state\",\"sortable\":false,\"type\":null,\"resizable\":true},{\"filter\":false,\"editable\":false,\"headerTooltip\":\"String\",\"field\":\"county\",\"headerName\":\"county\",\"sortable\":false,\"type\":null,\"resizable\":true},{\"filter\":false,\"editable\":false,\"headerTooltip\":\"String\",\"field\":\"fips\",\"headerName\":\"fips\",\"sortable\":false,\"type\":null,\"resizable\":true},{\"filter\":false,\"editable\":false,\"headerTooltip\":\"Int64\",\"field\":\"cases\",\"headerName\":\"cases\",\"sortable\":false,\"type\":\"numericColumn\",\"resizable\":true},{\"filter\":false,\"editable\":false,\"headerTooltip\":\"Float64\",\"field\":\"casesMA\",\"headerName\":\"casesMA\",\"sortable\":false,\"type\":\"numericColumn\",\"resizable\":true},{\"filter\":false,\"editable\":false,\"headerTooltip\":\"Float64\",\"field\":\"pch_casesMA\",\"headerName\":\"pch_casesMA\",\"sortable\":false,\"type\":\"numericColumn\",\"resizable\":true},{\"filter\":false,\"editable\":false,\"headerTooltip\":\"Int64\",\"field\":\"casesIncrease\",\"headerName\":\"casesIncrease\",\"sortable\":false,\"type\":\"numericColumn\",\"resizable\":true},{\"filter\":false,\"editable\":false,\"headerTooltip\":\"Float64\",\"field\":\"casesIncreaseMA\",\"headerName\":\"casesIncreaseMA\",\"sortable\":false,\"type\":\"numericColumn\",\"resizable\":true},{\"filter\":false,\"editable\":false,\"headerTooltip\":\"Float64\",\"field\":\"pch_casesIncreaseMA\",\"headerName\":\"pch_casesIncreaseMA\",\"sortable\":false,\"type\":\"numericColumn\",\"resizable\":true},{\"filter\":false,\"editable\":false,\"headerTooltip\":\"Int64\",\"field\":\"deaths\",\"headerName\":\"deaths\",\"sortable\":false,\"type\":\"numericColumn\",\"resizable\":true},{\"filter\":false,\"editable\":false,\"headerTooltip\":\"Float64\",\"field\":\"deathsMA\",\"headerName\":\"deathsMA\",\"sortable\":false,\"type\":\"numericColumn\",\"resizable\":true},{\"filter\":false,\"editable\":false,\"headerTooltip\":\"Float64\",\"field\":\"pch_deathsMA\",\"headerName\":\"pch_deathsMA\",\"sortable\":false,\"type\":\"numericColumn\",\"resizable\":true},{\"filter\":false,\"editable\":false,\"headerTooltip\":\"Int64\",\"field\":\"deathsIncrease\",\"headerName\":\"deathsIncrease\",\"sortable\":false,\"type\":\"numericColumn\",\"resizable\":true},{\"filter\":false,\"editable\":false,\"headerTooltip\":\"Float64\",\"field\":\"deathsIncreaseMA\",\"headerName\":\"deathsIncreaseMA\",\"sortable\":false,\"type\":\"numericColumn\",\"resizable\":true},{\"filter\":false,\"editable\":false,\"headerTooltip\":\"Float64\",\"field\":\"pch_deathsIncreaseMA\",\"headerName\":\"pch_deathsIncreaseMA\",\"sortable\":false,\"type\":\"numericColumn\",\"resizable\":true},{\"filter\":false,\"editable\":false,\"headerTooltip\":\"Int64\",\"field\":\"population\",\"headerName\":\"population\",\"sortable\":false,\"type\":\"numericColumn\",\"resizable\":true}],\"cacheBlockSize\":1000,\"datasource\":{\"rowCount\":null,\"getRows\":(function (rowParams){return WebIO.setval({\"name\":\"rowparams\",\"scope\":\"5062946008541036367\",\"id\":\"ob_223\",\"type\":\"observable\"},rowParams)})},\"multiSortKey\":\"ctrl\",\"maxBlocksInCache\":100,\"onCellDoubleClicked\":(function (ev){var x={}; (ev.rowIndex!==undefined) ? (x[\"rowIndex\"]=(ev.rowIndex+1)) : undefined; (ev.colDef!==undefined) ? (x[\"column\"]=ev.colDef.headerName) : undefined; return WebIO.setval({\"name\":\"onCellDoubleClicked\",\"scope\":\"5062946008541036367\",\"id\":\"ob_219\",\"type\":\"observable\"},x)}),\"onCellKeyDown\":(function (ev){var x={}; (ev.rowIndex!==undefined) ? (x[\"rowIndex\"]=(ev.rowIndex+1)) : undefined; (ev.colDef!==undefined) ? (x[\"column\"]=ev.colDef.headerName) : undefined; return WebIO.setval({\"name\":\"onCellKeyDown\",\"scope\":\"5062946008541036367\",\"id\":\"ob_222\",\"type\":\"observable\"},x)}),\"onCellClicked\":(function (ev){var x={}; (ev.rowIndex!==undefined) ? (x[\"rowIndex\"]=(ev.rowIndex+1)) : undefined; (ev.colDef!==undefined) ? (x[\"column\"]=ev.colDef.headerName) : undefined; return WebIO.setval({\"name\":\"onCellClicked\",\"scope\":\"5062946008541036367\",\"id\":\"ob_218\",\"type\":\"observable\"},x)})}; var el=document.getElementById(\"grid-a44565e2\"); gridOptions.components={\"rowNumberRenderer\":RowNumberRenderer}; this.table=new agGrid.Grid(el,gridOptions); gridOptions.columnApi.autoSizeColumn(\"__row__\"); return gridOptions.columnApi.autoSizeColumns([\"date\",\"state\",\"county\",\"fips\",\"cases\",\"casesMA\",\"pch_casesMA\",\"casesIncrease\",\"casesIncreaseMA\",\"pch_casesIncreaseMA\",\"deaths\",\"deathsMA\",\"pch_deathsMA\",\"deathsIncrease\",\"deathsIncreaseMA\",\"pch_deathsIncreaseMA\",\"population\"])}));\n    (WebIO.importBlock({\"data\":[{\"name\":null,\"type\":\"js\",\"url\":\"/assetserver/8a878f8aac4fcc3aa0fe3544f3b6004cfb87e28d-rowNumberRenderer.js\"},{\"name\":null,\"type\":\"js\",\"url\":\"/assetserver/49affd7ae36d0aac75380aa149861ff1594bff9c-ag-grid.js\"},{\"name\":null,\"type\":\"css\",\"url\":\"/assetserver/44eec805f61ccdf030080bfd1a559f03509a0021-ag-grid.css\"},{\"name\":null,\"type\":\"css\",\"url\":\"/assetserver/e4213c8e832c90aaafe2b3164c0bbb5b67c7a305-ag-grid-light.css\"},{\"name\":null,\"type\":\"css\",\"url\":\"/assetserver/b082734171f365ccefe5d7b6015f8162af17e3a6-ag-grid-dark.css\"}],\"type\":\"async_block\"})).then((imports) => handler.apply(this, imports));\n}\n"
        ],
        "observables": {
         "onCellClicked": {
          "id": "ob_218",
          "sync": false,
          "value": null
         },
         "onCellDoubleClicked": {
          "id": "ob_219",
          "sync": false,
          "value": null
         },
         "onCellFocused": {
          "id": "ob_221",
          "sync": false,
          "value": null
         },
         "onCellKeyDown": {
          "id": "ob_222",
          "sync": false,
          "value": null
         },
         "onRowClicked": {
          "id": "ob_220",
          "sync": false,
          "value": null
         },
         "requestedrows": {
          "id": "ob_224",
          "sync": false,
          "value": {}
         },
         "rowparams": {
          "id": "ob_223",
          "sync": true,
          "value": {
           "endRow": 100,
           "startRow": 1,
           "successCallback": "(function (v){return null})"
          }
         }
        },
        "systemjs_options": null
       },
       "nodeType": "Scope",
       "props": {},
       "type": "node"
      },
      "text/html": [
       "<div\n",
       "    class=\"webio-mountpoint\"\n",
       "    data-webio-mountpoint=\"16245222416240254282\"\n",
       ">\n",
       "    <script>\n",
       "    if (window.require && require.defined && require.defined(\"nbextensions/webio-jupyter-notebook\")) {\n",
       "        console.log(\"Jupyter WebIO extension detected, not mounting.\");\n",
       "    } else if (window.WebIO) {\n",
       "        WebIO.mount(\n",
       "            document.querySelector('[data-webio-mountpoint=\"16245222416240254282\"]'),\n",
       "            {\"props\":{},\"nodeType\":\"Scope\",\"type\":\"node\",\"instanceArgs\":{\"imports\":{\"data\":[{\"name\":null,\"type\":\"js\",\"url\":\"\\/assetserver\\/8a878f8aac4fcc3aa0fe3544f3b6004cfb87e28d-rowNumberRenderer.js\"},{\"name\":null,\"type\":\"js\",\"url\":\"\\/assetserver\\/49affd7ae36d0aac75380aa149861ff1594bff9c-ag-grid.js\"},{\"name\":null,\"type\":\"css\",\"url\":\"\\/assetserver\\/44eec805f61ccdf030080bfd1a559f03509a0021-ag-grid.css\"},{\"name\":null,\"type\":\"css\",\"url\":\"\\/assetserver\\/e4213c8e832c90aaafe2b3164c0bbb5b67c7a305-ag-grid-light.css\"},{\"name\":null,\"type\":\"css\",\"url\":\"\\/assetserver\\/b082734171f365ccefe5d7b6015f8162af17e3a6-ag-grid-dark.css\"}],\"type\":\"async_block\"},\"id\":\"5062946008541036367\",\"handlers\":{\"requestedrows\":[\"(function (val){return WebIO.getval({\\\"name\\\":\\\"rowparams\\\",\\\"scope\\\":\\\"5062946008541036367\\\",\\\"id\\\":\\\"ob_223\\\",\\\"type\\\":\\\"observable\\\"}).successCallback(val,null)})\"]},\"systemjs_options\":null,\"mount_callbacks\":[\"function () {\\n    var handler = ((function (RowNumberRenderer,agGrid){var gridOptions={\\\"onCellFocused\\\":(function (ev){var x={}; (ev.rowIndex!==undefined) ? (x[\\\"rowIndex\\\"]=(ev.rowIndex+1)) : undefined; (ev.colDef!==undefined) ? (x[\\\"column\\\"]=ev.colDef.headerName) : undefined; return WebIO.setval({\\\"name\\\":\\\"onCellFocused\\\",\\\"scope\\\":\\\"5062946008541036367\\\",\\\"id\\\":\\\"ob_221\\\",\\\"type\\\":\\\"observable\\\"},x)}),\\\"onCellValueChanged\\\":(function (){return }),\\\"rowModelType\\\":\\\"infinite\\\",\\\"onRowClicked\\\":(function (ev){var x={}; (ev.rowIndex!==undefined) ? (x[\\\"rowIndex\\\"]=(ev.rowIndex+1)) : undefined; (ev.colDef!==undefined) ? (x[\\\"column\\\"]=ev.colDef.headerName) : undefined; return WebIO.setval({\\\"name\\\":\\\"onRowClicked\\\",\\\"scope\\\":\\\"5062946008541036367\\\",\\\"id\\\":\\\"ob_220\\\",\\\"type\\\":\\\"observable\\\"},x)}),\\\"maxConcurrentDatasourceRequests\\\":1,\\\"columnDefs\\\":[{\\\"filter\\\":false,\\\"editable\\\":false,\\\"headerTooltip\\\":\\\"\\\",\\\"field\\\":\\\"__row__\\\",\\\"headerName\\\":\\\"Row\\\",\\\"sortable\\\":false,\\\"type\\\":\\\"numericColumn\\\",\\\"cellRenderer\\\":\\\"rowNumberRenderer\\\",\\\"resizable\\\":true},{\\\"filter\\\":false,\\\"editable\\\":false,\\\"headerTooltip\\\":\\\"Date\\\",\\\"field\\\":\\\"date\\\",\\\"headerName\\\":\\\"date\\\",\\\"sortable\\\":false,\\\"type\\\":null,\\\"resizable\\\":true},{\\\"filter\\\":false,\\\"editable\\\":false,\\\"headerTooltip\\\":\\\"String\\\",\\\"field\\\":\\\"state\\\",\\\"headerName\\\":\\\"state\\\",\\\"sortable\\\":false,\\\"type\\\":null,\\\"resizable\\\":true},{\\\"filter\\\":false,\\\"editable\\\":false,\\\"headerTooltip\\\":\\\"String\\\",\\\"field\\\":\\\"county\\\",\\\"headerName\\\":\\\"county\\\",\\\"sortable\\\":false,\\\"type\\\":null,\\\"resizable\\\":true},{\\\"filter\\\":false,\\\"editable\\\":false,\\\"headerTooltip\\\":\\\"String\\\",\\\"field\\\":\\\"fips\\\",\\\"headerName\\\":\\\"fips\\\",\\\"sortable\\\":false,\\\"type\\\":null,\\\"resizable\\\":true},{\\\"filter\\\":false,\\\"editable\\\":false,\\\"headerTooltip\\\":\\\"Int64\\\",\\\"field\\\":\\\"cases\\\",\\\"headerName\\\":\\\"cases\\\",\\\"sortable\\\":false,\\\"type\\\":\\\"numericColumn\\\",\\\"resizable\\\":true},{\\\"filter\\\":false,\\\"editable\\\":false,\\\"headerTooltip\\\":\\\"Float64\\\",\\\"field\\\":\\\"casesMA\\\",\\\"headerName\\\":\\\"casesMA\\\",\\\"sortable\\\":false,\\\"type\\\":\\\"numericColumn\\\",\\\"resizable\\\":true},{\\\"filter\\\":false,\\\"editable\\\":false,\\\"headerTooltip\\\":\\\"Float64\\\",\\\"field\\\":\\\"pch_casesMA\\\",\\\"headerName\\\":\\\"pch_casesMA\\\",\\\"sortable\\\":false,\\\"type\\\":\\\"numericColumn\\\",\\\"resizable\\\":true},{\\\"filter\\\":false,\\\"editable\\\":false,\\\"headerTooltip\\\":\\\"Int64\\\",\\\"field\\\":\\\"casesIncrease\\\",\\\"headerName\\\":\\\"casesIncrease\\\",\\\"sortable\\\":false,\\\"type\\\":\\\"numericColumn\\\",\\\"resizable\\\":true},{\\\"filter\\\":false,\\\"editable\\\":false,\\\"headerTooltip\\\":\\\"Float64\\\",\\\"field\\\":\\\"casesIncreaseMA\\\",\\\"headerName\\\":\\\"casesIncreaseMA\\\",\\\"sortable\\\":false,\\\"type\\\":\\\"numericColumn\\\",\\\"resizable\\\":true},{\\\"filter\\\":false,\\\"editable\\\":false,\\\"headerTooltip\\\":\\\"Float64\\\",\\\"field\\\":\\\"pch_casesIncreaseMA\\\",\\\"headerName\\\":\\\"pch_casesIncreaseMA\\\",\\\"sortable\\\":false,\\\"type\\\":\\\"numericColumn\\\",\\\"resizable\\\":true},{\\\"filter\\\":false,\\\"editable\\\":false,\\\"headerTooltip\\\":\\\"Int64\\\",\\\"field\\\":\\\"deaths\\\",\\\"headerName\\\":\\\"deaths\\\",\\\"sortable\\\":false,\\\"type\\\":\\\"numericColumn\\\",\\\"resizable\\\":true},{\\\"filter\\\":false,\\\"editable\\\":false,\\\"headerTooltip\\\":\\\"Float64\\\",\\\"field\\\":\\\"deathsMA\\\",\\\"headerName\\\":\\\"deathsMA\\\",\\\"sortable\\\":false,\\\"type\\\":\\\"numericColumn\\\",\\\"resizable\\\":true},{\\\"filter\\\":false,\\\"editable\\\":false,\\\"headerTooltip\\\":\\\"Float64\\\",\\\"field\\\":\\\"pch_deathsMA\\\",\\\"headerName\\\":\\\"pch_deathsMA\\\",\\\"sortable\\\":false,\\\"type\\\":\\\"numericColumn\\\",\\\"resizable\\\":true},{\\\"filter\\\":false,\\\"editable\\\":false,\\\"headerTooltip\\\":\\\"Int64\\\",\\\"field\\\":\\\"deathsIncrease\\\",\\\"headerName\\\":\\\"deathsIncrease\\\",\\\"sortable\\\":false,\\\"type\\\":\\\"numericColumn\\\",\\\"resizable\\\":true},{\\\"filter\\\":false,\\\"editable\\\":false,\\\"headerTooltip\\\":\\\"Float64\\\",\\\"field\\\":\\\"deathsIncreaseMA\\\",\\\"headerName\\\":\\\"deathsIncreaseMA\\\",\\\"sortable\\\":false,\\\"type\\\":\\\"numericColumn\\\",\\\"resizable\\\":true},{\\\"filter\\\":false,\\\"editable\\\":false,\\\"headerTooltip\\\":\\\"Float64\\\",\\\"field\\\":\\\"pch_deathsIncreaseMA\\\",\\\"headerName\\\":\\\"pch_deathsIncreaseMA\\\",\\\"sortable\\\":false,\\\"type\\\":\\\"numericColumn\\\",\\\"resizable\\\":true},{\\\"filter\\\":false,\\\"editable\\\":false,\\\"headerTooltip\\\":\\\"Int64\\\",\\\"field\\\":\\\"population\\\",\\\"headerName\\\":\\\"population\\\",\\\"sortable\\\":false,\\\"type\\\":\\\"numericColumn\\\",\\\"resizable\\\":true}],\\\"cacheBlockSize\\\":1000,\\\"datasource\\\":{\\\"rowCount\\\":null,\\\"getRows\\\":(function (rowParams){return WebIO.setval({\\\"name\\\":\\\"rowparams\\\",\\\"scope\\\":\\\"5062946008541036367\\\",\\\"id\\\":\\\"ob_223\\\",\\\"type\\\":\\\"observable\\\"},rowParams)})},\\\"multiSortKey\\\":\\\"ctrl\\\",\\\"maxBlocksInCache\\\":100,\\\"onCellDoubleClicked\\\":(function (ev){var x={}; (ev.rowIndex!==undefined) ? (x[\\\"rowIndex\\\"]=(ev.rowIndex+1)) : undefined; (ev.colDef!==undefined) ? (x[\\\"column\\\"]=ev.colDef.headerName) : undefined; return WebIO.setval({\\\"name\\\":\\\"onCellDoubleClicked\\\",\\\"scope\\\":\\\"5062946008541036367\\\",\\\"id\\\":\\\"ob_219\\\",\\\"type\\\":\\\"observable\\\"},x)}),\\\"onCellKeyDown\\\":(function (ev){var x={}; (ev.rowIndex!==undefined) ? (x[\\\"rowIndex\\\"]=(ev.rowIndex+1)) : undefined; (ev.colDef!==undefined) ? (x[\\\"column\\\"]=ev.colDef.headerName) : undefined; return WebIO.setval({\\\"name\\\":\\\"onCellKeyDown\\\",\\\"scope\\\":\\\"5062946008541036367\\\",\\\"id\\\":\\\"ob_222\\\",\\\"type\\\":\\\"observable\\\"},x)}),\\\"onCellClicked\\\":(function (ev){var x={}; (ev.rowIndex!==undefined) ? (x[\\\"rowIndex\\\"]=(ev.rowIndex+1)) : undefined; (ev.colDef!==undefined) ? (x[\\\"column\\\"]=ev.colDef.headerName) : undefined; return WebIO.setval({\\\"name\\\":\\\"onCellClicked\\\",\\\"scope\\\":\\\"5062946008541036367\\\",\\\"id\\\":\\\"ob_218\\\",\\\"type\\\":\\\"observable\\\"},x)})}; var el=document.getElementById(\\\"grid-a44565e2\\\"); gridOptions.components={\\\"rowNumberRenderer\\\":RowNumberRenderer}; this.table=new agGrid.Grid(el,gridOptions); gridOptions.columnApi.autoSizeColumn(\\\"__row__\\\"); return gridOptions.columnApi.autoSizeColumns([\\\"date\\\",\\\"state\\\",\\\"county\\\",\\\"fips\\\",\\\"cases\\\",\\\"casesMA\\\",\\\"pch_casesMA\\\",\\\"casesIncrease\\\",\\\"casesIncreaseMA\\\",\\\"pch_casesIncreaseMA\\\",\\\"deaths\\\",\\\"deathsMA\\\",\\\"pch_deathsMA\\\",\\\"deathsIncrease\\\",\\\"deathsIncreaseMA\\\",\\\"pch_deathsIncreaseMA\\\",\\\"population\\\"])}));\\n    (WebIO.importBlock({\\\"data\\\":[{\\\"name\\\":null,\\\"type\\\":\\\"js\\\",\\\"url\\\":\\\"\\/assetserver\\/8a878f8aac4fcc3aa0fe3544f3b6004cfb87e28d-rowNumberRenderer.js\\\"},{\\\"name\\\":null,\\\"type\\\":\\\"js\\\",\\\"url\\\":\\\"\\/assetserver\\/49affd7ae36d0aac75380aa149861ff1594bff9c-ag-grid.js\\\"},{\\\"name\\\":null,\\\"type\\\":\\\"css\\\",\\\"url\\\":\\\"\\/assetserver\\/44eec805f61ccdf030080bfd1a559f03509a0021-ag-grid.css\\\"},{\\\"name\\\":null,\\\"type\\\":\\\"css\\\",\\\"url\\\":\\\"\\/assetserver\\/e4213c8e832c90aaafe2b3164c0bbb5b67c7a305-ag-grid-light.css\\\"},{\\\"name\\\":null,\\\"type\\\":\\\"css\\\",\\\"url\\\":\\\"\\/assetserver\\/b082734171f365ccefe5d7b6015f8162af17e3a6-ag-grid-dark.css\\\"}],\\\"type\\\":\\\"async_block\\\"})).then((imports) => handler.apply(this, imports));\\n}\\n\"],\"observables\":{\"onCellKeyDown\":{\"sync\":false,\"id\":\"ob_222\",\"value\":null},\"onRowClicked\":{\"sync\":false,\"id\":\"ob_220\",\"value\":null},\"onCellDoubleClicked\":{\"sync\":false,\"id\":\"ob_219\",\"value\":null},\"requestedrows\":{\"sync\":false,\"id\":\"ob_224\",\"value\":{}},\"onCellClicked\":{\"sync\":false,\"id\":\"ob_218\",\"value\":null},\"onCellFocused\":{\"sync\":false,\"id\":\"ob_221\",\"value\":null},\"rowparams\":{\"sync\":true,\"id\":\"ob_223\",\"value\":{\"successCallback\":\"(function (v){return null})\",\"startRow\":1,\"endRow\":100}}}},\"children\":[{\"props\":{},\"nodeType\":\"DOM\",\"type\":\"node\",\"instanceArgs\":{\"namespace\":\"html\",\"tag\":\"div\"},\"children\":[{\"props\":{\"style\":{\"height\":\"0\",\"padding\":\"0\",\"background-color\":\"#F5F7F7\",\"color\":\"#1c1f20\",\"font-family\":\"-apple-system, BlinkMacSystemFont, \\\"Segoe UI\\\", Roboto, Oxygen-Sans, Ubuntu, Cantarell, \\\"Helvetica Neue\\\", sans-serif\"}},\"nodeType\":\"DOM\",\"type\":\"node\",\"instanceArgs\":{\"namespace\":\"html\",\"tag\":\"div\"},\"children\":[\"\"]},{\"props\":{\"id\":\"grid-a44565e2\",\"className\":\"ag-theme-balham\",\"style\":{\"height\":\"500px\",\"width\":\"100%\"}},\"nodeType\":\"DOM\",\"type\":\"node\",\"instanceArgs\":{\"namespace\":\"html\",\"tag\":\"div\"},\"children\":[]}]}]},\n",
       "            window,\n",
       "        );\n",
       "    } else {\n",
       "        document\n",
       "            .querySelector('[data-webio-mountpoint=\"16245222416240254282\"]')\n",
       "            .innerHTML = (\n",
       "                '<div style=\"padding: 1em; background-color: #f8d6da; border: 1px solid #f5c6cb\">' +\n",
       "                '<p><strong>WebIO not detected.</strong></p>' +\n",
       "                '<p>Please read ' +\n",
       "                '<a href=\"https://juliagizmos.github.io/WebIO.jl/latest/troubleshooting/not-detected/\" target=\"_blank\">the troubleshooting guide</a> ' +\n",
       "                'for more information on how to resolve this issue.</p>' +\n",
       "                '<p><a href=\"https://juliagizmos.github.io/WebIO.jl/latest/troubleshooting/not-detected/\" target=\"_blank\">https://juliagizmos.github.io/WebIO.jl/latest/troubleshooting/not-detected/</a></p>' +\n",
       "                '</div>'\n",
       "            );\n",
       "    }\n",
       "    </script>\n",
       "</div>\n"
      ],
      "text/plain": [
       "WebIO.Scope(WebIO.Node{WebIO.DOM}(WebIO.DOM(:html, :div), Any[WebIO.Node{WebIO.DOM}(WebIO.DOM(:html, :div), Any[\"\"], Dict{Symbol,Any}(:style => Dict(\"height\" => \"0\",\"padding\" => \"0\",\"background-color\" => \"#F5F7F7\",\"color\" => \"#1c1f20\",\"font-family\" => \"-apple-system, BlinkMacSystemFont, \\\"Segoe UI\\\", Roboto, Oxygen-Sans, Ubuntu, Cantarell, \\\"Helvetica Neue\\\", sans-serif\"))), WebIO.Node{WebIO.DOM}(WebIO.DOM(:html, :div), Any[], Dict{Symbol,Any}(:id => \"grid-a44565e2\",:className => \"ag-theme-balham\",:style => Dict(\"height\" => \"500px\",\"width\" => \"100%\")))], Dict{Symbol,Any}()), Dict{String,Tuple{Observables.AbstractObservable,Union{Nothing, Bool}}}(\"onCellKeyDown\" => (Observable{Any} with 0 listeners. Value:\n",
       "nothing, nothing),\"onRowClicked\" => (Observable{Any} with 0 listeners. Value:\n",
       "nothing, nothing),\"onCellDoubleClicked\" => (Observable{Any} with 0 listeners. Value:\n",
       "nothing, nothing),\"requestedrows\" => (Observable{JSON.Writer.JSONText} with 1 listeners. Value:\n",
       "JSON.Writer.JSONText(\"{}\"), nothing),\"onCellClicked\" => (Observable{Any} with 0 listeners. Value:\n",
       "nothing, nothing),\"onCellFocused\" => (Observable{Any} with 0 listeners. Value:\n",
       "nothing, nothing),\"rowparams\" => (Observable{Dict{String,Any}} with 1 listeners. Value:\n",
       "Dict{String,Any}(\"successCallback\" => WebIO.JSString(\"(function (v){return null})\"),\"startRow\" => 1,\"endRow\" => 100), nothing)), Set(String[]), nothing, WebIO.Asset[WebIO.Asset(\"js\", nothing, \"/Users/cdaniels/.julia/packages/TableView/CxWLO/src/rowNumberRenderer.js\"), WebIO.Asset(\"js\", nothing, \"/Users/cdaniels/.julia/packages/TableView/CxWLO/deps/ag-grid-22.1.0/ag-grid.js\"), WebIO.Asset(\"css\", nothing, \"/Users/cdaniels/.julia/packages/TableView/CxWLO/deps/ag-grid-22.1.0/ag-grid.css\"), WebIO.Asset(\"css\", nothing, \"/Users/cdaniels/.julia/packages/TableView/CxWLO/deps/ag-grid-22.1.0/ag-grid-light.css\"), WebIO.Asset(\"css\", nothing, \"/Users/cdaniels/.julia/packages/TableView/CxWLO/deps/ag-grid-22.1.0/ag-grid-dark.css\")], Dict{Any,Any}(\"requestedrows\" => Any[WebIO.JSString(\"(function (val){return WebIO.getval({\\\"name\\\":\\\"rowparams\\\",\\\"scope\\\":\\\"5062946008541036367\\\",\\\"id\\\":\\\"ob_223\\\",\\\"type\\\":\\\"observable\\\"}).successCallback(val,null)})\")]), WebIO.ConnectionPool(Channel{Any}(sz_max:32,sz_curr:0), Set(WebIO.AbstractConnection[]), Base.GenericCondition{Base.AlwaysLockedST}(Base.InvasiveLinkedList{Task}(Task (runnable) @0x000000013bb47610, Task (runnable) @0x000000013bb47610), Base.AlwaysLockedST(1))), WebIO.JSString[WebIO.JSString(\"function () {\\n    var handler = ((function (RowNumberRenderer,agGrid){var gridOptions={\\\"onCellFocused\\\":(function (ev){var x={}; (ev.rowIndex!==undefined) ? (x[\\\"rowIndex\\\"]=(ev.rowIndex+1)) : undefined; (ev.colDef!==undefined) ? (x[\\\"column\\\"]=ev.colDef.headerName) : undefined; return WebIO.setval({\\\"name\\\":\\\"onCellFocused\\\",\\\"scope\\\":\\\"5062946008541036367\\\",\\\"id\\\":\\\"ob_221\\\",\\\"type\\\":\\\"observable\\\"},x)}),\\\"onCellValueChanged\\\":(function (){return }),\\\"rowModelType\\\":\\\"infinite\\\",\\\"onRowClicked\\\":(function (ev){var x={}; (ev.rowIndex!==undefined) ? (x[\\\"rowIndex\\\"]=(ev.rowIndex+1)) : undefined; (ev.colDef!==undefined) ? (x[\\\"column\\\"]=ev.colDef.headerName) : undefined; return WebIO.setval({\\\"name\\\":\\\"onRowClicked\\\",\\\"scope\\\":\\\"5062946008541036367\\\",\\\"id\\\":\\\"ob_220\\\",\\\"type\\\":\\\"observable\\\"},x)}),\\\"maxConcurrentDatasourceRequests\\\":1,\\\"columnDefs\\\":[{\\\"filter\\\":false,\\\"editable\\\":false,\\\"headerTooltip\\\":\\\"\\\",\\\"field\\\":\\\"__row__\\\",\\\"headerName\\\":\\\"Row\\\",\\\"sortable\\\":false,\\\"type\\\":\\\"numericColumn\\\",\\\"cellRenderer\\\":\\\"rowNumberRenderer\\\",\\\"resizable\\\":true},{\\\"filter\\\":false,\\\"editable\\\":false,\\\"headerTooltip\\\":\\\"Date\\\",\\\"field\\\":\\\"date\\\",\\\"headerName\\\":\\\"date\\\",\\\"sortable\\\":false,\\\"type\\\":null,\\\"resizable\\\":true},{\\\"filter\\\":false,\\\"editable\\\":false,\\\"headerTooltip\\\":\\\"String\\\",\\\"field\\\":\\\"state\\\",\\\"headerName\\\":\\\"state\\\",\\\"sortable\\\":false,\\\"type\\\":null,\\\"resizable\\\":true},{\\\"filter\\\":false,\\\"editable\\\":false,\\\"headerTooltip\\\":\\\"String\\\",\\\"field\\\":\\\"county\\\",\\\"headerName\\\":\\\"county\\\",\\\"sortable\\\":false,\\\"type\\\":null,\\\"resizable\\\":true},{\\\"filter\\\":false,\\\"editable\\\":false,\\\"headerTooltip\\\":\\\"String\\\",\\\"field\\\":\\\"fips\\\",\\\"headerName\\\":\\\"fips\\\",\\\"sortable\\\":false,\\\"type\\\":null,\\\"resizable\\\":true},{\\\"filter\\\":false,\\\"editable\\\":false,\\\"headerTooltip\\\":\\\"Int64\\\",\\\"field\\\":\\\"cases\\\",\\\"headerName\\\":\\\"cases\\\",\\\"sortable\\\":false,\\\"type\\\":\\\"numericColumn\\\",\\\"resizable\\\":true},{\\\"filter\\\":false,\\\"editable\\\":false,\\\"headerTooltip\\\":\\\"Float64\\\",\\\"field\\\":\\\"casesMA\\\",\\\"headerName\\\":\\\"casesMA\\\",\\\"sortable\\\":false,\\\"type\\\":\\\"numericColumn\\\",\\\"resizable\\\":true},{\\\"filter\\\":false,\\\"editable\\\":false,\\\"headerTooltip\\\":\\\"Float64\\\",\\\"field\\\":\\\"pch_casesMA\\\",\\\"headerName\\\":\\\"pch_casesMA\\\",\\\"sortable\\\":false,\\\"type\\\":\\\"numericColumn\\\",\\\"resizable\\\":true},{\\\"filter\\\":false,\\\"editable\\\":false,\\\"headerTooltip\\\":\\\"Int64\\\",\\\"field\\\":\\\"casesIncrease\\\",\\\"headerName\\\":\\\"casesIncrease\\\",\\\"sortable\\\":false,\\\"type\\\":\\\"numericColumn\\\",\\\"resizable\\\":true},{\\\"filter\\\":false,\\\"editable\\\":false,\\\"headerTooltip\\\":\\\"Float64\\\",\\\"field\\\":\\\"casesIncreaseMA\\\",\\\"headerName\\\":\\\"casesIncreaseMA\\\",\\\"sortable\\\":false,\\\"type\\\":\\\"numericColumn\\\",\\\"resizable\\\":true},{\\\"filter\\\":false,\\\"editable\\\":false,\\\"headerTooltip\\\":\\\"Float64\\\",\\\"field\\\":\\\"pch_casesIncreaseMA\\\",\\\"headerName\\\":\\\"pch_casesIncreaseMA\\\",\\\"sortable\\\":false,\\\"type\\\":\\\"numericColumn\\\",\\\"resizable\\\":true},{\\\"filter\\\":false,\\\"editable\\\":false,\\\"headerTooltip\\\":\\\"Int64\\\",\\\"field\\\":\\\"deaths\\\",\\\"headerName\\\":\\\"deaths\\\",\\\"sortable\\\":false,\\\"type\\\":\\\"numericColumn\\\",\\\"resizable\\\":true},{\\\"filter\\\":false,\\\"editable\\\":false,\\\"headerTooltip\\\":\\\"Float64\\\",\\\"field\\\":\\\"deathsMA\\\",\\\"headerName\\\":\\\"deathsMA\\\",\\\"sortable\\\":false,\\\"type\\\":\\\"numericColumn\\\",\\\"resizable\\\":true},{\\\"filter\\\":false,\\\"editable\\\":false,\\\"headerTooltip\\\":\\\"Float64\\\",\\\"field\\\":\\\"pch_deathsMA\\\",\\\"headerName\\\":\\\"pch_deathsMA\\\",\\\"sortable\\\":false,\\\"type\\\":\\\"numericColumn\\\",\\\"resizable\\\":true},{\\\"filter\\\":false,\\\"editable\\\":false,\\\"headerTooltip\\\":\\\"Int64\\\",\\\"field\\\":\\\"deathsIncrease\\\",\\\"headerName\\\":\\\"deathsIncrease\\\",\\\"sortable\\\":false,\\\"type\\\":\\\"numericColumn\\\",\\\"resizable\\\":true},{\\\"filter\\\":false,\\\"editable\\\":false,\\\"headerTooltip\\\":\\\"Float64\\\",\\\"field\\\":\\\"deathsIncreaseMA\\\",\\\"headerName\\\":\\\"deathsIncreaseMA\\\",\\\"sortable\\\":false,\\\"type\\\":\\\"numericColumn\\\",\\\"resizable\\\":true},{\\\"filter\\\":false,\\\"editable\\\":false,\\\"headerTooltip\\\":\\\"Float64\\\",\\\"field\\\":\\\"pch_deathsIncreaseMA\\\",\\\"headerName\\\":\\\"pch_deathsIncreaseMA\\\",\\\"sortable\\\":false,\\\"type\\\":\\\"numericColumn\\\",\\\"resizable\\\":true},{\\\"filter\\\":false,\\\"editable\\\":false,\\\"headerTooltip\\\":\\\"Int64\\\",\\\"field\\\":\\\"population\\\",\\\"headerName\\\":\\\"population\\\",\\\"sortable\\\":false,\\\"type\\\":\\\"numericColumn\\\",\\\"resizable\\\":true}],\\\"cacheBlockSize\\\":1000,\\\"datasource\\\":{\\\"rowCount\\\":null,\\\"getRows\\\":(function (rowParams){return WebIO.setval({\\\"name\\\":\\\"rowparams\\\",\\\"scope\\\":\\\"5062946008541036367\\\",\\\"id\\\":\\\"ob_223\\\",\\\"type\\\":\\\"observable\\\"},rowParams)})},\\\"multiSortKey\\\":\\\"ctrl\\\",\\\"maxBlocksInCache\\\":100,\\\"onCellDoubleClicked\\\":(function (ev){var x={}; (ev.rowIndex!==undefined) ? (x[\\\"rowIndex\\\"]=(ev.rowIndex+1)) : undefined; (ev.colDef!==undefined) ? (x[\\\"column\\\"]=ev.colDef.headerName) : undefined; return WebIO.setval({\\\"name\\\":\\\"onCellDoubleClicked\\\",\\\"scope\\\":\\\"5062946008541036367\\\",\\\"id\\\":\\\"ob_219\\\",\\\"type\\\":\\\"observable\\\"},x)}),\\\"onCellKeyDown\\\":(function (ev){var x={}; (ev.rowIndex!==undefined) ? (x[\\\"rowIndex\\\"]=(ev.rowIndex+1)) : undefined; (ev.colDef!==undefined) ? (x[\\\"column\\\"]=ev.colDef.headerName) : undefined; return WebIO.setval({\\\"name\\\":\\\"onCellKeyDown\\\",\\\"scope\\\":\\\"5062946008541036367\\\",\\\"id\\\":\\\"ob_222\\\",\\\"type\\\":\\\"observable\\\"},x)}),\\\"onCellClicked\\\":(function (ev){var x={}; (ev.rowIndex!==undefined) ? (x[\\\"rowIndex\\\"]=(ev.rowIndex+1)) : undefined; (ev.colDef!==undefined) ? (x[\\\"column\\\"]=ev.colDef.headerName) : undefined; return WebIO.setval({\\\"name\\\":\\\"onCellClicked\\\",\\\"scope\\\":\\\"5062946008541036367\\\",\\\"id\\\":\\\"ob_218\\\",\\\"type\\\":\\\"observable\\\"},x)})}; var el=document.getElementById(\\\"grid-a44565e2\\\"); gridOptions.components={\\\"rowNumberRenderer\\\":RowNumberRenderer}; this.table=new agGrid.Grid(el,gridOptions); gridOptions.columnApi.autoSizeColumn(\\\"__row__\\\"); return gridOptions.columnApi.autoSizeColumns([\\\"date\\\",\\\"state\\\",\\\"county\\\",\\\"fips\\\",\\\"cases\\\",\\\"casesMA\\\",\\\"pch_casesMA\\\",\\\"casesIncrease\\\",\\\"casesIncreaseMA\\\",\\\"pch_casesIncreaseMA\\\",\\\"deaths\\\",\\\"deathsMA\\\",\\\"pch_deathsMA\\\",\\\"deathsIncrease\\\",\\\"deathsIncreaseMA\\\",\\\"pch_deathsIncreaseMA\\\",\\\"population\\\"])}));\\n    (WebIO.importBlock({\\\"data\\\":[{\\\"name\\\":null,\\\"type\\\":\\\"js\\\",\\\"url\\\":\\\"/assetserver/8a878f8aac4fcc3aa0fe3544f3b6004cfb87e28d-rowNumberRenderer.js\\\"},{\\\"name\\\":null,\\\"type\\\":\\\"js\\\",\\\"url\\\":\\\"/assetserver/49affd7ae36d0aac75380aa149861ff1594bff9c-ag-grid.js\\\"},{\\\"name\\\":null,\\\"type\\\":\\\"css\\\",\\\"url\\\":\\\"/assetserver/44eec805f61ccdf030080bfd1a559f03509a0021-ag-grid.css\\\"},{\\\"name\\\":null,\\\"type\\\":\\\"css\\\",\\\"url\\\":\\\"/assetserver/e4213c8e832c90aaafe2b3164c0bbb5b67c7a305-ag-grid-light.css\\\"},{\\\"name\\\":null,\\\"type\\\":\\\"css\\\",\\\"url\\\":\\\"/assetserver/b082734171f365ccefe5d7b6015f8162af17e3a6-ag-grid-dark.css\\\"}],\\\"type\\\":\\\"async_block\\\"})).then((imports) => handler.apply(this, imports));\\n}\\n\")])"
      ]
     },
     "execution_count": 59,
     "metadata": {
      "application/vnd.webio.node+json": {
       "kernelId": "3229260e-45e1-405c-811b-0c4817f5e87c"
      }
     },
     "output_type": "execute_result"
    }
   ],
   "source": [
    "@time dfcd = aggregate_by_county(dfc)\n",
    "@tbl dfcd"
   ]
  },
  {
   "cell_type": "code",
   "execution_count": 60,
   "metadata": {
    "scrolled": false
   },
   "outputs": [
    {
     "name": "stdout",
     "output_type": "stream",
     "text": [
      "  0.029523 seconds (302.74 k allocations: 15.292 MiB)\n"
     ]
    },
    {
     "data": {
      "application/vnd.webio.node+json": {
       "children": [
        {
         "children": [
          {
           "children": [
            ""
           ],
           "instanceArgs": {
            "namespace": "html",
            "tag": "div"
           },
           "nodeType": "DOM",
           "props": {
            "style": {
             "background-color": "#F5F7F7",
             "color": "#1c1f20",
             "font-family": "-apple-system, BlinkMacSystemFont, \"Segoe UI\", Roboto, Oxygen-Sans, Ubuntu, Cantarell, \"Helvetica Neue\", sans-serif",
             "height": "0",
             "padding": "0"
            }
           },
           "type": "node"
          },
          {
           "children": [],
           "instanceArgs": {
            "namespace": "html",
            "tag": "div"
           },
           "nodeType": "DOM",
           "props": {
            "className": "ag-theme-balham",
            "id": "grid-a4a0d190",
            "style": {
             "height": "500px",
             "width": "100%"
            }
           },
           "type": "node"
          }
         ],
         "instanceArgs": {
          "namespace": "html",
          "tag": "div"
         },
         "nodeType": "DOM",
         "props": {},
         "type": "node"
        }
       ],
       "instanceArgs": {
        "handlers": {
         "requestedrows": [
          "(function (val){return WebIO.getval({\"name\":\"rowparams\",\"scope\":\"2970728903384818509\",\"id\":\"ob_230\",\"type\":\"observable\"}).successCallback(val,null)})"
         ]
        },
        "id": "2970728903384818509",
        "imports": {
         "data": [
          {
           "name": null,
           "type": "js",
           "url": "/assetserver/8a878f8aac4fcc3aa0fe3544f3b6004cfb87e28d-rowNumberRenderer.js"
          },
          {
           "name": null,
           "type": "js",
           "url": "/assetserver/49affd7ae36d0aac75380aa149861ff1594bff9c-ag-grid.js"
          },
          {
           "name": null,
           "type": "css",
           "url": "/assetserver/44eec805f61ccdf030080bfd1a559f03509a0021-ag-grid.css"
          },
          {
           "name": null,
           "type": "css",
           "url": "/assetserver/e4213c8e832c90aaafe2b3164c0bbb5b67c7a305-ag-grid-light.css"
          },
          {
           "name": null,
           "type": "css",
           "url": "/assetserver/b082734171f365ccefe5d7b6015f8162af17e3a6-ag-grid-dark.css"
          }
         ],
         "type": "async_block"
        },
        "mount_callbacks": [
         "function () {\n    var handler = ((function (RowNumberRenderer,agGrid){var gridOptions={\"onCellFocused\":(function (ev){var x={}; (ev.rowIndex!==undefined) ? (x[\"rowIndex\"]=(ev.rowIndex+1)) : undefined; (ev.colDef!==undefined) ? (x[\"column\"]=ev.colDef.headerName) : undefined; return WebIO.setval({\"name\":\"onCellFocused\",\"scope\":\"2970728903384818509\",\"id\":\"ob_228\",\"type\":\"observable\"},x)}),\"onCellValueChanged\":(function (){return }),\"rowModelType\":\"infinite\",\"onRowClicked\":(function (ev){var x={}; (ev.rowIndex!==undefined) ? (x[\"rowIndex\"]=(ev.rowIndex+1)) : undefined; (ev.colDef!==undefined) ? (x[\"column\"]=ev.colDef.headerName) : undefined; return WebIO.setval({\"name\":\"onRowClicked\",\"scope\":\"2970728903384818509\",\"id\":\"ob_227\",\"type\":\"observable\"},x)}),\"maxConcurrentDatasourceRequests\":1,\"columnDefs\":[{\"filter\":false,\"editable\":false,\"headerTooltip\":\"\",\"field\":\"__row__\",\"headerName\":\"Row\",\"sortable\":false,\"type\":\"numericColumn\",\"cellRenderer\":\"rowNumberRenderer\",\"resizable\":true},{\"filter\":false,\"editable\":false,\"headerTooltip\":\"String\",\"field\":\"county\",\"headerName\":\"county\",\"sortable\":false,\"type\":null,\"resizable\":true},{\"filter\":false,\"editable\":false,\"headerTooltip\":\"String\",\"field\":\"state\",\"headerName\":\"state\",\"sortable\":false,\"type\":null,\"resizable\":true},{\"filter\":false,\"editable\":false,\"headerTooltip\":\"Int64\",\"field\":\"population\",\"headerName\":\"population\",\"sortable\":false,\"type\":\"numericColumn\",\"resizable\":true},{\"filter\":false,\"editable\":false,\"headerTooltip\":\"Int64\",\"field\":\"cases\",\"headerName\":\"cases\",\"sortable\":false,\"type\":\"numericColumn\",\"resizable\":true},{\"filter\":false,\"editable\":false,\"headerTooltip\":\"Float64\",\"field\":\"casesMA\",\"headerName\":\"casesMA\",\"sortable\":false,\"type\":\"numericColumn\",\"resizable\":true},{\"filter\":false,\"editable\":false,\"headerTooltip\":\"Float64\",\"field\":\"pch_casesMA\",\"headerName\":\"pch_casesMA\",\"sortable\":false,\"type\":\"numericColumn\",\"resizable\":true},{\"filter\":false,\"editable\":false,\"headerTooltip\":\"Float64\",\"field\":\"casesIncreaseMA\",\"headerName\":\"casesIncreaseMA\",\"sortable\":false,\"type\":\"numericColumn\",\"resizable\":true},{\"filter\":false,\"editable\":false,\"headerTooltip\":\"Float64\",\"field\":\"pch_casesIncreaseMA\",\"headerName\":\"pch_casesIncreaseMA\",\"sortable\":false,\"type\":\"numericColumn\",\"resizable\":true}],\"cacheBlockSize\":1000,\"datasource\":{\"rowCount\":null,\"getRows\":(function (rowParams){return WebIO.setval({\"name\":\"rowparams\",\"scope\":\"2970728903384818509\",\"id\":\"ob_230\",\"type\":\"observable\"},rowParams)})},\"multiSortKey\":\"ctrl\",\"maxBlocksInCache\":100,\"onCellDoubleClicked\":(function (ev){var x={}; (ev.rowIndex!==undefined) ? (x[\"rowIndex\"]=(ev.rowIndex+1)) : undefined; (ev.colDef!==undefined) ? (x[\"column\"]=ev.colDef.headerName) : undefined; return WebIO.setval({\"name\":\"onCellDoubleClicked\",\"scope\":\"2970728903384818509\",\"id\":\"ob_226\",\"type\":\"observable\"},x)}),\"onCellKeyDown\":(function (ev){var x={}; (ev.rowIndex!==undefined) ? (x[\"rowIndex\"]=(ev.rowIndex+1)) : undefined; (ev.colDef!==undefined) ? (x[\"column\"]=ev.colDef.headerName) : undefined; return WebIO.setval({\"name\":\"onCellKeyDown\",\"scope\":\"2970728903384818509\",\"id\":\"ob_229\",\"type\":\"observable\"},x)}),\"onCellClicked\":(function (ev){var x={}; (ev.rowIndex!==undefined) ? (x[\"rowIndex\"]=(ev.rowIndex+1)) : undefined; (ev.colDef!==undefined) ? (x[\"column\"]=ev.colDef.headerName) : undefined; return WebIO.setval({\"name\":\"onCellClicked\",\"scope\":\"2970728903384818509\",\"id\":\"ob_225\",\"type\":\"observable\"},x)})}; var el=document.getElementById(\"grid-a4a0d190\"); gridOptions.components={\"rowNumberRenderer\":RowNumberRenderer}; this.table=new agGrid.Grid(el,gridOptions); gridOptions.columnApi.autoSizeColumn(\"__row__\"); return gridOptions.columnApi.autoSizeColumns([\"county\",\"state\",\"population\",\"cases\",\"casesMA\",\"pch_casesMA\",\"casesIncreaseMA\",\"pch_casesIncreaseMA\"])}));\n    (WebIO.importBlock({\"data\":[{\"name\":null,\"type\":\"js\",\"url\":\"/assetserver/8a878f8aac4fcc3aa0fe3544f3b6004cfb87e28d-rowNumberRenderer.js\"},{\"name\":null,\"type\":\"js\",\"url\":\"/assetserver/49affd7ae36d0aac75380aa149861ff1594bff9c-ag-grid.js\"},{\"name\":null,\"type\":\"css\",\"url\":\"/assetserver/44eec805f61ccdf030080bfd1a559f03509a0021-ag-grid.css\"},{\"name\":null,\"type\":\"css\",\"url\":\"/assetserver/e4213c8e832c90aaafe2b3164c0bbb5b67c7a305-ag-grid-light.css\"},{\"name\":null,\"type\":\"css\",\"url\":\"/assetserver/b082734171f365ccefe5d7b6015f8162af17e3a6-ag-grid-dark.css\"}],\"type\":\"async_block\"})).then((imports) => handler.apply(this, imports));\n}\n"
        ],
        "observables": {
         "onCellClicked": {
          "id": "ob_225",
          "sync": false,
          "value": null
         },
         "onCellDoubleClicked": {
          "id": "ob_226",
          "sync": false,
          "value": null
         },
         "onCellFocused": {
          "id": "ob_228",
          "sync": false,
          "value": null
         },
         "onCellKeyDown": {
          "id": "ob_229",
          "sync": false,
          "value": null
         },
         "onRowClicked": {
          "id": "ob_227",
          "sync": false,
          "value": null
         },
         "requestedrows": {
          "id": "ob_231",
          "sync": false,
          "value": {}
         },
         "rowparams": {
          "id": "ob_230",
          "sync": true,
          "value": {
           "endRow": 100,
           "startRow": 1,
           "successCallback": "(function (v){return null})"
          }
         }
        },
        "systemjs_options": null
       },
       "nodeType": "Scope",
       "props": {},
       "type": "node"
      },
      "text/html": [
       "<div\n",
       "    class=\"webio-mountpoint\"\n",
       "    data-webio-mountpoint=\"11763247367868553719\"\n",
       ">\n",
       "    <script>\n",
       "    if (window.require && require.defined && require.defined(\"nbextensions/webio-jupyter-notebook\")) {\n",
       "        console.log(\"Jupyter WebIO extension detected, not mounting.\");\n",
       "    } else if (window.WebIO) {\n",
       "        WebIO.mount(\n",
       "            document.querySelector('[data-webio-mountpoint=\"11763247367868553719\"]'),\n",
       "            {\"props\":{},\"nodeType\":\"Scope\",\"type\":\"node\",\"instanceArgs\":{\"imports\":{\"data\":[{\"name\":null,\"type\":\"js\",\"url\":\"\\/assetserver\\/8a878f8aac4fcc3aa0fe3544f3b6004cfb87e28d-rowNumberRenderer.js\"},{\"name\":null,\"type\":\"js\",\"url\":\"\\/assetserver\\/49affd7ae36d0aac75380aa149861ff1594bff9c-ag-grid.js\"},{\"name\":null,\"type\":\"css\",\"url\":\"\\/assetserver\\/44eec805f61ccdf030080bfd1a559f03509a0021-ag-grid.css\"},{\"name\":null,\"type\":\"css\",\"url\":\"\\/assetserver\\/e4213c8e832c90aaafe2b3164c0bbb5b67c7a305-ag-grid-light.css\"},{\"name\":null,\"type\":\"css\",\"url\":\"\\/assetserver\\/b082734171f365ccefe5d7b6015f8162af17e3a6-ag-grid-dark.css\"}],\"type\":\"async_block\"},\"id\":\"2970728903384818509\",\"handlers\":{\"requestedrows\":[\"(function (val){return WebIO.getval({\\\"name\\\":\\\"rowparams\\\",\\\"scope\\\":\\\"2970728903384818509\\\",\\\"id\\\":\\\"ob_230\\\",\\\"type\\\":\\\"observable\\\"}).successCallback(val,null)})\"]},\"systemjs_options\":null,\"mount_callbacks\":[\"function () {\\n    var handler = ((function (RowNumberRenderer,agGrid){var gridOptions={\\\"onCellFocused\\\":(function (ev){var x={}; (ev.rowIndex!==undefined) ? (x[\\\"rowIndex\\\"]=(ev.rowIndex+1)) : undefined; (ev.colDef!==undefined) ? (x[\\\"column\\\"]=ev.colDef.headerName) : undefined; return WebIO.setval({\\\"name\\\":\\\"onCellFocused\\\",\\\"scope\\\":\\\"2970728903384818509\\\",\\\"id\\\":\\\"ob_228\\\",\\\"type\\\":\\\"observable\\\"},x)}),\\\"onCellValueChanged\\\":(function (){return }),\\\"rowModelType\\\":\\\"infinite\\\",\\\"onRowClicked\\\":(function (ev){var x={}; (ev.rowIndex!==undefined) ? (x[\\\"rowIndex\\\"]=(ev.rowIndex+1)) : undefined; (ev.colDef!==undefined) ? (x[\\\"column\\\"]=ev.colDef.headerName) : undefined; return WebIO.setval({\\\"name\\\":\\\"onRowClicked\\\",\\\"scope\\\":\\\"2970728903384818509\\\",\\\"id\\\":\\\"ob_227\\\",\\\"type\\\":\\\"observable\\\"},x)}),\\\"maxConcurrentDatasourceRequests\\\":1,\\\"columnDefs\\\":[{\\\"filter\\\":false,\\\"editable\\\":false,\\\"headerTooltip\\\":\\\"\\\",\\\"field\\\":\\\"__row__\\\",\\\"headerName\\\":\\\"Row\\\",\\\"sortable\\\":false,\\\"type\\\":\\\"numericColumn\\\",\\\"cellRenderer\\\":\\\"rowNumberRenderer\\\",\\\"resizable\\\":true},{\\\"filter\\\":false,\\\"editable\\\":false,\\\"headerTooltip\\\":\\\"String\\\",\\\"field\\\":\\\"county\\\",\\\"headerName\\\":\\\"county\\\",\\\"sortable\\\":false,\\\"type\\\":null,\\\"resizable\\\":true},{\\\"filter\\\":false,\\\"editable\\\":false,\\\"headerTooltip\\\":\\\"String\\\",\\\"field\\\":\\\"state\\\",\\\"headerName\\\":\\\"state\\\",\\\"sortable\\\":false,\\\"type\\\":null,\\\"resizable\\\":true},{\\\"filter\\\":false,\\\"editable\\\":false,\\\"headerTooltip\\\":\\\"Int64\\\",\\\"field\\\":\\\"population\\\",\\\"headerName\\\":\\\"population\\\",\\\"sortable\\\":false,\\\"type\\\":\\\"numericColumn\\\",\\\"resizable\\\":true},{\\\"filter\\\":false,\\\"editable\\\":false,\\\"headerTooltip\\\":\\\"Int64\\\",\\\"field\\\":\\\"cases\\\",\\\"headerName\\\":\\\"cases\\\",\\\"sortable\\\":false,\\\"type\\\":\\\"numericColumn\\\",\\\"resizable\\\":true},{\\\"filter\\\":false,\\\"editable\\\":false,\\\"headerTooltip\\\":\\\"Float64\\\",\\\"field\\\":\\\"casesMA\\\",\\\"headerName\\\":\\\"casesMA\\\",\\\"sortable\\\":false,\\\"type\\\":\\\"numericColumn\\\",\\\"resizable\\\":true},{\\\"filter\\\":false,\\\"editable\\\":false,\\\"headerTooltip\\\":\\\"Float64\\\",\\\"field\\\":\\\"pch_casesMA\\\",\\\"headerName\\\":\\\"pch_casesMA\\\",\\\"sortable\\\":false,\\\"type\\\":\\\"numericColumn\\\",\\\"resizable\\\":true},{\\\"filter\\\":false,\\\"editable\\\":false,\\\"headerTooltip\\\":\\\"Float64\\\",\\\"field\\\":\\\"casesIncreaseMA\\\",\\\"headerName\\\":\\\"casesIncreaseMA\\\",\\\"sortable\\\":false,\\\"type\\\":\\\"numericColumn\\\",\\\"resizable\\\":true},{\\\"filter\\\":false,\\\"editable\\\":false,\\\"headerTooltip\\\":\\\"Float64\\\",\\\"field\\\":\\\"pch_casesIncreaseMA\\\",\\\"headerName\\\":\\\"pch_casesIncreaseMA\\\",\\\"sortable\\\":false,\\\"type\\\":\\\"numericColumn\\\",\\\"resizable\\\":true}],\\\"cacheBlockSize\\\":1000,\\\"datasource\\\":{\\\"rowCount\\\":null,\\\"getRows\\\":(function (rowParams){return WebIO.setval({\\\"name\\\":\\\"rowparams\\\",\\\"scope\\\":\\\"2970728903384818509\\\",\\\"id\\\":\\\"ob_230\\\",\\\"type\\\":\\\"observable\\\"},rowParams)})},\\\"multiSortKey\\\":\\\"ctrl\\\",\\\"maxBlocksInCache\\\":100,\\\"onCellDoubleClicked\\\":(function (ev){var x={}; (ev.rowIndex!==undefined) ? (x[\\\"rowIndex\\\"]=(ev.rowIndex+1)) : undefined; (ev.colDef!==undefined) ? (x[\\\"column\\\"]=ev.colDef.headerName) : undefined; return WebIO.setval({\\\"name\\\":\\\"onCellDoubleClicked\\\",\\\"scope\\\":\\\"2970728903384818509\\\",\\\"id\\\":\\\"ob_226\\\",\\\"type\\\":\\\"observable\\\"},x)}),\\\"onCellKeyDown\\\":(function (ev){var x={}; (ev.rowIndex!==undefined) ? (x[\\\"rowIndex\\\"]=(ev.rowIndex+1)) : undefined; (ev.colDef!==undefined) ? (x[\\\"column\\\"]=ev.colDef.headerName) : undefined; return WebIO.setval({\\\"name\\\":\\\"onCellKeyDown\\\",\\\"scope\\\":\\\"2970728903384818509\\\",\\\"id\\\":\\\"ob_229\\\",\\\"type\\\":\\\"observable\\\"},x)}),\\\"onCellClicked\\\":(function (ev){var x={}; (ev.rowIndex!==undefined) ? (x[\\\"rowIndex\\\"]=(ev.rowIndex+1)) : undefined; (ev.colDef!==undefined) ? (x[\\\"column\\\"]=ev.colDef.headerName) : undefined; return WebIO.setval({\\\"name\\\":\\\"onCellClicked\\\",\\\"scope\\\":\\\"2970728903384818509\\\",\\\"id\\\":\\\"ob_225\\\",\\\"type\\\":\\\"observable\\\"},x)})}; var el=document.getElementById(\\\"grid-a4a0d190\\\"); gridOptions.components={\\\"rowNumberRenderer\\\":RowNumberRenderer}; this.table=new agGrid.Grid(el,gridOptions); gridOptions.columnApi.autoSizeColumn(\\\"__row__\\\"); return gridOptions.columnApi.autoSizeColumns([\\\"county\\\",\\\"state\\\",\\\"population\\\",\\\"cases\\\",\\\"casesMA\\\",\\\"pch_casesMA\\\",\\\"casesIncreaseMA\\\",\\\"pch_casesIncreaseMA\\\"])}));\\n    (WebIO.importBlock({\\\"data\\\":[{\\\"name\\\":null,\\\"type\\\":\\\"js\\\",\\\"url\\\":\\\"\\/assetserver\\/8a878f8aac4fcc3aa0fe3544f3b6004cfb87e28d-rowNumberRenderer.js\\\"},{\\\"name\\\":null,\\\"type\\\":\\\"js\\\",\\\"url\\\":\\\"\\/assetserver\\/49affd7ae36d0aac75380aa149861ff1594bff9c-ag-grid.js\\\"},{\\\"name\\\":null,\\\"type\\\":\\\"css\\\",\\\"url\\\":\\\"\\/assetserver\\/44eec805f61ccdf030080bfd1a559f03509a0021-ag-grid.css\\\"},{\\\"name\\\":null,\\\"type\\\":\\\"css\\\",\\\"url\\\":\\\"\\/assetserver\\/e4213c8e832c90aaafe2b3164c0bbb5b67c7a305-ag-grid-light.css\\\"},{\\\"name\\\":null,\\\"type\\\":\\\"css\\\",\\\"url\\\":\\\"\\/assetserver\\/b082734171f365ccefe5d7b6015f8162af17e3a6-ag-grid-dark.css\\\"}],\\\"type\\\":\\\"async_block\\\"})).then((imports) => handler.apply(this, imports));\\n}\\n\"],\"observables\":{\"onCellKeyDown\":{\"sync\":false,\"id\":\"ob_229\",\"value\":null},\"onRowClicked\":{\"sync\":false,\"id\":\"ob_227\",\"value\":null},\"onCellDoubleClicked\":{\"sync\":false,\"id\":\"ob_226\",\"value\":null},\"requestedrows\":{\"sync\":false,\"id\":\"ob_231\",\"value\":{}},\"onCellClicked\":{\"sync\":false,\"id\":\"ob_225\",\"value\":null},\"onCellFocused\":{\"sync\":false,\"id\":\"ob_228\",\"value\":null},\"rowparams\":{\"sync\":true,\"id\":\"ob_230\",\"value\":{\"successCallback\":\"(function (v){return null})\",\"startRow\":1,\"endRow\":100}}}},\"children\":[{\"props\":{},\"nodeType\":\"DOM\",\"type\":\"node\",\"instanceArgs\":{\"namespace\":\"html\",\"tag\":\"div\"},\"children\":[{\"props\":{\"style\":{\"height\":\"0\",\"padding\":\"0\",\"background-color\":\"#F5F7F7\",\"color\":\"#1c1f20\",\"font-family\":\"-apple-system, BlinkMacSystemFont, \\\"Segoe UI\\\", Roboto, Oxygen-Sans, Ubuntu, Cantarell, \\\"Helvetica Neue\\\", sans-serif\"}},\"nodeType\":\"DOM\",\"type\":\"node\",\"instanceArgs\":{\"namespace\":\"html\",\"tag\":\"div\"},\"children\":[\"\"]},{\"props\":{\"id\":\"grid-a4a0d190\",\"className\":\"ag-theme-balham\",\"style\":{\"height\":\"500px\",\"width\":\"100%\"}},\"nodeType\":\"DOM\",\"type\":\"node\",\"instanceArgs\":{\"namespace\":\"html\",\"tag\":\"div\"},\"children\":[]}]}]},\n",
       "            window,\n",
       "        );\n",
       "    } else {\n",
       "        document\n",
       "            .querySelector('[data-webio-mountpoint=\"11763247367868553719\"]')\n",
       "            .innerHTML = (\n",
       "                '<div style=\"padding: 1em; background-color: #f8d6da; border: 1px solid #f5c6cb\">' +\n",
       "                '<p><strong>WebIO not detected.</strong></p>' +\n",
       "                '<p>Please read ' +\n",
       "                '<a href=\"https://juliagizmos.github.io/WebIO.jl/latest/troubleshooting/not-detected/\" target=\"_blank\">the troubleshooting guide</a> ' +\n",
       "                'for more information on how to resolve this issue.</p>' +\n",
       "                '<p><a href=\"https://juliagizmos.github.io/WebIO.jl/latest/troubleshooting/not-detected/\" target=\"_blank\">https://juliagizmos.github.io/WebIO.jl/latest/troubleshooting/not-detected/</a></p>' +\n",
       "                '</div>'\n",
       "            );\n",
       "    }\n",
       "    </script>\n",
       "</div>\n"
      ],
      "text/plain": [
       "WebIO.Scope(WebIO.Node{WebIO.DOM}(WebIO.DOM(:html, :div), Any[WebIO.Node{WebIO.DOM}(WebIO.DOM(:html, :div), Any[\"\"], Dict{Symbol,Any}(:style => Dict(\"height\" => \"0\",\"padding\" => \"0\",\"background-color\" => \"#F5F7F7\",\"color\" => \"#1c1f20\",\"font-family\" => \"-apple-system, BlinkMacSystemFont, \\\"Segoe UI\\\", Roboto, Oxygen-Sans, Ubuntu, Cantarell, \\\"Helvetica Neue\\\", sans-serif\"))), WebIO.Node{WebIO.DOM}(WebIO.DOM(:html, :div), Any[], Dict{Symbol,Any}(:id => \"grid-a4a0d190\",:className => \"ag-theme-balham\",:style => Dict(\"height\" => \"500px\",\"width\" => \"100%\")))], Dict{Symbol,Any}()), Dict{String,Tuple{Observables.AbstractObservable,Union{Nothing, Bool}}}(\"onCellKeyDown\" => (Observable{Any} with 0 listeners. Value:\n",
       "nothing, nothing),\"onRowClicked\" => (Observable{Any} with 0 listeners. Value:\n",
       "nothing, nothing),\"onCellDoubleClicked\" => (Observable{Any} with 0 listeners. Value:\n",
       "nothing, nothing),\"requestedrows\" => (Observable{JSON.Writer.JSONText} with 1 listeners. Value:\n",
       "JSON.Writer.JSONText(\"{}\"), nothing),\"onCellClicked\" => (Observable{Any} with 0 listeners. Value:\n",
       "nothing, nothing),\"onCellFocused\" => (Observable{Any} with 0 listeners. Value:\n",
       "nothing, nothing),\"rowparams\" => (Observable{Dict{String,Any}} with 1 listeners. Value:\n",
       "Dict{String,Any}(\"successCallback\" => WebIO.JSString(\"(function (v){return null})\"),\"startRow\" => 1,\"endRow\" => 100), nothing)), Set(String[]), nothing, WebIO.Asset[WebIO.Asset(\"js\", nothing, \"/Users/cdaniels/.julia/packages/TableView/CxWLO/src/rowNumberRenderer.js\"), WebIO.Asset(\"js\", nothing, \"/Users/cdaniels/.julia/packages/TableView/CxWLO/deps/ag-grid-22.1.0/ag-grid.js\"), WebIO.Asset(\"css\", nothing, \"/Users/cdaniels/.julia/packages/TableView/CxWLO/deps/ag-grid-22.1.0/ag-grid.css\"), WebIO.Asset(\"css\", nothing, \"/Users/cdaniels/.julia/packages/TableView/CxWLO/deps/ag-grid-22.1.0/ag-grid-light.css\"), WebIO.Asset(\"css\", nothing, \"/Users/cdaniels/.julia/packages/TableView/CxWLO/deps/ag-grid-22.1.0/ag-grid-dark.css\")], Dict{Any,Any}(\"requestedrows\" => Any[WebIO.JSString(\"(function (val){return WebIO.getval({\\\"name\\\":\\\"rowparams\\\",\\\"scope\\\":\\\"2970728903384818509\\\",\\\"id\\\":\\\"ob_230\\\",\\\"type\\\":\\\"observable\\\"}).successCallback(val,null)})\")]), WebIO.ConnectionPool(Channel{Any}(sz_max:32,sz_curr:0), Set(WebIO.AbstractConnection[]), Base.GenericCondition{Base.AlwaysLockedST}(Base.InvasiveLinkedList{Task}(Task (runnable) @0x000000013bc0b190, Task (runnable) @0x000000013bc0b190), Base.AlwaysLockedST(1))), WebIO.JSString[WebIO.JSString(\"function () {\\n    var handler = ((function (RowNumberRenderer,agGrid){var gridOptions={\\\"onCellFocused\\\":(function (ev){var x={}; (ev.rowIndex!==undefined) ? (x[\\\"rowIndex\\\"]=(ev.rowIndex+1)) : undefined; (ev.colDef!==undefined) ? (x[\\\"column\\\"]=ev.colDef.headerName) : undefined; return WebIO.setval({\\\"name\\\":\\\"onCellFocused\\\",\\\"scope\\\":\\\"2970728903384818509\\\",\\\"id\\\":\\\"ob_228\\\",\\\"type\\\":\\\"observable\\\"},x)}),\\\"onCellValueChanged\\\":(function (){return }),\\\"rowModelType\\\":\\\"infinite\\\",\\\"onRowClicked\\\":(function (ev){var x={}; (ev.rowIndex!==undefined) ? (x[\\\"rowIndex\\\"]=(ev.rowIndex+1)) : undefined; (ev.colDef!==undefined) ? (x[\\\"column\\\"]=ev.colDef.headerName) : undefined; return WebIO.setval({\\\"name\\\":\\\"onRowClicked\\\",\\\"scope\\\":\\\"2970728903384818509\\\",\\\"id\\\":\\\"ob_227\\\",\\\"type\\\":\\\"observable\\\"},x)}),\\\"maxConcurrentDatasourceRequests\\\":1,\\\"columnDefs\\\":[{\\\"filter\\\":false,\\\"editable\\\":false,\\\"headerTooltip\\\":\\\"\\\",\\\"field\\\":\\\"__row__\\\",\\\"headerName\\\":\\\"Row\\\",\\\"sortable\\\":false,\\\"type\\\":\\\"numericColumn\\\",\\\"cellRenderer\\\":\\\"rowNumberRenderer\\\",\\\"resizable\\\":true},{\\\"filter\\\":false,\\\"editable\\\":false,\\\"headerTooltip\\\":\\\"String\\\",\\\"field\\\":\\\"county\\\",\\\"headerName\\\":\\\"county\\\",\\\"sortable\\\":false,\\\"type\\\":null,\\\"resizable\\\":true},{\\\"filter\\\":false,\\\"editable\\\":false,\\\"headerTooltip\\\":\\\"String\\\",\\\"field\\\":\\\"state\\\",\\\"headerName\\\":\\\"state\\\",\\\"sortable\\\":false,\\\"type\\\":null,\\\"resizable\\\":true},{\\\"filter\\\":false,\\\"editable\\\":false,\\\"headerTooltip\\\":\\\"Int64\\\",\\\"field\\\":\\\"population\\\",\\\"headerName\\\":\\\"population\\\",\\\"sortable\\\":false,\\\"type\\\":\\\"numericColumn\\\",\\\"resizable\\\":true},{\\\"filter\\\":false,\\\"editable\\\":false,\\\"headerTooltip\\\":\\\"Int64\\\",\\\"field\\\":\\\"cases\\\",\\\"headerName\\\":\\\"cases\\\",\\\"sortable\\\":false,\\\"type\\\":\\\"numericColumn\\\",\\\"resizable\\\":true},{\\\"filter\\\":false,\\\"editable\\\":false,\\\"headerTooltip\\\":\\\"Float64\\\",\\\"field\\\":\\\"casesMA\\\",\\\"headerName\\\":\\\"casesMA\\\",\\\"sortable\\\":false,\\\"type\\\":\\\"numericColumn\\\",\\\"resizable\\\":true},{\\\"filter\\\":false,\\\"editable\\\":false,\\\"headerTooltip\\\":\\\"Float64\\\",\\\"field\\\":\\\"pch_casesMA\\\",\\\"headerName\\\":\\\"pch_casesMA\\\",\\\"sortable\\\":false,\\\"type\\\":\\\"numericColumn\\\",\\\"resizable\\\":true},{\\\"filter\\\":false,\\\"editable\\\":false,\\\"headerTooltip\\\":\\\"Float64\\\",\\\"field\\\":\\\"casesIncreaseMA\\\",\\\"headerName\\\":\\\"casesIncreaseMA\\\",\\\"sortable\\\":false,\\\"type\\\":\\\"numericColumn\\\",\\\"resizable\\\":true},{\\\"filter\\\":false,\\\"editable\\\":false,\\\"headerTooltip\\\":\\\"Float64\\\",\\\"field\\\":\\\"pch_casesIncreaseMA\\\",\\\"headerName\\\":\\\"pch_casesIncreaseMA\\\",\\\"sortable\\\":false,\\\"type\\\":\\\"numericColumn\\\",\\\"resizable\\\":true}],\\\"cacheBlockSize\\\":1000,\\\"datasource\\\":{\\\"rowCount\\\":null,\\\"getRows\\\":(function (rowParams){return WebIO.setval({\\\"name\\\":\\\"rowparams\\\",\\\"scope\\\":\\\"2970728903384818509\\\",\\\"id\\\":\\\"ob_230\\\",\\\"type\\\":\\\"observable\\\"},rowParams)})},\\\"multiSortKey\\\":\\\"ctrl\\\",\\\"maxBlocksInCache\\\":100,\\\"onCellDoubleClicked\\\":(function (ev){var x={}; (ev.rowIndex!==undefined) ? (x[\\\"rowIndex\\\"]=(ev.rowIndex+1)) : undefined; (ev.colDef!==undefined) ? (x[\\\"column\\\"]=ev.colDef.headerName) : undefined; return WebIO.setval({\\\"name\\\":\\\"onCellDoubleClicked\\\",\\\"scope\\\":\\\"2970728903384818509\\\",\\\"id\\\":\\\"ob_226\\\",\\\"type\\\":\\\"observable\\\"},x)}),\\\"onCellKeyDown\\\":(function (ev){var x={}; (ev.rowIndex!==undefined) ? (x[\\\"rowIndex\\\"]=(ev.rowIndex+1)) : undefined; (ev.colDef!==undefined) ? (x[\\\"column\\\"]=ev.colDef.headerName) : undefined; return WebIO.setval({\\\"name\\\":\\\"onCellKeyDown\\\",\\\"scope\\\":\\\"2970728903384818509\\\",\\\"id\\\":\\\"ob_229\\\",\\\"type\\\":\\\"observable\\\"},x)}),\\\"onCellClicked\\\":(function (ev){var x={}; (ev.rowIndex!==undefined) ? (x[\\\"rowIndex\\\"]=(ev.rowIndex+1)) : undefined; (ev.colDef!==undefined) ? (x[\\\"column\\\"]=ev.colDef.headerName) : undefined; return WebIO.setval({\\\"name\\\":\\\"onCellClicked\\\",\\\"scope\\\":\\\"2970728903384818509\\\",\\\"id\\\":\\\"ob_225\\\",\\\"type\\\":\\\"observable\\\"},x)})}; var el=document.getElementById(\\\"grid-a4a0d190\\\"); gridOptions.components={\\\"rowNumberRenderer\\\":RowNumberRenderer}; this.table=new agGrid.Grid(el,gridOptions); gridOptions.columnApi.autoSizeColumn(\\\"__row__\\\"); return gridOptions.columnApi.autoSizeColumns([\\\"county\\\",\\\"state\\\",\\\"population\\\",\\\"cases\\\",\\\"casesMA\\\",\\\"pch_casesMA\\\",\\\"casesIncreaseMA\\\",\\\"pch_casesIncreaseMA\\\"])}));\\n    (WebIO.importBlock({\\\"data\\\":[{\\\"name\\\":null,\\\"type\\\":\\\"js\\\",\\\"url\\\":\\\"/assetserver/8a878f8aac4fcc3aa0fe3544f3b6004cfb87e28d-rowNumberRenderer.js\\\"},{\\\"name\\\":null,\\\"type\\\":\\\"js\\\",\\\"url\\\":\\\"/assetserver/49affd7ae36d0aac75380aa149861ff1594bff9c-ag-grid.js\\\"},{\\\"name\\\":null,\\\"type\\\":\\\"css\\\",\\\"url\\\":\\\"/assetserver/44eec805f61ccdf030080bfd1a559f03509a0021-ag-grid.css\\\"},{\\\"name\\\":null,\\\"type\\\":\\\"css\\\",\\\"url\\\":\\\"/assetserver/e4213c8e832c90aaafe2b3164c0bbb5b67c7a305-ag-grid-light.css\\\"},{\\\"name\\\":null,\\\"type\\\":\\\"css\\\",\\\"url\\\":\\\"/assetserver/b082734171f365ccefe5d7b6015f8162af17e3a6-ag-grid-dark.css\\\"}],\\\"type\\\":\\\"async_block\\\"})).then((imports) => handler.apply(this, imports));\\n}\\n\")])"
      ]
     },
     "execution_count": 60,
     "metadata": {
      "application/vnd.webio.node+json": {
       "kernelId": "3229260e-45e1-405c-811b-0c4817f5e87c"
      }
     },
     "output_type": "execute_result"
    }
   ],
   "source": [
    "@time dfcd = aggregate_by_county(dfc,\n",
    "    [:county,:state,:population,:cases,:casesMA,:pch_casesMA,:casesIncreaseMA,:pch_casesIncreaseMA])\n",
    "@tbl dfcd"
   ]
  },
  {
   "cell_type": "code",
   "execution_count": 61,
   "metadata": {},
   "outputs": [
    {
     "data": {
      "text/plain": [
       "5"
      ]
     },
     "execution_count": 61,
     "metadata": {},
     "output_type": "execute_result"
    }
   ],
   "source": [
    "min_cases = 500\n",
    "min_grw = 5"
   ]
  },
  {
   "cell_type": "code",
   "execution_count": 62,
   "metadata": {},
   "outputs": [],
   "source": [
    "dfcd_f = filter(r-> !isnan(r.pch_casesIncreaseMA) && r.cases > min_cases,dfcd);"
   ]
  },
  {
   "cell_type": "code",
   "execution_count": 63,
   "metadata": {},
   "outputs": [
    {
     "data": {
      "application/vnd.webio.node+json": {
       "children": [
        {
         "children": [
          {
           "children": [
            ""
           ],
           "instanceArgs": {
            "namespace": "html",
            "tag": "div"
           },
           "nodeType": "DOM",
           "props": {
            "style": {
             "background-color": "#F5F7F7",
             "color": "#1c1f20",
             "font-family": "-apple-system, BlinkMacSystemFont, \"Segoe UI\", Roboto, Oxygen-Sans, Ubuntu, Cantarell, \"Helvetica Neue\", sans-serif",
             "height": "0",
             "padding": "0"
            }
           },
           "type": "node"
          },
          {
           "children": [],
           "instanceArgs": {
            "namespace": "html",
            "tag": "div"
           },
           "nodeType": "DOM",
           "props": {
            "className": "ag-theme-balham",
            "id": "grid-a54db3ec",
            "style": {
             "height": "500px",
             "width": "100%"
            }
           },
           "type": "node"
          }
         ],
         "instanceArgs": {
          "namespace": "html",
          "tag": "div"
         },
         "nodeType": "DOM",
         "props": {},
         "type": "node"
        }
       ],
       "instanceArgs": {
        "handlers": {
         "requestedrows": [
          "(function (val){return WebIO.getval({\"name\":\"rowparams\",\"scope\":\"7895254402720002956\",\"id\":\"ob_237\",\"type\":\"observable\"}).successCallback(val,null)})"
         ]
        },
        "id": "7895254402720002956",
        "imports": {
         "data": [
          {
           "name": null,
           "type": "js",
           "url": "/assetserver/8a878f8aac4fcc3aa0fe3544f3b6004cfb87e28d-rowNumberRenderer.js"
          },
          {
           "name": null,
           "type": "js",
           "url": "/assetserver/49affd7ae36d0aac75380aa149861ff1594bff9c-ag-grid.js"
          },
          {
           "name": null,
           "type": "css",
           "url": "/assetserver/44eec805f61ccdf030080bfd1a559f03509a0021-ag-grid.css"
          },
          {
           "name": null,
           "type": "css",
           "url": "/assetserver/e4213c8e832c90aaafe2b3164c0bbb5b67c7a305-ag-grid-light.css"
          },
          {
           "name": null,
           "type": "css",
           "url": "/assetserver/b082734171f365ccefe5d7b6015f8162af17e3a6-ag-grid-dark.css"
          }
         ],
         "type": "async_block"
        },
        "mount_callbacks": [
         "function () {\n    var handler = ((function (RowNumberRenderer,agGrid){var gridOptions={\"onCellFocused\":(function (ev){var x={}; (ev.rowIndex!==undefined) ? (x[\"rowIndex\"]=(ev.rowIndex+1)) : undefined; (ev.colDef!==undefined) ? (x[\"column\"]=ev.colDef.headerName) : undefined; return WebIO.setval({\"name\":\"onCellFocused\",\"scope\":\"7895254402720002956\",\"id\":\"ob_235\",\"type\":\"observable\"},x)}),\"onCellValueChanged\":(function (){return }),\"rowModelType\":\"infinite\",\"onRowClicked\":(function (ev){var x={}; (ev.rowIndex!==undefined) ? (x[\"rowIndex\"]=(ev.rowIndex+1)) : undefined; (ev.colDef!==undefined) ? (x[\"column\"]=ev.colDef.headerName) : undefined; return WebIO.setval({\"name\":\"onRowClicked\",\"scope\":\"7895254402720002956\",\"id\":\"ob_234\",\"type\":\"observable\"},x)}),\"maxConcurrentDatasourceRequests\":1,\"columnDefs\":[{\"filter\":false,\"editable\":false,\"headerTooltip\":\"\",\"field\":\"__row__\",\"headerName\":\"Row\",\"sortable\":false,\"type\":\"numericColumn\",\"cellRenderer\":\"rowNumberRenderer\",\"resizable\":true},{\"filter\":false,\"editable\":false,\"headerTooltip\":\"Float64\",\"field\":\"pch_casesIncreaseMA\",\"headerName\":\"pch_casesIncreaseMA\",\"sortable\":false,\"type\":\"numericColumn\",\"resizable\":true},{\"filter\":false,\"editable\":false,\"headerTooltip\":\"Int64\",\"field\":\"cases\",\"headerName\":\"cases\",\"sortable\":false,\"type\":\"numericColumn\",\"resizable\":true},{\"filter\":false,\"editable\":false,\"headerTooltip\":\"Int64\",\"field\":\"population\",\"headerName\":\"population\",\"sortable\":false,\"type\":\"numericColumn\",\"resizable\":true},{\"filter\":false,\"editable\":false,\"headerTooltip\":\"String\",\"field\":\"county\",\"headerName\":\"county\",\"sortable\":false,\"type\":null,\"resizable\":true},{\"filter\":false,\"editable\":false,\"headerTooltip\":\"String\",\"field\":\"state\",\"headerName\":\"state\",\"sortable\":false,\"type\":null,\"resizable\":true}],\"cacheBlockSize\":1000,\"datasource\":{\"rowCount\":null,\"getRows\":(function (rowParams){return WebIO.setval({\"name\":\"rowparams\",\"scope\":\"7895254402720002956\",\"id\":\"ob_237\",\"type\":\"observable\"},rowParams)})},\"multiSortKey\":\"ctrl\",\"maxBlocksInCache\":100,\"onCellDoubleClicked\":(function (ev){var x={}; (ev.rowIndex!==undefined) ? (x[\"rowIndex\"]=(ev.rowIndex+1)) : undefined; (ev.colDef!==undefined) ? (x[\"column\"]=ev.colDef.headerName) : undefined; return WebIO.setval({\"name\":\"onCellDoubleClicked\",\"scope\":\"7895254402720002956\",\"id\":\"ob_233\",\"type\":\"observable\"},x)}),\"onCellKeyDown\":(function (ev){var x={}; (ev.rowIndex!==undefined) ? (x[\"rowIndex\"]=(ev.rowIndex+1)) : undefined; (ev.colDef!==undefined) ? (x[\"column\"]=ev.colDef.headerName) : undefined; return WebIO.setval({\"name\":\"onCellKeyDown\",\"scope\":\"7895254402720002956\",\"id\":\"ob_236\",\"type\":\"observable\"},x)}),\"onCellClicked\":(function (ev){var x={}; (ev.rowIndex!==undefined) ? (x[\"rowIndex\"]=(ev.rowIndex+1)) : undefined; (ev.colDef!==undefined) ? (x[\"column\"]=ev.colDef.headerName) : undefined; return WebIO.setval({\"name\":\"onCellClicked\",\"scope\":\"7895254402720002956\",\"id\":\"ob_232\",\"type\":\"observable\"},x)})}; var el=document.getElementById(\"grid-a54db3ec\"); gridOptions.components={\"rowNumberRenderer\":RowNumberRenderer}; this.table=new agGrid.Grid(el,gridOptions); gridOptions.columnApi.autoSizeColumn(\"__row__\"); return gridOptions.columnApi.autoSizeColumns([\"pch_casesIncreaseMA\",\"cases\",\"population\",\"county\",\"state\"])}));\n    (WebIO.importBlock({\"data\":[{\"name\":null,\"type\":\"js\",\"url\":\"/assetserver/8a878f8aac4fcc3aa0fe3544f3b6004cfb87e28d-rowNumberRenderer.js\"},{\"name\":null,\"type\":\"js\",\"url\":\"/assetserver/49affd7ae36d0aac75380aa149861ff1594bff9c-ag-grid.js\"},{\"name\":null,\"type\":\"css\",\"url\":\"/assetserver/44eec805f61ccdf030080bfd1a559f03509a0021-ag-grid.css\"},{\"name\":null,\"type\":\"css\",\"url\":\"/assetserver/e4213c8e832c90aaafe2b3164c0bbb5b67c7a305-ag-grid-light.css\"},{\"name\":null,\"type\":\"css\",\"url\":\"/assetserver/b082734171f365ccefe5d7b6015f8162af17e3a6-ag-grid-dark.css\"}],\"type\":\"async_block\"})).then((imports) => handler.apply(this, imports));\n}\n"
        ],
        "observables": {
         "onCellClicked": {
          "id": "ob_232",
          "sync": false,
          "value": null
         },
         "onCellDoubleClicked": {
          "id": "ob_233",
          "sync": false,
          "value": null
         },
         "onCellFocused": {
          "id": "ob_235",
          "sync": false,
          "value": null
         },
         "onCellKeyDown": {
          "id": "ob_236",
          "sync": false,
          "value": null
         },
         "onRowClicked": {
          "id": "ob_234",
          "sync": false,
          "value": null
         },
         "requestedrows": {
          "id": "ob_238",
          "sync": false,
          "value": {}
         },
         "rowparams": {
          "id": "ob_237",
          "sync": true,
          "value": {
           "endRow": 100,
           "startRow": 1,
           "successCallback": "(function (v){return null})"
          }
         }
        },
        "systemjs_options": null
       },
       "nodeType": "Scope",
       "props": {},
       "type": "node"
      },
      "text/html": [
       "<div\n",
       "    class=\"webio-mountpoint\"\n",
       "    data-webio-mountpoint=\"4741592932086133703\"\n",
       ">\n",
       "    <script>\n",
       "    if (window.require && require.defined && require.defined(\"nbextensions/webio-jupyter-notebook\")) {\n",
       "        console.log(\"Jupyter WebIO extension detected, not mounting.\");\n",
       "    } else if (window.WebIO) {\n",
       "        WebIO.mount(\n",
       "            document.querySelector('[data-webio-mountpoint=\"4741592932086133703\"]'),\n",
       "            {\"props\":{},\"nodeType\":\"Scope\",\"type\":\"node\",\"instanceArgs\":{\"imports\":{\"data\":[{\"name\":null,\"type\":\"js\",\"url\":\"\\/assetserver\\/8a878f8aac4fcc3aa0fe3544f3b6004cfb87e28d-rowNumberRenderer.js\"},{\"name\":null,\"type\":\"js\",\"url\":\"\\/assetserver\\/49affd7ae36d0aac75380aa149861ff1594bff9c-ag-grid.js\"},{\"name\":null,\"type\":\"css\",\"url\":\"\\/assetserver\\/44eec805f61ccdf030080bfd1a559f03509a0021-ag-grid.css\"},{\"name\":null,\"type\":\"css\",\"url\":\"\\/assetserver\\/e4213c8e832c90aaafe2b3164c0bbb5b67c7a305-ag-grid-light.css\"},{\"name\":null,\"type\":\"css\",\"url\":\"\\/assetserver\\/b082734171f365ccefe5d7b6015f8162af17e3a6-ag-grid-dark.css\"}],\"type\":\"async_block\"},\"id\":\"7895254402720002956\",\"handlers\":{\"requestedrows\":[\"(function (val){return WebIO.getval({\\\"name\\\":\\\"rowparams\\\",\\\"scope\\\":\\\"7895254402720002956\\\",\\\"id\\\":\\\"ob_237\\\",\\\"type\\\":\\\"observable\\\"}).successCallback(val,null)})\"]},\"systemjs_options\":null,\"mount_callbacks\":[\"function () {\\n    var handler = ((function (RowNumberRenderer,agGrid){var gridOptions={\\\"onCellFocused\\\":(function (ev){var x={}; (ev.rowIndex!==undefined) ? (x[\\\"rowIndex\\\"]=(ev.rowIndex+1)) : undefined; (ev.colDef!==undefined) ? (x[\\\"column\\\"]=ev.colDef.headerName) : undefined; return WebIO.setval({\\\"name\\\":\\\"onCellFocused\\\",\\\"scope\\\":\\\"7895254402720002956\\\",\\\"id\\\":\\\"ob_235\\\",\\\"type\\\":\\\"observable\\\"},x)}),\\\"onCellValueChanged\\\":(function (){return }),\\\"rowModelType\\\":\\\"infinite\\\",\\\"onRowClicked\\\":(function (ev){var x={}; (ev.rowIndex!==undefined) ? (x[\\\"rowIndex\\\"]=(ev.rowIndex+1)) : undefined; (ev.colDef!==undefined) ? (x[\\\"column\\\"]=ev.colDef.headerName) : undefined; return WebIO.setval({\\\"name\\\":\\\"onRowClicked\\\",\\\"scope\\\":\\\"7895254402720002956\\\",\\\"id\\\":\\\"ob_234\\\",\\\"type\\\":\\\"observable\\\"},x)}),\\\"maxConcurrentDatasourceRequests\\\":1,\\\"columnDefs\\\":[{\\\"filter\\\":false,\\\"editable\\\":false,\\\"headerTooltip\\\":\\\"\\\",\\\"field\\\":\\\"__row__\\\",\\\"headerName\\\":\\\"Row\\\",\\\"sortable\\\":false,\\\"type\\\":\\\"numericColumn\\\",\\\"cellRenderer\\\":\\\"rowNumberRenderer\\\",\\\"resizable\\\":true},{\\\"filter\\\":false,\\\"editable\\\":false,\\\"headerTooltip\\\":\\\"Float64\\\",\\\"field\\\":\\\"pch_casesIncreaseMA\\\",\\\"headerName\\\":\\\"pch_casesIncreaseMA\\\",\\\"sortable\\\":false,\\\"type\\\":\\\"numericColumn\\\",\\\"resizable\\\":true},{\\\"filter\\\":false,\\\"editable\\\":false,\\\"headerTooltip\\\":\\\"Int64\\\",\\\"field\\\":\\\"cases\\\",\\\"headerName\\\":\\\"cases\\\",\\\"sortable\\\":false,\\\"type\\\":\\\"numericColumn\\\",\\\"resizable\\\":true},{\\\"filter\\\":false,\\\"editable\\\":false,\\\"headerTooltip\\\":\\\"Int64\\\",\\\"field\\\":\\\"population\\\",\\\"headerName\\\":\\\"population\\\",\\\"sortable\\\":false,\\\"type\\\":\\\"numericColumn\\\",\\\"resizable\\\":true},{\\\"filter\\\":false,\\\"editable\\\":false,\\\"headerTooltip\\\":\\\"String\\\",\\\"field\\\":\\\"county\\\",\\\"headerName\\\":\\\"county\\\",\\\"sortable\\\":false,\\\"type\\\":null,\\\"resizable\\\":true},{\\\"filter\\\":false,\\\"editable\\\":false,\\\"headerTooltip\\\":\\\"String\\\",\\\"field\\\":\\\"state\\\",\\\"headerName\\\":\\\"state\\\",\\\"sortable\\\":false,\\\"type\\\":null,\\\"resizable\\\":true}],\\\"cacheBlockSize\\\":1000,\\\"datasource\\\":{\\\"rowCount\\\":null,\\\"getRows\\\":(function (rowParams){return WebIO.setval({\\\"name\\\":\\\"rowparams\\\",\\\"scope\\\":\\\"7895254402720002956\\\",\\\"id\\\":\\\"ob_237\\\",\\\"type\\\":\\\"observable\\\"},rowParams)})},\\\"multiSortKey\\\":\\\"ctrl\\\",\\\"maxBlocksInCache\\\":100,\\\"onCellDoubleClicked\\\":(function (ev){var x={}; (ev.rowIndex!==undefined) ? (x[\\\"rowIndex\\\"]=(ev.rowIndex+1)) : undefined; (ev.colDef!==undefined) ? (x[\\\"column\\\"]=ev.colDef.headerName) : undefined; return WebIO.setval({\\\"name\\\":\\\"onCellDoubleClicked\\\",\\\"scope\\\":\\\"7895254402720002956\\\",\\\"id\\\":\\\"ob_233\\\",\\\"type\\\":\\\"observable\\\"},x)}),\\\"onCellKeyDown\\\":(function (ev){var x={}; (ev.rowIndex!==undefined) ? (x[\\\"rowIndex\\\"]=(ev.rowIndex+1)) : undefined; (ev.colDef!==undefined) ? (x[\\\"column\\\"]=ev.colDef.headerName) : undefined; return WebIO.setval({\\\"name\\\":\\\"onCellKeyDown\\\",\\\"scope\\\":\\\"7895254402720002956\\\",\\\"id\\\":\\\"ob_236\\\",\\\"type\\\":\\\"observable\\\"},x)}),\\\"onCellClicked\\\":(function (ev){var x={}; (ev.rowIndex!==undefined) ? (x[\\\"rowIndex\\\"]=(ev.rowIndex+1)) : undefined; (ev.colDef!==undefined) ? (x[\\\"column\\\"]=ev.colDef.headerName) : undefined; return WebIO.setval({\\\"name\\\":\\\"onCellClicked\\\",\\\"scope\\\":\\\"7895254402720002956\\\",\\\"id\\\":\\\"ob_232\\\",\\\"type\\\":\\\"observable\\\"},x)})}; var el=document.getElementById(\\\"grid-a54db3ec\\\"); gridOptions.components={\\\"rowNumberRenderer\\\":RowNumberRenderer}; this.table=new agGrid.Grid(el,gridOptions); gridOptions.columnApi.autoSizeColumn(\\\"__row__\\\"); return gridOptions.columnApi.autoSizeColumns([\\\"pch_casesIncreaseMA\\\",\\\"cases\\\",\\\"population\\\",\\\"county\\\",\\\"state\\\"])}));\\n    (WebIO.importBlock({\\\"data\\\":[{\\\"name\\\":null,\\\"type\\\":\\\"js\\\",\\\"url\\\":\\\"\\/assetserver\\/8a878f8aac4fcc3aa0fe3544f3b6004cfb87e28d-rowNumberRenderer.js\\\"},{\\\"name\\\":null,\\\"type\\\":\\\"js\\\",\\\"url\\\":\\\"\\/assetserver\\/49affd7ae36d0aac75380aa149861ff1594bff9c-ag-grid.js\\\"},{\\\"name\\\":null,\\\"type\\\":\\\"css\\\",\\\"url\\\":\\\"\\/assetserver\\/44eec805f61ccdf030080bfd1a559f03509a0021-ag-grid.css\\\"},{\\\"name\\\":null,\\\"type\\\":\\\"css\\\",\\\"url\\\":\\\"\\/assetserver\\/e4213c8e832c90aaafe2b3164c0bbb5b67c7a305-ag-grid-light.css\\\"},{\\\"name\\\":null,\\\"type\\\":\\\"css\\\",\\\"url\\\":\\\"\\/assetserver\\/b082734171f365ccefe5d7b6015f8162af17e3a6-ag-grid-dark.css\\\"}],\\\"type\\\":\\\"async_block\\\"})).then((imports) => handler.apply(this, imports));\\n}\\n\"],\"observables\":{\"onCellKeyDown\":{\"sync\":false,\"id\":\"ob_236\",\"value\":null},\"onRowClicked\":{\"sync\":false,\"id\":\"ob_234\",\"value\":null},\"onCellDoubleClicked\":{\"sync\":false,\"id\":\"ob_233\",\"value\":null},\"requestedrows\":{\"sync\":false,\"id\":\"ob_238\",\"value\":{}},\"onCellClicked\":{\"sync\":false,\"id\":\"ob_232\",\"value\":null},\"onCellFocused\":{\"sync\":false,\"id\":\"ob_235\",\"value\":null},\"rowparams\":{\"sync\":true,\"id\":\"ob_237\",\"value\":{\"successCallback\":\"(function (v){return null})\",\"startRow\":1,\"endRow\":100}}}},\"children\":[{\"props\":{},\"nodeType\":\"DOM\",\"type\":\"node\",\"instanceArgs\":{\"namespace\":\"html\",\"tag\":\"div\"},\"children\":[{\"props\":{\"style\":{\"height\":\"0\",\"padding\":\"0\",\"background-color\":\"#F5F7F7\",\"color\":\"#1c1f20\",\"font-family\":\"-apple-system, BlinkMacSystemFont, \\\"Segoe UI\\\", Roboto, Oxygen-Sans, Ubuntu, Cantarell, \\\"Helvetica Neue\\\", sans-serif\"}},\"nodeType\":\"DOM\",\"type\":\"node\",\"instanceArgs\":{\"namespace\":\"html\",\"tag\":\"div\"},\"children\":[\"\"]},{\"props\":{\"id\":\"grid-a54db3ec\",\"className\":\"ag-theme-balham\",\"style\":{\"height\":\"500px\",\"width\":\"100%\"}},\"nodeType\":\"DOM\",\"type\":\"node\",\"instanceArgs\":{\"namespace\":\"html\",\"tag\":\"div\"},\"children\":[]}]}]},\n",
       "            window,\n",
       "        );\n",
       "    } else {\n",
       "        document\n",
       "            .querySelector('[data-webio-mountpoint=\"4741592932086133703\"]')\n",
       "            .innerHTML = (\n",
       "                '<div style=\"padding: 1em; background-color: #f8d6da; border: 1px solid #f5c6cb\">' +\n",
       "                '<p><strong>WebIO not detected.</strong></p>' +\n",
       "                '<p>Please read ' +\n",
       "                '<a href=\"https://juliagizmos.github.io/WebIO.jl/latest/troubleshooting/not-detected/\" target=\"_blank\">the troubleshooting guide</a> ' +\n",
       "                'for more information on how to resolve this issue.</p>' +\n",
       "                '<p><a href=\"https://juliagizmos.github.io/WebIO.jl/latest/troubleshooting/not-detected/\" target=\"_blank\">https://juliagizmos.github.io/WebIO.jl/latest/troubleshooting/not-detected/</a></p>' +\n",
       "                '</div>'\n",
       "            );\n",
       "    }\n",
       "    </script>\n",
       "</div>\n"
      ],
      "text/plain": [
       "WebIO.Scope(WebIO.Node{WebIO.DOM}(WebIO.DOM(:html, :div), Any[WebIO.Node{WebIO.DOM}(WebIO.DOM(:html, :div), Any[\"\"], Dict{Symbol,Any}(:style => Dict(\"height\" => \"0\",\"padding\" => \"0\",\"background-color\" => \"#F5F7F7\",\"color\" => \"#1c1f20\",\"font-family\" => \"-apple-system, BlinkMacSystemFont, \\\"Segoe UI\\\", Roboto, Oxygen-Sans, Ubuntu, Cantarell, \\\"Helvetica Neue\\\", sans-serif\"))), WebIO.Node{WebIO.DOM}(WebIO.DOM(:html, :div), Any[], Dict{Symbol,Any}(:id => \"grid-a54db3ec\",:className => \"ag-theme-balham\",:style => Dict(\"height\" => \"500px\",\"width\" => \"100%\")))], Dict{Symbol,Any}()), Dict{String,Tuple{Observables.AbstractObservable,Union{Nothing, Bool}}}(\"onCellKeyDown\" => (Observable{Any} with 0 listeners. Value:\n",
       "nothing, nothing),\"onRowClicked\" => (Observable{Any} with 0 listeners. Value:\n",
       "nothing, nothing),\"onCellDoubleClicked\" => (Observable{Any} with 0 listeners. Value:\n",
       "nothing, nothing),\"requestedrows\" => (Observable{JSON.Writer.JSONText} with 1 listeners. Value:\n",
       "JSON.Writer.JSONText(\"{}\"), nothing),\"onCellClicked\" => (Observable{Any} with 0 listeners. Value:\n",
       "nothing, nothing),\"onCellFocused\" => (Observable{Any} with 0 listeners. Value:\n",
       "nothing, nothing),\"rowparams\" => (Observable{Dict{String,Any}} with 1 listeners. Value:\n",
       "Dict{String,Any}(\"successCallback\" => WebIO.JSString(\"(function (v){return null})\"),\"startRow\" => 1,\"endRow\" => 100), nothing)), Set(String[]), nothing, WebIO.Asset[WebIO.Asset(\"js\", nothing, \"/Users/cdaniels/.julia/packages/TableView/CxWLO/src/rowNumberRenderer.js\"), WebIO.Asset(\"js\", nothing, \"/Users/cdaniels/.julia/packages/TableView/CxWLO/deps/ag-grid-22.1.0/ag-grid.js\"), WebIO.Asset(\"css\", nothing, \"/Users/cdaniels/.julia/packages/TableView/CxWLO/deps/ag-grid-22.1.0/ag-grid.css\"), WebIO.Asset(\"css\", nothing, \"/Users/cdaniels/.julia/packages/TableView/CxWLO/deps/ag-grid-22.1.0/ag-grid-light.css\"), WebIO.Asset(\"css\", nothing, \"/Users/cdaniels/.julia/packages/TableView/CxWLO/deps/ag-grid-22.1.0/ag-grid-dark.css\")], Dict{Any,Any}(\"requestedrows\" => Any[WebIO.JSString(\"(function (val){return WebIO.getval({\\\"name\\\":\\\"rowparams\\\",\\\"scope\\\":\\\"7895254402720002956\\\",\\\"id\\\":\\\"ob_237\\\",\\\"type\\\":\\\"observable\\\"}).successCallback(val,null)})\")]), WebIO.ConnectionPool(Channel{Any}(sz_max:32,sz_curr:0), Set(WebIO.AbstractConnection[]), Base.GenericCondition{Base.AlwaysLockedST}(Base.InvasiveLinkedList{Task}(Task (runnable) @0x000000013bc16d10, Task (runnable) @0x000000013bc16d10), Base.AlwaysLockedST(1))), WebIO.JSString[WebIO.JSString(\"function () {\\n    var handler = ((function (RowNumberRenderer,agGrid){var gridOptions={\\\"onCellFocused\\\":(function (ev){var x={}; (ev.rowIndex!==undefined) ? (x[\\\"rowIndex\\\"]=(ev.rowIndex+1)) : undefined; (ev.colDef!==undefined) ? (x[\\\"column\\\"]=ev.colDef.headerName) : undefined; return WebIO.setval({\\\"name\\\":\\\"onCellFocused\\\",\\\"scope\\\":\\\"7895254402720002956\\\",\\\"id\\\":\\\"ob_235\\\",\\\"type\\\":\\\"observable\\\"},x)}),\\\"onCellValueChanged\\\":(function (){return }),\\\"rowModelType\\\":\\\"infinite\\\",\\\"onRowClicked\\\":(function (ev){var x={}; (ev.rowIndex!==undefined) ? (x[\\\"rowIndex\\\"]=(ev.rowIndex+1)) : undefined; (ev.colDef!==undefined) ? (x[\\\"column\\\"]=ev.colDef.headerName) : undefined; return WebIO.setval({\\\"name\\\":\\\"onRowClicked\\\",\\\"scope\\\":\\\"7895254402720002956\\\",\\\"id\\\":\\\"ob_234\\\",\\\"type\\\":\\\"observable\\\"},x)}),\\\"maxConcurrentDatasourceRequests\\\":1,\\\"columnDefs\\\":[{\\\"filter\\\":false,\\\"editable\\\":false,\\\"headerTooltip\\\":\\\"\\\",\\\"field\\\":\\\"__row__\\\",\\\"headerName\\\":\\\"Row\\\",\\\"sortable\\\":false,\\\"type\\\":\\\"numericColumn\\\",\\\"cellRenderer\\\":\\\"rowNumberRenderer\\\",\\\"resizable\\\":true},{\\\"filter\\\":false,\\\"editable\\\":false,\\\"headerTooltip\\\":\\\"Float64\\\",\\\"field\\\":\\\"pch_casesIncreaseMA\\\",\\\"headerName\\\":\\\"pch_casesIncreaseMA\\\",\\\"sortable\\\":false,\\\"type\\\":\\\"numericColumn\\\",\\\"resizable\\\":true},{\\\"filter\\\":false,\\\"editable\\\":false,\\\"headerTooltip\\\":\\\"Int64\\\",\\\"field\\\":\\\"cases\\\",\\\"headerName\\\":\\\"cases\\\",\\\"sortable\\\":false,\\\"type\\\":\\\"numericColumn\\\",\\\"resizable\\\":true},{\\\"filter\\\":false,\\\"editable\\\":false,\\\"headerTooltip\\\":\\\"Int64\\\",\\\"field\\\":\\\"population\\\",\\\"headerName\\\":\\\"population\\\",\\\"sortable\\\":false,\\\"type\\\":\\\"numericColumn\\\",\\\"resizable\\\":true},{\\\"filter\\\":false,\\\"editable\\\":false,\\\"headerTooltip\\\":\\\"String\\\",\\\"field\\\":\\\"county\\\",\\\"headerName\\\":\\\"county\\\",\\\"sortable\\\":false,\\\"type\\\":null,\\\"resizable\\\":true},{\\\"filter\\\":false,\\\"editable\\\":false,\\\"headerTooltip\\\":\\\"String\\\",\\\"field\\\":\\\"state\\\",\\\"headerName\\\":\\\"state\\\",\\\"sortable\\\":false,\\\"type\\\":null,\\\"resizable\\\":true}],\\\"cacheBlockSize\\\":1000,\\\"datasource\\\":{\\\"rowCount\\\":null,\\\"getRows\\\":(function (rowParams){return WebIO.setval({\\\"name\\\":\\\"rowparams\\\",\\\"scope\\\":\\\"7895254402720002956\\\",\\\"id\\\":\\\"ob_237\\\",\\\"type\\\":\\\"observable\\\"},rowParams)})},\\\"multiSortKey\\\":\\\"ctrl\\\",\\\"maxBlocksInCache\\\":100,\\\"onCellDoubleClicked\\\":(function (ev){var x={}; (ev.rowIndex!==undefined) ? (x[\\\"rowIndex\\\"]=(ev.rowIndex+1)) : undefined; (ev.colDef!==undefined) ? (x[\\\"column\\\"]=ev.colDef.headerName) : undefined; return WebIO.setval({\\\"name\\\":\\\"onCellDoubleClicked\\\",\\\"scope\\\":\\\"7895254402720002956\\\",\\\"id\\\":\\\"ob_233\\\",\\\"type\\\":\\\"observable\\\"},x)}),\\\"onCellKeyDown\\\":(function (ev){var x={}; (ev.rowIndex!==undefined) ? (x[\\\"rowIndex\\\"]=(ev.rowIndex+1)) : undefined; (ev.colDef!==undefined) ? (x[\\\"column\\\"]=ev.colDef.headerName) : undefined; return WebIO.setval({\\\"name\\\":\\\"onCellKeyDown\\\",\\\"scope\\\":\\\"7895254402720002956\\\",\\\"id\\\":\\\"ob_236\\\",\\\"type\\\":\\\"observable\\\"},x)}),\\\"onCellClicked\\\":(function (ev){var x={}; (ev.rowIndex!==undefined) ? (x[\\\"rowIndex\\\"]=(ev.rowIndex+1)) : undefined; (ev.colDef!==undefined) ? (x[\\\"column\\\"]=ev.colDef.headerName) : undefined; return WebIO.setval({\\\"name\\\":\\\"onCellClicked\\\",\\\"scope\\\":\\\"7895254402720002956\\\",\\\"id\\\":\\\"ob_232\\\",\\\"type\\\":\\\"observable\\\"},x)})}; var el=document.getElementById(\\\"grid-a54db3ec\\\"); gridOptions.components={\\\"rowNumberRenderer\\\":RowNumberRenderer}; this.table=new agGrid.Grid(el,gridOptions); gridOptions.columnApi.autoSizeColumn(\\\"__row__\\\"); return gridOptions.columnApi.autoSizeColumns([\\\"pch_casesIncreaseMA\\\",\\\"cases\\\",\\\"population\\\",\\\"county\\\",\\\"state\\\"])}));\\n    (WebIO.importBlock({\\\"data\\\":[{\\\"name\\\":null,\\\"type\\\":\\\"js\\\",\\\"url\\\":\\\"/assetserver/8a878f8aac4fcc3aa0fe3544f3b6004cfb87e28d-rowNumberRenderer.js\\\"},{\\\"name\\\":null,\\\"type\\\":\\\"js\\\",\\\"url\\\":\\\"/assetserver/49affd7ae36d0aac75380aa149861ff1594bff9c-ag-grid.js\\\"},{\\\"name\\\":null,\\\"type\\\":\\\"css\\\",\\\"url\\\":\\\"/assetserver/44eec805f61ccdf030080bfd1a559f03509a0021-ag-grid.css\\\"},{\\\"name\\\":null,\\\"type\\\":\\\"css\\\",\\\"url\\\":\\\"/assetserver/e4213c8e832c90aaafe2b3164c0bbb5b67c7a305-ag-grid-light.css\\\"},{\\\"name\\\":null,\\\"type\\\":\\\"css\\\",\\\"url\\\":\\\"/assetserver/b082734171f365ccefe5d7b6015f8162af17e3a6-ag-grid-dark.css\\\"}],\\\"type\\\":\\\"async_block\\\"})).then((imports) => handler.apply(this, imports));\\n}\\n\")])"
      ]
     },
     "execution_count": 63,
     "metadata": {
      "application/vnd.webio.node+json": {
       "kernelId": "3229260e-45e1-405c-811b-0c4817f5e87c"
      }
     },
     "output_type": "execute_result"
    }
   ],
   "source": [
    "@tbl sort(dfcd_f[:,[:pch_casesIncreaseMA,:cases,:population,:county,:state]],rev=true)"
   ]
  },
  {
   "cell_type": "code",
   "execution_count": 64,
   "metadata": {
    "scrolled": true
   },
   "outputs": [
    {
     "name": "stdout",
     "output_type": "stream",
     "text": [
      "391 counties have had more than a total of 500 COVID-19 cases reported."
     ]
    }
   ],
   "source": [
    "num_c =nrow(dfcd_f)\n",
    "print(\"$(num_c) counties have had more than a total of $(min_cases) COVID-19 cases reported.\")"
   ]
  },
  {
   "cell_type": "code",
   "execution_count": 65,
   "metadata": {},
   "outputs": [
    {
     "name": "stdout",
     "output_type": "stream",
     "text": [
      "37.0% of these counties had more than a 5% increase in new weekly cases."
     ]
    }
   ],
   "source": [
    "inc_ma = round(100*count(dfcd_f.pch_casesIncreaseMA .> min_grw)/num_c)\n",
    "print(\"$(inc_ma)% of these counties had more than a $(min_grw)% increase in new weekly cases.\")"
   ]
  },
  {
   "cell_type": "code",
   "execution_count": 66,
   "metadata": {},
   "outputs": [
    {
     "name": "stdout",
     "output_type": "stream",
     "text": [
      "63.0% of these counties had less than a 5% increase in new weekly cases."
     ]
    }
   ],
   "source": [
    "dec_ma = round(100*count(dfcd_f.pch_casesIncreaseMA .< min_grw)/num_c)\n",
    "print(\"$(dec_ma)% of these counties had less than a $(min_grw)% increase in new weekly cases.\")"
   ]
  },
  {
   "cell_type": "markdown",
   "metadata": {},
   "source": [
    "### Add County Infection Rate per 100,000"
   ]
  },
  {
   "cell_type": "code",
   "execution_count": 67,
   "metadata": {
    "scrolled": true
   },
   "outputs": [],
   "source": [
    "dfcp = dfcd_f\n",
    "dfcp = [dfcp round.(100000 * dfcp.casesIncreaseMA ./ dfcp.population)]\n",
    "rename!(dfcp,:x1=>:casesInc100k)\n",
    "dfcp = dfcp[:,[:state,:county,:population,:cases,:casesIncreaseMA,:casesInc100k,:pch_casesIncreaseMA]];"
   ]
  },
  {
   "cell_type": "markdown",
   "metadata": {},
   "source": [
    "#### Highest Number of New Daily Cases per County"
   ]
  },
  {
   "cell_type": "code",
   "execution_count": 68,
   "metadata": {
    "scrolled": false
   },
   "outputs": [
    {
     "data": {
      "application/vnd.webio.node+json": {
       "children": [
        {
         "children": [
          {
           "children": [
            ""
           ],
           "instanceArgs": {
            "namespace": "html",
            "tag": "div"
           },
           "nodeType": "DOM",
           "props": {
            "style": {
             "background-color": "#F5F7F7",
             "color": "#1c1f20",
             "font-family": "-apple-system, BlinkMacSystemFont, \"Segoe UI\", Roboto, Oxygen-Sans, Ubuntu, Cantarell, \"Helvetica Neue\", sans-serif",
             "height": "0",
             "padding": "0"
            }
           },
           "type": "node"
          },
          {
           "children": [],
           "instanceArgs": {
            "namespace": "html",
            "tag": "div"
           },
           "nodeType": "DOM",
           "props": {
            "className": "ag-theme-balham",
            "id": "grid-a707a4d6",
            "style": {
             "height": "500px",
             "width": "100%"
            }
           },
           "type": "node"
          }
         ],
         "instanceArgs": {
          "namespace": "html",
          "tag": "div"
         },
         "nodeType": "DOM",
         "props": {},
         "type": "node"
        }
       ],
       "instanceArgs": {
        "handlers": {
         "requestedrows": [
          "(function (val){return WebIO.getval({\"name\":\"rowparams\",\"scope\":\"859793377349142535\",\"id\":\"ob_244\",\"type\":\"observable\"}).successCallback(val,null)})"
         ]
        },
        "id": "859793377349142535",
        "imports": {
         "data": [
          {
           "name": null,
           "type": "js",
           "url": "/assetserver/8a878f8aac4fcc3aa0fe3544f3b6004cfb87e28d-rowNumberRenderer.js"
          },
          {
           "name": null,
           "type": "js",
           "url": "/assetserver/49affd7ae36d0aac75380aa149861ff1594bff9c-ag-grid.js"
          },
          {
           "name": null,
           "type": "css",
           "url": "/assetserver/44eec805f61ccdf030080bfd1a559f03509a0021-ag-grid.css"
          },
          {
           "name": null,
           "type": "css",
           "url": "/assetserver/e4213c8e832c90aaafe2b3164c0bbb5b67c7a305-ag-grid-light.css"
          },
          {
           "name": null,
           "type": "css",
           "url": "/assetserver/b082734171f365ccefe5d7b6015f8162af17e3a6-ag-grid-dark.css"
          }
         ],
         "type": "async_block"
        },
        "mount_callbacks": [
         "function () {\n    var handler = ((function (RowNumberRenderer,agGrid){var gridOptions={\"onCellFocused\":(function (ev){var x={}; (ev.rowIndex!==undefined) ? (x[\"rowIndex\"]=(ev.rowIndex+1)) : undefined; (ev.colDef!==undefined) ? (x[\"column\"]=ev.colDef.headerName) : undefined; return WebIO.setval({\"name\":\"onCellFocused\",\"scope\":\"859793377349142535\",\"id\":\"ob_242\",\"type\":\"observable\"},x)}),\"onCellValueChanged\":(function (){return }),\"rowModelType\":\"infinite\",\"onRowClicked\":(function (ev){var x={}; (ev.rowIndex!==undefined) ? (x[\"rowIndex\"]=(ev.rowIndex+1)) : undefined; (ev.colDef!==undefined) ? (x[\"column\"]=ev.colDef.headerName) : undefined; return WebIO.setval({\"name\":\"onRowClicked\",\"scope\":\"859793377349142535\",\"id\":\"ob_241\",\"type\":\"observable\"},x)}),\"maxConcurrentDatasourceRequests\":1,\"columnDefs\":[{\"filter\":false,\"editable\":false,\"headerTooltip\":\"\",\"field\":\"__row__\",\"headerName\":\"Row\",\"sortable\":false,\"type\":\"numericColumn\",\"cellRenderer\":\"rowNumberRenderer\",\"resizable\":true},{\"filter\":false,\"editable\":false,\"headerTooltip\":\"String\",\"field\":\"state\",\"headerName\":\"state\",\"sortable\":false,\"type\":null,\"resizable\":true},{\"filter\":false,\"editable\":false,\"headerTooltip\":\"String\",\"field\":\"county\",\"headerName\":\"county\",\"sortable\":false,\"type\":null,\"resizable\":true},{\"filter\":false,\"editable\":false,\"headerTooltip\":\"Int64\",\"field\":\"population\",\"headerName\":\"population\",\"sortable\":false,\"type\":\"numericColumn\",\"resizable\":true},{\"filter\":false,\"editable\":false,\"headerTooltip\":\"Int64\",\"field\":\"cases\",\"headerName\":\"cases\",\"sortable\":false,\"type\":\"numericColumn\",\"resizable\":true},{\"filter\":false,\"editable\":false,\"headerTooltip\":\"Float64\",\"field\":\"casesIncreaseMA\",\"headerName\":\"casesIncreaseMA\",\"sortable\":false,\"type\":\"numericColumn\",\"resizable\":true},{\"filter\":false,\"editable\":false,\"headerTooltip\":\"Float64\",\"field\":\"casesInc100k\",\"headerName\":\"casesInc100k\",\"sortable\":false,\"type\":\"numericColumn\",\"resizable\":true},{\"filter\":false,\"editable\":false,\"headerTooltip\":\"Float64\",\"field\":\"pch_casesIncreaseMA\",\"headerName\":\"pch_casesIncreaseMA\",\"sortable\":false,\"type\":\"numericColumn\",\"resizable\":true}],\"cacheBlockSize\":1000,\"datasource\":{\"rowCount\":null,\"getRows\":(function (rowParams){return WebIO.setval({\"name\":\"rowparams\",\"scope\":\"859793377349142535\",\"id\":\"ob_244\",\"type\":\"observable\"},rowParams)})},\"multiSortKey\":\"ctrl\",\"maxBlocksInCache\":100,\"onCellDoubleClicked\":(function (ev){var x={}; (ev.rowIndex!==undefined) ? (x[\"rowIndex\"]=(ev.rowIndex+1)) : undefined; (ev.colDef!==undefined) ? (x[\"column\"]=ev.colDef.headerName) : undefined; return WebIO.setval({\"name\":\"onCellDoubleClicked\",\"scope\":\"859793377349142535\",\"id\":\"ob_240\",\"type\":\"observable\"},x)}),\"onCellKeyDown\":(function (ev){var x={}; (ev.rowIndex!==undefined) ? (x[\"rowIndex\"]=(ev.rowIndex+1)) : undefined; (ev.colDef!==undefined) ? (x[\"column\"]=ev.colDef.headerName) : undefined; return WebIO.setval({\"name\":\"onCellKeyDown\",\"scope\":\"859793377349142535\",\"id\":\"ob_243\",\"type\":\"observable\"},x)}),\"onCellClicked\":(function (ev){var x={}; (ev.rowIndex!==undefined) ? (x[\"rowIndex\"]=(ev.rowIndex+1)) : undefined; (ev.colDef!==undefined) ? (x[\"column\"]=ev.colDef.headerName) : undefined; return WebIO.setval({\"name\":\"onCellClicked\",\"scope\":\"859793377349142535\",\"id\":\"ob_239\",\"type\":\"observable\"},x)})}; var el=document.getElementById(\"grid-a707a4d6\"); gridOptions.components={\"rowNumberRenderer\":RowNumberRenderer}; this.table=new agGrid.Grid(el,gridOptions); gridOptions.columnApi.autoSizeColumn(\"__row__\"); return gridOptions.columnApi.autoSizeColumns([\"state\",\"county\",\"population\",\"cases\",\"casesIncreaseMA\",\"casesInc100k\",\"pch_casesIncreaseMA\"])}));\n    (WebIO.importBlock({\"data\":[{\"name\":null,\"type\":\"js\",\"url\":\"/assetserver/8a878f8aac4fcc3aa0fe3544f3b6004cfb87e28d-rowNumberRenderer.js\"},{\"name\":null,\"type\":\"js\",\"url\":\"/assetserver/49affd7ae36d0aac75380aa149861ff1594bff9c-ag-grid.js\"},{\"name\":null,\"type\":\"css\",\"url\":\"/assetserver/44eec805f61ccdf030080bfd1a559f03509a0021-ag-grid.css\"},{\"name\":null,\"type\":\"css\",\"url\":\"/assetserver/e4213c8e832c90aaafe2b3164c0bbb5b67c7a305-ag-grid-light.css\"},{\"name\":null,\"type\":\"css\",\"url\":\"/assetserver/b082734171f365ccefe5d7b6015f8162af17e3a6-ag-grid-dark.css\"}],\"type\":\"async_block\"})).then((imports) => handler.apply(this, imports));\n}\n"
        ],
        "observables": {
         "onCellClicked": {
          "id": "ob_239",
          "sync": false,
          "value": null
         },
         "onCellDoubleClicked": {
          "id": "ob_240",
          "sync": false,
          "value": null
         },
         "onCellFocused": {
          "id": "ob_242",
          "sync": false,
          "value": null
         },
         "onCellKeyDown": {
          "id": "ob_243",
          "sync": false,
          "value": null
         },
         "onRowClicked": {
          "id": "ob_241",
          "sync": false,
          "value": null
         },
         "requestedrows": {
          "id": "ob_245",
          "sync": false,
          "value": {}
         },
         "rowparams": {
          "id": "ob_244",
          "sync": true,
          "value": {
           "endRow": 100,
           "startRow": 1,
           "successCallback": "(function (v){return null})"
          }
         }
        },
        "systemjs_options": null
       },
       "nodeType": "Scope",
       "props": {},
       "type": "node"
      },
      "text/html": [
       "<div\n",
       "    class=\"webio-mountpoint\"\n",
       "    data-webio-mountpoint=\"6615168381227212726\"\n",
       ">\n",
       "    <script>\n",
       "    if (window.require && require.defined && require.defined(\"nbextensions/webio-jupyter-notebook\")) {\n",
       "        console.log(\"Jupyter WebIO extension detected, not mounting.\");\n",
       "    } else if (window.WebIO) {\n",
       "        WebIO.mount(\n",
       "            document.querySelector('[data-webio-mountpoint=\"6615168381227212726\"]'),\n",
       "            {\"props\":{},\"nodeType\":\"Scope\",\"type\":\"node\",\"instanceArgs\":{\"imports\":{\"data\":[{\"name\":null,\"type\":\"js\",\"url\":\"\\/assetserver\\/8a878f8aac4fcc3aa0fe3544f3b6004cfb87e28d-rowNumberRenderer.js\"},{\"name\":null,\"type\":\"js\",\"url\":\"\\/assetserver\\/49affd7ae36d0aac75380aa149861ff1594bff9c-ag-grid.js\"},{\"name\":null,\"type\":\"css\",\"url\":\"\\/assetserver\\/44eec805f61ccdf030080bfd1a559f03509a0021-ag-grid.css\"},{\"name\":null,\"type\":\"css\",\"url\":\"\\/assetserver\\/e4213c8e832c90aaafe2b3164c0bbb5b67c7a305-ag-grid-light.css\"},{\"name\":null,\"type\":\"css\",\"url\":\"\\/assetserver\\/b082734171f365ccefe5d7b6015f8162af17e3a6-ag-grid-dark.css\"}],\"type\":\"async_block\"},\"id\":\"859793377349142535\",\"handlers\":{\"requestedrows\":[\"(function (val){return WebIO.getval({\\\"name\\\":\\\"rowparams\\\",\\\"scope\\\":\\\"859793377349142535\\\",\\\"id\\\":\\\"ob_244\\\",\\\"type\\\":\\\"observable\\\"}).successCallback(val,null)})\"]},\"systemjs_options\":null,\"mount_callbacks\":[\"function () {\\n    var handler = ((function (RowNumberRenderer,agGrid){var gridOptions={\\\"onCellFocused\\\":(function (ev){var x={}; (ev.rowIndex!==undefined) ? (x[\\\"rowIndex\\\"]=(ev.rowIndex+1)) : undefined; (ev.colDef!==undefined) ? (x[\\\"column\\\"]=ev.colDef.headerName) : undefined; return WebIO.setval({\\\"name\\\":\\\"onCellFocused\\\",\\\"scope\\\":\\\"859793377349142535\\\",\\\"id\\\":\\\"ob_242\\\",\\\"type\\\":\\\"observable\\\"},x)}),\\\"onCellValueChanged\\\":(function (){return }),\\\"rowModelType\\\":\\\"infinite\\\",\\\"onRowClicked\\\":(function (ev){var x={}; (ev.rowIndex!==undefined) ? (x[\\\"rowIndex\\\"]=(ev.rowIndex+1)) : undefined; (ev.colDef!==undefined) ? (x[\\\"column\\\"]=ev.colDef.headerName) : undefined; return WebIO.setval({\\\"name\\\":\\\"onRowClicked\\\",\\\"scope\\\":\\\"859793377349142535\\\",\\\"id\\\":\\\"ob_241\\\",\\\"type\\\":\\\"observable\\\"},x)}),\\\"maxConcurrentDatasourceRequests\\\":1,\\\"columnDefs\\\":[{\\\"filter\\\":false,\\\"editable\\\":false,\\\"headerTooltip\\\":\\\"\\\",\\\"field\\\":\\\"__row__\\\",\\\"headerName\\\":\\\"Row\\\",\\\"sortable\\\":false,\\\"type\\\":\\\"numericColumn\\\",\\\"cellRenderer\\\":\\\"rowNumberRenderer\\\",\\\"resizable\\\":true},{\\\"filter\\\":false,\\\"editable\\\":false,\\\"headerTooltip\\\":\\\"String\\\",\\\"field\\\":\\\"state\\\",\\\"headerName\\\":\\\"state\\\",\\\"sortable\\\":false,\\\"type\\\":null,\\\"resizable\\\":true},{\\\"filter\\\":false,\\\"editable\\\":false,\\\"headerTooltip\\\":\\\"String\\\",\\\"field\\\":\\\"county\\\",\\\"headerName\\\":\\\"county\\\",\\\"sortable\\\":false,\\\"type\\\":null,\\\"resizable\\\":true},{\\\"filter\\\":false,\\\"editable\\\":false,\\\"headerTooltip\\\":\\\"Int64\\\",\\\"field\\\":\\\"population\\\",\\\"headerName\\\":\\\"population\\\",\\\"sortable\\\":false,\\\"type\\\":\\\"numericColumn\\\",\\\"resizable\\\":true},{\\\"filter\\\":false,\\\"editable\\\":false,\\\"headerTooltip\\\":\\\"Int64\\\",\\\"field\\\":\\\"cases\\\",\\\"headerName\\\":\\\"cases\\\",\\\"sortable\\\":false,\\\"type\\\":\\\"numericColumn\\\",\\\"resizable\\\":true},{\\\"filter\\\":false,\\\"editable\\\":false,\\\"headerTooltip\\\":\\\"Float64\\\",\\\"field\\\":\\\"casesIncreaseMA\\\",\\\"headerName\\\":\\\"casesIncreaseMA\\\",\\\"sortable\\\":false,\\\"type\\\":\\\"numericColumn\\\",\\\"resizable\\\":true},{\\\"filter\\\":false,\\\"editable\\\":false,\\\"headerTooltip\\\":\\\"Float64\\\",\\\"field\\\":\\\"casesInc100k\\\",\\\"headerName\\\":\\\"casesInc100k\\\",\\\"sortable\\\":false,\\\"type\\\":\\\"numericColumn\\\",\\\"resizable\\\":true},{\\\"filter\\\":false,\\\"editable\\\":false,\\\"headerTooltip\\\":\\\"Float64\\\",\\\"field\\\":\\\"pch_casesIncreaseMA\\\",\\\"headerName\\\":\\\"pch_casesIncreaseMA\\\",\\\"sortable\\\":false,\\\"type\\\":\\\"numericColumn\\\",\\\"resizable\\\":true}],\\\"cacheBlockSize\\\":1000,\\\"datasource\\\":{\\\"rowCount\\\":null,\\\"getRows\\\":(function (rowParams){return WebIO.setval({\\\"name\\\":\\\"rowparams\\\",\\\"scope\\\":\\\"859793377349142535\\\",\\\"id\\\":\\\"ob_244\\\",\\\"type\\\":\\\"observable\\\"},rowParams)})},\\\"multiSortKey\\\":\\\"ctrl\\\",\\\"maxBlocksInCache\\\":100,\\\"onCellDoubleClicked\\\":(function (ev){var x={}; (ev.rowIndex!==undefined) ? (x[\\\"rowIndex\\\"]=(ev.rowIndex+1)) : undefined; (ev.colDef!==undefined) ? (x[\\\"column\\\"]=ev.colDef.headerName) : undefined; return WebIO.setval({\\\"name\\\":\\\"onCellDoubleClicked\\\",\\\"scope\\\":\\\"859793377349142535\\\",\\\"id\\\":\\\"ob_240\\\",\\\"type\\\":\\\"observable\\\"},x)}),\\\"onCellKeyDown\\\":(function (ev){var x={}; (ev.rowIndex!==undefined) ? (x[\\\"rowIndex\\\"]=(ev.rowIndex+1)) : undefined; (ev.colDef!==undefined) ? (x[\\\"column\\\"]=ev.colDef.headerName) : undefined; return WebIO.setval({\\\"name\\\":\\\"onCellKeyDown\\\",\\\"scope\\\":\\\"859793377349142535\\\",\\\"id\\\":\\\"ob_243\\\",\\\"type\\\":\\\"observable\\\"},x)}),\\\"onCellClicked\\\":(function (ev){var x={}; (ev.rowIndex!==undefined) ? (x[\\\"rowIndex\\\"]=(ev.rowIndex+1)) : undefined; (ev.colDef!==undefined) ? (x[\\\"column\\\"]=ev.colDef.headerName) : undefined; return WebIO.setval({\\\"name\\\":\\\"onCellClicked\\\",\\\"scope\\\":\\\"859793377349142535\\\",\\\"id\\\":\\\"ob_239\\\",\\\"type\\\":\\\"observable\\\"},x)})}; var el=document.getElementById(\\\"grid-a707a4d6\\\"); gridOptions.components={\\\"rowNumberRenderer\\\":RowNumberRenderer}; this.table=new agGrid.Grid(el,gridOptions); gridOptions.columnApi.autoSizeColumn(\\\"__row__\\\"); return gridOptions.columnApi.autoSizeColumns([\\\"state\\\",\\\"county\\\",\\\"population\\\",\\\"cases\\\",\\\"casesIncreaseMA\\\",\\\"casesInc100k\\\",\\\"pch_casesIncreaseMA\\\"])}));\\n    (WebIO.importBlock({\\\"data\\\":[{\\\"name\\\":null,\\\"type\\\":\\\"js\\\",\\\"url\\\":\\\"\\/assetserver\\/8a878f8aac4fcc3aa0fe3544f3b6004cfb87e28d-rowNumberRenderer.js\\\"},{\\\"name\\\":null,\\\"type\\\":\\\"js\\\",\\\"url\\\":\\\"\\/assetserver\\/49affd7ae36d0aac75380aa149861ff1594bff9c-ag-grid.js\\\"},{\\\"name\\\":null,\\\"type\\\":\\\"css\\\",\\\"url\\\":\\\"\\/assetserver\\/44eec805f61ccdf030080bfd1a559f03509a0021-ag-grid.css\\\"},{\\\"name\\\":null,\\\"type\\\":\\\"css\\\",\\\"url\\\":\\\"\\/assetserver\\/e4213c8e832c90aaafe2b3164c0bbb5b67c7a305-ag-grid-light.css\\\"},{\\\"name\\\":null,\\\"type\\\":\\\"css\\\",\\\"url\\\":\\\"\\/assetserver\\/b082734171f365ccefe5d7b6015f8162af17e3a6-ag-grid-dark.css\\\"}],\\\"type\\\":\\\"async_block\\\"})).then((imports) => handler.apply(this, imports));\\n}\\n\"],\"observables\":{\"onCellKeyDown\":{\"sync\":false,\"id\":\"ob_243\",\"value\":null},\"onRowClicked\":{\"sync\":false,\"id\":\"ob_241\",\"value\":null},\"onCellDoubleClicked\":{\"sync\":false,\"id\":\"ob_240\",\"value\":null},\"requestedrows\":{\"sync\":false,\"id\":\"ob_245\",\"value\":{}},\"onCellClicked\":{\"sync\":false,\"id\":\"ob_239\",\"value\":null},\"onCellFocused\":{\"sync\":false,\"id\":\"ob_242\",\"value\":null},\"rowparams\":{\"sync\":true,\"id\":\"ob_244\",\"value\":{\"successCallback\":\"(function (v){return null})\",\"startRow\":1,\"endRow\":100}}}},\"children\":[{\"props\":{},\"nodeType\":\"DOM\",\"type\":\"node\",\"instanceArgs\":{\"namespace\":\"html\",\"tag\":\"div\"},\"children\":[{\"props\":{\"style\":{\"height\":\"0\",\"padding\":\"0\",\"background-color\":\"#F5F7F7\",\"color\":\"#1c1f20\",\"font-family\":\"-apple-system, BlinkMacSystemFont, \\\"Segoe UI\\\", Roboto, Oxygen-Sans, Ubuntu, Cantarell, \\\"Helvetica Neue\\\", sans-serif\"}},\"nodeType\":\"DOM\",\"type\":\"node\",\"instanceArgs\":{\"namespace\":\"html\",\"tag\":\"div\"},\"children\":[\"\"]},{\"props\":{\"id\":\"grid-a707a4d6\",\"className\":\"ag-theme-balham\",\"style\":{\"height\":\"500px\",\"width\":\"100%\"}},\"nodeType\":\"DOM\",\"type\":\"node\",\"instanceArgs\":{\"namespace\":\"html\",\"tag\":\"div\"},\"children\":[]}]}]},\n",
       "            window,\n",
       "        );\n",
       "    } else {\n",
       "        document\n",
       "            .querySelector('[data-webio-mountpoint=\"6615168381227212726\"]')\n",
       "            .innerHTML = (\n",
       "                '<div style=\"padding: 1em; background-color: #f8d6da; border: 1px solid #f5c6cb\">' +\n",
       "                '<p><strong>WebIO not detected.</strong></p>' +\n",
       "                '<p>Please read ' +\n",
       "                '<a href=\"https://juliagizmos.github.io/WebIO.jl/latest/troubleshooting/not-detected/\" target=\"_blank\">the troubleshooting guide</a> ' +\n",
       "                'for more information on how to resolve this issue.</p>' +\n",
       "                '<p><a href=\"https://juliagizmos.github.io/WebIO.jl/latest/troubleshooting/not-detected/\" target=\"_blank\">https://juliagizmos.github.io/WebIO.jl/latest/troubleshooting/not-detected/</a></p>' +\n",
       "                '</div>'\n",
       "            );\n",
       "    }\n",
       "    </script>\n",
       "</div>\n"
      ],
      "text/plain": [
       "WebIO.Scope(WebIO.Node{WebIO.DOM}(WebIO.DOM(:html, :div), Any[WebIO.Node{WebIO.DOM}(WebIO.DOM(:html, :div), Any[\"\"], Dict{Symbol,Any}(:style => Dict(\"height\" => \"0\",\"padding\" => \"0\",\"background-color\" => \"#F5F7F7\",\"color\" => \"#1c1f20\",\"font-family\" => \"-apple-system, BlinkMacSystemFont, \\\"Segoe UI\\\", Roboto, Oxygen-Sans, Ubuntu, Cantarell, \\\"Helvetica Neue\\\", sans-serif\"))), WebIO.Node{WebIO.DOM}(WebIO.DOM(:html, :div), Any[], Dict{Symbol,Any}(:id => \"grid-a707a4d6\",:className => \"ag-theme-balham\",:style => Dict(\"height\" => \"500px\",\"width\" => \"100%\")))], Dict{Symbol,Any}()), Dict{String,Tuple{Observables.AbstractObservable,Union{Nothing, Bool}}}(\"onCellKeyDown\" => (Observable{Any} with 0 listeners. Value:\n",
       "nothing, nothing),\"onRowClicked\" => (Observable{Any} with 0 listeners. Value:\n",
       "nothing, nothing),\"onCellDoubleClicked\" => (Observable{Any} with 0 listeners. Value:\n",
       "nothing, nothing),\"requestedrows\" => (Observable{JSON.Writer.JSONText} with 1 listeners. Value:\n",
       "JSON.Writer.JSONText(\"{}\"), nothing),\"onCellClicked\" => (Observable{Any} with 0 listeners. Value:\n",
       "nothing, nothing),\"onCellFocused\" => (Observable{Any} with 0 listeners. Value:\n",
       "nothing, nothing),\"rowparams\" => (Observable{Dict{String,Any}} with 1 listeners. Value:\n",
       "Dict{String,Any}(\"successCallback\" => WebIO.JSString(\"(function (v){return null})\"),\"startRow\" => 1,\"endRow\" => 100), nothing)), Set(String[]), nothing, WebIO.Asset[WebIO.Asset(\"js\", nothing, \"/Users/cdaniels/.julia/packages/TableView/CxWLO/src/rowNumberRenderer.js\"), WebIO.Asset(\"js\", nothing, \"/Users/cdaniels/.julia/packages/TableView/CxWLO/deps/ag-grid-22.1.0/ag-grid.js\"), WebIO.Asset(\"css\", nothing, \"/Users/cdaniels/.julia/packages/TableView/CxWLO/deps/ag-grid-22.1.0/ag-grid.css\"), WebIO.Asset(\"css\", nothing, \"/Users/cdaniels/.julia/packages/TableView/CxWLO/deps/ag-grid-22.1.0/ag-grid-light.css\"), WebIO.Asset(\"css\", nothing, \"/Users/cdaniels/.julia/packages/TableView/CxWLO/deps/ag-grid-22.1.0/ag-grid-dark.css\")], Dict{Any,Any}(\"requestedrows\" => Any[WebIO.JSString(\"(function (val){return WebIO.getval({\\\"name\\\":\\\"rowparams\\\",\\\"scope\\\":\\\"859793377349142535\\\",\\\"id\\\":\\\"ob_244\\\",\\\"type\\\":\\\"observable\\\"}).successCallback(val,null)})\")]), WebIO.ConnectionPool(Channel{Any}(sz_max:32,sz_curr:0), Set(WebIO.AbstractConnection[]), Base.GenericCondition{Base.AlwaysLockedST}(Base.InvasiveLinkedList{Task}(Task (runnable) @0x000000011e8aaf50, Task (runnable) @0x000000011e8aaf50), Base.AlwaysLockedST(1))), WebIO.JSString[WebIO.JSString(\"function () {\\n    var handler = ((function (RowNumberRenderer,agGrid){var gridOptions={\\\"onCellFocused\\\":(function (ev){var x={}; (ev.rowIndex!==undefined) ? (x[\\\"rowIndex\\\"]=(ev.rowIndex+1)) : undefined; (ev.colDef!==undefined) ? (x[\\\"column\\\"]=ev.colDef.headerName) : undefined; return WebIO.setval({\\\"name\\\":\\\"onCellFocused\\\",\\\"scope\\\":\\\"859793377349142535\\\",\\\"id\\\":\\\"ob_242\\\",\\\"type\\\":\\\"observable\\\"},x)}),\\\"onCellValueChanged\\\":(function (){return }),\\\"rowModelType\\\":\\\"infinite\\\",\\\"onRowClicked\\\":(function (ev){var x={}; (ev.rowIndex!==undefined) ? (x[\\\"rowIndex\\\"]=(ev.rowIndex+1)) : undefined; (ev.colDef!==undefined) ? (x[\\\"column\\\"]=ev.colDef.headerName) : undefined; return WebIO.setval({\\\"name\\\":\\\"onRowClicked\\\",\\\"scope\\\":\\\"859793377349142535\\\",\\\"id\\\":\\\"ob_241\\\",\\\"type\\\":\\\"observable\\\"},x)}),\\\"maxConcurrentDatasourceRequests\\\":1,\\\"columnDefs\\\":[{\\\"filter\\\":false,\\\"editable\\\":false,\\\"headerTooltip\\\":\\\"\\\",\\\"field\\\":\\\"__row__\\\",\\\"headerName\\\":\\\"Row\\\",\\\"sortable\\\":false,\\\"type\\\":\\\"numericColumn\\\",\\\"cellRenderer\\\":\\\"rowNumberRenderer\\\",\\\"resizable\\\":true},{\\\"filter\\\":false,\\\"editable\\\":false,\\\"headerTooltip\\\":\\\"String\\\",\\\"field\\\":\\\"state\\\",\\\"headerName\\\":\\\"state\\\",\\\"sortable\\\":false,\\\"type\\\":null,\\\"resizable\\\":true},{\\\"filter\\\":false,\\\"editable\\\":false,\\\"headerTooltip\\\":\\\"String\\\",\\\"field\\\":\\\"county\\\",\\\"headerName\\\":\\\"county\\\",\\\"sortable\\\":false,\\\"type\\\":null,\\\"resizable\\\":true},{\\\"filter\\\":false,\\\"editable\\\":false,\\\"headerTooltip\\\":\\\"Int64\\\",\\\"field\\\":\\\"population\\\",\\\"headerName\\\":\\\"population\\\",\\\"sortable\\\":false,\\\"type\\\":\\\"numericColumn\\\",\\\"resizable\\\":true},{\\\"filter\\\":false,\\\"editable\\\":false,\\\"headerTooltip\\\":\\\"Int64\\\",\\\"field\\\":\\\"cases\\\",\\\"headerName\\\":\\\"cases\\\",\\\"sortable\\\":false,\\\"type\\\":\\\"numericColumn\\\",\\\"resizable\\\":true},{\\\"filter\\\":false,\\\"editable\\\":false,\\\"headerTooltip\\\":\\\"Float64\\\",\\\"field\\\":\\\"casesIncreaseMA\\\",\\\"headerName\\\":\\\"casesIncreaseMA\\\",\\\"sortable\\\":false,\\\"type\\\":\\\"numericColumn\\\",\\\"resizable\\\":true},{\\\"filter\\\":false,\\\"editable\\\":false,\\\"headerTooltip\\\":\\\"Float64\\\",\\\"field\\\":\\\"casesInc100k\\\",\\\"headerName\\\":\\\"casesInc100k\\\",\\\"sortable\\\":false,\\\"type\\\":\\\"numericColumn\\\",\\\"resizable\\\":true},{\\\"filter\\\":false,\\\"editable\\\":false,\\\"headerTooltip\\\":\\\"Float64\\\",\\\"field\\\":\\\"pch_casesIncreaseMA\\\",\\\"headerName\\\":\\\"pch_casesIncreaseMA\\\",\\\"sortable\\\":false,\\\"type\\\":\\\"numericColumn\\\",\\\"resizable\\\":true}],\\\"cacheBlockSize\\\":1000,\\\"datasource\\\":{\\\"rowCount\\\":null,\\\"getRows\\\":(function (rowParams){return WebIO.setval({\\\"name\\\":\\\"rowparams\\\",\\\"scope\\\":\\\"859793377349142535\\\",\\\"id\\\":\\\"ob_244\\\",\\\"type\\\":\\\"observable\\\"},rowParams)})},\\\"multiSortKey\\\":\\\"ctrl\\\",\\\"maxBlocksInCache\\\":100,\\\"onCellDoubleClicked\\\":(function (ev){var x={}; (ev.rowIndex!==undefined) ? (x[\\\"rowIndex\\\"]=(ev.rowIndex+1)) : undefined; (ev.colDef!==undefined) ? (x[\\\"column\\\"]=ev.colDef.headerName) : undefined; return WebIO.setval({\\\"name\\\":\\\"onCellDoubleClicked\\\",\\\"scope\\\":\\\"859793377349142535\\\",\\\"id\\\":\\\"ob_240\\\",\\\"type\\\":\\\"observable\\\"},x)}),\\\"onCellKeyDown\\\":(function (ev){var x={}; (ev.rowIndex!==undefined) ? (x[\\\"rowIndex\\\"]=(ev.rowIndex+1)) : undefined; (ev.colDef!==undefined) ? (x[\\\"column\\\"]=ev.colDef.headerName) : undefined; return WebIO.setval({\\\"name\\\":\\\"onCellKeyDown\\\",\\\"scope\\\":\\\"859793377349142535\\\",\\\"id\\\":\\\"ob_243\\\",\\\"type\\\":\\\"observable\\\"},x)}),\\\"onCellClicked\\\":(function (ev){var x={}; (ev.rowIndex!==undefined) ? (x[\\\"rowIndex\\\"]=(ev.rowIndex+1)) : undefined; (ev.colDef!==undefined) ? (x[\\\"column\\\"]=ev.colDef.headerName) : undefined; return WebIO.setval({\\\"name\\\":\\\"onCellClicked\\\",\\\"scope\\\":\\\"859793377349142535\\\",\\\"id\\\":\\\"ob_239\\\",\\\"type\\\":\\\"observable\\\"},x)})}; var el=document.getElementById(\\\"grid-a707a4d6\\\"); gridOptions.components={\\\"rowNumberRenderer\\\":RowNumberRenderer}; this.table=new agGrid.Grid(el,gridOptions); gridOptions.columnApi.autoSizeColumn(\\\"__row__\\\"); return gridOptions.columnApi.autoSizeColumns([\\\"state\\\",\\\"county\\\",\\\"population\\\",\\\"cases\\\",\\\"casesIncreaseMA\\\",\\\"casesInc100k\\\",\\\"pch_casesIncreaseMA\\\"])}));\\n    (WebIO.importBlock({\\\"data\\\":[{\\\"name\\\":null,\\\"type\\\":\\\"js\\\",\\\"url\\\":\\\"/assetserver/8a878f8aac4fcc3aa0fe3544f3b6004cfb87e28d-rowNumberRenderer.js\\\"},{\\\"name\\\":null,\\\"type\\\":\\\"js\\\",\\\"url\\\":\\\"/assetserver/49affd7ae36d0aac75380aa149861ff1594bff9c-ag-grid.js\\\"},{\\\"name\\\":null,\\\"type\\\":\\\"css\\\",\\\"url\\\":\\\"/assetserver/44eec805f61ccdf030080bfd1a559f03509a0021-ag-grid.css\\\"},{\\\"name\\\":null,\\\"type\\\":\\\"css\\\",\\\"url\\\":\\\"/assetserver/e4213c8e832c90aaafe2b3164c0bbb5b67c7a305-ag-grid-light.css\\\"},{\\\"name\\\":null,\\\"type\\\":\\\"css\\\",\\\"url\\\":\\\"/assetserver/b082734171f365ccefe5d7b6015f8162af17e3a6-ag-grid-dark.css\\\"}],\\\"type\\\":\\\"async_block\\\"})).then((imports) => handler.apply(this, imports));\\n}\\n\")])"
      ]
     },
     "execution_count": 68,
     "metadata": {
      "application/vnd.webio.node+json": {
       "kernelId": "3229260e-45e1-405c-811b-0c4817f5e87c"
      }
     },
     "output_type": "execute_result"
    }
   ],
   "source": [
    "@tbl sort(filter(r->!ismissing(r.casesInc100k)&& !isnan(r.casesInc100k),dfcp),[:casesIncreaseMA],rev=true)"
   ]
  },
  {
   "cell_type": "markdown",
   "metadata": {},
   "source": [
    "#### Highest Number of New Daily Cases per County per 100,000"
   ]
  },
  {
   "cell_type": "code",
   "execution_count": 69,
   "metadata": {
    "scrolled": false
   },
   "outputs": [
    {
     "data": {
      "application/vnd.webio.node+json": {
       "children": [
        {
         "children": [
          {
           "children": [
            ""
           ],
           "instanceArgs": {
            "namespace": "html",
            "tag": "div"
           },
           "nodeType": "DOM",
           "props": {
            "style": {
             "background-color": "#F5F7F7",
             "color": "#1c1f20",
             "font-family": "-apple-system, BlinkMacSystemFont, \"Segoe UI\", Roboto, Oxygen-Sans, Ubuntu, Cantarell, \"Helvetica Neue\", sans-serif",
             "height": "0",
             "padding": "0"
            }
           },
           "type": "node"
          },
          {
           "children": [],
           "instanceArgs": {
            "namespace": "html",
            "tag": "div"
           },
           "nodeType": "DOM",
           "props": {
            "className": "ag-theme-balham",
            "id": "grid-a7b37c84",
            "style": {
             "height": "500px",
             "width": "100%"
            }
           },
           "type": "node"
          }
         ],
         "instanceArgs": {
          "namespace": "html",
          "tag": "div"
         },
         "nodeType": "DOM",
         "props": {},
         "type": "node"
        }
       ],
       "instanceArgs": {
        "handlers": {
         "requestedrows": [
          "(function (val){return WebIO.getval({\"name\":\"rowparams\",\"scope\":\"2926407676307962266\",\"id\":\"ob_251\",\"type\":\"observable\"}).successCallback(val,null)})"
         ]
        },
        "id": "2926407676307962266",
        "imports": {
         "data": [
          {
           "name": null,
           "type": "js",
           "url": "/assetserver/8a878f8aac4fcc3aa0fe3544f3b6004cfb87e28d-rowNumberRenderer.js"
          },
          {
           "name": null,
           "type": "js",
           "url": "/assetserver/49affd7ae36d0aac75380aa149861ff1594bff9c-ag-grid.js"
          },
          {
           "name": null,
           "type": "css",
           "url": "/assetserver/44eec805f61ccdf030080bfd1a559f03509a0021-ag-grid.css"
          },
          {
           "name": null,
           "type": "css",
           "url": "/assetserver/e4213c8e832c90aaafe2b3164c0bbb5b67c7a305-ag-grid-light.css"
          },
          {
           "name": null,
           "type": "css",
           "url": "/assetserver/b082734171f365ccefe5d7b6015f8162af17e3a6-ag-grid-dark.css"
          }
         ],
         "type": "async_block"
        },
        "mount_callbacks": [
         "function () {\n    var handler = ((function (RowNumberRenderer,agGrid){var gridOptions={\"onCellFocused\":(function (ev){var x={}; (ev.rowIndex!==undefined) ? (x[\"rowIndex\"]=(ev.rowIndex+1)) : undefined; (ev.colDef!==undefined) ? (x[\"column\"]=ev.colDef.headerName) : undefined; return WebIO.setval({\"name\":\"onCellFocused\",\"scope\":\"2926407676307962266\",\"id\":\"ob_249\",\"type\":\"observable\"},x)}),\"onCellValueChanged\":(function (){return }),\"rowModelType\":\"infinite\",\"onRowClicked\":(function (ev){var x={}; (ev.rowIndex!==undefined) ? (x[\"rowIndex\"]=(ev.rowIndex+1)) : undefined; (ev.colDef!==undefined) ? (x[\"column\"]=ev.colDef.headerName) : undefined; return WebIO.setval({\"name\":\"onRowClicked\",\"scope\":\"2926407676307962266\",\"id\":\"ob_248\",\"type\":\"observable\"},x)}),\"maxConcurrentDatasourceRequests\":1,\"columnDefs\":[{\"filter\":false,\"editable\":false,\"headerTooltip\":\"\",\"field\":\"__row__\",\"headerName\":\"Row\",\"sortable\":false,\"type\":\"numericColumn\",\"cellRenderer\":\"rowNumberRenderer\",\"resizable\":true},{\"filter\":false,\"editable\":false,\"headerTooltip\":\"String\",\"field\":\"state\",\"headerName\":\"state\",\"sortable\":false,\"type\":null,\"resizable\":true},{\"filter\":false,\"editable\":false,\"headerTooltip\":\"String\",\"field\":\"county\",\"headerName\":\"county\",\"sortable\":false,\"type\":null,\"resizable\":true},{\"filter\":false,\"editable\":false,\"headerTooltip\":\"Int64\",\"field\":\"population\",\"headerName\":\"population\",\"sortable\":false,\"type\":\"numericColumn\",\"resizable\":true},{\"filter\":false,\"editable\":false,\"headerTooltip\":\"Int64\",\"field\":\"cases\",\"headerName\":\"cases\",\"sortable\":false,\"type\":\"numericColumn\",\"resizable\":true},{\"filter\":false,\"editable\":false,\"headerTooltip\":\"Float64\",\"field\":\"casesIncreaseMA\",\"headerName\":\"casesIncreaseMA\",\"sortable\":false,\"type\":\"numericColumn\",\"resizable\":true},{\"filter\":false,\"editable\":false,\"headerTooltip\":\"Float64\",\"field\":\"casesInc100k\",\"headerName\":\"casesInc100k\",\"sortable\":false,\"type\":\"numericColumn\",\"resizable\":true},{\"filter\":false,\"editable\":false,\"headerTooltip\":\"Float64\",\"field\":\"pch_casesIncreaseMA\",\"headerName\":\"pch_casesIncreaseMA\",\"sortable\":false,\"type\":\"numericColumn\",\"resizable\":true}],\"cacheBlockSize\":1000,\"datasource\":{\"rowCount\":null,\"getRows\":(function (rowParams){return WebIO.setval({\"name\":\"rowparams\",\"scope\":\"2926407676307962266\",\"id\":\"ob_251\",\"type\":\"observable\"},rowParams)})},\"multiSortKey\":\"ctrl\",\"maxBlocksInCache\":100,\"onCellDoubleClicked\":(function (ev){var x={}; (ev.rowIndex!==undefined) ? (x[\"rowIndex\"]=(ev.rowIndex+1)) : undefined; (ev.colDef!==undefined) ? (x[\"column\"]=ev.colDef.headerName) : undefined; return WebIO.setval({\"name\":\"onCellDoubleClicked\",\"scope\":\"2926407676307962266\",\"id\":\"ob_247\",\"type\":\"observable\"},x)}),\"onCellKeyDown\":(function (ev){var x={}; (ev.rowIndex!==undefined) ? (x[\"rowIndex\"]=(ev.rowIndex+1)) : undefined; (ev.colDef!==undefined) ? (x[\"column\"]=ev.colDef.headerName) : undefined; return WebIO.setval({\"name\":\"onCellKeyDown\",\"scope\":\"2926407676307962266\",\"id\":\"ob_250\",\"type\":\"observable\"},x)}),\"onCellClicked\":(function (ev){var x={}; (ev.rowIndex!==undefined) ? (x[\"rowIndex\"]=(ev.rowIndex+1)) : undefined; (ev.colDef!==undefined) ? (x[\"column\"]=ev.colDef.headerName) : undefined; return WebIO.setval({\"name\":\"onCellClicked\",\"scope\":\"2926407676307962266\",\"id\":\"ob_246\",\"type\":\"observable\"},x)})}; var el=document.getElementById(\"grid-a7b37c84\"); gridOptions.components={\"rowNumberRenderer\":RowNumberRenderer}; this.table=new agGrid.Grid(el,gridOptions); gridOptions.columnApi.autoSizeColumn(\"__row__\"); return gridOptions.columnApi.autoSizeColumns([\"state\",\"county\",\"population\",\"cases\",\"casesIncreaseMA\",\"casesInc100k\",\"pch_casesIncreaseMA\"])}));\n    (WebIO.importBlock({\"data\":[{\"name\":null,\"type\":\"js\",\"url\":\"/assetserver/8a878f8aac4fcc3aa0fe3544f3b6004cfb87e28d-rowNumberRenderer.js\"},{\"name\":null,\"type\":\"js\",\"url\":\"/assetserver/49affd7ae36d0aac75380aa149861ff1594bff9c-ag-grid.js\"},{\"name\":null,\"type\":\"css\",\"url\":\"/assetserver/44eec805f61ccdf030080bfd1a559f03509a0021-ag-grid.css\"},{\"name\":null,\"type\":\"css\",\"url\":\"/assetserver/e4213c8e832c90aaafe2b3164c0bbb5b67c7a305-ag-grid-light.css\"},{\"name\":null,\"type\":\"css\",\"url\":\"/assetserver/b082734171f365ccefe5d7b6015f8162af17e3a6-ag-grid-dark.css\"}],\"type\":\"async_block\"})).then((imports) => handler.apply(this, imports));\n}\n"
        ],
        "observables": {
         "onCellClicked": {
          "id": "ob_246",
          "sync": false,
          "value": null
         },
         "onCellDoubleClicked": {
          "id": "ob_247",
          "sync": false,
          "value": null
         },
         "onCellFocused": {
          "id": "ob_249",
          "sync": false,
          "value": null
         },
         "onCellKeyDown": {
          "id": "ob_250",
          "sync": false,
          "value": null
         },
         "onRowClicked": {
          "id": "ob_248",
          "sync": false,
          "value": null
         },
         "requestedrows": {
          "id": "ob_252",
          "sync": false,
          "value": {}
         },
         "rowparams": {
          "id": "ob_251",
          "sync": true,
          "value": {
           "endRow": 100,
           "startRow": 1,
           "successCallback": "(function (v){return null})"
          }
         }
        },
        "systemjs_options": null
       },
       "nodeType": "Scope",
       "props": {},
       "type": "node"
      },
      "text/html": [
       "<div\n",
       "    class=\"webio-mountpoint\"\n",
       "    data-webio-mountpoint=\"8386435206201667557\"\n",
       ">\n",
       "    <script>\n",
       "    if (window.require && require.defined && require.defined(\"nbextensions/webio-jupyter-notebook\")) {\n",
       "        console.log(\"Jupyter WebIO extension detected, not mounting.\");\n",
       "    } else if (window.WebIO) {\n",
       "        WebIO.mount(\n",
       "            document.querySelector('[data-webio-mountpoint=\"8386435206201667557\"]'),\n",
       "            {\"props\":{},\"nodeType\":\"Scope\",\"type\":\"node\",\"instanceArgs\":{\"imports\":{\"data\":[{\"name\":null,\"type\":\"js\",\"url\":\"\\/assetserver\\/8a878f8aac4fcc3aa0fe3544f3b6004cfb87e28d-rowNumberRenderer.js\"},{\"name\":null,\"type\":\"js\",\"url\":\"\\/assetserver\\/49affd7ae36d0aac75380aa149861ff1594bff9c-ag-grid.js\"},{\"name\":null,\"type\":\"css\",\"url\":\"\\/assetserver\\/44eec805f61ccdf030080bfd1a559f03509a0021-ag-grid.css\"},{\"name\":null,\"type\":\"css\",\"url\":\"\\/assetserver\\/e4213c8e832c90aaafe2b3164c0bbb5b67c7a305-ag-grid-light.css\"},{\"name\":null,\"type\":\"css\",\"url\":\"\\/assetserver\\/b082734171f365ccefe5d7b6015f8162af17e3a6-ag-grid-dark.css\"}],\"type\":\"async_block\"},\"id\":\"2926407676307962266\",\"handlers\":{\"requestedrows\":[\"(function (val){return WebIO.getval({\\\"name\\\":\\\"rowparams\\\",\\\"scope\\\":\\\"2926407676307962266\\\",\\\"id\\\":\\\"ob_251\\\",\\\"type\\\":\\\"observable\\\"}).successCallback(val,null)})\"]},\"systemjs_options\":null,\"mount_callbacks\":[\"function () {\\n    var handler = ((function (RowNumberRenderer,agGrid){var gridOptions={\\\"onCellFocused\\\":(function (ev){var x={}; (ev.rowIndex!==undefined) ? (x[\\\"rowIndex\\\"]=(ev.rowIndex+1)) : undefined; (ev.colDef!==undefined) ? (x[\\\"column\\\"]=ev.colDef.headerName) : undefined; return WebIO.setval({\\\"name\\\":\\\"onCellFocused\\\",\\\"scope\\\":\\\"2926407676307962266\\\",\\\"id\\\":\\\"ob_249\\\",\\\"type\\\":\\\"observable\\\"},x)}),\\\"onCellValueChanged\\\":(function (){return }),\\\"rowModelType\\\":\\\"infinite\\\",\\\"onRowClicked\\\":(function (ev){var x={}; (ev.rowIndex!==undefined) ? (x[\\\"rowIndex\\\"]=(ev.rowIndex+1)) : undefined; (ev.colDef!==undefined) ? (x[\\\"column\\\"]=ev.colDef.headerName) : undefined; return WebIO.setval({\\\"name\\\":\\\"onRowClicked\\\",\\\"scope\\\":\\\"2926407676307962266\\\",\\\"id\\\":\\\"ob_248\\\",\\\"type\\\":\\\"observable\\\"},x)}),\\\"maxConcurrentDatasourceRequests\\\":1,\\\"columnDefs\\\":[{\\\"filter\\\":false,\\\"editable\\\":false,\\\"headerTooltip\\\":\\\"\\\",\\\"field\\\":\\\"__row__\\\",\\\"headerName\\\":\\\"Row\\\",\\\"sortable\\\":false,\\\"type\\\":\\\"numericColumn\\\",\\\"cellRenderer\\\":\\\"rowNumberRenderer\\\",\\\"resizable\\\":true},{\\\"filter\\\":false,\\\"editable\\\":false,\\\"headerTooltip\\\":\\\"String\\\",\\\"field\\\":\\\"state\\\",\\\"headerName\\\":\\\"state\\\",\\\"sortable\\\":false,\\\"type\\\":null,\\\"resizable\\\":true},{\\\"filter\\\":false,\\\"editable\\\":false,\\\"headerTooltip\\\":\\\"String\\\",\\\"field\\\":\\\"county\\\",\\\"headerName\\\":\\\"county\\\",\\\"sortable\\\":false,\\\"type\\\":null,\\\"resizable\\\":true},{\\\"filter\\\":false,\\\"editable\\\":false,\\\"headerTooltip\\\":\\\"Int64\\\",\\\"field\\\":\\\"population\\\",\\\"headerName\\\":\\\"population\\\",\\\"sortable\\\":false,\\\"type\\\":\\\"numericColumn\\\",\\\"resizable\\\":true},{\\\"filter\\\":false,\\\"editable\\\":false,\\\"headerTooltip\\\":\\\"Int64\\\",\\\"field\\\":\\\"cases\\\",\\\"headerName\\\":\\\"cases\\\",\\\"sortable\\\":false,\\\"type\\\":\\\"numericColumn\\\",\\\"resizable\\\":true},{\\\"filter\\\":false,\\\"editable\\\":false,\\\"headerTooltip\\\":\\\"Float64\\\",\\\"field\\\":\\\"casesIncreaseMA\\\",\\\"headerName\\\":\\\"casesIncreaseMA\\\",\\\"sortable\\\":false,\\\"type\\\":\\\"numericColumn\\\",\\\"resizable\\\":true},{\\\"filter\\\":false,\\\"editable\\\":false,\\\"headerTooltip\\\":\\\"Float64\\\",\\\"field\\\":\\\"casesInc100k\\\",\\\"headerName\\\":\\\"casesInc100k\\\",\\\"sortable\\\":false,\\\"type\\\":\\\"numericColumn\\\",\\\"resizable\\\":true},{\\\"filter\\\":false,\\\"editable\\\":false,\\\"headerTooltip\\\":\\\"Float64\\\",\\\"field\\\":\\\"pch_casesIncreaseMA\\\",\\\"headerName\\\":\\\"pch_casesIncreaseMA\\\",\\\"sortable\\\":false,\\\"type\\\":\\\"numericColumn\\\",\\\"resizable\\\":true}],\\\"cacheBlockSize\\\":1000,\\\"datasource\\\":{\\\"rowCount\\\":null,\\\"getRows\\\":(function (rowParams){return WebIO.setval({\\\"name\\\":\\\"rowparams\\\",\\\"scope\\\":\\\"2926407676307962266\\\",\\\"id\\\":\\\"ob_251\\\",\\\"type\\\":\\\"observable\\\"},rowParams)})},\\\"multiSortKey\\\":\\\"ctrl\\\",\\\"maxBlocksInCache\\\":100,\\\"onCellDoubleClicked\\\":(function (ev){var x={}; (ev.rowIndex!==undefined) ? (x[\\\"rowIndex\\\"]=(ev.rowIndex+1)) : undefined; (ev.colDef!==undefined) ? (x[\\\"column\\\"]=ev.colDef.headerName) : undefined; return WebIO.setval({\\\"name\\\":\\\"onCellDoubleClicked\\\",\\\"scope\\\":\\\"2926407676307962266\\\",\\\"id\\\":\\\"ob_247\\\",\\\"type\\\":\\\"observable\\\"},x)}),\\\"onCellKeyDown\\\":(function (ev){var x={}; (ev.rowIndex!==undefined) ? (x[\\\"rowIndex\\\"]=(ev.rowIndex+1)) : undefined; (ev.colDef!==undefined) ? (x[\\\"column\\\"]=ev.colDef.headerName) : undefined; return WebIO.setval({\\\"name\\\":\\\"onCellKeyDown\\\",\\\"scope\\\":\\\"2926407676307962266\\\",\\\"id\\\":\\\"ob_250\\\",\\\"type\\\":\\\"observable\\\"},x)}),\\\"onCellClicked\\\":(function (ev){var x={}; (ev.rowIndex!==undefined) ? (x[\\\"rowIndex\\\"]=(ev.rowIndex+1)) : undefined; (ev.colDef!==undefined) ? (x[\\\"column\\\"]=ev.colDef.headerName) : undefined; return WebIO.setval({\\\"name\\\":\\\"onCellClicked\\\",\\\"scope\\\":\\\"2926407676307962266\\\",\\\"id\\\":\\\"ob_246\\\",\\\"type\\\":\\\"observable\\\"},x)})}; var el=document.getElementById(\\\"grid-a7b37c84\\\"); gridOptions.components={\\\"rowNumberRenderer\\\":RowNumberRenderer}; this.table=new agGrid.Grid(el,gridOptions); gridOptions.columnApi.autoSizeColumn(\\\"__row__\\\"); return gridOptions.columnApi.autoSizeColumns([\\\"state\\\",\\\"county\\\",\\\"population\\\",\\\"cases\\\",\\\"casesIncreaseMA\\\",\\\"casesInc100k\\\",\\\"pch_casesIncreaseMA\\\"])}));\\n    (WebIO.importBlock({\\\"data\\\":[{\\\"name\\\":null,\\\"type\\\":\\\"js\\\",\\\"url\\\":\\\"\\/assetserver\\/8a878f8aac4fcc3aa0fe3544f3b6004cfb87e28d-rowNumberRenderer.js\\\"},{\\\"name\\\":null,\\\"type\\\":\\\"js\\\",\\\"url\\\":\\\"\\/assetserver\\/49affd7ae36d0aac75380aa149861ff1594bff9c-ag-grid.js\\\"},{\\\"name\\\":null,\\\"type\\\":\\\"css\\\",\\\"url\\\":\\\"\\/assetserver\\/44eec805f61ccdf030080bfd1a559f03509a0021-ag-grid.css\\\"},{\\\"name\\\":null,\\\"type\\\":\\\"css\\\",\\\"url\\\":\\\"\\/assetserver\\/e4213c8e832c90aaafe2b3164c0bbb5b67c7a305-ag-grid-light.css\\\"},{\\\"name\\\":null,\\\"type\\\":\\\"css\\\",\\\"url\\\":\\\"\\/assetserver\\/b082734171f365ccefe5d7b6015f8162af17e3a6-ag-grid-dark.css\\\"}],\\\"type\\\":\\\"async_block\\\"})).then((imports) => handler.apply(this, imports));\\n}\\n\"],\"observables\":{\"onCellKeyDown\":{\"sync\":false,\"id\":\"ob_250\",\"value\":null},\"onRowClicked\":{\"sync\":false,\"id\":\"ob_248\",\"value\":null},\"onCellDoubleClicked\":{\"sync\":false,\"id\":\"ob_247\",\"value\":null},\"requestedrows\":{\"sync\":false,\"id\":\"ob_252\",\"value\":{}},\"onCellClicked\":{\"sync\":false,\"id\":\"ob_246\",\"value\":null},\"onCellFocused\":{\"sync\":false,\"id\":\"ob_249\",\"value\":null},\"rowparams\":{\"sync\":true,\"id\":\"ob_251\",\"value\":{\"successCallback\":\"(function (v){return null})\",\"startRow\":1,\"endRow\":100}}}},\"children\":[{\"props\":{},\"nodeType\":\"DOM\",\"type\":\"node\",\"instanceArgs\":{\"namespace\":\"html\",\"tag\":\"div\"},\"children\":[{\"props\":{\"style\":{\"height\":\"0\",\"padding\":\"0\",\"background-color\":\"#F5F7F7\",\"color\":\"#1c1f20\",\"font-family\":\"-apple-system, BlinkMacSystemFont, \\\"Segoe UI\\\", Roboto, Oxygen-Sans, Ubuntu, Cantarell, \\\"Helvetica Neue\\\", sans-serif\"}},\"nodeType\":\"DOM\",\"type\":\"node\",\"instanceArgs\":{\"namespace\":\"html\",\"tag\":\"div\"},\"children\":[\"\"]},{\"props\":{\"id\":\"grid-a7b37c84\",\"className\":\"ag-theme-balham\",\"style\":{\"height\":\"500px\",\"width\":\"100%\"}},\"nodeType\":\"DOM\",\"type\":\"node\",\"instanceArgs\":{\"namespace\":\"html\",\"tag\":\"div\"},\"children\":[]}]}]},\n",
       "            window,\n",
       "        );\n",
       "    } else {\n",
       "        document\n",
       "            .querySelector('[data-webio-mountpoint=\"8386435206201667557\"]')\n",
       "            .innerHTML = (\n",
       "                '<div style=\"padding: 1em; background-color: #f8d6da; border: 1px solid #f5c6cb\">' +\n",
       "                '<p><strong>WebIO not detected.</strong></p>' +\n",
       "                '<p>Please read ' +\n",
       "                '<a href=\"https://juliagizmos.github.io/WebIO.jl/latest/troubleshooting/not-detected/\" target=\"_blank\">the troubleshooting guide</a> ' +\n",
       "                'for more information on how to resolve this issue.</p>' +\n",
       "                '<p><a href=\"https://juliagizmos.github.io/WebIO.jl/latest/troubleshooting/not-detected/\" target=\"_blank\">https://juliagizmos.github.io/WebIO.jl/latest/troubleshooting/not-detected/</a></p>' +\n",
       "                '</div>'\n",
       "            );\n",
       "    }\n",
       "    </script>\n",
       "</div>\n"
      ],
      "text/plain": [
       "WebIO.Scope(WebIO.Node{WebIO.DOM}(WebIO.DOM(:html, :div), Any[WebIO.Node{WebIO.DOM}(WebIO.DOM(:html, :div), Any[\"\"], Dict{Symbol,Any}(:style => Dict(\"height\" => \"0\",\"padding\" => \"0\",\"background-color\" => \"#F5F7F7\",\"color\" => \"#1c1f20\",\"font-family\" => \"-apple-system, BlinkMacSystemFont, \\\"Segoe UI\\\", Roboto, Oxygen-Sans, Ubuntu, Cantarell, \\\"Helvetica Neue\\\", sans-serif\"))), WebIO.Node{WebIO.DOM}(WebIO.DOM(:html, :div), Any[], Dict{Symbol,Any}(:id => \"grid-a7b37c84\",:className => \"ag-theme-balham\",:style => Dict(\"height\" => \"500px\",\"width\" => \"100%\")))], Dict{Symbol,Any}()), Dict{String,Tuple{Observables.AbstractObservable,Union{Nothing, Bool}}}(\"onCellKeyDown\" => (Observable{Any} with 0 listeners. Value:\n",
       "nothing, nothing),\"onRowClicked\" => (Observable{Any} with 0 listeners. Value:\n",
       "nothing, nothing),\"onCellDoubleClicked\" => (Observable{Any} with 0 listeners. Value:\n",
       "nothing, nothing),\"requestedrows\" => (Observable{JSON.Writer.JSONText} with 1 listeners. Value:\n",
       "JSON.Writer.JSONText(\"{}\"), nothing),\"onCellClicked\" => (Observable{Any} with 0 listeners. Value:\n",
       "nothing, nothing),\"onCellFocused\" => (Observable{Any} with 0 listeners. Value:\n",
       "nothing, nothing),\"rowparams\" => (Observable{Dict{String,Any}} with 1 listeners. Value:\n",
       "Dict{String,Any}(\"successCallback\" => WebIO.JSString(\"(function (v){return null})\"),\"startRow\" => 1,\"endRow\" => 100), nothing)), Set(String[]), nothing, WebIO.Asset[WebIO.Asset(\"js\", nothing, \"/Users/cdaniels/.julia/packages/TableView/CxWLO/src/rowNumberRenderer.js\"), WebIO.Asset(\"js\", nothing, \"/Users/cdaniels/.julia/packages/TableView/CxWLO/deps/ag-grid-22.1.0/ag-grid.js\"), WebIO.Asset(\"css\", nothing, \"/Users/cdaniels/.julia/packages/TableView/CxWLO/deps/ag-grid-22.1.0/ag-grid.css\"), WebIO.Asset(\"css\", nothing, \"/Users/cdaniels/.julia/packages/TableView/CxWLO/deps/ag-grid-22.1.0/ag-grid-light.css\"), WebIO.Asset(\"css\", nothing, \"/Users/cdaniels/.julia/packages/TableView/CxWLO/deps/ag-grid-22.1.0/ag-grid-dark.css\")], Dict{Any,Any}(\"requestedrows\" => Any[WebIO.JSString(\"(function (val){return WebIO.getval({\\\"name\\\":\\\"rowparams\\\",\\\"scope\\\":\\\"2926407676307962266\\\",\\\"id\\\":\\\"ob_251\\\",\\\"type\\\":\\\"observable\\\"}).successCallback(val,null)})\")]), WebIO.ConnectionPool(Channel{Any}(sz_max:32,sz_curr:0), Set(WebIO.AbstractConnection[]), Base.GenericCondition{Base.AlwaysLockedST}(Base.InvasiveLinkedList{Task}(Task (runnable) @0x000000011f2db3d0, Task (runnable) @0x000000011f2db3d0), Base.AlwaysLockedST(1))), WebIO.JSString[WebIO.JSString(\"function () {\\n    var handler = ((function (RowNumberRenderer,agGrid){var gridOptions={\\\"onCellFocused\\\":(function (ev){var x={}; (ev.rowIndex!==undefined) ? (x[\\\"rowIndex\\\"]=(ev.rowIndex+1)) : undefined; (ev.colDef!==undefined) ? (x[\\\"column\\\"]=ev.colDef.headerName) : undefined; return WebIO.setval({\\\"name\\\":\\\"onCellFocused\\\",\\\"scope\\\":\\\"2926407676307962266\\\",\\\"id\\\":\\\"ob_249\\\",\\\"type\\\":\\\"observable\\\"},x)}),\\\"onCellValueChanged\\\":(function (){return }),\\\"rowModelType\\\":\\\"infinite\\\",\\\"onRowClicked\\\":(function (ev){var x={}; (ev.rowIndex!==undefined) ? (x[\\\"rowIndex\\\"]=(ev.rowIndex+1)) : undefined; (ev.colDef!==undefined) ? (x[\\\"column\\\"]=ev.colDef.headerName) : undefined; return WebIO.setval({\\\"name\\\":\\\"onRowClicked\\\",\\\"scope\\\":\\\"2926407676307962266\\\",\\\"id\\\":\\\"ob_248\\\",\\\"type\\\":\\\"observable\\\"},x)}),\\\"maxConcurrentDatasourceRequests\\\":1,\\\"columnDefs\\\":[{\\\"filter\\\":false,\\\"editable\\\":false,\\\"headerTooltip\\\":\\\"\\\",\\\"field\\\":\\\"__row__\\\",\\\"headerName\\\":\\\"Row\\\",\\\"sortable\\\":false,\\\"type\\\":\\\"numericColumn\\\",\\\"cellRenderer\\\":\\\"rowNumberRenderer\\\",\\\"resizable\\\":true},{\\\"filter\\\":false,\\\"editable\\\":false,\\\"headerTooltip\\\":\\\"String\\\",\\\"field\\\":\\\"state\\\",\\\"headerName\\\":\\\"state\\\",\\\"sortable\\\":false,\\\"type\\\":null,\\\"resizable\\\":true},{\\\"filter\\\":false,\\\"editable\\\":false,\\\"headerTooltip\\\":\\\"String\\\",\\\"field\\\":\\\"county\\\",\\\"headerName\\\":\\\"county\\\",\\\"sortable\\\":false,\\\"type\\\":null,\\\"resizable\\\":true},{\\\"filter\\\":false,\\\"editable\\\":false,\\\"headerTooltip\\\":\\\"Int64\\\",\\\"field\\\":\\\"population\\\",\\\"headerName\\\":\\\"population\\\",\\\"sortable\\\":false,\\\"type\\\":\\\"numericColumn\\\",\\\"resizable\\\":true},{\\\"filter\\\":false,\\\"editable\\\":false,\\\"headerTooltip\\\":\\\"Int64\\\",\\\"field\\\":\\\"cases\\\",\\\"headerName\\\":\\\"cases\\\",\\\"sortable\\\":false,\\\"type\\\":\\\"numericColumn\\\",\\\"resizable\\\":true},{\\\"filter\\\":false,\\\"editable\\\":false,\\\"headerTooltip\\\":\\\"Float64\\\",\\\"field\\\":\\\"casesIncreaseMA\\\",\\\"headerName\\\":\\\"casesIncreaseMA\\\",\\\"sortable\\\":false,\\\"type\\\":\\\"numericColumn\\\",\\\"resizable\\\":true},{\\\"filter\\\":false,\\\"editable\\\":false,\\\"headerTooltip\\\":\\\"Float64\\\",\\\"field\\\":\\\"casesInc100k\\\",\\\"headerName\\\":\\\"casesInc100k\\\",\\\"sortable\\\":false,\\\"type\\\":\\\"numericColumn\\\",\\\"resizable\\\":true},{\\\"filter\\\":false,\\\"editable\\\":false,\\\"headerTooltip\\\":\\\"Float64\\\",\\\"field\\\":\\\"pch_casesIncreaseMA\\\",\\\"headerName\\\":\\\"pch_casesIncreaseMA\\\",\\\"sortable\\\":false,\\\"type\\\":\\\"numericColumn\\\",\\\"resizable\\\":true}],\\\"cacheBlockSize\\\":1000,\\\"datasource\\\":{\\\"rowCount\\\":null,\\\"getRows\\\":(function (rowParams){return WebIO.setval({\\\"name\\\":\\\"rowparams\\\",\\\"scope\\\":\\\"2926407676307962266\\\",\\\"id\\\":\\\"ob_251\\\",\\\"type\\\":\\\"observable\\\"},rowParams)})},\\\"multiSortKey\\\":\\\"ctrl\\\",\\\"maxBlocksInCache\\\":100,\\\"onCellDoubleClicked\\\":(function (ev){var x={}; (ev.rowIndex!==undefined) ? (x[\\\"rowIndex\\\"]=(ev.rowIndex+1)) : undefined; (ev.colDef!==undefined) ? (x[\\\"column\\\"]=ev.colDef.headerName) : undefined; return WebIO.setval({\\\"name\\\":\\\"onCellDoubleClicked\\\",\\\"scope\\\":\\\"2926407676307962266\\\",\\\"id\\\":\\\"ob_247\\\",\\\"type\\\":\\\"observable\\\"},x)}),\\\"onCellKeyDown\\\":(function (ev){var x={}; (ev.rowIndex!==undefined) ? (x[\\\"rowIndex\\\"]=(ev.rowIndex+1)) : undefined; (ev.colDef!==undefined) ? (x[\\\"column\\\"]=ev.colDef.headerName) : undefined; return WebIO.setval({\\\"name\\\":\\\"onCellKeyDown\\\",\\\"scope\\\":\\\"2926407676307962266\\\",\\\"id\\\":\\\"ob_250\\\",\\\"type\\\":\\\"observable\\\"},x)}),\\\"onCellClicked\\\":(function (ev){var x={}; (ev.rowIndex!==undefined) ? (x[\\\"rowIndex\\\"]=(ev.rowIndex+1)) : undefined; (ev.colDef!==undefined) ? (x[\\\"column\\\"]=ev.colDef.headerName) : undefined; return WebIO.setval({\\\"name\\\":\\\"onCellClicked\\\",\\\"scope\\\":\\\"2926407676307962266\\\",\\\"id\\\":\\\"ob_246\\\",\\\"type\\\":\\\"observable\\\"},x)})}; var el=document.getElementById(\\\"grid-a7b37c84\\\"); gridOptions.components={\\\"rowNumberRenderer\\\":RowNumberRenderer}; this.table=new agGrid.Grid(el,gridOptions); gridOptions.columnApi.autoSizeColumn(\\\"__row__\\\"); return gridOptions.columnApi.autoSizeColumns([\\\"state\\\",\\\"county\\\",\\\"population\\\",\\\"cases\\\",\\\"casesIncreaseMA\\\",\\\"casesInc100k\\\",\\\"pch_casesIncreaseMA\\\"])}));\\n    (WebIO.importBlock({\\\"data\\\":[{\\\"name\\\":null,\\\"type\\\":\\\"js\\\",\\\"url\\\":\\\"/assetserver/8a878f8aac4fcc3aa0fe3544f3b6004cfb87e28d-rowNumberRenderer.js\\\"},{\\\"name\\\":null,\\\"type\\\":\\\"js\\\",\\\"url\\\":\\\"/assetserver/49affd7ae36d0aac75380aa149861ff1594bff9c-ag-grid.js\\\"},{\\\"name\\\":null,\\\"type\\\":\\\"css\\\",\\\"url\\\":\\\"/assetserver/44eec805f61ccdf030080bfd1a559f03509a0021-ag-grid.css\\\"},{\\\"name\\\":null,\\\"type\\\":\\\"css\\\",\\\"url\\\":\\\"/assetserver/e4213c8e832c90aaafe2b3164c0bbb5b67c7a305-ag-grid-light.css\\\"},{\\\"name\\\":null,\\\"type\\\":\\\"css\\\",\\\"url\\\":\\\"/assetserver/b082734171f365ccefe5d7b6015f8162af17e3a6-ag-grid-dark.css\\\"}],\\\"type\\\":\\\"async_block\\\"})).then((imports) => handler.apply(this, imports));\\n}\\n\")])"
      ]
     },
     "execution_count": 69,
     "metadata": {
      "application/vnd.webio.node+json": {
       "kernelId": "3229260e-45e1-405c-811b-0c4817f5e87c"
      }
     },
     "output_type": "execute_result"
    }
   ],
   "source": [
    "@tbl sort(filter(r->!ismissing(r.casesInc100k)&& !isnan(r.casesInc100k),dfcp),[:casesInc100k],rev=true)"
   ]
  },
  {
   "cell_type": "markdown",
   "metadata": {},
   "source": [
    "#### Highest Number of New Daily Cases per County by Rate of Case Growth"
   ]
  },
  {
   "cell_type": "code",
   "execution_count": 70,
   "metadata": {
    "scrolled": false
   },
   "outputs": [
    {
     "data": {
      "application/vnd.webio.node+json": {
       "children": [
        {
         "children": [
          {
           "children": [
            ""
           ],
           "instanceArgs": {
            "namespace": "html",
            "tag": "div"
           },
           "nodeType": "DOM",
           "props": {
            "style": {
             "background-color": "#F5F7F7",
             "color": "#1c1f20",
             "font-family": "-apple-system, BlinkMacSystemFont, \"Segoe UI\", Roboto, Oxygen-Sans, Ubuntu, Cantarell, \"Helvetica Neue\", sans-serif",
             "height": "0",
             "padding": "0"
            }
           },
           "type": "node"
          },
          {
           "children": [],
           "instanceArgs": {
            "namespace": "html",
            "tag": "div"
           },
           "nodeType": "DOM",
           "props": {
            "className": "ag-theme-balham",
            "id": "grid-a820fd54",
            "style": {
             "height": "500px",
             "width": "100%"
            }
           },
           "type": "node"
          }
         ],
         "instanceArgs": {
          "namespace": "html",
          "tag": "div"
         },
         "nodeType": "DOM",
         "props": {},
         "type": "node"
        }
       ],
       "instanceArgs": {
        "handlers": {
         "requestedrows": [
          "(function (val){return WebIO.getval({\"name\":\"rowparams\",\"scope\":\"16506897654812326389\",\"id\":\"ob_258\",\"type\":\"observable\"}).successCallback(val,null)})"
         ]
        },
        "id": "16506897654812326389",
        "imports": {
         "data": [
          {
           "name": null,
           "type": "js",
           "url": "/assetserver/8a878f8aac4fcc3aa0fe3544f3b6004cfb87e28d-rowNumberRenderer.js"
          },
          {
           "name": null,
           "type": "js",
           "url": "/assetserver/49affd7ae36d0aac75380aa149861ff1594bff9c-ag-grid.js"
          },
          {
           "name": null,
           "type": "css",
           "url": "/assetserver/44eec805f61ccdf030080bfd1a559f03509a0021-ag-grid.css"
          },
          {
           "name": null,
           "type": "css",
           "url": "/assetserver/e4213c8e832c90aaafe2b3164c0bbb5b67c7a305-ag-grid-light.css"
          },
          {
           "name": null,
           "type": "css",
           "url": "/assetserver/b082734171f365ccefe5d7b6015f8162af17e3a6-ag-grid-dark.css"
          }
         ],
         "type": "async_block"
        },
        "mount_callbacks": [
         "function () {\n    var handler = ((function (RowNumberRenderer,agGrid){var gridOptions={\"onCellFocused\":(function (ev){var x={}; (ev.rowIndex!==undefined) ? (x[\"rowIndex\"]=(ev.rowIndex+1)) : undefined; (ev.colDef!==undefined) ? (x[\"column\"]=ev.colDef.headerName) : undefined; return WebIO.setval({\"name\":\"onCellFocused\",\"scope\":\"16506897654812326389\",\"id\":\"ob_256\",\"type\":\"observable\"},x)}),\"onCellValueChanged\":(function (){return }),\"rowModelType\":\"infinite\",\"onRowClicked\":(function (ev){var x={}; (ev.rowIndex!==undefined) ? (x[\"rowIndex\"]=(ev.rowIndex+1)) : undefined; (ev.colDef!==undefined) ? (x[\"column\"]=ev.colDef.headerName) : undefined; return WebIO.setval({\"name\":\"onRowClicked\",\"scope\":\"16506897654812326389\",\"id\":\"ob_255\",\"type\":\"observable\"},x)}),\"maxConcurrentDatasourceRequests\":1,\"columnDefs\":[{\"filter\":false,\"editable\":false,\"headerTooltip\":\"\",\"field\":\"__row__\",\"headerName\":\"Row\",\"sortable\":false,\"type\":\"numericColumn\",\"cellRenderer\":\"rowNumberRenderer\",\"resizable\":true},{\"filter\":false,\"editable\":false,\"headerTooltip\":\"String\",\"field\":\"state\",\"headerName\":\"state\",\"sortable\":false,\"type\":null,\"resizable\":true},{\"filter\":false,\"editable\":false,\"headerTooltip\":\"String\",\"field\":\"county\",\"headerName\":\"county\",\"sortable\":false,\"type\":null,\"resizable\":true},{\"filter\":false,\"editable\":false,\"headerTooltip\":\"Int64\",\"field\":\"population\",\"headerName\":\"population\",\"sortable\":false,\"type\":\"numericColumn\",\"resizable\":true},{\"filter\":false,\"editable\":false,\"headerTooltip\":\"Int64\",\"field\":\"cases\",\"headerName\":\"cases\",\"sortable\":false,\"type\":\"numericColumn\",\"resizable\":true},{\"filter\":false,\"editable\":false,\"headerTooltip\":\"Float64\",\"field\":\"casesIncreaseMA\",\"headerName\":\"casesIncreaseMA\",\"sortable\":false,\"type\":\"numericColumn\",\"resizable\":true},{\"filter\":false,\"editable\":false,\"headerTooltip\":\"Float64\",\"field\":\"casesInc100k\",\"headerName\":\"casesInc100k\",\"sortable\":false,\"type\":\"numericColumn\",\"resizable\":true},{\"filter\":false,\"editable\":false,\"headerTooltip\":\"Float64\",\"field\":\"pch_casesIncreaseMA\",\"headerName\":\"pch_casesIncreaseMA\",\"sortable\":false,\"type\":\"numericColumn\",\"resizable\":true}],\"cacheBlockSize\":1000,\"datasource\":{\"rowCount\":null,\"getRows\":(function (rowParams){return WebIO.setval({\"name\":\"rowparams\",\"scope\":\"16506897654812326389\",\"id\":\"ob_258\",\"type\":\"observable\"},rowParams)})},\"multiSortKey\":\"ctrl\",\"maxBlocksInCache\":100,\"onCellDoubleClicked\":(function (ev){var x={}; (ev.rowIndex!==undefined) ? (x[\"rowIndex\"]=(ev.rowIndex+1)) : undefined; (ev.colDef!==undefined) ? (x[\"column\"]=ev.colDef.headerName) : undefined; return WebIO.setval({\"name\":\"onCellDoubleClicked\",\"scope\":\"16506897654812326389\",\"id\":\"ob_254\",\"type\":\"observable\"},x)}),\"onCellKeyDown\":(function (ev){var x={}; (ev.rowIndex!==undefined) ? (x[\"rowIndex\"]=(ev.rowIndex+1)) : undefined; (ev.colDef!==undefined) ? (x[\"column\"]=ev.colDef.headerName) : undefined; return WebIO.setval({\"name\":\"onCellKeyDown\",\"scope\":\"16506897654812326389\",\"id\":\"ob_257\",\"type\":\"observable\"},x)}),\"onCellClicked\":(function (ev){var x={}; (ev.rowIndex!==undefined) ? (x[\"rowIndex\"]=(ev.rowIndex+1)) : undefined; (ev.colDef!==undefined) ? (x[\"column\"]=ev.colDef.headerName) : undefined; return WebIO.setval({\"name\":\"onCellClicked\",\"scope\":\"16506897654812326389\",\"id\":\"ob_253\",\"type\":\"observable\"},x)})}; var el=document.getElementById(\"grid-a820fd54\"); gridOptions.components={\"rowNumberRenderer\":RowNumberRenderer}; this.table=new agGrid.Grid(el,gridOptions); gridOptions.columnApi.autoSizeColumn(\"__row__\"); return gridOptions.columnApi.autoSizeColumns([\"state\",\"county\",\"population\",\"cases\",\"casesIncreaseMA\",\"casesInc100k\",\"pch_casesIncreaseMA\"])}));\n    (WebIO.importBlock({\"data\":[{\"name\":null,\"type\":\"js\",\"url\":\"/assetserver/8a878f8aac4fcc3aa0fe3544f3b6004cfb87e28d-rowNumberRenderer.js\"},{\"name\":null,\"type\":\"js\",\"url\":\"/assetserver/49affd7ae36d0aac75380aa149861ff1594bff9c-ag-grid.js\"},{\"name\":null,\"type\":\"css\",\"url\":\"/assetserver/44eec805f61ccdf030080bfd1a559f03509a0021-ag-grid.css\"},{\"name\":null,\"type\":\"css\",\"url\":\"/assetserver/e4213c8e832c90aaafe2b3164c0bbb5b67c7a305-ag-grid-light.css\"},{\"name\":null,\"type\":\"css\",\"url\":\"/assetserver/b082734171f365ccefe5d7b6015f8162af17e3a6-ag-grid-dark.css\"}],\"type\":\"async_block\"})).then((imports) => handler.apply(this, imports));\n}\n"
        ],
        "observables": {
         "onCellClicked": {
          "id": "ob_253",
          "sync": false,
          "value": null
         },
         "onCellDoubleClicked": {
          "id": "ob_254",
          "sync": false,
          "value": null
         },
         "onCellFocused": {
          "id": "ob_256",
          "sync": false,
          "value": null
         },
         "onCellKeyDown": {
          "id": "ob_257",
          "sync": false,
          "value": null
         },
         "onRowClicked": {
          "id": "ob_255",
          "sync": false,
          "value": null
         },
         "requestedrows": {
          "id": "ob_259",
          "sync": false,
          "value": {}
         },
         "rowparams": {
          "id": "ob_258",
          "sync": true,
          "value": {
           "endRow": 100,
           "startRow": 1,
           "successCallback": "(function (v){return null})"
          }
         }
        },
        "systemjs_options": null
       },
       "nodeType": "Scope",
       "props": {},
       "type": "node"
      },
      "text/html": [
       "<div\n",
       "    class=\"webio-mountpoint\"\n",
       "    data-webio-mountpoint=\"8552405052885930280\"\n",
       ">\n",
       "    <script>\n",
       "    if (window.require && require.defined && require.defined(\"nbextensions/webio-jupyter-notebook\")) {\n",
       "        console.log(\"Jupyter WebIO extension detected, not mounting.\");\n",
       "    } else if (window.WebIO) {\n",
       "        WebIO.mount(\n",
       "            document.querySelector('[data-webio-mountpoint=\"8552405052885930280\"]'),\n",
       "            {\"props\":{},\"nodeType\":\"Scope\",\"type\":\"node\",\"instanceArgs\":{\"imports\":{\"data\":[{\"name\":null,\"type\":\"js\",\"url\":\"\\/assetserver\\/8a878f8aac4fcc3aa0fe3544f3b6004cfb87e28d-rowNumberRenderer.js\"},{\"name\":null,\"type\":\"js\",\"url\":\"\\/assetserver\\/49affd7ae36d0aac75380aa149861ff1594bff9c-ag-grid.js\"},{\"name\":null,\"type\":\"css\",\"url\":\"\\/assetserver\\/44eec805f61ccdf030080bfd1a559f03509a0021-ag-grid.css\"},{\"name\":null,\"type\":\"css\",\"url\":\"\\/assetserver\\/e4213c8e832c90aaafe2b3164c0bbb5b67c7a305-ag-grid-light.css\"},{\"name\":null,\"type\":\"css\",\"url\":\"\\/assetserver\\/b082734171f365ccefe5d7b6015f8162af17e3a6-ag-grid-dark.css\"}],\"type\":\"async_block\"},\"id\":\"16506897654812326389\",\"handlers\":{\"requestedrows\":[\"(function (val){return WebIO.getval({\\\"name\\\":\\\"rowparams\\\",\\\"scope\\\":\\\"16506897654812326389\\\",\\\"id\\\":\\\"ob_258\\\",\\\"type\\\":\\\"observable\\\"}).successCallback(val,null)})\"]},\"systemjs_options\":null,\"mount_callbacks\":[\"function () {\\n    var handler = ((function (RowNumberRenderer,agGrid){var gridOptions={\\\"onCellFocused\\\":(function (ev){var x={}; (ev.rowIndex!==undefined) ? (x[\\\"rowIndex\\\"]=(ev.rowIndex+1)) : undefined; (ev.colDef!==undefined) ? (x[\\\"column\\\"]=ev.colDef.headerName) : undefined; return WebIO.setval({\\\"name\\\":\\\"onCellFocused\\\",\\\"scope\\\":\\\"16506897654812326389\\\",\\\"id\\\":\\\"ob_256\\\",\\\"type\\\":\\\"observable\\\"},x)}),\\\"onCellValueChanged\\\":(function (){return }),\\\"rowModelType\\\":\\\"infinite\\\",\\\"onRowClicked\\\":(function (ev){var x={}; (ev.rowIndex!==undefined) ? (x[\\\"rowIndex\\\"]=(ev.rowIndex+1)) : undefined; (ev.colDef!==undefined) ? (x[\\\"column\\\"]=ev.colDef.headerName) : undefined; return WebIO.setval({\\\"name\\\":\\\"onRowClicked\\\",\\\"scope\\\":\\\"16506897654812326389\\\",\\\"id\\\":\\\"ob_255\\\",\\\"type\\\":\\\"observable\\\"},x)}),\\\"maxConcurrentDatasourceRequests\\\":1,\\\"columnDefs\\\":[{\\\"filter\\\":false,\\\"editable\\\":false,\\\"headerTooltip\\\":\\\"\\\",\\\"field\\\":\\\"__row__\\\",\\\"headerName\\\":\\\"Row\\\",\\\"sortable\\\":false,\\\"type\\\":\\\"numericColumn\\\",\\\"cellRenderer\\\":\\\"rowNumberRenderer\\\",\\\"resizable\\\":true},{\\\"filter\\\":false,\\\"editable\\\":false,\\\"headerTooltip\\\":\\\"String\\\",\\\"field\\\":\\\"state\\\",\\\"headerName\\\":\\\"state\\\",\\\"sortable\\\":false,\\\"type\\\":null,\\\"resizable\\\":true},{\\\"filter\\\":false,\\\"editable\\\":false,\\\"headerTooltip\\\":\\\"String\\\",\\\"field\\\":\\\"county\\\",\\\"headerName\\\":\\\"county\\\",\\\"sortable\\\":false,\\\"type\\\":null,\\\"resizable\\\":true},{\\\"filter\\\":false,\\\"editable\\\":false,\\\"headerTooltip\\\":\\\"Int64\\\",\\\"field\\\":\\\"population\\\",\\\"headerName\\\":\\\"population\\\",\\\"sortable\\\":false,\\\"type\\\":\\\"numericColumn\\\",\\\"resizable\\\":true},{\\\"filter\\\":false,\\\"editable\\\":false,\\\"headerTooltip\\\":\\\"Int64\\\",\\\"field\\\":\\\"cases\\\",\\\"headerName\\\":\\\"cases\\\",\\\"sortable\\\":false,\\\"type\\\":\\\"numericColumn\\\",\\\"resizable\\\":true},{\\\"filter\\\":false,\\\"editable\\\":false,\\\"headerTooltip\\\":\\\"Float64\\\",\\\"field\\\":\\\"casesIncreaseMA\\\",\\\"headerName\\\":\\\"casesIncreaseMA\\\",\\\"sortable\\\":false,\\\"type\\\":\\\"numericColumn\\\",\\\"resizable\\\":true},{\\\"filter\\\":false,\\\"editable\\\":false,\\\"headerTooltip\\\":\\\"Float64\\\",\\\"field\\\":\\\"casesInc100k\\\",\\\"headerName\\\":\\\"casesInc100k\\\",\\\"sortable\\\":false,\\\"type\\\":\\\"numericColumn\\\",\\\"resizable\\\":true},{\\\"filter\\\":false,\\\"editable\\\":false,\\\"headerTooltip\\\":\\\"Float64\\\",\\\"field\\\":\\\"pch_casesIncreaseMA\\\",\\\"headerName\\\":\\\"pch_casesIncreaseMA\\\",\\\"sortable\\\":false,\\\"type\\\":\\\"numericColumn\\\",\\\"resizable\\\":true}],\\\"cacheBlockSize\\\":1000,\\\"datasource\\\":{\\\"rowCount\\\":null,\\\"getRows\\\":(function (rowParams){return WebIO.setval({\\\"name\\\":\\\"rowparams\\\",\\\"scope\\\":\\\"16506897654812326389\\\",\\\"id\\\":\\\"ob_258\\\",\\\"type\\\":\\\"observable\\\"},rowParams)})},\\\"multiSortKey\\\":\\\"ctrl\\\",\\\"maxBlocksInCache\\\":100,\\\"onCellDoubleClicked\\\":(function (ev){var x={}; (ev.rowIndex!==undefined) ? (x[\\\"rowIndex\\\"]=(ev.rowIndex+1)) : undefined; (ev.colDef!==undefined) ? (x[\\\"column\\\"]=ev.colDef.headerName) : undefined; return WebIO.setval({\\\"name\\\":\\\"onCellDoubleClicked\\\",\\\"scope\\\":\\\"16506897654812326389\\\",\\\"id\\\":\\\"ob_254\\\",\\\"type\\\":\\\"observable\\\"},x)}),\\\"onCellKeyDown\\\":(function (ev){var x={}; (ev.rowIndex!==undefined) ? (x[\\\"rowIndex\\\"]=(ev.rowIndex+1)) : undefined; (ev.colDef!==undefined) ? (x[\\\"column\\\"]=ev.colDef.headerName) : undefined; return WebIO.setval({\\\"name\\\":\\\"onCellKeyDown\\\",\\\"scope\\\":\\\"16506897654812326389\\\",\\\"id\\\":\\\"ob_257\\\",\\\"type\\\":\\\"observable\\\"},x)}),\\\"onCellClicked\\\":(function (ev){var x={}; (ev.rowIndex!==undefined) ? (x[\\\"rowIndex\\\"]=(ev.rowIndex+1)) : undefined; (ev.colDef!==undefined) ? (x[\\\"column\\\"]=ev.colDef.headerName) : undefined; return WebIO.setval({\\\"name\\\":\\\"onCellClicked\\\",\\\"scope\\\":\\\"16506897654812326389\\\",\\\"id\\\":\\\"ob_253\\\",\\\"type\\\":\\\"observable\\\"},x)})}; var el=document.getElementById(\\\"grid-a820fd54\\\"); gridOptions.components={\\\"rowNumberRenderer\\\":RowNumberRenderer}; this.table=new agGrid.Grid(el,gridOptions); gridOptions.columnApi.autoSizeColumn(\\\"__row__\\\"); return gridOptions.columnApi.autoSizeColumns([\\\"state\\\",\\\"county\\\",\\\"population\\\",\\\"cases\\\",\\\"casesIncreaseMA\\\",\\\"casesInc100k\\\",\\\"pch_casesIncreaseMA\\\"])}));\\n    (WebIO.importBlock({\\\"data\\\":[{\\\"name\\\":null,\\\"type\\\":\\\"js\\\",\\\"url\\\":\\\"\\/assetserver\\/8a878f8aac4fcc3aa0fe3544f3b6004cfb87e28d-rowNumberRenderer.js\\\"},{\\\"name\\\":null,\\\"type\\\":\\\"js\\\",\\\"url\\\":\\\"\\/assetserver\\/49affd7ae36d0aac75380aa149861ff1594bff9c-ag-grid.js\\\"},{\\\"name\\\":null,\\\"type\\\":\\\"css\\\",\\\"url\\\":\\\"\\/assetserver\\/44eec805f61ccdf030080bfd1a559f03509a0021-ag-grid.css\\\"},{\\\"name\\\":null,\\\"type\\\":\\\"css\\\",\\\"url\\\":\\\"\\/assetserver\\/e4213c8e832c90aaafe2b3164c0bbb5b67c7a305-ag-grid-light.css\\\"},{\\\"name\\\":null,\\\"type\\\":\\\"css\\\",\\\"url\\\":\\\"\\/assetserver\\/b082734171f365ccefe5d7b6015f8162af17e3a6-ag-grid-dark.css\\\"}],\\\"type\\\":\\\"async_block\\\"})).then((imports) => handler.apply(this, imports));\\n}\\n\"],\"observables\":{\"onCellKeyDown\":{\"sync\":false,\"id\":\"ob_257\",\"value\":null},\"onRowClicked\":{\"sync\":false,\"id\":\"ob_255\",\"value\":null},\"onCellDoubleClicked\":{\"sync\":false,\"id\":\"ob_254\",\"value\":null},\"requestedrows\":{\"sync\":false,\"id\":\"ob_259\",\"value\":{}},\"onCellClicked\":{\"sync\":false,\"id\":\"ob_253\",\"value\":null},\"onCellFocused\":{\"sync\":false,\"id\":\"ob_256\",\"value\":null},\"rowparams\":{\"sync\":true,\"id\":\"ob_258\",\"value\":{\"successCallback\":\"(function (v){return null})\",\"startRow\":1,\"endRow\":100}}}},\"children\":[{\"props\":{},\"nodeType\":\"DOM\",\"type\":\"node\",\"instanceArgs\":{\"namespace\":\"html\",\"tag\":\"div\"},\"children\":[{\"props\":{\"style\":{\"height\":\"0\",\"padding\":\"0\",\"background-color\":\"#F5F7F7\",\"color\":\"#1c1f20\",\"font-family\":\"-apple-system, BlinkMacSystemFont, \\\"Segoe UI\\\", Roboto, Oxygen-Sans, Ubuntu, Cantarell, \\\"Helvetica Neue\\\", sans-serif\"}},\"nodeType\":\"DOM\",\"type\":\"node\",\"instanceArgs\":{\"namespace\":\"html\",\"tag\":\"div\"},\"children\":[\"\"]},{\"props\":{\"id\":\"grid-a820fd54\",\"className\":\"ag-theme-balham\",\"style\":{\"height\":\"500px\",\"width\":\"100%\"}},\"nodeType\":\"DOM\",\"type\":\"node\",\"instanceArgs\":{\"namespace\":\"html\",\"tag\":\"div\"},\"children\":[]}]}]},\n",
       "            window,\n",
       "        );\n",
       "    } else {\n",
       "        document\n",
       "            .querySelector('[data-webio-mountpoint=\"8552405052885930280\"]')\n",
       "            .innerHTML = (\n",
       "                '<div style=\"padding: 1em; background-color: #f8d6da; border: 1px solid #f5c6cb\">' +\n",
       "                '<p><strong>WebIO not detected.</strong></p>' +\n",
       "                '<p>Please read ' +\n",
       "                '<a href=\"https://juliagizmos.github.io/WebIO.jl/latest/troubleshooting/not-detected/\" target=\"_blank\">the troubleshooting guide</a> ' +\n",
       "                'for more information on how to resolve this issue.</p>' +\n",
       "                '<p><a href=\"https://juliagizmos.github.io/WebIO.jl/latest/troubleshooting/not-detected/\" target=\"_blank\">https://juliagizmos.github.io/WebIO.jl/latest/troubleshooting/not-detected/</a></p>' +\n",
       "                '</div>'\n",
       "            );\n",
       "    }\n",
       "    </script>\n",
       "</div>\n"
      ],
      "text/plain": [
       "WebIO.Scope(WebIO.Node{WebIO.DOM}(WebIO.DOM(:html, :div), Any[WebIO.Node{WebIO.DOM}(WebIO.DOM(:html, :div), Any[\"\"], Dict{Symbol,Any}(:style => Dict(\"height\" => \"0\",\"padding\" => \"0\",\"background-color\" => \"#F5F7F7\",\"color\" => \"#1c1f20\",\"font-family\" => \"-apple-system, BlinkMacSystemFont, \\\"Segoe UI\\\", Roboto, Oxygen-Sans, Ubuntu, Cantarell, \\\"Helvetica Neue\\\", sans-serif\"))), WebIO.Node{WebIO.DOM}(WebIO.DOM(:html, :div), Any[], Dict{Symbol,Any}(:id => \"grid-a820fd54\",:className => \"ag-theme-balham\",:style => Dict(\"height\" => \"500px\",\"width\" => \"100%\")))], Dict{Symbol,Any}()), Dict{String,Tuple{Observables.AbstractObservable,Union{Nothing, Bool}}}(\"onCellKeyDown\" => (Observable{Any} with 0 listeners. Value:\n",
       "nothing, nothing),\"onRowClicked\" => (Observable{Any} with 0 listeners. Value:\n",
       "nothing, nothing),\"onCellDoubleClicked\" => (Observable{Any} with 0 listeners. Value:\n",
       "nothing, nothing),\"requestedrows\" => (Observable{JSON.Writer.JSONText} with 1 listeners. Value:\n",
       "JSON.Writer.JSONText(\"{}\"), nothing),\"onCellClicked\" => (Observable{Any} with 0 listeners. Value:\n",
       "nothing, nothing),\"onCellFocused\" => (Observable{Any} with 0 listeners. Value:\n",
       "nothing, nothing),\"rowparams\" => (Observable{Dict{String,Any}} with 1 listeners. Value:\n",
       "Dict{String,Any}(\"successCallback\" => WebIO.JSString(\"(function (v){return null})\"),\"startRow\" => 1,\"endRow\" => 100), nothing)), Set(String[]), nothing, WebIO.Asset[WebIO.Asset(\"js\", nothing, \"/Users/cdaniels/.julia/packages/TableView/CxWLO/src/rowNumberRenderer.js\"), WebIO.Asset(\"js\", nothing, \"/Users/cdaniels/.julia/packages/TableView/CxWLO/deps/ag-grid-22.1.0/ag-grid.js\"), WebIO.Asset(\"css\", nothing, \"/Users/cdaniels/.julia/packages/TableView/CxWLO/deps/ag-grid-22.1.0/ag-grid.css\"), WebIO.Asset(\"css\", nothing, \"/Users/cdaniels/.julia/packages/TableView/CxWLO/deps/ag-grid-22.1.0/ag-grid-light.css\"), WebIO.Asset(\"css\", nothing, \"/Users/cdaniels/.julia/packages/TableView/CxWLO/deps/ag-grid-22.1.0/ag-grid-dark.css\")], Dict{Any,Any}(\"requestedrows\" => Any[WebIO.JSString(\"(function (val){return WebIO.getval({\\\"name\\\":\\\"rowparams\\\",\\\"scope\\\":\\\"16506897654812326389\\\",\\\"id\\\":\\\"ob_258\\\",\\\"type\\\":\\\"observable\\\"}).successCallback(val,null)})\")]), WebIO.ConnectionPool(Channel{Any}(sz_max:32,sz_curr:0), Set(WebIO.AbstractConnection[]), Base.GenericCondition{Base.AlwaysLockedST}(Base.InvasiveLinkedList{Task}(Task (runnable) @0x000000012017f190, Task (runnable) @0x000000012017f190), Base.AlwaysLockedST(1))), WebIO.JSString[WebIO.JSString(\"function () {\\n    var handler = ((function (RowNumberRenderer,agGrid){var gridOptions={\\\"onCellFocused\\\":(function (ev){var x={}; (ev.rowIndex!==undefined) ? (x[\\\"rowIndex\\\"]=(ev.rowIndex+1)) : undefined; (ev.colDef!==undefined) ? (x[\\\"column\\\"]=ev.colDef.headerName) : undefined; return WebIO.setval({\\\"name\\\":\\\"onCellFocused\\\",\\\"scope\\\":\\\"16506897654812326389\\\",\\\"id\\\":\\\"ob_256\\\",\\\"type\\\":\\\"observable\\\"},x)}),\\\"onCellValueChanged\\\":(function (){return }),\\\"rowModelType\\\":\\\"infinite\\\",\\\"onRowClicked\\\":(function (ev){var x={}; (ev.rowIndex!==undefined) ? (x[\\\"rowIndex\\\"]=(ev.rowIndex+1)) : undefined; (ev.colDef!==undefined) ? (x[\\\"column\\\"]=ev.colDef.headerName) : undefined; return WebIO.setval({\\\"name\\\":\\\"onRowClicked\\\",\\\"scope\\\":\\\"16506897654812326389\\\",\\\"id\\\":\\\"ob_255\\\",\\\"type\\\":\\\"observable\\\"},x)}),\\\"maxConcurrentDatasourceRequests\\\":1,\\\"columnDefs\\\":[{\\\"filter\\\":false,\\\"editable\\\":false,\\\"headerTooltip\\\":\\\"\\\",\\\"field\\\":\\\"__row__\\\",\\\"headerName\\\":\\\"Row\\\",\\\"sortable\\\":false,\\\"type\\\":\\\"numericColumn\\\",\\\"cellRenderer\\\":\\\"rowNumberRenderer\\\",\\\"resizable\\\":true},{\\\"filter\\\":false,\\\"editable\\\":false,\\\"headerTooltip\\\":\\\"String\\\",\\\"field\\\":\\\"state\\\",\\\"headerName\\\":\\\"state\\\",\\\"sortable\\\":false,\\\"type\\\":null,\\\"resizable\\\":true},{\\\"filter\\\":false,\\\"editable\\\":false,\\\"headerTooltip\\\":\\\"String\\\",\\\"field\\\":\\\"county\\\",\\\"headerName\\\":\\\"county\\\",\\\"sortable\\\":false,\\\"type\\\":null,\\\"resizable\\\":true},{\\\"filter\\\":false,\\\"editable\\\":false,\\\"headerTooltip\\\":\\\"Int64\\\",\\\"field\\\":\\\"population\\\",\\\"headerName\\\":\\\"population\\\",\\\"sortable\\\":false,\\\"type\\\":\\\"numericColumn\\\",\\\"resizable\\\":true},{\\\"filter\\\":false,\\\"editable\\\":false,\\\"headerTooltip\\\":\\\"Int64\\\",\\\"field\\\":\\\"cases\\\",\\\"headerName\\\":\\\"cases\\\",\\\"sortable\\\":false,\\\"type\\\":\\\"numericColumn\\\",\\\"resizable\\\":true},{\\\"filter\\\":false,\\\"editable\\\":false,\\\"headerTooltip\\\":\\\"Float64\\\",\\\"field\\\":\\\"casesIncreaseMA\\\",\\\"headerName\\\":\\\"casesIncreaseMA\\\",\\\"sortable\\\":false,\\\"type\\\":\\\"numericColumn\\\",\\\"resizable\\\":true},{\\\"filter\\\":false,\\\"editable\\\":false,\\\"headerTooltip\\\":\\\"Float64\\\",\\\"field\\\":\\\"casesInc100k\\\",\\\"headerName\\\":\\\"casesInc100k\\\",\\\"sortable\\\":false,\\\"type\\\":\\\"numericColumn\\\",\\\"resizable\\\":true},{\\\"filter\\\":false,\\\"editable\\\":false,\\\"headerTooltip\\\":\\\"Float64\\\",\\\"field\\\":\\\"pch_casesIncreaseMA\\\",\\\"headerName\\\":\\\"pch_casesIncreaseMA\\\",\\\"sortable\\\":false,\\\"type\\\":\\\"numericColumn\\\",\\\"resizable\\\":true}],\\\"cacheBlockSize\\\":1000,\\\"datasource\\\":{\\\"rowCount\\\":null,\\\"getRows\\\":(function (rowParams){return WebIO.setval({\\\"name\\\":\\\"rowparams\\\",\\\"scope\\\":\\\"16506897654812326389\\\",\\\"id\\\":\\\"ob_258\\\",\\\"type\\\":\\\"observable\\\"},rowParams)})},\\\"multiSortKey\\\":\\\"ctrl\\\",\\\"maxBlocksInCache\\\":100,\\\"onCellDoubleClicked\\\":(function (ev){var x={}; (ev.rowIndex!==undefined) ? (x[\\\"rowIndex\\\"]=(ev.rowIndex+1)) : undefined; (ev.colDef!==undefined) ? (x[\\\"column\\\"]=ev.colDef.headerName) : undefined; return WebIO.setval({\\\"name\\\":\\\"onCellDoubleClicked\\\",\\\"scope\\\":\\\"16506897654812326389\\\",\\\"id\\\":\\\"ob_254\\\",\\\"type\\\":\\\"observable\\\"},x)}),\\\"onCellKeyDown\\\":(function (ev){var x={}; (ev.rowIndex!==undefined) ? (x[\\\"rowIndex\\\"]=(ev.rowIndex+1)) : undefined; (ev.colDef!==undefined) ? (x[\\\"column\\\"]=ev.colDef.headerName) : undefined; return WebIO.setval({\\\"name\\\":\\\"onCellKeyDown\\\",\\\"scope\\\":\\\"16506897654812326389\\\",\\\"id\\\":\\\"ob_257\\\",\\\"type\\\":\\\"observable\\\"},x)}),\\\"onCellClicked\\\":(function (ev){var x={}; (ev.rowIndex!==undefined) ? (x[\\\"rowIndex\\\"]=(ev.rowIndex+1)) : undefined; (ev.colDef!==undefined) ? (x[\\\"column\\\"]=ev.colDef.headerName) : undefined; return WebIO.setval({\\\"name\\\":\\\"onCellClicked\\\",\\\"scope\\\":\\\"16506897654812326389\\\",\\\"id\\\":\\\"ob_253\\\",\\\"type\\\":\\\"observable\\\"},x)})}; var el=document.getElementById(\\\"grid-a820fd54\\\"); gridOptions.components={\\\"rowNumberRenderer\\\":RowNumberRenderer}; this.table=new agGrid.Grid(el,gridOptions); gridOptions.columnApi.autoSizeColumn(\\\"__row__\\\"); return gridOptions.columnApi.autoSizeColumns([\\\"state\\\",\\\"county\\\",\\\"population\\\",\\\"cases\\\",\\\"casesIncreaseMA\\\",\\\"casesInc100k\\\",\\\"pch_casesIncreaseMA\\\"])}));\\n    (WebIO.importBlock({\\\"data\\\":[{\\\"name\\\":null,\\\"type\\\":\\\"js\\\",\\\"url\\\":\\\"/assetserver/8a878f8aac4fcc3aa0fe3544f3b6004cfb87e28d-rowNumberRenderer.js\\\"},{\\\"name\\\":null,\\\"type\\\":\\\"js\\\",\\\"url\\\":\\\"/assetserver/49affd7ae36d0aac75380aa149861ff1594bff9c-ag-grid.js\\\"},{\\\"name\\\":null,\\\"type\\\":\\\"css\\\",\\\"url\\\":\\\"/assetserver/44eec805f61ccdf030080bfd1a559f03509a0021-ag-grid.css\\\"},{\\\"name\\\":null,\\\"type\\\":\\\"css\\\",\\\"url\\\":\\\"/assetserver/e4213c8e832c90aaafe2b3164c0bbb5b67c7a305-ag-grid-light.css\\\"},{\\\"name\\\":null,\\\"type\\\":\\\"css\\\",\\\"url\\\":\\\"/assetserver/b082734171f365ccefe5d7b6015f8162af17e3a6-ag-grid-dark.css\\\"}],\\\"type\\\":\\\"async_block\\\"})).then((imports) => handler.apply(this, imports));\\n}\\n\")])"
      ]
     },
     "execution_count": 70,
     "metadata": {
      "application/vnd.webio.node+json": {
       "kernelId": "3229260e-45e1-405c-811b-0c4817f5e87c"
      }
     },
     "output_type": "execute_result"
    }
   ],
   "source": [
    "@tbl sort(filter(r->!ismissing(r.casesInc100k)&& !isnan(r.casesInc100k),dfcp),[:pch_casesIncreaseMA],rev=true)"
   ]
  },
  {
   "cell_type": "markdown",
   "metadata": {},
   "source": [
    "#### Highest Number of New Daily Cases per County by Population"
   ]
  },
  {
   "cell_type": "code",
   "execution_count": 71,
   "metadata": {},
   "outputs": [
    {
     "data": {
      "application/vnd.webio.node+json": {
       "children": [
        {
         "children": [
          {
           "children": [
            ""
           ],
           "instanceArgs": {
            "namespace": "html",
            "tag": "div"
           },
           "nodeType": "DOM",
           "props": {
            "style": {
             "background-color": "#F5F7F7",
             "color": "#1c1f20",
             "font-family": "-apple-system, BlinkMacSystemFont, \"Segoe UI\", Roboto, Oxygen-Sans, Ubuntu, Cantarell, \"Helvetica Neue\", sans-serif",
             "height": "0",
             "padding": "0"
            }
           },
           "type": "node"
          },
          {
           "children": [],
           "instanceArgs": {
            "namespace": "html",
            "tag": "div"
           },
           "nodeType": "DOM",
           "props": {
            "className": "ag-theme-balham",
            "id": "grid-a8fc4f1c",
            "style": {
             "height": "500px",
             "width": "100%"
            }
           },
           "type": "node"
          }
         ],
         "instanceArgs": {
          "namespace": "html",
          "tag": "div"
         },
         "nodeType": "DOM",
         "props": {},
         "type": "node"
        }
       ],
       "instanceArgs": {
        "handlers": {
         "requestedrows": [
          "(function (val){return WebIO.getval({\"name\":\"rowparams\",\"scope\":\"15422633263189783641\",\"id\":\"ob_265\",\"type\":\"observable\"}).successCallback(val,null)})"
         ]
        },
        "id": "15422633263189783641",
        "imports": {
         "data": [
          {
           "name": null,
           "type": "js",
           "url": "/assetserver/8a878f8aac4fcc3aa0fe3544f3b6004cfb87e28d-rowNumberRenderer.js"
          },
          {
           "name": null,
           "type": "js",
           "url": "/assetserver/49affd7ae36d0aac75380aa149861ff1594bff9c-ag-grid.js"
          },
          {
           "name": null,
           "type": "css",
           "url": "/assetserver/44eec805f61ccdf030080bfd1a559f03509a0021-ag-grid.css"
          },
          {
           "name": null,
           "type": "css",
           "url": "/assetserver/e4213c8e832c90aaafe2b3164c0bbb5b67c7a305-ag-grid-light.css"
          },
          {
           "name": null,
           "type": "css",
           "url": "/assetserver/b082734171f365ccefe5d7b6015f8162af17e3a6-ag-grid-dark.css"
          }
         ],
         "type": "async_block"
        },
        "mount_callbacks": [
         "function () {\n    var handler = ((function (RowNumberRenderer,agGrid){var gridOptions={\"onCellFocused\":(function (ev){var x={}; (ev.rowIndex!==undefined) ? (x[\"rowIndex\"]=(ev.rowIndex+1)) : undefined; (ev.colDef!==undefined) ? (x[\"column\"]=ev.colDef.headerName) : undefined; return WebIO.setval({\"name\":\"onCellFocused\",\"scope\":\"15422633263189783641\",\"id\":\"ob_263\",\"type\":\"observable\"},x)}),\"onCellValueChanged\":(function (){return }),\"rowModelType\":\"infinite\",\"onRowClicked\":(function (ev){var x={}; (ev.rowIndex!==undefined) ? (x[\"rowIndex\"]=(ev.rowIndex+1)) : undefined; (ev.colDef!==undefined) ? (x[\"column\"]=ev.colDef.headerName) : undefined; return WebIO.setval({\"name\":\"onRowClicked\",\"scope\":\"15422633263189783641\",\"id\":\"ob_262\",\"type\":\"observable\"},x)}),\"maxConcurrentDatasourceRequests\":1,\"columnDefs\":[{\"filter\":false,\"editable\":false,\"headerTooltip\":\"\",\"field\":\"__row__\",\"headerName\":\"Row\",\"sortable\":false,\"type\":\"numericColumn\",\"cellRenderer\":\"rowNumberRenderer\",\"resizable\":true},{\"filter\":false,\"editable\":false,\"headerTooltip\":\"String\",\"field\":\"state\",\"headerName\":\"state\",\"sortable\":false,\"type\":null,\"resizable\":true},{\"filter\":false,\"editable\":false,\"headerTooltip\":\"String\",\"field\":\"county\",\"headerName\":\"county\",\"sortable\":false,\"type\":null,\"resizable\":true},{\"filter\":false,\"editable\":false,\"headerTooltip\":\"Int64\",\"field\":\"population\",\"headerName\":\"population\",\"sortable\":false,\"type\":\"numericColumn\",\"resizable\":true},{\"filter\":false,\"editable\":false,\"headerTooltip\":\"Int64\",\"field\":\"cases\",\"headerName\":\"cases\",\"sortable\":false,\"type\":\"numericColumn\",\"resizable\":true},{\"filter\":false,\"editable\":false,\"headerTooltip\":\"Float64\",\"field\":\"casesIncreaseMA\",\"headerName\":\"casesIncreaseMA\",\"sortable\":false,\"type\":\"numericColumn\",\"resizable\":true},{\"filter\":false,\"editable\":false,\"headerTooltip\":\"Float64\",\"field\":\"casesInc100k\",\"headerName\":\"casesInc100k\",\"sortable\":false,\"type\":\"numericColumn\",\"resizable\":true},{\"filter\":false,\"editable\":false,\"headerTooltip\":\"Float64\",\"field\":\"pch_casesIncreaseMA\",\"headerName\":\"pch_casesIncreaseMA\",\"sortable\":false,\"type\":\"numericColumn\",\"resizable\":true}],\"cacheBlockSize\":1000,\"datasource\":{\"rowCount\":null,\"getRows\":(function (rowParams){return WebIO.setval({\"name\":\"rowparams\",\"scope\":\"15422633263189783641\",\"id\":\"ob_265\",\"type\":\"observable\"},rowParams)})},\"multiSortKey\":\"ctrl\",\"maxBlocksInCache\":100,\"onCellDoubleClicked\":(function (ev){var x={}; (ev.rowIndex!==undefined) ? (x[\"rowIndex\"]=(ev.rowIndex+1)) : undefined; (ev.colDef!==undefined) ? (x[\"column\"]=ev.colDef.headerName) : undefined; return WebIO.setval({\"name\":\"onCellDoubleClicked\",\"scope\":\"15422633263189783641\",\"id\":\"ob_261\",\"type\":\"observable\"},x)}),\"onCellKeyDown\":(function (ev){var x={}; (ev.rowIndex!==undefined) ? (x[\"rowIndex\"]=(ev.rowIndex+1)) : undefined; (ev.colDef!==undefined) ? (x[\"column\"]=ev.colDef.headerName) : undefined; return WebIO.setval({\"name\":\"onCellKeyDown\",\"scope\":\"15422633263189783641\",\"id\":\"ob_264\",\"type\":\"observable\"},x)}),\"onCellClicked\":(function (ev){var x={}; (ev.rowIndex!==undefined) ? (x[\"rowIndex\"]=(ev.rowIndex+1)) : undefined; (ev.colDef!==undefined) ? (x[\"column\"]=ev.colDef.headerName) : undefined; return WebIO.setval({\"name\":\"onCellClicked\",\"scope\":\"15422633263189783641\",\"id\":\"ob_260\",\"type\":\"observable\"},x)})}; var el=document.getElementById(\"grid-a8fc4f1c\"); gridOptions.components={\"rowNumberRenderer\":RowNumberRenderer}; this.table=new agGrid.Grid(el,gridOptions); gridOptions.columnApi.autoSizeColumn(\"__row__\"); return gridOptions.columnApi.autoSizeColumns([\"state\",\"county\",\"population\",\"cases\",\"casesIncreaseMA\",\"casesInc100k\",\"pch_casesIncreaseMA\"])}));\n    (WebIO.importBlock({\"data\":[{\"name\":null,\"type\":\"js\",\"url\":\"/assetserver/8a878f8aac4fcc3aa0fe3544f3b6004cfb87e28d-rowNumberRenderer.js\"},{\"name\":null,\"type\":\"js\",\"url\":\"/assetserver/49affd7ae36d0aac75380aa149861ff1594bff9c-ag-grid.js\"},{\"name\":null,\"type\":\"css\",\"url\":\"/assetserver/44eec805f61ccdf030080bfd1a559f03509a0021-ag-grid.css\"},{\"name\":null,\"type\":\"css\",\"url\":\"/assetserver/e4213c8e832c90aaafe2b3164c0bbb5b67c7a305-ag-grid-light.css\"},{\"name\":null,\"type\":\"css\",\"url\":\"/assetserver/b082734171f365ccefe5d7b6015f8162af17e3a6-ag-grid-dark.css\"}],\"type\":\"async_block\"})).then((imports) => handler.apply(this, imports));\n}\n"
        ],
        "observables": {
         "onCellClicked": {
          "id": "ob_260",
          "sync": false,
          "value": null
         },
         "onCellDoubleClicked": {
          "id": "ob_261",
          "sync": false,
          "value": null
         },
         "onCellFocused": {
          "id": "ob_263",
          "sync": false,
          "value": null
         },
         "onCellKeyDown": {
          "id": "ob_264",
          "sync": false,
          "value": null
         },
         "onRowClicked": {
          "id": "ob_262",
          "sync": false,
          "value": null
         },
         "requestedrows": {
          "id": "ob_266",
          "sync": false,
          "value": {}
         },
         "rowparams": {
          "id": "ob_265",
          "sync": true,
          "value": {
           "endRow": 100,
           "startRow": 1,
           "successCallback": "(function (v){return null})"
          }
         }
        },
        "systemjs_options": null
       },
       "nodeType": "Scope",
       "props": {},
       "type": "node"
      },
      "text/html": [
       "<div\n",
       "    class=\"webio-mountpoint\"\n",
       "    data-webio-mountpoint=\"14254294852959360336\"\n",
       ">\n",
       "    <script>\n",
       "    if (window.require && require.defined && require.defined(\"nbextensions/webio-jupyter-notebook\")) {\n",
       "        console.log(\"Jupyter WebIO extension detected, not mounting.\");\n",
       "    } else if (window.WebIO) {\n",
       "        WebIO.mount(\n",
       "            document.querySelector('[data-webio-mountpoint=\"14254294852959360336\"]'),\n",
       "            {\"props\":{},\"nodeType\":\"Scope\",\"type\":\"node\",\"instanceArgs\":{\"imports\":{\"data\":[{\"name\":null,\"type\":\"js\",\"url\":\"\\/assetserver\\/8a878f8aac4fcc3aa0fe3544f3b6004cfb87e28d-rowNumberRenderer.js\"},{\"name\":null,\"type\":\"js\",\"url\":\"\\/assetserver\\/49affd7ae36d0aac75380aa149861ff1594bff9c-ag-grid.js\"},{\"name\":null,\"type\":\"css\",\"url\":\"\\/assetserver\\/44eec805f61ccdf030080bfd1a559f03509a0021-ag-grid.css\"},{\"name\":null,\"type\":\"css\",\"url\":\"\\/assetserver\\/e4213c8e832c90aaafe2b3164c0bbb5b67c7a305-ag-grid-light.css\"},{\"name\":null,\"type\":\"css\",\"url\":\"\\/assetserver\\/b082734171f365ccefe5d7b6015f8162af17e3a6-ag-grid-dark.css\"}],\"type\":\"async_block\"},\"id\":\"15422633263189783641\",\"handlers\":{\"requestedrows\":[\"(function (val){return WebIO.getval({\\\"name\\\":\\\"rowparams\\\",\\\"scope\\\":\\\"15422633263189783641\\\",\\\"id\\\":\\\"ob_265\\\",\\\"type\\\":\\\"observable\\\"}).successCallback(val,null)})\"]},\"systemjs_options\":null,\"mount_callbacks\":[\"function () {\\n    var handler = ((function (RowNumberRenderer,agGrid){var gridOptions={\\\"onCellFocused\\\":(function (ev){var x={}; (ev.rowIndex!==undefined) ? (x[\\\"rowIndex\\\"]=(ev.rowIndex+1)) : undefined; (ev.colDef!==undefined) ? (x[\\\"column\\\"]=ev.colDef.headerName) : undefined; return WebIO.setval({\\\"name\\\":\\\"onCellFocused\\\",\\\"scope\\\":\\\"15422633263189783641\\\",\\\"id\\\":\\\"ob_263\\\",\\\"type\\\":\\\"observable\\\"},x)}),\\\"onCellValueChanged\\\":(function (){return }),\\\"rowModelType\\\":\\\"infinite\\\",\\\"onRowClicked\\\":(function (ev){var x={}; (ev.rowIndex!==undefined) ? (x[\\\"rowIndex\\\"]=(ev.rowIndex+1)) : undefined; (ev.colDef!==undefined) ? (x[\\\"column\\\"]=ev.colDef.headerName) : undefined; return WebIO.setval({\\\"name\\\":\\\"onRowClicked\\\",\\\"scope\\\":\\\"15422633263189783641\\\",\\\"id\\\":\\\"ob_262\\\",\\\"type\\\":\\\"observable\\\"},x)}),\\\"maxConcurrentDatasourceRequests\\\":1,\\\"columnDefs\\\":[{\\\"filter\\\":false,\\\"editable\\\":false,\\\"headerTooltip\\\":\\\"\\\",\\\"field\\\":\\\"__row__\\\",\\\"headerName\\\":\\\"Row\\\",\\\"sortable\\\":false,\\\"type\\\":\\\"numericColumn\\\",\\\"cellRenderer\\\":\\\"rowNumberRenderer\\\",\\\"resizable\\\":true},{\\\"filter\\\":false,\\\"editable\\\":false,\\\"headerTooltip\\\":\\\"String\\\",\\\"field\\\":\\\"state\\\",\\\"headerName\\\":\\\"state\\\",\\\"sortable\\\":false,\\\"type\\\":null,\\\"resizable\\\":true},{\\\"filter\\\":false,\\\"editable\\\":false,\\\"headerTooltip\\\":\\\"String\\\",\\\"field\\\":\\\"county\\\",\\\"headerName\\\":\\\"county\\\",\\\"sortable\\\":false,\\\"type\\\":null,\\\"resizable\\\":true},{\\\"filter\\\":false,\\\"editable\\\":false,\\\"headerTooltip\\\":\\\"Int64\\\",\\\"field\\\":\\\"population\\\",\\\"headerName\\\":\\\"population\\\",\\\"sortable\\\":false,\\\"type\\\":\\\"numericColumn\\\",\\\"resizable\\\":true},{\\\"filter\\\":false,\\\"editable\\\":false,\\\"headerTooltip\\\":\\\"Int64\\\",\\\"field\\\":\\\"cases\\\",\\\"headerName\\\":\\\"cases\\\",\\\"sortable\\\":false,\\\"type\\\":\\\"numericColumn\\\",\\\"resizable\\\":true},{\\\"filter\\\":false,\\\"editable\\\":false,\\\"headerTooltip\\\":\\\"Float64\\\",\\\"field\\\":\\\"casesIncreaseMA\\\",\\\"headerName\\\":\\\"casesIncreaseMA\\\",\\\"sortable\\\":false,\\\"type\\\":\\\"numericColumn\\\",\\\"resizable\\\":true},{\\\"filter\\\":false,\\\"editable\\\":false,\\\"headerTooltip\\\":\\\"Float64\\\",\\\"field\\\":\\\"casesInc100k\\\",\\\"headerName\\\":\\\"casesInc100k\\\",\\\"sortable\\\":false,\\\"type\\\":\\\"numericColumn\\\",\\\"resizable\\\":true},{\\\"filter\\\":false,\\\"editable\\\":false,\\\"headerTooltip\\\":\\\"Float64\\\",\\\"field\\\":\\\"pch_casesIncreaseMA\\\",\\\"headerName\\\":\\\"pch_casesIncreaseMA\\\",\\\"sortable\\\":false,\\\"type\\\":\\\"numericColumn\\\",\\\"resizable\\\":true}],\\\"cacheBlockSize\\\":1000,\\\"datasource\\\":{\\\"rowCount\\\":null,\\\"getRows\\\":(function (rowParams){return WebIO.setval({\\\"name\\\":\\\"rowparams\\\",\\\"scope\\\":\\\"15422633263189783641\\\",\\\"id\\\":\\\"ob_265\\\",\\\"type\\\":\\\"observable\\\"},rowParams)})},\\\"multiSortKey\\\":\\\"ctrl\\\",\\\"maxBlocksInCache\\\":100,\\\"onCellDoubleClicked\\\":(function (ev){var x={}; (ev.rowIndex!==undefined) ? (x[\\\"rowIndex\\\"]=(ev.rowIndex+1)) : undefined; (ev.colDef!==undefined) ? (x[\\\"column\\\"]=ev.colDef.headerName) : undefined; return WebIO.setval({\\\"name\\\":\\\"onCellDoubleClicked\\\",\\\"scope\\\":\\\"15422633263189783641\\\",\\\"id\\\":\\\"ob_261\\\",\\\"type\\\":\\\"observable\\\"},x)}),\\\"onCellKeyDown\\\":(function (ev){var x={}; (ev.rowIndex!==undefined) ? (x[\\\"rowIndex\\\"]=(ev.rowIndex+1)) : undefined; (ev.colDef!==undefined) ? (x[\\\"column\\\"]=ev.colDef.headerName) : undefined; return WebIO.setval({\\\"name\\\":\\\"onCellKeyDown\\\",\\\"scope\\\":\\\"15422633263189783641\\\",\\\"id\\\":\\\"ob_264\\\",\\\"type\\\":\\\"observable\\\"},x)}),\\\"onCellClicked\\\":(function (ev){var x={}; (ev.rowIndex!==undefined) ? (x[\\\"rowIndex\\\"]=(ev.rowIndex+1)) : undefined; (ev.colDef!==undefined) ? (x[\\\"column\\\"]=ev.colDef.headerName) : undefined; return WebIO.setval({\\\"name\\\":\\\"onCellClicked\\\",\\\"scope\\\":\\\"15422633263189783641\\\",\\\"id\\\":\\\"ob_260\\\",\\\"type\\\":\\\"observable\\\"},x)})}; var el=document.getElementById(\\\"grid-a8fc4f1c\\\"); gridOptions.components={\\\"rowNumberRenderer\\\":RowNumberRenderer}; this.table=new agGrid.Grid(el,gridOptions); gridOptions.columnApi.autoSizeColumn(\\\"__row__\\\"); return gridOptions.columnApi.autoSizeColumns([\\\"state\\\",\\\"county\\\",\\\"population\\\",\\\"cases\\\",\\\"casesIncreaseMA\\\",\\\"casesInc100k\\\",\\\"pch_casesIncreaseMA\\\"])}));\\n    (WebIO.importBlock({\\\"data\\\":[{\\\"name\\\":null,\\\"type\\\":\\\"js\\\",\\\"url\\\":\\\"\\/assetserver\\/8a878f8aac4fcc3aa0fe3544f3b6004cfb87e28d-rowNumberRenderer.js\\\"},{\\\"name\\\":null,\\\"type\\\":\\\"js\\\",\\\"url\\\":\\\"\\/assetserver\\/49affd7ae36d0aac75380aa149861ff1594bff9c-ag-grid.js\\\"},{\\\"name\\\":null,\\\"type\\\":\\\"css\\\",\\\"url\\\":\\\"\\/assetserver\\/44eec805f61ccdf030080bfd1a559f03509a0021-ag-grid.css\\\"},{\\\"name\\\":null,\\\"type\\\":\\\"css\\\",\\\"url\\\":\\\"\\/assetserver\\/e4213c8e832c90aaafe2b3164c0bbb5b67c7a305-ag-grid-light.css\\\"},{\\\"name\\\":null,\\\"type\\\":\\\"css\\\",\\\"url\\\":\\\"\\/assetserver\\/b082734171f365ccefe5d7b6015f8162af17e3a6-ag-grid-dark.css\\\"}],\\\"type\\\":\\\"async_block\\\"})).then((imports) => handler.apply(this, imports));\\n}\\n\"],\"observables\":{\"onCellKeyDown\":{\"sync\":false,\"id\":\"ob_264\",\"value\":null},\"onRowClicked\":{\"sync\":false,\"id\":\"ob_262\",\"value\":null},\"onCellDoubleClicked\":{\"sync\":false,\"id\":\"ob_261\",\"value\":null},\"requestedrows\":{\"sync\":false,\"id\":\"ob_266\",\"value\":{}},\"onCellClicked\":{\"sync\":false,\"id\":\"ob_260\",\"value\":null},\"onCellFocused\":{\"sync\":false,\"id\":\"ob_263\",\"value\":null},\"rowparams\":{\"sync\":true,\"id\":\"ob_265\",\"value\":{\"successCallback\":\"(function (v){return null})\",\"startRow\":1,\"endRow\":100}}}},\"children\":[{\"props\":{},\"nodeType\":\"DOM\",\"type\":\"node\",\"instanceArgs\":{\"namespace\":\"html\",\"tag\":\"div\"},\"children\":[{\"props\":{\"style\":{\"height\":\"0\",\"padding\":\"0\",\"background-color\":\"#F5F7F7\",\"color\":\"#1c1f20\",\"font-family\":\"-apple-system, BlinkMacSystemFont, \\\"Segoe UI\\\", Roboto, Oxygen-Sans, Ubuntu, Cantarell, \\\"Helvetica Neue\\\", sans-serif\"}},\"nodeType\":\"DOM\",\"type\":\"node\",\"instanceArgs\":{\"namespace\":\"html\",\"tag\":\"div\"},\"children\":[\"\"]},{\"props\":{\"id\":\"grid-a8fc4f1c\",\"className\":\"ag-theme-balham\",\"style\":{\"height\":\"500px\",\"width\":\"100%\"}},\"nodeType\":\"DOM\",\"type\":\"node\",\"instanceArgs\":{\"namespace\":\"html\",\"tag\":\"div\"},\"children\":[]}]}]},\n",
       "            window,\n",
       "        );\n",
       "    } else {\n",
       "        document\n",
       "            .querySelector('[data-webio-mountpoint=\"14254294852959360336\"]')\n",
       "            .innerHTML = (\n",
       "                '<div style=\"padding: 1em; background-color: #f8d6da; border: 1px solid #f5c6cb\">' +\n",
       "                '<p><strong>WebIO not detected.</strong></p>' +\n",
       "                '<p>Please read ' +\n",
       "                '<a href=\"https://juliagizmos.github.io/WebIO.jl/latest/troubleshooting/not-detected/\" target=\"_blank\">the troubleshooting guide</a> ' +\n",
       "                'for more information on how to resolve this issue.</p>' +\n",
       "                '<p><a href=\"https://juliagizmos.github.io/WebIO.jl/latest/troubleshooting/not-detected/\" target=\"_blank\">https://juliagizmos.github.io/WebIO.jl/latest/troubleshooting/not-detected/</a></p>' +\n",
       "                '</div>'\n",
       "            );\n",
       "    }\n",
       "    </script>\n",
       "</div>\n"
      ],
      "text/plain": [
       "WebIO.Scope(WebIO.Node{WebIO.DOM}(WebIO.DOM(:html, :div), Any[WebIO.Node{WebIO.DOM}(WebIO.DOM(:html, :div), Any[\"\"], Dict{Symbol,Any}(:style => Dict(\"height\" => \"0\",\"padding\" => \"0\",\"background-color\" => \"#F5F7F7\",\"color\" => \"#1c1f20\",\"font-family\" => \"-apple-system, BlinkMacSystemFont, \\\"Segoe UI\\\", Roboto, Oxygen-Sans, Ubuntu, Cantarell, \\\"Helvetica Neue\\\", sans-serif\"))), WebIO.Node{WebIO.DOM}(WebIO.DOM(:html, :div), Any[], Dict{Symbol,Any}(:id => \"grid-a8fc4f1c\",:className => \"ag-theme-balham\",:style => Dict(\"height\" => \"500px\",\"width\" => \"100%\")))], Dict{Symbol,Any}()), Dict{String,Tuple{Observables.AbstractObservable,Union{Nothing, Bool}}}(\"onCellKeyDown\" => (Observable{Any} with 0 listeners. Value:\n",
       "nothing, nothing),\"onRowClicked\" => (Observable{Any} with 0 listeners. Value:\n",
       "nothing, nothing),\"onCellDoubleClicked\" => (Observable{Any} with 0 listeners. Value:\n",
       "nothing, nothing),\"requestedrows\" => (Observable{JSON.Writer.JSONText} with 1 listeners. Value:\n",
       "JSON.Writer.JSONText(\"{}\"), nothing),\"onCellClicked\" => (Observable{Any} with 0 listeners. Value:\n",
       "nothing, nothing),\"onCellFocused\" => (Observable{Any} with 0 listeners. Value:\n",
       "nothing, nothing),\"rowparams\" => (Observable{Dict{String,Any}} with 1 listeners. Value:\n",
       "Dict{String,Any}(\"successCallback\" => WebIO.JSString(\"(function (v){return null})\"),\"startRow\" => 1,\"endRow\" => 100), nothing)), Set(String[]), nothing, WebIO.Asset[WebIO.Asset(\"js\", nothing, \"/Users/cdaniels/.julia/packages/TableView/CxWLO/src/rowNumberRenderer.js\"), WebIO.Asset(\"js\", nothing, \"/Users/cdaniels/.julia/packages/TableView/CxWLO/deps/ag-grid-22.1.0/ag-grid.js\"), WebIO.Asset(\"css\", nothing, \"/Users/cdaniels/.julia/packages/TableView/CxWLO/deps/ag-grid-22.1.0/ag-grid.css\"), WebIO.Asset(\"css\", nothing, \"/Users/cdaniels/.julia/packages/TableView/CxWLO/deps/ag-grid-22.1.0/ag-grid-light.css\"), WebIO.Asset(\"css\", nothing, \"/Users/cdaniels/.julia/packages/TableView/CxWLO/deps/ag-grid-22.1.0/ag-grid-dark.css\")], Dict{Any,Any}(\"requestedrows\" => Any[WebIO.JSString(\"(function (val){return WebIO.getval({\\\"name\\\":\\\"rowparams\\\",\\\"scope\\\":\\\"15422633263189783641\\\",\\\"id\\\":\\\"ob_265\\\",\\\"type\\\":\\\"observable\\\"}).successCallback(val,null)})\")]), WebIO.ConnectionPool(Channel{Any}(sz_max:32,sz_curr:0), Set(WebIO.AbstractConnection[]), Base.GenericCondition{Base.AlwaysLockedST}(Base.InvasiveLinkedList{Task}(Task (runnable) @0x0000000120183850, Task (runnable) @0x0000000120183850), Base.AlwaysLockedST(1))), WebIO.JSString[WebIO.JSString(\"function () {\\n    var handler = ((function (RowNumberRenderer,agGrid){var gridOptions={\\\"onCellFocused\\\":(function (ev){var x={}; (ev.rowIndex!==undefined) ? (x[\\\"rowIndex\\\"]=(ev.rowIndex+1)) : undefined; (ev.colDef!==undefined) ? (x[\\\"column\\\"]=ev.colDef.headerName) : undefined; return WebIO.setval({\\\"name\\\":\\\"onCellFocused\\\",\\\"scope\\\":\\\"15422633263189783641\\\",\\\"id\\\":\\\"ob_263\\\",\\\"type\\\":\\\"observable\\\"},x)}),\\\"onCellValueChanged\\\":(function (){return }),\\\"rowModelType\\\":\\\"infinite\\\",\\\"onRowClicked\\\":(function (ev){var x={}; (ev.rowIndex!==undefined) ? (x[\\\"rowIndex\\\"]=(ev.rowIndex+1)) : undefined; (ev.colDef!==undefined) ? (x[\\\"column\\\"]=ev.colDef.headerName) : undefined; return WebIO.setval({\\\"name\\\":\\\"onRowClicked\\\",\\\"scope\\\":\\\"15422633263189783641\\\",\\\"id\\\":\\\"ob_262\\\",\\\"type\\\":\\\"observable\\\"},x)}),\\\"maxConcurrentDatasourceRequests\\\":1,\\\"columnDefs\\\":[{\\\"filter\\\":false,\\\"editable\\\":false,\\\"headerTooltip\\\":\\\"\\\",\\\"field\\\":\\\"__row__\\\",\\\"headerName\\\":\\\"Row\\\",\\\"sortable\\\":false,\\\"type\\\":\\\"numericColumn\\\",\\\"cellRenderer\\\":\\\"rowNumberRenderer\\\",\\\"resizable\\\":true},{\\\"filter\\\":false,\\\"editable\\\":false,\\\"headerTooltip\\\":\\\"String\\\",\\\"field\\\":\\\"state\\\",\\\"headerName\\\":\\\"state\\\",\\\"sortable\\\":false,\\\"type\\\":null,\\\"resizable\\\":true},{\\\"filter\\\":false,\\\"editable\\\":false,\\\"headerTooltip\\\":\\\"String\\\",\\\"field\\\":\\\"county\\\",\\\"headerName\\\":\\\"county\\\",\\\"sortable\\\":false,\\\"type\\\":null,\\\"resizable\\\":true},{\\\"filter\\\":false,\\\"editable\\\":false,\\\"headerTooltip\\\":\\\"Int64\\\",\\\"field\\\":\\\"population\\\",\\\"headerName\\\":\\\"population\\\",\\\"sortable\\\":false,\\\"type\\\":\\\"numericColumn\\\",\\\"resizable\\\":true},{\\\"filter\\\":false,\\\"editable\\\":false,\\\"headerTooltip\\\":\\\"Int64\\\",\\\"field\\\":\\\"cases\\\",\\\"headerName\\\":\\\"cases\\\",\\\"sortable\\\":false,\\\"type\\\":\\\"numericColumn\\\",\\\"resizable\\\":true},{\\\"filter\\\":false,\\\"editable\\\":false,\\\"headerTooltip\\\":\\\"Float64\\\",\\\"field\\\":\\\"casesIncreaseMA\\\",\\\"headerName\\\":\\\"casesIncreaseMA\\\",\\\"sortable\\\":false,\\\"type\\\":\\\"numericColumn\\\",\\\"resizable\\\":true},{\\\"filter\\\":false,\\\"editable\\\":false,\\\"headerTooltip\\\":\\\"Float64\\\",\\\"field\\\":\\\"casesInc100k\\\",\\\"headerName\\\":\\\"casesInc100k\\\",\\\"sortable\\\":false,\\\"type\\\":\\\"numericColumn\\\",\\\"resizable\\\":true},{\\\"filter\\\":false,\\\"editable\\\":false,\\\"headerTooltip\\\":\\\"Float64\\\",\\\"field\\\":\\\"pch_casesIncreaseMA\\\",\\\"headerName\\\":\\\"pch_casesIncreaseMA\\\",\\\"sortable\\\":false,\\\"type\\\":\\\"numericColumn\\\",\\\"resizable\\\":true}],\\\"cacheBlockSize\\\":1000,\\\"datasource\\\":{\\\"rowCount\\\":null,\\\"getRows\\\":(function (rowParams){return WebIO.setval({\\\"name\\\":\\\"rowparams\\\",\\\"scope\\\":\\\"15422633263189783641\\\",\\\"id\\\":\\\"ob_265\\\",\\\"type\\\":\\\"observable\\\"},rowParams)})},\\\"multiSortKey\\\":\\\"ctrl\\\",\\\"maxBlocksInCache\\\":100,\\\"onCellDoubleClicked\\\":(function (ev){var x={}; (ev.rowIndex!==undefined) ? (x[\\\"rowIndex\\\"]=(ev.rowIndex+1)) : undefined; (ev.colDef!==undefined) ? (x[\\\"column\\\"]=ev.colDef.headerName) : undefined; return WebIO.setval({\\\"name\\\":\\\"onCellDoubleClicked\\\",\\\"scope\\\":\\\"15422633263189783641\\\",\\\"id\\\":\\\"ob_261\\\",\\\"type\\\":\\\"observable\\\"},x)}),\\\"onCellKeyDown\\\":(function (ev){var x={}; (ev.rowIndex!==undefined) ? (x[\\\"rowIndex\\\"]=(ev.rowIndex+1)) : undefined; (ev.colDef!==undefined) ? (x[\\\"column\\\"]=ev.colDef.headerName) : undefined; return WebIO.setval({\\\"name\\\":\\\"onCellKeyDown\\\",\\\"scope\\\":\\\"15422633263189783641\\\",\\\"id\\\":\\\"ob_264\\\",\\\"type\\\":\\\"observable\\\"},x)}),\\\"onCellClicked\\\":(function (ev){var x={}; (ev.rowIndex!==undefined) ? (x[\\\"rowIndex\\\"]=(ev.rowIndex+1)) : undefined; (ev.colDef!==undefined) ? (x[\\\"column\\\"]=ev.colDef.headerName) : undefined; return WebIO.setval({\\\"name\\\":\\\"onCellClicked\\\",\\\"scope\\\":\\\"15422633263189783641\\\",\\\"id\\\":\\\"ob_260\\\",\\\"type\\\":\\\"observable\\\"},x)})}; var el=document.getElementById(\\\"grid-a8fc4f1c\\\"); gridOptions.components={\\\"rowNumberRenderer\\\":RowNumberRenderer}; this.table=new agGrid.Grid(el,gridOptions); gridOptions.columnApi.autoSizeColumn(\\\"__row__\\\"); return gridOptions.columnApi.autoSizeColumns([\\\"state\\\",\\\"county\\\",\\\"population\\\",\\\"cases\\\",\\\"casesIncreaseMA\\\",\\\"casesInc100k\\\",\\\"pch_casesIncreaseMA\\\"])}));\\n    (WebIO.importBlock({\\\"data\\\":[{\\\"name\\\":null,\\\"type\\\":\\\"js\\\",\\\"url\\\":\\\"/assetserver/8a878f8aac4fcc3aa0fe3544f3b6004cfb87e28d-rowNumberRenderer.js\\\"},{\\\"name\\\":null,\\\"type\\\":\\\"js\\\",\\\"url\\\":\\\"/assetserver/49affd7ae36d0aac75380aa149861ff1594bff9c-ag-grid.js\\\"},{\\\"name\\\":null,\\\"type\\\":\\\"css\\\",\\\"url\\\":\\\"/assetserver/44eec805f61ccdf030080bfd1a559f03509a0021-ag-grid.css\\\"},{\\\"name\\\":null,\\\"type\\\":\\\"css\\\",\\\"url\\\":\\\"/assetserver/e4213c8e832c90aaafe2b3164c0bbb5b67c7a305-ag-grid-light.css\\\"},{\\\"name\\\":null,\\\"type\\\":\\\"css\\\",\\\"url\\\":\\\"/assetserver/b082734171f365ccefe5d7b6015f8162af17e3a6-ag-grid-dark.css\\\"}],\\\"type\\\":\\\"async_block\\\"})).then((imports) => handler.apply(this, imports));\\n}\\n\")])"
      ]
     },
     "execution_count": 71,
     "metadata": {
      "application/vnd.webio.node+json": {
       "kernelId": "3229260e-45e1-405c-811b-0c4817f5e87c"
      }
     },
     "output_type": "execute_result"
    }
   ],
   "source": [
    "@tbl sort(filter(r->!ismissing(r.casesInc100k)&& !isnan(r.casesInc100k),dfcp),[:casesInc100k],rev=true)"
   ]
  },
  {
   "cell_type": "markdown",
   "metadata": {},
   "source": [
    "### Epidemiological Curves"
   ]
  },
  {
   "cell_type": "code",
   "execution_count": 72,
   "metadata": {
    "scrolled": true
   },
   "outputs": [
    {
     "data": {
      "image/svg+xml": [
       "<?xml version=\"1.0\" encoding=\"utf-8\"?>\n",
       "<svg xmlns=\"http://www.w3.org/2000/svg\" xmlns:xlink=\"http://www.w3.org/1999/xlink\" width=\"600\" height=\"400\" viewBox=\"0 0 2400 1600\">\n",
       "<defs>\n",
       "  <clipPath id=\"clip130\">\n",
       "    <rect x=\"0\" y=\"0\" width=\"2400\" height=\"1600\"/>\n",
       "  </clipPath>\n",
       "</defs>\n",
       "<path clip-path=\"url(#clip130)\" d=\"\n",
       "M0 1600 L2400 1600 L2400 0 L0 0  Z\n",
       "  \" fill=\"#ffffff\" fill-rule=\"evenodd\" fill-opacity=\"1\"/>\n",
       "<defs>\n",
       "  <clipPath id=\"clip131\">\n",
       "    <rect x=\"480\" y=\"0\" width=\"1681\" height=\"1600\"/>\n",
       "  </clipPath>\n",
       "</defs>\n",
       "<path clip-path=\"url(#clip130)\" d=\"\n",
       "M253.246 1263.94 L2352.76 1263.94 L2352.76 183.952 L253.246 183.952  Z\n",
       "  \" fill=\"#ffffff\" fill-rule=\"evenodd\" fill-opacity=\"1\"/>\n",
       "<defs>\n",
       "  <clipPath id=\"clip132\">\n",
       "    <rect x=\"253\" y=\"183\" width=\"2101\" height=\"1081\"/>\n",
       "  </clipPath>\n",
       "</defs>\n",
       "<polyline clip-path=\"url(#clip132)\" style=\"stroke:#000000; stroke-width:2; stroke-opacity:0.1; fill:none\" points=\"\n",
       "  374.711,1263.94 374.711,183.952 \n",
       "  \"/>\n",
       "<polyline clip-path=\"url(#clip132)\" style=\"stroke:#000000; stroke-width:2; stroke-opacity:0.1; fill:none\" points=\"\n",
       "  584.325,1263.94 584.325,183.952 \n",
       "  \"/>\n",
       "<polyline clip-path=\"url(#clip132)\" style=\"stroke:#000000; stroke-width:2; stroke-opacity:0.1; fill:none\" points=\"\n",
       "  793.939,1263.94 793.939,183.952 \n",
       "  \"/>\n",
       "<polyline clip-path=\"url(#clip132)\" style=\"stroke:#000000; stroke-width:2; stroke-opacity:0.1; fill:none\" points=\"\n",
       "  1003.55,1263.94 1003.55,183.952 \n",
       "  \"/>\n",
       "<polyline clip-path=\"url(#clip132)\" style=\"stroke:#000000; stroke-width:2; stroke-opacity:0.1; fill:none\" points=\"\n",
       "  1213.17,1263.94 1213.17,183.952 \n",
       "  \"/>\n",
       "<polyline clip-path=\"url(#clip132)\" style=\"stroke:#000000; stroke-width:2; stroke-opacity:0.1; fill:none\" points=\"\n",
       "  1422.78,1263.94 1422.78,183.952 \n",
       "  \"/>\n",
       "<polyline clip-path=\"url(#clip132)\" style=\"stroke:#000000; stroke-width:2; stroke-opacity:0.1; fill:none\" points=\"\n",
       "  1632.39,1263.94 1632.39,183.952 \n",
       "  \"/>\n",
       "<polyline clip-path=\"url(#clip132)\" style=\"stroke:#000000; stroke-width:2; stroke-opacity:0.1; fill:none\" points=\"\n",
       "  1842.01,1263.94 1842.01,183.952 \n",
       "  \"/>\n",
       "<polyline clip-path=\"url(#clip132)\" style=\"stroke:#000000; stroke-width:2; stroke-opacity:0.1; fill:none\" points=\"\n",
       "  2051.62,1263.94 2051.62,183.952 \n",
       "  \"/>\n",
       "<polyline clip-path=\"url(#clip132)\" style=\"stroke:#000000; stroke-width:2; stroke-opacity:0.1; fill:none\" points=\"\n",
       "  253.246,1233.37 2352.76,1233.37 \n",
       "  \"/>\n",
       "<polyline clip-path=\"url(#clip132)\" style=\"stroke:#000000; stroke-width:2; stroke-opacity:0.1; fill:none\" points=\"\n",
       "  253.246,996.978 2352.76,996.978 \n",
       "  \"/>\n",
       "<polyline clip-path=\"url(#clip132)\" style=\"stroke:#000000; stroke-width:2; stroke-opacity:0.1; fill:none\" points=\"\n",
       "  253.246,760.585 2352.76,760.585 \n",
       "  \"/>\n",
       "<polyline clip-path=\"url(#clip132)\" style=\"stroke:#000000; stroke-width:2; stroke-opacity:0.1; fill:none\" points=\"\n",
       "  253.246,524.192 2352.76,524.192 \n",
       "  \"/>\n",
       "<polyline clip-path=\"url(#clip132)\" style=\"stroke:#000000; stroke-width:2; stroke-opacity:0.1; fill:none\" points=\"\n",
       "  253.246,287.8 2352.76,287.8 \n",
       "  \"/>\n",
       "<polyline clip-path=\"url(#clip130)\" style=\"stroke:#000000; stroke-width:4; stroke-opacity:1; fill:none\" points=\"\n",
       "  253.246,1263.94 2352.76,1263.94 \n",
       "  \"/>\n",
       "<polyline clip-path=\"url(#clip130)\" style=\"stroke:#000000; stroke-width:4; stroke-opacity:1; fill:none\" points=\"\n",
       "  253.246,1263.94 253.246,183.952 \n",
       "  \"/>\n",
       "<polyline clip-path=\"url(#clip130)\" style=\"stroke:#000000; stroke-width:4; stroke-opacity:1; fill:none\" points=\"\n",
       "  374.711,1263.94 374.711,1250.98 \n",
       "  \"/>\n",
       "<polyline clip-path=\"url(#clip130)\" style=\"stroke:#000000; stroke-width:4; stroke-opacity:1; fill:none\" points=\"\n",
       "  584.325,1263.94 584.325,1250.98 \n",
       "  \"/>\n",
       "<polyline clip-path=\"url(#clip130)\" style=\"stroke:#000000; stroke-width:4; stroke-opacity:1; fill:none\" points=\"\n",
       "  793.939,1263.94 793.939,1250.98 \n",
       "  \"/>\n",
       "<polyline clip-path=\"url(#clip130)\" style=\"stroke:#000000; stroke-width:4; stroke-opacity:1; fill:none\" points=\"\n",
       "  1003.55,1263.94 1003.55,1250.98 \n",
       "  \"/>\n",
       "<polyline clip-path=\"url(#clip130)\" style=\"stroke:#000000; stroke-width:4; stroke-opacity:1; fill:none\" points=\"\n",
       "  1213.17,1263.94 1213.17,1250.98 \n",
       "  \"/>\n",
       "<polyline clip-path=\"url(#clip130)\" style=\"stroke:#000000; stroke-width:4; stroke-opacity:1; fill:none\" points=\"\n",
       "  1422.78,1263.94 1422.78,1250.98 \n",
       "  \"/>\n",
       "<polyline clip-path=\"url(#clip130)\" style=\"stroke:#000000; stroke-width:4; stroke-opacity:1; fill:none\" points=\"\n",
       "  1632.39,1263.94 1632.39,1250.98 \n",
       "  \"/>\n",
       "<polyline clip-path=\"url(#clip130)\" style=\"stroke:#000000; stroke-width:4; stroke-opacity:1; fill:none\" points=\"\n",
       "  1842.01,1263.94 1842.01,1250.98 \n",
       "  \"/>\n",
       "<polyline clip-path=\"url(#clip130)\" style=\"stroke:#000000; stroke-width:4; stroke-opacity:1; fill:none\" points=\"\n",
       "  2051.62,1263.94 2051.62,1250.98 \n",
       "  \"/>\n",
       "<polyline clip-path=\"url(#clip130)\" style=\"stroke:#000000; stroke-width:4; stroke-opacity:1; fill:none\" points=\"\n",
       "  253.246,1233.37 278.44,1233.37 \n",
       "  \"/>\n",
       "<polyline clip-path=\"url(#clip130)\" style=\"stroke:#000000; stroke-width:4; stroke-opacity:1; fill:none\" points=\"\n",
       "  253.246,996.978 278.44,996.978 \n",
       "  \"/>\n",
       "<polyline clip-path=\"url(#clip130)\" style=\"stroke:#000000; stroke-width:4; stroke-opacity:1; fill:none\" points=\"\n",
       "  253.246,760.585 278.44,760.585 \n",
       "  \"/>\n",
       "<polyline clip-path=\"url(#clip130)\" style=\"stroke:#000000; stroke-width:4; stroke-opacity:1; fill:none\" points=\"\n",
       "  253.246,524.192 278.44,524.192 \n",
       "  \"/>\n",
       "<polyline clip-path=\"url(#clip130)\" style=\"stroke:#000000; stroke-width:4; stroke-opacity:1; fill:none\" points=\"\n",
       "  253.246,287.8 278.44,287.8 \n",
       "  \"/>\n",
       "<path clip-path=\"url(#clip130)\" d=\"M 0 0 M237.867 1465.87 L249.407 1454.33 L252.19 1457.11 L236.673 1472.63 L233.89 1469.84 Q233.824 1466.01 233.792 1459.5 Q233.759 1452.95 233.644 1451.17 Q233.448 1447.8 232.842 1445.95 Q232.237 1444.06 231.042 1442.87 Q229.094 1440.92 226.492 1441.07 Q223.905 1441.2 221.712 1443.39 Q220.157 1444.95 218.962 1447.22 Q217.784 1449.48 216.916 1452.54 L213.577 1449.2 Q214.772 1446.4 216.098 1444.26 Q217.424 1442.12 218.864 1440.68 Q222.661 1436.88 226.819 1436.52 Q230.976 1436.16 234.152 1439.33 Q235.658 1440.84 236.443 1442.77 Q237.229 1444.67 237.573 1447.99 Q237.638 1448.88 237.72 1453.34 Q237.786 1457.8 237.867 1465.87 Z\" fill=\"#000000\" fill-rule=\"evenodd\" fill-opacity=\"1\" /><path clip-path=\"url(#clip130)\" d=\"M 0 0 M240.585 1424.19 Q238.031 1426.75 239.259 1430.56 Q240.486 1434.34 245.528 1439.38 Q250.553 1444.41 254.35 1445.65 Q258.148 1446.86 260.701 1444.31 Q263.271 1441.74 262.043 1437.96 Q260.816 1434.14 255.791 1429.12 Q250.749 1424.08 246.952 1422.87 Q243.154 1421.62 240.585 1424.19 M237.966 1421.57 Q242.074 1417.47 247.492 1418.56 Q252.91 1419.63 259.097 1425.81 Q265.268 1431.98 266.348 1437.42 Q267.428 1442.82 263.32 1446.93 Q259.211 1451.04 253.794 1449.97 Q248.376 1448.88 242.205 1442.71 Q236.018 1436.52 234.938 1431.12 Q233.857 1425.68 237.966 1421.57 Z\" fill=\"#000000\" fill-rule=\"evenodd\" fill-opacity=\"1\" /><path clip-path=\"url(#clip130)\" d=\"M 0 0 M274.941 1428.79 L286.481 1417.25 L289.263 1420.04 L273.746 1435.55 L270.964 1432.77 Q270.898 1428.94 270.866 1422.43 Q270.833 1415.88 270.718 1414.09 Q270.522 1410.72 269.916 1408.87 Q269.311 1406.99 268.116 1405.8 Q266.168 1403.85 263.565 1403.99 Q260.979 1404.13 258.786 1406.32 Q257.231 1407.87 256.036 1410.15 Q254.858 1412.41 253.99 1415.47 L250.651 1412.13 Q251.846 1409.33 253.172 1407.19 Q254.497 1405.04 255.938 1403.6 Q259.735 1399.8 263.893 1399.44 Q268.05 1399.08 271.226 1402.26 Q272.732 1403.77 273.517 1405.7 Q274.303 1407.6 274.647 1410.92 Q274.712 1411.8 274.794 1416.27 Q274.859 1420.72 274.941 1428.79 Z\" fill=\"#000000\" fill-rule=\"evenodd\" fill-opacity=\"1\" /><path clip-path=\"url(#clip130)\" d=\"M 0 0 M277.658 1387.12 Q275.105 1389.67 276.333 1393.49 Q277.56 1397.27 282.601 1402.31 Q287.627 1407.33 291.424 1408.58 Q295.221 1409.79 297.775 1407.24 Q300.345 1404.67 299.117 1400.88 Q297.889 1397.07 292.864 1392.05 Q287.823 1387 284.026 1385.79 Q280.228 1384.55 277.658 1387.12 M275.039 1384.5 Q279.148 1380.39 284.566 1381.49 Q289.984 1382.55 296.171 1388.74 Q302.341 1394.91 303.422 1400.34 Q304.502 1405.75 300.394 1409.85 Q296.285 1413.96 290.867 1412.9 Q285.45 1411.8 279.279 1405.63 Q273.092 1399.44 272.011 1394.04 Q270.931 1388.61 275.039 1384.5 Z\" fill=\"#000000\" fill-rule=\"evenodd\" fill-opacity=\"1\" /><path clip-path=\"url(#clip130)\" d=\"M 0 0 M299.477 1388.77 L308.299 1379.95 L310.984 1382.63 L302.161 1391.46 L299.477 1388.77 Z\" fill=\"#000000\" fill-rule=\"evenodd\" fill-opacity=\"1\" /><path clip-path=\"url(#clip130)\" d=\"M 0 0 M307.219 1357.56 Q304.666 1360.11 305.893 1363.93 Q307.121 1367.71 312.162 1372.75 Q317.187 1377.77 320.985 1379.02 Q324.782 1380.23 327.336 1377.67 Q329.905 1375.1 328.678 1371.32 Q327.45 1367.51 322.425 1362.48 Q317.384 1357.44 313.586 1356.23 Q309.789 1354.99 307.219 1357.56 M304.6 1354.94 Q308.709 1350.83 314.127 1351.93 Q319.544 1352.99 325.732 1359.18 Q331.902 1365.35 332.983 1370.78 Q334.063 1376.19 329.954 1380.29 Q325.846 1384.4 320.428 1383.34 Q315.01 1382.24 308.84 1376.07 Q302.652 1369.88 301.572 1364.48 Q300.492 1359.05 304.6 1354.94 Z\" fill=\"#000000\" fill-rule=\"evenodd\" fill-opacity=\"1\" /><path clip-path=\"url(#clip130)\" d=\"M 0 0 M339.301 1364.43 L344.702 1359.03 L326.059 1340.39 L321.361 1347.44 L318.349 1344.43 L323.014 1337.41 L326.321 1334.1 L347.976 1355.76 L353.377 1350.36 L356.16 1353.14 L342.083 1367.22 L339.301 1364.43 Z\" fill=\"#000000\" fill-rule=\"evenodd\" fill-opacity=\"1\" /><path clip-path=\"url(#clip130)\" d=\"M 0 0 M347.272 1340.98 L356.094 1332.15 L358.779 1334.84 L349.956 1343.66 L347.272 1340.98 Z\" fill=\"#000000\" fill-rule=\"evenodd\" fill-opacity=\"1\" /><path clip-path=\"url(#clip130)\" d=\"M 0 0 M370.269 1333.46 L381.809 1321.92 L384.591 1324.71 L369.074 1340.22 L366.292 1337.44 Q366.226 1333.61 366.194 1327.1 Q366.161 1320.55 366.046 1318.77 Q365.85 1315.39 365.244 1313.54 Q364.639 1311.66 363.444 1310.47 Q361.496 1308.52 358.893 1308.67 Q356.307 1308.8 354.114 1310.99 Q352.559 1312.55 351.364 1314.82 Q350.185 1317.08 349.318 1320.14 L345.979 1316.8 Q347.174 1314 348.5 1311.86 Q349.825 1309.71 351.266 1308.27 Q355.063 1304.48 359.221 1304.12 Q363.378 1303.76 366.554 1306.93 Q368.059 1308.44 368.845 1310.37 Q369.631 1312.27 369.975 1315.59 Q370.04 1316.47 370.122 1320.94 Q370.187 1325.39 370.269 1333.46 Z\" fill=\"#000000\" fill-rule=\"evenodd\" fill-opacity=\"1\" /><path clip-path=\"url(#clip130)\" d=\"M 0 0 M375.703 1290.48 L380.401 1311.87 L388.749 1303.53 L375.703 1290.48 M371.955 1288.47 L376.113 1284.31 L392.039 1300.24 L395.525 1296.75 L398.275 1299.5 L394.789 1302.99 L400.55 1308.75 L397.26 1312.04 L391.499 1306.28 L380.467 1317.31 L377.275 1314.12 L371.955 1288.47 Z\" fill=\"#000000\" fill-rule=\"evenodd\" fill-opacity=\"1\" /><path clip-path=\"url(#clip130)\" d=\"M 0 0 M447.596 1465.75 L459.135 1454.21 L461.918 1456.99 L446.401 1472.51 L443.618 1469.73 Q443.553 1465.9 443.52 1459.38 Q443.487 1452.84 443.373 1451.05 Q443.176 1447.68 442.571 1445.83 Q441.965 1443.95 440.77 1442.75 Q438.822 1440.81 436.22 1440.95 Q433.634 1441.08 431.44 1443.28 Q429.885 1444.83 428.691 1447.11 Q427.512 1449.37 426.645 1452.43 L423.305 1449.09 Q424.5 1446.29 425.826 1444.15 Q427.152 1442 428.592 1440.56 Q432.39 1436.76 436.547 1436.4 Q440.705 1436.04 443.88 1439.22 Q445.386 1440.72 446.172 1442.66 Q446.957 1444.55 447.301 1447.88 Q447.367 1448.76 447.448 1453.23 Q447.514 1457.68 447.596 1465.75 Z\" fill=\"#000000\" fill-rule=\"evenodd\" fill-opacity=\"1\" /><path clip-path=\"url(#clip130)\" d=\"M 0 0 M450.313 1424.08 Q447.759 1426.63 448.987 1430.45 Q450.215 1434.23 455.256 1439.27 Q460.281 1444.29 464.078 1445.54 Q467.876 1446.75 470.429 1444.19 Q472.999 1441.62 471.771 1437.84 Q470.544 1434.03 465.519 1429.01 Q460.477 1423.96 456.68 1422.75 Q452.883 1421.51 450.313 1424.08 M447.694 1421.46 Q451.802 1417.35 457.22 1418.45 Q462.638 1419.51 468.825 1425.7 Q474.996 1431.87 476.076 1437.3 Q477.157 1442.71 473.048 1446.81 Q468.94 1450.92 463.522 1449.86 Q458.104 1448.76 451.933 1442.59 Q445.746 1436.4 444.666 1431 Q443.586 1425.57 447.694 1421.46 Z\" fill=\"#000000\" fill-rule=\"evenodd\" fill-opacity=\"1\" /><path clip-path=\"url(#clip130)\" d=\"M 0 0 M484.67 1428.68 L496.209 1417.14 L498.992 1419.92 L483.475 1435.44 L480.692 1432.66 Q480.627 1428.82 480.594 1422.31 Q480.561 1415.76 480.447 1413.98 Q480.25 1410.61 479.644 1408.76 Q479.039 1406.88 477.844 1405.68 Q475.896 1403.73 473.294 1403.88 Q470.707 1404.01 468.514 1406.2 Q466.959 1407.76 465.764 1410.03 Q464.586 1412.29 463.718 1415.35 L460.379 1412.01 Q461.574 1409.22 462.9 1407.07 Q464.226 1404.93 465.666 1403.49 Q469.464 1399.69 473.621 1399.33 Q477.779 1398.97 480.954 1402.14 Q482.46 1403.65 483.245 1405.58 Q484.031 1407.48 484.375 1410.8 Q484.44 1411.69 484.522 1416.16 Q484.588 1420.61 484.67 1428.68 Z\" fill=\"#000000\" fill-rule=\"evenodd\" fill-opacity=\"1\" /><path clip-path=\"url(#clip130)\" d=\"M 0 0 M487.387 1387 Q484.833 1389.56 486.061 1393.37 Q487.288 1397.15 492.33 1402.19 Q497.355 1407.22 501.152 1408.46 Q504.95 1409.67 507.503 1407.12 Q510.073 1404.55 508.845 1400.77 Q507.618 1396.96 502.593 1391.93 Q497.551 1386.89 493.754 1385.68 Q489.956 1384.43 487.387 1387 M484.768 1384.39 Q488.876 1380.28 494.294 1381.37 Q499.712 1382.44 505.899 1388.62 Q512.07 1394.8 513.15 1400.23 Q514.23 1405.63 510.122 1409.74 Q506.014 1413.85 500.596 1412.78 Q495.178 1411.69 489.007 1405.52 Q482.82 1399.33 481.74 1393.93 Q480.659 1388.49 484.768 1384.39 Z\" fill=\"#000000\" fill-rule=\"evenodd\" fill-opacity=\"1\" /><path clip-path=\"url(#clip130)\" d=\"M 0 0 M509.205 1388.66 L518.028 1379.84 L520.712 1382.52 L511.89 1391.34 L509.205 1388.66 Z\" fill=\"#000000\" fill-rule=\"evenodd\" fill-opacity=\"1\" /><path clip-path=\"url(#clip130)\" d=\"M 0 0 M516.947 1357.44 Q514.394 1360 515.622 1363.81 Q516.849 1367.59 521.891 1372.63 Q526.916 1377.66 530.713 1378.9 Q534.51 1380.11 537.064 1377.56 Q539.634 1374.99 538.406 1371.21 Q537.178 1367.4 532.153 1362.37 Q527.112 1357.33 523.315 1356.12 Q519.517 1354.87 516.947 1357.44 M514.329 1354.82 Q518.437 1350.72 523.855 1351.81 Q529.273 1352.88 535.46 1359.06 Q541.631 1365.23 542.711 1370.67 Q543.791 1376.07 539.683 1380.18 Q535.574 1384.29 530.157 1383.22 Q524.739 1382.13 518.568 1375.96 Q512.381 1369.77 511.3 1364.37 Q510.22 1358.93 514.329 1354.82 Z\" fill=\"#000000\" fill-rule=\"evenodd\" fill-opacity=\"1\" /><path clip-path=\"url(#clip130)\" d=\"M 0 0 M551.304 1362.04 L562.844 1350.5 L565.626 1353.29 L550.109 1368.8 L547.327 1366.02 Q547.261 1362.19 547.228 1355.68 Q547.196 1349.13 547.081 1347.34 Q546.885 1343.97 546.279 1342.12 Q545.674 1340.24 544.479 1339.05 Q542.531 1337.1 539.928 1337.25 Q537.342 1337.38 535.149 1339.57 Q533.594 1341.12 532.399 1343.4 Q531.22 1345.66 530.353 1348.72 L527.014 1345.38 Q528.209 1342.58 529.535 1340.44 Q530.86 1338.29 532.301 1336.85 Q536.098 1333.06 540.256 1332.69 Q544.413 1332.33 547.589 1335.51 Q549.094 1337.02 549.88 1338.95 Q550.666 1340.85 551.01 1344.17 Q551.075 1345.05 551.157 1349.52 Q551.222 1353.97 551.304 1362.04 Z\" fill=\"#000000\" fill-rule=\"evenodd\" fill-opacity=\"1\" /><path clip-path=\"url(#clip130)\" d=\"M 0 0 M556.738 1341.12 L565.561 1332.3 L568.245 1334.99 L559.423 1343.81 L556.738 1341.12 Z\" fill=\"#000000\" fill-rule=\"evenodd\" fill-opacity=\"1\" /><path clip-path=\"url(#clip130)\" d=\"M 0 0 M564.48 1309.91 Q561.927 1312.46 563.155 1316.28 Q564.382 1320.06 569.424 1325.1 Q574.449 1330.13 578.246 1331.37 Q582.043 1332.58 584.597 1330.03 Q587.167 1327.46 585.939 1323.68 Q584.711 1319.86 579.686 1314.84 Q574.645 1309.8 570.848 1308.58 Q567.05 1307.34 564.48 1309.91 M561.862 1307.29 Q565.97 1303.18 571.388 1304.28 Q576.806 1305.34 582.993 1311.53 Q589.164 1317.7 590.244 1323.14 Q591.324 1328.54 587.216 1332.65 Q583.107 1336.75 577.69 1335.69 Q572.272 1334.59 566.101 1328.42 Q559.914 1322.24 558.833 1316.83 Q557.753 1311.4 561.862 1307.29 Z\" fill=\"#000000\" fill-rule=\"evenodd\" fill-opacity=\"1\" /><path clip-path=\"url(#clip130)\" d=\"M 0 0 M573.499 1296.54 L589.213 1280.82 L590.62 1282.23 L604.779 1314.13 L601.325 1317.59 L588.018 1287.58 L576.282 1299.32 L573.499 1296.54 Z\" fill=\"#000000\" fill-rule=\"evenodd\" fill-opacity=\"1\" /><path clip-path=\"url(#clip130)\" d=\"M 0 0 M658.568 1464.39 L670.108 1452.85 L672.89 1455.64 L657.373 1471.15 L654.591 1468.37 Q654.525 1464.54 654.492 1458.03 Q654.46 1451.48 654.345 1449.69 Q654.149 1446.32 653.543 1444.47 Q652.937 1442.59 651.742 1441.4 Q649.795 1439.45 647.192 1439.6 Q644.606 1439.73 642.413 1441.92 Q640.858 1443.47 639.663 1445.75 Q638.484 1448.01 637.617 1451.07 L634.278 1447.73 Q635.473 1444.93 636.798 1442.79 Q638.124 1440.64 639.565 1439.2 Q643.362 1435.4 647.519 1435.04 Q651.677 1434.68 654.852 1437.86 Q656.358 1439.37 657.144 1441.3 Q657.93 1443.2 658.273 1446.52 Q658.339 1447.4 658.421 1451.87 Q658.486 1456.32 658.568 1464.39 Z\" fill=\"#000000\" fill-rule=\"evenodd\" fill-opacity=\"1\" /><path clip-path=\"url(#clip130)\" d=\"M 0 0 M661.285 1422.72 Q658.732 1425.27 659.959 1429.09 Q661.187 1432.87 666.228 1437.91 Q671.253 1442.93 675.051 1444.18 Q678.848 1445.39 681.402 1442.84 Q683.971 1440.27 682.744 1436.49 Q681.516 1432.67 676.491 1427.65 Q671.45 1422.61 667.652 1421.39 Q663.855 1420.15 661.285 1422.72 M658.666 1420.1 Q662.775 1415.99 668.192 1417.09 Q673.61 1418.15 679.797 1424.34 Q685.968 1430.51 687.049 1435.95 Q688.129 1441.35 684.02 1445.45 Q679.912 1449.56 674.494 1448.5 Q669.076 1447.4 662.906 1441.23 Q656.718 1435.04 655.638 1429.64 Q654.558 1424.21 658.666 1420.1 Z\" fill=\"#000000\" fill-rule=\"evenodd\" fill-opacity=\"1\" /><path clip-path=\"url(#clip130)\" d=\"M 0 0 M695.642 1427.32 L707.181 1415.78 L709.964 1418.56 L694.447 1434.08 L691.664 1431.3 Q691.599 1427.47 691.566 1420.95 Q691.533 1414.4 691.419 1412.62 Q691.222 1409.25 690.617 1407.4 Q690.011 1405.52 688.816 1404.32 Q686.868 1402.37 684.266 1402.52 Q681.68 1402.65 679.486 1404.85 Q677.931 1406.4 676.737 1408.68 Q675.558 1410.93 674.691 1414 L671.351 1410.66 Q672.546 1407.86 673.872 1405.71 Q675.198 1403.57 676.638 1402.13 Q680.436 1398.33 684.593 1397.97 Q688.751 1397.61 691.926 1400.79 Q693.432 1402.29 694.218 1404.22 Q695.003 1406.12 695.347 1409.45 Q695.413 1410.33 695.494 1414.8 Q695.56 1419.25 695.642 1427.32 Z\" fill=\"#000000\" fill-rule=\"evenodd\" fill-opacity=\"1\" /><path clip-path=\"url(#clip130)\" d=\"M 0 0 M698.359 1385.65 Q695.805 1388.2 697.033 1392.01 Q698.261 1395.79 703.302 1400.84 Q708.327 1405.86 712.124 1407.1 Q715.922 1408.32 718.475 1405.76 Q721.045 1403.19 719.818 1399.41 Q718.59 1395.6 713.565 1390.57 Q708.523 1385.53 704.726 1384.32 Q700.929 1383.08 698.359 1385.65 M695.74 1383.03 Q699.848 1378.92 705.266 1380.02 Q710.684 1381.08 716.871 1387.27 Q723.042 1393.44 724.122 1398.87 Q725.203 1404.27 721.094 1408.38 Q716.986 1412.49 711.568 1411.43 Q706.15 1410.33 699.979 1404.16 Q693.792 1397.97 692.712 1392.57 Q691.632 1387.14 695.74 1383.03 Z\" fill=\"#000000\" fill-rule=\"evenodd\" fill-opacity=\"1\" /><path clip-path=\"url(#clip130)\" d=\"M 0 0 M720.178 1387.3 L729 1378.48 L731.684 1381.16 L722.862 1389.98 L720.178 1387.3 Z\" fill=\"#000000\" fill-rule=\"evenodd\" fill-opacity=\"1\" /><path clip-path=\"url(#clip130)\" d=\"M 0 0 M727.92 1356.09 Q725.366 1358.64 726.594 1362.45 Q727.822 1366.23 732.863 1371.27 Q737.888 1376.3 741.685 1377.54 Q745.483 1378.75 748.036 1376.2 Q750.606 1373.63 749.378 1369.85 Q748.151 1366.04 743.126 1361.01 Q738.084 1355.97 734.287 1354.76 Q730.49 1353.52 727.92 1356.09 M725.301 1353.47 Q729.409 1349.36 734.827 1350.45 Q740.245 1351.52 746.432 1357.71 Q752.603 1363.88 753.683 1369.31 Q754.763 1374.71 750.655 1378.82 Q746.547 1382.93 741.129 1381.86 Q735.711 1380.77 729.54 1374.6 Q723.353 1368.41 722.273 1363.01 Q721.192 1357.57 725.301 1353.47 Z\" fill=\"#000000\" fill-rule=\"evenodd\" fill-opacity=\"1\" /><path clip-path=\"url(#clip130)\" d=\"M 0 0 M762.276 1360.68 L773.816 1349.14 L776.599 1351.93 L761.082 1367.44 L758.299 1364.66 Q758.233 1360.83 758.201 1354.32 Q758.168 1347.77 758.053 1345.99 Q757.857 1342.61 757.251 1340.76 Q756.646 1338.88 755.451 1337.69 Q753.503 1335.74 750.901 1335.89 Q748.314 1336.02 746.121 1338.21 Q744.566 1339.77 743.371 1342.04 Q742.193 1344.3 741.325 1347.36 L737.986 1344.02 Q739.181 1341.22 740.507 1339.08 Q741.833 1336.93 743.273 1335.49 Q747.07 1331.7 751.228 1331.34 Q755.385 1330.98 758.561 1334.15 Q760.067 1335.66 760.852 1337.59 Q761.638 1339.49 761.982 1342.81 Q762.047 1343.69 762.129 1348.16 Q762.195 1352.61 762.276 1360.68 Z\" fill=\"#000000\" fill-rule=\"evenodd\" fill-opacity=\"1\" /><path clip-path=\"url(#clip130)\" d=\"M 0 0 M767.711 1339.77 L776.533 1330.94 L779.217 1333.63 L770.395 1342.45 L767.711 1339.77 Z\" fill=\"#000000\" fill-rule=\"evenodd\" fill-opacity=\"1\" /><path clip-path=\"url(#clip130)\" d=\"M 0 0 M790.708 1332.25 L802.247 1320.71 L805.03 1323.5 L789.513 1339.01 L786.73 1336.23 Q786.665 1332.4 786.632 1325.89 Q786.599 1319.34 786.485 1317.55 Q786.288 1314.18 785.683 1312.33 Q785.077 1310.45 783.882 1309.26 Q781.935 1307.31 779.332 1307.46 Q776.746 1307.59 774.553 1309.78 Q772.998 1311.33 771.803 1313.61 Q770.624 1315.87 769.757 1318.93 L766.418 1315.59 Q767.612 1312.79 768.938 1310.65 Q770.264 1308.5 771.704 1307.06 Q775.502 1303.27 779.659 1302.9 Q783.817 1302.54 786.992 1305.72 Q788.498 1307.23 789.284 1309.16 Q790.069 1311.06 790.413 1314.38 Q790.479 1315.26 790.561 1319.73 Q790.626 1324.18 790.708 1332.25 Z\" fill=\"#000000\" fill-rule=\"evenodd\" fill-opacity=\"1\" /><path clip-path=\"url(#clip130)\" d=\"M 0 0 M806.405 1316.56 L811.806 1311.15 L793.163 1292.51 L788.465 1299.57 L785.454 1296.55 L790.119 1289.53 L793.425 1286.23 L815.08 1307.88 L820.481 1302.48 L823.264 1305.26 L809.187 1319.34 L806.405 1316.56 Z\" fill=\"#000000\" fill-rule=\"evenodd\" fill-opacity=\"1\" /><path clip-path=\"url(#clip130)\" d=\"M 0 0 M865.399 1467.18 L876.939 1455.64 L879.721 1458.42 L864.204 1473.94 L861.422 1471.15 Q861.356 1467.32 861.323 1460.81 Q861.291 1454.26 861.176 1452.48 Q860.98 1449.11 860.374 1447.26 Q859.768 1445.37 858.574 1444.18 Q856.626 1442.23 854.023 1442.38 Q851.437 1442.51 849.244 1444.7 Q847.689 1446.26 846.494 1448.53 Q845.315 1450.79 844.448 1453.85 L841.109 1450.51 Q842.304 1447.71 843.63 1445.57 Q844.955 1443.43 846.396 1441.98 Q850.193 1438.19 854.351 1437.83 Q858.508 1437.47 861.684 1440.64 Q863.189 1442.15 863.975 1444.08 Q864.761 1445.98 865.104 1449.3 Q865.17 1450.19 865.252 1454.65 Q865.317 1459.11 865.399 1467.18 Z\" fill=\"#000000\" fill-rule=\"evenodd\" fill-opacity=\"1\" /><path clip-path=\"url(#clip130)\" d=\"M 0 0 M868.116 1425.5 Q865.563 1428.06 866.79 1431.87 Q868.018 1435.65 873.059 1440.69 Q878.084 1445.72 881.882 1446.96 Q885.679 1448.17 888.233 1445.62 Q890.802 1443.05 889.575 1439.27 Q888.347 1435.45 883.322 1430.43 Q878.281 1425.39 874.483 1424.18 Q870.686 1422.93 868.116 1425.5 M865.497 1422.88 Q869.606 1418.77 875.024 1419.87 Q880.441 1420.94 886.629 1427.12 Q892.799 1433.29 893.88 1438.73 Q894.96 1444.13 890.852 1448.24 Q886.743 1452.35 881.325 1451.28 Q875.907 1450.19 869.737 1444.01 Q863.55 1437.83 862.469 1432.43 Q861.389 1426.99 865.497 1422.88 Z\" fill=\"#000000\" fill-rule=\"evenodd\" fill-opacity=\"1\" /><path clip-path=\"url(#clip130)\" d=\"M 0 0 M902.473 1430.1 L914.012 1418.56 L916.795 1421.34 L901.278 1436.86 L898.495 1434.08 Q898.43 1430.25 898.397 1423.73 Q898.365 1417.19 898.25 1415.4 Q898.054 1412.03 897.448 1410.18 Q896.842 1408.3 895.647 1407.1 Q893.7 1405.16 891.097 1405.3 Q888.511 1405.43 886.318 1407.63 Q884.763 1409.18 883.568 1411.46 Q882.389 1413.72 881.522 1416.78 L878.183 1413.44 Q879.377 1410.64 880.703 1408.5 Q882.029 1406.35 883.47 1404.91 Q887.267 1401.11 891.424 1400.75 Q895.582 1400.39 898.757 1403.57 Q900.263 1405.07 901.049 1407.01 Q901.835 1408.9 902.178 1412.23 Q902.244 1413.11 902.326 1417.58 Q902.391 1422.03 902.473 1430.1 Z\" fill=\"#000000\" fill-rule=\"evenodd\" fill-opacity=\"1\" /><path clip-path=\"url(#clip130)\" d=\"M 0 0 M905.19 1388.43 Q902.637 1390.98 903.864 1394.8 Q905.092 1398.58 910.133 1403.62 Q915.158 1408.64 918.956 1409.89 Q922.753 1411.1 925.306 1408.54 Q927.876 1405.98 926.649 1402.19 Q925.421 1398.38 920.396 1393.36 Q915.355 1388.31 911.557 1387.1 Q907.76 1385.86 905.19 1388.43 M902.571 1385.81 Q906.68 1381.7 912.097 1382.8 Q917.515 1383.86 923.702 1390.05 Q929.873 1396.22 930.953 1401.65 Q932.034 1407.06 927.925 1411.16 Q923.817 1415.27 918.399 1414.21 Q912.981 1413.11 906.81 1406.94 Q900.623 1400.75 899.543 1395.35 Q898.463 1389.92 902.571 1385.81 Z\" fill=\"#000000\" fill-rule=\"evenodd\" fill-opacity=\"1\" /><path clip-path=\"url(#clip130)\" d=\"M 0 0 M927.009 1390.08 L935.831 1381.26 L938.516 1383.94 L929.693 1392.77 L927.009 1390.08 Z\" fill=\"#000000\" fill-rule=\"evenodd\" fill-opacity=\"1\" /><path clip-path=\"url(#clip130)\" d=\"M 0 0 M934.751 1358.87 Q932.197 1361.42 933.425 1365.23 Q934.653 1369.02 939.694 1374.06 Q944.719 1379.08 948.516 1380.33 Q952.314 1381.54 954.867 1378.98 Q957.437 1376.41 956.209 1372.63 Q954.982 1368.82 949.957 1363.79 Q944.915 1358.75 941.118 1357.54 Q937.321 1356.3 934.751 1358.87 M932.132 1356.25 Q936.24 1352.14 941.658 1353.24 Q947.076 1354.3 953.263 1360.49 Q959.434 1366.66 960.514 1372.09 Q961.595 1377.49 957.486 1381.6 Q953.378 1385.71 947.96 1384.65 Q942.542 1383.55 936.371 1377.38 Q930.184 1371.19 929.104 1365.79 Q928.024 1360.36 932.132 1356.25 Z\" fill=\"#000000\" fill-rule=\"evenodd\" fill-opacity=\"1\" /><path clip-path=\"url(#clip130)\" d=\"M 0 0 M965.883 1345.9 Q968.764 1344.04 971.694 1344.32 Q974.64 1344.58 976.997 1346.94 Q980.614 1350.55 980.107 1355.02 Q979.6 1359.49 975.016 1364.07 Q973.478 1365.61 971.53 1366.94 Q969.615 1368.26 967.274 1369.39 L964.083 1366.2 Q966.26 1365.63 968.306 1364.4 Q970.352 1363.17 972.136 1361.39 Q975.246 1358.28 975.638 1355.43 Q976.048 1352.57 973.707 1350.23 Q971.546 1348.06 968.813 1348.38 Q966.079 1348.65 963.379 1351.35 L960.531 1354.2 L957.814 1351.49 L960.793 1348.51 Q963.231 1346.07 963.559 1343.81 Q963.87 1341.53 962.037 1339.7 Q960.154 1337.82 957.814 1338.16 Q955.473 1338.47 952.985 1340.96 Q951.626 1342.32 950.366 1344.17 Q949.106 1346.02 947.862 1348.51 L944.915 1345.56 Q946.274 1343.15 947.649 1341.26 Q949.04 1339.34 950.497 1337.88 Q954.262 1334.12 958.174 1333.64 Q962.069 1333.15 964.983 1336.07 Q967.012 1338.1 967.258 1340.67 Q967.487 1343.22 965.883 1345.9 Z\" fill=\"#000000\" fill-rule=\"evenodd\" fill-opacity=\"1\" /><path clip-path=\"url(#clip130)\" d=\"M 0 0 M975.213 1341.88 L984.035 1333.06 L986.72 1335.74 L977.897 1344.56 L975.213 1341.88 Z\" fill=\"#000000\" fill-rule=\"evenodd\" fill-opacity=\"1\" /><path clip-path=\"url(#clip130)\" d=\"M 0 0 M982.955 1310.66 Q980.402 1313.22 981.629 1317.03 Q982.857 1320.81 987.898 1325.85 Q992.923 1330.88 996.721 1332.12 Q1000.52 1333.33 1003.07 1330.78 Q1005.64 1328.21 1004.41 1324.43 Q1003.19 1320.62 998.161 1315.59 Q993.12 1310.55 989.322 1309.34 Q985.525 1308.09 982.955 1310.66 M980.336 1308.04 Q984.444 1303.94 989.862 1305.03 Q995.28 1306.1 1001.47 1312.28 Q1007.64 1318.45 1008.72 1323.89 Q1009.8 1329.29 1005.69 1333.4 Q1001.58 1337.51 996.164 1336.44 Q990.746 1335.35 984.575 1329.18 Q978.388 1322.99 977.308 1317.59 Q976.228 1312.15 980.336 1308.04 Z\" fill=\"#000000\" fill-rule=\"evenodd\" fill-opacity=\"1\" /><path clip-path=\"url(#clip130)\" d=\"M 0 0 M1011.19 1299.88 Q1008.96 1302.1 1009.18 1304.93 Q1009.41 1307.75 1012.06 1310.4 Q1014.69 1313.04 1017.52 1313.28 Q1020.36 1313.5 1022.58 1311.27 Q1024.81 1309.04 1024.58 1306.23 Q1024.35 1303.38 1021.71 1300.74 Q1019.06 1298.09 1016.23 1297.88 Q1013.42 1297.65 1011.19 1299.88 M1007.39 1282.95 L1010.4 1285.96 Q1008.57 1286.62 1006.98 1287.58 Q1005.41 1288.53 1004.17 1289.78 Q1000.89 1293.05 1001.37 1297 Q1001.86 1300.92 1006.08 1305.64 Q1005.62 1303.25 1006.33 1301.04 Q1007.02 1298.81 1008.77 1297.06 Q1012.45 1293.38 1016.82 1293.49 Q1021.19 1293.58 1025.04 1297.42 Q1028.8 1301.19 1028.85 1305.69 Q1028.9 1310.19 1025.2 1313.89 Q1020.96 1318.13 1015.48 1317.13 Q1009.98 1316.11 1003.81 1309.94 Q998.014 1304.15 997.326 1297.96 Q996.622 1291.76 1001.25 1287.13 Q1002.5 1285.88 1004 1284.87 Q1005.53 1283.84 1007.39 1282.95 Z\" fill=\"#000000\" fill-rule=\"evenodd\" fill-opacity=\"1\" /><path clip-path=\"url(#clip130)\" d=\"M 0 0 M1076.26 1465.93 L1087.8 1454.39 L1090.58 1457.17 L1075.06 1472.69 L1072.28 1469.91 Q1072.21 1466.08 1072.18 1459.56 Q1072.15 1453.02 1072.03 1451.23 Q1071.84 1447.86 1071.23 1446.01 Q1070.63 1444.13 1069.43 1442.93 Q1067.48 1440.99 1064.88 1441.13 Q1062.29 1441.26 1060.1 1443.46 Q1058.55 1445.01 1057.35 1447.29 Q1056.17 1449.55 1055.31 1452.61 L1051.97 1449.27 Q1053.16 1446.47 1054.49 1444.33 Q1055.81 1442.18 1057.25 1440.74 Q1061.05 1436.94 1065.21 1436.58 Q1069.37 1436.22 1072.54 1439.4 Q1074.05 1440.9 1074.83 1442.84 Q1075.62 1444.73 1075.96 1448.06 Q1076.03 1448.94 1076.11 1453.41 Q1076.17 1457.86 1076.26 1465.93 Z\" fill=\"#000000\" fill-rule=\"evenodd\" fill-opacity=\"1\" /><path clip-path=\"url(#clip130)\" d=\"M 0 0 M1078.97 1424.26 Q1076.42 1426.81 1077.65 1430.63 Q1078.88 1434.41 1083.92 1439.45 Q1088.94 1444.47 1092.74 1445.72 Q1096.54 1446.93 1099.09 1444.37 Q1101.66 1441.8 1100.43 1438.02 Q1099.2 1434.21 1094.18 1429.19 Q1089.14 1424.14 1085.34 1422.93 Q1081.54 1421.69 1078.97 1424.26 M1076.36 1421.64 Q1080.46 1417.53 1085.88 1418.63 Q1091.3 1419.69 1097.49 1425.88 Q1103.66 1432.05 1104.74 1437.48 Q1105.82 1442.89 1101.71 1446.99 Q1097.6 1451.1 1092.18 1450.04 Q1086.77 1448.94 1080.59 1442.77 Q1074.41 1436.58 1073.33 1431.18 Q1072.25 1425.75 1076.36 1421.64 Z\" fill=\"#000000\" fill-rule=\"evenodd\" fill-opacity=\"1\" /><path clip-path=\"url(#clip130)\" d=\"M 0 0 M1113.33 1428.86 L1124.87 1417.32 L1127.65 1420.1 L1112.14 1435.62 L1109.35 1432.84 Q1109.29 1429.01 1109.25 1422.49 Q1109.22 1415.94 1109.11 1414.16 Q1108.91 1410.79 1108.31 1408.94 Q1107.7 1407.06 1106.51 1405.86 Q1104.56 1403.91 1101.95 1404.06 Q1099.37 1404.19 1097.18 1406.38 Q1095.62 1407.94 1094.43 1410.21 Q1093.25 1412.47 1092.38 1415.53 L1089.04 1412.19 Q1090.24 1409.4 1091.56 1407.25 Q1092.89 1405.11 1094.33 1403.67 Q1098.12 1399.87 1102.28 1399.51 Q1106.44 1399.15 1109.62 1402.32 Q1111.12 1403.83 1111.91 1405.76 Q1112.69 1407.66 1113.04 1410.98 Q1113.1 1411.87 1113.18 1416.34 Q1113.25 1420.79 1113.33 1428.86 Z\" fill=\"#000000\" fill-rule=\"evenodd\" fill-opacity=\"1\" /><path clip-path=\"url(#clip130)\" d=\"M 0 0 M1116.05 1387.18 Q1113.49 1389.74 1114.72 1393.55 Q1115.95 1397.33 1120.99 1402.37 Q1126.02 1407.4 1129.81 1408.64 Q1133.61 1409.85 1136.16 1407.3 Q1138.73 1404.73 1137.51 1400.95 Q1136.28 1397.14 1131.25 1392.11 Q1126.21 1387.07 1122.41 1385.86 Q1118.62 1384.61 1116.05 1387.18 M1113.43 1384.57 Q1117.54 1380.46 1122.96 1381.55 Q1128.37 1382.62 1134.56 1388.8 Q1140.73 1394.98 1141.81 1400.41 Q1142.89 1405.81 1138.78 1409.92 Q1134.67 1414.03 1129.26 1412.96 Q1123.84 1411.87 1117.67 1405.7 Q1111.48 1399.51 1110.4 1394.11 Q1109.32 1388.67 1113.43 1384.57 Z\" fill=\"#000000\" fill-rule=\"evenodd\" fill-opacity=\"1\" /><path clip-path=\"url(#clip130)\" d=\"M 0 0 M1137.87 1388.84 L1146.69 1380.02 L1149.37 1382.7 L1140.55 1391.52 L1137.87 1388.84 Z\" fill=\"#000000\" fill-rule=\"evenodd\" fill-opacity=\"1\" /><path clip-path=\"url(#clip130)\" d=\"M 0 0 M1145.61 1357.62 Q1143.06 1360.18 1144.28 1363.99 Q1145.51 1367.77 1150.55 1372.81 Q1155.58 1377.84 1159.37 1379.08 Q1163.17 1380.29 1165.72 1377.74 Q1168.29 1375.17 1167.07 1371.39 Q1165.84 1367.58 1160.81 1362.55 Q1155.77 1357.51 1151.98 1356.3 Q1148.18 1355.05 1145.61 1357.62 M1142.99 1355 Q1147.1 1350.9 1152.52 1351.99 Q1157.93 1353.06 1164.12 1359.24 Q1170.29 1365.41 1171.37 1370.85 Q1172.45 1376.25 1168.34 1380.36 Q1164.24 1384.47 1158.82 1383.4 Q1153.4 1382.31 1147.23 1376.14 Q1141.04 1369.95 1139.96 1364.55 Q1138.88 1359.11 1142.99 1355 Z\" fill=\"#000000\" fill-rule=\"evenodd\" fill-opacity=\"1\" /><path clip-path=\"url(#clip130)\" d=\"M 0 0 M1176.74 1344.66 Q1179.62 1342.79 1182.55 1343.07 Q1185.5 1343.33 1187.85 1345.69 Q1191.47 1349.31 1190.96 1353.78 Q1190.46 1358.25 1185.87 1362.83 Q1184.34 1364.37 1182.39 1365.69 Q1180.47 1367.02 1178.13 1368.15 L1174.94 1364.96 Q1177.12 1364.38 1179.16 1363.16 Q1181.21 1361.93 1182.99 1360.14 Q1186.1 1357.03 1186.5 1354.19 Q1186.91 1351.32 1184.56 1348.98 Q1182.4 1346.82 1179.67 1347.13 Q1176.94 1347.41 1174.24 1350.11 L1171.39 1352.96 L1168.67 1350.24 L1171.65 1347.26 Q1174.09 1344.82 1174.42 1342.56 Q1174.73 1340.29 1172.89 1338.46 Q1171.01 1336.57 1168.67 1336.92 Q1166.33 1337.23 1163.84 1339.72 Q1162.48 1341.08 1161.22 1342.93 Q1159.96 1344.77 1158.72 1347.26 L1155.77 1344.32 Q1157.13 1341.91 1158.51 1340.01 Q1159.9 1338.1 1161.35 1336.64 Q1165.12 1332.88 1169.03 1332.4 Q1172.93 1331.91 1175.84 1334.82 Q1177.87 1336.85 1178.12 1339.42 Q1178.34 1341.98 1176.74 1344.66 Z\" fill=\"#000000\" fill-rule=\"evenodd\" fill-opacity=\"1\" /><path clip-path=\"url(#clip130)\" d=\"M 0 0 M1186.07 1340.63 L1194.89 1331.81 L1197.58 1334.5 L1188.75 1343.32 L1186.07 1340.63 Z\" fill=\"#000000\" fill-rule=\"evenodd\" fill-opacity=\"1\" /><path clip-path=\"url(#clip130)\" d=\"M 0 0 M1209.07 1333.12 L1220.61 1321.58 L1223.39 1324.36 L1207.87 1339.88 L1205.09 1337.1 Q1205.02 1333.27 1204.99 1326.75 Q1204.96 1320.21 1204.84 1318.42 Q1204.65 1315.05 1204.04 1313.2 Q1203.44 1311.32 1202.24 1310.12 Q1200.29 1308.18 1197.69 1308.32 Q1195.11 1308.45 1192.91 1310.65 Q1191.36 1312.2 1190.16 1314.48 Q1188.98 1316.74 1188.12 1319.8 L1184.78 1316.46 Q1185.97 1313.66 1187.3 1311.51 Q1188.62 1309.37 1190.06 1307.93 Q1193.86 1304.13 1198.02 1303.77 Q1202.18 1303.41 1205.35 1306.59 Q1206.86 1308.09 1207.64 1310.03 Q1208.43 1311.92 1208.77 1315.25 Q1208.84 1316.13 1208.92 1320.6 Q1208.99 1325.05 1209.07 1333.12 Z\" fill=\"#000000\" fill-rule=\"evenodd\" fill-opacity=\"1\" /><path clip-path=\"url(#clip130)\" d=\"M 0 0 M1211.78 1291.45 Q1209.23 1294 1210.46 1297.81 Q1211.69 1301.6 1216.73 1306.64 Q1221.75 1311.66 1225.55 1312.91 Q1229.35 1314.12 1231.9 1311.56 Q1234.47 1308.99 1233.24 1305.21 Q1232.02 1301.4 1226.99 1296.37 Q1221.95 1291.33 1218.15 1290.12 Q1214.35 1288.88 1211.78 1291.45 M1209.17 1288.83 Q1213.27 1284.72 1218.69 1285.82 Q1224.11 1286.88 1230.3 1293.07 Q1236.47 1299.24 1237.55 1304.67 Q1238.63 1310.07 1234.52 1314.18 Q1230.41 1318.29 1224.99 1317.23 Q1219.58 1316.13 1213.41 1309.96 Q1207.22 1303.77 1206.14 1298.37 Q1205.06 1292.94 1209.17 1288.83 Z\" fill=\"#000000\" fill-rule=\"evenodd\" fill-opacity=\"1\" /><path clip-path=\"url(#clip130)\" d=\"M 0 0 M1284.4 1467.4 L1295.94 1455.87 L1298.72 1458.65 L1283.2 1474.16 L1280.42 1471.38 Q1280.35 1467.55 1280.32 1461.04 Q1280.29 1454.49 1280.17 1452.71 Q1279.98 1449.33 1279.37 1447.48 Q1278.77 1445.6 1277.57 1444.41 Q1275.62 1442.46 1273.02 1442.61 Q1270.44 1442.74 1268.24 1444.93 Q1266.69 1446.49 1265.49 1448.76 Q1264.31 1451.02 1263.45 1454.08 L1260.11 1450.74 Q1261.3 1447.94 1262.63 1445.8 Q1263.95 1443.65 1265.39 1442.21 Q1269.19 1438.42 1273.35 1438.06 Q1277.51 1437.7 1280.68 1440.87 Q1282.19 1442.38 1282.97 1444.31 Q1283.76 1446.21 1284.1 1449.53 Q1284.17 1450.41 1284.25 1454.88 Q1284.32 1459.34 1284.4 1467.4 Z\" fill=\"#000000\" fill-rule=\"evenodd\" fill-opacity=\"1\" /><path clip-path=\"url(#clip130)\" d=\"M 0 0 M1287.11 1425.73 Q1284.56 1428.28 1285.79 1432.1 Q1287.02 1435.88 1292.06 1440.92 Q1297.08 1445.95 1300.88 1447.19 Q1304.68 1448.4 1307.23 1445.85 Q1309.8 1443.28 1308.57 1439.5 Q1307.35 1435.68 1302.32 1430.66 Q1297.28 1425.62 1293.48 1424.41 Q1289.68 1423.16 1287.11 1425.73 M1284.5 1423.11 Q1288.6 1419 1294.02 1420.1 Q1299.44 1421.16 1305.63 1427.35 Q1311.8 1433.52 1312.88 1438.96 Q1313.96 1444.36 1309.85 1448.47 Q1305.74 1452.58 1300.32 1451.51 Q1294.91 1450.41 1288.73 1444.24 Q1282.55 1438.06 1281.47 1432.66 Q1280.39 1427.22 1284.5 1423.11 Z\" fill=\"#000000\" fill-rule=\"evenodd\" fill-opacity=\"1\" /><path clip-path=\"url(#clip130)\" d=\"M 0 0 M1321.47 1430.33 L1333.01 1418.79 L1335.79 1421.57 L1320.28 1437.09 L1317.49 1434.31 Q1317.43 1430.48 1317.4 1423.96 Q1317.36 1417.42 1317.25 1415.63 Q1317.05 1412.26 1316.45 1410.41 Q1315.84 1408.53 1314.65 1407.33 Q1312.7 1405.39 1310.1 1405.53 Q1307.51 1405.66 1305.32 1407.86 Q1303.76 1409.41 1302.57 1411.69 Q1301.39 1413.95 1300.52 1417.01 L1297.18 1413.67 Q1298.38 1410.87 1299.7 1408.72 Q1301.03 1406.58 1302.47 1405.14 Q1306.27 1401.34 1310.42 1400.98 Q1314.58 1400.62 1317.76 1403.8 Q1319.26 1405.3 1320.05 1407.24 Q1320.83 1409.13 1321.18 1412.46 Q1321.24 1413.34 1321.32 1417.81 Q1321.39 1422.26 1321.47 1430.33 Z\" fill=\"#000000\" fill-rule=\"evenodd\" fill-opacity=\"1\" /><path clip-path=\"url(#clip130)\" d=\"M 0 0 M1324.19 1388.66 Q1321.63 1391.21 1322.86 1395.02 Q1324.09 1398.81 1329.13 1403.85 Q1334.16 1408.87 1337.95 1410.12 Q1341.75 1411.33 1344.3 1408.77 Q1346.87 1406.2 1345.65 1402.42 Q1344.42 1398.61 1339.39 1393.58 Q1334.35 1388.54 1330.56 1387.33 Q1326.76 1386.09 1324.19 1388.66 M1321.57 1386.04 Q1325.68 1381.93 1331.1 1383.03 Q1336.51 1384.09 1342.7 1390.28 Q1348.87 1396.45 1349.95 1401.88 Q1351.03 1407.28 1346.92 1411.39 Q1342.82 1415.5 1337.4 1414.44 Q1331.98 1413.34 1325.81 1407.17 Q1319.62 1400.98 1318.54 1395.58 Q1317.46 1390.15 1321.57 1386.04 Z\" fill=\"#000000\" fill-rule=\"evenodd\" fill-opacity=\"1\" /><path clip-path=\"url(#clip130)\" d=\"M 0 0 M1346.01 1390.31 L1354.83 1381.49 L1357.51 1384.17 L1348.69 1393 L1346.01 1390.31 Z\" fill=\"#000000\" fill-rule=\"evenodd\" fill-opacity=\"1\" /><path clip-path=\"url(#clip130)\" d=\"M 0 0 M1353.75 1359.1 Q1351.2 1361.65 1352.42 1365.46 Q1353.65 1369.25 1358.69 1374.29 Q1363.72 1379.31 1367.51 1380.56 Q1371.31 1381.77 1373.87 1379.21 Q1376.44 1376.64 1375.21 1372.86 Q1373.98 1369.05 1368.96 1364.02 Q1363.91 1358.98 1360.12 1357.77 Q1356.32 1356.53 1353.75 1359.1 M1351.13 1356.48 Q1355.24 1352.37 1360.66 1353.47 Q1366.07 1354.53 1372.26 1360.72 Q1378.43 1366.89 1379.51 1372.32 Q1380.59 1377.72 1376.48 1381.83 Q1372.38 1385.94 1366.96 1384.88 Q1361.54 1383.78 1355.37 1377.61 Q1349.18 1371.42 1348.1 1366.02 Q1347.02 1360.59 1351.13 1356.48 Z\" fill=\"#000000\" fill-rule=\"evenodd\" fill-opacity=\"1\" /><path clip-path=\"url(#clip130)\" d=\"M 0 0 M1375.57 1338.69 L1380.27 1360.08 L1388.61 1351.73 L1375.57 1338.69 M1371.82 1336.67 L1375.98 1332.51 L1391.9 1348.44 L1395.39 1344.95 L1398.14 1347.7 L1394.65 1351.19 L1400.41 1356.95 L1397.12 1360.24 L1391.36 1354.48 L1380.33 1365.51 L1377.14 1362.32 L1371.82 1336.67 Z\" fill=\"#000000\" fill-rule=\"evenodd\" fill-opacity=\"1\" /><path clip-path=\"url(#clip130)\" d=\"M 0 0 M1395.01 1341.3 L1403.84 1332.48 L1406.52 1335.17 L1397.7 1343.99 L1395.01 1341.3 Z\" fill=\"#000000\" fill-rule=\"evenodd\" fill-opacity=\"1\" /><path clip-path=\"url(#clip130)\" d=\"M 0 0 M1402.76 1310.09 Q1400.2 1312.64 1401.43 1316.46 Q1402.66 1320.24 1407.7 1325.28 Q1412.72 1330.31 1416.52 1331.55 Q1420.32 1332.76 1422.87 1330.21 Q1425.44 1327.64 1424.21 1323.86 Q1422.99 1320.04 1417.96 1315.02 Q1412.92 1309.98 1409.12 1308.76 Q1405.33 1307.52 1402.76 1310.09 M1400.14 1307.47 Q1404.24 1303.36 1409.66 1304.46 Q1415.08 1305.52 1421.27 1311.71 Q1427.44 1317.88 1428.52 1323.32 Q1429.6 1328.72 1425.49 1332.83 Q1421.38 1336.93 1415.96 1335.87 Q1410.55 1334.77 1404.38 1328.6 Q1398.19 1322.42 1397.11 1317.01 Q1396.03 1311.58 1400.14 1307.47 Z\" fill=\"#000000\" fill-rule=\"evenodd\" fill-opacity=\"1\" /><path clip-path=\"url(#clip130)\" d=\"M 0 0 M1433.89 1297.13 Q1436.77 1295.26 1439.7 1295.54 Q1442.64 1295.8 1445 1298.16 Q1448.62 1301.78 1448.11 1306.24 Q1447.6 1310.71 1443.02 1315.3 Q1441.48 1316.83 1439.53 1318.16 Q1437.62 1319.49 1435.28 1320.62 L1432.09 1317.42 Q1434.26 1316.85 1436.31 1315.62 Q1438.36 1314.4 1440.14 1312.61 Q1443.25 1309.5 1443.64 1306.65 Q1444.05 1303.79 1441.71 1301.45 Q1439.55 1299.29 1436.82 1299.6 Q1434.08 1299.88 1431.38 1302.58 L1428.54 1305.43 L1425.82 1302.71 L1428.8 1299.73 Q1431.24 1297.29 1431.56 1295.03 Q1431.87 1292.76 1430.04 1290.92 Q1428.16 1289.04 1425.82 1289.38 Q1423.48 1289.7 1420.99 1292.18 Q1419.63 1293.54 1418.37 1295.39 Q1417.11 1297.24 1415.87 1299.73 L1412.92 1296.78 Q1414.28 1294.38 1415.65 1292.48 Q1417.04 1290.56 1418.5 1289.11 Q1422.27 1285.34 1426.18 1284.87 Q1430.07 1284.38 1432.99 1287.29 Q1435.02 1289.32 1435.26 1291.89 Q1435.49 1294.44 1433.89 1297.13 Z\" fill=\"#000000\" fill-rule=\"evenodd\" fill-opacity=\"1\" /><path clip-path=\"url(#clip130)\" d=\"M 0 0 M1495.06 1466.36 L1506.6 1454.82 L1509.38 1457.6 L1493.86 1473.12 L1491.08 1470.33 Q1491.02 1466.5 1490.98 1459.99 Q1490.95 1453.44 1490.84 1451.66 Q1490.64 1448.29 1490.03 1446.44 Q1489.43 1444.55 1488.23 1443.36 Q1486.29 1441.41 1483.68 1441.56 Q1481.1 1441.69 1478.9 1443.88 Q1477.35 1445.44 1476.15 1447.71 Q1474.97 1449.97 1474.11 1453.03 L1470.77 1449.69 Q1471.96 1446.9 1473.29 1444.75 Q1474.61 1442.61 1476.06 1441.17 Q1479.85 1437.37 1484.01 1437.01 Q1488.17 1436.65 1491.34 1439.82 Q1492.85 1441.33 1493.63 1443.26 Q1494.42 1445.16 1494.76 1448.48 Q1494.83 1449.37 1494.91 1453.84 Q1494.98 1458.29 1495.06 1466.36 Z\" fill=\"#000000\" fill-rule=\"evenodd\" fill-opacity=\"1\" /><path clip-path=\"url(#clip130)\" d=\"M 0 0 M1497.78 1424.68 Q1495.22 1427.24 1496.45 1431.05 Q1497.68 1434.83 1502.72 1439.87 Q1507.74 1444.9 1511.54 1446.14 Q1515.34 1447.35 1517.89 1444.8 Q1520.46 1442.23 1519.23 1438.45 Q1518.01 1434.64 1512.98 1429.61 Q1507.94 1424.57 1504.14 1423.36 Q1500.35 1422.11 1497.78 1424.68 M1495.16 1422.06 Q1499.27 1417.96 1504.68 1419.05 Q1510.1 1420.12 1516.29 1426.3 Q1522.46 1432.48 1523.54 1437.91 Q1524.62 1443.31 1520.51 1447.42 Q1516.4 1451.53 1510.98 1450.46 Q1505.57 1449.37 1499.4 1443.2 Q1493.21 1437.01 1492.13 1431.61 Q1491.05 1426.17 1495.16 1422.06 Z\" fill=\"#000000\" fill-rule=\"evenodd\" fill-opacity=\"1\" /><path clip-path=\"url(#clip130)\" d=\"M 0 0 M1532.13 1429.28 L1543.67 1417.74 L1546.45 1420.53 L1530.94 1436.04 L1528.16 1433.26 Q1528.09 1429.43 1528.06 1422.92 Q1528.02 1416.37 1527.91 1414.58 Q1527.71 1411.21 1527.11 1409.36 Q1526.5 1407.48 1525.31 1406.29 Q1523.36 1404.34 1520.76 1404.49 Q1518.17 1404.62 1515.98 1406.81 Q1514.42 1408.36 1513.23 1410.64 Q1512.05 1412.9 1511.18 1415.96 L1507.84 1412.62 Q1509.04 1409.82 1510.36 1407.68 Q1511.69 1405.53 1513.13 1404.09 Q1516.93 1400.3 1521.08 1399.94 Q1525.24 1399.58 1528.42 1402.75 Q1529.92 1404.26 1530.71 1406.19 Q1531.49 1408.09 1531.84 1411.41 Q1531.9 1412.29 1531.99 1416.76 Q1532.05 1421.21 1532.13 1429.28 Z\" fill=\"#000000\" fill-rule=\"evenodd\" fill-opacity=\"1\" /><path clip-path=\"url(#clip130)\" d=\"M 0 0 M1534.85 1387.61 Q1532.3 1390.16 1533.52 1393.98 Q1534.75 1397.76 1539.79 1402.8 Q1544.82 1407.82 1548.62 1409.07 Q1552.41 1410.28 1554.97 1407.73 Q1557.54 1405.16 1556.31 1401.38 Q1555.08 1397.56 1550.06 1392.54 Q1545.01 1387.5 1541.22 1386.28 Q1537.42 1385.04 1534.85 1387.61 M1532.23 1384.99 Q1536.34 1380.88 1541.76 1381.98 Q1547.17 1383.04 1553.36 1389.23 Q1559.53 1395.4 1560.61 1400.84 Q1561.69 1406.24 1557.58 1410.35 Q1553.48 1414.45 1548.06 1413.39 Q1542.64 1412.29 1536.47 1406.12 Q1530.28 1399.94 1529.2 1394.53 Q1528.12 1389.1 1532.23 1384.99 Z\" fill=\"#000000\" fill-rule=\"evenodd\" fill-opacity=\"1\" /><path clip-path=\"url(#clip130)\" d=\"M 0 0 M1556.67 1389.26 L1565.49 1380.44 L1568.18 1383.13 L1559.35 1391.95 L1556.67 1389.26 Z\" fill=\"#000000\" fill-rule=\"evenodd\" fill-opacity=\"1\" /><path clip-path=\"url(#clip130)\" d=\"M 0 0 M1564.41 1358.05 Q1561.86 1360.6 1563.08 1364.42 Q1564.31 1368.2 1569.35 1373.24 Q1574.38 1378.26 1578.18 1379.51 Q1581.97 1380.72 1584.53 1378.17 Q1587.1 1375.6 1585.87 1371.81 Q1584.64 1368 1579.62 1362.98 Q1574.58 1357.93 1570.78 1356.72 Q1566.98 1355.48 1564.41 1358.05 M1561.79 1355.43 Q1565.9 1351.32 1571.32 1352.42 Q1576.74 1353.48 1582.92 1359.67 Q1589.09 1365.84 1590.17 1371.27 Q1591.25 1376.68 1587.15 1380.78 Q1583.04 1384.89 1577.62 1383.83 Q1572.2 1382.73 1566.03 1376.56 Q1559.84 1370.37 1558.76 1364.97 Q1557.68 1359.54 1561.79 1355.43 Z\" fill=\"#000000\" fill-rule=\"evenodd\" fill-opacity=\"1\" /><path clip-path=\"url(#clip130)\" d=\"M 0 0 M1586.23 1337.64 L1590.93 1359.03 L1599.27 1350.68 L1586.23 1337.64 M1582.48 1335.62 L1586.64 1331.47 L1602.56 1347.39 L1606.05 1343.91 L1608.8 1346.66 L1605.31 1350.14 L1611.08 1355.9 L1607.79 1359.19 L1602.02 1353.43 L1590.99 1364.47 L1587.8 1361.27 L1582.48 1335.62 Z\" fill=\"#000000\" fill-rule=\"evenodd\" fill-opacity=\"1\" /><path clip-path=\"url(#clip130)\" d=\"M 0 0 M1605.67 1340.26 L1614.5 1331.43 L1617.18 1334.12 L1608.36 1342.94 L1605.67 1340.26 Z\" fill=\"#000000\" fill-rule=\"evenodd\" fill-opacity=\"1\" /><path clip-path=\"url(#clip130)\" d=\"M 0 0 M1626.4 1335.02 L1631.8 1329.62 L1613.15 1310.97 L1608.46 1318.03 L1605.45 1315.02 L1610.11 1308 L1613.42 1304.69 L1635.07 1326.34 L1640.47 1320.94 L1643.26 1323.73 L1629.18 1337.8 L1626.4 1335.02 Z\" fill=\"#000000\" fill-rule=\"evenodd\" fill-opacity=\"1\" /><path clip-path=\"url(#clip130)\" d=\"M 0 0 M1621.57 1296.54 L1637.28 1280.82 L1638.69 1282.23 L1652.85 1314.13 L1649.39 1317.59 L1636.09 1287.58 L1624.35 1299.32 L1621.57 1296.54 Z\" fill=\"#000000\" fill-rule=\"evenodd\" fill-opacity=\"1\" /><path clip-path=\"url(#clip130)\" d=\"M 0 0 M1705.08 1465.95 L1716.62 1454.41 L1719.4 1457.19 L1703.89 1472.71 L1701.1 1469.93 Q1701.04 1466.1 1701.01 1459.58 Q1700.97 1453.03 1700.86 1451.25 Q1700.66 1447.88 1700.06 1446.03 Q1699.45 1444.15 1698.26 1442.95 Q1696.31 1441 1693.71 1441.15 Q1691.12 1441.28 1688.93 1443.47 Q1687.37 1445.03 1686.18 1447.3 Q1685 1449.56 1684.13 1452.62 L1680.79 1449.29 Q1681.99 1446.49 1683.31 1444.34 Q1684.64 1442.2 1686.08 1440.76 Q1689.88 1436.96 1694.03 1436.6 Q1698.19 1436.24 1701.37 1439.42 Q1702.87 1440.92 1703.66 1442.85 Q1704.44 1444.75 1704.79 1448.07 Q1704.85 1448.96 1704.93 1453.43 Q1705 1457.88 1705.08 1465.95 Z\" fill=\"#000000\" fill-rule=\"evenodd\" fill-opacity=\"1\" /><path clip-path=\"url(#clip130)\" d=\"M 0 0 M1707.8 1424.27 Q1705.25 1426.83 1706.47 1430.64 Q1707.7 1434.42 1712.74 1439.46 Q1717.77 1444.49 1721.56 1445.73 Q1725.36 1446.94 1727.92 1444.39 Q1730.48 1441.82 1729.26 1438.04 Q1728.03 1434.23 1723 1429.2 Q1717.96 1424.16 1714.17 1422.95 Q1710.37 1421.7 1707.8 1424.27 M1705.18 1421.66 Q1709.29 1417.55 1714.71 1418.64 Q1720.12 1419.71 1726.31 1425.9 Q1732.48 1432.07 1733.56 1437.5 Q1734.64 1442.9 1730.53 1447.01 Q1726.43 1451.12 1721.01 1450.05 Q1715.59 1448.96 1709.42 1442.79 Q1703.23 1436.6 1702.15 1431.2 Q1701.07 1425.76 1705.18 1421.66 Z\" fill=\"#000000\" fill-rule=\"evenodd\" fill-opacity=\"1\" /><path clip-path=\"url(#clip130)\" d=\"M 0 0 M1742.16 1428.87 L1753.69 1417.33 L1756.48 1420.12 L1740.96 1435.63 L1738.18 1432.85 Q1738.11 1429.02 1738.08 1422.51 Q1738.05 1415.96 1737.93 1414.18 Q1737.74 1410.8 1737.13 1408.95 Q1736.52 1407.07 1735.33 1405.88 Q1733.38 1403.93 1730.78 1404.08 Q1728.19 1404.21 1726 1406.4 Q1724.45 1407.96 1723.25 1410.23 Q1722.07 1412.49 1721.2 1415.55 L1717.87 1412.21 Q1719.06 1409.41 1720.39 1407.27 Q1721.71 1405.12 1723.15 1403.68 Q1726.95 1399.89 1731.11 1399.53 Q1735.26 1399.17 1738.44 1402.34 Q1739.95 1403.85 1740.73 1405.78 Q1741.52 1407.68 1741.86 1411 Q1741.93 1411.88 1742.01 1416.35 Q1742.07 1420.8 1742.16 1428.87 Z\" fill=\"#000000\" fill-rule=\"evenodd\" fill-opacity=\"1\" /><path clip-path=\"url(#clip130)\" d=\"M 0 0 M1744.87 1387.2 Q1742.32 1389.75 1743.55 1393.57 Q1744.77 1397.35 1749.82 1402.39 Q1754.84 1407.42 1758.64 1408.66 Q1762.44 1409.87 1764.99 1407.32 Q1767.56 1404.75 1766.33 1400.97 Q1765.1 1397.15 1760.08 1392.13 Q1755.04 1387.09 1751.24 1385.88 Q1747.44 1384.63 1744.87 1387.2 M1742.25 1384.58 Q1746.36 1380.47 1751.78 1381.57 Q1757.2 1382.63 1763.38 1388.82 Q1769.56 1394.99 1770.64 1400.43 Q1771.72 1405.83 1767.61 1409.94 Q1763.5 1414.04 1758.08 1412.98 Q1752.66 1411.88 1746.49 1405.71 Q1740.31 1399.53 1739.23 1394.12 Q1738.15 1388.69 1742.25 1384.58 Z\" fill=\"#000000\" fill-rule=\"evenodd\" fill-opacity=\"1\" /><path clip-path=\"url(#clip130)\" d=\"M 0 0 M1766.69 1388.85 L1775.51 1380.03 L1778.2 1382.72 L1769.38 1391.54 L1766.69 1388.85 Z\" fill=\"#000000\" fill-rule=\"evenodd\" fill-opacity=\"1\" /><path clip-path=\"url(#clip130)\" d=\"M 0 0 M1774.43 1357.64 Q1771.88 1360.19 1773.11 1364.01 Q1774.34 1367.79 1779.38 1372.83 Q1784.4 1377.85 1788.2 1379.1 Q1792 1380.31 1794.55 1377.76 Q1797.12 1375.19 1795.89 1371.41 Q1794.66 1367.59 1789.64 1362.57 Q1784.6 1357.53 1780.8 1356.31 Q1777 1355.07 1774.43 1357.64 M1771.81 1355.02 Q1775.92 1350.91 1781.34 1352.01 Q1786.76 1353.07 1792.95 1359.26 Q1799.12 1365.43 1800.2 1370.87 Q1801.28 1376.27 1797.17 1380.38 Q1793.06 1384.48 1787.64 1383.42 Q1782.22 1382.32 1776.05 1376.15 Q1769.87 1369.97 1768.79 1364.56 Q1767.71 1359.13 1771.81 1355.02 Z\" fill=\"#000000\" fill-rule=\"evenodd\" fill-opacity=\"1\" /><path clip-path=\"url(#clip130)\" d=\"M 0 0 M1784.32 1343.4 L1797.3 1330.42 L1800.08 1333.2 L1790.13 1343.15 L1796.12 1349.14 Q1796.6 1348.18 1797.2 1347.34 Q1797.79 1346.49 1798.51 1345.77 Q1802.6 1341.68 1807.24 1341.53 Q1811.87 1341.39 1815.7 1345.22 Q1819.64 1349.16 1819.38 1353.81 Q1819.1 1358.44 1814.63 1362.91 Q1813.09 1364.45 1811.23 1365.79 Q1809.38 1367.12 1807.15 1368.3 L1803.83 1364.97 Q1806.11 1364.3 1808.07 1363.12 Q1810.03 1361.94 1811.79 1360.19 Q1814.62 1357.36 1814.78 1354.22 Q1814.94 1351.08 1812.39 1348.52 Q1809.84 1345.97 1806.69 1346.13 Q1803.55 1346.3 1800.72 1349.13 Q1799.39 1350.45 1798.36 1352.07 Q1797.35 1353.68 1796.6 1355.68 L1784.32 1343.4 Z\" fill=\"#000000\" fill-rule=\"evenodd\" fill-opacity=\"1\" /><path clip-path=\"url(#clip130)\" d=\"M 0 0 M1814.65 1340.9 L1823.47 1332.07 L1826.16 1334.76 L1817.33 1343.58 L1814.65 1340.9 Z\" fill=\"#000000\" fill-rule=\"evenodd\" fill-opacity=\"1\" /><path clip-path=\"url(#clip130)\" d=\"M 0 0 M1822.39 1309.68 Q1819.84 1312.23 1821.07 1316.05 Q1822.29 1319.83 1827.34 1324.87 Q1832.36 1329.9 1836.16 1331.14 Q1839.95 1332.35 1842.51 1329.8 Q1845.08 1327.23 1843.85 1323.45 Q1842.62 1319.63 1837.6 1314.61 Q1832.56 1309.57 1828.76 1308.36 Q1824.96 1307.11 1822.39 1309.68 M1819.77 1307.06 Q1823.88 1302.95 1829.3 1304.05 Q1834.72 1305.11 1840.9 1311.3 Q1847.08 1317.47 1848.16 1322.91 Q1849.24 1328.31 1845.13 1332.42 Q1841.02 1336.53 1835.6 1335.46 Q1830.18 1334.36 1824.01 1328.19 Q1817.83 1322.01 1816.74 1316.61 Q1815.66 1311.17 1819.77 1307.06 Z\" fill=\"#000000\" fill-rule=\"evenodd\" fill-opacity=\"1\" /><path clip-path=\"url(#clip130)\" d=\"M 0 0 M1854.47 1316.56 L1859.87 1311.15 L1841.23 1292.51 L1836.53 1299.57 L1833.52 1296.55 L1838.19 1289.53 L1841.49 1286.23 L1863.15 1307.88 L1868.55 1302.48 L1871.33 1305.26 L1857.26 1319.34 L1854.47 1316.56 Z\" fill=\"#000000\" fill-rule=\"evenodd\" fill-opacity=\"1\" /><path clip-path=\"url(#clip130)\" d=\"M 0 0 M1915.4 1465.24 L1926.94 1453.7 L1929.72 1456.49 L1914.2 1472 L1911.42 1469.22 Q1911.36 1465.39 1911.32 1458.88 Q1911.29 1452.33 1911.18 1450.55 Q1910.98 1447.17 1910.37 1445.32 Q1909.77 1443.44 1908.57 1442.25 Q1906.63 1440.3 1904.02 1440.45 Q1901.44 1440.58 1899.24 1442.77 Q1897.69 1444.33 1896.49 1446.6 Q1895.32 1448.86 1894.45 1451.92 L1891.11 1448.58 Q1892.3 1445.78 1893.63 1443.64 Q1894.96 1441.49 1896.4 1440.05 Q1900.19 1436.26 1904.35 1435.9 Q1908.51 1435.54 1911.68 1438.71 Q1913.19 1440.22 1913.98 1442.15 Q1914.76 1444.05 1915.1 1447.37 Q1915.17 1448.25 1915.25 1452.72 Q1915.32 1457.17 1915.4 1465.24 Z\" fill=\"#000000\" fill-rule=\"evenodd\" fill-opacity=\"1\" /><path clip-path=\"url(#clip130)\" d=\"M 0 0 M1918.12 1423.57 Q1915.56 1426.12 1916.79 1429.94 Q1918.02 1433.72 1923.06 1438.76 Q1928.08 1443.79 1931.88 1445.03 Q1935.68 1446.24 1938.23 1443.69 Q1940.8 1441.12 1939.57 1437.34 Q1938.35 1433.52 1933.32 1428.5 Q1928.28 1423.46 1924.48 1422.24 Q1920.69 1421 1918.12 1423.57 M1915.5 1420.95 Q1919.61 1416.84 1925.02 1417.94 Q1930.44 1419 1936.63 1425.19 Q1942.8 1431.36 1943.88 1436.8 Q1944.96 1442.2 1940.85 1446.31 Q1936.74 1450.41 1931.33 1449.35 Q1925.91 1448.25 1919.74 1442.08 Q1913.55 1435.9 1912.47 1430.49 Q1911.39 1425.06 1915.5 1420.95 Z\" fill=\"#000000\" fill-rule=\"evenodd\" fill-opacity=\"1\" /><path clip-path=\"url(#clip130)\" d=\"M 0 0 M1952.47 1428.17 L1964.01 1416.63 L1966.8 1419.41 L1951.28 1434.93 L1948.5 1432.15 Q1948.43 1428.32 1948.4 1421.8 Q1948.36 1415.26 1948.25 1413.47 Q1948.05 1410.1 1947.45 1408.25 Q1946.84 1406.37 1945.65 1405.17 Q1943.7 1403.23 1941.1 1403.37 Q1938.51 1403.5 1936.32 1405.7 Q1934.76 1407.25 1933.57 1409.53 Q1932.39 1411.79 1931.52 1414.85 L1928.18 1411.51 Q1929.38 1408.71 1930.7 1406.56 Q1932.03 1404.42 1933.47 1402.98 Q1937.27 1399.18 1941.42 1398.82 Q1945.58 1398.46 1948.76 1401.64 Q1950.26 1403.14 1951.05 1405.07 Q1951.83 1406.97 1952.18 1410.3 Q1952.24 1411.18 1952.33 1415.65 Q1952.39 1420.1 1952.47 1428.17 Z\" fill=\"#000000\" fill-rule=\"evenodd\" fill-opacity=\"1\" /><path clip-path=\"url(#clip130)\" d=\"M 0 0 M1955.19 1386.5 Q1952.64 1389.05 1953.86 1392.86 Q1955.09 1396.65 1960.13 1401.69 Q1965.16 1406.71 1968.96 1407.96 Q1972.75 1409.17 1975.31 1406.61 Q1977.88 1404.04 1976.65 1400.26 Q1975.42 1396.45 1970.4 1391.42 Q1965.35 1386.38 1961.56 1385.17 Q1957.76 1383.93 1955.19 1386.5 M1952.57 1383.88 Q1956.68 1379.77 1962.1 1380.87 Q1967.52 1381.93 1973.7 1388.12 Q1979.87 1394.29 1980.95 1399.72 Q1982.03 1405.12 1977.93 1409.23 Q1973.82 1413.34 1968.4 1412.28 Q1962.98 1411.18 1956.81 1405.01 Q1950.62 1398.82 1949.54 1393.42 Q1948.46 1387.99 1952.57 1383.88 Z\" fill=\"#000000\" fill-rule=\"evenodd\" fill-opacity=\"1\" /><path clip-path=\"url(#clip130)\" d=\"M 0 0 M1977.01 1388.15 L1985.83 1379.33 L1988.52 1382.01 L1979.69 1390.83 L1977.01 1388.15 Z\" fill=\"#000000\" fill-rule=\"evenodd\" fill-opacity=\"1\" /><path clip-path=\"url(#clip130)\" d=\"M 0 0 M1984.75 1356.94 Q1982.2 1359.49 1983.43 1363.3 Q1984.65 1367.08 1989.69 1372.13 Q1994.72 1377.15 1998.52 1378.39 Q2002.31 1379.61 2004.87 1377.05 Q2007.44 1374.48 2006.21 1370.7 Q2004.98 1366.89 1999.96 1361.86 Q1994.92 1356.82 1991.12 1355.61 Q1987.32 1354.37 1984.75 1356.94 M1982.13 1354.32 Q1986.24 1350.21 1991.66 1351.31 Q1997.08 1352.37 2003.26 1358.56 Q2009.43 1364.73 2010.51 1370.16 Q2011.59 1375.56 2007.49 1379.67 Q2003.38 1383.78 1997.96 1382.72 Q1992.54 1381.62 1986.37 1375.45 Q1980.18 1369.26 1979.1 1363.86 Q1978.02 1358.43 1982.13 1354.32 Z\" fill=\"#000000\" fill-rule=\"evenodd\" fill-opacity=\"1\" /><path clip-path=\"url(#clip130)\" d=\"M 0 0 M1994.64 1342.7 L2007.62 1329.72 L2010.4 1332.5 L2000.45 1342.45 L2006.44 1348.44 Q2006.91 1347.48 2007.52 1346.64 Q2008.11 1345.79 2008.83 1345.07 Q2012.92 1340.98 2017.55 1340.83 Q2022.18 1340.68 2026.01 1344.51 Q2029.96 1348.46 2029.7 1353.11 Q2029.42 1357.74 2024.95 1362.21 Q2023.41 1363.75 2021.55 1365.09 Q2019.7 1366.41 2017.47 1367.59 L2014.15 1364.27 Q2016.42 1363.6 2018.39 1362.42 Q2020.35 1361.24 2022.1 1359.49 Q2024.93 1356.66 2025.1 1353.52 Q2025.26 1350.37 2022.71 1347.82 Q2020.16 1345.27 2017.01 1345.43 Q2013.87 1345.59 2011.04 1348.42 Q2009.71 1349.75 2008.68 1351.37 Q2007.67 1352.98 2006.91 1354.97 L1994.64 1342.7 Z\" fill=\"#000000\" fill-rule=\"evenodd\" fill-opacity=\"1\" /><path clip-path=\"url(#clip130)\" d=\"M 0 0 M2024.97 1340.19 L2033.79 1331.37 L2036.47 1334.05 L2027.65 1342.88 L2024.97 1340.19 Z\" fill=\"#000000\" fill-rule=\"evenodd\" fill-opacity=\"1\" /><path clip-path=\"url(#clip130)\" d=\"M 0 0 M2045.69 1334.95 L2051.09 1329.55 L2032.45 1310.91 L2027.75 1317.96 L2024.74 1314.95 L2029.4 1307.93 L2032.71 1304.62 L2054.36 1326.28 L2059.77 1320.88 L2062.55 1323.66 L2048.47 1337.74 L2045.69 1334.95 Z\" fill=\"#000000\" fill-rule=\"evenodd\" fill-opacity=\"1\" /><path clip-path=\"url(#clip130)\" d=\"M 0 0 M2041.73 1295.6 L2054.71 1282.62 L2057.49 1285.41 L2047.54 1295.36 L2053.53 1301.35 Q2054 1300.38 2054.61 1299.55 Q2055.2 1298.7 2055.92 1297.98 Q2060.01 1293.89 2064.64 1293.74 Q2069.28 1293.59 2073.11 1297.42 Q2077.05 1301.37 2076.79 1306.01 Q2076.51 1310.65 2072.04 1315.12 Q2070.5 1316.65 2068.64 1318 Q2066.79 1319.32 2064.56 1320.5 L2061.24 1317.18 Q2063.51 1316.51 2065.48 1315.33 Q2067.44 1314.15 2069.19 1312.4 Q2072.03 1309.57 2072.19 1306.42 Q2072.35 1303.28 2069.8 1300.73 Q2067.25 1298.17 2064.1 1298.34 Q2060.96 1298.5 2058.13 1301.33 Q2056.8 1302.66 2055.77 1304.28 Q2054.76 1305.88 2054 1307.88 L2041.73 1295.6 Z\" fill=\"#000000\" fill-rule=\"evenodd\" fill-opacity=\"1\" /><path clip-path=\"url(#clip130)\" d=\"M 0 0 M217.301 1219.17 Q213.69 1219.17 211.862 1222.73 Q210.056 1226.28 210.056 1233.41 Q210.056 1240.51 211.862 1244.08 Q213.69 1247.62 217.301 1247.62 Q220.936 1247.62 222.741 1244.08 Q224.57 1240.51 224.57 1233.41 Q224.57 1226.28 222.741 1222.73 Q220.936 1219.17 217.301 1219.17 M217.301 1215.47 Q223.111 1215.47 226.167 1220.07 Q229.246 1224.66 229.246 1233.41 Q229.246 1242.13 226.167 1246.74 Q223.111 1251.32 217.301 1251.32 Q211.491 1251.32 208.412 1246.74 Q205.357 1242.13 205.357 1233.41 Q205.357 1224.66 208.412 1220.07 Q211.491 1215.47 217.301 1215.47 Z\" fill=\"#000000\" fill-rule=\"evenodd\" fill-opacity=\"1\" /><path clip-path=\"url(#clip130)\" d=\"M 0 0 M154.316 979.698 L172.672 979.698 L172.672 983.633 L158.598 983.633 L158.598 992.106 Q159.616 991.758 160.635 991.596 Q161.653 991.411 162.672 991.411 Q168.459 991.411 171.839 994.583 Q175.218 997.754 175.218 1003.17 Q175.218 1008.75 171.746 1011.85 Q168.274 1014.93 161.954 1014.93 Q159.778 1014.93 157.51 1014.56 Q155.265 1014.19 152.857 1013.45 L152.857 1008.75 Q154.941 1009.88 157.163 1010.44 Q159.385 1010.99 161.862 1010.99 Q165.866 1010.99 168.204 1008.89 Q170.542 1006.78 170.542 1003.17 Q170.542 999.559 168.204 997.453 Q165.866 995.346 161.862 995.346 Q159.987 995.346 158.112 995.763 Q156.26 996.18 154.316 997.059 L154.316 979.698 Z\" fill=\"#000000\" fill-rule=\"evenodd\" fill-opacity=\"1\" /><path clip-path=\"url(#clip130)\" d=\"M 0 0 M190.288 982.777 Q186.677 982.777 184.848 986.342 Q183.042 989.883 183.042 997.013 Q183.042 1004.12 184.848 1007.68 Q186.677 1011.23 190.288 1011.23 Q193.922 1011.23 195.727 1007.68 Q197.556 1004.12 197.556 997.013 Q197.556 989.883 195.727 986.342 Q193.922 982.777 190.288 982.777 M190.288 979.073 Q196.098 979.073 199.153 983.68 Q202.232 988.263 202.232 997.013 Q202.232 1005.74 199.153 1010.35 Q196.098 1014.93 190.288 1014.93 Q184.477 1014.93 181.399 1010.35 Q178.343 1005.74 178.343 997.013 Q178.343 988.263 181.399 983.68 Q184.477 979.073 190.288 979.073 Z\" fill=\"#000000\" fill-rule=\"evenodd\" fill-opacity=\"1\" /><path clip-path=\"url(#clip130)\" d=\"M 0 0 M217.301 982.777 Q213.69 982.777 211.862 986.342 Q210.056 989.883 210.056 997.013 Q210.056 1004.12 211.862 1007.68 Q213.69 1011.23 217.301 1011.23 Q220.936 1011.23 222.741 1007.68 Q224.57 1004.12 224.57 997.013 Q224.57 989.883 222.741 986.342 Q220.936 982.777 217.301 982.777 M217.301 979.073 Q223.111 979.073 226.167 983.68 Q229.246 988.263 229.246 997.013 Q229.246 1005.74 226.167 1010.35 Q223.111 1014.93 217.301 1014.93 Q211.491 1014.93 208.412 1010.35 Q205.357 1005.74 205.357 997.013 Q205.357 988.263 208.412 983.68 Q211.491 979.073 217.301 979.073 Z\" fill=\"#000000\" fill-rule=\"evenodd\" fill-opacity=\"1\" /><path clip-path=\"url(#clip130)\" d=\"M 0 0 M128.297 773.93 L135.936 773.93 L135.936 747.565 L127.626 749.231 L127.626 744.972 L135.89 743.305 L140.566 743.305 L140.566 773.93 L148.204 773.93 L148.204 777.865 L128.297 777.865 L128.297 773.93 Z\" fill=\"#000000\" fill-rule=\"evenodd\" fill-opacity=\"1\" /><path clip-path=\"url(#clip130)\" d=\"M 0 0 M163.274 746.384 Q159.663 746.384 157.834 749.949 Q156.029 753.491 156.029 760.62 Q156.029 767.727 157.834 771.291 Q159.663 774.833 163.274 774.833 Q166.908 774.833 168.714 771.291 Q170.542 767.727 170.542 760.62 Q170.542 753.491 168.714 749.949 Q166.908 746.384 163.274 746.384 M163.274 742.68 Q169.084 742.68 172.14 747.287 Q175.218 751.87 175.218 760.62 Q175.218 769.347 172.14 773.953 Q169.084 778.537 163.274 778.537 Q157.464 778.537 154.385 773.953 Q151.329 769.347 151.329 760.62 Q151.329 751.87 154.385 747.287 Q157.464 742.68 163.274 742.68 Z\" fill=\"#000000\" fill-rule=\"evenodd\" fill-opacity=\"1\" /><path clip-path=\"url(#clip130)\" d=\"M 0 0 M190.288 746.384 Q186.677 746.384 184.848 749.949 Q183.042 753.491 183.042 760.62 Q183.042 767.727 184.848 771.291 Q186.677 774.833 190.288 774.833 Q193.922 774.833 195.727 771.291 Q197.556 767.727 197.556 760.62 Q197.556 753.491 195.727 749.949 Q193.922 746.384 190.288 746.384 M190.288 742.68 Q196.098 742.68 199.153 747.287 Q202.232 751.87 202.232 760.62 Q202.232 769.347 199.153 773.953 Q196.098 778.537 190.288 778.537 Q184.477 778.537 181.399 773.953 Q178.343 769.347 178.343 760.62 Q178.343 751.87 181.399 747.287 Q184.477 742.68 190.288 742.68 Z\" fill=\"#000000\" fill-rule=\"evenodd\" fill-opacity=\"1\" /><path clip-path=\"url(#clip130)\" d=\"M 0 0 M217.301 746.384 Q213.69 746.384 211.862 749.949 Q210.056 753.491 210.056 760.62 Q210.056 767.727 211.862 771.291 Q213.69 774.833 217.301 774.833 Q220.936 774.833 222.741 771.291 Q224.57 767.727 224.57 760.62 Q224.57 753.491 222.741 749.949 Q220.936 746.384 217.301 746.384 M217.301 742.68 Q223.111 742.68 226.167 747.287 Q229.246 751.87 229.246 760.62 Q229.246 769.347 226.167 773.953 Q223.111 778.537 217.301 778.537 Q211.491 778.537 208.412 773.953 Q205.357 769.347 205.357 760.62 Q205.357 751.87 208.412 747.287 Q211.491 742.68 217.301 742.68 Z\" fill=\"#000000\" fill-rule=\"evenodd\" fill-opacity=\"1\" /><path clip-path=\"url(#clip130)\" d=\"M 0 0 M129.293 537.537 L136.931 537.537 L136.931 511.172 L128.621 512.838 L128.621 508.579 L136.885 506.912 L141.561 506.912 L141.561 537.537 L149.2 537.537 L149.2 541.472 L129.293 541.472 L129.293 537.537 Z\" fill=\"#000000\" fill-rule=\"evenodd\" fill-opacity=\"1\" /><path clip-path=\"url(#clip130)\" d=\"M 0 0 M154.316 506.912 L172.672 506.912 L172.672 510.848 L158.598 510.848 L158.598 519.32 Q159.616 518.973 160.635 518.811 Q161.653 518.625 162.672 518.625 Q168.459 518.625 171.839 521.797 Q175.218 524.968 175.218 530.385 Q175.218 535.963 171.746 539.065 Q168.274 542.144 161.954 542.144 Q159.778 542.144 157.51 541.773 Q155.265 541.403 152.857 540.662 L152.857 535.963 Q154.941 537.097 157.163 537.653 Q159.385 538.209 161.862 538.209 Q165.866 538.209 168.204 536.102 Q170.542 533.996 170.542 530.385 Q170.542 526.773 168.204 524.667 Q165.866 522.561 161.862 522.561 Q159.987 522.561 158.112 522.977 Q156.26 523.394 154.316 524.273 L154.316 506.912 Z\" fill=\"#000000\" fill-rule=\"evenodd\" fill-opacity=\"1\" /><path clip-path=\"url(#clip130)\" d=\"M 0 0 M190.288 509.991 Q186.677 509.991 184.848 513.556 Q183.042 517.098 183.042 524.227 Q183.042 531.334 184.848 534.898 Q186.677 538.44 190.288 538.44 Q193.922 538.44 195.727 534.898 Q197.556 531.334 197.556 524.227 Q197.556 517.098 195.727 513.556 Q193.922 509.991 190.288 509.991 M190.288 506.287 Q196.098 506.287 199.153 510.894 Q202.232 515.477 202.232 524.227 Q202.232 532.954 199.153 537.56 Q196.098 542.144 190.288 542.144 Q184.477 542.144 181.399 537.56 Q178.343 532.954 178.343 524.227 Q178.343 515.477 181.399 510.894 Q184.477 506.287 190.288 506.287 Z\" fill=\"#000000\" fill-rule=\"evenodd\" fill-opacity=\"1\" /><path clip-path=\"url(#clip130)\" d=\"M 0 0 M217.301 509.991 Q213.69 509.991 211.862 513.556 Q210.056 517.098 210.056 524.227 Q210.056 531.334 211.862 534.898 Q213.69 538.44 217.301 538.44 Q220.936 538.44 222.741 534.898 Q224.57 531.334 224.57 524.227 Q224.57 517.098 222.741 513.556 Q220.936 509.991 217.301 509.991 M217.301 506.287 Q223.111 506.287 226.167 510.894 Q229.246 515.477 229.246 524.227 Q229.246 532.954 226.167 537.56 Q223.111 542.144 217.301 542.144 Q211.491 542.144 208.412 537.56 Q205.357 532.954 205.357 524.227 Q205.357 515.477 208.412 510.894 Q211.491 506.287 217.301 506.287 Z\" fill=\"#000000\" fill-rule=\"evenodd\" fill-opacity=\"1\" /><path clip-path=\"url(#clip130)\" d=\"M 0 0 M131.885 301.144 L148.204 301.144 L148.204 305.08 L126.26 305.08 L126.26 301.144 Q128.922 298.39 133.505 293.76 Q138.112 289.107 139.292 287.765 Q141.538 285.242 142.417 283.506 Q143.32 281.746 143.32 280.057 Q143.32 277.302 141.376 275.566 Q139.455 273.83 136.353 273.83 Q134.154 273.83 131.7 274.594 Q129.269 275.357 126.492 276.908 L126.492 272.186 Q129.316 271.052 131.769 270.473 Q134.223 269.895 136.26 269.895 Q141.63 269.895 144.825 272.58 Q148.019 275.265 148.019 279.756 Q148.019 281.885 147.209 283.807 Q146.422 285.705 144.316 288.297 Q143.737 288.969 140.635 292.186 Q137.533 295.381 131.885 301.144 Z\" fill=\"#000000\" fill-rule=\"evenodd\" fill-opacity=\"1\" /><path clip-path=\"url(#clip130)\" d=\"M 0 0 M163.274 273.598 Q159.663 273.598 157.834 277.163 Q156.029 280.705 156.029 287.834 Q156.029 294.941 157.834 298.506 Q159.663 302.047 163.274 302.047 Q166.908 302.047 168.714 298.506 Q170.542 294.941 170.542 287.834 Q170.542 280.705 168.714 277.163 Q166.908 273.598 163.274 273.598 M163.274 269.895 Q169.084 269.895 172.14 274.501 Q175.218 279.084 175.218 287.834 Q175.218 296.561 172.14 301.168 Q169.084 305.751 163.274 305.751 Q157.464 305.751 154.385 301.168 Q151.329 296.561 151.329 287.834 Q151.329 279.084 154.385 274.501 Q157.464 269.895 163.274 269.895 Z\" fill=\"#000000\" fill-rule=\"evenodd\" fill-opacity=\"1\" /><path clip-path=\"url(#clip130)\" d=\"M 0 0 M190.288 273.598 Q186.677 273.598 184.848 277.163 Q183.042 280.705 183.042 287.834 Q183.042 294.941 184.848 298.506 Q186.677 302.047 190.288 302.047 Q193.922 302.047 195.727 298.506 Q197.556 294.941 197.556 287.834 Q197.556 280.705 195.727 277.163 Q193.922 273.598 190.288 273.598 M190.288 269.895 Q196.098 269.895 199.153 274.501 Q202.232 279.084 202.232 287.834 Q202.232 296.561 199.153 301.168 Q196.098 305.751 190.288 305.751 Q184.477 305.751 181.399 301.168 Q178.343 296.561 178.343 287.834 Q178.343 279.084 181.399 274.501 Q184.477 269.895 190.288 269.895 Z\" fill=\"#000000\" fill-rule=\"evenodd\" fill-opacity=\"1\" /><path clip-path=\"url(#clip130)\" d=\"M 0 0 M217.301 273.598 Q213.69 273.598 211.862 277.163 Q210.056 280.705 210.056 287.834 Q210.056 294.941 211.862 298.506 Q213.69 302.047 217.301 302.047 Q220.936 302.047 222.741 298.506 Q224.57 294.941 224.57 287.834 Q224.57 280.705 222.741 277.163 Q220.936 273.598 217.301 273.598 M217.301 269.895 Q223.111 269.895 226.167 274.501 Q229.246 279.084 229.246 287.834 Q229.246 296.561 226.167 301.168 Q223.111 305.751 217.301 305.751 Q211.491 305.751 208.412 301.168 Q205.357 296.561 205.357 287.834 Q205.357 279.084 208.412 274.501 Q211.491 269.895 217.301 269.895 Z\" fill=\"#000000\" fill-rule=\"evenodd\" fill-opacity=\"1\" /><path clip-path=\"url(#clip130)\" d=\"M 0 0 M997.664 12.096 L1008.68 12.096 L1035.5 62.6918 L1035.5 12.096 L1043.44 12.096 L1043.44 72.576 L1032.42 72.576 L1005.6 21.9802 L1005.6 72.576 L997.664 72.576 L997.664 12.096 Z\" fill=\"#000000\" fill-rule=\"evenodd\" fill-opacity=\"1\" /><path clip-path=\"url(#clip130)\" d=\"M 0 0 M1090.07 48.0275 L1090.07 51.6733 L1055.79 51.6733 Q1056.28 59.3701 1060.41 63.421 Q1064.58 67.4314 1072 67.4314 Q1076.29 67.4314 1080.3 66.3781 Q1084.35 65.3249 1088.32 63.2184 L1088.32 70.267 Q1084.31 71.9684 1080.1 72.8596 Q1075.89 73.7508 1071.55 73.7508 Q1060.7 73.7508 1054.34 67.4314 Q1048.02 61.1119 1048.02 50.3365 Q1048.02 39.1965 1054.01 32.6746 Q1060.05 26.1121 1070.26 26.1121 Q1079.41 26.1121 1084.72 32.0264 Q1090.07 37.9003 1090.07 48.0275 M1082.61 45.84 Q1082.53 39.7232 1079.17 36.0774 Q1075.85 32.4315 1070.34 32.4315 Q1064.1 32.4315 1060.33 35.9558 Q1056.6 39.4801 1056.04 45.8805 L1082.61 45.84 Z\" fill=\"#000000\" fill-rule=\"evenodd\" fill-opacity=\"1\" /><path clip-path=\"url(#clip130)\" d=\"M 0 0 M1093.55 27.2059 L1101 27.2059 L1110.32 62.6108 L1119.6 27.2059 L1128.39 27.2059 L1137.7 62.6108 L1146.98 27.2059 L1154.43 27.2059 L1142.56 72.576 L1133.77 72.576 L1124.01 35.3887 L1114.21 72.576 L1105.42 72.576 L1093.55 27.2059 Z\" fill=\"#000000\" fill-rule=\"evenodd\" fill-opacity=\"1\" /><path clip-path=\"url(#clip130)\" d=\"M 0 0 M1197.13 18.8205 L1197.13 65.8515 L1207.01 65.8515 Q1219.53 65.8515 1225.32 60.1802 Q1231.16 54.509 1231.16 42.2752 Q1231.16 30.1225 1225.32 24.4918 Q1219.53 18.8205 1207.01 18.8205 L1197.13 18.8205 M1188.95 12.096 L1205.76 12.096 Q1223.34 12.096 1231.56 19.4281 Q1239.79 26.7198 1239.79 42.2752 Q1239.79 57.9117 1231.52 65.2439 Q1223.26 72.576 1205.76 72.576 L1188.95 72.576 L1188.95 12.096 Z\" fill=\"#000000\" fill-rule=\"evenodd\" fill-opacity=\"1\" /><path clip-path=\"url(#clip130)\" d=\"M 0 0 M1268.22 49.7694 Q1259.19 49.7694 1255.71 51.8354 Q1252.22 53.9013 1252.22 58.8839 Q1252.22 62.8538 1254.82 65.2034 Q1257.45 67.5124 1261.94 67.5124 Q1268.14 67.5124 1271.87 63.1374 Q1275.64 58.7219 1275.64 51.4303 L1275.64 49.7694 L1268.22 49.7694 M1283.09 46.6907 L1283.09 72.576 L1275.64 72.576 L1275.64 65.6895 Q1273.08 69.8214 1269.28 71.8063 Q1265.47 73.7508 1259.96 73.7508 Q1252.99 73.7508 1248.86 69.8619 Q1244.77 65.9325 1244.77 59.3701 Q1244.77 51.7138 1249.87 47.825 Q1255.02 43.9361 1265.19 43.9361 L1275.64 43.9361 L1275.64 43.2069 Q1275.64 38.0623 1272.23 35.2672 Q1268.87 32.4315 1262.76 32.4315 Q1258.87 32.4315 1255.18 33.3632 Q1251.49 34.295 1248.09 36.1584 L1248.09 29.2718 Q1252.18 27.692 1256.03 26.9223 Q1259.88 26.1121 1263.52 26.1121 Q1273.37 26.1121 1278.23 31.2163 Q1283.09 36.3204 1283.09 46.6907 Z\" fill=\"#000000\" fill-rule=\"evenodd\" fill-opacity=\"1\" /><path clip-path=\"url(#clip130)\" d=\"M 0 0 M1290.91 27.2059 L1298.36 27.2059 L1298.36 72.576 L1290.91 72.576 L1290.91 27.2059 M1290.91 9.54393 L1298.36 9.54393 L1298.36 18.9825 L1290.91 18.9825 L1290.91 9.54393 Z\" fill=\"#000000\" fill-rule=\"evenodd\" fill-opacity=\"1\" /><path clip-path=\"url(#clip130)\" d=\"M 0 0 M1306.18 9.54393 L1313.63 9.54393 L1313.63 72.576 L1306.18 72.576 L1306.18 9.54393 Z\" fill=\"#000000\" fill-rule=\"evenodd\" fill-opacity=\"1\" /><path clip-path=\"url(#clip130)\" d=\"M 0 0 M1340.33 76.7889 Q1337.17 84.8907 1334.17 87.3618 Q1331.17 89.8329 1326.15 89.8329 L1320.2 89.8329 L1320.2 83.5945 L1324.57 83.5945 Q1327.65 83.5945 1329.35 82.1361 Q1331.05 80.6778 1333.12 75.2496 L1334.46 71.8468 L1316.11 27.2059 L1324 27.2059 L1338.18 62.6918 L1352.36 27.2059 L1360.26 27.2059 L1340.33 76.7889 Z\" fill=\"#000000\" fill-rule=\"evenodd\" fill-opacity=\"1\" /><path clip-path=\"url(#clip130)\" d=\"M 0 0 M1440.06 16.7545 L1440.06 25.383 Q1435.93 21.5346 1431.23 19.6307 Q1426.57 17.7268 1421.31 17.7268 Q1410.94 17.7268 1405.43 24.0867 Q1399.92 30.4061 1399.92 42.3968 Q1399.92 54.3469 1405.43 60.7069 Q1410.94 67.0263 1421.31 67.0263 Q1426.57 67.0263 1431.23 65.1223 Q1435.93 63.2184 1440.06 59.3701 L1440.06 67.9175 Q1435.77 70.8341 1430.95 72.2924 Q1426.17 73.7508 1420.82 73.7508 Q1407.09 73.7508 1399.19 65.3654 Q1391.29 56.9395 1391.29 42.3968 Q1391.29 27.8135 1399.19 19.4281 Q1407.09 11.0023 1420.82 11.0023 Q1426.25 11.0023 1431.03 12.4606 Q1435.85 13.8784 1440.06 16.7545 Z\" fill=\"#000000\" fill-rule=\"evenodd\" fill-opacity=\"1\" /><path clip-path=\"url(#clip130)\" d=\"M 0 0 M1468.5 49.7694 Q1459.47 49.7694 1455.98 51.8354 Q1452.5 53.9013 1452.5 58.8839 Q1452.5 62.8538 1455.09 65.2034 Q1457.73 67.5124 1462.22 67.5124 Q1468.42 67.5124 1472.15 63.1374 Q1475.91 58.7219 1475.91 51.4303 L1475.91 49.7694 L1468.5 49.7694 M1483.37 46.6907 L1483.37 72.576 L1475.91 72.576 L1475.91 65.6895 Q1473.36 69.8214 1469.55 71.8063 Q1465.75 73.7508 1460.24 73.7508 Q1453.27 73.7508 1449.14 69.8619 Q1445.05 65.9325 1445.05 59.3701 Q1445.05 51.7138 1450.15 47.825 Q1455.29 43.9361 1465.46 43.9361 L1475.91 43.9361 L1475.91 43.2069 Q1475.91 38.0623 1472.51 35.2672 Q1469.15 32.4315 1463.03 32.4315 Q1459.14 32.4315 1455.46 33.3632 Q1451.77 34.295 1448.37 36.1584 L1448.37 29.2718 Q1452.46 27.692 1456.31 26.9223 Q1460.16 26.1121 1463.8 26.1121 Q1473.65 26.1121 1478.51 31.2163 Q1483.37 36.3204 1483.37 46.6907 Z\" fill=\"#000000\" fill-rule=\"evenodd\" fill-opacity=\"1\" /><path clip-path=\"url(#clip130)\" d=\"M 0 0 M1520.11 28.5427 L1520.11 35.5912 Q1516.95 33.9709 1513.55 33.1607 Q1510.14 32.3505 1506.5 32.3505 Q1500.95 32.3505 1498.15 34.0519 Q1495.4 35.7533 1495.4 39.156 Q1495.4 41.7486 1497.38 43.2475 Q1499.37 44.7058 1505.36 46.0426 L1507.92 46.6097 Q1515.86 48.3111 1519.18 51.4303 Q1522.54 54.509 1522.54 60.0587 Q1522.54 66.3781 1517.52 70.0644 Q1512.53 73.7508 1503.78 73.7508 Q1500.14 73.7508 1496.17 73.0216 Q1492.24 72.3329 1487.86 70.9151 L1487.86 63.2184 Q1492 65.3654 1496.01 66.4591 Q1500.02 67.5124 1503.95 67.5124 Q1509.21 67.5124 1512.05 65.73 Q1514.88 63.9071 1514.88 60.6258 Q1514.88 57.5877 1512.82 55.9673 Q1510.79 54.3469 1503.86 52.8481 L1501.27 52.2405 Q1494.35 50.7821 1491.27 47.7845 Q1488.19 44.7463 1488.19 39.4801 Q1488.19 33.0797 1492.72 29.5959 Q1497.26 26.1121 1505.61 26.1121 Q1509.74 26.1121 1513.38 26.7198 Q1517.03 27.3274 1520.11 28.5427 Z\" fill=\"#000000\" fill-rule=\"evenodd\" fill-opacity=\"1\" /><path clip-path=\"url(#clip130)\" d=\"M 0 0 M1569.17 48.0275 L1569.17 51.6733 L1534.89 51.6733 Q1535.38 59.3701 1539.51 63.421 Q1543.69 67.4314 1551.1 67.4314 Q1555.39 67.4314 1559.4 66.3781 Q1563.45 65.3249 1567.42 63.2184 L1567.42 70.267 Q1563.41 71.9684 1559.2 72.8596 Q1554.99 73.7508 1550.65 73.7508 Q1539.8 73.7508 1533.44 67.4314 Q1527.12 61.1119 1527.12 50.3365 Q1527.12 39.1965 1533.11 32.6746 Q1539.15 26.1121 1549.36 26.1121 Q1558.51 26.1121 1563.82 32.0264 Q1569.17 37.9003 1569.17 48.0275 M1561.71 45.84 Q1561.63 39.7232 1558.27 36.0774 Q1554.95 32.4315 1549.44 32.4315 Q1543.2 32.4315 1539.43 35.9558 Q1535.71 39.4801 1535.14 45.8805 L1561.71 45.84 Z\" fill=\"#000000\" fill-rule=\"evenodd\" fill-opacity=\"1\" /><path clip-path=\"url(#clip130)\" d=\"M 0 0 M1605.91 28.5427 L1605.91 35.5912 Q1602.75 33.9709 1599.34 33.1607 Q1595.94 32.3505 1592.3 32.3505 Q1586.75 32.3505 1583.95 34.0519 Q1581.2 35.7533 1581.2 39.156 Q1581.2 41.7486 1583.18 43.2475 Q1585.17 44.7058 1591.16 46.0426 L1593.71 46.6097 Q1601.65 48.3111 1604.98 51.4303 Q1608.34 54.509 1608.34 60.0587 Q1608.34 66.3781 1603.31 70.0644 Q1598.33 73.7508 1589.58 73.7508 Q1585.94 73.7508 1581.97 73.0216 Q1578.04 72.3329 1573.66 70.9151 L1573.66 63.2184 Q1577.79 65.3654 1581.8 66.4591 Q1585.81 67.5124 1589.74 67.5124 Q1595.01 67.5124 1597.85 65.73 Q1600.68 63.9071 1600.68 60.6258 Q1600.68 57.5877 1598.62 55.9673 Q1596.59 54.3469 1589.66 52.8481 L1587.07 52.2405 Q1580.14 50.7821 1577.06 47.7845 Q1573.99 44.7463 1573.99 39.4801 Q1573.99 33.0797 1578.52 29.5959 Q1583.06 26.1121 1591.4 26.1121 Q1595.54 26.1121 1599.18 26.7198 Q1602.83 27.3274 1605.91 28.5427 Z\" fill=\"#000000\" fill-rule=\"evenodd\" fill-opacity=\"1\" /><path clip-path=\"url(#clip130)\" d=\"M 0 0 M1130.78 107.475 L1130.78 116.103 Q1126.64 112.255 1121.95 110.351 Q1117.29 108.447 1112.02 108.447 Q1101.65 108.447 1096.14 114.807 Q1090.63 121.126 1090.63 133.117 Q1090.63 145.067 1096.14 151.427 Q1101.65 157.746 1112.02 157.746 Q1117.29 157.746 1121.95 155.842 Q1126.64 153.938 1130.78 150.09 L1130.78 158.637 Q1126.48 161.554 1121.66 163.012 Q1116.88 164.471 1111.53 164.471 Q1097.8 164.471 1089.9 156.085 Q1082 147.66 1082 133.117 Q1082 118.534 1089.9 110.148 Q1097.8 101.722 1111.53 101.722 Q1116.96 101.722 1121.74 103.181 Q1126.56 104.598 1130.78 107.475 Z\" fill=\"#000000\" fill-rule=\"evenodd\" fill-opacity=\"1\" /><path clip-path=\"url(#clip130)\" d=\"M 0 0 M1156.18 123.152 Q1150.18 123.152 1146.7 127.851 Q1143.21 132.509 1143.21 140.651 Q1143.21 148.794 1146.66 153.493 Q1150.14 158.151 1156.18 158.151 Q1162.13 158.151 1165.61 153.452 Q1169.1 148.753 1169.1 140.651 Q1169.1 132.59 1165.61 127.891 Q1162.13 123.152 1156.18 123.152 M1156.18 116.832 Q1165.9 116.832 1171.45 123.152 Q1177 129.471 1177 140.651 Q1177 151.791 1171.45 158.151 Q1165.9 164.471 1156.18 164.471 Q1146.41 164.471 1140.86 158.151 Q1135.35 151.791 1135.35 140.651 Q1135.35 129.471 1140.86 123.152 Q1146.41 116.832 1156.18 116.832 Z\" fill=\"#000000\" fill-rule=\"evenodd\" fill-opacity=\"1\" /><path clip-path=\"url(#clip130)\" d=\"M 0 0 M1202.4 123.152 Q1196.4 123.152 1192.92 127.851 Q1189.43 132.509 1189.43 140.651 Q1189.43 148.794 1192.88 153.493 Q1196.36 158.151 1202.4 158.151 Q1208.35 158.151 1211.84 153.452 Q1215.32 148.753 1215.32 140.651 Q1215.32 132.59 1211.84 127.891 Q1208.35 123.152 1202.4 123.152 M1202.4 116.832 Q1212.12 116.832 1217.67 123.152 Q1223.22 129.471 1223.22 140.651 Q1223.22 151.791 1217.67 158.151 Q1212.12 164.471 1202.4 164.471 Q1192.63 164.471 1187.08 158.151 Q1181.57 151.791 1181.57 140.651 Q1181.57 129.471 1187.08 123.152 Q1192.63 116.832 1202.4 116.832 Z\" fill=\"#000000\" fill-rule=\"evenodd\" fill-opacity=\"1\" /><path clip-path=\"url(#clip130)\" d=\"M 0 0 M1230.75 100.264 L1238.25 100.264 L1238.25 137.492 L1260.49 117.926 L1270.01 117.926 L1245.94 139.153 L1271.02 163.296 L1261.3 163.296 L1238.25 141.138 L1238.25 163.296 L1230.75 163.296 L1230.75 100.264 Z\" fill=\"#000000\" fill-rule=\"evenodd\" fill-opacity=\"1\" /><path clip-path=\"url(#clip130)\" d=\"M 0 0 M1280.74 153.007 L1289.29 153.007 L1289.29 159.974 L1282.65 172.937 L1277.42 172.937 L1280.74 159.974 L1280.74 153.007 Z\" fill=\"#000000\" fill-rule=\"evenodd\" fill-opacity=\"1\" /><path clip-path=\"url(#clip130)\" d=\"M 0 0 M1323.8 102.816 L1331.99 102.816 L1331.99 163.296 L1323.8 163.296 L1323.8 102.816 Z\" fill=\"#000000\" fill-rule=\"evenodd\" fill-opacity=\"1\" /><path clip-path=\"url(#clip130)\" d=\"M 0 0 M1339.8 100.264 L1347.26 100.264 L1347.26 163.296 L1339.8 163.296 L1339.8 100.264 Z\" fill=\"#000000\" fill-rule=\"evenodd\" fill-opacity=\"1\" /><path clip-path=\"url(#clip130)\" d=\"M 0 0 M1355.08 100.264 L1362.53 100.264 L1362.53 163.296 L1355.08 163.296 L1355.08 100.264 Z\" fill=\"#000000\" fill-rule=\"evenodd\" fill-opacity=\"1\" /><path clip-path=\"url(#clip130)\" d=\"M 0 0 M1370.35 117.926 L1377.8 117.926 L1377.8 163.296 L1370.35 163.296 L1370.35 117.926 M1370.35 100.264 L1377.8 100.264 L1377.8 109.703 L1370.35 109.703 L1370.35 100.264 Z\" fill=\"#000000\" fill-rule=\"evenodd\" fill-opacity=\"1\" /><path clip-path=\"url(#clip130)\" d=\"M 0 0 M1423.33 135.912 L1423.33 163.296 L1415.88 163.296 L1415.88 136.155 Q1415.88 129.714 1413.37 126.514 Q1410.86 123.314 1405.83 123.314 Q1399.8 123.314 1396.31 127.162 Q1392.83 131.01 1392.83 137.654 L1392.83 163.296 L1385.34 163.296 L1385.34 117.926 L1392.83 117.926 L1392.83 124.974 Q1395.5 120.883 1399.11 118.858 Q1402.75 116.832 1407.49 116.832 Q1415.31 116.832 1419.32 121.693 Q1423.33 126.514 1423.33 135.912 Z\" fill=\"#000000\" fill-rule=\"evenodd\" fill-opacity=\"1\" /><path clip-path=\"url(#clip130)\" d=\"M 0 0 M1448.73 123.152 Q1442.74 123.152 1439.25 127.851 Q1435.77 132.509 1435.77 140.651 Q1435.77 148.794 1439.21 153.493 Q1442.7 158.151 1448.73 158.151 Q1454.69 158.151 1458.17 153.452 Q1461.65 148.753 1461.65 140.651 Q1461.65 132.59 1458.17 127.891 Q1454.69 123.152 1448.73 123.152 M1448.73 116.832 Q1458.45 116.832 1464 123.152 Q1469.55 129.471 1469.55 140.651 Q1469.55 151.791 1464 158.151 Q1458.45 164.471 1448.73 164.471 Q1438.97 164.471 1433.42 158.151 Q1427.91 151.791 1427.91 140.651 Q1427.91 129.471 1433.42 123.152 Q1438.97 116.832 1448.73 116.832 Z\" fill=\"#000000\" fill-rule=\"evenodd\" fill-opacity=\"1\" /><path clip-path=\"url(#clip130)\" d=\"M 0 0 M1477.37 117.926 L1484.83 117.926 L1484.83 163.296 L1477.37 163.296 L1477.37 117.926 M1477.37 100.264 L1484.83 100.264 L1484.83 109.703 L1477.37 109.703 L1477.37 100.264 Z\" fill=\"#000000\" fill-rule=\"evenodd\" fill-opacity=\"1\" /><path clip-path=\"url(#clip130)\" d=\"M 0 0 M1521.57 119.263 L1521.57 126.311 Q1518.41 124.691 1515 123.881 Q1511.6 123.071 1507.96 123.071 Q1502.41 123.071 1499.61 124.772 Q1496.86 126.473 1496.86 129.876 Q1496.86 132.469 1498.84 133.967 Q1500.83 135.426 1506.82 136.763 L1509.37 137.33 Q1517.31 139.031 1520.64 142.15 Q1524 145.229 1524 150.779 Q1524 157.098 1518.97 160.784 Q1513.99 164.471 1505.24 164.471 Q1501.6 164.471 1497.63 163.742 Q1493.7 163.053 1489.32 161.635 L1489.32 153.938 Q1493.45 156.085 1497.46 157.179 Q1501.47 158.232 1505.4 158.232 Q1510.67 158.232 1513.51 156.45 Q1516.34 154.627 1516.34 151.346 Q1516.34 148.308 1514.28 146.687 Q1512.25 145.067 1505.32 143.568 L1502.73 142.96 Q1495.8 141.502 1492.72 138.504 Q1489.65 135.466 1489.65 130.2 Q1489.65 123.8 1494.18 120.316 Q1498.72 116.832 1507.07 116.832 Q1511.2 116.832 1514.84 117.44 Q1518.49 118.047 1521.57 119.263 Z\" fill=\"#000000\" fill-rule=\"evenodd\" fill-opacity=\"1\" /><path clip-path=\"url(#clip130)\" d=\"M 0 0 M1242.13 1508.28 L1242.13 1545.24 L1249.89 1545.24 Q1259.73 1545.24 1264.28 1540.78 Q1268.86 1536.32 1268.86 1526.71 Q1268.86 1517.16 1264.28 1512.74 Q1259.73 1508.28 1249.89 1508.28 L1242.13 1508.28 M1235.7 1503 L1248.91 1503 Q1262.72 1503 1269.18 1508.76 Q1275.64 1514.49 1275.64 1526.71 Q1275.64 1539 1269.15 1544.76 Q1262.66 1550.52 1248.91 1550.52 L1235.7 1550.52 L1235.7 1503 Z\" fill=\"#000000\" fill-rule=\"evenodd\" fill-opacity=\"1\" /><path clip-path=\"url(#clip130)\" d=\"M 0 0 M1297.99 1532.6 Q1290.89 1532.6 1288.15 1534.22 Q1285.42 1535.85 1285.42 1539.76 Q1285.42 1542.88 1287.45 1544.73 Q1289.52 1546.54 1293.05 1546.54 Q1297.92 1546.54 1300.85 1543.1 Q1303.81 1539.63 1303.81 1533.91 L1303.81 1532.6 L1297.99 1532.6 M1309.67 1530.18 L1309.67 1550.52 L1303.81 1550.52 L1303.81 1545.11 Q1301.81 1548.36 1298.82 1549.92 Q1295.82 1551.44 1291.49 1551.44 Q1286.02 1551.44 1282.77 1548.39 Q1279.56 1545.3 1279.56 1540.14 Q1279.56 1534.13 1283.57 1531.07 Q1287.61 1528.02 1295.6 1528.02 L1303.81 1528.02 L1303.81 1527.44 Q1303.81 1523.4 1301.14 1521.21 Q1298.5 1518.98 1293.69 1518.98 Q1290.64 1518.98 1287.74 1519.71 Q1284.84 1520.44 1282.17 1521.91 L1282.17 1516.5 Q1285.38 1515.25 1288.41 1514.65 Q1291.43 1514.01 1294.3 1514.01 Q1302.03 1514.01 1305.85 1518.02 Q1309.67 1522.03 1309.67 1530.18 Z\" fill=\"#000000\" fill-rule=\"evenodd\" fill-opacity=\"1\" /><path clip-path=\"url(#clip130)\" d=\"M 0 0 M1321.6 1504.75 L1321.6 1514.87 L1333.67 1514.87 L1333.67 1519.42 L1321.6 1519.42 L1321.6 1538.78 Q1321.6 1543.14 1322.78 1544.38 Q1323.99 1545.62 1327.65 1545.62 L1333.67 1545.62 L1333.67 1550.52 L1327.65 1550.52 Q1320.87 1550.52 1318.29 1548.01 Q1315.72 1545.46 1315.72 1538.78 L1315.72 1519.42 L1311.42 1519.42 L1311.42 1514.87 L1315.72 1514.87 L1315.72 1504.75 L1321.6 1504.75 Z\" fill=\"#000000\" fill-rule=\"evenodd\" fill-opacity=\"1\" /><path clip-path=\"url(#clip130)\" d=\"M 0 0 M1370.3 1531.23 L1370.3 1534.1 L1343.38 1534.1 Q1343.76 1540.14 1347 1543.33 Q1350.28 1546.48 1356.11 1546.48 Q1359.48 1546.48 1362.63 1545.65 Q1365.81 1544.82 1368.93 1543.17 L1368.93 1548.71 Q1365.78 1550.04 1362.47 1550.74 Q1359.16 1551.44 1355.76 1551.44 Q1347.23 1551.44 1342.23 1546.48 Q1337.26 1541.51 1337.26 1533.05 Q1337.26 1524.29 1341.97 1519.17 Q1346.72 1514.01 1354.74 1514.01 Q1361.93 1514.01 1366.1 1518.66 Q1370.3 1523.27 1370.3 1531.23 M1364.45 1529.51 Q1364.38 1524.71 1361.74 1521.84 Q1359.13 1518.98 1354.8 1518.98 Q1349.9 1518.98 1346.94 1521.75 Q1344.01 1524.52 1343.57 1529.54 L1364.45 1529.51 Z\" fill=\"#000000\" fill-rule=\"evenodd\" fill-opacity=\"1\" /><path clip-path=\"url(#clip130)\" d=\"M 0 0 M40.4842 882.992 L40.4842 874.334 L80.238 853.264 L40.4842 853.264 L40.4842 847.025 L88.0042 847.025 L88.0042 855.683 L48.2503 876.753 L88.0042 876.753 L88.0042 882.992 L40.4842 882.992 Z\" fill=\"#000000\" fill-rule=\"evenodd\" fill-opacity=\"1\" /><path clip-path=\"url(#clip130)\" d=\"M 0 0 M68.7161 810.391 L71.5806 810.391 L71.5806 837.318 Q77.6281 836.936 80.8109 833.689 Q83.9619 830.411 83.9619 824.586 Q83.9619 821.212 83.1344 818.061 Q82.3069 814.879 80.6518 811.759 L86.1899 811.759 Q87.5267 814.91 88.227 818.221 Q88.9272 821.531 88.9272 824.936 Q88.9272 833.466 83.9619 838.464 Q78.9967 843.429 70.5303 843.429 Q61.7774 843.429 56.6531 838.718 Q51.4968 833.976 51.4968 825.955 Q51.4968 818.762 56.1438 814.592 Q60.7589 810.391 68.7161 810.391 M66.9973 816.247 Q62.1912 816.311 59.3266 818.953 Q56.4621 821.563 56.4621 825.891 Q56.4621 830.793 59.2312 833.753 Q62.0002 836.681 67.0292 837.127 L66.9973 816.247 Z\" fill=\"#000000\" fill-rule=\"evenodd\" fill-opacity=\"1\" /><path clip-path=\"url(#clip130)\" d=\"M 0 0 M52.3562 807.654 L52.3562 801.797 L80.1743 794.477 L52.3562 787.188 L52.3562 780.281 L80.1743 772.96 L52.3562 765.672 L52.3562 759.815 L88.0042 769.141 L88.0042 776.048 L58.7856 783.718 L88.0042 791.421 L88.0042 798.328 L52.3562 807.654 Z\" fill=\"#000000\" fill-rule=\"evenodd\" fill-opacity=\"1\" /><path clip-path=\"url(#clip130)\" d=\"M 0 0 M44.1444 697.113 L50.9239 697.113 Q47.9002 700.36 46.4043 704.052 Q44.9083 707.712 44.9083 711.85 Q44.9083 719.998 49.9054 724.326 Q54.8707 728.655 64.2919 728.655 Q73.6813 728.655 78.6784 724.326 Q83.6436 719.998 83.6436 711.85 Q83.6436 707.712 82.1477 704.052 Q80.6518 700.36 77.6281 697.113 L84.3439 697.113 Q86.6355 700.487 87.7814 704.274 Q88.9272 708.03 88.9272 712.232 Q88.9272 723.021 82.3387 729.228 Q75.7183 735.435 64.2919 735.435 Q52.8336 735.435 46.2451 729.228 Q39.6248 723.021 39.6248 712.232 Q39.6248 707.967 40.7706 704.211 Q41.8846 700.423 44.1444 697.113 Z\" fill=\"#000000\" fill-rule=\"evenodd\" fill-opacity=\"1\" /><path clip-path=\"url(#clip130)\" d=\"M 0 0 M70.0847 674.769 Q70.0847 681.867 71.7079 684.604 Q73.3312 687.342 77.2461 687.342 Q80.3653 687.342 82.2114 685.305 Q84.0256 683.236 84.0256 679.703 Q84.0256 674.833 80.5881 671.905 Q77.1188 668.945 71.3897 668.945 L70.0847 668.945 L70.0847 674.769 M67.6657 663.088 L88.0042 663.088 L88.0042 668.945 L82.5933 668.945 Q85.8398 670.95 87.3994 673.942 Q88.9272 676.934 88.9272 681.262 Q88.9272 686.737 85.8716 689.983 Q82.7843 693.198 77.6281 693.198 Q71.6125 693.198 68.5569 689.188 Q65.5014 685.146 65.5014 677.157 L65.5014 668.945 L64.9285 668.945 Q60.8862 668.945 58.6901 671.618 Q56.4621 674.26 56.4621 679.066 Q56.4621 682.122 57.1941 685.018 Q57.9262 687.915 59.3903 690.588 L53.9795 690.588 Q52.7381 687.374 52.1334 684.35 Q51.4968 681.326 51.4968 678.462 Q51.4968 670.727 55.5072 666.908 Q59.5176 663.088 67.6657 663.088 Z\" fill=\"#000000\" fill-rule=\"evenodd\" fill-opacity=\"1\" /><path clip-path=\"url(#clip130)\" d=\"M 0 0 M53.4065 634.22 L58.9447 634.22 Q57.6716 636.702 57.035 639.376 Q56.3984 642.05 56.3984 644.914 Q56.3984 649.275 57.7352 651.471 Q59.072 653.635 61.7456 653.635 Q63.7826 653.635 64.9603 652.076 Q66.1061 650.516 67.1565 645.805 L67.6021 643.8 Q68.9389 637.562 71.3897 634.952 Q73.8086 632.31 78.1691 632.31 Q83.1344 632.31 86.0308 636.257 Q88.9272 640.172 88.9272 647.047 Q88.9272 649.911 88.3543 653.031 Q87.8132 656.118 86.6992 659.555 L80.6518 659.555 Q82.3387 656.309 83.198 653.158 Q84.0256 650.007 84.0256 646.919 Q84.0256 642.782 82.6251 640.554 Q81.1929 638.326 78.6147 638.326 Q76.2276 638.326 74.9545 639.949 Q73.6813 641.54 72.5037 646.983 L72.0262 649.02 Q70.8804 654.463 68.5251 656.882 Q66.138 659.301 62.0002 659.301 Q56.9713 659.301 54.2341 655.736 Q51.4968 652.171 51.4968 645.614 Q51.4968 642.368 51.9743 639.503 Q52.4517 636.639 53.4065 634.22 Z\" fill=\"#000000\" fill-rule=\"evenodd\" fill-opacity=\"1\" /><path clip-path=\"url(#clip130)\" d=\"M 0 0 M68.7161 595.676 L71.5806 595.676 L71.5806 622.602 Q77.6281 622.221 80.8109 618.974 Q83.9619 615.696 83.9619 609.871 Q83.9619 606.497 83.1344 603.346 Q82.3069 600.163 80.6518 597.044 L86.1899 597.044 Q87.5267 600.195 88.227 603.505 Q88.9272 606.815 88.9272 610.221 Q88.9272 618.751 83.9619 623.748 Q78.9967 628.714 70.5303 628.714 Q61.7774 628.714 56.6531 624.003 Q51.4968 619.26 51.4968 611.24 Q51.4968 604.046 56.1438 599.877 Q60.7589 595.676 68.7161 595.676 M66.9973 601.532 Q62.1912 601.596 59.3266 604.237 Q56.4621 606.847 56.4621 611.176 Q56.4621 616.078 59.2312 619.038 Q62.0002 621.966 67.0292 622.411 L66.9973 601.532 Z\" fill=\"#000000\" fill-rule=\"evenodd\" fill-opacity=\"1\" /><path clip-path=\"url(#clip130)\" d=\"M 0 0 M53.4065 566.807 L58.9447 566.807 Q57.6716 569.29 57.035 571.963 Q56.3984 574.637 56.3984 577.501 Q56.3984 581.862 57.7352 584.058 Q59.072 586.222 61.7456 586.222 Q63.7826 586.222 64.9603 584.663 Q66.1061 583.103 67.1565 578.393 L67.6021 576.387 Q68.9389 570.149 71.3897 567.539 Q73.8086 564.897 78.1691 564.897 Q83.1344 564.897 86.0308 568.844 Q88.9272 572.759 88.9272 579.634 Q88.9272 582.498 88.3543 585.618 Q87.8132 588.705 86.6992 592.143 L80.6518 592.143 Q82.3387 588.896 83.198 585.745 Q84.0256 582.594 84.0256 579.507 Q84.0256 575.369 82.6251 573.141 Q81.1929 570.913 78.6147 570.913 Q76.2276 570.913 74.9545 572.536 Q73.6813 574.128 72.5037 579.57 L72.0262 581.607 Q70.8804 587.05 68.5251 589.469 Q66.138 591.888 62.0002 591.888 Q56.9713 591.888 54.2341 588.323 Q51.4968 584.758 51.4968 578.202 Q51.4968 574.955 51.9743 572.091 Q52.4517 569.226 53.4065 566.807 Z\" fill=\"#000000\" fill-rule=\"evenodd\" fill-opacity=\"1\" /><path clip-path=\"url(#clip132)\" d=\"\n",
       "M368.723 1233.37 L368.723 1233.37 L380.7 1233.37 L380.7 1233.37 L368.723 1233.37 L368.723 1233.37  Z\n",
       "  \" fill=\"#009af9\" fill-rule=\"evenodd\" fill-opacity=\"1\"/>\n",
       "<polyline clip-path=\"url(#clip132)\" style=\"stroke:#000000; stroke-width:4; stroke-opacity:1; fill:none\" points=\"\n",
       "  368.723,1233.37 368.723,1233.37 380.7,1233.37 368.723,1233.37 \n",
       "  \"/>\n",
       "<path clip-path=\"url(#clip132)\" d=\"\n",
       "M383.695 1233.37 L383.695 1233.37 L395.673 1233.37 L395.673 1233.37 L383.695 1233.37 L383.695 1233.37  Z\n",
       "  \" fill=\"#009af9\" fill-rule=\"evenodd\" fill-opacity=\"1\"/>\n",
       "<polyline clip-path=\"url(#clip132)\" style=\"stroke:#000000; stroke-width:4; stroke-opacity:1; fill:none\" points=\"\n",
       "  383.695,1233.37 383.695,1233.37 395.673,1233.37 383.695,1233.37 \n",
       "  \"/>\n",
       "<path clip-path=\"url(#clip132)\" d=\"\n",
       "M398.667 1233.37 L398.667 1233.37 L410.645 1233.37 L410.645 1233.37 L398.667 1233.37 L398.667 1233.37  Z\n",
       "  \" fill=\"#009af9\" fill-rule=\"evenodd\" fill-opacity=\"1\"/>\n",
       "<polyline clip-path=\"url(#clip132)\" style=\"stroke:#000000; stroke-width:4; stroke-opacity:1; fill:none\" points=\"\n",
       "  398.667,1233.37 398.667,1233.37 410.645,1233.37 398.667,1233.37 \n",
       "  \"/>\n",
       "<path clip-path=\"url(#clip132)\" d=\"\n",
       "M413.64 1233.37 L413.64 1233.37 L425.618 1233.37 L425.618 1233.37 L413.64 1233.37 L413.64 1233.37  Z\n",
       "  \" fill=\"#009af9\" fill-rule=\"evenodd\" fill-opacity=\"1\"/>\n",
       "<polyline clip-path=\"url(#clip132)\" style=\"stroke:#000000; stroke-width:4; stroke-opacity:1; fill:none\" points=\"\n",
       "  413.64,1233.37 413.64,1233.37 425.618,1233.37 413.64,1233.37 \n",
       "  \"/>\n",
       "<path clip-path=\"url(#clip132)\" d=\"\n",
       "M428.612 1233.37 L428.612 1233.37 L440.59 1233.37 L440.59 1233.37 L428.612 1233.37 L428.612 1233.37  Z\n",
       "  \" fill=\"#009af9\" fill-rule=\"evenodd\" fill-opacity=\"1\"/>\n",
       "<polyline clip-path=\"url(#clip132)\" style=\"stroke:#000000; stroke-width:4; stroke-opacity:1; fill:none\" points=\"\n",
       "  428.612,1233.37 428.612,1233.37 440.59,1233.37 428.612,1233.37 \n",
       "  \"/>\n",
       "<path clip-path=\"url(#clip132)\" d=\"\n",
       "M443.585 1233.37 L443.585 1233.37 L455.562 1233.37 L455.562 1233.37 L443.585 1233.37 L443.585 1233.37  Z\n",
       "  \" fill=\"#009af9\" fill-rule=\"evenodd\" fill-opacity=\"1\"/>\n",
       "<polyline clip-path=\"url(#clip132)\" style=\"stroke:#000000; stroke-width:4; stroke-opacity:1; fill:none\" points=\"\n",
       "  443.585,1233.37 443.585,1233.37 455.562,1233.37 443.585,1233.37 \n",
       "  \"/>\n",
       "<path clip-path=\"url(#clip132)\" d=\"\n",
       "M458.557 1232.9 L458.557 1233.37 L470.535 1233.37 L470.535 1232.9 L458.557 1232.9 L458.557 1232.9  Z\n",
       "  \" fill=\"#009af9\" fill-rule=\"evenodd\" fill-opacity=\"1\"/>\n",
       "<polyline clip-path=\"url(#clip132)\" style=\"stroke:#000000; stroke-width:4; stroke-opacity:1; fill:none\" points=\"\n",
       "  458.557,1232.9 458.557,1233.37 470.535,1233.37 470.535,1232.9 458.557,1232.9 \n",
       "  \"/>\n",
       "<path clip-path=\"url(#clip132)\" d=\"\n",
       "M473.529 1233.37 L473.529 1233.37 L485.507 1233.37 L485.507 1233.37 L473.529 1233.37 L473.529 1233.37  Z\n",
       "  \" fill=\"#009af9\" fill-rule=\"evenodd\" fill-opacity=\"1\"/>\n",
       "<polyline clip-path=\"url(#clip132)\" style=\"stroke:#000000; stroke-width:4; stroke-opacity:1; fill:none\" points=\"\n",
       "  473.529,1233.37 473.529,1233.37 485.507,1233.37 473.529,1233.37 \n",
       "  \"/>\n",
       "<path clip-path=\"url(#clip132)\" d=\"\n",
       "M488.502 1233.37 L488.502 1233.37 L500.48 1233.37 L500.48 1233.37 L488.502 1233.37 L488.502 1233.37  Z\n",
       "  \" fill=\"#009af9\" fill-rule=\"evenodd\" fill-opacity=\"1\"/>\n",
       "<polyline clip-path=\"url(#clip132)\" style=\"stroke:#000000; stroke-width:4; stroke-opacity:1; fill:none\" points=\"\n",
       "  488.502,1233.37 488.502,1233.37 500.48,1233.37 488.502,1233.37 \n",
       "  \"/>\n",
       "<path clip-path=\"url(#clip132)\" d=\"\n",
       "M503.474 1233.37 L503.474 1233.37 L515.452 1233.37 L515.452 1233.37 L503.474 1233.37 L503.474 1233.37  Z\n",
       "  \" fill=\"#009af9\" fill-rule=\"evenodd\" fill-opacity=\"1\"/>\n",
       "<polyline clip-path=\"url(#clip132)\" style=\"stroke:#000000; stroke-width:4; stroke-opacity:1; fill:none\" points=\"\n",
       "  503.474,1233.37 503.474,1233.37 515.452,1233.37 503.474,1233.37 \n",
       "  \"/>\n",
       "<path clip-path=\"url(#clip132)\" d=\"\n",
       "M518.447 1233.37 L518.447 1233.37 L530.425 1233.37 L530.425 1233.37 L518.447 1233.37 L518.447 1233.37  Z\n",
       "  \" fill=\"#009af9\" fill-rule=\"evenodd\" fill-opacity=\"1\"/>\n",
       "<polyline clip-path=\"url(#clip132)\" style=\"stroke:#000000; stroke-width:4; stroke-opacity:1; fill:none\" points=\"\n",
       "  518.447,1233.37 518.447,1233.37 530.425,1233.37 518.447,1233.37 \n",
       "  \"/>\n",
       "<path clip-path=\"url(#clip132)\" d=\"\n",
       "M533.419 1233.37 L533.419 1233.37 L545.397 1233.37 L545.397 1233.37 L533.419 1233.37 L533.419 1233.37  Z\n",
       "  \" fill=\"#009af9\" fill-rule=\"evenodd\" fill-opacity=\"1\"/>\n",
       "<polyline clip-path=\"url(#clip132)\" style=\"stroke:#000000; stroke-width:4; stroke-opacity:1; fill:none\" points=\"\n",
       "  533.419,1233.37 533.419,1233.37 545.397,1233.37 533.419,1233.37 \n",
       "  \"/>\n",
       "<path clip-path=\"url(#clip132)\" d=\"\n",
       "M548.391 1233.37 L548.391 1233.37 L560.369 1233.37 L560.369 1233.37 L548.391 1233.37 L548.391 1233.37  Z\n",
       "  \" fill=\"#009af9\" fill-rule=\"evenodd\" fill-opacity=\"1\"/>\n",
       "<polyline clip-path=\"url(#clip132)\" style=\"stroke:#000000; stroke-width:4; stroke-opacity:1; fill:none\" points=\"\n",
       "  548.391,1233.37 548.391,1233.37 560.369,1233.37 548.391,1233.37 \n",
       "  \"/>\n",
       "<path clip-path=\"url(#clip132)\" d=\"\n",
       "M563.364 1233.37 L563.364 1233.37 L575.342 1233.37 L575.342 1233.37 L563.364 1233.37 L563.364 1233.37  Z\n",
       "  \" fill=\"#009af9\" fill-rule=\"evenodd\" fill-opacity=\"1\"/>\n",
       "<polyline clip-path=\"url(#clip132)\" style=\"stroke:#000000; stroke-width:4; stroke-opacity:1; fill:none\" points=\"\n",
       "  563.364,1233.37 563.364,1233.37 575.342,1233.37 563.364,1233.37 \n",
       "  \"/>\n",
       "<path clip-path=\"url(#clip132)\" d=\"\n",
       "M578.336 1233.37 L578.336 1233.37 L590.314 1233.37 L590.314 1233.37 L578.336 1233.37 L578.336 1233.37  Z\n",
       "  \" fill=\"#009af9\" fill-rule=\"evenodd\" fill-opacity=\"1\"/>\n",
       "<polyline clip-path=\"url(#clip132)\" style=\"stroke:#000000; stroke-width:4; stroke-opacity:1; fill:none\" points=\"\n",
       "  578.336,1233.37 578.336,1233.37 590.314,1233.37 578.336,1233.37 \n",
       "  \"/>\n",
       "<path clip-path=\"url(#clip132)\" d=\"\n",
       "M593.309 1233.37 L593.309 1233.37 L605.287 1233.37 L605.287 1233.37 L593.309 1233.37 L593.309 1233.37  Z\n",
       "  \" fill=\"#009af9\" fill-rule=\"evenodd\" fill-opacity=\"1\"/>\n",
       "<polyline clip-path=\"url(#clip132)\" style=\"stroke:#000000; stroke-width:4; stroke-opacity:1; fill:none\" points=\"\n",
       "  593.309,1233.37 593.309,1233.37 605.287,1233.37 593.309,1233.37 \n",
       "  \"/>\n",
       "<path clip-path=\"url(#clip132)\" d=\"\n",
       "M608.281 1233.37 L608.281 1233.37 L620.259 1233.37 L620.259 1233.37 L608.281 1233.37 L608.281 1233.37  Z\n",
       "  \" fill=\"#009af9\" fill-rule=\"evenodd\" fill-opacity=\"1\"/>\n",
       "<polyline clip-path=\"url(#clip132)\" style=\"stroke:#000000; stroke-width:4; stroke-opacity:1; fill:none\" points=\"\n",
       "  608.281,1233.37 608.281,1233.37 620.259,1233.37 608.281,1233.37 \n",
       "  \"/>\n",
       "<path clip-path=\"url(#clip132)\" d=\"\n",
       "M623.253 1233.37 L623.253 1233.37 L635.231 1233.37 L635.231 1233.37 L623.253 1233.37 L623.253 1233.37  Z\n",
       "  \" fill=\"#009af9\" fill-rule=\"evenodd\" fill-opacity=\"1\"/>\n",
       "<polyline clip-path=\"url(#clip132)\" style=\"stroke:#000000; stroke-width:4; stroke-opacity:1; fill:none\" points=\"\n",
       "  623.253,1233.37 623.253,1233.37 635.231,1233.37 623.253,1233.37 \n",
       "  \"/>\n",
       "<path clip-path=\"url(#clip132)\" d=\"\n",
       "M638.226 1233.37 L638.226 1233.37 L650.204 1233.37 L650.204 1233.37 L638.226 1233.37 L638.226 1233.37  Z\n",
       "  \" fill=\"#009af9\" fill-rule=\"evenodd\" fill-opacity=\"1\"/>\n",
       "<polyline clip-path=\"url(#clip132)\" style=\"stroke:#000000; stroke-width:4; stroke-opacity:1; fill:none\" points=\"\n",
       "  638.226,1233.37 638.226,1233.37 650.204,1233.37 638.226,1233.37 \n",
       "  \"/>\n",
       "<path clip-path=\"url(#clip132)\" d=\"\n",
       "M653.198 1233.37 L653.198 1233.37 L665.176 1233.37 L665.176 1233.37 L653.198 1233.37 L653.198 1233.37  Z\n",
       "  \" fill=\"#009af9\" fill-rule=\"evenodd\" fill-opacity=\"1\"/>\n",
       "<polyline clip-path=\"url(#clip132)\" style=\"stroke:#000000; stroke-width:4; stroke-opacity:1; fill:none\" points=\"\n",
       "  653.198,1233.37 653.198,1233.37 665.176,1233.37 653.198,1233.37 \n",
       "  \"/>\n",
       "<path clip-path=\"url(#clip132)\" d=\"\n",
       "M668.171 1233.37 L668.171 1233.37 L680.149 1233.37 L680.149 1233.37 L668.171 1233.37 L668.171 1233.37  Z\n",
       "  \" fill=\"#009af9\" fill-rule=\"evenodd\" fill-opacity=\"1\"/>\n",
       "<polyline clip-path=\"url(#clip132)\" style=\"stroke:#000000; stroke-width:4; stroke-opacity:1; fill:none\" points=\"\n",
       "  668.171,1233.37 668.171,1233.37 680.149,1233.37 668.171,1233.37 \n",
       "  \"/>\n",
       "<path clip-path=\"url(#clip132)\" d=\"\n",
       "M683.143 1233.37 L683.143 1233.37 L695.121 1233.37 L695.121 1233.37 L683.143 1233.37 L683.143 1233.37  Z\n",
       "  \" fill=\"#009af9\" fill-rule=\"evenodd\" fill-opacity=\"1\"/>\n",
       "<polyline clip-path=\"url(#clip132)\" style=\"stroke:#000000; stroke-width:4; stroke-opacity:1; fill:none\" points=\"\n",
       "  683.143,1233.37 683.143,1233.37 695.121,1233.37 683.143,1233.37 \n",
       "  \"/>\n",
       "<path clip-path=\"url(#clip132)\" d=\"\n",
       "M698.116 1233.37 L698.116 1233.37 L710.093 1233.37 L710.093 1233.37 L698.116 1233.37 L698.116 1233.37  Z\n",
       "  \" fill=\"#009af9\" fill-rule=\"evenodd\" fill-opacity=\"1\"/>\n",
       "<polyline clip-path=\"url(#clip132)\" style=\"stroke:#000000; stroke-width:4; stroke-opacity:1; fill:none\" points=\"\n",
       "  698.116,1233.37 698.116,1233.37 710.093,1233.37 698.116,1233.37 \n",
       "  \"/>\n",
       "<path clip-path=\"url(#clip132)\" d=\"\n",
       "M713.088 1233.37 L713.088 1233.37 L725.066 1233.37 L725.066 1233.37 L713.088 1233.37 L713.088 1233.37  Z\n",
       "  \" fill=\"#009af9\" fill-rule=\"evenodd\" fill-opacity=\"1\"/>\n",
       "<polyline clip-path=\"url(#clip132)\" style=\"stroke:#000000; stroke-width:4; stroke-opacity:1; fill:none\" points=\"\n",
       "  713.088,1233.37 713.088,1233.37 725.066,1233.37 713.088,1233.37 \n",
       "  \"/>\n",
       "<path clip-path=\"url(#clip132)\" d=\"\n",
       "M728.06 1233.37 L728.06 1233.37 L740.038 1233.37 L740.038 1233.37 L728.06 1233.37 L728.06 1233.37  Z\n",
       "  \" fill=\"#009af9\" fill-rule=\"evenodd\" fill-opacity=\"1\"/>\n",
       "<polyline clip-path=\"url(#clip132)\" style=\"stroke:#000000; stroke-width:4; stroke-opacity:1; fill:none\" points=\"\n",
       "  728.06,1233.37 728.06,1233.37 740.038,1233.37 728.06,1233.37 \n",
       "  \"/>\n",
       "<path clip-path=\"url(#clip132)\" d=\"\n",
       "M743.033 1233.37 L743.033 1233.37 L755.011 1233.37 L755.011 1233.37 L743.033 1233.37 L743.033 1233.37  Z\n",
       "  \" fill=\"#009af9\" fill-rule=\"evenodd\" fill-opacity=\"1\"/>\n",
       "<polyline clip-path=\"url(#clip132)\" style=\"stroke:#000000; stroke-width:4; stroke-opacity:1; fill:none\" points=\"\n",
       "  743.033,1233.37 743.033,1233.37 755.011,1233.37 743.033,1233.37 \n",
       "  \"/>\n",
       "<path clip-path=\"url(#clip132)\" d=\"\n",
       "M758.005 1233.37 L758.005 1233.37 L769.983 1233.37 L769.983 1233.37 L758.005 1233.37 L758.005 1233.37  Z\n",
       "  \" fill=\"#009af9\" fill-rule=\"evenodd\" fill-opacity=\"1\"/>\n",
       "<polyline clip-path=\"url(#clip132)\" style=\"stroke:#000000; stroke-width:4; stroke-opacity:1; fill:none\" points=\"\n",
       "  758.005,1233.37 758.005,1233.37 769.983,1233.37 758.005,1233.37 \n",
       "  \"/>\n",
       "<path clip-path=\"url(#clip132)\" d=\"\n",
       "M772.978 1233.37 L772.978 1233.37 L784.955 1233.37 L784.955 1233.37 L772.978 1233.37 L772.978 1233.37  Z\n",
       "  \" fill=\"#009af9\" fill-rule=\"evenodd\" fill-opacity=\"1\"/>\n",
       "<polyline clip-path=\"url(#clip132)\" style=\"stroke:#000000; stroke-width:4; stroke-opacity:1; fill:none\" points=\"\n",
       "  772.978,1233.37 772.978,1233.37 784.955,1233.37 772.978,1233.37 \n",
       "  \"/>\n",
       "<path clip-path=\"url(#clip132)\" d=\"\n",
       "M787.95 1233.37 L787.95 1233.37 L799.928 1233.37 L799.928 1233.37 L787.95 1233.37 L787.95 1233.37  Z\n",
       "  \" fill=\"#009af9\" fill-rule=\"evenodd\" fill-opacity=\"1\"/>\n",
       "<polyline clip-path=\"url(#clip132)\" style=\"stroke:#000000; stroke-width:4; stroke-opacity:1; fill:none\" points=\"\n",
       "  787.95,1233.37 787.95,1233.37 799.928,1233.37 787.95,1233.37 \n",
       "  \"/>\n",
       "<path clip-path=\"url(#clip132)\" d=\"\n",
       "M802.922 1233.37 L802.922 1233.37 L814.9 1233.37 L814.9 1233.37 L802.922 1233.37 L802.922 1233.37  Z\n",
       "  \" fill=\"#009af9\" fill-rule=\"evenodd\" fill-opacity=\"1\"/>\n",
       "<polyline clip-path=\"url(#clip132)\" style=\"stroke:#000000; stroke-width:4; stroke-opacity:1; fill:none\" points=\"\n",
       "  802.922,1233.37 802.922,1233.37 814.9,1233.37 802.922,1233.37 \n",
       "  \"/>\n",
       "<path clip-path=\"url(#clip132)\" d=\"\n",
       "M817.895 1233.37 L817.895 1233.37 L829.873 1233.37 L829.873 1233.37 L817.895 1233.37 L817.895 1233.37  Z\n",
       "  \" fill=\"#009af9\" fill-rule=\"evenodd\" fill-opacity=\"1\"/>\n",
       "<polyline clip-path=\"url(#clip132)\" style=\"stroke:#000000; stroke-width:4; stroke-opacity:1; fill:none\" points=\"\n",
       "  817.895,1233.37 817.895,1233.37 829.873,1233.37 817.895,1233.37 \n",
       "  \"/>\n",
       "<path clip-path=\"url(#clip132)\" d=\"\n",
       "M832.867 1233.37 L832.867 1233.37 L844.845 1233.37 L844.845 1233.37 L832.867 1233.37 L832.867 1233.37  Z\n",
       "  \" fill=\"#009af9\" fill-rule=\"evenodd\" fill-opacity=\"1\"/>\n",
       "<polyline clip-path=\"url(#clip132)\" style=\"stroke:#000000; stroke-width:4; stroke-opacity:1; fill:none\" points=\"\n",
       "  832.867,1233.37 832.867,1233.37 844.845,1233.37 832.867,1233.37 \n",
       "  \"/>\n",
       "<path clip-path=\"url(#clip132)\" d=\"\n",
       "M847.84 1233.37 L847.84 1233.37 L859.818 1233.37 L859.818 1233.37 L847.84 1233.37 L847.84 1233.37  Z\n",
       "  \" fill=\"#009af9\" fill-rule=\"evenodd\" fill-opacity=\"1\"/>\n",
       "<polyline clip-path=\"url(#clip132)\" style=\"stroke:#000000; stroke-width:4; stroke-opacity:1; fill:none\" points=\"\n",
       "  847.84,1233.37 847.84,1233.37 859.818,1233.37 847.84,1233.37 \n",
       "  \"/>\n",
       "<path clip-path=\"url(#clip132)\" d=\"\n",
       "M862.812 1233.37 L862.812 1233.37 L874.79 1233.37 L874.79 1233.37 L862.812 1233.37 L862.812 1233.37  Z\n",
       "  \" fill=\"#009af9\" fill-rule=\"evenodd\" fill-opacity=\"1\"/>\n",
       "<polyline clip-path=\"url(#clip132)\" style=\"stroke:#000000; stroke-width:4; stroke-opacity:1; fill:none\" points=\"\n",
       "  862.812,1233.37 862.812,1233.37 874.79,1233.37 862.812,1233.37 \n",
       "  \"/>\n",
       "<path clip-path=\"url(#clip132)\" d=\"\n",
       "M877.784 1233.37 L877.784 1233.37 L889.762 1233.37 L889.762 1233.37 L877.784 1233.37 L877.784 1233.37  Z\n",
       "  \" fill=\"#009af9\" fill-rule=\"evenodd\" fill-opacity=\"1\"/>\n",
       "<polyline clip-path=\"url(#clip132)\" style=\"stroke:#000000; stroke-width:4; stroke-opacity:1; fill:none\" points=\"\n",
       "  877.784,1233.37 877.784,1233.37 889.762,1233.37 877.784,1233.37 \n",
       "  \"/>\n",
       "<path clip-path=\"url(#clip132)\" d=\"\n",
       "M892.757 1233.37 L892.757 1233.37 L904.735 1233.37 L904.735 1233.37 L892.757 1233.37 L892.757 1233.37  Z\n",
       "  \" fill=\"#009af9\" fill-rule=\"evenodd\" fill-opacity=\"1\"/>\n",
       "<polyline clip-path=\"url(#clip132)\" style=\"stroke:#000000; stroke-width:4; stroke-opacity:1; fill:none\" points=\"\n",
       "  892.757,1233.37 892.757,1233.37 904.735,1233.37 892.757,1233.37 \n",
       "  \"/>\n",
       "<path clip-path=\"url(#clip132)\" d=\"\n",
       "M907.729 1232.9 L907.729 1233.37 L919.707 1233.37 L919.707 1232.9 L907.729 1232.9 L907.729 1232.9  Z\n",
       "  \" fill=\"#009af9\" fill-rule=\"evenodd\" fill-opacity=\"1\"/>\n",
       "<polyline clip-path=\"url(#clip132)\" style=\"stroke:#000000; stroke-width:4; stroke-opacity:1; fill:none\" points=\"\n",
       "  907.729,1232.9 907.729,1233.37 919.707,1233.37 919.707,1232.9 907.729,1232.9 \n",
       "  \"/>\n",
       "<path clip-path=\"url(#clip132)\" d=\"\n",
       "M922.702 1233.37 L922.702 1233.37 L934.68 1233.37 L934.68 1233.37 L922.702 1233.37 L922.702 1233.37  Z\n",
       "  \" fill=\"#009af9\" fill-rule=\"evenodd\" fill-opacity=\"1\"/>\n",
       "<polyline clip-path=\"url(#clip132)\" style=\"stroke:#000000; stroke-width:4; stroke-opacity:1; fill:none\" points=\"\n",
       "  922.702,1233.37 922.702,1233.37 934.68,1233.37 922.702,1233.37 \n",
       "  \"/>\n",
       "<path clip-path=\"url(#clip132)\" d=\"\n",
       "M937.674 1232.9 L937.674 1233.37 L949.652 1233.37 L949.652 1232.9 L937.674 1232.9 L937.674 1232.9  Z\n",
       "  \" fill=\"#009af9\" fill-rule=\"evenodd\" fill-opacity=\"1\"/>\n",
       "<polyline clip-path=\"url(#clip132)\" style=\"stroke:#000000; stroke-width:4; stroke-opacity:1; fill:none\" points=\"\n",
       "  937.674,1232.9 937.674,1233.37 949.652,1233.37 949.652,1232.9 937.674,1232.9 \n",
       "  \"/>\n",
       "<path clip-path=\"url(#clip132)\" d=\"\n",
       "M952.646 1233.37 L952.646 1233.37 L964.624 1233.37 L964.624 1233.37 L952.646 1233.37 L952.646 1233.37  Z\n",
       "  \" fill=\"#009af9\" fill-rule=\"evenodd\" fill-opacity=\"1\"/>\n",
       "<polyline clip-path=\"url(#clip132)\" style=\"stroke:#000000; stroke-width:4; stroke-opacity:1; fill:none\" points=\"\n",
       "  952.646,1233.37 952.646,1233.37 964.624,1233.37 952.646,1233.37 \n",
       "  \"/>\n",
       "<path clip-path=\"url(#clip132)\" d=\"\n",
       "M967.619 1233.37 L967.619 1233.37 L979.597 1233.37 L979.597 1233.37 L967.619 1233.37 L967.619 1233.37  Z\n",
       "  \" fill=\"#009af9\" fill-rule=\"evenodd\" fill-opacity=\"1\"/>\n",
       "<polyline clip-path=\"url(#clip132)\" style=\"stroke:#000000; stroke-width:4; stroke-opacity:1; fill:none\" points=\"\n",
       "  967.619,1233.37 967.619,1233.37 979.597,1233.37 967.619,1233.37 \n",
       "  \"/>\n",
       "<path clip-path=\"url(#clip132)\" d=\"\n",
       "M982.591 1232.9 L982.591 1233.37 L994.569 1233.37 L994.569 1232.9 L982.591 1232.9 L982.591 1232.9  Z\n",
       "  \" fill=\"#009af9\" fill-rule=\"evenodd\" fill-opacity=\"1\"/>\n",
       "<polyline clip-path=\"url(#clip132)\" style=\"stroke:#000000; stroke-width:4; stroke-opacity:1; fill:none\" points=\"\n",
       "  982.591,1232.9 982.591,1233.37 994.569,1233.37 994.569,1232.9 982.591,1232.9 \n",
       "  \"/>\n",
       "<path clip-path=\"url(#clip132)\" d=\"\n",
       "M997.564 1232.9 L997.564 1233.37 L1009.54 1233.37 L1009.54 1232.9 L997.564 1232.9 L997.564 1232.9  Z\n",
       "  \" fill=\"#009af9\" fill-rule=\"evenodd\" fill-opacity=\"1\"/>\n",
       "<polyline clip-path=\"url(#clip132)\" style=\"stroke:#000000; stroke-width:4; stroke-opacity:1; fill:none\" points=\"\n",
       "  997.564,1232.9 997.564,1233.37 1009.54,1233.37 1009.54,1232.9 997.564,1232.9 \n",
       "  \"/>\n",
       "<path clip-path=\"url(#clip132)\" d=\"\n",
       "M1012.54 1233.37 L1012.54 1233.37 L1024.51 1233.37 L1024.51 1233.37 L1012.54 1233.37 L1012.54 1233.37  Z\n",
       "  \" fill=\"#009af9\" fill-rule=\"evenodd\" fill-opacity=\"1\"/>\n",
       "<polyline clip-path=\"url(#clip132)\" style=\"stroke:#000000; stroke-width:4; stroke-opacity:1; fill:none\" points=\"\n",
       "  1012.54,1233.37 1012.54,1233.37 1024.51,1233.37 1012.54,1233.37 \n",
       "  \"/>\n",
       "<path clip-path=\"url(#clip132)\" d=\"\n",
       "M1027.51 1232.9 L1027.51 1233.37 L1039.49 1233.37 L1039.49 1232.9 L1027.51 1232.9 L1027.51 1232.9  Z\n",
       "  \" fill=\"#009af9\" fill-rule=\"evenodd\" fill-opacity=\"1\"/>\n",
       "<polyline clip-path=\"url(#clip132)\" style=\"stroke:#000000; stroke-width:4; stroke-opacity:1; fill:none\" points=\"\n",
       "  1027.51,1232.9 1027.51,1233.37 1039.49,1233.37 1039.49,1232.9 1027.51,1232.9 \n",
       "  \"/>\n",
       "<path clip-path=\"url(#clip132)\" d=\"\n",
       "M1042.48 1231.48 L1042.48 1233.37 L1054.46 1233.37 L1054.46 1231.48 L1042.48 1231.48 L1042.48 1231.48  Z\n",
       "  \" fill=\"#009af9\" fill-rule=\"evenodd\" fill-opacity=\"1\"/>\n",
       "<polyline clip-path=\"url(#clip132)\" style=\"stroke:#000000; stroke-width:4; stroke-opacity:1; fill:none\" points=\"\n",
       "  1042.48,1231.48 1042.48,1233.37 1054.46,1233.37 1054.46,1231.48 1042.48,1231.48 \n",
       "  \"/>\n",
       "<path clip-path=\"url(#clip132)\" d=\"\n",
       "M1057.45 1230.53 L1057.45 1233.37 L1069.43 1233.37 L1069.43 1230.53 L1057.45 1230.53 L1057.45 1230.53  Z\n",
       "  \" fill=\"#009af9\" fill-rule=\"evenodd\" fill-opacity=\"1\"/>\n",
       "<polyline clip-path=\"url(#clip132)\" style=\"stroke:#000000; stroke-width:4; stroke-opacity:1; fill:none\" points=\"\n",
       "  1057.45,1230.53 1057.45,1233.37 1069.43,1233.37 1069.43,1230.53 1057.45,1230.53 \n",
       "  \"/>\n",
       "<path clip-path=\"url(#clip132)\" d=\"\n",
       "M1072.43 1231.01 L1072.43 1233.37 L1084.4 1233.37 L1084.4 1231.01 L1072.43 1231.01 L1072.43 1231.01  Z\n",
       "  \" fill=\"#009af9\" fill-rule=\"evenodd\" fill-opacity=\"1\"/>\n",
       "<polyline clip-path=\"url(#clip132)\" style=\"stroke:#000000; stroke-width:4; stroke-opacity:1; fill:none\" points=\"\n",
       "  1072.43,1231.01 1072.43,1233.37 1084.4,1233.37 1084.4,1231.01 1072.43,1231.01 \n",
       "  \"/>\n",
       "<path clip-path=\"url(#clip132)\" d=\"\n",
       "M1087.4 1231.01 L1087.4 1233.37 L1099.38 1233.37 L1099.38 1231.01 L1087.4 1231.01 L1087.4 1231.01  Z\n",
       "  \" fill=\"#009af9\" fill-rule=\"evenodd\" fill-opacity=\"1\"/>\n",
       "<polyline clip-path=\"url(#clip132)\" style=\"stroke:#000000; stroke-width:4; stroke-opacity:1; fill:none\" points=\"\n",
       "  1087.4,1231.01 1087.4,1233.37 1099.38,1233.37 1099.38,1231.01 1087.4,1231.01 \n",
       "  \"/>\n",
       "<path clip-path=\"url(#clip132)\" d=\"\n",
       "M1102.37 1227.23 L1102.37 1233.37 L1114.35 1233.37 L1114.35 1227.23 L1102.37 1227.23 L1102.37 1227.23  Z\n",
       "  \" fill=\"#009af9\" fill-rule=\"evenodd\" fill-opacity=\"1\"/>\n",
       "<polyline clip-path=\"url(#clip132)\" style=\"stroke:#000000; stroke-width:4; stroke-opacity:1; fill:none\" points=\"\n",
       "  1102.37,1227.23 1102.37,1233.37 1114.35,1233.37 1114.35,1227.23 1102.37,1227.23 \n",
       "  \"/>\n",
       "<path clip-path=\"url(#clip132)\" d=\"\n",
       "M1117.34 1228.17 L1117.34 1233.37 L1129.32 1233.37 L1129.32 1228.17 L1117.34 1228.17 L1117.34 1228.17  Z\n",
       "  \" fill=\"#009af9\" fill-rule=\"evenodd\" fill-opacity=\"1\"/>\n",
       "<polyline clip-path=\"url(#clip132)\" style=\"stroke:#000000; stroke-width:4; stroke-opacity:1; fill:none\" points=\"\n",
       "  1117.34,1228.17 1117.34,1233.37 1129.32,1233.37 1129.32,1228.17 1117.34,1228.17 \n",
       "  \"/>\n",
       "<path clip-path=\"url(#clip132)\" d=\"\n",
       "M1132.32 1221.55 L1132.32 1233.37 L1144.29 1233.37 L1144.29 1221.55 L1132.32 1221.55 L1132.32 1221.55  Z\n",
       "  \" fill=\"#009af9\" fill-rule=\"evenodd\" fill-opacity=\"1\"/>\n",
       "<polyline clip-path=\"url(#clip132)\" style=\"stroke:#000000; stroke-width:4; stroke-opacity:1; fill:none\" points=\"\n",
       "  1132.32,1221.55 1132.32,1233.37 1144.29,1233.37 1144.29,1221.55 1132.32,1221.55 \n",
       "  \"/>\n",
       "<path clip-path=\"url(#clip132)\" d=\"\n",
       "M1147.29 1233.37 L1147.29 1233.37 L1159.27 1233.37 L1159.27 1233.37 L1147.29 1233.37 L1147.29 1233.37  Z\n",
       "  \" fill=\"#009af9\" fill-rule=\"evenodd\" fill-opacity=\"1\"/>\n",
       "<polyline clip-path=\"url(#clip132)\" style=\"stroke:#000000; stroke-width:4; stroke-opacity:1; fill:none\" points=\"\n",
       "  1147.29,1233.37 1147.29,1233.37 1159.27,1233.37 1147.29,1233.37 \n",
       "  \"/>\n",
       "<path clip-path=\"url(#clip132)\" d=\"\n",
       "M1162.26 1218.71 L1162.26 1233.37 L1174.24 1233.37 L1174.24 1218.71 L1162.26 1218.71 L1162.26 1218.71  Z\n",
       "  \" fill=\"#009af9\" fill-rule=\"evenodd\" fill-opacity=\"1\"/>\n",
       "<polyline clip-path=\"url(#clip132)\" style=\"stroke:#000000; stroke-width:4; stroke-opacity:1; fill:none\" points=\"\n",
       "  1162.26,1218.71 1162.26,1233.37 1174.24,1233.37 1174.24,1218.71 1162.26,1218.71 \n",
       "  \"/>\n",
       "<path clip-path=\"url(#clip132)\" d=\"\n",
       "M1177.23 1199.33 L1177.23 1233.37 L1189.21 1233.37 L1189.21 1199.33 L1177.23 1199.33 L1177.23 1199.33  Z\n",
       "  \" fill=\"#009af9\" fill-rule=\"evenodd\" fill-opacity=\"1\"/>\n",
       "<polyline clip-path=\"url(#clip132)\" style=\"stroke:#000000; stroke-width:4; stroke-opacity:1; fill:none\" points=\"\n",
       "  1177.23,1199.33 1177.23,1233.37 1189.21,1233.37 1189.21,1199.33 1177.23,1199.33 \n",
       "  \"/>\n",
       "<path clip-path=\"url(#clip132)\" d=\"\n",
       "M1192.2 1186.09 L1192.2 1233.37 L1204.18 1233.37 L1204.18 1186.09 L1192.2 1186.09 L1192.2 1186.09  Z\n",
       "  \" fill=\"#009af9\" fill-rule=\"evenodd\" fill-opacity=\"1\"/>\n",
       "<polyline clip-path=\"url(#clip132)\" style=\"stroke:#000000; stroke-width:4; stroke-opacity:1; fill:none\" points=\"\n",
       "  1192.2,1186.09 1192.2,1233.37 1204.18,1233.37 1204.18,1186.09 1192.2,1186.09 \n",
       "  \"/>\n",
       "<path clip-path=\"url(#clip132)\" d=\"\n",
       "M1207.18 1170.49 L1207.18 1233.37 L1219.16 1233.37 L1219.16 1170.49 L1207.18 1170.49 L1207.18 1170.49  Z\n",
       "  \" fill=\"#009af9\" fill-rule=\"evenodd\" fill-opacity=\"1\"/>\n",
       "<polyline clip-path=\"url(#clip132)\" style=\"stroke:#000000; stroke-width:4; stroke-opacity:1; fill:none\" points=\"\n",
       "  1207.18,1170.49 1207.18,1233.37 1219.16,1233.37 1219.16,1170.49 1207.18,1170.49 \n",
       "  \"/>\n",
       "<path clip-path=\"url(#clip132)\" d=\"\n",
       "M1222.15 1169.07 L1222.15 1233.37 L1234.13 1233.37 L1234.13 1169.07 L1222.15 1169.07 L1222.15 1169.07  Z\n",
       "  \" fill=\"#009af9\" fill-rule=\"evenodd\" fill-opacity=\"1\"/>\n",
       "<polyline clip-path=\"url(#clip132)\" style=\"stroke:#000000; stroke-width:4; stroke-opacity:1; fill:none\" points=\"\n",
       "  1222.15,1169.07 1222.15,1233.37 1234.13,1233.37 1234.13,1169.07 1222.15,1169.07 \n",
       "  \"/>\n",
       "<path clip-path=\"url(#clip132)\" d=\"\n",
       "M1237.12 1111.87 L1237.12 1233.37 L1249.1 1233.37 L1249.1 1111.87 L1237.12 1111.87 L1237.12 1111.87  Z\n",
       "  \" fill=\"#009af9\" fill-rule=\"evenodd\" fill-opacity=\"1\"/>\n",
       "<polyline clip-path=\"url(#clip132)\" style=\"stroke:#000000; stroke-width:4; stroke-opacity:1; fill:none\" points=\"\n",
       "  1237.12,1111.87 1237.12,1233.37 1249.1,1233.37 1249.1,1111.87 1237.12,1111.87 \n",
       "  \"/>\n",
       "<path clip-path=\"url(#clip132)\" d=\"\n",
       "M1252.09 1178.06 L1252.09 1233.37 L1264.07 1233.37 L1264.07 1178.06 L1252.09 1178.06 L1252.09 1178.06  Z\n",
       "  \" fill=\"#009af9\" fill-rule=\"evenodd\" fill-opacity=\"1\"/>\n",
       "<polyline clip-path=\"url(#clip132)\" style=\"stroke:#000000; stroke-width:4; stroke-opacity:1; fill:none\" points=\"\n",
       "  1252.09,1178.06 1252.09,1233.37 1264.07,1233.37 1264.07,1178.06 1252.09,1178.06 \n",
       "  \"/>\n",
       "<path clip-path=\"url(#clip132)\" d=\"\n",
       "M1267.07 1104.77 L1267.07 1233.37 L1279.04 1233.37 L1279.04 1104.77 L1267.07 1104.77 L1267.07 1104.77  Z\n",
       "  \" fill=\"#009af9\" fill-rule=\"evenodd\" fill-opacity=\"1\"/>\n",
       "<polyline clip-path=\"url(#clip132)\" style=\"stroke:#000000; stroke-width:4; stroke-opacity:1; fill:none\" points=\"\n",
       "  1267.07,1104.77 1267.07,1233.37 1279.04,1233.37 1279.04,1104.77 1267.07,1104.77 \n",
       "  \"/>\n",
       "<path clip-path=\"url(#clip132)\" d=\"\n",
       "M1282.04 1127.47 L1282.04 1233.37 L1294.02 1233.37 L1294.02 1127.47 L1282.04 1127.47 L1282.04 1127.47  Z\n",
       "  \" fill=\"#009af9\" fill-rule=\"evenodd\" fill-opacity=\"1\"/>\n",
       "<polyline clip-path=\"url(#clip132)\" style=\"stroke:#000000; stroke-width:4; stroke-opacity:1; fill:none\" points=\"\n",
       "  1282.04,1127.47 1282.04,1233.37 1294.02,1233.37 1294.02,1127.47 1282.04,1127.47 \n",
       "  \"/>\n",
       "<path clip-path=\"url(#clip132)\" d=\"\n",
       "M1297.01 1003.6 L1297.01 1233.37 L1308.99 1233.37 L1308.99 1003.6 L1297.01 1003.6 L1297.01 1003.6  Z\n",
       "  \" fill=\"#009af9\" fill-rule=\"evenodd\" fill-opacity=\"1\"/>\n",
       "<polyline clip-path=\"url(#clip132)\" style=\"stroke:#000000; stroke-width:4; stroke-opacity:1; fill:none\" points=\"\n",
       "  1297.01,1003.6 1297.01,1233.37 1308.99,1233.37 1308.99,1003.6 1297.01,1003.6 \n",
       "  \"/>\n",
       "<path clip-path=\"url(#clip132)\" d=\"\n",
       "M1311.98 1074.99 L1311.98 1233.37 L1323.96 1233.37 L1323.96 1074.99 L1311.98 1074.99 L1311.98 1074.99  Z\n",
       "  \" fill=\"#009af9\" fill-rule=\"evenodd\" fill-opacity=\"1\"/>\n",
       "<polyline clip-path=\"url(#clip132)\" style=\"stroke:#000000; stroke-width:4; stroke-opacity:1; fill:none\" points=\"\n",
       "  1311.98,1074.99 1311.98,1233.37 1323.96,1233.37 1323.96,1074.99 1311.98,1074.99 \n",
       "  \"/>\n",
       "<path clip-path=\"url(#clip132)\" d=\"\n",
       "M1326.96 1056.55 L1326.96 1233.37 L1338.93 1233.37 L1338.93 1056.55 L1326.96 1056.55 L1326.96 1056.55  Z\n",
       "  \" fill=\"#009af9\" fill-rule=\"evenodd\" fill-opacity=\"1\"/>\n",
       "<polyline clip-path=\"url(#clip132)\" style=\"stroke:#000000; stroke-width:4; stroke-opacity:1; fill:none\" points=\"\n",
       "  1326.96,1056.55 1326.96,1233.37 1338.93,1233.37 1338.93,1056.55 1326.96,1056.55 \n",
       "  \"/>\n",
       "<path clip-path=\"url(#clip132)\" d=\"\n",
       "M1341.93 840.013 L1341.93 1233.37 L1353.91 1233.37 L1353.91 840.013 L1341.93 840.013 L1341.93 840.013  Z\n",
       "  \" fill=\"#009af9\" fill-rule=\"evenodd\" fill-opacity=\"1\"/>\n",
       "<polyline clip-path=\"url(#clip132)\" style=\"stroke:#000000; stroke-width:4; stroke-opacity:1; fill:none\" points=\"\n",
       "  1341.93,840.013 1341.93,1233.37 1353.91,1233.37 1353.91,840.013 1341.93,840.013 \n",
       "  \"/>\n",
       "<path clip-path=\"url(#clip132)\" d=\"\n",
       "M1356.9 1100.05 L1356.9 1233.37 L1368.88 1233.37 L1368.88 1100.05 L1356.9 1100.05 L1356.9 1100.05  Z\n",
       "  \" fill=\"#009af9\" fill-rule=\"evenodd\" fill-opacity=\"1\"/>\n",
       "<polyline clip-path=\"url(#clip132)\" style=\"stroke:#000000; stroke-width:4; stroke-opacity:1; fill:none\" points=\"\n",
       "  1356.9,1100.05 1356.9,1233.37 1368.88,1233.37 1368.88,1100.05 1356.9,1100.05 \n",
       "  \"/>\n",
       "<path clip-path=\"url(#clip132)\" d=\"\n",
       "M1371.87 869.799 L1371.87 1233.37 L1383.85 1233.37 L1383.85 869.799 L1371.87 869.799 L1371.87 869.799  Z\n",
       "  \" fill=\"#009af9\" fill-rule=\"evenodd\" fill-opacity=\"1\"/>\n",
       "<polyline clip-path=\"url(#clip132)\" style=\"stroke:#000000; stroke-width:4; stroke-opacity:1; fill:none\" points=\"\n",
       "  1371.87,869.799 1371.87,1233.37 1383.85,1233.37 1383.85,869.799 1371.87,869.799 \n",
       "  \"/>\n",
       "<path clip-path=\"url(#clip132)\" d=\"\n",
       "M1386.85 923.224 L1386.85 1233.37 L1398.82 1233.37 L1398.82 923.224 L1386.85 923.224 L1386.85 923.224  Z\n",
       "  \" fill=\"#009af9\" fill-rule=\"evenodd\" fill-opacity=\"1\"/>\n",
       "<polyline clip-path=\"url(#clip132)\" style=\"stroke:#000000; stroke-width:4; stroke-opacity:1; fill:none\" points=\"\n",
       "  1386.85,923.224 1386.85,1233.37 1398.82,1233.37 1398.82,923.224 1386.85,923.224 \n",
       "  \"/>\n",
       "<path clip-path=\"url(#clip132)\" d=\"\n",
       "M1401.82 1033.38 L1401.82 1233.37 L1413.8 1233.37 L1413.8 1033.38 L1401.82 1033.38 L1401.82 1033.38  Z\n",
       "  \" fill=\"#009af9\" fill-rule=\"evenodd\" fill-opacity=\"1\"/>\n",
       "<polyline clip-path=\"url(#clip132)\" style=\"stroke:#000000; stroke-width:4; stroke-opacity:1; fill:none\" points=\"\n",
       "  1401.82,1033.38 1401.82,1233.37 1413.8,1233.37 1413.8,1033.38 1401.82,1033.38 \n",
       "  \"/>\n",
       "<path clip-path=\"url(#clip132)\" d=\"\n",
       "M1416.79 808.81 L1416.79 1233.37 L1428.77 1233.37 L1428.77 808.81 L1416.79 808.81 L1416.79 808.81  Z\n",
       "  \" fill=\"#009af9\" fill-rule=\"evenodd\" fill-opacity=\"1\"/>\n",
       "<polyline clip-path=\"url(#clip132)\" style=\"stroke:#000000; stroke-width:4; stroke-opacity:1; fill:none\" points=\"\n",
       "  1416.79,808.81 1416.79,1233.37 1428.77,1233.37 1428.77,808.81 1416.79,808.81 \n",
       "  \"/>\n",
       "<path clip-path=\"url(#clip132)\" d=\"\n",
       "M1431.76 776.66 L1431.76 1233.37 L1443.74 1233.37 L1443.74 776.66 L1431.76 776.66 L1431.76 776.66  Z\n",
       "  \" fill=\"#009af9\" fill-rule=\"evenodd\" fill-opacity=\"1\"/>\n",
       "<polyline clip-path=\"url(#clip132)\" style=\"stroke:#000000; stroke-width:4; stroke-opacity:1; fill:none\" points=\"\n",
       "  1431.76,776.66 1431.76,1233.37 1443.74,1233.37 1443.74,776.66 1431.76,776.66 \n",
       "  \"/>\n",
       "<path clip-path=\"url(#clip132)\" d=\"\n",
       "M1446.74 947.809 L1446.74 1233.37 L1458.71 1233.37 L1458.71 947.809 L1446.74 947.809 L1446.74 947.809  Z\n",
       "  \" fill=\"#009af9\" fill-rule=\"evenodd\" fill-opacity=\"1\"/>\n",
       "<polyline clip-path=\"url(#clip132)\" style=\"stroke:#000000; stroke-width:4; stroke-opacity:1; fill:none\" points=\"\n",
       "  1446.74,947.809 1446.74,1233.37 1458.71,1233.37 1458.71,947.809 1446.74,947.809 \n",
       "  \"/>\n",
       "<path clip-path=\"url(#clip132)\" d=\"\n",
       "M1461.71 909.513 L1461.71 1233.37 L1473.69 1233.37 L1473.69 909.513 L1461.71 909.513 L1461.71 909.513  Z\n",
       "  \" fill=\"#009af9\" fill-rule=\"evenodd\" fill-opacity=\"1\"/>\n",
       "<polyline clip-path=\"url(#clip132)\" style=\"stroke:#000000; stroke-width:4; stroke-opacity:1; fill:none\" points=\"\n",
       "  1461.71,909.513 1461.71,1233.37 1473.69,1233.37 1473.69,909.513 1461.71,909.513 \n",
       "  \"/>\n",
       "<path clip-path=\"url(#clip132)\" d=\"\n",
       "M1476.68 864.126 L1476.68 1233.37 L1488.66 1233.37 L1488.66 864.126 L1476.68 864.126 L1476.68 864.126  Z\n",
       "  \" fill=\"#009af9\" fill-rule=\"evenodd\" fill-opacity=\"1\"/>\n",
       "<polyline clip-path=\"url(#clip132)\" style=\"stroke:#000000; stroke-width:4; stroke-opacity:1; fill:none\" points=\"\n",
       "  1476.68,864.126 1476.68,1233.37 1488.66,1233.37 1488.66,864.126 1476.68,864.126 \n",
       "  \"/>\n",
       "<path clip-path=\"url(#clip132)\" d=\"\n",
       "M1491.65 755.385 L1491.65 1233.37 L1503.63 1233.37 L1503.63 755.385 L1491.65 755.385 L1491.65 755.385  Z\n",
       "  \" fill=\"#009af9\" fill-rule=\"evenodd\" fill-opacity=\"1\"/>\n",
       "<polyline clip-path=\"url(#clip132)\" style=\"stroke:#000000; stroke-width:4; stroke-opacity:1; fill:none\" points=\"\n",
       "  1491.65,755.385 1491.65,1233.37 1503.63,1233.37 1503.63,755.385 1491.65,755.385 \n",
       "  \"/>\n",
       "<path clip-path=\"url(#clip132)\" d=\"\n",
       "M1506.63 810.228 L1506.63 1233.37 L1518.6 1233.37 L1518.6 810.228 L1506.63 810.228 L1506.63 810.228  Z\n",
       "  \" fill=\"#009af9\" fill-rule=\"evenodd\" fill-opacity=\"1\"/>\n",
       "<polyline clip-path=\"url(#clip132)\" style=\"stroke:#000000; stroke-width:4; stroke-opacity:1; fill:none\" points=\"\n",
       "  1506.63,810.228 1506.63,1233.37 1518.6,1233.37 1518.6,810.228 1506.63,810.228 \n",
       "  \"/>\n",
       "<path clip-path=\"url(#clip132)\" d=\"\n",
       "M1521.6 733.637 L1521.6 1233.37 L1533.58 1233.37 L1533.58 733.637 L1521.6 733.637 L1521.6 733.637  Z\n",
       "  \" fill=\"#009af9\" fill-rule=\"evenodd\" fill-opacity=\"1\"/>\n",
       "<polyline clip-path=\"url(#clip132)\" style=\"stroke:#000000; stroke-width:4; stroke-opacity:1; fill:none\" points=\"\n",
       "  1521.6,733.637 1521.6,1233.37 1533.58,1233.37 1533.58,733.637 1521.6,733.637 \n",
       "  \"/>\n",
       "<path clip-path=\"url(#clip132)\" d=\"\n",
       "M1536.57 786.589 L1536.57 1233.37 L1548.55 1233.37 L1548.55 786.589 L1536.57 786.589 L1536.57 786.589  Z\n",
       "  \" fill=\"#009af9\" fill-rule=\"evenodd\" fill-opacity=\"1\"/>\n",
       "<polyline clip-path=\"url(#clip132)\" style=\"stroke:#000000; stroke-width:4; stroke-opacity:1; fill:none\" points=\"\n",
       "  1536.57,786.589 1536.57,1233.37 1548.55,1233.37 1548.55,786.589 1536.57,786.589 \n",
       "  \"/>\n",
       "<path clip-path=\"url(#clip132)\" d=\"\n",
       "M1551.54 681.157 L1551.54 1233.37 L1563.52 1233.37 L1563.52 681.157 L1551.54 681.157 L1551.54 681.157  Z\n",
       "  \" fill=\"#009af9\" fill-rule=\"evenodd\" fill-opacity=\"1\"/>\n",
       "<polyline clip-path=\"url(#clip132)\" style=\"stroke:#000000; stroke-width:4; stroke-opacity:1; fill:none\" points=\"\n",
       "  1551.54,681.157 1551.54,1233.37 1563.52,1233.37 1563.52,681.157 1551.54,681.157 \n",
       "  \"/>\n",
       "<path clip-path=\"url(#clip132)\" d=\"\n",
       "M1566.52 813.065 L1566.52 1233.37 L1578.49 1233.37 L1578.49 813.065 L1566.52 813.065 L1566.52 813.065  Z\n",
       "  \" fill=\"#009af9\" fill-rule=\"evenodd\" fill-opacity=\"1\"/>\n",
       "<polyline clip-path=\"url(#clip132)\" style=\"stroke:#000000; stroke-width:4; stroke-opacity:1; fill:none\" points=\"\n",
       "  1566.52,813.065 1566.52,1233.37 1578.49,1233.37 1578.49,813.065 1566.52,813.065 \n",
       "  \"/>\n",
       "<path clip-path=\"url(#clip132)\" d=\"\n",
       "M1581.49 831.976 L1581.49 1233.37 L1593.47 1233.37 L1593.47 831.976 L1581.49 831.976 L1581.49 831.976  Z\n",
       "  \" fill=\"#009af9\" fill-rule=\"evenodd\" fill-opacity=\"1\"/>\n",
       "<polyline clip-path=\"url(#clip132)\" style=\"stroke:#000000; stroke-width:4; stroke-opacity:1; fill:none\" points=\"\n",
       "  1581.49,831.976 1581.49,1233.37 1593.47,1233.37 1593.47,831.976 1581.49,831.976 \n",
       "  \"/>\n",
       "<path clip-path=\"url(#clip132)\" d=\"\n",
       "M1596.46 768.623 L1596.46 1233.37 L1608.44 1233.37 L1608.44 768.623 L1596.46 768.623 L1596.46 768.623  Z\n",
       "  \" fill=\"#009af9\" fill-rule=\"evenodd\" fill-opacity=\"1\"/>\n",
       "<polyline clip-path=\"url(#clip132)\" style=\"stroke:#000000; stroke-width:4; stroke-opacity:1; fill:none\" points=\"\n",
       "  1596.46,768.623 1596.46,1233.37 1608.44,1233.37 1608.44,768.623 1596.46,768.623 \n",
       "  \"/>\n",
       "<path clip-path=\"url(#clip132)\" d=\"\n",
       "M1611.43 864.126 L1611.43 1233.37 L1623.41 1233.37 L1623.41 864.126 L1611.43 864.126 L1611.43 864.126  Z\n",
       "  \" fill=\"#009af9\" fill-rule=\"evenodd\" fill-opacity=\"1\"/>\n",
       "<polyline clip-path=\"url(#clip132)\" style=\"stroke:#000000; stroke-width:4; stroke-opacity:1; fill:none\" points=\"\n",
       "  1611.43,864.126 1611.43,1233.37 1623.41,1233.37 1623.41,864.126 1611.43,864.126 \n",
       "  \"/>\n",
       "<path clip-path=\"url(#clip132)\" d=\"\n",
       "M1626.4 616.858 L1626.4 1233.37 L1638.38 1233.37 L1638.38 616.858 L1626.4 616.858 L1626.4 616.858  Z\n",
       "  \" fill=\"#009af9\" fill-rule=\"evenodd\" fill-opacity=\"1\"/>\n",
       "<polyline clip-path=\"url(#clip132)\" style=\"stroke:#000000; stroke-width:4; stroke-opacity:1; fill:none\" points=\"\n",
       "  1626.4,616.858 1626.4,1233.37 1638.38,1233.37 1638.38,616.858 1626.4,616.858 \n",
       "  \"/>\n",
       "<path clip-path=\"url(#clip132)\" d=\"\n",
       "M1641.38 758.694 L1641.38 1233.37 L1653.36 1233.37 L1653.36 758.694 L1641.38 758.694 L1641.38 758.694  Z\n",
       "  \" fill=\"#009af9\" fill-rule=\"evenodd\" fill-opacity=\"1\"/>\n",
       "<polyline clip-path=\"url(#clip132)\" style=\"stroke:#000000; stroke-width:4; stroke-opacity:1; fill:none\" points=\"\n",
       "  1641.38,758.694 1641.38,1233.37 1653.36,1233.37 1653.36,758.694 1641.38,758.694 \n",
       "  \"/>\n",
       "<path clip-path=\"url(#clip132)\" d=\"\n",
       "M1656.35 818.738 L1656.35 1233.37 L1668.33 1233.37 L1668.33 818.738 L1656.35 818.738 L1656.35 818.738  Z\n",
       "  \" fill=\"#009af9\" fill-rule=\"evenodd\" fill-opacity=\"1\"/>\n",
       "<polyline clip-path=\"url(#clip132)\" style=\"stroke:#000000; stroke-width:4; stroke-opacity:1; fill:none\" points=\"\n",
       "  1656.35,818.738 1656.35,1233.37 1668.33,1233.37 1668.33,818.738 1656.35,818.738 \n",
       "  \"/>\n",
       "<path clip-path=\"url(#clip132)\" d=\"\n",
       "M1671.32 841.432 L1671.32 1233.37 L1683.3 1233.37 L1683.3 841.432 L1671.32 841.432 L1671.32 841.432  Z\n",
       "  \" fill=\"#009af9\" fill-rule=\"evenodd\" fill-opacity=\"1\"/>\n",
       "<polyline clip-path=\"url(#clip132)\" style=\"stroke:#000000; stroke-width:4; stroke-opacity:1; fill:none\" points=\"\n",
       "  1671.32,841.432 1671.32,1233.37 1683.3,1233.37 1683.3,841.432 1671.32,841.432 \n",
       "  \"/>\n",
       "<path clip-path=\"url(#clip132)\" d=\"\n",
       "M1686.29 722.763 L1686.29 1233.37 L1698.27 1233.37 L1698.27 722.763 L1686.29 722.763 L1686.29 722.763  Z\n",
       "  \" fill=\"#009af9\" fill-rule=\"evenodd\" fill-opacity=\"1\"/>\n",
       "<polyline clip-path=\"url(#clip132)\" style=\"stroke:#000000; stroke-width:4; stroke-opacity:1; fill:none\" points=\"\n",
       "  1686.29,722.763 1686.29,1233.37 1698.27,1233.37 1698.27,722.763 1686.29,722.763 \n",
       "  \"/>\n",
       "<path clip-path=\"url(#clip132)\" d=\"\n",
       "M1701.27 588.019 L1701.27 1233.37 L1713.24 1233.37 L1713.24 588.019 L1701.27 588.019 L1701.27 588.019  Z\n",
       "  \" fill=\"#009af9\" fill-rule=\"evenodd\" fill-opacity=\"1\"/>\n",
       "<polyline clip-path=\"url(#clip132)\" style=\"stroke:#000000; stroke-width:4; stroke-opacity:1; fill:none\" points=\"\n",
       "  1701.27,588.019 1701.27,1233.37 1713.24,1233.37 1713.24,588.019 1701.27,588.019 \n",
       "  \"/>\n",
       "<path clip-path=\"url(#clip132)\" d=\"\n",
       "M1716.24 635.297 L1716.24 1233.37 L1728.22 1233.37 L1728.22 635.297 L1716.24 635.297 L1716.24 635.297  Z\n",
       "  \" fill=\"#009af9\" fill-rule=\"evenodd\" fill-opacity=\"1\"/>\n",
       "<polyline clip-path=\"url(#clip132)\" style=\"stroke:#000000; stroke-width:4; stroke-opacity:1; fill:none\" points=\"\n",
       "  1716.24,635.297 1716.24,1233.37 1728.22,1233.37 1728.22,635.297 1716.24,635.297 \n",
       "  \"/>\n",
       "<path clip-path=\"url(#clip132)\" d=\"\n",
       "M1731.21 379.993 L1731.21 1233.37 L1743.19 1233.37 L1743.19 379.993 L1731.21 379.993 L1731.21 379.993  Z\n",
       "  \" fill=\"#009af9\" fill-rule=\"evenodd\" fill-opacity=\"1\"/>\n",
       "<polyline clip-path=\"url(#clip132)\" style=\"stroke:#000000; stroke-width:4; stroke-opacity:1; fill:none\" points=\"\n",
       "  1731.21,379.993 1731.21,1233.37 1743.19,1233.37 1743.19,379.993 1731.21,379.993 \n",
       "  \"/>\n",
       "<path clip-path=\"url(#clip132)\" d=\"\n",
       "M1746.18 551.614 L1746.18 1233.37 L1758.16 1233.37 L1758.16 551.614 L1746.18 551.614 L1746.18 551.614  Z\n",
       "  \" fill=\"#009af9\" fill-rule=\"evenodd\" fill-opacity=\"1\"/>\n",
       "<polyline clip-path=\"url(#clip132)\" style=\"stroke:#000000; stroke-width:4; stroke-opacity:1; fill:none\" points=\"\n",
       "  1746.18,551.614 1746.18,1233.37 1758.16,1233.37 1758.16,551.614 1746.18,551.614 \n",
       "  \"/>\n",
       "<path clip-path=\"url(#clip132)\" d=\"\n",
       "M1761.16 516.628 L1761.16 1233.37 L1773.13 1233.37 L1773.13 516.628 L1761.16 516.628 L1761.16 516.628  Z\n",
       "  \" fill=\"#009af9\" fill-rule=\"evenodd\" fill-opacity=\"1\"/>\n",
       "<polyline clip-path=\"url(#clip132)\" style=\"stroke:#000000; stroke-width:4; stroke-opacity:1; fill:none\" points=\"\n",
       "  1761.16,516.628 1761.16,1233.37 1773.13,1233.37 1773.13,516.628 1761.16,516.628 \n",
       "  \"/>\n",
       "<path clip-path=\"url(#clip132)\" d=\"\n",
       "M1776.13 581.4 L1776.13 1233.37 L1788.11 1233.37 L1788.11 581.4 L1776.13 581.4 L1776.13 581.4  Z\n",
       "  \" fill=\"#009af9\" fill-rule=\"evenodd\" fill-opacity=\"1\"/>\n",
       "<polyline clip-path=\"url(#clip132)\" style=\"stroke:#000000; stroke-width:4; stroke-opacity:1; fill:none\" points=\"\n",
       "  1776.13,581.4 1776.13,1233.37 1788.11,1233.37 1788.11,581.4 1776.13,581.4 \n",
       "  \"/>\n",
       "<path clip-path=\"url(#clip132)\" d=\"\n",
       "M1791.1 526.084 L1791.1 1233.37 L1803.08 1233.37 L1803.08 526.084 L1791.1 526.084 L1791.1 526.084  Z\n",
       "  \" fill=\"#009af9\" fill-rule=\"evenodd\" fill-opacity=\"1\"/>\n",
       "<polyline clip-path=\"url(#clip132)\" style=\"stroke:#000000; stroke-width:4; stroke-opacity:1; fill:none\" points=\"\n",
       "  1791.1,526.084 1791.1,1233.37 1803.08,1233.37 1803.08,526.084 1791.1,526.084 \n",
       "  \"/>\n",
       "<path clip-path=\"url(#clip132)\" d=\"\n",
       "M1806.07 556.815 L1806.07 1233.37 L1818.05 1233.37 L1818.05 556.815 L1806.07 556.815 L1806.07 556.815  Z\n",
       "  \" fill=\"#009af9\" fill-rule=\"evenodd\" fill-opacity=\"1\"/>\n",
       "<polyline clip-path=\"url(#clip132)\" style=\"stroke:#000000; stroke-width:4; stroke-opacity:1; fill:none\" points=\"\n",
       "  1806.07,556.815 1806.07,1233.37 1818.05,1233.37 1818.05,556.815 1806.07,556.815 \n",
       "  \"/>\n",
       "<path clip-path=\"url(#clip132)\" d=\"\n",
       "M1821.05 461.312 L1821.05 1233.37 L1833.02 1233.37 L1833.02 461.312 L1821.05 461.312 L1821.05 461.312  Z\n",
       "  \" fill=\"#009af9\" fill-rule=\"evenodd\" fill-opacity=\"1\"/>\n",
       "<polyline clip-path=\"url(#clip132)\" style=\"stroke:#000000; stroke-width:4; stroke-opacity:1; fill:none\" points=\"\n",
       "  1821.05,461.312 1821.05,1233.37 1833.02,1233.37 1833.02,461.312 1821.05,461.312 \n",
       "  \"/>\n",
       "<path clip-path=\"url(#clip132)\" d=\"\n",
       "M1836.02 214.518 L1836.02 1233.37 L1848 1233.37 L1848 214.518 L1836.02 214.518 L1836.02 214.518  Z\n",
       "  \" fill=\"#009af9\" fill-rule=\"evenodd\" fill-opacity=\"1\"/>\n",
       "<polyline clip-path=\"url(#clip132)\" style=\"stroke:#000000; stroke-width:4; stroke-opacity:1; fill:none\" points=\"\n",
       "  1836.02,214.518 1836.02,1233.37 1848,1233.37 1848,214.518 1836.02,214.518 \n",
       "  \"/>\n",
       "<path clip-path=\"url(#clip132)\" d=\"\n",
       "M1850.99 496.298 L1850.99 1233.37 L1862.97 1233.37 L1862.97 496.298 L1850.99 496.298 L1850.99 496.298  Z\n",
       "  \" fill=\"#009af9\" fill-rule=\"evenodd\" fill-opacity=\"1\"/>\n",
       "<polyline clip-path=\"url(#clip132)\" style=\"stroke:#000000; stroke-width:4; stroke-opacity:1; fill:none\" points=\"\n",
       "  1850.99,496.298 1850.99,1233.37 1862.97,1233.37 1862.97,496.298 1850.99,496.298 \n",
       "  \"/>\n",
       "<path clip-path=\"url(#clip132)\" d=\"\n",
       "M1865.96 241.939 L1865.96 1233.37 L1877.94 1233.37 L1877.94 241.939 L1865.96 241.939 L1865.96 241.939  Z\n",
       "  \" fill=\"#009af9\" fill-rule=\"evenodd\" fill-opacity=\"1\"/>\n",
       "<polyline clip-path=\"url(#clip132)\" style=\"stroke:#000000; stroke-width:4; stroke-opacity:1; fill:none\" points=\"\n",
       "  1865.96,241.939 1865.96,1233.37 1877.94,1233.37 1877.94,241.939 1865.96,241.939 \n",
       "  \"/>\n",
       "<path clip-path=\"url(#clip132)\" d=\"\n",
       "M1880.94 575.726 L1880.94 1233.37 L1892.91 1233.37 L1892.91 575.726 L1880.94 575.726 L1880.94 575.726  Z\n",
       "  \" fill=\"#009af9\" fill-rule=\"evenodd\" fill-opacity=\"1\"/>\n",
       "<polyline clip-path=\"url(#clip132)\" style=\"stroke:#000000; stroke-width:4; stroke-opacity:1; fill:none\" points=\"\n",
       "  1880.94,575.726 1880.94,1233.37 1892.91,1233.37 1892.91,575.726 1880.94,575.726 \n",
       "  \"/>\n",
       "<path clip-path=\"url(#clip132)\" d=\"\n",
       "M1895.91 520.41 L1895.91 1233.37 L1907.89 1233.37 L1907.89 520.41 L1895.91 520.41 L1895.91 520.41  Z\n",
       "  \" fill=\"#009af9\" fill-rule=\"evenodd\" fill-opacity=\"1\"/>\n",
       "<polyline clip-path=\"url(#clip132)\" style=\"stroke:#000000; stroke-width:4; stroke-opacity:1; fill:none\" points=\"\n",
       "  1895.91,520.41 1895.91,1233.37 1907.89,1233.37 1907.89,520.41 1895.91,520.41 \n",
       "  \"/>\n",
       "<path clip-path=\"url(#clip132)\" d=\"\n",
       "M1910.88 540.267 L1910.88 1233.37 L1922.86 1233.37 L1922.86 540.267 L1910.88 540.267 L1910.88 540.267  Z\n",
       "  \" fill=\"#009af9\" fill-rule=\"evenodd\" fill-opacity=\"1\"/>\n",
       "<polyline clip-path=\"url(#clip132)\" style=\"stroke:#000000; stroke-width:4; stroke-opacity:1; fill:none\" points=\"\n",
       "  1910.88,540.267 1910.88,1233.37 1922.86,1233.37 1922.86,540.267 1910.88,540.267 \n",
       "  \"/>\n",
       "<path clip-path=\"url(#clip132)\" d=\"\n",
       "M1925.85 452.329 L1925.85 1233.37 L1937.83 1233.37 L1937.83 452.329 L1925.85 452.329 L1925.85 452.329  Z\n",
       "  \" fill=\"#009af9\" fill-rule=\"evenodd\" fill-opacity=\"1\"/>\n",
       "<polyline clip-path=\"url(#clip132)\" style=\"stroke:#000000; stroke-width:4; stroke-opacity:1; fill:none\" points=\"\n",
       "  1925.85,452.329 1925.85,1233.37 1937.83,1233.37 1937.83,452.329 1925.85,452.329 \n",
       "  \"/>\n",
       "<path clip-path=\"url(#clip132)\" d=\"\n",
       "M1940.83 337.442 L1940.83 1233.37 L1952.8 1233.37 L1952.8 337.442 L1940.83 337.442 L1940.83 337.442  Z\n",
       "  \" fill=\"#009af9\" fill-rule=\"evenodd\" fill-opacity=\"1\"/>\n",
       "<polyline clip-path=\"url(#clip132)\" style=\"stroke:#000000; stroke-width:4; stroke-opacity:1; fill:none\" points=\"\n",
       "  1940.83,337.442 1940.83,1233.37 1952.8,1233.37 1952.8,337.442 1940.83,337.442 \n",
       "  \"/>\n",
       "<path clip-path=\"url(#clip132)\" d=\"\n",
       "M1955.8 553.505 L1955.8 1233.37 L1967.78 1233.37 L1967.78 553.505 L1955.8 553.505 L1955.8 553.505  Z\n",
       "  \" fill=\"#009af9\" fill-rule=\"evenodd\" fill-opacity=\"1\"/>\n",
       "<polyline clip-path=\"url(#clip132)\" style=\"stroke:#000000; stroke-width:4; stroke-opacity:1; fill:none\" points=\"\n",
       "  1955.8,553.505 1955.8,1233.37 1967.78,1233.37 1967.78,553.505 1955.8,553.505 \n",
       "  \"/>\n",
       "<path clip-path=\"url(#clip132)\" d=\"\n",
       "M1970.77 769.568 L1970.77 1233.37 L1982.75 1233.37 L1982.75 769.568 L1970.77 769.568 L1970.77 769.568  Z\n",
       "  \" fill=\"#009af9\" fill-rule=\"evenodd\" fill-opacity=\"1\"/>\n",
       "<polyline clip-path=\"url(#clip132)\" style=\"stroke:#000000; stroke-width:4; stroke-opacity:1; fill:none\" points=\"\n",
       "  1970.77,769.568 1970.77,1233.37 1982.75,1233.37 1982.75,769.568 1970.77,769.568 \n",
       "  \"/>\n",
       "<path clip-path=\"url(#clip132)\" d=\"\n",
       "M1985.74 890.129 L1985.74 1233.37 L1997.72 1233.37 L1997.72 890.129 L1985.74 890.129 L1985.74 890.129  Z\n",
       "  \" fill=\"#009af9\" fill-rule=\"evenodd\" fill-opacity=\"1\"/>\n",
       "<polyline clip-path=\"url(#clip132)\" style=\"stroke:#000000; stroke-width:4; stroke-opacity:1; fill:none\" points=\"\n",
       "  1985.74,890.129 1985.74,1233.37 1997.72,1233.37 1997.72,890.129 1985.74,890.129 \n",
       "  \"/>\n",
       "<path clip-path=\"url(#clip132)\" d=\"\n",
       "M2000.72 245.722 L2000.72 1233.37 L2012.69 1233.37 L2012.69 245.722 L2000.72 245.722 L2000.72 245.722  Z\n",
       "  \" fill=\"#009af9\" fill-rule=\"evenodd\" fill-opacity=\"1\"/>\n",
       "<polyline clip-path=\"url(#clip132)\" style=\"stroke:#000000; stroke-width:4; stroke-opacity:1; fill:none\" points=\"\n",
       "  2000.72,245.722 2000.72,1233.37 2012.69,1233.37 2012.69,245.722 2000.72,245.722 \n",
       "  \"/>\n",
       "<path clip-path=\"url(#clip132)\" d=\"\n",
       "M2015.69 790.844 L2015.69 1233.37 L2027.67 1233.37 L2027.67 790.844 L2015.69 790.844 L2015.69 790.844  Z\n",
       "  \" fill=\"#009af9\" fill-rule=\"evenodd\" fill-opacity=\"1\"/>\n",
       "<polyline clip-path=\"url(#clip132)\" style=\"stroke:#000000; stroke-width:4; stroke-opacity:1; fill:none\" points=\"\n",
       "  2015.69,790.844 2015.69,1233.37 2027.67,1233.37 2027.67,790.844 2015.69,790.844 \n",
       "  \"/>\n",
       "<path clip-path=\"url(#clip132)\" d=\"\n",
       "M2030.66 263.687 L2030.66 1233.37 L2042.64 1233.37 L2042.64 263.687 L2030.66 263.687 L2030.66 263.687  Z\n",
       "  \" fill=\"#009af9\" fill-rule=\"evenodd\" fill-opacity=\"1\"/>\n",
       "<polyline clip-path=\"url(#clip132)\" style=\"stroke:#000000; stroke-width:4; stroke-opacity:1; fill:none\" points=\"\n",
       "  2030.66,263.687 2030.66,1233.37 2042.64,1233.37 2042.64,263.687 2030.66,263.687 \n",
       "  \"/>\n",
       "<path clip-path=\"url(#clip132)\" d=\"\n",
       "M2045.63 548.777 L2045.63 1233.37 L2057.61 1233.37 L2057.61 548.777 L2045.63 548.777 L2045.63 548.777  Z\n",
       "  \" fill=\"#009af9\" fill-rule=\"evenodd\" fill-opacity=\"1\"/>\n",
       "<polyline clip-path=\"url(#clip132)\" style=\"stroke:#000000; stroke-width:4; stroke-opacity:1; fill:none\" points=\"\n",
       "  2045.63,548.777 2045.63,1233.37 2057.61,1233.37 2057.61,548.777 2045.63,548.777 \n",
       "  \"/>\n",
       "<path clip-path=\"url(#clip132)\" d=\"\n",
       "M2060.6 615.44 L2060.6 1233.37 L2072.58 1233.37 L2072.58 615.44 L2060.6 615.44 L2060.6 615.44  Z\n",
       "  \" fill=\"#009af9\" fill-rule=\"evenodd\" fill-opacity=\"1\"/>\n",
       "<polyline clip-path=\"url(#clip132)\" style=\"stroke:#000000; stroke-width:4; stroke-opacity:1; fill:none\" points=\"\n",
       "  2060.6,615.44 2060.6,1233.37 2072.58,1233.37 2072.58,615.44 2060.6,615.44 \n",
       "  \"/>\n",
       "<path clip-path=\"url(#clip132)\" d=\"\n",
       "M2075.58 757.749 L2075.58 1233.37 L2087.56 1233.37 L2087.56 757.749 L2075.58 757.749 L2075.58 757.749  Z\n",
       "  \" fill=\"#009af9\" fill-rule=\"evenodd\" fill-opacity=\"1\"/>\n",
       "<polyline clip-path=\"url(#clip132)\" style=\"stroke:#000000; stroke-width:4; stroke-opacity:1; fill:none\" points=\"\n",
       "  2075.58,757.749 2075.58,1233.37 2087.56,1233.37 2087.56,757.749 2075.58,757.749 \n",
       "  \"/>\n",
       "<path clip-path=\"url(#clip132)\" d=\"\n",
       "M2090.55 537.43 L2090.55 1233.37 L2102.53 1233.37 L2102.53 537.43 L2090.55 537.43 L2090.55 537.43  Z\n",
       "  \" fill=\"#009af9\" fill-rule=\"evenodd\" fill-opacity=\"1\"/>\n",
       "<polyline clip-path=\"url(#clip132)\" style=\"stroke:#000000; stroke-width:4; stroke-opacity:1; fill:none\" points=\"\n",
       "  2090.55,537.43 2090.55,1233.37 2102.53,1233.37 2102.53,537.43 2090.55,537.43 \n",
       "  \"/>\n",
       "<path clip-path=\"url(#clip132)\" d=\"\n",
       "M2105.52 760.113 L2105.52 1233.37 L2117.5 1233.37 L2117.5 760.113 L2105.52 760.113 L2105.52 760.113  Z\n",
       "  \" fill=\"#009af9\" fill-rule=\"evenodd\" fill-opacity=\"1\"/>\n",
       "<polyline clip-path=\"url(#clip132)\" style=\"stroke:#000000; stroke-width:4; stroke-opacity:1; fill:none\" points=\"\n",
       "  2105.52,760.113 2105.52,1233.37 2117.5,1233.37 2117.5,760.113 2105.52,760.113 \n",
       "  \"/>\n",
       "<path clip-path=\"url(#clip132)\" d=\"\n",
       "M2120.49 513.791 L2120.49 1233.37 L2132.47 1233.37 L2132.47 513.791 L2120.49 513.791 L2120.49 513.791  Z\n",
       "  \" fill=\"#009af9\" fill-rule=\"evenodd\" fill-opacity=\"1\"/>\n",
       "<polyline clip-path=\"url(#clip132)\" style=\"stroke:#000000; stroke-width:4; stroke-opacity:1; fill:none\" points=\"\n",
       "  2120.49,513.791 2120.49,1233.37 2132.47,1233.37 2132.47,513.791 2120.49,513.791 \n",
       "  \"/>\n",
       "<path clip-path=\"url(#clip132)\" d=\"\n",
       "M2135.47 600.784 L2135.47 1233.37 L2147.44 1233.37 L2147.44 600.784 L2135.47 600.784 L2135.47 600.784  Z\n",
       "  \" fill=\"#009af9\" fill-rule=\"evenodd\" fill-opacity=\"1\"/>\n",
       "<polyline clip-path=\"url(#clip132)\" style=\"stroke:#000000; stroke-width:4; stroke-opacity:1; fill:none\" points=\"\n",
       "  2135.47,600.784 2135.47,1233.37 2147.44,1233.37 2147.44,600.784 2135.47,600.784 \n",
       "  \"/>\n",
       "<path clip-path=\"url(#clip132)\" d=\"\n",
       "M2150.44 572.417 L2150.44 1233.37 L2162.42 1233.37 L2162.42 572.417 L2150.44 572.417 L2150.44 572.417  Z\n",
       "  \" fill=\"#009af9\" fill-rule=\"evenodd\" fill-opacity=\"1\"/>\n",
       "<polyline clip-path=\"url(#clip132)\" style=\"stroke:#000000; stroke-width:4; stroke-opacity:1; fill:none\" points=\"\n",
       "  2150.44,572.417 2150.44,1233.37 2162.42,1233.37 2162.42,572.417 2150.44,572.417 \n",
       "  \"/>\n",
       "<path clip-path=\"url(#clip132)\" d=\"\n",
       "M2165.41 539.322 L2165.41 1233.37 L2177.39 1233.37 L2177.39 539.322 L2165.41 539.322 L2165.41 539.322  Z\n",
       "  \" fill=\"#009af9\" fill-rule=\"evenodd\" fill-opacity=\"1\"/>\n",
       "<polyline clip-path=\"url(#clip132)\" style=\"stroke:#000000; stroke-width:4; stroke-opacity:1; fill:none\" points=\"\n",
       "  2165.41,539.322 2165.41,1233.37 2177.39,1233.37 2177.39,539.322 2165.41,539.322 \n",
       "  \"/>\n",
       "<path clip-path=\"url(#clip132)\" d=\"\n",
       "M2180.38 480.223 L2180.38 1233.37 L2192.36 1233.37 L2192.36 480.223 L2180.38 480.223 L2180.38 480.223  Z\n",
       "  \" fill=\"#009af9\" fill-rule=\"evenodd\" fill-opacity=\"1\"/>\n",
       "<polyline clip-path=\"url(#clip132)\" style=\"stroke:#000000; stroke-width:4; stroke-opacity:1; fill:none\" points=\"\n",
       "  2180.38,480.223 2180.38,1233.37 2192.36,1233.37 2192.36,480.223 2180.38,480.223 \n",
       "  \"/>\n",
       "<path clip-path=\"url(#clip132)\" d=\"\n",
       "M2195.36 719.453 L2195.36 1233.37 L2207.33 1233.37 L2207.33 719.453 L2195.36 719.453 L2195.36 719.453  Z\n",
       "  \" fill=\"#009af9\" fill-rule=\"evenodd\" fill-opacity=\"1\"/>\n",
       "<polyline clip-path=\"url(#clip132)\" style=\"stroke:#000000; stroke-width:4; stroke-opacity:1; fill:none\" points=\"\n",
       "  2195.36,719.453 2195.36,1233.37 2207.33,1233.37 2207.33,719.453 2195.36,719.453 \n",
       "  \"/>\n",
       "<path clip-path=\"url(#clip132)\" d=\"\n",
       "M2210.33 892.02 L2210.33 1233.37 L2222.31 1233.37 L2222.31 892.02 L2210.33 892.02 L2210.33 892.02  Z\n",
       "  \" fill=\"#009af9\" fill-rule=\"evenodd\" fill-opacity=\"1\"/>\n",
       "<polyline clip-path=\"url(#clip132)\" style=\"stroke:#000000; stroke-width:4; stroke-opacity:1; fill:none\" points=\"\n",
       "  2210.33,892.02 2210.33,1233.37 2222.31,1233.37 2222.31,892.02 2210.33,892.02 \n",
       "  \"/>\n",
       "<path clip-path=\"url(#clip132)\" d=\"\n",
       "M2225.3 901.476 L2225.3 1233.37 L2237.28 1233.37 L2237.28 901.476 L2225.3 901.476 L2225.3 901.476  Z\n",
       "  \" fill=\"#009af9\" fill-rule=\"evenodd\" fill-opacity=\"1\"/>\n",
       "<polyline clip-path=\"url(#clip132)\" style=\"stroke:#000000; stroke-width:4; stroke-opacity:1; fill:none\" points=\"\n",
       "  2225.3,901.476 2225.3,1233.37 2237.28,1233.37 2237.28,901.476 2225.3,901.476 \n",
       "  \"/>\n",
       "<polyline clip-path=\"url(#clip132)\" style=\"stroke:#ff0000; stroke-width:8; stroke-opacity:1; fill:none\" points=\"\n",
       "  374.711,1233.37 389.684,1233.37 404.656,1233.37 419.629,1233.37 434.601,1233.37 449.574,1233.37 464.546,1233.32 479.518,1233.32 494.491,1233.32 509.463,1233.32 \n",
       "  524.436,1233.32 539.408,1233.32 554.38,1233.32 569.353,1233.37 584.325,1233.37 599.298,1233.37 614.27,1233.37 629.242,1233.37 644.215,1233.37 659.187,1233.37 \n",
       "  674.16,1233.37 689.132,1233.37 704.104,1233.37 719.077,1233.37 734.049,1233.37 749.022,1233.37 763.994,1233.37 778.967,1233.37 793.939,1233.37 808.911,1233.37 \n",
       "  823.884,1233.37 838.856,1233.37 853.829,1233.37 868.801,1233.37 883.773,1233.37 898.746,1233.37 913.718,1233.32 928.691,1233.32 943.663,1233.23 958.635,1233.23 \n",
       "  973.608,1233.23 988.58,1233.18 1003.55,1233.09 1018.53,1233.18 1033.5,1233.09 1048.47,1232.9 1063.44,1232.47 1078.41,1232.14 1093.39,1231.91 1108.36,1231.05 \n",
       "  1123.33,1230.35 1138.3,1228.69 1153.28,1228.97 1168.25,1227.27 1183.22,1222.78 1198.19,1216.35 1213.17,1208.27 1228.14,1199.8 1243.11,1184.15 1258.08,1176.21 \n",
       "  1273.06,1159.95 1288.03,1149.69 1303,1123.64 1317.97,1109.97 1332.95,1093.9 1347.92,1055.08 1362.89,1043.93 1377.86,1010.36 1392.84,981.187 1407.81,985.442 \n",
       "  1422.78,947.383 1437.75,907.433 1452.72,922.798 1467.7,895.613 1482.67,894.809 1497.64,870.792 1512.61,838.926 1527.59,828.194 1542.56,829.612 1557.53,791.506 \n",
       "  1572.5,777.748 1587.48,773.162 1602.45,775.053 1617.42,782.759 1632.39,766.07 1647.37,762.051 1662.34,781.719 1677.31,785.785 1692.28,770.183 1707.26,744.369 \n",
       "  1722.23,711.699 1737.2,677.848 1752.17,648.251 1767.15,605.086 1782.12,567.972 1797.09,539.842 1812.06,535.397 1827.04,510.529 1842.01,486.89 1856.98,478.994 \n",
       "  1871.95,439.753 1886.92,438.949 1901.9,438.145 1916.87,435.782 1931.84,434.505 1946.81,452.045 1961.79,460.225 1976.76,535.587 1991.73,580.501 2006.7,541.26 \n",
       "  2021.68,577.097 2036.65,550.148 2051.62,580.312 2066.59,589.153 2081.57,587.498 2096.54,537.1 2111.51,610.57 2126.48,570.998 2141.46,619.175 2156.43,622.532 \n",
       "  2171.4,611.658 2186.37,571.991 2201.35,597.994 2216.32,616.858 2231.29,672.222 \n",
       "  \"/>\n",
       "<path clip-path=\"url(#clip130)\" d=\"\n",
       "M325.246 448.912 L804.897 448.912 L804.897 267.472 L325.246 267.472  Z\n",
       "  \" fill=\"#ffffff\" fill-rule=\"evenodd\" fill-opacity=\"1\"/>\n",
       "<polyline clip-path=\"url(#clip130)\" style=\"stroke:#000000; stroke-width:4; stroke-opacity:1; fill:none\" points=\"\n",
       "  325.246,448.912 804.897,448.912 804.897,267.472 325.246,267.472 325.246,448.912 \n",
       "  \"/>\n",
       "<path clip-path=\"url(#clip130)\" d=\"\n",
       "M349.246 352.144 L493.246 352.144 L493.246 303.76 L349.246 303.76 L349.246 352.144  Z\n",
       "  \" fill=\"#009af9\" fill-rule=\"evenodd\" fill-opacity=\"1\"/>\n",
       "<polyline clip-path=\"url(#clip130)\" style=\"stroke:#000000; stroke-width:4; stroke-opacity:1; fill:none\" points=\"\n",
       "  349.246,352.144 493.246,352.144 493.246,303.76 349.246,303.76 349.246,352.144 \n",
       "  \"/>\n",
       "<path clip-path=\"url(#clip130)\" d=\"M 0 0 M521.922 314.515 L521.922 341.39 L527.57 341.39 Q534.722 341.39 538.033 338.149 Q541.366 334.908 541.366 327.917 Q541.366 320.973 538.033 317.755 Q534.722 314.515 527.57 314.515 L521.922 314.515 M517.246 310.672 L526.852 310.672 Q536.898 310.672 541.597 314.862 Q546.296 319.029 546.296 327.917 Q546.296 336.853 541.574 341.042 Q536.852 345.232 526.852 345.232 L517.246 345.232 L517.246 310.672 Z\" fill=\"#000000\" fill-rule=\"evenodd\" fill-opacity=\"1\" /><path clip-path=\"url(#clip130)\" d=\"M 0 0 M562.546 332.2 Q557.384 332.2 555.394 333.38 Q553.403 334.561 553.403 337.408 Q553.403 339.677 554.884 341.019 Q556.389 342.339 558.958 342.339 Q562.5 342.339 564.63 339.839 Q566.782 337.316 566.782 333.149 L566.782 332.2 L562.546 332.2 M571.042 330.441 L571.042 345.232 L566.782 345.232 L566.782 341.297 Q565.324 343.658 563.148 344.792 Q560.972 345.903 557.824 345.903 Q553.843 345.903 551.482 343.681 Q549.144 341.436 549.144 337.686 Q549.144 333.311 552.06 331.089 Q555 328.866 560.81 328.866 L566.782 328.866 L566.782 328.45 Q566.782 325.51 564.838 323.913 Q562.917 322.292 559.421 322.292 Q557.199 322.292 555.093 322.825 Q552.986 323.357 551.042 324.422 L551.042 320.487 Q553.38 319.584 555.579 319.144 Q557.778 318.681 559.861 318.681 Q565.486 318.681 568.264 321.598 Q571.042 324.515 571.042 330.441 Z\" fill=\"#000000\" fill-rule=\"evenodd\" fill-opacity=\"1\" /><path clip-path=\"url(#clip130)\" d=\"M 0 0 M575.509 319.306 L579.769 319.306 L579.769 345.232 L575.509 345.232 L575.509 319.306 M575.509 309.214 L579.769 309.214 L579.769 314.607 L575.509 314.607 L575.509 309.214 Z\" fill=\"#000000\" fill-rule=\"evenodd\" fill-opacity=\"1\" /><path clip-path=\"url(#clip130)\" d=\"M 0 0 M584.236 309.214 L588.495 309.214 L588.495 345.232 L584.236 345.232 L584.236 309.214 Z\" fill=\"#000000\" fill-rule=\"evenodd\" fill-opacity=\"1\" /><path clip-path=\"url(#clip130)\" d=\"M 0 0 M603.75 347.64 Q601.944 352.269 600.231 353.681 Q598.518 355.093 595.648 355.093 L592.245 355.093 L592.245 351.528 L594.745 351.528 Q596.505 351.528 597.477 350.695 Q598.449 349.862 599.63 346.76 L600.393 344.815 L589.907 319.306 L594.421 319.306 L602.523 339.584 L610.625 319.306 L615.139 319.306 L603.75 347.64 Z\" fill=\"#000000\" fill-rule=\"evenodd\" fill-opacity=\"1\" /><path clip-path=\"url(#clip130)\" d=\"M 0 0 M660.74 313.334 L660.74 318.265 Q658.379 316.066 655.694 314.978 Q653.032 313.89 650.023 313.89 Q644.097 313.89 640.949 317.524 Q637.801 321.135 637.801 327.987 Q637.801 334.816 640.949 338.45 Q644.097 342.061 650.023 342.061 Q653.032 342.061 655.694 340.973 Q658.379 339.885 660.74 337.686 L660.74 342.57 Q658.287 344.237 655.532 345.07 Q652.801 345.903 649.745 345.903 Q641.898 345.903 637.384 341.112 Q632.87 336.297 632.87 327.987 Q632.87 319.654 637.384 314.862 Q641.898 310.047 649.745 310.047 Q652.847 310.047 655.578 310.88 Q658.333 311.691 660.74 313.334 Z\" fill=\"#000000\" fill-rule=\"evenodd\" fill-opacity=\"1\" /><path clip-path=\"url(#clip130)\" d=\"M 0 0 M676.99 332.2 Q671.828 332.2 669.837 333.38 Q667.847 334.561 667.847 337.408 Q667.847 339.677 669.328 341.019 Q670.833 342.339 673.402 342.339 Q676.944 342.339 679.074 339.839 Q681.226 337.316 681.226 333.149 L681.226 332.2 L676.99 332.2 M685.486 330.441 L685.486 345.232 L681.226 345.232 L681.226 341.297 Q679.768 343.658 677.592 344.792 Q675.416 345.903 672.268 345.903 Q668.287 345.903 665.925 343.681 Q663.588 341.436 663.588 337.686 Q663.588 333.311 666.504 331.089 Q669.444 328.866 675.254 328.866 L681.226 328.866 L681.226 328.45 Q681.226 325.51 679.282 323.913 Q677.361 322.292 673.865 322.292 Q671.643 322.292 669.537 322.825 Q667.43 323.357 665.486 324.422 L665.486 320.487 Q667.824 319.584 670.023 319.144 Q672.222 318.681 674.305 318.681 Q679.93 318.681 682.708 321.598 Q685.486 324.515 685.486 330.441 Z\" fill=\"#000000\" fill-rule=\"evenodd\" fill-opacity=\"1\" /><path clip-path=\"url(#clip130)\" d=\"M 0 0 M706.481 320.07 L706.481 324.098 Q704.675 323.172 702.731 322.709 Q700.786 322.246 698.703 322.246 Q695.532 322.246 693.935 323.218 Q692.361 324.191 692.361 326.135 Q692.361 327.616 693.495 328.473 Q694.629 329.306 698.055 330.07 L699.513 330.394 Q704.05 331.366 705.948 333.149 Q707.87 334.908 707.87 338.079 Q707.87 341.69 704.999 343.797 Q702.152 345.903 697.152 345.903 Q695.069 345.903 692.8 345.487 Q690.555 345.093 688.055 344.283 L688.055 339.885 Q690.416 341.112 692.708 341.737 Q694.999 342.339 697.245 342.339 Q700.254 342.339 701.874 341.32 Q703.495 340.278 703.495 338.403 Q703.495 336.667 702.314 335.741 Q701.157 334.816 697.198 333.959 L695.717 333.612 Q691.759 332.778 689.999 331.066 Q688.24 329.329 688.24 326.32 Q688.24 322.663 690.833 320.672 Q693.425 318.681 698.194 318.681 Q700.555 318.681 702.638 319.029 Q704.722 319.376 706.481 320.07 Z\" fill=\"#000000\" fill-rule=\"evenodd\" fill-opacity=\"1\" /><path clip-path=\"url(#clip130)\" d=\"M 0 0 M734.513 331.204 L734.513 333.288 L714.93 333.288 Q715.208 337.686 717.569 340.001 Q719.953 342.292 724.189 342.292 Q726.643 342.292 728.934 341.69 Q731.249 341.089 733.518 339.885 L733.518 343.913 Q731.226 344.885 728.819 345.394 Q726.411 345.903 723.934 345.903 Q717.731 345.903 714.097 342.292 Q710.485 338.681 710.485 332.524 Q710.485 326.158 713.911 322.431 Q717.36 318.681 723.194 318.681 Q728.425 318.681 731.458 322.061 Q734.513 325.417 734.513 331.204 M730.254 329.954 Q730.208 326.459 728.286 324.376 Q726.388 322.292 723.24 322.292 Q719.675 322.292 717.522 324.306 Q715.393 326.32 715.069 329.978 L730.254 329.954 Z\" fill=\"#000000\" fill-rule=\"evenodd\" fill-opacity=\"1\" /><path clip-path=\"url(#clip130)\" d=\"M 0 0 M755.508 320.07 L755.508 324.098 Q753.703 323.172 751.758 322.709 Q749.814 322.246 747.731 322.246 Q744.559 322.246 742.962 323.218 Q741.388 324.191 741.388 326.135 Q741.388 327.616 742.522 328.473 Q743.657 329.306 747.082 330.07 L748.541 330.394 Q753.078 331.366 754.976 333.149 Q756.897 334.908 756.897 338.079 Q756.897 341.69 754.027 343.797 Q751.18 345.903 746.18 345.903 Q744.096 345.903 741.828 345.487 Q739.582 345.093 737.083 344.283 L737.083 339.885 Q739.444 341.112 741.735 341.737 Q744.027 342.339 746.272 342.339 Q749.282 342.339 750.902 341.32 Q752.522 340.278 752.522 338.403 Q752.522 336.667 751.342 335.741 Q750.184 334.816 746.226 333.959 L744.744 333.612 Q740.786 332.778 739.027 331.066 Q737.268 329.329 737.268 326.32 Q737.268 322.663 739.86 320.672 Q742.453 318.681 747.221 318.681 Q749.582 318.681 751.666 319.029 Q753.749 319.376 755.508 320.07 Z\" fill=\"#000000\" fill-rule=\"evenodd\" fill-opacity=\"1\" /><polyline clip-path=\"url(#clip130)\" style=\"stroke:#ff0000; stroke-width:4; stroke-opacity:1; fill:none\" points=\"\n",
       "  349.246,388.432 493.246,388.432 \n",
       "  \"/>\n",
       "<path clip-path=\"url(#clip130)\" d=\"M 0 0 M517.246 371.152 L539.468 371.152 L539.468 373.143 L526.922 405.712 L522.037 405.712 L533.843 375.087 L517.246 375.087 L517.246 371.152 Z\" fill=\"#000000\" fill-rule=\"evenodd\" fill-opacity=\"1\" /><path clip-path=\"url(#clip130)\" d=\"M 0 0 M541.783 390.828 L554.259 390.828 L554.259 394.624 L541.783 394.624 L541.783 390.828 Z\" fill=\"#000000\" fill-rule=\"evenodd\" fill-opacity=\"1\" /><path clip-path=\"url(#clip130)\" d=\"M 0 0 M575.787 383.722 L575.787 369.694 L580.046 369.694 L580.046 405.712 L575.787 405.712 L575.787 401.823 Q574.444 404.138 572.384 405.272 Q570.347 406.383 567.477 406.383 Q562.778 406.383 559.815 402.633 Q556.875 398.883 556.875 392.772 Q556.875 386.661 559.815 382.911 Q562.778 379.161 567.477 379.161 Q570.347 379.161 572.384 380.296 Q574.444 381.407 575.787 383.722 M561.273 392.772 Q561.273 397.471 563.195 400.157 Q565.139 402.819 568.519 402.819 Q571.898 402.819 573.843 400.157 Q575.787 397.471 575.787 392.772 Q575.787 388.073 573.843 385.411 Q571.898 382.726 568.519 382.726 Q565.139 382.726 563.195 385.411 Q561.273 388.073 561.273 392.772 Z\" fill=\"#000000\" fill-rule=\"evenodd\" fill-opacity=\"1\" /><path clip-path=\"url(#clip130)\" d=\"M 0 0 M596.296 392.68 Q591.134 392.68 589.143 393.86 Q587.153 395.041 587.153 397.888 Q587.153 400.157 588.634 401.499 Q590.139 402.819 592.708 402.819 Q596.25 402.819 598.38 400.319 Q600.532 397.796 600.532 393.629 L600.532 392.68 L596.296 392.68 M604.792 390.921 L604.792 405.712 L600.532 405.712 L600.532 401.777 Q599.074 404.138 596.898 405.272 Q594.722 406.383 591.574 406.383 Q587.593 406.383 585.231 404.161 Q582.894 401.916 582.894 398.166 Q582.894 393.791 585.81 391.569 Q588.75 389.346 594.56 389.346 L600.532 389.346 L600.532 388.93 Q600.532 385.99 598.588 384.393 Q596.667 382.772 593.171 382.772 Q590.949 382.772 588.843 383.305 Q586.736 383.837 584.792 384.902 L584.792 380.967 Q587.13 380.064 589.329 379.624 Q591.528 379.161 593.611 379.161 Q599.236 379.161 602.014 382.078 Q604.792 384.995 604.792 390.921 Z\" fill=\"#000000\" fill-rule=\"evenodd\" fill-opacity=\"1\" /><path clip-path=\"url(#clip130)\" d=\"M 0 0 M620.046 408.12 Q618.241 412.749 616.528 414.161 Q614.815 415.573 611.944 415.573 L608.542 415.573 L608.542 412.008 L611.042 412.008 Q612.801 412.008 613.773 411.175 Q614.745 410.342 615.926 407.24 L616.69 405.295 L606.204 379.786 L610.717 379.786 L618.819 400.064 L626.921 379.786 L631.435 379.786 L620.046 408.12 Z\" fill=\"#000000\" fill-rule=\"evenodd\" fill-opacity=\"1\" /><path clip-path=\"url(#clip130)\" d=\"M 0 0 M662.708 375.759 L656.365 392.958 L669.074 392.958 L662.708 375.759 M660.069 371.152 L665.37 371.152 L678.541 405.712 L673.68 405.712 L670.532 396.846 L654.953 396.846 L651.805 405.712 L646.875 405.712 L660.069 371.152 Z\" fill=\"#000000\" fill-rule=\"evenodd\" fill-opacity=\"1\" /><path clip-path=\"url(#clip130)\" d=\"M 0 0 M677.175 379.786 L681.689 379.786 L689.791 401.545 L697.893 379.786 L702.407 379.786 L692.685 405.712 L686.898 405.712 L677.175 379.786 Z\" fill=\"#000000\" fill-rule=\"evenodd\" fill-opacity=\"1\" /><path clip-path=\"url(#clip130)\" d=\"M 0 0 M723.934 392.448 Q723.934 387.819 722.013 385.272 Q720.115 382.726 716.666 382.726 Q713.24 382.726 711.319 385.272 Q709.421 387.819 709.421 392.448 Q709.421 397.055 711.319 399.601 Q713.24 402.147 716.666 402.147 Q720.115 402.147 722.013 399.601 Q723.934 397.055 723.934 392.448 M728.194 402.495 Q728.194 409.115 725.254 412.332 Q722.314 415.573 716.249 415.573 Q714.004 415.573 712.013 415.226 Q710.022 414.902 708.147 414.207 L708.147 410.064 Q710.022 411.082 711.851 411.569 Q713.68 412.055 715.578 412.055 Q719.768 412.055 721.851 409.856 Q723.934 407.68 723.934 403.258 L723.934 401.152 Q722.615 403.444 720.555 404.578 Q718.495 405.712 715.624 405.712 Q710.856 405.712 707.939 402.078 Q705.022 398.444 705.022 392.448 Q705.022 386.43 707.939 382.796 Q710.856 379.161 715.624 379.161 Q718.495 379.161 720.555 380.296 Q722.615 381.43 723.934 383.722 L723.934 379.786 L728.194 379.786 L728.194 402.495 Z\" fill=\"#000000\" fill-rule=\"evenodd\" fill-opacity=\"1\" /></svg>\n"
      ]
     },
     "execution_count": 72,
     "metadata": {},
     "output_type": "execute_result"
    }
   ],
   "source": [
    "graph_epidemiological_curve(dfc,\"Illinois\",\"Cook\")"
   ]
  },
  {
   "cell_type": "code",
   "execution_count": 73,
   "metadata": {},
   "outputs": [
    {
     "data": {
      "image/svg+xml": [
       "<?xml version=\"1.0\" encoding=\"utf-8\"?>\n",
       "<svg xmlns=\"http://www.w3.org/2000/svg\" xmlns:xlink=\"http://www.w3.org/1999/xlink\" width=\"600\" height=\"400\" viewBox=\"0 0 2400 1600\">\n",
       "<defs>\n",
       "  <clipPath id=\"clip170\">\n",
       "    <rect x=\"0\" y=\"0\" width=\"2400\" height=\"1600\"/>\n",
       "  </clipPath>\n",
       "</defs>\n",
       "<path clip-path=\"url(#clip170)\" d=\"\n",
       "M0 1600 L2400 1600 L2400 0 L0 0  Z\n",
       "  \" fill=\"#ffffff\" fill-rule=\"evenodd\" fill-opacity=\"1\"/>\n",
       "<defs>\n",
       "  <clipPath id=\"clip171\">\n",
       "    <rect x=\"480\" y=\"0\" width=\"1681\" height=\"1600\"/>\n",
       "  </clipPath>\n",
       "</defs>\n",
       "<path clip-path=\"url(#clip170)\" d=\"\n",
       "M256.486 1263.94 L2352.76 1263.94 L2352.76 183.952 L256.486 183.952  Z\n",
       "  \" fill=\"#ffffff\" fill-rule=\"evenodd\" fill-opacity=\"1\"/>\n",
       "<defs>\n",
       "  <clipPath id=\"clip172\">\n",
       "    <rect x=\"256\" y=\"183\" width=\"2097\" height=\"1081\"/>\n",
       "  </clipPath>\n",
       "</defs>\n",
       "<polyline clip-path=\"url(#clip172)\" style=\"stroke:#000000; stroke-width:2; stroke-opacity:0.1; fill:none\" points=\"\n",
       "  377.765,1263.94 377.765,183.952 \n",
       "  \"/>\n",
       "<polyline clip-path=\"url(#clip172)\" style=\"stroke:#000000; stroke-width:2; stroke-opacity:0.1; fill:none\" points=\"\n",
       "  587.055,1263.94 587.055,183.952 \n",
       "  \"/>\n",
       "<polyline clip-path=\"url(#clip172)\" style=\"stroke:#000000; stroke-width:2; stroke-opacity:0.1; fill:none\" points=\"\n",
       "  796.345,1263.94 796.345,183.952 \n",
       "  \"/>\n",
       "<polyline clip-path=\"url(#clip172)\" style=\"stroke:#000000; stroke-width:2; stroke-opacity:0.1; fill:none\" points=\"\n",
       "  1005.64,1263.94 1005.64,183.952 \n",
       "  \"/>\n",
       "<polyline clip-path=\"url(#clip172)\" style=\"stroke:#000000; stroke-width:2; stroke-opacity:0.1; fill:none\" points=\"\n",
       "  1214.93,1263.94 1214.93,183.952 \n",
       "  \"/>\n",
       "<polyline clip-path=\"url(#clip172)\" style=\"stroke:#000000; stroke-width:2; stroke-opacity:0.1; fill:none\" points=\"\n",
       "  1424.22,1263.94 1424.22,183.952 \n",
       "  \"/>\n",
       "<polyline clip-path=\"url(#clip172)\" style=\"stroke:#000000; stroke-width:2; stroke-opacity:0.1; fill:none\" points=\"\n",
       "  1633.51,1263.94 1633.51,183.952 \n",
       "  \"/>\n",
       "<polyline clip-path=\"url(#clip172)\" style=\"stroke:#000000; stroke-width:2; stroke-opacity:0.1; fill:none\" points=\"\n",
       "  1842.8,1263.94 1842.8,183.952 \n",
       "  \"/>\n",
       "<polyline clip-path=\"url(#clip172)\" style=\"stroke:#000000; stroke-width:2; stroke-opacity:0.1; fill:none\" points=\"\n",
       "  2052.09,1263.94 2052.09,183.952 \n",
       "  \"/>\n",
       "<polyline clip-path=\"url(#clip172)\" style=\"stroke:#000000; stroke-width:2; stroke-opacity:0.1; fill:none\" points=\"\n",
       "  256.486,1233.37 2352.76,1233.37 \n",
       "  \"/>\n",
       "<polyline clip-path=\"url(#clip172)\" style=\"stroke:#000000; stroke-width:2; stroke-opacity:0.1; fill:none\" points=\"\n",
       "  256.486,981.492 2352.76,981.492 \n",
       "  \"/>\n",
       "<polyline clip-path=\"url(#clip172)\" style=\"stroke:#000000; stroke-width:2; stroke-opacity:0.1; fill:none\" points=\"\n",
       "  256.486,729.612 2352.76,729.612 \n",
       "  \"/>\n",
       "<polyline clip-path=\"url(#clip172)\" style=\"stroke:#000000; stroke-width:2; stroke-opacity:0.1; fill:none\" points=\"\n",
       "  256.486,477.732 2352.76,477.732 \n",
       "  \"/>\n",
       "<polyline clip-path=\"url(#clip172)\" style=\"stroke:#000000; stroke-width:2; stroke-opacity:0.1; fill:none\" points=\"\n",
       "  256.486,225.852 2352.76,225.852 \n",
       "  \"/>\n",
       "<polyline clip-path=\"url(#clip170)\" style=\"stroke:#000000; stroke-width:4; stroke-opacity:1; fill:none\" points=\"\n",
       "  256.486,1263.94 2352.76,1263.94 \n",
       "  \"/>\n",
       "<polyline clip-path=\"url(#clip170)\" style=\"stroke:#000000; stroke-width:4; stroke-opacity:1; fill:none\" points=\"\n",
       "  256.486,1263.94 256.486,183.952 \n",
       "  \"/>\n",
       "<polyline clip-path=\"url(#clip170)\" style=\"stroke:#000000; stroke-width:4; stroke-opacity:1; fill:none\" points=\"\n",
       "  377.765,1263.94 377.765,1250.98 \n",
       "  \"/>\n",
       "<polyline clip-path=\"url(#clip170)\" style=\"stroke:#000000; stroke-width:4; stroke-opacity:1; fill:none\" points=\"\n",
       "  587.055,1263.94 587.055,1250.98 \n",
       "  \"/>\n",
       "<polyline clip-path=\"url(#clip170)\" style=\"stroke:#000000; stroke-width:4; stroke-opacity:1; fill:none\" points=\"\n",
       "  796.345,1263.94 796.345,1250.98 \n",
       "  \"/>\n",
       "<polyline clip-path=\"url(#clip170)\" style=\"stroke:#000000; stroke-width:4; stroke-opacity:1; fill:none\" points=\"\n",
       "  1005.64,1263.94 1005.64,1250.98 \n",
       "  \"/>\n",
       "<polyline clip-path=\"url(#clip170)\" style=\"stroke:#000000; stroke-width:4; stroke-opacity:1; fill:none\" points=\"\n",
       "  1214.93,1263.94 1214.93,1250.98 \n",
       "  \"/>\n",
       "<polyline clip-path=\"url(#clip170)\" style=\"stroke:#000000; stroke-width:4; stroke-opacity:1; fill:none\" points=\"\n",
       "  1424.22,1263.94 1424.22,1250.98 \n",
       "  \"/>\n",
       "<polyline clip-path=\"url(#clip170)\" style=\"stroke:#000000; stroke-width:4; stroke-opacity:1; fill:none\" points=\"\n",
       "  1633.51,1263.94 1633.51,1250.98 \n",
       "  \"/>\n",
       "<polyline clip-path=\"url(#clip170)\" style=\"stroke:#000000; stroke-width:4; stroke-opacity:1; fill:none\" points=\"\n",
       "  1842.8,1263.94 1842.8,1250.98 \n",
       "  \"/>\n",
       "<polyline clip-path=\"url(#clip170)\" style=\"stroke:#000000; stroke-width:4; stroke-opacity:1; fill:none\" points=\"\n",
       "  2052.09,1263.94 2052.09,1250.98 \n",
       "  \"/>\n",
       "<polyline clip-path=\"url(#clip170)\" style=\"stroke:#000000; stroke-width:4; stroke-opacity:1; fill:none\" points=\"\n",
       "  256.486,1233.37 281.642,1233.37 \n",
       "  \"/>\n",
       "<polyline clip-path=\"url(#clip170)\" style=\"stroke:#000000; stroke-width:4; stroke-opacity:1; fill:none\" points=\"\n",
       "  256.486,981.492 281.642,981.492 \n",
       "  \"/>\n",
       "<polyline clip-path=\"url(#clip170)\" style=\"stroke:#000000; stroke-width:4; stroke-opacity:1; fill:none\" points=\"\n",
       "  256.486,729.612 281.642,729.612 \n",
       "  \"/>\n",
       "<polyline clip-path=\"url(#clip170)\" style=\"stroke:#000000; stroke-width:4; stroke-opacity:1; fill:none\" points=\"\n",
       "  256.486,477.732 281.642,477.732 \n",
       "  \"/>\n",
       "<polyline clip-path=\"url(#clip170)\" style=\"stroke:#000000; stroke-width:4; stroke-opacity:1; fill:none\" points=\"\n",
       "  256.486,225.852 281.642,225.852 \n",
       "  \"/>\n",
       "<path clip-path=\"url(#clip170)\" d=\"M 0 0 M240.921 1465.87 L252.46 1454.33 L255.243 1457.11 L239.726 1472.63 L236.943 1469.84 Q236.878 1466.01 236.845 1459.5 Q236.812 1452.95 236.698 1451.17 Q236.501 1447.8 235.896 1445.95 Q235.29 1444.06 234.095 1442.87 Q232.147 1440.92 229.545 1441.07 Q226.959 1441.2 224.765 1443.39 Q223.21 1444.95 222.015 1447.22 Q220.837 1449.48 219.969 1452.54 L216.63 1449.2 Q217.825 1446.4 219.151 1444.26 Q220.477 1442.12 221.917 1440.68 Q225.715 1436.88 229.872 1436.52 Q234.03 1436.16 237.205 1439.33 Q238.711 1440.84 239.497 1442.77 Q240.282 1444.67 240.626 1447.99 Q240.691 1448.88 240.773 1453.34 Q240.839 1457.8 240.921 1465.87 Z\" fill=\"#000000\" fill-rule=\"evenodd\" fill-opacity=\"1\" /><path clip-path=\"url(#clip170)\" d=\"M 0 0 M243.638 1424.19 Q241.084 1426.75 242.312 1430.56 Q243.54 1434.34 248.581 1439.38 Q253.606 1444.41 257.403 1445.65 Q261.201 1446.86 263.754 1444.31 Q266.324 1441.74 265.096 1437.96 Q263.869 1434.14 258.844 1429.12 Q253.802 1424.08 250.005 1422.87 Q246.208 1421.62 243.638 1424.19 M241.019 1421.57 Q245.127 1417.47 250.545 1418.56 Q255.963 1419.63 262.15 1425.81 Q268.321 1431.98 269.401 1437.42 Q270.481 1442.82 266.373 1446.93 Q262.265 1451.04 256.847 1449.97 Q251.429 1448.88 245.258 1442.71 Q239.071 1436.52 237.991 1431.12 Q236.91 1425.68 241.019 1421.57 Z\" fill=\"#000000\" fill-rule=\"evenodd\" fill-opacity=\"1\" /><path clip-path=\"url(#clip170)\" d=\"M 0 0 M277.994 1428.79 L289.534 1417.25 L292.317 1420.04 L276.8 1435.55 L274.017 1432.77 Q273.952 1428.94 273.919 1422.43 Q273.886 1415.88 273.771 1414.09 Q273.575 1410.72 272.969 1408.87 Q272.364 1406.99 271.169 1405.8 Q269.221 1403.85 266.619 1403.99 Q264.032 1404.13 261.839 1406.32 Q260.284 1407.87 259.089 1410.15 Q257.911 1412.41 257.043 1415.47 L253.704 1412.13 Q254.899 1409.33 256.225 1407.19 Q257.551 1405.04 258.991 1403.6 Q262.788 1399.8 266.946 1399.44 Q271.103 1399.08 274.279 1402.26 Q275.785 1403.77 276.57 1405.7 Q277.356 1407.6 277.7 1410.92 Q277.765 1411.8 277.847 1416.27 Q277.913 1420.72 277.994 1428.79 Z\" fill=\"#000000\" fill-rule=\"evenodd\" fill-opacity=\"1\" /><path clip-path=\"url(#clip170)\" d=\"M 0 0 M280.712 1387.12 Q278.158 1389.67 279.386 1393.49 Q280.613 1397.27 285.655 1402.31 Q290.68 1407.33 294.477 1408.58 Q298.275 1409.79 300.828 1407.24 Q303.398 1404.67 302.17 1400.88 Q300.943 1397.07 295.918 1392.05 Q290.876 1387 287.079 1385.79 Q283.281 1384.55 280.712 1387.12 M278.093 1384.5 Q282.201 1380.39 287.619 1381.49 Q293.037 1382.55 299.224 1388.74 Q305.395 1394.91 306.475 1400.34 Q307.555 1405.75 303.447 1409.85 Q299.338 1413.96 293.921 1412.9 Q288.503 1411.8 282.332 1405.63 Q276.145 1399.44 275.065 1394.04 Q273.984 1388.61 278.093 1384.5 Z\" fill=\"#000000\" fill-rule=\"evenodd\" fill-opacity=\"1\" /><path clip-path=\"url(#clip170)\" d=\"M 0 0 M302.53 1388.77 L311.353 1379.95 L314.037 1382.63 L305.215 1391.46 L302.53 1388.77 Z\" fill=\"#000000\" fill-rule=\"evenodd\" fill-opacity=\"1\" /><path clip-path=\"url(#clip170)\" d=\"M 0 0 M310.272 1357.56 Q307.719 1360.11 308.947 1363.93 Q310.174 1367.71 315.216 1372.75 Q320.241 1377.77 324.038 1379.02 Q327.835 1380.23 330.389 1377.67 Q332.959 1375.1 331.731 1371.32 Q330.503 1367.51 325.478 1362.48 Q320.437 1357.44 316.64 1356.23 Q312.842 1354.99 310.272 1357.56 M307.653 1354.94 Q311.762 1350.83 317.18 1351.93 Q322.598 1352.99 328.785 1359.18 Q334.956 1365.35 336.036 1370.78 Q337.116 1376.19 333.008 1380.29 Q328.899 1384.4 323.481 1383.34 Q318.064 1382.24 311.893 1376.07 Q305.706 1369.88 304.625 1364.48 Q303.545 1359.05 307.653 1354.94 Z\" fill=\"#000000\" fill-rule=\"evenodd\" fill-opacity=\"1\" /><path clip-path=\"url(#clip170)\" d=\"M 0 0 M342.354 1364.43 L347.755 1359.03 L329.112 1340.39 L324.414 1347.44 L321.403 1344.43 L326.068 1337.41 L329.374 1334.1 L351.029 1355.76 L356.43 1350.36 L359.213 1353.14 L345.136 1367.22 L342.354 1364.43 Z\" fill=\"#000000\" fill-rule=\"evenodd\" fill-opacity=\"1\" /><path clip-path=\"url(#clip170)\" d=\"M 0 0 M350.325 1340.98 L359.148 1332.15 L361.832 1334.84 L353.01 1343.66 L350.325 1340.98 Z\" fill=\"#000000\" fill-rule=\"evenodd\" fill-opacity=\"1\" /><path clip-path=\"url(#clip170)\" d=\"M 0 0 M373.322 1333.46 L384.862 1321.92 L387.645 1324.71 L372.128 1340.22 L369.345 1337.44 Q369.279 1333.61 369.247 1327.1 Q369.214 1320.55 369.099 1318.77 Q368.903 1315.39 368.297 1313.54 Q367.692 1311.66 366.497 1310.47 Q364.549 1308.52 361.947 1308.67 Q359.36 1308.8 357.167 1310.99 Q355.612 1312.55 354.417 1314.82 Q353.239 1317.08 352.371 1320.14 L349.032 1316.8 Q350.227 1314 351.553 1311.86 Q352.879 1309.71 354.319 1308.27 Q358.116 1304.48 362.274 1304.12 Q366.431 1303.76 369.607 1306.93 Q371.113 1308.44 371.898 1310.37 Q372.684 1312.27 373.028 1315.59 Q373.093 1316.47 373.175 1320.94 Q373.241 1325.39 373.322 1333.46 Z\" fill=\"#000000\" fill-rule=\"evenodd\" fill-opacity=\"1\" /><path clip-path=\"url(#clip170)\" d=\"M 0 0 M378.757 1290.48 L383.454 1311.87 L391.802 1303.53 L378.757 1290.48 M375.008 1288.47 L379.166 1284.31 L395.092 1300.24 L398.578 1296.75 L401.328 1299.5 L397.842 1302.99 L403.603 1308.75 L400.313 1312.04 L394.552 1306.28 L383.52 1317.31 L380.328 1314.12 L375.008 1288.47 Z\" fill=\"#000000\" fill-rule=\"evenodd\" fill-opacity=\"1\" /><path clip-path=\"url(#clip170)\" d=\"M 0 0 M450.325 1465.75 L461.865 1454.21 L464.647 1456.99 L449.131 1472.51 L446.348 1469.73 Q446.282 1465.9 446.25 1459.38 Q446.217 1452.84 446.102 1451.05 Q445.906 1447.68 445.3 1445.83 Q444.695 1443.95 443.5 1442.75 Q441.552 1440.81 438.95 1440.95 Q436.363 1441.08 434.17 1443.28 Q432.615 1444.83 431.42 1447.11 Q430.242 1449.37 429.374 1452.43 L426.035 1449.09 Q427.23 1446.29 428.556 1444.15 Q429.882 1442 431.322 1440.56 Q435.119 1436.76 439.277 1436.4 Q443.434 1436.04 446.61 1439.22 Q448.116 1440.72 448.901 1442.66 Q449.687 1444.55 450.031 1447.88 Q450.096 1448.76 450.178 1453.23 Q450.244 1457.68 450.325 1465.75 Z\" fill=\"#000000\" fill-rule=\"evenodd\" fill-opacity=\"1\" /><path clip-path=\"url(#clip170)\" d=\"M 0 0 M453.042 1424.08 Q450.489 1426.63 451.717 1430.45 Q452.944 1434.23 457.986 1439.27 Q463.011 1444.29 466.808 1445.54 Q470.605 1446.75 473.159 1444.19 Q475.729 1441.62 474.501 1437.84 Q473.273 1434.03 468.248 1429.01 Q463.207 1423.96 459.41 1422.75 Q455.612 1421.51 453.042 1424.08 M450.424 1421.46 Q454.532 1417.35 459.95 1418.45 Q465.368 1419.51 471.555 1425.7 Q477.726 1431.87 478.806 1437.3 Q479.886 1442.71 475.778 1446.81 Q471.669 1450.92 466.252 1449.86 Q460.834 1448.76 454.663 1442.59 Q448.476 1436.4 447.395 1431 Q446.315 1425.57 450.424 1421.46 Z\" fill=\"#000000\" fill-rule=\"evenodd\" fill-opacity=\"1\" /><path clip-path=\"url(#clip170)\" d=\"M 0 0 M487.399 1428.68 L498.939 1417.14 L501.721 1419.92 L486.204 1435.44 L483.422 1432.66 Q483.356 1428.82 483.324 1422.31 Q483.291 1415.76 483.176 1413.98 Q482.98 1410.61 482.374 1408.76 Q481.769 1406.88 480.574 1405.68 Q478.626 1403.73 476.023 1403.88 Q473.437 1404.01 471.244 1406.2 Q469.689 1407.76 468.494 1410.03 Q467.315 1412.29 466.448 1415.35 L463.109 1412.01 Q464.304 1409.22 465.63 1407.07 Q466.955 1404.93 468.396 1403.49 Q472.193 1399.69 476.351 1399.33 Q480.508 1398.97 483.684 1402.14 Q485.189 1403.65 485.975 1405.58 Q486.761 1407.48 487.105 1410.8 Q487.17 1411.69 487.252 1416.16 Q487.317 1420.61 487.399 1428.68 Z\" fill=\"#000000\" fill-rule=\"evenodd\" fill-opacity=\"1\" /><path clip-path=\"url(#clip170)\" d=\"M 0 0 M490.116 1387 Q487.563 1389.56 488.79 1393.37 Q490.018 1397.15 495.059 1402.19 Q500.084 1407.22 503.882 1408.46 Q507.679 1409.67 510.233 1407.12 Q512.803 1404.55 511.575 1400.77 Q510.347 1396.96 505.322 1391.93 Q500.281 1386.89 496.483 1385.68 Q492.686 1384.43 490.116 1387 M487.497 1384.39 Q491.606 1380.28 497.024 1381.37 Q502.441 1382.44 508.629 1388.62 Q514.799 1394.8 515.88 1400.23 Q516.96 1405.63 512.852 1409.74 Q508.743 1413.85 503.325 1412.78 Q497.908 1411.69 491.737 1405.52 Q485.55 1399.33 484.469 1393.93 Q483.389 1388.49 487.497 1384.39 Z\" fill=\"#000000\" fill-rule=\"evenodd\" fill-opacity=\"1\" /><path clip-path=\"url(#clip170)\" d=\"M 0 0 M511.935 1388.66 L520.757 1379.84 L523.442 1382.52 L514.619 1391.34 L511.935 1388.66 Z\" fill=\"#000000\" fill-rule=\"evenodd\" fill-opacity=\"1\" /><path clip-path=\"url(#clip170)\" d=\"M 0 0 M519.677 1357.44 Q517.124 1360 518.351 1363.81 Q519.579 1367.59 524.62 1372.63 Q529.645 1377.66 533.443 1378.9 Q537.24 1380.11 539.794 1377.56 Q542.363 1374.99 541.136 1371.21 Q539.908 1367.4 534.883 1362.37 Q529.842 1357.33 526.044 1356.12 Q522.247 1354.87 519.677 1357.44 M517.058 1354.82 Q521.167 1350.72 526.584 1351.81 Q532.002 1352.88 538.189 1359.06 Q544.36 1365.23 545.441 1370.67 Q546.521 1376.07 542.412 1380.18 Q538.304 1384.29 532.886 1383.22 Q527.468 1382.13 521.298 1375.96 Q515.11 1369.77 514.03 1364.37 Q512.95 1358.93 517.058 1354.82 Z\" fill=\"#000000\" fill-rule=\"evenodd\" fill-opacity=\"1\" /><path clip-path=\"url(#clip170)\" d=\"M 0 0 M554.034 1362.04 L565.573 1350.5 L568.356 1353.29 L552.839 1368.8 L550.056 1366.02 Q549.991 1362.19 549.958 1355.68 Q549.925 1349.13 549.811 1347.34 Q549.614 1343.97 549.009 1342.12 Q548.403 1340.24 547.208 1339.05 Q545.261 1337.1 542.658 1337.25 Q540.072 1337.38 537.878 1339.57 Q536.324 1341.12 535.129 1343.4 Q533.95 1345.66 533.083 1348.72 L529.744 1345.38 Q530.938 1342.58 532.264 1340.44 Q533.59 1338.29 535.03 1336.85 Q538.828 1333.06 542.985 1332.69 Q547.143 1332.33 550.318 1335.51 Q551.824 1337.02 552.61 1338.95 Q553.395 1340.85 553.739 1344.17 Q553.805 1345.05 553.887 1349.52 Q553.952 1353.97 554.034 1362.04 Z\" fill=\"#000000\" fill-rule=\"evenodd\" fill-opacity=\"1\" /><path clip-path=\"url(#clip170)\" d=\"M 0 0 M559.468 1341.12 L568.29 1332.3 L570.975 1334.99 L562.152 1343.81 L559.468 1341.12 Z\" fill=\"#000000\" fill-rule=\"evenodd\" fill-opacity=\"1\" /><path clip-path=\"url(#clip170)\" d=\"M 0 0 M567.21 1309.91 Q564.657 1312.46 565.884 1316.28 Q567.112 1320.06 572.153 1325.1 Q577.178 1330.13 580.976 1331.37 Q584.773 1332.58 587.327 1330.03 Q589.896 1327.46 588.669 1323.68 Q587.441 1319.86 582.416 1314.84 Q577.375 1309.8 573.577 1308.58 Q569.78 1307.34 567.21 1309.91 M564.591 1307.29 Q568.7 1303.18 574.118 1304.28 Q579.535 1305.34 585.723 1311.53 Q591.893 1317.7 592.974 1323.14 Q594.054 1328.54 589.945 1332.65 Q585.837 1336.75 580.419 1335.69 Q575.001 1334.59 568.831 1328.42 Q562.643 1322.24 561.563 1316.83 Q560.483 1311.4 564.591 1307.29 Z\" fill=\"#000000\" fill-rule=\"evenodd\" fill-opacity=\"1\" /><path clip-path=\"url(#clip170)\" d=\"M 0 0 M576.229 1296.54 L591.942 1280.82 L593.35 1282.23 L607.508 1314.13 L604.055 1317.59 L590.748 1287.58 L579.012 1299.32 L576.229 1296.54 Z\" fill=\"#000000\" fill-rule=\"evenodd\" fill-opacity=\"1\" /><path clip-path=\"url(#clip170)\" d=\"M 0 0 M660.974 1464.39 L672.514 1452.85 L675.296 1455.64 L659.779 1471.15 L656.997 1468.37 Q656.931 1464.54 656.898 1458.03 Q656.866 1451.48 656.751 1449.69 Q656.555 1446.32 655.949 1444.47 Q655.343 1442.59 654.149 1441.4 Q652.201 1439.45 649.598 1439.6 Q647.012 1439.73 644.819 1441.92 Q643.264 1443.47 642.069 1445.75 Q640.89 1448.01 640.023 1451.07 L636.684 1447.73 Q637.879 1444.93 639.205 1442.79 Q640.53 1440.64 641.971 1439.2 Q645.768 1435.4 649.926 1435.04 Q654.083 1434.68 657.259 1437.86 Q658.764 1439.37 659.55 1441.3 Q660.336 1443.2 660.679 1446.52 Q660.745 1447.4 660.827 1451.87 Q660.892 1456.32 660.974 1464.39 Z\" fill=\"#000000\" fill-rule=\"evenodd\" fill-opacity=\"1\" /><path clip-path=\"url(#clip170)\" d=\"M 0 0 M663.691 1422.72 Q661.138 1425.27 662.365 1429.09 Q663.593 1432.87 668.634 1437.91 Q673.659 1442.93 677.457 1444.18 Q681.254 1445.39 683.808 1442.84 Q686.377 1440.27 685.15 1436.49 Q683.922 1432.67 678.897 1427.65 Q673.856 1422.61 670.058 1421.39 Q666.261 1420.15 663.691 1422.72 M661.072 1420.1 Q665.181 1415.99 670.599 1417.09 Q676.016 1418.15 682.204 1424.34 Q688.374 1430.51 689.455 1435.95 Q690.535 1441.35 686.427 1445.45 Q682.318 1449.56 676.9 1448.5 Q671.482 1447.4 665.312 1441.23 Q659.125 1435.04 658.044 1429.64 Q656.964 1424.21 661.072 1420.1 Z\" fill=\"#000000\" fill-rule=\"evenodd\" fill-opacity=\"1\" /><path clip-path=\"url(#clip170)\" d=\"M 0 0 M698.048 1427.32 L709.587 1415.78 L712.37 1418.56 L696.853 1434.08 L694.07 1431.3 Q694.005 1427.47 693.972 1420.95 Q693.94 1414.4 693.825 1412.62 Q693.629 1409.25 693.023 1407.4 Q692.417 1405.52 691.222 1404.32 Q689.275 1402.37 686.672 1402.52 Q684.086 1402.65 681.893 1404.85 Q680.338 1406.4 679.143 1408.68 Q677.964 1410.93 677.097 1414 L673.758 1410.66 Q674.952 1407.86 676.278 1405.71 Q677.604 1403.57 679.045 1402.13 Q682.842 1398.33 686.999 1397.97 Q691.157 1397.61 694.332 1400.79 Q695.838 1402.29 696.624 1404.22 Q697.41 1406.12 697.753 1409.45 Q697.819 1410.33 697.901 1414.8 Q697.966 1419.25 698.048 1427.32 Z\" fill=\"#000000\" fill-rule=\"evenodd\" fill-opacity=\"1\" /><path clip-path=\"url(#clip170)\" d=\"M 0 0 M700.765 1385.65 Q698.212 1388.2 699.439 1392.01 Q700.667 1395.79 705.708 1400.84 Q710.733 1405.86 714.531 1407.1 Q718.328 1408.32 720.881 1405.76 Q723.451 1403.19 722.224 1399.41 Q720.996 1395.6 715.971 1390.57 Q710.93 1385.53 707.132 1384.32 Q703.335 1383.08 700.765 1385.65 M698.146 1383.03 Q702.255 1378.92 707.672 1380.02 Q713.09 1381.08 719.277 1387.27 Q725.448 1393.44 726.528 1398.87 Q727.609 1404.27 723.5 1408.38 Q719.392 1412.49 713.974 1411.43 Q708.556 1410.33 702.385 1404.16 Q696.198 1397.97 695.118 1392.57 Q694.038 1387.14 698.146 1383.03 Z\" fill=\"#000000\" fill-rule=\"evenodd\" fill-opacity=\"1\" /><path clip-path=\"url(#clip170)\" d=\"M 0 0 M722.584 1387.3 L731.406 1378.48 L734.091 1381.16 L725.268 1389.98 L722.584 1387.3 Z\" fill=\"#000000\" fill-rule=\"evenodd\" fill-opacity=\"1\" /><path clip-path=\"url(#clip170)\" d=\"M 0 0 M730.326 1356.09 Q727.772 1358.64 729 1362.45 Q730.228 1366.23 735.269 1371.27 Q740.294 1376.3 744.091 1377.54 Q747.889 1378.75 750.442 1376.2 Q753.012 1373.63 751.784 1369.85 Q750.557 1366.04 745.532 1361.01 Q740.49 1355.97 736.693 1354.76 Q732.896 1353.52 730.326 1356.09 M727.707 1353.47 Q731.815 1349.36 737.233 1350.45 Q742.651 1351.52 748.838 1357.71 Q755.009 1363.88 756.089 1369.31 Q757.17 1374.71 753.061 1378.82 Q748.953 1382.93 743.535 1381.86 Q738.117 1380.77 731.946 1374.6 Q725.759 1368.41 724.679 1363.01 Q723.599 1357.57 727.707 1353.47 Z\" fill=\"#000000\" fill-rule=\"evenodd\" fill-opacity=\"1\" /><path clip-path=\"url(#clip170)\" d=\"M 0 0 M764.683 1360.68 L776.222 1349.14 L779.005 1351.93 L763.488 1367.44 L760.705 1364.66 Q760.64 1360.83 760.607 1354.32 Q760.574 1347.77 760.46 1345.99 Q760.263 1342.61 759.658 1340.76 Q759.052 1338.88 757.857 1337.69 Q755.909 1335.74 753.307 1335.89 Q750.721 1336.02 748.527 1338.21 Q746.972 1339.77 745.777 1342.04 Q744.599 1344.3 743.731 1347.36 L740.392 1344.02 Q741.587 1341.22 742.913 1339.08 Q744.239 1336.93 745.679 1335.49 Q749.477 1331.7 753.634 1331.34 Q757.792 1330.98 760.967 1334.15 Q762.473 1335.66 763.259 1337.59 Q764.044 1339.49 764.388 1342.81 Q764.453 1343.69 764.535 1348.16 Q764.601 1352.61 764.683 1360.68 Z\" fill=\"#000000\" fill-rule=\"evenodd\" fill-opacity=\"1\" /><path clip-path=\"url(#clip170)\" d=\"M 0 0 M770.117 1339.77 L778.939 1330.94 L781.624 1333.63 L772.801 1342.45 L770.117 1339.77 Z\" fill=\"#000000\" fill-rule=\"evenodd\" fill-opacity=\"1\" /><path clip-path=\"url(#clip170)\" d=\"M 0 0 M793.114 1332.25 L804.654 1320.71 L807.436 1323.5 L791.919 1339.01 L789.137 1336.23 Q789.071 1332.4 789.038 1325.89 Q789.006 1319.34 788.891 1317.55 Q788.695 1314.18 788.089 1312.33 Q787.483 1310.45 786.288 1309.26 Q784.341 1307.31 781.738 1307.46 Q779.152 1307.59 776.959 1309.78 Q775.404 1311.33 774.209 1313.61 Q773.03 1315.87 772.163 1318.93 L768.824 1315.59 Q770.019 1312.79 771.344 1310.65 Q772.67 1308.5 774.111 1307.06 Q777.908 1303.27 782.065 1302.9 Q786.223 1302.54 789.398 1305.72 Q790.904 1307.23 791.69 1309.16 Q792.476 1311.06 792.819 1314.38 Q792.885 1315.26 792.967 1319.73 Q793.032 1324.18 793.114 1332.25 Z\" fill=\"#000000\" fill-rule=\"evenodd\" fill-opacity=\"1\" /><path clip-path=\"url(#clip170)\" d=\"M 0 0 M808.811 1316.56 L814.212 1311.15 L795.569 1292.51 L790.872 1299.57 L787.86 1296.55 L792.525 1289.53 L795.831 1286.23 L817.486 1307.88 L822.888 1302.48 L825.67 1305.26 L811.594 1319.34 L808.811 1316.56 Z\" fill=\"#000000\" fill-rule=\"evenodd\" fill-opacity=\"1\" /><path clip-path=\"url(#clip170)\" d=\"M 0 0 M867.482 1467.18 L879.021 1455.64 L881.804 1458.42 L866.287 1473.94 L863.504 1471.15 Q863.439 1467.32 863.406 1460.81 Q863.373 1454.26 863.259 1452.48 Q863.062 1449.11 862.457 1447.26 Q861.851 1445.37 860.656 1444.18 Q858.708 1442.23 856.106 1442.38 Q853.52 1442.51 851.326 1444.7 Q849.771 1446.26 848.577 1448.53 Q847.398 1450.79 846.53 1453.85 L843.191 1450.51 Q844.386 1447.71 845.712 1445.57 Q847.038 1443.43 848.478 1441.98 Q852.276 1438.19 856.433 1437.83 Q860.591 1437.47 863.766 1440.64 Q865.272 1442.15 866.058 1444.08 Q866.843 1445.98 867.187 1449.3 Q867.253 1450.19 867.334 1454.65 Q867.4 1459.11 867.482 1467.18 Z\" fill=\"#000000\" fill-rule=\"evenodd\" fill-opacity=\"1\" /><path clip-path=\"url(#clip170)\" d=\"M 0 0 M870.199 1425.5 Q867.645 1428.06 868.873 1431.87 Q870.101 1435.65 875.142 1440.69 Q880.167 1445.72 883.964 1446.96 Q887.762 1448.17 890.315 1445.62 Q892.885 1443.05 891.657 1439.27 Q890.43 1435.45 885.405 1430.43 Q880.363 1425.39 876.566 1424.18 Q872.769 1422.93 870.199 1425.5 M867.58 1422.88 Q871.688 1418.77 877.106 1419.87 Q882.524 1420.94 888.711 1427.12 Q894.882 1433.29 895.962 1438.73 Q897.043 1444.13 892.934 1448.24 Q888.826 1452.35 883.408 1451.28 Q877.99 1450.19 871.819 1444.01 Q865.632 1437.83 864.552 1432.43 Q863.472 1426.99 867.58 1422.88 Z\" fill=\"#000000\" fill-rule=\"evenodd\" fill-opacity=\"1\" /><path clip-path=\"url(#clip170)\" d=\"M 0 0 M904.555 1430.1 L916.095 1418.56 L918.878 1421.34 L903.361 1436.86 L900.578 1434.08 Q900.513 1430.25 900.48 1423.73 Q900.447 1417.19 900.333 1415.4 Q900.136 1412.03 899.53 1410.18 Q898.925 1408.3 897.73 1407.1 Q895.782 1405.16 893.18 1405.3 Q890.593 1405.43 888.4 1407.63 Q886.845 1409.18 885.65 1411.46 Q884.472 1413.72 883.604 1416.78 L880.265 1413.44 Q881.46 1410.64 882.786 1408.5 Q884.112 1406.35 885.552 1404.91 Q889.35 1401.11 893.507 1400.75 Q897.665 1400.39 900.84 1403.57 Q902.346 1405.07 903.131 1407.01 Q903.917 1408.9 904.261 1412.23 Q904.326 1413.11 904.408 1417.58 Q904.474 1422.03 904.555 1430.1 Z\" fill=\"#000000\" fill-rule=\"evenodd\" fill-opacity=\"1\" /><path clip-path=\"url(#clip170)\" d=\"M 0 0 M907.273 1388.43 Q904.719 1390.98 905.947 1394.8 Q907.174 1398.58 912.216 1403.62 Q917.241 1408.64 921.038 1409.89 Q924.836 1411.1 927.389 1408.54 Q929.959 1405.98 928.731 1402.19 Q927.504 1398.38 922.479 1393.36 Q917.437 1388.31 913.64 1387.1 Q909.842 1385.86 907.273 1388.43 M904.654 1385.81 Q908.762 1381.7 914.18 1382.8 Q919.598 1383.86 925.785 1390.05 Q931.956 1396.22 933.036 1401.65 Q934.116 1407.06 930.008 1411.16 Q925.9 1415.27 920.482 1414.21 Q915.064 1413.11 908.893 1406.94 Q902.706 1400.75 901.626 1395.35 Q900.545 1389.92 904.654 1385.81 Z\" fill=\"#000000\" fill-rule=\"evenodd\" fill-opacity=\"1\" /><path clip-path=\"url(#clip170)\" d=\"M 0 0 M929.091 1390.08 L937.914 1381.26 L940.598 1383.94 L931.776 1392.77 L929.091 1390.08 Z\" fill=\"#000000\" fill-rule=\"evenodd\" fill-opacity=\"1\" /><path clip-path=\"url(#clip170)\" d=\"M 0 0 M936.833 1358.87 Q934.28 1361.42 935.508 1365.23 Q936.735 1369.02 941.777 1374.06 Q946.802 1379.08 950.599 1380.33 Q954.396 1381.54 956.95 1378.98 Q959.52 1376.41 958.292 1372.63 Q957.064 1368.82 952.039 1363.79 Q946.998 1358.75 943.201 1357.54 Q939.403 1356.3 936.833 1358.87 M934.215 1356.25 Q938.323 1352.14 943.741 1353.24 Q949.159 1354.3 955.346 1360.49 Q961.517 1366.66 962.597 1372.09 Q963.677 1377.49 959.569 1381.6 Q955.46 1385.71 950.043 1384.65 Q944.625 1383.55 938.454 1377.38 Q932.267 1371.19 931.186 1365.79 Q930.106 1360.36 934.215 1356.25 Z\" fill=\"#000000\" fill-rule=\"evenodd\" fill-opacity=\"1\" /><path clip-path=\"url(#clip170)\" d=\"M 0 0 M967.966 1345.9 Q970.846 1344.04 973.776 1344.32 Q976.723 1344.58 979.08 1346.94 Q982.697 1350.55 982.19 1355.02 Q981.682 1359.49 977.099 1364.07 Q975.56 1365.61 973.613 1366.94 Q971.698 1368.26 969.357 1369.39 L966.165 1366.2 Q968.342 1365.63 970.388 1364.4 Q972.434 1363.17 974.218 1361.39 Q977.328 1358.28 977.721 1355.43 Q978.13 1352.57 975.79 1350.23 Q973.629 1348.06 970.896 1348.38 Q968.162 1348.65 965.461 1351.35 L962.613 1354.2 L959.896 1351.49 L962.875 1348.51 Q965.314 1346.07 965.641 1343.81 Q965.952 1341.53 964.119 1339.7 Q962.237 1337.82 959.896 1338.16 Q957.555 1338.47 955.068 1340.96 Q953.709 1342.32 952.449 1344.17 Q951.188 1346.02 949.944 1348.51 L946.998 1345.56 Q948.357 1343.15 949.732 1341.26 Q951.123 1339.34 952.58 1337.88 Q956.344 1334.12 960.256 1333.64 Q964.152 1333.15 967.065 1336.07 Q969.095 1338.1 969.341 1340.67 Q969.57 1343.22 967.966 1345.9 Z\" fill=\"#000000\" fill-rule=\"evenodd\" fill-opacity=\"1\" /><path clip-path=\"url(#clip170)\" d=\"M 0 0 M977.295 1341.88 L986.118 1333.06 L988.802 1335.74 L979.98 1344.56 L977.295 1341.88 Z\" fill=\"#000000\" fill-rule=\"evenodd\" fill-opacity=\"1\" /><path clip-path=\"url(#clip170)\" d=\"M 0 0 M985.038 1310.66 Q982.484 1313.22 983.712 1317.03 Q984.939 1320.81 989.981 1325.85 Q995.006 1330.88 998.803 1332.12 Q1002.6 1333.33 1005.15 1330.78 Q1007.72 1328.21 1006.5 1324.43 Q1005.27 1320.62 1000.24 1315.59 Q995.202 1310.55 991.405 1309.34 Q987.607 1308.09 985.038 1310.66 M982.419 1308.04 Q986.527 1303.94 991.945 1305.03 Q997.363 1306.1 1003.55 1312.28 Q1009.72 1318.45 1010.8 1323.89 Q1011.88 1329.29 1007.77 1333.4 Q1003.66 1337.51 998.247 1336.44 Q992.829 1335.35 986.658 1329.18 Q980.471 1322.99 979.391 1317.59 Q978.31 1312.15 982.419 1308.04 Z\" fill=\"#000000\" fill-rule=\"evenodd\" fill-opacity=\"1\" /><path clip-path=\"url(#clip170)\" d=\"M 0 0 M1013.27 1299.88 Q1011.05 1302.1 1011.26 1304.93 Q1011.49 1307.75 1014.14 1310.4 Q1016.78 1313.04 1019.61 1313.28 Q1022.44 1313.5 1024.66 1311.27 Q1026.89 1309.04 1026.66 1306.23 Q1026.43 1303.38 1023.8 1300.74 Q1021.15 1298.09 1018.31 1297.88 Q1015.5 1297.65 1013.27 1299.88 M1009.48 1282.95 L1012.49 1285.96 Q1010.65 1286.62 1009.07 1287.58 Q1007.49 1288.53 1006.25 1289.78 Q1002.98 1293.05 1003.45 1297 Q1003.94 1300.92 1008.17 1305.64 Q1007.71 1303.25 1008.41 1301.04 Q1009.1 1298.81 1010.85 1297.06 Q1014.53 1293.38 1018.9 1293.49 Q1023.27 1293.58 1027.12 1297.42 Q1030.88 1301.19 1030.93 1305.69 Q1030.98 1310.19 1027.28 1313.89 Q1023.04 1318.13 1017.56 1317.13 Q1012.06 1316.11 1005.89 1309.94 Q1000.1 1304.15 999.409 1297.96 Q998.705 1291.76 1003.34 1287.13 Q1004.58 1285.88 1006.09 1284.87 Q1007.61 1283.84 1009.48 1282.95 Z\" fill=\"#000000\" fill-rule=\"evenodd\" fill-opacity=\"1\" /><path clip-path=\"url(#clip170)\" d=\"M 0 0 M1078.02 1465.93 L1089.56 1454.39 L1092.34 1457.17 L1076.82 1472.69 L1074.04 1469.91 Q1073.97 1466.08 1073.94 1459.56 Q1073.91 1453.02 1073.79 1451.23 Q1073.6 1447.86 1072.99 1446.01 Q1072.39 1444.13 1071.19 1442.93 Q1069.24 1440.99 1066.64 1441.13 Q1064.05 1441.26 1061.86 1443.46 Q1060.31 1445.01 1059.11 1447.29 Q1057.93 1449.55 1057.06 1452.61 L1053.73 1449.27 Q1054.92 1446.47 1056.25 1444.33 Q1057.57 1442.18 1059.01 1440.74 Q1062.81 1436.94 1066.97 1436.58 Q1071.12 1436.22 1074.3 1439.4 Q1075.81 1440.9 1076.59 1442.84 Q1077.38 1444.73 1077.72 1448.06 Q1077.79 1448.94 1077.87 1453.41 Q1077.93 1457.86 1078.02 1465.93 Z\" fill=\"#000000\" fill-rule=\"evenodd\" fill-opacity=\"1\" /><path clip-path=\"url(#clip170)\" d=\"M 0 0 M1080.73 1424.26 Q1078.18 1426.81 1079.41 1430.63 Q1080.63 1434.41 1085.68 1439.45 Q1090.7 1444.47 1094.5 1445.72 Q1098.3 1446.93 1100.85 1444.37 Q1103.42 1441.8 1102.19 1438.02 Q1100.96 1434.21 1095.94 1429.19 Q1090.9 1424.14 1087.1 1422.93 Q1083.3 1421.69 1080.73 1424.26 M1078.11 1421.64 Q1082.22 1417.53 1087.64 1418.63 Q1093.06 1419.69 1099.25 1425.88 Q1105.42 1432.05 1106.5 1437.48 Q1107.58 1442.89 1103.47 1446.99 Q1099.36 1451.1 1093.94 1450.04 Q1088.52 1448.94 1082.35 1442.77 Q1076.17 1436.58 1075.09 1431.18 Q1074.01 1425.75 1078.11 1421.64 Z\" fill=\"#000000\" fill-rule=\"evenodd\" fill-opacity=\"1\" /><path clip-path=\"url(#clip170)\" d=\"M 0 0 M1115.09 1428.86 L1126.63 1417.32 L1129.41 1420.1 L1113.89 1435.62 L1111.11 1432.84 Q1111.05 1429.01 1111.01 1422.49 Q1110.98 1415.94 1110.87 1414.16 Q1110.67 1410.79 1110.06 1408.94 Q1109.46 1407.06 1108.26 1405.86 Q1106.32 1403.91 1103.71 1404.06 Q1101.13 1404.19 1098.93 1406.38 Q1097.38 1407.94 1096.18 1410.21 Q1095.01 1412.47 1094.14 1415.53 L1090.8 1412.19 Q1091.99 1409.4 1093.32 1407.25 Q1094.65 1405.11 1096.09 1403.67 Q1099.88 1399.87 1104.04 1399.51 Q1108.2 1399.15 1111.37 1402.32 Q1112.88 1403.83 1113.67 1405.76 Q1114.45 1407.66 1114.8 1410.98 Q1114.86 1411.87 1114.94 1416.34 Q1115.01 1420.79 1115.09 1428.86 Z\" fill=\"#000000\" fill-rule=\"evenodd\" fill-opacity=\"1\" /><path clip-path=\"url(#clip170)\" d=\"M 0 0 M1117.81 1387.18 Q1115.25 1389.74 1116.48 1393.55 Q1117.71 1397.33 1122.75 1402.37 Q1127.77 1407.4 1131.57 1408.64 Q1135.37 1409.85 1137.92 1407.3 Q1140.49 1404.73 1139.27 1400.95 Q1138.04 1397.14 1133.01 1392.11 Q1127.97 1387.07 1124.17 1385.86 Q1120.38 1384.61 1117.81 1387.18 M1115.19 1384.57 Q1119.3 1380.46 1124.71 1381.55 Q1130.13 1382.62 1136.32 1388.8 Q1142.49 1394.98 1143.57 1400.41 Q1144.65 1405.81 1140.54 1409.92 Q1136.43 1414.03 1131.02 1412.96 Q1125.6 1411.87 1119.43 1405.7 Q1113.24 1399.51 1112.16 1394.11 Q1111.08 1388.67 1115.19 1384.57 Z\" fill=\"#000000\" fill-rule=\"evenodd\" fill-opacity=\"1\" /><path clip-path=\"url(#clip170)\" d=\"M 0 0 M1139.63 1388.84 L1148.45 1380.02 L1151.13 1382.7 L1142.31 1391.52 L1139.63 1388.84 Z\" fill=\"#000000\" fill-rule=\"evenodd\" fill-opacity=\"1\" /><path clip-path=\"url(#clip170)\" d=\"M 0 0 M1147.37 1357.62 Q1144.81 1360.18 1146.04 1363.99 Q1147.27 1367.77 1152.31 1372.81 Q1157.34 1377.84 1161.13 1379.08 Q1164.93 1380.29 1167.48 1377.74 Q1170.05 1375.17 1168.83 1371.39 Q1167.6 1367.58 1162.57 1362.55 Q1157.53 1357.51 1153.73 1356.3 Q1149.94 1355.05 1147.37 1357.62 M1144.75 1355 Q1148.86 1350.9 1154.27 1351.99 Q1159.69 1353.06 1165.88 1359.24 Q1172.05 1365.41 1173.13 1370.85 Q1174.21 1376.25 1170.1 1380.36 Q1165.99 1384.47 1160.58 1383.4 Q1155.16 1382.31 1148.99 1376.14 Q1142.8 1369.95 1141.72 1364.55 Q1140.64 1359.11 1144.75 1355 Z\" fill=\"#000000\" fill-rule=\"evenodd\" fill-opacity=\"1\" /><path clip-path=\"url(#clip170)\" d=\"M 0 0 M1178.5 1344.66 Q1181.38 1342.79 1184.31 1343.07 Q1187.26 1343.33 1189.61 1345.69 Q1193.23 1349.31 1192.72 1353.78 Q1192.22 1358.25 1187.63 1362.83 Q1186.09 1364.37 1184.15 1365.69 Q1182.23 1367.02 1179.89 1368.15 L1176.7 1364.96 Q1178.88 1364.38 1180.92 1363.16 Q1182.97 1361.93 1184.75 1360.14 Q1187.86 1357.03 1188.26 1354.19 Q1188.66 1351.32 1186.32 1348.98 Q1184.16 1346.82 1181.43 1347.13 Q1178.7 1347.41 1176 1350.11 L1173.15 1352.96 L1170.43 1350.24 L1173.41 1347.26 Q1175.85 1344.82 1176.18 1342.56 Q1176.49 1340.29 1174.65 1338.46 Q1172.77 1336.57 1170.43 1336.92 Q1168.09 1337.23 1165.6 1339.72 Q1164.24 1341.08 1162.98 1342.93 Q1161.72 1344.77 1160.48 1347.26 L1157.53 1344.32 Q1158.89 1341.91 1160.27 1340.01 Q1161.66 1338.1 1163.11 1336.64 Q1166.88 1332.88 1170.79 1332.4 Q1174.69 1331.91 1177.6 1334.82 Q1179.63 1336.85 1179.87 1339.42 Q1180.1 1341.98 1178.5 1344.66 Z\" fill=\"#000000\" fill-rule=\"evenodd\" fill-opacity=\"1\" /><path clip-path=\"url(#clip170)\" d=\"M 0 0 M1187.83 1340.63 L1196.65 1331.81 L1199.34 1334.5 L1190.51 1343.32 L1187.83 1340.63 Z\" fill=\"#000000\" fill-rule=\"evenodd\" fill-opacity=\"1\" /><path clip-path=\"url(#clip170)\" d=\"M 0 0 M1210.83 1333.12 L1222.37 1321.58 L1225.15 1324.36 L1209.63 1339.88 L1206.85 1337.1 Q1206.78 1333.27 1206.75 1326.75 Q1206.72 1320.21 1206.6 1318.42 Q1206.41 1315.05 1205.8 1313.2 Q1205.2 1311.32 1204 1310.12 Q1202.05 1308.18 1199.45 1308.32 Q1196.86 1308.45 1194.67 1310.65 Q1193.12 1312.2 1191.92 1314.48 Q1190.74 1316.74 1189.88 1319.8 L1186.54 1316.46 Q1187.73 1313.66 1189.06 1311.51 Q1190.38 1309.37 1191.82 1307.93 Q1195.62 1304.13 1199.78 1303.77 Q1203.94 1303.41 1207.11 1306.59 Q1208.62 1308.09 1209.4 1310.03 Q1210.19 1311.92 1210.53 1315.25 Q1210.6 1316.13 1210.68 1320.6 Q1210.74 1325.05 1210.83 1333.12 Z\" fill=\"#000000\" fill-rule=\"evenodd\" fill-opacity=\"1\" /><path clip-path=\"url(#clip170)\" d=\"M 0 0 M1213.54 1291.45 Q1210.99 1294 1212.22 1297.81 Q1213.45 1301.6 1218.49 1306.64 Q1223.51 1311.66 1227.31 1312.91 Q1231.11 1314.12 1233.66 1311.56 Q1236.23 1308.99 1235 1305.21 Q1233.77 1301.4 1228.75 1296.37 Q1223.71 1291.33 1219.91 1290.12 Q1216.11 1288.88 1213.54 1291.45 M1210.93 1288.83 Q1215.03 1284.72 1220.45 1285.82 Q1225.87 1286.88 1232.06 1293.07 Q1238.23 1299.24 1239.31 1304.67 Q1240.39 1310.07 1236.28 1314.18 Q1232.17 1318.29 1226.75 1317.23 Q1221.34 1316.13 1215.16 1309.96 Q1208.98 1303.77 1207.9 1298.37 Q1206.82 1292.94 1210.93 1288.83 Z\" fill=\"#000000\" fill-rule=\"evenodd\" fill-opacity=\"1\" /><path clip-path=\"url(#clip170)\" d=\"M 0 0 M1285.83 1467.4 L1297.37 1455.87 L1300.15 1458.65 L1284.64 1474.16 L1281.86 1471.38 Q1281.79 1467.55 1281.76 1461.04 Q1281.72 1454.49 1281.61 1452.71 Q1281.41 1449.33 1280.81 1447.48 Q1280.2 1445.6 1279.01 1444.41 Q1277.06 1442.46 1274.46 1442.61 Q1271.87 1442.74 1269.68 1444.93 Q1268.12 1446.49 1266.93 1448.76 Q1265.75 1451.02 1264.88 1454.08 L1261.54 1450.74 Q1262.74 1447.94 1264.06 1445.8 Q1265.39 1443.65 1266.83 1442.21 Q1270.63 1438.42 1274.78 1438.06 Q1278.94 1437.7 1282.12 1440.87 Q1283.62 1442.38 1284.41 1444.31 Q1285.19 1446.21 1285.54 1449.53 Q1285.6 1450.41 1285.69 1454.88 Q1285.75 1459.34 1285.83 1467.4 Z\" fill=\"#000000\" fill-rule=\"evenodd\" fill-opacity=\"1\" /><path clip-path=\"url(#clip170)\" d=\"M 0 0 M1288.55 1425.73 Q1286 1428.28 1287.22 1432.1 Q1288.45 1435.88 1293.49 1440.92 Q1298.52 1445.95 1302.32 1447.19 Q1306.11 1448.4 1308.67 1445.85 Q1311.24 1443.28 1310.01 1439.5 Q1308.78 1435.68 1303.76 1430.66 Q1298.71 1425.62 1294.92 1424.41 Q1291.12 1423.16 1288.55 1425.73 M1285.93 1423.11 Q1290.04 1419 1295.46 1420.1 Q1300.88 1421.16 1307.06 1427.35 Q1313.23 1433.52 1314.31 1438.96 Q1315.39 1444.36 1311.29 1448.47 Q1307.18 1452.58 1301.76 1451.51 Q1296.34 1450.41 1290.17 1444.24 Q1283.98 1438.06 1282.9 1432.66 Q1281.82 1427.22 1285.93 1423.11 Z\" fill=\"#000000\" fill-rule=\"evenodd\" fill-opacity=\"1\" /><path clip-path=\"url(#clip170)\" d=\"M 0 0 M1322.91 1430.33 L1334.45 1418.79 L1337.23 1421.57 L1321.71 1437.09 L1318.93 1434.31 Q1318.86 1430.48 1318.83 1423.96 Q1318.8 1417.42 1318.68 1415.63 Q1318.49 1412.26 1317.88 1410.41 Q1317.28 1408.53 1316.08 1407.33 Q1314.13 1405.39 1311.53 1405.53 Q1308.94 1405.66 1306.75 1407.86 Q1305.2 1409.41 1304 1411.69 Q1302.82 1413.95 1301.96 1417.01 L1298.62 1413.67 Q1299.81 1410.87 1301.14 1408.72 Q1302.46 1406.58 1303.9 1405.14 Q1307.7 1401.34 1311.86 1400.98 Q1316.02 1400.62 1319.19 1403.8 Q1320.7 1405.3 1321.48 1407.24 Q1322.27 1409.13 1322.61 1412.46 Q1322.68 1413.34 1322.76 1417.81 Q1322.82 1422.26 1322.91 1430.33 Z\" fill=\"#000000\" fill-rule=\"evenodd\" fill-opacity=\"1\" /><path clip-path=\"url(#clip170)\" d=\"M 0 0 M1325.62 1388.66 Q1323.07 1391.21 1324.3 1395.02 Q1325.53 1398.81 1330.57 1403.85 Q1335.59 1408.87 1339.39 1410.12 Q1343.19 1411.33 1345.74 1408.77 Q1348.31 1406.2 1347.08 1402.42 Q1345.85 1398.61 1340.83 1393.58 Q1335.79 1388.54 1331.99 1387.33 Q1328.19 1386.09 1325.62 1388.66 M1323 1386.04 Q1327.11 1381.93 1332.53 1383.03 Q1337.95 1384.09 1344.14 1390.28 Q1350.31 1396.45 1351.39 1401.88 Q1352.47 1407.28 1348.36 1411.39 Q1344.25 1415.5 1338.83 1414.44 Q1333.42 1413.34 1327.24 1407.17 Q1321.06 1400.98 1319.98 1395.58 Q1318.9 1390.15 1323 1386.04 Z\" fill=\"#000000\" fill-rule=\"evenodd\" fill-opacity=\"1\" /><path clip-path=\"url(#clip170)\" d=\"M 0 0 M1347.44 1390.31 L1356.26 1381.49 L1358.95 1384.17 L1350.13 1393 L1347.44 1390.31 Z\" fill=\"#000000\" fill-rule=\"evenodd\" fill-opacity=\"1\" /><path clip-path=\"url(#clip170)\" d=\"M 0 0 M1355.18 1359.1 Q1352.63 1361.65 1353.86 1365.46 Q1355.09 1369.25 1360.13 1374.29 Q1365.15 1379.31 1368.95 1380.56 Q1372.75 1381.77 1375.3 1379.21 Q1377.87 1376.64 1376.64 1372.86 Q1375.42 1369.05 1370.39 1364.02 Q1365.35 1358.98 1361.55 1357.77 Q1357.75 1356.53 1355.18 1359.1 M1352.57 1356.48 Q1356.67 1352.37 1362.09 1353.47 Q1367.51 1354.53 1373.7 1360.72 Q1379.87 1366.89 1380.95 1372.32 Q1382.03 1377.72 1377.92 1381.83 Q1373.81 1385.94 1368.39 1384.88 Q1362.98 1383.78 1356.81 1377.61 Q1350.62 1371.42 1349.54 1366.02 Q1348.46 1360.59 1352.57 1356.48 Z\" fill=\"#000000\" fill-rule=\"evenodd\" fill-opacity=\"1\" /><path clip-path=\"url(#clip170)\" d=\"M 0 0 M1377 1338.69 L1381.7 1360.08 L1390.05 1351.73 L1377 1338.69 M1373.26 1336.67 L1377.41 1332.51 L1393.34 1348.44 L1396.83 1344.95 L1399.57 1347.7 L1396.09 1351.19 L1401.85 1356.95 L1398.56 1360.24 L1392.8 1354.48 L1381.77 1365.51 L1378.57 1362.32 L1373.26 1336.67 Z\" fill=\"#000000\" fill-rule=\"evenodd\" fill-opacity=\"1\" /><path clip-path=\"url(#clip170)\" d=\"M 0 0 M1396.45 1341.3 L1405.27 1332.48 L1407.96 1335.17 L1399.13 1343.99 L1396.45 1341.3 Z\" fill=\"#000000\" fill-rule=\"evenodd\" fill-opacity=\"1\" /><path clip-path=\"url(#clip170)\" d=\"M 0 0 M1404.19 1310.09 Q1401.64 1312.64 1402.86 1316.46 Q1404.09 1320.24 1409.13 1325.28 Q1414.16 1330.31 1417.96 1331.55 Q1421.75 1332.76 1424.31 1330.21 Q1426.88 1327.64 1425.65 1323.86 Q1424.42 1320.04 1419.4 1315.02 Q1414.36 1309.98 1410.56 1308.76 Q1406.76 1307.52 1404.19 1310.09 M1401.57 1307.47 Q1405.68 1303.36 1411.1 1304.46 Q1416.52 1305.52 1422.7 1311.71 Q1428.87 1317.88 1429.95 1323.32 Q1431.03 1328.72 1426.93 1332.83 Q1422.82 1336.93 1417.4 1335.87 Q1411.98 1334.77 1405.81 1328.6 Q1399.62 1322.42 1398.54 1317.01 Q1397.46 1311.58 1401.57 1307.47 Z\" fill=\"#000000\" fill-rule=\"evenodd\" fill-opacity=\"1\" /><path clip-path=\"url(#clip170)\" d=\"M 0 0 M1435.32 1297.13 Q1438.2 1295.26 1441.13 1295.54 Q1444.08 1295.8 1446.44 1298.16 Q1450.05 1301.78 1449.55 1306.24 Q1449.04 1310.71 1444.46 1315.3 Q1442.92 1316.83 1440.97 1318.16 Q1439.05 1319.49 1436.71 1320.62 L1433.52 1317.42 Q1435.7 1316.85 1437.75 1315.62 Q1439.79 1314.4 1441.58 1312.61 Q1444.69 1309.5 1445.08 1306.65 Q1445.49 1303.79 1443.15 1301.45 Q1440.99 1299.29 1438.25 1299.6 Q1435.52 1299.88 1432.82 1302.58 L1429.97 1305.43 L1427.25 1302.71 L1430.23 1299.73 Q1432.67 1297.29 1433 1295.03 Q1433.31 1292.76 1431.48 1290.92 Q1429.59 1289.04 1427.25 1289.38 Q1424.91 1289.7 1422.42 1292.18 Q1421.07 1293.54 1419.81 1295.39 Q1418.55 1297.24 1417.3 1299.73 L1414.36 1296.78 Q1415.71 1294.38 1417.09 1292.48 Q1418.48 1290.56 1419.94 1289.11 Q1423.7 1285.34 1427.61 1284.87 Q1431.51 1284.38 1434.42 1287.29 Q1436.45 1289.32 1436.7 1291.89 Q1436.93 1294.44 1435.32 1297.13 Z\" fill=\"#000000\" fill-rule=\"evenodd\" fill-opacity=\"1\" /><path clip-path=\"url(#clip170)\" d=\"M 0 0 M1496.17 1466.36 L1507.71 1454.82 L1510.49 1457.6 L1494.98 1473.12 L1492.19 1470.33 Q1492.13 1466.5 1492.09 1459.99 Q1492.06 1453.44 1491.95 1451.66 Q1491.75 1448.29 1491.15 1446.44 Q1490.54 1444.55 1489.35 1443.36 Q1487.4 1441.41 1484.79 1441.56 Q1482.21 1441.69 1480.02 1443.88 Q1478.46 1445.44 1477.27 1447.71 Q1476.09 1449.97 1475.22 1453.03 L1471.88 1449.69 Q1473.08 1446.9 1474.4 1444.75 Q1475.73 1442.61 1477.17 1441.17 Q1480.96 1437.37 1485.12 1437.01 Q1489.28 1436.65 1492.46 1439.82 Q1493.96 1441.33 1494.75 1443.26 Q1495.53 1445.16 1495.88 1448.48 Q1495.94 1449.37 1496.02 1453.84 Q1496.09 1458.29 1496.17 1466.36 Z\" fill=\"#000000\" fill-rule=\"evenodd\" fill-opacity=\"1\" /><path clip-path=\"url(#clip170)\" d=\"M 0 0 M1498.89 1424.68 Q1496.33 1427.24 1497.56 1431.05 Q1498.79 1434.83 1503.83 1439.87 Q1508.86 1444.9 1512.65 1446.14 Q1516.45 1447.35 1519 1444.8 Q1521.57 1442.23 1520.35 1438.45 Q1519.12 1434.64 1514.09 1429.61 Q1509.05 1424.57 1505.25 1423.36 Q1501.46 1422.11 1498.89 1424.68 M1496.27 1422.06 Q1500.38 1417.96 1505.8 1419.05 Q1511.21 1420.12 1517.4 1426.3 Q1523.57 1432.48 1524.65 1437.91 Q1525.73 1443.31 1521.62 1447.42 Q1517.51 1451.53 1512.1 1450.46 Q1506.68 1449.37 1500.51 1443.2 Q1494.32 1437.01 1493.24 1431.61 Q1492.16 1426.17 1496.27 1422.06 Z\" fill=\"#000000\" fill-rule=\"evenodd\" fill-opacity=\"1\" /><path clip-path=\"url(#clip170)\" d=\"M 0 0 M1533.24 1429.28 L1544.78 1417.74 L1547.57 1420.53 L1532.05 1436.04 L1529.27 1433.26 Q1529.2 1429.43 1529.17 1422.92 Q1529.14 1416.37 1529.02 1414.58 Q1528.83 1411.21 1528.22 1409.36 Q1527.61 1407.48 1526.42 1406.29 Q1524.47 1404.34 1521.87 1404.49 Q1519.28 1404.62 1517.09 1406.81 Q1515.53 1408.36 1514.34 1410.64 Q1513.16 1412.9 1512.29 1415.96 L1508.95 1412.62 Q1510.15 1409.82 1511.47 1407.68 Q1512.8 1405.53 1514.24 1404.09 Q1518.04 1400.3 1522.2 1399.94 Q1526.35 1399.58 1529.53 1402.75 Q1531.03 1404.26 1531.82 1406.19 Q1532.61 1408.09 1532.95 1411.41 Q1533.02 1412.29 1533.1 1416.76 Q1533.16 1421.21 1533.24 1429.28 Z\" fill=\"#000000\" fill-rule=\"evenodd\" fill-opacity=\"1\" /><path clip-path=\"url(#clip170)\" d=\"M 0 0 M1535.96 1387.61 Q1533.41 1390.16 1534.64 1393.98 Q1535.86 1397.76 1540.9 1402.8 Q1545.93 1407.82 1549.73 1409.07 Q1553.52 1410.28 1556.08 1407.73 Q1558.65 1405.16 1557.42 1401.38 Q1556.19 1397.56 1551.17 1392.54 Q1546.13 1387.5 1542.33 1386.28 Q1538.53 1385.04 1535.96 1387.61 M1533.34 1384.99 Q1537.45 1380.88 1542.87 1381.98 Q1548.29 1383.04 1554.47 1389.23 Q1560.64 1395.4 1561.72 1400.84 Q1562.81 1406.24 1558.7 1410.35 Q1554.59 1414.45 1549.17 1413.39 Q1543.75 1412.29 1537.58 1406.12 Q1531.39 1399.94 1530.31 1394.53 Q1529.23 1389.1 1533.34 1384.99 Z\" fill=\"#000000\" fill-rule=\"evenodd\" fill-opacity=\"1\" /><path clip-path=\"url(#clip170)\" d=\"M 0 0 M1557.78 1389.26 L1566.6 1380.44 L1569.29 1383.13 L1560.46 1391.95 L1557.78 1389.26 Z\" fill=\"#000000\" fill-rule=\"evenodd\" fill-opacity=\"1\" /><path clip-path=\"url(#clip170)\" d=\"M 0 0 M1565.52 1358.05 Q1562.97 1360.6 1564.2 1364.42 Q1565.42 1368.2 1570.47 1373.24 Q1575.49 1378.26 1579.29 1379.51 Q1583.09 1380.72 1585.64 1378.17 Q1588.21 1375.6 1586.98 1371.81 Q1585.75 1368 1580.73 1362.98 Q1575.69 1357.93 1571.89 1356.72 Q1568.09 1355.48 1565.52 1358.05 M1562.9 1355.43 Q1567.01 1351.32 1572.43 1352.42 Q1577.85 1353.48 1584.03 1359.67 Q1590.21 1365.84 1591.29 1371.27 Q1592.37 1376.68 1588.26 1380.78 Q1584.15 1384.89 1578.73 1383.83 Q1573.31 1382.73 1567.14 1376.56 Q1560.96 1370.37 1559.88 1364.97 Q1558.8 1359.54 1562.9 1355.43 Z\" fill=\"#000000\" fill-rule=\"evenodd\" fill-opacity=\"1\" /><path clip-path=\"url(#clip170)\" d=\"M 0 0 M1587.34 1337.64 L1592.04 1359.03 L1600.39 1350.68 L1587.34 1337.64 M1583.59 1335.62 L1587.75 1331.47 L1603.68 1347.39 L1607.16 1343.91 L1609.91 1346.66 L1606.43 1350.14 L1612.19 1355.9 L1608.9 1359.19 L1603.14 1353.43 L1592.1 1364.47 L1588.91 1361.27 L1583.59 1335.62 Z\" fill=\"#000000\" fill-rule=\"evenodd\" fill-opacity=\"1\" /><path clip-path=\"url(#clip170)\" d=\"M 0 0 M1606.79 1340.26 L1615.61 1331.43 L1618.29 1334.12 L1609.47 1342.94 L1606.79 1340.26 Z\" fill=\"#000000\" fill-rule=\"evenodd\" fill-opacity=\"1\" /><path clip-path=\"url(#clip170)\" d=\"M 0 0 M1627.51 1335.02 L1632.91 1329.62 L1614.27 1310.97 L1609.57 1318.03 L1606.56 1315.02 L1611.22 1308 L1614.53 1304.69 L1636.18 1326.34 L1641.59 1320.94 L1644.37 1323.73 L1630.29 1337.8 L1627.51 1335.02 Z\" fill=\"#000000\" fill-rule=\"evenodd\" fill-opacity=\"1\" /><path clip-path=\"url(#clip170)\" d=\"M 0 0 M1622.68 1296.54 L1638.39 1280.82 L1639.8 1282.23 L1653.96 1314.13 L1650.51 1317.59 L1637.2 1287.58 L1625.46 1299.32 L1622.68 1296.54 Z\" fill=\"#000000\" fill-rule=\"evenodd\" fill-opacity=\"1\" /><path clip-path=\"url(#clip170)\" d=\"M 0 0 M1705.87 1465.95 L1717.41 1454.41 L1720.19 1457.19 L1704.68 1472.71 L1701.89 1469.93 Q1701.83 1466.1 1701.79 1459.58 Q1701.76 1453.03 1701.65 1451.25 Q1701.45 1447.88 1700.84 1446.03 Q1700.24 1444.15 1699.04 1442.95 Q1697.1 1441 1694.49 1441.15 Q1691.91 1441.28 1689.71 1443.47 Q1688.16 1445.03 1686.96 1447.3 Q1685.79 1449.56 1684.92 1452.62 L1681.58 1449.29 Q1682.77 1446.49 1684.1 1444.34 Q1685.43 1442.2 1686.87 1440.76 Q1690.66 1436.96 1694.82 1436.6 Q1698.98 1436.24 1702.15 1439.42 Q1703.66 1440.92 1704.45 1442.85 Q1705.23 1444.75 1705.58 1448.07 Q1705.64 1448.96 1705.72 1453.43 Q1705.79 1457.88 1705.87 1465.95 Z\" fill=\"#000000\" fill-rule=\"evenodd\" fill-opacity=\"1\" /><path clip-path=\"url(#clip170)\" d=\"M 0 0 M1708.59 1424.27 Q1706.03 1426.83 1707.26 1430.64 Q1708.49 1434.42 1713.53 1439.46 Q1718.56 1444.49 1722.35 1445.73 Q1726.15 1446.94 1728.7 1444.39 Q1731.27 1441.82 1730.05 1438.04 Q1728.82 1434.23 1723.79 1429.2 Q1718.75 1424.16 1714.95 1422.95 Q1711.16 1421.7 1708.59 1424.27 M1705.97 1421.66 Q1710.08 1417.55 1715.49 1418.64 Q1720.91 1419.71 1727.1 1425.9 Q1733.27 1432.07 1734.35 1437.5 Q1735.43 1442.9 1731.32 1447.01 Q1727.21 1451.12 1721.8 1450.05 Q1716.38 1448.96 1710.21 1442.79 Q1704.02 1436.6 1702.94 1431.2 Q1701.86 1425.76 1705.97 1421.66 Z\" fill=\"#000000\" fill-rule=\"evenodd\" fill-opacity=\"1\" /><path clip-path=\"url(#clip170)\" d=\"M 0 0 M1742.94 1428.87 L1754.48 1417.33 L1757.27 1420.12 L1741.75 1435.63 L1738.97 1432.85 Q1738.9 1429.02 1738.87 1422.51 Q1738.84 1415.96 1738.72 1414.18 Q1738.52 1410.8 1737.92 1408.95 Q1737.31 1407.07 1736.12 1405.88 Q1734.17 1403.93 1731.57 1404.08 Q1728.98 1404.21 1726.79 1406.4 Q1725.23 1407.96 1724.04 1410.23 Q1722.86 1412.49 1721.99 1415.55 L1718.65 1412.21 Q1719.85 1409.41 1721.17 1407.27 Q1722.5 1405.12 1723.94 1403.68 Q1727.74 1399.89 1731.9 1399.53 Q1736.05 1399.17 1739.23 1402.34 Q1740.73 1403.85 1741.52 1405.78 Q1742.31 1407.68 1742.65 1411 Q1742.71 1411.88 1742.8 1416.35 Q1742.86 1420.8 1742.94 1428.87 Z\" fill=\"#000000\" fill-rule=\"evenodd\" fill-opacity=\"1\" /><path clip-path=\"url(#clip170)\" d=\"M 0 0 M1745.66 1387.2 Q1743.11 1389.75 1744.34 1393.57 Q1745.56 1397.35 1750.6 1402.39 Q1755.63 1407.42 1759.43 1408.66 Q1763.22 1409.87 1765.78 1407.32 Q1768.35 1404.75 1767.12 1400.97 Q1765.89 1397.15 1760.87 1392.13 Q1755.83 1387.09 1752.03 1385.88 Q1748.23 1384.63 1745.66 1387.2 M1743.04 1384.58 Q1747.15 1380.47 1752.57 1381.57 Q1757.99 1382.63 1764.17 1388.82 Q1770.34 1394.99 1771.42 1400.43 Q1772.5 1405.83 1768.4 1409.94 Q1764.29 1414.04 1758.87 1412.98 Q1753.45 1411.88 1747.28 1405.71 Q1741.09 1399.53 1740.01 1394.12 Q1738.93 1388.69 1743.04 1384.58 Z\" fill=\"#000000\" fill-rule=\"evenodd\" fill-opacity=\"1\" /><path clip-path=\"url(#clip170)\" d=\"M 0 0 M1767.48 1388.85 L1776.3 1380.03 L1778.99 1382.72 L1770.16 1391.54 L1767.48 1388.85 Z\" fill=\"#000000\" fill-rule=\"evenodd\" fill-opacity=\"1\" /><path clip-path=\"url(#clip170)\" d=\"M 0 0 M1775.22 1357.64 Q1772.67 1360.19 1773.9 1364.01 Q1775.12 1367.79 1780.16 1372.83 Q1785.19 1377.85 1788.99 1379.1 Q1792.78 1380.31 1795.34 1377.76 Q1797.91 1375.19 1796.68 1371.41 Q1795.45 1367.59 1790.43 1362.57 Q1785.39 1357.53 1781.59 1356.31 Q1777.79 1355.07 1775.22 1357.64 M1772.6 1355.02 Q1776.71 1350.91 1782.13 1352.01 Q1787.55 1353.07 1793.73 1359.26 Q1799.9 1365.43 1800.99 1370.87 Q1802.07 1376.27 1797.96 1380.38 Q1793.85 1384.48 1788.43 1383.42 Q1783.01 1382.32 1776.84 1376.15 Q1770.66 1369.97 1769.57 1364.56 Q1768.49 1359.13 1772.6 1355.02 Z\" fill=\"#000000\" fill-rule=\"evenodd\" fill-opacity=\"1\" /><path clip-path=\"url(#clip170)\" d=\"M 0 0 M1785.11 1343.4 L1798.09 1330.42 L1800.87 1333.2 L1790.92 1343.15 L1796.91 1349.14 Q1797.38 1348.18 1797.99 1347.34 Q1798.58 1346.49 1799.3 1345.77 Q1803.39 1341.68 1808.02 1341.53 Q1812.66 1341.39 1816.49 1345.22 Q1820.43 1349.16 1820.17 1353.81 Q1819.89 1358.44 1815.42 1362.91 Q1813.88 1364.45 1812.02 1365.79 Q1810.17 1367.12 1807.94 1368.3 L1804.62 1364.97 Q1806.89 1364.3 1808.86 1363.12 Q1810.82 1361.94 1812.57 1360.19 Q1815.41 1357.36 1815.57 1354.22 Q1815.73 1351.08 1813.18 1348.52 Q1810.63 1345.97 1807.48 1346.13 Q1804.34 1346.3 1801.51 1349.13 Q1800.18 1350.45 1799.15 1352.07 Q1798.14 1353.68 1797.38 1355.68 L1785.11 1343.4 Z\" fill=\"#000000\" fill-rule=\"evenodd\" fill-opacity=\"1\" /><path clip-path=\"url(#clip170)\" d=\"M 0 0 M1815.44 1340.9 L1824.26 1332.07 L1826.95 1334.76 L1818.12 1343.58 L1815.44 1340.9 Z\" fill=\"#000000\" fill-rule=\"evenodd\" fill-opacity=\"1\" /><path clip-path=\"url(#clip170)\" d=\"M 0 0 M1823.18 1309.68 Q1820.63 1312.23 1821.85 1316.05 Q1823.08 1319.83 1828.12 1324.87 Q1833.15 1329.9 1836.95 1331.14 Q1840.74 1332.35 1843.3 1329.8 Q1845.87 1327.23 1844.64 1323.45 Q1843.41 1319.63 1838.39 1314.61 Q1833.34 1309.57 1829.55 1308.36 Q1825.75 1307.11 1823.18 1309.68 M1820.56 1307.06 Q1824.67 1302.95 1830.09 1304.05 Q1835.51 1305.11 1841.69 1311.3 Q1847.86 1317.47 1848.94 1322.91 Q1850.02 1328.31 1845.92 1332.42 Q1841.81 1336.53 1836.39 1335.46 Q1830.97 1334.36 1824.8 1328.19 Q1818.61 1322.01 1817.53 1316.61 Q1816.45 1311.17 1820.56 1307.06 Z\" fill=\"#000000\" fill-rule=\"evenodd\" fill-opacity=\"1\" /><path clip-path=\"url(#clip170)\" d=\"M 0 0 M1855.26 1316.56 L1860.66 1311.15 L1842.02 1292.51 L1837.32 1299.57 L1834.31 1296.55 L1838.98 1289.53 L1842.28 1286.23 L1863.94 1307.88 L1869.34 1302.48 L1872.12 1305.26 L1858.04 1319.34 L1855.26 1316.56 Z\" fill=\"#000000\" fill-rule=\"evenodd\" fill-opacity=\"1\" /><path clip-path=\"url(#clip170)\" d=\"M 0 0 M1915.86 1465.24 L1927.4 1453.7 L1930.19 1456.49 L1914.67 1472 L1911.89 1469.22 Q1911.82 1465.39 1911.79 1458.88 Q1911.76 1452.33 1911.64 1450.55 Q1911.44 1447.17 1910.84 1445.32 Q1910.23 1443.44 1909.04 1442.25 Q1907.09 1440.3 1904.49 1440.45 Q1901.9 1440.58 1899.71 1442.77 Q1898.15 1444.33 1896.96 1446.6 Q1895.78 1448.86 1894.91 1451.92 L1891.57 1448.58 Q1892.77 1445.78 1894.09 1443.64 Q1895.42 1441.49 1896.86 1440.05 Q1900.66 1436.26 1904.82 1435.9 Q1908.97 1435.54 1912.15 1438.71 Q1913.65 1440.22 1914.44 1442.15 Q1915.23 1444.05 1915.57 1447.37 Q1915.63 1448.25 1915.72 1452.72 Q1915.78 1457.17 1915.86 1465.24 Z\" fill=\"#000000\" fill-rule=\"evenodd\" fill-opacity=\"1\" /><path clip-path=\"url(#clip170)\" d=\"M 0 0 M1918.58 1423.57 Q1916.03 1426.12 1917.26 1429.94 Q1918.48 1433.72 1923.52 1438.76 Q1928.55 1443.79 1932.35 1445.03 Q1936.14 1446.24 1938.7 1443.69 Q1941.27 1441.12 1940.04 1437.34 Q1938.81 1433.52 1933.79 1428.5 Q1928.75 1423.46 1924.95 1422.24 Q1921.15 1421 1918.58 1423.57 M1915.96 1420.95 Q1920.07 1416.84 1925.49 1417.94 Q1930.91 1419 1937.09 1425.19 Q1943.26 1431.36 1944.34 1436.8 Q1945.42 1442.2 1941.32 1446.31 Q1937.21 1450.41 1931.79 1449.35 Q1926.37 1448.25 1920.2 1442.08 Q1914.01 1435.9 1912.93 1430.49 Q1911.85 1425.06 1915.96 1420.95 Z\" fill=\"#000000\" fill-rule=\"evenodd\" fill-opacity=\"1\" /><path clip-path=\"url(#clip170)\" d=\"M 0 0 M1952.94 1428.17 L1964.48 1416.63 L1967.26 1419.41 L1951.74 1434.93 L1948.96 1432.15 Q1948.89 1428.32 1948.86 1421.8 Q1948.83 1415.26 1948.71 1413.47 Q1948.52 1410.1 1947.91 1408.25 Q1947.31 1406.37 1946.11 1405.17 Q1944.16 1403.23 1941.56 1403.37 Q1938.98 1403.5 1936.78 1405.7 Q1935.23 1407.25 1934.03 1409.53 Q1932.85 1411.79 1931.99 1414.85 L1928.65 1411.51 Q1929.84 1408.71 1931.17 1406.56 Q1932.49 1404.42 1933.93 1402.98 Q1937.73 1399.18 1941.89 1398.82 Q1946.05 1398.46 1949.22 1401.64 Q1950.73 1403.14 1951.51 1405.07 Q1952.3 1406.97 1952.64 1410.3 Q1952.71 1411.18 1952.79 1415.65 Q1952.86 1420.1 1952.94 1428.17 Z\" fill=\"#000000\" fill-rule=\"evenodd\" fill-opacity=\"1\" /><path clip-path=\"url(#clip170)\" d=\"M 0 0 M1955.65 1386.5 Q1953.1 1389.05 1954.33 1392.86 Q1955.56 1396.65 1960.6 1401.69 Q1965.62 1406.71 1969.42 1407.96 Q1973.22 1409.17 1975.77 1406.61 Q1978.34 1404.04 1977.11 1400.26 Q1975.89 1396.45 1970.86 1391.42 Q1965.82 1386.38 1962.02 1385.17 Q1958.22 1383.93 1955.65 1386.5 M1953.04 1383.88 Q1957.14 1379.77 1962.56 1380.87 Q1967.98 1381.93 1974.17 1388.12 Q1980.34 1394.29 1981.42 1399.72 Q1982.5 1405.12 1978.39 1409.23 Q1974.28 1413.34 1968.86 1412.28 Q1963.45 1411.18 1957.28 1405.01 Q1951.09 1398.82 1950.01 1393.42 Q1948.93 1387.99 1953.04 1383.88 Z\" fill=\"#000000\" fill-rule=\"evenodd\" fill-opacity=\"1\" /><path clip-path=\"url(#clip170)\" d=\"M 0 0 M1977.47 1388.15 L1986.3 1379.33 L1988.98 1382.01 L1980.16 1390.83 L1977.47 1388.15 Z\" fill=\"#000000\" fill-rule=\"evenodd\" fill-opacity=\"1\" /><path clip-path=\"url(#clip170)\" d=\"M 0 0 M1985.22 1356.94 Q1982.66 1359.49 1983.89 1363.3 Q1985.12 1367.08 1990.16 1372.13 Q1995.18 1377.15 1998.98 1378.39 Q2002.78 1379.61 2005.33 1377.05 Q2007.9 1374.48 2006.67 1370.7 Q2005.45 1366.89 2000.42 1361.86 Q1995.38 1356.82 1991.58 1355.61 Q1987.79 1354.37 1985.22 1356.94 M1982.6 1354.32 Q1986.71 1350.21 1992.12 1351.31 Q1997.54 1352.37 2003.73 1358.56 Q2009.9 1364.73 2010.98 1370.16 Q2012.06 1375.56 2007.95 1379.67 Q2003.84 1383.78 1998.42 1382.72 Q1993.01 1381.62 1986.84 1375.45 Q1980.65 1369.26 1979.57 1363.86 Q1978.49 1358.43 1982.6 1354.32 Z\" fill=\"#000000\" fill-rule=\"evenodd\" fill-opacity=\"1\" /><path clip-path=\"url(#clip170)\" d=\"M 0 0 M1995.1 1342.7 L2008.08 1329.72 L2010.86 1332.5 L2000.91 1342.45 L2006.9 1348.44 Q2007.38 1347.48 2007.98 1346.64 Q2008.57 1345.79 2009.29 1345.07 Q2013.39 1340.98 2018.02 1340.83 Q2022.65 1340.68 2026.48 1344.51 Q2030.42 1348.46 2030.16 1353.11 Q2029.88 1357.74 2025.42 1362.21 Q2023.88 1363.75 2022.01 1365.09 Q2020.16 1366.41 2017.94 1367.59 L2014.61 1364.27 Q2016.89 1363.6 2018.85 1362.42 Q2020.82 1361.24 2022.57 1359.49 Q2025.4 1356.66 2025.56 1353.52 Q2025.73 1350.37 2023.17 1347.82 Q2020.62 1345.27 2017.48 1345.43 Q2014.33 1345.59 2011.5 1348.42 Q2010.18 1349.75 2009.15 1351.37 Q2008.13 1352.98 2007.38 1354.97 L1995.1 1342.7 Z\" fill=\"#000000\" fill-rule=\"evenodd\" fill-opacity=\"1\" /><path clip-path=\"url(#clip170)\" d=\"M 0 0 M2025.43 1340.19 L2034.25 1331.37 L2036.94 1334.05 L2028.12 1342.88 L2025.43 1340.19 Z\" fill=\"#000000\" fill-rule=\"evenodd\" fill-opacity=\"1\" /><path clip-path=\"url(#clip170)\" d=\"M 0 0 M2046.15 1334.95 L2051.56 1329.55 L2032.91 1310.91 L2028.21 1317.96 L2025.2 1314.95 L2029.87 1307.93 L2033.17 1304.62 L2054.83 1326.28 L2060.23 1320.88 L2063.01 1323.66 L2048.94 1337.74 L2046.15 1334.95 Z\" fill=\"#000000\" fill-rule=\"evenodd\" fill-opacity=\"1\" /><path clip-path=\"url(#clip170)\" d=\"M 0 0 M2042.19 1295.6 L2055.17 1282.62 L2057.96 1285.41 L2048 1295.36 L2053.99 1301.35 Q2054.47 1300.38 2055.07 1299.55 Q2055.66 1298.7 2056.38 1297.98 Q2060.48 1293.89 2065.11 1293.74 Q2069.74 1293.59 2073.57 1297.42 Q2077.52 1301.37 2077.25 1306.01 Q2076.98 1310.65 2072.51 1315.12 Q2070.97 1316.65 2069.1 1318 Q2067.25 1319.32 2065.03 1320.5 L2061.7 1317.18 Q2063.98 1316.51 2065.94 1315.33 Q2067.91 1314.15 2069.66 1312.4 Q2072.49 1309.57 2072.65 1306.42 Q2072.82 1303.28 2070.26 1300.73 Q2067.71 1298.17 2064.57 1298.34 Q2061.43 1298.5 2058.59 1301.33 Q2057.27 1302.66 2056.24 1304.28 Q2055.22 1305.88 2054.47 1307.88 L2042.19 1295.6 Z\" fill=\"#000000\" fill-rule=\"evenodd\" fill-opacity=\"1\" /><path clip-path=\"url(#clip170)\" d=\"M 0 0 M220.542 1219.17 Q216.931 1219.17 215.102 1222.73 Q213.297 1226.28 213.297 1233.41 Q213.297 1240.51 215.102 1244.08 Q216.931 1247.62 220.542 1247.62 Q224.176 1247.62 225.982 1244.08 Q227.811 1240.51 227.811 1233.41 Q227.811 1226.28 225.982 1222.73 Q224.176 1219.17 220.542 1219.17 M220.542 1215.47 Q226.352 1215.47 229.408 1220.07 Q232.486 1224.66 232.486 1233.41 Q232.486 1242.13 229.408 1246.74 Q226.352 1251.32 220.542 1251.32 Q214.732 1251.32 211.653 1246.74 Q208.598 1242.13 208.598 1233.41 Q208.598 1224.66 211.653 1220.07 Q214.732 1215.47 220.542 1215.47 Z\" fill=\"#000000\" fill-rule=\"evenodd\" fill-opacity=\"1\" /><path clip-path=\"url(#clip170)\" d=\"M 0 0 M131.538 994.836 L139.177 994.836 L139.177 968.471 L130.867 970.137 L130.867 965.878 L139.13 964.212 L143.806 964.212 L143.806 994.836 L151.445 994.836 L151.445 998.772 L131.538 998.772 L131.538 994.836 Z\" fill=\"#000000\" fill-rule=\"evenodd\" fill-opacity=\"1\" /><path clip-path=\"url(#clip170)\" d=\"M 0 0 M166.515 967.29 Q162.903 967.29 161.075 970.855 Q159.269 974.397 159.269 981.526 Q159.269 988.633 161.075 992.197 Q162.903 995.739 166.515 995.739 Q170.149 995.739 171.954 992.197 Q173.783 988.633 173.783 981.526 Q173.783 974.397 171.954 970.855 Q170.149 967.29 166.515 967.29 M166.515 963.587 Q172.325 963.587 175.38 968.193 Q178.459 972.776 178.459 981.526 Q178.459 990.253 175.38 994.86 Q172.325 999.443 166.515 999.443 Q160.704 999.443 157.626 994.86 Q154.57 990.253 154.57 981.526 Q154.57 972.776 157.626 968.193 Q160.704 963.587 166.515 963.587 Z\" fill=\"#000000\" fill-rule=\"evenodd\" fill-opacity=\"1\" /><path clip-path=\"url(#clip170)\" d=\"M 0 0 M193.528 967.29 Q189.917 967.29 188.089 970.855 Q186.283 974.397 186.283 981.526 Q186.283 988.633 188.089 992.197 Q189.917 995.739 193.528 995.739 Q197.163 995.739 198.968 992.197 Q200.797 988.633 200.797 981.526 Q200.797 974.397 198.968 970.855 Q197.163 967.29 193.528 967.29 M193.528 963.587 Q199.338 963.587 202.394 968.193 Q205.473 972.776 205.473 981.526 Q205.473 990.253 202.394 994.86 Q199.338 999.443 193.528 999.443 Q187.718 999.443 184.639 994.86 Q181.584 990.253 181.584 981.526 Q181.584 972.776 184.639 968.193 Q187.718 963.587 193.528 963.587 Z\" fill=\"#000000\" fill-rule=\"evenodd\" fill-opacity=\"1\" /><path clip-path=\"url(#clip170)\" d=\"M 0 0 M220.542 967.29 Q216.931 967.29 215.102 970.855 Q213.297 974.397 213.297 981.526 Q213.297 988.633 215.102 992.197 Q216.931 995.739 220.542 995.739 Q224.176 995.739 225.982 992.197 Q227.811 988.633 227.811 981.526 Q227.811 974.397 225.982 970.855 Q224.176 967.29 220.542 967.29 M220.542 963.587 Q226.352 963.587 229.408 968.193 Q232.486 972.776 232.486 981.526 Q232.486 990.253 229.408 994.86 Q226.352 999.443 220.542 999.443 Q214.732 999.443 211.653 994.86 Q208.598 990.253 208.598 981.526 Q208.598 972.776 211.653 968.193 Q214.732 963.587 220.542 963.587 Z\" fill=\"#000000\" fill-rule=\"evenodd\" fill-opacity=\"1\" /><path clip-path=\"url(#clip170)\" d=\"M 0 0 M135.126 742.957 L151.445 742.957 L151.445 746.892 L129.501 746.892 L129.501 742.957 Q132.163 740.202 136.746 735.572 Q141.353 730.92 142.533 729.577 Q144.779 727.054 145.658 725.318 Q146.561 723.559 146.561 721.869 Q146.561 719.114 144.617 717.378 Q142.695 715.642 139.593 715.642 Q137.394 715.642 134.941 716.406 Q132.51 717.17 129.732 718.721 L129.732 713.998 Q132.556 712.864 135.01 712.285 Q137.464 711.707 139.501 711.707 Q144.871 711.707 148.066 714.392 Q151.26 717.077 151.26 721.568 Q151.26 723.697 150.45 725.619 Q149.663 727.517 147.556 730.109 Q146.978 730.781 143.876 733.998 Q140.774 737.193 135.126 742.957 Z\" fill=\"#000000\" fill-rule=\"evenodd\" fill-opacity=\"1\" /><path clip-path=\"url(#clip170)\" d=\"M 0 0 M166.515 715.41 Q162.903 715.41 161.075 718.975 Q159.269 722.517 159.269 729.647 Q159.269 736.753 161.075 740.318 Q162.903 743.859 166.515 743.859 Q170.149 743.859 171.954 740.318 Q173.783 736.753 173.783 729.647 Q173.783 722.517 171.954 718.975 Q170.149 715.41 166.515 715.41 M166.515 711.707 Q172.325 711.707 175.38 716.313 Q178.459 720.897 178.459 729.647 Q178.459 738.373 175.38 742.98 Q172.325 747.563 166.515 747.563 Q160.704 747.563 157.626 742.98 Q154.57 738.373 154.57 729.647 Q154.57 720.897 157.626 716.313 Q160.704 711.707 166.515 711.707 Z\" fill=\"#000000\" fill-rule=\"evenodd\" fill-opacity=\"1\" /><path clip-path=\"url(#clip170)\" d=\"M 0 0 M193.528 715.41 Q189.917 715.41 188.089 718.975 Q186.283 722.517 186.283 729.647 Q186.283 736.753 188.089 740.318 Q189.917 743.859 193.528 743.859 Q197.163 743.859 198.968 740.318 Q200.797 736.753 200.797 729.647 Q200.797 722.517 198.968 718.975 Q197.163 715.41 193.528 715.41 M193.528 711.707 Q199.338 711.707 202.394 716.313 Q205.473 720.897 205.473 729.647 Q205.473 738.373 202.394 742.98 Q199.338 747.563 193.528 747.563 Q187.718 747.563 184.639 742.98 Q181.584 738.373 181.584 729.647 Q181.584 720.897 184.639 716.313 Q187.718 711.707 193.528 711.707 Z\" fill=\"#000000\" fill-rule=\"evenodd\" fill-opacity=\"1\" /><path clip-path=\"url(#clip170)\" d=\"M 0 0 M220.542 715.41 Q216.931 715.41 215.102 718.975 Q213.297 722.517 213.297 729.647 Q213.297 736.753 215.102 740.318 Q216.931 743.859 220.542 743.859 Q224.176 743.859 225.982 740.318 Q227.811 736.753 227.811 729.647 Q227.811 722.517 225.982 718.975 Q224.176 715.41 220.542 715.41 M220.542 711.707 Q226.352 711.707 229.408 716.313 Q232.486 720.897 232.486 729.647 Q232.486 738.373 229.408 742.98 Q226.352 747.563 220.542 747.563 Q214.732 747.563 211.653 742.98 Q208.598 738.373 208.598 729.647 Q208.598 720.897 211.653 716.313 Q214.732 711.707 220.542 711.707 Z\" fill=\"#000000\" fill-rule=\"evenodd\" fill-opacity=\"1\" /><path clip-path=\"url(#clip170)\" d=\"M 0 0 M144.316 476.378 Q147.672 477.095 149.547 479.364 Q151.445 481.632 151.445 484.966 Q151.445 490.082 147.927 492.882 Q144.408 495.683 137.927 495.683 Q135.751 495.683 133.436 495.244 Q131.144 494.827 128.691 493.97 L128.691 489.457 Q130.635 490.591 132.95 491.169 Q135.265 491.748 137.788 491.748 Q142.186 491.748 144.478 490.012 Q146.792 488.276 146.792 484.966 Q146.792 481.91 144.64 480.197 Q142.51 478.461 138.691 478.461 L134.663 478.461 L134.663 474.619 L138.876 474.619 Q142.325 474.619 144.154 473.253 Q145.982 471.864 145.982 469.271 Q145.982 466.609 144.084 465.197 Q142.209 463.762 138.691 463.762 Q136.769 463.762 134.57 464.179 Q132.371 464.596 129.732 465.475 L129.732 461.309 Q132.394 460.568 134.709 460.197 Q137.047 459.827 139.107 459.827 Q144.431 459.827 147.533 462.258 Q150.635 464.665 150.635 468.785 Q150.635 471.656 148.992 473.646 Q147.348 475.614 144.316 476.378 Z\" fill=\"#000000\" fill-rule=\"evenodd\" fill-opacity=\"1\" /><path clip-path=\"url(#clip170)\" d=\"M 0 0 M166.515 463.531 Q162.903 463.531 161.075 467.096 Q159.269 470.637 159.269 477.767 Q159.269 484.873 161.075 488.438 Q162.903 491.98 166.515 491.98 Q170.149 491.98 171.954 488.438 Q173.783 484.873 173.783 477.767 Q173.783 470.637 171.954 467.096 Q170.149 463.531 166.515 463.531 M166.515 459.827 Q172.325 459.827 175.38 464.434 Q178.459 469.017 178.459 477.767 Q178.459 486.494 175.38 491.1 Q172.325 495.683 166.515 495.683 Q160.704 495.683 157.626 491.1 Q154.57 486.494 154.57 477.767 Q154.57 469.017 157.626 464.434 Q160.704 459.827 166.515 459.827 Z\" fill=\"#000000\" fill-rule=\"evenodd\" fill-opacity=\"1\" /><path clip-path=\"url(#clip170)\" d=\"M 0 0 M193.528 463.531 Q189.917 463.531 188.089 467.096 Q186.283 470.637 186.283 477.767 Q186.283 484.873 188.089 488.438 Q189.917 491.98 193.528 491.98 Q197.163 491.98 198.968 488.438 Q200.797 484.873 200.797 477.767 Q200.797 470.637 198.968 467.096 Q197.163 463.531 193.528 463.531 M193.528 459.827 Q199.338 459.827 202.394 464.434 Q205.473 469.017 205.473 477.767 Q205.473 486.494 202.394 491.1 Q199.338 495.683 193.528 495.683 Q187.718 495.683 184.639 491.1 Q181.584 486.494 181.584 477.767 Q181.584 469.017 184.639 464.434 Q187.718 459.827 193.528 459.827 Z\" fill=\"#000000\" fill-rule=\"evenodd\" fill-opacity=\"1\" /><path clip-path=\"url(#clip170)\" d=\"M 0 0 M220.542 463.531 Q216.931 463.531 215.102 467.096 Q213.297 470.637 213.297 477.767 Q213.297 484.873 215.102 488.438 Q216.931 491.98 220.542 491.98 Q224.176 491.98 225.982 488.438 Q227.811 484.873 227.811 477.767 Q227.811 470.637 225.982 467.096 Q224.176 463.531 220.542 463.531 M220.542 459.827 Q226.352 459.827 229.408 464.434 Q232.486 469.017 232.486 477.767 Q232.486 486.494 229.408 491.1 Q226.352 495.683 220.542 495.683 Q214.732 495.683 211.653 491.1 Q208.598 486.494 208.598 477.767 Q208.598 469.017 211.653 464.434 Q214.732 459.827 220.542 459.827 Z\" fill=\"#000000\" fill-rule=\"evenodd\" fill-opacity=\"1\" /><path clip-path=\"url(#clip170)\" d=\"M 0 0 M141.862 212.646 L130.056 231.095 L141.862 231.095 L141.862 212.646 M140.635 208.572 L146.515 208.572 L146.515 231.095 L151.445 231.095 L151.445 234.984 L146.515 234.984 L146.515 243.132 L141.862 243.132 L141.862 234.984 L126.26 234.984 L126.26 230.47 L140.635 208.572 Z\" fill=\"#000000\" fill-rule=\"evenodd\" fill-opacity=\"1\" /><path clip-path=\"url(#clip170)\" d=\"M 0 0 M166.515 211.651 Q162.903 211.651 161.075 215.216 Q159.269 218.757 159.269 225.887 Q159.269 232.993 161.075 236.558 Q162.903 240.1 166.515 240.1 Q170.149 240.1 171.954 236.558 Q173.783 232.993 173.783 225.887 Q173.783 218.757 171.954 215.216 Q170.149 211.651 166.515 211.651 M166.515 207.947 Q172.325 207.947 175.38 212.554 Q178.459 217.137 178.459 225.887 Q178.459 234.614 175.38 239.22 Q172.325 243.804 166.515 243.804 Q160.704 243.804 157.626 239.22 Q154.57 234.614 154.57 225.887 Q154.57 217.137 157.626 212.554 Q160.704 207.947 166.515 207.947 Z\" fill=\"#000000\" fill-rule=\"evenodd\" fill-opacity=\"1\" /><path clip-path=\"url(#clip170)\" d=\"M 0 0 M193.528 211.651 Q189.917 211.651 188.089 215.216 Q186.283 218.757 186.283 225.887 Q186.283 232.993 188.089 236.558 Q189.917 240.1 193.528 240.1 Q197.163 240.1 198.968 236.558 Q200.797 232.993 200.797 225.887 Q200.797 218.757 198.968 215.216 Q197.163 211.651 193.528 211.651 M193.528 207.947 Q199.338 207.947 202.394 212.554 Q205.473 217.137 205.473 225.887 Q205.473 234.614 202.394 239.22 Q199.338 243.804 193.528 243.804 Q187.718 243.804 184.639 239.22 Q181.584 234.614 181.584 225.887 Q181.584 217.137 184.639 212.554 Q187.718 207.947 193.528 207.947 Z\" fill=\"#000000\" fill-rule=\"evenodd\" fill-opacity=\"1\" /><path clip-path=\"url(#clip170)\" d=\"M 0 0 M220.542 211.651 Q216.931 211.651 215.102 215.216 Q213.297 218.757 213.297 225.887 Q213.297 232.993 215.102 236.558 Q216.931 240.1 220.542 240.1 Q224.176 240.1 225.982 236.558 Q227.811 232.993 227.811 225.887 Q227.811 218.757 225.982 215.216 Q224.176 211.651 220.542 211.651 M220.542 207.947 Q226.352 207.947 229.408 212.554 Q232.486 217.137 232.486 225.887 Q232.486 234.614 229.408 239.22 Q226.352 243.804 220.542 243.804 Q214.732 243.804 211.653 239.22 Q208.598 234.614 208.598 225.887 Q208.598 217.137 211.653 212.554 Q214.732 207.947 220.542 207.947 Z\" fill=\"#000000\" fill-rule=\"evenodd\" fill-opacity=\"1\" /><path clip-path=\"url(#clip170)\" d=\"M 0 0 M999.284 12.096 L1010.3 12.096 L1037.12 62.6918 L1037.12 12.096 L1045.06 12.096 L1045.06 72.576 L1034.04 72.576 L1007.22 21.9802 L1007.22 72.576 L999.284 72.576 L999.284 12.096 Z\" fill=\"#000000\" fill-rule=\"evenodd\" fill-opacity=\"1\" /><path clip-path=\"url(#clip170)\" d=\"M 0 0 M1091.69 48.0275 L1091.69 51.6733 L1057.41 51.6733 Q1057.9 59.3701 1062.03 63.421 Q1066.21 67.4314 1073.62 67.4314 Q1077.91 67.4314 1081.92 66.3781 Q1085.97 65.3249 1089.94 63.2184 L1089.94 70.267 Q1085.93 71.9684 1081.72 72.8596 Q1077.51 73.7508 1073.17 73.7508 Q1062.32 73.7508 1055.96 67.4314 Q1049.64 61.1119 1049.64 50.3365 Q1049.64 39.1965 1055.63 32.6746 Q1061.67 26.1121 1071.88 26.1121 Q1081.03 26.1121 1086.34 32.0264 Q1091.69 37.9003 1091.69 48.0275 M1084.23 45.84 Q1084.15 39.7232 1080.79 36.0774 Q1077.47 32.4315 1071.96 32.4315 Q1065.72 32.4315 1061.95 35.9558 Q1058.22 39.4801 1057.66 45.8805 L1084.23 45.84 Z\" fill=\"#000000\" fill-rule=\"evenodd\" fill-opacity=\"1\" /><path clip-path=\"url(#clip170)\" d=\"M 0 0 M1095.17 27.2059 L1102.62 27.2059 L1111.94 62.6108 L1121.22 27.2059 L1130.01 27.2059 L1139.32 62.6108 L1148.6 27.2059 L1156.05 27.2059 L1144.19 72.576 L1135.39 72.576 L1125.63 35.3887 L1115.83 72.576 L1107.04 72.576 L1095.17 27.2059 Z\" fill=\"#000000\" fill-rule=\"evenodd\" fill-opacity=\"1\" /><path clip-path=\"url(#clip170)\" d=\"M 0 0 M1198.75 18.8205 L1198.75 65.8515 L1208.63 65.8515 Q1221.15 65.8515 1226.95 60.1802 Q1232.78 54.509 1232.78 42.2752 Q1232.78 30.1225 1226.95 24.4918 Q1221.15 18.8205 1208.63 18.8205 L1198.75 18.8205 M1190.57 12.096 L1207.38 12.096 Q1224.96 12.096 1233.18 19.4281 Q1241.41 26.7198 1241.41 42.2752 Q1241.41 57.9117 1233.14 65.2439 Q1224.88 72.576 1207.38 72.576 L1190.57 72.576 L1190.57 12.096 Z\" fill=\"#000000\" fill-rule=\"evenodd\" fill-opacity=\"1\" /><path clip-path=\"url(#clip170)\" d=\"M 0 0 M1269.84 49.7694 Q1260.81 49.7694 1257.33 51.8354 Q1253.84 53.9013 1253.84 58.8839 Q1253.84 62.8538 1256.44 65.2034 Q1259.07 67.5124 1263.57 67.5124 Q1269.76 67.5124 1273.49 63.1374 Q1277.26 58.7219 1277.26 51.4303 L1277.26 49.7694 L1269.84 49.7694 M1284.71 46.6907 L1284.71 72.576 L1277.26 72.576 L1277.26 65.6895 Q1274.71 69.8214 1270.9 71.8063 Q1267.09 73.7508 1261.58 73.7508 Q1254.61 73.7508 1250.48 69.8619 Q1246.39 65.9325 1246.39 59.3701 Q1246.39 51.7138 1251.49 47.825 Q1256.64 43.9361 1266.81 43.9361 L1277.26 43.9361 L1277.26 43.2069 Q1277.26 38.0623 1273.85 35.2672 Q1270.49 32.4315 1264.38 32.4315 Q1260.49 32.4315 1256.8 33.3632 Q1253.11 34.295 1249.71 36.1584 L1249.71 29.2718 Q1253.8 27.692 1257.65 26.9223 Q1261.5 26.1121 1265.15 26.1121 Q1274.99 26.1121 1279.85 31.2163 Q1284.71 36.3204 1284.71 46.6907 Z\" fill=\"#000000\" fill-rule=\"evenodd\" fill-opacity=\"1\" /><path clip-path=\"url(#clip170)\" d=\"M 0 0 M1292.53 27.2059 L1299.98 27.2059 L1299.98 72.576 L1292.53 72.576 L1292.53 27.2059 M1292.53 9.54393 L1299.98 9.54393 L1299.98 18.9825 L1292.53 18.9825 L1292.53 9.54393 Z\" fill=\"#000000\" fill-rule=\"evenodd\" fill-opacity=\"1\" /><path clip-path=\"url(#clip170)\" d=\"M 0 0 M1307.8 9.54393 L1315.25 9.54393 L1315.25 72.576 L1307.8 72.576 L1307.8 9.54393 Z\" fill=\"#000000\" fill-rule=\"evenodd\" fill-opacity=\"1\" /><path clip-path=\"url(#clip170)\" d=\"M 0 0 M1341.95 76.7889 Q1338.79 84.8907 1335.79 87.3618 Q1332.8 89.8329 1327.77 89.8329 L1321.82 89.8329 L1321.82 83.5945 L1326.19 83.5945 Q1329.27 83.5945 1330.97 82.1361 Q1332.67 80.6778 1334.74 75.2496 L1336.08 71.8468 L1317.73 27.2059 L1325.63 27.2059 L1339.8 62.6918 L1353.98 27.2059 L1361.88 27.2059 L1341.95 76.7889 Z\" fill=\"#000000\" fill-rule=\"evenodd\" fill-opacity=\"1\" /><path clip-path=\"url(#clip170)\" d=\"M 0 0 M1441.68 16.7545 L1441.68 25.383 Q1437.55 21.5346 1432.85 19.6307 Q1428.19 17.7268 1422.93 17.7268 Q1412.56 17.7268 1407.05 24.0867 Q1401.54 30.4061 1401.54 42.3968 Q1401.54 54.3469 1407.05 60.7069 Q1412.56 67.0263 1422.93 67.0263 Q1428.19 67.0263 1432.85 65.1223 Q1437.55 63.2184 1441.68 59.3701 L1441.68 67.9175 Q1437.39 70.8341 1432.57 72.2924 Q1427.79 73.7508 1422.44 73.7508 Q1408.71 73.7508 1400.81 65.3654 Q1392.91 56.9395 1392.91 42.3968 Q1392.91 27.8135 1400.81 19.4281 Q1408.71 11.0023 1422.44 11.0023 Q1427.87 11.0023 1432.65 12.4606 Q1437.47 13.8784 1441.68 16.7545 Z\" fill=\"#000000\" fill-rule=\"evenodd\" fill-opacity=\"1\" /><path clip-path=\"url(#clip170)\" d=\"M 0 0 M1470.12 49.7694 Q1461.09 49.7694 1457.6 51.8354 Q1454.12 53.9013 1454.12 58.8839 Q1454.12 62.8538 1456.71 65.2034 Q1459.35 67.5124 1463.84 67.5124 Q1470.04 67.5124 1473.77 63.1374 Q1477.53 58.7219 1477.53 51.4303 L1477.53 49.7694 L1470.12 49.7694 M1484.99 46.6907 L1484.99 72.576 L1477.53 72.576 L1477.53 65.6895 Q1474.98 69.8214 1471.17 71.8063 Q1467.37 73.7508 1461.86 73.7508 Q1454.89 73.7508 1450.76 69.8619 Q1446.67 65.9325 1446.67 59.3701 Q1446.67 51.7138 1451.77 47.825 Q1456.91 43.9361 1467.08 43.9361 L1477.53 43.9361 L1477.53 43.2069 Q1477.53 38.0623 1474.13 35.2672 Q1470.77 32.4315 1464.65 32.4315 Q1460.76 32.4315 1457.08 33.3632 Q1453.39 34.295 1449.99 36.1584 L1449.99 29.2718 Q1454.08 27.692 1457.93 26.9223 Q1461.78 26.1121 1465.42 26.1121 Q1475.27 26.1121 1480.13 31.2163 Q1484.99 36.3204 1484.99 46.6907 Z\" fill=\"#000000\" fill-rule=\"evenodd\" fill-opacity=\"1\" /><path clip-path=\"url(#clip170)\" d=\"M 0 0 M1521.73 28.5427 L1521.73 35.5912 Q1518.57 33.9709 1515.17 33.1607 Q1511.76 32.3505 1508.12 32.3505 Q1502.57 32.3505 1499.77 34.0519 Q1497.02 35.7533 1497.02 39.156 Q1497.02 41.7486 1499 43.2475 Q1500.99 44.7058 1506.98 46.0426 L1509.54 46.6097 Q1517.48 48.3111 1520.8 51.4303 Q1524.16 54.509 1524.16 60.0587 Q1524.16 66.3781 1519.14 70.0644 Q1514.15 73.7508 1505.4 73.7508 Q1501.76 73.7508 1497.79 73.0216 Q1493.86 72.3329 1489.48 70.9151 L1489.48 63.2184 Q1493.62 65.3654 1497.63 66.4591 Q1501.64 67.5124 1505.57 67.5124 Q1510.83 67.5124 1513.67 65.73 Q1516.5 63.9071 1516.5 60.6258 Q1516.5 57.5877 1514.44 55.9673 Q1512.41 54.3469 1505.49 52.8481 L1502.89 52.2405 Q1495.97 50.7821 1492.89 47.7845 Q1489.81 44.7463 1489.81 39.4801 Q1489.81 33.0797 1494.35 29.5959 Q1498.88 26.1121 1507.23 26.1121 Q1511.36 26.1121 1515 26.7198 Q1518.65 27.3274 1521.73 28.5427 Z\" fill=\"#000000\" fill-rule=\"evenodd\" fill-opacity=\"1\" /><path clip-path=\"url(#clip170)\" d=\"M 0 0 M1570.79 48.0275 L1570.79 51.6733 L1536.52 51.6733 Q1537 59.3701 1541.13 63.421 Q1545.31 67.4314 1552.72 67.4314 Q1557.01 67.4314 1561.02 66.3781 Q1565.07 65.3249 1569.04 63.2184 L1569.04 70.267 Q1565.03 71.9684 1560.82 72.8596 Q1556.61 73.7508 1552.27 73.7508 Q1541.42 73.7508 1535.06 67.4314 Q1528.74 61.1119 1528.74 50.3365 Q1528.74 39.1965 1534.73 32.6746 Q1540.77 26.1121 1550.98 26.1121 Q1560.13 26.1121 1565.44 32.0264 Q1570.79 37.9003 1570.79 48.0275 M1563.33 45.84 Q1563.25 39.7232 1559.89 36.0774 Q1556.57 32.4315 1551.06 32.4315 Q1544.82 32.4315 1541.05 35.9558 Q1537.33 39.4801 1536.76 45.8805 L1563.33 45.84 Z\" fill=\"#000000\" fill-rule=\"evenodd\" fill-opacity=\"1\" /><path clip-path=\"url(#clip170)\" d=\"M 0 0 M1607.53 28.5427 L1607.53 35.5912 Q1604.37 33.9709 1600.97 33.1607 Q1597.56 32.3505 1593.92 32.3505 Q1588.37 32.3505 1585.57 34.0519 Q1582.82 35.7533 1582.82 39.156 Q1582.82 41.7486 1584.8 43.2475 Q1586.79 44.7058 1592.78 46.0426 L1595.33 46.6097 Q1603.27 48.3111 1606.6 51.4303 Q1609.96 54.509 1609.96 60.0587 Q1609.96 66.3781 1604.93 70.0644 Q1599.95 73.7508 1591.2 73.7508 Q1587.56 73.7508 1583.59 73.0216 Q1579.66 72.3329 1575.28 70.9151 L1575.28 63.2184 Q1579.41 65.3654 1583.42 66.4591 Q1587.44 67.5124 1591.36 67.5124 Q1596.63 67.5124 1599.47 65.73 Q1602.3 63.9071 1602.3 60.6258 Q1602.3 57.5877 1600.24 55.9673 Q1598.21 54.3469 1591.28 52.8481 L1588.69 52.2405 Q1581.76 50.7821 1578.69 47.7845 Q1575.61 44.7463 1575.61 39.4801 Q1575.61 33.0797 1580.14 29.5959 Q1584.68 26.1121 1593.03 26.1121 Q1597.16 26.1121 1600.8 26.7198 Q1604.45 27.3274 1607.53 28.5427 Z\" fill=\"#000000\" fill-rule=\"evenodd\" fill-opacity=\"1\" /><path clip-path=\"url(#clip170)\" d=\"M 0 0 M1204.52 102.816 L1212.71 102.816 L1212.71 163.296 L1204.52 163.296 L1204.52 102.816 Z\" fill=\"#000000\" fill-rule=\"evenodd\" fill-opacity=\"1\" /><path clip-path=\"url(#clip170)\" d=\"M 0 0 M1220.52 100.264 L1227.98 100.264 L1227.98 163.296 L1220.52 163.296 L1220.52 100.264 Z\" fill=\"#000000\" fill-rule=\"evenodd\" fill-opacity=\"1\" /><path clip-path=\"url(#clip170)\" d=\"M 0 0 M1235.8 100.264 L1243.25 100.264 L1243.25 163.296 L1235.8 163.296 L1235.8 100.264 Z\" fill=\"#000000\" fill-rule=\"evenodd\" fill-opacity=\"1\" /><path clip-path=\"url(#clip170)\" d=\"M 0 0 M1251.07 117.926 L1258.52 117.926 L1258.52 163.296 L1251.07 163.296 L1251.07 117.926 M1251.07 100.264 L1258.52 100.264 L1258.52 109.703 L1251.07 109.703 L1251.07 100.264 Z\" fill=\"#000000\" fill-rule=\"evenodd\" fill-opacity=\"1\" /><path clip-path=\"url(#clip170)\" d=\"M 0 0 M1304.05 135.912 L1304.05 163.296 L1296.6 163.296 L1296.6 136.155 Q1296.6 129.714 1294.09 126.514 Q1291.58 123.314 1286.55 123.314 Q1280.52 123.314 1277.03 127.162 Q1273.55 131.01 1273.55 137.654 L1273.55 163.296 L1266.06 163.296 L1266.06 117.926 L1273.55 117.926 L1273.55 124.974 Q1276.22 120.883 1279.83 118.858 Q1283.48 116.832 1288.22 116.832 Q1296.03 116.832 1300.04 121.693 Q1304.05 126.514 1304.05 135.912 Z\" fill=\"#000000\" fill-rule=\"evenodd\" fill-opacity=\"1\" /><path clip-path=\"url(#clip170)\" d=\"M 0 0 M1329.45 123.152 Q1323.46 123.152 1319.97 127.851 Q1316.49 132.509 1316.49 140.651 Q1316.49 148.794 1319.93 153.493 Q1323.42 158.151 1329.45 158.151 Q1335.41 158.151 1338.89 153.452 Q1342.38 148.753 1342.38 140.651 Q1342.38 132.59 1338.89 127.891 Q1335.41 123.152 1329.45 123.152 M1329.45 116.832 Q1339.18 116.832 1344.73 123.152 Q1350.27 129.471 1350.27 140.651 Q1350.27 151.791 1344.73 158.151 Q1339.18 164.471 1329.45 164.471 Q1319.69 164.471 1314.14 158.151 Q1308.63 151.791 1308.63 140.651 Q1308.63 129.471 1314.14 123.152 Q1319.69 116.832 1329.45 116.832 Z\" fill=\"#000000\" fill-rule=\"evenodd\" fill-opacity=\"1\" /><path clip-path=\"url(#clip170)\" d=\"M 0 0 M1358.09 117.926 L1365.55 117.926 L1365.55 163.296 L1358.09 163.296 L1358.09 117.926 M1358.09 100.264 L1365.55 100.264 L1365.55 109.703 L1358.09 109.703 L1358.09 100.264 Z\" fill=\"#000000\" fill-rule=\"evenodd\" fill-opacity=\"1\" /><path clip-path=\"url(#clip170)\" d=\"M 0 0 M1402.29 119.263 L1402.29 126.311 Q1399.13 124.691 1395.73 123.881 Q1392.32 123.071 1388.68 123.071 Q1383.13 123.071 1380.33 124.772 Q1377.58 126.473 1377.58 129.876 Q1377.58 132.469 1379.56 133.967 Q1381.55 135.426 1387.54 136.763 L1390.1 137.33 Q1398.04 139.031 1401.36 142.15 Q1404.72 145.229 1404.72 150.779 Q1404.72 157.098 1399.7 160.784 Q1394.71 164.471 1385.96 164.471 Q1382.32 164.471 1378.35 163.742 Q1374.42 163.053 1370.04 161.635 L1370.04 153.938 Q1374.18 156.085 1378.19 157.179 Q1382.2 158.232 1386.13 158.232 Q1391.39 158.232 1394.23 156.45 Q1397.06 154.627 1397.06 151.346 Q1397.06 148.308 1395 146.687 Q1392.97 145.067 1386.04 143.568 L1383.45 142.96 Q1376.52 141.502 1373.45 138.504 Q1370.37 135.466 1370.37 130.2 Q1370.37 123.8 1374.9 120.316 Q1379.44 116.832 1387.79 116.832 Q1391.92 116.832 1395.56 117.44 Q1399.21 118.047 1402.29 119.263 Z\" fill=\"#000000\" fill-rule=\"evenodd\" fill-opacity=\"1\" /><path clip-path=\"url(#clip170)\" d=\"M 0 0 M1243.75 1508.28 L1243.75 1545.24 L1251.52 1545.24 Q1261.35 1545.24 1265.9 1540.78 Q1270.49 1536.32 1270.49 1526.71 Q1270.49 1517.16 1265.9 1512.74 Q1261.35 1508.28 1251.52 1508.28 L1243.75 1508.28 M1237.32 1503 L1250.53 1503 Q1264.34 1503 1270.8 1508.76 Q1277.26 1514.49 1277.26 1526.71 Q1277.26 1539 1270.77 1544.76 Q1264.28 1550.52 1250.53 1550.52 L1237.32 1550.52 L1237.32 1503 Z\" fill=\"#000000\" fill-rule=\"evenodd\" fill-opacity=\"1\" /><path clip-path=\"url(#clip170)\" d=\"M 0 0 M1299.61 1532.6 Q1292.51 1532.6 1289.77 1534.22 Q1287.04 1535.85 1287.04 1539.76 Q1287.04 1542.88 1289.07 1544.73 Q1291.14 1546.54 1294.67 1546.54 Q1299.54 1546.54 1302.47 1543.1 Q1305.43 1539.63 1305.43 1533.91 L1305.43 1532.6 L1299.61 1532.6 M1311.29 1530.18 L1311.29 1550.52 L1305.43 1550.52 L1305.43 1545.11 Q1303.43 1548.36 1300.44 1549.92 Q1297.44 1551.44 1293.12 1551.44 Q1287.64 1551.44 1284.39 1548.39 Q1281.18 1545.3 1281.18 1540.14 Q1281.18 1534.13 1285.19 1531.07 Q1289.23 1528.02 1297.22 1528.02 L1305.43 1528.02 L1305.43 1527.44 Q1305.43 1523.4 1302.76 1521.21 Q1300.12 1518.98 1295.31 1518.98 Q1292.26 1518.98 1289.36 1519.71 Q1286.46 1520.44 1283.79 1521.91 L1283.79 1516.5 Q1287 1515.25 1290.03 1514.65 Q1293.05 1514.01 1295.92 1514.01 Q1303.65 1514.01 1307.47 1518.02 Q1311.29 1522.03 1311.29 1530.18 Z\" fill=\"#000000\" fill-rule=\"evenodd\" fill-opacity=\"1\" /><path clip-path=\"url(#clip170)\" d=\"M 0 0 M1323.22 1504.75 L1323.22 1514.87 L1335.29 1514.87 L1335.29 1519.42 L1323.22 1519.42 L1323.22 1538.78 Q1323.22 1543.14 1324.4 1544.38 Q1325.61 1545.62 1329.27 1545.62 L1335.29 1545.62 L1335.29 1550.52 L1329.27 1550.52 Q1322.49 1550.52 1319.91 1548.01 Q1317.34 1545.46 1317.34 1538.78 L1317.34 1519.42 L1313.04 1519.42 L1313.04 1514.87 L1317.34 1514.87 L1317.34 1504.75 L1323.22 1504.75 Z\" fill=\"#000000\" fill-rule=\"evenodd\" fill-opacity=\"1\" /><path clip-path=\"url(#clip170)\" d=\"M 0 0 M1371.92 1531.23 L1371.92 1534.1 L1345 1534.1 Q1345.38 1540.14 1348.62 1543.33 Q1351.9 1546.48 1357.73 1546.48 Q1361.1 1546.48 1364.25 1545.65 Q1367.43 1544.82 1370.55 1543.17 L1370.55 1548.71 Q1367.4 1550.04 1364.09 1550.74 Q1360.78 1551.44 1357.38 1551.44 Q1348.85 1551.44 1343.85 1546.48 Q1338.88 1541.51 1338.88 1533.05 Q1338.88 1524.29 1343.6 1519.17 Q1348.34 1514.01 1356.36 1514.01 Q1363.55 1514.01 1367.72 1518.66 Q1371.92 1523.27 1371.92 1531.23 M1366.07 1529.51 Q1366 1524.71 1363.36 1521.84 Q1360.75 1518.98 1356.42 1518.98 Q1351.52 1518.98 1348.56 1521.75 Q1345.63 1524.52 1345.19 1529.54 L1366.07 1529.51 Z\" fill=\"#000000\" fill-rule=\"evenodd\" fill-opacity=\"1\" /><path clip-path=\"url(#clip170)\" d=\"M 0 0 M40.4842 882.992 L40.4842 874.334 L80.238 853.264 L40.4842 853.264 L40.4842 847.025 L88.0042 847.025 L88.0042 855.683 L48.2503 876.753 L88.0042 876.753 L88.0042 882.992 L40.4842 882.992 Z\" fill=\"#000000\" fill-rule=\"evenodd\" fill-opacity=\"1\" /><path clip-path=\"url(#clip170)\" d=\"M 0 0 M68.7161 810.391 L71.5806 810.391 L71.5806 837.318 Q77.6281 836.936 80.8109 833.689 Q83.9619 830.411 83.9619 824.586 Q83.9619 821.212 83.1344 818.061 Q82.3069 814.879 80.6518 811.759 L86.1899 811.759 Q87.5267 814.91 88.227 818.221 Q88.9272 821.531 88.9272 824.936 Q88.9272 833.466 83.9619 838.464 Q78.9967 843.429 70.5303 843.429 Q61.7774 843.429 56.6531 838.718 Q51.4968 833.976 51.4968 825.955 Q51.4968 818.762 56.1438 814.592 Q60.7589 810.391 68.7161 810.391 M66.9973 816.247 Q62.1912 816.311 59.3266 818.953 Q56.4621 821.563 56.4621 825.891 Q56.4621 830.793 59.2312 833.753 Q62.0002 836.681 67.0292 837.127 L66.9973 816.247 Z\" fill=\"#000000\" fill-rule=\"evenodd\" fill-opacity=\"1\" /><path clip-path=\"url(#clip170)\" d=\"M 0 0 M52.3562 807.654 L52.3562 801.797 L80.1743 794.477 L52.3562 787.188 L52.3562 780.281 L80.1743 772.96 L52.3562 765.672 L52.3562 759.815 L88.0042 769.141 L88.0042 776.048 L58.7856 783.718 L88.0042 791.421 L88.0042 798.328 L52.3562 807.654 Z\" fill=\"#000000\" fill-rule=\"evenodd\" fill-opacity=\"1\" /><path clip-path=\"url(#clip170)\" d=\"M 0 0 M44.1444 697.113 L50.9239 697.113 Q47.9002 700.36 46.4043 704.052 Q44.9083 707.712 44.9083 711.85 Q44.9083 719.998 49.9054 724.326 Q54.8707 728.655 64.2919 728.655 Q73.6813 728.655 78.6784 724.326 Q83.6436 719.998 83.6436 711.85 Q83.6436 707.712 82.1477 704.052 Q80.6518 700.36 77.6281 697.113 L84.3439 697.113 Q86.6355 700.487 87.7814 704.274 Q88.9272 708.03 88.9272 712.232 Q88.9272 723.021 82.3387 729.228 Q75.7183 735.435 64.2919 735.435 Q52.8336 735.435 46.2451 729.228 Q39.6248 723.021 39.6248 712.232 Q39.6248 707.967 40.7706 704.211 Q41.8846 700.423 44.1444 697.113 Z\" fill=\"#000000\" fill-rule=\"evenodd\" fill-opacity=\"1\" /><path clip-path=\"url(#clip170)\" d=\"M 0 0 M70.0847 674.769 Q70.0847 681.867 71.7079 684.604 Q73.3312 687.342 77.2461 687.342 Q80.3653 687.342 82.2114 685.305 Q84.0256 683.236 84.0256 679.703 Q84.0256 674.833 80.5881 671.905 Q77.1188 668.945 71.3897 668.945 L70.0847 668.945 L70.0847 674.769 M67.6657 663.088 L88.0042 663.088 L88.0042 668.945 L82.5933 668.945 Q85.8398 670.95 87.3994 673.942 Q88.9272 676.934 88.9272 681.262 Q88.9272 686.737 85.8716 689.983 Q82.7843 693.198 77.6281 693.198 Q71.6125 693.198 68.5569 689.188 Q65.5014 685.146 65.5014 677.157 L65.5014 668.945 L64.9285 668.945 Q60.8862 668.945 58.6901 671.618 Q56.4621 674.26 56.4621 679.066 Q56.4621 682.122 57.1941 685.018 Q57.9262 687.915 59.3903 690.588 L53.9795 690.588 Q52.7381 687.374 52.1334 684.35 Q51.4968 681.326 51.4968 678.462 Q51.4968 670.727 55.5072 666.908 Q59.5176 663.088 67.6657 663.088 Z\" fill=\"#000000\" fill-rule=\"evenodd\" fill-opacity=\"1\" /><path clip-path=\"url(#clip170)\" d=\"M 0 0 M53.4065 634.22 L58.9447 634.22 Q57.6716 636.702 57.035 639.376 Q56.3984 642.05 56.3984 644.914 Q56.3984 649.275 57.7352 651.471 Q59.072 653.635 61.7456 653.635 Q63.7826 653.635 64.9603 652.076 Q66.1061 650.516 67.1565 645.805 L67.6021 643.8 Q68.9389 637.562 71.3897 634.952 Q73.8086 632.31 78.1691 632.31 Q83.1344 632.31 86.0308 636.257 Q88.9272 640.172 88.9272 647.047 Q88.9272 649.911 88.3543 653.031 Q87.8132 656.118 86.6992 659.555 L80.6518 659.555 Q82.3387 656.309 83.198 653.158 Q84.0256 650.007 84.0256 646.919 Q84.0256 642.782 82.6251 640.554 Q81.1929 638.326 78.6147 638.326 Q76.2276 638.326 74.9545 639.949 Q73.6813 641.54 72.5037 646.983 L72.0262 649.02 Q70.8804 654.463 68.5251 656.882 Q66.138 659.301 62.0002 659.301 Q56.9713 659.301 54.2341 655.736 Q51.4968 652.171 51.4968 645.614 Q51.4968 642.368 51.9743 639.503 Q52.4517 636.639 53.4065 634.22 Z\" fill=\"#000000\" fill-rule=\"evenodd\" fill-opacity=\"1\" /><path clip-path=\"url(#clip170)\" d=\"M 0 0 M68.7161 595.676 L71.5806 595.676 L71.5806 622.602 Q77.6281 622.221 80.8109 618.974 Q83.9619 615.696 83.9619 609.871 Q83.9619 606.497 83.1344 603.346 Q82.3069 600.163 80.6518 597.044 L86.1899 597.044 Q87.5267 600.195 88.227 603.505 Q88.9272 606.815 88.9272 610.221 Q88.9272 618.751 83.9619 623.748 Q78.9967 628.714 70.5303 628.714 Q61.7774 628.714 56.6531 624.003 Q51.4968 619.26 51.4968 611.24 Q51.4968 604.046 56.1438 599.877 Q60.7589 595.676 68.7161 595.676 M66.9973 601.532 Q62.1912 601.596 59.3266 604.237 Q56.4621 606.847 56.4621 611.176 Q56.4621 616.078 59.2312 619.038 Q62.0002 621.966 67.0292 622.411 L66.9973 601.532 Z\" fill=\"#000000\" fill-rule=\"evenodd\" fill-opacity=\"1\" /><path clip-path=\"url(#clip170)\" d=\"M 0 0 M53.4065 566.807 L58.9447 566.807 Q57.6716 569.29 57.035 571.963 Q56.3984 574.637 56.3984 577.501 Q56.3984 581.862 57.7352 584.058 Q59.072 586.222 61.7456 586.222 Q63.7826 586.222 64.9603 584.663 Q66.1061 583.103 67.1565 578.393 L67.6021 576.387 Q68.9389 570.149 71.3897 567.539 Q73.8086 564.897 78.1691 564.897 Q83.1344 564.897 86.0308 568.844 Q88.9272 572.759 88.9272 579.634 Q88.9272 582.498 88.3543 585.618 Q87.8132 588.705 86.6992 592.143 L80.6518 592.143 Q82.3387 588.896 83.198 585.745 Q84.0256 582.594 84.0256 579.507 Q84.0256 575.369 82.6251 573.141 Q81.1929 570.913 78.6147 570.913 Q76.2276 570.913 74.9545 572.536 Q73.6813 574.128 72.5037 579.57 L72.0262 581.607 Q70.8804 587.05 68.5251 589.469 Q66.138 591.888 62.0002 591.888 Q56.9713 591.888 54.2341 588.323 Q51.4968 584.758 51.4968 578.202 Q51.4968 574.955 51.9743 572.091 Q52.4517 569.226 53.4065 566.807 Z\" fill=\"#000000\" fill-rule=\"evenodd\" fill-opacity=\"1\" /><path clip-path=\"url(#clip172)\" d=\"\n",
       "M371.785 1233.37 L371.785 1233.37 L383.744 1233.37 L383.744 1233.37 L371.785 1233.37 L371.785 1233.37  Z\n",
       "  \" fill=\"#009af9\" fill-rule=\"evenodd\" fill-opacity=\"1\"/>\n",
       "<polyline clip-path=\"url(#clip172)\" style=\"stroke:#000000; stroke-width:4; stroke-opacity:1; fill:none\" points=\"\n",
       "  371.785,1233.37 371.785,1233.37 383.744,1233.37 371.785,1233.37 \n",
       "  \"/>\n",
       "<path clip-path=\"url(#clip172)\" d=\"\n",
       "M386.734 1233.37 L386.734 1233.37 L398.694 1233.37 L398.694 1233.37 L386.734 1233.37 L386.734 1233.37  Z\n",
       "  \" fill=\"#009af9\" fill-rule=\"evenodd\" fill-opacity=\"1\"/>\n",
       "<polyline clip-path=\"url(#clip172)\" style=\"stroke:#000000; stroke-width:4; stroke-opacity:1; fill:none\" points=\"\n",
       "  386.734,1233.37 386.734,1233.37 398.694,1233.37 386.734,1233.37 \n",
       "  \"/>\n",
       "<path clip-path=\"url(#clip172)\" d=\"\n",
       "M401.684 1233.37 L401.684 1233.37 L413.643 1233.37 L413.643 1233.37 L401.684 1233.37 L401.684 1233.37  Z\n",
       "  \" fill=\"#009af9\" fill-rule=\"evenodd\" fill-opacity=\"1\"/>\n",
       "<polyline clip-path=\"url(#clip172)\" style=\"stroke:#000000; stroke-width:4; stroke-opacity:1; fill:none\" points=\"\n",
       "  401.684,1233.37 401.684,1233.37 413.643,1233.37 401.684,1233.37 \n",
       "  \"/>\n",
       "<path clip-path=\"url(#clip172)\" d=\"\n",
       "M416.633 1233.37 L416.633 1233.37 L428.592 1233.37 L428.592 1233.37 L416.633 1233.37 L416.633 1233.37  Z\n",
       "  \" fill=\"#009af9\" fill-rule=\"evenodd\" fill-opacity=\"1\"/>\n",
       "<polyline clip-path=\"url(#clip172)\" style=\"stroke:#000000; stroke-width:4; stroke-opacity:1; fill:none\" points=\"\n",
       "  416.633,1233.37 416.633,1233.37 428.592,1233.37 416.633,1233.37 \n",
       "  \"/>\n",
       "<path clip-path=\"url(#clip172)\" d=\"\n",
       "M431.582 1233.37 L431.582 1233.37 L443.542 1233.37 L443.542 1233.37 L431.582 1233.37 L431.582 1233.37  Z\n",
       "  \" fill=\"#009af9\" fill-rule=\"evenodd\" fill-opacity=\"1\"/>\n",
       "<polyline clip-path=\"url(#clip172)\" style=\"stroke:#000000; stroke-width:4; stroke-opacity:1; fill:none\" points=\"\n",
       "  431.582,1233.37 431.582,1233.37 443.542,1233.37 431.582,1233.37 \n",
       "  \"/>\n",
       "<path clip-path=\"url(#clip172)\" d=\"\n",
       "M446.531 1233.37 L446.531 1233.37 L458.491 1233.37 L458.491 1233.37 L446.531 1233.37 L446.531 1233.37  Z\n",
       "  \" fill=\"#009af9\" fill-rule=\"evenodd\" fill-opacity=\"1\"/>\n",
       "<polyline clip-path=\"url(#clip172)\" style=\"stroke:#000000; stroke-width:4; stroke-opacity:1; fill:none\" points=\"\n",
       "  446.531,1233.37 446.531,1233.37 458.491,1233.37 446.531,1233.37 \n",
       "  \"/>\n",
       "<path clip-path=\"url(#clip172)\" d=\"\n",
       "M461.481 1233.12 L461.481 1233.37 L473.44 1233.37 L473.44 1233.12 L461.481 1233.12 L461.481 1233.12  Z\n",
       "  \" fill=\"#009af9\" fill-rule=\"evenodd\" fill-opacity=\"1\"/>\n",
       "<polyline clip-path=\"url(#clip172)\" style=\"stroke:#000000; stroke-width:4; stroke-opacity:1; fill:none\" points=\"\n",
       "  461.481,1233.12 461.481,1233.37 473.44,1233.37 473.44,1233.12 461.481,1233.12 \n",
       "  \"/>\n",
       "<path clip-path=\"url(#clip172)\" d=\"\n",
       "M476.43 1233.37 L476.43 1233.37 L488.39 1233.37 L488.39 1233.37 L476.43 1233.37 L476.43 1233.37  Z\n",
       "  \" fill=\"#009af9\" fill-rule=\"evenodd\" fill-opacity=\"1\"/>\n",
       "<polyline clip-path=\"url(#clip172)\" style=\"stroke:#000000; stroke-width:4; stroke-opacity:1; fill:none\" points=\"\n",
       "  476.43,1233.37 476.43,1233.37 488.39,1233.37 476.43,1233.37 \n",
       "  \"/>\n",
       "<path clip-path=\"url(#clip172)\" d=\"\n",
       "M491.379 1233.37 L491.379 1233.37 L503.339 1233.37 L503.339 1233.37 L491.379 1233.37 L491.379 1233.37  Z\n",
       "  \" fill=\"#009af9\" fill-rule=\"evenodd\" fill-opacity=\"1\"/>\n",
       "<polyline clip-path=\"url(#clip172)\" style=\"stroke:#000000; stroke-width:4; stroke-opacity:1; fill:none\" points=\"\n",
       "  491.379,1233.37 491.379,1233.37 503.339,1233.37 491.379,1233.37 \n",
       "  \"/>\n",
       "<path clip-path=\"url(#clip172)\" d=\"\n",
       "M506.329 1233.37 L506.329 1233.37 L518.288 1233.37 L518.288 1233.37 L506.329 1233.37 L506.329 1233.37  Z\n",
       "  \" fill=\"#009af9\" fill-rule=\"evenodd\" fill-opacity=\"1\"/>\n",
       "<polyline clip-path=\"url(#clip172)\" style=\"stroke:#000000; stroke-width:4; stroke-opacity:1; fill:none\" points=\"\n",
       "  506.329,1233.37 506.329,1233.37 518.288,1233.37 506.329,1233.37 \n",
       "  \"/>\n",
       "<path clip-path=\"url(#clip172)\" d=\"\n",
       "M521.278 1233.37 L521.278 1233.37 L533.237 1233.37 L533.237 1233.37 L521.278 1233.37 L521.278 1233.37  Z\n",
       "  \" fill=\"#009af9\" fill-rule=\"evenodd\" fill-opacity=\"1\"/>\n",
       "<polyline clip-path=\"url(#clip172)\" style=\"stroke:#000000; stroke-width:4; stroke-opacity:1; fill:none\" points=\"\n",
       "  521.278,1233.37 521.278,1233.37 533.237,1233.37 521.278,1233.37 \n",
       "  \"/>\n",
       "<path clip-path=\"url(#clip172)\" d=\"\n",
       "M536.227 1233.37 L536.227 1233.37 L548.187 1233.37 L548.187 1233.37 L536.227 1233.37 L536.227 1233.37  Z\n",
       "  \" fill=\"#009af9\" fill-rule=\"evenodd\" fill-opacity=\"1\"/>\n",
       "<polyline clip-path=\"url(#clip172)\" style=\"stroke:#000000; stroke-width:4; stroke-opacity:1; fill:none\" points=\"\n",
       "  536.227,1233.37 536.227,1233.37 548.187,1233.37 536.227,1233.37 \n",
       "  \"/>\n",
       "<path clip-path=\"url(#clip172)\" d=\"\n",
       "M551.177 1233.37 L551.177 1233.37 L563.136 1233.37 L563.136 1233.37 L551.177 1233.37 L551.177 1233.37  Z\n",
       "  \" fill=\"#009af9\" fill-rule=\"evenodd\" fill-opacity=\"1\"/>\n",
       "<polyline clip-path=\"url(#clip172)\" style=\"stroke:#000000; stroke-width:4; stroke-opacity:1; fill:none\" points=\"\n",
       "  551.177,1233.37 551.177,1233.37 563.136,1233.37 551.177,1233.37 \n",
       "  \"/>\n",
       "<path clip-path=\"url(#clip172)\" d=\"\n",
       "M566.126 1233.37 L566.126 1233.37 L578.085 1233.37 L578.085 1233.37 L566.126 1233.37 L566.126 1233.37  Z\n",
       "  \" fill=\"#009af9\" fill-rule=\"evenodd\" fill-opacity=\"1\"/>\n",
       "<polyline clip-path=\"url(#clip172)\" style=\"stroke:#000000; stroke-width:4; stroke-opacity:1; fill:none\" points=\"\n",
       "  566.126,1233.37 566.126,1233.37 578.085,1233.37 566.126,1233.37 \n",
       "  \"/>\n",
       "<path clip-path=\"url(#clip172)\" d=\"\n",
       "M581.075 1233.37 L581.075 1233.37 L593.035 1233.37 L593.035 1233.37 L581.075 1233.37 L581.075 1233.37  Z\n",
       "  \" fill=\"#009af9\" fill-rule=\"evenodd\" fill-opacity=\"1\"/>\n",
       "<polyline clip-path=\"url(#clip172)\" style=\"stroke:#000000; stroke-width:4; stroke-opacity:1; fill:none\" points=\"\n",
       "  581.075,1233.37 581.075,1233.37 593.035,1233.37 581.075,1233.37 \n",
       "  \"/>\n",
       "<path clip-path=\"url(#clip172)\" d=\"\n",
       "M596.024 1233.37 L596.024 1233.37 L607.984 1233.37 L607.984 1233.37 L596.024 1233.37 L596.024 1233.37  Z\n",
       "  \" fill=\"#009af9\" fill-rule=\"evenodd\" fill-opacity=\"1\"/>\n",
       "<polyline clip-path=\"url(#clip172)\" style=\"stroke:#000000; stroke-width:4; stroke-opacity:1; fill:none\" points=\"\n",
       "  596.024,1233.37 596.024,1233.37 607.984,1233.37 596.024,1233.37 \n",
       "  \"/>\n",
       "<path clip-path=\"url(#clip172)\" d=\"\n",
       "M610.974 1233.37 L610.974 1233.37 L622.933 1233.37 L622.933 1233.37 L610.974 1233.37 L610.974 1233.37  Z\n",
       "  \" fill=\"#009af9\" fill-rule=\"evenodd\" fill-opacity=\"1\"/>\n",
       "<polyline clip-path=\"url(#clip172)\" style=\"stroke:#000000; stroke-width:4; stroke-opacity:1; fill:none\" points=\"\n",
       "  610.974,1233.37 610.974,1233.37 622.933,1233.37 610.974,1233.37 \n",
       "  \"/>\n",
       "<path clip-path=\"url(#clip172)\" d=\"\n",
       "M625.923 1233.37 L625.923 1233.37 L637.882 1233.37 L637.882 1233.37 L625.923 1233.37 L625.923 1233.37  Z\n",
       "  \" fill=\"#009af9\" fill-rule=\"evenodd\" fill-opacity=\"1\"/>\n",
       "<polyline clip-path=\"url(#clip172)\" style=\"stroke:#000000; stroke-width:4; stroke-opacity:1; fill:none\" points=\"\n",
       "  625.923,1233.37 625.923,1233.37 637.882,1233.37 625.923,1233.37 \n",
       "  \"/>\n",
       "<path clip-path=\"url(#clip172)\" d=\"\n",
       "M640.872 1233.37 L640.872 1233.37 L652.832 1233.37 L652.832 1233.37 L640.872 1233.37 L640.872 1233.37  Z\n",
       "  \" fill=\"#009af9\" fill-rule=\"evenodd\" fill-opacity=\"1\"/>\n",
       "<polyline clip-path=\"url(#clip172)\" style=\"stroke:#000000; stroke-width:4; stroke-opacity:1; fill:none\" points=\"\n",
       "  640.872,1233.37 640.872,1233.37 652.832,1233.37 640.872,1233.37 \n",
       "  \"/>\n",
       "<path clip-path=\"url(#clip172)\" d=\"\n",
       "M655.822 1233.37 L655.822 1233.37 L667.781 1233.37 L667.781 1233.37 L655.822 1233.37 L655.822 1233.37  Z\n",
       "  \" fill=\"#009af9\" fill-rule=\"evenodd\" fill-opacity=\"1\"/>\n",
       "<polyline clip-path=\"url(#clip172)\" style=\"stroke:#000000; stroke-width:4; stroke-opacity:1; fill:none\" points=\"\n",
       "  655.822,1233.37 655.822,1233.37 667.781,1233.37 655.822,1233.37 \n",
       "  \"/>\n",
       "<path clip-path=\"url(#clip172)\" d=\"\n",
       "M670.771 1233.37 L670.771 1233.37 L682.73 1233.37 L682.73 1233.37 L670.771 1233.37 L670.771 1233.37  Z\n",
       "  \" fill=\"#009af9\" fill-rule=\"evenodd\" fill-opacity=\"1\"/>\n",
       "<polyline clip-path=\"url(#clip172)\" style=\"stroke:#000000; stroke-width:4; stroke-opacity:1; fill:none\" points=\"\n",
       "  670.771,1233.37 670.771,1233.37 682.73,1233.37 670.771,1233.37 \n",
       "  \"/>\n",
       "<path clip-path=\"url(#clip172)\" d=\"\n",
       "M685.72 1233.37 L685.72 1233.37 L697.68 1233.37 L697.68 1233.37 L685.72 1233.37 L685.72 1233.37  Z\n",
       "  \" fill=\"#009af9\" fill-rule=\"evenodd\" fill-opacity=\"1\"/>\n",
       "<polyline clip-path=\"url(#clip172)\" style=\"stroke:#000000; stroke-width:4; stroke-opacity:1; fill:none\" points=\"\n",
       "  685.72,1233.37 685.72,1233.37 697.68,1233.37 685.72,1233.37 \n",
       "  \"/>\n",
       "<path clip-path=\"url(#clip172)\" d=\"\n",
       "M700.67 1233.37 L700.67 1233.37 L712.629 1233.37 L712.629 1233.37 L700.67 1233.37 L700.67 1233.37  Z\n",
       "  \" fill=\"#009af9\" fill-rule=\"evenodd\" fill-opacity=\"1\"/>\n",
       "<polyline clip-path=\"url(#clip172)\" style=\"stroke:#000000; stroke-width:4; stroke-opacity:1; fill:none\" points=\"\n",
       "  700.67,1233.37 700.67,1233.37 712.629,1233.37 700.67,1233.37 \n",
       "  \"/>\n",
       "<path clip-path=\"url(#clip172)\" d=\"\n",
       "M715.619 1233.37 L715.619 1233.37 L727.578 1233.37 L727.578 1233.37 L715.619 1233.37 L715.619 1233.37  Z\n",
       "  \" fill=\"#009af9\" fill-rule=\"evenodd\" fill-opacity=\"1\"/>\n",
       "<polyline clip-path=\"url(#clip172)\" style=\"stroke:#000000; stroke-width:4; stroke-opacity:1; fill:none\" points=\"\n",
       "  715.619,1233.37 715.619,1233.37 727.578,1233.37 715.619,1233.37 \n",
       "  \"/>\n",
       "<path clip-path=\"url(#clip172)\" d=\"\n",
       "M730.568 1233.37 L730.568 1233.37 L742.528 1233.37 L742.528 1233.37 L730.568 1233.37 L730.568 1233.37  Z\n",
       "  \" fill=\"#009af9\" fill-rule=\"evenodd\" fill-opacity=\"1\"/>\n",
       "<polyline clip-path=\"url(#clip172)\" style=\"stroke:#000000; stroke-width:4; stroke-opacity:1; fill:none\" points=\"\n",
       "  730.568,1233.37 730.568,1233.37 742.528,1233.37 730.568,1233.37 \n",
       "  \"/>\n",
       "<path clip-path=\"url(#clip172)\" d=\"\n",
       "M745.517 1233.37 L745.517 1233.37 L757.477 1233.37 L757.477 1233.37 L745.517 1233.37 L745.517 1233.37  Z\n",
       "  \" fill=\"#009af9\" fill-rule=\"evenodd\" fill-opacity=\"1\"/>\n",
       "<polyline clip-path=\"url(#clip172)\" style=\"stroke:#000000; stroke-width:4; stroke-opacity:1; fill:none\" points=\"\n",
       "  745.517,1233.37 745.517,1233.37 757.477,1233.37 745.517,1233.37 \n",
       "  \"/>\n",
       "<path clip-path=\"url(#clip172)\" d=\"\n",
       "M760.467 1233.37 L760.467 1233.37 L772.426 1233.37 L772.426 1233.37 L760.467 1233.37 L760.467 1233.37  Z\n",
       "  \" fill=\"#009af9\" fill-rule=\"evenodd\" fill-opacity=\"1\"/>\n",
       "<polyline clip-path=\"url(#clip172)\" style=\"stroke:#000000; stroke-width:4; stroke-opacity:1; fill:none\" points=\"\n",
       "  760.467,1233.37 760.467,1233.37 772.426,1233.37 760.467,1233.37 \n",
       "  \"/>\n",
       "<path clip-path=\"url(#clip172)\" d=\"\n",
       "M775.416 1233.37 L775.416 1233.37 L787.375 1233.37 L787.375 1233.37 L775.416 1233.37 L775.416 1233.37  Z\n",
       "  \" fill=\"#009af9\" fill-rule=\"evenodd\" fill-opacity=\"1\"/>\n",
       "<polyline clip-path=\"url(#clip172)\" style=\"stroke:#000000; stroke-width:4; stroke-opacity:1; fill:none\" points=\"\n",
       "  775.416,1233.37 775.416,1233.37 787.375,1233.37 775.416,1233.37 \n",
       "  \"/>\n",
       "<path clip-path=\"url(#clip172)\" d=\"\n",
       "M790.365 1233.37 L790.365 1233.37 L802.325 1233.37 L802.325 1233.37 L790.365 1233.37 L790.365 1233.37  Z\n",
       "  \" fill=\"#009af9\" fill-rule=\"evenodd\" fill-opacity=\"1\"/>\n",
       "<polyline clip-path=\"url(#clip172)\" style=\"stroke:#000000; stroke-width:4; stroke-opacity:1; fill:none\" points=\"\n",
       "  790.365,1233.37 790.365,1233.37 802.325,1233.37 790.365,1233.37 \n",
       "  \"/>\n",
       "<path clip-path=\"url(#clip172)\" d=\"\n",
       "M805.315 1233.37 L805.315 1233.37 L817.274 1233.37 L817.274 1233.37 L805.315 1233.37 L805.315 1233.37  Z\n",
       "  \" fill=\"#009af9\" fill-rule=\"evenodd\" fill-opacity=\"1\"/>\n",
       "<polyline clip-path=\"url(#clip172)\" style=\"stroke:#000000; stroke-width:4; stroke-opacity:1; fill:none\" points=\"\n",
       "  805.315,1233.37 805.315,1233.37 817.274,1233.37 805.315,1233.37 \n",
       "  \"/>\n",
       "<path clip-path=\"url(#clip172)\" d=\"\n",
       "M820.264 1233.37 L820.264 1233.37 L832.223 1233.37 L832.223 1233.37 L820.264 1233.37 L820.264 1233.37  Z\n",
       "  \" fill=\"#009af9\" fill-rule=\"evenodd\" fill-opacity=\"1\"/>\n",
       "<polyline clip-path=\"url(#clip172)\" style=\"stroke:#000000; stroke-width:4; stroke-opacity:1; fill:none\" points=\"\n",
       "  820.264,1233.37 820.264,1233.37 832.223,1233.37 820.264,1233.37 \n",
       "  \"/>\n",
       "<path clip-path=\"url(#clip172)\" d=\"\n",
       "M835.213 1233.37 L835.213 1233.37 L847.173 1233.37 L847.173 1233.37 L835.213 1233.37 L835.213 1233.37  Z\n",
       "  \" fill=\"#009af9\" fill-rule=\"evenodd\" fill-opacity=\"1\"/>\n",
       "<polyline clip-path=\"url(#clip172)\" style=\"stroke:#000000; stroke-width:4; stroke-opacity:1; fill:none\" points=\"\n",
       "  835.213,1233.37 835.213,1233.37 847.173,1233.37 835.213,1233.37 \n",
       "  \"/>\n",
       "<path clip-path=\"url(#clip172)\" d=\"\n",
       "M850.163 1233.37 L850.163 1233.37 L862.122 1233.37 L862.122 1233.37 L850.163 1233.37 L850.163 1233.37  Z\n",
       "  \" fill=\"#009af9\" fill-rule=\"evenodd\" fill-opacity=\"1\"/>\n",
       "<polyline clip-path=\"url(#clip172)\" style=\"stroke:#000000; stroke-width:4; stroke-opacity:1; fill:none\" points=\"\n",
       "  850.163,1233.37 850.163,1233.37 862.122,1233.37 850.163,1233.37 \n",
       "  \"/>\n",
       "<path clip-path=\"url(#clip172)\" d=\"\n",
       "M865.112 1233.37 L865.112 1233.37 L877.071 1233.37 L877.071 1233.37 L865.112 1233.37 L865.112 1233.37  Z\n",
       "  \" fill=\"#009af9\" fill-rule=\"evenodd\" fill-opacity=\"1\"/>\n",
       "<polyline clip-path=\"url(#clip172)\" style=\"stroke:#000000; stroke-width:4; stroke-opacity:1; fill:none\" points=\"\n",
       "  865.112,1233.37 865.112,1233.37 877.071,1233.37 865.112,1233.37 \n",
       "  \"/>\n",
       "<path clip-path=\"url(#clip172)\" d=\"\n",
       "M880.061 1233.37 L880.061 1233.37 L892.021 1233.37 L892.021 1233.37 L880.061 1233.37 L880.061 1233.37  Z\n",
       "  \" fill=\"#009af9\" fill-rule=\"evenodd\" fill-opacity=\"1\"/>\n",
       "<polyline clip-path=\"url(#clip172)\" style=\"stroke:#000000; stroke-width:4; stroke-opacity:1; fill:none\" points=\"\n",
       "  880.061,1233.37 880.061,1233.37 892.021,1233.37 880.061,1233.37 \n",
       "  \"/>\n",
       "<path clip-path=\"url(#clip172)\" d=\"\n",
       "M895.01 1233.37 L895.01 1233.37 L906.97 1233.37 L906.97 1233.37 L895.01 1233.37 L895.01 1233.37  Z\n",
       "  \" fill=\"#009af9\" fill-rule=\"evenodd\" fill-opacity=\"1\"/>\n",
       "<polyline clip-path=\"url(#clip172)\" style=\"stroke:#000000; stroke-width:4; stroke-opacity:1; fill:none\" points=\"\n",
       "  895.01,1233.37 895.01,1233.37 906.97,1233.37 895.01,1233.37 \n",
       "  \"/>\n",
       "<path clip-path=\"url(#clip172)\" d=\"\n",
       "M909.96 1233.12 L909.96 1233.37 L921.919 1233.37 L921.919 1233.12 L909.96 1233.12 L909.96 1233.12  Z\n",
       "  \" fill=\"#009af9\" fill-rule=\"evenodd\" fill-opacity=\"1\"/>\n",
       "<polyline clip-path=\"url(#clip172)\" style=\"stroke:#000000; stroke-width:4; stroke-opacity:1; fill:none\" points=\"\n",
       "  909.96,1233.12 909.96,1233.37 921.919,1233.37 921.919,1233.12 909.96,1233.12 \n",
       "  \"/>\n",
       "<path clip-path=\"url(#clip172)\" d=\"\n",
       "M924.909 1233.37 L924.909 1233.37 L936.868 1233.37 L936.868 1233.37 L924.909 1233.37 L924.909 1233.37  Z\n",
       "  \" fill=\"#009af9\" fill-rule=\"evenodd\" fill-opacity=\"1\"/>\n",
       "<polyline clip-path=\"url(#clip172)\" style=\"stroke:#000000; stroke-width:4; stroke-opacity:1; fill:none\" points=\"\n",
       "  924.909,1233.37 924.909,1233.37 936.868,1233.37 924.909,1233.37 \n",
       "  \"/>\n",
       "<path clip-path=\"url(#clip172)\" d=\"\n",
       "M939.858 1233.12 L939.858 1233.37 L951.818 1233.37 L951.818 1233.12 L939.858 1233.12 L939.858 1233.12  Z\n",
       "  \" fill=\"#009af9\" fill-rule=\"evenodd\" fill-opacity=\"1\"/>\n",
       "<polyline clip-path=\"url(#clip172)\" style=\"stroke:#000000; stroke-width:4; stroke-opacity:1; fill:none\" points=\"\n",
       "  939.858,1233.12 939.858,1233.37 951.818,1233.37 951.818,1233.12 939.858,1233.12 \n",
       "  \"/>\n",
       "<path clip-path=\"url(#clip172)\" d=\"\n",
       "M954.808 1233.37 L954.808 1233.37 L966.767 1233.37 L966.767 1233.37 L954.808 1233.37 L954.808 1233.37  Z\n",
       "  \" fill=\"#009af9\" fill-rule=\"evenodd\" fill-opacity=\"1\"/>\n",
       "<polyline clip-path=\"url(#clip172)\" style=\"stroke:#000000; stroke-width:4; stroke-opacity:1; fill:none\" points=\"\n",
       "  954.808,1233.37 954.808,1233.37 966.767,1233.37 954.808,1233.37 \n",
       "  \"/>\n",
       "<path clip-path=\"url(#clip172)\" d=\"\n",
       "M969.757 1233.37 L969.757 1233.37 L981.716 1233.37 L981.716 1233.37 L969.757 1233.37 L969.757 1233.37  Z\n",
       "  \" fill=\"#009af9\" fill-rule=\"evenodd\" fill-opacity=\"1\"/>\n",
       "<polyline clip-path=\"url(#clip172)\" style=\"stroke:#000000; stroke-width:4; stroke-opacity:1; fill:none\" points=\"\n",
       "  969.757,1233.37 969.757,1233.37 981.716,1233.37 969.757,1233.37 \n",
       "  \"/>\n",
       "<path clip-path=\"url(#clip172)\" d=\"\n",
       "M984.706 1233.12 L984.706 1233.37 L996.666 1233.37 L996.666 1233.12 L984.706 1233.12 L984.706 1233.12  Z\n",
       "  \" fill=\"#009af9\" fill-rule=\"evenodd\" fill-opacity=\"1\"/>\n",
       "<polyline clip-path=\"url(#clip172)\" style=\"stroke:#000000; stroke-width:4; stroke-opacity:1; fill:none\" points=\"\n",
       "  984.706,1233.12 984.706,1233.37 996.666,1233.37 996.666,1233.12 984.706,1233.12 \n",
       "  \"/>\n",
       "<path clip-path=\"url(#clip172)\" d=\"\n",
       "M999.655 1233.12 L999.655 1233.37 L1011.61 1233.37 L1011.61 1233.12 L999.655 1233.12 L999.655 1233.12  Z\n",
       "  \" fill=\"#009af9\" fill-rule=\"evenodd\" fill-opacity=\"1\"/>\n",
       "<polyline clip-path=\"url(#clip172)\" style=\"stroke:#000000; stroke-width:4; stroke-opacity:1; fill:none\" points=\"\n",
       "  999.655,1233.12 999.655,1233.37 1011.61,1233.37 1011.61,1233.12 999.655,1233.12 \n",
       "  \"/>\n",
       "<path clip-path=\"url(#clip172)\" d=\"\n",
       "M1014.6 1233.37 L1014.6 1233.37 L1026.56 1233.37 L1026.56 1233.37 L1014.6 1233.37 L1014.6 1233.37  Z\n",
       "  \" fill=\"#009af9\" fill-rule=\"evenodd\" fill-opacity=\"1\"/>\n",
       "<polyline clip-path=\"url(#clip172)\" style=\"stroke:#000000; stroke-width:4; stroke-opacity:1; fill:none\" points=\"\n",
       "  1014.6,1233.37 1014.6,1233.37 1026.56,1233.37 1014.6,1233.37 \n",
       "  \"/>\n",
       "<path clip-path=\"url(#clip172)\" d=\"\n",
       "M1029.55 1233.12 L1029.55 1233.37 L1041.51 1233.37 L1041.51 1233.12 L1029.55 1233.12 L1029.55 1233.12  Z\n",
       "  \" fill=\"#009af9\" fill-rule=\"evenodd\" fill-opacity=\"1\"/>\n",
       "<polyline clip-path=\"url(#clip172)\" style=\"stroke:#000000; stroke-width:4; stroke-opacity:1; fill:none\" points=\"\n",
       "  1029.55,1233.12 1029.55,1233.37 1041.51,1233.37 1041.51,1233.12 1029.55,1233.12 \n",
       "  \"/>\n",
       "<path clip-path=\"url(#clip172)\" d=\"\n",
       "M1044.5 1232.36 L1044.5 1233.37 L1056.46 1233.37 L1056.46 1232.36 L1044.5 1232.36 L1044.5 1232.36  Z\n",
       "  \" fill=\"#009af9\" fill-rule=\"evenodd\" fill-opacity=\"1\"/>\n",
       "<polyline clip-path=\"url(#clip172)\" style=\"stroke:#000000; stroke-width:4; stroke-opacity:1; fill:none\" points=\"\n",
       "  1044.5,1232.36 1044.5,1233.37 1056.46,1233.37 1056.46,1232.36 1044.5,1232.36 \n",
       "  \"/>\n",
       "<path clip-path=\"url(#clip172)\" d=\"\n",
       "M1059.45 1231.36 L1059.45 1233.37 L1071.41 1233.37 L1071.41 1231.36 L1059.45 1231.36 L1059.45 1231.36  Z\n",
       "  \" fill=\"#009af9\" fill-rule=\"evenodd\" fill-opacity=\"1\"/>\n",
       "<polyline clip-path=\"url(#clip172)\" style=\"stroke:#000000; stroke-width:4; stroke-opacity:1; fill:none\" points=\"\n",
       "  1059.45,1231.36 1059.45,1233.37 1071.41,1233.37 1071.41,1231.36 1059.45,1231.36 \n",
       "  \"/>\n",
       "<path clip-path=\"url(#clip172)\" d=\"\n",
       "M1074.4 1231.86 L1074.4 1233.37 L1086.36 1233.37 L1086.36 1231.86 L1074.4 1231.86 L1074.4 1231.86  Z\n",
       "  \" fill=\"#009af9\" fill-rule=\"evenodd\" fill-opacity=\"1\"/>\n",
       "<polyline clip-path=\"url(#clip172)\" style=\"stroke:#000000; stroke-width:4; stroke-opacity:1; fill:none\" points=\"\n",
       "  1074.4,1231.86 1074.4,1233.37 1086.36,1233.37 1086.36,1231.86 1074.4,1231.86 \n",
       "  \"/>\n",
       "<path clip-path=\"url(#clip172)\" d=\"\n",
       "M1089.35 1231.61 L1089.35 1233.37 L1101.31 1233.37 L1101.31 1231.61 L1089.35 1231.61 L1089.35 1231.61  Z\n",
       "  \" fill=\"#009af9\" fill-rule=\"evenodd\" fill-opacity=\"1\"/>\n",
       "<polyline clip-path=\"url(#clip172)\" style=\"stroke:#000000; stroke-width:4; stroke-opacity:1; fill:none\" points=\"\n",
       "  1089.35,1231.61 1089.35,1233.37 1101.31,1233.37 1101.31,1231.61 1089.35,1231.61 \n",
       "  \"/>\n",
       "<path clip-path=\"url(#clip172)\" d=\"\n",
       "M1104.3 1229.84 L1104.3 1233.37 L1116.26 1233.37 L1116.26 1229.84 L1104.3 1229.84 L1104.3 1229.84  Z\n",
       "  \" fill=\"#009af9\" fill-rule=\"evenodd\" fill-opacity=\"1\"/>\n",
       "<polyline clip-path=\"url(#clip172)\" style=\"stroke:#000000; stroke-width:4; stroke-opacity:1; fill:none\" points=\"\n",
       "  1104.3,1229.84 1104.3,1233.37 1116.26,1233.37 1116.26,1229.84 1104.3,1229.84 \n",
       "  \"/>\n",
       "<path clip-path=\"url(#clip172)\" d=\"\n",
       "M1119.25 1228.33 L1119.25 1233.37 L1131.21 1233.37 L1131.21 1228.33 L1119.25 1228.33 L1119.25 1228.33  Z\n",
       "  \" fill=\"#009af9\" fill-rule=\"evenodd\" fill-opacity=\"1\"/>\n",
       "<polyline clip-path=\"url(#clip172)\" style=\"stroke:#000000; stroke-width:4; stroke-opacity:1; fill:none\" points=\"\n",
       "  1119.25,1228.33 1119.25,1233.37 1131.21,1233.37 1131.21,1228.33 1119.25,1228.33 \n",
       "  \"/>\n",
       "<path clip-path=\"url(#clip172)\" d=\"\n",
       "M1134.2 1226.32 L1134.2 1233.37 L1146.16 1233.37 L1146.16 1226.32 L1134.2 1226.32 L1134.2 1226.32  Z\n",
       "  \" fill=\"#009af9\" fill-rule=\"evenodd\" fill-opacity=\"1\"/>\n",
       "<polyline clip-path=\"url(#clip172)\" style=\"stroke:#000000; stroke-width:4; stroke-opacity:1; fill:none\" points=\"\n",
       "  1134.2,1226.32 1134.2,1233.37 1146.16,1233.37 1146.16,1226.32 1134.2,1226.32 \n",
       "  \"/>\n",
       "<path clip-path=\"url(#clip172)\" d=\"\n",
       "M1149.15 1230.85 L1149.15 1233.37 L1161.11 1233.37 L1161.11 1230.85 L1149.15 1230.85 L1149.15 1230.85  Z\n",
       "  \" fill=\"#009af9\" fill-rule=\"evenodd\" fill-opacity=\"1\"/>\n",
       "<polyline clip-path=\"url(#clip172)\" style=\"stroke:#000000; stroke-width:4; stroke-opacity:1; fill:none\" points=\"\n",
       "  1149.15,1230.85 1149.15,1233.37 1161.11,1233.37 1161.11,1230.85 1149.15,1230.85 \n",
       "  \"/>\n",
       "<path clip-path=\"url(#clip172)\" d=\"\n",
       "M1164.1 1219.52 L1164.1 1233.37 L1176.06 1233.37 L1176.06 1219.52 L1164.1 1219.52 L1164.1 1219.52  Z\n",
       "  \" fill=\"#009af9\" fill-rule=\"evenodd\" fill-opacity=\"1\"/>\n",
       "<polyline clip-path=\"url(#clip172)\" style=\"stroke:#000000; stroke-width:4; stroke-opacity:1; fill:none\" points=\"\n",
       "  1164.1,1219.52 1164.1,1233.37 1176.06,1233.37 1176.06,1219.52 1164.1,1219.52 \n",
       "  \"/>\n",
       "<path clip-path=\"url(#clip172)\" d=\"\n",
       "M1179.05 1201.38 L1179.05 1233.37 L1191.01 1233.37 L1191.01 1201.38 L1179.05 1201.38 L1179.05 1201.38  Z\n",
       "  \" fill=\"#009af9\" fill-rule=\"evenodd\" fill-opacity=\"1\"/>\n",
       "<polyline clip-path=\"url(#clip172)\" style=\"stroke:#000000; stroke-width:4; stroke-opacity:1; fill:none\" points=\"\n",
       "  1179.05,1201.38 1179.05,1233.37 1191.01,1233.37 1191.01,1201.38 1179.05,1201.38 \n",
       "  \"/>\n",
       "<path clip-path=\"url(#clip172)\" d=\"\n",
       "M1194 1199.62 L1194 1233.37 L1205.96 1233.37 L1205.96 1199.62 L1194 1199.62 L1194 1199.62  Z\n",
       "  \" fill=\"#009af9\" fill-rule=\"evenodd\" fill-opacity=\"1\"/>\n",
       "<polyline clip-path=\"url(#clip172)\" style=\"stroke:#000000; stroke-width:4; stroke-opacity:1; fill:none\" points=\"\n",
       "  1194,1199.62 1194,1233.37 1205.96,1233.37 1205.96,1199.62 1194,1199.62 \n",
       "  \"/>\n",
       "<path clip-path=\"url(#clip172)\" d=\"\n",
       "M1208.95 1192.31 L1208.95 1233.37 L1220.91 1233.37 L1220.91 1192.31 L1208.95 1192.31 L1208.95 1192.31  Z\n",
       "  \" fill=\"#009af9\" fill-rule=\"evenodd\" fill-opacity=\"1\"/>\n",
       "<polyline clip-path=\"url(#clip172)\" style=\"stroke:#000000; stroke-width:4; stroke-opacity:1; fill:none\" points=\"\n",
       "  1208.95,1192.31 1208.95,1233.37 1220.91,1233.37 1220.91,1192.31 1208.95,1192.31 \n",
       "  \"/>\n",
       "<path clip-path=\"url(#clip172)\" d=\"\n",
       "M1223.89 1191.06 L1223.89 1233.37 L1235.85 1233.37 L1235.85 1191.06 L1223.89 1191.06 L1223.89 1191.06  Z\n",
       "  \" fill=\"#009af9\" fill-rule=\"evenodd\" fill-opacity=\"1\"/>\n",
       "<polyline clip-path=\"url(#clip172)\" style=\"stroke:#000000; stroke-width:4; stroke-opacity:1; fill:none\" points=\"\n",
       "  1223.89,1191.06 1223.89,1233.37 1235.85,1233.37 1235.85,1191.06 1223.89,1191.06 \n",
       "  \"/>\n",
       "<path clip-path=\"url(#clip172)\" d=\"\n",
       "M1238.84 1158.81 L1238.84 1233.37 L1250.8 1233.37 L1250.8 1158.81 L1238.84 1158.81 L1238.84 1158.81  Z\n",
       "  \" fill=\"#009af9\" fill-rule=\"evenodd\" fill-opacity=\"1\"/>\n",
       "<polyline clip-path=\"url(#clip172)\" style=\"stroke:#000000; stroke-width:4; stroke-opacity:1; fill:none\" points=\"\n",
       "  1238.84,1158.81 1238.84,1233.37 1250.8,1233.37 1250.8,1158.81 1238.84,1158.81 \n",
       "  \"/>\n",
       "<path clip-path=\"url(#clip172)\" d=\"\n",
       "M1253.79 1173.42 L1253.79 1233.37 L1265.75 1233.37 L1265.75 1173.42 L1253.79 1173.42 L1253.79 1173.42  Z\n",
       "  \" fill=\"#009af9\" fill-rule=\"evenodd\" fill-opacity=\"1\"/>\n",
       "<polyline clip-path=\"url(#clip172)\" style=\"stroke:#000000; stroke-width:4; stroke-opacity:1; fill:none\" points=\"\n",
       "  1253.79,1173.42 1253.79,1233.37 1265.75,1233.37 1265.75,1173.42 1253.79,1173.42 \n",
       "  \"/>\n",
       "<path clip-path=\"url(#clip172)\" d=\"\n",
       "M1268.74 1170.4 L1268.74 1233.37 L1280.7 1233.37 L1280.7 1170.4 L1268.74 1170.4 L1268.74 1170.4  Z\n",
       "  \" fill=\"#009af9\" fill-rule=\"evenodd\" fill-opacity=\"1\"/>\n",
       "<polyline clip-path=\"url(#clip172)\" style=\"stroke:#000000; stroke-width:4; stroke-opacity:1; fill:none\" points=\"\n",
       "  1268.74,1170.4 1268.74,1233.37 1280.7,1233.37 1280.7,1170.4 1268.74,1170.4 \n",
       "  \"/>\n",
       "<path clip-path=\"url(#clip172)\" d=\"\n",
       "M1283.69 1147.98 L1283.69 1233.37 L1295.65 1233.37 L1295.65 1147.98 L1283.69 1147.98 L1283.69 1147.98  Z\n",
       "  \" fill=\"#009af9\" fill-rule=\"evenodd\" fill-opacity=\"1\"/>\n",
       "<polyline clip-path=\"url(#clip172)\" style=\"stroke:#000000; stroke-width:4; stroke-opacity:1; fill:none\" points=\"\n",
       "  1283.69,1147.98 1283.69,1233.37 1295.65,1233.37 1295.65,1147.98 1283.69,1147.98 \n",
       "  \"/>\n",
       "<path clip-path=\"url(#clip172)\" d=\"\n",
       "M1298.64 1066.12 L1298.64 1233.37 L1310.6 1233.37 L1310.6 1066.12 L1298.64 1066.12 L1298.64 1066.12  Z\n",
       "  \" fill=\"#009af9\" fill-rule=\"evenodd\" fill-opacity=\"1\"/>\n",
       "<polyline clip-path=\"url(#clip172)\" style=\"stroke:#000000; stroke-width:4; stroke-opacity:1; fill:none\" points=\"\n",
       "  1298.64,1066.12 1298.64,1233.37 1310.6,1233.37 1310.6,1066.12 1298.64,1066.12 \n",
       "  \"/>\n",
       "<path clip-path=\"url(#clip172)\" d=\"\n",
       "M1313.59 1109.7 L1313.59 1233.37 L1325.55 1233.37 L1325.55 1109.7 L1313.59 1109.7 L1313.59 1109.7  Z\n",
       "  \" fill=\"#009af9\" fill-rule=\"evenodd\" fill-opacity=\"1\"/>\n",
       "<polyline clip-path=\"url(#clip172)\" style=\"stroke:#000000; stroke-width:4; stroke-opacity:1; fill:none\" points=\"\n",
       "  1313.59,1109.7 1313.59,1233.37 1325.55,1233.37 1325.55,1109.7 1313.59,1109.7 \n",
       "  \"/>\n",
       "<path clip-path=\"url(#clip172)\" d=\"\n",
       "M1328.54 1102.9 L1328.54 1233.37 L1340.5 1233.37 L1340.5 1102.9 L1328.54 1102.9 L1328.54 1102.9  Z\n",
       "  \" fill=\"#009af9\" fill-rule=\"evenodd\" fill-opacity=\"1\"/>\n",
       "<polyline clip-path=\"url(#clip172)\" style=\"stroke:#000000; stroke-width:4; stroke-opacity:1; fill:none\" points=\"\n",
       "  1328.54,1102.9 1328.54,1233.37 1340.5,1233.37 1340.5,1102.9 1328.54,1102.9 \n",
       "  \"/>\n",
       "<path clip-path=\"url(#clip172)\" d=\"\n",
       "M1343.49 964.867 L1343.49 1233.37 L1355.45 1233.37 L1355.45 964.867 L1343.49 964.867 L1343.49 964.867  Z\n",
       "  \" fill=\"#009af9\" fill-rule=\"evenodd\" fill-opacity=\"1\"/>\n",
       "<polyline clip-path=\"url(#clip172)\" style=\"stroke:#000000; stroke-width:4; stroke-opacity:1; fill:none\" points=\"\n",
       "  1343.49,964.867 1343.49,1233.37 1355.45,1233.37 1355.45,964.867 1343.49,964.867 \n",
       "  \"/>\n",
       "<path clip-path=\"url(#clip172)\" d=\"\n",
       "M1358.44 1118.26 L1358.44 1233.37 L1370.4 1233.37 L1370.4 1118.26 L1358.44 1118.26 L1358.44 1118.26  Z\n",
       "  \" fill=\"#009af9\" fill-rule=\"evenodd\" fill-opacity=\"1\"/>\n",
       "<polyline clip-path=\"url(#clip172)\" style=\"stroke:#000000; stroke-width:4; stroke-opacity:1; fill:none\" points=\"\n",
       "  1358.44,1118.26 1358.44,1233.37 1370.4,1233.37 1370.4,1118.26 1358.44,1118.26 \n",
       "  \"/>\n",
       "<path clip-path=\"url(#clip172)\" d=\"\n",
       "M1373.39 1001.14 L1373.39 1233.37 L1385.35 1233.37 L1385.35 1001.14 L1373.39 1001.14 L1373.39 1001.14  Z\n",
       "  \" fill=\"#009af9\" fill-rule=\"evenodd\" fill-opacity=\"1\"/>\n",
       "<polyline clip-path=\"url(#clip172)\" style=\"stroke:#000000; stroke-width:4; stroke-opacity:1; fill:none\" points=\"\n",
       "  1373.39,1001.14 1373.39,1233.37 1385.35,1233.37 1385.35,1001.14 1373.39,1001.14 \n",
       "  \"/>\n",
       "<path clip-path=\"url(#clip172)\" d=\"\n",
       "M1388.34 985.018 L1388.34 1233.37 L1400.3 1233.37 L1400.3 985.018 L1388.34 985.018 L1388.34 985.018  Z\n",
       "  \" fill=\"#009af9\" fill-rule=\"evenodd\" fill-opacity=\"1\"/>\n",
       "<polyline clip-path=\"url(#clip172)\" style=\"stroke:#000000; stroke-width:4; stroke-opacity:1; fill:none\" points=\"\n",
       "  1388.34,985.018 1388.34,1233.37 1400.3,1233.37 1400.3,985.018 1388.34,985.018 \n",
       "  \"/>\n",
       "<path clip-path=\"url(#clip172)\" d=\"\n",
       "M1403.29 1052.77 L1403.29 1233.37 L1415.25 1233.37 L1415.25 1052.77 L1403.29 1052.77 L1403.29 1052.77  Z\n",
       "  \" fill=\"#009af9\" fill-rule=\"evenodd\" fill-opacity=\"1\"/>\n",
       "<polyline clip-path=\"url(#clip172)\" style=\"stroke:#000000; stroke-width:4; stroke-opacity:1; fill:none\" points=\"\n",
       "  1403.29,1052.77 1403.29,1233.37 1415.25,1233.37 1415.25,1052.77 1403.29,1052.77 \n",
       "  \"/>\n",
       "<path clip-path=\"url(#clip172)\" d=\"\n",
       "M1418.24 928.849 L1418.24 1233.37 L1430.2 1233.37 L1430.2 928.849 L1418.24 928.849 L1418.24 928.849  Z\n",
       "  \" fill=\"#009af9\" fill-rule=\"evenodd\" fill-opacity=\"1\"/>\n",
       "<polyline clip-path=\"url(#clip172)\" style=\"stroke:#000000; stroke-width:4; stroke-opacity:1; fill:none\" points=\"\n",
       "  1418.24,928.849 1418.24,1233.37 1430.2,1233.37 1430.2,928.849 1418.24,928.849 \n",
       "  \"/>\n",
       "<path clip-path=\"url(#clip172)\" d=\"\n",
       "M1433.19 867.39 L1433.19 1233.37 L1445.14 1233.37 L1445.14 867.39 L1433.19 867.39 L1433.19 867.39  Z\n",
       "  \" fill=\"#009af9\" fill-rule=\"evenodd\" fill-opacity=\"1\"/>\n",
       "<polyline clip-path=\"url(#clip172)\" style=\"stroke:#000000; stroke-width:4; stroke-opacity:1; fill:none\" points=\"\n",
       "  1433.19,867.39 1433.19,1233.37 1445.14,1233.37 1445.14,867.39 1433.19,867.39 \n",
       "  \"/>\n",
       "<path clip-path=\"url(#clip172)\" d=\"\n",
       "M1448.13 1001.89 L1448.13 1233.37 L1460.09 1233.37 L1460.09 1001.89 L1448.13 1001.89 L1448.13 1001.89  Z\n",
       "  \" fill=\"#009af9\" fill-rule=\"evenodd\" fill-opacity=\"1\"/>\n",
       "<polyline clip-path=\"url(#clip172)\" style=\"stroke:#000000; stroke-width:4; stroke-opacity:1; fill:none\" points=\"\n",
       "  1448.13,1001.89 1448.13,1233.37 1460.09,1233.37 1460.09,1001.89 1448.13,1001.89 \n",
       "  \"/>\n",
       "<path clip-path=\"url(#clip172)\" d=\"\n",
       "M1463.08 985.018 L1463.08 1233.37 L1475.04 1233.37 L1475.04 985.018 L1463.08 985.018 L1463.08 985.018  Z\n",
       "  \" fill=\"#009af9\" fill-rule=\"evenodd\" fill-opacity=\"1\"/>\n",
       "<polyline clip-path=\"url(#clip172)\" style=\"stroke:#000000; stroke-width:4; stroke-opacity:1; fill:none\" points=\"\n",
       "  1463.08,985.018 1463.08,1233.37 1475.04,1233.37 1475.04,985.018 1463.08,985.018 \n",
       "  \"/>\n",
       "<path clip-path=\"url(#clip172)\" d=\"\n",
       "M1478.03 909.202 L1478.03 1233.37 L1489.99 1233.37 L1489.99 909.202 L1478.03 909.202 L1478.03 909.202  Z\n",
       "  \" fill=\"#009af9\" fill-rule=\"evenodd\" fill-opacity=\"1\"/>\n",
       "<polyline clip-path=\"url(#clip172)\" style=\"stroke:#000000; stroke-width:4; stroke-opacity:1; fill:none\" points=\"\n",
       "  1478.03,909.202 1478.03,1233.37 1489.99,1233.37 1489.99,909.202 1478.03,909.202 \n",
       "  \"/>\n",
       "<path clip-path=\"url(#clip172)\" d=\"\n",
       "M1492.98 848.247 L1492.98 1233.37 L1504.94 1233.37 L1504.94 848.247 L1492.98 848.247 L1492.98 848.247  Z\n",
       "  \" fill=\"#009af9\" fill-rule=\"evenodd\" fill-opacity=\"1\"/>\n",
       "<polyline clip-path=\"url(#clip172)\" style=\"stroke:#000000; stroke-width:4; stroke-opacity:1; fill:none\" points=\"\n",
       "  1492.98,848.247 1492.98,1233.37 1504.94,1233.37 1504.94,848.247 1492.98,848.247 \n",
       "  \"/>\n",
       "<path clip-path=\"url(#clip172)\" d=\"\n",
       "M1507.93 894.845 L1507.93 1233.37 L1519.89 1233.37 L1519.89 894.845 L1507.93 894.845 L1507.93 894.845  Z\n",
       "  \" fill=\"#009af9\" fill-rule=\"evenodd\" fill-opacity=\"1\"/>\n",
       "<polyline clip-path=\"url(#clip172)\" style=\"stroke:#000000; stroke-width:4; stroke-opacity:1; fill:none\" points=\"\n",
       "  1507.93,894.845 1507.93,1233.37 1519.89,1233.37 1519.89,894.845 1507.93,894.845 \n",
       "  \"/>\n",
       "<path clip-path=\"url(#clip172)\" d=\"\n",
       "M1522.88 864.367 L1522.88 1233.37 L1534.84 1233.37 L1534.84 864.367 L1522.88 864.367 L1522.88 864.367  Z\n",
       "  \" fill=\"#009af9\" fill-rule=\"evenodd\" fill-opacity=\"1\"/>\n",
       "<polyline clip-path=\"url(#clip172)\" style=\"stroke:#000000; stroke-width:4; stroke-opacity:1; fill:none\" points=\"\n",
       "  1522.88,864.367 1522.88,1233.37 1534.84,1233.37 1534.84,864.367 1522.88,864.367 \n",
       "  \"/>\n",
       "<path clip-path=\"url(#clip172)\" d=\"\n",
       "M1537.83 907.691 L1537.83 1233.37 L1549.79 1233.37 L1549.79 907.691 L1537.83 907.691 L1537.83 907.691  Z\n",
       "  \" fill=\"#009af9\" fill-rule=\"evenodd\" fill-opacity=\"1\"/>\n",
       "<polyline clip-path=\"url(#clip172)\" style=\"stroke:#000000; stroke-width:4; stroke-opacity:1; fill:none\" points=\"\n",
       "  1537.83,907.691 1537.83,1233.37 1549.79,1233.37 1549.79,907.691 1537.83,907.691 \n",
       "  \"/>\n",
       "<path clip-path=\"url(#clip172)\" d=\"\n",
       "M1552.78 812.228 L1552.78 1233.37 L1564.74 1233.37 L1564.74 812.228 L1552.78 812.228 L1552.78 812.228  Z\n",
       "  \" fill=\"#009af9\" fill-rule=\"evenodd\" fill-opacity=\"1\"/>\n",
       "<polyline clip-path=\"url(#clip172)\" style=\"stroke:#000000; stroke-width:4; stroke-opacity:1; fill:none\" points=\"\n",
       "  1552.78,812.228 1552.78,1233.37 1564.74,1233.37 1564.74,812.228 1552.78,812.228 \n",
       "  \"/>\n",
       "<path clip-path=\"url(#clip172)\" d=\"\n",
       "M1567.73 937.916 L1567.73 1233.37 L1579.69 1233.37 L1579.69 937.916 L1567.73 937.916 L1567.73 937.916  Z\n",
       "  \" fill=\"#009af9\" fill-rule=\"evenodd\" fill-opacity=\"1\"/>\n",
       "<polyline clip-path=\"url(#clip172)\" style=\"stroke:#000000; stroke-width:4; stroke-opacity:1; fill:none\" points=\"\n",
       "  1567.73,937.916 1567.73,1233.37 1579.69,1233.37 1579.69,937.916 1567.73,937.916 \n",
       "  \"/>\n",
       "<path clip-path=\"url(#clip172)\" d=\"\n",
       "M1582.68 925.574 L1582.68 1233.37 L1594.64 1233.37 L1594.64 925.574 L1582.68 925.574 L1582.68 925.574  Z\n",
       "  \" fill=\"#009af9\" fill-rule=\"evenodd\" fill-opacity=\"1\"/>\n",
       "<polyline clip-path=\"url(#clip172)\" style=\"stroke:#000000; stroke-width:4; stroke-opacity:1; fill:none\" points=\"\n",
       "  1582.68,925.574 1582.68,1233.37 1594.64,1233.37 1594.64,925.574 1582.68,925.574 \n",
       "  \"/>\n",
       "<path clip-path=\"url(#clip172)\" d=\"\n",
       "M1597.63 894.341 L1597.63 1233.37 L1609.59 1233.37 L1609.59 894.341 L1597.63 894.341 L1597.63 894.341  Z\n",
       "  \" fill=\"#009af9\" fill-rule=\"evenodd\" fill-opacity=\"1\"/>\n",
       "<polyline clip-path=\"url(#clip172)\" style=\"stroke:#000000; stroke-width:4; stroke-opacity:1; fill:none\" points=\"\n",
       "  1597.63,894.341 1597.63,1233.37 1609.59,1233.37 1609.59,894.341 1597.63,894.341 \n",
       "  \"/>\n",
       "<path clip-path=\"url(#clip172)\" d=\"\n",
       "M1612.58 945.976 L1612.58 1233.37 L1624.54 1233.37 L1624.54 945.976 L1612.58 945.976 L1612.58 945.976  Z\n",
       "  \" fill=\"#009af9\" fill-rule=\"evenodd\" fill-opacity=\"1\"/>\n",
       "<polyline clip-path=\"url(#clip172)\" style=\"stroke:#000000; stroke-width:4; stroke-opacity:1; fill:none\" points=\"\n",
       "  1612.58,945.976 1612.58,1233.37 1624.54,1233.37 1624.54,945.976 1612.58,945.976 \n",
       "  \"/>\n",
       "<path clip-path=\"url(#clip172)\" d=\"\n",
       "M1627.53 769.661 L1627.53 1233.37 L1639.49 1233.37 L1639.49 769.661 L1627.53 769.661 L1627.53 769.661  Z\n",
       "  \" fill=\"#009af9\" fill-rule=\"evenodd\" fill-opacity=\"1\"/>\n",
       "<polyline clip-path=\"url(#clip172)\" style=\"stroke:#000000; stroke-width:4; stroke-opacity:1; fill:none\" points=\"\n",
       "  1627.53,769.661 1627.53,1233.37 1639.49,1233.37 1639.49,769.661 1627.53,769.661 \n",
       "  \"/>\n",
       "<path clip-path=\"url(#clip172)\" d=\"\n",
       "M1642.48 834.142 L1642.48 1233.37 L1654.43 1233.37 L1654.43 834.142 L1642.48 834.142 L1642.48 834.142  Z\n",
       "  \" fill=\"#009af9\" fill-rule=\"evenodd\" fill-opacity=\"1\"/>\n",
       "<polyline clip-path=\"url(#clip172)\" style=\"stroke:#000000; stroke-width:4; stroke-opacity:1; fill:none\" points=\"\n",
       "  1642.48,834.142 1642.48,1233.37 1654.43,1233.37 1654.43,834.142 1642.48,834.142 \n",
       "  \"/>\n",
       "<path clip-path=\"url(#clip172)\" d=\"\n",
       "M1657.42 931.871 L1657.42 1233.37 L1669.38 1233.37 L1669.38 931.871 L1657.42 931.871 L1657.42 931.871  Z\n",
       "  \" fill=\"#009af9\" fill-rule=\"evenodd\" fill-opacity=\"1\"/>\n",
       "<polyline clip-path=\"url(#clip172)\" style=\"stroke:#000000; stroke-width:4; stroke-opacity:1; fill:none\" points=\"\n",
       "  1657.42,931.871 1657.42,1233.37 1669.38,1233.37 1669.38,931.871 1657.42,931.871 \n",
       "  \"/>\n",
       "<path clip-path=\"url(#clip172)\" d=\"\n",
       "M1672.37 943.458 L1672.37 1233.37 L1684.33 1233.37 L1684.33 943.458 L1672.37 943.458 L1672.37 943.458  Z\n",
       "  \" fill=\"#009af9\" fill-rule=\"evenodd\" fill-opacity=\"1\"/>\n",
       "<polyline clip-path=\"url(#clip172)\" style=\"stroke:#000000; stroke-width:4; stroke-opacity:1; fill:none\" points=\"\n",
       "  1672.37,943.458 1672.37,1233.37 1684.33,1233.37 1684.33,943.458 1672.37,943.458 \n",
       "  \"/>\n",
       "<path clip-path=\"url(#clip172)\" d=\"\n",
       "M1687.32 842.706 L1687.32 1233.37 L1699.28 1233.37 L1699.28 842.706 L1687.32 842.706 L1687.32 842.706  Z\n",
       "  \" fill=\"#009af9\" fill-rule=\"evenodd\" fill-opacity=\"1\"/>\n",
       "<polyline clip-path=\"url(#clip172)\" style=\"stroke:#000000; stroke-width:4; stroke-opacity:1; fill:none\" points=\"\n",
       "  1687.32,842.706 1687.32,1233.37 1699.28,1233.37 1699.28,842.706 1687.32,842.706 \n",
       "  \"/>\n",
       "<path clip-path=\"url(#clip172)\" d=\"\n",
       "M1702.27 717.27 L1702.27 1233.37 L1714.23 1233.37 L1714.23 717.27 L1702.27 717.27 L1702.27 717.27  Z\n",
       "  \" fill=\"#009af9\" fill-rule=\"evenodd\" fill-opacity=\"1\"/>\n",
       "<polyline clip-path=\"url(#clip172)\" style=\"stroke:#000000; stroke-width:4; stroke-opacity:1; fill:none\" points=\"\n",
       "  1702.27,717.27 1702.27,1233.37 1714.23,1233.37 1714.23,717.27 1702.27,717.27 \n",
       "  \"/>\n",
       "<path clip-path=\"url(#clip172)\" d=\"\n",
       "M1717.22 773.187 L1717.22 1233.37 L1729.18 1233.37 L1729.18 773.187 L1717.22 773.187 L1717.22 773.187  Z\n",
       "  \" fill=\"#009af9\" fill-rule=\"evenodd\" fill-opacity=\"1\"/>\n",
       "<polyline clip-path=\"url(#clip172)\" style=\"stroke:#000000; stroke-width:4; stroke-opacity:1; fill:none\" points=\"\n",
       "  1717.22,773.187 1717.22,1233.37 1729.18,1233.37 1729.18,773.187 1717.22,773.187 \n",
       "  \"/>\n",
       "<path clip-path=\"url(#clip172)\" d=\"\n",
       "M1732.17 547.503 L1732.17 1233.37 L1744.13 1233.37 L1744.13 547.503 L1732.17 547.503 L1732.17 547.503  Z\n",
       "  \" fill=\"#009af9\" fill-rule=\"evenodd\" fill-opacity=\"1\"/>\n",
       "<polyline clip-path=\"url(#clip172)\" style=\"stroke:#000000; stroke-width:4; stroke-opacity:1; fill:none\" points=\"\n",
       "  1732.17,547.503 1732.17,1233.37 1744.13,1233.37 1744.13,547.503 1732.17,547.503 \n",
       "  \"/>\n",
       "<path clip-path=\"url(#clip172)\" d=\"\n",
       "M1747.12 699.638 L1747.12 1233.37 L1759.08 1233.37 L1759.08 699.638 L1747.12 699.638 L1747.12 699.638  Z\n",
       "  \" fill=\"#009af9\" fill-rule=\"evenodd\" fill-opacity=\"1\"/>\n",
       "<polyline clip-path=\"url(#clip172)\" style=\"stroke:#000000; stroke-width:4; stroke-opacity:1; fill:none\" points=\"\n",
       "  1747.12,699.638 1747.12,1233.37 1759.08,1233.37 1759.08,699.638 1747.12,699.638 \n",
       "  \"/>\n",
       "<path clip-path=\"url(#clip172)\" d=\"\n",
       "M1762.07 697.875 L1762.07 1233.37 L1774.03 1233.37 L1774.03 697.875 L1762.07 697.875 L1762.07 697.875  Z\n",
       "  \" fill=\"#009af9\" fill-rule=\"evenodd\" fill-opacity=\"1\"/>\n",
       "<polyline clip-path=\"url(#clip172)\" style=\"stroke:#000000; stroke-width:4; stroke-opacity:1; fill:none\" points=\"\n",
       "  1762.07,697.875 1762.07,1233.37 1774.03,1233.37 1774.03,697.875 1762.07,697.875 \n",
       "  \"/>\n",
       "<path clip-path=\"url(#clip172)\" d=\"\n",
       "M1777.02 734.649 L1777.02 1233.37 L1788.98 1233.37 L1788.98 734.649 L1777.02 734.649 L1777.02 734.649  Z\n",
       "  \" fill=\"#009af9\" fill-rule=\"evenodd\" fill-opacity=\"1\"/>\n",
       "<polyline clip-path=\"url(#clip172)\" style=\"stroke:#000000; stroke-width:4; stroke-opacity:1; fill:none\" points=\"\n",
       "  1777.02,734.649 1777.02,1233.37 1788.98,1233.37 1788.98,734.649 1777.02,734.649 \n",
       "  \"/>\n",
       "<path clip-path=\"url(#clip172)\" d=\"\n",
       "M1791.97 674.45 L1791.97 1233.37 L1803.93 1233.37 L1803.93 674.45 L1791.97 674.45 L1791.97 674.45  Z\n",
       "  \" fill=\"#009af9\" fill-rule=\"evenodd\" fill-opacity=\"1\"/>\n",
       "<polyline clip-path=\"url(#clip172)\" style=\"stroke:#000000; stroke-width:4; stroke-opacity:1; fill:none\" points=\"\n",
       "  1791.97,674.45 1791.97,1233.37 1803.93,1233.37 1803.93,674.45 1791.97,674.45 \n",
       "  \"/>\n",
       "<path clip-path=\"url(#clip172)\" d=\"\n",
       "M1806.92 665.886 L1806.92 1233.37 L1818.88 1233.37 L1818.88 665.886 L1806.92 665.886 L1806.92 665.886  Z\n",
       "  \" fill=\"#009af9\" fill-rule=\"evenodd\" fill-opacity=\"1\"/>\n",
       "<polyline clip-path=\"url(#clip172)\" style=\"stroke:#000000; stroke-width:4; stroke-opacity:1; fill:none\" points=\"\n",
       "  1806.92,665.886 1806.92,1233.37 1818.88,1233.37 1818.88,665.886 1806.92,665.886 \n",
       "  \"/>\n",
       "<path clip-path=\"url(#clip172)\" d=\"\n",
       "M1821.87 587.804 L1821.87 1233.37 L1833.83 1233.37 L1833.83 587.804 L1821.87 587.804 L1821.87 587.804  Z\n",
       "  \" fill=\"#009af9\" fill-rule=\"evenodd\" fill-opacity=\"1\"/>\n",
       "<polyline clip-path=\"url(#clip172)\" style=\"stroke:#000000; stroke-width:4; stroke-opacity:1; fill:none\" points=\"\n",
       "  1821.87,587.804 1821.87,1233.37 1833.83,1233.37 1833.83,587.804 1821.87,587.804 \n",
       "  \"/>\n",
       "<path clip-path=\"url(#clip172)\" d=\"\n",
       "M1836.82 443.225 L1836.82 1233.37 L1848.78 1233.37 L1848.78 443.225 L1836.82 443.225 L1836.82 443.225  Z\n",
       "  \" fill=\"#009af9\" fill-rule=\"evenodd\" fill-opacity=\"1\"/>\n",
       "<polyline clip-path=\"url(#clip172)\" style=\"stroke:#000000; stroke-width:4; stroke-opacity:1; fill:none\" points=\"\n",
       "  1836.82,443.225 1836.82,1233.37 1848.78,1233.37 1848.78,443.225 1836.82,443.225 \n",
       "  \"/>\n",
       "<path clip-path=\"url(#clip172)\" d=\"\n",
       "M1851.77 616.266 L1851.77 1233.37 L1863.72 1233.37 L1863.72 616.266 L1851.77 616.266 L1851.77 616.266  Z\n",
       "  \" fill=\"#009af9\" fill-rule=\"evenodd\" fill-opacity=\"1\"/>\n",
       "<polyline clip-path=\"url(#clip172)\" style=\"stroke:#000000; stroke-width:4; stroke-opacity:1; fill:none\" points=\"\n",
       "  1851.77,616.266 1851.77,1233.37 1863.72,1233.37 1863.72,616.266 1851.77,616.266 \n",
       "  \"/>\n",
       "<path clip-path=\"url(#clip172)\" d=\"\n",
       "M1866.71 479.243 L1866.71 1233.37 L1878.67 1233.37 L1878.67 479.243 L1866.71 479.243 L1866.71 479.243  Z\n",
       "  \" fill=\"#009af9\" fill-rule=\"evenodd\" fill-opacity=\"1\"/>\n",
       "<polyline clip-path=\"url(#clip172)\" style=\"stroke:#000000; stroke-width:4; stroke-opacity:1; fill:none\" points=\"\n",
       "  1866.71,479.243 1866.71,1233.37 1878.67,1233.37 1878.67,479.243 1866.71,479.243 \n",
       "  \"/>\n",
       "<path clip-path=\"url(#clip172)\" d=\"\n",
       "M1881.66 643.721 L1881.66 1233.37 L1893.62 1233.37 L1893.62 643.721 L1881.66 643.721 L1881.66 643.721  Z\n",
       "  \" fill=\"#009af9\" fill-rule=\"evenodd\" fill-opacity=\"1\"/>\n",
       "<polyline clip-path=\"url(#clip172)\" style=\"stroke:#000000; stroke-width:4; stroke-opacity:1; fill:none\" points=\"\n",
       "  1881.66,643.721 1881.66,1233.37 1893.62,1233.37 1893.62,643.721 1881.66,643.721 \n",
       "  \"/>\n",
       "<path clip-path=\"url(#clip172)\" d=\"\n",
       "M1896.61 717.27 L1896.61 1233.37 L1908.57 1233.37 L1908.57 717.27 L1896.61 717.27 L1896.61 717.27  Z\n",
       "  \" fill=\"#009af9\" fill-rule=\"evenodd\" fill-opacity=\"1\"/>\n",
       "<polyline clip-path=\"url(#clip172)\" style=\"stroke:#000000; stroke-width:4; stroke-opacity:1; fill:none\" points=\"\n",
       "  1896.61,717.27 1896.61,1233.37 1908.57,1233.37 1908.57,717.27 1896.61,717.27 \n",
       "  \"/>\n",
       "<path clip-path=\"url(#clip172)\" d=\"\n",
       "M1911.56 660.345 L1911.56 1233.37 L1923.52 1233.37 L1923.52 660.345 L1911.56 660.345 L1911.56 660.345  Z\n",
       "  \" fill=\"#009af9\" fill-rule=\"evenodd\" fill-opacity=\"1\"/>\n",
       "<polyline clip-path=\"url(#clip172)\" style=\"stroke:#000000; stroke-width:4; stroke-opacity:1; fill:none\" points=\"\n",
       "  1911.56,660.345 1911.56,1233.37 1923.52,1233.37 1923.52,660.345 1911.56,660.345 \n",
       "  \"/>\n",
       "<path clip-path=\"url(#clip172)\" d=\"\n",
       "M1926.51 568.913 L1926.51 1233.37 L1938.47 1233.37 L1938.47 568.913 L1926.51 568.913 L1926.51 568.913  Z\n",
       "  \" fill=\"#009af9\" fill-rule=\"evenodd\" fill-opacity=\"1\"/>\n",
       "<polyline clip-path=\"url(#clip172)\" style=\"stroke:#000000; stroke-width:4; stroke-opacity:1; fill:none\" points=\"\n",
       "  1926.51,568.913 1926.51,1233.37 1938.47,1233.37 1938.47,568.913 1926.51,568.913 \n",
       "  \"/>\n",
       "<path clip-path=\"url(#clip172)\" d=\"\n",
       "M1941.46 506.446 L1941.46 1233.37 L1953.42 1233.37 L1953.42 506.446 L1941.46 506.446 L1941.46 506.446  Z\n",
       "  \" fill=\"#009af9\" fill-rule=\"evenodd\" fill-opacity=\"1\"/>\n",
       "<polyline clip-path=\"url(#clip172)\" style=\"stroke:#000000; stroke-width:4; stroke-opacity:1; fill:none\" points=\"\n",
       "  1941.46,506.446 1941.46,1233.37 1953.42,1233.37 1953.42,506.446 1941.46,506.446 \n",
       "  \"/>\n",
       "<path clip-path=\"url(#clip172)\" d=\"\n",
       "M1956.41 649.01 L1956.41 1233.37 L1968.37 1233.37 L1968.37 649.01 L1956.41 649.01 L1956.41 649.01  Z\n",
       "  \" fill=\"#009af9\" fill-rule=\"evenodd\" fill-opacity=\"1\"/>\n",
       "<polyline clip-path=\"url(#clip172)\" style=\"stroke:#000000; stroke-width:4; stroke-opacity:1; fill:none\" points=\"\n",
       "  1956.41,649.01 1956.41,1233.37 1968.37,1233.37 1968.37,649.01 1956.41,649.01 \n",
       "  \"/>\n",
       "<path clip-path=\"url(#clip172)\" d=\"\n",
       "M1971.36 816.762 L1971.36 1233.37 L1983.32 1233.37 L1983.32 816.762 L1971.36 816.762 L1971.36 816.762  Z\n",
       "  \" fill=\"#009af9\" fill-rule=\"evenodd\" fill-opacity=\"1\"/>\n",
       "<polyline clip-path=\"url(#clip172)\" style=\"stroke:#000000; stroke-width:4; stroke-opacity:1; fill:none\" points=\"\n",
       "  1971.36,816.762 1971.36,1233.37 1983.32,1233.37 1983.32,816.762 1971.36,816.762 \n",
       "  \"/>\n",
       "<path clip-path=\"url(#clip172)\" d=\"\n",
       "M1986.31 865.375 L1986.31 1233.37 L1998.27 1233.37 L1998.27 865.375 L1986.31 865.375 L1986.31 865.375  Z\n",
       "  \" fill=\"#009af9\" fill-rule=\"evenodd\" fill-opacity=\"1\"/>\n",
       "<polyline clip-path=\"url(#clip172)\" style=\"stroke:#000000; stroke-width:4; stroke-opacity:1; fill:none\" points=\"\n",
       "  1986.31,865.375 1986.31,1233.37 1998.27,1233.37 1998.27,865.375 1986.31,865.375 \n",
       "  \"/>\n",
       "<path clip-path=\"url(#clip172)\" d=\"\n",
       "M2001.26 214.518 L2001.26 1233.37 L2013.22 1233.37 L2013.22 214.518 L2001.26 214.518 L2001.26 214.518  Z\n",
       "  \" fill=\"#009af9\" fill-rule=\"evenodd\" fill-opacity=\"1\"/>\n",
       "<polyline clip-path=\"url(#clip172)\" style=\"stroke:#000000; stroke-width:4; stroke-opacity:1; fill:none\" points=\"\n",
       "  2001.26,214.518 2001.26,1233.37 2013.22,1233.37 2013.22,214.518 2001.26,214.518 \n",
       "  \"/>\n",
       "<path clip-path=\"url(#clip172)\" d=\"\n",
       "M2016.21 803.664 L2016.21 1233.37 L2028.17 1233.37 L2028.17 803.664 L2016.21 803.664 L2016.21 803.664  Z\n",
       "  \" fill=\"#009af9\" fill-rule=\"evenodd\" fill-opacity=\"1\"/>\n",
       "<polyline clip-path=\"url(#clip172)\" style=\"stroke:#000000; stroke-width:4; stroke-opacity:1; fill:none\" points=\"\n",
       "  2016.21,803.664 2016.21,1233.37 2028.17,1233.37 2028.17,803.664 2016.21,803.664 \n",
       "  \"/>\n",
       "<path clip-path=\"url(#clip172)\" d=\"\n",
       "M2031.16 425.593 L2031.16 1233.37 L2043.12 1233.37 L2043.12 425.593 L2031.16 425.593 L2031.16 425.593  Z\n",
       "  \" fill=\"#009af9\" fill-rule=\"evenodd\" fill-opacity=\"1\"/>\n",
       "<polyline clip-path=\"url(#clip172)\" style=\"stroke:#000000; stroke-width:4; stroke-opacity:1; fill:none\" points=\"\n",
       "  2031.16,425.593 2031.16,1233.37 2043.12,1233.37 2043.12,425.593 2031.16,425.593 \n",
       "  \"/>\n",
       "<path clip-path=\"url(#clip172)\" d=\"\n",
       "M2046.11 617.022 L2046.11 1233.37 L2058.07 1233.37 L2058.07 617.022 L2046.11 617.022 L2046.11 617.022  Z\n",
       "  \" fill=\"#009af9\" fill-rule=\"evenodd\" fill-opacity=\"1\"/>\n",
       "<polyline clip-path=\"url(#clip172)\" style=\"stroke:#000000; stroke-width:4; stroke-opacity:1; fill:none\" points=\"\n",
       "  2046.11,617.022 2046.11,1233.37 2058.07,1233.37 2058.07,617.022 2046.11,617.022 \n",
       "  \"/>\n",
       "<path clip-path=\"url(#clip172)\" d=\"\n",
       "M2061.06 694.097 L2061.06 1233.37 L2073.02 1233.37 L2073.02 694.097 L2061.06 694.097 L2061.06 694.097  Z\n",
       "  \" fill=\"#009af9\" fill-rule=\"evenodd\" fill-opacity=\"1\"/>\n",
       "<polyline clip-path=\"url(#clip172)\" style=\"stroke:#000000; stroke-width:4; stroke-opacity:1; fill:none\" points=\"\n",
       "  2061.06,694.097 2061.06,1233.37 2073.02,1233.37 2073.02,694.097 2061.06,694.097 \n",
       "  \"/>\n",
       "<path clip-path=\"url(#clip172)\" d=\"\n",
       "M2076 807.443 L2076 1233.37 L2087.96 1233.37 L2087.96 807.443 L2076 807.443 L2076 807.443  Z\n",
       "  \" fill=\"#009af9\" fill-rule=\"evenodd\" fill-opacity=\"1\"/>\n",
       "<polyline clip-path=\"url(#clip172)\" style=\"stroke:#000000; stroke-width:4; stroke-opacity:1; fill:none\" points=\"\n",
       "  2076,807.443 2076,1233.37 2087.96,1233.37 2087.96,807.443 2076,807.443 \n",
       "  \"/>\n",
       "<path clip-path=\"url(#clip172)\" d=\"\n",
       "M2090.95 624.326 L2090.95 1233.37 L2102.91 1233.37 L2102.91 624.326 L2090.95 624.326 L2090.95 624.326  Z\n",
       "  \" fill=\"#009af9\" fill-rule=\"evenodd\" fill-opacity=\"1\"/>\n",
       "<polyline clip-path=\"url(#clip172)\" style=\"stroke:#000000; stroke-width:4; stroke-opacity:1; fill:none\" points=\"\n",
       "  2090.95,624.326 2090.95,1233.37 2102.91,1233.37 2102.91,624.326 2090.95,624.326 \n",
       "  \"/>\n",
       "<path clip-path=\"url(#clip172)\" d=\"\n",
       "M2105.9 850.514 L2105.9 1233.37 L2117.86 1233.37 L2117.86 850.514 L2105.9 850.514 L2105.9 850.514  Z\n",
       "  \" fill=\"#009af9\" fill-rule=\"evenodd\" fill-opacity=\"1\"/>\n",
       "<polyline clip-path=\"url(#clip172)\" style=\"stroke:#000000; stroke-width:4; stroke-opacity:1; fill:none\" points=\"\n",
       "  2105.9,850.514 2105.9,1233.37 2117.86,1233.37 2117.86,850.514 2105.9,850.514 \n",
       "  \"/>\n",
       "<path clip-path=\"url(#clip172)\" d=\"\n",
       "M2120.85 625.082 L2120.85 1233.37 L2132.81 1233.37 L2132.81 625.082 L2120.85 625.082 L2120.85 625.082  Z\n",
       "  \" fill=\"#009af9\" fill-rule=\"evenodd\" fill-opacity=\"1\"/>\n",
       "<polyline clip-path=\"url(#clip172)\" style=\"stroke:#000000; stroke-width:4; stroke-opacity:1; fill:none\" points=\"\n",
       "  2120.85,625.082 2120.85,1233.37 2132.81,1233.37 2132.81,625.082 2120.85,625.082 \n",
       "  \"/>\n",
       "<path clip-path=\"url(#clip172)\" d=\"\n",
       "M2135.8 658.582 L2135.8 1233.37 L2147.76 1233.37 L2147.76 658.582 L2135.8 658.582 L2135.8 658.582  Z\n",
       "  \" fill=\"#009af9\" fill-rule=\"evenodd\" fill-opacity=\"1\"/>\n",
       "<polyline clip-path=\"url(#clip172)\" style=\"stroke:#000000; stroke-width:4; stroke-opacity:1; fill:none\" points=\"\n",
       "  2135.8,658.582 2135.8,1233.37 2147.76,1233.37 2147.76,658.582 2135.8,658.582 \n",
       "  \"/>\n",
       "<path clip-path=\"url(#clip172)\" d=\"\n",
       "M2150.75 549.518 L2150.75 1233.37 L2162.71 1233.37 L2162.71 549.518 L2150.75 549.518 L2150.75 549.518  Z\n",
       "  \" fill=\"#009af9\" fill-rule=\"evenodd\" fill-opacity=\"1\"/>\n",
       "<polyline clip-path=\"url(#clip172)\" style=\"stroke:#000000; stroke-width:4; stroke-opacity:1; fill:none\" points=\"\n",
       "  2150.75,549.518 2150.75,1233.37 2162.71,1233.37 2162.71,549.518 2150.75,549.518 \n",
       "  \"/>\n",
       "<path clip-path=\"url(#clip172)\" d=\"\n",
       "M2165.7 631.379 L2165.7 1233.37 L2177.66 1233.37 L2177.66 631.379 L2165.7 631.379 L2165.7 631.379  Z\n",
       "  \" fill=\"#009af9\" fill-rule=\"evenodd\" fill-opacity=\"1\"/>\n",
       "<polyline clip-path=\"url(#clip172)\" style=\"stroke:#000000; stroke-width:4; stroke-opacity:1; fill:none\" points=\"\n",
       "  2165.7,631.379 2165.7,1233.37 2177.66,1233.37 2177.66,631.379 2165.7,631.379 \n",
       "  \"/>\n",
       "<path clip-path=\"url(#clip172)\" d=\"\n",
       "M2180.65 618.533 L2180.65 1233.37 L2192.61 1233.37 L2192.61 618.533 L2180.65 618.533 L2180.65 618.533  Z\n",
       "  \" fill=\"#009af9\" fill-rule=\"evenodd\" fill-opacity=\"1\"/>\n",
       "<polyline clip-path=\"url(#clip172)\" style=\"stroke:#000000; stroke-width:4; stroke-opacity:1; fill:none\" points=\"\n",
       "  2180.65,618.533 2180.65,1233.37 2192.61,1233.37 2192.61,618.533 2180.65,618.533 \n",
       "  \"/>\n",
       "<path clip-path=\"url(#clip172)\" d=\"\n",
       "M2195.6 803.413 L2195.6 1233.37 L2207.56 1233.37 L2207.56 803.413 L2195.6 803.413 L2195.6 803.413  Z\n",
       "  \" fill=\"#009af9\" fill-rule=\"evenodd\" fill-opacity=\"1\"/>\n",
       "<polyline clip-path=\"url(#clip172)\" style=\"stroke:#000000; stroke-width:4; stroke-opacity:1; fill:none\" points=\"\n",
       "  2195.6,803.413 2195.6,1233.37 2207.56,1233.37 2207.56,803.413 2195.6,803.413 \n",
       "  \"/>\n",
       "<path clip-path=\"url(#clip172)\" d=\"\n",
       "M2210.55 921.544 L2210.55 1233.37 L2222.51 1233.37 L2222.51 921.544 L2210.55 921.544 L2210.55 921.544  Z\n",
       "  \" fill=\"#009af9\" fill-rule=\"evenodd\" fill-opacity=\"1\"/>\n",
       "<polyline clip-path=\"url(#clip172)\" style=\"stroke:#000000; stroke-width:4; stroke-opacity:1; fill:none\" points=\"\n",
       "  2210.55,921.544 2210.55,1233.37 2222.51,1233.37 2222.51,921.544 2210.55,921.544 \n",
       "  \"/>\n",
       "<path clip-path=\"url(#clip172)\" d=\"\n",
       "M2225.5 949.755 L2225.5 1233.37 L2237.46 1233.37 L2237.46 949.755 L2225.5 949.755 L2225.5 949.755  Z\n",
       "  \" fill=\"#009af9\" fill-rule=\"evenodd\" fill-opacity=\"1\"/>\n",
       "<polyline clip-path=\"url(#clip172)\" style=\"stroke:#000000; stroke-width:4; stroke-opacity:1; fill:none\" points=\"\n",
       "  2225.5,949.755 2225.5,1233.37 2237.46,1233.37 2237.46,949.755 2225.5,949.755 \n",
       "  \"/>\n",
       "<polyline clip-path=\"url(#clip172)\" style=\"stroke:#ff0000; stroke-width:8; stroke-opacity:1; fill:none\" points=\"\n",
       "  377.765,1233.37 392.714,1233.37 407.663,1233.37 422.613,1233.37 437.562,1233.37 452.511,1233.37 467.46,1233.35 482.41,1233.35 497.359,1233.35 512.308,1233.35 \n",
       "  527.258,1233.35 542.207,1233.35 557.156,1233.35 572.106,1233.37 587.055,1233.37 602.004,1233.37 616.953,1233.37 631.903,1233.37 646.852,1233.37 661.801,1233.37 \n",
       "  676.751,1233.37 691.7,1233.37 706.649,1233.37 721.599,1233.37 736.548,1233.37 751.497,1233.37 766.446,1233.37 781.396,1233.37 796.345,1233.37 811.294,1233.37 \n",
       "  826.244,1233.37 841.193,1233.37 856.142,1233.37 871.092,1233.37 886.041,1233.37 900.99,1233.37 915.939,1233.35 930.889,1233.35 945.838,1233.3 960.787,1233.3 \n",
       "  975.737,1233.3 990.686,1233.27 1005.64,1233.22 1020.58,1233.27 1035.53,1233.22 1050.48,1233.12 1065.43,1232.84 1080.38,1232.62 1095.33,1232.39 1110.28,1231.94 \n",
       "  1125.23,1231.21 1140.18,1230.25 1155.13,1230.02 1170.08,1228.33 1185.03,1223.98 1199.98,1219.42 1214.93,1214.05 1229.87,1208.71 1244.82,1199.09 1259.77,1190.88 \n",
       "  1274.72,1183.85 1289.67,1176.22 1304.62,1157.15 1319.57,1145.36 1334.52,1132.77 1349.47,1105.06 1364.42,1097.18 1379.37,1073 1394.32,1049.73 1409.27,1047.81 \n",
       "  1424.22,1021.97 1439.16,988.317 1454.11,993.607 1469.06,974.59 1484.01,961.442 1498.96,941.921 1513.91,919.353 1528.86,910.134 1543.81,915.902 1558.76,888.8 \n",
       "  1573.71,882.075 1588.66,884.417 1603.61,890.991 1618.56,898.296 1633.51,884.77 1648.46,874.266 1663.4,891.344 1678.35,892.15 1693.3,880.311 1708.25,855.023 \n",
       "  1723.2,830.338 1738.15,798.602 1753.1,779.383 1768.05,745.959 1783,716.111 1797.95,692.082 1812.9,684.752 1827.85,658.254 1842.8,643.368 1857.75,631.454 \n",
       "  1872.69,600.221 1887.64,587.224 1902.59,593.345 1917.54,592.564 1932.49,589.844 1947.44,598.886 1962.39,603.571 1977.34,651.781 1992.29,683.442 2007.24,611.631 \n",
       "  2022.19,632.109 2037.14,611.631 2052.09,627.424 2067.04,633.872 2081.98,632.537 2096.93,598.105 2111.88,688.958 2126.83,663.443 2141.78,696.716 2156.73,687.069 \n",
       "  2171.68,678.128 2186.63,651.126 2201.58,676.717 2216.53,686.868 2231.48,733.239 \n",
       "  \"/>\n",
       "<path clip-path=\"url(#clip170)\" d=\"\n",
       "M328.486 448.912 L808.138 448.912 L808.138 267.472 L328.486 267.472  Z\n",
       "  \" fill=\"#ffffff\" fill-rule=\"evenodd\" fill-opacity=\"1\"/>\n",
       "<polyline clip-path=\"url(#clip170)\" style=\"stroke:#000000; stroke-width:4; stroke-opacity:1; fill:none\" points=\"\n",
       "  328.486,448.912 808.138,448.912 808.138,267.472 328.486,267.472 328.486,448.912 \n",
       "  \"/>\n",
       "<path clip-path=\"url(#clip170)\" d=\"\n",
       "M352.486 352.144 L496.486 352.144 L496.486 303.76 L352.486 303.76 L352.486 352.144  Z\n",
       "  \" fill=\"#009af9\" fill-rule=\"evenodd\" fill-opacity=\"1\"/>\n",
       "<polyline clip-path=\"url(#clip170)\" style=\"stroke:#000000; stroke-width:4; stroke-opacity:1; fill:none\" points=\"\n",
       "  352.486,352.144 496.486,352.144 496.486,303.76 352.486,303.76 352.486,352.144 \n",
       "  \"/>\n",
       "<path clip-path=\"url(#clip170)\" d=\"M 0 0 M525.162 314.515 L525.162 341.39 L530.81 341.39 Q537.963 341.39 541.273 338.149 Q544.607 334.908 544.607 327.917 Q544.607 320.973 541.273 317.755 Q537.963 314.515 530.81 314.515 L525.162 314.515 M520.486 310.672 L530.093 310.672 Q540.139 310.672 544.838 314.862 Q549.537 319.029 549.537 327.917 Q549.537 336.853 544.815 341.042 Q540.093 345.232 530.093 345.232 L520.486 345.232 L520.486 310.672 Z\" fill=\"#000000\" fill-rule=\"evenodd\" fill-opacity=\"1\" /><path clip-path=\"url(#clip170)\" d=\"M 0 0 M565.787 332.2 Q560.625 332.2 558.634 333.38 Q556.644 334.561 556.644 337.408 Q556.644 339.677 558.125 341.019 Q559.63 342.339 562.199 342.339 Q565.741 342.339 567.87 339.839 Q570.023 337.316 570.023 333.149 L570.023 332.2 L565.787 332.2 M574.282 330.441 L574.282 345.232 L570.023 345.232 L570.023 341.297 Q568.565 343.658 566.389 344.792 Q564.213 345.903 561.065 345.903 Q557.083 345.903 554.722 343.681 Q552.384 341.436 552.384 337.686 Q552.384 333.311 555.301 331.089 Q558.241 328.866 564.051 328.866 L570.023 328.866 L570.023 328.45 Q570.023 325.51 568.079 323.913 Q566.157 322.292 562.662 322.292 Q560.44 322.292 558.333 322.825 Q556.227 323.357 554.283 324.422 L554.283 320.487 Q556.621 319.584 558.82 319.144 Q561.019 318.681 563.102 318.681 Q568.727 318.681 571.505 321.598 Q574.282 324.515 574.282 330.441 Z\" fill=\"#000000\" fill-rule=\"evenodd\" fill-opacity=\"1\" /><path clip-path=\"url(#clip170)\" d=\"M 0 0 M578.75 319.306 L583.009 319.306 L583.009 345.232 L578.75 345.232 L578.75 319.306 M578.75 309.214 L583.009 309.214 L583.009 314.607 L578.75 314.607 L578.75 309.214 Z\" fill=\"#000000\" fill-rule=\"evenodd\" fill-opacity=\"1\" /><path clip-path=\"url(#clip170)\" d=\"M 0 0 M587.477 309.214 L591.736 309.214 L591.736 345.232 L587.477 345.232 L587.477 309.214 Z\" fill=\"#000000\" fill-rule=\"evenodd\" fill-opacity=\"1\" /><path clip-path=\"url(#clip170)\" d=\"M 0 0 M606.991 347.64 Q605.185 352.269 603.472 353.681 Q601.759 355.093 598.889 355.093 L595.486 355.093 L595.486 351.528 L597.986 351.528 Q599.745 351.528 600.717 350.695 Q601.69 349.862 602.87 346.76 L603.634 344.815 L593.148 319.306 L597.662 319.306 L605.764 339.584 L613.866 319.306 L618.379 319.306 L606.991 347.64 Z\" fill=\"#000000\" fill-rule=\"evenodd\" fill-opacity=\"1\" /><path clip-path=\"url(#clip170)\" d=\"M 0 0 M663.981 313.334 L663.981 318.265 Q661.62 316.066 658.935 314.978 Q656.273 313.89 653.264 313.89 Q647.338 313.89 644.189 317.524 Q641.041 321.135 641.041 327.987 Q641.041 334.816 644.189 338.45 Q647.338 342.061 653.264 342.061 Q656.273 342.061 658.935 340.973 Q661.62 339.885 663.981 337.686 L663.981 342.57 Q661.527 344.237 658.773 345.07 Q656.041 345.903 652.986 345.903 Q645.139 345.903 640.625 341.112 Q636.111 336.297 636.111 327.987 Q636.111 319.654 640.625 314.862 Q645.139 310.047 652.986 310.047 Q656.088 310.047 658.819 310.88 Q661.574 311.691 663.981 313.334 Z\" fill=\"#000000\" fill-rule=\"evenodd\" fill-opacity=\"1\" /><path clip-path=\"url(#clip170)\" d=\"M 0 0 M680.231 332.2 Q675.069 332.2 673.078 333.38 Q671.087 334.561 671.087 337.408 Q671.087 339.677 672.569 341.019 Q674.074 342.339 676.643 342.339 Q680.185 342.339 682.314 339.839 Q684.467 337.316 684.467 333.149 L684.467 332.2 L680.231 332.2 M688.726 330.441 L688.726 345.232 L684.467 345.232 L684.467 341.297 Q683.009 343.658 680.833 344.792 Q678.657 345.903 675.509 345.903 Q671.527 345.903 669.166 343.681 Q666.828 341.436 666.828 337.686 Q666.828 333.311 669.745 331.089 Q672.685 328.866 678.495 328.866 L684.467 328.866 L684.467 328.45 Q684.467 325.51 682.523 323.913 Q680.601 322.292 677.106 322.292 Q674.884 322.292 672.777 322.825 Q670.671 323.357 668.726 324.422 L668.726 320.487 Q671.064 319.584 673.263 319.144 Q675.462 318.681 677.546 318.681 Q683.171 318.681 685.949 321.598 Q688.726 324.515 688.726 330.441 Z\" fill=\"#000000\" fill-rule=\"evenodd\" fill-opacity=\"1\" /><path clip-path=\"url(#clip170)\" d=\"M 0 0 M709.722 320.07 L709.722 324.098 Q707.916 323.172 705.972 322.709 Q704.027 322.246 701.944 322.246 Q698.773 322.246 697.175 323.218 Q695.601 324.191 695.601 326.135 Q695.601 327.616 696.735 328.473 Q697.87 329.306 701.296 330.07 L702.754 330.394 Q707.291 331.366 709.189 333.149 Q711.11 334.908 711.11 338.079 Q711.11 341.69 708.24 343.797 Q705.393 345.903 700.393 345.903 Q698.31 345.903 696.041 345.487 Q693.796 345.093 691.296 344.283 L691.296 339.885 Q693.657 341.112 695.948 341.737 Q698.24 342.339 700.485 342.339 Q703.495 342.339 705.115 341.32 Q706.735 340.278 706.735 338.403 Q706.735 336.667 705.555 335.741 Q704.397 334.816 700.439 333.959 L698.958 333.612 Q694.999 332.778 693.24 331.066 Q691.481 329.329 691.481 326.32 Q691.481 322.663 694.073 320.672 Q696.666 318.681 701.435 318.681 Q703.796 318.681 705.879 319.029 Q707.962 319.376 709.722 320.07 Z\" fill=\"#000000\" fill-rule=\"evenodd\" fill-opacity=\"1\" /><path clip-path=\"url(#clip170)\" d=\"M 0 0 M737.754 331.204 L737.754 333.288 L718.171 333.288 Q718.448 337.686 720.809 340.001 Q723.194 342.292 727.43 342.292 Q729.883 342.292 732.175 341.69 Q734.49 341.089 736.758 339.885 L736.758 343.913 Q734.467 344.885 732.059 345.394 Q729.652 345.903 727.175 345.903 Q720.971 345.903 717.337 342.292 Q713.726 338.681 713.726 332.524 Q713.726 326.158 717.152 322.431 Q720.601 318.681 726.434 318.681 Q731.666 318.681 734.698 322.061 Q737.754 325.417 737.754 331.204 M733.495 329.954 Q733.448 326.459 731.527 324.376 Q729.629 322.292 726.481 322.292 Q722.916 322.292 720.763 324.306 Q718.634 326.32 718.309 329.978 L733.495 329.954 Z\" fill=\"#000000\" fill-rule=\"evenodd\" fill-opacity=\"1\" /><path clip-path=\"url(#clip170)\" d=\"M 0 0 M758.749 320.07 L758.749 324.098 Q756.944 323.172 754.999 322.709 Q753.055 322.246 750.971 322.246 Q747.8 322.246 746.203 323.218 Q744.629 324.191 744.629 326.135 Q744.629 327.616 745.763 328.473 Q746.897 329.306 750.323 330.07 L751.781 330.394 Q756.319 331.366 758.217 333.149 Q760.138 334.908 760.138 338.079 Q760.138 341.69 757.268 343.797 Q754.42 345.903 749.42 345.903 Q747.337 345.903 745.069 345.487 Q742.823 345.093 740.323 344.283 L740.323 339.885 Q742.684 341.112 744.976 341.737 Q747.268 342.339 749.513 342.339 Q752.522 342.339 754.143 341.32 Q755.763 340.278 755.763 338.403 Q755.763 336.667 754.582 335.741 Q753.425 334.816 749.467 333.959 L747.985 333.612 Q744.027 332.778 742.268 331.066 Q740.508 329.329 740.508 326.32 Q740.508 322.663 743.101 320.672 Q745.694 318.681 750.462 318.681 Q752.823 318.681 754.906 319.029 Q756.99 319.376 758.749 320.07 Z\" fill=\"#000000\" fill-rule=\"evenodd\" fill-opacity=\"1\" /><polyline clip-path=\"url(#clip170)\" style=\"stroke:#ff0000; stroke-width:4; stroke-opacity:1; fill:none\" points=\"\n",
       "  352.486,388.432 496.486,388.432 \n",
       "  \"/>\n",
       "<path clip-path=\"url(#clip170)\" d=\"M 0 0 M520.486 371.152 L542.709 371.152 L542.709 373.143 L530.162 405.712 L525.278 405.712 L537.084 375.087 L520.486 375.087 L520.486 371.152 Z\" fill=\"#000000\" fill-rule=\"evenodd\" fill-opacity=\"1\" /><path clip-path=\"url(#clip170)\" d=\"M 0 0 M545.023 390.828 L557.5 390.828 L557.5 394.624 L545.023 394.624 L545.023 390.828 Z\" fill=\"#000000\" fill-rule=\"evenodd\" fill-opacity=\"1\" /><path clip-path=\"url(#clip170)\" d=\"M 0 0 M579.028 383.722 L579.028 369.694 L583.287 369.694 L583.287 405.712 L579.028 405.712 L579.028 401.823 Q577.685 404.138 575.625 405.272 Q573.588 406.383 570.718 406.383 Q566.019 406.383 563.056 402.633 Q560.116 398.883 560.116 392.772 Q560.116 386.661 563.056 382.911 Q566.019 379.161 570.718 379.161 Q573.588 379.161 575.625 380.296 Q577.685 381.407 579.028 383.722 M564.514 392.772 Q564.514 397.471 566.435 400.157 Q568.38 402.819 571.759 402.819 Q575.139 402.819 577.083 400.157 Q579.028 397.471 579.028 392.772 Q579.028 388.073 577.083 385.411 Q575.139 382.726 571.759 382.726 Q568.38 382.726 566.435 385.411 Q564.514 388.073 564.514 392.772 Z\" fill=\"#000000\" fill-rule=\"evenodd\" fill-opacity=\"1\" /><path clip-path=\"url(#clip170)\" d=\"M 0 0 M599.537 392.68 Q594.375 392.68 592.384 393.86 Q590.393 395.041 590.393 397.888 Q590.393 400.157 591.875 401.499 Q593.38 402.819 595.949 402.819 Q599.491 402.819 601.62 400.319 Q603.773 397.796 603.773 393.629 L603.773 392.68 L599.537 392.68 M608.032 390.921 L608.032 405.712 L603.773 405.712 L603.773 401.777 Q602.315 404.138 600.139 405.272 Q597.963 406.383 594.815 406.383 Q590.833 406.383 588.472 404.161 Q586.134 401.916 586.134 398.166 Q586.134 393.791 589.051 391.569 Q591.991 389.346 597.801 389.346 L603.773 389.346 L603.773 388.93 Q603.773 385.99 601.829 384.393 Q599.907 382.772 596.412 382.772 Q594.19 382.772 592.083 383.305 Q589.977 383.837 588.032 384.902 L588.032 380.967 Q590.37 380.064 592.569 379.624 Q594.768 379.161 596.852 379.161 Q602.477 379.161 605.255 382.078 Q608.032 384.995 608.032 390.921 Z\" fill=\"#000000\" fill-rule=\"evenodd\" fill-opacity=\"1\" /><path clip-path=\"url(#clip170)\" d=\"M 0 0 M623.287 408.12 Q621.481 412.749 619.768 414.161 Q618.055 415.573 615.185 415.573 L611.782 415.573 L611.782 412.008 L614.282 412.008 Q616.041 412.008 617.014 411.175 Q617.986 410.342 619.166 407.24 L619.93 405.295 L609.444 379.786 L613.958 379.786 L622.06 400.064 L630.162 379.786 L634.676 379.786 L623.287 408.12 Z\" fill=\"#000000\" fill-rule=\"evenodd\" fill-opacity=\"1\" /><path clip-path=\"url(#clip170)\" d=\"M 0 0 M665.949 375.759 L659.606 392.958 L672.314 392.958 L665.949 375.759 M663.31 371.152 L668.611 371.152 L681.782 405.712 L676.921 405.712 L673.773 396.846 L658.194 396.846 L655.046 405.712 L650.115 405.712 L663.31 371.152 Z\" fill=\"#000000\" fill-rule=\"evenodd\" fill-opacity=\"1\" /><path clip-path=\"url(#clip170)\" d=\"M 0 0 M680.416 379.786 L684.93 379.786 L693.032 401.545 L701.134 379.786 L705.647 379.786 L695.925 405.712 L690.138 405.712 L680.416 379.786 Z\" fill=\"#000000\" fill-rule=\"evenodd\" fill-opacity=\"1\" /><path clip-path=\"url(#clip170)\" d=\"M 0 0 M727.175 392.448 Q727.175 387.819 725.254 385.272 Q723.356 382.726 719.907 382.726 Q716.481 382.726 714.559 385.272 Q712.661 387.819 712.661 392.448 Q712.661 397.055 714.559 399.601 Q716.481 402.147 719.907 402.147 Q723.356 402.147 725.254 399.601 Q727.175 397.055 727.175 392.448 M731.434 402.495 Q731.434 409.115 728.495 412.332 Q725.555 415.573 719.49 415.573 Q717.245 415.573 715.254 415.226 Q713.263 414.902 711.388 414.207 L711.388 410.064 Q713.263 411.082 715.092 411.569 Q716.921 412.055 718.819 412.055 Q723.009 412.055 725.092 409.856 Q727.175 407.68 727.175 403.258 L727.175 401.152 Q725.856 403.444 723.796 404.578 Q721.735 405.712 718.865 405.712 Q714.097 405.712 711.18 402.078 Q708.263 398.444 708.263 392.448 Q708.263 386.43 711.18 382.796 Q714.097 379.161 718.865 379.161 Q721.735 379.161 723.796 380.296 Q725.856 381.43 727.175 383.722 L727.175 379.786 L731.434 379.786 L731.434 402.495 Z\" fill=\"#000000\" fill-rule=\"evenodd\" fill-opacity=\"1\" /></svg>\n"
      ]
     },
     "execution_count": 73,
     "metadata": {},
     "output_type": "execute_result"
    }
   ],
   "source": [
    "graph_epidemiological_curve(dfs,\"Illinois\")"
   ]
  },
  {
   "cell_type": "code",
   "execution_count": null,
   "metadata": {},
   "outputs": [],
   "source": []
  }
 ],
 "metadata": {
  "@webio": {
   "lastCommId": "8f564189a0444eb3bb48462605789f89",
   "lastKernelId": "3229260e-45e1-405c-811b-0c4817f5e87c"
  },
  "kernelspec": {
   "display_name": "Julia 1.4.1",
   "language": "julia",
   "name": "julia-1.4"
  },
  "language_info": {
   "file_extension": ".jl",
   "mimetype": "application/julia",
   "name": "julia",
   "version": "1.4.1"
  }
 },
 "nbformat": 4,
 "nbformat_minor": 4
}
