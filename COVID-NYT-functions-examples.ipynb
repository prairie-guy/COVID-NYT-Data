{
 "cells": [
  {
   "cell_type": "markdown",
   "metadata": {},
   "source": [
    "### Example Usage and Validation\n",
    "Demonstrate the key functions from `COVID-NYT-functions.jl`\n",
    "\n",
    "https://github.com/nytimes/covid-19-data"
   ]
  },
  {
   "cell_type": "markdown",
   "metadata": {},
   "source": [
    "### Include all of the core functions"
   ]
  },
  {
   "cell_type": "code",
   "execution_count": 76,
   "metadata": {},
   "outputs": [],
   "source": [
    "include(\"COVID-NYT-functions.jl\"); "
   ]
  },
  {
   "cell_type": "markdown",
   "metadata": {},
   "source": [
    "@tbl macro uses TableView to display DataFrames"
   ]
  },
  {
   "cell_type": "code",
   "execution_count": 65,
   "metadata": {},
   "outputs": [],
   "source": [
    "using DataFrames, Plots"
   ]
  },
  {
   "cell_type": "markdown",
   "metadata": {},
   "source": [
    "### Get New York Times COVID County Data"
   ]
  },
  {
   "cell_type": "code",
   "execution_count": 77,
   "metadata": {
    "scrolled": true
   },
   "outputs": [
    {
     "name": "stdout",
     "output_type": "stream",
     "text": [
      "  1.912991 seconds (11.86 M allocations: 542.116 MiB, 5.40% gc time)\n"
     ]
    },
    {
     "data": {
      "application/vnd.webio.node+json": {
       "children": [
        {
         "children": [
          {
           "children": [
            ""
           ],
           "instanceArgs": {
            "namespace": "html",
            "tag": "div"
           },
           "nodeType": "DOM",
           "props": {
            "style": {
             "background-color": "#F5F7F7",
             "color": "#1c1f20",
             "font-family": "-apple-system, BlinkMacSystemFont, \"Segoe UI\", Roboto, Oxygen-Sans, Ubuntu, Cantarell, \"Helvetica Neue\", sans-serif",
             "height": "0",
             "padding": "0"
            }
           },
           "type": "node"
          },
          {
           "children": [],
           "instanceArgs": {
            "namespace": "html",
            "tag": "div"
           },
           "nodeType": "DOM",
           "props": {
            "className": "ag-theme-balham",
            "id": "grid-a98692a6",
            "style": {
             "height": "500px",
             "width": "100%"
            }
           },
           "type": "node"
          }
         ],
         "instanceArgs": {
          "namespace": "html",
          "tag": "div"
         },
         "nodeType": "DOM",
         "props": {},
         "type": "node"
        }
       ],
       "instanceArgs": {
        "handlers": {
         "requestedrows": [
          "(function (val){return WebIO.getval({\"name\":\"rowparams\",\"scope\":\"5165632502288580249\",\"id\":\"ob_230\",\"type\":\"observable\"}).successCallback(val,null)})"
         ]
        },
        "id": "5165632502288580249",
        "imports": {
         "data": [
          {
           "name": null,
           "type": "js",
           "url": "/assetserver/ed80b7d691fade66e145983a11fb79e515dab825-rowNumberRenderer.js"
          },
          {
           "name": null,
           "type": "js",
           "url": "/assetserver/b9b20eb0f99819a38f7ecc433feed4bbe393c528-ag-grid.js"
          },
          {
           "name": null,
           "type": "css",
           "url": "/assetserver/5b9005a8a21f5ef6a55c77dc41516952608d0d1d-ag-grid.css"
          },
          {
           "name": null,
           "type": "css",
           "url": "/assetserver/fb7e660811b5af595641e24a03483dce78e1076e-ag-grid-light.css"
          },
          {
           "name": null,
           "type": "css",
           "url": "/assetserver/6ec54d9f8a742a6e19395fb487212fdce57da7bc-ag-grid-dark.css"
          }
         ],
         "type": "async_block"
        },
        "mount_callbacks": [
         "function () {\n    var handler = ((function (RowNumberRenderer,agGrid){var gridOptions={\"onCellFocused\":(function (ev){var x={}; (ev.rowIndex!==undefined) ? (x[\"rowIndex\"]=(ev.rowIndex+1)) : undefined; (ev.colDef!==undefined) ? (x[\"column\"]=ev.colDef.headerName) : undefined; return WebIO.setval({\"name\":\"onCellFocused\",\"scope\":\"5165632502288580249\",\"id\":\"ob_228\",\"type\":\"observable\"},x)}),\"onCellValueChanged\":(function (){return }),\"rowModelType\":\"infinite\",\"onRowClicked\":(function (ev){var x={}; (ev.rowIndex!==undefined) ? (x[\"rowIndex\"]=(ev.rowIndex+1)) : undefined; (ev.colDef!==undefined) ? (x[\"column\"]=ev.colDef.headerName) : undefined; return WebIO.setval({\"name\":\"onRowClicked\",\"scope\":\"5165632502288580249\",\"id\":\"ob_227\",\"type\":\"observable\"},x)}),\"maxConcurrentDatasourceRequests\":1,\"columnDefs\":[{\"filter\":false,\"editable\":false,\"headerTooltip\":\"\",\"field\":\"__row__\",\"headerName\":\"Row\",\"sortable\":false,\"type\":\"numericColumn\",\"cellRenderer\":\"rowNumberRenderer\",\"resizable\":true},{\"filter\":false,\"editable\":false,\"headerTooltip\":\"Date\",\"field\":\"date\",\"headerName\":\"date\",\"sortable\":false,\"type\":null,\"resizable\":true},{\"filter\":false,\"editable\":false,\"headerTooltip\":\"String\",\"field\":\"county\",\"headerName\":\"county\",\"sortable\":false,\"type\":null,\"resizable\":true},{\"filter\":false,\"editable\":false,\"headerTooltip\":\"String\",\"field\":\"state\",\"headerName\":\"state\",\"sortable\":false,\"type\":null,\"resizable\":true},{\"filter\":false,\"editable\":false,\"headerTooltip\":\"Union{Missing, String}\",\"field\":\"fips\",\"headerName\":\"fips\",\"sortable\":false,\"type\":null,\"resizable\":true},{\"filter\":false,\"editable\":false,\"headerTooltip\":\"Int64\",\"field\":\"cases\",\"headerName\":\"cases\",\"sortable\":false,\"type\":\"numericColumn\",\"resizable\":true},{\"filter\":false,\"editable\":false,\"headerTooltip\":\"Int64\",\"field\":\"deaths\",\"headerName\":\"deaths\",\"sortable\":false,\"type\":\"numericColumn\",\"resizable\":true},{\"filter\":false,\"editable\":false,\"headerTooltip\":\"Float64\",\"field\":\"casesMA\",\"headerName\":\"casesMA\",\"sortable\":false,\"type\":\"numericColumn\",\"resizable\":true},{\"filter\":false,\"editable\":false,\"headerTooltip\":\"Int64\",\"field\":\"casesIncrease\",\"headerName\":\"casesIncrease\",\"sortable\":false,\"type\":\"numericColumn\",\"resizable\":true},{\"filter\":false,\"editable\":false,\"headerTooltip\":\"Float64\",\"field\":\"casesIncreaseMA\",\"headerName\":\"casesIncreaseMA\",\"sortable\":false,\"type\":\"numericColumn\",\"resizable\":true},{\"filter\":false,\"editable\":false,\"headerTooltip\":\"Float64\",\"field\":\"pch_casesMA\",\"headerName\":\"pch_casesMA\",\"sortable\":false,\"type\":\"numericColumn\",\"resizable\":true},{\"filter\":false,\"editable\":false,\"headerTooltip\":\"Float64\",\"field\":\"pch_casesIncreaseMA\",\"headerName\":\"pch_casesIncreaseMA\",\"sortable\":false,\"type\":\"numericColumn\",\"resizable\":true},{\"filter\":false,\"editable\":false,\"headerTooltip\":\"Float64\",\"field\":\"deathsMA\",\"headerName\":\"deathsMA\",\"sortable\":false,\"type\":\"numericColumn\",\"resizable\":true},{\"filter\":false,\"editable\":false,\"headerTooltip\":\"Int64\",\"field\":\"deathsIncrease\",\"headerName\":\"deathsIncrease\",\"sortable\":false,\"type\":\"numericColumn\",\"resizable\":true},{\"filter\":false,\"editable\":false,\"headerTooltip\":\"Float64\",\"field\":\"deathsIncreaseMA\",\"headerName\":\"deathsIncreaseMA\",\"sortable\":false,\"type\":\"numericColumn\",\"resizable\":true},{\"filter\":false,\"editable\":false,\"headerTooltip\":\"Float64\",\"field\":\"pch_deathsMA\",\"headerName\":\"pch_deathsMA\",\"sortable\":false,\"type\":\"numericColumn\",\"resizable\":true},{\"filter\":false,\"editable\":false,\"headerTooltip\":\"Float64\",\"field\":\"pch_deathsIncreaseMA\",\"headerName\":\"pch_deathsIncreaseMA\",\"sortable\":false,\"type\":\"numericColumn\",\"resizable\":true},{\"filter\":false,\"editable\":false,\"headerTooltip\":\"Union{Missing, Int64}\",\"field\":\"population\",\"headerName\":\"population\",\"sortable\":false,\"type\":\"numericColumn\",\"resizable\":true}],\"cacheBlockSize\":1000,\"datasource\":{\"rowCount\":null,\"getRows\":(function (rowParams){return WebIO.setval({\"name\":\"rowparams\",\"scope\":\"5165632502288580249\",\"id\":\"ob_230\",\"type\":\"observable\"},rowParams)})},\"multiSortKey\":\"ctrl\",\"maxBlocksInCache\":100,\"onCellDoubleClicked\":(function (ev){var x={}; (ev.rowIndex!==undefined) ? (x[\"rowIndex\"]=(ev.rowIndex+1)) : undefined; (ev.colDef!==undefined) ? (x[\"column\"]=ev.colDef.headerName) : undefined; return WebIO.setval({\"name\":\"onCellDoubleClicked\",\"scope\":\"5165632502288580249\",\"id\":\"ob_226\",\"type\":\"observable\"},x)}),\"onCellKeyDown\":(function (ev){var x={}; (ev.rowIndex!==undefined) ? (x[\"rowIndex\"]=(ev.rowIndex+1)) : undefined; (ev.colDef!==undefined) ? (x[\"column\"]=ev.colDef.headerName) : undefined; return WebIO.setval({\"name\":\"onCellKeyDown\",\"scope\":\"5165632502288580249\",\"id\":\"ob_229\",\"type\":\"observable\"},x)}),\"onCellClicked\":(function (ev){var x={}; (ev.rowIndex!==undefined) ? (x[\"rowIndex\"]=(ev.rowIndex+1)) : undefined; (ev.colDef!==undefined) ? (x[\"column\"]=ev.colDef.headerName) : undefined; return WebIO.setval({\"name\":\"onCellClicked\",\"scope\":\"5165632502288580249\",\"id\":\"ob_225\",\"type\":\"observable\"},x)})}; var el=document.getElementById(\"grid-a98692a6\"); gridOptions.components={\"rowNumberRenderer\":RowNumberRenderer}; this.table=new agGrid.Grid(el,gridOptions); gridOptions.columnApi.autoSizeColumn(\"__row__\"); return gridOptions.columnApi.autoSizeColumns([\"date\",\"county\",\"state\",\"fips\",\"cases\",\"deaths\",\"casesMA\",\"casesIncrease\",\"casesIncreaseMA\",\"pch_casesMA\",\"pch_casesIncreaseMA\",\"deathsMA\",\"deathsIncrease\",\"deathsIncreaseMA\",\"pch_deathsMA\",\"pch_deathsIncreaseMA\",\"population\"])}));\n    (WebIO.importBlock({\"data\":[{\"name\":null,\"type\":\"js\",\"url\":\"/assetserver/ed80b7d691fade66e145983a11fb79e515dab825-rowNumberRenderer.js\"},{\"name\":null,\"type\":\"js\",\"url\":\"/assetserver/b9b20eb0f99819a38f7ecc433feed4bbe393c528-ag-grid.js\"},{\"name\":null,\"type\":\"css\",\"url\":\"/assetserver/5b9005a8a21f5ef6a55c77dc41516952608d0d1d-ag-grid.css\"},{\"name\":null,\"type\":\"css\",\"url\":\"/assetserver/fb7e660811b5af595641e24a03483dce78e1076e-ag-grid-light.css\"},{\"name\":null,\"type\":\"css\",\"url\":\"/assetserver/6ec54d9f8a742a6e19395fb487212fdce57da7bc-ag-grid-dark.css\"}],\"type\":\"async_block\"})).then((imports) => handler.apply(this, imports));\n}\n"
        ],
        "observables": {
         "onCellClicked": {
          "id": "ob_225",
          "sync": false,
          "value": null
         },
         "onCellDoubleClicked": {
          "id": "ob_226",
          "sync": false,
          "value": null
         },
         "onCellFocused": {
          "id": "ob_228",
          "sync": false,
          "value": null
         },
         "onCellKeyDown": {
          "id": "ob_229",
          "sync": false,
          "value": null
         },
         "onRowClicked": {
          "id": "ob_227",
          "sync": false,
          "value": null
         },
         "requestedrows": {
          "id": "ob_231",
          "sync": false,
          "value": {}
         },
         "rowparams": {
          "id": "ob_230",
          "sync": true,
          "value": {
           "endRow": 100,
           "startRow": 1,
           "successCallback": "(function (v){return null})"
          }
         }
        },
        "systemjs_options": null
       },
       "nodeType": "Scope",
       "props": {},
       "type": "node"
      },
      "text/html": [
       "<div\n",
       "    class=\"webio-mountpoint\"\n",
       "    data-webio-mountpoint=\"7882008957242116015\"\n",
       ">\n",
       "    <script>\n",
       "    if (window.require && require.defined && require.defined(\"nbextensions/webio-jupyter-notebook\")) {\n",
       "        console.log(\"Jupyter WebIO extension detected, not mounting.\");\n",
       "    } else if (window.WebIO) {\n",
       "        WebIO.mount(\n",
       "            document.querySelector('[data-webio-mountpoint=\"7882008957242116015\"]'),\n",
       "            {\"props\":{},\"nodeType\":\"Scope\",\"type\":\"node\",\"instanceArgs\":{\"imports\":{\"data\":[{\"name\":null,\"type\":\"js\",\"url\":\"\\/assetserver\\/ed80b7d691fade66e145983a11fb79e515dab825-rowNumberRenderer.js\"},{\"name\":null,\"type\":\"js\",\"url\":\"\\/assetserver\\/b9b20eb0f99819a38f7ecc433feed4bbe393c528-ag-grid.js\"},{\"name\":null,\"type\":\"css\",\"url\":\"\\/assetserver\\/5b9005a8a21f5ef6a55c77dc41516952608d0d1d-ag-grid.css\"},{\"name\":null,\"type\":\"css\",\"url\":\"\\/assetserver\\/fb7e660811b5af595641e24a03483dce78e1076e-ag-grid-light.css\"},{\"name\":null,\"type\":\"css\",\"url\":\"\\/assetserver\\/6ec54d9f8a742a6e19395fb487212fdce57da7bc-ag-grid-dark.css\"}],\"type\":\"async_block\"},\"id\":\"5165632502288580249\",\"handlers\":{\"requestedrows\":[\"(function (val){return WebIO.getval({\\\"name\\\":\\\"rowparams\\\",\\\"scope\\\":\\\"5165632502288580249\\\",\\\"id\\\":\\\"ob_230\\\",\\\"type\\\":\\\"observable\\\"}).successCallback(val,null)})\"]},\"systemjs_options\":null,\"mount_callbacks\":[\"function () {\\n    var handler = ((function (RowNumberRenderer,agGrid){var gridOptions={\\\"onCellFocused\\\":(function (ev){var x={}; (ev.rowIndex!==undefined) ? (x[\\\"rowIndex\\\"]=(ev.rowIndex+1)) : undefined; (ev.colDef!==undefined) ? (x[\\\"column\\\"]=ev.colDef.headerName) : undefined; return WebIO.setval({\\\"name\\\":\\\"onCellFocused\\\",\\\"scope\\\":\\\"5165632502288580249\\\",\\\"id\\\":\\\"ob_228\\\",\\\"type\\\":\\\"observable\\\"},x)}),\\\"onCellValueChanged\\\":(function (){return }),\\\"rowModelType\\\":\\\"infinite\\\",\\\"onRowClicked\\\":(function (ev){var x={}; (ev.rowIndex!==undefined) ? (x[\\\"rowIndex\\\"]=(ev.rowIndex+1)) : undefined; (ev.colDef!==undefined) ? (x[\\\"column\\\"]=ev.colDef.headerName) : undefined; return WebIO.setval({\\\"name\\\":\\\"onRowClicked\\\",\\\"scope\\\":\\\"5165632502288580249\\\",\\\"id\\\":\\\"ob_227\\\",\\\"type\\\":\\\"observable\\\"},x)}),\\\"maxConcurrentDatasourceRequests\\\":1,\\\"columnDefs\\\":[{\\\"filter\\\":false,\\\"editable\\\":false,\\\"headerTooltip\\\":\\\"\\\",\\\"field\\\":\\\"__row__\\\",\\\"headerName\\\":\\\"Row\\\",\\\"sortable\\\":false,\\\"type\\\":\\\"numericColumn\\\",\\\"cellRenderer\\\":\\\"rowNumberRenderer\\\",\\\"resizable\\\":true},{\\\"filter\\\":false,\\\"editable\\\":false,\\\"headerTooltip\\\":\\\"Date\\\",\\\"field\\\":\\\"date\\\",\\\"headerName\\\":\\\"date\\\",\\\"sortable\\\":false,\\\"type\\\":null,\\\"resizable\\\":true},{\\\"filter\\\":false,\\\"editable\\\":false,\\\"headerTooltip\\\":\\\"String\\\",\\\"field\\\":\\\"county\\\",\\\"headerName\\\":\\\"county\\\",\\\"sortable\\\":false,\\\"type\\\":null,\\\"resizable\\\":true},{\\\"filter\\\":false,\\\"editable\\\":false,\\\"headerTooltip\\\":\\\"String\\\",\\\"field\\\":\\\"state\\\",\\\"headerName\\\":\\\"state\\\",\\\"sortable\\\":false,\\\"type\\\":null,\\\"resizable\\\":true},{\\\"filter\\\":false,\\\"editable\\\":false,\\\"headerTooltip\\\":\\\"Union{Missing, String}\\\",\\\"field\\\":\\\"fips\\\",\\\"headerName\\\":\\\"fips\\\",\\\"sortable\\\":false,\\\"type\\\":null,\\\"resizable\\\":true},{\\\"filter\\\":false,\\\"editable\\\":false,\\\"headerTooltip\\\":\\\"Int64\\\",\\\"field\\\":\\\"cases\\\",\\\"headerName\\\":\\\"cases\\\",\\\"sortable\\\":false,\\\"type\\\":\\\"numericColumn\\\",\\\"resizable\\\":true},{\\\"filter\\\":false,\\\"editable\\\":false,\\\"headerTooltip\\\":\\\"Int64\\\",\\\"field\\\":\\\"deaths\\\",\\\"headerName\\\":\\\"deaths\\\",\\\"sortable\\\":false,\\\"type\\\":\\\"numericColumn\\\",\\\"resizable\\\":true},{\\\"filter\\\":false,\\\"editable\\\":false,\\\"headerTooltip\\\":\\\"Float64\\\",\\\"field\\\":\\\"casesMA\\\",\\\"headerName\\\":\\\"casesMA\\\",\\\"sortable\\\":false,\\\"type\\\":\\\"numericColumn\\\",\\\"resizable\\\":true},{\\\"filter\\\":false,\\\"editable\\\":false,\\\"headerTooltip\\\":\\\"Int64\\\",\\\"field\\\":\\\"casesIncrease\\\",\\\"headerName\\\":\\\"casesIncrease\\\",\\\"sortable\\\":false,\\\"type\\\":\\\"numericColumn\\\",\\\"resizable\\\":true},{\\\"filter\\\":false,\\\"editable\\\":false,\\\"headerTooltip\\\":\\\"Float64\\\",\\\"field\\\":\\\"casesIncreaseMA\\\",\\\"headerName\\\":\\\"casesIncreaseMA\\\",\\\"sortable\\\":false,\\\"type\\\":\\\"numericColumn\\\",\\\"resizable\\\":true},{\\\"filter\\\":false,\\\"editable\\\":false,\\\"headerTooltip\\\":\\\"Float64\\\",\\\"field\\\":\\\"pch_casesMA\\\",\\\"headerName\\\":\\\"pch_casesMA\\\",\\\"sortable\\\":false,\\\"type\\\":\\\"numericColumn\\\",\\\"resizable\\\":true},{\\\"filter\\\":false,\\\"editable\\\":false,\\\"headerTooltip\\\":\\\"Float64\\\",\\\"field\\\":\\\"pch_casesIncreaseMA\\\",\\\"headerName\\\":\\\"pch_casesIncreaseMA\\\",\\\"sortable\\\":false,\\\"type\\\":\\\"numericColumn\\\",\\\"resizable\\\":true},{\\\"filter\\\":false,\\\"editable\\\":false,\\\"headerTooltip\\\":\\\"Float64\\\",\\\"field\\\":\\\"deathsMA\\\",\\\"headerName\\\":\\\"deathsMA\\\",\\\"sortable\\\":false,\\\"type\\\":\\\"numericColumn\\\",\\\"resizable\\\":true},{\\\"filter\\\":false,\\\"editable\\\":false,\\\"headerTooltip\\\":\\\"Int64\\\",\\\"field\\\":\\\"deathsIncrease\\\",\\\"headerName\\\":\\\"deathsIncrease\\\",\\\"sortable\\\":false,\\\"type\\\":\\\"numericColumn\\\",\\\"resizable\\\":true},{\\\"filter\\\":false,\\\"editable\\\":false,\\\"headerTooltip\\\":\\\"Float64\\\",\\\"field\\\":\\\"deathsIncreaseMA\\\",\\\"headerName\\\":\\\"deathsIncreaseMA\\\",\\\"sortable\\\":false,\\\"type\\\":\\\"numericColumn\\\",\\\"resizable\\\":true},{\\\"filter\\\":false,\\\"editable\\\":false,\\\"headerTooltip\\\":\\\"Float64\\\",\\\"field\\\":\\\"pch_deathsMA\\\",\\\"headerName\\\":\\\"pch_deathsMA\\\",\\\"sortable\\\":false,\\\"type\\\":\\\"numericColumn\\\",\\\"resizable\\\":true},{\\\"filter\\\":false,\\\"editable\\\":false,\\\"headerTooltip\\\":\\\"Float64\\\",\\\"field\\\":\\\"pch_deathsIncreaseMA\\\",\\\"headerName\\\":\\\"pch_deathsIncreaseMA\\\",\\\"sortable\\\":false,\\\"type\\\":\\\"numericColumn\\\",\\\"resizable\\\":true},{\\\"filter\\\":false,\\\"editable\\\":false,\\\"headerTooltip\\\":\\\"Union{Missing, Int64}\\\",\\\"field\\\":\\\"population\\\",\\\"headerName\\\":\\\"population\\\",\\\"sortable\\\":false,\\\"type\\\":\\\"numericColumn\\\",\\\"resizable\\\":true}],\\\"cacheBlockSize\\\":1000,\\\"datasource\\\":{\\\"rowCount\\\":null,\\\"getRows\\\":(function (rowParams){return WebIO.setval({\\\"name\\\":\\\"rowparams\\\",\\\"scope\\\":\\\"5165632502288580249\\\",\\\"id\\\":\\\"ob_230\\\",\\\"type\\\":\\\"observable\\\"},rowParams)})},\\\"multiSortKey\\\":\\\"ctrl\\\",\\\"maxBlocksInCache\\\":100,\\\"onCellDoubleClicked\\\":(function (ev){var x={}; (ev.rowIndex!==undefined) ? (x[\\\"rowIndex\\\"]=(ev.rowIndex+1)) : undefined; (ev.colDef!==undefined) ? (x[\\\"column\\\"]=ev.colDef.headerName) : undefined; return WebIO.setval({\\\"name\\\":\\\"onCellDoubleClicked\\\",\\\"scope\\\":\\\"5165632502288580249\\\",\\\"id\\\":\\\"ob_226\\\",\\\"type\\\":\\\"observable\\\"},x)}),\\\"onCellKeyDown\\\":(function (ev){var x={}; (ev.rowIndex!==undefined) ? (x[\\\"rowIndex\\\"]=(ev.rowIndex+1)) : undefined; (ev.colDef!==undefined) ? (x[\\\"column\\\"]=ev.colDef.headerName) : undefined; return WebIO.setval({\\\"name\\\":\\\"onCellKeyDown\\\",\\\"scope\\\":\\\"5165632502288580249\\\",\\\"id\\\":\\\"ob_229\\\",\\\"type\\\":\\\"observable\\\"},x)}),\\\"onCellClicked\\\":(function (ev){var x={}; (ev.rowIndex!==undefined) ? (x[\\\"rowIndex\\\"]=(ev.rowIndex+1)) : undefined; (ev.colDef!==undefined) ? (x[\\\"column\\\"]=ev.colDef.headerName) : undefined; return WebIO.setval({\\\"name\\\":\\\"onCellClicked\\\",\\\"scope\\\":\\\"5165632502288580249\\\",\\\"id\\\":\\\"ob_225\\\",\\\"type\\\":\\\"observable\\\"},x)})}; var el=document.getElementById(\\\"grid-a98692a6\\\"); gridOptions.components={\\\"rowNumberRenderer\\\":RowNumberRenderer}; this.table=new agGrid.Grid(el,gridOptions); gridOptions.columnApi.autoSizeColumn(\\\"__row__\\\"); return gridOptions.columnApi.autoSizeColumns([\\\"date\\\",\\\"county\\\",\\\"state\\\",\\\"fips\\\",\\\"cases\\\",\\\"deaths\\\",\\\"casesMA\\\",\\\"casesIncrease\\\",\\\"casesIncreaseMA\\\",\\\"pch_casesMA\\\",\\\"pch_casesIncreaseMA\\\",\\\"deathsMA\\\",\\\"deathsIncrease\\\",\\\"deathsIncreaseMA\\\",\\\"pch_deathsMA\\\",\\\"pch_deathsIncreaseMA\\\",\\\"population\\\"])}));\\n    (WebIO.importBlock({\\\"data\\\":[{\\\"name\\\":null,\\\"type\\\":\\\"js\\\",\\\"url\\\":\\\"\\/assetserver\\/ed80b7d691fade66e145983a11fb79e515dab825-rowNumberRenderer.js\\\"},{\\\"name\\\":null,\\\"type\\\":\\\"js\\\",\\\"url\\\":\\\"\\/assetserver\\/b9b20eb0f99819a38f7ecc433feed4bbe393c528-ag-grid.js\\\"},{\\\"name\\\":null,\\\"type\\\":\\\"css\\\",\\\"url\\\":\\\"\\/assetserver\\/5b9005a8a21f5ef6a55c77dc41516952608d0d1d-ag-grid.css\\\"},{\\\"name\\\":null,\\\"type\\\":\\\"css\\\",\\\"url\\\":\\\"\\/assetserver\\/fb7e660811b5af595641e24a03483dce78e1076e-ag-grid-light.css\\\"},{\\\"name\\\":null,\\\"type\\\":\\\"css\\\",\\\"url\\\":\\\"\\/assetserver\\/6ec54d9f8a742a6e19395fb487212fdce57da7bc-ag-grid-dark.css\\\"}],\\\"type\\\":\\\"async_block\\\"})).then((imports) => handler.apply(this, imports));\\n}\\n\"],\"observables\":{\"onCellKeyDown\":{\"sync\":false,\"id\":\"ob_229\",\"value\":null},\"onRowClicked\":{\"sync\":false,\"id\":\"ob_227\",\"value\":null},\"onCellDoubleClicked\":{\"sync\":false,\"id\":\"ob_226\",\"value\":null},\"requestedrows\":{\"sync\":false,\"id\":\"ob_231\",\"value\":{}},\"onCellClicked\":{\"sync\":false,\"id\":\"ob_225\",\"value\":null},\"onCellFocused\":{\"sync\":false,\"id\":\"ob_228\",\"value\":null},\"rowparams\":{\"sync\":true,\"id\":\"ob_230\",\"value\":{\"successCallback\":\"(function (v){return null})\",\"startRow\":1,\"endRow\":100}}}},\"children\":[{\"props\":{},\"nodeType\":\"DOM\",\"type\":\"node\",\"instanceArgs\":{\"namespace\":\"html\",\"tag\":\"div\"},\"children\":[{\"props\":{\"style\":{\"height\":\"0\",\"padding\":\"0\",\"background-color\":\"#F5F7F7\",\"color\":\"#1c1f20\",\"font-family\":\"-apple-system, BlinkMacSystemFont, \\\"Segoe UI\\\", Roboto, Oxygen-Sans, Ubuntu, Cantarell, \\\"Helvetica Neue\\\", sans-serif\"}},\"nodeType\":\"DOM\",\"type\":\"node\",\"instanceArgs\":{\"namespace\":\"html\",\"tag\":\"div\"},\"children\":[\"\"]},{\"props\":{\"id\":\"grid-a98692a6\",\"className\":\"ag-theme-balham\",\"style\":{\"height\":\"500px\",\"width\":\"100%\"}},\"nodeType\":\"DOM\",\"type\":\"node\",\"instanceArgs\":{\"namespace\":\"html\",\"tag\":\"div\"},\"children\":[]}]}]},\n",
       "            window,\n",
       "        );\n",
       "    } else {\n",
       "        document\n",
       "            .querySelector('[data-webio-mountpoint=\"7882008957242116015\"]')\n",
       "            .innerHTML = (\n",
       "                '<div style=\"padding: 1em; background-color: #f8d6da; border: 1px solid #f5c6cb\">' +\n",
       "                '<p><strong>WebIO not detected.</strong></p>' +\n",
       "                '<p>Please read ' +\n",
       "                '<a href=\"https://juliagizmos.github.io/WebIO.jl/latest/troubleshooting/not-detected/\" target=\"_blank\">the troubleshooting guide</a> ' +\n",
       "                'for more information on how to resolve this issue.</p>' +\n",
       "                '<p><a href=\"https://juliagizmos.github.io/WebIO.jl/latest/troubleshooting/not-detected/\" target=\"_blank\">https://juliagizmos.github.io/WebIO.jl/latest/troubleshooting/not-detected/</a></p>' +\n",
       "                '</div>'\n",
       "            );\n",
       "    }\n",
       "    </script>\n",
       "</div>\n"
      ],
      "text/plain": [
       "WebIO.Scope(WebIO.Node{WebIO.DOM}(WebIO.DOM(:html, :div), Any[WebIO.Node{WebIO.DOM}(WebIO.DOM(:html, :div), Any[\"\"], Dict{Symbol,Any}(:style => Dict(\"height\" => \"0\",\"padding\" => \"0\",\"background-color\" => \"#F5F7F7\",\"color\" => \"#1c1f20\",\"font-family\" => \"-apple-system, BlinkMacSystemFont, \\\"Segoe UI\\\", Roboto, Oxygen-Sans, Ubuntu, Cantarell, \\\"Helvetica Neue\\\", sans-serif\"))), WebIO.Node{WebIO.DOM}(WebIO.DOM(:html, :div), Any[], Dict{Symbol,Any}(:id => \"grid-a98692a6\",:className => \"ag-theme-balham\",:style => Dict(\"height\" => \"500px\",\"width\" => \"100%\")))], Dict{Symbol,Any}()), Dict{String,Tuple{Observables.AbstractObservable,Union{Nothing, Bool}}}(\"onCellKeyDown\" => (Observable{Any} with 0 listeners. Value:\n",
       "nothing, nothing),\"onRowClicked\" => (Observable{Any} with 0 listeners. Value:\n",
       "nothing, nothing),\"onCellDoubleClicked\" => (Observable{Any} with 0 listeners. Value:\n",
       "nothing, nothing),\"requestedrows\" => (Observable{JSON.Writer.JSONText} with 1 listeners. Value:\n",
       "JSON.Writer.JSONText(\"{}\"), nothing),\"onCellClicked\" => (Observable{Any} with 0 listeners. Value:\n",
       "nothing, nothing),\"onCellFocused\" => (Observable{Any} with 0 listeners. Value:\n",
       "nothing, nothing),\"rowparams\" => (Observable{Dict{String,Any}} with 1 listeners. Value:\n",
       "Dict{String,Any}(\"successCallback\" => WebIO.JSString(\"(function (v){return null})\"),\"startRow\" => 1,\"endRow\" => 100), nothing)), Set(String[]), nothing, WebIO.Asset[WebIO.Asset(\"js\", nothing, \"/home/cdaniels/.julia/packages/TableView/CxWLO/src/rowNumberRenderer.js\"), WebIO.Asset(\"js\", nothing, \"/home/cdaniels/.julia/packages/TableView/CxWLO/deps/ag-grid-22.1.0/ag-grid.js\"), WebIO.Asset(\"css\", nothing, \"/home/cdaniels/.julia/packages/TableView/CxWLO/deps/ag-grid-22.1.0/ag-grid.css\"), WebIO.Asset(\"css\", nothing, \"/home/cdaniels/.julia/packages/TableView/CxWLO/deps/ag-grid-22.1.0/ag-grid-light.css\"), WebIO.Asset(\"css\", nothing, \"/home/cdaniels/.julia/packages/TableView/CxWLO/deps/ag-grid-22.1.0/ag-grid-dark.css\")], Dict{Any,Any}(\"requestedrows\" => Any[WebIO.JSString(\"(function (val){return WebIO.getval({\\\"name\\\":\\\"rowparams\\\",\\\"scope\\\":\\\"5165632502288580249\\\",\\\"id\\\":\\\"ob_230\\\",\\\"type\\\":\\\"observable\\\"}).successCallback(val,null)})\")]), WebIO.ConnectionPool(Channel{Any}(sz_max:32,sz_curr:0), Set(WebIO.AbstractConnection[]), Base.GenericCondition{Base.AlwaysLockedST}(Base.InvasiveLinkedList{Task}(Task (runnable) @0x00007f73de797340, Task (runnable) @0x00007f73de797340), Base.AlwaysLockedST(1))), WebIO.JSString[WebIO.JSString(\"function () {\\n    var handler = ((function (RowNumberRenderer,agGrid){var gridOptions={\\\"onCellFocused\\\":(function (ev){var x={}; (ev.rowIndex!==undefined) ? (x[\\\"rowIndex\\\"]=(ev.rowIndex+1)) : undefined; (ev.colDef!==undefined) ? (x[\\\"column\\\"]=ev.colDef.headerName) : undefined; return WebIO.setval({\\\"name\\\":\\\"onCellFocused\\\",\\\"scope\\\":\\\"5165632502288580249\\\",\\\"id\\\":\\\"ob_228\\\",\\\"type\\\":\\\"observable\\\"},x)}),\\\"onCellValueChanged\\\":(function (){return }),\\\"rowModelType\\\":\\\"infinite\\\",\\\"onRowClicked\\\":(function (ev){var x={}; (ev.rowIndex!==undefined) ? (x[\\\"rowIndex\\\"]=(ev.rowIndex+1)) : undefined; (ev.colDef!==undefined) ? (x[\\\"column\\\"]=ev.colDef.headerName) : undefined; return WebIO.setval({\\\"name\\\":\\\"onRowClicked\\\",\\\"scope\\\":\\\"5165632502288580249\\\",\\\"id\\\":\\\"ob_227\\\",\\\"type\\\":\\\"observable\\\"},x)}),\\\"maxConcurrentDatasourceRequests\\\":1,\\\"columnDefs\\\":[{\\\"filter\\\":false,\\\"editable\\\":false,\\\"headerTooltip\\\":\\\"\\\",\\\"field\\\":\\\"__row__\\\",\\\"headerName\\\":\\\"Row\\\",\\\"sortable\\\":false,\\\"type\\\":\\\"numericColumn\\\",\\\"cellRenderer\\\":\\\"rowNumberRenderer\\\",\\\"resizable\\\":true},{\\\"filter\\\":false,\\\"editable\\\":false,\\\"headerTooltip\\\":\\\"Date\\\",\\\"field\\\":\\\"date\\\",\\\"headerName\\\":\\\"date\\\",\\\"sortable\\\":false,\\\"type\\\":null,\\\"resizable\\\":true},{\\\"filter\\\":false,\\\"editable\\\":false,\\\"headerTooltip\\\":\\\"String\\\",\\\"field\\\":\\\"county\\\",\\\"headerName\\\":\\\"county\\\",\\\"sortable\\\":false,\\\"type\\\":null,\\\"resizable\\\":true},{\\\"filter\\\":false,\\\"editable\\\":false,\\\"headerTooltip\\\":\\\"String\\\",\\\"field\\\":\\\"state\\\",\\\"headerName\\\":\\\"state\\\",\\\"sortable\\\":false,\\\"type\\\":null,\\\"resizable\\\":true},{\\\"filter\\\":false,\\\"editable\\\":false,\\\"headerTooltip\\\":\\\"Union{Missing, String}\\\",\\\"field\\\":\\\"fips\\\",\\\"headerName\\\":\\\"fips\\\",\\\"sortable\\\":false,\\\"type\\\":null,\\\"resizable\\\":true},{\\\"filter\\\":false,\\\"editable\\\":false,\\\"headerTooltip\\\":\\\"Int64\\\",\\\"field\\\":\\\"cases\\\",\\\"headerName\\\":\\\"cases\\\",\\\"sortable\\\":false,\\\"type\\\":\\\"numericColumn\\\",\\\"resizable\\\":true},{\\\"filter\\\":false,\\\"editable\\\":false,\\\"headerTooltip\\\":\\\"Int64\\\",\\\"field\\\":\\\"deaths\\\",\\\"headerName\\\":\\\"deaths\\\",\\\"sortable\\\":false,\\\"type\\\":\\\"numericColumn\\\",\\\"resizable\\\":true},{\\\"filter\\\":false,\\\"editable\\\":false,\\\"headerTooltip\\\":\\\"Float64\\\",\\\"field\\\":\\\"casesMA\\\",\\\"headerName\\\":\\\"casesMA\\\",\\\"sortable\\\":false,\\\"type\\\":\\\"numericColumn\\\",\\\"resizable\\\":true},{\\\"filter\\\":false,\\\"editable\\\":false,\\\"headerTooltip\\\":\\\"Int64\\\",\\\"field\\\":\\\"casesIncrease\\\",\\\"headerName\\\":\\\"casesIncrease\\\",\\\"sortable\\\":false,\\\"type\\\":\\\"numericColumn\\\",\\\"resizable\\\":true},{\\\"filter\\\":false,\\\"editable\\\":false,\\\"headerTooltip\\\":\\\"Float64\\\",\\\"field\\\":\\\"casesIncreaseMA\\\",\\\"headerName\\\":\\\"casesIncreaseMA\\\",\\\"sortable\\\":false,\\\"type\\\":\\\"numericColumn\\\",\\\"resizable\\\":true},{\\\"filter\\\":false,\\\"editable\\\":false,\\\"headerTooltip\\\":\\\"Float64\\\",\\\"field\\\":\\\"pch_casesMA\\\",\\\"headerName\\\":\\\"pch_casesMA\\\",\\\"sortable\\\":false,\\\"type\\\":\\\"numericColumn\\\",\\\"resizable\\\":true},{\\\"filter\\\":false,\\\"editable\\\":false,\\\"headerTooltip\\\":\\\"Float64\\\",\\\"field\\\":\\\"pch_casesIncreaseMA\\\",\\\"headerName\\\":\\\"pch_casesIncreaseMA\\\",\\\"sortable\\\":false,\\\"type\\\":\\\"numericColumn\\\",\\\"resizable\\\":true},{\\\"filter\\\":false,\\\"editable\\\":false,\\\"headerTooltip\\\":\\\"Float64\\\",\\\"field\\\":\\\"deathsMA\\\",\\\"headerName\\\":\\\"deathsMA\\\",\\\"sortable\\\":false,\\\"type\\\":\\\"numericColumn\\\",\\\"resizable\\\":true},{\\\"filter\\\":false,\\\"editable\\\":false,\\\"headerTooltip\\\":\\\"Int64\\\",\\\"field\\\":\\\"deathsIncrease\\\",\\\"headerName\\\":\\\"deathsIncrease\\\",\\\"sortable\\\":false,\\\"type\\\":\\\"numericColumn\\\",\\\"resizable\\\":true},{\\\"filter\\\":false,\\\"editable\\\":false,\\\"headerTooltip\\\":\\\"Float64\\\",\\\"field\\\":\\\"deathsIncreaseMA\\\",\\\"headerName\\\":\\\"deathsIncreaseMA\\\",\\\"sortable\\\":false,\\\"type\\\":\\\"numericColumn\\\",\\\"resizable\\\":true},{\\\"filter\\\":false,\\\"editable\\\":false,\\\"headerTooltip\\\":\\\"Float64\\\",\\\"field\\\":\\\"pch_deathsMA\\\",\\\"headerName\\\":\\\"pch_deathsMA\\\",\\\"sortable\\\":false,\\\"type\\\":\\\"numericColumn\\\",\\\"resizable\\\":true},{\\\"filter\\\":false,\\\"editable\\\":false,\\\"headerTooltip\\\":\\\"Float64\\\",\\\"field\\\":\\\"pch_deathsIncreaseMA\\\",\\\"headerName\\\":\\\"pch_deathsIncreaseMA\\\",\\\"sortable\\\":false,\\\"type\\\":\\\"numericColumn\\\",\\\"resizable\\\":true},{\\\"filter\\\":false,\\\"editable\\\":false,\\\"headerTooltip\\\":\\\"Union{Missing, Int64}\\\",\\\"field\\\":\\\"population\\\",\\\"headerName\\\":\\\"population\\\",\\\"sortable\\\":false,\\\"type\\\":\\\"numericColumn\\\",\\\"resizable\\\":true}],\\\"cacheBlockSize\\\":1000,\\\"datasource\\\":{\\\"rowCount\\\":null,\\\"getRows\\\":(function (rowParams){return WebIO.setval({\\\"name\\\":\\\"rowparams\\\",\\\"scope\\\":\\\"5165632502288580249\\\",\\\"id\\\":\\\"ob_230\\\",\\\"type\\\":\\\"observable\\\"},rowParams)})},\\\"multiSortKey\\\":\\\"ctrl\\\",\\\"maxBlocksInCache\\\":100,\\\"onCellDoubleClicked\\\":(function (ev){var x={}; (ev.rowIndex!==undefined) ? (x[\\\"rowIndex\\\"]=(ev.rowIndex+1)) : undefined; (ev.colDef!==undefined) ? (x[\\\"column\\\"]=ev.colDef.headerName) : undefined; return WebIO.setval({\\\"name\\\":\\\"onCellDoubleClicked\\\",\\\"scope\\\":\\\"5165632502288580249\\\",\\\"id\\\":\\\"ob_226\\\",\\\"type\\\":\\\"observable\\\"},x)}),\\\"onCellKeyDown\\\":(function (ev){var x={}; (ev.rowIndex!==undefined) ? (x[\\\"rowIndex\\\"]=(ev.rowIndex+1)) : undefined; (ev.colDef!==undefined) ? (x[\\\"column\\\"]=ev.colDef.headerName) : undefined; return WebIO.setval({\\\"name\\\":\\\"onCellKeyDown\\\",\\\"scope\\\":\\\"5165632502288580249\\\",\\\"id\\\":\\\"ob_229\\\",\\\"type\\\":\\\"observable\\\"},x)}),\\\"onCellClicked\\\":(function (ev){var x={}; (ev.rowIndex!==undefined) ? (x[\\\"rowIndex\\\"]=(ev.rowIndex+1)) : undefined; (ev.colDef!==undefined) ? (x[\\\"column\\\"]=ev.colDef.headerName) : undefined; return WebIO.setval({\\\"name\\\":\\\"onCellClicked\\\",\\\"scope\\\":\\\"5165632502288580249\\\",\\\"id\\\":\\\"ob_225\\\",\\\"type\\\":\\\"observable\\\"},x)})}; var el=document.getElementById(\\\"grid-a98692a6\\\"); gridOptions.components={\\\"rowNumberRenderer\\\":RowNumberRenderer}; this.table=new agGrid.Grid(el,gridOptions); gridOptions.columnApi.autoSizeColumn(\\\"__row__\\\"); return gridOptions.columnApi.autoSizeColumns([\\\"date\\\",\\\"county\\\",\\\"state\\\",\\\"fips\\\",\\\"cases\\\",\\\"deaths\\\",\\\"casesMA\\\",\\\"casesIncrease\\\",\\\"casesIncreaseMA\\\",\\\"pch_casesMA\\\",\\\"pch_casesIncreaseMA\\\",\\\"deathsMA\\\",\\\"deathsIncrease\\\",\\\"deathsIncreaseMA\\\",\\\"pch_deathsMA\\\",\\\"pch_deathsIncreaseMA\\\",\\\"population\\\"])}));\\n    (WebIO.importBlock({\\\"data\\\":[{\\\"name\\\":null,\\\"type\\\":\\\"js\\\",\\\"url\\\":\\\"/assetserver/ed80b7d691fade66e145983a11fb79e515dab825-rowNumberRenderer.js\\\"},{\\\"name\\\":null,\\\"type\\\":\\\"js\\\",\\\"url\\\":\\\"/assetserver/b9b20eb0f99819a38f7ecc433feed4bbe393c528-ag-grid.js\\\"},{\\\"name\\\":null,\\\"type\\\":\\\"css\\\",\\\"url\\\":\\\"/assetserver/5b9005a8a21f5ef6a55c77dc41516952608d0d1d-ag-grid.css\\\"},{\\\"name\\\":null,\\\"type\\\":\\\"css\\\",\\\"url\\\":\\\"/assetserver/fb7e660811b5af595641e24a03483dce78e1076e-ag-grid-light.css\\\"},{\\\"name\\\":null,\\\"type\\\":\\\"css\\\",\\\"url\\\":\\\"/assetserver/6ec54d9f8a742a6e19395fb487212fdce57da7bc-ag-grid-dark.css\\\"}],\\\"type\\\":\\\"async_block\\\"})).then((imports) => handler.apply(this, imports));\\n}\\n\")])"
      ]
     },
     "execution_count": 77,
     "metadata": {
      "application/vnd.webio.node+json": {
       "kernelId": "f76cff0d-71eb-4fcb-8f14-2113642ca679"
      }
     },
     "output_type": "execute_result"
    }
   ],
   "source": [
    "@time dfc = get_nyt_county_covid_data()\n",
    "@tbl dfc"
   ]
  },
  {
   "cell_type": "code",
   "execution_count": 69,
   "metadata": {},
   "outputs": [
    {
     "data": {
      "text/plain": [
       "17-element Array{String,1}:\n",
       " \"date\"\n",
       " \"county\"\n",
       " \"state\"\n",
       " \"fips\"\n",
       " \"cases\"\n",
       " \"deaths\"\n",
       " \"casesMA\"\n",
       " \"casesIncrease\"\n",
       " \"casesIncreaseMA\"\n",
       " \"pch_casesMA\"\n",
       " \"pch_casesIncreaseMA\"\n",
       " \"deathsMA\"\n",
       " \"deathsIncrease\"\n",
       " \"deathsIncreaseMA\"\n",
       " \"pch_deathsMA\"\n",
       " \"pch_deathsIncreaseMA\"\n",
       " \"population\""
      ]
     },
     "execution_count": 69,
     "metadata": {},
     "output_type": "execute_result"
    }
   ],
   "source": [
    "names(dfc)"
   ]
  },
  {
   "cell_type": "markdown",
   "metadata": {},
   "source": [
    "### Get New York Times COVID State Data"
   ]
  },
  {
   "cell_type": "code",
   "execution_count": 70,
   "metadata": {
    "scrolled": false
   },
   "outputs": [
    {
     "name": "stdout",
     "output_type": "stream",
     "text": [
      "  0.561328 seconds (442.64 k allocations: 23.504 MiB)\n"
     ]
    },
    {
     "data": {
      "application/vnd.webio.node+json": {
       "children": [
        {
         "children": [
          {
           "children": [
            ""
           ],
           "instanceArgs": {
            "namespace": "html",
            "tag": "div"
           },
           "nodeType": "DOM",
           "props": {
            "style": {
             "background-color": "#F5F7F7",
             "color": "#1c1f20",
             "font-family": "-apple-system, BlinkMacSystemFont, \"Segoe UI\", Roboto, Oxygen-Sans, Ubuntu, Cantarell, \"Helvetica Neue\", sans-serif",
             "height": "0",
             "padding": "0"
            }
           },
           "type": "node"
          },
          {
           "children": [],
           "instanceArgs": {
            "namespace": "html",
            "tag": "div"
           },
           "nodeType": "DOM",
           "props": {
            "className": "ag-theme-balham",
            "id": "grid-2ad4cc48",
            "style": {
             "height": "500px",
             "width": "100%"
            }
           },
           "type": "node"
          }
         ],
         "instanceArgs": {
          "namespace": "html",
          "tag": "div"
         },
         "nodeType": "DOM",
         "props": {},
         "type": "node"
        }
       ],
       "instanceArgs": {
        "handlers": {
         "requestedrows": [
          "(function (val){return WebIO.getval({\"name\":\"rowparams\",\"scope\":\"6112783736138831968\",\"id\":\"ob_216\",\"type\":\"observable\"}).successCallback(val,null)})"
         ]
        },
        "id": "6112783736138831968",
        "imports": {
         "data": [
          {
           "name": null,
           "type": "js",
           "url": "/assetserver/ed80b7d691fade66e145983a11fb79e515dab825-rowNumberRenderer.js"
          },
          {
           "name": null,
           "type": "js",
           "url": "/assetserver/b9b20eb0f99819a38f7ecc433feed4bbe393c528-ag-grid.js"
          },
          {
           "name": null,
           "type": "css",
           "url": "/assetserver/5b9005a8a21f5ef6a55c77dc41516952608d0d1d-ag-grid.css"
          },
          {
           "name": null,
           "type": "css",
           "url": "/assetserver/fb7e660811b5af595641e24a03483dce78e1076e-ag-grid-light.css"
          },
          {
           "name": null,
           "type": "css",
           "url": "/assetserver/6ec54d9f8a742a6e19395fb487212fdce57da7bc-ag-grid-dark.css"
          }
         ],
         "type": "async_block"
        },
        "mount_callbacks": [
         "function () {\n    var handler = ((function (RowNumberRenderer,agGrid){var gridOptions={\"onCellFocused\":(function (ev){var x={}; (ev.rowIndex!==undefined) ? (x[\"rowIndex\"]=(ev.rowIndex+1)) : undefined; (ev.colDef!==undefined) ? (x[\"column\"]=ev.colDef.headerName) : undefined; return WebIO.setval({\"name\":\"onCellFocused\",\"scope\":\"6112783736138831968\",\"id\":\"ob_214\",\"type\":\"observable\"},x)}),\"onCellValueChanged\":(function (){return }),\"rowModelType\":\"infinite\",\"onRowClicked\":(function (ev){var x={}; (ev.rowIndex!==undefined) ? (x[\"rowIndex\"]=(ev.rowIndex+1)) : undefined; (ev.colDef!==undefined) ? (x[\"column\"]=ev.colDef.headerName) : undefined; return WebIO.setval({\"name\":\"onRowClicked\",\"scope\":\"6112783736138831968\",\"id\":\"ob_213\",\"type\":\"observable\"},x)}),\"maxConcurrentDatasourceRequests\":1,\"columnDefs\":[{\"filter\":false,\"editable\":false,\"headerTooltip\":\"\",\"field\":\"__row__\",\"headerName\":\"Row\",\"sortable\":false,\"type\":\"numericColumn\",\"cellRenderer\":\"rowNumberRenderer\",\"resizable\":true},{\"filter\":false,\"editable\":false,\"headerTooltip\":\"Date\",\"field\":\"date\",\"headerName\":\"date\",\"sortable\":false,\"type\":null,\"resizable\":true},{\"filter\":false,\"editable\":false,\"headerTooltip\":\"String\",\"field\":\"state\",\"headerName\":\"state\",\"sortable\":false,\"type\":null,\"resizable\":true},{\"filter\":false,\"editable\":false,\"headerTooltip\":\"String\",\"field\":\"fips\",\"headerName\":\"fips\",\"sortable\":false,\"type\":null,\"resizable\":true},{\"filter\":false,\"editable\":false,\"headerTooltip\":\"Int64\",\"field\":\"cases\",\"headerName\":\"cases\",\"sortable\":false,\"type\":\"numericColumn\",\"resizable\":true},{\"filter\":false,\"editable\":false,\"headerTooltip\":\"Int64\",\"field\":\"deaths\",\"headerName\":\"deaths\",\"sortable\":false,\"type\":\"numericColumn\",\"resizable\":true},{\"filter\":false,\"editable\":false,\"headerTooltip\":\"Float64\",\"field\":\"casesMA\",\"headerName\":\"casesMA\",\"sortable\":false,\"type\":\"numericColumn\",\"resizable\":true},{\"filter\":false,\"editable\":false,\"headerTooltip\":\"Int64\",\"field\":\"casesIncrease\",\"headerName\":\"casesIncrease\",\"sortable\":false,\"type\":\"numericColumn\",\"resizable\":true},{\"filter\":false,\"editable\":false,\"headerTooltip\":\"Float64\",\"field\":\"casesIncreaseMA\",\"headerName\":\"casesIncreaseMA\",\"sortable\":false,\"type\":\"numericColumn\",\"resizable\":true},{\"filter\":false,\"editable\":false,\"headerTooltip\":\"Float64\",\"field\":\"pch_casesMA\",\"headerName\":\"pch_casesMA\",\"sortable\":false,\"type\":\"numericColumn\",\"resizable\":true},{\"filter\":false,\"editable\":false,\"headerTooltip\":\"Float64\",\"field\":\"pch_casesIncreaseMA\",\"headerName\":\"pch_casesIncreaseMA\",\"sortable\":false,\"type\":\"numericColumn\",\"resizable\":true},{\"filter\":false,\"editable\":false,\"headerTooltip\":\"Float64\",\"field\":\"deathsMA\",\"headerName\":\"deathsMA\",\"sortable\":false,\"type\":\"numericColumn\",\"resizable\":true},{\"filter\":false,\"editable\":false,\"headerTooltip\":\"Int64\",\"field\":\"deathsIncrease\",\"headerName\":\"deathsIncrease\",\"sortable\":false,\"type\":\"numericColumn\",\"resizable\":true},{\"filter\":false,\"editable\":false,\"headerTooltip\":\"Float64\",\"field\":\"deathsIncreaseMA\",\"headerName\":\"deathsIncreaseMA\",\"sortable\":false,\"type\":\"numericColumn\",\"resizable\":true},{\"filter\":false,\"editable\":false,\"headerTooltip\":\"Float64\",\"field\":\"pch_deathsMA\",\"headerName\":\"pch_deathsMA\",\"sortable\":false,\"type\":\"numericColumn\",\"resizable\":true},{\"filter\":false,\"editable\":false,\"headerTooltip\":\"Float64\",\"field\":\"pch_deathsIncreaseMA\",\"headerName\":\"pch_deathsIncreaseMA\",\"sortable\":false,\"type\":\"numericColumn\",\"resizable\":true},{\"filter\":false,\"editable\":false,\"headerTooltip\":\"Union{Missing, Int64}\",\"field\":\"population\",\"headerName\":\"population\",\"sortable\":false,\"type\":\"numericColumn\",\"resizable\":true}],\"cacheBlockSize\":1000,\"datasource\":{\"rowCount\":null,\"getRows\":(function (rowParams){return WebIO.setval({\"name\":\"rowparams\",\"scope\":\"6112783736138831968\",\"id\":\"ob_216\",\"type\":\"observable\"},rowParams)})},\"multiSortKey\":\"ctrl\",\"maxBlocksInCache\":100,\"onCellDoubleClicked\":(function (ev){var x={}; (ev.rowIndex!==undefined) ? (x[\"rowIndex\"]=(ev.rowIndex+1)) : undefined; (ev.colDef!==undefined) ? (x[\"column\"]=ev.colDef.headerName) : undefined; return WebIO.setval({\"name\":\"onCellDoubleClicked\",\"scope\":\"6112783736138831968\",\"id\":\"ob_212\",\"type\":\"observable\"},x)}),\"onCellKeyDown\":(function (ev){var x={}; (ev.rowIndex!==undefined) ? (x[\"rowIndex\"]=(ev.rowIndex+1)) : undefined; (ev.colDef!==undefined) ? (x[\"column\"]=ev.colDef.headerName) : undefined; return WebIO.setval({\"name\":\"onCellKeyDown\",\"scope\":\"6112783736138831968\",\"id\":\"ob_215\",\"type\":\"observable\"},x)}),\"onCellClicked\":(function (ev){var x={}; (ev.rowIndex!==undefined) ? (x[\"rowIndex\"]=(ev.rowIndex+1)) : undefined; (ev.colDef!==undefined) ? (x[\"column\"]=ev.colDef.headerName) : undefined; return WebIO.setval({\"name\":\"onCellClicked\",\"scope\":\"6112783736138831968\",\"id\":\"ob_211\",\"type\":\"observable\"},x)})}; var el=document.getElementById(\"grid-2ad4cc48\"); gridOptions.components={\"rowNumberRenderer\":RowNumberRenderer}; this.table=new agGrid.Grid(el,gridOptions); gridOptions.columnApi.autoSizeColumn(\"__row__\"); return gridOptions.columnApi.autoSizeColumns([\"date\",\"state\",\"fips\",\"cases\",\"deaths\",\"casesMA\",\"casesIncrease\",\"casesIncreaseMA\",\"pch_casesMA\",\"pch_casesIncreaseMA\",\"deathsMA\",\"deathsIncrease\",\"deathsIncreaseMA\",\"pch_deathsMA\",\"pch_deathsIncreaseMA\",\"population\"])}));\n    (WebIO.importBlock({\"data\":[{\"name\":null,\"type\":\"js\",\"url\":\"/assetserver/ed80b7d691fade66e145983a11fb79e515dab825-rowNumberRenderer.js\"},{\"name\":null,\"type\":\"js\",\"url\":\"/assetserver/b9b20eb0f99819a38f7ecc433feed4bbe393c528-ag-grid.js\"},{\"name\":null,\"type\":\"css\",\"url\":\"/assetserver/5b9005a8a21f5ef6a55c77dc41516952608d0d1d-ag-grid.css\"},{\"name\":null,\"type\":\"css\",\"url\":\"/assetserver/fb7e660811b5af595641e24a03483dce78e1076e-ag-grid-light.css\"},{\"name\":null,\"type\":\"css\",\"url\":\"/assetserver/6ec54d9f8a742a6e19395fb487212fdce57da7bc-ag-grid-dark.css\"}],\"type\":\"async_block\"})).then((imports) => handler.apply(this, imports));\n}\n"
        ],
        "observables": {
         "onCellClicked": {
          "id": "ob_211",
          "sync": false,
          "value": null
         },
         "onCellDoubleClicked": {
          "id": "ob_212",
          "sync": false,
          "value": null
         },
         "onCellFocused": {
          "id": "ob_214",
          "sync": false,
          "value": null
         },
         "onCellKeyDown": {
          "id": "ob_215",
          "sync": false,
          "value": null
         },
         "onRowClicked": {
          "id": "ob_213",
          "sync": false,
          "value": null
         },
         "requestedrows": {
          "id": "ob_217",
          "sync": false,
          "value": {}
         },
         "rowparams": {
          "id": "ob_216",
          "sync": true,
          "value": {
           "endRow": 100,
           "startRow": 1,
           "successCallback": "(function (v){return null})"
          }
         }
        },
        "systemjs_options": null
       },
       "nodeType": "Scope",
       "props": {},
       "type": "node"
      },
      "text/html": [
       "<div\n",
       "    class=\"webio-mountpoint\"\n",
       "    data-webio-mountpoint=\"16464592742957353651\"\n",
       ">\n",
       "    <script>\n",
       "    if (window.require && require.defined && require.defined(\"nbextensions/webio-jupyter-notebook\")) {\n",
       "        console.log(\"Jupyter WebIO extension detected, not mounting.\");\n",
       "    } else if (window.WebIO) {\n",
       "        WebIO.mount(\n",
       "            document.querySelector('[data-webio-mountpoint=\"16464592742957353651\"]'),\n",
       "            {\"props\":{},\"nodeType\":\"Scope\",\"type\":\"node\",\"instanceArgs\":{\"imports\":{\"data\":[{\"name\":null,\"type\":\"js\",\"url\":\"\\/assetserver\\/ed80b7d691fade66e145983a11fb79e515dab825-rowNumberRenderer.js\"},{\"name\":null,\"type\":\"js\",\"url\":\"\\/assetserver\\/b9b20eb0f99819a38f7ecc433feed4bbe393c528-ag-grid.js\"},{\"name\":null,\"type\":\"css\",\"url\":\"\\/assetserver\\/5b9005a8a21f5ef6a55c77dc41516952608d0d1d-ag-grid.css\"},{\"name\":null,\"type\":\"css\",\"url\":\"\\/assetserver\\/fb7e660811b5af595641e24a03483dce78e1076e-ag-grid-light.css\"},{\"name\":null,\"type\":\"css\",\"url\":\"\\/assetserver\\/6ec54d9f8a742a6e19395fb487212fdce57da7bc-ag-grid-dark.css\"}],\"type\":\"async_block\"},\"id\":\"6112783736138831968\",\"handlers\":{\"requestedrows\":[\"(function (val){return WebIO.getval({\\\"name\\\":\\\"rowparams\\\",\\\"scope\\\":\\\"6112783736138831968\\\",\\\"id\\\":\\\"ob_216\\\",\\\"type\\\":\\\"observable\\\"}).successCallback(val,null)})\"]},\"systemjs_options\":null,\"mount_callbacks\":[\"function () {\\n    var handler = ((function (RowNumberRenderer,agGrid){var gridOptions={\\\"onCellFocused\\\":(function (ev){var x={}; (ev.rowIndex!==undefined) ? (x[\\\"rowIndex\\\"]=(ev.rowIndex+1)) : undefined; (ev.colDef!==undefined) ? (x[\\\"column\\\"]=ev.colDef.headerName) : undefined; return WebIO.setval({\\\"name\\\":\\\"onCellFocused\\\",\\\"scope\\\":\\\"6112783736138831968\\\",\\\"id\\\":\\\"ob_214\\\",\\\"type\\\":\\\"observable\\\"},x)}),\\\"onCellValueChanged\\\":(function (){return }),\\\"rowModelType\\\":\\\"infinite\\\",\\\"onRowClicked\\\":(function (ev){var x={}; (ev.rowIndex!==undefined) ? (x[\\\"rowIndex\\\"]=(ev.rowIndex+1)) : undefined; (ev.colDef!==undefined) ? (x[\\\"column\\\"]=ev.colDef.headerName) : undefined; return WebIO.setval({\\\"name\\\":\\\"onRowClicked\\\",\\\"scope\\\":\\\"6112783736138831968\\\",\\\"id\\\":\\\"ob_213\\\",\\\"type\\\":\\\"observable\\\"},x)}),\\\"maxConcurrentDatasourceRequests\\\":1,\\\"columnDefs\\\":[{\\\"filter\\\":false,\\\"editable\\\":false,\\\"headerTooltip\\\":\\\"\\\",\\\"field\\\":\\\"__row__\\\",\\\"headerName\\\":\\\"Row\\\",\\\"sortable\\\":false,\\\"type\\\":\\\"numericColumn\\\",\\\"cellRenderer\\\":\\\"rowNumberRenderer\\\",\\\"resizable\\\":true},{\\\"filter\\\":false,\\\"editable\\\":false,\\\"headerTooltip\\\":\\\"Date\\\",\\\"field\\\":\\\"date\\\",\\\"headerName\\\":\\\"date\\\",\\\"sortable\\\":false,\\\"type\\\":null,\\\"resizable\\\":true},{\\\"filter\\\":false,\\\"editable\\\":false,\\\"headerTooltip\\\":\\\"String\\\",\\\"field\\\":\\\"state\\\",\\\"headerName\\\":\\\"state\\\",\\\"sortable\\\":false,\\\"type\\\":null,\\\"resizable\\\":true},{\\\"filter\\\":false,\\\"editable\\\":false,\\\"headerTooltip\\\":\\\"String\\\",\\\"field\\\":\\\"fips\\\",\\\"headerName\\\":\\\"fips\\\",\\\"sortable\\\":false,\\\"type\\\":null,\\\"resizable\\\":true},{\\\"filter\\\":false,\\\"editable\\\":false,\\\"headerTooltip\\\":\\\"Int64\\\",\\\"field\\\":\\\"cases\\\",\\\"headerName\\\":\\\"cases\\\",\\\"sortable\\\":false,\\\"type\\\":\\\"numericColumn\\\",\\\"resizable\\\":true},{\\\"filter\\\":false,\\\"editable\\\":false,\\\"headerTooltip\\\":\\\"Int64\\\",\\\"field\\\":\\\"deaths\\\",\\\"headerName\\\":\\\"deaths\\\",\\\"sortable\\\":false,\\\"type\\\":\\\"numericColumn\\\",\\\"resizable\\\":true},{\\\"filter\\\":false,\\\"editable\\\":false,\\\"headerTooltip\\\":\\\"Float64\\\",\\\"field\\\":\\\"casesMA\\\",\\\"headerName\\\":\\\"casesMA\\\",\\\"sortable\\\":false,\\\"type\\\":\\\"numericColumn\\\",\\\"resizable\\\":true},{\\\"filter\\\":false,\\\"editable\\\":false,\\\"headerTooltip\\\":\\\"Int64\\\",\\\"field\\\":\\\"casesIncrease\\\",\\\"headerName\\\":\\\"casesIncrease\\\",\\\"sortable\\\":false,\\\"type\\\":\\\"numericColumn\\\",\\\"resizable\\\":true},{\\\"filter\\\":false,\\\"editable\\\":false,\\\"headerTooltip\\\":\\\"Float64\\\",\\\"field\\\":\\\"casesIncreaseMA\\\",\\\"headerName\\\":\\\"casesIncreaseMA\\\",\\\"sortable\\\":false,\\\"type\\\":\\\"numericColumn\\\",\\\"resizable\\\":true},{\\\"filter\\\":false,\\\"editable\\\":false,\\\"headerTooltip\\\":\\\"Float64\\\",\\\"field\\\":\\\"pch_casesMA\\\",\\\"headerName\\\":\\\"pch_casesMA\\\",\\\"sortable\\\":false,\\\"type\\\":\\\"numericColumn\\\",\\\"resizable\\\":true},{\\\"filter\\\":false,\\\"editable\\\":false,\\\"headerTooltip\\\":\\\"Float64\\\",\\\"field\\\":\\\"pch_casesIncreaseMA\\\",\\\"headerName\\\":\\\"pch_casesIncreaseMA\\\",\\\"sortable\\\":false,\\\"type\\\":\\\"numericColumn\\\",\\\"resizable\\\":true},{\\\"filter\\\":false,\\\"editable\\\":false,\\\"headerTooltip\\\":\\\"Float64\\\",\\\"field\\\":\\\"deathsMA\\\",\\\"headerName\\\":\\\"deathsMA\\\",\\\"sortable\\\":false,\\\"type\\\":\\\"numericColumn\\\",\\\"resizable\\\":true},{\\\"filter\\\":false,\\\"editable\\\":false,\\\"headerTooltip\\\":\\\"Int64\\\",\\\"field\\\":\\\"deathsIncrease\\\",\\\"headerName\\\":\\\"deathsIncrease\\\",\\\"sortable\\\":false,\\\"type\\\":\\\"numericColumn\\\",\\\"resizable\\\":true},{\\\"filter\\\":false,\\\"editable\\\":false,\\\"headerTooltip\\\":\\\"Float64\\\",\\\"field\\\":\\\"deathsIncreaseMA\\\",\\\"headerName\\\":\\\"deathsIncreaseMA\\\",\\\"sortable\\\":false,\\\"type\\\":\\\"numericColumn\\\",\\\"resizable\\\":true},{\\\"filter\\\":false,\\\"editable\\\":false,\\\"headerTooltip\\\":\\\"Float64\\\",\\\"field\\\":\\\"pch_deathsMA\\\",\\\"headerName\\\":\\\"pch_deathsMA\\\",\\\"sortable\\\":false,\\\"type\\\":\\\"numericColumn\\\",\\\"resizable\\\":true},{\\\"filter\\\":false,\\\"editable\\\":false,\\\"headerTooltip\\\":\\\"Float64\\\",\\\"field\\\":\\\"pch_deathsIncreaseMA\\\",\\\"headerName\\\":\\\"pch_deathsIncreaseMA\\\",\\\"sortable\\\":false,\\\"type\\\":\\\"numericColumn\\\",\\\"resizable\\\":true},{\\\"filter\\\":false,\\\"editable\\\":false,\\\"headerTooltip\\\":\\\"Union{Missing, Int64}\\\",\\\"field\\\":\\\"population\\\",\\\"headerName\\\":\\\"population\\\",\\\"sortable\\\":false,\\\"type\\\":\\\"numericColumn\\\",\\\"resizable\\\":true}],\\\"cacheBlockSize\\\":1000,\\\"datasource\\\":{\\\"rowCount\\\":null,\\\"getRows\\\":(function (rowParams){return WebIO.setval({\\\"name\\\":\\\"rowparams\\\",\\\"scope\\\":\\\"6112783736138831968\\\",\\\"id\\\":\\\"ob_216\\\",\\\"type\\\":\\\"observable\\\"},rowParams)})},\\\"multiSortKey\\\":\\\"ctrl\\\",\\\"maxBlocksInCache\\\":100,\\\"onCellDoubleClicked\\\":(function (ev){var x={}; (ev.rowIndex!==undefined) ? (x[\\\"rowIndex\\\"]=(ev.rowIndex+1)) : undefined; (ev.colDef!==undefined) ? (x[\\\"column\\\"]=ev.colDef.headerName) : undefined; return WebIO.setval({\\\"name\\\":\\\"onCellDoubleClicked\\\",\\\"scope\\\":\\\"6112783736138831968\\\",\\\"id\\\":\\\"ob_212\\\",\\\"type\\\":\\\"observable\\\"},x)}),\\\"onCellKeyDown\\\":(function (ev){var x={}; (ev.rowIndex!==undefined) ? (x[\\\"rowIndex\\\"]=(ev.rowIndex+1)) : undefined; (ev.colDef!==undefined) ? (x[\\\"column\\\"]=ev.colDef.headerName) : undefined; return WebIO.setval({\\\"name\\\":\\\"onCellKeyDown\\\",\\\"scope\\\":\\\"6112783736138831968\\\",\\\"id\\\":\\\"ob_215\\\",\\\"type\\\":\\\"observable\\\"},x)}),\\\"onCellClicked\\\":(function (ev){var x={}; (ev.rowIndex!==undefined) ? (x[\\\"rowIndex\\\"]=(ev.rowIndex+1)) : undefined; (ev.colDef!==undefined) ? (x[\\\"column\\\"]=ev.colDef.headerName) : undefined; return WebIO.setval({\\\"name\\\":\\\"onCellClicked\\\",\\\"scope\\\":\\\"6112783736138831968\\\",\\\"id\\\":\\\"ob_211\\\",\\\"type\\\":\\\"observable\\\"},x)})}; var el=document.getElementById(\\\"grid-2ad4cc48\\\"); gridOptions.components={\\\"rowNumberRenderer\\\":RowNumberRenderer}; this.table=new agGrid.Grid(el,gridOptions); gridOptions.columnApi.autoSizeColumn(\\\"__row__\\\"); return gridOptions.columnApi.autoSizeColumns([\\\"date\\\",\\\"state\\\",\\\"fips\\\",\\\"cases\\\",\\\"deaths\\\",\\\"casesMA\\\",\\\"casesIncrease\\\",\\\"casesIncreaseMA\\\",\\\"pch_casesMA\\\",\\\"pch_casesIncreaseMA\\\",\\\"deathsMA\\\",\\\"deathsIncrease\\\",\\\"deathsIncreaseMA\\\",\\\"pch_deathsMA\\\",\\\"pch_deathsIncreaseMA\\\",\\\"population\\\"])}));\\n    (WebIO.importBlock({\\\"data\\\":[{\\\"name\\\":null,\\\"type\\\":\\\"js\\\",\\\"url\\\":\\\"\\/assetserver\\/ed80b7d691fade66e145983a11fb79e515dab825-rowNumberRenderer.js\\\"},{\\\"name\\\":null,\\\"type\\\":\\\"js\\\",\\\"url\\\":\\\"\\/assetserver\\/b9b20eb0f99819a38f7ecc433feed4bbe393c528-ag-grid.js\\\"},{\\\"name\\\":null,\\\"type\\\":\\\"css\\\",\\\"url\\\":\\\"\\/assetserver\\/5b9005a8a21f5ef6a55c77dc41516952608d0d1d-ag-grid.css\\\"},{\\\"name\\\":null,\\\"type\\\":\\\"css\\\",\\\"url\\\":\\\"\\/assetserver\\/fb7e660811b5af595641e24a03483dce78e1076e-ag-grid-light.css\\\"},{\\\"name\\\":null,\\\"type\\\":\\\"css\\\",\\\"url\\\":\\\"\\/assetserver\\/6ec54d9f8a742a6e19395fb487212fdce57da7bc-ag-grid-dark.css\\\"}],\\\"type\\\":\\\"async_block\\\"})).then((imports) => handler.apply(this, imports));\\n}\\n\"],\"observables\":{\"onCellKeyDown\":{\"sync\":false,\"id\":\"ob_215\",\"value\":null},\"onRowClicked\":{\"sync\":false,\"id\":\"ob_213\",\"value\":null},\"onCellDoubleClicked\":{\"sync\":false,\"id\":\"ob_212\",\"value\":null},\"requestedrows\":{\"sync\":false,\"id\":\"ob_217\",\"value\":{}},\"onCellClicked\":{\"sync\":false,\"id\":\"ob_211\",\"value\":null},\"onCellFocused\":{\"sync\":false,\"id\":\"ob_214\",\"value\":null},\"rowparams\":{\"sync\":true,\"id\":\"ob_216\",\"value\":{\"successCallback\":\"(function (v){return null})\",\"startRow\":1,\"endRow\":100}}}},\"children\":[{\"props\":{},\"nodeType\":\"DOM\",\"type\":\"node\",\"instanceArgs\":{\"namespace\":\"html\",\"tag\":\"div\"},\"children\":[{\"props\":{\"style\":{\"height\":\"0\",\"padding\":\"0\",\"background-color\":\"#F5F7F7\",\"color\":\"#1c1f20\",\"font-family\":\"-apple-system, BlinkMacSystemFont, \\\"Segoe UI\\\", Roboto, Oxygen-Sans, Ubuntu, Cantarell, \\\"Helvetica Neue\\\", sans-serif\"}},\"nodeType\":\"DOM\",\"type\":\"node\",\"instanceArgs\":{\"namespace\":\"html\",\"tag\":\"div\"},\"children\":[\"\"]},{\"props\":{\"id\":\"grid-2ad4cc48\",\"className\":\"ag-theme-balham\",\"style\":{\"height\":\"500px\",\"width\":\"100%\"}},\"nodeType\":\"DOM\",\"type\":\"node\",\"instanceArgs\":{\"namespace\":\"html\",\"tag\":\"div\"},\"children\":[]}]}]},\n",
       "            window,\n",
       "        );\n",
       "    } else {\n",
       "        document\n",
       "            .querySelector('[data-webio-mountpoint=\"16464592742957353651\"]')\n",
       "            .innerHTML = (\n",
       "                '<div style=\"padding: 1em; background-color: #f8d6da; border: 1px solid #f5c6cb\">' +\n",
       "                '<p><strong>WebIO not detected.</strong></p>' +\n",
       "                '<p>Please read ' +\n",
       "                '<a href=\"https://juliagizmos.github.io/WebIO.jl/latest/troubleshooting/not-detected/\" target=\"_blank\">the troubleshooting guide</a> ' +\n",
       "                'for more information on how to resolve this issue.</p>' +\n",
       "                '<p><a href=\"https://juliagizmos.github.io/WebIO.jl/latest/troubleshooting/not-detected/\" target=\"_blank\">https://juliagizmos.github.io/WebIO.jl/latest/troubleshooting/not-detected/</a></p>' +\n",
       "                '</div>'\n",
       "            );\n",
       "    }\n",
       "    </script>\n",
       "</div>\n"
      ],
      "text/plain": [
       "WebIO.Scope(WebIO.Node{WebIO.DOM}(WebIO.DOM(:html, :div), Any[WebIO.Node{WebIO.DOM}(WebIO.DOM(:html, :div), Any[\"\"], Dict{Symbol,Any}(:style => Dict(\"height\" => \"0\",\"padding\" => \"0\",\"background-color\" => \"#F5F7F7\",\"color\" => \"#1c1f20\",\"font-family\" => \"-apple-system, BlinkMacSystemFont, \\\"Segoe UI\\\", Roboto, Oxygen-Sans, Ubuntu, Cantarell, \\\"Helvetica Neue\\\", sans-serif\"))), WebIO.Node{WebIO.DOM}(WebIO.DOM(:html, :div), Any[], Dict{Symbol,Any}(:id => \"grid-2ad4cc48\",:className => \"ag-theme-balham\",:style => Dict(\"height\" => \"500px\",\"width\" => \"100%\")))], Dict{Symbol,Any}()), Dict{String,Tuple{Observables.AbstractObservable,Union{Nothing, Bool}}}(\"onCellKeyDown\" => (Observable{Any} with 0 listeners. Value:\n",
       "nothing, nothing),\"onRowClicked\" => (Observable{Any} with 0 listeners. Value:\n",
       "nothing, nothing),\"onCellDoubleClicked\" => (Observable{Any} with 0 listeners. Value:\n",
       "nothing, nothing),\"requestedrows\" => (Observable{JSON.Writer.JSONText} with 1 listeners. Value:\n",
       "JSON.Writer.JSONText(\"{}\"), nothing),\"onCellClicked\" => (Observable{Any} with 0 listeners. Value:\n",
       "nothing, nothing),\"onCellFocused\" => (Observable{Any} with 0 listeners. Value:\n",
       "nothing, nothing),\"rowparams\" => (Observable{Dict{String,Any}} with 1 listeners. Value:\n",
       "Dict{String,Any}(\"successCallback\" => WebIO.JSString(\"(function (v){return null})\"),\"startRow\" => 1,\"endRow\" => 100), nothing)), Set(String[]), nothing, WebIO.Asset[WebIO.Asset(\"js\", nothing, \"/home/cdaniels/.julia/packages/TableView/CxWLO/src/rowNumberRenderer.js\"), WebIO.Asset(\"js\", nothing, \"/home/cdaniels/.julia/packages/TableView/CxWLO/deps/ag-grid-22.1.0/ag-grid.js\"), WebIO.Asset(\"css\", nothing, \"/home/cdaniels/.julia/packages/TableView/CxWLO/deps/ag-grid-22.1.0/ag-grid.css\"), WebIO.Asset(\"css\", nothing, \"/home/cdaniels/.julia/packages/TableView/CxWLO/deps/ag-grid-22.1.0/ag-grid-light.css\"), WebIO.Asset(\"css\", nothing, \"/home/cdaniels/.julia/packages/TableView/CxWLO/deps/ag-grid-22.1.0/ag-grid-dark.css\")], Dict{Any,Any}(\"requestedrows\" => Any[WebIO.JSString(\"(function (val){return WebIO.getval({\\\"name\\\":\\\"rowparams\\\",\\\"scope\\\":\\\"6112783736138831968\\\",\\\"id\\\":\\\"ob_216\\\",\\\"type\\\":\\\"observable\\\"}).successCallback(val,null)})\")]), WebIO.ConnectionPool(Channel{Any}(sz_max:32,sz_curr:0), Set(WebIO.AbstractConnection[]), Base.GenericCondition{Base.AlwaysLockedST}(Base.InvasiveLinkedList{Task}(Task (runnable) @0x00007f740ad07d00, Task (runnable) @0x00007f740ad07d00), Base.AlwaysLockedST(1))), WebIO.JSString[WebIO.JSString(\"function () {\\n    var handler = ((function (RowNumberRenderer,agGrid){var gridOptions={\\\"onCellFocused\\\":(function (ev){var x={}; (ev.rowIndex!==undefined) ? (x[\\\"rowIndex\\\"]=(ev.rowIndex+1)) : undefined; (ev.colDef!==undefined) ? (x[\\\"column\\\"]=ev.colDef.headerName) : undefined; return WebIO.setval({\\\"name\\\":\\\"onCellFocused\\\",\\\"scope\\\":\\\"6112783736138831968\\\",\\\"id\\\":\\\"ob_214\\\",\\\"type\\\":\\\"observable\\\"},x)}),\\\"onCellValueChanged\\\":(function (){return }),\\\"rowModelType\\\":\\\"infinite\\\",\\\"onRowClicked\\\":(function (ev){var x={}; (ev.rowIndex!==undefined) ? (x[\\\"rowIndex\\\"]=(ev.rowIndex+1)) : undefined; (ev.colDef!==undefined) ? (x[\\\"column\\\"]=ev.colDef.headerName) : undefined; return WebIO.setval({\\\"name\\\":\\\"onRowClicked\\\",\\\"scope\\\":\\\"6112783736138831968\\\",\\\"id\\\":\\\"ob_213\\\",\\\"type\\\":\\\"observable\\\"},x)}),\\\"maxConcurrentDatasourceRequests\\\":1,\\\"columnDefs\\\":[{\\\"filter\\\":false,\\\"editable\\\":false,\\\"headerTooltip\\\":\\\"\\\",\\\"field\\\":\\\"__row__\\\",\\\"headerName\\\":\\\"Row\\\",\\\"sortable\\\":false,\\\"type\\\":\\\"numericColumn\\\",\\\"cellRenderer\\\":\\\"rowNumberRenderer\\\",\\\"resizable\\\":true},{\\\"filter\\\":false,\\\"editable\\\":false,\\\"headerTooltip\\\":\\\"Date\\\",\\\"field\\\":\\\"date\\\",\\\"headerName\\\":\\\"date\\\",\\\"sortable\\\":false,\\\"type\\\":null,\\\"resizable\\\":true},{\\\"filter\\\":false,\\\"editable\\\":false,\\\"headerTooltip\\\":\\\"String\\\",\\\"field\\\":\\\"state\\\",\\\"headerName\\\":\\\"state\\\",\\\"sortable\\\":false,\\\"type\\\":null,\\\"resizable\\\":true},{\\\"filter\\\":false,\\\"editable\\\":false,\\\"headerTooltip\\\":\\\"String\\\",\\\"field\\\":\\\"fips\\\",\\\"headerName\\\":\\\"fips\\\",\\\"sortable\\\":false,\\\"type\\\":null,\\\"resizable\\\":true},{\\\"filter\\\":false,\\\"editable\\\":false,\\\"headerTooltip\\\":\\\"Int64\\\",\\\"field\\\":\\\"cases\\\",\\\"headerName\\\":\\\"cases\\\",\\\"sortable\\\":false,\\\"type\\\":\\\"numericColumn\\\",\\\"resizable\\\":true},{\\\"filter\\\":false,\\\"editable\\\":false,\\\"headerTooltip\\\":\\\"Int64\\\",\\\"field\\\":\\\"deaths\\\",\\\"headerName\\\":\\\"deaths\\\",\\\"sortable\\\":false,\\\"type\\\":\\\"numericColumn\\\",\\\"resizable\\\":true},{\\\"filter\\\":false,\\\"editable\\\":false,\\\"headerTooltip\\\":\\\"Float64\\\",\\\"field\\\":\\\"casesMA\\\",\\\"headerName\\\":\\\"casesMA\\\",\\\"sortable\\\":false,\\\"type\\\":\\\"numericColumn\\\",\\\"resizable\\\":true},{\\\"filter\\\":false,\\\"editable\\\":false,\\\"headerTooltip\\\":\\\"Int64\\\",\\\"field\\\":\\\"casesIncrease\\\",\\\"headerName\\\":\\\"casesIncrease\\\",\\\"sortable\\\":false,\\\"type\\\":\\\"numericColumn\\\",\\\"resizable\\\":true},{\\\"filter\\\":false,\\\"editable\\\":false,\\\"headerTooltip\\\":\\\"Float64\\\",\\\"field\\\":\\\"casesIncreaseMA\\\",\\\"headerName\\\":\\\"casesIncreaseMA\\\",\\\"sortable\\\":false,\\\"type\\\":\\\"numericColumn\\\",\\\"resizable\\\":true},{\\\"filter\\\":false,\\\"editable\\\":false,\\\"headerTooltip\\\":\\\"Float64\\\",\\\"field\\\":\\\"pch_casesMA\\\",\\\"headerName\\\":\\\"pch_casesMA\\\",\\\"sortable\\\":false,\\\"type\\\":\\\"numericColumn\\\",\\\"resizable\\\":true},{\\\"filter\\\":false,\\\"editable\\\":false,\\\"headerTooltip\\\":\\\"Float64\\\",\\\"field\\\":\\\"pch_casesIncreaseMA\\\",\\\"headerName\\\":\\\"pch_casesIncreaseMA\\\",\\\"sortable\\\":false,\\\"type\\\":\\\"numericColumn\\\",\\\"resizable\\\":true},{\\\"filter\\\":false,\\\"editable\\\":false,\\\"headerTooltip\\\":\\\"Float64\\\",\\\"field\\\":\\\"deathsMA\\\",\\\"headerName\\\":\\\"deathsMA\\\",\\\"sortable\\\":false,\\\"type\\\":\\\"numericColumn\\\",\\\"resizable\\\":true},{\\\"filter\\\":false,\\\"editable\\\":false,\\\"headerTooltip\\\":\\\"Int64\\\",\\\"field\\\":\\\"deathsIncrease\\\",\\\"headerName\\\":\\\"deathsIncrease\\\",\\\"sortable\\\":false,\\\"type\\\":\\\"numericColumn\\\",\\\"resizable\\\":true},{\\\"filter\\\":false,\\\"editable\\\":false,\\\"headerTooltip\\\":\\\"Float64\\\",\\\"field\\\":\\\"deathsIncreaseMA\\\",\\\"headerName\\\":\\\"deathsIncreaseMA\\\",\\\"sortable\\\":false,\\\"type\\\":\\\"numericColumn\\\",\\\"resizable\\\":true},{\\\"filter\\\":false,\\\"editable\\\":false,\\\"headerTooltip\\\":\\\"Float64\\\",\\\"field\\\":\\\"pch_deathsMA\\\",\\\"headerName\\\":\\\"pch_deathsMA\\\",\\\"sortable\\\":false,\\\"type\\\":\\\"numericColumn\\\",\\\"resizable\\\":true},{\\\"filter\\\":false,\\\"editable\\\":false,\\\"headerTooltip\\\":\\\"Float64\\\",\\\"field\\\":\\\"pch_deathsIncreaseMA\\\",\\\"headerName\\\":\\\"pch_deathsIncreaseMA\\\",\\\"sortable\\\":false,\\\"type\\\":\\\"numericColumn\\\",\\\"resizable\\\":true},{\\\"filter\\\":false,\\\"editable\\\":false,\\\"headerTooltip\\\":\\\"Union{Missing, Int64}\\\",\\\"field\\\":\\\"population\\\",\\\"headerName\\\":\\\"population\\\",\\\"sortable\\\":false,\\\"type\\\":\\\"numericColumn\\\",\\\"resizable\\\":true}],\\\"cacheBlockSize\\\":1000,\\\"datasource\\\":{\\\"rowCount\\\":null,\\\"getRows\\\":(function (rowParams){return WebIO.setval({\\\"name\\\":\\\"rowparams\\\",\\\"scope\\\":\\\"6112783736138831968\\\",\\\"id\\\":\\\"ob_216\\\",\\\"type\\\":\\\"observable\\\"},rowParams)})},\\\"multiSortKey\\\":\\\"ctrl\\\",\\\"maxBlocksInCache\\\":100,\\\"onCellDoubleClicked\\\":(function (ev){var x={}; (ev.rowIndex!==undefined) ? (x[\\\"rowIndex\\\"]=(ev.rowIndex+1)) : undefined; (ev.colDef!==undefined) ? (x[\\\"column\\\"]=ev.colDef.headerName) : undefined; return WebIO.setval({\\\"name\\\":\\\"onCellDoubleClicked\\\",\\\"scope\\\":\\\"6112783736138831968\\\",\\\"id\\\":\\\"ob_212\\\",\\\"type\\\":\\\"observable\\\"},x)}),\\\"onCellKeyDown\\\":(function (ev){var x={}; (ev.rowIndex!==undefined) ? (x[\\\"rowIndex\\\"]=(ev.rowIndex+1)) : undefined; (ev.colDef!==undefined) ? (x[\\\"column\\\"]=ev.colDef.headerName) : undefined; return WebIO.setval({\\\"name\\\":\\\"onCellKeyDown\\\",\\\"scope\\\":\\\"6112783736138831968\\\",\\\"id\\\":\\\"ob_215\\\",\\\"type\\\":\\\"observable\\\"},x)}),\\\"onCellClicked\\\":(function (ev){var x={}; (ev.rowIndex!==undefined) ? (x[\\\"rowIndex\\\"]=(ev.rowIndex+1)) : undefined; (ev.colDef!==undefined) ? (x[\\\"column\\\"]=ev.colDef.headerName) : undefined; return WebIO.setval({\\\"name\\\":\\\"onCellClicked\\\",\\\"scope\\\":\\\"6112783736138831968\\\",\\\"id\\\":\\\"ob_211\\\",\\\"type\\\":\\\"observable\\\"},x)})}; var el=document.getElementById(\\\"grid-2ad4cc48\\\"); gridOptions.components={\\\"rowNumberRenderer\\\":RowNumberRenderer}; this.table=new agGrid.Grid(el,gridOptions); gridOptions.columnApi.autoSizeColumn(\\\"__row__\\\"); return gridOptions.columnApi.autoSizeColumns([\\\"date\\\",\\\"state\\\",\\\"fips\\\",\\\"cases\\\",\\\"deaths\\\",\\\"casesMA\\\",\\\"casesIncrease\\\",\\\"casesIncreaseMA\\\",\\\"pch_casesMA\\\",\\\"pch_casesIncreaseMA\\\",\\\"deathsMA\\\",\\\"deathsIncrease\\\",\\\"deathsIncreaseMA\\\",\\\"pch_deathsMA\\\",\\\"pch_deathsIncreaseMA\\\",\\\"population\\\"])}));\\n    (WebIO.importBlock({\\\"data\\\":[{\\\"name\\\":null,\\\"type\\\":\\\"js\\\",\\\"url\\\":\\\"/assetserver/ed80b7d691fade66e145983a11fb79e515dab825-rowNumberRenderer.js\\\"},{\\\"name\\\":null,\\\"type\\\":\\\"js\\\",\\\"url\\\":\\\"/assetserver/b9b20eb0f99819a38f7ecc433feed4bbe393c528-ag-grid.js\\\"},{\\\"name\\\":null,\\\"type\\\":\\\"css\\\",\\\"url\\\":\\\"/assetserver/5b9005a8a21f5ef6a55c77dc41516952608d0d1d-ag-grid.css\\\"},{\\\"name\\\":null,\\\"type\\\":\\\"css\\\",\\\"url\\\":\\\"/assetserver/fb7e660811b5af595641e24a03483dce78e1076e-ag-grid-light.css\\\"},{\\\"name\\\":null,\\\"type\\\":\\\"css\\\",\\\"url\\\":\\\"/assetserver/6ec54d9f8a742a6e19395fb487212fdce57da7bc-ag-grid-dark.css\\\"}],\\\"type\\\":\\\"async_block\\\"})).then((imports) => handler.apply(this, imports));\\n}\\n\")])"
      ]
     },
     "execution_count": 70,
     "metadata": {
      "application/vnd.webio.node+json": {
       "kernelId": "f76cff0d-71eb-4fcb-8f14-2113642ca679"
      }
     },
     "output_type": "execute_result"
    }
   ],
   "source": [
    "@time dfs = get_nyt_state_covid_data()\n",
    "@tbl dfs"
   ]
  },
  {
   "cell_type": "code",
   "execution_count": 71,
   "metadata": {},
   "outputs": [
    {
     "data": {
      "text/plain": [
       "16-element Array{String,1}:\n",
       " \"date\"\n",
       " \"state\"\n",
       " \"fips\"\n",
       " \"cases\"\n",
       " \"deaths\"\n",
       " \"casesMA\"\n",
       " \"casesIncrease\"\n",
       " \"casesIncreaseMA\"\n",
       " \"pch_casesMA\"\n",
       " \"pch_casesIncreaseMA\"\n",
       " \"deathsMA\"\n",
       " \"deathsIncrease\"\n",
       " \"deathsIncreaseMA\"\n",
       " \"pch_deathsMA\"\n",
       " \"pch_deathsIncreaseMA\"\n",
       " \"population\""
      ]
     },
     "execution_count": 71,
     "metadata": {},
     "output_type": "execute_result"
    }
   ],
   "source": [
    "names(dfs)"
   ]
  },
  {
   "cell_type": "markdown",
   "metadata": {},
   "source": [
    "#### For a given $dfc$ select a $State$ and $County$ and optionally add $cols$, which should be symbols previously defined"
   ]
  },
  {
   "cell_type": "code",
   "execution_count": 72,
   "metadata": {},
   "outputs": [
    {
     "data": {
      "application/vnd.webio.node+json": {
       "children": [
        {
         "children": [
          {
           "children": [
            ""
           ],
           "instanceArgs": {
            "namespace": "html",
            "tag": "div"
           },
           "nodeType": "DOM",
           "props": {
            "style": {
             "background-color": "#F5F7F7",
             "color": "#1c1f20",
             "font-family": "-apple-system, BlinkMacSystemFont, \"Segoe UI\", Roboto, Oxygen-Sans, Ubuntu, Cantarell, \"Helvetica Neue\", sans-serif",
             "height": "0",
             "padding": "0"
            }
           },
           "type": "node"
          },
          {
           "children": [],
           "instanceArgs": {
            "namespace": "html",
            "tag": "div"
           },
           "nodeType": "DOM",
           "props": {
            "className": "ag-theme-balham",
            "id": "grid-2e5b349c",
            "style": {
             "height": "500px",
             "width": "100%"
            }
           },
           "type": "node"
          }
         ],
         "instanceArgs": {
          "namespace": "html",
          "tag": "div"
         },
         "nodeType": "DOM",
         "props": {},
         "type": "node"
        }
       ],
       "instanceArgs": {
        "handlers": {
         "requestedrows": [
          "(function (val){return WebIO.getval({\"name\":\"rowparams\",\"scope\":\"11674011842785392642\",\"id\":\"ob_223\",\"type\":\"observable\"}).successCallback(val,null)})"
         ]
        },
        "id": "11674011842785392642",
        "imports": {
         "data": [
          {
           "name": null,
           "type": "js",
           "url": "/assetserver/ed80b7d691fade66e145983a11fb79e515dab825-rowNumberRenderer.js"
          },
          {
           "name": null,
           "type": "js",
           "url": "/assetserver/b9b20eb0f99819a38f7ecc433feed4bbe393c528-ag-grid.js"
          },
          {
           "name": null,
           "type": "css",
           "url": "/assetserver/5b9005a8a21f5ef6a55c77dc41516952608d0d1d-ag-grid.css"
          },
          {
           "name": null,
           "type": "css",
           "url": "/assetserver/fb7e660811b5af595641e24a03483dce78e1076e-ag-grid-light.css"
          },
          {
           "name": null,
           "type": "css",
           "url": "/assetserver/6ec54d9f8a742a6e19395fb487212fdce57da7bc-ag-grid-dark.css"
          }
         ],
         "type": "async_block"
        },
        "mount_callbacks": [
         "function () {\n    var handler = ((function (RowNumberRenderer,agGrid){var gridOptions={\"onCellFocused\":(function (ev){var x={}; (ev.rowIndex!==undefined) ? (x[\"rowIndex\"]=(ev.rowIndex+1)) : undefined; (ev.colDef!==undefined) ? (x[\"column\"]=ev.colDef.headerName) : undefined; return WebIO.setval({\"name\":\"onCellFocused\",\"scope\":\"11674011842785392642\",\"id\":\"ob_221\",\"type\":\"observable\"},x)}),\"onCellValueChanged\":(function (){return }),\"rowModelType\":\"infinite\",\"onRowClicked\":(function (ev){var x={}; (ev.rowIndex!==undefined) ? (x[\"rowIndex\"]=(ev.rowIndex+1)) : undefined; (ev.colDef!==undefined) ? (x[\"column\"]=ev.colDef.headerName) : undefined; return WebIO.setval({\"name\":\"onRowClicked\",\"scope\":\"11674011842785392642\",\"id\":\"ob_220\",\"type\":\"observable\"},x)}),\"maxConcurrentDatasourceRequests\":1,\"columnDefs\":[{\"filter\":false,\"editable\":false,\"headerTooltip\":\"\",\"field\":\"__row__\",\"headerName\":\"Row\",\"sortable\":false,\"type\":\"numericColumn\",\"cellRenderer\":\"rowNumberRenderer\",\"resizable\":true},{\"filter\":false,\"editable\":false,\"headerTooltip\":\"Date\",\"field\":\"date\",\"headerName\":\"date\",\"sortable\":false,\"type\":null,\"resizable\":true},{\"filter\":false,\"editable\":false,\"headerTooltip\":\"String\",\"field\":\"county\",\"headerName\":\"county\",\"sortable\":false,\"type\":null,\"resizable\":true},{\"filter\":false,\"editable\":false,\"headerTooltip\":\"String\",\"field\":\"state\",\"headerName\":\"state\",\"sortable\":false,\"type\":null,\"resizable\":true},{\"filter\":false,\"editable\":false,\"headerTooltip\":\"Union{Missing, String}\",\"field\":\"fips\",\"headerName\":\"fips\",\"sortable\":false,\"type\":null,\"resizable\":true},{\"filter\":false,\"editable\":false,\"headerTooltip\":\"Int64\",\"field\":\"cases\",\"headerName\":\"cases\",\"sortable\":false,\"type\":\"numericColumn\",\"resizable\":true},{\"filter\":false,\"editable\":false,\"headerTooltip\":\"Int64\",\"field\":\"deaths\",\"headerName\":\"deaths\",\"sortable\":false,\"type\":\"numericColumn\",\"resizable\":true},{\"filter\":false,\"editable\":false,\"headerTooltip\":\"Float64\",\"field\":\"casesMA\",\"headerName\":\"casesMA\",\"sortable\":false,\"type\":\"numericColumn\",\"resizable\":true},{\"filter\":false,\"editable\":false,\"headerTooltip\":\"Int64\",\"field\":\"casesIncrease\",\"headerName\":\"casesIncrease\",\"sortable\":false,\"type\":\"numericColumn\",\"resizable\":true},{\"filter\":false,\"editable\":false,\"headerTooltip\":\"Float64\",\"field\":\"casesIncreaseMA\",\"headerName\":\"casesIncreaseMA\",\"sortable\":false,\"type\":\"numericColumn\",\"resizable\":true},{\"filter\":false,\"editable\":false,\"headerTooltip\":\"Float64\",\"field\":\"pch_casesMA\",\"headerName\":\"pch_casesMA\",\"sortable\":false,\"type\":\"numericColumn\",\"resizable\":true},{\"filter\":false,\"editable\":false,\"headerTooltip\":\"Float64\",\"field\":\"pch_casesIncreaseMA\",\"headerName\":\"pch_casesIncreaseMA\",\"sortable\":false,\"type\":\"numericColumn\",\"resizable\":true},{\"filter\":false,\"editable\":false,\"headerTooltip\":\"Float64\",\"field\":\"deathsMA\",\"headerName\":\"deathsMA\",\"sortable\":false,\"type\":\"numericColumn\",\"resizable\":true},{\"filter\":false,\"editable\":false,\"headerTooltip\":\"Int64\",\"field\":\"deathsIncrease\",\"headerName\":\"deathsIncrease\",\"sortable\":false,\"type\":\"numericColumn\",\"resizable\":true},{\"filter\":false,\"editable\":false,\"headerTooltip\":\"Float64\",\"field\":\"deathsIncreaseMA\",\"headerName\":\"deathsIncreaseMA\",\"sortable\":false,\"type\":\"numericColumn\",\"resizable\":true},{\"filter\":false,\"editable\":false,\"headerTooltip\":\"Float64\",\"field\":\"pch_deathsMA\",\"headerName\":\"pch_deathsMA\",\"sortable\":false,\"type\":\"numericColumn\",\"resizable\":true},{\"filter\":false,\"editable\":false,\"headerTooltip\":\"Float64\",\"field\":\"pch_deathsIncreaseMA\",\"headerName\":\"pch_deathsIncreaseMA\",\"sortable\":false,\"type\":\"numericColumn\",\"resizable\":true},{\"filter\":false,\"editable\":false,\"headerTooltip\":\"Union{Missing, Int64}\",\"field\":\"population\",\"headerName\":\"population\",\"sortable\":false,\"type\":\"numericColumn\",\"resizable\":true}],\"cacheBlockSize\":1000,\"datasource\":{\"rowCount\":null,\"getRows\":(function (rowParams){return WebIO.setval({\"name\":\"rowparams\",\"scope\":\"11674011842785392642\",\"id\":\"ob_223\",\"type\":\"observable\"},rowParams)})},\"multiSortKey\":\"ctrl\",\"maxBlocksInCache\":100,\"onCellDoubleClicked\":(function (ev){var x={}; (ev.rowIndex!==undefined) ? (x[\"rowIndex\"]=(ev.rowIndex+1)) : undefined; (ev.colDef!==undefined) ? (x[\"column\"]=ev.colDef.headerName) : undefined; return WebIO.setval({\"name\":\"onCellDoubleClicked\",\"scope\":\"11674011842785392642\",\"id\":\"ob_219\",\"type\":\"observable\"},x)}),\"onCellKeyDown\":(function (ev){var x={}; (ev.rowIndex!==undefined) ? (x[\"rowIndex\"]=(ev.rowIndex+1)) : undefined; (ev.colDef!==undefined) ? (x[\"column\"]=ev.colDef.headerName) : undefined; return WebIO.setval({\"name\":\"onCellKeyDown\",\"scope\":\"11674011842785392642\",\"id\":\"ob_222\",\"type\":\"observable\"},x)}),\"onCellClicked\":(function (ev){var x={}; (ev.rowIndex!==undefined) ? (x[\"rowIndex\"]=(ev.rowIndex+1)) : undefined; (ev.colDef!==undefined) ? (x[\"column\"]=ev.colDef.headerName) : undefined; return WebIO.setval({\"name\":\"onCellClicked\",\"scope\":\"11674011842785392642\",\"id\":\"ob_218\",\"type\":\"observable\"},x)})}; var el=document.getElementById(\"grid-2e5b349c\"); gridOptions.components={\"rowNumberRenderer\":RowNumberRenderer}; this.table=new agGrid.Grid(el,gridOptions); gridOptions.columnApi.autoSizeColumn(\"__row__\"); return gridOptions.columnApi.autoSizeColumns([\"date\",\"county\",\"state\",\"fips\",\"cases\",\"deaths\",\"casesMA\",\"casesIncrease\",\"casesIncreaseMA\",\"pch_casesMA\",\"pch_casesIncreaseMA\",\"deathsMA\",\"deathsIncrease\",\"deathsIncreaseMA\",\"pch_deathsMA\",\"pch_deathsIncreaseMA\",\"population\"])}));\n    (WebIO.importBlock({\"data\":[{\"name\":null,\"type\":\"js\",\"url\":\"/assetserver/ed80b7d691fade66e145983a11fb79e515dab825-rowNumberRenderer.js\"},{\"name\":null,\"type\":\"js\",\"url\":\"/assetserver/b9b20eb0f99819a38f7ecc433feed4bbe393c528-ag-grid.js\"},{\"name\":null,\"type\":\"css\",\"url\":\"/assetserver/5b9005a8a21f5ef6a55c77dc41516952608d0d1d-ag-grid.css\"},{\"name\":null,\"type\":\"css\",\"url\":\"/assetserver/fb7e660811b5af595641e24a03483dce78e1076e-ag-grid-light.css\"},{\"name\":null,\"type\":\"css\",\"url\":\"/assetserver/6ec54d9f8a742a6e19395fb487212fdce57da7bc-ag-grid-dark.css\"}],\"type\":\"async_block\"})).then((imports) => handler.apply(this, imports));\n}\n"
        ],
        "observables": {
         "onCellClicked": {
          "id": "ob_218",
          "sync": false,
          "value": null
         },
         "onCellDoubleClicked": {
          "id": "ob_219",
          "sync": false,
          "value": null
         },
         "onCellFocused": {
          "id": "ob_221",
          "sync": false,
          "value": null
         },
         "onCellKeyDown": {
          "id": "ob_222",
          "sync": false,
          "value": null
         },
         "onRowClicked": {
          "id": "ob_220",
          "sync": false,
          "value": null
         },
         "requestedrows": {
          "id": "ob_224",
          "sync": false,
          "value": {}
         },
         "rowparams": {
          "id": "ob_223",
          "sync": true,
          "value": {
           "endRow": 100,
           "startRow": 1,
           "successCallback": "(function (v){return null})"
          }
         }
        },
        "systemjs_options": null
       },
       "nodeType": "Scope",
       "props": {},
       "type": "node"
      },
      "text/html": [
       "<div\n",
       "    class=\"webio-mountpoint\"\n",
       "    data-webio-mountpoint=\"4040129727198183608\"\n",
       ">\n",
       "    <script>\n",
       "    if (window.require && require.defined && require.defined(\"nbextensions/webio-jupyter-notebook\")) {\n",
       "        console.log(\"Jupyter WebIO extension detected, not mounting.\");\n",
       "    } else if (window.WebIO) {\n",
       "        WebIO.mount(\n",
       "            document.querySelector('[data-webio-mountpoint=\"4040129727198183608\"]'),\n",
       "            {\"props\":{},\"nodeType\":\"Scope\",\"type\":\"node\",\"instanceArgs\":{\"imports\":{\"data\":[{\"name\":null,\"type\":\"js\",\"url\":\"\\/assetserver\\/ed80b7d691fade66e145983a11fb79e515dab825-rowNumberRenderer.js\"},{\"name\":null,\"type\":\"js\",\"url\":\"\\/assetserver\\/b9b20eb0f99819a38f7ecc433feed4bbe393c528-ag-grid.js\"},{\"name\":null,\"type\":\"css\",\"url\":\"\\/assetserver\\/5b9005a8a21f5ef6a55c77dc41516952608d0d1d-ag-grid.css\"},{\"name\":null,\"type\":\"css\",\"url\":\"\\/assetserver\\/fb7e660811b5af595641e24a03483dce78e1076e-ag-grid-light.css\"},{\"name\":null,\"type\":\"css\",\"url\":\"\\/assetserver\\/6ec54d9f8a742a6e19395fb487212fdce57da7bc-ag-grid-dark.css\"}],\"type\":\"async_block\"},\"id\":\"11674011842785392642\",\"handlers\":{\"requestedrows\":[\"(function (val){return WebIO.getval({\\\"name\\\":\\\"rowparams\\\",\\\"scope\\\":\\\"11674011842785392642\\\",\\\"id\\\":\\\"ob_223\\\",\\\"type\\\":\\\"observable\\\"}).successCallback(val,null)})\"]},\"systemjs_options\":null,\"mount_callbacks\":[\"function () {\\n    var handler = ((function (RowNumberRenderer,agGrid){var gridOptions={\\\"onCellFocused\\\":(function (ev){var x={}; (ev.rowIndex!==undefined) ? (x[\\\"rowIndex\\\"]=(ev.rowIndex+1)) : undefined; (ev.colDef!==undefined) ? (x[\\\"column\\\"]=ev.colDef.headerName) : undefined; return WebIO.setval({\\\"name\\\":\\\"onCellFocused\\\",\\\"scope\\\":\\\"11674011842785392642\\\",\\\"id\\\":\\\"ob_221\\\",\\\"type\\\":\\\"observable\\\"},x)}),\\\"onCellValueChanged\\\":(function (){return }),\\\"rowModelType\\\":\\\"infinite\\\",\\\"onRowClicked\\\":(function (ev){var x={}; (ev.rowIndex!==undefined) ? (x[\\\"rowIndex\\\"]=(ev.rowIndex+1)) : undefined; (ev.colDef!==undefined) ? (x[\\\"column\\\"]=ev.colDef.headerName) : undefined; return WebIO.setval({\\\"name\\\":\\\"onRowClicked\\\",\\\"scope\\\":\\\"11674011842785392642\\\",\\\"id\\\":\\\"ob_220\\\",\\\"type\\\":\\\"observable\\\"},x)}),\\\"maxConcurrentDatasourceRequests\\\":1,\\\"columnDefs\\\":[{\\\"filter\\\":false,\\\"editable\\\":false,\\\"headerTooltip\\\":\\\"\\\",\\\"field\\\":\\\"__row__\\\",\\\"headerName\\\":\\\"Row\\\",\\\"sortable\\\":false,\\\"type\\\":\\\"numericColumn\\\",\\\"cellRenderer\\\":\\\"rowNumberRenderer\\\",\\\"resizable\\\":true},{\\\"filter\\\":false,\\\"editable\\\":false,\\\"headerTooltip\\\":\\\"Date\\\",\\\"field\\\":\\\"date\\\",\\\"headerName\\\":\\\"date\\\",\\\"sortable\\\":false,\\\"type\\\":null,\\\"resizable\\\":true},{\\\"filter\\\":false,\\\"editable\\\":false,\\\"headerTooltip\\\":\\\"String\\\",\\\"field\\\":\\\"county\\\",\\\"headerName\\\":\\\"county\\\",\\\"sortable\\\":false,\\\"type\\\":null,\\\"resizable\\\":true},{\\\"filter\\\":false,\\\"editable\\\":false,\\\"headerTooltip\\\":\\\"String\\\",\\\"field\\\":\\\"state\\\",\\\"headerName\\\":\\\"state\\\",\\\"sortable\\\":false,\\\"type\\\":null,\\\"resizable\\\":true},{\\\"filter\\\":false,\\\"editable\\\":false,\\\"headerTooltip\\\":\\\"Union{Missing, String}\\\",\\\"field\\\":\\\"fips\\\",\\\"headerName\\\":\\\"fips\\\",\\\"sortable\\\":false,\\\"type\\\":null,\\\"resizable\\\":true},{\\\"filter\\\":false,\\\"editable\\\":false,\\\"headerTooltip\\\":\\\"Int64\\\",\\\"field\\\":\\\"cases\\\",\\\"headerName\\\":\\\"cases\\\",\\\"sortable\\\":false,\\\"type\\\":\\\"numericColumn\\\",\\\"resizable\\\":true},{\\\"filter\\\":false,\\\"editable\\\":false,\\\"headerTooltip\\\":\\\"Int64\\\",\\\"field\\\":\\\"deaths\\\",\\\"headerName\\\":\\\"deaths\\\",\\\"sortable\\\":false,\\\"type\\\":\\\"numericColumn\\\",\\\"resizable\\\":true},{\\\"filter\\\":false,\\\"editable\\\":false,\\\"headerTooltip\\\":\\\"Float64\\\",\\\"field\\\":\\\"casesMA\\\",\\\"headerName\\\":\\\"casesMA\\\",\\\"sortable\\\":false,\\\"type\\\":\\\"numericColumn\\\",\\\"resizable\\\":true},{\\\"filter\\\":false,\\\"editable\\\":false,\\\"headerTooltip\\\":\\\"Int64\\\",\\\"field\\\":\\\"casesIncrease\\\",\\\"headerName\\\":\\\"casesIncrease\\\",\\\"sortable\\\":false,\\\"type\\\":\\\"numericColumn\\\",\\\"resizable\\\":true},{\\\"filter\\\":false,\\\"editable\\\":false,\\\"headerTooltip\\\":\\\"Float64\\\",\\\"field\\\":\\\"casesIncreaseMA\\\",\\\"headerName\\\":\\\"casesIncreaseMA\\\",\\\"sortable\\\":false,\\\"type\\\":\\\"numericColumn\\\",\\\"resizable\\\":true},{\\\"filter\\\":false,\\\"editable\\\":false,\\\"headerTooltip\\\":\\\"Float64\\\",\\\"field\\\":\\\"pch_casesMA\\\",\\\"headerName\\\":\\\"pch_casesMA\\\",\\\"sortable\\\":false,\\\"type\\\":\\\"numericColumn\\\",\\\"resizable\\\":true},{\\\"filter\\\":false,\\\"editable\\\":false,\\\"headerTooltip\\\":\\\"Float64\\\",\\\"field\\\":\\\"pch_casesIncreaseMA\\\",\\\"headerName\\\":\\\"pch_casesIncreaseMA\\\",\\\"sortable\\\":false,\\\"type\\\":\\\"numericColumn\\\",\\\"resizable\\\":true},{\\\"filter\\\":false,\\\"editable\\\":false,\\\"headerTooltip\\\":\\\"Float64\\\",\\\"field\\\":\\\"deathsMA\\\",\\\"headerName\\\":\\\"deathsMA\\\",\\\"sortable\\\":false,\\\"type\\\":\\\"numericColumn\\\",\\\"resizable\\\":true},{\\\"filter\\\":false,\\\"editable\\\":false,\\\"headerTooltip\\\":\\\"Int64\\\",\\\"field\\\":\\\"deathsIncrease\\\",\\\"headerName\\\":\\\"deathsIncrease\\\",\\\"sortable\\\":false,\\\"type\\\":\\\"numericColumn\\\",\\\"resizable\\\":true},{\\\"filter\\\":false,\\\"editable\\\":false,\\\"headerTooltip\\\":\\\"Float64\\\",\\\"field\\\":\\\"deathsIncreaseMA\\\",\\\"headerName\\\":\\\"deathsIncreaseMA\\\",\\\"sortable\\\":false,\\\"type\\\":\\\"numericColumn\\\",\\\"resizable\\\":true},{\\\"filter\\\":false,\\\"editable\\\":false,\\\"headerTooltip\\\":\\\"Float64\\\",\\\"field\\\":\\\"pch_deathsMA\\\",\\\"headerName\\\":\\\"pch_deathsMA\\\",\\\"sortable\\\":false,\\\"type\\\":\\\"numericColumn\\\",\\\"resizable\\\":true},{\\\"filter\\\":false,\\\"editable\\\":false,\\\"headerTooltip\\\":\\\"Float64\\\",\\\"field\\\":\\\"pch_deathsIncreaseMA\\\",\\\"headerName\\\":\\\"pch_deathsIncreaseMA\\\",\\\"sortable\\\":false,\\\"type\\\":\\\"numericColumn\\\",\\\"resizable\\\":true},{\\\"filter\\\":false,\\\"editable\\\":false,\\\"headerTooltip\\\":\\\"Union{Missing, Int64}\\\",\\\"field\\\":\\\"population\\\",\\\"headerName\\\":\\\"population\\\",\\\"sortable\\\":false,\\\"type\\\":\\\"numericColumn\\\",\\\"resizable\\\":true}],\\\"cacheBlockSize\\\":1000,\\\"datasource\\\":{\\\"rowCount\\\":null,\\\"getRows\\\":(function (rowParams){return WebIO.setval({\\\"name\\\":\\\"rowparams\\\",\\\"scope\\\":\\\"11674011842785392642\\\",\\\"id\\\":\\\"ob_223\\\",\\\"type\\\":\\\"observable\\\"},rowParams)})},\\\"multiSortKey\\\":\\\"ctrl\\\",\\\"maxBlocksInCache\\\":100,\\\"onCellDoubleClicked\\\":(function (ev){var x={}; (ev.rowIndex!==undefined) ? (x[\\\"rowIndex\\\"]=(ev.rowIndex+1)) : undefined; (ev.colDef!==undefined) ? (x[\\\"column\\\"]=ev.colDef.headerName) : undefined; return WebIO.setval({\\\"name\\\":\\\"onCellDoubleClicked\\\",\\\"scope\\\":\\\"11674011842785392642\\\",\\\"id\\\":\\\"ob_219\\\",\\\"type\\\":\\\"observable\\\"},x)}),\\\"onCellKeyDown\\\":(function (ev){var x={}; (ev.rowIndex!==undefined) ? (x[\\\"rowIndex\\\"]=(ev.rowIndex+1)) : undefined; (ev.colDef!==undefined) ? (x[\\\"column\\\"]=ev.colDef.headerName) : undefined; return WebIO.setval({\\\"name\\\":\\\"onCellKeyDown\\\",\\\"scope\\\":\\\"11674011842785392642\\\",\\\"id\\\":\\\"ob_222\\\",\\\"type\\\":\\\"observable\\\"},x)}),\\\"onCellClicked\\\":(function (ev){var x={}; (ev.rowIndex!==undefined) ? (x[\\\"rowIndex\\\"]=(ev.rowIndex+1)) : undefined; (ev.colDef!==undefined) ? (x[\\\"column\\\"]=ev.colDef.headerName) : undefined; return WebIO.setval({\\\"name\\\":\\\"onCellClicked\\\",\\\"scope\\\":\\\"11674011842785392642\\\",\\\"id\\\":\\\"ob_218\\\",\\\"type\\\":\\\"observable\\\"},x)})}; var el=document.getElementById(\\\"grid-2e5b349c\\\"); gridOptions.components={\\\"rowNumberRenderer\\\":RowNumberRenderer}; this.table=new agGrid.Grid(el,gridOptions); gridOptions.columnApi.autoSizeColumn(\\\"__row__\\\"); return gridOptions.columnApi.autoSizeColumns([\\\"date\\\",\\\"county\\\",\\\"state\\\",\\\"fips\\\",\\\"cases\\\",\\\"deaths\\\",\\\"casesMA\\\",\\\"casesIncrease\\\",\\\"casesIncreaseMA\\\",\\\"pch_casesMA\\\",\\\"pch_casesIncreaseMA\\\",\\\"deathsMA\\\",\\\"deathsIncrease\\\",\\\"deathsIncreaseMA\\\",\\\"pch_deathsMA\\\",\\\"pch_deathsIncreaseMA\\\",\\\"population\\\"])}));\\n    (WebIO.importBlock({\\\"data\\\":[{\\\"name\\\":null,\\\"type\\\":\\\"js\\\",\\\"url\\\":\\\"\\/assetserver\\/ed80b7d691fade66e145983a11fb79e515dab825-rowNumberRenderer.js\\\"},{\\\"name\\\":null,\\\"type\\\":\\\"js\\\",\\\"url\\\":\\\"\\/assetserver\\/b9b20eb0f99819a38f7ecc433feed4bbe393c528-ag-grid.js\\\"},{\\\"name\\\":null,\\\"type\\\":\\\"css\\\",\\\"url\\\":\\\"\\/assetserver\\/5b9005a8a21f5ef6a55c77dc41516952608d0d1d-ag-grid.css\\\"},{\\\"name\\\":null,\\\"type\\\":\\\"css\\\",\\\"url\\\":\\\"\\/assetserver\\/fb7e660811b5af595641e24a03483dce78e1076e-ag-grid-light.css\\\"},{\\\"name\\\":null,\\\"type\\\":\\\"css\\\",\\\"url\\\":\\\"\\/assetserver\\/6ec54d9f8a742a6e19395fb487212fdce57da7bc-ag-grid-dark.css\\\"}],\\\"type\\\":\\\"async_block\\\"})).then((imports) => handler.apply(this, imports));\\n}\\n\"],\"observables\":{\"onCellKeyDown\":{\"sync\":false,\"id\":\"ob_222\",\"value\":null},\"onRowClicked\":{\"sync\":false,\"id\":\"ob_220\",\"value\":null},\"onCellDoubleClicked\":{\"sync\":false,\"id\":\"ob_219\",\"value\":null},\"requestedrows\":{\"sync\":false,\"id\":\"ob_224\",\"value\":{}},\"onCellClicked\":{\"sync\":false,\"id\":\"ob_218\",\"value\":null},\"onCellFocused\":{\"sync\":false,\"id\":\"ob_221\",\"value\":null},\"rowparams\":{\"sync\":true,\"id\":\"ob_223\",\"value\":{\"successCallback\":\"(function (v){return null})\",\"startRow\":1,\"endRow\":100}}}},\"children\":[{\"props\":{},\"nodeType\":\"DOM\",\"type\":\"node\",\"instanceArgs\":{\"namespace\":\"html\",\"tag\":\"div\"},\"children\":[{\"props\":{\"style\":{\"height\":\"0\",\"padding\":\"0\",\"background-color\":\"#F5F7F7\",\"color\":\"#1c1f20\",\"font-family\":\"-apple-system, BlinkMacSystemFont, \\\"Segoe UI\\\", Roboto, Oxygen-Sans, Ubuntu, Cantarell, \\\"Helvetica Neue\\\", sans-serif\"}},\"nodeType\":\"DOM\",\"type\":\"node\",\"instanceArgs\":{\"namespace\":\"html\",\"tag\":\"div\"},\"children\":[\"\"]},{\"props\":{\"id\":\"grid-2e5b349c\",\"className\":\"ag-theme-balham\",\"style\":{\"height\":\"500px\",\"width\":\"100%\"}},\"nodeType\":\"DOM\",\"type\":\"node\",\"instanceArgs\":{\"namespace\":\"html\",\"tag\":\"div\"},\"children\":[]}]}]},\n",
       "            window,\n",
       "        );\n",
       "    } else {\n",
       "        document\n",
       "            .querySelector('[data-webio-mountpoint=\"4040129727198183608\"]')\n",
       "            .innerHTML = (\n",
       "                '<div style=\"padding: 1em; background-color: #f8d6da; border: 1px solid #f5c6cb\">' +\n",
       "                '<p><strong>WebIO not detected.</strong></p>' +\n",
       "                '<p>Please read ' +\n",
       "                '<a href=\"https://juliagizmos.github.io/WebIO.jl/latest/troubleshooting/not-detected/\" target=\"_blank\">the troubleshooting guide</a> ' +\n",
       "                'for more information on how to resolve this issue.</p>' +\n",
       "                '<p><a href=\"https://juliagizmos.github.io/WebIO.jl/latest/troubleshooting/not-detected/\" target=\"_blank\">https://juliagizmos.github.io/WebIO.jl/latest/troubleshooting/not-detected/</a></p>' +\n",
       "                '</div>'\n",
       "            );\n",
       "    }\n",
       "    </script>\n",
       "</div>\n"
      ],
      "text/plain": [
       "WebIO.Scope(WebIO.Node{WebIO.DOM}(WebIO.DOM(:html, :div), Any[WebIO.Node{WebIO.DOM}(WebIO.DOM(:html, :div), Any[\"\"], Dict{Symbol,Any}(:style => Dict(\"height\" => \"0\",\"padding\" => \"0\",\"background-color\" => \"#F5F7F7\",\"color\" => \"#1c1f20\",\"font-family\" => \"-apple-system, BlinkMacSystemFont, \\\"Segoe UI\\\", Roboto, Oxygen-Sans, Ubuntu, Cantarell, \\\"Helvetica Neue\\\", sans-serif\"))), WebIO.Node{WebIO.DOM}(WebIO.DOM(:html, :div), Any[], Dict{Symbol,Any}(:id => \"grid-2e5b349c\",:className => \"ag-theme-balham\",:style => Dict(\"height\" => \"500px\",\"width\" => \"100%\")))], Dict{Symbol,Any}()), Dict{String,Tuple{Observables.AbstractObservable,Union{Nothing, Bool}}}(\"onCellKeyDown\" => (Observable{Any} with 0 listeners. Value:\n",
       "nothing, nothing),\"onRowClicked\" => (Observable{Any} with 0 listeners. Value:\n",
       "nothing, nothing),\"onCellDoubleClicked\" => (Observable{Any} with 0 listeners. Value:\n",
       "nothing, nothing),\"requestedrows\" => (Observable{JSON.Writer.JSONText} with 1 listeners. Value:\n",
       "JSON.Writer.JSONText(\"{}\"), nothing),\"onCellClicked\" => (Observable{Any} with 0 listeners. Value:\n",
       "nothing, nothing),\"onCellFocused\" => (Observable{Any} with 0 listeners. Value:\n",
       "nothing, nothing),\"rowparams\" => (Observable{Dict{String,Any}} with 1 listeners. Value:\n",
       "Dict{String,Any}(\"successCallback\" => WebIO.JSString(\"(function (v){return null})\"),\"startRow\" => 1,\"endRow\" => 100), nothing)), Set(String[]), nothing, WebIO.Asset[WebIO.Asset(\"js\", nothing, \"/home/cdaniels/.julia/packages/TableView/CxWLO/src/rowNumberRenderer.js\"), WebIO.Asset(\"js\", nothing, \"/home/cdaniels/.julia/packages/TableView/CxWLO/deps/ag-grid-22.1.0/ag-grid.js\"), WebIO.Asset(\"css\", nothing, \"/home/cdaniels/.julia/packages/TableView/CxWLO/deps/ag-grid-22.1.0/ag-grid.css\"), WebIO.Asset(\"css\", nothing, \"/home/cdaniels/.julia/packages/TableView/CxWLO/deps/ag-grid-22.1.0/ag-grid-light.css\"), WebIO.Asset(\"css\", nothing, \"/home/cdaniels/.julia/packages/TableView/CxWLO/deps/ag-grid-22.1.0/ag-grid-dark.css\")], Dict{Any,Any}(\"requestedrows\" => Any[WebIO.JSString(\"(function (val){return WebIO.getval({\\\"name\\\":\\\"rowparams\\\",\\\"scope\\\":\\\"11674011842785392642\\\",\\\"id\\\":\\\"ob_223\\\",\\\"type\\\":\\\"observable\\\"}).successCallback(val,null)})\")]), WebIO.ConnectionPool(Channel{Any}(sz_max:32,sz_curr:0), Set(WebIO.AbstractConnection[]), Base.GenericCondition{Base.AlwaysLockedST}(Base.InvasiveLinkedList{Task}(Task (runnable) @0x00007f74270aa710, Task (runnable) @0x00007f74270aa710), Base.AlwaysLockedST(1))), WebIO.JSString[WebIO.JSString(\"function () {\\n    var handler = ((function (RowNumberRenderer,agGrid){var gridOptions={\\\"onCellFocused\\\":(function (ev){var x={}; (ev.rowIndex!==undefined) ? (x[\\\"rowIndex\\\"]=(ev.rowIndex+1)) : undefined; (ev.colDef!==undefined) ? (x[\\\"column\\\"]=ev.colDef.headerName) : undefined; return WebIO.setval({\\\"name\\\":\\\"onCellFocused\\\",\\\"scope\\\":\\\"11674011842785392642\\\",\\\"id\\\":\\\"ob_221\\\",\\\"type\\\":\\\"observable\\\"},x)}),\\\"onCellValueChanged\\\":(function (){return }),\\\"rowModelType\\\":\\\"infinite\\\",\\\"onRowClicked\\\":(function (ev){var x={}; (ev.rowIndex!==undefined) ? (x[\\\"rowIndex\\\"]=(ev.rowIndex+1)) : undefined; (ev.colDef!==undefined) ? (x[\\\"column\\\"]=ev.colDef.headerName) : undefined; return WebIO.setval({\\\"name\\\":\\\"onRowClicked\\\",\\\"scope\\\":\\\"11674011842785392642\\\",\\\"id\\\":\\\"ob_220\\\",\\\"type\\\":\\\"observable\\\"},x)}),\\\"maxConcurrentDatasourceRequests\\\":1,\\\"columnDefs\\\":[{\\\"filter\\\":false,\\\"editable\\\":false,\\\"headerTooltip\\\":\\\"\\\",\\\"field\\\":\\\"__row__\\\",\\\"headerName\\\":\\\"Row\\\",\\\"sortable\\\":false,\\\"type\\\":\\\"numericColumn\\\",\\\"cellRenderer\\\":\\\"rowNumberRenderer\\\",\\\"resizable\\\":true},{\\\"filter\\\":false,\\\"editable\\\":false,\\\"headerTooltip\\\":\\\"Date\\\",\\\"field\\\":\\\"date\\\",\\\"headerName\\\":\\\"date\\\",\\\"sortable\\\":false,\\\"type\\\":null,\\\"resizable\\\":true},{\\\"filter\\\":false,\\\"editable\\\":false,\\\"headerTooltip\\\":\\\"String\\\",\\\"field\\\":\\\"county\\\",\\\"headerName\\\":\\\"county\\\",\\\"sortable\\\":false,\\\"type\\\":null,\\\"resizable\\\":true},{\\\"filter\\\":false,\\\"editable\\\":false,\\\"headerTooltip\\\":\\\"String\\\",\\\"field\\\":\\\"state\\\",\\\"headerName\\\":\\\"state\\\",\\\"sortable\\\":false,\\\"type\\\":null,\\\"resizable\\\":true},{\\\"filter\\\":false,\\\"editable\\\":false,\\\"headerTooltip\\\":\\\"Union{Missing, String}\\\",\\\"field\\\":\\\"fips\\\",\\\"headerName\\\":\\\"fips\\\",\\\"sortable\\\":false,\\\"type\\\":null,\\\"resizable\\\":true},{\\\"filter\\\":false,\\\"editable\\\":false,\\\"headerTooltip\\\":\\\"Int64\\\",\\\"field\\\":\\\"cases\\\",\\\"headerName\\\":\\\"cases\\\",\\\"sortable\\\":false,\\\"type\\\":\\\"numericColumn\\\",\\\"resizable\\\":true},{\\\"filter\\\":false,\\\"editable\\\":false,\\\"headerTooltip\\\":\\\"Int64\\\",\\\"field\\\":\\\"deaths\\\",\\\"headerName\\\":\\\"deaths\\\",\\\"sortable\\\":false,\\\"type\\\":\\\"numericColumn\\\",\\\"resizable\\\":true},{\\\"filter\\\":false,\\\"editable\\\":false,\\\"headerTooltip\\\":\\\"Float64\\\",\\\"field\\\":\\\"casesMA\\\",\\\"headerName\\\":\\\"casesMA\\\",\\\"sortable\\\":false,\\\"type\\\":\\\"numericColumn\\\",\\\"resizable\\\":true},{\\\"filter\\\":false,\\\"editable\\\":false,\\\"headerTooltip\\\":\\\"Int64\\\",\\\"field\\\":\\\"casesIncrease\\\",\\\"headerName\\\":\\\"casesIncrease\\\",\\\"sortable\\\":false,\\\"type\\\":\\\"numericColumn\\\",\\\"resizable\\\":true},{\\\"filter\\\":false,\\\"editable\\\":false,\\\"headerTooltip\\\":\\\"Float64\\\",\\\"field\\\":\\\"casesIncreaseMA\\\",\\\"headerName\\\":\\\"casesIncreaseMA\\\",\\\"sortable\\\":false,\\\"type\\\":\\\"numericColumn\\\",\\\"resizable\\\":true},{\\\"filter\\\":false,\\\"editable\\\":false,\\\"headerTooltip\\\":\\\"Float64\\\",\\\"field\\\":\\\"pch_casesMA\\\",\\\"headerName\\\":\\\"pch_casesMA\\\",\\\"sortable\\\":false,\\\"type\\\":\\\"numericColumn\\\",\\\"resizable\\\":true},{\\\"filter\\\":false,\\\"editable\\\":false,\\\"headerTooltip\\\":\\\"Float64\\\",\\\"field\\\":\\\"pch_casesIncreaseMA\\\",\\\"headerName\\\":\\\"pch_casesIncreaseMA\\\",\\\"sortable\\\":false,\\\"type\\\":\\\"numericColumn\\\",\\\"resizable\\\":true},{\\\"filter\\\":false,\\\"editable\\\":false,\\\"headerTooltip\\\":\\\"Float64\\\",\\\"field\\\":\\\"deathsMA\\\",\\\"headerName\\\":\\\"deathsMA\\\",\\\"sortable\\\":false,\\\"type\\\":\\\"numericColumn\\\",\\\"resizable\\\":true},{\\\"filter\\\":false,\\\"editable\\\":false,\\\"headerTooltip\\\":\\\"Int64\\\",\\\"field\\\":\\\"deathsIncrease\\\",\\\"headerName\\\":\\\"deathsIncrease\\\",\\\"sortable\\\":false,\\\"type\\\":\\\"numericColumn\\\",\\\"resizable\\\":true},{\\\"filter\\\":false,\\\"editable\\\":false,\\\"headerTooltip\\\":\\\"Float64\\\",\\\"field\\\":\\\"deathsIncreaseMA\\\",\\\"headerName\\\":\\\"deathsIncreaseMA\\\",\\\"sortable\\\":false,\\\"type\\\":\\\"numericColumn\\\",\\\"resizable\\\":true},{\\\"filter\\\":false,\\\"editable\\\":false,\\\"headerTooltip\\\":\\\"Float64\\\",\\\"field\\\":\\\"pch_deathsMA\\\",\\\"headerName\\\":\\\"pch_deathsMA\\\",\\\"sortable\\\":false,\\\"type\\\":\\\"numericColumn\\\",\\\"resizable\\\":true},{\\\"filter\\\":false,\\\"editable\\\":false,\\\"headerTooltip\\\":\\\"Float64\\\",\\\"field\\\":\\\"pch_deathsIncreaseMA\\\",\\\"headerName\\\":\\\"pch_deathsIncreaseMA\\\",\\\"sortable\\\":false,\\\"type\\\":\\\"numericColumn\\\",\\\"resizable\\\":true},{\\\"filter\\\":false,\\\"editable\\\":false,\\\"headerTooltip\\\":\\\"Union{Missing, Int64}\\\",\\\"field\\\":\\\"population\\\",\\\"headerName\\\":\\\"population\\\",\\\"sortable\\\":false,\\\"type\\\":\\\"numericColumn\\\",\\\"resizable\\\":true}],\\\"cacheBlockSize\\\":1000,\\\"datasource\\\":{\\\"rowCount\\\":null,\\\"getRows\\\":(function (rowParams){return WebIO.setval({\\\"name\\\":\\\"rowparams\\\",\\\"scope\\\":\\\"11674011842785392642\\\",\\\"id\\\":\\\"ob_223\\\",\\\"type\\\":\\\"observable\\\"},rowParams)})},\\\"multiSortKey\\\":\\\"ctrl\\\",\\\"maxBlocksInCache\\\":100,\\\"onCellDoubleClicked\\\":(function (ev){var x={}; (ev.rowIndex!==undefined) ? (x[\\\"rowIndex\\\"]=(ev.rowIndex+1)) : undefined; (ev.colDef!==undefined) ? (x[\\\"column\\\"]=ev.colDef.headerName) : undefined; return WebIO.setval({\\\"name\\\":\\\"onCellDoubleClicked\\\",\\\"scope\\\":\\\"11674011842785392642\\\",\\\"id\\\":\\\"ob_219\\\",\\\"type\\\":\\\"observable\\\"},x)}),\\\"onCellKeyDown\\\":(function (ev){var x={}; (ev.rowIndex!==undefined) ? (x[\\\"rowIndex\\\"]=(ev.rowIndex+1)) : undefined; (ev.colDef!==undefined) ? (x[\\\"column\\\"]=ev.colDef.headerName) : undefined; return WebIO.setval({\\\"name\\\":\\\"onCellKeyDown\\\",\\\"scope\\\":\\\"11674011842785392642\\\",\\\"id\\\":\\\"ob_222\\\",\\\"type\\\":\\\"observable\\\"},x)}),\\\"onCellClicked\\\":(function (ev){var x={}; (ev.rowIndex!==undefined) ? (x[\\\"rowIndex\\\"]=(ev.rowIndex+1)) : undefined; (ev.colDef!==undefined) ? (x[\\\"column\\\"]=ev.colDef.headerName) : undefined; return WebIO.setval({\\\"name\\\":\\\"onCellClicked\\\",\\\"scope\\\":\\\"11674011842785392642\\\",\\\"id\\\":\\\"ob_218\\\",\\\"type\\\":\\\"observable\\\"},x)})}; var el=document.getElementById(\\\"grid-2e5b349c\\\"); gridOptions.components={\\\"rowNumberRenderer\\\":RowNumberRenderer}; this.table=new agGrid.Grid(el,gridOptions); gridOptions.columnApi.autoSizeColumn(\\\"__row__\\\"); return gridOptions.columnApi.autoSizeColumns([\\\"date\\\",\\\"county\\\",\\\"state\\\",\\\"fips\\\",\\\"cases\\\",\\\"deaths\\\",\\\"casesMA\\\",\\\"casesIncrease\\\",\\\"casesIncreaseMA\\\",\\\"pch_casesMA\\\",\\\"pch_casesIncreaseMA\\\",\\\"deathsMA\\\",\\\"deathsIncrease\\\",\\\"deathsIncreaseMA\\\",\\\"pch_deathsMA\\\",\\\"pch_deathsIncreaseMA\\\",\\\"population\\\"])}));\\n    (WebIO.importBlock({\\\"data\\\":[{\\\"name\\\":null,\\\"type\\\":\\\"js\\\",\\\"url\\\":\\\"/assetserver/ed80b7d691fade66e145983a11fb79e515dab825-rowNumberRenderer.js\\\"},{\\\"name\\\":null,\\\"type\\\":\\\"js\\\",\\\"url\\\":\\\"/assetserver/b9b20eb0f99819a38f7ecc433feed4bbe393c528-ag-grid.js\\\"},{\\\"name\\\":null,\\\"type\\\":\\\"css\\\",\\\"url\\\":\\\"/assetserver/5b9005a8a21f5ef6a55c77dc41516952608d0d1d-ag-grid.css\\\"},{\\\"name\\\":null,\\\"type\\\":\\\"css\\\",\\\"url\\\":\\\"/assetserver/fb7e660811b5af595641e24a03483dce78e1076e-ag-grid-light.css\\\"},{\\\"name\\\":null,\\\"type\\\":\\\"css\\\",\\\"url\\\":\\\"/assetserver/6ec54d9f8a742a6e19395fb487212fdce57da7bc-ag-grid-dark.css\\\"}],\\\"type\\\":\\\"async_block\\\"})).then((imports) => handler.apply(this, imports));\\n}\\n\")])"
      ]
     },
     "execution_count": 72,
     "metadata": {
      "application/vnd.webio.node+json": {
       "kernelId": "f76cff0d-71eb-4fcb-8f14-2113642ca679"
      }
     },
     "output_type": "execute_result"
    }
   ],
   "source": [
    "@tbl select_region(dfc,\"Illinois\")"
   ]
  },
  {
   "cell_type": "code",
   "execution_count": 8,
   "metadata": {
    "scrolled": false
   },
   "outputs": [
    {
     "data": {
      "application/vnd.webio.node+json": {
       "children": [
        {
         "children": [
          {
           "children": [
            ""
           ],
           "instanceArgs": {
            "namespace": "html",
            "tag": "div"
           },
           "nodeType": "DOM",
           "props": {
            "style": {
             "background-color": "#F5F7F7",
             "color": "#1c1f20",
             "font-family": "-apple-system, BlinkMacSystemFont, \"Segoe UI\", Roboto, Oxygen-Sans, Ubuntu, Cantarell, \"Helvetica Neue\", sans-serif",
             "height": "0",
             "padding": "0"
            }
           },
           "type": "node"
          },
          {
           "children": [],
           "instanceArgs": {
            "namespace": "html",
            "tag": "div"
           },
           "nodeType": "DOM",
           "props": {
            "className": "ag-theme-balham",
            "id": "grid-95563812",
            "style": {
             "height": "500px",
             "width": "100%"
            }
           },
           "type": "node"
          }
         ],
         "instanceArgs": {
          "namespace": "html",
          "tag": "div"
         },
         "nodeType": "DOM",
         "props": {},
         "type": "node"
        }
       ],
       "instanceArgs": {
        "handlers": {
         "requestedrows": [
          "(function (val){return WebIO.getval({\"name\":\"rowparams\",\"scope\":\"2916839735853390979\",\"id\":\"ob_27\",\"type\":\"observable\"}).successCallback(val,null)})"
         ]
        },
        "id": "2916839735853390979",
        "imports": {
         "data": [
          {
           "name": null,
           "type": "js",
           "url": "/assetserver/ed80b7d691fade66e145983a11fb79e515dab825-rowNumberRenderer.js"
          },
          {
           "name": null,
           "type": "js",
           "url": "/assetserver/b9b20eb0f99819a38f7ecc433feed4bbe393c528-ag-grid.js"
          },
          {
           "name": null,
           "type": "css",
           "url": "/assetserver/5b9005a8a21f5ef6a55c77dc41516952608d0d1d-ag-grid.css"
          },
          {
           "name": null,
           "type": "css",
           "url": "/assetserver/fb7e660811b5af595641e24a03483dce78e1076e-ag-grid-light.css"
          },
          {
           "name": null,
           "type": "css",
           "url": "/assetserver/6ec54d9f8a742a6e19395fb487212fdce57da7bc-ag-grid-dark.css"
          }
         ],
         "type": "async_block"
        },
        "mount_callbacks": [
         "function () {\n    var handler = ((function (RowNumberRenderer,agGrid){var gridOptions={\"onCellFocused\":(function (ev){var x={}; (ev.rowIndex!==undefined) ? (x[\"rowIndex\"]=(ev.rowIndex+1)) : undefined; (ev.colDef!==undefined) ? (x[\"column\"]=ev.colDef.headerName) : undefined; return WebIO.setval({\"name\":\"onCellFocused\",\"scope\":\"2916839735853390979\",\"id\":\"ob_25\",\"type\":\"observable\"},x)}),\"onCellValueChanged\":(function (){return }),\"rowModelType\":\"infinite\",\"onRowClicked\":(function (ev){var x={}; (ev.rowIndex!==undefined) ? (x[\"rowIndex\"]=(ev.rowIndex+1)) : undefined; (ev.colDef!==undefined) ? (x[\"column\"]=ev.colDef.headerName) : undefined; return WebIO.setval({\"name\":\"onRowClicked\",\"scope\":\"2916839735853390979\",\"id\":\"ob_24\",\"type\":\"observable\"},x)}),\"maxConcurrentDatasourceRequests\":1,\"columnDefs\":[{\"filter\":false,\"editable\":false,\"headerTooltip\":\"\",\"field\":\"__row__\",\"headerName\":\"Row\",\"sortable\":false,\"type\":\"numericColumn\",\"cellRenderer\":\"rowNumberRenderer\",\"resizable\":true},{\"filter\":false,\"editable\":false,\"headerTooltip\":\"Date\",\"field\":\"date\",\"headerName\":\"date\",\"sortable\":false,\"type\":null,\"resizable\":true},{\"filter\":false,\"editable\":false,\"headerTooltip\":\"String\",\"field\":\"county\",\"headerName\":\"county\",\"sortable\":false,\"type\":null,\"resizable\":true},{\"filter\":false,\"editable\":false,\"headerTooltip\":\"String\",\"field\":\"state\",\"headerName\":\"state\",\"sortable\":false,\"type\":null,\"resizable\":true},{\"filter\":false,\"editable\":false,\"headerTooltip\":\"Union{Missing, String}\",\"field\":\"fips\",\"headerName\":\"fips\",\"sortable\":false,\"type\":null,\"resizable\":true},{\"filter\":false,\"editable\":false,\"headerTooltip\":\"Int64\",\"field\":\"cases\",\"headerName\":\"cases\",\"sortable\":false,\"type\":\"numericColumn\",\"resizable\":true},{\"filter\":false,\"editable\":false,\"headerTooltip\":\"Int64\",\"field\":\"deaths\",\"headerName\":\"deaths\",\"sortable\":false,\"type\":\"numericColumn\",\"resizable\":true},{\"filter\":false,\"editable\":false,\"headerTooltip\":\"Float64\",\"field\":\"casesMA\",\"headerName\":\"casesMA\",\"sortable\":false,\"type\":\"numericColumn\",\"resizable\":true},{\"filter\":false,\"editable\":false,\"headerTooltip\":\"Int64\",\"field\":\"casesIncrease\",\"headerName\":\"casesIncrease\",\"sortable\":false,\"type\":\"numericColumn\",\"resizable\":true},{\"filter\":false,\"editable\":false,\"headerTooltip\":\"Float64\",\"field\":\"casesIncreaseMA\",\"headerName\":\"casesIncreaseMA\",\"sortable\":false,\"type\":\"numericColumn\",\"resizable\":true},{\"filter\":false,\"editable\":false,\"headerTooltip\":\"Float64\",\"field\":\"pch_casesMA\",\"headerName\":\"pch_casesMA\",\"sortable\":false,\"type\":\"numericColumn\",\"resizable\":true},{\"filter\":false,\"editable\":false,\"headerTooltip\":\"Float64\",\"field\":\"pch_casesIncreaseMA\",\"headerName\":\"pch_casesIncreaseMA\",\"sortable\":false,\"type\":\"numericColumn\",\"resizable\":true},{\"filter\":false,\"editable\":false,\"headerTooltip\":\"Float64\",\"field\":\"deathsMA\",\"headerName\":\"deathsMA\",\"sortable\":false,\"type\":\"numericColumn\",\"resizable\":true},{\"filter\":false,\"editable\":false,\"headerTooltip\":\"Int64\",\"field\":\"deathsIncrease\",\"headerName\":\"deathsIncrease\",\"sortable\":false,\"type\":\"numericColumn\",\"resizable\":true},{\"filter\":false,\"editable\":false,\"headerTooltip\":\"Float64\",\"field\":\"deathsIncreaseMA\",\"headerName\":\"deathsIncreaseMA\",\"sortable\":false,\"type\":\"numericColumn\",\"resizable\":true},{\"filter\":false,\"editable\":false,\"headerTooltip\":\"Float64\",\"field\":\"pch_deathsMA\",\"headerName\":\"pch_deathsMA\",\"sortable\":false,\"type\":\"numericColumn\",\"resizable\":true},{\"filter\":false,\"editable\":false,\"headerTooltip\":\"Float64\",\"field\":\"pch_deathsIncreaseMA\",\"headerName\":\"pch_deathsIncreaseMA\",\"sortable\":false,\"type\":\"numericColumn\",\"resizable\":true},{\"filter\":false,\"editable\":false,\"headerTooltip\":\"Union{Missing, Int64}\",\"field\":\"population\",\"headerName\":\"population\",\"sortable\":false,\"type\":\"numericColumn\",\"resizable\":true}],\"cacheBlockSize\":1000,\"datasource\":{\"rowCount\":null,\"getRows\":(function (rowParams){return WebIO.setval({\"name\":\"rowparams\",\"scope\":\"2916839735853390979\",\"id\":\"ob_27\",\"type\":\"observable\"},rowParams)})},\"multiSortKey\":\"ctrl\",\"maxBlocksInCache\":100,\"onCellDoubleClicked\":(function (ev){var x={}; (ev.rowIndex!==undefined) ? (x[\"rowIndex\"]=(ev.rowIndex+1)) : undefined; (ev.colDef!==undefined) ? (x[\"column\"]=ev.colDef.headerName) : undefined; return WebIO.setval({\"name\":\"onCellDoubleClicked\",\"scope\":\"2916839735853390979\",\"id\":\"ob_23\",\"type\":\"observable\"},x)}),\"onCellKeyDown\":(function (ev){var x={}; (ev.rowIndex!==undefined) ? (x[\"rowIndex\"]=(ev.rowIndex+1)) : undefined; (ev.colDef!==undefined) ? (x[\"column\"]=ev.colDef.headerName) : undefined; return WebIO.setval({\"name\":\"onCellKeyDown\",\"scope\":\"2916839735853390979\",\"id\":\"ob_26\",\"type\":\"observable\"},x)}),\"onCellClicked\":(function (ev){var x={}; (ev.rowIndex!==undefined) ? (x[\"rowIndex\"]=(ev.rowIndex+1)) : undefined; (ev.colDef!==undefined) ? (x[\"column\"]=ev.colDef.headerName) : undefined; return WebIO.setval({\"name\":\"onCellClicked\",\"scope\":\"2916839735853390979\",\"id\":\"ob_22\",\"type\":\"observable\"},x)})}; var el=document.getElementById(\"grid-95563812\"); gridOptions.components={\"rowNumberRenderer\":RowNumberRenderer}; this.table=new agGrid.Grid(el,gridOptions); gridOptions.columnApi.autoSizeColumn(\"__row__\"); return gridOptions.columnApi.autoSizeColumns([\"date\",\"county\",\"state\",\"fips\",\"cases\",\"deaths\",\"casesMA\",\"casesIncrease\",\"casesIncreaseMA\",\"pch_casesMA\",\"pch_casesIncreaseMA\",\"deathsMA\",\"deathsIncrease\",\"deathsIncreaseMA\",\"pch_deathsMA\",\"pch_deathsIncreaseMA\",\"population\"])}));\n    (WebIO.importBlock({\"data\":[{\"name\":null,\"type\":\"js\",\"url\":\"/assetserver/ed80b7d691fade66e145983a11fb79e515dab825-rowNumberRenderer.js\"},{\"name\":null,\"type\":\"js\",\"url\":\"/assetserver/b9b20eb0f99819a38f7ecc433feed4bbe393c528-ag-grid.js\"},{\"name\":null,\"type\":\"css\",\"url\":\"/assetserver/5b9005a8a21f5ef6a55c77dc41516952608d0d1d-ag-grid.css\"},{\"name\":null,\"type\":\"css\",\"url\":\"/assetserver/fb7e660811b5af595641e24a03483dce78e1076e-ag-grid-light.css\"},{\"name\":null,\"type\":\"css\",\"url\":\"/assetserver/6ec54d9f8a742a6e19395fb487212fdce57da7bc-ag-grid-dark.css\"}],\"type\":\"async_block\"})).then((imports) => handler.apply(this, imports));\n}\n"
        ],
        "observables": {
         "onCellClicked": {
          "id": "ob_22",
          "sync": false,
          "value": null
         },
         "onCellDoubleClicked": {
          "id": "ob_23",
          "sync": false,
          "value": null
         },
         "onCellFocused": {
          "id": "ob_25",
          "sync": false,
          "value": null
         },
         "onCellKeyDown": {
          "id": "ob_26",
          "sync": false,
          "value": null
         },
         "onRowClicked": {
          "id": "ob_24",
          "sync": false,
          "value": null
         },
         "requestedrows": {
          "id": "ob_28",
          "sync": false,
          "value": {}
         },
         "rowparams": {
          "id": "ob_27",
          "sync": true,
          "value": {
           "endRow": 100,
           "startRow": 1,
           "successCallback": "(function (v){return null})"
          }
         }
        },
        "systemjs_options": null
       },
       "nodeType": "Scope",
       "props": {},
       "type": "node"
      },
      "text/html": [
       "<div\n",
       "    class=\"webio-mountpoint\"\n",
       "    data-webio-mountpoint=\"6023877829803140084\"\n",
       ">\n",
       "    <script>\n",
       "    if (window.require && require.defined && require.defined(\"nbextensions/webio-jupyter-notebook\")) {\n",
       "        console.log(\"Jupyter WebIO extension detected, not mounting.\");\n",
       "    } else if (window.WebIO) {\n",
       "        WebIO.mount(\n",
       "            document.querySelector('[data-webio-mountpoint=\"6023877829803140084\"]'),\n",
       "            {\"props\":{},\"nodeType\":\"Scope\",\"type\":\"node\",\"instanceArgs\":{\"imports\":{\"data\":[{\"name\":null,\"type\":\"js\",\"url\":\"\\/assetserver\\/ed80b7d691fade66e145983a11fb79e515dab825-rowNumberRenderer.js\"},{\"name\":null,\"type\":\"js\",\"url\":\"\\/assetserver\\/b9b20eb0f99819a38f7ecc433feed4bbe393c528-ag-grid.js\"},{\"name\":null,\"type\":\"css\",\"url\":\"\\/assetserver\\/5b9005a8a21f5ef6a55c77dc41516952608d0d1d-ag-grid.css\"},{\"name\":null,\"type\":\"css\",\"url\":\"\\/assetserver\\/fb7e660811b5af595641e24a03483dce78e1076e-ag-grid-light.css\"},{\"name\":null,\"type\":\"css\",\"url\":\"\\/assetserver\\/6ec54d9f8a742a6e19395fb487212fdce57da7bc-ag-grid-dark.css\"}],\"type\":\"async_block\"},\"id\":\"2916839735853390979\",\"handlers\":{\"requestedrows\":[\"(function (val){return WebIO.getval({\\\"name\\\":\\\"rowparams\\\",\\\"scope\\\":\\\"2916839735853390979\\\",\\\"id\\\":\\\"ob_27\\\",\\\"type\\\":\\\"observable\\\"}).successCallback(val,null)})\"]},\"systemjs_options\":null,\"mount_callbacks\":[\"function () {\\n    var handler = ((function (RowNumberRenderer,agGrid){var gridOptions={\\\"onCellFocused\\\":(function (ev){var x={}; (ev.rowIndex!==undefined) ? (x[\\\"rowIndex\\\"]=(ev.rowIndex+1)) : undefined; (ev.colDef!==undefined) ? (x[\\\"column\\\"]=ev.colDef.headerName) : undefined; return WebIO.setval({\\\"name\\\":\\\"onCellFocused\\\",\\\"scope\\\":\\\"2916839735853390979\\\",\\\"id\\\":\\\"ob_25\\\",\\\"type\\\":\\\"observable\\\"},x)}),\\\"onCellValueChanged\\\":(function (){return }),\\\"rowModelType\\\":\\\"infinite\\\",\\\"onRowClicked\\\":(function (ev){var x={}; (ev.rowIndex!==undefined) ? (x[\\\"rowIndex\\\"]=(ev.rowIndex+1)) : undefined; (ev.colDef!==undefined) ? (x[\\\"column\\\"]=ev.colDef.headerName) : undefined; return WebIO.setval({\\\"name\\\":\\\"onRowClicked\\\",\\\"scope\\\":\\\"2916839735853390979\\\",\\\"id\\\":\\\"ob_24\\\",\\\"type\\\":\\\"observable\\\"},x)}),\\\"maxConcurrentDatasourceRequests\\\":1,\\\"columnDefs\\\":[{\\\"filter\\\":false,\\\"editable\\\":false,\\\"headerTooltip\\\":\\\"\\\",\\\"field\\\":\\\"__row__\\\",\\\"headerName\\\":\\\"Row\\\",\\\"sortable\\\":false,\\\"type\\\":\\\"numericColumn\\\",\\\"cellRenderer\\\":\\\"rowNumberRenderer\\\",\\\"resizable\\\":true},{\\\"filter\\\":false,\\\"editable\\\":false,\\\"headerTooltip\\\":\\\"Date\\\",\\\"field\\\":\\\"date\\\",\\\"headerName\\\":\\\"date\\\",\\\"sortable\\\":false,\\\"type\\\":null,\\\"resizable\\\":true},{\\\"filter\\\":false,\\\"editable\\\":false,\\\"headerTooltip\\\":\\\"String\\\",\\\"field\\\":\\\"county\\\",\\\"headerName\\\":\\\"county\\\",\\\"sortable\\\":false,\\\"type\\\":null,\\\"resizable\\\":true},{\\\"filter\\\":false,\\\"editable\\\":false,\\\"headerTooltip\\\":\\\"String\\\",\\\"field\\\":\\\"state\\\",\\\"headerName\\\":\\\"state\\\",\\\"sortable\\\":false,\\\"type\\\":null,\\\"resizable\\\":true},{\\\"filter\\\":false,\\\"editable\\\":false,\\\"headerTooltip\\\":\\\"Union{Missing, String}\\\",\\\"field\\\":\\\"fips\\\",\\\"headerName\\\":\\\"fips\\\",\\\"sortable\\\":false,\\\"type\\\":null,\\\"resizable\\\":true},{\\\"filter\\\":false,\\\"editable\\\":false,\\\"headerTooltip\\\":\\\"Int64\\\",\\\"field\\\":\\\"cases\\\",\\\"headerName\\\":\\\"cases\\\",\\\"sortable\\\":false,\\\"type\\\":\\\"numericColumn\\\",\\\"resizable\\\":true},{\\\"filter\\\":false,\\\"editable\\\":false,\\\"headerTooltip\\\":\\\"Int64\\\",\\\"field\\\":\\\"deaths\\\",\\\"headerName\\\":\\\"deaths\\\",\\\"sortable\\\":false,\\\"type\\\":\\\"numericColumn\\\",\\\"resizable\\\":true},{\\\"filter\\\":false,\\\"editable\\\":false,\\\"headerTooltip\\\":\\\"Float64\\\",\\\"field\\\":\\\"casesMA\\\",\\\"headerName\\\":\\\"casesMA\\\",\\\"sortable\\\":false,\\\"type\\\":\\\"numericColumn\\\",\\\"resizable\\\":true},{\\\"filter\\\":false,\\\"editable\\\":false,\\\"headerTooltip\\\":\\\"Int64\\\",\\\"field\\\":\\\"casesIncrease\\\",\\\"headerName\\\":\\\"casesIncrease\\\",\\\"sortable\\\":false,\\\"type\\\":\\\"numericColumn\\\",\\\"resizable\\\":true},{\\\"filter\\\":false,\\\"editable\\\":false,\\\"headerTooltip\\\":\\\"Float64\\\",\\\"field\\\":\\\"casesIncreaseMA\\\",\\\"headerName\\\":\\\"casesIncreaseMA\\\",\\\"sortable\\\":false,\\\"type\\\":\\\"numericColumn\\\",\\\"resizable\\\":true},{\\\"filter\\\":false,\\\"editable\\\":false,\\\"headerTooltip\\\":\\\"Float64\\\",\\\"field\\\":\\\"pch_casesMA\\\",\\\"headerName\\\":\\\"pch_casesMA\\\",\\\"sortable\\\":false,\\\"type\\\":\\\"numericColumn\\\",\\\"resizable\\\":true},{\\\"filter\\\":false,\\\"editable\\\":false,\\\"headerTooltip\\\":\\\"Float64\\\",\\\"field\\\":\\\"pch_casesIncreaseMA\\\",\\\"headerName\\\":\\\"pch_casesIncreaseMA\\\",\\\"sortable\\\":false,\\\"type\\\":\\\"numericColumn\\\",\\\"resizable\\\":true},{\\\"filter\\\":false,\\\"editable\\\":false,\\\"headerTooltip\\\":\\\"Float64\\\",\\\"field\\\":\\\"deathsMA\\\",\\\"headerName\\\":\\\"deathsMA\\\",\\\"sortable\\\":false,\\\"type\\\":\\\"numericColumn\\\",\\\"resizable\\\":true},{\\\"filter\\\":false,\\\"editable\\\":false,\\\"headerTooltip\\\":\\\"Int64\\\",\\\"field\\\":\\\"deathsIncrease\\\",\\\"headerName\\\":\\\"deathsIncrease\\\",\\\"sortable\\\":false,\\\"type\\\":\\\"numericColumn\\\",\\\"resizable\\\":true},{\\\"filter\\\":false,\\\"editable\\\":false,\\\"headerTooltip\\\":\\\"Float64\\\",\\\"field\\\":\\\"deathsIncreaseMA\\\",\\\"headerName\\\":\\\"deathsIncreaseMA\\\",\\\"sortable\\\":false,\\\"type\\\":\\\"numericColumn\\\",\\\"resizable\\\":true},{\\\"filter\\\":false,\\\"editable\\\":false,\\\"headerTooltip\\\":\\\"Float64\\\",\\\"field\\\":\\\"pch_deathsMA\\\",\\\"headerName\\\":\\\"pch_deathsMA\\\",\\\"sortable\\\":false,\\\"type\\\":\\\"numericColumn\\\",\\\"resizable\\\":true},{\\\"filter\\\":false,\\\"editable\\\":false,\\\"headerTooltip\\\":\\\"Float64\\\",\\\"field\\\":\\\"pch_deathsIncreaseMA\\\",\\\"headerName\\\":\\\"pch_deathsIncreaseMA\\\",\\\"sortable\\\":false,\\\"type\\\":\\\"numericColumn\\\",\\\"resizable\\\":true},{\\\"filter\\\":false,\\\"editable\\\":false,\\\"headerTooltip\\\":\\\"Union{Missing, Int64}\\\",\\\"field\\\":\\\"population\\\",\\\"headerName\\\":\\\"population\\\",\\\"sortable\\\":false,\\\"type\\\":\\\"numericColumn\\\",\\\"resizable\\\":true}],\\\"cacheBlockSize\\\":1000,\\\"datasource\\\":{\\\"rowCount\\\":null,\\\"getRows\\\":(function (rowParams){return WebIO.setval({\\\"name\\\":\\\"rowparams\\\",\\\"scope\\\":\\\"2916839735853390979\\\",\\\"id\\\":\\\"ob_27\\\",\\\"type\\\":\\\"observable\\\"},rowParams)})},\\\"multiSortKey\\\":\\\"ctrl\\\",\\\"maxBlocksInCache\\\":100,\\\"onCellDoubleClicked\\\":(function (ev){var x={}; (ev.rowIndex!==undefined) ? (x[\\\"rowIndex\\\"]=(ev.rowIndex+1)) : undefined; (ev.colDef!==undefined) ? (x[\\\"column\\\"]=ev.colDef.headerName) : undefined; return WebIO.setval({\\\"name\\\":\\\"onCellDoubleClicked\\\",\\\"scope\\\":\\\"2916839735853390979\\\",\\\"id\\\":\\\"ob_23\\\",\\\"type\\\":\\\"observable\\\"},x)}),\\\"onCellKeyDown\\\":(function (ev){var x={}; (ev.rowIndex!==undefined) ? (x[\\\"rowIndex\\\"]=(ev.rowIndex+1)) : undefined; (ev.colDef!==undefined) ? (x[\\\"column\\\"]=ev.colDef.headerName) : undefined; return WebIO.setval({\\\"name\\\":\\\"onCellKeyDown\\\",\\\"scope\\\":\\\"2916839735853390979\\\",\\\"id\\\":\\\"ob_26\\\",\\\"type\\\":\\\"observable\\\"},x)}),\\\"onCellClicked\\\":(function (ev){var x={}; (ev.rowIndex!==undefined) ? (x[\\\"rowIndex\\\"]=(ev.rowIndex+1)) : undefined; (ev.colDef!==undefined) ? (x[\\\"column\\\"]=ev.colDef.headerName) : undefined; return WebIO.setval({\\\"name\\\":\\\"onCellClicked\\\",\\\"scope\\\":\\\"2916839735853390979\\\",\\\"id\\\":\\\"ob_22\\\",\\\"type\\\":\\\"observable\\\"},x)})}; var el=document.getElementById(\\\"grid-95563812\\\"); gridOptions.components={\\\"rowNumberRenderer\\\":RowNumberRenderer}; this.table=new agGrid.Grid(el,gridOptions); gridOptions.columnApi.autoSizeColumn(\\\"__row__\\\"); return gridOptions.columnApi.autoSizeColumns([\\\"date\\\",\\\"county\\\",\\\"state\\\",\\\"fips\\\",\\\"cases\\\",\\\"deaths\\\",\\\"casesMA\\\",\\\"casesIncrease\\\",\\\"casesIncreaseMA\\\",\\\"pch_casesMA\\\",\\\"pch_casesIncreaseMA\\\",\\\"deathsMA\\\",\\\"deathsIncrease\\\",\\\"deathsIncreaseMA\\\",\\\"pch_deathsMA\\\",\\\"pch_deathsIncreaseMA\\\",\\\"population\\\"])}));\\n    (WebIO.importBlock({\\\"data\\\":[{\\\"name\\\":null,\\\"type\\\":\\\"js\\\",\\\"url\\\":\\\"\\/assetserver\\/ed80b7d691fade66e145983a11fb79e515dab825-rowNumberRenderer.js\\\"},{\\\"name\\\":null,\\\"type\\\":\\\"js\\\",\\\"url\\\":\\\"\\/assetserver\\/b9b20eb0f99819a38f7ecc433feed4bbe393c528-ag-grid.js\\\"},{\\\"name\\\":null,\\\"type\\\":\\\"css\\\",\\\"url\\\":\\\"\\/assetserver\\/5b9005a8a21f5ef6a55c77dc41516952608d0d1d-ag-grid.css\\\"},{\\\"name\\\":null,\\\"type\\\":\\\"css\\\",\\\"url\\\":\\\"\\/assetserver\\/fb7e660811b5af595641e24a03483dce78e1076e-ag-grid-light.css\\\"},{\\\"name\\\":null,\\\"type\\\":\\\"css\\\",\\\"url\\\":\\\"\\/assetserver\\/6ec54d9f8a742a6e19395fb487212fdce57da7bc-ag-grid-dark.css\\\"}],\\\"type\\\":\\\"async_block\\\"})).then((imports) => handler.apply(this, imports));\\n}\\n\"],\"observables\":{\"onCellKeyDown\":{\"sync\":false,\"id\":\"ob_26\",\"value\":null},\"onRowClicked\":{\"sync\":false,\"id\":\"ob_24\",\"value\":null},\"onCellDoubleClicked\":{\"sync\":false,\"id\":\"ob_23\",\"value\":null},\"requestedrows\":{\"sync\":false,\"id\":\"ob_28\",\"value\":{}},\"onCellClicked\":{\"sync\":false,\"id\":\"ob_22\",\"value\":null},\"onCellFocused\":{\"sync\":false,\"id\":\"ob_25\",\"value\":null},\"rowparams\":{\"sync\":true,\"id\":\"ob_27\",\"value\":{\"successCallback\":\"(function (v){return null})\",\"startRow\":1,\"endRow\":100}}}},\"children\":[{\"props\":{},\"nodeType\":\"DOM\",\"type\":\"node\",\"instanceArgs\":{\"namespace\":\"html\",\"tag\":\"div\"},\"children\":[{\"props\":{\"style\":{\"height\":\"0\",\"padding\":\"0\",\"background-color\":\"#F5F7F7\",\"color\":\"#1c1f20\",\"font-family\":\"-apple-system, BlinkMacSystemFont, \\\"Segoe UI\\\", Roboto, Oxygen-Sans, Ubuntu, Cantarell, \\\"Helvetica Neue\\\", sans-serif\"}},\"nodeType\":\"DOM\",\"type\":\"node\",\"instanceArgs\":{\"namespace\":\"html\",\"tag\":\"div\"},\"children\":[\"\"]},{\"props\":{\"id\":\"grid-95563812\",\"className\":\"ag-theme-balham\",\"style\":{\"height\":\"500px\",\"width\":\"100%\"}},\"nodeType\":\"DOM\",\"type\":\"node\",\"instanceArgs\":{\"namespace\":\"html\",\"tag\":\"div\"},\"children\":[]}]}]},\n",
       "            window,\n",
       "        );\n",
       "    } else {\n",
       "        document\n",
       "            .querySelector('[data-webio-mountpoint=\"6023877829803140084\"]')\n",
       "            .innerHTML = (\n",
       "                '<div style=\"padding: 1em; background-color: #f8d6da; border: 1px solid #f5c6cb\">' +\n",
       "                '<p><strong>WebIO not detected.</strong></p>' +\n",
       "                '<p>Please read ' +\n",
       "                '<a href=\"https://juliagizmos.github.io/WebIO.jl/latest/troubleshooting/not-detected/\" target=\"_blank\">the troubleshooting guide</a> ' +\n",
       "                'for more information on how to resolve this issue.</p>' +\n",
       "                '<p><a href=\"https://juliagizmos.github.io/WebIO.jl/latest/troubleshooting/not-detected/\" target=\"_blank\">https://juliagizmos.github.io/WebIO.jl/latest/troubleshooting/not-detected/</a></p>' +\n",
       "                '</div>'\n",
       "            );\n",
       "    }\n",
       "    </script>\n",
       "</div>\n"
      ],
      "text/plain": [
       "WebIO.Scope(WebIO.Node{WebIO.DOM}(WebIO.DOM(:html, :div), Any[WebIO.Node{WebIO.DOM}(WebIO.DOM(:html, :div), Any[\"\"], Dict{Symbol,Any}(:style => Dict(\"height\" => \"0\",\"padding\" => \"0\",\"background-color\" => \"#F5F7F7\",\"color\" => \"#1c1f20\",\"font-family\" => \"-apple-system, BlinkMacSystemFont, \\\"Segoe UI\\\", Roboto, Oxygen-Sans, Ubuntu, Cantarell, \\\"Helvetica Neue\\\", sans-serif\"))), WebIO.Node{WebIO.DOM}(WebIO.DOM(:html, :div), Any[], Dict{Symbol,Any}(:id => \"grid-95563812\",:className => \"ag-theme-balham\",:style => Dict(\"height\" => \"500px\",\"width\" => \"100%\")))], Dict{Symbol,Any}()), Dict{String,Tuple{Observables.AbstractObservable,Union{Nothing, Bool}}}(\"onCellKeyDown\" => (Observable{Any} with 0 listeners. Value:\n",
       "nothing, nothing),\"onRowClicked\" => (Observable{Any} with 0 listeners. Value:\n",
       "nothing, nothing),\"onCellDoubleClicked\" => (Observable{Any} with 0 listeners. Value:\n",
       "nothing, nothing),\"requestedrows\" => (Observable{JSON.Writer.JSONText} with 1 listeners. Value:\n",
       "JSON.Writer.JSONText(\"{}\"), nothing),\"onCellClicked\" => (Observable{Any} with 0 listeners. Value:\n",
       "nothing, nothing),\"onCellFocused\" => (Observable{Any} with 0 listeners. Value:\n",
       "nothing, nothing),\"rowparams\" => (Observable{Dict{String,Any}} with 1 listeners. Value:\n",
       "Dict{String,Any}(\"successCallback\" => WebIO.JSString(\"(function (v){return null})\"),\"startRow\" => 1,\"endRow\" => 100), nothing)), Set(String[]), nothing, WebIO.Asset[WebIO.Asset(\"js\", nothing, \"/home/cdaniels/.julia/packages/TableView/CxWLO/src/rowNumberRenderer.js\"), WebIO.Asset(\"js\", nothing, \"/home/cdaniels/.julia/packages/TableView/CxWLO/deps/ag-grid-22.1.0/ag-grid.js\"), WebIO.Asset(\"css\", nothing, \"/home/cdaniels/.julia/packages/TableView/CxWLO/deps/ag-grid-22.1.0/ag-grid.css\"), WebIO.Asset(\"css\", nothing, \"/home/cdaniels/.julia/packages/TableView/CxWLO/deps/ag-grid-22.1.0/ag-grid-light.css\"), WebIO.Asset(\"css\", nothing, \"/home/cdaniels/.julia/packages/TableView/CxWLO/deps/ag-grid-22.1.0/ag-grid-dark.css\")], Dict{Any,Any}(\"requestedrows\" => Any[WebIO.JSString(\"(function (val){return WebIO.getval({\\\"name\\\":\\\"rowparams\\\",\\\"scope\\\":\\\"2916839735853390979\\\",\\\"id\\\":\\\"ob_27\\\",\\\"type\\\":\\\"observable\\\"}).successCallback(val,null)})\")]), WebIO.ConnectionPool(Channel{Any}(sz_max:32,sz_curr:0), Set(WebIO.AbstractConnection[]), Base.GenericCondition{Base.AlwaysLockedST}(Base.InvasiveLinkedList{Task}(Task (runnable) @0x00007f73ec0575b0, Task (runnable) @0x00007f73ec0575b0), Base.AlwaysLockedST(1))), WebIO.JSString[WebIO.JSString(\"function () {\\n    var handler = ((function (RowNumberRenderer,agGrid){var gridOptions={\\\"onCellFocused\\\":(function (ev){var x={}; (ev.rowIndex!==undefined) ? (x[\\\"rowIndex\\\"]=(ev.rowIndex+1)) : undefined; (ev.colDef!==undefined) ? (x[\\\"column\\\"]=ev.colDef.headerName) : undefined; return WebIO.setval({\\\"name\\\":\\\"onCellFocused\\\",\\\"scope\\\":\\\"2916839735853390979\\\",\\\"id\\\":\\\"ob_25\\\",\\\"type\\\":\\\"observable\\\"},x)}),\\\"onCellValueChanged\\\":(function (){return }),\\\"rowModelType\\\":\\\"infinite\\\",\\\"onRowClicked\\\":(function (ev){var x={}; (ev.rowIndex!==undefined) ? (x[\\\"rowIndex\\\"]=(ev.rowIndex+1)) : undefined; (ev.colDef!==undefined) ? (x[\\\"column\\\"]=ev.colDef.headerName) : undefined; return WebIO.setval({\\\"name\\\":\\\"onRowClicked\\\",\\\"scope\\\":\\\"2916839735853390979\\\",\\\"id\\\":\\\"ob_24\\\",\\\"type\\\":\\\"observable\\\"},x)}),\\\"maxConcurrentDatasourceRequests\\\":1,\\\"columnDefs\\\":[{\\\"filter\\\":false,\\\"editable\\\":false,\\\"headerTooltip\\\":\\\"\\\",\\\"field\\\":\\\"__row__\\\",\\\"headerName\\\":\\\"Row\\\",\\\"sortable\\\":false,\\\"type\\\":\\\"numericColumn\\\",\\\"cellRenderer\\\":\\\"rowNumberRenderer\\\",\\\"resizable\\\":true},{\\\"filter\\\":false,\\\"editable\\\":false,\\\"headerTooltip\\\":\\\"Date\\\",\\\"field\\\":\\\"date\\\",\\\"headerName\\\":\\\"date\\\",\\\"sortable\\\":false,\\\"type\\\":null,\\\"resizable\\\":true},{\\\"filter\\\":false,\\\"editable\\\":false,\\\"headerTooltip\\\":\\\"String\\\",\\\"field\\\":\\\"county\\\",\\\"headerName\\\":\\\"county\\\",\\\"sortable\\\":false,\\\"type\\\":null,\\\"resizable\\\":true},{\\\"filter\\\":false,\\\"editable\\\":false,\\\"headerTooltip\\\":\\\"String\\\",\\\"field\\\":\\\"state\\\",\\\"headerName\\\":\\\"state\\\",\\\"sortable\\\":false,\\\"type\\\":null,\\\"resizable\\\":true},{\\\"filter\\\":false,\\\"editable\\\":false,\\\"headerTooltip\\\":\\\"Union{Missing, String}\\\",\\\"field\\\":\\\"fips\\\",\\\"headerName\\\":\\\"fips\\\",\\\"sortable\\\":false,\\\"type\\\":null,\\\"resizable\\\":true},{\\\"filter\\\":false,\\\"editable\\\":false,\\\"headerTooltip\\\":\\\"Int64\\\",\\\"field\\\":\\\"cases\\\",\\\"headerName\\\":\\\"cases\\\",\\\"sortable\\\":false,\\\"type\\\":\\\"numericColumn\\\",\\\"resizable\\\":true},{\\\"filter\\\":false,\\\"editable\\\":false,\\\"headerTooltip\\\":\\\"Int64\\\",\\\"field\\\":\\\"deaths\\\",\\\"headerName\\\":\\\"deaths\\\",\\\"sortable\\\":false,\\\"type\\\":\\\"numericColumn\\\",\\\"resizable\\\":true},{\\\"filter\\\":false,\\\"editable\\\":false,\\\"headerTooltip\\\":\\\"Float64\\\",\\\"field\\\":\\\"casesMA\\\",\\\"headerName\\\":\\\"casesMA\\\",\\\"sortable\\\":false,\\\"type\\\":\\\"numericColumn\\\",\\\"resizable\\\":true},{\\\"filter\\\":false,\\\"editable\\\":false,\\\"headerTooltip\\\":\\\"Int64\\\",\\\"field\\\":\\\"casesIncrease\\\",\\\"headerName\\\":\\\"casesIncrease\\\",\\\"sortable\\\":false,\\\"type\\\":\\\"numericColumn\\\",\\\"resizable\\\":true},{\\\"filter\\\":false,\\\"editable\\\":false,\\\"headerTooltip\\\":\\\"Float64\\\",\\\"field\\\":\\\"casesIncreaseMA\\\",\\\"headerName\\\":\\\"casesIncreaseMA\\\",\\\"sortable\\\":false,\\\"type\\\":\\\"numericColumn\\\",\\\"resizable\\\":true},{\\\"filter\\\":false,\\\"editable\\\":false,\\\"headerTooltip\\\":\\\"Float64\\\",\\\"field\\\":\\\"pch_casesMA\\\",\\\"headerName\\\":\\\"pch_casesMA\\\",\\\"sortable\\\":false,\\\"type\\\":\\\"numericColumn\\\",\\\"resizable\\\":true},{\\\"filter\\\":false,\\\"editable\\\":false,\\\"headerTooltip\\\":\\\"Float64\\\",\\\"field\\\":\\\"pch_casesIncreaseMA\\\",\\\"headerName\\\":\\\"pch_casesIncreaseMA\\\",\\\"sortable\\\":false,\\\"type\\\":\\\"numericColumn\\\",\\\"resizable\\\":true},{\\\"filter\\\":false,\\\"editable\\\":false,\\\"headerTooltip\\\":\\\"Float64\\\",\\\"field\\\":\\\"deathsMA\\\",\\\"headerName\\\":\\\"deathsMA\\\",\\\"sortable\\\":false,\\\"type\\\":\\\"numericColumn\\\",\\\"resizable\\\":true},{\\\"filter\\\":false,\\\"editable\\\":false,\\\"headerTooltip\\\":\\\"Int64\\\",\\\"field\\\":\\\"deathsIncrease\\\",\\\"headerName\\\":\\\"deathsIncrease\\\",\\\"sortable\\\":false,\\\"type\\\":\\\"numericColumn\\\",\\\"resizable\\\":true},{\\\"filter\\\":false,\\\"editable\\\":false,\\\"headerTooltip\\\":\\\"Float64\\\",\\\"field\\\":\\\"deathsIncreaseMA\\\",\\\"headerName\\\":\\\"deathsIncreaseMA\\\",\\\"sortable\\\":false,\\\"type\\\":\\\"numericColumn\\\",\\\"resizable\\\":true},{\\\"filter\\\":false,\\\"editable\\\":false,\\\"headerTooltip\\\":\\\"Float64\\\",\\\"field\\\":\\\"pch_deathsMA\\\",\\\"headerName\\\":\\\"pch_deathsMA\\\",\\\"sortable\\\":false,\\\"type\\\":\\\"numericColumn\\\",\\\"resizable\\\":true},{\\\"filter\\\":false,\\\"editable\\\":false,\\\"headerTooltip\\\":\\\"Float64\\\",\\\"field\\\":\\\"pch_deathsIncreaseMA\\\",\\\"headerName\\\":\\\"pch_deathsIncreaseMA\\\",\\\"sortable\\\":false,\\\"type\\\":\\\"numericColumn\\\",\\\"resizable\\\":true},{\\\"filter\\\":false,\\\"editable\\\":false,\\\"headerTooltip\\\":\\\"Union{Missing, Int64}\\\",\\\"field\\\":\\\"population\\\",\\\"headerName\\\":\\\"population\\\",\\\"sortable\\\":false,\\\"type\\\":\\\"numericColumn\\\",\\\"resizable\\\":true}],\\\"cacheBlockSize\\\":1000,\\\"datasource\\\":{\\\"rowCount\\\":null,\\\"getRows\\\":(function (rowParams){return WebIO.setval({\\\"name\\\":\\\"rowparams\\\",\\\"scope\\\":\\\"2916839735853390979\\\",\\\"id\\\":\\\"ob_27\\\",\\\"type\\\":\\\"observable\\\"},rowParams)})},\\\"multiSortKey\\\":\\\"ctrl\\\",\\\"maxBlocksInCache\\\":100,\\\"onCellDoubleClicked\\\":(function (ev){var x={}; (ev.rowIndex!==undefined) ? (x[\\\"rowIndex\\\"]=(ev.rowIndex+1)) : undefined; (ev.colDef!==undefined) ? (x[\\\"column\\\"]=ev.colDef.headerName) : undefined; return WebIO.setval({\\\"name\\\":\\\"onCellDoubleClicked\\\",\\\"scope\\\":\\\"2916839735853390979\\\",\\\"id\\\":\\\"ob_23\\\",\\\"type\\\":\\\"observable\\\"},x)}),\\\"onCellKeyDown\\\":(function (ev){var x={}; (ev.rowIndex!==undefined) ? (x[\\\"rowIndex\\\"]=(ev.rowIndex+1)) : undefined; (ev.colDef!==undefined) ? (x[\\\"column\\\"]=ev.colDef.headerName) : undefined; return WebIO.setval({\\\"name\\\":\\\"onCellKeyDown\\\",\\\"scope\\\":\\\"2916839735853390979\\\",\\\"id\\\":\\\"ob_26\\\",\\\"type\\\":\\\"observable\\\"},x)}),\\\"onCellClicked\\\":(function (ev){var x={}; (ev.rowIndex!==undefined) ? (x[\\\"rowIndex\\\"]=(ev.rowIndex+1)) : undefined; (ev.colDef!==undefined) ? (x[\\\"column\\\"]=ev.colDef.headerName) : undefined; return WebIO.setval({\\\"name\\\":\\\"onCellClicked\\\",\\\"scope\\\":\\\"2916839735853390979\\\",\\\"id\\\":\\\"ob_22\\\",\\\"type\\\":\\\"observable\\\"},x)})}; var el=document.getElementById(\\\"grid-95563812\\\"); gridOptions.components={\\\"rowNumberRenderer\\\":RowNumberRenderer}; this.table=new agGrid.Grid(el,gridOptions); gridOptions.columnApi.autoSizeColumn(\\\"__row__\\\"); return gridOptions.columnApi.autoSizeColumns([\\\"date\\\",\\\"county\\\",\\\"state\\\",\\\"fips\\\",\\\"cases\\\",\\\"deaths\\\",\\\"casesMA\\\",\\\"casesIncrease\\\",\\\"casesIncreaseMA\\\",\\\"pch_casesMA\\\",\\\"pch_casesIncreaseMA\\\",\\\"deathsMA\\\",\\\"deathsIncrease\\\",\\\"deathsIncreaseMA\\\",\\\"pch_deathsMA\\\",\\\"pch_deathsIncreaseMA\\\",\\\"population\\\"])}));\\n    (WebIO.importBlock({\\\"data\\\":[{\\\"name\\\":null,\\\"type\\\":\\\"js\\\",\\\"url\\\":\\\"/assetserver/ed80b7d691fade66e145983a11fb79e515dab825-rowNumberRenderer.js\\\"},{\\\"name\\\":null,\\\"type\\\":\\\"js\\\",\\\"url\\\":\\\"/assetserver/b9b20eb0f99819a38f7ecc433feed4bbe393c528-ag-grid.js\\\"},{\\\"name\\\":null,\\\"type\\\":\\\"css\\\",\\\"url\\\":\\\"/assetserver/5b9005a8a21f5ef6a55c77dc41516952608d0d1d-ag-grid.css\\\"},{\\\"name\\\":null,\\\"type\\\":\\\"css\\\",\\\"url\\\":\\\"/assetserver/fb7e660811b5af595641e24a03483dce78e1076e-ag-grid-light.css\\\"},{\\\"name\\\":null,\\\"type\\\":\\\"css\\\",\\\"url\\\":\\\"/assetserver/6ec54d9f8a742a6e19395fb487212fdce57da7bc-ag-grid-dark.css\\\"}],\\\"type\\\":\\\"async_block\\\"})).then((imports) => handler.apply(this, imports));\\n}\\n\")])"
      ]
     },
     "execution_count": 8,
     "metadata": {
      "application/vnd.webio.node+json": {
       "kernelId": "f76cff0d-71eb-4fcb-8f14-2113642ca679"
      }
     },
     "output_type": "execute_result"
    }
   ],
   "source": [
    "@tbl select_region(dfc,\"Illinois\",\"Cook\")"
   ]
  },
  {
   "cell_type": "code",
   "execution_count": 9,
   "metadata": {
    "scrolled": true
   },
   "outputs": [
    {
     "data": {
      "application/vnd.webio.node+json": {
       "children": [
        {
         "children": [
          {
           "children": [
            ""
           ],
           "instanceArgs": {
            "namespace": "html",
            "tag": "div"
           },
           "nodeType": "DOM",
           "props": {
            "style": {
             "background-color": "#F5F7F7",
             "color": "#1c1f20",
             "font-family": "-apple-system, BlinkMacSystemFont, \"Segoe UI\", Roboto, Oxygen-Sans, Ubuntu, Cantarell, \"Helvetica Neue\", sans-serif",
             "height": "0",
             "padding": "0"
            }
           },
           "type": "node"
          },
          {
           "children": [],
           "instanceArgs": {
            "namespace": "html",
            "tag": "div"
           },
           "nodeType": "DOM",
           "props": {
            "className": "ag-theme-balham",
            "id": "grid-978900b2",
            "style": {
             "height": "500px",
             "width": "100%"
            }
           },
           "type": "node"
          }
         ],
         "instanceArgs": {
          "namespace": "html",
          "tag": "div"
         },
         "nodeType": "DOM",
         "props": {},
         "type": "node"
        }
       ],
       "instanceArgs": {
        "handlers": {
         "requestedrows": [
          "(function (val){return WebIO.getval({\"name\":\"rowparams\",\"scope\":\"5828229173737379136\",\"id\":\"ob_34\",\"type\":\"observable\"}).successCallback(val,null)})"
         ]
        },
        "id": "5828229173737379136",
        "imports": {
         "data": [
          {
           "name": null,
           "type": "js",
           "url": "/assetserver/ed80b7d691fade66e145983a11fb79e515dab825-rowNumberRenderer.js"
          },
          {
           "name": null,
           "type": "js",
           "url": "/assetserver/b9b20eb0f99819a38f7ecc433feed4bbe393c528-ag-grid.js"
          },
          {
           "name": null,
           "type": "css",
           "url": "/assetserver/5b9005a8a21f5ef6a55c77dc41516952608d0d1d-ag-grid.css"
          },
          {
           "name": null,
           "type": "css",
           "url": "/assetserver/fb7e660811b5af595641e24a03483dce78e1076e-ag-grid-light.css"
          },
          {
           "name": null,
           "type": "css",
           "url": "/assetserver/6ec54d9f8a742a6e19395fb487212fdce57da7bc-ag-grid-dark.css"
          }
         ],
         "type": "async_block"
        },
        "mount_callbacks": [
         "function () {\n    var handler = ((function (RowNumberRenderer,agGrid){var gridOptions={\"onCellFocused\":(function (ev){var x={}; (ev.rowIndex!==undefined) ? (x[\"rowIndex\"]=(ev.rowIndex+1)) : undefined; (ev.colDef!==undefined) ? (x[\"column\"]=ev.colDef.headerName) : undefined; return WebIO.setval({\"name\":\"onCellFocused\",\"scope\":\"5828229173737379136\",\"id\":\"ob_32\",\"type\":\"observable\"},x)}),\"onCellValueChanged\":(function (){return }),\"rowModelType\":\"infinite\",\"onRowClicked\":(function (ev){var x={}; (ev.rowIndex!==undefined) ? (x[\"rowIndex\"]=(ev.rowIndex+1)) : undefined; (ev.colDef!==undefined) ? (x[\"column\"]=ev.colDef.headerName) : undefined; return WebIO.setval({\"name\":\"onRowClicked\",\"scope\":\"5828229173737379136\",\"id\":\"ob_31\",\"type\":\"observable\"},x)}),\"maxConcurrentDatasourceRequests\":1,\"columnDefs\":[{\"filter\":false,\"editable\":false,\"headerTooltip\":\"\",\"field\":\"__row__\",\"headerName\":\"Row\",\"sortable\":false,\"type\":\"numericColumn\",\"cellRenderer\":\"rowNumberRenderer\",\"resizable\":true},{\"filter\":false,\"editable\":false,\"headerTooltip\":\"Date\",\"field\":\"date\",\"headerName\":\"date\",\"sortable\":false,\"type\":null,\"resizable\":true},{\"filter\":false,\"editable\":false,\"headerTooltip\":\"String\",\"field\":\"state\",\"headerName\":\"state\",\"sortable\":false,\"type\":null,\"resizable\":true},{\"filter\":false,\"editable\":false,\"headerTooltip\":\"Int64\",\"field\":\"casesIncrease\",\"headerName\":\"casesIncrease\",\"sortable\":false,\"type\":\"numericColumn\",\"resizable\":true},{\"filter\":false,\"editable\":false,\"headerTooltip\":\"Int64\",\"field\":\"deathsIncrease\",\"headerName\":\"deathsIncrease\",\"sortable\":false,\"type\":\"numericColumn\",\"resizable\":true}],\"cacheBlockSize\":1000,\"datasource\":{\"rowCount\":null,\"getRows\":(function (rowParams){return WebIO.setval({\"name\":\"rowparams\",\"scope\":\"5828229173737379136\",\"id\":\"ob_34\",\"type\":\"observable\"},rowParams)})},\"multiSortKey\":\"ctrl\",\"maxBlocksInCache\":100,\"onCellDoubleClicked\":(function (ev){var x={}; (ev.rowIndex!==undefined) ? (x[\"rowIndex\"]=(ev.rowIndex+1)) : undefined; (ev.colDef!==undefined) ? (x[\"column\"]=ev.colDef.headerName) : undefined; return WebIO.setval({\"name\":\"onCellDoubleClicked\",\"scope\":\"5828229173737379136\",\"id\":\"ob_30\",\"type\":\"observable\"},x)}),\"onCellKeyDown\":(function (ev){var x={}; (ev.rowIndex!==undefined) ? (x[\"rowIndex\"]=(ev.rowIndex+1)) : undefined; (ev.colDef!==undefined) ? (x[\"column\"]=ev.colDef.headerName) : undefined; return WebIO.setval({\"name\":\"onCellKeyDown\",\"scope\":\"5828229173737379136\",\"id\":\"ob_33\",\"type\":\"observable\"},x)}),\"onCellClicked\":(function (ev){var x={}; (ev.rowIndex!==undefined) ? (x[\"rowIndex\"]=(ev.rowIndex+1)) : undefined; (ev.colDef!==undefined) ? (x[\"column\"]=ev.colDef.headerName) : undefined; return WebIO.setval({\"name\":\"onCellClicked\",\"scope\":\"5828229173737379136\",\"id\":\"ob_29\",\"type\":\"observable\"},x)})}; var el=document.getElementById(\"grid-978900b2\"); gridOptions.components={\"rowNumberRenderer\":RowNumberRenderer}; this.table=new agGrid.Grid(el,gridOptions); gridOptions.columnApi.autoSizeColumn(\"__row__\"); return gridOptions.columnApi.autoSizeColumns([\"date\",\"state\",\"casesIncrease\",\"deathsIncrease\"])}));\n    (WebIO.importBlock({\"data\":[{\"name\":null,\"type\":\"js\",\"url\":\"/assetserver/ed80b7d691fade66e145983a11fb79e515dab825-rowNumberRenderer.js\"},{\"name\":null,\"type\":\"js\",\"url\":\"/assetserver/b9b20eb0f99819a38f7ecc433feed4bbe393c528-ag-grid.js\"},{\"name\":null,\"type\":\"css\",\"url\":\"/assetserver/5b9005a8a21f5ef6a55c77dc41516952608d0d1d-ag-grid.css\"},{\"name\":null,\"type\":\"css\",\"url\":\"/assetserver/fb7e660811b5af595641e24a03483dce78e1076e-ag-grid-light.css\"},{\"name\":null,\"type\":\"css\",\"url\":\"/assetserver/6ec54d9f8a742a6e19395fb487212fdce57da7bc-ag-grid-dark.css\"}],\"type\":\"async_block\"})).then((imports) => handler.apply(this, imports));\n}\n"
        ],
        "observables": {
         "onCellClicked": {
          "id": "ob_29",
          "sync": false,
          "value": null
         },
         "onCellDoubleClicked": {
          "id": "ob_30",
          "sync": false,
          "value": null
         },
         "onCellFocused": {
          "id": "ob_32",
          "sync": false,
          "value": null
         },
         "onCellKeyDown": {
          "id": "ob_33",
          "sync": false,
          "value": null
         },
         "onRowClicked": {
          "id": "ob_31",
          "sync": false,
          "value": null
         },
         "requestedrows": {
          "id": "ob_35",
          "sync": false,
          "value": {}
         },
         "rowparams": {
          "id": "ob_34",
          "sync": true,
          "value": {
           "endRow": 100,
           "startRow": 1,
           "successCallback": "(function (v){return null})"
          }
         }
        },
        "systemjs_options": null
       },
       "nodeType": "Scope",
       "props": {},
       "type": "node"
      },
      "text/html": [
       "<div\n",
       "    class=\"webio-mountpoint\"\n",
       "    data-webio-mountpoint=\"12829252362121353857\"\n",
       ">\n",
       "    <script>\n",
       "    if (window.require && require.defined && require.defined(\"nbextensions/webio-jupyter-notebook\")) {\n",
       "        console.log(\"Jupyter WebIO extension detected, not mounting.\");\n",
       "    } else if (window.WebIO) {\n",
       "        WebIO.mount(\n",
       "            document.querySelector('[data-webio-mountpoint=\"12829252362121353857\"]'),\n",
       "            {\"props\":{},\"nodeType\":\"Scope\",\"type\":\"node\",\"instanceArgs\":{\"imports\":{\"data\":[{\"name\":null,\"type\":\"js\",\"url\":\"\\/assetserver\\/ed80b7d691fade66e145983a11fb79e515dab825-rowNumberRenderer.js\"},{\"name\":null,\"type\":\"js\",\"url\":\"\\/assetserver\\/b9b20eb0f99819a38f7ecc433feed4bbe393c528-ag-grid.js\"},{\"name\":null,\"type\":\"css\",\"url\":\"\\/assetserver\\/5b9005a8a21f5ef6a55c77dc41516952608d0d1d-ag-grid.css\"},{\"name\":null,\"type\":\"css\",\"url\":\"\\/assetserver\\/fb7e660811b5af595641e24a03483dce78e1076e-ag-grid-light.css\"},{\"name\":null,\"type\":\"css\",\"url\":\"\\/assetserver\\/6ec54d9f8a742a6e19395fb487212fdce57da7bc-ag-grid-dark.css\"}],\"type\":\"async_block\"},\"id\":\"5828229173737379136\",\"handlers\":{\"requestedrows\":[\"(function (val){return WebIO.getval({\\\"name\\\":\\\"rowparams\\\",\\\"scope\\\":\\\"5828229173737379136\\\",\\\"id\\\":\\\"ob_34\\\",\\\"type\\\":\\\"observable\\\"}).successCallback(val,null)})\"]},\"systemjs_options\":null,\"mount_callbacks\":[\"function () {\\n    var handler = ((function (RowNumberRenderer,agGrid){var gridOptions={\\\"onCellFocused\\\":(function (ev){var x={}; (ev.rowIndex!==undefined) ? (x[\\\"rowIndex\\\"]=(ev.rowIndex+1)) : undefined; (ev.colDef!==undefined) ? (x[\\\"column\\\"]=ev.colDef.headerName) : undefined; return WebIO.setval({\\\"name\\\":\\\"onCellFocused\\\",\\\"scope\\\":\\\"5828229173737379136\\\",\\\"id\\\":\\\"ob_32\\\",\\\"type\\\":\\\"observable\\\"},x)}),\\\"onCellValueChanged\\\":(function (){return }),\\\"rowModelType\\\":\\\"infinite\\\",\\\"onRowClicked\\\":(function (ev){var x={}; (ev.rowIndex!==undefined) ? (x[\\\"rowIndex\\\"]=(ev.rowIndex+1)) : undefined; (ev.colDef!==undefined) ? (x[\\\"column\\\"]=ev.colDef.headerName) : undefined; return WebIO.setval({\\\"name\\\":\\\"onRowClicked\\\",\\\"scope\\\":\\\"5828229173737379136\\\",\\\"id\\\":\\\"ob_31\\\",\\\"type\\\":\\\"observable\\\"},x)}),\\\"maxConcurrentDatasourceRequests\\\":1,\\\"columnDefs\\\":[{\\\"filter\\\":false,\\\"editable\\\":false,\\\"headerTooltip\\\":\\\"\\\",\\\"field\\\":\\\"__row__\\\",\\\"headerName\\\":\\\"Row\\\",\\\"sortable\\\":false,\\\"type\\\":\\\"numericColumn\\\",\\\"cellRenderer\\\":\\\"rowNumberRenderer\\\",\\\"resizable\\\":true},{\\\"filter\\\":false,\\\"editable\\\":false,\\\"headerTooltip\\\":\\\"Date\\\",\\\"field\\\":\\\"date\\\",\\\"headerName\\\":\\\"date\\\",\\\"sortable\\\":false,\\\"type\\\":null,\\\"resizable\\\":true},{\\\"filter\\\":false,\\\"editable\\\":false,\\\"headerTooltip\\\":\\\"String\\\",\\\"field\\\":\\\"state\\\",\\\"headerName\\\":\\\"state\\\",\\\"sortable\\\":false,\\\"type\\\":null,\\\"resizable\\\":true},{\\\"filter\\\":false,\\\"editable\\\":false,\\\"headerTooltip\\\":\\\"Int64\\\",\\\"field\\\":\\\"casesIncrease\\\",\\\"headerName\\\":\\\"casesIncrease\\\",\\\"sortable\\\":false,\\\"type\\\":\\\"numericColumn\\\",\\\"resizable\\\":true},{\\\"filter\\\":false,\\\"editable\\\":false,\\\"headerTooltip\\\":\\\"Int64\\\",\\\"field\\\":\\\"deathsIncrease\\\",\\\"headerName\\\":\\\"deathsIncrease\\\",\\\"sortable\\\":false,\\\"type\\\":\\\"numericColumn\\\",\\\"resizable\\\":true}],\\\"cacheBlockSize\\\":1000,\\\"datasource\\\":{\\\"rowCount\\\":null,\\\"getRows\\\":(function (rowParams){return WebIO.setval({\\\"name\\\":\\\"rowparams\\\",\\\"scope\\\":\\\"5828229173737379136\\\",\\\"id\\\":\\\"ob_34\\\",\\\"type\\\":\\\"observable\\\"},rowParams)})},\\\"multiSortKey\\\":\\\"ctrl\\\",\\\"maxBlocksInCache\\\":100,\\\"onCellDoubleClicked\\\":(function (ev){var x={}; (ev.rowIndex!==undefined) ? (x[\\\"rowIndex\\\"]=(ev.rowIndex+1)) : undefined; (ev.colDef!==undefined) ? (x[\\\"column\\\"]=ev.colDef.headerName) : undefined; return WebIO.setval({\\\"name\\\":\\\"onCellDoubleClicked\\\",\\\"scope\\\":\\\"5828229173737379136\\\",\\\"id\\\":\\\"ob_30\\\",\\\"type\\\":\\\"observable\\\"},x)}),\\\"onCellKeyDown\\\":(function (ev){var x={}; (ev.rowIndex!==undefined) ? (x[\\\"rowIndex\\\"]=(ev.rowIndex+1)) : undefined; (ev.colDef!==undefined) ? (x[\\\"column\\\"]=ev.colDef.headerName) : undefined; return WebIO.setval({\\\"name\\\":\\\"onCellKeyDown\\\",\\\"scope\\\":\\\"5828229173737379136\\\",\\\"id\\\":\\\"ob_33\\\",\\\"type\\\":\\\"observable\\\"},x)}),\\\"onCellClicked\\\":(function (ev){var x={}; (ev.rowIndex!==undefined) ? (x[\\\"rowIndex\\\"]=(ev.rowIndex+1)) : undefined; (ev.colDef!==undefined) ? (x[\\\"column\\\"]=ev.colDef.headerName) : undefined; return WebIO.setval({\\\"name\\\":\\\"onCellClicked\\\",\\\"scope\\\":\\\"5828229173737379136\\\",\\\"id\\\":\\\"ob_29\\\",\\\"type\\\":\\\"observable\\\"},x)})}; var el=document.getElementById(\\\"grid-978900b2\\\"); gridOptions.components={\\\"rowNumberRenderer\\\":RowNumberRenderer}; this.table=new agGrid.Grid(el,gridOptions); gridOptions.columnApi.autoSizeColumn(\\\"__row__\\\"); return gridOptions.columnApi.autoSizeColumns([\\\"date\\\",\\\"state\\\",\\\"casesIncrease\\\",\\\"deathsIncrease\\\"])}));\\n    (WebIO.importBlock({\\\"data\\\":[{\\\"name\\\":null,\\\"type\\\":\\\"js\\\",\\\"url\\\":\\\"\\/assetserver\\/ed80b7d691fade66e145983a11fb79e515dab825-rowNumberRenderer.js\\\"},{\\\"name\\\":null,\\\"type\\\":\\\"js\\\",\\\"url\\\":\\\"\\/assetserver\\/b9b20eb0f99819a38f7ecc433feed4bbe393c528-ag-grid.js\\\"},{\\\"name\\\":null,\\\"type\\\":\\\"css\\\",\\\"url\\\":\\\"\\/assetserver\\/5b9005a8a21f5ef6a55c77dc41516952608d0d1d-ag-grid.css\\\"},{\\\"name\\\":null,\\\"type\\\":\\\"css\\\",\\\"url\\\":\\\"\\/assetserver\\/fb7e660811b5af595641e24a03483dce78e1076e-ag-grid-light.css\\\"},{\\\"name\\\":null,\\\"type\\\":\\\"css\\\",\\\"url\\\":\\\"\\/assetserver\\/6ec54d9f8a742a6e19395fb487212fdce57da7bc-ag-grid-dark.css\\\"}],\\\"type\\\":\\\"async_block\\\"})).then((imports) => handler.apply(this, imports));\\n}\\n\"],\"observables\":{\"onCellKeyDown\":{\"sync\":false,\"id\":\"ob_33\",\"value\":null},\"onRowClicked\":{\"sync\":false,\"id\":\"ob_31\",\"value\":null},\"onCellDoubleClicked\":{\"sync\":false,\"id\":\"ob_30\",\"value\":null},\"requestedrows\":{\"sync\":false,\"id\":\"ob_35\",\"value\":{}},\"onCellClicked\":{\"sync\":false,\"id\":\"ob_29\",\"value\":null},\"onCellFocused\":{\"sync\":false,\"id\":\"ob_32\",\"value\":null},\"rowparams\":{\"sync\":true,\"id\":\"ob_34\",\"value\":{\"successCallback\":\"(function (v){return null})\",\"startRow\":1,\"endRow\":100}}}},\"children\":[{\"props\":{},\"nodeType\":\"DOM\",\"type\":\"node\",\"instanceArgs\":{\"namespace\":\"html\",\"tag\":\"div\"},\"children\":[{\"props\":{\"style\":{\"height\":\"0\",\"padding\":\"0\",\"background-color\":\"#F5F7F7\",\"color\":\"#1c1f20\",\"font-family\":\"-apple-system, BlinkMacSystemFont, \\\"Segoe UI\\\", Roboto, Oxygen-Sans, Ubuntu, Cantarell, \\\"Helvetica Neue\\\", sans-serif\"}},\"nodeType\":\"DOM\",\"type\":\"node\",\"instanceArgs\":{\"namespace\":\"html\",\"tag\":\"div\"},\"children\":[\"\"]},{\"props\":{\"id\":\"grid-978900b2\",\"className\":\"ag-theme-balham\",\"style\":{\"height\":\"500px\",\"width\":\"100%\"}},\"nodeType\":\"DOM\",\"type\":\"node\",\"instanceArgs\":{\"namespace\":\"html\",\"tag\":\"div\"},\"children\":[]}]}]},\n",
       "            window,\n",
       "        );\n",
       "    } else {\n",
       "        document\n",
       "            .querySelector('[data-webio-mountpoint=\"12829252362121353857\"]')\n",
       "            .innerHTML = (\n",
       "                '<div style=\"padding: 1em; background-color: #f8d6da; border: 1px solid #f5c6cb\">' +\n",
       "                '<p><strong>WebIO not detected.</strong></p>' +\n",
       "                '<p>Please read ' +\n",
       "                '<a href=\"https://juliagizmos.github.io/WebIO.jl/latest/troubleshooting/not-detected/\" target=\"_blank\">the troubleshooting guide</a> ' +\n",
       "                'for more information on how to resolve this issue.</p>' +\n",
       "                '<p><a href=\"https://juliagizmos.github.io/WebIO.jl/latest/troubleshooting/not-detected/\" target=\"_blank\">https://juliagizmos.github.io/WebIO.jl/latest/troubleshooting/not-detected/</a></p>' +\n",
       "                '</div>'\n",
       "            );\n",
       "    }\n",
       "    </script>\n",
       "</div>\n"
      ],
      "text/plain": [
       "WebIO.Scope(WebIO.Node{WebIO.DOM}(WebIO.DOM(:html, :div), Any[WebIO.Node{WebIO.DOM}(WebIO.DOM(:html, :div), Any[\"\"], Dict{Symbol,Any}(:style => Dict(\"height\" => \"0\",\"padding\" => \"0\",\"background-color\" => \"#F5F7F7\",\"color\" => \"#1c1f20\",\"font-family\" => \"-apple-system, BlinkMacSystemFont, \\\"Segoe UI\\\", Roboto, Oxygen-Sans, Ubuntu, Cantarell, \\\"Helvetica Neue\\\", sans-serif\"))), WebIO.Node{WebIO.DOM}(WebIO.DOM(:html, :div), Any[], Dict{Symbol,Any}(:id => \"grid-978900b2\",:className => \"ag-theme-balham\",:style => Dict(\"height\" => \"500px\",\"width\" => \"100%\")))], Dict{Symbol,Any}()), Dict{String,Tuple{Observables.AbstractObservable,Union{Nothing, Bool}}}(\"onCellKeyDown\" => (Observable{Any} with 0 listeners. Value:\n",
       "nothing, nothing),\"onRowClicked\" => (Observable{Any} with 0 listeners. Value:\n",
       "nothing, nothing),\"onCellDoubleClicked\" => (Observable{Any} with 0 listeners. Value:\n",
       "nothing, nothing),\"requestedrows\" => (Observable{JSON.Writer.JSONText} with 1 listeners. Value:\n",
       "JSON.Writer.JSONText(\"{}\"), nothing),\"onCellClicked\" => (Observable{Any} with 0 listeners. Value:\n",
       "nothing, nothing),\"onCellFocused\" => (Observable{Any} with 0 listeners. Value:\n",
       "nothing, nothing),\"rowparams\" => (Observable{Dict{String,Any}} with 1 listeners. Value:\n",
       "Dict{String,Any}(\"successCallback\" => WebIO.JSString(\"(function (v){return null})\"),\"startRow\" => 1,\"endRow\" => 100), nothing)), Set(String[]), nothing, WebIO.Asset[WebIO.Asset(\"js\", nothing, \"/home/cdaniels/.julia/packages/TableView/CxWLO/src/rowNumberRenderer.js\"), WebIO.Asset(\"js\", nothing, \"/home/cdaniels/.julia/packages/TableView/CxWLO/deps/ag-grid-22.1.0/ag-grid.js\"), WebIO.Asset(\"css\", nothing, \"/home/cdaniels/.julia/packages/TableView/CxWLO/deps/ag-grid-22.1.0/ag-grid.css\"), WebIO.Asset(\"css\", nothing, \"/home/cdaniels/.julia/packages/TableView/CxWLO/deps/ag-grid-22.1.0/ag-grid-light.css\"), WebIO.Asset(\"css\", nothing, \"/home/cdaniels/.julia/packages/TableView/CxWLO/deps/ag-grid-22.1.0/ag-grid-dark.css\")], Dict{Any,Any}(\"requestedrows\" => Any[WebIO.JSString(\"(function (val){return WebIO.getval({\\\"name\\\":\\\"rowparams\\\",\\\"scope\\\":\\\"5828229173737379136\\\",\\\"id\\\":\\\"ob_34\\\",\\\"type\\\":\\\"observable\\\"}).successCallback(val,null)})\")]), WebIO.ConnectionPool(Channel{Any}(sz_max:32,sz_curr:0), Set(WebIO.AbstractConnection[]), Base.GenericCondition{Base.AlwaysLockedST}(Base.InvasiveLinkedList{Task}(Task (runnable) @0x00007f73ecd1fa90, Task (runnable) @0x00007f73ecd1fa90), Base.AlwaysLockedST(1))), WebIO.JSString[WebIO.JSString(\"function () {\\n    var handler = ((function (RowNumberRenderer,agGrid){var gridOptions={\\\"onCellFocused\\\":(function (ev){var x={}; (ev.rowIndex!==undefined) ? (x[\\\"rowIndex\\\"]=(ev.rowIndex+1)) : undefined; (ev.colDef!==undefined) ? (x[\\\"column\\\"]=ev.colDef.headerName) : undefined; return WebIO.setval({\\\"name\\\":\\\"onCellFocused\\\",\\\"scope\\\":\\\"5828229173737379136\\\",\\\"id\\\":\\\"ob_32\\\",\\\"type\\\":\\\"observable\\\"},x)}),\\\"onCellValueChanged\\\":(function (){return }),\\\"rowModelType\\\":\\\"infinite\\\",\\\"onRowClicked\\\":(function (ev){var x={}; (ev.rowIndex!==undefined) ? (x[\\\"rowIndex\\\"]=(ev.rowIndex+1)) : undefined; (ev.colDef!==undefined) ? (x[\\\"column\\\"]=ev.colDef.headerName) : undefined; return WebIO.setval({\\\"name\\\":\\\"onRowClicked\\\",\\\"scope\\\":\\\"5828229173737379136\\\",\\\"id\\\":\\\"ob_31\\\",\\\"type\\\":\\\"observable\\\"},x)}),\\\"maxConcurrentDatasourceRequests\\\":1,\\\"columnDefs\\\":[{\\\"filter\\\":false,\\\"editable\\\":false,\\\"headerTooltip\\\":\\\"\\\",\\\"field\\\":\\\"__row__\\\",\\\"headerName\\\":\\\"Row\\\",\\\"sortable\\\":false,\\\"type\\\":\\\"numericColumn\\\",\\\"cellRenderer\\\":\\\"rowNumberRenderer\\\",\\\"resizable\\\":true},{\\\"filter\\\":false,\\\"editable\\\":false,\\\"headerTooltip\\\":\\\"Date\\\",\\\"field\\\":\\\"date\\\",\\\"headerName\\\":\\\"date\\\",\\\"sortable\\\":false,\\\"type\\\":null,\\\"resizable\\\":true},{\\\"filter\\\":false,\\\"editable\\\":false,\\\"headerTooltip\\\":\\\"String\\\",\\\"field\\\":\\\"state\\\",\\\"headerName\\\":\\\"state\\\",\\\"sortable\\\":false,\\\"type\\\":null,\\\"resizable\\\":true},{\\\"filter\\\":false,\\\"editable\\\":false,\\\"headerTooltip\\\":\\\"Int64\\\",\\\"field\\\":\\\"casesIncrease\\\",\\\"headerName\\\":\\\"casesIncrease\\\",\\\"sortable\\\":false,\\\"type\\\":\\\"numericColumn\\\",\\\"resizable\\\":true},{\\\"filter\\\":false,\\\"editable\\\":false,\\\"headerTooltip\\\":\\\"Int64\\\",\\\"field\\\":\\\"deathsIncrease\\\",\\\"headerName\\\":\\\"deathsIncrease\\\",\\\"sortable\\\":false,\\\"type\\\":\\\"numericColumn\\\",\\\"resizable\\\":true}],\\\"cacheBlockSize\\\":1000,\\\"datasource\\\":{\\\"rowCount\\\":null,\\\"getRows\\\":(function (rowParams){return WebIO.setval({\\\"name\\\":\\\"rowparams\\\",\\\"scope\\\":\\\"5828229173737379136\\\",\\\"id\\\":\\\"ob_34\\\",\\\"type\\\":\\\"observable\\\"},rowParams)})},\\\"multiSortKey\\\":\\\"ctrl\\\",\\\"maxBlocksInCache\\\":100,\\\"onCellDoubleClicked\\\":(function (ev){var x={}; (ev.rowIndex!==undefined) ? (x[\\\"rowIndex\\\"]=(ev.rowIndex+1)) : undefined; (ev.colDef!==undefined) ? (x[\\\"column\\\"]=ev.colDef.headerName) : undefined; return WebIO.setval({\\\"name\\\":\\\"onCellDoubleClicked\\\",\\\"scope\\\":\\\"5828229173737379136\\\",\\\"id\\\":\\\"ob_30\\\",\\\"type\\\":\\\"observable\\\"},x)}),\\\"onCellKeyDown\\\":(function (ev){var x={}; (ev.rowIndex!==undefined) ? (x[\\\"rowIndex\\\"]=(ev.rowIndex+1)) : undefined; (ev.colDef!==undefined) ? (x[\\\"column\\\"]=ev.colDef.headerName) : undefined; return WebIO.setval({\\\"name\\\":\\\"onCellKeyDown\\\",\\\"scope\\\":\\\"5828229173737379136\\\",\\\"id\\\":\\\"ob_33\\\",\\\"type\\\":\\\"observable\\\"},x)}),\\\"onCellClicked\\\":(function (ev){var x={}; (ev.rowIndex!==undefined) ? (x[\\\"rowIndex\\\"]=(ev.rowIndex+1)) : undefined; (ev.colDef!==undefined) ? (x[\\\"column\\\"]=ev.colDef.headerName) : undefined; return WebIO.setval({\\\"name\\\":\\\"onCellClicked\\\",\\\"scope\\\":\\\"5828229173737379136\\\",\\\"id\\\":\\\"ob_29\\\",\\\"type\\\":\\\"observable\\\"},x)})}; var el=document.getElementById(\\\"grid-978900b2\\\"); gridOptions.components={\\\"rowNumberRenderer\\\":RowNumberRenderer}; this.table=new agGrid.Grid(el,gridOptions); gridOptions.columnApi.autoSizeColumn(\\\"__row__\\\"); return gridOptions.columnApi.autoSizeColumns([\\\"date\\\",\\\"state\\\",\\\"casesIncrease\\\",\\\"deathsIncrease\\\"])}));\\n    (WebIO.importBlock({\\\"data\\\":[{\\\"name\\\":null,\\\"type\\\":\\\"js\\\",\\\"url\\\":\\\"/assetserver/ed80b7d691fade66e145983a11fb79e515dab825-rowNumberRenderer.js\\\"},{\\\"name\\\":null,\\\"type\\\":\\\"js\\\",\\\"url\\\":\\\"/assetserver/b9b20eb0f99819a38f7ecc433feed4bbe393c528-ag-grid.js\\\"},{\\\"name\\\":null,\\\"type\\\":\\\"css\\\",\\\"url\\\":\\\"/assetserver/5b9005a8a21f5ef6a55c77dc41516952608d0d1d-ag-grid.css\\\"},{\\\"name\\\":null,\\\"type\\\":\\\"css\\\",\\\"url\\\":\\\"/assetserver/fb7e660811b5af595641e24a03483dce78e1076e-ag-grid-light.css\\\"},{\\\"name\\\":null,\\\"type\\\":\\\"css\\\",\\\"url\\\":\\\"/assetserver/6ec54d9f8a742a6e19395fb487212fdce57da7bc-ag-grid-dark.css\\\"}],\\\"type\\\":\\\"async_block\\\"})).then((imports) => handler.apply(this, imports));\\n}\\n\")])"
      ]
     },
     "execution_count": 9,
     "metadata": {
      "application/vnd.webio.node+json": {
       "kernelId": "f76cff0d-71eb-4fcb-8f14-2113642ca679"
      }
     },
     "output_type": "execute_result"
    }
   ],
   "source": [
    "@tbl sort(select_region(dfc,\"Illinois\",\"Cook\",[:date,:state,:casesIncrease,:deathsIncrease]),rev=true)"
   ]
  },
  {
   "cell_type": "code",
   "execution_count": 10,
   "metadata": {
    "scrolled": true
   },
   "outputs": [
    {
     "data": {
      "application/vnd.webio.node+json": {
       "children": [
        {
         "children": [
          {
           "children": [
            ""
           ],
           "instanceArgs": {
            "namespace": "html",
            "tag": "div"
           },
           "nodeType": "DOM",
           "props": {
            "style": {
             "background-color": "#F5F7F7",
             "color": "#1c1f20",
             "font-family": "-apple-system, BlinkMacSystemFont, \"Segoe UI\", Roboto, Oxygen-Sans, Ubuntu, Cantarell, \"Helvetica Neue\", sans-serif",
             "height": "0",
             "padding": "0"
            }
           },
           "type": "node"
          },
          {
           "children": [],
           "instanceArgs": {
            "namespace": "html",
            "tag": "div"
           },
           "nodeType": "DOM",
           "props": {
            "className": "ag-theme-balham",
            "id": "grid-9981ebfe",
            "style": {
             "height": "500px",
             "width": "100%"
            }
           },
           "type": "node"
          }
         ],
         "instanceArgs": {
          "namespace": "html",
          "tag": "div"
         },
         "nodeType": "DOM",
         "props": {},
         "type": "node"
        }
       ],
       "instanceArgs": {
        "handlers": {
         "requestedrows": [
          "(function (val){return WebIO.getval({\"name\":\"rowparams\",\"scope\":\"15603554551217514133\",\"id\":\"ob_41\",\"type\":\"observable\"}).successCallback(val,null)})"
         ]
        },
        "id": "15603554551217514133",
        "imports": {
         "data": [
          {
           "name": null,
           "type": "js",
           "url": "/assetserver/ed80b7d691fade66e145983a11fb79e515dab825-rowNumberRenderer.js"
          },
          {
           "name": null,
           "type": "js",
           "url": "/assetserver/b9b20eb0f99819a38f7ecc433feed4bbe393c528-ag-grid.js"
          },
          {
           "name": null,
           "type": "css",
           "url": "/assetserver/5b9005a8a21f5ef6a55c77dc41516952608d0d1d-ag-grid.css"
          },
          {
           "name": null,
           "type": "css",
           "url": "/assetserver/fb7e660811b5af595641e24a03483dce78e1076e-ag-grid-light.css"
          },
          {
           "name": null,
           "type": "css",
           "url": "/assetserver/6ec54d9f8a742a6e19395fb487212fdce57da7bc-ag-grid-dark.css"
          }
         ],
         "type": "async_block"
        },
        "mount_callbacks": [
         "function () {\n    var handler = ((function (RowNumberRenderer,agGrid){var gridOptions={\"onCellFocused\":(function (ev){var x={}; (ev.rowIndex!==undefined) ? (x[\"rowIndex\"]=(ev.rowIndex+1)) : undefined; (ev.colDef!==undefined) ? (x[\"column\"]=ev.colDef.headerName) : undefined; return WebIO.setval({\"name\":\"onCellFocused\",\"scope\":\"15603554551217514133\",\"id\":\"ob_39\",\"type\":\"observable\"},x)}),\"onCellValueChanged\":(function (){return }),\"rowModelType\":\"infinite\",\"onRowClicked\":(function (ev){var x={}; (ev.rowIndex!==undefined) ? (x[\"rowIndex\"]=(ev.rowIndex+1)) : undefined; (ev.colDef!==undefined) ? (x[\"column\"]=ev.colDef.headerName) : undefined; return WebIO.setval({\"name\":\"onRowClicked\",\"scope\":\"15603554551217514133\",\"id\":\"ob_38\",\"type\":\"observable\"},x)}),\"maxConcurrentDatasourceRequests\":1,\"columnDefs\":[{\"filter\":false,\"editable\":false,\"headerTooltip\":\"\",\"field\":\"__row__\",\"headerName\":\"Row\",\"sortable\":false,\"type\":\"numericColumn\",\"cellRenderer\":\"rowNumberRenderer\",\"resizable\":true},{\"filter\":false,\"editable\":false,\"headerTooltip\":\"Date\",\"field\":\"date\",\"headerName\":\"date\",\"sortable\":false,\"type\":null,\"resizable\":true},{\"filter\":false,\"editable\":false,\"headerTooltip\":\"Int64\",\"field\":\"casesIncrease\",\"headerName\":\"casesIncrease\",\"sortable\":false,\"type\":\"numericColumn\",\"resizable\":true},{\"filter\":false,\"editable\":false,\"headerTooltip\":\"Float64\",\"field\":\"casesIncreaseMA\",\"headerName\":\"casesIncreaseMA\",\"sortable\":false,\"type\":\"numericColumn\",\"resizable\":true}],\"cacheBlockSize\":1000,\"datasource\":{\"rowCount\":null,\"getRows\":(function (rowParams){return WebIO.setval({\"name\":\"rowparams\",\"scope\":\"15603554551217514133\",\"id\":\"ob_41\",\"type\":\"observable\"},rowParams)})},\"multiSortKey\":\"ctrl\",\"maxBlocksInCache\":100,\"onCellDoubleClicked\":(function (ev){var x={}; (ev.rowIndex!==undefined) ? (x[\"rowIndex\"]=(ev.rowIndex+1)) : undefined; (ev.colDef!==undefined) ? (x[\"column\"]=ev.colDef.headerName) : undefined; return WebIO.setval({\"name\":\"onCellDoubleClicked\",\"scope\":\"15603554551217514133\",\"id\":\"ob_37\",\"type\":\"observable\"},x)}),\"onCellKeyDown\":(function (ev){var x={}; (ev.rowIndex!==undefined) ? (x[\"rowIndex\"]=(ev.rowIndex+1)) : undefined; (ev.colDef!==undefined) ? (x[\"column\"]=ev.colDef.headerName) : undefined; return WebIO.setval({\"name\":\"onCellKeyDown\",\"scope\":\"15603554551217514133\",\"id\":\"ob_40\",\"type\":\"observable\"},x)}),\"onCellClicked\":(function (ev){var x={}; (ev.rowIndex!==undefined) ? (x[\"rowIndex\"]=(ev.rowIndex+1)) : undefined; (ev.colDef!==undefined) ? (x[\"column\"]=ev.colDef.headerName) : undefined; return WebIO.setval({\"name\":\"onCellClicked\",\"scope\":\"15603554551217514133\",\"id\":\"ob_36\",\"type\":\"observable\"},x)})}; var el=document.getElementById(\"grid-9981ebfe\"); gridOptions.components={\"rowNumberRenderer\":RowNumberRenderer}; this.table=new agGrid.Grid(el,gridOptions); gridOptions.columnApi.autoSizeColumn(\"__row__\"); return gridOptions.columnApi.autoSizeColumns([\"date\",\"casesIncrease\",\"casesIncreaseMA\"])}));\n    (WebIO.importBlock({\"data\":[{\"name\":null,\"type\":\"js\",\"url\":\"/assetserver/ed80b7d691fade66e145983a11fb79e515dab825-rowNumberRenderer.js\"},{\"name\":null,\"type\":\"js\",\"url\":\"/assetserver/b9b20eb0f99819a38f7ecc433feed4bbe393c528-ag-grid.js\"},{\"name\":null,\"type\":\"css\",\"url\":\"/assetserver/5b9005a8a21f5ef6a55c77dc41516952608d0d1d-ag-grid.css\"},{\"name\":null,\"type\":\"css\",\"url\":\"/assetserver/fb7e660811b5af595641e24a03483dce78e1076e-ag-grid-light.css\"},{\"name\":null,\"type\":\"css\",\"url\":\"/assetserver/6ec54d9f8a742a6e19395fb487212fdce57da7bc-ag-grid-dark.css\"}],\"type\":\"async_block\"})).then((imports) => handler.apply(this, imports));\n}\n"
        ],
        "observables": {
         "onCellClicked": {
          "id": "ob_36",
          "sync": false,
          "value": null
         },
         "onCellDoubleClicked": {
          "id": "ob_37",
          "sync": false,
          "value": null
         },
         "onCellFocused": {
          "id": "ob_39",
          "sync": false,
          "value": null
         },
         "onCellKeyDown": {
          "id": "ob_40",
          "sync": false,
          "value": null
         },
         "onRowClicked": {
          "id": "ob_38",
          "sync": false,
          "value": null
         },
         "requestedrows": {
          "id": "ob_42",
          "sync": false,
          "value": {}
         },
         "rowparams": {
          "id": "ob_41",
          "sync": true,
          "value": {
           "endRow": 100,
           "startRow": 1,
           "successCallback": "(function (v){return null})"
          }
         }
        },
        "systemjs_options": null
       },
       "nodeType": "Scope",
       "props": {},
       "type": "node"
      },
      "text/html": [
       "<div\n",
       "    class=\"webio-mountpoint\"\n",
       "    data-webio-mountpoint=\"18288703987931224895\"\n",
       ">\n",
       "    <script>\n",
       "    if (window.require && require.defined && require.defined(\"nbextensions/webio-jupyter-notebook\")) {\n",
       "        console.log(\"Jupyter WebIO extension detected, not mounting.\");\n",
       "    } else if (window.WebIO) {\n",
       "        WebIO.mount(\n",
       "            document.querySelector('[data-webio-mountpoint=\"18288703987931224895\"]'),\n",
       "            {\"props\":{},\"nodeType\":\"Scope\",\"type\":\"node\",\"instanceArgs\":{\"imports\":{\"data\":[{\"name\":null,\"type\":\"js\",\"url\":\"\\/assetserver\\/ed80b7d691fade66e145983a11fb79e515dab825-rowNumberRenderer.js\"},{\"name\":null,\"type\":\"js\",\"url\":\"\\/assetserver\\/b9b20eb0f99819a38f7ecc433feed4bbe393c528-ag-grid.js\"},{\"name\":null,\"type\":\"css\",\"url\":\"\\/assetserver\\/5b9005a8a21f5ef6a55c77dc41516952608d0d1d-ag-grid.css\"},{\"name\":null,\"type\":\"css\",\"url\":\"\\/assetserver\\/fb7e660811b5af595641e24a03483dce78e1076e-ag-grid-light.css\"},{\"name\":null,\"type\":\"css\",\"url\":\"\\/assetserver\\/6ec54d9f8a742a6e19395fb487212fdce57da7bc-ag-grid-dark.css\"}],\"type\":\"async_block\"},\"id\":\"15603554551217514133\",\"handlers\":{\"requestedrows\":[\"(function (val){return WebIO.getval({\\\"name\\\":\\\"rowparams\\\",\\\"scope\\\":\\\"15603554551217514133\\\",\\\"id\\\":\\\"ob_41\\\",\\\"type\\\":\\\"observable\\\"}).successCallback(val,null)})\"]},\"systemjs_options\":null,\"mount_callbacks\":[\"function () {\\n    var handler = ((function (RowNumberRenderer,agGrid){var gridOptions={\\\"onCellFocused\\\":(function (ev){var x={}; (ev.rowIndex!==undefined) ? (x[\\\"rowIndex\\\"]=(ev.rowIndex+1)) : undefined; (ev.colDef!==undefined) ? (x[\\\"column\\\"]=ev.colDef.headerName) : undefined; return WebIO.setval({\\\"name\\\":\\\"onCellFocused\\\",\\\"scope\\\":\\\"15603554551217514133\\\",\\\"id\\\":\\\"ob_39\\\",\\\"type\\\":\\\"observable\\\"},x)}),\\\"onCellValueChanged\\\":(function (){return }),\\\"rowModelType\\\":\\\"infinite\\\",\\\"onRowClicked\\\":(function (ev){var x={}; (ev.rowIndex!==undefined) ? (x[\\\"rowIndex\\\"]=(ev.rowIndex+1)) : undefined; (ev.colDef!==undefined) ? (x[\\\"column\\\"]=ev.colDef.headerName) : undefined; return WebIO.setval({\\\"name\\\":\\\"onRowClicked\\\",\\\"scope\\\":\\\"15603554551217514133\\\",\\\"id\\\":\\\"ob_38\\\",\\\"type\\\":\\\"observable\\\"},x)}),\\\"maxConcurrentDatasourceRequests\\\":1,\\\"columnDefs\\\":[{\\\"filter\\\":false,\\\"editable\\\":false,\\\"headerTooltip\\\":\\\"\\\",\\\"field\\\":\\\"__row__\\\",\\\"headerName\\\":\\\"Row\\\",\\\"sortable\\\":false,\\\"type\\\":\\\"numericColumn\\\",\\\"cellRenderer\\\":\\\"rowNumberRenderer\\\",\\\"resizable\\\":true},{\\\"filter\\\":false,\\\"editable\\\":false,\\\"headerTooltip\\\":\\\"Date\\\",\\\"field\\\":\\\"date\\\",\\\"headerName\\\":\\\"date\\\",\\\"sortable\\\":false,\\\"type\\\":null,\\\"resizable\\\":true},{\\\"filter\\\":false,\\\"editable\\\":false,\\\"headerTooltip\\\":\\\"Int64\\\",\\\"field\\\":\\\"casesIncrease\\\",\\\"headerName\\\":\\\"casesIncrease\\\",\\\"sortable\\\":false,\\\"type\\\":\\\"numericColumn\\\",\\\"resizable\\\":true},{\\\"filter\\\":false,\\\"editable\\\":false,\\\"headerTooltip\\\":\\\"Float64\\\",\\\"field\\\":\\\"casesIncreaseMA\\\",\\\"headerName\\\":\\\"casesIncreaseMA\\\",\\\"sortable\\\":false,\\\"type\\\":\\\"numericColumn\\\",\\\"resizable\\\":true}],\\\"cacheBlockSize\\\":1000,\\\"datasource\\\":{\\\"rowCount\\\":null,\\\"getRows\\\":(function (rowParams){return WebIO.setval({\\\"name\\\":\\\"rowparams\\\",\\\"scope\\\":\\\"15603554551217514133\\\",\\\"id\\\":\\\"ob_41\\\",\\\"type\\\":\\\"observable\\\"},rowParams)})},\\\"multiSortKey\\\":\\\"ctrl\\\",\\\"maxBlocksInCache\\\":100,\\\"onCellDoubleClicked\\\":(function (ev){var x={}; (ev.rowIndex!==undefined) ? (x[\\\"rowIndex\\\"]=(ev.rowIndex+1)) : undefined; (ev.colDef!==undefined) ? (x[\\\"column\\\"]=ev.colDef.headerName) : undefined; return WebIO.setval({\\\"name\\\":\\\"onCellDoubleClicked\\\",\\\"scope\\\":\\\"15603554551217514133\\\",\\\"id\\\":\\\"ob_37\\\",\\\"type\\\":\\\"observable\\\"},x)}),\\\"onCellKeyDown\\\":(function (ev){var x={}; (ev.rowIndex!==undefined) ? (x[\\\"rowIndex\\\"]=(ev.rowIndex+1)) : undefined; (ev.colDef!==undefined) ? (x[\\\"column\\\"]=ev.colDef.headerName) : undefined; return WebIO.setval({\\\"name\\\":\\\"onCellKeyDown\\\",\\\"scope\\\":\\\"15603554551217514133\\\",\\\"id\\\":\\\"ob_40\\\",\\\"type\\\":\\\"observable\\\"},x)}),\\\"onCellClicked\\\":(function (ev){var x={}; (ev.rowIndex!==undefined) ? (x[\\\"rowIndex\\\"]=(ev.rowIndex+1)) : undefined; (ev.colDef!==undefined) ? (x[\\\"column\\\"]=ev.colDef.headerName) : undefined; return WebIO.setval({\\\"name\\\":\\\"onCellClicked\\\",\\\"scope\\\":\\\"15603554551217514133\\\",\\\"id\\\":\\\"ob_36\\\",\\\"type\\\":\\\"observable\\\"},x)})}; var el=document.getElementById(\\\"grid-9981ebfe\\\"); gridOptions.components={\\\"rowNumberRenderer\\\":RowNumberRenderer}; this.table=new agGrid.Grid(el,gridOptions); gridOptions.columnApi.autoSizeColumn(\\\"__row__\\\"); return gridOptions.columnApi.autoSizeColumns([\\\"date\\\",\\\"casesIncrease\\\",\\\"casesIncreaseMA\\\"])}));\\n    (WebIO.importBlock({\\\"data\\\":[{\\\"name\\\":null,\\\"type\\\":\\\"js\\\",\\\"url\\\":\\\"\\/assetserver\\/ed80b7d691fade66e145983a11fb79e515dab825-rowNumberRenderer.js\\\"},{\\\"name\\\":null,\\\"type\\\":\\\"js\\\",\\\"url\\\":\\\"\\/assetserver\\/b9b20eb0f99819a38f7ecc433feed4bbe393c528-ag-grid.js\\\"},{\\\"name\\\":null,\\\"type\\\":\\\"css\\\",\\\"url\\\":\\\"\\/assetserver\\/5b9005a8a21f5ef6a55c77dc41516952608d0d1d-ag-grid.css\\\"},{\\\"name\\\":null,\\\"type\\\":\\\"css\\\",\\\"url\\\":\\\"\\/assetserver\\/fb7e660811b5af595641e24a03483dce78e1076e-ag-grid-light.css\\\"},{\\\"name\\\":null,\\\"type\\\":\\\"css\\\",\\\"url\\\":\\\"\\/assetserver\\/6ec54d9f8a742a6e19395fb487212fdce57da7bc-ag-grid-dark.css\\\"}],\\\"type\\\":\\\"async_block\\\"})).then((imports) => handler.apply(this, imports));\\n}\\n\"],\"observables\":{\"onCellKeyDown\":{\"sync\":false,\"id\":\"ob_40\",\"value\":null},\"onRowClicked\":{\"sync\":false,\"id\":\"ob_38\",\"value\":null},\"onCellDoubleClicked\":{\"sync\":false,\"id\":\"ob_37\",\"value\":null},\"requestedrows\":{\"sync\":false,\"id\":\"ob_42\",\"value\":{}},\"onCellClicked\":{\"sync\":false,\"id\":\"ob_36\",\"value\":null},\"onCellFocused\":{\"sync\":false,\"id\":\"ob_39\",\"value\":null},\"rowparams\":{\"sync\":true,\"id\":\"ob_41\",\"value\":{\"successCallback\":\"(function (v){return null})\",\"startRow\":1,\"endRow\":100}}}},\"children\":[{\"props\":{},\"nodeType\":\"DOM\",\"type\":\"node\",\"instanceArgs\":{\"namespace\":\"html\",\"tag\":\"div\"},\"children\":[{\"props\":{\"style\":{\"height\":\"0\",\"padding\":\"0\",\"background-color\":\"#F5F7F7\",\"color\":\"#1c1f20\",\"font-family\":\"-apple-system, BlinkMacSystemFont, \\\"Segoe UI\\\", Roboto, Oxygen-Sans, Ubuntu, Cantarell, \\\"Helvetica Neue\\\", sans-serif\"}},\"nodeType\":\"DOM\",\"type\":\"node\",\"instanceArgs\":{\"namespace\":\"html\",\"tag\":\"div\"},\"children\":[\"\"]},{\"props\":{\"id\":\"grid-9981ebfe\",\"className\":\"ag-theme-balham\",\"style\":{\"height\":\"500px\",\"width\":\"100%\"}},\"nodeType\":\"DOM\",\"type\":\"node\",\"instanceArgs\":{\"namespace\":\"html\",\"tag\":\"div\"},\"children\":[]}]}]},\n",
       "            window,\n",
       "        );\n",
       "    } else {\n",
       "        document\n",
       "            .querySelector('[data-webio-mountpoint=\"18288703987931224895\"]')\n",
       "            .innerHTML = (\n",
       "                '<div style=\"padding: 1em; background-color: #f8d6da; border: 1px solid #f5c6cb\">' +\n",
       "                '<p><strong>WebIO not detected.</strong></p>' +\n",
       "                '<p>Please read ' +\n",
       "                '<a href=\"https://juliagizmos.github.io/WebIO.jl/latest/troubleshooting/not-detected/\" target=\"_blank\">the troubleshooting guide</a> ' +\n",
       "                'for more information on how to resolve this issue.</p>' +\n",
       "                '<p><a href=\"https://juliagizmos.github.io/WebIO.jl/latest/troubleshooting/not-detected/\" target=\"_blank\">https://juliagizmos.github.io/WebIO.jl/latest/troubleshooting/not-detected/</a></p>' +\n",
       "                '</div>'\n",
       "            );\n",
       "    }\n",
       "    </script>\n",
       "</div>\n"
      ],
      "text/plain": [
       "WebIO.Scope(WebIO.Node{WebIO.DOM}(WebIO.DOM(:html, :div), Any[WebIO.Node{WebIO.DOM}(WebIO.DOM(:html, :div), Any[\"\"], Dict{Symbol,Any}(:style => Dict(\"height\" => \"0\",\"padding\" => \"0\",\"background-color\" => \"#F5F7F7\",\"color\" => \"#1c1f20\",\"font-family\" => \"-apple-system, BlinkMacSystemFont, \\\"Segoe UI\\\", Roboto, Oxygen-Sans, Ubuntu, Cantarell, \\\"Helvetica Neue\\\", sans-serif\"))), WebIO.Node{WebIO.DOM}(WebIO.DOM(:html, :div), Any[], Dict{Symbol,Any}(:id => \"grid-9981ebfe\",:className => \"ag-theme-balham\",:style => Dict(\"height\" => \"500px\",\"width\" => \"100%\")))], Dict{Symbol,Any}()), Dict{String,Tuple{Observables.AbstractObservable,Union{Nothing, Bool}}}(\"onCellKeyDown\" => (Observable{Any} with 0 listeners. Value:\n",
       "nothing, nothing),\"onRowClicked\" => (Observable{Any} with 0 listeners. Value:\n",
       "nothing, nothing),\"onCellDoubleClicked\" => (Observable{Any} with 0 listeners. Value:\n",
       "nothing, nothing),\"requestedrows\" => (Observable{JSON.Writer.JSONText} with 1 listeners. Value:\n",
       "JSON.Writer.JSONText(\"{}\"), nothing),\"onCellClicked\" => (Observable{Any} with 0 listeners. Value:\n",
       "nothing, nothing),\"onCellFocused\" => (Observable{Any} with 0 listeners. Value:\n",
       "nothing, nothing),\"rowparams\" => (Observable{Dict{String,Any}} with 1 listeners. Value:\n",
       "Dict{String,Any}(\"successCallback\" => WebIO.JSString(\"(function (v){return null})\"),\"startRow\" => 1,\"endRow\" => 100), nothing)), Set(String[]), nothing, WebIO.Asset[WebIO.Asset(\"js\", nothing, \"/home/cdaniels/.julia/packages/TableView/CxWLO/src/rowNumberRenderer.js\"), WebIO.Asset(\"js\", nothing, \"/home/cdaniels/.julia/packages/TableView/CxWLO/deps/ag-grid-22.1.0/ag-grid.js\"), WebIO.Asset(\"css\", nothing, \"/home/cdaniels/.julia/packages/TableView/CxWLO/deps/ag-grid-22.1.0/ag-grid.css\"), WebIO.Asset(\"css\", nothing, \"/home/cdaniels/.julia/packages/TableView/CxWLO/deps/ag-grid-22.1.0/ag-grid-light.css\"), WebIO.Asset(\"css\", nothing, \"/home/cdaniels/.julia/packages/TableView/CxWLO/deps/ag-grid-22.1.0/ag-grid-dark.css\")], Dict{Any,Any}(\"requestedrows\" => Any[WebIO.JSString(\"(function (val){return WebIO.getval({\\\"name\\\":\\\"rowparams\\\",\\\"scope\\\":\\\"15603554551217514133\\\",\\\"id\\\":\\\"ob_41\\\",\\\"type\\\":\\\"observable\\\"}).successCallback(val,null)})\")]), WebIO.ConnectionPool(Channel{Any}(sz_max:32,sz_curr:0), Set(WebIO.AbstractConnection[]), Base.GenericCondition{Base.AlwaysLockedST}(Base.InvasiveLinkedList{Task}(Task (runnable) @0x00007f73ecd1d600, Task (runnable) @0x00007f73ecd1d600), Base.AlwaysLockedST(1))), WebIO.JSString[WebIO.JSString(\"function () {\\n    var handler = ((function (RowNumberRenderer,agGrid){var gridOptions={\\\"onCellFocused\\\":(function (ev){var x={}; (ev.rowIndex!==undefined) ? (x[\\\"rowIndex\\\"]=(ev.rowIndex+1)) : undefined; (ev.colDef!==undefined) ? (x[\\\"column\\\"]=ev.colDef.headerName) : undefined; return WebIO.setval({\\\"name\\\":\\\"onCellFocused\\\",\\\"scope\\\":\\\"15603554551217514133\\\",\\\"id\\\":\\\"ob_39\\\",\\\"type\\\":\\\"observable\\\"},x)}),\\\"onCellValueChanged\\\":(function (){return }),\\\"rowModelType\\\":\\\"infinite\\\",\\\"onRowClicked\\\":(function (ev){var x={}; (ev.rowIndex!==undefined) ? (x[\\\"rowIndex\\\"]=(ev.rowIndex+1)) : undefined; (ev.colDef!==undefined) ? (x[\\\"column\\\"]=ev.colDef.headerName) : undefined; return WebIO.setval({\\\"name\\\":\\\"onRowClicked\\\",\\\"scope\\\":\\\"15603554551217514133\\\",\\\"id\\\":\\\"ob_38\\\",\\\"type\\\":\\\"observable\\\"},x)}),\\\"maxConcurrentDatasourceRequests\\\":1,\\\"columnDefs\\\":[{\\\"filter\\\":false,\\\"editable\\\":false,\\\"headerTooltip\\\":\\\"\\\",\\\"field\\\":\\\"__row__\\\",\\\"headerName\\\":\\\"Row\\\",\\\"sortable\\\":false,\\\"type\\\":\\\"numericColumn\\\",\\\"cellRenderer\\\":\\\"rowNumberRenderer\\\",\\\"resizable\\\":true},{\\\"filter\\\":false,\\\"editable\\\":false,\\\"headerTooltip\\\":\\\"Date\\\",\\\"field\\\":\\\"date\\\",\\\"headerName\\\":\\\"date\\\",\\\"sortable\\\":false,\\\"type\\\":null,\\\"resizable\\\":true},{\\\"filter\\\":false,\\\"editable\\\":false,\\\"headerTooltip\\\":\\\"Int64\\\",\\\"field\\\":\\\"casesIncrease\\\",\\\"headerName\\\":\\\"casesIncrease\\\",\\\"sortable\\\":false,\\\"type\\\":\\\"numericColumn\\\",\\\"resizable\\\":true},{\\\"filter\\\":false,\\\"editable\\\":false,\\\"headerTooltip\\\":\\\"Float64\\\",\\\"field\\\":\\\"casesIncreaseMA\\\",\\\"headerName\\\":\\\"casesIncreaseMA\\\",\\\"sortable\\\":false,\\\"type\\\":\\\"numericColumn\\\",\\\"resizable\\\":true}],\\\"cacheBlockSize\\\":1000,\\\"datasource\\\":{\\\"rowCount\\\":null,\\\"getRows\\\":(function (rowParams){return WebIO.setval({\\\"name\\\":\\\"rowparams\\\",\\\"scope\\\":\\\"15603554551217514133\\\",\\\"id\\\":\\\"ob_41\\\",\\\"type\\\":\\\"observable\\\"},rowParams)})},\\\"multiSortKey\\\":\\\"ctrl\\\",\\\"maxBlocksInCache\\\":100,\\\"onCellDoubleClicked\\\":(function (ev){var x={}; (ev.rowIndex!==undefined) ? (x[\\\"rowIndex\\\"]=(ev.rowIndex+1)) : undefined; (ev.colDef!==undefined) ? (x[\\\"column\\\"]=ev.colDef.headerName) : undefined; return WebIO.setval({\\\"name\\\":\\\"onCellDoubleClicked\\\",\\\"scope\\\":\\\"15603554551217514133\\\",\\\"id\\\":\\\"ob_37\\\",\\\"type\\\":\\\"observable\\\"},x)}),\\\"onCellKeyDown\\\":(function (ev){var x={}; (ev.rowIndex!==undefined) ? (x[\\\"rowIndex\\\"]=(ev.rowIndex+1)) : undefined; (ev.colDef!==undefined) ? (x[\\\"column\\\"]=ev.colDef.headerName) : undefined; return WebIO.setval({\\\"name\\\":\\\"onCellKeyDown\\\",\\\"scope\\\":\\\"15603554551217514133\\\",\\\"id\\\":\\\"ob_40\\\",\\\"type\\\":\\\"observable\\\"},x)}),\\\"onCellClicked\\\":(function (ev){var x={}; (ev.rowIndex!==undefined) ? (x[\\\"rowIndex\\\"]=(ev.rowIndex+1)) : undefined; (ev.colDef!==undefined) ? (x[\\\"column\\\"]=ev.colDef.headerName) : undefined; return WebIO.setval({\\\"name\\\":\\\"onCellClicked\\\",\\\"scope\\\":\\\"15603554551217514133\\\",\\\"id\\\":\\\"ob_36\\\",\\\"type\\\":\\\"observable\\\"},x)})}; var el=document.getElementById(\\\"grid-9981ebfe\\\"); gridOptions.components={\\\"rowNumberRenderer\\\":RowNumberRenderer}; this.table=new agGrid.Grid(el,gridOptions); gridOptions.columnApi.autoSizeColumn(\\\"__row__\\\"); return gridOptions.columnApi.autoSizeColumns([\\\"date\\\",\\\"casesIncrease\\\",\\\"casesIncreaseMA\\\"])}));\\n    (WebIO.importBlock({\\\"data\\\":[{\\\"name\\\":null,\\\"type\\\":\\\"js\\\",\\\"url\\\":\\\"/assetserver/ed80b7d691fade66e145983a11fb79e515dab825-rowNumberRenderer.js\\\"},{\\\"name\\\":null,\\\"type\\\":\\\"js\\\",\\\"url\\\":\\\"/assetserver/b9b20eb0f99819a38f7ecc433feed4bbe393c528-ag-grid.js\\\"},{\\\"name\\\":null,\\\"type\\\":\\\"css\\\",\\\"url\\\":\\\"/assetserver/5b9005a8a21f5ef6a55c77dc41516952608d0d1d-ag-grid.css\\\"},{\\\"name\\\":null,\\\"type\\\":\\\"css\\\",\\\"url\\\":\\\"/assetserver/fb7e660811b5af595641e24a03483dce78e1076e-ag-grid-light.css\\\"},{\\\"name\\\":null,\\\"type\\\":\\\"css\\\",\\\"url\\\":\\\"/assetserver/6ec54d9f8a742a6e19395fb487212fdce57da7bc-ag-grid-dark.css\\\"}],\\\"type\\\":\\\"async_block\\\"})).then((imports) => handler.apply(this, imports));\\n}\\n\")])"
      ]
     },
     "execution_count": 10,
     "metadata": {
      "application/vnd.webio.node+json": {
       "kernelId": "f76cff0d-71eb-4fcb-8f14-2113642ca679"
      }
     },
     "output_type": "execute_result"
    }
   ],
   "source": [
    "@tbl sort(select_region(dfc,\"Illinois\",\"Cook\",[:date,:casesIncrease,:casesIncreaseMA]),rev=true)"
   ]
  },
  {
   "cell_type": "code",
   "execution_count": 11,
   "metadata": {},
   "outputs": [
    {
     "data": {
      "application/vnd.webio.node+json": {
       "children": [
        {
         "children": [
          {
           "children": [
            ""
           ],
           "instanceArgs": {
            "namespace": "html",
            "tag": "div"
           },
           "nodeType": "DOM",
           "props": {
            "style": {
             "background-color": "#F5F7F7",
             "color": "#1c1f20",
             "font-family": "-apple-system, BlinkMacSystemFont, \"Segoe UI\", Roboto, Oxygen-Sans, Ubuntu, Cantarell, \"Helvetica Neue\", sans-serif",
             "height": "0",
             "padding": "0"
            }
           },
           "type": "node"
          },
          {
           "children": [],
           "instanceArgs": {
            "namespace": "html",
            "tag": "div"
           },
           "nodeType": "DOM",
           "props": {
            "className": "ag-theme-balham",
            "id": "grid-9b6b8042",
            "style": {
             "height": "500px",
             "width": "100%"
            }
           },
           "type": "node"
          }
         ],
         "instanceArgs": {
          "namespace": "html",
          "tag": "div"
         },
         "nodeType": "DOM",
         "props": {},
         "type": "node"
        }
       ],
       "instanceArgs": {
        "handlers": {
         "requestedrows": [
          "(function (val){return WebIO.getval({\"name\":\"rowparams\",\"scope\":\"7294187094112944304\",\"id\":\"ob_48\",\"type\":\"observable\"}).successCallback(val,null)})"
         ]
        },
        "id": "7294187094112944304",
        "imports": {
         "data": [
          {
           "name": null,
           "type": "js",
           "url": "/assetserver/ed80b7d691fade66e145983a11fb79e515dab825-rowNumberRenderer.js"
          },
          {
           "name": null,
           "type": "js",
           "url": "/assetserver/b9b20eb0f99819a38f7ecc433feed4bbe393c528-ag-grid.js"
          },
          {
           "name": null,
           "type": "css",
           "url": "/assetserver/5b9005a8a21f5ef6a55c77dc41516952608d0d1d-ag-grid.css"
          },
          {
           "name": null,
           "type": "css",
           "url": "/assetserver/fb7e660811b5af595641e24a03483dce78e1076e-ag-grid-light.css"
          },
          {
           "name": null,
           "type": "css",
           "url": "/assetserver/6ec54d9f8a742a6e19395fb487212fdce57da7bc-ag-grid-dark.css"
          }
         ],
         "type": "async_block"
        },
        "mount_callbacks": [
         "function () {\n    var handler = ((function (RowNumberRenderer,agGrid){var gridOptions={\"onCellFocused\":(function (ev){var x={}; (ev.rowIndex!==undefined) ? (x[\"rowIndex\"]=(ev.rowIndex+1)) : undefined; (ev.colDef!==undefined) ? (x[\"column\"]=ev.colDef.headerName) : undefined; return WebIO.setval({\"name\":\"onCellFocused\",\"scope\":\"7294187094112944304\",\"id\":\"ob_46\",\"type\":\"observable\"},x)}),\"onCellValueChanged\":(function (){return }),\"rowModelType\":\"infinite\",\"onRowClicked\":(function (ev){var x={}; (ev.rowIndex!==undefined) ? (x[\"rowIndex\"]=(ev.rowIndex+1)) : undefined; (ev.colDef!==undefined) ? (x[\"column\"]=ev.colDef.headerName) : undefined; return WebIO.setval({\"name\":\"onRowClicked\",\"scope\":\"7294187094112944304\",\"id\":\"ob_45\",\"type\":\"observable\"},x)}),\"maxConcurrentDatasourceRequests\":1,\"columnDefs\":[{\"filter\":false,\"editable\":false,\"headerTooltip\":\"\",\"field\":\"__row__\",\"headerName\":\"Row\",\"sortable\":false,\"type\":\"numericColumn\",\"cellRenderer\":\"rowNumberRenderer\",\"resizable\":true},{\"filter\":false,\"editable\":false,\"headerTooltip\":\"Date\",\"field\":\"date\",\"headerName\":\"date\",\"sortable\":false,\"type\":null,\"resizable\":true},{\"filter\":false,\"editable\":false,\"headerTooltip\":\"Int64\",\"field\":\"casesIncrease\",\"headerName\":\"casesIncrease\",\"sortable\":false,\"type\":\"numericColumn\",\"resizable\":true},{\"filter\":false,\"editable\":false,\"headerTooltip\":\"Float64\",\"field\":\"casesIncreaseMA\",\"headerName\":\"casesIncreaseMA\",\"sortable\":false,\"type\":\"numericColumn\",\"resizable\":true},{\"filter\":false,\"editable\":false,\"headerTooltip\":\"Float64\",\"field\":\"pch_casesIncreaseMA\",\"headerName\":\"pch_casesIncreaseMA\",\"sortable\":false,\"type\":\"numericColumn\",\"resizable\":true},{\"filter\":false,\"editable\":false,\"headerTooltip\":\"Int64\",\"field\":\"cases\",\"headerName\":\"cases\",\"sortable\":false,\"type\":\"numericColumn\",\"resizable\":true},{\"filter\":false,\"editable\":false,\"headerTooltip\":\"Float64\",\"field\":\"casesMA\",\"headerName\":\"casesMA\",\"sortable\":false,\"type\":\"numericColumn\",\"resizable\":true},{\"filter\":false,\"editable\":false,\"headerTooltip\":\"Float64\",\"field\":\"pch_casesMA\",\"headerName\":\"pch_casesMA\",\"sortable\":false,\"type\":\"numericColumn\",\"resizable\":true}],\"cacheBlockSize\":1000,\"datasource\":{\"rowCount\":null,\"getRows\":(function (rowParams){return WebIO.setval({\"name\":\"rowparams\",\"scope\":\"7294187094112944304\",\"id\":\"ob_48\",\"type\":\"observable\"},rowParams)})},\"multiSortKey\":\"ctrl\",\"maxBlocksInCache\":100,\"onCellDoubleClicked\":(function (ev){var x={}; (ev.rowIndex!==undefined) ? (x[\"rowIndex\"]=(ev.rowIndex+1)) : undefined; (ev.colDef!==undefined) ? (x[\"column\"]=ev.colDef.headerName) : undefined; return WebIO.setval({\"name\":\"onCellDoubleClicked\",\"scope\":\"7294187094112944304\",\"id\":\"ob_44\",\"type\":\"observable\"},x)}),\"onCellKeyDown\":(function (ev){var x={}; (ev.rowIndex!==undefined) ? (x[\"rowIndex\"]=(ev.rowIndex+1)) : undefined; (ev.colDef!==undefined) ? (x[\"column\"]=ev.colDef.headerName) : undefined; return WebIO.setval({\"name\":\"onCellKeyDown\",\"scope\":\"7294187094112944304\",\"id\":\"ob_47\",\"type\":\"observable\"},x)}),\"onCellClicked\":(function (ev){var x={}; (ev.rowIndex!==undefined) ? (x[\"rowIndex\"]=(ev.rowIndex+1)) : undefined; (ev.colDef!==undefined) ? (x[\"column\"]=ev.colDef.headerName) : undefined; return WebIO.setval({\"name\":\"onCellClicked\",\"scope\":\"7294187094112944304\",\"id\":\"ob_43\",\"type\":\"observable\"},x)})}; var el=document.getElementById(\"grid-9b6b8042\"); gridOptions.components={\"rowNumberRenderer\":RowNumberRenderer}; this.table=new agGrid.Grid(el,gridOptions); gridOptions.columnApi.autoSizeColumn(\"__row__\"); return gridOptions.columnApi.autoSizeColumns([\"date\",\"casesIncrease\",\"casesIncreaseMA\",\"pch_casesIncreaseMA\",\"cases\",\"casesMA\",\"pch_casesMA\"])}));\n    (WebIO.importBlock({\"data\":[{\"name\":null,\"type\":\"js\",\"url\":\"/assetserver/ed80b7d691fade66e145983a11fb79e515dab825-rowNumberRenderer.js\"},{\"name\":null,\"type\":\"js\",\"url\":\"/assetserver/b9b20eb0f99819a38f7ecc433feed4bbe393c528-ag-grid.js\"},{\"name\":null,\"type\":\"css\",\"url\":\"/assetserver/5b9005a8a21f5ef6a55c77dc41516952608d0d1d-ag-grid.css\"},{\"name\":null,\"type\":\"css\",\"url\":\"/assetserver/fb7e660811b5af595641e24a03483dce78e1076e-ag-grid-light.css\"},{\"name\":null,\"type\":\"css\",\"url\":\"/assetserver/6ec54d9f8a742a6e19395fb487212fdce57da7bc-ag-grid-dark.css\"}],\"type\":\"async_block\"})).then((imports) => handler.apply(this, imports));\n}\n"
        ],
        "observables": {
         "onCellClicked": {
          "id": "ob_43",
          "sync": false,
          "value": null
         },
         "onCellDoubleClicked": {
          "id": "ob_44",
          "sync": false,
          "value": null
         },
         "onCellFocused": {
          "id": "ob_46",
          "sync": false,
          "value": null
         },
         "onCellKeyDown": {
          "id": "ob_47",
          "sync": false,
          "value": null
         },
         "onRowClicked": {
          "id": "ob_45",
          "sync": false,
          "value": null
         },
         "requestedrows": {
          "id": "ob_49",
          "sync": false,
          "value": {}
         },
         "rowparams": {
          "id": "ob_48",
          "sync": true,
          "value": {
           "endRow": 100,
           "startRow": 1,
           "successCallback": "(function (v){return null})"
          }
         }
        },
        "systemjs_options": null
       },
       "nodeType": "Scope",
       "props": {},
       "type": "node"
      },
      "text/html": [
       "<div\n",
       "    class=\"webio-mountpoint\"\n",
       "    data-webio-mountpoint=\"4552433058709346392\"\n",
       ">\n",
       "    <script>\n",
       "    if (window.require && require.defined && require.defined(\"nbextensions/webio-jupyter-notebook\")) {\n",
       "        console.log(\"Jupyter WebIO extension detected, not mounting.\");\n",
       "    } else if (window.WebIO) {\n",
       "        WebIO.mount(\n",
       "            document.querySelector('[data-webio-mountpoint=\"4552433058709346392\"]'),\n",
       "            {\"props\":{},\"nodeType\":\"Scope\",\"type\":\"node\",\"instanceArgs\":{\"imports\":{\"data\":[{\"name\":null,\"type\":\"js\",\"url\":\"\\/assetserver\\/ed80b7d691fade66e145983a11fb79e515dab825-rowNumberRenderer.js\"},{\"name\":null,\"type\":\"js\",\"url\":\"\\/assetserver\\/b9b20eb0f99819a38f7ecc433feed4bbe393c528-ag-grid.js\"},{\"name\":null,\"type\":\"css\",\"url\":\"\\/assetserver\\/5b9005a8a21f5ef6a55c77dc41516952608d0d1d-ag-grid.css\"},{\"name\":null,\"type\":\"css\",\"url\":\"\\/assetserver\\/fb7e660811b5af595641e24a03483dce78e1076e-ag-grid-light.css\"},{\"name\":null,\"type\":\"css\",\"url\":\"\\/assetserver\\/6ec54d9f8a742a6e19395fb487212fdce57da7bc-ag-grid-dark.css\"}],\"type\":\"async_block\"},\"id\":\"7294187094112944304\",\"handlers\":{\"requestedrows\":[\"(function (val){return WebIO.getval({\\\"name\\\":\\\"rowparams\\\",\\\"scope\\\":\\\"7294187094112944304\\\",\\\"id\\\":\\\"ob_48\\\",\\\"type\\\":\\\"observable\\\"}).successCallback(val,null)})\"]},\"systemjs_options\":null,\"mount_callbacks\":[\"function () {\\n    var handler = ((function (RowNumberRenderer,agGrid){var gridOptions={\\\"onCellFocused\\\":(function (ev){var x={}; (ev.rowIndex!==undefined) ? (x[\\\"rowIndex\\\"]=(ev.rowIndex+1)) : undefined; (ev.colDef!==undefined) ? (x[\\\"column\\\"]=ev.colDef.headerName) : undefined; return WebIO.setval({\\\"name\\\":\\\"onCellFocused\\\",\\\"scope\\\":\\\"7294187094112944304\\\",\\\"id\\\":\\\"ob_46\\\",\\\"type\\\":\\\"observable\\\"},x)}),\\\"onCellValueChanged\\\":(function (){return }),\\\"rowModelType\\\":\\\"infinite\\\",\\\"onRowClicked\\\":(function (ev){var x={}; (ev.rowIndex!==undefined) ? (x[\\\"rowIndex\\\"]=(ev.rowIndex+1)) : undefined; (ev.colDef!==undefined) ? (x[\\\"column\\\"]=ev.colDef.headerName) : undefined; return WebIO.setval({\\\"name\\\":\\\"onRowClicked\\\",\\\"scope\\\":\\\"7294187094112944304\\\",\\\"id\\\":\\\"ob_45\\\",\\\"type\\\":\\\"observable\\\"},x)}),\\\"maxConcurrentDatasourceRequests\\\":1,\\\"columnDefs\\\":[{\\\"filter\\\":false,\\\"editable\\\":false,\\\"headerTooltip\\\":\\\"\\\",\\\"field\\\":\\\"__row__\\\",\\\"headerName\\\":\\\"Row\\\",\\\"sortable\\\":false,\\\"type\\\":\\\"numericColumn\\\",\\\"cellRenderer\\\":\\\"rowNumberRenderer\\\",\\\"resizable\\\":true},{\\\"filter\\\":false,\\\"editable\\\":false,\\\"headerTooltip\\\":\\\"Date\\\",\\\"field\\\":\\\"date\\\",\\\"headerName\\\":\\\"date\\\",\\\"sortable\\\":false,\\\"type\\\":null,\\\"resizable\\\":true},{\\\"filter\\\":false,\\\"editable\\\":false,\\\"headerTooltip\\\":\\\"Int64\\\",\\\"field\\\":\\\"casesIncrease\\\",\\\"headerName\\\":\\\"casesIncrease\\\",\\\"sortable\\\":false,\\\"type\\\":\\\"numericColumn\\\",\\\"resizable\\\":true},{\\\"filter\\\":false,\\\"editable\\\":false,\\\"headerTooltip\\\":\\\"Float64\\\",\\\"field\\\":\\\"casesIncreaseMA\\\",\\\"headerName\\\":\\\"casesIncreaseMA\\\",\\\"sortable\\\":false,\\\"type\\\":\\\"numericColumn\\\",\\\"resizable\\\":true},{\\\"filter\\\":false,\\\"editable\\\":false,\\\"headerTooltip\\\":\\\"Float64\\\",\\\"field\\\":\\\"pch_casesIncreaseMA\\\",\\\"headerName\\\":\\\"pch_casesIncreaseMA\\\",\\\"sortable\\\":false,\\\"type\\\":\\\"numericColumn\\\",\\\"resizable\\\":true},{\\\"filter\\\":false,\\\"editable\\\":false,\\\"headerTooltip\\\":\\\"Int64\\\",\\\"field\\\":\\\"cases\\\",\\\"headerName\\\":\\\"cases\\\",\\\"sortable\\\":false,\\\"type\\\":\\\"numericColumn\\\",\\\"resizable\\\":true},{\\\"filter\\\":false,\\\"editable\\\":false,\\\"headerTooltip\\\":\\\"Float64\\\",\\\"field\\\":\\\"casesMA\\\",\\\"headerName\\\":\\\"casesMA\\\",\\\"sortable\\\":false,\\\"type\\\":\\\"numericColumn\\\",\\\"resizable\\\":true},{\\\"filter\\\":false,\\\"editable\\\":false,\\\"headerTooltip\\\":\\\"Float64\\\",\\\"field\\\":\\\"pch_casesMA\\\",\\\"headerName\\\":\\\"pch_casesMA\\\",\\\"sortable\\\":false,\\\"type\\\":\\\"numericColumn\\\",\\\"resizable\\\":true}],\\\"cacheBlockSize\\\":1000,\\\"datasource\\\":{\\\"rowCount\\\":null,\\\"getRows\\\":(function (rowParams){return WebIO.setval({\\\"name\\\":\\\"rowparams\\\",\\\"scope\\\":\\\"7294187094112944304\\\",\\\"id\\\":\\\"ob_48\\\",\\\"type\\\":\\\"observable\\\"},rowParams)})},\\\"multiSortKey\\\":\\\"ctrl\\\",\\\"maxBlocksInCache\\\":100,\\\"onCellDoubleClicked\\\":(function (ev){var x={}; (ev.rowIndex!==undefined) ? (x[\\\"rowIndex\\\"]=(ev.rowIndex+1)) : undefined; (ev.colDef!==undefined) ? (x[\\\"column\\\"]=ev.colDef.headerName) : undefined; return WebIO.setval({\\\"name\\\":\\\"onCellDoubleClicked\\\",\\\"scope\\\":\\\"7294187094112944304\\\",\\\"id\\\":\\\"ob_44\\\",\\\"type\\\":\\\"observable\\\"},x)}),\\\"onCellKeyDown\\\":(function (ev){var x={}; (ev.rowIndex!==undefined) ? (x[\\\"rowIndex\\\"]=(ev.rowIndex+1)) : undefined; (ev.colDef!==undefined) ? (x[\\\"column\\\"]=ev.colDef.headerName) : undefined; return WebIO.setval({\\\"name\\\":\\\"onCellKeyDown\\\",\\\"scope\\\":\\\"7294187094112944304\\\",\\\"id\\\":\\\"ob_47\\\",\\\"type\\\":\\\"observable\\\"},x)}),\\\"onCellClicked\\\":(function (ev){var x={}; (ev.rowIndex!==undefined) ? (x[\\\"rowIndex\\\"]=(ev.rowIndex+1)) : undefined; (ev.colDef!==undefined) ? (x[\\\"column\\\"]=ev.colDef.headerName) : undefined; return WebIO.setval({\\\"name\\\":\\\"onCellClicked\\\",\\\"scope\\\":\\\"7294187094112944304\\\",\\\"id\\\":\\\"ob_43\\\",\\\"type\\\":\\\"observable\\\"},x)})}; var el=document.getElementById(\\\"grid-9b6b8042\\\"); gridOptions.components={\\\"rowNumberRenderer\\\":RowNumberRenderer}; this.table=new agGrid.Grid(el,gridOptions); gridOptions.columnApi.autoSizeColumn(\\\"__row__\\\"); return gridOptions.columnApi.autoSizeColumns([\\\"date\\\",\\\"casesIncrease\\\",\\\"casesIncreaseMA\\\",\\\"pch_casesIncreaseMA\\\",\\\"cases\\\",\\\"casesMA\\\",\\\"pch_casesMA\\\"])}));\\n    (WebIO.importBlock({\\\"data\\\":[{\\\"name\\\":null,\\\"type\\\":\\\"js\\\",\\\"url\\\":\\\"\\/assetserver\\/ed80b7d691fade66e145983a11fb79e515dab825-rowNumberRenderer.js\\\"},{\\\"name\\\":null,\\\"type\\\":\\\"js\\\",\\\"url\\\":\\\"\\/assetserver\\/b9b20eb0f99819a38f7ecc433feed4bbe393c528-ag-grid.js\\\"},{\\\"name\\\":null,\\\"type\\\":\\\"css\\\",\\\"url\\\":\\\"\\/assetserver\\/5b9005a8a21f5ef6a55c77dc41516952608d0d1d-ag-grid.css\\\"},{\\\"name\\\":null,\\\"type\\\":\\\"css\\\",\\\"url\\\":\\\"\\/assetserver\\/fb7e660811b5af595641e24a03483dce78e1076e-ag-grid-light.css\\\"},{\\\"name\\\":null,\\\"type\\\":\\\"css\\\",\\\"url\\\":\\\"\\/assetserver\\/6ec54d9f8a742a6e19395fb487212fdce57da7bc-ag-grid-dark.css\\\"}],\\\"type\\\":\\\"async_block\\\"})).then((imports) => handler.apply(this, imports));\\n}\\n\"],\"observables\":{\"onCellKeyDown\":{\"sync\":false,\"id\":\"ob_47\",\"value\":null},\"onRowClicked\":{\"sync\":false,\"id\":\"ob_45\",\"value\":null},\"onCellDoubleClicked\":{\"sync\":false,\"id\":\"ob_44\",\"value\":null},\"requestedrows\":{\"sync\":false,\"id\":\"ob_49\",\"value\":{}},\"onCellClicked\":{\"sync\":false,\"id\":\"ob_43\",\"value\":null},\"onCellFocused\":{\"sync\":false,\"id\":\"ob_46\",\"value\":null},\"rowparams\":{\"sync\":true,\"id\":\"ob_48\",\"value\":{\"successCallback\":\"(function (v){return null})\",\"startRow\":1,\"endRow\":100}}}},\"children\":[{\"props\":{},\"nodeType\":\"DOM\",\"type\":\"node\",\"instanceArgs\":{\"namespace\":\"html\",\"tag\":\"div\"},\"children\":[{\"props\":{\"style\":{\"height\":\"0\",\"padding\":\"0\",\"background-color\":\"#F5F7F7\",\"color\":\"#1c1f20\",\"font-family\":\"-apple-system, BlinkMacSystemFont, \\\"Segoe UI\\\", Roboto, Oxygen-Sans, Ubuntu, Cantarell, \\\"Helvetica Neue\\\", sans-serif\"}},\"nodeType\":\"DOM\",\"type\":\"node\",\"instanceArgs\":{\"namespace\":\"html\",\"tag\":\"div\"},\"children\":[\"\"]},{\"props\":{\"id\":\"grid-9b6b8042\",\"className\":\"ag-theme-balham\",\"style\":{\"height\":\"500px\",\"width\":\"100%\"}},\"nodeType\":\"DOM\",\"type\":\"node\",\"instanceArgs\":{\"namespace\":\"html\",\"tag\":\"div\"},\"children\":[]}]}]},\n",
       "            window,\n",
       "        );\n",
       "    } else {\n",
       "        document\n",
       "            .querySelector('[data-webio-mountpoint=\"4552433058709346392\"]')\n",
       "            .innerHTML = (\n",
       "                '<div style=\"padding: 1em; background-color: #f8d6da; border: 1px solid #f5c6cb\">' +\n",
       "                '<p><strong>WebIO not detected.</strong></p>' +\n",
       "                '<p>Please read ' +\n",
       "                '<a href=\"https://juliagizmos.github.io/WebIO.jl/latest/troubleshooting/not-detected/\" target=\"_blank\">the troubleshooting guide</a> ' +\n",
       "                'for more information on how to resolve this issue.</p>' +\n",
       "                '<p><a href=\"https://juliagizmos.github.io/WebIO.jl/latest/troubleshooting/not-detected/\" target=\"_blank\">https://juliagizmos.github.io/WebIO.jl/latest/troubleshooting/not-detected/</a></p>' +\n",
       "                '</div>'\n",
       "            );\n",
       "    }\n",
       "    </script>\n",
       "</div>\n"
      ],
      "text/plain": [
       "WebIO.Scope(WebIO.Node{WebIO.DOM}(WebIO.DOM(:html, :div), Any[WebIO.Node{WebIO.DOM}(WebIO.DOM(:html, :div), Any[\"\"], Dict{Symbol,Any}(:style => Dict(\"height\" => \"0\",\"padding\" => \"0\",\"background-color\" => \"#F5F7F7\",\"color\" => \"#1c1f20\",\"font-family\" => \"-apple-system, BlinkMacSystemFont, \\\"Segoe UI\\\", Roboto, Oxygen-Sans, Ubuntu, Cantarell, \\\"Helvetica Neue\\\", sans-serif\"))), WebIO.Node{WebIO.DOM}(WebIO.DOM(:html, :div), Any[], Dict{Symbol,Any}(:id => \"grid-9b6b8042\",:className => \"ag-theme-balham\",:style => Dict(\"height\" => \"500px\",\"width\" => \"100%\")))], Dict{Symbol,Any}()), Dict{String,Tuple{Observables.AbstractObservable,Union{Nothing, Bool}}}(\"onCellKeyDown\" => (Observable{Any} with 0 listeners. Value:\n",
       "nothing, nothing),\"onRowClicked\" => (Observable{Any} with 0 listeners. Value:\n",
       "nothing, nothing),\"onCellDoubleClicked\" => (Observable{Any} with 0 listeners. Value:\n",
       "nothing, nothing),\"requestedrows\" => (Observable{JSON.Writer.JSONText} with 1 listeners. Value:\n",
       "JSON.Writer.JSONText(\"{}\"), nothing),\"onCellClicked\" => (Observable{Any} with 0 listeners. Value:\n",
       "nothing, nothing),\"onCellFocused\" => (Observable{Any} with 0 listeners. Value:\n",
       "nothing, nothing),\"rowparams\" => (Observable{Dict{String,Any}} with 1 listeners. Value:\n",
       "Dict{String,Any}(\"successCallback\" => WebIO.JSString(\"(function (v){return null})\"),\"startRow\" => 1,\"endRow\" => 100), nothing)), Set(String[]), nothing, WebIO.Asset[WebIO.Asset(\"js\", nothing, \"/home/cdaniels/.julia/packages/TableView/CxWLO/src/rowNumberRenderer.js\"), WebIO.Asset(\"js\", nothing, \"/home/cdaniels/.julia/packages/TableView/CxWLO/deps/ag-grid-22.1.0/ag-grid.js\"), WebIO.Asset(\"css\", nothing, \"/home/cdaniels/.julia/packages/TableView/CxWLO/deps/ag-grid-22.1.0/ag-grid.css\"), WebIO.Asset(\"css\", nothing, \"/home/cdaniels/.julia/packages/TableView/CxWLO/deps/ag-grid-22.1.0/ag-grid-light.css\"), WebIO.Asset(\"css\", nothing, \"/home/cdaniels/.julia/packages/TableView/CxWLO/deps/ag-grid-22.1.0/ag-grid-dark.css\")], Dict{Any,Any}(\"requestedrows\" => Any[WebIO.JSString(\"(function (val){return WebIO.getval({\\\"name\\\":\\\"rowparams\\\",\\\"scope\\\":\\\"7294187094112944304\\\",\\\"id\\\":\\\"ob_48\\\",\\\"type\\\":\\\"observable\\\"}).successCallback(val,null)})\")]), WebIO.ConnectionPool(Channel{Any}(sz_max:32,sz_curr:0), Set(WebIO.AbstractConnection[]), Base.GenericCondition{Base.AlwaysLockedST}(Base.InvasiveLinkedList{Task}(Task (runnable) @0x00007f73ec87ee60, Task (runnable) @0x00007f73ec87ee60), Base.AlwaysLockedST(1))), WebIO.JSString[WebIO.JSString(\"function () {\\n    var handler = ((function (RowNumberRenderer,agGrid){var gridOptions={\\\"onCellFocused\\\":(function (ev){var x={}; (ev.rowIndex!==undefined) ? (x[\\\"rowIndex\\\"]=(ev.rowIndex+1)) : undefined; (ev.colDef!==undefined) ? (x[\\\"column\\\"]=ev.colDef.headerName) : undefined; return WebIO.setval({\\\"name\\\":\\\"onCellFocused\\\",\\\"scope\\\":\\\"7294187094112944304\\\",\\\"id\\\":\\\"ob_46\\\",\\\"type\\\":\\\"observable\\\"},x)}),\\\"onCellValueChanged\\\":(function (){return }),\\\"rowModelType\\\":\\\"infinite\\\",\\\"onRowClicked\\\":(function (ev){var x={}; (ev.rowIndex!==undefined) ? (x[\\\"rowIndex\\\"]=(ev.rowIndex+1)) : undefined; (ev.colDef!==undefined) ? (x[\\\"column\\\"]=ev.colDef.headerName) : undefined; return WebIO.setval({\\\"name\\\":\\\"onRowClicked\\\",\\\"scope\\\":\\\"7294187094112944304\\\",\\\"id\\\":\\\"ob_45\\\",\\\"type\\\":\\\"observable\\\"},x)}),\\\"maxConcurrentDatasourceRequests\\\":1,\\\"columnDefs\\\":[{\\\"filter\\\":false,\\\"editable\\\":false,\\\"headerTooltip\\\":\\\"\\\",\\\"field\\\":\\\"__row__\\\",\\\"headerName\\\":\\\"Row\\\",\\\"sortable\\\":false,\\\"type\\\":\\\"numericColumn\\\",\\\"cellRenderer\\\":\\\"rowNumberRenderer\\\",\\\"resizable\\\":true},{\\\"filter\\\":false,\\\"editable\\\":false,\\\"headerTooltip\\\":\\\"Date\\\",\\\"field\\\":\\\"date\\\",\\\"headerName\\\":\\\"date\\\",\\\"sortable\\\":false,\\\"type\\\":null,\\\"resizable\\\":true},{\\\"filter\\\":false,\\\"editable\\\":false,\\\"headerTooltip\\\":\\\"Int64\\\",\\\"field\\\":\\\"casesIncrease\\\",\\\"headerName\\\":\\\"casesIncrease\\\",\\\"sortable\\\":false,\\\"type\\\":\\\"numericColumn\\\",\\\"resizable\\\":true},{\\\"filter\\\":false,\\\"editable\\\":false,\\\"headerTooltip\\\":\\\"Float64\\\",\\\"field\\\":\\\"casesIncreaseMA\\\",\\\"headerName\\\":\\\"casesIncreaseMA\\\",\\\"sortable\\\":false,\\\"type\\\":\\\"numericColumn\\\",\\\"resizable\\\":true},{\\\"filter\\\":false,\\\"editable\\\":false,\\\"headerTooltip\\\":\\\"Float64\\\",\\\"field\\\":\\\"pch_casesIncreaseMA\\\",\\\"headerName\\\":\\\"pch_casesIncreaseMA\\\",\\\"sortable\\\":false,\\\"type\\\":\\\"numericColumn\\\",\\\"resizable\\\":true},{\\\"filter\\\":false,\\\"editable\\\":false,\\\"headerTooltip\\\":\\\"Int64\\\",\\\"field\\\":\\\"cases\\\",\\\"headerName\\\":\\\"cases\\\",\\\"sortable\\\":false,\\\"type\\\":\\\"numericColumn\\\",\\\"resizable\\\":true},{\\\"filter\\\":false,\\\"editable\\\":false,\\\"headerTooltip\\\":\\\"Float64\\\",\\\"field\\\":\\\"casesMA\\\",\\\"headerName\\\":\\\"casesMA\\\",\\\"sortable\\\":false,\\\"type\\\":\\\"numericColumn\\\",\\\"resizable\\\":true},{\\\"filter\\\":false,\\\"editable\\\":false,\\\"headerTooltip\\\":\\\"Float64\\\",\\\"field\\\":\\\"pch_casesMA\\\",\\\"headerName\\\":\\\"pch_casesMA\\\",\\\"sortable\\\":false,\\\"type\\\":\\\"numericColumn\\\",\\\"resizable\\\":true}],\\\"cacheBlockSize\\\":1000,\\\"datasource\\\":{\\\"rowCount\\\":null,\\\"getRows\\\":(function (rowParams){return WebIO.setval({\\\"name\\\":\\\"rowparams\\\",\\\"scope\\\":\\\"7294187094112944304\\\",\\\"id\\\":\\\"ob_48\\\",\\\"type\\\":\\\"observable\\\"},rowParams)})},\\\"multiSortKey\\\":\\\"ctrl\\\",\\\"maxBlocksInCache\\\":100,\\\"onCellDoubleClicked\\\":(function (ev){var x={}; (ev.rowIndex!==undefined) ? (x[\\\"rowIndex\\\"]=(ev.rowIndex+1)) : undefined; (ev.colDef!==undefined) ? (x[\\\"column\\\"]=ev.colDef.headerName) : undefined; return WebIO.setval({\\\"name\\\":\\\"onCellDoubleClicked\\\",\\\"scope\\\":\\\"7294187094112944304\\\",\\\"id\\\":\\\"ob_44\\\",\\\"type\\\":\\\"observable\\\"},x)}),\\\"onCellKeyDown\\\":(function (ev){var x={}; (ev.rowIndex!==undefined) ? (x[\\\"rowIndex\\\"]=(ev.rowIndex+1)) : undefined; (ev.colDef!==undefined) ? (x[\\\"column\\\"]=ev.colDef.headerName) : undefined; return WebIO.setval({\\\"name\\\":\\\"onCellKeyDown\\\",\\\"scope\\\":\\\"7294187094112944304\\\",\\\"id\\\":\\\"ob_47\\\",\\\"type\\\":\\\"observable\\\"},x)}),\\\"onCellClicked\\\":(function (ev){var x={}; (ev.rowIndex!==undefined) ? (x[\\\"rowIndex\\\"]=(ev.rowIndex+1)) : undefined; (ev.colDef!==undefined) ? (x[\\\"column\\\"]=ev.colDef.headerName) : undefined; return WebIO.setval({\\\"name\\\":\\\"onCellClicked\\\",\\\"scope\\\":\\\"7294187094112944304\\\",\\\"id\\\":\\\"ob_43\\\",\\\"type\\\":\\\"observable\\\"},x)})}; var el=document.getElementById(\\\"grid-9b6b8042\\\"); gridOptions.components={\\\"rowNumberRenderer\\\":RowNumberRenderer}; this.table=new agGrid.Grid(el,gridOptions); gridOptions.columnApi.autoSizeColumn(\\\"__row__\\\"); return gridOptions.columnApi.autoSizeColumns([\\\"date\\\",\\\"casesIncrease\\\",\\\"casesIncreaseMA\\\",\\\"pch_casesIncreaseMA\\\",\\\"cases\\\",\\\"casesMA\\\",\\\"pch_casesMA\\\"])}));\\n    (WebIO.importBlock({\\\"data\\\":[{\\\"name\\\":null,\\\"type\\\":\\\"js\\\",\\\"url\\\":\\\"/assetserver/ed80b7d691fade66e145983a11fb79e515dab825-rowNumberRenderer.js\\\"},{\\\"name\\\":null,\\\"type\\\":\\\"js\\\",\\\"url\\\":\\\"/assetserver/b9b20eb0f99819a38f7ecc433feed4bbe393c528-ag-grid.js\\\"},{\\\"name\\\":null,\\\"type\\\":\\\"css\\\",\\\"url\\\":\\\"/assetserver/5b9005a8a21f5ef6a55c77dc41516952608d0d1d-ag-grid.css\\\"},{\\\"name\\\":null,\\\"type\\\":\\\"css\\\",\\\"url\\\":\\\"/assetserver/fb7e660811b5af595641e24a03483dce78e1076e-ag-grid-light.css\\\"},{\\\"name\\\":null,\\\"type\\\":\\\"css\\\",\\\"url\\\":\\\"/assetserver/6ec54d9f8a742a6e19395fb487212fdce57da7bc-ag-grid-dark.css\\\"}],\\\"type\\\":\\\"async_block\\\"})).then((imports) => handler.apply(this, imports));\\n}\\n\")])"
      ]
     },
     "execution_count": 11,
     "metadata": {
      "application/vnd.webio.node+json": {
       "kernelId": "f76cff0d-71eb-4fcb-8f14-2113642ca679"
      }
     },
     "output_type": "execute_result"
    }
   ],
   "source": [
    "@tbl sort(select_region(dfc,\"Illinois\",\"Cook\",\n",
    "    [:date,:casesIncrease,:casesIncreaseMA,:pch_casesIncreaseMA,:cases,:casesMA,:pch_casesMA]),rev=false)"
   ]
  },
  {
   "cell_type": "markdown",
   "metadata": {},
   "source": [
    "## Aggregation By County"
   ]
  },
  {
   "cell_type": "code",
   "execution_count": 12,
   "metadata": {
    "scrolled": true
   },
   "outputs": [
    {
     "name": "stdout",
     "output_type": "stream",
     "text": [
      "  1.095517 seconds (2.25 M allocations: 106.943 MiB, 2.55% gc time)\n"
     ]
    },
    {
     "data": {
      "application/vnd.webio.node+json": {
       "children": [
        {
         "children": [
          {
           "children": [
            ""
           ],
           "instanceArgs": {
            "namespace": "html",
            "tag": "div"
           },
           "nodeType": "DOM",
           "props": {
            "style": {
             "background-color": "#F5F7F7",
             "color": "#1c1f20",
             "font-family": "-apple-system, BlinkMacSystemFont, \"Segoe UI\", Roboto, Oxygen-Sans, Ubuntu, Cantarell, \"Helvetica Neue\", sans-serif",
             "height": "0",
             "padding": "0"
            }
           },
           "type": "node"
          },
          {
           "children": [],
           "instanceArgs": {
            "namespace": "html",
            "tag": "div"
           },
           "nodeType": "DOM",
           "props": {
            "className": "ag-theme-balham",
            "id": "grid-9dbf1804",
            "style": {
             "height": "500px",
             "width": "100%"
            }
           },
           "type": "node"
          }
         ],
         "instanceArgs": {
          "namespace": "html",
          "tag": "div"
         },
         "nodeType": "DOM",
         "props": {},
         "type": "node"
        }
       ],
       "instanceArgs": {
        "handlers": {
         "requestedrows": [
          "(function (val){return WebIO.getval({\"name\":\"rowparams\",\"scope\":\"13824187612181677842\",\"id\":\"ob_55\",\"type\":\"observable\"}).successCallback(val,null)})"
         ]
        },
        "id": "13824187612181677842",
        "imports": {
         "data": [
          {
           "name": null,
           "type": "js",
           "url": "/assetserver/ed80b7d691fade66e145983a11fb79e515dab825-rowNumberRenderer.js"
          },
          {
           "name": null,
           "type": "js",
           "url": "/assetserver/b9b20eb0f99819a38f7ecc433feed4bbe393c528-ag-grid.js"
          },
          {
           "name": null,
           "type": "css",
           "url": "/assetserver/5b9005a8a21f5ef6a55c77dc41516952608d0d1d-ag-grid.css"
          },
          {
           "name": null,
           "type": "css",
           "url": "/assetserver/fb7e660811b5af595641e24a03483dce78e1076e-ag-grid-light.css"
          },
          {
           "name": null,
           "type": "css",
           "url": "/assetserver/6ec54d9f8a742a6e19395fb487212fdce57da7bc-ag-grid-dark.css"
          }
         ],
         "type": "async_block"
        },
        "mount_callbacks": [
         "function () {\n    var handler = ((function (RowNumberRenderer,agGrid){var gridOptions={\"onCellFocused\":(function (ev){var x={}; (ev.rowIndex!==undefined) ? (x[\"rowIndex\"]=(ev.rowIndex+1)) : undefined; (ev.colDef!==undefined) ? (x[\"column\"]=ev.colDef.headerName) : undefined; return WebIO.setval({\"name\":\"onCellFocused\",\"scope\":\"13824187612181677842\",\"id\":\"ob_53\",\"type\":\"observable\"},x)}),\"onCellValueChanged\":(function (){return }),\"rowModelType\":\"infinite\",\"onRowClicked\":(function (ev){var x={}; (ev.rowIndex!==undefined) ? (x[\"rowIndex\"]=(ev.rowIndex+1)) : undefined; (ev.colDef!==undefined) ? (x[\"column\"]=ev.colDef.headerName) : undefined; return WebIO.setval({\"name\":\"onRowClicked\",\"scope\":\"13824187612181677842\",\"id\":\"ob_52\",\"type\":\"observable\"},x)}),\"maxConcurrentDatasourceRequests\":1,\"columnDefs\":[{\"filter\":false,\"editable\":false,\"headerTooltip\":\"\",\"field\":\"__row__\",\"headerName\":\"Row\",\"sortable\":false,\"type\":\"numericColumn\",\"cellRenderer\":\"rowNumberRenderer\",\"resizable\":true},{\"filter\":false,\"editable\":false,\"headerTooltip\":\"Date\",\"field\":\"date\",\"headerName\":\"date\",\"sortable\":false,\"type\":null,\"resizable\":true},{\"filter\":false,\"editable\":false,\"headerTooltip\":\"String\",\"field\":\"state\",\"headerName\":\"state\",\"sortable\":false,\"type\":null,\"resizable\":true},{\"filter\":false,\"editable\":false,\"headerTooltip\":\"String\",\"field\":\"county\",\"headerName\":\"county\",\"sortable\":false,\"type\":null,\"resizable\":true},{\"filter\":false,\"editable\":false,\"headerTooltip\":\"String\",\"field\":\"fips\",\"headerName\":\"fips\",\"sortable\":false,\"type\":null,\"resizable\":true},{\"filter\":false,\"editable\":false,\"headerTooltip\":\"Int64\",\"field\":\"cases\",\"headerName\":\"cases\",\"sortable\":false,\"type\":\"numericColumn\",\"resizable\":true},{\"filter\":false,\"editable\":false,\"headerTooltip\":\"Float64\",\"field\":\"casesMA\",\"headerName\":\"casesMA\",\"sortable\":false,\"type\":\"numericColumn\",\"resizable\":true},{\"filter\":false,\"editable\":false,\"headerTooltip\":\"Float64\",\"field\":\"pch_casesMA\",\"headerName\":\"pch_casesMA\",\"sortable\":false,\"type\":\"numericColumn\",\"resizable\":true},{\"filter\":false,\"editable\":false,\"headerTooltip\":\"Int64\",\"field\":\"casesIncrease\",\"headerName\":\"casesIncrease\",\"sortable\":false,\"type\":\"numericColumn\",\"resizable\":true},{\"filter\":false,\"editable\":false,\"headerTooltip\":\"Float64\",\"field\":\"casesIncreaseMA\",\"headerName\":\"casesIncreaseMA\",\"sortable\":false,\"type\":\"numericColumn\",\"resizable\":true},{\"filter\":false,\"editable\":false,\"headerTooltip\":\"Float64\",\"field\":\"pch_casesIncreaseMA\",\"headerName\":\"pch_casesIncreaseMA\",\"sortable\":false,\"type\":\"numericColumn\",\"resizable\":true},{\"filter\":false,\"editable\":false,\"headerTooltip\":\"Int64\",\"field\":\"deaths\",\"headerName\":\"deaths\",\"sortable\":false,\"type\":\"numericColumn\",\"resizable\":true},{\"filter\":false,\"editable\":false,\"headerTooltip\":\"Float64\",\"field\":\"deathsMA\",\"headerName\":\"deathsMA\",\"sortable\":false,\"type\":\"numericColumn\",\"resizable\":true},{\"filter\":false,\"editable\":false,\"headerTooltip\":\"Float64\",\"field\":\"pch_deathsMA\",\"headerName\":\"pch_deathsMA\",\"sortable\":false,\"type\":\"numericColumn\",\"resizable\":true},{\"filter\":false,\"editable\":false,\"headerTooltip\":\"Int64\",\"field\":\"deathsIncrease\",\"headerName\":\"deathsIncrease\",\"sortable\":false,\"type\":\"numericColumn\",\"resizable\":true},{\"filter\":false,\"editable\":false,\"headerTooltip\":\"Float64\",\"field\":\"deathsIncreaseMA\",\"headerName\":\"deathsIncreaseMA\",\"sortable\":false,\"type\":\"numericColumn\",\"resizable\":true},{\"filter\":false,\"editable\":false,\"headerTooltip\":\"Float64\",\"field\":\"pch_deathsIncreaseMA\",\"headerName\":\"pch_deathsIncreaseMA\",\"sortable\":false,\"type\":\"numericColumn\",\"resizable\":true},{\"filter\":false,\"editable\":false,\"headerTooltip\":\"Int64\",\"field\":\"population\",\"headerName\":\"population\",\"sortable\":false,\"type\":\"numericColumn\",\"resizable\":true}],\"cacheBlockSize\":1000,\"datasource\":{\"rowCount\":null,\"getRows\":(function (rowParams){return WebIO.setval({\"name\":\"rowparams\",\"scope\":\"13824187612181677842\",\"id\":\"ob_55\",\"type\":\"observable\"},rowParams)})},\"multiSortKey\":\"ctrl\",\"maxBlocksInCache\":100,\"onCellDoubleClicked\":(function (ev){var x={}; (ev.rowIndex!==undefined) ? (x[\"rowIndex\"]=(ev.rowIndex+1)) : undefined; (ev.colDef!==undefined) ? (x[\"column\"]=ev.colDef.headerName) : undefined; return WebIO.setval({\"name\":\"onCellDoubleClicked\",\"scope\":\"13824187612181677842\",\"id\":\"ob_51\",\"type\":\"observable\"},x)}),\"onCellKeyDown\":(function (ev){var x={}; (ev.rowIndex!==undefined) ? (x[\"rowIndex\"]=(ev.rowIndex+1)) : undefined; (ev.colDef!==undefined) ? (x[\"column\"]=ev.colDef.headerName) : undefined; return WebIO.setval({\"name\":\"onCellKeyDown\",\"scope\":\"13824187612181677842\",\"id\":\"ob_54\",\"type\":\"observable\"},x)}),\"onCellClicked\":(function (ev){var x={}; (ev.rowIndex!==undefined) ? (x[\"rowIndex\"]=(ev.rowIndex+1)) : undefined; (ev.colDef!==undefined) ? (x[\"column\"]=ev.colDef.headerName) : undefined; return WebIO.setval({\"name\":\"onCellClicked\",\"scope\":\"13824187612181677842\",\"id\":\"ob_50\",\"type\":\"observable\"},x)})}; var el=document.getElementById(\"grid-9dbf1804\"); gridOptions.components={\"rowNumberRenderer\":RowNumberRenderer}; this.table=new agGrid.Grid(el,gridOptions); gridOptions.columnApi.autoSizeColumn(\"__row__\"); return gridOptions.columnApi.autoSizeColumns([\"date\",\"state\",\"county\",\"fips\",\"cases\",\"casesMA\",\"pch_casesMA\",\"casesIncrease\",\"casesIncreaseMA\",\"pch_casesIncreaseMA\",\"deaths\",\"deathsMA\",\"pch_deathsMA\",\"deathsIncrease\",\"deathsIncreaseMA\",\"pch_deathsIncreaseMA\",\"population\"])}));\n    (WebIO.importBlock({\"data\":[{\"name\":null,\"type\":\"js\",\"url\":\"/assetserver/ed80b7d691fade66e145983a11fb79e515dab825-rowNumberRenderer.js\"},{\"name\":null,\"type\":\"js\",\"url\":\"/assetserver/b9b20eb0f99819a38f7ecc433feed4bbe393c528-ag-grid.js\"},{\"name\":null,\"type\":\"css\",\"url\":\"/assetserver/5b9005a8a21f5ef6a55c77dc41516952608d0d1d-ag-grid.css\"},{\"name\":null,\"type\":\"css\",\"url\":\"/assetserver/fb7e660811b5af595641e24a03483dce78e1076e-ag-grid-light.css\"},{\"name\":null,\"type\":\"css\",\"url\":\"/assetserver/6ec54d9f8a742a6e19395fb487212fdce57da7bc-ag-grid-dark.css\"}],\"type\":\"async_block\"})).then((imports) => handler.apply(this, imports));\n}\n"
        ],
        "observables": {
         "onCellClicked": {
          "id": "ob_50",
          "sync": false,
          "value": null
         },
         "onCellDoubleClicked": {
          "id": "ob_51",
          "sync": false,
          "value": null
         },
         "onCellFocused": {
          "id": "ob_53",
          "sync": false,
          "value": null
         },
         "onCellKeyDown": {
          "id": "ob_54",
          "sync": false,
          "value": null
         },
         "onRowClicked": {
          "id": "ob_52",
          "sync": false,
          "value": null
         },
         "requestedrows": {
          "id": "ob_56",
          "sync": false,
          "value": {}
         },
         "rowparams": {
          "id": "ob_55",
          "sync": true,
          "value": {
           "endRow": 100,
           "startRow": 1,
           "successCallback": "(function (v){return null})"
          }
         }
        },
        "systemjs_options": null
       },
       "nodeType": "Scope",
       "props": {},
       "type": "node"
      },
      "text/html": [
       "<div\n",
       "    class=\"webio-mountpoint\"\n",
       "    data-webio-mountpoint=\"13934215520695511502\"\n",
       ">\n",
       "    <script>\n",
       "    if (window.require && require.defined && require.defined(\"nbextensions/webio-jupyter-notebook\")) {\n",
       "        console.log(\"Jupyter WebIO extension detected, not mounting.\");\n",
       "    } else if (window.WebIO) {\n",
       "        WebIO.mount(\n",
       "            document.querySelector('[data-webio-mountpoint=\"13934215520695511502\"]'),\n",
       "            {\"props\":{},\"nodeType\":\"Scope\",\"type\":\"node\",\"instanceArgs\":{\"imports\":{\"data\":[{\"name\":null,\"type\":\"js\",\"url\":\"\\/assetserver\\/ed80b7d691fade66e145983a11fb79e515dab825-rowNumberRenderer.js\"},{\"name\":null,\"type\":\"js\",\"url\":\"\\/assetserver\\/b9b20eb0f99819a38f7ecc433feed4bbe393c528-ag-grid.js\"},{\"name\":null,\"type\":\"css\",\"url\":\"\\/assetserver\\/5b9005a8a21f5ef6a55c77dc41516952608d0d1d-ag-grid.css\"},{\"name\":null,\"type\":\"css\",\"url\":\"\\/assetserver\\/fb7e660811b5af595641e24a03483dce78e1076e-ag-grid-light.css\"},{\"name\":null,\"type\":\"css\",\"url\":\"\\/assetserver\\/6ec54d9f8a742a6e19395fb487212fdce57da7bc-ag-grid-dark.css\"}],\"type\":\"async_block\"},\"id\":\"13824187612181677842\",\"handlers\":{\"requestedrows\":[\"(function (val){return WebIO.getval({\\\"name\\\":\\\"rowparams\\\",\\\"scope\\\":\\\"13824187612181677842\\\",\\\"id\\\":\\\"ob_55\\\",\\\"type\\\":\\\"observable\\\"}).successCallback(val,null)})\"]},\"systemjs_options\":null,\"mount_callbacks\":[\"function () {\\n    var handler = ((function (RowNumberRenderer,agGrid){var gridOptions={\\\"onCellFocused\\\":(function (ev){var x={}; (ev.rowIndex!==undefined) ? (x[\\\"rowIndex\\\"]=(ev.rowIndex+1)) : undefined; (ev.colDef!==undefined) ? (x[\\\"column\\\"]=ev.colDef.headerName) : undefined; return WebIO.setval({\\\"name\\\":\\\"onCellFocused\\\",\\\"scope\\\":\\\"13824187612181677842\\\",\\\"id\\\":\\\"ob_53\\\",\\\"type\\\":\\\"observable\\\"},x)}),\\\"onCellValueChanged\\\":(function (){return }),\\\"rowModelType\\\":\\\"infinite\\\",\\\"onRowClicked\\\":(function (ev){var x={}; (ev.rowIndex!==undefined) ? (x[\\\"rowIndex\\\"]=(ev.rowIndex+1)) : undefined; (ev.colDef!==undefined) ? (x[\\\"column\\\"]=ev.colDef.headerName) : undefined; return WebIO.setval({\\\"name\\\":\\\"onRowClicked\\\",\\\"scope\\\":\\\"13824187612181677842\\\",\\\"id\\\":\\\"ob_52\\\",\\\"type\\\":\\\"observable\\\"},x)}),\\\"maxConcurrentDatasourceRequests\\\":1,\\\"columnDefs\\\":[{\\\"filter\\\":false,\\\"editable\\\":false,\\\"headerTooltip\\\":\\\"\\\",\\\"field\\\":\\\"__row__\\\",\\\"headerName\\\":\\\"Row\\\",\\\"sortable\\\":false,\\\"type\\\":\\\"numericColumn\\\",\\\"cellRenderer\\\":\\\"rowNumberRenderer\\\",\\\"resizable\\\":true},{\\\"filter\\\":false,\\\"editable\\\":false,\\\"headerTooltip\\\":\\\"Date\\\",\\\"field\\\":\\\"date\\\",\\\"headerName\\\":\\\"date\\\",\\\"sortable\\\":false,\\\"type\\\":null,\\\"resizable\\\":true},{\\\"filter\\\":false,\\\"editable\\\":false,\\\"headerTooltip\\\":\\\"String\\\",\\\"field\\\":\\\"state\\\",\\\"headerName\\\":\\\"state\\\",\\\"sortable\\\":false,\\\"type\\\":null,\\\"resizable\\\":true},{\\\"filter\\\":false,\\\"editable\\\":false,\\\"headerTooltip\\\":\\\"String\\\",\\\"field\\\":\\\"county\\\",\\\"headerName\\\":\\\"county\\\",\\\"sortable\\\":false,\\\"type\\\":null,\\\"resizable\\\":true},{\\\"filter\\\":false,\\\"editable\\\":false,\\\"headerTooltip\\\":\\\"String\\\",\\\"field\\\":\\\"fips\\\",\\\"headerName\\\":\\\"fips\\\",\\\"sortable\\\":false,\\\"type\\\":null,\\\"resizable\\\":true},{\\\"filter\\\":false,\\\"editable\\\":false,\\\"headerTooltip\\\":\\\"Int64\\\",\\\"field\\\":\\\"cases\\\",\\\"headerName\\\":\\\"cases\\\",\\\"sortable\\\":false,\\\"type\\\":\\\"numericColumn\\\",\\\"resizable\\\":true},{\\\"filter\\\":false,\\\"editable\\\":false,\\\"headerTooltip\\\":\\\"Float64\\\",\\\"field\\\":\\\"casesMA\\\",\\\"headerName\\\":\\\"casesMA\\\",\\\"sortable\\\":false,\\\"type\\\":\\\"numericColumn\\\",\\\"resizable\\\":true},{\\\"filter\\\":false,\\\"editable\\\":false,\\\"headerTooltip\\\":\\\"Float64\\\",\\\"field\\\":\\\"pch_casesMA\\\",\\\"headerName\\\":\\\"pch_casesMA\\\",\\\"sortable\\\":false,\\\"type\\\":\\\"numericColumn\\\",\\\"resizable\\\":true},{\\\"filter\\\":false,\\\"editable\\\":false,\\\"headerTooltip\\\":\\\"Int64\\\",\\\"field\\\":\\\"casesIncrease\\\",\\\"headerName\\\":\\\"casesIncrease\\\",\\\"sortable\\\":false,\\\"type\\\":\\\"numericColumn\\\",\\\"resizable\\\":true},{\\\"filter\\\":false,\\\"editable\\\":false,\\\"headerTooltip\\\":\\\"Float64\\\",\\\"field\\\":\\\"casesIncreaseMA\\\",\\\"headerName\\\":\\\"casesIncreaseMA\\\",\\\"sortable\\\":false,\\\"type\\\":\\\"numericColumn\\\",\\\"resizable\\\":true},{\\\"filter\\\":false,\\\"editable\\\":false,\\\"headerTooltip\\\":\\\"Float64\\\",\\\"field\\\":\\\"pch_casesIncreaseMA\\\",\\\"headerName\\\":\\\"pch_casesIncreaseMA\\\",\\\"sortable\\\":false,\\\"type\\\":\\\"numericColumn\\\",\\\"resizable\\\":true},{\\\"filter\\\":false,\\\"editable\\\":false,\\\"headerTooltip\\\":\\\"Int64\\\",\\\"field\\\":\\\"deaths\\\",\\\"headerName\\\":\\\"deaths\\\",\\\"sortable\\\":false,\\\"type\\\":\\\"numericColumn\\\",\\\"resizable\\\":true},{\\\"filter\\\":false,\\\"editable\\\":false,\\\"headerTooltip\\\":\\\"Float64\\\",\\\"field\\\":\\\"deathsMA\\\",\\\"headerName\\\":\\\"deathsMA\\\",\\\"sortable\\\":false,\\\"type\\\":\\\"numericColumn\\\",\\\"resizable\\\":true},{\\\"filter\\\":false,\\\"editable\\\":false,\\\"headerTooltip\\\":\\\"Float64\\\",\\\"field\\\":\\\"pch_deathsMA\\\",\\\"headerName\\\":\\\"pch_deathsMA\\\",\\\"sortable\\\":false,\\\"type\\\":\\\"numericColumn\\\",\\\"resizable\\\":true},{\\\"filter\\\":false,\\\"editable\\\":false,\\\"headerTooltip\\\":\\\"Int64\\\",\\\"field\\\":\\\"deathsIncrease\\\",\\\"headerName\\\":\\\"deathsIncrease\\\",\\\"sortable\\\":false,\\\"type\\\":\\\"numericColumn\\\",\\\"resizable\\\":true},{\\\"filter\\\":false,\\\"editable\\\":false,\\\"headerTooltip\\\":\\\"Float64\\\",\\\"field\\\":\\\"deathsIncreaseMA\\\",\\\"headerName\\\":\\\"deathsIncreaseMA\\\",\\\"sortable\\\":false,\\\"type\\\":\\\"numericColumn\\\",\\\"resizable\\\":true},{\\\"filter\\\":false,\\\"editable\\\":false,\\\"headerTooltip\\\":\\\"Float64\\\",\\\"field\\\":\\\"pch_deathsIncreaseMA\\\",\\\"headerName\\\":\\\"pch_deathsIncreaseMA\\\",\\\"sortable\\\":false,\\\"type\\\":\\\"numericColumn\\\",\\\"resizable\\\":true},{\\\"filter\\\":false,\\\"editable\\\":false,\\\"headerTooltip\\\":\\\"Int64\\\",\\\"field\\\":\\\"population\\\",\\\"headerName\\\":\\\"population\\\",\\\"sortable\\\":false,\\\"type\\\":\\\"numericColumn\\\",\\\"resizable\\\":true}],\\\"cacheBlockSize\\\":1000,\\\"datasource\\\":{\\\"rowCount\\\":null,\\\"getRows\\\":(function (rowParams){return WebIO.setval({\\\"name\\\":\\\"rowparams\\\",\\\"scope\\\":\\\"13824187612181677842\\\",\\\"id\\\":\\\"ob_55\\\",\\\"type\\\":\\\"observable\\\"},rowParams)})},\\\"multiSortKey\\\":\\\"ctrl\\\",\\\"maxBlocksInCache\\\":100,\\\"onCellDoubleClicked\\\":(function (ev){var x={}; (ev.rowIndex!==undefined) ? (x[\\\"rowIndex\\\"]=(ev.rowIndex+1)) : undefined; (ev.colDef!==undefined) ? (x[\\\"column\\\"]=ev.colDef.headerName) : undefined; return WebIO.setval({\\\"name\\\":\\\"onCellDoubleClicked\\\",\\\"scope\\\":\\\"13824187612181677842\\\",\\\"id\\\":\\\"ob_51\\\",\\\"type\\\":\\\"observable\\\"},x)}),\\\"onCellKeyDown\\\":(function (ev){var x={}; (ev.rowIndex!==undefined) ? (x[\\\"rowIndex\\\"]=(ev.rowIndex+1)) : undefined; (ev.colDef!==undefined) ? (x[\\\"column\\\"]=ev.colDef.headerName) : undefined; return WebIO.setval({\\\"name\\\":\\\"onCellKeyDown\\\",\\\"scope\\\":\\\"13824187612181677842\\\",\\\"id\\\":\\\"ob_54\\\",\\\"type\\\":\\\"observable\\\"},x)}),\\\"onCellClicked\\\":(function (ev){var x={}; (ev.rowIndex!==undefined) ? (x[\\\"rowIndex\\\"]=(ev.rowIndex+1)) : undefined; (ev.colDef!==undefined) ? (x[\\\"column\\\"]=ev.colDef.headerName) : undefined; return WebIO.setval({\\\"name\\\":\\\"onCellClicked\\\",\\\"scope\\\":\\\"13824187612181677842\\\",\\\"id\\\":\\\"ob_50\\\",\\\"type\\\":\\\"observable\\\"},x)})}; var el=document.getElementById(\\\"grid-9dbf1804\\\"); gridOptions.components={\\\"rowNumberRenderer\\\":RowNumberRenderer}; this.table=new agGrid.Grid(el,gridOptions); gridOptions.columnApi.autoSizeColumn(\\\"__row__\\\"); return gridOptions.columnApi.autoSizeColumns([\\\"date\\\",\\\"state\\\",\\\"county\\\",\\\"fips\\\",\\\"cases\\\",\\\"casesMA\\\",\\\"pch_casesMA\\\",\\\"casesIncrease\\\",\\\"casesIncreaseMA\\\",\\\"pch_casesIncreaseMA\\\",\\\"deaths\\\",\\\"deathsMA\\\",\\\"pch_deathsMA\\\",\\\"deathsIncrease\\\",\\\"deathsIncreaseMA\\\",\\\"pch_deathsIncreaseMA\\\",\\\"population\\\"])}));\\n    (WebIO.importBlock({\\\"data\\\":[{\\\"name\\\":null,\\\"type\\\":\\\"js\\\",\\\"url\\\":\\\"\\/assetserver\\/ed80b7d691fade66e145983a11fb79e515dab825-rowNumberRenderer.js\\\"},{\\\"name\\\":null,\\\"type\\\":\\\"js\\\",\\\"url\\\":\\\"\\/assetserver\\/b9b20eb0f99819a38f7ecc433feed4bbe393c528-ag-grid.js\\\"},{\\\"name\\\":null,\\\"type\\\":\\\"css\\\",\\\"url\\\":\\\"\\/assetserver\\/5b9005a8a21f5ef6a55c77dc41516952608d0d1d-ag-grid.css\\\"},{\\\"name\\\":null,\\\"type\\\":\\\"css\\\",\\\"url\\\":\\\"\\/assetserver\\/fb7e660811b5af595641e24a03483dce78e1076e-ag-grid-light.css\\\"},{\\\"name\\\":null,\\\"type\\\":\\\"css\\\",\\\"url\\\":\\\"\\/assetserver\\/6ec54d9f8a742a6e19395fb487212fdce57da7bc-ag-grid-dark.css\\\"}],\\\"type\\\":\\\"async_block\\\"})).then((imports) => handler.apply(this, imports));\\n}\\n\"],\"observables\":{\"onCellKeyDown\":{\"sync\":false,\"id\":\"ob_54\",\"value\":null},\"onRowClicked\":{\"sync\":false,\"id\":\"ob_52\",\"value\":null},\"onCellDoubleClicked\":{\"sync\":false,\"id\":\"ob_51\",\"value\":null},\"requestedrows\":{\"sync\":false,\"id\":\"ob_56\",\"value\":{}},\"onCellClicked\":{\"sync\":false,\"id\":\"ob_50\",\"value\":null},\"onCellFocused\":{\"sync\":false,\"id\":\"ob_53\",\"value\":null},\"rowparams\":{\"sync\":true,\"id\":\"ob_55\",\"value\":{\"successCallback\":\"(function (v){return null})\",\"startRow\":1,\"endRow\":100}}}},\"children\":[{\"props\":{},\"nodeType\":\"DOM\",\"type\":\"node\",\"instanceArgs\":{\"namespace\":\"html\",\"tag\":\"div\"},\"children\":[{\"props\":{\"style\":{\"height\":\"0\",\"padding\":\"0\",\"background-color\":\"#F5F7F7\",\"color\":\"#1c1f20\",\"font-family\":\"-apple-system, BlinkMacSystemFont, \\\"Segoe UI\\\", Roboto, Oxygen-Sans, Ubuntu, Cantarell, \\\"Helvetica Neue\\\", sans-serif\"}},\"nodeType\":\"DOM\",\"type\":\"node\",\"instanceArgs\":{\"namespace\":\"html\",\"tag\":\"div\"},\"children\":[\"\"]},{\"props\":{\"id\":\"grid-9dbf1804\",\"className\":\"ag-theme-balham\",\"style\":{\"height\":\"500px\",\"width\":\"100%\"}},\"nodeType\":\"DOM\",\"type\":\"node\",\"instanceArgs\":{\"namespace\":\"html\",\"tag\":\"div\"},\"children\":[]}]}]},\n",
       "            window,\n",
       "        );\n",
       "    } else {\n",
       "        document\n",
       "            .querySelector('[data-webio-mountpoint=\"13934215520695511502\"]')\n",
       "            .innerHTML = (\n",
       "                '<div style=\"padding: 1em; background-color: #f8d6da; border: 1px solid #f5c6cb\">' +\n",
       "                '<p><strong>WebIO not detected.</strong></p>' +\n",
       "                '<p>Please read ' +\n",
       "                '<a href=\"https://juliagizmos.github.io/WebIO.jl/latest/troubleshooting/not-detected/\" target=\"_blank\">the troubleshooting guide</a> ' +\n",
       "                'for more information on how to resolve this issue.</p>' +\n",
       "                '<p><a href=\"https://juliagizmos.github.io/WebIO.jl/latest/troubleshooting/not-detected/\" target=\"_blank\">https://juliagizmos.github.io/WebIO.jl/latest/troubleshooting/not-detected/</a></p>' +\n",
       "                '</div>'\n",
       "            );\n",
       "    }\n",
       "    </script>\n",
       "</div>\n"
      ],
      "text/plain": [
       "WebIO.Scope(WebIO.Node{WebIO.DOM}(WebIO.DOM(:html, :div), Any[WebIO.Node{WebIO.DOM}(WebIO.DOM(:html, :div), Any[\"\"], Dict{Symbol,Any}(:style => Dict(\"height\" => \"0\",\"padding\" => \"0\",\"background-color\" => \"#F5F7F7\",\"color\" => \"#1c1f20\",\"font-family\" => \"-apple-system, BlinkMacSystemFont, \\\"Segoe UI\\\", Roboto, Oxygen-Sans, Ubuntu, Cantarell, \\\"Helvetica Neue\\\", sans-serif\"))), WebIO.Node{WebIO.DOM}(WebIO.DOM(:html, :div), Any[], Dict{Symbol,Any}(:id => \"grid-9dbf1804\",:className => \"ag-theme-balham\",:style => Dict(\"height\" => \"500px\",\"width\" => \"100%\")))], Dict{Symbol,Any}()), Dict{String,Tuple{Observables.AbstractObservable,Union{Nothing, Bool}}}(\"onCellKeyDown\" => (Observable{Any} with 0 listeners. Value:\n",
       "nothing, nothing),\"onRowClicked\" => (Observable{Any} with 0 listeners. Value:\n",
       "nothing, nothing),\"onCellDoubleClicked\" => (Observable{Any} with 0 listeners. Value:\n",
       "nothing, nothing),\"requestedrows\" => (Observable{JSON.Writer.JSONText} with 1 listeners. Value:\n",
       "JSON.Writer.JSONText(\"{}\"), nothing),\"onCellClicked\" => (Observable{Any} with 0 listeners. Value:\n",
       "nothing, nothing),\"onCellFocused\" => (Observable{Any} with 0 listeners. Value:\n",
       "nothing, nothing),\"rowparams\" => (Observable{Dict{String,Any}} with 1 listeners. Value:\n",
       "Dict{String,Any}(\"successCallback\" => WebIO.JSString(\"(function (v){return null})\"),\"startRow\" => 1,\"endRow\" => 100), nothing)), Set(String[]), nothing, WebIO.Asset[WebIO.Asset(\"js\", nothing, \"/home/cdaniels/.julia/packages/TableView/CxWLO/src/rowNumberRenderer.js\"), WebIO.Asset(\"js\", nothing, \"/home/cdaniels/.julia/packages/TableView/CxWLO/deps/ag-grid-22.1.0/ag-grid.js\"), WebIO.Asset(\"css\", nothing, \"/home/cdaniels/.julia/packages/TableView/CxWLO/deps/ag-grid-22.1.0/ag-grid.css\"), WebIO.Asset(\"css\", nothing, \"/home/cdaniels/.julia/packages/TableView/CxWLO/deps/ag-grid-22.1.0/ag-grid-light.css\"), WebIO.Asset(\"css\", nothing, \"/home/cdaniels/.julia/packages/TableView/CxWLO/deps/ag-grid-22.1.0/ag-grid-dark.css\")], Dict{Any,Any}(\"requestedrows\" => Any[WebIO.JSString(\"(function (val){return WebIO.getval({\\\"name\\\":\\\"rowparams\\\",\\\"scope\\\":\\\"13824187612181677842\\\",\\\"id\\\":\\\"ob_55\\\",\\\"type\\\":\\\"observable\\\"}).successCallback(val,null)})\")]), WebIO.ConnectionPool(Channel{Any}(sz_max:32,sz_curr:0), Set(WebIO.AbstractConnection[]), Base.GenericCondition{Base.AlwaysLockedST}(Base.InvasiveLinkedList{Task}(Task (runnable) @0x00007f73ed8764a0, Task (runnable) @0x00007f73ed8764a0), Base.AlwaysLockedST(1))), WebIO.JSString[WebIO.JSString(\"function () {\\n    var handler = ((function (RowNumberRenderer,agGrid){var gridOptions={\\\"onCellFocused\\\":(function (ev){var x={}; (ev.rowIndex!==undefined) ? (x[\\\"rowIndex\\\"]=(ev.rowIndex+1)) : undefined; (ev.colDef!==undefined) ? (x[\\\"column\\\"]=ev.colDef.headerName) : undefined; return WebIO.setval({\\\"name\\\":\\\"onCellFocused\\\",\\\"scope\\\":\\\"13824187612181677842\\\",\\\"id\\\":\\\"ob_53\\\",\\\"type\\\":\\\"observable\\\"},x)}),\\\"onCellValueChanged\\\":(function (){return }),\\\"rowModelType\\\":\\\"infinite\\\",\\\"onRowClicked\\\":(function (ev){var x={}; (ev.rowIndex!==undefined) ? (x[\\\"rowIndex\\\"]=(ev.rowIndex+1)) : undefined; (ev.colDef!==undefined) ? (x[\\\"column\\\"]=ev.colDef.headerName) : undefined; return WebIO.setval({\\\"name\\\":\\\"onRowClicked\\\",\\\"scope\\\":\\\"13824187612181677842\\\",\\\"id\\\":\\\"ob_52\\\",\\\"type\\\":\\\"observable\\\"},x)}),\\\"maxConcurrentDatasourceRequests\\\":1,\\\"columnDefs\\\":[{\\\"filter\\\":false,\\\"editable\\\":false,\\\"headerTooltip\\\":\\\"\\\",\\\"field\\\":\\\"__row__\\\",\\\"headerName\\\":\\\"Row\\\",\\\"sortable\\\":false,\\\"type\\\":\\\"numericColumn\\\",\\\"cellRenderer\\\":\\\"rowNumberRenderer\\\",\\\"resizable\\\":true},{\\\"filter\\\":false,\\\"editable\\\":false,\\\"headerTooltip\\\":\\\"Date\\\",\\\"field\\\":\\\"date\\\",\\\"headerName\\\":\\\"date\\\",\\\"sortable\\\":false,\\\"type\\\":null,\\\"resizable\\\":true},{\\\"filter\\\":false,\\\"editable\\\":false,\\\"headerTooltip\\\":\\\"String\\\",\\\"field\\\":\\\"state\\\",\\\"headerName\\\":\\\"state\\\",\\\"sortable\\\":false,\\\"type\\\":null,\\\"resizable\\\":true},{\\\"filter\\\":false,\\\"editable\\\":false,\\\"headerTooltip\\\":\\\"String\\\",\\\"field\\\":\\\"county\\\",\\\"headerName\\\":\\\"county\\\",\\\"sortable\\\":false,\\\"type\\\":null,\\\"resizable\\\":true},{\\\"filter\\\":false,\\\"editable\\\":false,\\\"headerTooltip\\\":\\\"String\\\",\\\"field\\\":\\\"fips\\\",\\\"headerName\\\":\\\"fips\\\",\\\"sortable\\\":false,\\\"type\\\":null,\\\"resizable\\\":true},{\\\"filter\\\":false,\\\"editable\\\":false,\\\"headerTooltip\\\":\\\"Int64\\\",\\\"field\\\":\\\"cases\\\",\\\"headerName\\\":\\\"cases\\\",\\\"sortable\\\":false,\\\"type\\\":\\\"numericColumn\\\",\\\"resizable\\\":true},{\\\"filter\\\":false,\\\"editable\\\":false,\\\"headerTooltip\\\":\\\"Float64\\\",\\\"field\\\":\\\"casesMA\\\",\\\"headerName\\\":\\\"casesMA\\\",\\\"sortable\\\":false,\\\"type\\\":\\\"numericColumn\\\",\\\"resizable\\\":true},{\\\"filter\\\":false,\\\"editable\\\":false,\\\"headerTooltip\\\":\\\"Float64\\\",\\\"field\\\":\\\"pch_casesMA\\\",\\\"headerName\\\":\\\"pch_casesMA\\\",\\\"sortable\\\":false,\\\"type\\\":\\\"numericColumn\\\",\\\"resizable\\\":true},{\\\"filter\\\":false,\\\"editable\\\":false,\\\"headerTooltip\\\":\\\"Int64\\\",\\\"field\\\":\\\"casesIncrease\\\",\\\"headerName\\\":\\\"casesIncrease\\\",\\\"sortable\\\":false,\\\"type\\\":\\\"numericColumn\\\",\\\"resizable\\\":true},{\\\"filter\\\":false,\\\"editable\\\":false,\\\"headerTooltip\\\":\\\"Float64\\\",\\\"field\\\":\\\"casesIncreaseMA\\\",\\\"headerName\\\":\\\"casesIncreaseMA\\\",\\\"sortable\\\":false,\\\"type\\\":\\\"numericColumn\\\",\\\"resizable\\\":true},{\\\"filter\\\":false,\\\"editable\\\":false,\\\"headerTooltip\\\":\\\"Float64\\\",\\\"field\\\":\\\"pch_casesIncreaseMA\\\",\\\"headerName\\\":\\\"pch_casesIncreaseMA\\\",\\\"sortable\\\":false,\\\"type\\\":\\\"numericColumn\\\",\\\"resizable\\\":true},{\\\"filter\\\":false,\\\"editable\\\":false,\\\"headerTooltip\\\":\\\"Int64\\\",\\\"field\\\":\\\"deaths\\\",\\\"headerName\\\":\\\"deaths\\\",\\\"sortable\\\":false,\\\"type\\\":\\\"numericColumn\\\",\\\"resizable\\\":true},{\\\"filter\\\":false,\\\"editable\\\":false,\\\"headerTooltip\\\":\\\"Float64\\\",\\\"field\\\":\\\"deathsMA\\\",\\\"headerName\\\":\\\"deathsMA\\\",\\\"sortable\\\":false,\\\"type\\\":\\\"numericColumn\\\",\\\"resizable\\\":true},{\\\"filter\\\":false,\\\"editable\\\":false,\\\"headerTooltip\\\":\\\"Float64\\\",\\\"field\\\":\\\"pch_deathsMA\\\",\\\"headerName\\\":\\\"pch_deathsMA\\\",\\\"sortable\\\":false,\\\"type\\\":\\\"numericColumn\\\",\\\"resizable\\\":true},{\\\"filter\\\":false,\\\"editable\\\":false,\\\"headerTooltip\\\":\\\"Int64\\\",\\\"field\\\":\\\"deathsIncrease\\\",\\\"headerName\\\":\\\"deathsIncrease\\\",\\\"sortable\\\":false,\\\"type\\\":\\\"numericColumn\\\",\\\"resizable\\\":true},{\\\"filter\\\":false,\\\"editable\\\":false,\\\"headerTooltip\\\":\\\"Float64\\\",\\\"field\\\":\\\"deathsIncreaseMA\\\",\\\"headerName\\\":\\\"deathsIncreaseMA\\\",\\\"sortable\\\":false,\\\"type\\\":\\\"numericColumn\\\",\\\"resizable\\\":true},{\\\"filter\\\":false,\\\"editable\\\":false,\\\"headerTooltip\\\":\\\"Float64\\\",\\\"field\\\":\\\"pch_deathsIncreaseMA\\\",\\\"headerName\\\":\\\"pch_deathsIncreaseMA\\\",\\\"sortable\\\":false,\\\"type\\\":\\\"numericColumn\\\",\\\"resizable\\\":true},{\\\"filter\\\":false,\\\"editable\\\":false,\\\"headerTooltip\\\":\\\"Int64\\\",\\\"field\\\":\\\"population\\\",\\\"headerName\\\":\\\"population\\\",\\\"sortable\\\":false,\\\"type\\\":\\\"numericColumn\\\",\\\"resizable\\\":true}],\\\"cacheBlockSize\\\":1000,\\\"datasource\\\":{\\\"rowCount\\\":null,\\\"getRows\\\":(function (rowParams){return WebIO.setval({\\\"name\\\":\\\"rowparams\\\",\\\"scope\\\":\\\"13824187612181677842\\\",\\\"id\\\":\\\"ob_55\\\",\\\"type\\\":\\\"observable\\\"},rowParams)})},\\\"multiSortKey\\\":\\\"ctrl\\\",\\\"maxBlocksInCache\\\":100,\\\"onCellDoubleClicked\\\":(function (ev){var x={}; (ev.rowIndex!==undefined) ? (x[\\\"rowIndex\\\"]=(ev.rowIndex+1)) : undefined; (ev.colDef!==undefined) ? (x[\\\"column\\\"]=ev.colDef.headerName) : undefined; return WebIO.setval({\\\"name\\\":\\\"onCellDoubleClicked\\\",\\\"scope\\\":\\\"13824187612181677842\\\",\\\"id\\\":\\\"ob_51\\\",\\\"type\\\":\\\"observable\\\"},x)}),\\\"onCellKeyDown\\\":(function (ev){var x={}; (ev.rowIndex!==undefined) ? (x[\\\"rowIndex\\\"]=(ev.rowIndex+1)) : undefined; (ev.colDef!==undefined) ? (x[\\\"column\\\"]=ev.colDef.headerName) : undefined; return WebIO.setval({\\\"name\\\":\\\"onCellKeyDown\\\",\\\"scope\\\":\\\"13824187612181677842\\\",\\\"id\\\":\\\"ob_54\\\",\\\"type\\\":\\\"observable\\\"},x)}),\\\"onCellClicked\\\":(function (ev){var x={}; (ev.rowIndex!==undefined) ? (x[\\\"rowIndex\\\"]=(ev.rowIndex+1)) : undefined; (ev.colDef!==undefined) ? (x[\\\"column\\\"]=ev.colDef.headerName) : undefined; return WebIO.setval({\\\"name\\\":\\\"onCellClicked\\\",\\\"scope\\\":\\\"13824187612181677842\\\",\\\"id\\\":\\\"ob_50\\\",\\\"type\\\":\\\"observable\\\"},x)})}; var el=document.getElementById(\\\"grid-9dbf1804\\\"); gridOptions.components={\\\"rowNumberRenderer\\\":RowNumberRenderer}; this.table=new agGrid.Grid(el,gridOptions); gridOptions.columnApi.autoSizeColumn(\\\"__row__\\\"); return gridOptions.columnApi.autoSizeColumns([\\\"date\\\",\\\"state\\\",\\\"county\\\",\\\"fips\\\",\\\"cases\\\",\\\"casesMA\\\",\\\"pch_casesMA\\\",\\\"casesIncrease\\\",\\\"casesIncreaseMA\\\",\\\"pch_casesIncreaseMA\\\",\\\"deaths\\\",\\\"deathsMA\\\",\\\"pch_deathsMA\\\",\\\"deathsIncrease\\\",\\\"deathsIncreaseMA\\\",\\\"pch_deathsIncreaseMA\\\",\\\"population\\\"])}));\\n    (WebIO.importBlock({\\\"data\\\":[{\\\"name\\\":null,\\\"type\\\":\\\"js\\\",\\\"url\\\":\\\"/assetserver/ed80b7d691fade66e145983a11fb79e515dab825-rowNumberRenderer.js\\\"},{\\\"name\\\":null,\\\"type\\\":\\\"js\\\",\\\"url\\\":\\\"/assetserver/b9b20eb0f99819a38f7ecc433feed4bbe393c528-ag-grid.js\\\"},{\\\"name\\\":null,\\\"type\\\":\\\"css\\\",\\\"url\\\":\\\"/assetserver/5b9005a8a21f5ef6a55c77dc41516952608d0d1d-ag-grid.css\\\"},{\\\"name\\\":null,\\\"type\\\":\\\"css\\\",\\\"url\\\":\\\"/assetserver/fb7e660811b5af595641e24a03483dce78e1076e-ag-grid-light.css\\\"},{\\\"name\\\":null,\\\"type\\\":\\\"css\\\",\\\"url\\\":\\\"/assetserver/6ec54d9f8a742a6e19395fb487212fdce57da7bc-ag-grid-dark.css\\\"}],\\\"type\\\":\\\"async_block\\\"})).then((imports) => handler.apply(this, imports));\\n}\\n\")])"
      ]
     },
     "execution_count": 12,
     "metadata": {
      "application/vnd.webio.node+json": {
       "kernelId": "f76cff0d-71eb-4fcb-8f14-2113642ca679"
      }
     },
     "output_type": "execute_result"
    }
   ],
   "source": [
    "@time dfcd = aggregate_by_county(dfc)\n",
    "@tbl dfcd"
   ]
  },
  {
   "cell_type": "code",
   "execution_count": 13,
   "metadata": {
    "scrolled": false
   },
   "outputs": [
    {
     "name": "stdout",
     "output_type": "stream",
     "text": [
      "  0.131293 seconds (423.99 k allocations: 21.621 MiB, 8.86% gc time)\n"
     ]
    },
    {
     "data": {
      "application/vnd.webio.node+json": {
       "children": [
        {
         "children": [
          {
           "children": [
            ""
           ],
           "instanceArgs": {
            "namespace": "html",
            "tag": "div"
           },
           "nodeType": "DOM",
           "props": {
            "style": {
             "background-color": "#F5F7F7",
             "color": "#1c1f20",
             "font-family": "-apple-system, BlinkMacSystemFont, \"Segoe UI\", Roboto, Oxygen-Sans, Ubuntu, Cantarell, \"Helvetica Neue\", sans-serif",
             "height": "0",
             "padding": "0"
            }
           },
           "type": "node"
          },
          {
           "children": [],
           "instanceArgs": {
            "namespace": "html",
            "tag": "div"
           },
           "nodeType": "DOM",
           "props": {
            "className": "ag-theme-balham",
            "id": "grid-9f9ffc7e",
            "style": {
             "height": "500px",
             "width": "100%"
            }
           },
           "type": "node"
          }
         ],
         "instanceArgs": {
          "namespace": "html",
          "tag": "div"
         },
         "nodeType": "DOM",
         "props": {},
         "type": "node"
        }
       ],
       "instanceArgs": {
        "handlers": {
         "requestedrows": [
          "(function (val){return WebIO.getval({\"name\":\"rowparams\",\"scope\":\"17557472944741869179\",\"id\":\"ob_62\",\"type\":\"observable\"}).successCallback(val,null)})"
         ]
        },
        "id": "17557472944741869179",
        "imports": {
         "data": [
          {
           "name": null,
           "type": "js",
           "url": "/assetserver/ed80b7d691fade66e145983a11fb79e515dab825-rowNumberRenderer.js"
          },
          {
           "name": null,
           "type": "js",
           "url": "/assetserver/b9b20eb0f99819a38f7ecc433feed4bbe393c528-ag-grid.js"
          },
          {
           "name": null,
           "type": "css",
           "url": "/assetserver/5b9005a8a21f5ef6a55c77dc41516952608d0d1d-ag-grid.css"
          },
          {
           "name": null,
           "type": "css",
           "url": "/assetserver/fb7e660811b5af595641e24a03483dce78e1076e-ag-grid-light.css"
          },
          {
           "name": null,
           "type": "css",
           "url": "/assetserver/6ec54d9f8a742a6e19395fb487212fdce57da7bc-ag-grid-dark.css"
          }
         ],
         "type": "async_block"
        },
        "mount_callbacks": [
         "function () {\n    var handler = ((function (RowNumberRenderer,agGrid){var gridOptions={\"onCellFocused\":(function (ev){var x={}; (ev.rowIndex!==undefined) ? (x[\"rowIndex\"]=(ev.rowIndex+1)) : undefined; (ev.colDef!==undefined) ? (x[\"column\"]=ev.colDef.headerName) : undefined; return WebIO.setval({\"name\":\"onCellFocused\",\"scope\":\"17557472944741869179\",\"id\":\"ob_60\",\"type\":\"observable\"},x)}),\"onCellValueChanged\":(function (){return }),\"rowModelType\":\"infinite\",\"onRowClicked\":(function (ev){var x={}; (ev.rowIndex!==undefined) ? (x[\"rowIndex\"]=(ev.rowIndex+1)) : undefined; (ev.colDef!==undefined) ? (x[\"column\"]=ev.colDef.headerName) : undefined; return WebIO.setval({\"name\":\"onRowClicked\",\"scope\":\"17557472944741869179\",\"id\":\"ob_59\",\"type\":\"observable\"},x)}),\"maxConcurrentDatasourceRequests\":1,\"columnDefs\":[{\"filter\":false,\"editable\":false,\"headerTooltip\":\"\",\"field\":\"__row__\",\"headerName\":\"Row\",\"sortable\":false,\"type\":\"numericColumn\",\"cellRenderer\":\"rowNumberRenderer\",\"resizable\":true},{\"filter\":false,\"editable\":false,\"headerTooltip\":\"String\",\"field\":\"county\",\"headerName\":\"county\",\"sortable\":false,\"type\":null,\"resizable\":true},{\"filter\":false,\"editable\":false,\"headerTooltip\":\"String\",\"field\":\"state\",\"headerName\":\"state\",\"sortable\":false,\"type\":null,\"resizable\":true},{\"filter\":false,\"editable\":false,\"headerTooltip\":\"Int64\",\"field\":\"population\",\"headerName\":\"population\",\"sortable\":false,\"type\":\"numericColumn\",\"resizable\":true},{\"filter\":false,\"editable\":false,\"headerTooltip\":\"Int64\",\"field\":\"cases\",\"headerName\":\"cases\",\"sortable\":false,\"type\":\"numericColumn\",\"resizable\":true},{\"filter\":false,\"editable\":false,\"headerTooltip\":\"Float64\",\"field\":\"casesMA\",\"headerName\":\"casesMA\",\"sortable\":false,\"type\":\"numericColumn\",\"resizable\":true},{\"filter\":false,\"editable\":false,\"headerTooltip\":\"Float64\",\"field\":\"pch_casesMA\",\"headerName\":\"pch_casesMA\",\"sortable\":false,\"type\":\"numericColumn\",\"resizable\":true},{\"filter\":false,\"editable\":false,\"headerTooltip\":\"Float64\",\"field\":\"casesIncreaseMA\",\"headerName\":\"casesIncreaseMA\",\"sortable\":false,\"type\":\"numericColumn\",\"resizable\":true},{\"filter\":false,\"editable\":false,\"headerTooltip\":\"Float64\",\"field\":\"pch_casesIncreaseMA\",\"headerName\":\"pch_casesIncreaseMA\",\"sortable\":false,\"type\":\"numericColumn\",\"resizable\":true}],\"cacheBlockSize\":1000,\"datasource\":{\"rowCount\":null,\"getRows\":(function (rowParams){return WebIO.setval({\"name\":\"rowparams\",\"scope\":\"17557472944741869179\",\"id\":\"ob_62\",\"type\":\"observable\"},rowParams)})},\"multiSortKey\":\"ctrl\",\"maxBlocksInCache\":100,\"onCellDoubleClicked\":(function (ev){var x={}; (ev.rowIndex!==undefined) ? (x[\"rowIndex\"]=(ev.rowIndex+1)) : undefined; (ev.colDef!==undefined) ? (x[\"column\"]=ev.colDef.headerName) : undefined; return WebIO.setval({\"name\":\"onCellDoubleClicked\",\"scope\":\"17557472944741869179\",\"id\":\"ob_58\",\"type\":\"observable\"},x)}),\"onCellKeyDown\":(function (ev){var x={}; (ev.rowIndex!==undefined) ? (x[\"rowIndex\"]=(ev.rowIndex+1)) : undefined; (ev.colDef!==undefined) ? (x[\"column\"]=ev.colDef.headerName) : undefined; return WebIO.setval({\"name\":\"onCellKeyDown\",\"scope\":\"17557472944741869179\",\"id\":\"ob_61\",\"type\":\"observable\"},x)}),\"onCellClicked\":(function (ev){var x={}; (ev.rowIndex!==undefined) ? (x[\"rowIndex\"]=(ev.rowIndex+1)) : undefined; (ev.colDef!==undefined) ? (x[\"column\"]=ev.colDef.headerName) : undefined; return WebIO.setval({\"name\":\"onCellClicked\",\"scope\":\"17557472944741869179\",\"id\":\"ob_57\",\"type\":\"observable\"},x)})}; var el=document.getElementById(\"grid-9f9ffc7e\"); gridOptions.components={\"rowNumberRenderer\":RowNumberRenderer}; this.table=new agGrid.Grid(el,gridOptions); gridOptions.columnApi.autoSizeColumn(\"__row__\"); return gridOptions.columnApi.autoSizeColumns([\"county\",\"state\",\"population\",\"cases\",\"casesMA\",\"pch_casesMA\",\"casesIncreaseMA\",\"pch_casesIncreaseMA\"])}));\n    (WebIO.importBlock({\"data\":[{\"name\":null,\"type\":\"js\",\"url\":\"/assetserver/ed80b7d691fade66e145983a11fb79e515dab825-rowNumberRenderer.js\"},{\"name\":null,\"type\":\"js\",\"url\":\"/assetserver/b9b20eb0f99819a38f7ecc433feed4bbe393c528-ag-grid.js\"},{\"name\":null,\"type\":\"css\",\"url\":\"/assetserver/5b9005a8a21f5ef6a55c77dc41516952608d0d1d-ag-grid.css\"},{\"name\":null,\"type\":\"css\",\"url\":\"/assetserver/fb7e660811b5af595641e24a03483dce78e1076e-ag-grid-light.css\"},{\"name\":null,\"type\":\"css\",\"url\":\"/assetserver/6ec54d9f8a742a6e19395fb487212fdce57da7bc-ag-grid-dark.css\"}],\"type\":\"async_block\"})).then((imports) => handler.apply(this, imports));\n}\n"
        ],
        "observables": {
         "onCellClicked": {
          "id": "ob_57",
          "sync": false,
          "value": null
         },
         "onCellDoubleClicked": {
          "id": "ob_58",
          "sync": false,
          "value": null
         },
         "onCellFocused": {
          "id": "ob_60",
          "sync": false,
          "value": null
         },
         "onCellKeyDown": {
          "id": "ob_61",
          "sync": false,
          "value": null
         },
         "onRowClicked": {
          "id": "ob_59",
          "sync": false,
          "value": null
         },
         "requestedrows": {
          "id": "ob_63",
          "sync": false,
          "value": {}
         },
         "rowparams": {
          "id": "ob_62",
          "sync": true,
          "value": {
           "endRow": 100,
           "startRow": 1,
           "successCallback": "(function (v){return null})"
          }
         }
        },
        "systemjs_options": null
       },
       "nodeType": "Scope",
       "props": {},
       "type": "node"
      },
      "text/html": [
       "<div\n",
       "    class=\"webio-mountpoint\"\n",
       "    data-webio-mountpoint=\"18259966442427372885\"\n",
       ">\n",
       "    <script>\n",
       "    if (window.require && require.defined && require.defined(\"nbextensions/webio-jupyter-notebook\")) {\n",
       "        console.log(\"Jupyter WebIO extension detected, not mounting.\");\n",
       "    } else if (window.WebIO) {\n",
       "        WebIO.mount(\n",
       "            document.querySelector('[data-webio-mountpoint=\"18259966442427372885\"]'),\n",
       "            {\"props\":{},\"nodeType\":\"Scope\",\"type\":\"node\",\"instanceArgs\":{\"imports\":{\"data\":[{\"name\":null,\"type\":\"js\",\"url\":\"\\/assetserver\\/ed80b7d691fade66e145983a11fb79e515dab825-rowNumberRenderer.js\"},{\"name\":null,\"type\":\"js\",\"url\":\"\\/assetserver\\/b9b20eb0f99819a38f7ecc433feed4bbe393c528-ag-grid.js\"},{\"name\":null,\"type\":\"css\",\"url\":\"\\/assetserver\\/5b9005a8a21f5ef6a55c77dc41516952608d0d1d-ag-grid.css\"},{\"name\":null,\"type\":\"css\",\"url\":\"\\/assetserver\\/fb7e660811b5af595641e24a03483dce78e1076e-ag-grid-light.css\"},{\"name\":null,\"type\":\"css\",\"url\":\"\\/assetserver\\/6ec54d9f8a742a6e19395fb487212fdce57da7bc-ag-grid-dark.css\"}],\"type\":\"async_block\"},\"id\":\"17557472944741869179\",\"handlers\":{\"requestedrows\":[\"(function (val){return WebIO.getval({\\\"name\\\":\\\"rowparams\\\",\\\"scope\\\":\\\"17557472944741869179\\\",\\\"id\\\":\\\"ob_62\\\",\\\"type\\\":\\\"observable\\\"}).successCallback(val,null)})\"]},\"systemjs_options\":null,\"mount_callbacks\":[\"function () {\\n    var handler = ((function (RowNumberRenderer,agGrid){var gridOptions={\\\"onCellFocused\\\":(function (ev){var x={}; (ev.rowIndex!==undefined) ? (x[\\\"rowIndex\\\"]=(ev.rowIndex+1)) : undefined; (ev.colDef!==undefined) ? (x[\\\"column\\\"]=ev.colDef.headerName) : undefined; return WebIO.setval({\\\"name\\\":\\\"onCellFocused\\\",\\\"scope\\\":\\\"17557472944741869179\\\",\\\"id\\\":\\\"ob_60\\\",\\\"type\\\":\\\"observable\\\"},x)}),\\\"onCellValueChanged\\\":(function (){return }),\\\"rowModelType\\\":\\\"infinite\\\",\\\"onRowClicked\\\":(function (ev){var x={}; (ev.rowIndex!==undefined) ? (x[\\\"rowIndex\\\"]=(ev.rowIndex+1)) : undefined; (ev.colDef!==undefined) ? (x[\\\"column\\\"]=ev.colDef.headerName) : undefined; return WebIO.setval({\\\"name\\\":\\\"onRowClicked\\\",\\\"scope\\\":\\\"17557472944741869179\\\",\\\"id\\\":\\\"ob_59\\\",\\\"type\\\":\\\"observable\\\"},x)}),\\\"maxConcurrentDatasourceRequests\\\":1,\\\"columnDefs\\\":[{\\\"filter\\\":false,\\\"editable\\\":false,\\\"headerTooltip\\\":\\\"\\\",\\\"field\\\":\\\"__row__\\\",\\\"headerName\\\":\\\"Row\\\",\\\"sortable\\\":false,\\\"type\\\":\\\"numericColumn\\\",\\\"cellRenderer\\\":\\\"rowNumberRenderer\\\",\\\"resizable\\\":true},{\\\"filter\\\":false,\\\"editable\\\":false,\\\"headerTooltip\\\":\\\"String\\\",\\\"field\\\":\\\"county\\\",\\\"headerName\\\":\\\"county\\\",\\\"sortable\\\":false,\\\"type\\\":null,\\\"resizable\\\":true},{\\\"filter\\\":false,\\\"editable\\\":false,\\\"headerTooltip\\\":\\\"String\\\",\\\"field\\\":\\\"state\\\",\\\"headerName\\\":\\\"state\\\",\\\"sortable\\\":false,\\\"type\\\":null,\\\"resizable\\\":true},{\\\"filter\\\":false,\\\"editable\\\":false,\\\"headerTooltip\\\":\\\"Int64\\\",\\\"field\\\":\\\"population\\\",\\\"headerName\\\":\\\"population\\\",\\\"sortable\\\":false,\\\"type\\\":\\\"numericColumn\\\",\\\"resizable\\\":true},{\\\"filter\\\":false,\\\"editable\\\":false,\\\"headerTooltip\\\":\\\"Int64\\\",\\\"field\\\":\\\"cases\\\",\\\"headerName\\\":\\\"cases\\\",\\\"sortable\\\":false,\\\"type\\\":\\\"numericColumn\\\",\\\"resizable\\\":true},{\\\"filter\\\":false,\\\"editable\\\":false,\\\"headerTooltip\\\":\\\"Float64\\\",\\\"field\\\":\\\"casesMA\\\",\\\"headerName\\\":\\\"casesMA\\\",\\\"sortable\\\":false,\\\"type\\\":\\\"numericColumn\\\",\\\"resizable\\\":true},{\\\"filter\\\":false,\\\"editable\\\":false,\\\"headerTooltip\\\":\\\"Float64\\\",\\\"field\\\":\\\"pch_casesMA\\\",\\\"headerName\\\":\\\"pch_casesMA\\\",\\\"sortable\\\":false,\\\"type\\\":\\\"numericColumn\\\",\\\"resizable\\\":true},{\\\"filter\\\":false,\\\"editable\\\":false,\\\"headerTooltip\\\":\\\"Float64\\\",\\\"field\\\":\\\"casesIncreaseMA\\\",\\\"headerName\\\":\\\"casesIncreaseMA\\\",\\\"sortable\\\":false,\\\"type\\\":\\\"numericColumn\\\",\\\"resizable\\\":true},{\\\"filter\\\":false,\\\"editable\\\":false,\\\"headerTooltip\\\":\\\"Float64\\\",\\\"field\\\":\\\"pch_casesIncreaseMA\\\",\\\"headerName\\\":\\\"pch_casesIncreaseMA\\\",\\\"sortable\\\":false,\\\"type\\\":\\\"numericColumn\\\",\\\"resizable\\\":true}],\\\"cacheBlockSize\\\":1000,\\\"datasource\\\":{\\\"rowCount\\\":null,\\\"getRows\\\":(function (rowParams){return WebIO.setval({\\\"name\\\":\\\"rowparams\\\",\\\"scope\\\":\\\"17557472944741869179\\\",\\\"id\\\":\\\"ob_62\\\",\\\"type\\\":\\\"observable\\\"},rowParams)})},\\\"multiSortKey\\\":\\\"ctrl\\\",\\\"maxBlocksInCache\\\":100,\\\"onCellDoubleClicked\\\":(function (ev){var x={}; (ev.rowIndex!==undefined) ? (x[\\\"rowIndex\\\"]=(ev.rowIndex+1)) : undefined; (ev.colDef!==undefined) ? (x[\\\"column\\\"]=ev.colDef.headerName) : undefined; return WebIO.setval({\\\"name\\\":\\\"onCellDoubleClicked\\\",\\\"scope\\\":\\\"17557472944741869179\\\",\\\"id\\\":\\\"ob_58\\\",\\\"type\\\":\\\"observable\\\"},x)}),\\\"onCellKeyDown\\\":(function (ev){var x={}; (ev.rowIndex!==undefined) ? (x[\\\"rowIndex\\\"]=(ev.rowIndex+1)) : undefined; (ev.colDef!==undefined) ? (x[\\\"column\\\"]=ev.colDef.headerName) : undefined; return WebIO.setval({\\\"name\\\":\\\"onCellKeyDown\\\",\\\"scope\\\":\\\"17557472944741869179\\\",\\\"id\\\":\\\"ob_61\\\",\\\"type\\\":\\\"observable\\\"},x)}),\\\"onCellClicked\\\":(function (ev){var x={}; (ev.rowIndex!==undefined) ? (x[\\\"rowIndex\\\"]=(ev.rowIndex+1)) : undefined; (ev.colDef!==undefined) ? (x[\\\"column\\\"]=ev.colDef.headerName) : undefined; return WebIO.setval({\\\"name\\\":\\\"onCellClicked\\\",\\\"scope\\\":\\\"17557472944741869179\\\",\\\"id\\\":\\\"ob_57\\\",\\\"type\\\":\\\"observable\\\"},x)})}; var el=document.getElementById(\\\"grid-9f9ffc7e\\\"); gridOptions.components={\\\"rowNumberRenderer\\\":RowNumberRenderer}; this.table=new agGrid.Grid(el,gridOptions); gridOptions.columnApi.autoSizeColumn(\\\"__row__\\\"); return gridOptions.columnApi.autoSizeColumns([\\\"county\\\",\\\"state\\\",\\\"population\\\",\\\"cases\\\",\\\"casesMA\\\",\\\"pch_casesMA\\\",\\\"casesIncreaseMA\\\",\\\"pch_casesIncreaseMA\\\"])}));\\n    (WebIO.importBlock({\\\"data\\\":[{\\\"name\\\":null,\\\"type\\\":\\\"js\\\",\\\"url\\\":\\\"\\/assetserver\\/ed80b7d691fade66e145983a11fb79e515dab825-rowNumberRenderer.js\\\"},{\\\"name\\\":null,\\\"type\\\":\\\"js\\\",\\\"url\\\":\\\"\\/assetserver\\/b9b20eb0f99819a38f7ecc433feed4bbe393c528-ag-grid.js\\\"},{\\\"name\\\":null,\\\"type\\\":\\\"css\\\",\\\"url\\\":\\\"\\/assetserver\\/5b9005a8a21f5ef6a55c77dc41516952608d0d1d-ag-grid.css\\\"},{\\\"name\\\":null,\\\"type\\\":\\\"css\\\",\\\"url\\\":\\\"\\/assetserver\\/fb7e660811b5af595641e24a03483dce78e1076e-ag-grid-light.css\\\"},{\\\"name\\\":null,\\\"type\\\":\\\"css\\\",\\\"url\\\":\\\"\\/assetserver\\/6ec54d9f8a742a6e19395fb487212fdce57da7bc-ag-grid-dark.css\\\"}],\\\"type\\\":\\\"async_block\\\"})).then((imports) => handler.apply(this, imports));\\n}\\n\"],\"observables\":{\"onCellKeyDown\":{\"sync\":false,\"id\":\"ob_61\",\"value\":null},\"onRowClicked\":{\"sync\":false,\"id\":\"ob_59\",\"value\":null},\"onCellDoubleClicked\":{\"sync\":false,\"id\":\"ob_58\",\"value\":null},\"requestedrows\":{\"sync\":false,\"id\":\"ob_63\",\"value\":{}},\"onCellClicked\":{\"sync\":false,\"id\":\"ob_57\",\"value\":null},\"onCellFocused\":{\"sync\":false,\"id\":\"ob_60\",\"value\":null},\"rowparams\":{\"sync\":true,\"id\":\"ob_62\",\"value\":{\"successCallback\":\"(function (v){return null})\",\"startRow\":1,\"endRow\":100}}}},\"children\":[{\"props\":{},\"nodeType\":\"DOM\",\"type\":\"node\",\"instanceArgs\":{\"namespace\":\"html\",\"tag\":\"div\"},\"children\":[{\"props\":{\"style\":{\"height\":\"0\",\"padding\":\"0\",\"background-color\":\"#F5F7F7\",\"color\":\"#1c1f20\",\"font-family\":\"-apple-system, BlinkMacSystemFont, \\\"Segoe UI\\\", Roboto, Oxygen-Sans, Ubuntu, Cantarell, \\\"Helvetica Neue\\\", sans-serif\"}},\"nodeType\":\"DOM\",\"type\":\"node\",\"instanceArgs\":{\"namespace\":\"html\",\"tag\":\"div\"},\"children\":[\"\"]},{\"props\":{\"id\":\"grid-9f9ffc7e\",\"className\":\"ag-theme-balham\",\"style\":{\"height\":\"500px\",\"width\":\"100%\"}},\"nodeType\":\"DOM\",\"type\":\"node\",\"instanceArgs\":{\"namespace\":\"html\",\"tag\":\"div\"},\"children\":[]}]}]},\n",
       "            window,\n",
       "        );\n",
       "    } else {\n",
       "        document\n",
       "            .querySelector('[data-webio-mountpoint=\"18259966442427372885\"]')\n",
       "            .innerHTML = (\n",
       "                '<div style=\"padding: 1em; background-color: #f8d6da; border: 1px solid #f5c6cb\">' +\n",
       "                '<p><strong>WebIO not detected.</strong></p>' +\n",
       "                '<p>Please read ' +\n",
       "                '<a href=\"https://juliagizmos.github.io/WebIO.jl/latest/troubleshooting/not-detected/\" target=\"_blank\">the troubleshooting guide</a> ' +\n",
       "                'for more information on how to resolve this issue.</p>' +\n",
       "                '<p><a href=\"https://juliagizmos.github.io/WebIO.jl/latest/troubleshooting/not-detected/\" target=\"_blank\">https://juliagizmos.github.io/WebIO.jl/latest/troubleshooting/not-detected/</a></p>' +\n",
       "                '</div>'\n",
       "            );\n",
       "    }\n",
       "    </script>\n",
       "</div>\n"
      ],
      "text/plain": [
       "WebIO.Scope(WebIO.Node{WebIO.DOM}(WebIO.DOM(:html, :div), Any[WebIO.Node{WebIO.DOM}(WebIO.DOM(:html, :div), Any[\"\"], Dict{Symbol,Any}(:style => Dict(\"height\" => \"0\",\"padding\" => \"0\",\"background-color\" => \"#F5F7F7\",\"color\" => \"#1c1f20\",\"font-family\" => \"-apple-system, BlinkMacSystemFont, \\\"Segoe UI\\\", Roboto, Oxygen-Sans, Ubuntu, Cantarell, \\\"Helvetica Neue\\\", sans-serif\"))), WebIO.Node{WebIO.DOM}(WebIO.DOM(:html, :div), Any[], Dict{Symbol,Any}(:id => \"grid-9f9ffc7e\",:className => \"ag-theme-balham\",:style => Dict(\"height\" => \"500px\",\"width\" => \"100%\")))], Dict{Symbol,Any}()), Dict{String,Tuple{Observables.AbstractObservable,Union{Nothing, Bool}}}(\"onCellKeyDown\" => (Observable{Any} with 0 listeners. Value:\n",
       "nothing, nothing),\"onRowClicked\" => (Observable{Any} with 0 listeners. Value:\n",
       "nothing, nothing),\"onCellDoubleClicked\" => (Observable{Any} with 0 listeners. Value:\n",
       "nothing, nothing),\"requestedrows\" => (Observable{JSON.Writer.JSONText} with 1 listeners. Value:\n",
       "JSON.Writer.JSONText(\"{}\"), nothing),\"onCellClicked\" => (Observable{Any} with 0 listeners. Value:\n",
       "nothing, nothing),\"onCellFocused\" => (Observable{Any} with 0 listeners. Value:\n",
       "nothing, nothing),\"rowparams\" => (Observable{Dict{String,Any}} with 1 listeners. Value:\n",
       "Dict{String,Any}(\"successCallback\" => WebIO.JSString(\"(function (v){return null})\"),\"startRow\" => 1,\"endRow\" => 100), nothing)), Set(String[]), nothing, WebIO.Asset[WebIO.Asset(\"js\", nothing, \"/home/cdaniels/.julia/packages/TableView/CxWLO/src/rowNumberRenderer.js\"), WebIO.Asset(\"js\", nothing, \"/home/cdaniels/.julia/packages/TableView/CxWLO/deps/ag-grid-22.1.0/ag-grid.js\"), WebIO.Asset(\"css\", nothing, \"/home/cdaniels/.julia/packages/TableView/CxWLO/deps/ag-grid-22.1.0/ag-grid.css\"), WebIO.Asset(\"css\", nothing, \"/home/cdaniels/.julia/packages/TableView/CxWLO/deps/ag-grid-22.1.0/ag-grid-light.css\"), WebIO.Asset(\"css\", nothing, \"/home/cdaniels/.julia/packages/TableView/CxWLO/deps/ag-grid-22.1.0/ag-grid-dark.css\")], Dict{Any,Any}(\"requestedrows\" => Any[WebIO.JSString(\"(function (val){return WebIO.getval({\\\"name\\\":\\\"rowparams\\\",\\\"scope\\\":\\\"17557472944741869179\\\",\\\"id\\\":\\\"ob_62\\\",\\\"type\\\":\\\"observable\\\"}).successCallback(val,null)})\")]), WebIO.ConnectionPool(Channel{Any}(sz_max:32,sz_curr:0), Set(WebIO.AbstractConnection[]), Base.GenericCondition{Base.AlwaysLockedST}(Base.InvasiveLinkedList{Task}(Task (runnable) @0x00007f73ecd1c4f0, Task (runnable) @0x00007f73ecd1c4f0), Base.AlwaysLockedST(1))), WebIO.JSString[WebIO.JSString(\"function () {\\n    var handler = ((function (RowNumberRenderer,agGrid){var gridOptions={\\\"onCellFocused\\\":(function (ev){var x={}; (ev.rowIndex!==undefined) ? (x[\\\"rowIndex\\\"]=(ev.rowIndex+1)) : undefined; (ev.colDef!==undefined) ? (x[\\\"column\\\"]=ev.colDef.headerName) : undefined; return WebIO.setval({\\\"name\\\":\\\"onCellFocused\\\",\\\"scope\\\":\\\"17557472944741869179\\\",\\\"id\\\":\\\"ob_60\\\",\\\"type\\\":\\\"observable\\\"},x)}),\\\"onCellValueChanged\\\":(function (){return }),\\\"rowModelType\\\":\\\"infinite\\\",\\\"onRowClicked\\\":(function (ev){var x={}; (ev.rowIndex!==undefined) ? (x[\\\"rowIndex\\\"]=(ev.rowIndex+1)) : undefined; (ev.colDef!==undefined) ? (x[\\\"column\\\"]=ev.colDef.headerName) : undefined; return WebIO.setval({\\\"name\\\":\\\"onRowClicked\\\",\\\"scope\\\":\\\"17557472944741869179\\\",\\\"id\\\":\\\"ob_59\\\",\\\"type\\\":\\\"observable\\\"},x)}),\\\"maxConcurrentDatasourceRequests\\\":1,\\\"columnDefs\\\":[{\\\"filter\\\":false,\\\"editable\\\":false,\\\"headerTooltip\\\":\\\"\\\",\\\"field\\\":\\\"__row__\\\",\\\"headerName\\\":\\\"Row\\\",\\\"sortable\\\":false,\\\"type\\\":\\\"numericColumn\\\",\\\"cellRenderer\\\":\\\"rowNumberRenderer\\\",\\\"resizable\\\":true},{\\\"filter\\\":false,\\\"editable\\\":false,\\\"headerTooltip\\\":\\\"String\\\",\\\"field\\\":\\\"county\\\",\\\"headerName\\\":\\\"county\\\",\\\"sortable\\\":false,\\\"type\\\":null,\\\"resizable\\\":true},{\\\"filter\\\":false,\\\"editable\\\":false,\\\"headerTooltip\\\":\\\"String\\\",\\\"field\\\":\\\"state\\\",\\\"headerName\\\":\\\"state\\\",\\\"sortable\\\":false,\\\"type\\\":null,\\\"resizable\\\":true},{\\\"filter\\\":false,\\\"editable\\\":false,\\\"headerTooltip\\\":\\\"Int64\\\",\\\"field\\\":\\\"population\\\",\\\"headerName\\\":\\\"population\\\",\\\"sortable\\\":false,\\\"type\\\":\\\"numericColumn\\\",\\\"resizable\\\":true},{\\\"filter\\\":false,\\\"editable\\\":false,\\\"headerTooltip\\\":\\\"Int64\\\",\\\"field\\\":\\\"cases\\\",\\\"headerName\\\":\\\"cases\\\",\\\"sortable\\\":false,\\\"type\\\":\\\"numericColumn\\\",\\\"resizable\\\":true},{\\\"filter\\\":false,\\\"editable\\\":false,\\\"headerTooltip\\\":\\\"Float64\\\",\\\"field\\\":\\\"casesMA\\\",\\\"headerName\\\":\\\"casesMA\\\",\\\"sortable\\\":false,\\\"type\\\":\\\"numericColumn\\\",\\\"resizable\\\":true},{\\\"filter\\\":false,\\\"editable\\\":false,\\\"headerTooltip\\\":\\\"Float64\\\",\\\"field\\\":\\\"pch_casesMA\\\",\\\"headerName\\\":\\\"pch_casesMA\\\",\\\"sortable\\\":false,\\\"type\\\":\\\"numericColumn\\\",\\\"resizable\\\":true},{\\\"filter\\\":false,\\\"editable\\\":false,\\\"headerTooltip\\\":\\\"Float64\\\",\\\"field\\\":\\\"casesIncreaseMA\\\",\\\"headerName\\\":\\\"casesIncreaseMA\\\",\\\"sortable\\\":false,\\\"type\\\":\\\"numericColumn\\\",\\\"resizable\\\":true},{\\\"filter\\\":false,\\\"editable\\\":false,\\\"headerTooltip\\\":\\\"Float64\\\",\\\"field\\\":\\\"pch_casesIncreaseMA\\\",\\\"headerName\\\":\\\"pch_casesIncreaseMA\\\",\\\"sortable\\\":false,\\\"type\\\":\\\"numericColumn\\\",\\\"resizable\\\":true}],\\\"cacheBlockSize\\\":1000,\\\"datasource\\\":{\\\"rowCount\\\":null,\\\"getRows\\\":(function (rowParams){return WebIO.setval({\\\"name\\\":\\\"rowparams\\\",\\\"scope\\\":\\\"17557472944741869179\\\",\\\"id\\\":\\\"ob_62\\\",\\\"type\\\":\\\"observable\\\"},rowParams)})},\\\"multiSortKey\\\":\\\"ctrl\\\",\\\"maxBlocksInCache\\\":100,\\\"onCellDoubleClicked\\\":(function (ev){var x={}; (ev.rowIndex!==undefined) ? (x[\\\"rowIndex\\\"]=(ev.rowIndex+1)) : undefined; (ev.colDef!==undefined) ? (x[\\\"column\\\"]=ev.colDef.headerName) : undefined; return WebIO.setval({\\\"name\\\":\\\"onCellDoubleClicked\\\",\\\"scope\\\":\\\"17557472944741869179\\\",\\\"id\\\":\\\"ob_58\\\",\\\"type\\\":\\\"observable\\\"},x)}),\\\"onCellKeyDown\\\":(function (ev){var x={}; (ev.rowIndex!==undefined) ? (x[\\\"rowIndex\\\"]=(ev.rowIndex+1)) : undefined; (ev.colDef!==undefined) ? (x[\\\"column\\\"]=ev.colDef.headerName) : undefined; return WebIO.setval({\\\"name\\\":\\\"onCellKeyDown\\\",\\\"scope\\\":\\\"17557472944741869179\\\",\\\"id\\\":\\\"ob_61\\\",\\\"type\\\":\\\"observable\\\"},x)}),\\\"onCellClicked\\\":(function (ev){var x={}; (ev.rowIndex!==undefined) ? (x[\\\"rowIndex\\\"]=(ev.rowIndex+1)) : undefined; (ev.colDef!==undefined) ? (x[\\\"column\\\"]=ev.colDef.headerName) : undefined; return WebIO.setval({\\\"name\\\":\\\"onCellClicked\\\",\\\"scope\\\":\\\"17557472944741869179\\\",\\\"id\\\":\\\"ob_57\\\",\\\"type\\\":\\\"observable\\\"},x)})}; var el=document.getElementById(\\\"grid-9f9ffc7e\\\"); gridOptions.components={\\\"rowNumberRenderer\\\":RowNumberRenderer}; this.table=new agGrid.Grid(el,gridOptions); gridOptions.columnApi.autoSizeColumn(\\\"__row__\\\"); return gridOptions.columnApi.autoSizeColumns([\\\"county\\\",\\\"state\\\",\\\"population\\\",\\\"cases\\\",\\\"casesMA\\\",\\\"pch_casesMA\\\",\\\"casesIncreaseMA\\\",\\\"pch_casesIncreaseMA\\\"])}));\\n    (WebIO.importBlock({\\\"data\\\":[{\\\"name\\\":null,\\\"type\\\":\\\"js\\\",\\\"url\\\":\\\"/assetserver/ed80b7d691fade66e145983a11fb79e515dab825-rowNumberRenderer.js\\\"},{\\\"name\\\":null,\\\"type\\\":\\\"js\\\",\\\"url\\\":\\\"/assetserver/b9b20eb0f99819a38f7ecc433feed4bbe393c528-ag-grid.js\\\"},{\\\"name\\\":null,\\\"type\\\":\\\"css\\\",\\\"url\\\":\\\"/assetserver/5b9005a8a21f5ef6a55c77dc41516952608d0d1d-ag-grid.css\\\"},{\\\"name\\\":null,\\\"type\\\":\\\"css\\\",\\\"url\\\":\\\"/assetserver/fb7e660811b5af595641e24a03483dce78e1076e-ag-grid-light.css\\\"},{\\\"name\\\":null,\\\"type\\\":\\\"css\\\",\\\"url\\\":\\\"/assetserver/6ec54d9f8a742a6e19395fb487212fdce57da7bc-ag-grid-dark.css\\\"}],\\\"type\\\":\\\"async_block\\\"})).then((imports) => handler.apply(this, imports));\\n}\\n\")])"
      ]
     },
     "execution_count": 13,
     "metadata": {
      "application/vnd.webio.node+json": {
       "kernelId": "f76cff0d-71eb-4fcb-8f14-2113642ca679"
      }
     },
     "output_type": "execute_result"
    }
   ],
   "source": [
    "@time dfcd = aggregate_by_county(dfc,\n",
    "    [:county,:state,:population,:cases,:casesMA,:pch_casesMA,:casesIncreaseMA,:pch_casesIncreaseMA])\n",
    "@tbl dfcd"
   ]
  },
  {
   "cell_type": "code",
   "execution_count": 14,
   "metadata": {},
   "outputs": [
    {
     "data": {
      "text/plain": [
       "5"
      ]
     },
     "execution_count": 14,
     "metadata": {},
     "output_type": "execute_result"
    }
   ],
   "source": [
    "min_cases = 500\n",
    "min_grw = 5"
   ]
  },
  {
   "cell_type": "code",
   "execution_count": 18,
   "metadata": {},
   "outputs": [],
   "source": [
    "dfcd_f = filter(r-> !isnan(r.pch_casesIncreaseMA) && r.cases > min_cases,dfcd);"
   ]
  },
  {
   "cell_type": "code",
   "execution_count": 19,
   "metadata": {},
   "outputs": [
    {
     "data": {
      "application/vnd.webio.node+json": {
       "children": [
        {
         "children": [
          {
           "children": [
            ""
           ],
           "instanceArgs": {
            "namespace": "html",
            "tag": "div"
           },
           "nodeType": "DOM",
           "props": {
            "style": {
             "background-color": "#F5F7F7",
             "color": "#1c1f20",
             "font-family": "-apple-system, BlinkMacSystemFont, \"Segoe UI\", Roboto, Oxygen-Sans, Ubuntu, Cantarell, \"Helvetica Neue\", sans-serif",
             "height": "0",
             "padding": "0"
            }
           },
           "type": "node"
          },
          {
           "children": [],
           "instanceArgs": {
            "namespace": "html",
            "tag": "div"
           },
           "nodeType": "DOM",
           "props": {
            "className": "ag-theme-balham",
            "id": "grid-a8bf67a2",
            "style": {
             "height": "500px",
             "width": "100%"
            }
           },
           "type": "node"
          }
         ],
         "instanceArgs": {
          "namespace": "html",
          "tag": "div"
         },
         "nodeType": "DOM",
         "props": {},
         "type": "node"
        }
       ],
       "instanceArgs": {
        "handlers": {
         "requestedrows": [
          "(function (val){return WebIO.getval({\"name\":\"rowparams\",\"scope\":\"5605156802655509687\",\"id\":\"ob_69\",\"type\":\"observable\"}).successCallback(val,null)})"
         ]
        },
        "id": "5605156802655509687",
        "imports": {
         "data": [
          {
           "name": null,
           "type": "js",
           "url": "/assetserver/ed80b7d691fade66e145983a11fb79e515dab825-rowNumberRenderer.js"
          },
          {
           "name": null,
           "type": "js",
           "url": "/assetserver/b9b20eb0f99819a38f7ecc433feed4bbe393c528-ag-grid.js"
          },
          {
           "name": null,
           "type": "css",
           "url": "/assetserver/5b9005a8a21f5ef6a55c77dc41516952608d0d1d-ag-grid.css"
          },
          {
           "name": null,
           "type": "css",
           "url": "/assetserver/fb7e660811b5af595641e24a03483dce78e1076e-ag-grid-light.css"
          },
          {
           "name": null,
           "type": "css",
           "url": "/assetserver/6ec54d9f8a742a6e19395fb487212fdce57da7bc-ag-grid-dark.css"
          }
         ],
         "type": "async_block"
        },
        "mount_callbacks": [
         "function () {\n    var handler = ((function (RowNumberRenderer,agGrid){var gridOptions={\"onCellFocused\":(function (ev){var x={}; (ev.rowIndex!==undefined) ? (x[\"rowIndex\"]=(ev.rowIndex+1)) : undefined; (ev.colDef!==undefined) ? (x[\"column\"]=ev.colDef.headerName) : undefined; return WebIO.setval({\"name\":\"onCellFocused\",\"scope\":\"5605156802655509687\",\"id\":\"ob_67\",\"type\":\"observable\"},x)}),\"onCellValueChanged\":(function (){return }),\"rowModelType\":\"infinite\",\"onRowClicked\":(function (ev){var x={}; (ev.rowIndex!==undefined) ? (x[\"rowIndex\"]=(ev.rowIndex+1)) : undefined; (ev.colDef!==undefined) ? (x[\"column\"]=ev.colDef.headerName) : undefined; return WebIO.setval({\"name\":\"onRowClicked\",\"scope\":\"5605156802655509687\",\"id\":\"ob_66\",\"type\":\"observable\"},x)}),\"maxConcurrentDatasourceRequests\":1,\"columnDefs\":[{\"filter\":false,\"editable\":false,\"headerTooltip\":\"\",\"field\":\"__row__\",\"headerName\":\"Row\",\"sortable\":false,\"type\":\"numericColumn\",\"cellRenderer\":\"rowNumberRenderer\",\"resizable\":true},{\"filter\":false,\"editable\":false,\"headerTooltip\":\"Float64\",\"field\":\"pch_casesIncreaseMA\",\"headerName\":\"pch_casesIncreaseMA\",\"sortable\":false,\"type\":\"numericColumn\",\"resizable\":true},{\"filter\":false,\"editable\":false,\"headerTooltip\":\"Int64\",\"field\":\"cases\",\"headerName\":\"cases\",\"sortable\":false,\"type\":\"numericColumn\",\"resizable\":true},{\"filter\":false,\"editable\":false,\"headerTooltip\":\"Int64\",\"field\":\"population\",\"headerName\":\"population\",\"sortable\":false,\"type\":\"numericColumn\",\"resizable\":true},{\"filter\":false,\"editable\":false,\"headerTooltip\":\"String\",\"field\":\"county\",\"headerName\":\"county\",\"sortable\":false,\"type\":null,\"resizable\":true},{\"filter\":false,\"editable\":false,\"headerTooltip\":\"String\",\"field\":\"state\",\"headerName\":\"state\",\"sortable\":false,\"type\":null,\"resizable\":true}],\"cacheBlockSize\":1000,\"datasource\":{\"rowCount\":null,\"getRows\":(function (rowParams){return WebIO.setval({\"name\":\"rowparams\",\"scope\":\"5605156802655509687\",\"id\":\"ob_69\",\"type\":\"observable\"},rowParams)})},\"multiSortKey\":\"ctrl\",\"maxBlocksInCache\":100,\"onCellDoubleClicked\":(function (ev){var x={}; (ev.rowIndex!==undefined) ? (x[\"rowIndex\"]=(ev.rowIndex+1)) : undefined; (ev.colDef!==undefined) ? (x[\"column\"]=ev.colDef.headerName) : undefined; return WebIO.setval({\"name\":\"onCellDoubleClicked\",\"scope\":\"5605156802655509687\",\"id\":\"ob_65\",\"type\":\"observable\"},x)}),\"onCellKeyDown\":(function (ev){var x={}; (ev.rowIndex!==undefined) ? (x[\"rowIndex\"]=(ev.rowIndex+1)) : undefined; (ev.colDef!==undefined) ? (x[\"column\"]=ev.colDef.headerName) : undefined; return WebIO.setval({\"name\":\"onCellKeyDown\",\"scope\":\"5605156802655509687\",\"id\":\"ob_68\",\"type\":\"observable\"},x)}),\"onCellClicked\":(function (ev){var x={}; (ev.rowIndex!==undefined) ? (x[\"rowIndex\"]=(ev.rowIndex+1)) : undefined; (ev.colDef!==undefined) ? (x[\"column\"]=ev.colDef.headerName) : undefined; return WebIO.setval({\"name\":\"onCellClicked\",\"scope\":\"5605156802655509687\",\"id\":\"ob_64\",\"type\":\"observable\"},x)})}; var el=document.getElementById(\"grid-a8bf67a2\"); gridOptions.components={\"rowNumberRenderer\":RowNumberRenderer}; this.table=new agGrid.Grid(el,gridOptions); gridOptions.columnApi.autoSizeColumn(\"__row__\"); return gridOptions.columnApi.autoSizeColumns([\"pch_casesIncreaseMA\",\"cases\",\"population\",\"county\",\"state\"])}));\n    (WebIO.importBlock({\"data\":[{\"name\":null,\"type\":\"js\",\"url\":\"/assetserver/ed80b7d691fade66e145983a11fb79e515dab825-rowNumberRenderer.js\"},{\"name\":null,\"type\":\"js\",\"url\":\"/assetserver/b9b20eb0f99819a38f7ecc433feed4bbe393c528-ag-grid.js\"},{\"name\":null,\"type\":\"css\",\"url\":\"/assetserver/5b9005a8a21f5ef6a55c77dc41516952608d0d1d-ag-grid.css\"},{\"name\":null,\"type\":\"css\",\"url\":\"/assetserver/fb7e660811b5af595641e24a03483dce78e1076e-ag-grid-light.css\"},{\"name\":null,\"type\":\"css\",\"url\":\"/assetserver/6ec54d9f8a742a6e19395fb487212fdce57da7bc-ag-grid-dark.css\"}],\"type\":\"async_block\"})).then((imports) => handler.apply(this, imports));\n}\n"
        ],
        "observables": {
         "onCellClicked": {
          "id": "ob_64",
          "sync": false,
          "value": null
         },
         "onCellDoubleClicked": {
          "id": "ob_65",
          "sync": false,
          "value": null
         },
         "onCellFocused": {
          "id": "ob_67",
          "sync": false,
          "value": null
         },
         "onCellKeyDown": {
          "id": "ob_68",
          "sync": false,
          "value": null
         },
         "onRowClicked": {
          "id": "ob_66",
          "sync": false,
          "value": null
         },
         "requestedrows": {
          "id": "ob_70",
          "sync": false,
          "value": {}
         },
         "rowparams": {
          "id": "ob_69",
          "sync": true,
          "value": {
           "endRow": 100,
           "startRow": 1,
           "successCallback": "(function (v){return null})"
          }
         }
        },
        "systemjs_options": null
       },
       "nodeType": "Scope",
       "props": {},
       "type": "node"
      },
      "text/html": [
       "<div\n",
       "    class=\"webio-mountpoint\"\n",
       "    data-webio-mountpoint=\"13816069640851027345\"\n",
       ">\n",
       "    <script>\n",
       "    if (window.require && require.defined && require.defined(\"nbextensions/webio-jupyter-notebook\")) {\n",
       "        console.log(\"Jupyter WebIO extension detected, not mounting.\");\n",
       "    } else if (window.WebIO) {\n",
       "        WebIO.mount(\n",
       "            document.querySelector('[data-webio-mountpoint=\"13816069640851027345\"]'),\n",
       "            {\"props\":{},\"nodeType\":\"Scope\",\"type\":\"node\",\"instanceArgs\":{\"imports\":{\"data\":[{\"name\":null,\"type\":\"js\",\"url\":\"\\/assetserver\\/ed80b7d691fade66e145983a11fb79e515dab825-rowNumberRenderer.js\"},{\"name\":null,\"type\":\"js\",\"url\":\"\\/assetserver\\/b9b20eb0f99819a38f7ecc433feed4bbe393c528-ag-grid.js\"},{\"name\":null,\"type\":\"css\",\"url\":\"\\/assetserver\\/5b9005a8a21f5ef6a55c77dc41516952608d0d1d-ag-grid.css\"},{\"name\":null,\"type\":\"css\",\"url\":\"\\/assetserver\\/fb7e660811b5af595641e24a03483dce78e1076e-ag-grid-light.css\"},{\"name\":null,\"type\":\"css\",\"url\":\"\\/assetserver\\/6ec54d9f8a742a6e19395fb487212fdce57da7bc-ag-grid-dark.css\"}],\"type\":\"async_block\"},\"id\":\"5605156802655509687\",\"handlers\":{\"requestedrows\":[\"(function (val){return WebIO.getval({\\\"name\\\":\\\"rowparams\\\",\\\"scope\\\":\\\"5605156802655509687\\\",\\\"id\\\":\\\"ob_69\\\",\\\"type\\\":\\\"observable\\\"}).successCallback(val,null)})\"]},\"systemjs_options\":null,\"mount_callbacks\":[\"function () {\\n    var handler = ((function (RowNumberRenderer,agGrid){var gridOptions={\\\"onCellFocused\\\":(function (ev){var x={}; (ev.rowIndex!==undefined) ? (x[\\\"rowIndex\\\"]=(ev.rowIndex+1)) : undefined; (ev.colDef!==undefined) ? (x[\\\"column\\\"]=ev.colDef.headerName) : undefined; return WebIO.setval({\\\"name\\\":\\\"onCellFocused\\\",\\\"scope\\\":\\\"5605156802655509687\\\",\\\"id\\\":\\\"ob_67\\\",\\\"type\\\":\\\"observable\\\"},x)}),\\\"onCellValueChanged\\\":(function (){return }),\\\"rowModelType\\\":\\\"infinite\\\",\\\"onRowClicked\\\":(function (ev){var x={}; (ev.rowIndex!==undefined) ? (x[\\\"rowIndex\\\"]=(ev.rowIndex+1)) : undefined; (ev.colDef!==undefined) ? (x[\\\"column\\\"]=ev.colDef.headerName) : undefined; return WebIO.setval({\\\"name\\\":\\\"onRowClicked\\\",\\\"scope\\\":\\\"5605156802655509687\\\",\\\"id\\\":\\\"ob_66\\\",\\\"type\\\":\\\"observable\\\"},x)}),\\\"maxConcurrentDatasourceRequests\\\":1,\\\"columnDefs\\\":[{\\\"filter\\\":false,\\\"editable\\\":false,\\\"headerTooltip\\\":\\\"\\\",\\\"field\\\":\\\"__row__\\\",\\\"headerName\\\":\\\"Row\\\",\\\"sortable\\\":false,\\\"type\\\":\\\"numericColumn\\\",\\\"cellRenderer\\\":\\\"rowNumberRenderer\\\",\\\"resizable\\\":true},{\\\"filter\\\":false,\\\"editable\\\":false,\\\"headerTooltip\\\":\\\"Float64\\\",\\\"field\\\":\\\"pch_casesIncreaseMA\\\",\\\"headerName\\\":\\\"pch_casesIncreaseMA\\\",\\\"sortable\\\":false,\\\"type\\\":\\\"numericColumn\\\",\\\"resizable\\\":true},{\\\"filter\\\":false,\\\"editable\\\":false,\\\"headerTooltip\\\":\\\"Int64\\\",\\\"field\\\":\\\"cases\\\",\\\"headerName\\\":\\\"cases\\\",\\\"sortable\\\":false,\\\"type\\\":\\\"numericColumn\\\",\\\"resizable\\\":true},{\\\"filter\\\":false,\\\"editable\\\":false,\\\"headerTooltip\\\":\\\"Int64\\\",\\\"field\\\":\\\"population\\\",\\\"headerName\\\":\\\"population\\\",\\\"sortable\\\":false,\\\"type\\\":\\\"numericColumn\\\",\\\"resizable\\\":true},{\\\"filter\\\":false,\\\"editable\\\":false,\\\"headerTooltip\\\":\\\"String\\\",\\\"field\\\":\\\"county\\\",\\\"headerName\\\":\\\"county\\\",\\\"sortable\\\":false,\\\"type\\\":null,\\\"resizable\\\":true},{\\\"filter\\\":false,\\\"editable\\\":false,\\\"headerTooltip\\\":\\\"String\\\",\\\"field\\\":\\\"state\\\",\\\"headerName\\\":\\\"state\\\",\\\"sortable\\\":false,\\\"type\\\":null,\\\"resizable\\\":true}],\\\"cacheBlockSize\\\":1000,\\\"datasource\\\":{\\\"rowCount\\\":null,\\\"getRows\\\":(function (rowParams){return WebIO.setval({\\\"name\\\":\\\"rowparams\\\",\\\"scope\\\":\\\"5605156802655509687\\\",\\\"id\\\":\\\"ob_69\\\",\\\"type\\\":\\\"observable\\\"},rowParams)})},\\\"multiSortKey\\\":\\\"ctrl\\\",\\\"maxBlocksInCache\\\":100,\\\"onCellDoubleClicked\\\":(function (ev){var x={}; (ev.rowIndex!==undefined) ? (x[\\\"rowIndex\\\"]=(ev.rowIndex+1)) : undefined; (ev.colDef!==undefined) ? (x[\\\"column\\\"]=ev.colDef.headerName) : undefined; return WebIO.setval({\\\"name\\\":\\\"onCellDoubleClicked\\\",\\\"scope\\\":\\\"5605156802655509687\\\",\\\"id\\\":\\\"ob_65\\\",\\\"type\\\":\\\"observable\\\"},x)}),\\\"onCellKeyDown\\\":(function (ev){var x={}; (ev.rowIndex!==undefined) ? (x[\\\"rowIndex\\\"]=(ev.rowIndex+1)) : undefined; (ev.colDef!==undefined) ? (x[\\\"column\\\"]=ev.colDef.headerName) : undefined; return WebIO.setval({\\\"name\\\":\\\"onCellKeyDown\\\",\\\"scope\\\":\\\"5605156802655509687\\\",\\\"id\\\":\\\"ob_68\\\",\\\"type\\\":\\\"observable\\\"},x)}),\\\"onCellClicked\\\":(function (ev){var x={}; (ev.rowIndex!==undefined) ? (x[\\\"rowIndex\\\"]=(ev.rowIndex+1)) : undefined; (ev.colDef!==undefined) ? (x[\\\"column\\\"]=ev.colDef.headerName) : undefined; return WebIO.setval({\\\"name\\\":\\\"onCellClicked\\\",\\\"scope\\\":\\\"5605156802655509687\\\",\\\"id\\\":\\\"ob_64\\\",\\\"type\\\":\\\"observable\\\"},x)})}; var el=document.getElementById(\\\"grid-a8bf67a2\\\"); gridOptions.components={\\\"rowNumberRenderer\\\":RowNumberRenderer}; this.table=new agGrid.Grid(el,gridOptions); gridOptions.columnApi.autoSizeColumn(\\\"__row__\\\"); return gridOptions.columnApi.autoSizeColumns([\\\"pch_casesIncreaseMA\\\",\\\"cases\\\",\\\"population\\\",\\\"county\\\",\\\"state\\\"])}));\\n    (WebIO.importBlock({\\\"data\\\":[{\\\"name\\\":null,\\\"type\\\":\\\"js\\\",\\\"url\\\":\\\"\\/assetserver\\/ed80b7d691fade66e145983a11fb79e515dab825-rowNumberRenderer.js\\\"},{\\\"name\\\":null,\\\"type\\\":\\\"js\\\",\\\"url\\\":\\\"\\/assetserver\\/b9b20eb0f99819a38f7ecc433feed4bbe393c528-ag-grid.js\\\"},{\\\"name\\\":null,\\\"type\\\":\\\"css\\\",\\\"url\\\":\\\"\\/assetserver\\/5b9005a8a21f5ef6a55c77dc41516952608d0d1d-ag-grid.css\\\"},{\\\"name\\\":null,\\\"type\\\":\\\"css\\\",\\\"url\\\":\\\"\\/assetserver\\/fb7e660811b5af595641e24a03483dce78e1076e-ag-grid-light.css\\\"},{\\\"name\\\":null,\\\"type\\\":\\\"css\\\",\\\"url\\\":\\\"\\/assetserver\\/6ec54d9f8a742a6e19395fb487212fdce57da7bc-ag-grid-dark.css\\\"}],\\\"type\\\":\\\"async_block\\\"})).then((imports) => handler.apply(this, imports));\\n}\\n\"],\"observables\":{\"onCellKeyDown\":{\"sync\":false,\"id\":\"ob_68\",\"value\":null},\"onRowClicked\":{\"sync\":false,\"id\":\"ob_66\",\"value\":null},\"onCellDoubleClicked\":{\"sync\":false,\"id\":\"ob_65\",\"value\":null},\"requestedrows\":{\"sync\":false,\"id\":\"ob_70\",\"value\":{}},\"onCellClicked\":{\"sync\":false,\"id\":\"ob_64\",\"value\":null},\"onCellFocused\":{\"sync\":false,\"id\":\"ob_67\",\"value\":null},\"rowparams\":{\"sync\":true,\"id\":\"ob_69\",\"value\":{\"successCallback\":\"(function (v){return null})\",\"startRow\":1,\"endRow\":100}}}},\"children\":[{\"props\":{},\"nodeType\":\"DOM\",\"type\":\"node\",\"instanceArgs\":{\"namespace\":\"html\",\"tag\":\"div\"},\"children\":[{\"props\":{\"style\":{\"height\":\"0\",\"padding\":\"0\",\"background-color\":\"#F5F7F7\",\"color\":\"#1c1f20\",\"font-family\":\"-apple-system, BlinkMacSystemFont, \\\"Segoe UI\\\", Roboto, Oxygen-Sans, Ubuntu, Cantarell, \\\"Helvetica Neue\\\", sans-serif\"}},\"nodeType\":\"DOM\",\"type\":\"node\",\"instanceArgs\":{\"namespace\":\"html\",\"tag\":\"div\"},\"children\":[\"\"]},{\"props\":{\"id\":\"grid-a8bf67a2\",\"className\":\"ag-theme-balham\",\"style\":{\"height\":\"500px\",\"width\":\"100%\"}},\"nodeType\":\"DOM\",\"type\":\"node\",\"instanceArgs\":{\"namespace\":\"html\",\"tag\":\"div\"},\"children\":[]}]}]},\n",
       "            window,\n",
       "        );\n",
       "    } else {\n",
       "        document\n",
       "            .querySelector('[data-webio-mountpoint=\"13816069640851027345\"]')\n",
       "            .innerHTML = (\n",
       "                '<div style=\"padding: 1em; background-color: #f8d6da; border: 1px solid #f5c6cb\">' +\n",
       "                '<p><strong>WebIO not detected.</strong></p>' +\n",
       "                '<p>Please read ' +\n",
       "                '<a href=\"https://juliagizmos.github.io/WebIO.jl/latest/troubleshooting/not-detected/\" target=\"_blank\">the troubleshooting guide</a> ' +\n",
       "                'for more information on how to resolve this issue.</p>' +\n",
       "                '<p><a href=\"https://juliagizmos.github.io/WebIO.jl/latest/troubleshooting/not-detected/\" target=\"_blank\">https://juliagizmos.github.io/WebIO.jl/latest/troubleshooting/not-detected/</a></p>' +\n",
       "                '</div>'\n",
       "            );\n",
       "    }\n",
       "    </script>\n",
       "</div>\n"
      ],
      "text/plain": [
       "WebIO.Scope(WebIO.Node{WebIO.DOM}(WebIO.DOM(:html, :div), Any[WebIO.Node{WebIO.DOM}(WebIO.DOM(:html, :div), Any[\"\"], Dict{Symbol,Any}(:style => Dict(\"height\" => \"0\",\"padding\" => \"0\",\"background-color\" => \"#F5F7F7\",\"color\" => \"#1c1f20\",\"font-family\" => \"-apple-system, BlinkMacSystemFont, \\\"Segoe UI\\\", Roboto, Oxygen-Sans, Ubuntu, Cantarell, \\\"Helvetica Neue\\\", sans-serif\"))), WebIO.Node{WebIO.DOM}(WebIO.DOM(:html, :div), Any[], Dict{Symbol,Any}(:id => \"grid-a8bf67a2\",:className => \"ag-theme-balham\",:style => Dict(\"height\" => \"500px\",\"width\" => \"100%\")))], Dict{Symbol,Any}()), Dict{String,Tuple{Observables.AbstractObservable,Union{Nothing, Bool}}}(\"onCellKeyDown\" => (Observable{Any} with 0 listeners. Value:\n",
       "nothing, nothing),\"onRowClicked\" => (Observable{Any} with 0 listeners. Value:\n",
       "nothing, nothing),\"onCellDoubleClicked\" => (Observable{Any} with 0 listeners. Value:\n",
       "nothing, nothing),\"requestedrows\" => (Observable{JSON.Writer.JSONText} with 1 listeners. Value:\n",
       "JSON.Writer.JSONText(\"{}\"), nothing),\"onCellClicked\" => (Observable{Any} with 0 listeners. Value:\n",
       "nothing, nothing),\"onCellFocused\" => (Observable{Any} with 0 listeners. Value:\n",
       "nothing, nothing),\"rowparams\" => (Observable{Dict{String,Any}} with 1 listeners. Value:\n",
       "Dict{String,Any}(\"successCallback\" => WebIO.JSString(\"(function (v){return null})\"),\"startRow\" => 1,\"endRow\" => 100), nothing)), Set(String[]), nothing, WebIO.Asset[WebIO.Asset(\"js\", nothing, \"/home/cdaniels/.julia/packages/TableView/CxWLO/src/rowNumberRenderer.js\"), WebIO.Asset(\"js\", nothing, \"/home/cdaniels/.julia/packages/TableView/CxWLO/deps/ag-grid-22.1.0/ag-grid.js\"), WebIO.Asset(\"css\", nothing, \"/home/cdaniels/.julia/packages/TableView/CxWLO/deps/ag-grid-22.1.0/ag-grid.css\"), WebIO.Asset(\"css\", nothing, \"/home/cdaniels/.julia/packages/TableView/CxWLO/deps/ag-grid-22.1.0/ag-grid-light.css\"), WebIO.Asset(\"css\", nothing, \"/home/cdaniels/.julia/packages/TableView/CxWLO/deps/ag-grid-22.1.0/ag-grid-dark.css\")], Dict{Any,Any}(\"requestedrows\" => Any[WebIO.JSString(\"(function (val){return WebIO.getval({\\\"name\\\":\\\"rowparams\\\",\\\"scope\\\":\\\"5605156802655509687\\\",\\\"id\\\":\\\"ob_69\\\",\\\"type\\\":\\\"observable\\\"}).successCallback(val,null)})\")]), WebIO.ConnectionPool(Channel{Any}(sz_max:32,sz_curr:0), Set(WebIO.AbstractConnection[]), Base.GenericCondition{Base.AlwaysLockedST}(Base.InvasiveLinkedList{Task}(Task (runnable) @0x00007f73ef9babf0, Task (runnable) @0x00007f73ef9babf0), Base.AlwaysLockedST(1))), WebIO.JSString[WebIO.JSString(\"function () {\\n    var handler = ((function (RowNumberRenderer,agGrid){var gridOptions={\\\"onCellFocused\\\":(function (ev){var x={}; (ev.rowIndex!==undefined) ? (x[\\\"rowIndex\\\"]=(ev.rowIndex+1)) : undefined; (ev.colDef!==undefined) ? (x[\\\"column\\\"]=ev.colDef.headerName) : undefined; return WebIO.setval({\\\"name\\\":\\\"onCellFocused\\\",\\\"scope\\\":\\\"5605156802655509687\\\",\\\"id\\\":\\\"ob_67\\\",\\\"type\\\":\\\"observable\\\"},x)}),\\\"onCellValueChanged\\\":(function (){return }),\\\"rowModelType\\\":\\\"infinite\\\",\\\"onRowClicked\\\":(function (ev){var x={}; (ev.rowIndex!==undefined) ? (x[\\\"rowIndex\\\"]=(ev.rowIndex+1)) : undefined; (ev.colDef!==undefined) ? (x[\\\"column\\\"]=ev.colDef.headerName) : undefined; return WebIO.setval({\\\"name\\\":\\\"onRowClicked\\\",\\\"scope\\\":\\\"5605156802655509687\\\",\\\"id\\\":\\\"ob_66\\\",\\\"type\\\":\\\"observable\\\"},x)}),\\\"maxConcurrentDatasourceRequests\\\":1,\\\"columnDefs\\\":[{\\\"filter\\\":false,\\\"editable\\\":false,\\\"headerTooltip\\\":\\\"\\\",\\\"field\\\":\\\"__row__\\\",\\\"headerName\\\":\\\"Row\\\",\\\"sortable\\\":false,\\\"type\\\":\\\"numericColumn\\\",\\\"cellRenderer\\\":\\\"rowNumberRenderer\\\",\\\"resizable\\\":true},{\\\"filter\\\":false,\\\"editable\\\":false,\\\"headerTooltip\\\":\\\"Float64\\\",\\\"field\\\":\\\"pch_casesIncreaseMA\\\",\\\"headerName\\\":\\\"pch_casesIncreaseMA\\\",\\\"sortable\\\":false,\\\"type\\\":\\\"numericColumn\\\",\\\"resizable\\\":true},{\\\"filter\\\":false,\\\"editable\\\":false,\\\"headerTooltip\\\":\\\"Int64\\\",\\\"field\\\":\\\"cases\\\",\\\"headerName\\\":\\\"cases\\\",\\\"sortable\\\":false,\\\"type\\\":\\\"numericColumn\\\",\\\"resizable\\\":true},{\\\"filter\\\":false,\\\"editable\\\":false,\\\"headerTooltip\\\":\\\"Int64\\\",\\\"field\\\":\\\"population\\\",\\\"headerName\\\":\\\"population\\\",\\\"sortable\\\":false,\\\"type\\\":\\\"numericColumn\\\",\\\"resizable\\\":true},{\\\"filter\\\":false,\\\"editable\\\":false,\\\"headerTooltip\\\":\\\"String\\\",\\\"field\\\":\\\"county\\\",\\\"headerName\\\":\\\"county\\\",\\\"sortable\\\":false,\\\"type\\\":null,\\\"resizable\\\":true},{\\\"filter\\\":false,\\\"editable\\\":false,\\\"headerTooltip\\\":\\\"String\\\",\\\"field\\\":\\\"state\\\",\\\"headerName\\\":\\\"state\\\",\\\"sortable\\\":false,\\\"type\\\":null,\\\"resizable\\\":true}],\\\"cacheBlockSize\\\":1000,\\\"datasource\\\":{\\\"rowCount\\\":null,\\\"getRows\\\":(function (rowParams){return WebIO.setval({\\\"name\\\":\\\"rowparams\\\",\\\"scope\\\":\\\"5605156802655509687\\\",\\\"id\\\":\\\"ob_69\\\",\\\"type\\\":\\\"observable\\\"},rowParams)})},\\\"multiSortKey\\\":\\\"ctrl\\\",\\\"maxBlocksInCache\\\":100,\\\"onCellDoubleClicked\\\":(function (ev){var x={}; (ev.rowIndex!==undefined) ? (x[\\\"rowIndex\\\"]=(ev.rowIndex+1)) : undefined; (ev.colDef!==undefined) ? (x[\\\"column\\\"]=ev.colDef.headerName) : undefined; return WebIO.setval({\\\"name\\\":\\\"onCellDoubleClicked\\\",\\\"scope\\\":\\\"5605156802655509687\\\",\\\"id\\\":\\\"ob_65\\\",\\\"type\\\":\\\"observable\\\"},x)}),\\\"onCellKeyDown\\\":(function (ev){var x={}; (ev.rowIndex!==undefined) ? (x[\\\"rowIndex\\\"]=(ev.rowIndex+1)) : undefined; (ev.colDef!==undefined) ? (x[\\\"column\\\"]=ev.colDef.headerName) : undefined; return WebIO.setval({\\\"name\\\":\\\"onCellKeyDown\\\",\\\"scope\\\":\\\"5605156802655509687\\\",\\\"id\\\":\\\"ob_68\\\",\\\"type\\\":\\\"observable\\\"},x)}),\\\"onCellClicked\\\":(function (ev){var x={}; (ev.rowIndex!==undefined) ? (x[\\\"rowIndex\\\"]=(ev.rowIndex+1)) : undefined; (ev.colDef!==undefined) ? (x[\\\"column\\\"]=ev.colDef.headerName) : undefined; return WebIO.setval({\\\"name\\\":\\\"onCellClicked\\\",\\\"scope\\\":\\\"5605156802655509687\\\",\\\"id\\\":\\\"ob_64\\\",\\\"type\\\":\\\"observable\\\"},x)})}; var el=document.getElementById(\\\"grid-a8bf67a2\\\"); gridOptions.components={\\\"rowNumberRenderer\\\":RowNumberRenderer}; this.table=new agGrid.Grid(el,gridOptions); gridOptions.columnApi.autoSizeColumn(\\\"__row__\\\"); return gridOptions.columnApi.autoSizeColumns([\\\"pch_casesIncreaseMA\\\",\\\"cases\\\",\\\"population\\\",\\\"county\\\",\\\"state\\\"])}));\\n    (WebIO.importBlock({\\\"data\\\":[{\\\"name\\\":null,\\\"type\\\":\\\"js\\\",\\\"url\\\":\\\"/assetserver/ed80b7d691fade66e145983a11fb79e515dab825-rowNumberRenderer.js\\\"},{\\\"name\\\":null,\\\"type\\\":\\\"js\\\",\\\"url\\\":\\\"/assetserver/b9b20eb0f99819a38f7ecc433feed4bbe393c528-ag-grid.js\\\"},{\\\"name\\\":null,\\\"type\\\":\\\"css\\\",\\\"url\\\":\\\"/assetserver/5b9005a8a21f5ef6a55c77dc41516952608d0d1d-ag-grid.css\\\"},{\\\"name\\\":null,\\\"type\\\":\\\"css\\\",\\\"url\\\":\\\"/assetserver/fb7e660811b5af595641e24a03483dce78e1076e-ag-grid-light.css\\\"},{\\\"name\\\":null,\\\"type\\\":\\\"css\\\",\\\"url\\\":\\\"/assetserver/6ec54d9f8a742a6e19395fb487212fdce57da7bc-ag-grid-dark.css\\\"}],\\\"type\\\":\\\"async_block\\\"})).then((imports) => handler.apply(this, imports));\\n}\\n\")])"
      ]
     },
     "execution_count": 19,
     "metadata": {
      "application/vnd.webio.node+json": {
       "kernelId": "f76cff0d-71eb-4fcb-8f14-2113642ca679"
      }
     },
     "output_type": "execute_result"
    }
   ],
   "source": [
    "@tbl sort(dfcd_f[:,[:pch_casesIncreaseMA,:cases,:population,:county,:state]],rev=true)"
   ]
  },
  {
   "cell_type": "code",
   "execution_count": 20,
   "metadata": {
    "scrolled": true
   },
   "outputs": [
    {
     "name": "stdout",
     "output_type": "stream",
     "text": [
      "394 counties have had more than a total of 500 COVID-19 cases reported."
     ]
    }
   ],
   "source": [
    "num_c =nrow(dfcd_f)\n",
    "print(\"$(num_c) counties have had more than a total of $(min_cases) COVID-19 cases reported.\")"
   ]
  },
  {
   "cell_type": "code",
   "execution_count": 21,
   "metadata": {},
   "outputs": [
    {
     "name": "stdout",
     "output_type": "stream",
     "text": [
      "34.0% of these counties had more than a 5% increase in new weekly cases."
     ]
    }
   ],
   "source": [
    "inc_ma = round(100*count(dfcd_f.pch_casesIncreaseMA .> min_grw)/num_c)\n",
    "print(\"$(inc_ma)% of these counties had more than a $(min_grw)% increase in new weekly cases.\")"
   ]
  },
  {
   "cell_type": "code",
   "execution_count": 22,
   "metadata": {},
   "outputs": [
    {
     "name": "stdout",
     "output_type": "stream",
     "text": [
      "66.0% of these counties had less than a 5% increase in new weekly cases."
     ]
    }
   ],
   "source": [
    "dec_ma = round(100*count(dfcd_f.pch_casesIncreaseMA .< min_grw)/num_c)\n",
    "print(\"$(dec_ma)% of these counties had less than a $(min_grw)% increase in new weekly cases.\")"
   ]
  },
  {
   "cell_type": "markdown",
   "metadata": {},
   "source": [
    "### Add County Infection Rate per 100,000"
   ]
  },
  {
   "cell_type": "code",
   "execution_count": 26,
   "metadata": {
    "scrolled": true
   },
   "outputs": [],
   "source": [
    "dfcp = dfcd_f\n",
    "dfcp = [dfcp round.(100000 * dfcp.casesIncreaseMA ./ dfcp.population)]\n",
    "rename!(dfcp,:x1=>:casesInc100k)\n",
    "dfcp = dfcp[:,[:state,:county,:population,:cases,:casesIncreaseMA,:casesInc100k,:pch_casesIncreaseMA]];"
   ]
  },
  {
   "cell_type": "markdown",
   "metadata": {},
   "source": [
    "#### Highest Number of New Daily Cases per County"
   ]
  },
  {
   "cell_type": "code",
   "execution_count": 36,
   "metadata": {
    "scrolled": false
   },
   "outputs": [
    {
     "data": {
      "application/vnd.webio.node+json": {
       "children": [
        {
         "children": [
          {
           "children": [
            ""
           ],
           "instanceArgs": {
            "namespace": "html",
            "tag": "div"
           },
           "nodeType": "DOM",
           "props": {
            "style": {
             "background-color": "#F5F7F7",
             "color": "#1c1f20",
             "font-family": "-apple-system, BlinkMacSystemFont, \"Segoe UI\", Roboto, Oxygen-Sans, Ubuntu, Cantarell, \"Helvetica Neue\", sans-serif",
             "height": "0",
             "padding": "0"
            }
           },
           "type": "node"
          },
          {
           "children": [],
           "instanceArgs": {
            "namespace": "html",
            "tag": "div"
           },
           "nodeType": "DOM",
           "props": {
            "className": "ag-theme-balham",
            "id": "grid-6a4ed616",
            "style": {
             "height": "500px",
             "width": "100%"
            }
           },
           "type": "node"
          }
         ],
         "instanceArgs": {
          "namespace": "html",
          "tag": "div"
         },
         "nodeType": "DOM",
         "props": {},
         "type": "node"
        }
       ],
       "instanceArgs": {
        "handlers": {
         "requestedrows": [
          "(function (val){return WebIO.getval({\"name\":\"rowparams\",\"scope\":\"18251764464591390950\",\"id\":\"ob_118\",\"type\":\"observable\"}).successCallback(val,null)})"
         ]
        },
        "id": "18251764464591390950",
        "imports": {
         "data": [
          {
           "name": null,
           "type": "js",
           "url": "/assetserver/ed80b7d691fade66e145983a11fb79e515dab825-rowNumberRenderer.js"
          },
          {
           "name": null,
           "type": "js",
           "url": "/assetserver/b9b20eb0f99819a38f7ecc433feed4bbe393c528-ag-grid.js"
          },
          {
           "name": null,
           "type": "css",
           "url": "/assetserver/5b9005a8a21f5ef6a55c77dc41516952608d0d1d-ag-grid.css"
          },
          {
           "name": null,
           "type": "css",
           "url": "/assetserver/fb7e660811b5af595641e24a03483dce78e1076e-ag-grid-light.css"
          },
          {
           "name": null,
           "type": "css",
           "url": "/assetserver/6ec54d9f8a742a6e19395fb487212fdce57da7bc-ag-grid-dark.css"
          }
         ],
         "type": "async_block"
        },
        "mount_callbacks": [
         "function () {\n    var handler = ((function (RowNumberRenderer,agGrid){var gridOptions={\"onCellFocused\":(function (ev){var x={}; (ev.rowIndex!==undefined) ? (x[\"rowIndex\"]=(ev.rowIndex+1)) : undefined; (ev.colDef!==undefined) ? (x[\"column\"]=ev.colDef.headerName) : undefined; return WebIO.setval({\"name\":\"onCellFocused\",\"scope\":\"18251764464591390950\",\"id\":\"ob_116\",\"type\":\"observable\"},x)}),\"onCellValueChanged\":(function (){return }),\"rowModelType\":\"infinite\",\"onRowClicked\":(function (ev){var x={}; (ev.rowIndex!==undefined) ? (x[\"rowIndex\"]=(ev.rowIndex+1)) : undefined; (ev.colDef!==undefined) ? (x[\"column\"]=ev.colDef.headerName) : undefined; return WebIO.setval({\"name\":\"onRowClicked\",\"scope\":\"18251764464591390950\",\"id\":\"ob_115\",\"type\":\"observable\"},x)}),\"maxConcurrentDatasourceRequests\":1,\"columnDefs\":[{\"filter\":false,\"editable\":false,\"headerTooltip\":\"\",\"field\":\"__row__\",\"headerName\":\"Row\",\"sortable\":false,\"type\":\"numericColumn\",\"cellRenderer\":\"rowNumberRenderer\",\"resizable\":true},{\"filter\":false,\"editable\":false,\"headerTooltip\":\"String\",\"field\":\"state\",\"headerName\":\"state\",\"sortable\":false,\"type\":null,\"resizable\":true},{\"filter\":false,\"editable\":false,\"headerTooltip\":\"String\",\"field\":\"county\",\"headerName\":\"county\",\"sortable\":false,\"type\":null,\"resizable\":true},{\"filter\":false,\"editable\":false,\"headerTooltip\":\"Int64\",\"field\":\"population\",\"headerName\":\"population\",\"sortable\":false,\"type\":\"numericColumn\",\"resizable\":true},{\"filter\":false,\"editable\":false,\"headerTooltip\":\"Int64\",\"field\":\"cases\",\"headerName\":\"cases\",\"sortable\":false,\"type\":\"numericColumn\",\"resizable\":true},{\"filter\":false,\"editable\":false,\"headerTooltip\":\"Float64\",\"field\":\"casesIncreaseMA\",\"headerName\":\"casesIncreaseMA\",\"sortable\":false,\"type\":\"numericColumn\",\"resizable\":true},{\"filter\":false,\"editable\":false,\"headerTooltip\":\"Float64\",\"field\":\"casesInc100k\",\"headerName\":\"casesInc100k\",\"sortable\":false,\"type\":\"numericColumn\",\"resizable\":true},{\"filter\":false,\"editable\":false,\"headerTooltip\":\"Float64\",\"field\":\"pch_casesIncreaseMA\",\"headerName\":\"pch_casesIncreaseMA\",\"sortable\":false,\"type\":\"numericColumn\",\"resizable\":true}],\"cacheBlockSize\":1000,\"datasource\":{\"rowCount\":null,\"getRows\":(function (rowParams){return WebIO.setval({\"name\":\"rowparams\",\"scope\":\"18251764464591390950\",\"id\":\"ob_118\",\"type\":\"observable\"},rowParams)})},\"multiSortKey\":\"ctrl\",\"maxBlocksInCache\":100,\"onCellDoubleClicked\":(function (ev){var x={}; (ev.rowIndex!==undefined) ? (x[\"rowIndex\"]=(ev.rowIndex+1)) : undefined; (ev.colDef!==undefined) ? (x[\"column\"]=ev.colDef.headerName) : undefined; return WebIO.setval({\"name\":\"onCellDoubleClicked\",\"scope\":\"18251764464591390950\",\"id\":\"ob_114\",\"type\":\"observable\"},x)}),\"onCellKeyDown\":(function (ev){var x={}; (ev.rowIndex!==undefined) ? (x[\"rowIndex\"]=(ev.rowIndex+1)) : undefined; (ev.colDef!==undefined) ? (x[\"column\"]=ev.colDef.headerName) : undefined; return WebIO.setval({\"name\":\"onCellKeyDown\",\"scope\":\"18251764464591390950\",\"id\":\"ob_117\",\"type\":\"observable\"},x)}),\"onCellClicked\":(function (ev){var x={}; (ev.rowIndex!==undefined) ? (x[\"rowIndex\"]=(ev.rowIndex+1)) : undefined; (ev.colDef!==undefined) ? (x[\"column\"]=ev.colDef.headerName) : undefined; return WebIO.setval({\"name\":\"onCellClicked\",\"scope\":\"18251764464591390950\",\"id\":\"ob_113\",\"type\":\"observable\"},x)})}; var el=document.getElementById(\"grid-6a4ed616\"); gridOptions.components={\"rowNumberRenderer\":RowNumberRenderer}; this.table=new agGrid.Grid(el,gridOptions); gridOptions.columnApi.autoSizeColumn(\"__row__\"); return gridOptions.columnApi.autoSizeColumns([\"state\",\"county\",\"population\",\"cases\",\"casesIncreaseMA\",\"casesInc100k\",\"pch_casesIncreaseMA\"])}));\n    (WebIO.importBlock({\"data\":[{\"name\":null,\"type\":\"js\",\"url\":\"/assetserver/ed80b7d691fade66e145983a11fb79e515dab825-rowNumberRenderer.js\"},{\"name\":null,\"type\":\"js\",\"url\":\"/assetserver/b9b20eb0f99819a38f7ecc433feed4bbe393c528-ag-grid.js\"},{\"name\":null,\"type\":\"css\",\"url\":\"/assetserver/5b9005a8a21f5ef6a55c77dc41516952608d0d1d-ag-grid.css\"},{\"name\":null,\"type\":\"css\",\"url\":\"/assetserver/fb7e660811b5af595641e24a03483dce78e1076e-ag-grid-light.css\"},{\"name\":null,\"type\":\"css\",\"url\":\"/assetserver/6ec54d9f8a742a6e19395fb487212fdce57da7bc-ag-grid-dark.css\"}],\"type\":\"async_block\"})).then((imports) => handler.apply(this, imports));\n}\n"
        ],
        "observables": {
         "onCellClicked": {
          "id": "ob_113",
          "sync": false,
          "value": null
         },
         "onCellDoubleClicked": {
          "id": "ob_114",
          "sync": false,
          "value": null
         },
         "onCellFocused": {
          "id": "ob_116",
          "sync": false,
          "value": null
         },
         "onCellKeyDown": {
          "id": "ob_117",
          "sync": false,
          "value": null
         },
         "onRowClicked": {
          "id": "ob_115",
          "sync": false,
          "value": null
         },
         "requestedrows": {
          "id": "ob_119",
          "sync": false,
          "value": {}
         },
         "rowparams": {
          "id": "ob_118",
          "sync": true,
          "value": {
           "endRow": 100,
           "startRow": 1,
           "successCallback": "(function (v){return null})"
          }
         }
        },
        "systemjs_options": null
       },
       "nodeType": "Scope",
       "props": {},
       "type": "node"
      },
      "text/html": [
       "<div\n",
       "    class=\"webio-mountpoint\"\n",
       "    data-webio-mountpoint=\"9852865160134715785\"\n",
       ">\n",
       "    <script>\n",
       "    if (window.require && require.defined && require.defined(\"nbextensions/webio-jupyter-notebook\")) {\n",
       "        console.log(\"Jupyter WebIO extension detected, not mounting.\");\n",
       "    } else if (window.WebIO) {\n",
       "        WebIO.mount(\n",
       "            document.querySelector('[data-webio-mountpoint=\"9852865160134715785\"]'),\n",
       "            {\"props\":{},\"nodeType\":\"Scope\",\"type\":\"node\",\"instanceArgs\":{\"imports\":{\"data\":[{\"name\":null,\"type\":\"js\",\"url\":\"\\/assetserver\\/ed80b7d691fade66e145983a11fb79e515dab825-rowNumberRenderer.js\"},{\"name\":null,\"type\":\"js\",\"url\":\"\\/assetserver\\/b9b20eb0f99819a38f7ecc433feed4bbe393c528-ag-grid.js\"},{\"name\":null,\"type\":\"css\",\"url\":\"\\/assetserver\\/5b9005a8a21f5ef6a55c77dc41516952608d0d1d-ag-grid.css\"},{\"name\":null,\"type\":\"css\",\"url\":\"\\/assetserver\\/fb7e660811b5af595641e24a03483dce78e1076e-ag-grid-light.css\"},{\"name\":null,\"type\":\"css\",\"url\":\"\\/assetserver\\/6ec54d9f8a742a6e19395fb487212fdce57da7bc-ag-grid-dark.css\"}],\"type\":\"async_block\"},\"id\":\"18251764464591390950\",\"handlers\":{\"requestedrows\":[\"(function (val){return WebIO.getval({\\\"name\\\":\\\"rowparams\\\",\\\"scope\\\":\\\"18251764464591390950\\\",\\\"id\\\":\\\"ob_118\\\",\\\"type\\\":\\\"observable\\\"}).successCallback(val,null)})\"]},\"systemjs_options\":null,\"mount_callbacks\":[\"function () {\\n    var handler = ((function (RowNumberRenderer,agGrid){var gridOptions={\\\"onCellFocused\\\":(function (ev){var x={}; (ev.rowIndex!==undefined) ? (x[\\\"rowIndex\\\"]=(ev.rowIndex+1)) : undefined; (ev.colDef!==undefined) ? (x[\\\"column\\\"]=ev.colDef.headerName) : undefined; return WebIO.setval({\\\"name\\\":\\\"onCellFocused\\\",\\\"scope\\\":\\\"18251764464591390950\\\",\\\"id\\\":\\\"ob_116\\\",\\\"type\\\":\\\"observable\\\"},x)}),\\\"onCellValueChanged\\\":(function (){return }),\\\"rowModelType\\\":\\\"infinite\\\",\\\"onRowClicked\\\":(function (ev){var x={}; (ev.rowIndex!==undefined) ? (x[\\\"rowIndex\\\"]=(ev.rowIndex+1)) : undefined; (ev.colDef!==undefined) ? (x[\\\"column\\\"]=ev.colDef.headerName) : undefined; return WebIO.setval({\\\"name\\\":\\\"onRowClicked\\\",\\\"scope\\\":\\\"18251764464591390950\\\",\\\"id\\\":\\\"ob_115\\\",\\\"type\\\":\\\"observable\\\"},x)}),\\\"maxConcurrentDatasourceRequests\\\":1,\\\"columnDefs\\\":[{\\\"filter\\\":false,\\\"editable\\\":false,\\\"headerTooltip\\\":\\\"\\\",\\\"field\\\":\\\"__row__\\\",\\\"headerName\\\":\\\"Row\\\",\\\"sortable\\\":false,\\\"type\\\":\\\"numericColumn\\\",\\\"cellRenderer\\\":\\\"rowNumberRenderer\\\",\\\"resizable\\\":true},{\\\"filter\\\":false,\\\"editable\\\":false,\\\"headerTooltip\\\":\\\"String\\\",\\\"field\\\":\\\"state\\\",\\\"headerName\\\":\\\"state\\\",\\\"sortable\\\":false,\\\"type\\\":null,\\\"resizable\\\":true},{\\\"filter\\\":false,\\\"editable\\\":false,\\\"headerTooltip\\\":\\\"String\\\",\\\"field\\\":\\\"county\\\",\\\"headerName\\\":\\\"county\\\",\\\"sortable\\\":false,\\\"type\\\":null,\\\"resizable\\\":true},{\\\"filter\\\":false,\\\"editable\\\":false,\\\"headerTooltip\\\":\\\"Int64\\\",\\\"field\\\":\\\"population\\\",\\\"headerName\\\":\\\"population\\\",\\\"sortable\\\":false,\\\"type\\\":\\\"numericColumn\\\",\\\"resizable\\\":true},{\\\"filter\\\":false,\\\"editable\\\":false,\\\"headerTooltip\\\":\\\"Int64\\\",\\\"field\\\":\\\"cases\\\",\\\"headerName\\\":\\\"cases\\\",\\\"sortable\\\":false,\\\"type\\\":\\\"numericColumn\\\",\\\"resizable\\\":true},{\\\"filter\\\":false,\\\"editable\\\":false,\\\"headerTooltip\\\":\\\"Float64\\\",\\\"field\\\":\\\"casesIncreaseMA\\\",\\\"headerName\\\":\\\"casesIncreaseMA\\\",\\\"sortable\\\":false,\\\"type\\\":\\\"numericColumn\\\",\\\"resizable\\\":true},{\\\"filter\\\":false,\\\"editable\\\":false,\\\"headerTooltip\\\":\\\"Float64\\\",\\\"field\\\":\\\"casesInc100k\\\",\\\"headerName\\\":\\\"casesInc100k\\\",\\\"sortable\\\":false,\\\"type\\\":\\\"numericColumn\\\",\\\"resizable\\\":true},{\\\"filter\\\":false,\\\"editable\\\":false,\\\"headerTooltip\\\":\\\"Float64\\\",\\\"field\\\":\\\"pch_casesIncreaseMA\\\",\\\"headerName\\\":\\\"pch_casesIncreaseMA\\\",\\\"sortable\\\":false,\\\"type\\\":\\\"numericColumn\\\",\\\"resizable\\\":true}],\\\"cacheBlockSize\\\":1000,\\\"datasource\\\":{\\\"rowCount\\\":null,\\\"getRows\\\":(function (rowParams){return WebIO.setval({\\\"name\\\":\\\"rowparams\\\",\\\"scope\\\":\\\"18251764464591390950\\\",\\\"id\\\":\\\"ob_118\\\",\\\"type\\\":\\\"observable\\\"},rowParams)})},\\\"multiSortKey\\\":\\\"ctrl\\\",\\\"maxBlocksInCache\\\":100,\\\"onCellDoubleClicked\\\":(function (ev){var x={}; (ev.rowIndex!==undefined) ? (x[\\\"rowIndex\\\"]=(ev.rowIndex+1)) : undefined; (ev.colDef!==undefined) ? (x[\\\"column\\\"]=ev.colDef.headerName) : undefined; return WebIO.setval({\\\"name\\\":\\\"onCellDoubleClicked\\\",\\\"scope\\\":\\\"18251764464591390950\\\",\\\"id\\\":\\\"ob_114\\\",\\\"type\\\":\\\"observable\\\"},x)}),\\\"onCellKeyDown\\\":(function (ev){var x={}; (ev.rowIndex!==undefined) ? (x[\\\"rowIndex\\\"]=(ev.rowIndex+1)) : undefined; (ev.colDef!==undefined) ? (x[\\\"column\\\"]=ev.colDef.headerName) : undefined; return WebIO.setval({\\\"name\\\":\\\"onCellKeyDown\\\",\\\"scope\\\":\\\"18251764464591390950\\\",\\\"id\\\":\\\"ob_117\\\",\\\"type\\\":\\\"observable\\\"},x)}),\\\"onCellClicked\\\":(function (ev){var x={}; (ev.rowIndex!==undefined) ? (x[\\\"rowIndex\\\"]=(ev.rowIndex+1)) : undefined; (ev.colDef!==undefined) ? (x[\\\"column\\\"]=ev.colDef.headerName) : undefined; return WebIO.setval({\\\"name\\\":\\\"onCellClicked\\\",\\\"scope\\\":\\\"18251764464591390950\\\",\\\"id\\\":\\\"ob_113\\\",\\\"type\\\":\\\"observable\\\"},x)})}; var el=document.getElementById(\\\"grid-6a4ed616\\\"); gridOptions.components={\\\"rowNumberRenderer\\\":RowNumberRenderer}; this.table=new agGrid.Grid(el,gridOptions); gridOptions.columnApi.autoSizeColumn(\\\"__row__\\\"); return gridOptions.columnApi.autoSizeColumns([\\\"state\\\",\\\"county\\\",\\\"population\\\",\\\"cases\\\",\\\"casesIncreaseMA\\\",\\\"casesInc100k\\\",\\\"pch_casesIncreaseMA\\\"])}));\\n    (WebIO.importBlock({\\\"data\\\":[{\\\"name\\\":null,\\\"type\\\":\\\"js\\\",\\\"url\\\":\\\"\\/assetserver\\/ed80b7d691fade66e145983a11fb79e515dab825-rowNumberRenderer.js\\\"},{\\\"name\\\":null,\\\"type\\\":\\\"js\\\",\\\"url\\\":\\\"\\/assetserver\\/b9b20eb0f99819a38f7ecc433feed4bbe393c528-ag-grid.js\\\"},{\\\"name\\\":null,\\\"type\\\":\\\"css\\\",\\\"url\\\":\\\"\\/assetserver\\/5b9005a8a21f5ef6a55c77dc41516952608d0d1d-ag-grid.css\\\"},{\\\"name\\\":null,\\\"type\\\":\\\"css\\\",\\\"url\\\":\\\"\\/assetserver\\/fb7e660811b5af595641e24a03483dce78e1076e-ag-grid-light.css\\\"},{\\\"name\\\":null,\\\"type\\\":\\\"css\\\",\\\"url\\\":\\\"\\/assetserver\\/6ec54d9f8a742a6e19395fb487212fdce57da7bc-ag-grid-dark.css\\\"}],\\\"type\\\":\\\"async_block\\\"})).then((imports) => handler.apply(this, imports));\\n}\\n\"],\"observables\":{\"onCellKeyDown\":{\"sync\":false,\"id\":\"ob_117\",\"value\":null},\"onRowClicked\":{\"sync\":false,\"id\":\"ob_115\",\"value\":null},\"onCellDoubleClicked\":{\"sync\":false,\"id\":\"ob_114\",\"value\":null},\"requestedrows\":{\"sync\":false,\"id\":\"ob_119\",\"value\":{}},\"onCellClicked\":{\"sync\":false,\"id\":\"ob_113\",\"value\":null},\"onCellFocused\":{\"sync\":false,\"id\":\"ob_116\",\"value\":null},\"rowparams\":{\"sync\":true,\"id\":\"ob_118\",\"value\":{\"successCallback\":\"(function (v){return null})\",\"startRow\":1,\"endRow\":100}}}},\"children\":[{\"props\":{},\"nodeType\":\"DOM\",\"type\":\"node\",\"instanceArgs\":{\"namespace\":\"html\",\"tag\":\"div\"},\"children\":[{\"props\":{\"style\":{\"height\":\"0\",\"padding\":\"0\",\"background-color\":\"#F5F7F7\",\"color\":\"#1c1f20\",\"font-family\":\"-apple-system, BlinkMacSystemFont, \\\"Segoe UI\\\", Roboto, Oxygen-Sans, Ubuntu, Cantarell, \\\"Helvetica Neue\\\", sans-serif\"}},\"nodeType\":\"DOM\",\"type\":\"node\",\"instanceArgs\":{\"namespace\":\"html\",\"tag\":\"div\"},\"children\":[\"\"]},{\"props\":{\"id\":\"grid-6a4ed616\",\"className\":\"ag-theme-balham\",\"style\":{\"height\":\"500px\",\"width\":\"100%\"}},\"nodeType\":\"DOM\",\"type\":\"node\",\"instanceArgs\":{\"namespace\":\"html\",\"tag\":\"div\"},\"children\":[]}]}]},\n",
       "            window,\n",
       "        );\n",
       "    } else {\n",
       "        document\n",
       "            .querySelector('[data-webio-mountpoint=\"9852865160134715785\"]')\n",
       "            .innerHTML = (\n",
       "                '<div style=\"padding: 1em; background-color: #f8d6da; border: 1px solid #f5c6cb\">' +\n",
       "                '<p><strong>WebIO not detected.</strong></p>' +\n",
       "                '<p>Please read ' +\n",
       "                '<a href=\"https://juliagizmos.github.io/WebIO.jl/latest/troubleshooting/not-detected/\" target=\"_blank\">the troubleshooting guide</a> ' +\n",
       "                'for more information on how to resolve this issue.</p>' +\n",
       "                '<p><a href=\"https://juliagizmos.github.io/WebIO.jl/latest/troubleshooting/not-detected/\" target=\"_blank\">https://juliagizmos.github.io/WebIO.jl/latest/troubleshooting/not-detected/</a></p>' +\n",
       "                '</div>'\n",
       "            );\n",
       "    }\n",
       "    </script>\n",
       "</div>\n"
      ],
      "text/plain": [
       "WebIO.Scope(WebIO.Node{WebIO.DOM}(WebIO.DOM(:html, :div), Any[WebIO.Node{WebIO.DOM}(WebIO.DOM(:html, :div), Any[\"\"], Dict{Symbol,Any}(:style => Dict(\"height\" => \"0\",\"padding\" => \"0\",\"background-color\" => \"#F5F7F7\",\"color\" => \"#1c1f20\",\"font-family\" => \"-apple-system, BlinkMacSystemFont, \\\"Segoe UI\\\", Roboto, Oxygen-Sans, Ubuntu, Cantarell, \\\"Helvetica Neue\\\", sans-serif\"))), WebIO.Node{WebIO.DOM}(WebIO.DOM(:html, :div), Any[], Dict{Symbol,Any}(:id => \"grid-6a4ed616\",:className => \"ag-theme-balham\",:style => Dict(\"height\" => \"500px\",\"width\" => \"100%\")))], Dict{Symbol,Any}()), Dict{String,Tuple{Observables.AbstractObservable,Union{Nothing, Bool}}}(\"onCellKeyDown\" => (Observable{Any} with 0 listeners. Value:\n",
       "nothing, nothing),\"onRowClicked\" => (Observable{Any} with 0 listeners. Value:\n",
       "nothing, nothing),\"onCellDoubleClicked\" => (Observable{Any} with 0 listeners. Value:\n",
       "nothing, nothing),\"requestedrows\" => (Observable{JSON.Writer.JSONText} with 1 listeners. Value:\n",
       "JSON.Writer.JSONText(\"{}\"), nothing),\"onCellClicked\" => (Observable{Any} with 0 listeners. Value:\n",
       "nothing, nothing),\"onCellFocused\" => (Observable{Any} with 0 listeners. Value:\n",
       "nothing, nothing),\"rowparams\" => (Observable{Dict{String,Any}} with 1 listeners. Value:\n",
       "Dict{String,Any}(\"successCallback\" => WebIO.JSString(\"(function (v){return null})\"),\"startRow\" => 1,\"endRow\" => 100), nothing)), Set(String[]), nothing, WebIO.Asset[WebIO.Asset(\"js\", nothing, \"/home/cdaniels/.julia/packages/TableView/CxWLO/src/rowNumberRenderer.js\"), WebIO.Asset(\"js\", nothing, \"/home/cdaniels/.julia/packages/TableView/CxWLO/deps/ag-grid-22.1.0/ag-grid.js\"), WebIO.Asset(\"css\", nothing, \"/home/cdaniels/.julia/packages/TableView/CxWLO/deps/ag-grid-22.1.0/ag-grid.css\"), WebIO.Asset(\"css\", nothing, \"/home/cdaniels/.julia/packages/TableView/CxWLO/deps/ag-grid-22.1.0/ag-grid-light.css\"), WebIO.Asset(\"css\", nothing, \"/home/cdaniels/.julia/packages/TableView/CxWLO/deps/ag-grid-22.1.0/ag-grid-dark.css\")], Dict{Any,Any}(\"requestedrows\" => Any[WebIO.JSString(\"(function (val){return WebIO.getval({\\\"name\\\":\\\"rowparams\\\",\\\"scope\\\":\\\"18251764464591390950\\\",\\\"id\\\":\\\"ob_118\\\",\\\"type\\\":\\\"observable\\\"}).successCallback(val,null)})\")]), WebIO.ConnectionPool(Channel{Any}(sz_max:32,sz_curr:0), Set(WebIO.AbstractConnection[]), Base.GenericCondition{Base.AlwaysLockedST}(Base.InvasiveLinkedList{Task}(Task (runnable) @0x00007f73f39f75b0, Task (runnable) @0x00007f73f39f75b0), Base.AlwaysLockedST(1))), WebIO.JSString[WebIO.JSString(\"function () {\\n    var handler = ((function (RowNumberRenderer,agGrid){var gridOptions={\\\"onCellFocused\\\":(function (ev){var x={}; (ev.rowIndex!==undefined) ? (x[\\\"rowIndex\\\"]=(ev.rowIndex+1)) : undefined; (ev.colDef!==undefined) ? (x[\\\"column\\\"]=ev.colDef.headerName) : undefined; return WebIO.setval({\\\"name\\\":\\\"onCellFocused\\\",\\\"scope\\\":\\\"18251764464591390950\\\",\\\"id\\\":\\\"ob_116\\\",\\\"type\\\":\\\"observable\\\"},x)}),\\\"onCellValueChanged\\\":(function (){return }),\\\"rowModelType\\\":\\\"infinite\\\",\\\"onRowClicked\\\":(function (ev){var x={}; (ev.rowIndex!==undefined) ? (x[\\\"rowIndex\\\"]=(ev.rowIndex+1)) : undefined; (ev.colDef!==undefined) ? (x[\\\"column\\\"]=ev.colDef.headerName) : undefined; return WebIO.setval({\\\"name\\\":\\\"onRowClicked\\\",\\\"scope\\\":\\\"18251764464591390950\\\",\\\"id\\\":\\\"ob_115\\\",\\\"type\\\":\\\"observable\\\"},x)}),\\\"maxConcurrentDatasourceRequests\\\":1,\\\"columnDefs\\\":[{\\\"filter\\\":false,\\\"editable\\\":false,\\\"headerTooltip\\\":\\\"\\\",\\\"field\\\":\\\"__row__\\\",\\\"headerName\\\":\\\"Row\\\",\\\"sortable\\\":false,\\\"type\\\":\\\"numericColumn\\\",\\\"cellRenderer\\\":\\\"rowNumberRenderer\\\",\\\"resizable\\\":true},{\\\"filter\\\":false,\\\"editable\\\":false,\\\"headerTooltip\\\":\\\"String\\\",\\\"field\\\":\\\"state\\\",\\\"headerName\\\":\\\"state\\\",\\\"sortable\\\":false,\\\"type\\\":null,\\\"resizable\\\":true},{\\\"filter\\\":false,\\\"editable\\\":false,\\\"headerTooltip\\\":\\\"String\\\",\\\"field\\\":\\\"county\\\",\\\"headerName\\\":\\\"county\\\",\\\"sortable\\\":false,\\\"type\\\":null,\\\"resizable\\\":true},{\\\"filter\\\":false,\\\"editable\\\":false,\\\"headerTooltip\\\":\\\"Int64\\\",\\\"field\\\":\\\"population\\\",\\\"headerName\\\":\\\"population\\\",\\\"sortable\\\":false,\\\"type\\\":\\\"numericColumn\\\",\\\"resizable\\\":true},{\\\"filter\\\":false,\\\"editable\\\":false,\\\"headerTooltip\\\":\\\"Int64\\\",\\\"field\\\":\\\"cases\\\",\\\"headerName\\\":\\\"cases\\\",\\\"sortable\\\":false,\\\"type\\\":\\\"numericColumn\\\",\\\"resizable\\\":true},{\\\"filter\\\":false,\\\"editable\\\":false,\\\"headerTooltip\\\":\\\"Float64\\\",\\\"field\\\":\\\"casesIncreaseMA\\\",\\\"headerName\\\":\\\"casesIncreaseMA\\\",\\\"sortable\\\":false,\\\"type\\\":\\\"numericColumn\\\",\\\"resizable\\\":true},{\\\"filter\\\":false,\\\"editable\\\":false,\\\"headerTooltip\\\":\\\"Float64\\\",\\\"field\\\":\\\"casesInc100k\\\",\\\"headerName\\\":\\\"casesInc100k\\\",\\\"sortable\\\":false,\\\"type\\\":\\\"numericColumn\\\",\\\"resizable\\\":true},{\\\"filter\\\":false,\\\"editable\\\":false,\\\"headerTooltip\\\":\\\"Float64\\\",\\\"field\\\":\\\"pch_casesIncreaseMA\\\",\\\"headerName\\\":\\\"pch_casesIncreaseMA\\\",\\\"sortable\\\":false,\\\"type\\\":\\\"numericColumn\\\",\\\"resizable\\\":true}],\\\"cacheBlockSize\\\":1000,\\\"datasource\\\":{\\\"rowCount\\\":null,\\\"getRows\\\":(function (rowParams){return WebIO.setval({\\\"name\\\":\\\"rowparams\\\",\\\"scope\\\":\\\"18251764464591390950\\\",\\\"id\\\":\\\"ob_118\\\",\\\"type\\\":\\\"observable\\\"},rowParams)})},\\\"multiSortKey\\\":\\\"ctrl\\\",\\\"maxBlocksInCache\\\":100,\\\"onCellDoubleClicked\\\":(function (ev){var x={}; (ev.rowIndex!==undefined) ? (x[\\\"rowIndex\\\"]=(ev.rowIndex+1)) : undefined; (ev.colDef!==undefined) ? (x[\\\"column\\\"]=ev.colDef.headerName) : undefined; return WebIO.setval({\\\"name\\\":\\\"onCellDoubleClicked\\\",\\\"scope\\\":\\\"18251764464591390950\\\",\\\"id\\\":\\\"ob_114\\\",\\\"type\\\":\\\"observable\\\"},x)}),\\\"onCellKeyDown\\\":(function (ev){var x={}; (ev.rowIndex!==undefined) ? (x[\\\"rowIndex\\\"]=(ev.rowIndex+1)) : undefined; (ev.colDef!==undefined) ? (x[\\\"column\\\"]=ev.colDef.headerName) : undefined; return WebIO.setval({\\\"name\\\":\\\"onCellKeyDown\\\",\\\"scope\\\":\\\"18251764464591390950\\\",\\\"id\\\":\\\"ob_117\\\",\\\"type\\\":\\\"observable\\\"},x)}),\\\"onCellClicked\\\":(function (ev){var x={}; (ev.rowIndex!==undefined) ? (x[\\\"rowIndex\\\"]=(ev.rowIndex+1)) : undefined; (ev.colDef!==undefined) ? (x[\\\"column\\\"]=ev.colDef.headerName) : undefined; return WebIO.setval({\\\"name\\\":\\\"onCellClicked\\\",\\\"scope\\\":\\\"18251764464591390950\\\",\\\"id\\\":\\\"ob_113\\\",\\\"type\\\":\\\"observable\\\"},x)})}; var el=document.getElementById(\\\"grid-6a4ed616\\\"); gridOptions.components={\\\"rowNumberRenderer\\\":RowNumberRenderer}; this.table=new agGrid.Grid(el,gridOptions); gridOptions.columnApi.autoSizeColumn(\\\"__row__\\\"); return gridOptions.columnApi.autoSizeColumns([\\\"state\\\",\\\"county\\\",\\\"population\\\",\\\"cases\\\",\\\"casesIncreaseMA\\\",\\\"casesInc100k\\\",\\\"pch_casesIncreaseMA\\\"])}));\\n    (WebIO.importBlock({\\\"data\\\":[{\\\"name\\\":null,\\\"type\\\":\\\"js\\\",\\\"url\\\":\\\"/assetserver/ed80b7d691fade66e145983a11fb79e515dab825-rowNumberRenderer.js\\\"},{\\\"name\\\":null,\\\"type\\\":\\\"js\\\",\\\"url\\\":\\\"/assetserver/b9b20eb0f99819a38f7ecc433feed4bbe393c528-ag-grid.js\\\"},{\\\"name\\\":null,\\\"type\\\":\\\"css\\\",\\\"url\\\":\\\"/assetserver/5b9005a8a21f5ef6a55c77dc41516952608d0d1d-ag-grid.css\\\"},{\\\"name\\\":null,\\\"type\\\":\\\"css\\\",\\\"url\\\":\\\"/assetserver/fb7e660811b5af595641e24a03483dce78e1076e-ag-grid-light.css\\\"},{\\\"name\\\":null,\\\"type\\\":\\\"css\\\",\\\"url\\\":\\\"/assetserver/6ec54d9f8a742a6e19395fb487212fdce57da7bc-ag-grid-dark.css\\\"}],\\\"type\\\":\\\"async_block\\\"})).then((imports) => handler.apply(this, imports));\\n}\\n\")])"
      ]
     },
     "execution_count": 36,
     "metadata": {
      "application/vnd.webio.node+json": {
       "kernelId": "f76cff0d-71eb-4fcb-8f14-2113642ca679"
      }
     },
     "output_type": "execute_result"
    }
   ],
   "source": [
    "@tbl sort(filter(r->!ismissing(r.casesInc100k)&& !isnan(r.casesInc100k),dfcp),[:casesIncreaseMA],rev=true)"
   ]
  },
  {
   "cell_type": "markdown",
   "metadata": {},
   "source": [
    "#### Highest Number of New Daily Cases per County per 100,000"
   ]
  },
  {
   "cell_type": "code",
   "execution_count": 69,
   "metadata": {
    "scrolled": false
   },
   "outputs": [
    {
     "data": {
      "application/vnd.webio.node+json": {
       "children": [
        {
         "children": [
          {
           "children": [
            ""
           ],
           "instanceArgs": {
            "namespace": "html",
            "tag": "div"
           },
           "nodeType": "DOM",
           "props": {
            "style": {
             "background-color": "#F5F7F7",
             "color": "#1c1f20",
             "font-family": "-apple-system, BlinkMacSystemFont, \"Segoe UI\", Roboto, Oxygen-Sans, Ubuntu, Cantarell, \"Helvetica Neue\", sans-serif",
             "height": "0",
             "padding": "0"
            }
           },
           "type": "node"
          },
          {
           "children": [],
           "instanceArgs": {
            "namespace": "html",
            "tag": "div"
           },
           "nodeType": "DOM",
           "props": {
            "className": "ag-theme-balham",
            "id": "grid-a7b37c84",
            "style": {
             "height": "500px",
             "width": "100%"
            }
           },
           "type": "node"
          }
         ],
         "instanceArgs": {
          "namespace": "html",
          "tag": "div"
         },
         "nodeType": "DOM",
         "props": {},
         "type": "node"
        }
       ],
       "instanceArgs": {
        "handlers": {
         "requestedrows": [
          "(function (val){return WebIO.getval({\"name\":\"rowparams\",\"scope\":\"2926407676307962266\",\"id\":\"ob_251\",\"type\":\"observable\"}).successCallback(val,null)})"
         ]
        },
        "id": "2926407676307962266",
        "imports": {
         "data": [
          {
           "name": null,
           "type": "js",
           "url": "/assetserver/8a878f8aac4fcc3aa0fe3544f3b6004cfb87e28d-rowNumberRenderer.js"
          },
          {
           "name": null,
           "type": "js",
           "url": "/assetserver/49affd7ae36d0aac75380aa149861ff1594bff9c-ag-grid.js"
          },
          {
           "name": null,
           "type": "css",
           "url": "/assetserver/44eec805f61ccdf030080bfd1a559f03509a0021-ag-grid.css"
          },
          {
           "name": null,
           "type": "css",
           "url": "/assetserver/e4213c8e832c90aaafe2b3164c0bbb5b67c7a305-ag-grid-light.css"
          },
          {
           "name": null,
           "type": "css",
           "url": "/assetserver/b082734171f365ccefe5d7b6015f8162af17e3a6-ag-grid-dark.css"
          }
         ],
         "type": "async_block"
        },
        "mount_callbacks": [
         "function () {\n    var handler = ((function (RowNumberRenderer,agGrid){var gridOptions={\"onCellFocused\":(function (ev){var x={}; (ev.rowIndex!==undefined) ? (x[\"rowIndex\"]=(ev.rowIndex+1)) : undefined; (ev.colDef!==undefined) ? (x[\"column\"]=ev.colDef.headerName) : undefined; return WebIO.setval({\"name\":\"onCellFocused\",\"scope\":\"2926407676307962266\",\"id\":\"ob_249\",\"type\":\"observable\"},x)}),\"onCellValueChanged\":(function (){return }),\"rowModelType\":\"infinite\",\"onRowClicked\":(function (ev){var x={}; (ev.rowIndex!==undefined) ? (x[\"rowIndex\"]=(ev.rowIndex+1)) : undefined; (ev.colDef!==undefined) ? (x[\"column\"]=ev.colDef.headerName) : undefined; return WebIO.setval({\"name\":\"onRowClicked\",\"scope\":\"2926407676307962266\",\"id\":\"ob_248\",\"type\":\"observable\"},x)}),\"maxConcurrentDatasourceRequests\":1,\"columnDefs\":[{\"filter\":false,\"editable\":false,\"headerTooltip\":\"\",\"field\":\"__row__\",\"headerName\":\"Row\",\"sortable\":false,\"type\":\"numericColumn\",\"cellRenderer\":\"rowNumberRenderer\",\"resizable\":true},{\"filter\":false,\"editable\":false,\"headerTooltip\":\"String\",\"field\":\"state\",\"headerName\":\"state\",\"sortable\":false,\"type\":null,\"resizable\":true},{\"filter\":false,\"editable\":false,\"headerTooltip\":\"String\",\"field\":\"county\",\"headerName\":\"county\",\"sortable\":false,\"type\":null,\"resizable\":true},{\"filter\":false,\"editable\":false,\"headerTooltip\":\"Int64\",\"field\":\"population\",\"headerName\":\"population\",\"sortable\":false,\"type\":\"numericColumn\",\"resizable\":true},{\"filter\":false,\"editable\":false,\"headerTooltip\":\"Int64\",\"field\":\"cases\",\"headerName\":\"cases\",\"sortable\":false,\"type\":\"numericColumn\",\"resizable\":true},{\"filter\":false,\"editable\":false,\"headerTooltip\":\"Float64\",\"field\":\"casesIncreaseMA\",\"headerName\":\"casesIncreaseMA\",\"sortable\":false,\"type\":\"numericColumn\",\"resizable\":true},{\"filter\":false,\"editable\":false,\"headerTooltip\":\"Float64\",\"field\":\"casesInc100k\",\"headerName\":\"casesInc100k\",\"sortable\":false,\"type\":\"numericColumn\",\"resizable\":true},{\"filter\":false,\"editable\":false,\"headerTooltip\":\"Float64\",\"field\":\"pch_casesIncreaseMA\",\"headerName\":\"pch_casesIncreaseMA\",\"sortable\":false,\"type\":\"numericColumn\",\"resizable\":true}],\"cacheBlockSize\":1000,\"datasource\":{\"rowCount\":null,\"getRows\":(function (rowParams){return WebIO.setval({\"name\":\"rowparams\",\"scope\":\"2926407676307962266\",\"id\":\"ob_251\",\"type\":\"observable\"},rowParams)})},\"multiSortKey\":\"ctrl\",\"maxBlocksInCache\":100,\"onCellDoubleClicked\":(function (ev){var x={}; (ev.rowIndex!==undefined) ? (x[\"rowIndex\"]=(ev.rowIndex+1)) : undefined; (ev.colDef!==undefined) ? (x[\"column\"]=ev.colDef.headerName) : undefined; return WebIO.setval({\"name\":\"onCellDoubleClicked\",\"scope\":\"2926407676307962266\",\"id\":\"ob_247\",\"type\":\"observable\"},x)}),\"onCellKeyDown\":(function (ev){var x={}; (ev.rowIndex!==undefined) ? (x[\"rowIndex\"]=(ev.rowIndex+1)) : undefined; (ev.colDef!==undefined) ? (x[\"column\"]=ev.colDef.headerName) : undefined; return WebIO.setval({\"name\":\"onCellKeyDown\",\"scope\":\"2926407676307962266\",\"id\":\"ob_250\",\"type\":\"observable\"},x)}),\"onCellClicked\":(function (ev){var x={}; (ev.rowIndex!==undefined) ? (x[\"rowIndex\"]=(ev.rowIndex+1)) : undefined; (ev.colDef!==undefined) ? (x[\"column\"]=ev.colDef.headerName) : undefined; return WebIO.setval({\"name\":\"onCellClicked\",\"scope\":\"2926407676307962266\",\"id\":\"ob_246\",\"type\":\"observable\"},x)})}; var el=document.getElementById(\"grid-a7b37c84\"); gridOptions.components={\"rowNumberRenderer\":RowNumberRenderer}; this.table=new agGrid.Grid(el,gridOptions); gridOptions.columnApi.autoSizeColumn(\"__row__\"); return gridOptions.columnApi.autoSizeColumns([\"state\",\"county\",\"population\",\"cases\",\"casesIncreaseMA\",\"casesInc100k\",\"pch_casesIncreaseMA\"])}));\n    (WebIO.importBlock({\"data\":[{\"name\":null,\"type\":\"js\",\"url\":\"/assetserver/8a878f8aac4fcc3aa0fe3544f3b6004cfb87e28d-rowNumberRenderer.js\"},{\"name\":null,\"type\":\"js\",\"url\":\"/assetserver/49affd7ae36d0aac75380aa149861ff1594bff9c-ag-grid.js\"},{\"name\":null,\"type\":\"css\",\"url\":\"/assetserver/44eec805f61ccdf030080bfd1a559f03509a0021-ag-grid.css\"},{\"name\":null,\"type\":\"css\",\"url\":\"/assetserver/e4213c8e832c90aaafe2b3164c0bbb5b67c7a305-ag-grid-light.css\"},{\"name\":null,\"type\":\"css\",\"url\":\"/assetserver/b082734171f365ccefe5d7b6015f8162af17e3a6-ag-grid-dark.css\"}],\"type\":\"async_block\"})).then((imports) => handler.apply(this, imports));\n}\n"
        ],
        "observables": {
         "onCellClicked": {
          "id": "ob_246",
          "sync": false,
          "value": null
         },
         "onCellDoubleClicked": {
          "id": "ob_247",
          "sync": false,
          "value": null
         },
         "onCellFocused": {
          "id": "ob_249",
          "sync": false,
          "value": null
         },
         "onCellKeyDown": {
          "id": "ob_250",
          "sync": false,
          "value": null
         },
         "onRowClicked": {
          "id": "ob_248",
          "sync": false,
          "value": null
         },
         "requestedrows": {
          "id": "ob_252",
          "sync": false,
          "value": {}
         },
         "rowparams": {
          "id": "ob_251",
          "sync": true,
          "value": {
           "endRow": 100,
           "startRow": 1,
           "successCallback": "(function (v){return null})"
          }
         }
        },
        "systemjs_options": null
       },
       "nodeType": "Scope",
       "props": {},
       "type": "node"
      },
      "text/html": [
       "<div\n",
       "    class=\"webio-mountpoint\"\n",
       "    data-webio-mountpoint=\"8386435206201667557\"\n",
       ">\n",
       "    <script>\n",
       "    if (window.require && require.defined && require.defined(\"nbextensions/webio-jupyter-notebook\")) {\n",
       "        console.log(\"Jupyter WebIO extension detected, not mounting.\");\n",
       "    } else if (window.WebIO) {\n",
       "        WebIO.mount(\n",
       "            document.querySelector('[data-webio-mountpoint=\"8386435206201667557\"]'),\n",
       "            {\"props\":{},\"nodeType\":\"Scope\",\"type\":\"node\",\"instanceArgs\":{\"imports\":{\"data\":[{\"name\":null,\"type\":\"js\",\"url\":\"\\/assetserver\\/8a878f8aac4fcc3aa0fe3544f3b6004cfb87e28d-rowNumberRenderer.js\"},{\"name\":null,\"type\":\"js\",\"url\":\"\\/assetserver\\/49affd7ae36d0aac75380aa149861ff1594bff9c-ag-grid.js\"},{\"name\":null,\"type\":\"css\",\"url\":\"\\/assetserver\\/44eec805f61ccdf030080bfd1a559f03509a0021-ag-grid.css\"},{\"name\":null,\"type\":\"css\",\"url\":\"\\/assetserver\\/e4213c8e832c90aaafe2b3164c0bbb5b67c7a305-ag-grid-light.css\"},{\"name\":null,\"type\":\"css\",\"url\":\"\\/assetserver\\/b082734171f365ccefe5d7b6015f8162af17e3a6-ag-grid-dark.css\"}],\"type\":\"async_block\"},\"id\":\"2926407676307962266\",\"handlers\":{\"requestedrows\":[\"(function (val){return WebIO.getval({\\\"name\\\":\\\"rowparams\\\",\\\"scope\\\":\\\"2926407676307962266\\\",\\\"id\\\":\\\"ob_251\\\",\\\"type\\\":\\\"observable\\\"}).successCallback(val,null)})\"]},\"systemjs_options\":null,\"mount_callbacks\":[\"function () {\\n    var handler = ((function (RowNumberRenderer,agGrid){var gridOptions={\\\"onCellFocused\\\":(function (ev){var x={}; (ev.rowIndex!==undefined) ? (x[\\\"rowIndex\\\"]=(ev.rowIndex+1)) : undefined; (ev.colDef!==undefined) ? (x[\\\"column\\\"]=ev.colDef.headerName) : undefined; return WebIO.setval({\\\"name\\\":\\\"onCellFocused\\\",\\\"scope\\\":\\\"2926407676307962266\\\",\\\"id\\\":\\\"ob_249\\\",\\\"type\\\":\\\"observable\\\"},x)}),\\\"onCellValueChanged\\\":(function (){return }),\\\"rowModelType\\\":\\\"infinite\\\",\\\"onRowClicked\\\":(function (ev){var x={}; (ev.rowIndex!==undefined) ? (x[\\\"rowIndex\\\"]=(ev.rowIndex+1)) : undefined; (ev.colDef!==undefined) ? (x[\\\"column\\\"]=ev.colDef.headerName) : undefined; return WebIO.setval({\\\"name\\\":\\\"onRowClicked\\\",\\\"scope\\\":\\\"2926407676307962266\\\",\\\"id\\\":\\\"ob_248\\\",\\\"type\\\":\\\"observable\\\"},x)}),\\\"maxConcurrentDatasourceRequests\\\":1,\\\"columnDefs\\\":[{\\\"filter\\\":false,\\\"editable\\\":false,\\\"headerTooltip\\\":\\\"\\\",\\\"field\\\":\\\"__row__\\\",\\\"headerName\\\":\\\"Row\\\",\\\"sortable\\\":false,\\\"type\\\":\\\"numericColumn\\\",\\\"cellRenderer\\\":\\\"rowNumberRenderer\\\",\\\"resizable\\\":true},{\\\"filter\\\":false,\\\"editable\\\":false,\\\"headerTooltip\\\":\\\"String\\\",\\\"field\\\":\\\"state\\\",\\\"headerName\\\":\\\"state\\\",\\\"sortable\\\":false,\\\"type\\\":null,\\\"resizable\\\":true},{\\\"filter\\\":false,\\\"editable\\\":false,\\\"headerTooltip\\\":\\\"String\\\",\\\"field\\\":\\\"county\\\",\\\"headerName\\\":\\\"county\\\",\\\"sortable\\\":false,\\\"type\\\":null,\\\"resizable\\\":true},{\\\"filter\\\":false,\\\"editable\\\":false,\\\"headerTooltip\\\":\\\"Int64\\\",\\\"field\\\":\\\"population\\\",\\\"headerName\\\":\\\"population\\\",\\\"sortable\\\":false,\\\"type\\\":\\\"numericColumn\\\",\\\"resizable\\\":true},{\\\"filter\\\":false,\\\"editable\\\":false,\\\"headerTooltip\\\":\\\"Int64\\\",\\\"field\\\":\\\"cases\\\",\\\"headerName\\\":\\\"cases\\\",\\\"sortable\\\":false,\\\"type\\\":\\\"numericColumn\\\",\\\"resizable\\\":true},{\\\"filter\\\":false,\\\"editable\\\":false,\\\"headerTooltip\\\":\\\"Float64\\\",\\\"field\\\":\\\"casesIncreaseMA\\\",\\\"headerName\\\":\\\"casesIncreaseMA\\\",\\\"sortable\\\":false,\\\"type\\\":\\\"numericColumn\\\",\\\"resizable\\\":true},{\\\"filter\\\":false,\\\"editable\\\":false,\\\"headerTooltip\\\":\\\"Float64\\\",\\\"field\\\":\\\"casesInc100k\\\",\\\"headerName\\\":\\\"casesInc100k\\\",\\\"sortable\\\":false,\\\"type\\\":\\\"numericColumn\\\",\\\"resizable\\\":true},{\\\"filter\\\":false,\\\"editable\\\":false,\\\"headerTooltip\\\":\\\"Float64\\\",\\\"field\\\":\\\"pch_casesIncreaseMA\\\",\\\"headerName\\\":\\\"pch_casesIncreaseMA\\\",\\\"sortable\\\":false,\\\"type\\\":\\\"numericColumn\\\",\\\"resizable\\\":true}],\\\"cacheBlockSize\\\":1000,\\\"datasource\\\":{\\\"rowCount\\\":null,\\\"getRows\\\":(function (rowParams){return WebIO.setval({\\\"name\\\":\\\"rowparams\\\",\\\"scope\\\":\\\"2926407676307962266\\\",\\\"id\\\":\\\"ob_251\\\",\\\"type\\\":\\\"observable\\\"},rowParams)})},\\\"multiSortKey\\\":\\\"ctrl\\\",\\\"maxBlocksInCache\\\":100,\\\"onCellDoubleClicked\\\":(function (ev){var x={}; (ev.rowIndex!==undefined) ? (x[\\\"rowIndex\\\"]=(ev.rowIndex+1)) : undefined; (ev.colDef!==undefined) ? (x[\\\"column\\\"]=ev.colDef.headerName) : undefined; return WebIO.setval({\\\"name\\\":\\\"onCellDoubleClicked\\\",\\\"scope\\\":\\\"2926407676307962266\\\",\\\"id\\\":\\\"ob_247\\\",\\\"type\\\":\\\"observable\\\"},x)}),\\\"onCellKeyDown\\\":(function (ev){var x={}; (ev.rowIndex!==undefined) ? (x[\\\"rowIndex\\\"]=(ev.rowIndex+1)) : undefined; (ev.colDef!==undefined) ? (x[\\\"column\\\"]=ev.colDef.headerName) : undefined; return WebIO.setval({\\\"name\\\":\\\"onCellKeyDown\\\",\\\"scope\\\":\\\"2926407676307962266\\\",\\\"id\\\":\\\"ob_250\\\",\\\"type\\\":\\\"observable\\\"},x)}),\\\"onCellClicked\\\":(function (ev){var x={}; (ev.rowIndex!==undefined) ? (x[\\\"rowIndex\\\"]=(ev.rowIndex+1)) : undefined; (ev.colDef!==undefined) ? (x[\\\"column\\\"]=ev.colDef.headerName) : undefined; return WebIO.setval({\\\"name\\\":\\\"onCellClicked\\\",\\\"scope\\\":\\\"2926407676307962266\\\",\\\"id\\\":\\\"ob_246\\\",\\\"type\\\":\\\"observable\\\"},x)})}; var el=document.getElementById(\\\"grid-a7b37c84\\\"); gridOptions.components={\\\"rowNumberRenderer\\\":RowNumberRenderer}; this.table=new agGrid.Grid(el,gridOptions); gridOptions.columnApi.autoSizeColumn(\\\"__row__\\\"); return gridOptions.columnApi.autoSizeColumns([\\\"state\\\",\\\"county\\\",\\\"population\\\",\\\"cases\\\",\\\"casesIncreaseMA\\\",\\\"casesInc100k\\\",\\\"pch_casesIncreaseMA\\\"])}));\\n    (WebIO.importBlock({\\\"data\\\":[{\\\"name\\\":null,\\\"type\\\":\\\"js\\\",\\\"url\\\":\\\"\\/assetserver\\/8a878f8aac4fcc3aa0fe3544f3b6004cfb87e28d-rowNumberRenderer.js\\\"},{\\\"name\\\":null,\\\"type\\\":\\\"js\\\",\\\"url\\\":\\\"\\/assetserver\\/49affd7ae36d0aac75380aa149861ff1594bff9c-ag-grid.js\\\"},{\\\"name\\\":null,\\\"type\\\":\\\"css\\\",\\\"url\\\":\\\"\\/assetserver\\/44eec805f61ccdf030080bfd1a559f03509a0021-ag-grid.css\\\"},{\\\"name\\\":null,\\\"type\\\":\\\"css\\\",\\\"url\\\":\\\"\\/assetserver\\/e4213c8e832c90aaafe2b3164c0bbb5b67c7a305-ag-grid-light.css\\\"},{\\\"name\\\":null,\\\"type\\\":\\\"css\\\",\\\"url\\\":\\\"\\/assetserver\\/b082734171f365ccefe5d7b6015f8162af17e3a6-ag-grid-dark.css\\\"}],\\\"type\\\":\\\"async_block\\\"})).then((imports) => handler.apply(this, imports));\\n}\\n\"],\"observables\":{\"onCellKeyDown\":{\"sync\":false,\"id\":\"ob_250\",\"value\":null},\"onRowClicked\":{\"sync\":false,\"id\":\"ob_248\",\"value\":null},\"onCellDoubleClicked\":{\"sync\":false,\"id\":\"ob_247\",\"value\":null},\"requestedrows\":{\"sync\":false,\"id\":\"ob_252\",\"value\":{}},\"onCellClicked\":{\"sync\":false,\"id\":\"ob_246\",\"value\":null},\"onCellFocused\":{\"sync\":false,\"id\":\"ob_249\",\"value\":null},\"rowparams\":{\"sync\":true,\"id\":\"ob_251\",\"value\":{\"successCallback\":\"(function (v){return null})\",\"startRow\":1,\"endRow\":100}}}},\"children\":[{\"props\":{},\"nodeType\":\"DOM\",\"type\":\"node\",\"instanceArgs\":{\"namespace\":\"html\",\"tag\":\"div\"},\"children\":[{\"props\":{\"style\":{\"height\":\"0\",\"padding\":\"0\",\"background-color\":\"#F5F7F7\",\"color\":\"#1c1f20\",\"font-family\":\"-apple-system, BlinkMacSystemFont, \\\"Segoe UI\\\", Roboto, Oxygen-Sans, Ubuntu, Cantarell, \\\"Helvetica Neue\\\", sans-serif\"}},\"nodeType\":\"DOM\",\"type\":\"node\",\"instanceArgs\":{\"namespace\":\"html\",\"tag\":\"div\"},\"children\":[\"\"]},{\"props\":{\"id\":\"grid-a7b37c84\",\"className\":\"ag-theme-balham\",\"style\":{\"height\":\"500px\",\"width\":\"100%\"}},\"nodeType\":\"DOM\",\"type\":\"node\",\"instanceArgs\":{\"namespace\":\"html\",\"tag\":\"div\"},\"children\":[]}]}]},\n",
       "            window,\n",
       "        );\n",
       "    } else {\n",
       "        document\n",
       "            .querySelector('[data-webio-mountpoint=\"8386435206201667557\"]')\n",
       "            .innerHTML = (\n",
       "                '<div style=\"padding: 1em; background-color: #f8d6da; border: 1px solid #f5c6cb\">' +\n",
       "                '<p><strong>WebIO not detected.</strong></p>' +\n",
       "                '<p>Please read ' +\n",
       "                '<a href=\"https://juliagizmos.github.io/WebIO.jl/latest/troubleshooting/not-detected/\" target=\"_blank\">the troubleshooting guide</a> ' +\n",
       "                'for more information on how to resolve this issue.</p>' +\n",
       "                '<p><a href=\"https://juliagizmos.github.io/WebIO.jl/latest/troubleshooting/not-detected/\" target=\"_blank\">https://juliagizmos.github.io/WebIO.jl/latest/troubleshooting/not-detected/</a></p>' +\n",
       "                '</div>'\n",
       "            );\n",
       "    }\n",
       "    </script>\n",
       "</div>\n"
      ],
      "text/plain": [
       "WebIO.Scope(WebIO.Node{WebIO.DOM}(WebIO.DOM(:html, :div), Any[WebIO.Node{WebIO.DOM}(WebIO.DOM(:html, :div), Any[\"\"], Dict{Symbol,Any}(:style => Dict(\"height\" => \"0\",\"padding\" => \"0\",\"background-color\" => \"#F5F7F7\",\"color\" => \"#1c1f20\",\"font-family\" => \"-apple-system, BlinkMacSystemFont, \\\"Segoe UI\\\", Roboto, Oxygen-Sans, Ubuntu, Cantarell, \\\"Helvetica Neue\\\", sans-serif\"))), WebIO.Node{WebIO.DOM}(WebIO.DOM(:html, :div), Any[], Dict{Symbol,Any}(:id => \"grid-a7b37c84\",:className => \"ag-theme-balham\",:style => Dict(\"height\" => \"500px\",\"width\" => \"100%\")))], Dict{Symbol,Any}()), Dict{String,Tuple{Observables.AbstractObservable,Union{Nothing, Bool}}}(\"onCellKeyDown\" => (Observable{Any} with 0 listeners. Value:\n",
       "nothing, nothing),\"onRowClicked\" => (Observable{Any} with 0 listeners. Value:\n",
       "nothing, nothing),\"onCellDoubleClicked\" => (Observable{Any} with 0 listeners. Value:\n",
       "nothing, nothing),\"requestedrows\" => (Observable{JSON.Writer.JSONText} with 1 listeners. Value:\n",
       "JSON.Writer.JSONText(\"{}\"), nothing),\"onCellClicked\" => (Observable{Any} with 0 listeners. Value:\n",
       "nothing, nothing),\"onCellFocused\" => (Observable{Any} with 0 listeners. Value:\n",
       "nothing, nothing),\"rowparams\" => (Observable{Dict{String,Any}} with 1 listeners. Value:\n",
       "Dict{String,Any}(\"successCallback\" => WebIO.JSString(\"(function (v){return null})\"),\"startRow\" => 1,\"endRow\" => 100), nothing)), Set(String[]), nothing, WebIO.Asset[WebIO.Asset(\"js\", nothing, \"/Users/cdaniels/.julia/packages/TableView/CxWLO/src/rowNumberRenderer.js\"), WebIO.Asset(\"js\", nothing, \"/Users/cdaniels/.julia/packages/TableView/CxWLO/deps/ag-grid-22.1.0/ag-grid.js\"), WebIO.Asset(\"css\", nothing, \"/Users/cdaniels/.julia/packages/TableView/CxWLO/deps/ag-grid-22.1.0/ag-grid.css\"), WebIO.Asset(\"css\", nothing, \"/Users/cdaniels/.julia/packages/TableView/CxWLO/deps/ag-grid-22.1.0/ag-grid-light.css\"), WebIO.Asset(\"css\", nothing, \"/Users/cdaniels/.julia/packages/TableView/CxWLO/deps/ag-grid-22.1.0/ag-grid-dark.css\")], Dict{Any,Any}(\"requestedrows\" => Any[WebIO.JSString(\"(function (val){return WebIO.getval({\\\"name\\\":\\\"rowparams\\\",\\\"scope\\\":\\\"2926407676307962266\\\",\\\"id\\\":\\\"ob_251\\\",\\\"type\\\":\\\"observable\\\"}).successCallback(val,null)})\")]), WebIO.ConnectionPool(Channel{Any}(sz_max:32,sz_curr:0), Set(WebIO.AbstractConnection[]), Base.GenericCondition{Base.AlwaysLockedST}(Base.InvasiveLinkedList{Task}(Task (runnable) @0x000000011f2db3d0, Task (runnable) @0x000000011f2db3d0), Base.AlwaysLockedST(1))), WebIO.JSString[WebIO.JSString(\"function () {\\n    var handler = ((function (RowNumberRenderer,agGrid){var gridOptions={\\\"onCellFocused\\\":(function (ev){var x={}; (ev.rowIndex!==undefined) ? (x[\\\"rowIndex\\\"]=(ev.rowIndex+1)) : undefined; (ev.colDef!==undefined) ? (x[\\\"column\\\"]=ev.colDef.headerName) : undefined; return WebIO.setval({\\\"name\\\":\\\"onCellFocused\\\",\\\"scope\\\":\\\"2926407676307962266\\\",\\\"id\\\":\\\"ob_249\\\",\\\"type\\\":\\\"observable\\\"},x)}),\\\"onCellValueChanged\\\":(function (){return }),\\\"rowModelType\\\":\\\"infinite\\\",\\\"onRowClicked\\\":(function (ev){var x={}; (ev.rowIndex!==undefined) ? (x[\\\"rowIndex\\\"]=(ev.rowIndex+1)) : undefined; (ev.colDef!==undefined) ? (x[\\\"column\\\"]=ev.colDef.headerName) : undefined; return WebIO.setval({\\\"name\\\":\\\"onRowClicked\\\",\\\"scope\\\":\\\"2926407676307962266\\\",\\\"id\\\":\\\"ob_248\\\",\\\"type\\\":\\\"observable\\\"},x)}),\\\"maxConcurrentDatasourceRequests\\\":1,\\\"columnDefs\\\":[{\\\"filter\\\":false,\\\"editable\\\":false,\\\"headerTooltip\\\":\\\"\\\",\\\"field\\\":\\\"__row__\\\",\\\"headerName\\\":\\\"Row\\\",\\\"sortable\\\":false,\\\"type\\\":\\\"numericColumn\\\",\\\"cellRenderer\\\":\\\"rowNumberRenderer\\\",\\\"resizable\\\":true},{\\\"filter\\\":false,\\\"editable\\\":false,\\\"headerTooltip\\\":\\\"String\\\",\\\"field\\\":\\\"state\\\",\\\"headerName\\\":\\\"state\\\",\\\"sortable\\\":false,\\\"type\\\":null,\\\"resizable\\\":true},{\\\"filter\\\":false,\\\"editable\\\":false,\\\"headerTooltip\\\":\\\"String\\\",\\\"field\\\":\\\"county\\\",\\\"headerName\\\":\\\"county\\\",\\\"sortable\\\":false,\\\"type\\\":null,\\\"resizable\\\":true},{\\\"filter\\\":false,\\\"editable\\\":false,\\\"headerTooltip\\\":\\\"Int64\\\",\\\"field\\\":\\\"population\\\",\\\"headerName\\\":\\\"population\\\",\\\"sortable\\\":false,\\\"type\\\":\\\"numericColumn\\\",\\\"resizable\\\":true},{\\\"filter\\\":false,\\\"editable\\\":false,\\\"headerTooltip\\\":\\\"Int64\\\",\\\"field\\\":\\\"cases\\\",\\\"headerName\\\":\\\"cases\\\",\\\"sortable\\\":false,\\\"type\\\":\\\"numericColumn\\\",\\\"resizable\\\":true},{\\\"filter\\\":false,\\\"editable\\\":false,\\\"headerTooltip\\\":\\\"Float64\\\",\\\"field\\\":\\\"casesIncreaseMA\\\",\\\"headerName\\\":\\\"casesIncreaseMA\\\",\\\"sortable\\\":false,\\\"type\\\":\\\"numericColumn\\\",\\\"resizable\\\":true},{\\\"filter\\\":false,\\\"editable\\\":false,\\\"headerTooltip\\\":\\\"Float64\\\",\\\"field\\\":\\\"casesInc100k\\\",\\\"headerName\\\":\\\"casesInc100k\\\",\\\"sortable\\\":false,\\\"type\\\":\\\"numericColumn\\\",\\\"resizable\\\":true},{\\\"filter\\\":false,\\\"editable\\\":false,\\\"headerTooltip\\\":\\\"Float64\\\",\\\"field\\\":\\\"pch_casesIncreaseMA\\\",\\\"headerName\\\":\\\"pch_casesIncreaseMA\\\",\\\"sortable\\\":false,\\\"type\\\":\\\"numericColumn\\\",\\\"resizable\\\":true}],\\\"cacheBlockSize\\\":1000,\\\"datasource\\\":{\\\"rowCount\\\":null,\\\"getRows\\\":(function (rowParams){return WebIO.setval({\\\"name\\\":\\\"rowparams\\\",\\\"scope\\\":\\\"2926407676307962266\\\",\\\"id\\\":\\\"ob_251\\\",\\\"type\\\":\\\"observable\\\"},rowParams)})},\\\"multiSortKey\\\":\\\"ctrl\\\",\\\"maxBlocksInCache\\\":100,\\\"onCellDoubleClicked\\\":(function (ev){var x={}; (ev.rowIndex!==undefined) ? (x[\\\"rowIndex\\\"]=(ev.rowIndex+1)) : undefined; (ev.colDef!==undefined) ? (x[\\\"column\\\"]=ev.colDef.headerName) : undefined; return WebIO.setval({\\\"name\\\":\\\"onCellDoubleClicked\\\",\\\"scope\\\":\\\"2926407676307962266\\\",\\\"id\\\":\\\"ob_247\\\",\\\"type\\\":\\\"observable\\\"},x)}),\\\"onCellKeyDown\\\":(function (ev){var x={}; (ev.rowIndex!==undefined) ? (x[\\\"rowIndex\\\"]=(ev.rowIndex+1)) : undefined; (ev.colDef!==undefined) ? (x[\\\"column\\\"]=ev.colDef.headerName) : undefined; return WebIO.setval({\\\"name\\\":\\\"onCellKeyDown\\\",\\\"scope\\\":\\\"2926407676307962266\\\",\\\"id\\\":\\\"ob_250\\\",\\\"type\\\":\\\"observable\\\"},x)}),\\\"onCellClicked\\\":(function (ev){var x={}; (ev.rowIndex!==undefined) ? (x[\\\"rowIndex\\\"]=(ev.rowIndex+1)) : undefined; (ev.colDef!==undefined) ? (x[\\\"column\\\"]=ev.colDef.headerName) : undefined; return WebIO.setval({\\\"name\\\":\\\"onCellClicked\\\",\\\"scope\\\":\\\"2926407676307962266\\\",\\\"id\\\":\\\"ob_246\\\",\\\"type\\\":\\\"observable\\\"},x)})}; var el=document.getElementById(\\\"grid-a7b37c84\\\"); gridOptions.components={\\\"rowNumberRenderer\\\":RowNumberRenderer}; this.table=new agGrid.Grid(el,gridOptions); gridOptions.columnApi.autoSizeColumn(\\\"__row__\\\"); return gridOptions.columnApi.autoSizeColumns([\\\"state\\\",\\\"county\\\",\\\"population\\\",\\\"cases\\\",\\\"casesIncreaseMA\\\",\\\"casesInc100k\\\",\\\"pch_casesIncreaseMA\\\"])}));\\n    (WebIO.importBlock({\\\"data\\\":[{\\\"name\\\":null,\\\"type\\\":\\\"js\\\",\\\"url\\\":\\\"/assetserver/8a878f8aac4fcc3aa0fe3544f3b6004cfb87e28d-rowNumberRenderer.js\\\"},{\\\"name\\\":null,\\\"type\\\":\\\"js\\\",\\\"url\\\":\\\"/assetserver/49affd7ae36d0aac75380aa149861ff1594bff9c-ag-grid.js\\\"},{\\\"name\\\":null,\\\"type\\\":\\\"css\\\",\\\"url\\\":\\\"/assetserver/44eec805f61ccdf030080bfd1a559f03509a0021-ag-grid.css\\\"},{\\\"name\\\":null,\\\"type\\\":\\\"css\\\",\\\"url\\\":\\\"/assetserver/e4213c8e832c90aaafe2b3164c0bbb5b67c7a305-ag-grid-light.css\\\"},{\\\"name\\\":null,\\\"type\\\":\\\"css\\\",\\\"url\\\":\\\"/assetserver/b082734171f365ccefe5d7b6015f8162af17e3a6-ag-grid-dark.css\\\"}],\\\"type\\\":\\\"async_block\\\"})).then((imports) => handler.apply(this, imports));\\n}\\n\")])"
      ]
     },
     "execution_count": 69,
     "metadata": {
      "application/vnd.webio.node+json": {
       "kernelId": "3229260e-45e1-405c-811b-0c4817f5e87c"
      }
     },
     "output_type": "execute_result"
    }
   ],
   "source": [
    "@tbl sort(filter(r->!ismissing(r.casesInc100k)&& !isnan(r.casesInc100k),dfcp),[:casesInc100k],rev=true)"
   ]
  },
  {
   "cell_type": "markdown",
   "metadata": {},
   "source": [
    "#### Highest Number of New Daily Cases per County by Rate of Case Growth"
   ]
  },
  {
   "cell_type": "code",
   "execution_count": 70,
   "metadata": {
    "scrolled": false
   },
   "outputs": [
    {
     "data": {
      "application/vnd.webio.node+json": {
       "children": [
        {
         "children": [
          {
           "children": [
            ""
           ],
           "instanceArgs": {
            "namespace": "html",
            "tag": "div"
           },
           "nodeType": "DOM",
           "props": {
            "style": {
             "background-color": "#F5F7F7",
             "color": "#1c1f20",
             "font-family": "-apple-system, BlinkMacSystemFont, \"Segoe UI\", Roboto, Oxygen-Sans, Ubuntu, Cantarell, \"Helvetica Neue\", sans-serif",
             "height": "0",
             "padding": "0"
            }
           },
           "type": "node"
          },
          {
           "children": [],
           "instanceArgs": {
            "namespace": "html",
            "tag": "div"
           },
           "nodeType": "DOM",
           "props": {
            "className": "ag-theme-balham",
            "id": "grid-a820fd54",
            "style": {
             "height": "500px",
             "width": "100%"
            }
           },
           "type": "node"
          }
         ],
         "instanceArgs": {
          "namespace": "html",
          "tag": "div"
         },
         "nodeType": "DOM",
         "props": {},
         "type": "node"
        }
       ],
       "instanceArgs": {
        "handlers": {
         "requestedrows": [
          "(function (val){return WebIO.getval({\"name\":\"rowparams\",\"scope\":\"16506897654812326389\",\"id\":\"ob_258\",\"type\":\"observable\"}).successCallback(val,null)})"
         ]
        },
        "id": "16506897654812326389",
        "imports": {
         "data": [
          {
           "name": null,
           "type": "js",
           "url": "/assetserver/8a878f8aac4fcc3aa0fe3544f3b6004cfb87e28d-rowNumberRenderer.js"
          },
          {
           "name": null,
           "type": "js",
           "url": "/assetserver/49affd7ae36d0aac75380aa149861ff1594bff9c-ag-grid.js"
          },
          {
           "name": null,
           "type": "css",
           "url": "/assetserver/44eec805f61ccdf030080bfd1a559f03509a0021-ag-grid.css"
          },
          {
           "name": null,
           "type": "css",
           "url": "/assetserver/e4213c8e832c90aaafe2b3164c0bbb5b67c7a305-ag-grid-light.css"
          },
          {
           "name": null,
           "type": "css",
           "url": "/assetserver/b082734171f365ccefe5d7b6015f8162af17e3a6-ag-grid-dark.css"
          }
         ],
         "type": "async_block"
        },
        "mount_callbacks": [
         "function () {\n    var handler = ((function (RowNumberRenderer,agGrid){var gridOptions={\"onCellFocused\":(function (ev){var x={}; (ev.rowIndex!==undefined) ? (x[\"rowIndex\"]=(ev.rowIndex+1)) : undefined; (ev.colDef!==undefined) ? (x[\"column\"]=ev.colDef.headerName) : undefined; return WebIO.setval({\"name\":\"onCellFocused\",\"scope\":\"16506897654812326389\",\"id\":\"ob_256\",\"type\":\"observable\"},x)}),\"onCellValueChanged\":(function (){return }),\"rowModelType\":\"infinite\",\"onRowClicked\":(function (ev){var x={}; (ev.rowIndex!==undefined) ? (x[\"rowIndex\"]=(ev.rowIndex+1)) : undefined; (ev.colDef!==undefined) ? (x[\"column\"]=ev.colDef.headerName) : undefined; return WebIO.setval({\"name\":\"onRowClicked\",\"scope\":\"16506897654812326389\",\"id\":\"ob_255\",\"type\":\"observable\"},x)}),\"maxConcurrentDatasourceRequests\":1,\"columnDefs\":[{\"filter\":false,\"editable\":false,\"headerTooltip\":\"\",\"field\":\"__row__\",\"headerName\":\"Row\",\"sortable\":false,\"type\":\"numericColumn\",\"cellRenderer\":\"rowNumberRenderer\",\"resizable\":true},{\"filter\":false,\"editable\":false,\"headerTooltip\":\"String\",\"field\":\"state\",\"headerName\":\"state\",\"sortable\":false,\"type\":null,\"resizable\":true},{\"filter\":false,\"editable\":false,\"headerTooltip\":\"String\",\"field\":\"county\",\"headerName\":\"county\",\"sortable\":false,\"type\":null,\"resizable\":true},{\"filter\":false,\"editable\":false,\"headerTooltip\":\"Int64\",\"field\":\"population\",\"headerName\":\"population\",\"sortable\":false,\"type\":\"numericColumn\",\"resizable\":true},{\"filter\":false,\"editable\":false,\"headerTooltip\":\"Int64\",\"field\":\"cases\",\"headerName\":\"cases\",\"sortable\":false,\"type\":\"numericColumn\",\"resizable\":true},{\"filter\":false,\"editable\":false,\"headerTooltip\":\"Float64\",\"field\":\"casesIncreaseMA\",\"headerName\":\"casesIncreaseMA\",\"sortable\":false,\"type\":\"numericColumn\",\"resizable\":true},{\"filter\":false,\"editable\":false,\"headerTooltip\":\"Float64\",\"field\":\"casesInc100k\",\"headerName\":\"casesInc100k\",\"sortable\":false,\"type\":\"numericColumn\",\"resizable\":true},{\"filter\":false,\"editable\":false,\"headerTooltip\":\"Float64\",\"field\":\"pch_casesIncreaseMA\",\"headerName\":\"pch_casesIncreaseMA\",\"sortable\":false,\"type\":\"numericColumn\",\"resizable\":true}],\"cacheBlockSize\":1000,\"datasource\":{\"rowCount\":null,\"getRows\":(function (rowParams){return WebIO.setval({\"name\":\"rowparams\",\"scope\":\"16506897654812326389\",\"id\":\"ob_258\",\"type\":\"observable\"},rowParams)})},\"multiSortKey\":\"ctrl\",\"maxBlocksInCache\":100,\"onCellDoubleClicked\":(function (ev){var x={}; (ev.rowIndex!==undefined) ? (x[\"rowIndex\"]=(ev.rowIndex+1)) : undefined; (ev.colDef!==undefined) ? (x[\"column\"]=ev.colDef.headerName) : undefined; return WebIO.setval({\"name\":\"onCellDoubleClicked\",\"scope\":\"16506897654812326389\",\"id\":\"ob_254\",\"type\":\"observable\"},x)}),\"onCellKeyDown\":(function (ev){var x={}; (ev.rowIndex!==undefined) ? (x[\"rowIndex\"]=(ev.rowIndex+1)) : undefined; (ev.colDef!==undefined) ? (x[\"column\"]=ev.colDef.headerName) : undefined; return WebIO.setval({\"name\":\"onCellKeyDown\",\"scope\":\"16506897654812326389\",\"id\":\"ob_257\",\"type\":\"observable\"},x)}),\"onCellClicked\":(function (ev){var x={}; (ev.rowIndex!==undefined) ? (x[\"rowIndex\"]=(ev.rowIndex+1)) : undefined; (ev.colDef!==undefined) ? (x[\"column\"]=ev.colDef.headerName) : undefined; return WebIO.setval({\"name\":\"onCellClicked\",\"scope\":\"16506897654812326389\",\"id\":\"ob_253\",\"type\":\"observable\"},x)})}; var el=document.getElementById(\"grid-a820fd54\"); gridOptions.components={\"rowNumberRenderer\":RowNumberRenderer}; this.table=new agGrid.Grid(el,gridOptions); gridOptions.columnApi.autoSizeColumn(\"__row__\"); return gridOptions.columnApi.autoSizeColumns([\"state\",\"county\",\"population\",\"cases\",\"casesIncreaseMA\",\"casesInc100k\",\"pch_casesIncreaseMA\"])}));\n    (WebIO.importBlock({\"data\":[{\"name\":null,\"type\":\"js\",\"url\":\"/assetserver/8a878f8aac4fcc3aa0fe3544f3b6004cfb87e28d-rowNumberRenderer.js\"},{\"name\":null,\"type\":\"js\",\"url\":\"/assetserver/49affd7ae36d0aac75380aa149861ff1594bff9c-ag-grid.js\"},{\"name\":null,\"type\":\"css\",\"url\":\"/assetserver/44eec805f61ccdf030080bfd1a559f03509a0021-ag-grid.css\"},{\"name\":null,\"type\":\"css\",\"url\":\"/assetserver/e4213c8e832c90aaafe2b3164c0bbb5b67c7a305-ag-grid-light.css\"},{\"name\":null,\"type\":\"css\",\"url\":\"/assetserver/b082734171f365ccefe5d7b6015f8162af17e3a6-ag-grid-dark.css\"}],\"type\":\"async_block\"})).then((imports) => handler.apply(this, imports));\n}\n"
        ],
        "observables": {
         "onCellClicked": {
          "id": "ob_253",
          "sync": false,
          "value": null
         },
         "onCellDoubleClicked": {
          "id": "ob_254",
          "sync": false,
          "value": null
         },
         "onCellFocused": {
          "id": "ob_256",
          "sync": false,
          "value": null
         },
         "onCellKeyDown": {
          "id": "ob_257",
          "sync": false,
          "value": null
         },
         "onRowClicked": {
          "id": "ob_255",
          "sync": false,
          "value": null
         },
         "requestedrows": {
          "id": "ob_259",
          "sync": false,
          "value": {}
         },
         "rowparams": {
          "id": "ob_258",
          "sync": true,
          "value": {
           "endRow": 100,
           "startRow": 1,
           "successCallback": "(function (v){return null})"
          }
         }
        },
        "systemjs_options": null
       },
       "nodeType": "Scope",
       "props": {},
       "type": "node"
      },
      "text/html": [
       "<div\n",
       "    class=\"webio-mountpoint\"\n",
       "    data-webio-mountpoint=\"8552405052885930280\"\n",
       ">\n",
       "    <script>\n",
       "    if (window.require && require.defined && require.defined(\"nbextensions/webio-jupyter-notebook\")) {\n",
       "        console.log(\"Jupyter WebIO extension detected, not mounting.\");\n",
       "    } else if (window.WebIO) {\n",
       "        WebIO.mount(\n",
       "            document.querySelector('[data-webio-mountpoint=\"8552405052885930280\"]'),\n",
       "            {\"props\":{},\"nodeType\":\"Scope\",\"type\":\"node\",\"instanceArgs\":{\"imports\":{\"data\":[{\"name\":null,\"type\":\"js\",\"url\":\"\\/assetserver\\/8a878f8aac4fcc3aa0fe3544f3b6004cfb87e28d-rowNumberRenderer.js\"},{\"name\":null,\"type\":\"js\",\"url\":\"\\/assetserver\\/49affd7ae36d0aac75380aa149861ff1594bff9c-ag-grid.js\"},{\"name\":null,\"type\":\"css\",\"url\":\"\\/assetserver\\/44eec805f61ccdf030080bfd1a559f03509a0021-ag-grid.css\"},{\"name\":null,\"type\":\"css\",\"url\":\"\\/assetserver\\/e4213c8e832c90aaafe2b3164c0bbb5b67c7a305-ag-grid-light.css\"},{\"name\":null,\"type\":\"css\",\"url\":\"\\/assetserver\\/b082734171f365ccefe5d7b6015f8162af17e3a6-ag-grid-dark.css\"}],\"type\":\"async_block\"},\"id\":\"16506897654812326389\",\"handlers\":{\"requestedrows\":[\"(function (val){return WebIO.getval({\\\"name\\\":\\\"rowparams\\\",\\\"scope\\\":\\\"16506897654812326389\\\",\\\"id\\\":\\\"ob_258\\\",\\\"type\\\":\\\"observable\\\"}).successCallback(val,null)})\"]},\"systemjs_options\":null,\"mount_callbacks\":[\"function () {\\n    var handler = ((function (RowNumberRenderer,agGrid){var gridOptions={\\\"onCellFocused\\\":(function (ev){var x={}; (ev.rowIndex!==undefined) ? (x[\\\"rowIndex\\\"]=(ev.rowIndex+1)) : undefined; (ev.colDef!==undefined) ? (x[\\\"column\\\"]=ev.colDef.headerName) : undefined; return WebIO.setval({\\\"name\\\":\\\"onCellFocused\\\",\\\"scope\\\":\\\"16506897654812326389\\\",\\\"id\\\":\\\"ob_256\\\",\\\"type\\\":\\\"observable\\\"},x)}),\\\"onCellValueChanged\\\":(function (){return }),\\\"rowModelType\\\":\\\"infinite\\\",\\\"onRowClicked\\\":(function (ev){var x={}; (ev.rowIndex!==undefined) ? (x[\\\"rowIndex\\\"]=(ev.rowIndex+1)) : undefined; (ev.colDef!==undefined) ? (x[\\\"column\\\"]=ev.colDef.headerName) : undefined; return WebIO.setval({\\\"name\\\":\\\"onRowClicked\\\",\\\"scope\\\":\\\"16506897654812326389\\\",\\\"id\\\":\\\"ob_255\\\",\\\"type\\\":\\\"observable\\\"},x)}),\\\"maxConcurrentDatasourceRequests\\\":1,\\\"columnDefs\\\":[{\\\"filter\\\":false,\\\"editable\\\":false,\\\"headerTooltip\\\":\\\"\\\",\\\"field\\\":\\\"__row__\\\",\\\"headerName\\\":\\\"Row\\\",\\\"sortable\\\":false,\\\"type\\\":\\\"numericColumn\\\",\\\"cellRenderer\\\":\\\"rowNumberRenderer\\\",\\\"resizable\\\":true},{\\\"filter\\\":false,\\\"editable\\\":false,\\\"headerTooltip\\\":\\\"String\\\",\\\"field\\\":\\\"state\\\",\\\"headerName\\\":\\\"state\\\",\\\"sortable\\\":false,\\\"type\\\":null,\\\"resizable\\\":true},{\\\"filter\\\":false,\\\"editable\\\":false,\\\"headerTooltip\\\":\\\"String\\\",\\\"field\\\":\\\"county\\\",\\\"headerName\\\":\\\"county\\\",\\\"sortable\\\":false,\\\"type\\\":null,\\\"resizable\\\":true},{\\\"filter\\\":false,\\\"editable\\\":false,\\\"headerTooltip\\\":\\\"Int64\\\",\\\"field\\\":\\\"population\\\",\\\"headerName\\\":\\\"population\\\",\\\"sortable\\\":false,\\\"type\\\":\\\"numericColumn\\\",\\\"resizable\\\":true},{\\\"filter\\\":false,\\\"editable\\\":false,\\\"headerTooltip\\\":\\\"Int64\\\",\\\"field\\\":\\\"cases\\\",\\\"headerName\\\":\\\"cases\\\",\\\"sortable\\\":false,\\\"type\\\":\\\"numericColumn\\\",\\\"resizable\\\":true},{\\\"filter\\\":false,\\\"editable\\\":false,\\\"headerTooltip\\\":\\\"Float64\\\",\\\"field\\\":\\\"casesIncreaseMA\\\",\\\"headerName\\\":\\\"casesIncreaseMA\\\",\\\"sortable\\\":false,\\\"type\\\":\\\"numericColumn\\\",\\\"resizable\\\":true},{\\\"filter\\\":false,\\\"editable\\\":false,\\\"headerTooltip\\\":\\\"Float64\\\",\\\"field\\\":\\\"casesInc100k\\\",\\\"headerName\\\":\\\"casesInc100k\\\",\\\"sortable\\\":false,\\\"type\\\":\\\"numericColumn\\\",\\\"resizable\\\":true},{\\\"filter\\\":false,\\\"editable\\\":false,\\\"headerTooltip\\\":\\\"Float64\\\",\\\"field\\\":\\\"pch_casesIncreaseMA\\\",\\\"headerName\\\":\\\"pch_casesIncreaseMA\\\",\\\"sortable\\\":false,\\\"type\\\":\\\"numericColumn\\\",\\\"resizable\\\":true}],\\\"cacheBlockSize\\\":1000,\\\"datasource\\\":{\\\"rowCount\\\":null,\\\"getRows\\\":(function (rowParams){return WebIO.setval({\\\"name\\\":\\\"rowparams\\\",\\\"scope\\\":\\\"16506897654812326389\\\",\\\"id\\\":\\\"ob_258\\\",\\\"type\\\":\\\"observable\\\"},rowParams)})},\\\"multiSortKey\\\":\\\"ctrl\\\",\\\"maxBlocksInCache\\\":100,\\\"onCellDoubleClicked\\\":(function (ev){var x={}; (ev.rowIndex!==undefined) ? (x[\\\"rowIndex\\\"]=(ev.rowIndex+1)) : undefined; (ev.colDef!==undefined) ? (x[\\\"column\\\"]=ev.colDef.headerName) : undefined; return WebIO.setval({\\\"name\\\":\\\"onCellDoubleClicked\\\",\\\"scope\\\":\\\"16506897654812326389\\\",\\\"id\\\":\\\"ob_254\\\",\\\"type\\\":\\\"observable\\\"},x)}),\\\"onCellKeyDown\\\":(function (ev){var x={}; (ev.rowIndex!==undefined) ? (x[\\\"rowIndex\\\"]=(ev.rowIndex+1)) : undefined; (ev.colDef!==undefined) ? (x[\\\"column\\\"]=ev.colDef.headerName) : undefined; return WebIO.setval({\\\"name\\\":\\\"onCellKeyDown\\\",\\\"scope\\\":\\\"16506897654812326389\\\",\\\"id\\\":\\\"ob_257\\\",\\\"type\\\":\\\"observable\\\"},x)}),\\\"onCellClicked\\\":(function (ev){var x={}; (ev.rowIndex!==undefined) ? (x[\\\"rowIndex\\\"]=(ev.rowIndex+1)) : undefined; (ev.colDef!==undefined) ? (x[\\\"column\\\"]=ev.colDef.headerName) : undefined; return WebIO.setval({\\\"name\\\":\\\"onCellClicked\\\",\\\"scope\\\":\\\"16506897654812326389\\\",\\\"id\\\":\\\"ob_253\\\",\\\"type\\\":\\\"observable\\\"},x)})}; var el=document.getElementById(\\\"grid-a820fd54\\\"); gridOptions.components={\\\"rowNumberRenderer\\\":RowNumberRenderer}; this.table=new agGrid.Grid(el,gridOptions); gridOptions.columnApi.autoSizeColumn(\\\"__row__\\\"); return gridOptions.columnApi.autoSizeColumns([\\\"state\\\",\\\"county\\\",\\\"population\\\",\\\"cases\\\",\\\"casesIncreaseMA\\\",\\\"casesInc100k\\\",\\\"pch_casesIncreaseMA\\\"])}));\\n    (WebIO.importBlock({\\\"data\\\":[{\\\"name\\\":null,\\\"type\\\":\\\"js\\\",\\\"url\\\":\\\"\\/assetserver\\/8a878f8aac4fcc3aa0fe3544f3b6004cfb87e28d-rowNumberRenderer.js\\\"},{\\\"name\\\":null,\\\"type\\\":\\\"js\\\",\\\"url\\\":\\\"\\/assetserver\\/49affd7ae36d0aac75380aa149861ff1594bff9c-ag-grid.js\\\"},{\\\"name\\\":null,\\\"type\\\":\\\"css\\\",\\\"url\\\":\\\"\\/assetserver\\/44eec805f61ccdf030080bfd1a559f03509a0021-ag-grid.css\\\"},{\\\"name\\\":null,\\\"type\\\":\\\"css\\\",\\\"url\\\":\\\"\\/assetserver\\/e4213c8e832c90aaafe2b3164c0bbb5b67c7a305-ag-grid-light.css\\\"},{\\\"name\\\":null,\\\"type\\\":\\\"css\\\",\\\"url\\\":\\\"\\/assetserver\\/b082734171f365ccefe5d7b6015f8162af17e3a6-ag-grid-dark.css\\\"}],\\\"type\\\":\\\"async_block\\\"})).then((imports) => handler.apply(this, imports));\\n}\\n\"],\"observables\":{\"onCellKeyDown\":{\"sync\":false,\"id\":\"ob_257\",\"value\":null},\"onRowClicked\":{\"sync\":false,\"id\":\"ob_255\",\"value\":null},\"onCellDoubleClicked\":{\"sync\":false,\"id\":\"ob_254\",\"value\":null},\"requestedrows\":{\"sync\":false,\"id\":\"ob_259\",\"value\":{}},\"onCellClicked\":{\"sync\":false,\"id\":\"ob_253\",\"value\":null},\"onCellFocused\":{\"sync\":false,\"id\":\"ob_256\",\"value\":null},\"rowparams\":{\"sync\":true,\"id\":\"ob_258\",\"value\":{\"successCallback\":\"(function (v){return null})\",\"startRow\":1,\"endRow\":100}}}},\"children\":[{\"props\":{},\"nodeType\":\"DOM\",\"type\":\"node\",\"instanceArgs\":{\"namespace\":\"html\",\"tag\":\"div\"},\"children\":[{\"props\":{\"style\":{\"height\":\"0\",\"padding\":\"0\",\"background-color\":\"#F5F7F7\",\"color\":\"#1c1f20\",\"font-family\":\"-apple-system, BlinkMacSystemFont, \\\"Segoe UI\\\", Roboto, Oxygen-Sans, Ubuntu, Cantarell, \\\"Helvetica Neue\\\", sans-serif\"}},\"nodeType\":\"DOM\",\"type\":\"node\",\"instanceArgs\":{\"namespace\":\"html\",\"tag\":\"div\"},\"children\":[\"\"]},{\"props\":{\"id\":\"grid-a820fd54\",\"className\":\"ag-theme-balham\",\"style\":{\"height\":\"500px\",\"width\":\"100%\"}},\"nodeType\":\"DOM\",\"type\":\"node\",\"instanceArgs\":{\"namespace\":\"html\",\"tag\":\"div\"},\"children\":[]}]}]},\n",
       "            window,\n",
       "        );\n",
       "    } else {\n",
       "        document\n",
       "            .querySelector('[data-webio-mountpoint=\"8552405052885930280\"]')\n",
       "            .innerHTML = (\n",
       "                '<div style=\"padding: 1em; background-color: #f8d6da; border: 1px solid #f5c6cb\">' +\n",
       "                '<p><strong>WebIO not detected.</strong></p>' +\n",
       "                '<p>Please read ' +\n",
       "                '<a href=\"https://juliagizmos.github.io/WebIO.jl/latest/troubleshooting/not-detected/\" target=\"_blank\">the troubleshooting guide</a> ' +\n",
       "                'for more information on how to resolve this issue.</p>' +\n",
       "                '<p><a href=\"https://juliagizmos.github.io/WebIO.jl/latest/troubleshooting/not-detected/\" target=\"_blank\">https://juliagizmos.github.io/WebIO.jl/latest/troubleshooting/not-detected/</a></p>' +\n",
       "                '</div>'\n",
       "            );\n",
       "    }\n",
       "    </script>\n",
       "</div>\n"
      ],
      "text/plain": [
       "WebIO.Scope(WebIO.Node{WebIO.DOM}(WebIO.DOM(:html, :div), Any[WebIO.Node{WebIO.DOM}(WebIO.DOM(:html, :div), Any[\"\"], Dict{Symbol,Any}(:style => Dict(\"height\" => \"0\",\"padding\" => \"0\",\"background-color\" => \"#F5F7F7\",\"color\" => \"#1c1f20\",\"font-family\" => \"-apple-system, BlinkMacSystemFont, \\\"Segoe UI\\\", Roboto, Oxygen-Sans, Ubuntu, Cantarell, \\\"Helvetica Neue\\\", sans-serif\"))), WebIO.Node{WebIO.DOM}(WebIO.DOM(:html, :div), Any[], Dict{Symbol,Any}(:id => \"grid-a820fd54\",:className => \"ag-theme-balham\",:style => Dict(\"height\" => \"500px\",\"width\" => \"100%\")))], Dict{Symbol,Any}()), Dict{String,Tuple{Observables.AbstractObservable,Union{Nothing, Bool}}}(\"onCellKeyDown\" => (Observable{Any} with 0 listeners. Value:\n",
       "nothing, nothing),\"onRowClicked\" => (Observable{Any} with 0 listeners. Value:\n",
       "nothing, nothing),\"onCellDoubleClicked\" => (Observable{Any} with 0 listeners. Value:\n",
       "nothing, nothing),\"requestedrows\" => (Observable{JSON.Writer.JSONText} with 1 listeners. Value:\n",
       "JSON.Writer.JSONText(\"{}\"), nothing),\"onCellClicked\" => (Observable{Any} with 0 listeners. Value:\n",
       "nothing, nothing),\"onCellFocused\" => (Observable{Any} with 0 listeners. Value:\n",
       "nothing, nothing),\"rowparams\" => (Observable{Dict{String,Any}} with 1 listeners. Value:\n",
       "Dict{String,Any}(\"successCallback\" => WebIO.JSString(\"(function (v){return null})\"),\"startRow\" => 1,\"endRow\" => 100), nothing)), Set(String[]), nothing, WebIO.Asset[WebIO.Asset(\"js\", nothing, \"/Users/cdaniels/.julia/packages/TableView/CxWLO/src/rowNumberRenderer.js\"), WebIO.Asset(\"js\", nothing, \"/Users/cdaniels/.julia/packages/TableView/CxWLO/deps/ag-grid-22.1.0/ag-grid.js\"), WebIO.Asset(\"css\", nothing, \"/Users/cdaniels/.julia/packages/TableView/CxWLO/deps/ag-grid-22.1.0/ag-grid.css\"), WebIO.Asset(\"css\", nothing, \"/Users/cdaniels/.julia/packages/TableView/CxWLO/deps/ag-grid-22.1.0/ag-grid-light.css\"), WebIO.Asset(\"css\", nothing, \"/Users/cdaniels/.julia/packages/TableView/CxWLO/deps/ag-grid-22.1.0/ag-grid-dark.css\")], Dict{Any,Any}(\"requestedrows\" => Any[WebIO.JSString(\"(function (val){return WebIO.getval({\\\"name\\\":\\\"rowparams\\\",\\\"scope\\\":\\\"16506897654812326389\\\",\\\"id\\\":\\\"ob_258\\\",\\\"type\\\":\\\"observable\\\"}).successCallback(val,null)})\")]), WebIO.ConnectionPool(Channel{Any}(sz_max:32,sz_curr:0), Set(WebIO.AbstractConnection[]), Base.GenericCondition{Base.AlwaysLockedST}(Base.InvasiveLinkedList{Task}(Task (runnable) @0x000000012017f190, Task (runnable) @0x000000012017f190), Base.AlwaysLockedST(1))), WebIO.JSString[WebIO.JSString(\"function () {\\n    var handler = ((function (RowNumberRenderer,agGrid){var gridOptions={\\\"onCellFocused\\\":(function (ev){var x={}; (ev.rowIndex!==undefined) ? (x[\\\"rowIndex\\\"]=(ev.rowIndex+1)) : undefined; (ev.colDef!==undefined) ? (x[\\\"column\\\"]=ev.colDef.headerName) : undefined; return WebIO.setval({\\\"name\\\":\\\"onCellFocused\\\",\\\"scope\\\":\\\"16506897654812326389\\\",\\\"id\\\":\\\"ob_256\\\",\\\"type\\\":\\\"observable\\\"},x)}),\\\"onCellValueChanged\\\":(function (){return }),\\\"rowModelType\\\":\\\"infinite\\\",\\\"onRowClicked\\\":(function (ev){var x={}; (ev.rowIndex!==undefined) ? (x[\\\"rowIndex\\\"]=(ev.rowIndex+1)) : undefined; (ev.colDef!==undefined) ? (x[\\\"column\\\"]=ev.colDef.headerName) : undefined; return WebIO.setval({\\\"name\\\":\\\"onRowClicked\\\",\\\"scope\\\":\\\"16506897654812326389\\\",\\\"id\\\":\\\"ob_255\\\",\\\"type\\\":\\\"observable\\\"},x)}),\\\"maxConcurrentDatasourceRequests\\\":1,\\\"columnDefs\\\":[{\\\"filter\\\":false,\\\"editable\\\":false,\\\"headerTooltip\\\":\\\"\\\",\\\"field\\\":\\\"__row__\\\",\\\"headerName\\\":\\\"Row\\\",\\\"sortable\\\":false,\\\"type\\\":\\\"numericColumn\\\",\\\"cellRenderer\\\":\\\"rowNumberRenderer\\\",\\\"resizable\\\":true},{\\\"filter\\\":false,\\\"editable\\\":false,\\\"headerTooltip\\\":\\\"String\\\",\\\"field\\\":\\\"state\\\",\\\"headerName\\\":\\\"state\\\",\\\"sortable\\\":false,\\\"type\\\":null,\\\"resizable\\\":true},{\\\"filter\\\":false,\\\"editable\\\":false,\\\"headerTooltip\\\":\\\"String\\\",\\\"field\\\":\\\"county\\\",\\\"headerName\\\":\\\"county\\\",\\\"sortable\\\":false,\\\"type\\\":null,\\\"resizable\\\":true},{\\\"filter\\\":false,\\\"editable\\\":false,\\\"headerTooltip\\\":\\\"Int64\\\",\\\"field\\\":\\\"population\\\",\\\"headerName\\\":\\\"population\\\",\\\"sortable\\\":false,\\\"type\\\":\\\"numericColumn\\\",\\\"resizable\\\":true},{\\\"filter\\\":false,\\\"editable\\\":false,\\\"headerTooltip\\\":\\\"Int64\\\",\\\"field\\\":\\\"cases\\\",\\\"headerName\\\":\\\"cases\\\",\\\"sortable\\\":false,\\\"type\\\":\\\"numericColumn\\\",\\\"resizable\\\":true},{\\\"filter\\\":false,\\\"editable\\\":false,\\\"headerTooltip\\\":\\\"Float64\\\",\\\"field\\\":\\\"casesIncreaseMA\\\",\\\"headerName\\\":\\\"casesIncreaseMA\\\",\\\"sortable\\\":false,\\\"type\\\":\\\"numericColumn\\\",\\\"resizable\\\":true},{\\\"filter\\\":false,\\\"editable\\\":false,\\\"headerTooltip\\\":\\\"Float64\\\",\\\"field\\\":\\\"casesInc100k\\\",\\\"headerName\\\":\\\"casesInc100k\\\",\\\"sortable\\\":false,\\\"type\\\":\\\"numericColumn\\\",\\\"resizable\\\":true},{\\\"filter\\\":false,\\\"editable\\\":false,\\\"headerTooltip\\\":\\\"Float64\\\",\\\"field\\\":\\\"pch_casesIncreaseMA\\\",\\\"headerName\\\":\\\"pch_casesIncreaseMA\\\",\\\"sortable\\\":false,\\\"type\\\":\\\"numericColumn\\\",\\\"resizable\\\":true}],\\\"cacheBlockSize\\\":1000,\\\"datasource\\\":{\\\"rowCount\\\":null,\\\"getRows\\\":(function (rowParams){return WebIO.setval({\\\"name\\\":\\\"rowparams\\\",\\\"scope\\\":\\\"16506897654812326389\\\",\\\"id\\\":\\\"ob_258\\\",\\\"type\\\":\\\"observable\\\"},rowParams)})},\\\"multiSortKey\\\":\\\"ctrl\\\",\\\"maxBlocksInCache\\\":100,\\\"onCellDoubleClicked\\\":(function (ev){var x={}; (ev.rowIndex!==undefined) ? (x[\\\"rowIndex\\\"]=(ev.rowIndex+1)) : undefined; (ev.colDef!==undefined) ? (x[\\\"column\\\"]=ev.colDef.headerName) : undefined; return WebIO.setval({\\\"name\\\":\\\"onCellDoubleClicked\\\",\\\"scope\\\":\\\"16506897654812326389\\\",\\\"id\\\":\\\"ob_254\\\",\\\"type\\\":\\\"observable\\\"},x)}),\\\"onCellKeyDown\\\":(function (ev){var x={}; (ev.rowIndex!==undefined) ? (x[\\\"rowIndex\\\"]=(ev.rowIndex+1)) : undefined; (ev.colDef!==undefined) ? (x[\\\"column\\\"]=ev.colDef.headerName) : undefined; return WebIO.setval({\\\"name\\\":\\\"onCellKeyDown\\\",\\\"scope\\\":\\\"16506897654812326389\\\",\\\"id\\\":\\\"ob_257\\\",\\\"type\\\":\\\"observable\\\"},x)}),\\\"onCellClicked\\\":(function (ev){var x={}; (ev.rowIndex!==undefined) ? (x[\\\"rowIndex\\\"]=(ev.rowIndex+1)) : undefined; (ev.colDef!==undefined) ? (x[\\\"column\\\"]=ev.colDef.headerName) : undefined; return WebIO.setval({\\\"name\\\":\\\"onCellClicked\\\",\\\"scope\\\":\\\"16506897654812326389\\\",\\\"id\\\":\\\"ob_253\\\",\\\"type\\\":\\\"observable\\\"},x)})}; var el=document.getElementById(\\\"grid-a820fd54\\\"); gridOptions.components={\\\"rowNumberRenderer\\\":RowNumberRenderer}; this.table=new agGrid.Grid(el,gridOptions); gridOptions.columnApi.autoSizeColumn(\\\"__row__\\\"); return gridOptions.columnApi.autoSizeColumns([\\\"state\\\",\\\"county\\\",\\\"population\\\",\\\"cases\\\",\\\"casesIncreaseMA\\\",\\\"casesInc100k\\\",\\\"pch_casesIncreaseMA\\\"])}));\\n    (WebIO.importBlock({\\\"data\\\":[{\\\"name\\\":null,\\\"type\\\":\\\"js\\\",\\\"url\\\":\\\"/assetserver/8a878f8aac4fcc3aa0fe3544f3b6004cfb87e28d-rowNumberRenderer.js\\\"},{\\\"name\\\":null,\\\"type\\\":\\\"js\\\",\\\"url\\\":\\\"/assetserver/49affd7ae36d0aac75380aa149861ff1594bff9c-ag-grid.js\\\"},{\\\"name\\\":null,\\\"type\\\":\\\"css\\\",\\\"url\\\":\\\"/assetserver/44eec805f61ccdf030080bfd1a559f03509a0021-ag-grid.css\\\"},{\\\"name\\\":null,\\\"type\\\":\\\"css\\\",\\\"url\\\":\\\"/assetserver/e4213c8e832c90aaafe2b3164c0bbb5b67c7a305-ag-grid-light.css\\\"},{\\\"name\\\":null,\\\"type\\\":\\\"css\\\",\\\"url\\\":\\\"/assetserver/b082734171f365ccefe5d7b6015f8162af17e3a6-ag-grid-dark.css\\\"}],\\\"type\\\":\\\"async_block\\\"})).then((imports) => handler.apply(this, imports));\\n}\\n\")])"
      ]
     },
     "execution_count": 70,
     "metadata": {
      "application/vnd.webio.node+json": {
       "kernelId": "3229260e-45e1-405c-811b-0c4817f5e87c"
      }
     },
     "output_type": "execute_result"
    }
   ],
   "source": [
    "@tbl sort(filter(r->!ismissing(r.casesInc100k)&& !isnan(r.casesInc100k),dfcp),[:pch_casesIncreaseMA],rev=true)"
   ]
  },
  {
   "cell_type": "markdown",
   "metadata": {},
   "source": [
    "#### Highest Number of New Daily Cases per County by Population"
   ]
  },
  {
   "cell_type": "code",
   "execution_count": 71,
   "metadata": {},
   "outputs": [
    {
     "data": {
      "application/vnd.webio.node+json": {
       "children": [
        {
         "children": [
          {
           "children": [
            ""
           ],
           "instanceArgs": {
            "namespace": "html",
            "tag": "div"
           },
           "nodeType": "DOM",
           "props": {
            "style": {
             "background-color": "#F5F7F7",
             "color": "#1c1f20",
             "font-family": "-apple-system, BlinkMacSystemFont, \"Segoe UI\", Roboto, Oxygen-Sans, Ubuntu, Cantarell, \"Helvetica Neue\", sans-serif",
             "height": "0",
             "padding": "0"
            }
           },
           "type": "node"
          },
          {
           "children": [],
           "instanceArgs": {
            "namespace": "html",
            "tag": "div"
           },
           "nodeType": "DOM",
           "props": {
            "className": "ag-theme-balham",
            "id": "grid-a8fc4f1c",
            "style": {
             "height": "500px",
             "width": "100%"
            }
           },
           "type": "node"
          }
         ],
         "instanceArgs": {
          "namespace": "html",
          "tag": "div"
         },
         "nodeType": "DOM",
         "props": {},
         "type": "node"
        }
       ],
       "instanceArgs": {
        "handlers": {
         "requestedrows": [
          "(function (val){return WebIO.getval({\"name\":\"rowparams\",\"scope\":\"15422633263189783641\",\"id\":\"ob_265\",\"type\":\"observable\"}).successCallback(val,null)})"
         ]
        },
        "id": "15422633263189783641",
        "imports": {
         "data": [
          {
           "name": null,
           "type": "js",
           "url": "/assetserver/8a878f8aac4fcc3aa0fe3544f3b6004cfb87e28d-rowNumberRenderer.js"
          },
          {
           "name": null,
           "type": "js",
           "url": "/assetserver/49affd7ae36d0aac75380aa149861ff1594bff9c-ag-grid.js"
          },
          {
           "name": null,
           "type": "css",
           "url": "/assetserver/44eec805f61ccdf030080bfd1a559f03509a0021-ag-grid.css"
          },
          {
           "name": null,
           "type": "css",
           "url": "/assetserver/e4213c8e832c90aaafe2b3164c0bbb5b67c7a305-ag-grid-light.css"
          },
          {
           "name": null,
           "type": "css",
           "url": "/assetserver/b082734171f365ccefe5d7b6015f8162af17e3a6-ag-grid-dark.css"
          }
         ],
         "type": "async_block"
        },
        "mount_callbacks": [
         "function () {\n    var handler = ((function (RowNumberRenderer,agGrid){var gridOptions={\"onCellFocused\":(function (ev){var x={}; (ev.rowIndex!==undefined) ? (x[\"rowIndex\"]=(ev.rowIndex+1)) : undefined; (ev.colDef!==undefined) ? (x[\"column\"]=ev.colDef.headerName) : undefined; return WebIO.setval({\"name\":\"onCellFocused\",\"scope\":\"15422633263189783641\",\"id\":\"ob_263\",\"type\":\"observable\"},x)}),\"onCellValueChanged\":(function (){return }),\"rowModelType\":\"infinite\",\"onRowClicked\":(function (ev){var x={}; (ev.rowIndex!==undefined) ? (x[\"rowIndex\"]=(ev.rowIndex+1)) : undefined; (ev.colDef!==undefined) ? (x[\"column\"]=ev.colDef.headerName) : undefined; return WebIO.setval({\"name\":\"onRowClicked\",\"scope\":\"15422633263189783641\",\"id\":\"ob_262\",\"type\":\"observable\"},x)}),\"maxConcurrentDatasourceRequests\":1,\"columnDefs\":[{\"filter\":false,\"editable\":false,\"headerTooltip\":\"\",\"field\":\"__row__\",\"headerName\":\"Row\",\"sortable\":false,\"type\":\"numericColumn\",\"cellRenderer\":\"rowNumberRenderer\",\"resizable\":true},{\"filter\":false,\"editable\":false,\"headerTooltip\":\"String\",\"field\":\"state\",\"headerName\":\"state\",\"sortable\":false,\"type\":null,\"resizable\":true},{\"filter\":false,\"editable\":false,\"headerTooltip\":\"String\",\"field\":\"county\",\"headerName\":\"county\",\"sortable\":false,\"type\":null,\"resizable\":true},{\"filter\":false,\"editable\":false,\"headerTooltip\":\"Int64\",\"field\":\"population\",\"headerName\":\"population\",\"sortable\":false,\"type\":\"numericColumn\",\"resizable\":true},{\"filter\":false,\"editable\":false,\"headerTooltip\":\"Int64\",\"field\":\"cases\",\"headerName\":\"cases\",\"sortable\":false,\"type\":\"numericColumn\",\"resizable\":true},{\"filter\":false,\"editable\":false,\"headerTooltip\":\"Float64\",\"field\":\"casesIncreaseMA\",\"headerName\":\"casesIncreaseMA\",\"sortable\":false,\"type\":\"numericColumn\",\"resizable\":true},{\"filter\":false,\"editable\":false,\"headerTooltip\":\"Float64\",\"field\":\"casesInc100k\",\"headerName\":\"casesInc100k\",\"sortable\":false,\"type\":\"numericColumn\",\"resizable\":true},{\"filter\":false,\"editable\":false,\"headerTooltip\":\"Float64\",\"field\":\"pch_casesIncreaseMA\",\"headerName\":\"pch_casesIncreaseMA\",\"sortable\":false,\"type\":\"numericColumn\",\"resizable\":true}],\"cacheBlockSize\":1000,\"datasource\":{\"rowCount\":null,\"getRows\":(function (rowParams){return WebIO.setval({\"name\":\"rowparams\",\"scope\":\"15422633263189783641\",\"id\":\"ob_265\",\"type\":\"observable\"},rowParams)})},\"multiSortKey\":\"ctrl\",\"maxBlocksInCache\":100,\"onCellDoubleClicked\":(function (ev){var x={}; (ev.rowIndex!==undefined) ? (x[\"rowIndex\"]=(ev.rowIndex+1)) : undefined; (ev.colDef!==undefined) ? (x[\"column\"]=ev.colDef.headerName) : undefined; return WebIO.setval({\"name\":\"onCellDoubleClicked\",\"scope\":\"15422633263189783641\",\"id\":\"ob_261\",\"type\":\"observable\"},x)}),\"onCellKeyDown\":(function (ev){var x={}; (ev.rowIndex!==undefined) ? (x[\"rowIndex\"]=(ev.rowIndex+1)) : undefined; (ev.colDef!==undefined) ? (x[\"column\"]=ev.colDef.headerName) : undefined; return WebIO.setval({\"name\":\"onCellKeyDown\",\"scope\":\"15422633263189783641\",\"id\":\"ob_264\",\"type\":\"observable\"},x)}),\"onCellClicked\":(function (ev){var x={}; (ev.rowIndex!==undefined) ? (x[\"rowIndex\"]=(ev.rowIndex+1)) : undefined; (ev.colDef!==undefined) ? (x[\"column\"]=ev.colDef.headerName) : undefined; return WebIO.setval({\"name\":\"onCellClicked\",\"scope\":\"15422633263189783641\",\"id\":\"ob_260\",\"type\":\"observable\"},x)})}; var el=document.getElementById(\"grid-a8fc4f1c\"); gridOptions.components={\"rowNumberRenderer\":RowNumberRenderer}; this.table=new agGrid.Grid(el,gridOptions); gridOptions.columnApi.autoSizeColumn(\"__row__\"); return gridOptions.columnApi.autoSizeColumns([\"state\",\"county\",\"population\",\"cases\",\"casesIncreaseMA\",\"casesInc100k\",\"pch_casesIncreaseMA\"])}));\n    (WebIO.importBlock({\"data\":[{\"name\":null,\"type\":\"js\",\"url\":\"/assetserver/8a878f8aac4fcc3aa0fe3544f3b6004cfb87e28d-rowNumberRenderer.js\"},{\"name\":null,\"type\":\"js\",\"url\":\"/assetserver/49affd7ae36d0aac75380aa149861ff1594bff9c-ag-grid.js\"},{\"name\":null,\"type\":\"css\",\"url\":\"/assetserver/44eec805f61ccdf030080bfd1a559f03509a0021-ag-grid.css\"},{\"name\":null,\"type\":\"css\",\"url\":\"/assetserver/e4213c8e832c90aaafe2b3164c0bbb5b67c7a305-ag-grid-light.css\"},{\"name\":null,\"type\":\"css\",\"url\":\"/assetserver/b082734171f365ccefe5d7b6015f8162af17e3a6-ag-grid-dark.css\"}],\"type\":\"async_block\"})).then((imports) => handler.apply(this, imports));\n}\n"
        ],
        "observables": {
         "onCellClicked": {
          "id": "ob_260",
          "sync": false,
          "value": null
         },
         "onCellDoubleClicked": {
          "id": "ob_261",
          "sync": false,
          "value": null
         },
         "onCellFocused": {
          "id": "ob_263",
          "sync": false,
          "value": null
         },
         "onCellKeyDown": {
          "id": "ob_264",
          "sync": false,
          "value": null
         },
         "onRowClicked": {
          "id": "ob_262",
          "sync": false,
          "value": null
         },
         "requestedrows": {
          "id": "ob_266",
          "sync": false,
          "value": {}
         },
         "rowparams": {
          "id": "ob_265",
          "sync": true,
          "value": {
           "endRow": 100,
           "startRow": 1,
           "successCallback": "(function (v){return null})"
          }
         }
        },
        "systemjs_options": null
       },
       "nodeType": "Scope",
       "props": {},
       "type": "node"
      },
      "text/html": [
       "<div\n",
       "    class=\"webio-mountpoint\"\n",
       "    data-webio-mountpoint=\"14254294852959360336\"\n",
       ">\n",
       "    <script>\n",
       "    if (window.require && require.defined && require.defined(\"nbextensions/webio-jupyter-notebook\")) {\n",
       "        console.log(\"Jupyter WebIO extension detected, not mounting.\");\n",
       "    } else if (window.WebIO) {\n",
       "        WebIO.mount(\n",
       "            document.querySelector('[data-webio-mountpoint=\"14254294852959360336\"]'),\n",
       "            {\"props\":{},\"nodeType\":\"Scope\",\"type\":\"node\",\"instanceArgs\":{\"imports\":{\"data\":[{\"name\":null,\"type\":\"js\",\"url\":\"\\/assetserver\\/8a878f8aac4fcc3aa0fe3544f3b6004cfb87e28d-rowNumberRenderer.js\"},{\"name\":null,\"type\":\"js\",\"url\":\"\\/assetserver\\/49affd7ae36d0aac75380aa149861ff1594bff9c-ag-grid.js\"},{\"name\":null,\"type\":\"css\",\"url\":\"\\/assetserver\\/44eec805f61ccdf030080bfd1a559f03509a0021-ag-grid.css\"},{\"name\":null,\"type\":\"css\",\"url\":\"\\/assetserver\\/e4213c8e832c90aaafe2b3164c0bbb5b67c7a305-ag-grid-light.css\"},{\"name\":null,\"type\":\"css\",\"url\":\"\\/assetserver\\/b082734171f365ccefe5d7b6015f8162af17e3a6-ag-grid-dark.css\"}],\"type\":\"async_block\"},\"id\":\"15422633263189783641\",\"handlers\":{\"requestedrows\":[\"(function (val){return WebIO.getval({\\\"name\\\":\\\"rowparams\\\",\\\"scope\\\":\\\"15422633263189783641\\\",\\\"id\\\":\\\"ob_265\\\",\\\"type\\\":\\\"observable\\\"}).successCallback(val,null)})\"]},\"systemjs_options\":null,\"mount_callbacks\":[\"function () {\\n    var handler = ((function (RowNumberRenderer,agGrid){var gridOptions={\\\"onCellFocused\\\":(function (ev){var x={}; (ev.rowIndex!==undefined) ? (x[\\\"rowIndex\\\"]=(ev.rowIndex+1)) : undefined; (ev.colDef!==undefined) ? (x[\\\"column\\\"]=ev.colDef.headerName) : undefined; return WebIO.setval({\\\"name\\\":\\\"onCellFocused\\\",\\\"scope\\\":\\\"15422633263189783641\\\",\\\"id\\\":\\\"ob_263\\\",\\\"type\\\":\\\"observable\\\"},x)}),\\\"onCellValueChanged\\\":(function (){return }),\\\"rowModelType\\\":\\\"infinite\\\",\\\"onRowClicked\\\":(function (ev){var x={}; (ev.rowIndex!==undefined) ? (x[\\\"rowIndex\\\"]=(ev.rowIndex+1)) : undefined; (ev.colDef!==undefined) ? (x[\\\"column\\\"]=ev.colDef.headerName) : undefined; return WebIO.setval({\\\"name\\\":\\\"onRowClicked\\\",\\\"scope\\\":\\\"15422633263189783641\\\",\\\"id\\\":\\\"ob_262\\\",\\\"type\\\":\\\"observable\\\"},x)}),\\\"maxConcurrentDatasourceRequests\\\":1,\\\"columnDefs\\\":[{\\\"filter\\\":false,\\\"editable\\\":false,\\\"headerTooltip\\\":\\\"\\\",\\\"field\\\":\\\"__row__\\\",\\\"headerName\\\":\\\"Row\\\",\\\"sortable\\\":false,\\\"type\\\":\\\"numericColumn\\\",\\\"cellRenderer\\\":\\\"rowNumberRenderer\\\",\\\"resizable\\\":true},{\\\"filter\\\":false,\\\"editable\\\":false,\\\"headerTooltip\\\":\\\"String\\\",\\\"field\\\":\\\"state\\\",\\\"headerName\\\":\\\"state\\\",\\\"sortable\\\":false,\\\"type\\\":null,\\\"resizable\\\":true},{\\\"filter\\\":false,\\\"editable\\\":false,\\\"headerTooltip\\\":\\\"String\\\",\\\"field\\\":\\\"county\\\",\\\"headerName\\\":\\\"county\\\",\\\"sortable\\\":false,\\\"type\\\":null,\\\"resizable\\\":true},{\\\"filter\\\":false,\\\"editable\\\":false,\\\"headerTooltip\\\":\\\"Int64\\\",\\\"field\\\":\\\"population\\\",\\\"headerName\\\":\\\"population\\\",\\\"sortable\\\":false,\\\"type\\\":\\\"numericColumn\\\",\\\"resizable\\\":true},{\\\"filter\\\":false,\\\"editable\\\":false,\\\"headerTooltip\\\":\\\"Int64\\\",\\\"field\\\":\\\"cases\\\",\\\"headerName\\\":\\\"cases\\\",\\\"sortable\\\":false,\\\"type\\\":\\\"numericColumn\\\",\\\"resizable\\\":true},{\\\"filter\\\":false,\\\"editable\\\":false,\\\"headerTooltip\\\":\\\"Float64\\\",\\\"field\\\":\\\"casesIncreaseMA\\\",\\\"headerName\\\":\\\"casesIncreaseMA\\\",\\\"sortable\\\":false,\\\"type\\\":\\\"numericColumn\\\",\\\"resizable\\\":true},{\\\"filter\\\":false,\\\"editable\\\":false,\\\"headerTooltip\\\":\\\"Float64\\\",\\\"field\\\":\\\"casesInc100k\\\",\\\"headerName\\\":\\\"casesInc100k\\\",\\\"sortable\\\":false,\\\"type\\\":\\\"numericColumn\\\",\\\"resizable\\\":true},{\\\"filter\\\":false,\\\"editable\\\":false,\\\"headerTooltip\\\":\\\"Float64\\\",\\\"field\\\":\\\"pch_casesIncreaseMA\\\",\\\"headerName\\\":\\\"pch_casesIncreaseMA\\\",\\\"sortable\\\":false,\\\"type\\\":\\\"numericColumn\\\",\\\"resizable\\\":true}],\\\"cacheBlockSize\\\":1000,\\\"datasource\\\":{\\\"rowCount\\\":null,\\\"getRows\\\":(function (rowParams){return WebIO.setval({\\\"name\\\":\\\"rowparams\\\",\\\"scope\\\":\\\"15422633263189783641\\\",\\\"id\\\":\\\"ob_265\\\",\\\"type\\\":\\\"observable\\\"},rowParams)})},\\\"multiSortKey\\\":\\\"ctrl\\\",\\\"maxBlocksInCache\\\":100,\\\"onCellDoubleClicked\\\":(function (ev){var x={}; (ev.rowIndex!==undefined) ? (x[\\\"rowIndex\\\"]=(ev.rowIndex+1)) : undefined; (ev.colDef!==undefined) ? (x[\\\"column\\\"]=ev.colDef.headerName) : undefined; return WebIO.setval({\\\"name\\\":\\\"onCellDoubleClicked\\\",\\\"scope\\\":\\\"15422633263189783641\\\",\\\"id\\\":\\\"ob_261\\\",\\\"type\\\":\\\"observable\\\"},x)}),\\\"onCellKeyDown\\\":(function (ev){var x={}; (ev.rowIndex!==undefined) ? (x[\\\"rowIndex\\\"]=(ev.rowIndex+1)) : undefined; (ev.colDef!==undefined) ? (x[\\\"column\\\"]=ev.colDef.headerName) : undefined; return WebIO.setval({\\\"name\\\":\\\"onCellKeyDown\\\",\\\"scope\\\":\\\"15422633263189783641\\\",\\\"id\\\":\\\"ob_264\\\",\\\"type\\\":\\\"observable\\\"},x)}),\\\"onCellClicked\\\":(function (ev){var x={}; (ev.rowIndex!==undefined) ? (x[\\\"rowIndex\\\"]=(ev.rowIndex+1)) : undefined; (ev.colDef!==undefined) ? (x[\\\"column\\\"]=ev.colDef.headerName) : undefined; return WebIO.setval({\\\"name\\\":\\\"onCellClicked\\\",\\\"scope\\\":\\\"15422633263189783641\\\",\\\"id\\\":\\\"ob_260\\\",\\\"type\\\":\\\"observable\\\"},x)})}; var el=document.getElementById(\\\"grid-a8fc4f1c\\\"); gridOptions.components={\\\"rowNumberRenderer\\\":RowNumberRenderer}; this.table=new agGrid.Grid(el,gridOptions); gridOptions.columnApi.autoSizeColumn(\\\"__row__\\\"); return gridOptions.columnApi.autoSizeColumns([\\\"state\\\",\\\"county\\\",\\\"population\\\",\\\"cases\\\",\\\"casesIncreaseMA\\\",\\\"casesInc100k\\\",\\\"pch_casesIncreaseMA\\\"])}));\\n    (WebIO.importBlock({\\\"data\\\":[{\\\"name\\\":null,\\\"type\\\":\\\"js\\\",\\\"url\\\":\\\"\\/assetserver\\/8a878f8aac4fcc3aa0fe3544f3b6004cfb87e28d-rowNumberRenderer.js\\\"},{\\\"name\\\":null,\\\"type\\\":\\\"js\\\",\\\"url\\\":\\\"\\/assetserver\\/49affd7ae36d0aac75380aa149861ff1594bff9c-ag-grid.js\\\"},{\\\"name\\\":null,\\\"type\\\":\\\"css\\\",\\\"url\\\":\\\"\\/assetserver\\/44eec805f61ccdf030080bfd1a559f03509a0021-ag-grid.css\\\"},{\\\"name\\\":null,\\\"type\\\":\\\"css\\\",\\\"url\\\":\\\"\\/assetserver\\/e4213c8e832c90aaafe2b3164c0bbb5b67c7a305-ag-grid-light.css\\\"},{\\\"name\\\":null,\\\"type\\\":\\\"css\\\",\\\"url\\\":\\\"\\/assetserver\\/b082734171f365ccefe5d7b6015f8162af17e3a6-ag-grid-dark.css\\\"}],\\\"type\\\":\\\"async_block\\\"})).then((imports) => handler.apply(this, imports));\\n}\\n\"],\"observables\":{\"onCellKeyDown\":{\"sync\":false,\"id\":\"ob_264\",\"value\":null},\"onRowClicked\":{\"sync\":false,\"id\":\"ob_262\",\"value\":null},\"onCellDoubleClicked\":{\"sync\":false,\"id\":\"ob_261\",\"value\":null},\"requestedrows\":{\"sync\":false,\"id\":\"ob_266\",\"value\":{}},\"onCellClicked\":{\"sync\":false,\"id\":\"ob_260\",\"value\":null},\"onCellFocused\":{\"sync\":false,\"id\":\"ob_263\",\"value\":null},\"rowparams\":{\"sync\":true,\"id\":\"ob_265\",\"value\":{\"successCallback\":\"(function (v){return null})\",\"startRow\":1,\"endRow\":100}}}},\"children\":[{\"props\":{},\"nodeType\":\"DOM\",\"type\":\"node\",\"instanceArgs\":{\"namespace\":\"html\",\"tag\":\"div\"},\"children\":[{\"props\":{\"style\":{\"height\":\"0\",\"padding\":\"0\",\"background-color\":\"#F5F7F7\",\"color\":\"#1c1f20\",\"font-family\":\"-apple-system, BlinkMacSystemFont, \\\"Segoe UI\\\", Roboto, Oxygen-Sans, Ubuntu, Cantarell, \\\"Helvetica Neue\\\", sans-serif\"}},\"nodeType\":\"DOM\",\"type\":\"node\",\"instanceArgs\":{\"namespace\":\"html\",\"tag\":\"div\"},\"children\":[\"\"]},{\"props\":{\"id\":\"grid-a8fc4f1c\",\"className\":\"ag-theme-balham\",\"style\":{\"height\":\"500px\",\"width\":\"100%\"}},\"nodeType\":\"DOM\",\"type\":\"node\",\"instanceArgs\":{\"namespace\":\"html\",\"tag\":\"div\"},\"children\":[]}]}]},\n",
       "            window,\n",
       "        );\n",
       "    } else {\n",
       "        document\n",
       "            .querySelector('[data-webio-mountpoint=\"14254294852959360336\"]')\n",
       "            .innerHTML = (\n",
       "                '<div style=\"padding: 1em; background-color: #f8d6da; border: 1px solid #f5c6cb\">' +\n",
       "                '<p><strong>WebIO not detected.</strong></p>' +\n",
       "                '<p>Please read ' +\n",
       "                '<a href=\"https://juliagizmos.github.io/WebIO.jl/latest/troubleshooting/not-detected/\" target=\"_blank\">the troubleshooting guide</a> ' +\n",
       "                'for more information on how to resolve this issue.</p>' +\n",
       "                '<p><a href=\"https://juliagizmos.github.io/WebIO.jl/latest/troubleshooting/not-detected/\" target=\"_blank\">https://juliagizmos.github.io/WebIO.jl/latest/troubleshooting/not-detected/</a></p>' +\n",
       "                '</div>'\n",
       "            );\n",
       "    }\n",
       "    </script>\n",
       "</div>\n"
      ],
      "text/plain": [
       "WebIO.Scope(WebIO.Node{WebIO.DOM}(WebIO.DOM(:html, :div), Any[WebIO.Node{WebIO.DOM}(WebIO.DOM(:html, :div), Any[\"\"], Dict{Symbol,Any}(:style => Dict(\"height\" => \"0\",\"padding\" => \"0\",\"background-color\" => \"#F5F7F7\",\"color\" => \"#1c1f20\",\"font-family\" => \"-apple-system, BlinkMacSystemFont, \\\"Segoe UI\\\", Roboto, Oxygen-Sans, Ubuntu, Cantarell, \\\"Helvetica Neue\\\", sans-serif\"))), WebIO.Node{WebIO.DOM}(WebIO.DOM(:html, :div), Any[], Dict{Symbol,Any}(:id => \"grid-a8fc4f1c\",:className => \"ag-theme-balham\",:style => Dict(\"height\" => \"500px\",\"width\" => \"100%\")))], Dict{Symbol,Any}()), Dict{String,Tuple{Observables.AbstractObservable,Union{Nothing, Bool}}}(\"onCellKeyDown\" => (Observable{Any} with 0 listeners. Value:\n",
       "nothing, nothing),\"onRowClicked\" => (Observable{Any} with 0 listeners. Value:\n",
       "nothing, nothing),\"onCellDoubleClicked\" => (Observable{Any} with 0 listeners. Value:\n",
       "nothing, nothing),\"requestedrows\" => (Observable{JSON.Writer.JSONText} with 1 listeners. Value:\n",
       "JSON.Writer.JSONText(\"{}\"), nothing),\"onCellClicked\" => (Observable{Any} with 0 listeners. Value:\n",
       "nothing, nothing),\"onCellFocused\" => (Observable{Any} with 0 listeners. Value:\n",
       "nothing, nothing),\"rowparams\" => (Observable{Dict{String,Any}} with 1 listeners. Value:\n",
       "Dict{String,Any}(\"successCallback\" => WebIO.JSString(\"(function (v){return null})\"),\"startRow\" => 1,\"endRow\" => 100), nothing)), Set(String[]), nothing, WebIO.Asset[WebIO.Asset(\"js\", nothing, \"/Users/cdaniels/.julia/packages/TableView/CxWLO/src/rowNumberRenderer.js\"), WebIO.Asset(\"js\", nothing, \"/Users/cdaniels/.julia/packages/TableView/CxWLO/deps/ag-grid-22.1.0/ag-grid.js\"), WebIO.Asset(\"css\", nothing, \"/Users/cdaniels/.julia/packages/TableView/CxWLO/deps/ag-grid-22.1.0/ag-grid.css\"), WebIO.Asset(\"css\", nothing, \"/Users/cdaniels/.julia/packages/TableView/CxWLO/deps/ag-grid-22.1.0/ag-grid-light.css\"), WebIO.Asset(\"css\", nothing, \"/Users/cdaniels/.julia/packages/TableView/CxWLO/deps/ag-grid-22.1.0/ag-grid-dark.css\")], Dict{Any,Any}(\"requestedrows\" => Any[WebIO.JSString(\"(function (val){return WebIO.getval({\\\"name\\\":\\\"rowparams\\\",\\\"scope\\\":\\\"15422633263189783641\\\",\\\"id\\\":\\\"ob_265\\\",\\\"type\\\":\\\"observable\\\"}).successCallback(val,null)})\")]), WebIO.ConnectionPool(Channel{Any}(sz_max:32,sz_curr:0), Set(WebIO.AbstractConnection[]), Base.GenericCondition{Base.AlwaysLockedST}(Base.InvasiveLinkedList{Task}(Task (runnable) @0x0000000120183850, Task (runnable) @0x0000000120183850), Base.AlwaysLockedST(1))), WebIO.JSString[WebIO.JSString(\"function () {\\n    var handler = ((function (RowNumberRenderer,agGrid){var gridOptions={\\\"onCellFocused\\\":(function (ev){var x={}; (ev.rowIndex!==undefined) ? (x[\\\"rowIndex\\\"]=(ev.rowIndex+1)) : undefined; (ev.colDef!==undefined) ? (x[\\\"column\\\"]=ev.colDef.headerName) : undefined; return WebIO.setval({\\\"name\\\":\\\"onCellFocused\\\",\\\"scope\\\":\\\"15422633263189783641\\\",\\\"id\\\":\\\"ob_263\\\",\\\"type\\\":\\\"observable\\\"},x)}),\\\"onCellValueChanged\\\":(function (){return }),\\\"rowModelType\\\":\\\"infinite\\\",\\\"onRowClicked\\\":(function (ev){var x={}; (ev.rowIndex!==undefined) ? (x[\\\"rowIndex\\\"]=(ev.rowIndex+1)) : undefined; (ev.colDef!==undefined) ? (x[\\\"column\\\"]=ev.colDef.headerName) : undefined; return WebIO.setval({\\\"name\\\":\\\"onRowClicked\\\",\\\"scope\\\":\\\"15422633263189783641\\\",\\\"id\\\":\\\"ob_262\\\",\\\"type\\\":\\\"observable\\\"},x)}),\\\"maxConcurrentDatasourceRequests\\\":1,\\\"columnDefs\\\":[{\\\"filter\\\":false,\\\"editable\\\":false,\\\"headerTooltip\\\":\\\"\\\",\\\"field\\\":\\\"__row__\\\",\\\"headerName\\\":\\\"Row\\\",\\\"sortable\\\":false,\\\"type\\\":\\\"numericColumn\\\",\\\"cellRenderer\\\":\\\"rowNumberRenderer\\\",\\\"resizable\\\":true},{\\\"filter\\\":false,\\\"editable\\\":false,\\\"headerTooltip\\\":\\\"String\\\",\\\"field\\\":\\\"state\\\",\\\"headerName\\\":\\\"state\\\",\\\"sortable\\\":false,\\\"type\\\":null,\\\"resizable\\\":true},{\\\"filter\\\":false,\\\"editable\\\":false,\\\"headerTooltip\\\":\\\"String\\\",\\\"field\\\":\\\"county\\\",\\\"headerName\\\":\\\"county\\\",\\\"sortable\\\":false,\\\"type\\\":null,\\\"resizable\\\":true},{\\\"filter\\\":false,\\\"editable\\\":false,\\\"headerTooltip\\\":\\\"Int64\\\",\\\"field\\\":\\\"population\\\",\\\"headerName\\\":\\\"population\\\",\\\"sortable\\\":false,\\\"type\\\":\\\"numericColumn\\\",\\\"resizable\\\":true},{\\\"filter\\\":false,\\\"editable\\\":false,\\\"headerTooltip\\\":\\\"Int64\\\",\\\"field\\\":\\\"cases\\\",\\\"headerName\\\":\\\"cases\\\",\\\"sortable\\\":false,\\\"type\\\":\\\"numericColumn\\\",\\\"resizable\\\":true},{\\\"filter\\\":false,\\\"editable\\\":false,\\\"headerTooltip\\\":\\\"Float64\\\",\\\"field\\\":\\\"casesIncreaseMA\\\",\\\"headerName\\\":\\\"casesIncreaseMA\\\",\\\"sortable\\\":false,\\\"type\\\":\\\"numericColumn\\\",\\\"resizable\\\":true},{\\\"filter\\\":false,\\\"editable\\\":false,\\\"headerTooltip\\\":\\\"Float64\\\",\\\"field\\\":\\\"casesInc100k\\\",\\\"headerName\\\":\\\"casesInc100k\\\",\\\"sortable\\\":false,\\\"type\\\":\\\"numericColumn\\\",\\\"resizable\\\":true},{\\\"filter\\\":false,\\\"editable\\\":false,\\\"headerTooltip\\\":\\\"Float64\\\",\\\"field\\\":\\\"pch_casesIncreaseMA\\\",\\\"headerName\\\":\\\"pch_casesIncreaseMA\\\",\\\"sortable\\\":false,\\\"type\\\":\\\"numericColumn\\\",\\\"resizable\\\":true}],\\\"cacheBlockSize\\\":1000,\\\"datasource\\\":{\\\"rowCount\\\":null,\\\"getRows\\\":(function (rowParams){return WebIO.setval({\\\"name\\\":\\\"rowparams\\\",\\\"scope\\\":\\\"15422633263189783641\\\",\\\"id\\\":\\\"ob_265\\\",\\\"type\\\":\\\"observable\\\"},rowParams)})},\\\"multiSortKey\\\":\\\"ctrl\\\",\\\"maxBlocksInCache\\\":100,\\\"onCellDoubleClicked\\\":(function (ev){var x={}; (ev.rowIndex!==undefined) ? (x[\\\"rowIndex\\\"]=(ev.rowIndex+1)) : undefined; (ev.colDef!==undefined) ? (x[\\\"column\\\"]=ev.colDef.headerName) : undefined; return WebIO.setval({\\\"name\\\":\\\"onCellDoubleClicked\\\",\\\"scope\\\":\\\"15422633263189783641\\\",\\\"id\\\":\\\"ob_261\\\",\\\"type\\\":\\\"observable\\\"},x)}),\\\"onCellKeyDown\\\":(function (ev){var x={}; (ev.rowIndex!==undefined) ? (x[\\\"rowIndex\\\"]=(ev.rowIndex+1)) : undefined; (ev.colDef!==undefined) ? (x[\\\"column\\\"]=ev.colDef.headerName) : undefined; return WebIO.setval({\\\"name\\\":\\\"onCellKeyDown\\\",\\\"scope\\\":\\\"15422633263189783641\\\",\\\"id\\\":\\\"ob_264\\\",\\\"type\\\":\\\"observable\\\"},x)}),\\\"onCellClicked\\\":(function (ev){var x={}; (ev.rowIndex!==undefined) ? (x[\\\"rowIndex\\\"]=(ev.rowIndex+1)) : undefined; (ev.colDef!==undefined) ? (x[\\\"column\\\"]=ev.colDef.headerName) : undefined; return WebIO.setval({\\\"name\\\":\\\"onCellClicked\\\",\\\"scope\\\":\\\"15422633263189783641\\\",\\\"id\\\":\\\"ob_260\\\",\\\"type\\\":\\\"observable\\\"},x)})}; var el=document.getElementById(\\\"grid-a8fc4f1c\\\"); gridOptions.components={\\\"rowNumberRenderer\\\":RowNumberRenderer}; this.table=new agGrid.Grid(el,gridOptions); gridOptions.columnApi.autoSizeColumn(\\\"__row__\\\"); return gridOptions.columnApi.autoSizeColumns([\\\"state\\\",\\\"county\\\",\\\"population\\\",\\\"cases\\\",\\\"casesIncreaseMA\\\",\\\"casesInc100k\\\",\\\"pch_casesIncreaseMA\\\"])}));\\n    (WebIO.importBlock({\\\"data\\\":[{\\\"name\\\":null,\\\"type\\\":\\\"js\\\",\\\"url\\\":\\\"/assetserver/8a878f8aac4fcc3aa0fe3544f3b6004cfb87e28d-rowNumberRenderer.js\\\"},{\\\"name\\\":null,\\\"type\\\":\\\"js\\\",\\\"url\\\":\\\"/assetserver/49affd7ae36d0aac75380aa149861ff1594bff9c-ag-grid.js\\\"},{\\\"name\\\":null,\\\"type\\\":\\\"css\\\",\\\"url\\\":\\\"/assetserver/44eec805f61ccdf030080bfd1a559f03509a0021-ag-grid.css\\\"},{\\\"name\\\":null,\\\"type\\\":\\\"css\\\",\\\"url\\\":\\\"/assetserver/e4213c8e832c90aaafe2b3164c0bbb5b67c7a305-ag-grid-light.css\\\"},{\\\"name\\\":null,\\\"type\\\":\\\"css\\\",\\\"url\\\":\\\"/assetserver/b082734171f365ccefe5d7b6015f8162af17e3a6-ag-grid-dark.css\\\"}],\\\"type\\\":\\\"async_block\\\"})).then((imports) => handler.apply(this, imports));\\n}\\n\")])"
      ]
     },
     "execution_count": 71,
     "metadata": {
      "application/vnd.webio.node+json": {
       "kernelId": "3229260e-45e1-405c-811b-0c4817f5e87c"
      }
     },
     "output_type": "execute_result"
    }
   ],
   "source": [
    "@tbl sort(filter(r->!ismissing(r.casesInc100k)&& !isnan(r.casesInc100k),dfcp),[:casesInc100k],rev=true)"
   ]
  },
  {
   "cell_type": "markdown",
   "metadata": {},
   "source": [
    "### Epidemiological Curves"
   ]
  },
  {
   "cell_type": "code",
   "execution_count": 78,
   "metadata": {},
   "outputs": [
    {
     "data": {
      "image/svg+xml": [
       "<?xml version=\"1.0\" encoding=\"utf-8\"?>\n",
       "<svg xmlns=\"http://www.w3.org/2000/svg\" xmlns:xlink=\"http://www.w3.org/1999/xlink\" width=\"600\" height=\"400\" viewBox=\"0 0 2400 1600\">\n",
       "<defs>\n",
       "  <clipPath id=\"clip210\">\n",
       "    <rect x=\"0\" y=\"0\" width=\"2400\" height=\"1600\"/>\n",
       "  </clipPath>\n",
       "</defs>\n",
       "<path clip-path=\"url(#clip210)\" d=\"\n",
       "M0 1600 L2400 1600 L2400 0 L0 0  Z\n",
       "  \" fill=\"#ffffff\" fill-rule=\"evenodd\" fill-opacity=\"1\"/>\n",
       "<defs>\n",
       "  <clipPath id=\"clip211\">\n",
       "    <rect x=\"480\" y=\"0\" width=\"1681\" height=\"1600\"/>\n",
       "  </clipPath>\n",
       "</defs>\n",
       "<path clip-path=\"url(#clip210)\" d=\"\n",
       "M256.486 1263.94 L2352.76 1263.94 L2352.76 183.952 L256.486 183.952  Z\n",
       "  \" fill=\"#ffffff\" fill-rule=\"evenodd\" fill-opacity=\"1\"/>\n",
       "<defs>\n",
       "  <clipPath id=\"clip212\">\n",
       "    <rect x=\"256\" y=\"183\" width=\"2097\" height=\"1081\"/>\n",
       "  </clipPath>\n",
       "</defs>\n",
       "<polyline clip-path=\"url(#clip212)\" style=\"stroke:#000000; stroke-width:2; stroke-opacity:0.1; fill:none\" points=\"\n",
       "  377.534,1263.94 377.534,183.952 \n",
       "  \"/>\n",
       "<polyline clip-path=\"url(#clip212)\" style=\"stroke:#000000; stroke-width:2; stroke-opacity:0.1; fill:none\" points=\"\n",
       "  578.763,1263.94 578.763,183.952 \n",
       "  \"/>\n",
       "<polyline clip-path=\"url(#clip212)\" style=\"stroke:#000000; stroke-width:2; stroke-opacity:0.1; fill:none\" points=\"\n",
       "  779.991,1263.94 779.991,183.952 \n",
       "  \"/>\n",
       "<polyline clip-path=\"url(#clip212)\" style=\"stroke:#000000; stroke-width:2; stroke-opacity:0.1; fill:none\" points=\"\n",
       "  981.219,1263.94 981.219,183.952 \n",
       "  \"/>\n",
       "<polyline clip-path=\"url(#clip212)\" style=\"stroke:#000000; stroke-width:2; stroke-opacity:0.1; fill:none\" points=\"\n",
       "  1182.45,1263.94 1182.45,183.952 \n",
       "  \"/>\n",
       "<polyline clip-path=\"url(#clip212)\" style=\"stroke:#000000; stroke-width:2; stroke-opacity:0.1; fill:none\" points=\"\n",
       "  1383.68,1263.94 1383.68,183.952 \n",
       "  \"/>\n",
       "<polyline clip-path=\"url(#clip212)\" style=\"stroke:#000000; stroke-width:2; stroke-opacity:0.1; fill:none\" points=\"\n",
       "  1584.9,1263.94 1584.9,183.952 \n",
       "  \"/>\n",
       "<polyline clip-path=\"url(#clip212)\" style=\"stroke:#000000; stroke-width:2; stroke-opacity:0.1; fill:none\" points=\"\n",
       "  1786.13,1263.94 1786.13,183.952 \n",
       "  \"/>\n",
       "<polyline clip-path=\"url(#clip212)\" style=\"stroke:#000000; stroke-width:2; stroke-opacity:0.1; fill:none\" points=\"\n",
       "  1987.36,1263.94 1987.36,183.952 \n",
       "  \"/>\n",
       "<polyline clip-path=\"url(#clip212)\" style=\"stroke:#000000; stroke-width:2; stroke-opacity:0.1; fill:none\" points=\"\n",
       "  2188.59,1263.94 2188.59,183.952 \n",
       "  \"/>\n",
       "<polyline clip-path=\"url(#clip212)\" style=\"stroke:#000000; stroke-width:2; stroke-opacity:0.1; fill:none\" points=\"\n",
       "  256.486,1233.37 2352.76,1233.37 \n",
       "  \"/>\n",
       "<polyline clip-path=\"url(#clip212)\" style=\"stroke:#000000; stroke-width:2; stroke-opacity:0.1; fill:none\" points=\"\n",
       "  256.486,981.492 2352.76,981.492 \n",
       "  \"/>\n",
       "<polyline clip-path=\"url(#clip212)\" style=\"stroke:#000000; stroke-width:2; stroke-opacity:0.1; fill:none\" points=\"\n",
       "  256.486,729.612 2352.76,729.612 \n",
       "  \"/>\n",
       "<polyline clip-path=\"url(#clip212)\" style=\"stroke:#000000; stroke-width:2; stroke-opacity:0.1; fill:none\" points=\"\n",
       "  256.486,477.732 2352.76,477.732 \n",
       "  \"/>\n",
       "<polyline clip-path=\"url(#clip212)\" style=\"stroke:#000000; stroke-width:2; stroke-opacity:0.1; fill:none\" points=\"\n",
       "  256.486,225.852 2352.76,225.852 \n",
       "  \"/>\n",
       "<polyline clip-path=\"url(#clip210)\" style=\"stroke:#000000; stroke-width:4; stroke-opacity:1; fill:none\" points=\"\n",
       "  256.486,1263.94 2352.76,1263.94 \n",
       "  \"/>\n",
       "<polyline clip-path=\"url(#clip210)\" style=\"stroke:#000000; stroke-width:4; stroke-opacity:1; fill:none\" points=\"\n",
       "  256.486,1263.94 256.486,183.952 \n",
       "  \"/>\n",
       "<polyline clip-path=\"url(#clip210)\" style=\"stroke:#000000; stroke-width:4; stroke-opacity:1; fill:none\" points=\"\n",
       "  377.534,1263.94 377.534,1250.98 \n",
       "  \"/>\n",
       "<polyline clip-path=\"url(#clip210)\" style=\"stroke:#000000; stroke-width:4; stroke-opacity:1; fill:none\" points=\"\n",
       "  578.763,1263.94 578.763,1250.98 \n",
       "  \"/>\n",
       "<polyline clip-path=\"url(#clip210)\" style=\"stroke:#000000; stroke-width:4; stroke-opacity:1; fill:none\" points=\"\n",
       "  779.991,1263.94 779.991,1250.98 \n",
       "  \"/>\n",
       "<polyline clip-path=\"url(#clip210)\" style=\"stroke:#000000; stroke-width:4; stroke-opacity:1; fill:none\" points=\"\n",
       "  981.219,1263.94 981.219,1250.98 \n",
       "  \"/>\n",
       "<polyline clip-path=\"url(#clip210)\" style=\"stroke:#000000; stroke-width:4; stroke-opacity:1; fill:none\" points=\"\n",
       "  1182.45,1263.94 1182.45,1250.98 \n",
       "  \"/>\n",
       "<polyline clip-path=\"url(#clip210)\" style=\"stroke:#000000; stroke-width:4; stroke-opacity:1; fill:none\" points=\"\n",
       "  1383.68,1263.94 1383.68,1250.98 \n",
       "  \"/>\n",
       "<polyline clip-path=\"url(#clip210)\" style=\"stroke:#000000; stroke-width:4; stroke-opacity:1; fill:none\" points=\"\n",
       "  1584.9,1263.94 1584.9,1250.98 \n",
       "  \"/>\n",
       "<polyline clip-path=\"url(#clip210)\" style=\"stroke:#000000; stroke-width:4; stroke-opacity:1; fill:none\" points=\"\n",
       "  1786.13,1263.94 1786.13,1250.98 \n",
       "  \"/>\n",
       "<polyline clip-path=\"url(#clip210)\" style=\"stroke:#000000; stroke-width:4; stroke-opacity:1; fill:none\" points=\"\n",
       "  1987.36,1263.94 1987.36,1250.98 \n",
       "  \"/>\n",
       "<polyline clip-path=\"url(#clip210)\" style=\"stroke:#000000; stroke-width:4; stroke-opacity:1; fill:none\" points=\"\n",
       "  2188.59,1263.94 2188.59,1250.98 \n",
       "  \"/>\n",
       "<polyline clip-path=\"url(#clip210)\" style=\"stroke:#000000; stroke-width:4; stroke-opacity:1; fill:none\" points=\"\n",
       "  256.486,1233.37 281.642,1233.37 \n",
       "  \"/>\n",
       "<polyline clip-path=\"url(#clip210)\" style=\"stroke:#000000; stroke-width:4; stroke-opacity:1; fill:none\" points=\"\n",
       "  256.486,981.492 281.642,981.492 \n",
       "  \"/>\n",
       "<polyline clip-path=\"url(#clip210)\" style=\"stroke:#000000; stroke-width:4; stroke-opacity:1; fill:none\" points=\"\n",
       "  256.486,729.612 281.642,729.612 \n",
       "  \"/>\n",
       "<polyline clip-path=\"url(#clip210)\" style=\"stroke:#000000; stroke-width:4; stroke-opacity:1; fill:none\" points=\"\n",
       "  256.486,477.732 281.642,477.732 \n",
       "  \"/>\n",
       "<polyline clip-path=\"url(#clip210)\" style=\"stroke:#000000; stroke-width:4; stroke-opacity:1; fill:none\" points=\"\n",
       "  256.486,225.852 281.642,225.852 \n",
       "  \"/>\n",
       "<path clip-path=\"url(#clip210)\" d=\"M 0 0 M240.69 1465.87 L252.23 1454.33 L255.012 1457.11 L239.495 1472.63 L236.713 1469.84 Q236.647 1466.01 236.615 1459.5 Q236.582 1452.95 236.467 1451.17 Q236.271 1447.8 235.665 1445.95 Q235.06 1444.06 233.865 1442.87 Q231.917 1440.92 229.314 1441.07 Q226.728 1441.2 224.535 1443.39 Q222.98 1444.95 221.785 1447.22 Q220.607 1449.48 219.739 1452.54 L216.4 1449.2 Q217.595 1446.4 218.921 1444.26 Q220.247 1442.12 221.687 1440.68 Q225.484 1436.88 229.642 1436.52 Q233.799 1436.16 236.975 1439.33 Q238.481 1440.84 239.266 1442.77 Q240.052 1444.67 240.396 1447.99 Q240.461 1448.88 240.543 1453.34 Q240.608 1457.8 240.69 1465.87 Z\" fill=\"#000000\" fill-rule=\"evenodd\" fill-opacity=\"1\" /><path clip-path=\"url(#clip210)\" d=\"M 0 0 M243.407 1424.19 Q240.854 1426.75 242.082 1430.56 Q243.309 1434.34 248.351 1439.38 Q253.376 1444.41 257.173 1445.65 Q260.97 1446.86 263.524 1444.31 Q266.094 1441.74 264.866 1437.96 Q263.638 1434.14 258.613 1429.12 Q253.572 1424.08 249.775 1422.87 Q245.977 1421.62 243.407 1424.19 M240.789 1421.57 Q244.897 1417.47 250.315 1418.56 Q255.733 1419.63 261.92 1425.81 Q268.091 1431.98 269.171 1437.42 Q270.251 1442.82 266.143 1446.93 Q262.034 1451.04 256.616 1449.97 Q251.199 1448.88 245.028 1442.71 Q238.841 1436.52 237.76 1431.12 Q236.68 1425.68 240.789 1421.57 Z\" fill=\"#000000\" fill-rule=\"evenodd\" fill-opacity=\"1\" /><path clip-path=\"url(#clip210)\" d=\"M 0 0 M277.764 1428.79 L289.304 1417.25 L292.086 1420.04 L276.569 1435.55 L273.787 1432.77 Q273.721 1428.94 273.688 1422.43 Q273.656 1415.88 273.541 1414.09 Q273.345 1410.72 272.739 1408.87 Q272.133 1406.99 270.939 1405.8 Q268.991 1403.85 266.388 1403.99 Q263.802 1404.13 261.609 1406.32 Q260.054 1407.87 258.859 1410.15 Q257.68 1412.41 256.813 1415.47 L253.474 1412.13 Q254.669 1409.33 255.994 1407.19 Q257.32 1405.04 258.761 1403.6 Q262.558 1399.8 266.716 1399.44 Q270.873 1399.08 274.049 1402.26 Q275.554 1403.77 276.34 1405.7 Q277.126 1407.6 277.469 1410.92 Q277.535 1411.8 277.617 1416.27 Q277.682 1420.72 277.764 1428.79 Z\" fill=\"#000000\" fill-rule=\"evenodd\" fill-opacity=\"1\" /><path clip-path=\"url(#clip210)\" d=\"M 0 0 M280.481 1387.12 Q277.928 1389.67 279.155 1393.49 Q280.383 1397.27 285.424 1402.31 Q290.449 1407.33 294.247 1408.58 Q298.044 1409.79 300.598 1407.24 Q303.167 1404.67 301.94 1400.88 Q300.712 1397.07 295.687 1392.05 Q290.646 1387 286.848 1385.79 Q283.051 1384.55 280.481 1387.12 M277.862 1384.5 Q281.971 1380.39 287.389 1381.49 Q292.806 1382.55 298.994 1388.74 Q305.164 1394.91 306.245 1400.34 Q307.325 1405.75 303.217 1409.85 Q299.108 1413.96 293.69 1412.9 Q288.272 1411.8 282.102 1405.63 Q275.915 1399.44 274.834 1394.04 Q273.754 1388.61 277.862 1384.5 Z\" fill=\"#000000\" fill-rule=\"evenodd\" fill-opacity=\"1\" /><path clip-path=\"url(#clip210)\" d=\"M 0 0 M302.3 1388.77 L311.122 1379.95 L313.807 1382.63 L304.984 1391.46 L302.3 1388.77 Z\" fill=\"#000000\" fill-rule=\"evenodd\" fill-opacity=\"1\" /><path clip-path=\"url(#clip210)\" d=\"M 0 0 M310.042 1357.56 Q307.489 1360.11 308.716 1363.93 Q309.944 1367.71 314.985 1372.75 Q320.01 1377.77 323.808 1379.02 Q327.605 1380.23 330.158 1377.67 Q332.728 1375.1 331.501 1371.32 Q330.273 1367.51 325.248 1362.48 Q320.207 1357.44 316.409 1356.23 Q312.612 1354.99 310.042 1357.56 M307.423 1354.94 Q311.532 1350.83 316.949 1351.93 Q322.367 1352.99 328.554 1359.18 Q334.725 1365.35 335.805 1370.78 Q336.886 1376.19 332.777 1380.29 Q328.669 1384.4 323.251 1383.34 Q317.833 1382.24 311.662 1376.07 Q305.475 1369.88 304.395 1364.48 Q303.315 1359.05 307.423 1354.94 Z\" fill=\"#000000\" fill-rule=\"evenodd\" fill-opacity=\"1\" /><path clip-path=\"url(#clip210)\" d=\"M 0 0 M342.124 1364.43 L347.525 1359.03 L328.882 1340.39 L324.184 1347.44 L321.172 1344.43 L325.837 1337.41 L329.144 1334.1 L350.799 1355.76 L356.2 1350.36 L358.983 1353.14 L344.906 1367.22 L342.124 1364.43 Z\" fill=\"#000000\" fill-rule=\"evenodd\" fill-opacity=\"1\" /><path clip-path=\"url(#clip210)\" d=\"M 0 0 M350.095 1340.98 L358.917 1332.15 L361.602 1334.84 L352.779 1343.66 L350.095 1340.98 Z\" fill=\"#000000\" fill-rule=\"evenodd\" fill-opacity=\"1\" /><path clip-path=\"url(#clip210)\" d=\"M 0 0 M373.092 1333.46 L384.632 1321.92 L387.414 1324.71 L371.897 1340.22 L369.115 1337.44 Q369.049 1333.61 369.016 1327.1 Q368.984 1320.55 368.869 1318.77 Q368.673 1315.39 368.067 1313.54 Q367.461 1311.66 366.267 1310.47 Q364.319 1308.52 361.716 1308.67 Q359.13 1308.8 356.937 1310.99 Q355.382 1312.55 354.187 1314.82 Q353.008 1317.08 352.141 1320.14 L348.802 1316.8 Q349.997 1314 351.322 1311.86 Q352.648 1309.71 354.089 1308.27 Q357.886 1304.48 362.044 1304.12 Q366.201 1303.76 369.376 1306.93 Q370.882 1308.44 371.668 1310.37 Q372.454 1312.27 372.797 1315.59 Q372.863 1316.47 372.945 1320.94 Q373.01 1325.39 373.092 1333.46 Z\" fill=\"#000000\" fill-rule=\"evenodd\" fill-opacity=\"1\" /><path clip-path=\"url(#clip210)\" d=\"M 0 0 M378.526 1290.48 L383.224 1311.87 L391.572 1303.53 L378.526 1290.48 M374.778 1288.47 L378.935 1284.31 L394.862 1300.24 L398.348 1296.75 L401.098 1299.5 L397.612 1302.99 L403.373 1308.75 L400.083 1312.04 L394.322 1306.28 L383.289 1317.31 L380.098 1314.12 L374.778 1288.47 Z\" fill=\"#000000\" fill-rule=\"evenodd\" fill-opacity=\"1\" /><path clip-path=\"url(#clip210)\" d=\"M 0 0 M442.033 1465.75 L453.573 1454.21 L456.355 1456.99 L440.838 1472.51 L438.056 1469.73 Q437.99 1465.9 437.957 1459.38 Q437.925 1452.84 437.81 1451.05 Q437.614 1447.68 437.008 1445.83 Q436.402 1443.95 435.208 1442.75 Q433.26 1440.81 430.657 1440.95 Q428.071 1441.08 425.878 1443.28 Q424.323 1444.83 423.128 1447.11 Q421.949 1449.37 421.082 1452.43 L417.743 1449.09 Q418.938 1446.29 420.263 1444.15 Q421.589 1442 423.03 1440.56 Q426.827 1436.76 430.985 1436.4 Q435.142 1436.04 438.317 1439.22 Q439.823 1440.72 440.609 1442.66 Q441.395 1444.55 441.738 1447.88 Q441.804 1448.76 441.886 1453.23 Q441.951 1457.68 442.033 1465.75 Z\" fill=\"#000000\" fill-rule=\"evenodd\" fill-opacity=\"1\" /><path clip-path=\"url(#clip210)\" d=\"M 0 0 M444.75 1424.08 Q442.197 1426.63 443.424 1430.45 Q444.652 1434.23 449.693 1439.27 Q454.718 1444.29 458.516 1445.54 Q462.313 1446.75 464.867 1444.19 Q467.436 1441.62 466.209 1437.84 Q464.981 1434.03 459.956 1429.01 Q454.915 1423.96 451.117 1422.75 Q447.32 1421.51 444.75 1424.08 M442.131 1421.46 Q446.24 1417.35 451.657 1418.45 Q457.075 1419.51 463.262 1425.7 Q469.433 1431.87 470.514 1437.3 Q471.594 1442.71 467.485 1446.81 Q463.377 1450.92 457.959 1449.86 Q452.541 1448.76 446.371 1442.59 Q440.183 1436.4 439.103 1431 Q438.023 1425.57 442.131 1421.46 Z\" fill=\"#000000\" fill-rule=\"evenodd\" fill-opacity=\"1\" /><path clip-path=\"url(#clip210)\" d=\"M 0 0 M479.107 1428.68 L490.646 1417.14 L493.429 1419.92 L477.912 1435.44 L475.129 1432.66 Q475.064 1428.82 475.031 1422.31 Q474.998 1415.76 474.884 1413.98 Q474.687 1410.61 474.082 1408.76 Q473.476 1406.88 472.281 1405.68 Q470.334 1403.73 467.731 1403.88 Q465.145 1404.01 462.951 1406.2 Q461.397 1407.76 460.202 1410.03 Q459.023 1412.29 458.156 1415.35 L454.817 1412.01 Q456.011 1409.22 457.337 1407.07 Q458.663 1404.93 460.103 1403.49 Q463.901 1399.69 468.058 1399.33 Q472.216 1398.97 475.391 1402.14 Q476.897 1403.65 477.683 1405.58 Q478.468 1407.48 478.812 1410.8 Q478.878 1411.69 478.96 1416.16 Q479.025 1420.61 479.107 1428.68 Z\" fill=\"#000000\" fill-rule=\"evenodd\" fill-opacity=\"1\" /><path clip-path=\"url(#clip210)\" d=\"M 0 0 M481.824 1387 Q479.271 1389.56 480.498 1393.37 Q481.726 1397.15 486.767 1402.19 Q491.792 1407.22 495.59 1408.46 Q499.387 1409.67 501.94 1407.12 Q504.51 1404.55 503.283 1400.77 Q502.055 1396.96 497.03 1391.93 Q491.989 1386.89 488.191 1385.68 Q484.394 1384.43 481.824 1387 M479.205 1384.39 Q483.313 1380.28 488.731 1381.37 Q494.149 1382.44 500.336 1388.62 Q506.507 1394.8 507.587 1400.23 Q508.668 1405.63 504.559 1409.74 Q500.451 1413.85 495.033 1412.78 Q489.615 1411.69 483.444 1405.52 Q477.257 1399.33 476.177 1393.93 Q475.097 1388.49 479.205 1384.39 Z\" fill=\"#000000\" fill-rule=\"evenodd\" fill-opacity=\"1\" /><path clip-path=\"url(#clip210)\" d=\"M 0 0 M503.643 1388.66 L512.465 1379.84 L515.149 1382.52 L506.327 1391.34 L503.643 1388.66 Z\" fill=\"#000000\" fill-rule=\"evenodd\" fill-opacity=\"1\" /><path clip-path=\"url(#clip210)\" d=\"M 0 0 M511.385 1357.44 Q508.831 1360 510.059 1363.81 Q511.287 1367.59 516.328 1372.63 Q521.353 1377.66 525.15 1378.9 Q528.948 1380.11 531.501 1377.56 Q534.071 1374.99 532.843 1371.21 Q531.616 1367.4 526.591 1362.37 Q521.549 1357.33 517.752 1356.12 Q513.955 1354.87 511.385 1357.44 M508.766 1354.82 Q512.874 1350.72 518.292 1351.81 Q523.71 1352.88 529.897 1359.06 Q536.068 1365.23 537.148 1370.67 Q538.228 1376.07 534.12 1380.18 Q530.012 1384.29 524.594 1383.22 Q519.176 1382.13 513.005 1375.96 Q506.818 1369.77 505.738 1364.37 Q504.657 1358.93 508.766 1354.82 Z\" fill=\"#000000\" fill-rule=\"evenodd\" fill-opacity=\"1\" /><path clip-path=\"url(#clip210)\" d=\"M 0 0 M545.741 1362.04 L557.281 1350.5 L560.064 1353.29 L544.547 1368.8 L541.764 1366.02 Q541.699 1362.19 541.666 1355.68 Q541.633 1349.13 541.518 1347.34 Q541.322 1343.97 540.716 1342.12 Q540.111 1340.24 538.916 1339.05 Q536.968 1337.1 534.366 1337.25 Q531.779 1337.38 529.586 1339.57 Q528.031 1341.12 526.836 1343.4 Q525.658 1345.66 524.79 1348.72 L521.451 1345.38 Q522.646 1342.58 523.972 1340.44 Q525.298 1338.29 526.738 1336.85 Q530.535 1333.06 534.693 1332.69 Q538.85 1332.33 542.026 1335.51 Q543.532 1337.02 544.317 1338.95 Q545.103 1340.85 545.447 1344.17 Q545.512 1345.05 545.594 1349.52 Q545.66 1353.97 545.741 1362.04 Z\" fill=\"#000000\" fill-rule=\"evenodd\" fill-opacity=\"1\" /><path clip-path=\"url(#clip210)\" d=\"M 0 0 M551.176 1341.12 L559.998 1332.3 L562.682 1334.99 L553.86 1343.81 L551.176 1341.12 Z\" fill=\"#000000\" fill-rule=\"evenodd\" fill-opacity=\"1\" /><path clip-path=\"url(#clip210)\" d=\"M 0 0 M558.918 1309.91 Q556.364 1312.46 557.592 1316.28 Q558.82 1320.06 563.861 1325.1 Q568.886 1330.13 572.683 1331.37 Q576.481 1332.58 579.034 1330.03 Q581.604 1327.46 580.376 1323.68 Q579.149 1319.86 574.124 1314.84 Q569.082 1309.8 565.285 1308.58 Q561.488 1307.34 558.918 1309.91 M556.299 1307.29 Q560.407 1303.18 565.825 1304.28 Q571.243 1305.34 577.43 1311.53 Q583.601 1317.7 584.681 1323.14 Q585.762 1328.54 581.653 1332.65 Q577.545 1336.75 572.127 1335.69 Q566.709 1334.59 560.538 1328.42 Q554.351 1322.24 553.271 1316.83 Q552.19 1311.4 556.299 1307.29 Z\" fill=\"#000000\" fill-rule=\"evenodd\" fill-opacity=\"1\" /><path clip-path=\"url(#clip210)\" d=\"M 0 0 M567.937 1296.54 L583.65 1280.82 L585.058 1282.23 L599.216 1314.13 L595.762 1317.59 L582.455 1287.58 L570.719 1299.32 L567.937 1296.54 Z\" fill=\"#000000\" fill-rule=\"evenodd\" fill-opacity=\"1\" /><path clip-path=\"url(#clip210)\" d=\"M 0 0 M644.62 1464.39 L656.159 1452.85 L658.942 1455.64 L643.425 1471.15 L640.642 1468.37 Q640.577 1464.54 640.544 1458.03 Q640.511 1451.48 640.397 1449.69 Q640.2 1446.32 639.595 1444.47 Q638.989 1442.59 637.794 1441.4 Q635.846 1439.45 633.244 1439.6 Q630.658 1439.73 628.464 1441.92 Q626.909 1443.47 625.715 1445.75 Q624.536 1448.01 623.669 1451.07 L620.329 1447.73 Q621.524 1444.93 622.85 1442.79 Q624.176 1440.64 625.616 1439.2 Q629.414 1435.4 633.571 1435.04 Q637.729 1434.68 640.904 1437.86 Q642.41 1439.37 643.196 1441.3 Q643.981 1443.2 644.325 1446.52 Q644.391 1447.4 644.472 1451.87 Q644.538 1456.32 644.62 1464.39 Z\" fill=\"#000000\" fill-rule=\"evenodd\" fill-opacity=\"1\" /><path clip-path=\"url(#clip210)\" d=\"M 0 0 M647.337 1422.72 Q644.783 1425.27 646.011 1429.09 Q647.239 1432.87 652.28 1437.91 Q657.305 1442.93 661.102 1444.18 Q664.9 1445.39 667.453 1442.84 Q670.023 1440.27 668.795 1436.49 Q667.568 1432.67 662.543 1427.65 Q657.501 1422.61 653.704 1421.39 Q649.907 1420.15 647.337 1422.72 M644.718 1420.1 Q648.826 1415.99 654.244 1417.09 Q659.662 1418.15 665.849 1424.34 Q672.02 1430.51 673.1 1435.95 Q674.181 1441.35 670.072 1445.45 Q665.964 1449.56 660.546 1448.5 Q655.128 1447.4 648.957 1441.23 Q642.77 1435.04 641.69 1429.64 Q640.61 1424.21 644.718 1420.1 Z\" fill=\"#000000\" fill-rule=\"evenodd\" fill-opacity=\"1\" /><path clip-path=\"url(#clip210)\" d=\"M 0 0 M681.694 1427.32 L693.233 1415.78 L696.016 1418.56 L680.499 1434.08 L677.716 1431.3 Q677.651 1427.47 677.618 1420.95 Q677.585 1414.4 677.471 1412.62 Q677.274 1409.25 676.669 1407.4 Q676.063 1405.52 674.868 1404.32 Q672.92 1402.37 670.318 1402.52 Q667.732 1402.65 665.538 1404.85 Q663.983 1406.4 662.788 1408.68 Q661.61 1410.93 660.742 1414 L657.403 1410.66 Q658.598 1407.86 659.924 1405.71 Q661.25 1403.57 662.69 1402.13 Q666.488 1398.33 670.645 1397.97 Q674.803 1397.61 677.978 1400.79 Q679.484 1402.29 680.269 1404.22 Q681.055 1406.12 681.399 1409.45 Q681.464 1410.33 681.546 1414.8 Q681.612 1419.25 681.694 1427.32 Z\" fill=\"#000000\" fill-rule=\"evenodd\" fill-opacity=\"1\" /><path clip-path=\"url(#clip210)\" d=\"M 0 0 M684.411 1385.65 Q681.857 1388.2 683.085 1392.01 Q684.312 1395.79 689.354 1400.84 Q694.379 1405.86 698.176 1407.1 Q701.974 1408.32 704.527 1405.76 Q707.097 1403.19 705.869 1399.41 Q704.642 1395.6 699.617 1390.57 Q694.575 1385.53 690.778 1384.32 Q686.98 1383.08 684.411 1385.65 M681.792 1383.03 Q685.9 1378.92 691.318 1380.02 Q696.736 1381.08 702.923 1387.27 Q709.094 1393.44 710.174 1398.87 Q711.254 1404.27 707.146 1408.38 Q703.038 1412.49 697.62 1411.43 Q692.202 1410.33 686.031 1404.16 Q679.844 1397.97 678.764 1392.57 Q677.683 1387.14 681.792 1383.03 Z\" fill=\"#000000\" fill-rule=\"evenodd\" fill-opacity=\"1\" /><path clip-path=\"url(#clip210)\" d=\"M 0 0 M706.229 1387.3 L715.052 1378.48 L717.736 1381.16 L708.914 1389.98 L706.229 1387.3 Z\" fill=\"#000000\" fill-rule=\"evenodd\" fill-opacity=\"1\" /><path clip-path=\"url(#clip210)\" d=\"M 0 0 M713.971 1356.09 Q711.418 1358.64 712.646 1362.45 Q713.873 1366.23 718.915 1371.27 Q723.94 1376.3 727.737 1377.54 Q731.534 1378.75 734.088 1376.2 Q736.658 1373.63 735.43 1369.85 Q734.202 1366.04 729.177 1361.01 Q724.136 1355.97 720.339 1354.76 Q716.541 1353.52 713.971 1356.09 M711.353 1353.47 Q715.461 1349.36 720.879 1350.45 Q726.297 1351.52 732.484 1357.71 Q738.655 1363.88 739.735 1369.31 Q740.815 1374.71 736.707 1378.82 Q732.598 1382.93 727.181 1381.86 Q721.763 1380.77 715.592 1374.6 Q709.405 1368.41 708.324 1363.01 Q707.244 1357.57 711.353 1353.47 Z\" fill=\"#000000\" fill-rule=\"evenodd\" fill-opacity=\"1\" /><path clip-path=\"url(#clip210)\" d=\"M 0 0 M748.328 1360.68 L759.868 1349.14 L762.65 1351.93 L747.133 1367.44 L744.351 1364.66 Q744.285 1360.83 744.252 1354.32 Q744.22 1347.77 744.105 1345.99 Q743.909 1342.61 743.303 1340.76 Q742.698 1338.88 741.503 1337.69 Q739.555 1335.74 736.952 1335.89 Q734.366 1336.02 732.173 1338.21 Q730.618 1339.77 729.423 1342.04 Q728.244 1344.3 727.377 1347.36 L724.038 1344.02 Q725.233 1341.22 726.559 1339.08 Q727.884 1336.93 729.325 1335.49 Q733.122 1331.7 737.28 1331.34 Q741.437 1330.98 744.613 1334.15 Q746.118 1335.66 746.904 1337.59 Q747.69 1339.49 748.034 1342.81 Q748.099 1343.69 748.181 1348.16 Q748.246 1352.61 748.328 1360.68 Z\" fill=\"#000000\" fill-rule=\"evenodd\" fill-opacity=\"1\" /><path clip-path=\"url(#clip210)\" d=\"M 0 0 M753.762 1339.77 L762.585 1330.94 L765.269 1333.63 L756.447 1342.45 L753.762 1339.77 Z\" fill=\"#000000\" fill-rule=\"evenodd\" fill-opacity=\"1\" /><path clip-path=\"url(#clip210)\" d=\"M 0 0 M776.76 1332.25 L788.299 1320.71 L791.082 1323.5 L775.565 1339.01 L772.782 1336.23 Q772.717 1332.4 772.684 1325.89 Q772.651 1319.34 772.537 1317.55 Q772.34 1314.18 771.735 1312.33 Q771.129 1310.45 769.934 1309.26 Q767.986 1307.31 765.384 1307.46 Q762.798 1307.59 760.604 1309.78 Q759.049 1311.33 757.854 1313.61 Q756.676 1315.87 755.808 1318.93 L752.469 1315.59 Q753.664 1312.79 754.99 1310.65 Q756.316 1308.5 757.756 1307.06 Q761.554 1303.27 765.711 1302.9 Q769.869 1302.54 773.044 1305.72 Q774.55 1307.23 775.336 1309.16 Q776.121 1311.06 776.465 1314.38 Q776.53 1315.26 776.612 1319.73 Q776.678 1324.18 776.76 1332.25 Z\" fill=\"#000000\" fill-rule=\"evenodd\" fill-opacity=\"1\" /><path clip-path=\"url(#clip210)\" d=\"M 0 0 M792.457 1316.56 L797.858 1311.15 L779.215 1292.51 L774.517 1299.57 L771.505 1296.55 L776.17 1289.53 L779.477 1286.23 L801.132 1307.88 L806.533 1302.48 L809.316 1305.26 L795.239 1319.34 L792.457 1316.56 Z\" fill=\"#000000\" fill-rule=\"evenodd\" fill-opacity=\"1\" /><path clip-path=\"url(#clip210)\" d=\"M 0 0 M843.065 1467.18 L854.605 1455.64 L857.387 1458.42 L841.87 1473.94 L839.088 1471.15 Q839.022 1467.32 838.99 1460.81 Q838.957 1454.26 838.842 1452.48 Q838.646 1449.11 838.04 1447.26 Q837.435 1445.37 836.24 1444.18 Q834.292 1442.23 831.689 1442.38 Q829.103 1442.51 826.91 1444.7 Q825.355 1446.26 824.16 1448.53 Q822.982 1450.79 822.114 1453.85 L818.775 1450.51 Q819.97 1447.71 821.296 1445.57 Q822.621 1443.43 824.062 1441.98 Q827.859 1438.19 832.017 1437.83 Q836.174 1437.47 839.35 1440.64 Q840.856 1442.15 841.641 1444.08 Q842.427 1445.98 842.771 1449.3 Q842.836 1450.19 842.918 1454.65 Q842.983 1459.11 843.065 1467.18 Z\" fill=\"#000000\" fill-rule=\"evenodd\" fill-opacity=\"1\" /><path clip-path=\"url(#clip210)\" d=\"M 0 0 M845.782 1425.5 Q843.229 1428.06 844.457 1431.87 Q845.684 1435.65 850.726 1440.69 Q855.751 1445.72 859.548 1446.96 Q863.345 1448.17 865.899 1445.62 Q868.469 1443.05 867.241 1439.27 Q866.013 1435.45 860.988 1430.43 Q855.947 1425.39 852.15 1424.18 Q848.352 1422.93 845.782 1425.5 M843.163 1422.88 Q847.272 1418.77 852.69 1419.87 Q858.108 1420.94 864.295 1427.12 Q870.466 1433.29 871.546 1438.73 Q872.626 1444.13 868.518 1448.24 Q864.409 1452.35 858.991 1451.28 Q853.574 1450.19 847.403 1444.01 Q841.216 1437.83 840.135 1432.43 Q839.055 1426.99 843.163 1422.88 Z\" fill=\"#000000\" fill-rule=\"evenodd\" fill-opacity=\"1\" /><path clip-path=\"url(#clip210)\" d=\"M 0 0 M880.139 1430.1 L891.679 1418.56 L894.461 1421.34 L878.944 1436.86 L876.162 1434.08 Q876.096 1430.25 876.063 1423.73 Q876.031 1417.19 875.916 1415.4 Q875.72 1412.03 875.114 1410.18 Q874.508 1408.3 873.314 1407.1 Q871.366 1405.16 868.763 1405.3 Q866.177 1405.43 863.984 1407.63 Q862.429 1409.18 861.234 1411.46 Q860.055 1413.72 859.188 1416.78 L855.849 1413.44 Q857.044 1410.64 858.369 1408.5 Q859.695 1406.35 861.136 1404.91 Q864.933 1401.11 869.091 1400.75 Q873.248 1400.39 876.424 1403.57 Q877.929 1405.07 878.715 1407.01 Q879.501 1408.9 879.844 1412.23 Q879.91 1413.11 879.992 1417.58 Q880.057 1422.03 880.139 1430.1 Z\" fill=\"#000000\" fill-rule=\"evenodd\" fill-opacity=\"1\" /><path clip-path=\"url(#clip210)\" d=\"M 0 0 M882.856 1388.43 Q880.303 1390.98 881.53 1394.8 Q882.758 1398.58 887.799 1403.62 Q892.824 1408.64 896.622 1409.89 Q900.419 1411.1 902.973 1408.54 Q905.542 1405.98 904.315 1402.19 Q903.087 1398.38 898.062 1393.36 Q893.021 1388.31 889.223 1387.1 Q885.426 1385.86 882.856 1388.43 M880.237 1385.81 Q884.346 1381.7 889.764 1382.8 Q895.181 1383.86 901.369 1390.05 Q907.539 1396.22 908.62 1401.65 Q909.7 1407.06 905.592 1411.16 Q901.483 1415.27 896.065 1414.21 Q890.647 1413.11 884.477 1406.94 Q878.289 1400.75 877.209 1395.35 Q876.129 1389.92 880.237 1385.81 Z\" fill=\"#000000\" fill-rule=\"evenodd\" fill-opacity=\"1\" /><path clip-path=\"url(#clip210)\" d=\"M 0 0 M904.675 1390.08 L913.497 1381.26 L916.182 1383.94 L907.359 1392.77 L904.675 1390.08 Z\" fill=\"#000000\" fill-rule=\"evenodd\" fill-opacity=\"1\" /><path clip-path=\"url(#clip210)\" d=\"M 0 0 M912.417 1358.87 Q909.864 1361.42 911.091 1365.23 Q912.319 1369.02 917.36 1374.06 Q922.385 1379.08 926.183 1380.33 Q929.98 1381.54 932.533 1378.98 Q935.103 1376.41 933.876 1372.63 Q932.648 1368.82 927.623 1363.79 Q922.582 1358.75 918.784 1357.54 Q914.987 1356.3 912.417 1358.87 M909.798 1356.25 Q913.907 1352.14 919.324 1353.24 Q924.742 1354.3 930.929 1360.49 Q937.1 1366.66 938.18 1372.09 Q939.261 1377.49 935.152 1381.6 Q931.044 1385.71 925.626 1384.65 Q920.208 1383.55 914.037 1377.38 Q907.85 1371.19 906.77 1365.79 Q905.69 1360.36 909.798 1356.25 Z\" fill=\"#000000\" fill-rule=\"evenodd\" fill-opacity=\"1\" /><path clip-path=\"url(#clip210)\" d=\"M 0 0 M943.549 1345.9 Q946.43 1344.04 949.36 1344.32 Q952.306 1344.58 954.663 1346.94 Q958.281 1350.55 957.773 1355.02 Q957.266 1359.49 952.683 1364.07 Q951.144 1365.61 949.196 1366.94 Q947.281 1368.26 944.94 1369.39 L941.749 1366.2 Q943.926 1365.63 945.972 1364.4 Q948.018 1363.17 949.802 1361.39 Q952.912 1358.28 953.305 1355.43 Q953.714 1352.57 951.373 1350.23 Q949.213 1348.06 946.479 1348.38 Q943.746 1348.65 941.045 1351.35 L938.197 1354.2 L935.48 1351.49 L938.459 1348.51 Q940.898 1346.07 941.225 1343.81 Q941.536 1341.53 939.703 1339.7 Q937.82 1337.82 935.48 1338.16 Q933.139 1338.47 930.651 1340.96 Q929.293 1342.32 928.032 1344.17 Q926.772 1346.02 925.528 1348.51 L922.582 1345.56 Q923.94 1343.15 925.315 1341.26 Q926.706 1339.34 928.163 1337.88 Q931.928 1334.12 935.84 1333.64 Q939.735 1333.15 942.649 1336.07 Q944.679 1338.1 944.924 1340.67 Q945.153 1343.22 943.549 1345.9 Z\" fill=\"#000000\" fill-rule=\"evenodd\" fill-opacity=\"1\" /><path clip-path=\"url(#clip210)\" d=\"M 0 0 M952.879 1341.88 L961.701 1333.06 L964.386 1335.74 L955.563 1344.56 L952.879 1341.88 Z\" fill=\"#000000\" fill-rule=\"evenodd\" fill-opacity=\"1\" /><path clip-path=\"url(#clip210)\" d=\"M 0 0 M960.621 1310.66 Q958.068 1313.22 959.295 1317.03 Q960.523 1320.81 965.564 1325.85 Q970.589 1330.88 974.387 1332.12 Q978.184 1333.33 980.738 1330.78 Q983.307 1328.21 982.08 1324.43 Q980.852 1320.62 975.827 1315.59 Q970.786 1310.55 966.988 1309.34 Q963.191 1308.09 960.621 1310.66 M958.002 1308.04 Q962.111 1303.94 967.528 1305.03 Q972.946 1306.1 979.133 1312.28 Q985.304 1318.45 986.385 1323.89 Q987.465 1329.29 983.356 1333.4 Q979.248 1337.51 973.83 1336.44 Q968.412 1335.35 962.242 1329.18 Q956.054 1322.99 954.974 1317.59 Q953.894 1312.15 958.002 1308.04 Z\" fill=\"#000000\" fill-rule=\"evenodd\" fill-opacity=\"1\" /><path clip-path=\"url(#clip210)\" d=\"M 0 0 M988.856 1299.88 Q986.63 1302.1 986.843 1304.93 Q987.072 1307.75 989.724 1310.4 Q992.359 1313.04 995.191 1313.28 Q998.022 1313.5 1000.25 1311.27 Q1002.47 1309.04 1002.25 1306.23 Q1002.02 1303.38 999.381 1300.74 Q996.729 1298.09 993.898 1297.88 Q991.082 1297.65 988.856 1299.88 M985.059 1282.95 L988.07 1285.96 Q986.237 1286.62 984.65 1287.58 Q983.078 1288.53 981.834 1289.78 Q978.561 1293.05 979.035 1297 Q979.526 1300.92 983.749 1305.64 Q983.291 1303.25 983.995 1301.04 Q984.682 1298.81 986.434 1297.06 Q990.117 1293.38 994.487 1293.49 Q998.857 1293.58 1002.7 1297.42 Q1006.47 1301.19 1006.52 1305.69 Q1006.57 1310.19 1002.87 1313.89 Q998.628 1318.13 993.145 1317.13 Q987.645 1316.11 981.474 1309.94 Q975.68 1304.15 974.992 1297.96 Q974.289 1291.76 978.921 1287.13 Q980.165 1285.88 981.671 1284.87 Q983.193 1283.84 985.059 1282.95 Z\" fill=\"#000000\" fill-rule=\"evenodd\" fill-opacity=\"1\" /><path clip-path=\"url(#clip210)\" d=\"M 0 0 M1045.54 1465.93 L1057.08 1454.39 L1059.86 1457.17 L1044.34 1472.69 L1041.56 1469.91 Q1041.49 1466.08 1041.46 1459.56 Q1041.43 1453.02 1041.31 1451.23 Q1041.12 1447.86 1040.51 1446.01 Q1039.91 1444.13 1038.71 1442.93 Q1036.76 1440.99 1034.16 1441.13 Q1031.58 1441.26 1029.38 1443.46 Q1027.83 1445.01 1026.63 1447.29 Q1025.45 1449.55 1024.59 1452.61 L1021.25 1449.27 Q1022.44 1446.47 1023.77 1444.33 Q1025.09 1442.18 1026.53 1440.74 Q1030.33 1436.94 1034.49 1436.58 Q1038.65 1436.22 1041.82 1439.4 Q1043.33 1440.9 1044.11 1442.84 Q1044.9 1444.73 1045.24 1448.06 Q1045.31 1448.94 1045.39 1453.41 Q1045.46 1457.86 1045.54 1465.93 Z\" fill=\"#000000\" fill-rule=\"evenodd\" fill-opacity=\"1\" /><path clip-path=\"url(#clip210)\" d=\"M 0 0 M1048.25 1424.26 Q1045.7 1426.81 1046.93 1430.63 Q1048.16 1434.41 1053.2 1439.45 Q1058.22 1444.47 1062.02 1445.72 Q1065.82 1446.93 1068.37 1444.37 Q1070.94 1441.8 1069.71 1438.02 Q1068.49 1434.21 1063.46 1429.19 Q1058.42 1424.14 1054.62 1422.93 Q1050.82 1421.69 1048.25 1424.26 M1045.64 1421.64 Q1049.74 1417.53 1055.16 1418.63 Q1060.58 1419.69 1066.77 1425.88 Q1072.94 1432.05 1074.02 1437.48 Q1075.1 1442.89 1070.99 1446.99 Q1066.88 1451.1 1061.46 1450.04 Q1056.05 1448.94 1049.87 1442.77 Q1043.69 1436.58 1042.61 1431.18 Q1041.53 1425.75 1045.64 1421.64 Z\" fill=\"#000000\" fill-rule=\"evenodd\" fill-opacity=\"1\" /><path clip-path=\"url(#clip210)\" d=\"M 0 0 M1082.61 1428.86 L1094.15 1417.32 L1096.93 1420.1 L1081.42 1435.62 L1078.63 1432.84 Q1078.57 1429.01 1078.54 1422.49 Q1078.5 1415.94 1078.39 1414.16 Q1078.19 1410.79 1077.59 1408.94 Q1076.98 1407.06 1075.79 1405.86 Q1073.84 1403.91 1071.24 1404.06 Q1068.65 1404.19 1066.46 1406.38 Q1064.9 1407.94 1063.71 1410.21 Q1062.53 1412.47 1061.66 1415.53 L1058.32 1412.19 Q1059.52 1409.4 1060.84 1407.25 Q1062.17 1405.11 1063.61 1403.67 Q1067.41 1399.87 1071.56 1399.51 Q1075.72 1399.15 1078.9 1402.32 Q1080.4 1403.83 1081.19 1405.76 Q1081.97 1407.66 1082.32 1410.98 Q1082.38 1411.87 1082.46 1416.34 Q1082.53 1420.79 1082.61 1428.86 Z\" fill=\"#000000\" fill-rule=\"evenodd\" fill-opacity=\"1\" /><path clip-path=\"url(#clip210)\" d=\"M 0 0 M1085.33 1387.18 Q1082.77 1389.74 1084 1393.55 Q1085.23 1397.33 1090.27 1402.37 Q1095.3 1407.4 1099.09 1408.64 Q1102.89 1409.85 1105.44 1407.3 Q1108.01 1404.73 1106.79 1400.95 Q1105.56 1397.14 1100.53 1392.11 Q1095.49 1387.07 1091.7 1385.86 Q1087.9 1384.61 1085.33 1387.18 M1082.71 1384.57 Q1086.82 1380.46 1092.24 1381.55 Q1097.65 1382.62 1103.84 1388.8 Q1110.01 1394.98 1111.09 1400.41 Q1112.17 1405.81 1108.06 1409.92 Q1103.96 1414.03 1098.54 1412.96 Q1093.12 1411.87 1086.95 1405.7 Q1080.76 1399.51 1079.68 1394.11 Q1078.6 1388.67 1082.71 1384.57 Z\" fill=\"#000000\" fill-rule=\"evenodd\" fill-opacity=\"1\" /><path clip-path=\"url(#clip210)\" d=\"M 0 0 M1107.15 1388.84 L1115.97 1380.02 L1118.65 1382.7 L1109.83 1391.52 L1107.15 1388.84 Z\" fill=\"#000000\" fill-rule=\"evenodd\" fill-opacity=\"1\" /><path clip-path=\"url(#clip210)\" d=\"M 0 0 M1114.89 1357.62 Q1112.34 1360.18 1113.56 1363.99 Q1114.79 1367.77 1119.83 1372.81 Q1124.86 1377.84 1128.65 1379.08 Q1132.45 1380.29 1135.01 1377.74 Q1137.58 1375.17 1136.35 1371.39 Q1135.12 1367.58 1130.1 1362.55 Q1125.05 1357.51 1121.26 1356.3 Q1117.46 1355.05 1114.89 1357.62 M1112.27 1355 Q1116.38 1350.9 1121.8 1351.99 Q1127.21 1353.06 1133.4 1359.24 Q1139.57 1365.41 1140.65 1370.85 Q1141.73 1376.25 1137.62 1380.36 Q1133.52 1384.47 1128.1 1383.4 Q1122.68 1382.31 1116.51 1376.14 Q1110.32 1369.95 1109.24 1364.55 Q1108.16 1359.11 1112.27 1355 Z\" fill=\"#000000\" fill-rule=\"evenodd\" fill-opacity=\"1\" /><path clip-path=\"url(#clip210)\" d=\"M 0 0 M1146.02 1344.66 Q1148.9 1342.79 1151.83 1343.07 Q1154.78 1343.33 1157.14 1345.69 Q1160.75 1349.31 1160.25 1353.78 Q1159.74 1358.25 1155.15 1362.83 Q1153.62 1364.37 1151.67 1365.69 Q1149.75 1367.02 1147.41 1368.15 L1144.22 1364.96 Q1146.4 1364.38 1148.44 1363.16 Q1150.49 1361.93 1152.27 1360.14 Q1155.38 1357.03 1155.78 1354.19 Q1156.19 1351.32 1153.85 1348.98 Q1151.68 1346.82 1148.95 1347.13 Q1146.22 1347.41 1143.52 1350.11 L1140.67 1352.96 L1137.95 1350.24 L1140.93 1347.26 Q1143.37 1344.82 1143.7 1342.56 Q1144.01 1340.29 1142.17 1338.46 Q1140.29 1336.57 1137.95 1336.92 Q1135.61 1337.23 1133.12 1339.72 Q1131.76 1341.08 1130.5 1342.93 Q1129.24 1344.77 1128 1347.26 L1125.05 1344.32 Q1126.41 1341.91 1127.79 1340.01 Q1129.18 1338.1 1130.64 1336.64 Q1134.4 1332.88 1138.31 1332.4 Q1142.21 1331.91 1145.12 1334.82 Q1147.15 1336.85 1147.4 1339.42 Q1147.63 1341.98 1146.02 1344.66 Z\" fill=\"#000000\" fill-rule=\"evenodd\" fill-opacity=\"1\" /><path clip-path=\"url(#clip210)\" d=\"M 0 0 M1155.35 1340.63 L1164.17 1331.81 L1166.86 1334.5 L1158.04 1343.32 L1155.35 1340.63 Z\" fill=\"#000000\" fill-rule=\"evenodd\" fill-opacity=\"1\" /><path clip-path=\"url(#clip210)\" d=\"M 0 0 M1178.35 1333.12 L1189.89 1321.58 L1192.67 1324.36 L1177.15 1339.88 L1174.37 1337.1 Q1174.31 1333.27 1174.27 1326.75 Q1174.24 1320.21 1174.13 1318.42 Q1173.93 1315.05 1173.32 1313.2 Q1172.72 1311.32 1171.52 1310.12 Q1169.58 1308.18 1166.97 1308.32 Q1164.39 1308.45 1162.19 1310.65 Q1160.64 1312.2 1159.44 1314.48 Q1158.26 1316.74 1157.4 1319.8 L1154.06 1316.46 Q1155.25 1313.66 1156.58 1311.51 Q1157.9 1309.37 1159.34 1307.93 Q1163.14 1304.13 1167.3 1303.77 Q1171.46 1303.41 1174.63 1306.59 Q1176.14 1308.09 1176.92 1310.03 Q1177.71 1311.92 1178.05 1315.25 Q1178.12 1316.13 1178.2 1320.6 Q1178.27 1325.05 1178.35 1333.12 Z\" fill=\"#000000\" fill-rule=\"evenodd\" fill-opacity=\"1\" /><path clip-path=\"url(#clip210)\" d=\"M 0 0 M1181.07 1291.45 Q1178.51 1294 1179.74 1297.81 Q1180.97 1301.6 1186.01 1306.64 Q1191.03 1311.66 1194.83 1312.91 Q1198.63 1314.12 1201.18 1311.56 Q1203.75 1308.99 1202.52 1305.21 Q1201.3 1301.4 1196.27 1296.37 Q1191.23 1291.33 1187.43 1290.12 Q1183.64 1288.88 1181.07 1291.45 M1178.45 1288.83 Q1182.55 1284.72 1187.97 1285.82 Q1193.39 1286.88 1199.58 1293.07 Q1205.75 1299.24 1206.83 1304.67 Q1207.91 1310.07 1203.8 1314.18 Q1199.69 1318.29 1194.27 1317.23 Q1188.86 1316.13 1182.69 1309.96 Q1176.5 1303.77 1175.42 1298.37 Q1174.34 1292.94 1178.45 1288.83 Z\" fill=\"#000000\" fill-rule=\"evenodd\" fill-opacity=\"1\" /><path clip-path=\"url(#clip210)\" d=\"M 0 0 M1245.29 1467.4 L1256.83 1455.87 L1259.61 1458.65 L1244.1 1474.16 L1241.31 1471.38 Q1241.25 1467.55 1241.22 1461.04 Q1241.18 1454.49 1241.07 1452.71 Q1240.87 1449.33 1240.27 1447.48 Q1239.66 1445.6 1238.47 1444.41 Q1236.52 1442.46 1233.92 1442.61 Q1231.33 1442.74 1229.14 1444.93 Q1227.58 1446.49 1226.39 1448.76 Q1225.21 1451.02 1224.34 1454.08 L1221 1450.74 Q1222.2 1447.94 1223.52 1445.8 Q1224.85 1443.65 1226.29 1442.21 Q1230.09 1438.42 1234.24 1438.06 Q1238.4 1437.7 1241.58 1440.87 Q1243.08 1442.38 1243.87 1444.31 Q1244.65 1446.21 1245 1449.53 Q1245.06 1450.41 1245.15 1454.88 Q1245.21 1459.34 1245.29 1467.4 Z\" fill=\"#000000\" fill-rule=\"evenodd\" fill-opacity=\"1\" /><path clip-path=\"url(#clip210)\" d=\"M 0 0 M1248.01 1425.73 Q1245.46 1428.28 1246.68 1432.1 Q1247.91 1435.88 1252.95 1440.92 Q1257.98 1445.95 1261.78 1447.19 Q1265.57 1448.4 1268.13 1445.85 Q1270.7 1443.28 1269.47 1439.5 Q1268.24 1435.68 1263.22 1430.66 Q1258.17 1425.62 1254.38 1424.41 Q1250.58 1423.16 1248.01 1425.73 M1245.39 1423.11 Q1249.5 1419 1254.92 1420.1 Q1260.33 1421.16 1266.52 1427.35 Q1272.69 1433.52 1273.77 1438.96 Q1274.85 1444.36 1270.74 1448.47 Q1266.64 1452.58 1261.22 1451.51 Q1255.8 1450.41 1249.63 1444.24 Q1243.44 1438.06 1242.36 1432.66 Q1241.28 1427.22 1245.39 1423.11 Z\" fill=\"#000000\" fill-rule=\"evenodd\" fill-opacity=\"1\" /><path clip-path=\"url(#clip210)\" d=\"M 0 0 M1282.37 1430.33 L1293.91 1418.79 L1296.69 1421.57 L1281.17 1437.09 L1278.39 1434.31 Q1278.32 1430.48 1278.29 1423.96 Q1278.26 1417.42 1278.14 1415.63 Q1277.95 1412.26 1277.34 1410.41 Q1276.74 1408.53 1275.54 1407.33 Q1273.59 1405.39 1270.99 1405.53 Q1268.4 1405.66 1266.21 1407.86 Q1264.66 1409.41 1263.46 1411.69 Q1262.28 1413.95 1261.42 1417.01 L1258.08 1413.67 Q1259.27 1410.87 1260.6 1408.72 Q1261.92 1406.58 1263.36 1405.14 Q1267.16 1401.34 1271.32 1400.98 Q1275.48 1400.62 1278.65 1403.8 Q1280.16 1405.3 1280.94 1407.24 Q1281.73 1409.13 1282.07 1412.46 Q1282.14 1413.34 1282.22 1417.81 Q1282.28 1422.26 1282.37 1430.33 Z\" fill=\"#000000\" fill-rule=\"evenodd\" fill-opacity=\"1\" /><path clip-path=\"url(#clip210)\" d=\"M 0 0 M1285.08 1388.66 Q1282.53 1391.21 1283.76 1395.02 Q1284.99 1398.81 1290.03 1403.85 Q1295.05 1408.87 1298.85 1410.12 Q1302.65 1411.33 1305.2 1408.77 Q1307.77 1406.2 1306.54 1402.42 Q1305.31 1398.61 1300.29 1393.58 Q1295.25 1388.54 1291.45 1387.33 Q1287.65 1386.09 1285.08 1388.66 M1282.46 1386.04 Q1286.57 1381.93 1291.99 1383.03 Q1297.41 1384.09 1303.6 1390.28 Q1309.77 1396.45 1310.85 1401.88 Q1311.93 1407.28 1307.82 1411.39 Q1303.71 1415.5 1298.29 1414.44 Q1292.87 1413.34 1286.7 1407.17 Q1280.52 1400.98 1279.44 1395.58 Q1278.36 1390.15 1282.46 1386.04 Z\" fill=\"#000000\" fill-rule=\"evenodd\" fill-opacity=\"1\" /><path clip-path=\"url(#clip210)\" d=\"M 0 0 M1306.9 1390.31 L1315.72 1381.49 L1318.41 1384.17 L1309.59 1393 L1306.9 1390.31 Z\" fill=\"#000000\" fill-rule=\"evenodd\" fill-opacity=\"1\" /><path clip-path=\"url(#clip210)\" d=\"M 0 0 M1314.64 1359.1 Q1312.09 1361.65 1313.32 1365.46 Q1314.55 1369.25 1319.59 1374.29 Q1324.61 1379.31 1328.41 1380.56 Q1332.21 1381.77 1334.76 1379.21 Q1337.33 1376.64 1336.1 1372.86 Q1334.88 1369.05 1329.85 1364.02 Q1324.81 1358.98 1321.01 1357.77 Q1317.21 1356.53 1314.64 1359.1 M1312.03 1356.48 Q1316.13 1352.37 1321.55 1353.47 Q1326.97 1354.53 1333.16 1360.72 Q1339.33 1366.89 1340.41 1372.32 Q1341.49 1377.72 1337.38 1381.83 Q1333.27 1385.94 1327.85 1384.88 Q1322.44 1383.78 1316.26 1377.61 Q1310.08 1371.42 1309 1366.02 Q1307.92 1360.59 1312.03 1356.48 Z\" fill=\"#000000\" fill-rule=\"evenodd\" fill-opacity=\"1\" /><path clip-path=\"url(#clip210)\" d=\"M 0 0 M1336.46 1338.69 L1341.16 1360.08 L1349.51 1351.73 L1336.46 1338.69 M1332.71 1336.67 L1336.87 1332.51 L1352.8 1348.44 L1356.28 1344.95 L1359.03 1347.7 L1355.55 1351.19 L1361.31 1356.95 L1358.02 1360.24 L1352.26 1354.48 L1341.23 1365.51 L1338.03 1362.32 L1332.71 1336.67 Z\" fill=\"#000000\" fill-rule=\"evenodd\" fill-opacity=\"1\" /><path clip-path=\"url(#clip210)\" d=\"M 0 0 M1355.91 1341.3 L1364.73 1332.48 L1367.41 1335.17 L1358.59 1343.99 L1355.91 1341.3 Z\" fill=\"#000000\" fill-rule=\"evenodd\" fill-opacity=\"1\" /><path clip-path=\"url(#clip210)\" d=\"M 0 0 M1363.65 1310.09 Q1361.1 1312.64 1362.32 1316.46 Q1363.55 1320.24 1368.59 1325.28 Q1373.62 1330.31 1377.42 1331.55 Q1381.21 1332.76 1383.77 1330.21 Q1386.34 1327.64 1385.11 1323.86 Q1383.88 1320.04 1378.86 1315.02 Q1373.81 1309.98 1370.02 1308.76 Q1366.22 1307.52 1363.65 1310.09 M1361.03 1307.47 Q1365.14 1303.36 1370.56 1304.46 Q1375.98 1305.52 1382.16 1311.71 Q1388.33 1317.88 1389.41 1323.32 Q1390.49 1328.72 1386.39 1332.83 Q1382.28 1336.93 1376.86 1335.87 Q1371.44 1334.77 1365.27 1328.6 Q1359.08 1322.42 1358 1317.01 Q1356.92 1311.58 1361.03 1307.47 Z\" fill=\"#000000\" fill-rule=\"evenodd\" fill-opacity=\"1\" /><path clip-path=\"url(#clip210)\" d=\"M 0 0 M1394.78 1297.13 Q1397.66 1295.26 1400.59 1295.54 Q1403.54 1295.8 1405.9 1298.16 Q1409.51 1301.78 1409.01 1306.24 Q1408.5 1310.71 1403.92 1315.3 Q1402.38 1316.83 1400.43 1318.16 Q1398.51 1319.49 1396.17 1320.62 L1392.98 1317.42 Q1395.16 1316.85 1397.2 1315.62 Q1399.25 1314.4 1401.04 1312.61 Q1404.15 1309.5 1404.54 1306.65 Q1404.95 1303.79 1402.61 1301.45 Q1400.45 1299.29 1397.71 1299.6 Q1394.98 1299.88 1392.28 1302.58 L1389.43 1305.43 L1386.71 1302.71 L1389.69 1299.73 Q1392.13 1297.29 1392.46 1295.03 Q1392.77 1292.76 1390.94 1290.92 Q1389.05 1289.04 1386.71 1289.38 Q1384.37 1289.7 1381.88 1292.18 Q1380.53 1293.54 1379.27 1295.39 Q1378.01 1297.24 1376.76 1299.73 L1373.81 1296.78 Q1375.17 1294.38 1376.55 1292.48 Q1377.94 1290.56 1379.4 1289.11 Q1383.16 1285.34 1387.07 1284.87 Q1390.97 1284.38 1393.88 1287.29 Q1395.91 1289.32 1396.16 1291.89 Q1396.39 1294.44 1394.78 1297.13 Z\" fill=\"#000000\" fill-rule=\"evenodd\" fill-opacity=\"1\" /><path clip-path=\"url(#clip210)\" d=\"M 0 0 M1447.57 1466.36 L1459.11 1454.82 L1461.89 1457.6 L1446.37 1473.12 L1443.59 1470.33 Q1443.53 1466.5 1443.49 1459.99 Q1443.46 1453.44 1443.35 1451.66 Q1443.15 1448.29 1442.54 1446.44 Q1441.94 1444.55 1440.74 1443.36 Q1438.79 1441.41 1436.19 1441.56 Q1433.61 1441.69 1431.41 1443.88 Q1429.86 1445.44 1428.66 1447.71 Q1427.48 1449.97 1426.62 1453.03 L1423.28 1449.69 Q1424.47 1446.9 1425.8 1444.75 Q1427.12 1442.61 1428.56 1441.17 Q1432.36 1437.37 1436.52 1437.01 Q1440.68 1436.65 1443.85 1439.82 Q1445.36 1441.33 1446.14 1443.26 Q1446.93 1445.16 1447.27 1448.48 Q1447.34 1449.37 1447.42 1453.84 Q1447.49 1458.29 1447.57 1466.36 Z\" fill=\"#000000\" fill-rule=\"evenodd\" fill-opacity=\"1\" /><path clip-path=\"url(#clip210)\" d=\"M 0 0 M1450.29 1424.68 Q1447.73 1427.24 1448.96 1431.05 Q1450.19 1434.83 1455.23 1439.87 Q1460.25 1444.9 1464.05 1446.14 Q1467.85 1447.35 1470.4 1444.8 Q1472.97 1442.23 1471.74 1438.45 Q1470.52 1434.64 1465.49 1429.61 Q1460.45 1424.57 1456.65 1423.36 Q1452.86 1422.11 1450.29 1424.68 M1447.67 1422.06 Q1451.77 1417.96 1457.19 1419.05 Q1462.61 1420.12 1468.8 1426.3 Q1474.97 1432.48 1476.05 1437.91 Q1477.13 1443.31 1473.02 1447.42 Q1468.91 1451.53 1463.49 1450.46 Q1458.08 1449.37 1451.91 1443.2 Q1445.72 1437.01 1444.64 1431.61 Q1443.56 1426.17 1447.67 1422.06 Z\" fill=\"#000000\" fill-rule=\"evenodd\" fill-opacity=\"1\" /><path clip-path=\"url(#clip210)\" d=\"M 0 0 M1484.64 1429.28 L1496.18 1417.74 L1498.96 1420.53 L1483.45 1436.04 L1480.66 1433.26 Q1480.6 1429.43 1480.57 1422.92 Q1480.53 1416.37 1480.42 1414.58 Q1480.22 1411.21 1479.62 1409.36 Q1479.01 1407.48 1477.82 1406.29 Q1475.87 1404.34 1473.27 1404.49 Q1470.68 1404.62 1468.49 1406.81 Q1466.93 1408.36 1465.74 1410.64 Q1464.56 1412.9 1463.69 1415.96 L1460.35 1412.62 Q1461.55 1409.82 1462.87 1407.68 Q1464.2 1405.53 1465.64 1404.09 Q1469.44 1400.3 1473.59 1399.94 Q1477.75 1399.58 1480.93 1402.75 Q1482.43 1404.26 1483.22 1406.19 Q1484 1408.09 1484.35 1411.41 Q1484.41 1412.29 1484.49 1416.76 Q1484.56 1421.21 1484.64 1429.28 Z\" fill=\"#000000\" fill-rule=\"evenodd\" fill-opacity=\"1\" /><path clip-path=\"url(#clip210)\" d=\"M 0 0 M1487.36 1387.61 Q1484.81 1390.16 1486.03 1393.98 Q1487.26 1397.76 1492.3 1402.8 Q1497.33 1407.82 1501.12 1409.07 Q1504.92 1410.28 1507.48 1407.73 Q1510.05 1405.16 1508.82 1401.38 Q1507.59 1397.56 1502.57 1392.54 Q1497.52 1387.5 1493.73 1386.28 Q1489.93 1385.04 1487.36 1387.61 M1484.74 1384.99 Q1488.85 1380.88 1494.27 1381.98 Q1499.68 1383.04 1505.87 1389.23 Q1512.04 1395.4 1513.12 1400.84 Q1514.2 1406.24 1510.09 1410.35 Q1505.99 1414.45 1500.57 1413.39 Q1495.15 1412.29 1488.98 1406.12 Q1482.79 1399.94 1481.71 1394.53 Q1480.63 1389.1 1484.74 1384.99 Z\" fill=\"#000000\" fill-rule=\"evenodd\" fill-opacity=\"1\" /><path clip-path=\"url(#clip210)\" d=\"M 0 0 M1509.18 1389.26 L1518 1380.44 L1520.68 1383.13 L1511.86 1391.95 L1509.18 1389.26 Z\" fill=\"#000000\" fill-rule=\"evenodd\" fill-opacity=\"1\" /><path clip-path=\"url(#clip210)\" d=\"M 0 0 M1516.92 1358.05 Q1514.37 1360.6 1515.59 1364.42 Q1516.82 1368.2 1521.86 1373.24 Q1526.89 1378.26 1530.69 1379.51 Q1534.48 1380.72 1537.04 1378.17 Q1539.61 1375.6 1538.38 1371.81 Q1537.15 1368 1532.13 1362.98 Q1527.08 1357.93 1523.29 1356.72 Q1519.49 1355.48 1516.92 1358.05 M1514.3 1355.43 Q1518.41 1351.32 1523.83 1352.42 Q1529.25 1353.48 1535.43 1359.67 Q1541.6 1365.84 1542.68 1371.27 Q1543.76 1376.68 1539.66 1380.78 Q1535.55 1384.89 1530.13 1383.83 Q1524.71 1382.73 1518.54 1376.56 Q1512.35 1370.37 1511.27 1364.97 Q1510.19 1359.54 1514.3 1355.43 Z\" fill=\"#000000\" fill-rule=\"evenodd\" fill-opacity=\"1\" /><path clip-path=\"url(#clip210)\" d=\"M 0 0 M1538.74 1337.64 L1543.44 1359.03 L1551.78 1350.68 L1538.74 1337.64 M1534.99 1335.62 L1539.15 1331.47 L1555.07 1347.39 L1558.56 1343.91 L1561.31 1346.66 L1557.82 1350.14 L1563.59 1355.9 L1560.3 1359.19 L1554.53 1353.43 L1543.5 1364.47 L1540.31 1361.27 L1534.99 1335.62 Z\" fill=\"#000000\" fill-rule=\"evenodd\" fill-opacity=\"1\" /><path clip-path=\"url(#clip210)\" d=\"M 0 0 M1558.18 1340.26 L1567.01 1331.43 L1569.69 1334.12 L1560.87 1342.94 L1558.18 1340.26 Z\" fill=\"#000000\" fill-rule=\"evenodd\" fill-opacity=\"1\" /><path clip-path=\"url(#clip210)\" d=\"M 0 0 M1578.91 1335.02 L1584.31 1329.62 L1565.66 1310.97 L1560.97 1318.03 L1557.95 1315.02 L1562.62 1308 L1565.93 1304.69 L1587.58 1326.34 L1592.98 1320.94 L1595.77 1323.73 L1581.69 1337.8 L1578.91 1335.02 Z\" fill=\"#000000\" fill-rule=\"evenodd\" fill-opacity=\"1\" /><path clip-path=\"url(#clip210)\" d=\"M 0 0 M1574.08 1296.54 L1589.79 1280.82 L1591.2 1282.23 L1605.36 1314.13 L1601.9 1317.59 L1588.6 1287.58 L1576.86 1299.32 L1574.08 1296.54 Z\" fill=\"#000000\" fill-rule=\"evenodd\" fill-opacity=\"1\" /><path clip-path=\"url(#clip210)\" d=\"M 0 0 M1649.21 1465.95 L1660.74 1454.41 L1663.53 1457.19 L1648.01 1472.71 L1645.23 1469.93 Q1645.16 1466.1 1645.13 1459.58 Q1645.1 1453.03 1644.98 1451.25 Q1644.79 1447.88 1644.18 1446.03 Q1643.57 1444.15 1642.38 1442.95 Q1640.43 1441 1637.83 1441.15 Q1635.24 1441.28 1633.05 1443.47 Q1631.5 1445.03 1630.3 1447.3 Q1629.12 1449.56 1628.25 1452.62 L1624.92 1449.29 Q1626.11 1446.49 1627.44 1444.34 Q1628.76 1442.2 1630.2 1440.76 Q1634 1436.96 1638.16 1436.6 Q1642.31 1436.24 1645.49 1439.42 Q1647 1440.92 1647.78 1442.85 Q1648.57 1444.75 1648.91 1448.07 Q1648.98 1448.96 1649.06 1453.43 Q1649.12 1457.88 1649.21 1465.95 Z\" fill=\"#000000\" fill-rule=\"evenodd\" fill-opacity=\"1\" /><path clip-path=\"url(#clip210)\" d=\"M 0 0 M1651.92 1424.27 Q1649.37 1426.83 1650.6 1430.64 Q1651.82 1434.42 1656.87 1439.46 Q1661.89 1444.49 1665.69 1445.73 Q1669.49 1446.94 1672.04 1444.39 Q1674.61 1441.82 1673.38 1438.04 Q1672.15 1434.23 1667.13 1429.2 Q1662.09 1424.16 1658.29 1422.95 Q1654.49 1421.7 1651.92 1424.27 M1649.3 1421.66 Q1653.41 1417.55 1658.83 1418.64 Q1664.25 1419.71 1670.43 1425.9 Q1676.61 1432.07 1677.69 1437.5 Q1678.77 1442.9 1674.66 1447.01 Q1670.55 1451.12 1665.13 1450.05 Q1659.71 1448.96 1653.54 1442.79 Q1647.36 1436.6 1646.28 1431.2 Q1645.2 1425.76 1649.3 1421.66 Z\" fill=\"#000000\" fill-rule=\"evenodd\" fill-opacity=\"1\" /><path clip-path=\"url(#clip210)\" d=\"M 0 0 M1686.28 1428.87 L1697.82 1417.33 L1700.6 1420.12 L1685.08 1435.63 L1682.3 1432.85 Q1682.24 1429.02 1682.2 1422.51 Q1682.17 1415.96 1682.06 1414.18 Q1681.86 1410.8 1681.25 1408.95 Q1680.65 1407.07 1679.45 1405.88 Q1677.51 1403.93 1674.9 1404.08 Q1672.32 1404.21 1670.12 1406.4 Q1668.57 1407.96 1667.37 1410.23 Q1666.2 1412.49 1665.33 1415.55 L1661.99 1412.21 Q1663.18 1409.41 1664.51 1407.27 Q1665.84 1405.12 1667.28 1403.68 Q1671.07 1399.89 1675.23 1399.53 Q1679.39 1399.17 1682.56 1402.34 Q1684.07 1403.85 1684.86 1405.78 Q1685.64 1407.68 1685.98 1411 Q1686.05 1411.88 1686.13 1416.35 Q1686.2 1420.8 1686.28 1428.87 Z\" fill=\"#000000\" fill-rule=\"evenodd\" fill-opacity=\"1\" /><path clip-path=\"url(#clip210)\" d=\"M 0 0 M1689 1387.2 Q1686.44 1389.75 1687.67 1393.57 Q1688.9 1397.35 1693.94 1402.39 Q1698.96 1407.42 1702.76 1408.66 Q1706.56 1409.87 1709.11 1407.32 Q1711.68 1404.75 1710.45 1400.97 Q1709.23 1397.15 1704.2 1392.13 Q1699.16 1387.09 1695.36 1385.88 Q1691.57 1384.63 1689 1387.2 M1686.38 1384.58 Q1690.49 1380.47 1695.9 1381.57 Q1701.32 1382.63 1707.51 1388.82 Q1713.68 1394.99 1714.76 1400.43 Q1715.84 1405.83 1711.73 1409.94 Q1707.62 1414.04 1702.21 1412.98 Q1696.79 1411.88 1690.62 1405.71 Q1684.43 1399.53 1683.35 1394.12 Q1682.27 1388.69 1686.38 1384.58 Z\" fill=\"#000000\" fill-rule=\"evenodd\" fill-opacity=\"1\" /><path clip-path=\"url(#clip210)\" d=\"M 0 0 M1710.82 1388.85 L1719.64 1380.03 L1722.32 1382.72 L1713.5 1391.54 L1710.82 1388.85 Z\" fill=\"#000000\" fill-rule=\"evenodd\" fill-opacity=\"1\" /><path clip-path=\"url(#clip210)\" d=\"M 0 0 M1718.56 1357.64 Q1716 1360.19 1717.23 1364.01 Q1718.46 1367.79 1723.5 1372.83 Q1728.53 1377.85 1732.32 1379.1 Q1736.12 1380.31 1738.67 1377.76 Q1741.24 1375.19 1740.02 1371.41 Q1738.79 1367.59 1733.76 1362.57 Q1728.72 1357.53 1724.92 1356.31 Q1721.13 1355.07 1718.56 1357.64 M1715.94 1355.02 Q1720.05 1350.91 1725.46 1352.01 Q1730.88 1353.07 1737.07 1359.26 Q1743.24 1365.43 1744.32 1370.87 Q1745.4 1376.27 1741.29 1380.38 Q1737.18 1384.48 1731.77 1383.42 Q1726.35 1382.32 1720.18 1376.15 Q1713.99 1369.97 1712.91 1364.56 Q1711.83 1359.13 1715.94 1355.02 Z\" fill=\"#000000\" fill-rule=\"evenodd\" fill-opacity=\"1\" /><path clip-path=\"url(#clip210)\" d=\"M 0 0 M1728.44 1343.4 L1741.42 1330.42 L1744.21 1333.2 L1734.25 1343.15 L1740.24 1349.14 Q1740.72 1348.18 1741.33 1347.34 Q1741.91 1346.49 1742.63 1345.77 Q1746.73 1341.68 1751.36 1341.53 Q1755.99 1341.39 1759.82 1345.22 Q1763.77 1349.16 1763.5 1353.81 Q1763.23 1358.44 1758.76 1362.91 Q1757.22 1364.45 1755.35 1365.79 Q1753.5 1367.12 1751.28 1368.3 L1747.95 1364.97 Q1750.23 1364.3 1752.19 1363.12 Q1754.16 1361.94 1755.91 1360.19 Q1758.74 1357.36 1758.9 1354.22 Q1759.07 1351.08 1756.51 1348.52 Q1753.96 1345.97 1750.82 1346.13 Q1747.68 1346.3 1744.84 1349.13 Q1743.52 1350.45 1742.49 1352.07 Q1741.47 1353.68 1740.72 1355.68 L1728.44 1343.4 Z\" fill=\"#000000\" fill-rule=\"evenodd\" fill-opacity=\"1\" /><path clip-path=\"url(#clip210)\" d=\"M 0 0 M1758.77 1340.9 L1767.6 1332.07 L1770.28 1334.76 L1761.46 1343.58 L1758.77 1340.9 Z\" fill=\"#000000\" fill-rule=\"evenodd\" fill-opacity=\"1\" /><path clip-path=\"url(#clip210)\" d=\"M 0 0 M1766.52 1309.68 Q1763.96 1312.23 1765.19 1316.05 Q1766.42 1319.83 1771.46 1324.87 Q1776.48 1329.9 1780.28 1331.14 Q1784.08 1332.35 1786.63 1329.8 Q1789.2 1327.23 1787.97 1323.45 Q1786.75 1319.63 1781.72 1314.61 Q1776.68 1309.57 1772.88 1308.36 Q1769.09 1307.11 1766.52 1309.68 M1763.9 1307.06 Q1768.01 1302.95 1773.42 1304.05 Q1778.84 1305.11 1785.03 1311.3 Q1791.2 1317.47 1792.28 1322.91 Q1793.36 1328.31 1789.25 1332.42 Q1785.14 1336.53 1779.72 1335.46 Q1774.31 1334.36 1768.14 1328.19 Q1761.95 1322.01 1760.87 1316.61 Q1759.79 1311.17 1763.9 1307.06 Z\" fill=\"#000000\" fill-rule=\"evenodd\" fill-opacity=\"1\" /><path clip-path=\"url(#clip210)\" d=\"M 0 0 M1798.6 1316.56 L1804 1311.15 L1785.36 1292.51 L1780.66 1299.57 L1777.65 1296.55 L1782.31 1289.53 L1785.62 1286.23 L1807.27 1307.88 L1812.67 1302.48 L1815.46 1305.26 L1801.38 1319.34 L1798.6 1316.56 Z\" fill=\"#000000\" fill-rule=\"evenodd\" fill-opacity=\"1\" /><path clip-path=\"url(#clip210)\" d=\"M 0 0 M1851.14 1465.24 L1862.68 1453.7 L1865.46 1456.49 L1849.94 1472 L1847.16 1469.22 Q1847.09 1465.39 1847.06 1458.88 Q1847.03 1452.33 1846.91 1450.55 Q1846.72 1447.17 1846.11 1445.32 Q1845.51 1443.44 1844.31 1442.25 Q1842.36 1440.3 1839.76 1440.45 Q1837.18 1440.58 1834.98 1442.77 Q1833.43 1444.33 1832.23 1446.6 Q1831.05 1448.86 1830.19 1451.92 L1826.85 1448.58 Q1828.04 1445.78 1829.37 1443.64 Q1830.69 1441.49 1832.13 1440.05 Q1835.93 1436.26 1840.09 1435.9 Q1844.25 1435.54 1847.42 1438.71 Q1848.93 1440.22 1849.71 1442.15 Q1850.5 1444.05 1850.84 1447.37 Q1850.91 1448.25 1850.99 1452.72 Q1851.06 1457.17 1851.14 1465.24 Z\" fill=\"#000000\" fill-rule=\"evenodd\" fill-opacity=\"1\" /><path clip-path=\"url(#clip210)\" d=\"M 0 0 M1853.85 1423.57 Q1851.3 1426.12 1852.53 1429.94 Q1853.76 1433.72 1858.8 1438.76 Q1863.82 1443.79 1867.62 1445.03 Q1871.42 1446.24 1873.97 1443.69 Q1876.54 1441.12 1875.31 1437.34 Q1874.09 1433.52 1869.06 1428.5 Q1864.02 1423.46 1860.22 1422.24 Q1856.42 1421 1853.85 1423.57 M1851.24 1420.95 Q1855.34 1416.84 1860.76 1417.94 Q1866.18 1419 1872.37 1425.19 Q1878.54 1431.36 1879.62 1436.8 Q1880.7 1442.2 1876.59 1446.31 Q1872.48 1450.41 1867.06 1449.35 Q1861.65 1448.25 1855.47 1442.08 Q1849.29 1435.9 1848.21 1430.49 Q1847.13 1425.06 1851.24 1420.95 Z\" fill=\"#000000\" fill-rule=\"evenodd\" fill-opacity=\"1\" /><path clip-path=\"url(#clip210)\" d=\"M 0 0 M1888.21 1428.17 L1899.75 1416.63 L1902.53 1419.41 L1887.02 1434.93 L1884.23 1432.15 Q1884.17 1428.32 1884.14 1421.8 Q1884.1 1415.26 1883.99 1413.47 Q1883.79 1410.1 1883.19 1408.25 Q1882.58 1406.37 1881.39 1405.17 Q1879.44 1403.23 1876.84 1403.37 Q1874.25 1403.5 1872.06 1405.7 Q1870.5 1407.25 1869.31 1409.53 Q1868.13 1411.79 1867.26 1414.85 L1863.92 1411.51 Q1865.12 1408.71 1866.44 1406.56 Q1867.77 1404.42 1869.21 1402.98 Q1873.01 1399.18 1877.16 1398.82 Q1881.32 1398.46 1884.5 1401.64 Q1886 1403.14 1886.79 1405.07 Q1887.57 1406.97 1887.92 1410.3 Q1887.98 1411.18 1888.06 1415.65 Q1888.13 1420.1 1888.21 1428.17 Z\" fill=\"#000000\" fill-rule=\"evenodd\" fill-opacity=\"1\" /><path clip-path=\"url(#clip210)\" d=\"M 0 0 M1890.93 1386.5 Q1888.37 1389.05 1889.6 1392.86 Q1890.83 1396.65 1895.87 1401.69 Q1900.9 1406.71 1904.69 1407.96 Q1908.49 1409.17 1911.04 1406.61 Q1913.61 1404.04 1912.39 1400.26 Q1911.16 1396.45 1906.13 1391.42 Q1901.09 1386.38 1897.3 1385.17 Q1893.5 1383.93 1890.93 1386.5 M1888.31 1383.88 Q1892.42 1379.77 1897.84 1380.87 Q1903.25 1381.93 1909.44 1388.12 Q1915.61 1394.29 1916.69 1399.72 Q1917.77 1405.12 1913.66 1409.23 Q1909.56 1413.34 1904.14 1412.28 Q1898.72 1411.18 1892.55 1405.01 Q1886.36 1398.82 1885.28 1393.42 Q1884.2 1387.99 1888.31 1383.88 Z\" fill=\"#000000\" fill-rule=\"evenodd\" fill-opacity=\"1\" /><path clip-path=\"url(#clip210)\" d=\"M 0 0 M1912.75 1388.15 L1921.57 1379.33 L1924.25 1382.01 L1915.43 1390.83 L1912.75 1388.15 Z\" fill=\"#000000\" fill-rule=\"evenodd\" fill-opacity=\"1\" /><path clip-path=\"url(#clip210)\" d=\"M 0 0 M1920.49 1356.94 Q1917.94 1359.49 1919.16 1363.3 Q1920.39 1367.08 1925.43 1372.13 Q1930.46 1377.15 1934.25 1378.39 Q1938.05 1379.61 1940.61 1377.05 Q1943.18 1374.48 1941.95 1370.7 Q1940.72 1366.89 1935.7 1361.86 Q1930.65 1356.82 1926.86 1355.61 Q1923.06 1354.37 1920.49 1356.94 M1917.87 1354.32 Q1921.98 1350.21 1927.4 1351.31 Q1932.81 1352.37 1939 1358.56 Q1945.17 1364.73 1946.25 1370.16 Q1947.33 1375.56 1943.22 1379.67 Q1939.12 1383.78 1933.7 1382.72 Q1928.28 1381.62 1922.11 1375.45 Q1915.92 1369.26 1914.84 1363.86 Q1913.76 1358.43 1917.87 1354.32 Z\" fill=\"#000000\" fill-rule=\"evenodd\" fill-opacity=\"1\" /><path clip-path=\"url(#clip210)\" d=\"M 0 0 M1930.38 1342.7 L1943.36 1329.72 L1946.14 1332.5 L1936.19 1342.45 L1942.18 1348.44 Q1942.65 1347.48 1943.26 1346.64 Q1943.85 1345.79 1944.57 1345.07 Q1948.66 1340.98 1953.29 1340.83 Q1957.92 1340.68 1961.75 1344.51 Q1965.7 1348.46 1965.44 1353.11 Q1965.16 1357.74 1960.69 1362.21 Q1959.15 1363.75 1957.28 1365.09 Q1955.44 1366.41 1953.21 1367.59 L1949.89 1364.27 Q1952.16 1363.6 1954.13 1362.42 Q1956.09 1361.24 1957.84 1359.49 Q1960.67 1356.66 1960.84 1353.52 Q1961 1350.37 1958.45 1347.82 Q1955.89 1345.27 1952.75 1345.43 Q1949.61 1345.59 1946.78 1348.42 Q1945.45 1349.75 1944.42 1351.37 Q1943.4 1352.98 1942.65 1354.97 L1930.38 1342.7 Z\" fill=\"#000000\" fill-rule=\"evenodd\" fill-opacity=\"1\" /><path clip-path=\"url(#clip210)\" d=\"M 0 0 M1960.71 1340.19 L1969.53 1331.37 L1972.21 1334.05 L1963.39 1342.88 L1960.71 1340.19 Z\" fill=\"#000000\" fill-rule=\"evenodd\" fill-opacity=\"1\" /><path clip-path=\"url(#clip210)\" d=\"M 0 0 M1981.43 1334.95 L1986.83 1329.55 L1968.19 1310.91 L1963.49 1317.96 L1960.48 1314.95 L1965.14 1307.93 L1968.45 1304.62 L1990.1 1326.28 L1995.5 1320.88 L1998.29 1323.66 L1984.21 1337.74 L1981.43 1334.95 Z\" fill=\"#000000\" fill-rule=\"evenodd\" fill-opacity=\"1\" /><path clip-path=\"url(#clip210)\" d=\"M 0 0 M1977.47 1295.6 L1990.45 1282.62 L1993.23 1285.41 L1983.28 1295.36 L1989.27 1301.35 Q1989.74 1300.38 1990.35 1299.55 Q1990.94 1298.7 1991.66 1297.98 Q1995.75 1293.89 2000.38 1293.74 Q2005.01 1293.59 2008.84 1297.42 Q2012.79 1301.37 2012.53 1306.01 Q2012.25 1310.65 2007.78 1315.12 Q2006.24 1316.65 2004.38 1318 Q2002.53 1319.32 2000.3 1320.5 L1996.98 1317.18 Q1999.25 1316.51 2001.22 1315.33 Q2003.18 1314.15 2004.93 1312.4 Q2007.76 1309.57 2007.93 1306.42 Q2008.09 1303.28 2005.54 1300.73 Q2002.98 1298.17 1999.84 1298.34 Q1996.7 1298.5 1993.87 1301.33 Q1992.54 1302.66 1991.51 1304.28 Q1990.5 1305.88 1989.74 1307.88 L1977.47 1295.6 Z\" fill=\"#000000\" fill-rule=\"evenodd\" fill-opacity=\"1\" /><path clip-path=\"url(#clip210)\" d=\"M 0 0 M2052.05 1465.56 L2063.59 1454.02 L2066.38 1456.8 L2050.86 1472.32 L2048.08 1469.53 Q2048.01 1465.7 2047.98 1459.19 Q2047.95 1452.64 2047.83 1450.86 Q2047.64 1447.48 2047.03 1445.64 Q2046.42 1443.75 2045.23 1442.56 Q2043.28 1440.61 2040.68 1440.76 Q2038.09 1440.89 2035.9 1443.08 Q2034.34 1444.64 2033.15 1446.91 Q2031.97 1449.17 2031.1 1452.23 L2027.76 1448.89 Q2028.96 1446.09 2030.28 1443.95 Q2031.61 1441.8 2033.05 1440.36 Q2036.85 1436.57 2041.01 1436.21 Q2045.16 1435.85 2048.34 1439.02 Q2049.84 1440.53 2050.63 1442.46 Q2051.42 1444.36 2051.76 1447.68 Q2051.83 1448.56 2051.91 1453.03 Q2051.97 1457.49 2052.05 1465.56 Z\" fill=\"#000000\" fill-rule=\"evenodd\" fill-opacity=\"1\" /><path clip-path=\"url(#clip210)\" d=\"M 0 0 M2054.77 1423.88 Q2052.22 1426.44 2053.45 1430.25 Q2054.67 1434.03 2059.71 1439.07 Q2064.74 1444.1 2068.54 1445.34 Q2072.33 1446.55 2074.89 1444 Q2077.46 1441.43 2076.23 1437.65 Q2075 1433.83 2069.98 1428.81 Q2064.94 1423.77 2061.14 1422.56 Q2057.34 1421.31 2054.77 1423.88 M2052.15 1421.26 Q2056.26 1417.15 2061.68 1418.25 Q2067.1 1419.32 2073.28 1425.5 Q2079.45 1431.67 2080.54 1437.11 Q2081.62 1442.51 2077.51 1446.62 Q2073.4 1450.73 2067.98 1449.66 Q2062.56 1448.56 2056.39 1442.39 Q2050.2 1436.21 2049.12 1430.81 Q2048.04 1425.37 2052.15 1421.26 Z\" fill=\"#000000\" fill-rule=\"evenodd\" fill-opacity=\"1\" /><path clip-path=\"url(#clip210)\" d=\"M 0 0 M2089.13 1428.48 L2100.67 1416.94 L2103.45 1419.72 L2087.93 1435.24 L2085.15 1432.46 Q2085.09 1428.63 2085.05 1422.11 Q2085.02 1415.57 2084.91 1413.78 Q2084.71 1410.41 2084.1 1408.56 Q2083.5 1406.68 2082.3 1405.48 Q2080.36 1403.54 2077.75 1403.68 Q2075.17 1403.81 2072.97 1406.01 Q2071.42 1407.56 2070.22 1409.84 Q2069.04 1412.1 2068.18 1415.16 L2064.84 1411.82 Q2066.03 1409.02 2067.36 1406.88 Q2068.68 1404.73 2070.12 1403.29 Q2073.92 1399.49 2078.08 1399.13 Q2082.24 1398.77 2085.41 1401.95 Q2086.92 1403.45 2087.7 1405.39 Q2088.49 1407.28 2088.83 1410.61 Q2088.9 1411.49 2088.98 1415.96 Q2089.05 1420.41 2089.13 1428.48 Z\" fill=\"#000000\" fill-rule=\"evenodd\" fill-opacity=\"1\" /><path clip-path=\"url(#clip210)\" d=\"M 0 0 M2091.85 1386.81 Q2089.29 1389.36 2090.52 1393.18 Q2091.75 1396.96 2096.79 1402 Q2101.81 1407.02 2105.61 1408.27 Q2109.41 1409.48 2111.96 1406.92 Q2114.53 1404.35 2113.3 1400.57 Q2112.08 1396.76 2107.05 1391.73 Q2102.01 1386.69 2098.21 1385.48 Q2094.42 1384.24 2091.85 1386.81 M2089.23 1384.19 Q2093.33 1380.08 2098.75 1381.18 Q2104.17 1382.24 2110.36 1388.43 Q2116.53 1394.6 2117.61 1400.03 Q2118.69 1405.43 2114.58 1409.54 Q2110.47 1413.65 2105.05 1412.59 Q2099.64 1411.49 2093.47 1405.32 Q2087.28 1399.13 2086.2 1393.73 Q2085.12 1388.3 2089.23 1384.19 Z\" fill=\"#000000\" fill-rule=\"evenodd\" fill-opacity=\"1\" /><path clip-path=\"url(#clip210)\" d=\"M 0 0 M2113.66 1388.46 L2122.49 1379.64 L2125.17 1382.32 L2116.35 1391.15 L2113.66 1388.46 Z\" fill=\"#000000\" fill-rule=\"evenodd\" fill-opacity=\"1\" /><path clip-path=\"url(#clip210)\" d=\"M 0 0 M2121.41 1357.25 Q2118.85 1359.8 2120.08 1363.61 Q2121.31 1367.4 2126.35 1372.44 Q2131.37 1377.46 2135.17 1378.71 Q2138.97 1379.92 2141.52 1377.36 Q2144.09 1374.79 2142.86 1371.01 Q2141.64 1367.2 2136.61 1362.17 Q2131.57 1357.13 2127.77 1355.92 Q2123.98 1354.68 2121.41 1357.25 M2118.79 1354.63 Q2122.9 1350.52 2128.31 1351.62 Q2133.73 1352.68 2139.92 1358.87 Q2146.09 1365.04 2147.17 1370.47 Q2148.25 1375.87 2144.14 1379.98 Q2140.03 1384.09 2134.62 1383.03 Q2129.2 1381.93 2123.03 1375.76 Q2116.84 1369.57 2115.76 1364.17 Q2114.68 1358.74 2118.79 1354.63 Z\" fill=\"#000000\" fill-rule=\"evenodd\" fill-opacity=\"1\" /><path clip-path=\"url(#clip210)\" d=\"M 0 0 M2131.29 1343.01 L2144.27 1330.03 L2147.06 1332.81 L2137.1 1342.76 L2143.09 1348.75 Q2143.57 1347.79 2144.17 1346.95 Q2144.76 1346.1 2145.48 1345.38 Q2149.58 1341.29 2154.21 1341.14 Q2158.84 1340.99 2162.67 1344.82 Q2166.62 1348.77 2166.35 1353.42 Q2166.07 1358.05 2161.61 1362.52 Q2160.07 1364.06 2158.2 1365.4 Q2156.35 1366.72 2154.13 1367.9 L2150.8 1364.58 Q2153.08 1363.91 2155.04 1362.73 Q2157.01 1361.55 2158.76 1359.8 Q2161.59 1356.97 2161.75 1353.83 Q2161.92 1350.68 2159.36 1348.13 Q2156.81 1345.58 2153.67 1345.74 Q2150.53 1345.9 2147.69 1348.74 Q2146.37 1350.06 2145.34 1351.68 Q2144.32 1353.29 2143.57 1355.28 L2131.29 1343.01 Z\" fill=\"#000000\" fill-rule=\"evenodd\" fill-opacity=\"1\" /><path clip-path=\"url(#clip210)\" d=\"M 0 0 M2161.62 1340.5 L2170.45 1331.68 L2173.13 1334.36 L2164.31 1343.19 L2161.62 1340.5 Z\" fill=\"#000000\" fill-rule=\"evenodd\" fill-opacity=\"1\" /><path clip-path=\"url(#clip210)\" d=\"M 0 0 M2184.62 1332.99 L2196.16 1321.45 L2198.94 1324.23 L2183.43 1339.75 L2180.64 1336.97 Q2180.58 1333.14 2180.54 1326.62 Q2180.51 1320.08 2180.4 1318.29 Q2180.2 1314.92 2179.6 1313.07 Q2178.99 1311.19 2177.79 1309.99 Q2175.85 1308.04 2173.24 1308.19 Q2170.66 1308.32 2168.46 1310.52 Q2166.91 1312.07 2165.71 1314.35 Q2164.54 1316.61 2163.67 1319.67 L2160.33 1316.33 Q2161.52 1313.53 2162.85 1311.38 Q2164.18 1309.24 2165.62 1307.8 Q2169.41 1304 2173.57 1303.64 Q2177.73 1303.28 2180.9 1306.46 Q2182.41 1307.96 2183.2 1309.89 Q2183.98 1311.79 2184.33 1315.12 Q2184.39 1316 2184.47 1320.47 Q2184.54 1324.92 2184.62 1332.99 Z\" fill=\"#000000\" fill-rule=\"evenodd\" fill-opacity=\"1\" /><path clip-path=\"url(#clip210)\" d=\"M 0 0 M2202.12 1320.04 L2199.11 1317.03 Q2200.94 1316.38 2202.53 1315.41 Q2204.11 1314.44 2205.34 1313.22 Q2208.62 1309.94 2208.14 1306.03 Q2207.67 1302.09 2203.43 1297.36 Q2203.89 1299.71 2203.18 1301.92 Q2202.48 1304.13 2200.71 1305.9 Q2197.04 1309.57 2192.69 1309.5 Q2188.34 1309.4 2184.49 1305.56 Q2180.72 1301.79 2180.68 1297.29 Q2180.63 1292.79 2184.33 1289.09 Q2188.56 1284.85 2194.05 1285.88 Q2199.53 1286.88 2205.72 1293.07 Q2211.5 1298.85 2212.2 1305.05 Q2212.9 1311.22 2208.27 1315.85 Q2207.03 1317.1 2205.51 1318.13 Q2203.98 1319.16 2202.12 1320.04 M2198.34 1303.1 Q2200.56 1300.88 2200.33 1298.06 Q2200.12 1295.23 2197.47 1292.58 Q2194.83 1289.94 2192 1289.73 Q2189.17 1289.48 2186.94 1291.71 Q2184.72 1293.94 2184.95 1296.78 Q2185.18 1299.6 2187.81 1302.23 Q2190.46 1304.89 2193.28 1305.11 Q2196.11 1305.33 2198.34 1303.1 Z\" fill=\"#000000\" fill-rule=\"evenodd\" fill-opacity=\"1\" /><path clip-path=\"url(#clip210)\" d=\"M 0 0 M220.542 1219.17 Q216.931 1219.17 215.102 1222.73 Q213.297 1226.28 213.297 1233.41 Q213.297 1240.51 215.102 1244.08 Q216.931 1247.62 220.542 1247.62 Q224.176 1247.62 225.982 1244.08 Q227.811 1240.51 227.811 1233.41 Q227.811 1226.28 225.982 1222.73 Q224.176 1219.17 220.542 1219.17 M220.542 1215.47 Q226.352 1215.47 229.408 1220.07 Q232.486 1224.66 232.486 1233.41 Q232.486 1242.13 229.408 1246.74 Q226.352 1251.32 220.542 1251.32 Q214.732 1251.32 211.653 1246.74 Q208.598 1242.13 208.598 1233.41 Q208.598 1224.66 211.653 1220.07 Q214.732 1215.47 220.542 1215.47 Z\" fill=\"#000000\" fill-rule=\"evenodd\" fill-opacity=\"1\" /><path clip-path=\"url(#clip210)\" d=\"M 0 0 M131.538 994.836 L139.177 994.836 L139.177 968.471 L130.867 970.137 L130.867 965.878 L139.13 964.212 L143.806 964.212 L143.806 994.836 L151.445 994.836 L151.445 998.772 L131.538 998.772 L131.538 994.836 Z\" fill=\"#000000\" fill-rule=\"evenodd\" fill-opacity=\"1\" /><path clip-path=\"url(#clip210)\" d=\"M 0 0 M166.515 967.29 Q162.903 967.29 161.075 970.855 Q159.269 974.397 159.269 981.526 Q159.269 988.633 161.075 992.197 Q162.903 995.739 166.515 995.739 Q170.149 995.739 171.954 992.197 Q173.783 988.633 173.783 981.526 Q173.783 974.397 171.954 970.855 Q170.149 967.29 166.515 967.29 M166.515 963.587 Q172.325 963.587 175.38 968.193 Q178.459 972.776 178.459 981.526 Q178.459 990.253 175.38 994.86 Q172.325 999.443 166.515 999.443 Q160.704 999.443 157.626 994.86 Q154.57 990.253 154.57 981.526 Q154.57 972.776 157.626 968.193 Q160.704 963.587 166.515 963.587 Z\" fill=\"#000000\" fill-rule=\"evenodd\" fill-opacity=\"1\" /><path clip-path=\"url(#clip210)\" d=\"M 0 0 M193.528 967.29 Q189.917 967.29 188.089 970.855 Q186.283 974.397 186.283 981.526 Q186.283 988.633 188.089 992.197 Q189.917 995.739 193.528 995.739 Q197.163 995.739 198.968 992.197 Q200.797 988.633 200.797 981.526 Q200.797 974.397 198.968 970.855 Q197.163 967.29 193.528 967.29 M193.528 963.587 Q199.338 963.587 202.394 968.193 Q205.473 972.776 205.473 981.526 Q205.473 990.253 202.394 994.86 Q199.338 999.443 193.528 999.443 Q187.718 999.443 184.639 994.86 Q181.584 990.253 181.584 981.526 Q181.584 972.776 184.639 968.193 Q187.718 963.587 193.528 963.587 Z\" fill=\"#000000\" fill-rule=\"evenodd\" fill-opacity=\"1\" /><path clip-path=\"url(#clip210)\" d=\"M 0 0 M220.542 967.29 Q216.931 967.29 215.102 970.855 Q213.297 974.397 213.297 981.526 Q213.297 988.633 215.102 992.197 Q216.931 995.739 220.542 995.739 Q224.176 995.739 225.982 992.197 Q227.811 988.633 227.811 981.526 Q227.811 974.397 225.982 970.855 Q224.176 967.29 220.542 967.29 M220.542 963.587 Q226.352 963.587 229.408 968.193 Q232.486 972.776 232.486 981.526 Q232.486 990.253 229.408 994.86 Q226.352 999.443 220.542 999.443 Q214.732 999.443 211.653 994.86 Q208.598 990.253 208.598 981.526 Q208.598 972.776 211.653 968.193 Q214.732 963.587 220.542 963.587 Z\" fill=\"#000000\" fill-rule=\"evenodd\" fill-opacity=\"1\" /><path clip-path=\"url(#clip210)\" d=\"M 0 0 M135.126 742.957 L151.445 742.957 L151.445 746.892 L129.501 746.892 L129.501 742.957 Q132.163 740.202 136.746 735.572 Q141.353 730.92 142.533 729.577 Q144.779 727.054 145.658 725.318 Q146.561 723.559 146.561 721.869 Q146.561 719.114 144.617 717.378 Q142.695 715.642 139.593 715.642 Q137.394 715.642 134.941 716.406 Q132.51 717.17 129.732 718.721 L129.732 713.998 Q132.556 712.864 135.01 712.285 Q137.464 711.707 139.501 711.707 Q144.871 711.707 148.066 714.392 Q151.26 717.077 151.26 721.568 Q151.26 723.697 150.45 725.619 Q149.663 727.517 147.556 730.109 Q146.978 730.781 143.876 733.998 Q140.774 737.193 135.126 742.957 Z\" fill=\"#000000\" fill-rule=\"evenodd\" fill-opacity=\"1\" /><path clip-path=\"url(#clip210)\" d=\"M 0 0 M166.515 715.41 Q162.903 715.41 161.075 718.975 Q159.269 722.517 159.269 729.647 Q159.269 736.753 161.075 740.318 Q162.903 743.859 166.515 743.859 Q170.149 743.859 171.954 740.318 Q173.783 736.753 173.783 729.647 Q173.783 722.517 171.954 718.975 Q170.149 715.41 166.515 715.41 M166.515 711.707 Q172.325 711.707 175.38 716.313 Q178.459 720.897 178.459 729.647 Q178.459 738.373 175.38 742.98 Q172.325 747.563 166.515 747.563 Q160.704 747.563 157.626 742.98 Q154.57 738.373 154.57 729.647 Q154.57 720.897 157.626 716.313 Q160.704 711.707 166.515 711.707 Z\" fill=\"#000000\" fill-rule=\"evenodd\" fill-opacity=\"1\" /><path clip-path=\"url(#clip210)\" d=\"M 0 0 M193.528 715.41 Q189.917 715.41 188.089 718.975 Q186.283 722.517 186.283 729.647 Q186.283 736.753 188.089 740.318 Q189.917 743.859 193.528 743.859 Q197.163 743.859 198.968 740.318 Q200.797 736.753 200.797 729.647 Q200.797 722.517 198.968 718.975 Q197.163 715.41 193.528 715.41 M193.528 711.707 Q199.338 711.707 202.394 716.313 Q205.473 720.897 205.473 729.647 Q205.473 738.373 202.394 742.98 Q199.338 747.563 193.528 747.563 Q187.718 747.563 184.639 742.98 Q181.584 738.373 181.584 729.647 Q181.584 720.897 184.639 716.313 Q187.718 711.707 193.528 711.707 Z\" fill=\"#000000\" fill-rule=\"evenodd\" fill-opacity=\"1\" /><path clip-path=\"url(#clip210)\" d=\"M 0 0 M220.542 715.41 Q216.931 715.41 215.102 718.975 Q213.297 722.517 213.297 729.647 Q213.297 736.753 215.102 740.318 Q216.931 743.859 220.542 743.859 Q224.176 743.859 225.982 740.318 Q227.811 736.753 227.811 729.647 Q227.811 722.517 225.982 718.975 Q224.176 715.41 220.542 715.41 M220.542 711.707 Q226.352 711.707 229.408 716.313 Q232.486 720.897 232.486 729.647 Q232.486 738.373 229.408 742.98 Q226.352 747.563 220.542 747.563 Q214.732 747.563 211.653 742.98 Q208.598 738.373 208.598 729.647 Q208.598 720.897 211.653 716.313 Q214.732 711.707 220.542 711.707 Z\" fill=\"#000000\" fill-rule=\"evenodd\" fill-opacity=\"1\" /><path clip-path=\"url(#clip210)\" d=\"M 0 0 M144.316 476.378 Q147.672 477.095 149.547 479.364 Q151.445 481.632 151.445 484.966 Q151.445 490.082 147.927 492.882 Q144.408 495.683 137.927 495.683 Q135.751 495.683 133.436 495.244 Q131.144 494.827 128.691 493.97 L128.691 489.457 Q130.635 490.591 132.95 491.169 Q135.265 491.748 137.788 491.748 Q142.186 491.748 144.478 490.012 Q146.792 488.276 146.792 484.966 Q146.792 481.91 144.64 480.197 Q142.51 478.461 138.691 478.461 L134.663 478.461 L134.663 474.619 L138.876 474.619 Q142.325 474.619 144.154 473.253 Q145.982 471.864 145.982 469.271 Q145.982 466.609 144.084 465.197 Q142.209 463.762 138.691 463.762 Q136.769 463.762 134.57 464.179 Q132.371 464.596 129.732 465.475 L129.732 461.309 Q132.394 460.568 134.709 460.197 Q137.047 459.827 139.107 459.827 Q144.431 459.827 147.533 462.258 Q150.635 464.665 150.635 468.785 Q150.635 471.656 148.992 473.646 Q147.348 475.614 144.316 476.378 Z\" fill=\"#000000\" fill-rule=\"evenodd\" fill-opacity=\"1\" /><path clip-path=\"url(#clip210)\" d=\"M 0 0 M166.515 463.531 Q162.903 463.531 161.075 467.096 Q159.269 470.637 159.269 477.767 Q159.269 484.873 161.075 488.438 Q162.903 491.98 166.515 491.98 Q170.149 491.98 171.954 488.438 Q173.783 484.873 173.783 477.767 Q173.783 470.637 171.954 467.096 Q170.149 463.531 166.515 463.531 M166.515 459.827 Q172.325 459.827 175.38 464.434 Q178.459 469.017 178.459 477.767 Q178.459 486.494 175.38 491.1 Q172.325 495.683 166.515 495.683 Q160.704 495.683 157.626 491.1 Q154.57 486.494 154.57 477.767 Q154.57 469.017 157.626 464.434 Q160.704 459.827 166.515 459.827 Z\" fill=\"#000000\" fill-rule=\"evenodd\" fill-opacity=\"1\" /><path clip-path=\"url(#clip210)\" d=\"M 0 0 M193.528 463.531 Q189.917 463.531 188.089 467.096 Q186.283 470.637 186.283 477.767 Q186.283 484.873 188.089 488.438 Q189.917 491.98 193.528 491.98 Q197.163 491.98 198.968 488.438 Q200.797 484.873 200.797 477.767 Q200.797 470.637 198.968 467.096 Q197.163 463.531 193.528 463.531 M193.528 459.827 Q199.338 459.827 202.394 464.434 Q205.473 469.017 205.473 477.767 Q205.473 486.494 202.394 491.1 Q199.338 495.683 193.528 495.683 Q187.718 495.683 184.639 491.1 Q181.584 486.494 181.584 477.767 Q181.584 469.017 184.639 464.434 Q187.718 459.827 193.528 459.827 Z\" fill=\"#000000\" fill-rule=\"evenodd\" fill-opacity=\"1\" /><path clip-path=\"url(#clip210)\" d=\"M 0 0 M220.542 463.531 Q216.931 463.531 215.102 467.096 Q213.297 470.637 213.297 477.767 Q213.297 484.873 215.102 488.438 Q216.931 491.98 220.542 491.98 Q224.176 491.98 225.982 488.438 Q227.811 484.873 227.811 477.767 Q227.811 470.637 225.982 467.096 Q224.176 463.531 220.542 463.531 M220.542 459.827 Q226.352 459.827 229.408 464.434 Q232.486 469.017 232.486 477.767 Q232.486 486.494 229.408 491.1 Q226.352 495.683 220.542 495.683 Q214.732 495.683 211.653 491.1 Q208.598 486.494 208.598 477.767 Q208.598 469.017 211.653 464.434 Q214.732 459.827 220.542 459.827 Z\" fill=\"#000000\" fill-rule=\"evenodd\" fill-opacity=\"1\" /><path clip-path=\"url(#clip210)\" d=\"M 0 0 M141.862 212.646 L130.056 231.095 L141.862 231.095 L141.862 212.646 M140.635 208.572 L146.515 208.572 L146.515 231.095 L151.445 231.095 L151.445 234.984 L146.515 234.984 L146.515 243.132 L141.862 243.132 L141.862 234.984 L126.26 234.984 L126.26 230.47 L140.635 208.572 Z\" fill=\"#000000\" fill-rule=\"evenodd\" fill-opacity=\"1\" /><path clip-path=\"url(#clip210)\" d=\"M 0 0 M166.515 211.651 Q162.903 211.651 161.075 215.216 Q159.269 218.757 159.269 225.887 Q159.269 232.993 161.075 236.558 Q162.903 240.1 166.515 240.1 Q170.149 240.1 171.954 236.558 Q173.783 232.993 173.783 225.887 Q173.783 218.757 171.954 215.216 Q170.149 211.651 166.515 211.651 M166.515 207.947 Q172.325 207.947 175.38 212.554 Q178.459 217.137 178.459 225.887 Q178.459 234.614 175.38 239.22 Q172.325 243.804 166.515 243.804 Q160.704 243.804 157.626 239.22 Q154.57 234.614 154.57 225.887 Q154.57 217.137 157.626 212.554 Q160.704 207.947 166.515 207.947 Z\" fill=\"#000000\" fill-rule=\"evenodd\" fill-opacity=\"1\" /><path clip-path=\"url(#clip210)\" d=\"M 0 0 M193.528 211.651 Q189.917 211.651 188.089 215.216 Q186.283 218.757 186.283 225.887 Q186.283 232.993 188.089 236.558 Q189.917 240.1 193.528 240.1 Q197.163 240.1 198.968 236.558 Q200.797 232.993 200.797 225.887 Q200.797 218.757 198.968 215.216 Q197.163 211.651 193.528 211.651 M193.528 207.947 Q199.338 207.947 202.394 212.554 Q205.473 217.137 205.473 225.887 Q205.473 234.614 202.394 239.22 Q199.338 243.804 193.528 243.804 Q187.718 243.804 184.639 239.22 Q181.584 234.614 181.584 225.887 Q181.584 217.137 184.639 212.554 Q187.718 207.947 193.528 207.947 Z\" fill=\"#000000\" fill-rule=\"evenodd\" fill-opacity=\"1\" /><path clip-path=\"url(#clip210)\" d=\"M 0 0 M220.542 211.651 Q216.931 211.651 215.102 215.216 Q213.297 218.757 213.297 225.887 Q213.297 232.993 215.102 236.558 Q216.931 240.1 220.542 240.1 Q224.176 240.1 225.982 236.558 Q227.811 232.993 227.811 225.887 Q227.811 218.757 225.982 215.216 Q224.176 211.651 220.542 211.651 M220.542 207.947 Q226.352 207.947 229.408 212.554 Q232.486 217.137 232.486 225.887 Q232.486 234.614 229.408 239.22 Q226.352 243.804 220.542 243.804 Q214.732 243.804 211.653 239.22 Q208.598 234.614 208.598 225.887 Q208.598 217.137 211.653 212.554 Q214.732 207.947 220.542 207.947 Z\" fill=\"#000000\" fill-rule=\"evenodd\" fill-opacity=\"1\" /><path clip-path=\"url(#clip210)\" d=\"M 0 0 M999.284 12.096 L1010.3 12.096 L1037.12 62.6918 L1037.12 12.096 L1045.06 12.096 L1045.06 72.576 L1034.04 72.576 L1007.22 21.9802 L1007.22 72.576 L999.284 72.576 L999.284 12.096 Z\" fill=\"#000000\" fill-rule=\"evenodd\" fill-opacity=\"1\" /><path clip-path=\"url(#clip210)\" d=\"M 0 0 M1091.69 48.0275 L1091.69 51.6733 L1057.41 51.6733 Q1057.9 59.3701 1062.03 63.421 Q1066.21 67.4314 1073.62 67.4314 Q1077.91 67.4314 1081.92 66.3781 Q1085.97 65.3249 1089.94 63.2184 L1089.94 70.267 Q1085.93 71.9684 1081.72 72.8596 Q1077.51 73.7508 1073.17 73.7508 Q1062.32 73.7508 1055.96 67.4314 Q1049.64 61.1119 1049.64 50.3365 Q1049.64 39.1965 1055.63 32.6746 Q1061.67 26.1121 1071.88 26.1121 Q1081.03 26.1121 1086.34 32.0264 Q1091.69 37.9003 1091.69 48.0275 M1084.23 45.84 Q1084.15 39.7232 1080.79 36.0774 Q1077.47 32.4315 1071.96 32.4315 Q1065.72 32.4315 1061.95 35.9558 Q1058.22 39.4801 1057.66 45.8805 L1084.23 45.84 Z\" fill=\"#000000\" fill-rule=\"evenodd\" fill-opacity=\"1\" /><path clip-path=\"url(#clip210)\" d=\"M 0 0 M1095.17 27.2059 L1102.62 27.2059 L1111.94 62.6108 L1121.22 27.2059 L1130.01 27.2059 L1139.32 62.6108 L1148.6 27.2059 L1156.05 27.2059 L1144.19 72.576 L1135.39 72.576 L1125.63 35.3887 L1115.83 72.576 L1107.04 72.576 L1095.17 27.2059 Z\" fill=\"#000000\" fill-rule=\"evenodd\" fill-opacity=\"1\" /><path clip-path=\"url(#clip210)\" d=\"M 0 0 M1198.75 18.8205 L1198.75 65.8515 L1208.63 65.8515 Q1221.15 65.8515 1226.95 60.1802 Q1232.78 54.509 1232.78 42.2752 Q1232.78 30.1225 1226.95 24.4918 Q1221.15 18.8205 1208.63 18.8205 L1198.75 18.8205 M1190.57 12.096 L1207.38 12.096 Q1224.96 12.096 1233.18 19.4281 Q1241.41 26.7198 1241.41 42.2752 Q1241.41 57.9117 1233.14 65.2439 Q1224.88 72.576 1207.38 72.576 L1190.57 72.576 L1190.57 12.096 Z\" fill=\"#000000\" fill-rule=\"evenodd\" fill-opacity=\"1\" /><path clip-path=\"url(#clip210)\" d=\"M 0 0 M1269.84 49.7694 Q1260.81 49.7694 1257.33 51.8354 Q1253.84 53.9013 1253.84 58.8839 Q1253.84 62.8538 1256.44 65.2034 Q1259.07 67.5124 1263.57 67.5124 Q1269.76 67.5124 1273.49 63.1374 Q1277.26 58.7219 1277.26 51.4303 L1277.26 49.7694 L1269.84 49.7694 M1284.71 46.6907 L1284.71 72.576 L1277.26 72.576 L1277.26 65.6895 Q1274.71 69.8214 1270.9 71.8063 Q1267.09 73.7508 1261.58 73.7508 Q1254.61 73.7508 1250.48 69.8619 Q1246.39 65.9325 1246.39 59.3701 Q1246.39 51.7138 1251.49 47.825 Q1256.64 43.9361 1266.81 43.9361 L1277.26 43.9361 L1277.26 43.2069 Q1277.26 38.0623 1273.85 35.2672 Q1270.49 32.4315 1264.38 32.4315 Q1260.49 32.4315 1256.8 33.3632 Q1253.11 34.295 1249.71 36.1584 L1249.71 29.2718 Q1253.8 27.692 1257.65 26.9223 Q1261.5 26.1121 1265.15 26.1121 Q1274.99 26.1121 1279.85 31.2163 Q1284.71 36.3204 1284.71 46.6907 Z\" fill=\"#000000\" fill-rule=\"evenodd\" fill-opacity=\"1\" /><path clip-path=\"url(#clip210)\" d=\"M 0 0 M1292.53 27.2059 L1299.98 27.2059 L1299.98 72.576 L1292.53 72.576 L1292.53 27.2059 M1292.53 9.54393 L1299.98 9.54393 L1299.98 18.9825 L1292.53 18.9825 L1292.53 9.54393 Z\" fill=\"#000000\" fill-rule=\"evenodd\" fill-opacity=\"1\" /><path clip-path=\"url(#clip210)\" d=\"M 0 0 M1307.8 9.54393 L1315.25 9.54393 L1315.25 72.576 L1307.8 72.576 L1307.8 9.54393 Z\" fill=\"#000000\" fill-rule=\"evenodd\" fill-opacity=\"1\" /><path clip-path=\"url(#clip210)\" d=\"M 0 0 M1341.95 76.7889 Q1338.79 84.8907 1335.79 87.3618 Q1332.8 89.8329 1327.77 89.8329 L1321.82 89.8329 L1321.82 83.5945 L1326.19 83.5945 Q1329.27 83.5945 1330.97 82.1361 Q1332.67 80.6778 1334.74 75.2496 L1336.08 71.8468 L1317.73 27.2059 L1325.63 27.2059 L1339.8 62.6918 L1353.98 27.2059 L1361.88 27.2059 L1341.95 76.7889 Z\" fill=\"#000000\" fill-rule=\"evenodd\" fill-opacity=\"1\" /><path clip-path=\"url(#clip210)\" d=\"M 0 0 M1441.68 16.7545 L1441.68 25.383 Q1437.55 21.5346 1432.85 19.6307 Q1428.19 17.7268 1422.93 17.7268 Q1412.56 17.7268 1407.05 24.0867 Q1401.54 30.4061 1401.54 42.3968 Q1401.54 54.3469 1407.05 60.7069 Q1412.56 67.0263 1422.93 67.0263 Q1428.19 67.0263 1432.85 65.1223 Q1437.55 63.2184 1441.68 59.3701 L1441.68 67.9175 Q1437.39 70.8341 1432.57 72.2924 Q1427.79 73.7508 1422.44 73.7508 Q1408.71 73.7508 1400.81 65.3654 Q1392.91 56.9395 1392.91 42.3968 Q1392.91 27.8135 1400.81 19.4281 Q1408.71 11.0023 1422.44 11.0023 Q1427.87 11.0023 1432.65 12.4606 Q1437.47 13.8784 1441.68 16.7545 Z\" fill=\"#000000\" fill-rule=\"evenodd\" fill-opacity=\"1\" /><path clip-path=\"url(#clip210)\" d=\"M 0 0 M1470.12 49.7694 Q1461.09 49.7694 1457.6 51.8354 Q1454.12 53.9013 1454.12 58.8839 Q1454.12 62.8538 1456.71 65.2034 Q1459.35 67.5124 1463.84 67.5124 Q1470.04 67.5124 1473.77 63.1374 Q1477.53 58.7219 1477.53 51.4303 L1477.53 49.7694 L1470.12 49.7694 M1484.99 46.6907 L1484.99 72.576 L1477.53 72.576 L1477.53 65.6895 Q1474.98 69.8214 1471.17 71.8063 Q1467.37 73.7508 1461.86 73.7508 Q1454.89 73.7508 1450.76 69.8619 Q1446.67 65.9325 1446.67 59.3701 Q1446.67 51.7138 1451.77 47.825 Q1456.91 43.9361 1467.08 43.9361 L1477.53 43.9361 L1477.53 43.2069 Q1477.53 38.0623 1474.13 35.2672 Q1470.77 32.4315 1464.65 32.4315 Q1460.76 32.4315 1457.08 33.3632 Q1453.39 34.295 1449.99 36.1584 L1449.99 29.2718 Q1454.08 27.692 1457.93 26.9223 Q1461.78 26.1121 1465.42 26.1121 Q1475.27 26.1121 1480.13 31.2163 Q1484.99 36.3204 1484.99 46.6907 Z\" fill=\"#000000\" fill-rule=\"evenodd\" fill-opacity=\"1\" /><path clip-path=\"url(#clip210)\" d=\"M 0 0 M1521.73 28.5427 L1521.73 35.5912 Q1518.57 33.9709 1515.17 33.1607 Q1511.76 32.3505 1508.12 32.3505 Q1502.57 32.3505 1499.77 34.0519 Q1497.02 35.7533 1497.02 39.156 Q1497.02 41.7486 1499 43.2475 Q1500.99 44.7058 1506.98 46.0426 L1509.54 46.6097 Q1517.48 48.3111 1520.8 51.4303 Q1524.16 54.509 1524.16 60.0587 Q1524.16 66.3781 1519.14 70.0644 Q1514.15 73.7508 1505.4 73.7508 Q1501.76 73.7508 1497.79 73.0216 Q1493.86 72.3329 1489.48 70.9151 L1489.48 63.2184 Q1493.62 65.3654 1497.63 66.4591 Q1501.64 67.5124 1505.57 67.5124 Q1510.83 67.5124 1513.67 65.73 Q1516.5 63.9071 1516.5 60.6258 Q1516.5 57.5877 1514.44 55.9673 Q1512.41 54.3469 1505.49 52.8481 L1502.89 52.2405 Q1495.97 50.7821 1492.89 47.7845 Q1489.81 44.7463 1489.81 39.4801 Q1489.81 33.0797 1494.35 29.5959 Q1498.88 26.1121 1507.23 26.1121 Q1511.36 26.1121 1515 26.7198 Q1518.65 27.3274 1521.73 28.5427 Z\" fill=\"#000000\" fill-rule=\"evenodd\" fill-opacity=\"1\" /><path clip-path=\"url(#clip210)\" d=\"M 0 0 M1570.79 48.0275 L1570.79 51.6733 L1536.52 51.6733 Q1537 59.3701 1541.13 63.421 Q1545.31 67.4314 1552.72 67.4314 Q1557.01 67.4314 1561.02 66.3781 Q1565.07 65.3249 1569.04 63.2184 L1569.04 70.267 Q1565.03 71.9684 1560.82 72.8596 Q1556.61 73.7508 1552.27 73.7508 Q1541.42 73.7508 1535.06 67.4314 Q1528.74 61.1119 1528.74 50.3365 Q1528.74 39.1965 1534.73 32.6746 Q1540.77 26.1121 1550.98 26.1121 Q1560.13 26.1121 1565.44 32.0264 Q1570.79 37.9003 1570.79 48.0275 M1563.33 45.84 Q1563.25 39.7232 1559.89 36.0774 Q1556.57 32.4315 1551.06 32.4315 Q1544.82 32.4315 1541.05 35.9558 Q1537.33 39.4801 1536.76 45.8805 L1563.33 45.84 Z\" fill=\"#000000\" fill-rule=\"evenodd\" fill-opacity=\"1\" /><path clip-path=\"url(#clip210)\" d=\"M 0 0 M1607.53 28.5427 L1607.53 35.5912 Q1604.37 33.9709 1600.97 33.1607 Q1597.56 32.3505 1593.92 32.3505 Q1588.37 32.3505 1585.57 34.0519 Q1582.82 35.7533 1582.82 39.156 Q1582.82 41.7486 1584.8 43.2475 Q1586.79 44.7058 1592.78 46.0426 L1595.33 46.6097 Q1603.27 48.3111 1606.6 51.4303 Q1609.96 54.509 1609.96 60.0587 Q1609.96 66.3781 1604.93 70.0644 Q1599.95 73.7508 1591.2 73.7508 Q1587.56 73.7508 1583.59 73.0216 Q1579.66 72.3329 1575.28 70.9151 L1575.28 63.2184 Q1579.41 65.3654 1583.42 66.4591 Q1587.44 67.5124 1591.36 67.5124 Q1596.63 67.5124 1599.47 65.73 Q1602.3 63.9071 1602.3 60.6258 Q1602.3 57.5877 1600.24 55.9673 Q1598.21 54.3469 1591.28 52.8481 L1588.69 52.2405 Q1581.76 50.7821 1578.69 47.7845 Q1575.61 44.7463 1575.61 39.4801 Q1575.61 33.0797 1580.14 29.5959 Q1584.68 26.1121 1593.03 26.1121 Q1597.16 26.1121 1600.8 26.7198 Q1604.45 27.3274 1607.53 28.5427 Z\" fill=\"#000000\" fill-rule=\"evenodd\" fill-opacity=\"1\" /><path clip-path=\"url(#clip210)\" d=\"M 0 0 M1204.52 102.816 L1212.71 102.816 L1212.71 163.296 L1204.52 163.296 L1204.52 102.816 Z\" fill=\"#000000\" fill-rule=\"evenodd\" fill-opacity=\"1\" /><path clip-path=\"url(#clip210)\" d=\"M 0 0 M1220.52 100.264 L1227.98 100.264 L1227.98 163.296 L1220.52 163.296 L1220.52 100.264 Z\" fill=\"#000000\" fill-rule=\"evenodd\" fill-opacity=\"1\" /><path clip-path=\"url(#clip210)\" d=\"M 0 0 M1235.8 100.264 L1243.25 100.264 L1243.25 163.296 L1235.8 163.296 L1235.8 100.264 Z\" fill=\"#000000\" fill-rule=\"evenodd\" fill-opacity=\"1\" /><path clip-path=\"url(#clip210)\" d=\"M 0 0 M1251.07 117.926 L1258.52 117.926 L1258.52 163.296 L1251.07 163.296 L1251.07 117.926 M1251.07 100.264 L1258.52 100.264 L1258.52 109.703 L1251.07 109.703 L1251.07 100.264 Z\" fill=\"#000000\" fill-rule=\"evenodd\" fill-opacity=\"1\" /><path clip-path=\"url(#clip210)\" d=\"M 0 0 M1304.05 135.912 L1304.05 163.296 L1296.6 163.296 L1296.6 136.155 Q1296.6 129.714 1294.09 126.514 Q1291.58 123.314 1286.55 123.314 Q1280.52 123.314 1277.03 127.162 Q1273.55 131.01 1273.55 137.654 L1273.55 163.296 L1266.06 163.296 L1266.06 117.926 L1273.55 117.926 L1273.55 124.974 Q1276.22 120.883 1279.83 118.858 Q1283.48 116.832 1288.22 116.832 Q1296.03 116.832 1300.04 121.693 Q1304.05 126.514 1304.05 135.912 Z\" fill=\"#000000\" fill-rule=\"evenodd\" fill-opacity=\"1\" /><path clip-path=\"url(#clip210)\" d=\"M 0 0 M1329.45 123.152 Q1323.46 123.152 1319.97 127.851 Q1316.49 132.509 1316.49 140.651 Q1316.49 148.794 1319.93 153.493 Q1323.42 158.151 1329.45 158.151 Q1335.41 158.151 1338.89 153.452 Q1342.38 148.753 1342.38 140.651 Q1342.38 132.59 1338.89 127.891 Q1335.41 123.152 1329.45 123.152 M1329.45 116.832 Q1339.18 116.832 1344.73 123.152 Q1350.27 129.471 1350.27 140.651 Q1350.27 151.791 1344.73 158.151 Q1339.18 164.471 1329.45 164.471 Q1319.69 164.471 1314.14 158.151 Q1308.63 151.791 1308.63 140.651 Q1308.63 129.471 1314.14 123.152 Q1319.69 116.832 1329.45 116.832 Z\" fill=\"#000000\" fill-rule=\"evenodd\" fill-opacity=\"1\" /><path clip-path=\"url(#clip210)\" d=\"M 0 0 M1358.09 117.926 L1365.55 117.926 L1365.55 163.296 L1358.09 163.296 L1358.09 117.926 M1358.09 100.264 L1365.55 100.264 L1365.55 109.703 L1358.09 109.703 L1358.09 100.264 Z\" fill=\"#000000\" fill-rule=\"evenodd\" fill-opacity=\"1\" /><path clip-path=\"url(#clip210)\" d=\"M 0 0 M1402.29 119.263 L1402.29 126.311 Q1399.13 124.691 1395.73 123.881 Q1392.32 123.071 1388.68 123.071 Q1383.13 123.071 1380.33 124.772 Q1377.58 126.473 1377.58 129.876 Q1377.58 132.469 1379.56 133.967 Q1381.55 135.426 1387.54 136.763 L1390.1 137.33 Q1398.04 139.031 1401.36 142.15 Q1404.72 145.229 1404.72 150.779 Q1404.72 157.098 1399.7 160.784 Q1394.71 164.471 1385.96 164.471 Q1382.32 164.471 1378.35 163.742 Q1374.42 163.053 1370.04 161.635 L1370.04 153.938 Q1374.18 156.085 1378.19 157.179 Q1382.2 158.232 1386.13 158.232 Q1391.39 158.232 1394.23 156.45 Q1397.06 154.627 1397.06 151.346 Q1397.06 148.308 1395 146.687 Q1392.97 145.067 1386.04 143.568 L1383.45 142.96 Q1376.52 141.502 1373.45 138.504 Q1370.37 135.466 1370.37 130.2 Q1370.37 123.8 1374.9 120.316 Q1379.44 116.832 1387.79 116.832 Q1391.92 116.832 1395.56 117.44 Q1399.21 118.047 1402.29 119.263 Z\" fill=\"#000000\" fill-rule=\"evenodd\" fill-opacity=\"1\" /><path clip-path=\"url(#clip210)\" d=\"M 0 0 M1243.75 1508.28 L1243.75 1545.24 L1251.52 1545.24 Q1261.35 1545.24 1265.9 1540.78 Q1270.49 1536.32 1270.49 1526.71 Q1270.49 1517.16 1265.9 1512.74 Q1261.35 1508.28 1251.52 1508.28 L1243.75 1508.28 M1237.32 1503 L1250.53 1503 Q1264.34 1503 1270.8 1508.76 Q1277.26 1514.49 1277.26 1526.71 Q1277.26 1539 1270.77 1544.76 Q1264.28 1550.52 1250.53 1550.52 L1237.32 1550.52 L1237.32 1503 Z\" fill=\"#000000\" fill-rule=\"evenodd\" fill-opacity=\"1\" /><path clip-path=\"url(#clip210)\" d=\"M 0 0 M1299.61 1532.6 Q1292.51 1532.6 1289.77 1534.22 Q1287.04 1535.85 1287.04 1539.76 Q1287.04 1542.88 1289.07 1544.73 Q1291.14 1546.54 1294.67 1546.54 Q1299.54 1546.54 1302.47 1543.1 Q1305.43 1539.63 1305.43 1533.91 L1305.43 1532.6 L1299.61 1532.6 M1311.29 1530.18 L1311.29 1550.52 L1305.43 1550.52 L1305.43 1545.11 Q1303.43 1548.36 1300.44 1549.92 Q1297.44 1551.44 1293.12 1551.44 Q1287.64 1551.44 1284.39 1548.39 Q1281.18 1545.3 1281.18 1540.14 Q1281.18 1534.13 1285.19 1531.07 Q1289.23 1528.02 1297.22 1528.02 L1305.43 1528.02 L1305.43 1527.44 Q1305.43 1523.4 1302.76 1521.21 Q1300.12 1518.98 1295.31 1518.98 Q1292.26 1518.98 1289.36 1519.71 Q1286.46 1520.44 1283.79 1521.91 L1283.79 1516.5 Q1287 1515.25 1290.03 1514.65 Q1293.05 1514.01 1295.92 1514.01 Q1303.65 1514.01 1307.47 1518.02 Q1311.29 1522.03 1311.29 1530.18 Z\" fill=\"#000000\" fill-rule=\"evenodd\" fill-opacity=\"1\" /><path clip-path=\"url(#clip210)\" d=\"M 0 0 M1323.22 1504.75 L1323.22 1514.87 L1335.29 1514.87 L1335.29 1519.42 L1323.22 1519.42 L1323.22 1538.78 Q1323.22 1543.14 1324.4 1544.38 Q1325.61 1545.62 1329.27 1545.62 L1335.29 1545.62 L1335.29 1550.52 L1329.27 1550.52 Q1322.49 1550.52 1319.91 1548.01 Q1317.34 1545.46 1317.34 1538.78 L1317.34 1519.42 L1313.04 1519.42 L1313.04 1514.87 L1317.34 1514.87 L1317.34 1504.75 L1323.22 1504.75 Z\" fill=\"#000000\" fill-rule=\"evenodd\" fill-opacity=\"1\" /><path clip-path=\"url(#clip210)\" d=\"M 0 0 M1371.92 1531.23 L1371.92 1534.1 L1345 1534.1 Q1345.38 1540.14 1348.62 1543.33 Q1351.9 1546.48 1357.73 1546.48 Q1361.1 1546.48 1364.25 1545.65 Q1367.43 1544.82 1370.55 1543.17 L1370.55 1548.71 Q1367.4 1550.04 1364.09 1550.74 Q1360.78 1551.44 1357.38 1551.44 Q1348.85 1551.44 1343.85 1546.48 Q1338.88 1541.51 1338.88 1533.05 Q1338.88 1524.29 1343.6 1519.17 Q1348.34 1514.01 1356.36 1514.01 Q1363.55 1514.01 1367.72 1518.66 Q1371.92 1523.27 1371.92 1531.23 M1366.07 1529.51 Q1366 1524.71 1363.36 1521.84 Q1360.75 1518.98 1356.42 1518.98 Q1351.52 1518.98 1348.56 1521.75 Q1345.63 1524.52 1345.19 1529.54 L1366.07 1529.51 Z\" fill=\"#000000\" fill-rule=\"evenodd\" fill-opacity=\"1\" /><path clip-path=\"url(#clip210)\" d=\"M 0 0 M40.4842 882.992 L40.4842 874.334 L80.238 853.264 L40.4842 853.264 L40.4842 847.025 L88.0042 847.025 L88.0042 855.683 L48.2503 876.753 L88.0042 876.753 L88.0042 882.992 L40.4842 882.992 Z\" fill=\"#000000\" fill-rule=\"evenodd\" fill-opacity=\"1\" /><path clip-path=\"url(#clip210)\" d=\"M 0 0 M68.7161 810.391 L71.5806 810.391 L71.5806 837.318 Q77.6281 836.936 80.8109 833.689 Q83.9619 830.411 83.9619 824.586 Q83.9619 821.212 83.1344 818.061 Q82.3069 814.879 80.6518 811.759 L86.1899 811.759 Q87.5267 814.91 88.227 818.221 Q88.9272 821.531 88.9272 824.936 Q88.9272 833.466 83.9619 838.464 Q78.9967 843.429 70.5303 843.429 Q61.7774 843.429 56.6531 838.718 Q51.4968 833.976 51.4968 825.955 Q51.4968 818.762 56.1438 814.592 Q60.7589 810.391 68.7161 810.391 M66.9973 816.247 Q62.1912 816.311 59.3266 818.953 Q56.4621 821.563 56.4621 825.891 Q56.4621 830.793 59.2312 833.753 Q62.0002 836.681 67.0292 837.127 L66.9973 816.247 Z\" fill=\"#000000\" fill-rule=\"evenodd\" fill-opacity=\"1\" /><path clip-path=\"url(#clip210)\" d=\"M 0 0 M52.3562 807.654 L52.3562 801.797 L80.1743 794.477 L52.3562 787.188 L52.3562 780.281 L80.1743 772.96 L52.3562 765.672 L52.3562 759.815 L88.0042 769.141 L88.0042 776.048 L58.7856 783.718 L88.0042 791.421 L88.0042 798.328 L52.3562 807.654 Z\" fill=\"#000000\" fill-rule=\"evenodd\" fill-opacity=\"1\" /><path clip-path=\"url(#clip210)\" d=\"M 0 0 M44.1444 697.113 L50.9239 697.113 Q47.9002 700.36 46.4043 704.052 Q44.9083 707.712 44.9083 711.85 Q44.9083 719.998 49.9054 724.326 Q54.8707 728.655 64.2919 728.655 Q73.6813 728.655 78.6784 724.326 Q83.6436 719.998 83.6436 711.85 Q83.6436 707.712 82.1477 704.052 Q80.6518 700.36 77.6281 697.113 L84.3439 697.113 Q86.6355 700.487 87.7814 704.274 Q88.9272 708.03 88.9272 712.232 Q88.9272 723.021 82.3387 729.228 Q75.7183 735.435 64.2919 735.435 Q52.8336 735.435 46.2451 729.228 Q39.6248 723.021 39.6248 712.232 Q39.6248 707.967 40.7706 704.211 Q41.8846 700.423 44.1444 697.113 Z\" fill=\"#000000\" fill-rule=\"evenodd\" fill-opacity=\"1\" /><path clip-path=\"url(#clip210)\" d=\"M 0 0 M70.0847 674.769 Q70.0847 681.867 71.7079 684.604 Q73.3312 687.342 77.2461 687.342 Q80.3653 687.342 82.2114 685.305 Q84.0256 683.236 84.0256 679.703 Q84.0256 674.833 80.5881 671.905 Q77.1188 668.945 71.3897 668.945 L70.0847 668.945 L70.0847 674.769 M67.6657 663.088 L88.0042 663.088 L88.0042 668.945 L82.5933 668.945 Q85.8398 670.95 87.3994 673.942 Q88.9272 676.934 88.9272 681.262 Q88.9272 686.737 85.8716 689.983 Q82.7843 693.198 77.6281 693.198 Q71.6125 693.198 68.5569 689.188 Q65.5014 685.146 65.5014 677.157 L65.5014 668.945 L64.9285 668.945 Q60.8862 668.945 58.6901 671.618 Q56.4621 674.26 56.4621 679.066 Q56.4621 682.122 57.1941 685.018 Q57.9262 687.915 59.3903 690.588 L53.9795 690.588 Q52.7381 687.374 52.1334 684.35 Q51.4968 681.326 51.4968 678.462 Q51.4968 670.727 55.5072 666.908 Q59.5176 663.088 67.6657 663.088 Z\" fill=\"#000000\" fill-rule=\"evenodd\" fill-opacity=\"1\" /><path clip-path=\"url(#clip210)\" d=\"M 0 0 M53.4065 634.22 L58.9447 634.22 Q57.6716 636.702 57.035 639.376 Q56.3984 642.05 56.3984 644.914 Q56.3984 649.275 57.7352 651.471 Q59.072 653.635 61.7456 653.635 Q63.7826 653.635 64.9603 652.076 Q66.1061 650.516 67.1565 645.805 L67.6021 643.8 Q68.9389 637.562 71.3897 634.952 Q73.8086 632.31 78.1691 632.31 Q83.1344 632.31 86.0308 636.257 Q88.9272 640.172 88.9272 647.047 Q88.9272 649.911 88.3543 653.031 Q87.8132 656.118 86.6992 659.555 L80.6518 659.555 Q82.3387 656.309 83.198 653.158 Q84.0256 650.007 84.0256 646.919 Q84.0256 642.782 82.6251 640.554 Q81.1929 638.326 78.6147 638.326 Q76.2276 638.326 74.9545 639.949 Q73.6813 641.54 72.5037 646.983 L72.0262 649.02 Q70.8804 654.463 68.5251 656.882 Q66.138 659.301 62.0002 659.301 Q56.9713 659.301 54.2341 655.736 Q51.4968 652.171 51.4968 645.614 Q51.4968 642.368 51.9743 639.503 Q52.4517 636.639 53.4065 634.22 Z\" fill=\"#000000\" fill-rule=\"evenodd\" fill-opacity=\"1\" /><path clip-path=\"url(#clip210)\" d=\"M 0 0 M68.7161 595.676 L71.5806 595.676 L71.5806 622.602 Q77.6281 622.221 80.8109 618.974 Q83.9619 615.696 83.9619 609.871 Q83.9619 606.497 83.1344 603.346 Q82.3069 600.163 80.6518 597.044 L86.1899 597.044 Q87.5267 600.195 88.227 603.505 Q88.9272 606.815 88.9272 610.221 Q88.9272 618.751 83.9619 623.748 Q78.9967 628.714 70.5303 628.714 Q61.7774 628.714 56.6531 624.003 Q51.4968 619.26 51.4968 611.24 Q51.4968 604.046 56.1438 599.877 Q60.7589 595.676 68.7161 595.676 M66.9973 601.532 Q62.1912 601.596 59.3266 604.237 Q56.4621 606.847 56.4621 611.176 Q56.4621 616.078 59.2312 619.038 Q62.0002 621.966 67.0292 622.411 L66.9973 601.532 Z\" fill=\"#000000\" fill-rule=\"evenodd\" fill-opacity=\"1\" /><path clip-path=\"url(#clip210)\" d=\"M 0 0 M53.4065 566.807 L58.9447 566.807 Q57.6716 569.29 57.035 571.963 Q56.3984 574.637 56.3984 577.501 Q56.3984 581.862 57.7352 584.058 Q59.072 586.222 61.7456 586.222 Q63.7826 586.222 64.9603 584.663 Q66.1061 583.103 67.1565 578.393 L67.6021 576.387 Q68.9389 570.149 71.3897 567.539 Q73.8086 564.897 78.1691 564.897 Q83.1344 564.897 86.0308 568.844 Q88.9272 572.759 88.9272 579.634 Q88.9272 582.498 88.3543 585.618 Q87.8132 588.705 86.6992 592.143 L80.6518 592.143 Q82.3387 588.896 83.198 585.745 Q84.0256 582.594 84.0256 579.507 Q84.0256 575.369 82.6251 573.141 Q81.1929 570.913 78.6147 570.913 Q76.2276 570.913 74.9545 572.536 Q73.6813 574.128 72.5037 579.57 L72.0262 581.607 Q70.8804 587.05 68.5251 589.469 Q66.138 591.888 62.0002 591.888 Q56.9713 591.888 54.2341 588.323 Q51.4968 584.758 51.4968 578.202 Q51.4968 574.955 51.9743 572.091 Q52.4517 569.226 53.4065 566.807 Z\" fill=\"#000000\" fill-rule=\"evenodd\" fill-opacity=\"1\" /><path clip-path=\"url(#clip212)\" d=\"\n",
       "M371.785 1233.37 L371.785 1233.37 L383.284 1233.37 L383.284 1233.37 L371.785 1233.37 L371.785 1233.37  Z\n",
       "  \" fill=\"#009af9\" fill-rule=\"evenodd\" fill-opacity=\"1\"/>\n",
       "<polyline clip-path=\"url(#clip212)\" style=\"stroke:#000000; stroke-width:4; stroke-opacity:1; fill:none\" points=\"\n",
       "  371.785,1233.37 371.785,1233.37 383.284,1233.37 371.785,1233.37 \n",
       "  \"/>\n",
       "<path clip-path=\"url(#clip212)\" d=\"\n",
       "M386.158 1233.37 L386.158 1233.37 L397.657 1233.37 L397.657 1233.37 L386.158 1233.37 L386.158 1233.37  Z\n",
       "  \" fill=\"#009af9\" fill-rule=\"evenodd\" fill-opacity=\"1\"/>\n",
       "<polyline clip-path=\"url(#clip212)\" style=\"stroke:#000000; stroke-width:4; stroke-opacity:1; fill:none\" points=\"\n",
       "  386.158,1233.37 386.158,1233.37 397.657,1233.37 386.158,1233.37 \n",
       "  \"/>\n",
       "<path clip-path=\"url(#clip212)\" d=\"\n",
       "M400.532 1233.37 L400.532 1233.37 L412.031 1233.37 L412.031 1233.37 L400.532 1233.37 L400.532 1233.37  Z\n",
       "  \" fill=\"#009af9\" fill-rule=\"evenodd\" fill-opacity=\"1\"/>\n",
       "<polyline clip-path=\"url(#clip212)\" style=\"stroke:#000000; stroke-width:4; stroke-opacity:1; fill:none\" points=\"\n",
       "  400.532,1233.37 400.532,1233.37 412.031,1233.37 400.532,1233.37 \n",
       "  \"/>\n",
       "<path clip-path=\"url(#clip212)\" d=\"\n",
       "M414.905 1233.37 L414.905 1233.37 L426.404 1233.37 L426.404 1233.37 L414.905 1233.37 L414.905 1233.37  Z\n",
       "  \" fill=\"#009af9\" fill-rule=\"evenodd\" fill-opacity=\"1\"/>\n",
       "<polyline clip-path=\"url(#clip212)\" style=\"stroke:#000000; stroke-width:4; stroke-opacity:1; fill:none\" points=\"\n",
       "  414.905,1233.37 414.905,1233.37 426.404,1233.37 414.905,1233.37 \n",
       "  \"/>\n",
       "<path clip-path=\"url(#clip212)\" d=\"\n",
       "M429.279 1233.37 L429.279 1233.37 L440.777 1233.37 L440.777 1233.37 L429.279 1233.37 L429.279 1233.37  Z\n",
       "  \" fill=\"#009af9\" fill-rule=\"evenodd\" fill-opacity=\"1\"/>\n",
       "<polyline clip-path=\"url(#clip212)\" style=\"stroke:#000000; stroke-width:4; stroke-opacity:1; fill:none\" points=\"\n",
       "  429.279,1233.37 429.279,1233.37 440.777,1233.37 429.279,1233.37 \n",
       "  \"/>\n",
       "<path clip-path=\"url(#clip212)\" d=\"\n",
       "M443.652 1233.37 L443.652 1233.37 L455.151 1233.37 L455.151 1233.37 L443.652 1233.37 L443.652 1233.37  Z\n",
       "  \" fill=\"#009af9\" fill-rule=\"evenodd\" fill-opacity=\"1\"/>\n",
       "<polyline clip-path=\"url(#clip212)\" style=\"stroke:#000000; stroke-width:4; stroke-opacity:1; fill:none\" points=\"\n",
       "  443.652,1233.37 443.652,1233.37 455.151,1233.37 443.652,1233.37 \n",
       "  \"/>\n",
       "<path clip-path=\"url(#clip212)\" d=\"\n",
       "M458.026 1233.12 L458.026 1233.37 L469.524 1233.37 L469.524 1233.12 L458.026 1233.12 L458.026 1233.12  Z\n",
       "  \" fill=\"#009af9\" fill-rule=\"evenodd\" fill-opacity=\"1\"/>\n",
       "<polyline clip-path=\"url(#clip212)\" style=\"stroke:#000000; stroke-width:4; stroke-opacity:1; fill:none\" points=\"\n",
       "  458.026,1233.12 458.026,1233.37 469.524,1233.37 469.524,1233.12 458.026,1233.12 \n",
       "  \"/>\n",
       "<path clip-path=\"url(#clip212)\" d=\"\n",
       "M472.399 1233.37 L472.399 1233.37 L483.898 1233.37 L483.898 1233.37 L472.399 1233.37 L472.399 1233.37  Z\n",
       "  \" fill=\"#009af9\" fill-rule=\"evenodd\" fill-opacity=\"1\"/>\n",
       "<polyline clip-path=\"url(#clip212)\" style=\"stroke:#000000; stroke-width:4; stroke-opacity:1; fill:none\" points=\"\n",
       "  472.399,1233.37 472.399,1233.37 483.898,1233.37 472.399,1233.37 \n",
       "  \"/>\n",
       "<path clip-path=\"url(#clip212)\" d=\"\n",
       "M486.773 1233.37 L486.773 1233.37 L498.271 1233.37 L498.271 1233.37 L486.773 1233.37 L486.773 1233.37  Z\n",
       "  \" fill=\"#009af9\" fill-rule=\"evenodd\" fill-opacity=\"1\"/>\n",
       "<polyline clip-path=\"url(#clip212)\" style=\"stroke:#000000; stroke-width:4; stroke-opacity:1; fill:none\" points=\"\n",
       "  486.773,1233.37 486.773,1233.37 498.271,1233.37 486.773,1233.37 \n",
       "  \"/>\n",
       "<path clip-path=\"url(#clip212)\" d=\"\n",
       "M501.146 1233.37 L501.146 1233.37 L512.645 1233.37 L512.645 1233.37 L501.146 1233.37 L501.146 1233.37  Z\n",
       "  \" fill=\"#009af9\" fill-rule=\"evenodd\" fill-opacity=\"1\"/>\n",
       "<polyline clip-path=\"url(#clip212)\" style=\"stroke:#000000; stroke-width:4; stroke-opacity:1; fill:none\" points=\"\n",
       "  501.146,1233.37 501.146,1233.37 512.645,1233.37 501.146,1233.37 \n",
       "  \"/>\n",
       "<path clip-path=\"url(#clip212)\" d=\"\n",
       "M515.519 1233.37 L515.519 1233.37 L527.018 1233.37 L527.018 1233.37 L515.519 1233.37 L515.519 1233.37  Z\n",
       "  \" fill=\"#009af9\" fill-rule=\"evenodd\" fill-opacity=\"1\"/>\n",
       "<polyline clip-path=\"url(#clip212)\" style=\"stroke:#000000; stroke-width:4; stroke-opacity:1; fill:none\" points=\"\n",
       "  515.519,1233.37 515.519,1233.37 527.018,1233.37 515.519,1233.37 \n",
       "  \"/>\n",
       "<path clip-path=\"url(#clip212)\" d=\"\n",
       "M529.893 1233.37 L529.893 1233.37 L541.392 1233.37 L541.392 1233.37 L529.893 1233.37 L529.893 1233.37  Z\n",
       "  \" fill=\"#009af9\" fill-rule=\"evenodd\" fill-opacity=\"1\"/>\n",
       "<polyline clip-path=\"url(#clip212)\" style=\"stroke:#000000; stroke-width:4; stroke-opacity:1; fill:none\" points=\"\n",
       "  529.893,1233.37 529.893,1233.37 541.392,1233.37 529.893,1233.37 \n",
       "  \"/>\n",
       "<path clip-path=\"url(#clip212)\" d=\"\n",
       "M544.266 1233.37 L544.266 1233.37 L555.765 1233.37 L555.765 1233.37 L544.266 1233.37 L544.266 1233.37  Z\n",
       "  \" fill=\"#009af9\" fill-rule=\"evenodd\" fill-opacity=\"1\"/>\n",
       "<polyline clip-path=\"url(#clip212)\" style=\"stroke:#000000; stroke-width:4; stroke-opacity:1; fill:none\" points=\"\n",
       "  544.266,1233.37 544.266,1233.37 555.765,1233.37 544.266,1233.37 \n",
       "  \"/>\n",
       "<path clip-path=\"url(#clip212)\" d=\"\n",
       "M558.64 1233.37 L558.64 1233.37 L570.138 1233.37 L570.138 1233.37 L558.64 1233.37 L558.64 1233.37  Z\n",
       "  \" fill=\"#009af9\" fill-rule=\"evenodd\" fill-opacity=\"1\"/>\n",
       "<polyline clip-path=\"url(#clip212)\" style=\"stroke:#000000; stroke-width:4; stroke-opacity:1; fill:none\" points=\"\n",
       "  558.64,1233.37 558.64,1233.37 570.138,1233.37 558.64,1233.37 \n",
       "  \"/>\n",
       "<path clip-path=\"url(#clip212)\" d=\"\n",
       "M573.013 1233.37 L573.013 1233.37 L584.512 1233.37 L584.512 1233.37 L573.013 1233.37 L573.013 1233.37  Z\n",
       "  \" fill=\"#009af9\" fill-rule=\"evenodd\" fill-opacity=\"1\"/>\n",
       "<polyline clip-path=\"url(#clip212)\" style=\"stroke:#000000; stroke-width:4; stroke-opacity:1; fill:none\" points=\"\n",
       "  573.013,1233.37 573.013,1233.37 584.512,1233.37 573.013,1233.37 \n",
       "  \"/>\n",
       "<path clip-path=\"url(#clip212)\" d=\"\n",
       "M587.387 1233.37 L587.387 1233.37 L598.885 1233.37 L598.885 1233.37 L587.387 1233.37 L587.387 1233.37  Z\n",
       "  \" fill=\"#009af9\" fill-rule=\"evenodd\" fill-opacity=\"1\"/>\n",
       "<polyline clip-path=\"url(#clip212)\" style=\"stroke:#000000; stroke-width:4; stroke-opacity:1; fill:none\" points=\"\n",
       "  587.387,1233.37 587.387,1233.37 598.885,1233.37 587.387,1233.37 \n",
       "  \"/>\n",
       "<path clip-path=\"url(#clip212)\" d=\"\n",
       "M601.76 1233.37 L601.76 1233.37 L613.259 1233.37 L613.259 1233.37 L601.76 1233.37 L601.76 1233.37  Z\n",
       "  \" fill=\"#009af9\" fill-rule=\"evenodd\" fill-opacity=\"1\"/>\n",
       "<polyline clip-path=\"url(#clip212)\" style=\"stroke:#000000; stroke-width:4; stroke-opacity:1; fill:none\" points=\"\n",
       "  601.76,1233.37 601.76,1233.37 613.259,1233.37 601.76,1233.37 \n",
       "  \"/>\n",
       "<path clip-path=\"url(#clip212)\" d=\"\n",
       "M616.133 1233.37 L616.133 1233.37 L627.632 1233.37 L627.632 1233.37 L616.133 1233.37 L616.133 1233.37  Z\n",
       "  \" fill=\"#009af9\" fill-rule=\"evenodd\" fill-opacity=\"1\"/>\n",
       "<polyline clip-path=\"url(#clip212)\" style=\"stroke:#000000; stroke-width:4; stroke-opacity:1; fill:none\" points=\"\n",
       "  616.133,1233.37 616.133,1233.37 627.632,1233.37 616.133,1233.37 \n",
       "  \"/>\n",
       "<path clip-path=\"url(#clip212)\" d=\"\n",
       "M630.507 1233.37 L630.507 1233.37 L642.006 1233.37 L642.006 1233.37 L630.507 1233.37 L630.507 1233.37  Z\n",
       "  \" fill=\"#009af9\" fill-rule=\"evenodd\" fill-opacity=\"1\"/>\n",
       "<polyline clip-path=\"url(#clip212)\" style=\"stroke:#000000; stroke-width:4; stroke-opacity:1; fill:none\" points=\"\n",
       "  630.507,1233.37 630.507,1233.37 642.006,1233.37 630.507,1233.37 \n",
       "  \"/>\n",
       "<path clip-path=\"url(#clip212)\" d=\"\n",
       "M644.88 1233.37 L644.88 1233.37 L656.379 1233.37 L656.379 1233.37 L644.88 1233.37 L644.88 1233.37  Z\n",
       "  \" fill=\"#009af9\" fill-rule=\"evenodd\" fill-opacity=\"1\"/>\n",
       "<polyline clip-path=\"url(#clip212)\" style=\"stroke:#000000; stroke-width:4; stroke-opacity:1; fill:none\" points=\"\n",
       "  644.88,1233.37 644.88,1233.37 656.379,1233.37 644.88,1233.37 \n",
       "  \"/>\n",
       "<path clip-path=\"url(#clip212)\" d=\"\n",
       "M659.254 1233.37 L659.254 1233.37 L670.753 1233.37 L670.753 1233.37 L659.254 1233.37 L659.254 1233.37  Z\n",
       "  \" fill=\"#009af9\" fill-rule=\"evenodd\" fill-opacity=\"1\"/>\n",
       "<polyline clip-path=\"url(#clip212)\" style=\"stroke:#000000; stroke-width:4; stroke-opacity:1; fill:none\" points=\"\n",
       "  659.254,1233.37 659.254,1233.37 670.753,1233.37 659.254,1233.37 \n",
       "  \"/>\n",
       "<path clip-path=\"url(#clip212)\" d=\"\n",
       "M673.627 1233.37 L673.627 1233.37 L685.126 1233.37 L685.126 1233.37 L673.627 1233.37 L673.627 1233.37  Z\n",
       "  \" fill=\"#009af9\" fill-rule=\"evenodd\" fill-opacity=\"1\"/>\n",
       "<polyline clip-path=\"url(#clip212)\" style=\"stroke:#000000; stroke-width:4; stroke-opacity:1; fill:none\" points=\"\n",
       "  673.627,1233.37 673.627,1233.37 685.126,1233.37 673.627,1233.37 \n",
       "  \"/>\n",
       "<path clip-path=\"url(#clip212)\" d=\"\n",
       "M688.001 1233.37 L688.001 1233.37 L699.499 1233.37 L699.499 1233.37 L688.001 1233.37 L688.001 1233.37  Z\n",
       "  \" fill=\"#009af9\" fill-rule=\"evenodd\" fill-opacity=\"1\"/>\n",
       "<polyline clip-path=\"url(#clip212)\" style=\"stroke:#000000; stroke-width:4; stroke-opacity:1; fill:none\" points=\"\n",
       "  688.001,1233.37 688.001,1233.37 699.499,1233.37 688.001,1233.37 \n",
       "  \"/>\n",
       "<path clip-path=\"url(#clip212)\" d=\"\n",
       "M702.374 1233.37 L702.374 1233.37 L713.873 1233.37 L713.873 1233.37 L702.374 1233.37 L702.374 1233.37  Z\n",
       "  \" fill=\"#009af9\" fill-rule=\"evenodd\" fill-opacity=\"1\"/>\n",
       "<polyline clip-path=\"url(#clip212)\" style=\"stroke:#000000; stroke-width:4; stroke-opacity:1; fill:none\" points=\"\n",
       "  702.374,1233.37 702.374,1233.37 713.873,1233.37 702.374,1233.37 \n",
       "  \"/>\n",
       "<path clip-path=\"url(#clip212)\" d=\"\n",
       "M716.748 1233.37 L716.748 1233.37 L728.246 1233.37 L728.246 1233.37 L716.748 1233.37 L716.748 1233.37  Z\n",
       "  \" fill=\"#009af9\" fill-rule=\"evenodd\" fill-opacity=\"1\"/>\n",
       "<polyline clip-path=\"url(#clip212)\" style=\"stroke:#000000; stroke-width:4; stroke-opacity:1; fill:none\" points=\"\n",
       "  716.748,1233.37 716.748,1233.37 728.246,1233.37 716.748,1233.37 \n",
       "  \"/>\n",
       "<path clip-path=\"url(#clip212)\" d=\"\n",
       "M731.121 1233.37 L731.121 1233.37 L742.62 1233.37 L742.62 1233.37 L731.121 1233.37 L731.121 1233.37  Z\n",
       "  \" fill=\"#009af9\" fill-rule=\"evenodd\" fill-opacity=\"1\"/>\n",
       "<polyline clip-path=\"url(#clip212)\" style=\"stroke:#000000; stroke-width:4; stroke-opacity:1; fill:none\" points=\"\n",
       "  731.121,1233.37 731.121,1233.37 742.62,1233.37 731.121,1233.37 \n",
       "  \"/>\n",
       "<path clip-path=\"url(#clip212)\" d=\"\n",
       "M745.494 1233.37 L745.494 1233.37 L756.993 1233.37 L756.993 1233.37 L745.494 1233.37 L745.494 1233.37  Z\n",
       "  \" fill=\"#009af9\" fill-rule=\"evenodd\" fill-opacity=\"1\"/>\n",
       "<polyline clip-path=\"url(#clip212)\" style=\"stroke:#000000; stroke-width:4; stroke-opacity:1; fill:none\" points=\"\n",
       "  745.494,1233.37 745.494,1233.37 756.993,1233.37 745.494,1233.37 \n",
       "  \"/>\n",
       "<path clip-path=\"url(#clip212)\" d=\"\n",
       "M759.868 1233.37 L759.868 1233.37 L771.367 1233.37 L771.367 1233.37 L759.868 1233.37 L759.868 1233.37  Z\n",
       "  \" fill=\"#009af9\" fill-rule=\"evenodd\" fill-opacity=\"1\"/>\n",
       "<polyline clip-path=\"url(#clip212)\" style=\"stroke:#000000; stroke-width:4; stroke-opacity:1; fill:none\" points=\"\n",
       "  759.868,1233.37 759.868,1233.37 771.367,1233.37 759.868,1233.37 \n",
       "  \"/>\n",
       "<path clip-path=\"url(#clip212)\" d=\"\n",
       "M774.241 1233.37 L774.241 1233.37 L785.74 1233.37 L785.74 1233.37 L774.241 1233.37 L774.241 1233.37  Z\n",
       "  \" fill=\"#009af9\" fill-rule=\"evenodd\" fill-opacity=\"1\"/>\n",
       "<polyline clip-path=\"url(#clip212)\" style=\"stroke:#000000; stroke-width:4; stroke-opacity:1; fill:none\" points=\"\n",
       "  774.241,1233.37 774.241,1233.37 785.74,1233.37 774.241,1233.37 \n",
       "  \"/>\n",
       "<path clip-path=\"url(#clip212)\" d=\"\n",
       "M788.615 1233.37 L788.615 1233.37 L800.113 1233.37 L800.113 1233.37 L788.615 1233.37 L788.615 1233.37  Z\n",
       "  \" fill=\"#009af9\" fill-rule=\"evenodd\" fill-opacity=\"1\"/>\n",
       "<polyline clip-path=\"url(#clip212)\" style=\"stroke:#000000; stroke-width:4; stroke-opacity:1; fill:none\" points=\"\n",
       "  788.615,1233.37 788.615,1233.37 800.113,1233.37 788.615,1233.37 \n",
       "  \"/>\n",
       "<path clip-path=\"url(#clip212)\" d=\"\n",
       "M802.988 1233.37 L802.988 1233.37 L814.487 1233.37 L814.487 1233.37 L802.988 1233.37 L802.988 1233.37  Z\n",
       "  \" fill=\"#009af9\" fill-rule=\"evenodd\" fill-opacity=\"1\"/>\n",
       "<polyline clip-path=\"url(#clip212)\" style=\"stroke:#000000; stroke-width:4; stroke-opacity:1; fill:none\" points=\"\n",
       "  802.988,1233.37 802.988,1233.37 814.487,1233.37 802.988,1233.37 \n",
       "  \"/>\n",
       "<path clip-path=\"url(#clip212)\" d=\"\n",
       "M817.362 1233.37 L817.362 1233.37 L828.86 1233.37 L828.86 1233.37 L817.362 1233.37 L817.362 1233.37  Z\n",
       "  \" fill=\"#009af9\" fill-rule=\"evenodd\" fill-opacity=\"1\"/>\n",
       "<polyline clip-path=\"url(#clip212)\" style=\"stroke:#000000; stroke-width:4; stroke-opacity:1; fill:none\" points=\"\n",
       "  817.362,1233.37 817.362,1233.37 828.86,1233.37 817.362,1233.37 \n",
       "  \"/>\n",
       "<path clip-path=\"url(#clip212)\" d=\"\n",
       "M831.735 1233.37 L831.735 1233.37 L843.234 1233.37 L843.234 1233.37 L831.735 1233.37 L831.735 1233.37  Z\n",
       "  \" fill=\"#009af9\" fill-rule=\"evenodd\" fill-opacity=\"1\"/>\n",
       "<polyline clip-path=\"url(#clip212)\" style=\"stroke:#000000; stroke-width:4; stroke-opacity:1; fill:none\" points=\"\n",
       "  831.735,1233.37 831.735,1233.37 843.234,1233.37 831.735,1233.37 \n",
       "  \"/>\n",
       "<path clip-path=\"url(#clip212)\" d=\"\n",
       "M846.108 1233.37 L846.108 1233.37 L857.607 1233.37 L857.607 1233.37 L846.108 1233.37 L846.108 1233.37  Z\n",
       "  \" fill=\"#009af9\" fill-rule=\"evenodd\" fill-opacity=\"1\"/>\n",
       "<polyline clip-path=\"url(#clip212)\" style=\"stroke:#000000; stroke-width:4; stroke-opacity:1; fill:none\" points=\"\n",
       "  846.108,1233.37 846.108,1233.37 857.607,1233.37 846.108,1233.37 \n",
       "  \"/>\n",
       "<path clip-path=\"url(#clip212)\" d=\"\n",
       "M860.482 1233.37 L860.482 1233.37 L871.981 1233.37 L871.981 1233.37 L860.482 1233.37 L860.482 1233.37  Z\n",
       "  \" fill=\"#009af9\" fill-rule=\"evenodd\" fill-opacity=\"1\"/>\n",
       "<polyline clip-path=\"url(#clip212)\" style=\"stroke:#000000; stroke-width:4; stroke-opacity:1; fill:none\" points=\"\n",
       "  860.482,1233.37 860.482,1233.37 871.981,1233.37 860.482,1233.37 \n",
       "  \"/>\n",
       "<path clip-path=\"url(#clip212)\" d=\"\n",
       "M874.855 1233.37 L874.855 1233.37 L886.354 1233.37 L886.354 1233.37 L874.855 1233.37 L874.855 1233.37  Z\n",
       "  \" fill=\"#009af9\" fill-rule=\"evenodd\" fill-opacity=\"1\"/>\n",
       "<polyline clip-path=\"url(#clip212)\" style=\"stroke:#000000; stroke-width:4; stroke-opacity:1; fill:none\" points=\"\n",
       "  874.855,1233.37 874.855,1233.37 886.354,1233.37 874.855,1233.37 \n",
       "  \"/>\n",
       "<path clip-path=\"url(#clip212)\" d=\"\n",
       "M889.229 1233.12 L889.229 1233.37 L900.728 1233.37 L900.728 1233.12 L889.229 1233.12 L889.229 1233.12  Z\n",
       "  \" fill=\"#009af9\" fill-rule=\"evenodd\" fill-opacity=\"1\"/>\n",
       "<polyline clip-path=\"url(#clip212)\" style=\"stroke:#000000; stroke-width:4; stroke-opacity:1; fill:none\" points=\"\n",
       "  889.229,1233.12 889.229,1233.37 900.728,1233.37 900.728,1233.12 889.229,1233.12 \n",
       "  \"/>\n",
       "<path clip-path=\"url(#clip212)\" d=\"\n",
       "M903.602 1233.37 L903.602 1233.37 L915.101 1233.37 L915.101 1233.37 L903.602 1233.37 L903.602 1233.37  Z\n",
       "  \" fill=\"#009af9\" fill-rule=\"evenodd\" fill-opacity=\"1\"/>\n",
       "<polyline clip-path=\"url(#clip212)\" style=\"stroke:#000000; stroke-width:4; stroke-opacity:1; fill:none\" points=\"\n",
       "  903.602,1233.37 903.602,1233.37 915.101,1233.37 903.602,1233.37 \n",
       "  \"/>\n",
       "<path clip-path=\"url(#clip212)\" d=\"\n",
       "M917.976 1233.12 L917.976 1233.37 L929.474 1233.37 L929.474 1233.12 L917.976 1233.12 L917.976 1233.12  Z\n",
       "  \" fill=\"#009af9\" fill-rule=\"evenodd\" fill-opacity=\"1\"/>\n",
       "<polyline clip-path=\"url(#clip212)\" style=\"stroke:#000000; stroke-width:4; stroke-opacity:1; fill:none\" points=\"\n",
       "  917.976,1233.12 917.976,1233.37 929.474,1233.37 929.474,1233.12 917.976,1233.12 \n",
       "  \"/>\n",
       "<path clip-path=\"url(#clip212)\" d=\"\n",
       "M932.349 1233.37 L932.349 1233.37 L943.848 1233.37 L943.848 1233.37 L932.349 1233.37 L932.349 1233.37  Z\n",
       "  \" fill=\"#009af9\" fill-rule=\"evenodd\" fill-opacity=\"1\"/>\n",
       "<polyline clip-path=\"url(#clip212)\" style=\"stroke:#000000; stroke-width:4; stroke-opacity:1; fill:none\" points=\"\n",
       "  932.349,1233.37 932.349,1233.37 943.848,1233.37 932.349,1233.37 \n",
       "  \"/>\n",
       "<path clip-path=\"url(#clip212)\" d=\"\n",
       "M946.723 1233.37 L946.723 1233.37 L958.221 1233.37 L958.221 1233.37 L946.723 1233.37 L946.723 1233.37  Z\n",
       "  \" fill=\"#009af9\" fill-rule=\"evenodd\" fill-opacity=\"1\"/>\n",
       "<polyline clip-path=\"url(#clip212)\" style=\"stroke:#000000; stroke-width:4; stroke-opacity:1; fill:none\" points=\"\n",
       "  946.723,1233.37 946.723,1233.37 958.221,1233.37 946.723,1233.37 \n",
       "  \"/>\n",
       "<path clip-path=\"url(#clip212)\" d=\"\n",
       "M961.096 1233.12 L961.096 1233.37 L972.595 1233.37 L972.595 1233.12 L961.096 1233.12 L961.096 1233.12  Z\n",
       "  \" fill=\"#009af9\" fill-rule=\"evenodd\" fill-opacity=\"1\"/>\n",
       "<polyline clip-path=\"url(#clip212)\" style=\"stroke:#000000; stroke-width:4; stroke-opacity:1; fill:none\" points=\"\n",
       "  961.096,1233.12 961.096,1233.37 972.595,1233.37 972.595,1233.12 961.096,1233.12 \n",
       "  \"/>\n",
       "<path clip-path=\"url(#clip212)\" d=\"\n",
       "M975.469 1233.12 L975.469 1233.37 L986.968 1233.37 L986.968 1233.12 L975.469 1233.12 L975.469 1233.12  Z\n",
       "  \" fill=\"#009af9\" fill-rule=\"evenodd\" fill-opacity=\"1\"/>\n",
       "<polyline clip-path=\"url(#clip212)\" style=\"stroke:#000000; stroke-width:4; stroke-opacity:1; fill:none\" points=\"\n",
       "  975.469,1233.12 975.469,1233.37 986.968,1233.37 986.968,1233.12 975.469,1233.12 \n",
       "  \"/>\n",
       "<path clip-path=\"url(#clip212)\" d=\"\n",
       "M989.843 1233.37 L989.843 1233.37 L1001.34 1233.37 L1001.34 1233.37 L989.843 1233.37 L989.843 1233.37  Z\n",
       "  \" fill=\"#009af9\" fill-rule=\"evenodd\" fill-opacity=\"1\"/>\n",
       "<polyline clip-path=\"url(#clip212)\" style=\"stroke:#000000; stroke-width:4; stroke-opacity:1; fill:none\" points=\"\n",
       "  989.843,1233.37 989.843,1233.37 1001.34,1233.37 989.843,1233.37 \n",
       "  \"/>\n",
       "<path clip-path=\"url(#clip212)\" d=\"\n",
       "M1004.22 1233.12 L1004.22 1233.37 L1015.72 1233.37 L1015.72 1233.12 L1004.22 1233.12 L1004.22 1233.12  Z\n",
       "  \" fill=\"#009af9\" fill-rule=\"evenodd\" fill-opacity=\"1\"/>\n",
       "<polyline clip-path=\"url(#clip212)\" style=\"stroke:#000000; stroke-width:4; stroke-opacity:1; fill:none\" points=\"\n",
       "  1004.22,1233.12 1004.22,1233.37 1015.72,1233.37 1015.72,1233.12 1004.22,1233.12 \n",
       "  \"/>\n",
       "<path clip-path=\"url(#clip212)\" d=\"\n",
       "M1018.59 1232.36 L1018.59 1233.37 L1030.09 1233.37 L1030.09 1232.36 L1018.59 1232.36 L1018.59 1232.36  Z\n",
       "  \" fill=\"#009af9\" fill-rule=\"evenodd\" fill-opacity=\"1\"/>\n",
       "<polyline clip-path=\"url(#clip212)\" style=\"stroke:#000000; stroke-width:4; stroke-opacity:1; fill:none\" points=\"\n",
       "  1018.59,1232.36 1018.59,1233.37 1030.09,1233.37 1030.09,1232.36 1018.59,1232.36 \n",
       "  \"/>\n",
       "<path clip-path=\"url(#clip212)\" d=\"\n",
       "M1032.96 1231.36 L1032.96 1233.37 L1044.46 1233.37 L1044.46 1231.36 L1032.96 1231.36 L1032.96 1231.36  Z\n",
       "  \" fill=\"#009af9\" fill-rule=\"evenodd\" fill-opacity=\"1\"/>\n",
       "<polyline clip-path=\"url(#clip212)\" style=\"stroke:#000000; stroke-width:4; stroke-opacity:1; fill:none\" points=\"\n",
       "  1032.96,1231.36 1032.96,1233.37 1044.46,1233.37 1044.46,1231.36 1032.96,1231.36 \n",
       "  \"/>\n",
       "<path clip-path=\"url(#clip212)\" d=\"\n",
       "M1047.34 1231.86 L1047.34 1233.37 L1058.84 1233.37 L1058.84 1231.86 L1047.34 1231.86 L1047.34 1231.86  Z\n",
       "  \" fill=\"#009af9\" fill-rule=\"evenodd\" fill-opacity=\"1\"/>\n",
       "<polyline clip-path=\"url(#clip212)\" style=\"stroke:#000000; stroke-width:4; stroke-opacity:1; fill:none\" points=\"\n",
       "  1047.34,1231.86 1047.34,1233.37 1058.84,1233.37 1058.84,1231.86 1047.34,1231.86 \n",
       "  \"/>\n",
       "<path clip-path=\"url(#clip212)\" d=\"\n",
       "M1061.71 1231.61 L1061.71 1233.37 L1073.21 1233.37 L1073.21 1231.61 L1061.71 1231.61 L1061.71 1231.61  Z\n",
       "  \" fill=\"#009af9\" fill-rule=\"evenodd\" fill-opacity=\"1\"/>\n",
       "<polyline clip-path=\"url(#clip212)\" style=\"stroke:#000000; stroke-width:4; stroke-opacity:1; fill:none\" points=\"\n",
       "  1061.71,1231.61 1061.71,1233.37 1073.21,1233.37 1073.21,1231.61 1061.71,1231.61 \n",
       "  \"/>\n",
       "<path clip-path=\"url(#clip212)\" d=\"\n",
       "M1076.08 1229.84 L1076.08 1233.37 L1087.58 1233.37 L1087.58 1229.84 L1076.08 1229.84 L1076.08 1229.84  Z\n",
       "  \" fill=\"#009af9\" fill-rule=\"evenodd\" fill-opacity=\"1\"/>\n",
       "<polyline clip-path=\"url(#clip212)\" style=\"stroke:#000000; stroke-width:4; stroke-opacity:1; fill:none\" points=\"\n",
       "  1076.08,1229.84 1076.08,1233.37 1087.58,1233.37 1087.58,1229.84 1076.08,1229.84 \n",
       "  \"/>\n",
       "<path clip-path=\"url(#clip212)\" d=\"\n",
       "M1090.46 1228.33 L1090.46 1233.37 L1101.96 1233.37 L1101.96 1228.33 L1090.46 1228.33 L1090.46 1228.33  Z\n",
       "  \" fill=\"#009af9\" fill-rule=\"evenodd\" fill-opacity=\"1\"/>\n",
       "<polyline clip-path=\"url(#clip212)\" style=\"stroke:#000000; stroke-width:4; stroke-opacity:1; fill:none\" points=\"\n",
       "  1090.46,1228.33 1090.46,1233.37 1101.96,1233.37 1101.96,1228.33 1090.46,1228.33 \n",
       "  \"/>\n",
       "<path clip-path=\"url(#clip212)\" d=\"\n",
       "M1104.83 1226.32 L1104.83 1233.37 L1116.33 1233.37 L1116.33 1226.32 L1104.83 1226.32 L1104.83 1226.32  Z\n",
       "  \" fill=\"#009af9\" fill-rule=\"evenodd\" fill-opacity=\"1\"/>\n",
       "<polyline clip-path=\"url(#clip212)\" style=\"stroke:#000000; stroke-width:4; stroke-opacity:1; fill:none\" points=\"\n",
       "  1104.83,1226.32 1104.83,1233.37 1116.33,1233.37 1116.33,1226.32 1104.83,1226.32 \n",
       "  \"/>\n",
       "<path clip-path=\"url(#clip212)\" d=\"\n",
       "M1119.2 1230.85 L1119.2 1233.37 L1130.7 1233.37 L1130.7 1230.85 L1119.2 1230.85 L1119.2 1230.85  Z\n",
       "  \" fill=\"#009af9\" fill-rule=\"evenodd\" fill-opacity=\"1\"/>\n",
       "<polyline clip-path=\"url(#clip212)\" style=\"stroke:#000000; stroke-width:4; stroke-opacity:1; fill:none\" points=\"\n",
       "  1119.2,1230.85 1119.2,1233.37 1130.7,1233.37 1130.7,1230.85 1119.2,1230.85 \n",
       "  \"/>\n",
       "<path clip-path=\"url(#clip212)\" d=\"\n",
       "M1133.58 1219.52 L1133.58 1233.37 L1145.08 1233.37 L1145.08 1219.52 L1133.58 1219.52 L1133.58 1219.52  Z\n",
       "  \" fill=\"#009af9\" fill-rule=\"evenodd\" fill-opacity=\"1\"/>\n",
       "<polyline clip-path=\"url(#clip212)\" style=\"stroke:#000000; stroke-width:4; stroke-opacity:1; fill:none\" points=\"\n",
       "  1133.58,1219.52 1133.58,1233.37 1145.08,1233.37 1145.08,1219.52 1133.58,1219.52 \n",
       "  \"/>\n",
       "<path clip-path=\"url(#clip212)\" d=\"\n",
       "M1147.95 1201.38 L1147.95 1233.37 L1159.45 1233.37 L1159.45 1201.38 L1147.95 1201.38 L1147.95 1201.38  Z\n",
       "  \" fill=\"#009af9\" fill-rule=\"evenodd\" fill-opacity=\"1\"/>\n",
       "<polyline clip-path=\"url(#clip212)\" style=\"stroke:#000000; stroke-width:4; stroke-opacity:1; fill:none\" points=\"\n",
       "  1147.95,1201.38 1147.95,1233.37 1159.45,1233.37 1159.45,1201.38 1147.95,1201.38 \n",
       "  \"/>\n",
       "<path clip-path=\"url(#clip212)\" d=\"\n",
       "M1162.32 1199.62 L1162.32 1233.37 L1173.82 1233.37 L1173.82 1199.62 L1162.32 1199.62 L1162.32 1199.62  Z\n",
       "  \" fill=\"#009af9\" fill-rule=\"evenodd\" fill-opacity=\"1\"/>\n",
       "<polyline clip-path=\"url(#clip212)\" style=\"stroke:#000000; stroke-width:4; stroke-opacity:1; fill:none\" points=\"\n",
       "  1162.32,1199.62 1162.32,1233.37 1173.82,1233.37 1173.82,1199.62 1162.32,1199.62 \n",
       "  \"/>\n",
       "<path clip-path=\"url(#clip212)\" d=\"\n",
       "M1176.7 1192.31 L1176.7 1233.37 L1188.2 1233.37 L1188.2 1192.31 L1176.7 1192.31 L1176.7 1192.31  Z\n",
       "  \" fill=\"#009af9\" fill-rule=\"evenodd\" fill-opacity=\"1\"/>\n",
       "<polyline clip-path=\"url(#clip212)\" style=\"stroke:#000000; stroke-width:4; stroke-opacity:1; fill:none\" points=\"\n",
       "  1176.7,1192.31 1176.7,1233.37 1188.2,1233.37 1188.2,1192.31 1176.7,1192.31 \n",
       "  \"/>\n",
       "<path clip-path=\"url(#clip212)\" d=\"\n",
       "M1191.07 1191.06 L1191.07 1233.37 L1202.57 1233.37 L1202.57 1191.06 L1191.07 1191.06 L1191.07 1191.06  Z\n",
       "  \" fill=\"#009af9\" fill-rule=\"evenodd\" fill-opacity=\"1\"/>\n",
       "<polyline clip-path=\"url(#clip212)\" style=\"stroke:#000000; stroke-width:4; stroke-opacity:1; fill:none\" points=\"\n",
       "  1191.07,1191.06 1191.07,1233.37 1202.57,1233.37 1202.57,1191.06 1191.07,1191.06 \n",
       "  \"/>\n",
       "<path clip-path=\"url(#clip212)\" d=\"\n",
       "M1205.44 1158.81 L1205.44 1233.37 L1216.94 1233.37 L1216.94 1158.81 L1205.44 1158.81 L1205.44 1158.81  Z\n",
       "  \" fill=\"#009af9\" fill-rule=\"evenodd\" fill-opacity=\"1\"/>\n",
       "<polyline clip-path=\"url(#clip212)\" style=\"stroke:#000000; stroke-width:4; stroke-opacity:1; fill:none\" points=\"\n",
       "  1205.44,1158.81 1205.44,1233.37 1216.94,1233.37 1216.94,1158.81 1205.44,1158.81 \n",
       "  \"/>\n",
       "<path clip-path=\"url(#clip212)\" d=\"\n",
       "M1219.82 1173.42 L1219.82 1233.37 L1231.32 1233.37 L1231.32 1173.42 L1219.82 1173.42 L1219.82 1173.42  Z\n",
       "  \" fill=\"#009af9\" fill-rule=\"evenodd\" fill-opacity=\"1\"/>\n",
       "<polyline clip-path=\"url(#clip212)\" style=\"stroke:#000000; stroke-width:4; stroke-opacity:1; fill:none\" points=\"\n",
       "  1219.82,1173.42 1219.82,1233.37 1231.32,1233.37 1231.32,1173.42 1219.82,1173.42 \n",
       "  \"/>\n",
       "<path clip-path=\"url(#clip212)\" d=\"\n",
       "M1234.19 1170.4 L1234.19 1233.37 L1245.69 1233.37 L1245.69 1170.4 L1234.19 1170.4 L1234.19 1170.4  Z\n",
       "  \" fill=\"#009af9\" fill-rule=\"evenodd\" fill-opacity=\"1\"/>\n",
       "<polyline clip-path=\"url(#clip212)\" style=\"stroke:#000000; stroke-width:4; stroke-opacity:1; fill:none\" points=\"\n",
       "  1234.19,1170.4 1234.19,1233.37 1245.69,1233.37 1245.69,1170.4 1234.19,1170.4 \n",
       "  \"/>\n",
       "<path clip-path=\"url(#clip212)\" d=\"\n",
       "M1248.56 1147.98 L1248.56 1233.37 L1260.06 1233.37 L1260.06 1147.98 L1248.56 1147.98 L1248.56 1147.98  Z\n",
       "  \" fill=\"#009af9\" fill-rule=\"evenodd\" fill-opacity=\"1\"/>\n",
       "<polyline clip-path=\"url(#clip212)\" style=\"stroke:#000000; stroke-width:4; stroke-opacity:1; fill:none\" points=\"\n",
       "  1248.56,1147.98 1248.56,1233.37 1260.06,1233.37 1260.06,1147.98 1248.56,1147.98 \n",
       "  \"/>\n",
       "<path clip-path=\"url(#clip212)\" d=\"\n",
       "M1262.94 1066.12 L1262.94 1233.37 L1274.44 1233.37 L1274.44 1066.12 L1262.94 1066.12 L1262.94 1066.12  Z\n",
       "  \" fill=\"#009af9\" fill-rule=\"evenodd\" fill-opacity=\"1\"/>\n",
       "<polyline clip-path=\"url(#clip212)\" style=\"stroke:#000000; stroke-width:4; stroke-opacity:1; fill:none\" points=\"\n",
       "  1262.94,1066.12 1262.94,1233.37 1274.44,1233.37 1274.44,1066.12 1262.94,1066.12 \n",
       "  \"/>\n",
       "<path clip-path=\"url(#clip212)\" d=\"\n",
       "M1277.31 1109.7 L1277.31 1233.37 L1288.81 1233.37 L1288.81 1109.7 L1277.31 1109.7 L1277.31 1109.7  Z\n",
       "  \" fill=\"#009af9\" fill-rule=\"evenodd\" fill-opacity=\"1\"/>\n",
       "<polyline clip-path=\"url(#clip212)\" style=\"stroke:#000000; stroke-width:4; stroke-opacity:1; fill:none\" points=\"\n",
       "  1277.31,1109.7 1277.31,1233.37 1288.81,1233.37 1288.81,1109.7 1277.31,1109.7 \n",
       "  \"/>\n",
       "<path clip-path=\"url(#clip212)\" d=\"\n",
       "M1291.69 1102.9 L1291.69 1233.37 L1303.18 1233.37 L1303.18 1102.9 L1291.69 1102.9 L1291.69 1102.9  Z\n",
       "  \" fill=\"#009af9\" fill-rule=\"evenodd\" fill-opacity=\"1\"/>\n",
       "<polyline clip-path=\"url(#clip212)\" style=\"stroke:#000000; stroke-width:4; stroke-opacity:1; fill:none\" points=\"\n",
       "  1291.69,1102.9 1291.69,1233.37 1303.18,1233.37 1303.18,1102.9 1291.69,1102.9 \n",
       "  \"/>\n",
       "<path clip-path=\"url(#clip212)\" d=\"\n",
       "M1306.06 964.867 L1306.06 1233.37 L1317.56 1233.37 L1317.56 964.867 L1306.06 964.867 L1306.06 964.867  Z\n",
       "  \" fill=\"#009af9\" fill-rule=\"evenodd\" fill-opacity=\"1\"/>\n",
       "<polyline clip-path=\"url(#clip212)\" style=\"stroke:#000000; stroke-width:4; stroke-opacity:1; fill:none\" points=\"\n",
       "  1306.06,964.867 1306.06,1233.37 1317.56,1233.37 1317.56,964.867 1306.06,964.867 \n",
       "  \"/>\n",
       "<path clip-path=\"url(#clip212)\" d=\"\n",
       "M1320.43 1118.26 L1320.43 1233.37 L1331.93 1233.37 L1331.93 1118.26 L1320.43 1118.26 L1320.43 1118.26  Z\n",
       "  \" fill=\"#009af9\" fill-rule=\"evenodd\" fill-opacity=\"1\"/>\n",
       "<polyline clip-path=\"url(#clip212)\" style=\"stroke:#000000; stroke-width:4; stroke-opacity:1; fill:none\" points=\"\n",
       "  1320.43,1118.26 1320.43,1233.37 1331.93,1233.37 1331.93,1118.26 1320.43,1118.26 \n",
       "  \"/>\n",
       "<path clip-path=\"url(#clip212)\" d=\"\n",
       "M1334.81 1001.14 L1334.81 1233.37 L1346.3 1233.37 L1346.3 1001.14 L1334.81 1001.14 L1334.81 1001.14  Z\n",
       "  \" fill=\"#009af9\" fill-rule=\"evenodd\" fill-opacity=\"1\"/>\n",
       "<polyline clip-path=\"url(#clip212)\" style=\"stroke:#000000; stroke-width:4; stroke-opacity:1; fill:none\" points=\"\n",
       "  1334.81,1001.14 1334.81,1233.37 1346.3,1233.37 1346.3,1001.14 1334.81,1001.14 \n",
       "  \"/>\n",
       "<path clip-path=\"url(#clip212)\" d=\"\n",
       "M1349.18 985.018 L1349.18 1233.37 L1360.68 1233.37 L1360.68 985.018 L1349.18 985.018 L1349.18 985.018  Z\n",
       "  \" fill=\"#009af9\" fill-rule=\"evenodd\" fill-opacity=\"1\"/>\n",
       "<polyline clip-path=\"url(#clip212)\" style=\"stroke:#000000; stroke-width:4; stroke-opacity:1; fill:none\" points=\"\n",
       "  1349.18,985.018 1349.18,1233.37 1360.68,1233.37 1360.68,985.018 1349.18,985.018 \n",
       "  \"/>\n",
       "<path clip-path=\"url(#clip212)\" d=\"\n",
       "M1363.55 1052.77 L1363.55 1233.37 L1375.05 1233.37 L1375.05 1052.77 L1363.55 1052.77 L1363.55 1052.77  Z\n",
       "  \" fill=\"#009af9\" fill-rule=\"evenodd\" fill-opacity=\"1\"/>\n",
       "<polyline clip-path=\"url(#clip212)\" style=\"stroke:#000000; stroke-width:4; stroke-opacity:1; fill:none\" points=\"\n",
       "  1363.55,1052.77 1363.55,1233.37 1375.05,1233.37 1375.05,1052.77 1363.55,1052.77 \n",
       "  \"/>\n",
       "<path clip-path=\"url(#clip212)\" d=\"\n",
       "M1377.93 928.849 L1377.93 1233.37 L1389.42 1233.37 L1389.42 928.849 L1377.93 928.849 L1377.93 928.849  Z\n",
       "  \" fill=\"#009af9\" fill-rule=\"evenodd\" fill-opacity=\"1\"/>\n",
       "<polyline clip-path=\"url(#clip212)\" style=\"stroke:#000000; stroke-width:4; stroke-opacity:1; fill:none\" points=\"\n",
       "  1377.93,928.849 1377.93,1233.37 1389.42,1233.37 1389.42,928.849 1377.93,928.849 \n",
       "  \"/>\n",
       "<path clip-path=\"url(#clip212)\" d=\"\n",
       "M1392.3 867.39 L1392.3 1233.37 L1403.8 1233.37 L1403.8 867.39 L1392.3 867.39 L1392.3 867.39  Z\n",
       "  \" fill=\"#009af9\" fill-rule=\"evenodd\" fill-opacity=\"1\"/>\n",
       "<polyline clip-path=\"url(#clip212)\" style=\"stroke:#000000; stroke-width:4; stroke-opacity:1; fill:none\" points=\"\n",
       "  1392.3,867.39 1392.3,1233.37 1403.8,1233.37 1403.8,867.39 1392.3,867.39 \n",
       "  \"/>\n",
       "<path clip-path=\"url(#clip212)\" d=\"\n",
       "M1406.67 1001.89 L1406.67 1233.37 L1418.17 1233.37 L1418.17 1001.89 L1406.67 1001.89 L1406.67 1001.89  Z\n",
       "  \" fill=\"#009af9\" fill-rule=\"evenodd\" fill-opacity=\"1\"/>\n",
       "<polyline clip-path=\"url(#clip212)\" style=\"stroke:#000000; stroke-width:4; stroke-opacity:1; fill:none\" points=\"\n",
       "  1406.67,1001.89 1406.67,1233.37 1418.17,1233.37 1418.17,1001.89 1406.67,1001.89 \n",
       "  \"/>\n",
       "<path clip-path=\"url(#clip212)\" d=\"\n",
       "M1421.05 985.018 L1421.05 1233.37 L1432.54 1233.37 L1432.54 985.018 L1421.05 985.018 L1421.05 985.018  Z\n",
       "  \" fill=\"#009af9\" fill-rule=\"evenodd\" fill-opacity=\"1\"/>\n",
       "<polyline clip-path=\"url(#clip212)\" style=\"stroke:#000000; stroke-width:4; stroke-opacity:1; fill:none\" points=\"\n",
       "  1421.05,985.018 1421.05,1233.37 1432.54,1233.37 1432.54,985.018 1421.05,985.018 \n",
       "  \"/>\n",
       "<path clip-path=\"url(#clip212)\" d=\"\n",
       "M1435.42 909.202 L1435.42 1233.37 L1446.92 1233.37 L1446.92 909.202 L1435.42 909.202 L1435.42 909.202  Z\n",
       "  \" fill=\"#009af9\" fill-rule=\"evenodd\" fill-opacity=\"1\"/>\n",
       "<polyline clip-path=\"url(#clip212)\" style=\"stroke:#000000; stroke-width:4; stroke-opacity:1; fill:none\" points=\"\n",
       "  1435.42,909.202 1435.42,1233.37 1446.92,1233.37 1446.92,909.202 1435.42,909.202 \n",
       "  \"/>\n",
       "<path clip-path=\"url(#clip212)\" d=\"\n",
       "M1449.79 848.247 L1449.79 1233.37 L1461.29 1233.37 L1461.29 848.247 L1449.79 848.247 L1449.79 848.247  Z\n",
       "  \" fill=\"#009af9\" fill-rule=\"evenodd\" fill-opacity=\"1\"/>\n",
       "<polyline clip-path=\"url(#clip212)\" style=\"stroke:#000000; stroke-width:4; stroke-opacity:1; fill:none\" points=\"\n",
       "  1449.79,848.247 1449.79,1233.37 1461.29,1233.37 1461.29,848.247 1449.79,848.247 \n",
       "  \"/>\n",
       "<path clip-path=\"url(#clip212)\" d=\"\n",
       "M1464.17 894.845 L1464.17 1233.37 L1475.67 1233.37 L1475.67 894.845 L1464.17 894.845 L1464.17 894.845  Z\n",
       "  \" fill=\"#009af9\" fill-rule=\"evenodd\" fill-opacity=\"1\"/>\n",
       "<polyline clip-path=\"url(#clip212)\" style=\"stroke:#000000; stroke-width:4; stroke-opacity:1; fill:none\" points=\"\n",
       "  1464.17,894.845 1464.17,1233.37 1475.67,1233.37 1475.67,894.845 1464.17,894.845 \n",
       "  \"/>\n",
       "<path clip-path=\"url(#clip212)\" d=\"\n",
       "M1478.54 864.367 L1478.54 1233.37 L1490.04 1233.37 L1490.04 864.367 L1478.54 864.367 L1478.54 864.367  Z\n",
       "  \" fill=\"#009af9\" fill-rule=\"evenodd\" fill-opacity=\"1\"/>\n",
       "<polyline clip-path=\"url(#clip212)\" style=\"stroke:#000000; stroke-width:4; stroke-opacity:1; fill:none\" points=\"\n",
       "  1478.54,864.367 1478.54,1233.37 1490.04,1233.37 1490.04,864.367 1478.54,864.367 \n",
       "  \"/>\n",
       "<path clip-path=\"url(#clip212)\" d=\"\n",
       "M1492.91 907.691 L1492.91 1233.37 L1504.41 1233.37 L1504.41 907.691 L1492.91 907.691 L1492.91 907.691  Z\n",
       "  \" fill=\"#009af9\" fill-rule=\"evenodd\" fill-opacity=\"1\"/>\n",
       "<polyline clip-path=\"url(#clip212)\" style=\"stroke:#000000; stroke-width:4; stroke-opacity:1; fill:none\" points=\"\n",
       "  1492.91,907.691 1492.91,1233.37 1504.41,1233.37 1504.41,907.691 1492.91,907.691 \n",
       "  \"/>\n",
       "<path clip-path=\"url(#clip212)\" d=\"\n",
       "M1507.29 812.228 L1507.29 1233.37 L1518.79 1233.37 L1518.79 812.228 L1507.29 812.228 L1507.29 812.228  Z\n",
       "  \" fill=\"#009af9\" fill-rule=\"evenodd\" fill-opacity=\"1\"/>\n",
       "<polyline clip-path=\"url(#clip212)\" style=\"stroke:#000000; stroke-width:4; stroke-opacity:1; fill:none\" points=\"\n",
       "  1507.29,812.228 1507.29,1233.37 1518.79,1233.37 1518.79,812.228 1507.29,812.228 \n",
       "  \"/>\n",
       "<path clip-path=\"url(#clip212)\" d=\"\n",
       "M1521.66 937.916 L1521.66 1233.37 L1533.16 1233.37 L1533.16 937.916 L1521.66 937.916 L1521.66 937.916  Z\n",
       "  \" fill=\"#009af9\" fill-rule=\"evenodd\" fill-opacity=\"1\"/>\n",
       "<polyline clip-path=\"url(#clip212)\" style=\"stroke:#000000; stroke-width:4; stroke-opacity:1; fill:none\" points=\"\n",
       "  1521.66,937.916 1521.66,1233.37 1533.16,1233.37 1533.16,937.916 1521.66,937.916 \n",
       "  \"/>\n",
       "<path clip-path=\"url(#clip212)\" d=\"\n",
       "M1536.03 925.574 L1536.03 1233.37 L1547.53 1233.37 L1547.53 925.574 L1536.03 925.574 L1536.03 925.574  Z\n",
       "  \" fill=\"#009af9\" fill-rule=\"evenodd\" fill-opacity=\"1\"/>\n",
       "<polyline clip-path=\"url(#clip212)\" style=\"stroke:#000000; stroke-width:4; stroke-opacity:1; fill:none\" points=\"\n",
       "  1536.03,925.574 1536.03,1233.37 1547.53,1233.37 1547.53,925.574 1536.03,925.574 \n",
       "  \"/>\n",
       "<path clip-path=\"url(#clip212)\" d=\"\n",
       "M1550.41 894.341 L1550.41 1233.37 L1561.91 1233.37 L1561.91 894.341 L1550.41 894.341 L1550.41 894.341  Z\n",
       "  \" fill=\"#009af9\" fill-rule=\"evenodd\" fill-opacity=\"1\"/>\n",
       "<polyline clip-path=\"url(#clip212)\" style=\"stroke:#000000; stroke-width:4; stroke-opacity:1; fill:none\" points=\"\n",
       "  1550.41,894.341 1550.41,1233.37 1561.91,1233.37 1561.91,894.341 1550.41,894.341 \n",
       "  \"/>\n",
       "<path clip-path=\"url(#clip212)\" d=\"\n",
       "M1564.78 945.976 L1564.78 1233.37 L1576.28 1233.37 L1576.28 945.976 L1564.78 945.976 L1564.78 945.976  Z\n",
       "  \" fill=\"#009af9\" fill-rule=\"evenodd\" fill-opacity=\"1\"/>\n",
       "<polyline clip-path=\"url(#clip212)\" style=\"stroke:#000000; stroke-width:4; stroke-opacity:1; fill:none\" points=\"\n",
       "  1564.78,945.976 1564.78,1233.37 1576.28,1233.37 1576.28,945.976 1564.78,945.976 \n",
       "  \"/>\n",
       "<path clip-path=\"url(#clip212)\" d=\"\n",
       "M1579.15 769.661 L1579.15 1233.37 L1590.65 1233.37 L1590.65 769.661 L1579.15 769.661 L1579.15 769.661  Z\n",
       "  \" fill=\"#009af9\" fill-rule=\"evenodd\" fill-opacity=\"1\"/>\n",
       "<polyline clip-path=\"url(#clip212)\" style=\"stroke:#000000; stroke-width:4; stroke-opacity:1; fill:none\" points=\"\n",
       "  1579.15,769.661 1579.15,1233.37 1590.65,1233.37 1590.65,769.661 1579.15,769.661 \n",
       "  \"/>\n",
       "<path clip-path=\"url(#clip212)\" d=\"\n",
       "M1593.53 834.142 L1593.53 1233.37 L1605.03 1233.37 L1605.03 834.142 L1593.53 834.142 L1593.53 834.142  Z\n",
       "  \" fill=\"#009af9\" fill-rule=\"evenodd\" fill-opacity=\"1\"/>\n",
       "<polyline clip-path=\"url(#clip212)\" style=\"stroke:#000000; stroke-width:4; stroke-opacity:1; fill:none\" points=\"\n",
       "  1593.53,834.142 1593.53,1233.37 1605.03,1233.37 1605.03,834.142 1593.53,834.142 \n",
       "  \"/>\n",
       "<path clip-path=\"url(#clip212)\" d=\"\n",
       "M1607.9 931.871 L1607.9 1233.37 L1619.4 1233.37 L1619.4 931.871 L1607.9 931.871 L1607.9 931.871  Z\n",
       "  \" fill=\"#009af9\" fill-rule=\"evenodd\" fill-opacity=\"1\"/>\n",
       "<polyline clip-path=\"url(#clip212)\" style=\"stroke:#000000; stroke-width:4; stroke-opacity:1; fill:none\" points=\"\n",
       "  1607.9,931.871 1607.9,1233.37 1619.4,1233.37 1619.4,931.871 1607.9,931.871 \n",
       "  \"/>\n",
       "<path clip-path=\"url(#clip212)\" d=\"\n",
       "M1622.27 943.458 L1622.27 1233.37 L1633.77 1233.37 L1633.77 943.458 L1622.27 943.458 L1622.27 943.458  Z\n",
       "  \" fill=\"#009af9\" fill-rule=\"evenodd\" fill-opacity=\"1\"/>\n",
       "<polyline clip-path=\"url(#clip212)\" style=\"stroke:#000000; stroke-width:4; stroke-opacity:1; fill:none\" points=\"\n",
       "  1622.27,943.458 1622.27,1233.37 1633.77,1233.37 1633.77,943.458 1622.27,943.458 \n",
       "  \"/>\n",
       "<path clip-path=\"url(#clip212)\" d=\"\n",
       "M1636.65 842.706 L1636.65 1233.37 L1648.15 1233.37 L1648.15 842.706 L1636.65 842.706 L1636.65 842.706  Z\n",
       "  \" fill=\"#009af9\" fill-rule=\"evenodd\" fill-opacity=\"1\"/>\n",
       "<polyline clip-path=\"url(#clip212)\" style=\"stroke:#000000; stroke-width:4; stroke-opacity:1; fill:none\" points=\"\n",
       "  1636.65,842.706 1636.65,1233.37 1648.15,1233.37 1648.15,842.706 1636.65,842.706 \n",
       "  \"/>\n",
       "<path clip-path=\"url(#clip212)\" d=\"\n",
       "M1651.02 717.27 L1651.02 1233.37 L1662.52 1233.37 L1662.52 717.27 L1651.02 717.27 L1651.02 717.27  Z\n",
       "  \" fill=\"#009af9\" fill-rule=\"evenodd\" fill-opacity=\"1\"/>\n",
       "<polyline clip-path=\"url(#clip212)\" style=\"stroke:#000000; stroke-width:4; stroke-opacity:1; fill:none\" points=\"\n",
       "  1651.02,717.27 1651.02,1233.37 1662.52,1233.37 1662.52,717.27 1651.02,717.27 \n",
       "  \"/>\n",
       "<path clip-path=\"url(#clip212)\" d=\"\n",
       "M1665.39 773.187 L1665.39 1233.37 L1676.89 1233.37 L1676.89 773.187 L1665.39 773.187 L1665.39 773.187  Z\n",
       "  \" fill=\"#009af9\" fill-rule=\"evenodd\" fill-opacity=\"1\"/>\n",
       "<polyline clip-path=\"url(#clip212)\" style=\"stroke:#000000; stroke-width:4; stroke-opacity:1; fill:none\" points=\"\n",
       "  1665.39,773.187 1665.39,1233.37 1676.89,1233.37 1676.89,773.187 1665.39,773.187 \n",
       "  \"/>\n",
       "<path clip-path=\"url(#clip212)\" d=\"\n",
       "M1679.77 547.503 L1679.77 1233.37 L1691.27 1233.37 L1691.27 547.503 L1679.77 547.503 L1679.77 547.503  Z\n",
       "  \" fill=\"#009af9\" fill-rule=\"evenodd\" fill-opacity=\"1\"/>\n",
       "<polyline clip-path=\"url(#clip212)\" style=\"stroke:#000000; stroke-width:4; stroke-opacity:1; fill:none\" points=\"\n",
       "  1679.77,547.503 1679.77,1233.37 1691.27,1233.37 1691.27,547.503 1679.77,547.503 \n",
       "  \"/>\n",
       "<path clip-path=\"url(#clip212)\" d=\"\n",
       "M1694.14 699.638 L1694.14 1233.37 L1705.64 1233.37 L1705.64 699.638 L1694.14 699.638 L1694.14 699.638  Z\n",
       "  \" fill=\"#009af9\" fill-rule=\"evenodd\" fill-opacity=\"1\"/>\n",
       "<polyline clip-path=\"url(#clip212)\" style=\"stroke:#000000; stroke-width:4; stroke-opacity:1; fill:none\" points=\"\n",
       "  1694.14,699.638 1694.14,1233.37 1705.64,1233.37 1705.64,699.638 1694.14,699.638 \n",
       "  \"/>\n",
       "<path clip-path=\"url(#clip212)\" d=\"\n",
       "M1708.51 697.875 L1708.51 1233.37 L1720.01 1233.37 L1720.01 697.875 L1708.51 697.875 L1708.51 697.875  Z\n",
       "  \" fill=\"#009af9\" fill-rule=\"evenodd\" fill-opacity=\"1\"/>\n",
       "<polyline clip-path=\"url(#clip212)\" style=\"stroke:#000000; stroke-width:4; stroke-opacity:1; fill:none\" points=\"\n",
       "  1708.51,697.875 1708.51,1233.37 1720.01,1233.37 1720.01,697.875 1708.51,697.875 \n",
       "  \"/>\n",
       "<path clip-path=\"url(#clip212)\" d=\"\n",
       "M1722.89 734.649 L1722.89 1233.37 L1734.39 1233.37 L1734.39 734.649 L1722.89 734.649 L1722.89 734.649  Z\n",
       "  \" fill=\"#009af9\" fill-rule=\"evenodd\" fill-opacity=\"1\"/>\n",
       "<polyline clip-path=\"url(#clip212)\" style=\"stroke:#000000; stroke-width:4; stroke-opacity:1; fill:none\" points=\"\n",
       "  1722.89,734.649 1722.89,1233.37 1734.39,1233.37 1734.39,734.649 1722.89,734.649 \n",
       "  \"/>\n",
       "<path clip-path=\"url(#clip212)\" d=\"\n",
       "M1737.26 674.45 L1737.26 1233.37 L1748.76 1233.37 L1748.76 674.45 L1737.26 674.45 L1737.26 674.45  Z\n",
       "  \" fill=\"#009af9\" fill-rule=\"evenodd\" fill-opacity=\"1\"/>\n",
       "<polyline clip-path=\"url(#clip212)\" style=\"stroke:#000000; stroke-width:4; stroke-opacity:1; fill:none\" points=\"\n",
       "  1737.26,674.45 1737.26,1233.37 1748.76,1233.37 1748.76,674.45 1737.26,674.45 \n",
       "  \"/>\n",
       "<path clip-path=\"url(#clip212)\" d=\"\n",
       "M1751.64 665.886 L1751.64 1233.37 L1763.13 1233.37 L1763.13 665.886 L1751.64 665.886 L1751.64 665.886  Z\n",
       "  \" fill=\"#009af9\" fill-rule=\"evenodd\" fill-opacity=\"1\"/>\n",
       "<polyline clip-path=\"url(#clip212)\" style=\"stroke:#000000; stroke-width:4; stroke-opacity:1; fill:none\" points=\"\n",
       "  1751.64,665.886 1751.64,1233.37 1763.13,1233.37 1763.13,665.886 1751.64,665.886 \n",
       "  \"/>\n",
       "<path clip-path=\"url(#clip212)\" d=\"\n",
       "M1766.01 587.804 L1766.01 1233.37 L1777.51 1233.37 L1777.51 587.804 L1766.01 587.804 L1766.01 587.804  Z\n",
       "  \" fill=\"#009af9\" fill-rule=\"evenodd\" fill-opacity=\"1\"/>\n",
       "<polyline clip-path=\"url(#clip212)\" style=\"stroke:#000000; stroke-width:4; stroke-opacity:1; fill:none\" points=\"\n",
       "  1766.01,587.804 1766.01,1233.37 1777.51,1233.37 1777.51,587.804 1766.01,587.804 \n",
       "  \"/>\n",
       "<path clip-path=\"url(#clip212)\" d=\"\n",
       "M1780.38 443.225 L1780.38 1233.37 L1791.88 1233.37 L1791.88 443.225 L1780.38 443.225 L1780.38 443.225  Z\n",
       "  \" fill=\"#009af9\" fill-rule=\"evenodd\" fill-opacity=\"1\"/>\n",
       "<polyline clip-path=\"url(#clip212)\" style=\"stroke:#000000; stroke-width:4; stroke-opacity:1; fill:none\" points=\"\n",
       "  1780.38,443.225 1780.38,1233.37 1791.88,1233.37 1791.88,443.225 1780.38,443.225 \n",
       "  \"/>\n",
       "<path clip-path=\"url(#clip212)\" d=\"\n",
       "M1794.76 616.266 L1794.76 1233.37 L1806.25 1233.37 L1806.25 616.266 L1794.76 616.266 L1794.76 616.266  Z\n",
       "  \" fill=\"#009af9\" fill-rule=\"evenodd\" fill-opacity=\"1\"/>\n",
       "<polyline clip-path=\"url(#clip212)\" style=\"stroke:#000000; stroke-width:4; stroke-opacity:1; fill:none\" points=\"\n",
       "  1794.76,616.266 1794.76,1233.37 1806.25,1233.37 1806.25,616.266 1794.76,616.266 \n",
       "  \"/>\n",
       "<path clip-path=\"url(#clip212)\" d=\"\n",
       "M1809.13 479.243 L1809.13 1233.37 L1820.63 1233.37 L1820.63 479.243 L1809.13 479.243 L1809.13 479.243  Z\n",
       "  \" fill=\"#009af9\" fill-rule=\"evenodd\" fill-opacity=\"1\"/>\n",
       "<polyline clip-path=\"url(#clip212)\" style=\"stroke:#000000; stroke-width:4; stroke-opacity:1; fill:none\" points=\"\n",
       "  1809.13,479.243 1809.13,1233.37 1820.63,1233.37 1820.63,479.243 1809.13,479.243 \n",
       "  \"/>\n",
       "<path clip-path=\"url(#clip212)\" d=\"\n",
       "M1823.5 643.721 L1823.5 1233.37 L1835 1233.37 L1835 643.721 L1823.5 643.721 L1823.5 643.721  Z\n",
       "  \" fill=\"#009af9\" fill-rule=\"evenodd\" fill-opacity=\"1\"/>\n",
       "<polyline clip-path=\"url(#clip212)\" style=\"stroke:#000000; stroke-width:4; stroke-opacity:1; fill:none\" points=\"\n",
       "  1823.5,643.721 1823.5,1233.37 1835,1233.37 1835,643.721 1823.5,643.721 \n",
       "  \"/>\n",
       "<path clip-path=\"url(#clip212)\" d=\"\n",
       "M1837.88 717.27 L1837.88 1233.37 L1849.37 1233.37 L1849.37 717.27 L1837.88 717.27 L1837.88 717.27  Z\n",
       "  \" fill=\"#009af9\" fill-rule=\"evenodd\" fill-opacity=\"1\"/>\n",
       "<polyline clip-path=\"url(#clip212)\" style=\"stroke:#000000; stroke-width:4; stroke-opacity:1; fill:none\" points=\"\n",
       "  1837.88,717.27 1837.88,1233.37 1849.37,1233.37 1849.37,717.27 1837.88,717.27 \n",
       "  \"/>\n",
       "<path clip-path=\"url(#clip212)\" d=\"\n",
       "M1852.25 660.345 L1852.25 1233.37 L1863.75 1233.37 L1863.75 660.345 L1852.25 660.345 L1852.25 660.345  Z\n",
       "  \" fill=\"#009af9\" fill-rule=\"evenodd\" fill-opacity=\"1\"/>\n",
       "<polyline clip-path=\"url(#clip212)\" style=\"stroke:#000000; stroke-width:4; stroke-opacity:1; fill:none\" points=\"\n",
       "  1852.25,660.345 1852.25,1233.37 1863.75,1233.37 1863.75,660.345 1852.25,660.345 \n",
       "  \"/>\n",
       "<path clip-path=\"url(#clip212)\" d=\"\n",
       "M1866.62 568.913 L1866.62 1233.37 L1878.12 1233.37 L1878.12 568.913 L1866.62 568.913 L1866.62 568.913  Z\n",
       "  \" fill=\"#009af9\" fill-rule=\"evenodd\" fill-opacity=\"1\"/>\n",
       "<polyline clip-path=\"url(#clip212)\" style=\"stroke:#000000; stroke-width:4; stroke-opacity:1; fill:none\" points=\"\n",
       "  1866.62,568.913 1866.62,1233.37 1878.12,1233.37 1878.12,568.913 1866.62,568.913 \n",
       "  \"/>\n",
       "<path clip-path=\"url(#clip212)\" d=\"\n",
       "M1881 506.446 L1881 1233.37 L1892.49 1233.37 L1892.49 506.446 L1881 506.446 L1881 506.446  Z\n",
       "  \" fill=\"#009af9\" fill-rule=\"evenodd\" fill-opacity=\"1\"/>\n",
       "<polyline clip-path=\"url(#clip212)\" style=\"stroke:#000000; stroke-width:4; stroke-opacity:1; fill:none\" points=\"\n",
       "  1881,506.446 1881,1233.37 1892.49,1233.37 1892.49,506.446 1881,506.446 \n",
       "  \"/>\n",
       "<path clip-path=\"url(#clip212)\" d=\"\n",
       "M1895.37 649.01 L1895.37 1233.37 L1906.87 1233.37 L1906.87 649.01 L1895.37 649.01 L1895.37 649.01  Z\n",
       "  \" fill=\"#009af9\" fill-rule=\"evenodd\" fill-opacity=\"1\"/>\n",
       "<polyline clip-path=\"url(#clip212)\" style=\"stroke:#000000; stroke-width:4; stroke-opacity:1; fill:none\" points=\"\n",
       "  1895.37,649.01 1895.37,1233.37 1906.87,1233.37 1906.87,649.01 1895.37,649.01 \n",
       "  \"/>\n",
       "<path clip-path=\"url(#clip212)\" d=\"\n",
       "M1909.74 816.762 L1909.74 1233.37 L1921.24 1233.37 L1921.24 816.762 L1909.74 816.762 L1909.74 816.762  Z\n",
       "  \" fill=\"#009af9\" fill-rule=\"evenodd\" fill-opacity=\"1\"/>\n",
       "<polyline clip-path=\"url(#clip212)\" style=\"stroke:#000000; stroke-width:4; stroke-opacity:1; fill:none\" points=\"\n",
       "  1909.74,816.762 1909.74,1233.37 1921.24,1233.37 1921.24,816.762 1909.74,816.762 \n",
       "  \"/>\n",
       "<path clip-path=\"url(#clip212)\" d=\"\n",
       "M1924.12 865.375 L1924.12 1233.37 L1935.62 1233.37 L1935.62 865.375 L1924.12 865.375 L1924.12 865.375  Z\n",
       "  \" fill=\"#009af9\" fill-rule=\"evenodd\" fill-opacity=\"1\"/>\n",
       "<polyline clip-path=\"url(#clip212)\" style=\"stroke:#000000; stroke-width:4; stroke-opacity:1; fill:none\" points=\"\n",
       "  1924.12,865.375 1924.12,1233.37 1935.62,1233.37 1935.62,865.375 1924.12,865.375 \n",
       "  \"/>\n",
       "<path clip-path=\"url(#clip212)\" d=\"\n",
       "M1938.49 214.518 L1938.49 1233.37 L1949.99 1233.37 L1949.99 214.518 L1938.49 214.518 L1938.49 214.518  Z\n",
       "  \" fill=\"#009af9\" fill-rule=\"evenodd\" fill-opacity=\"1\"/>\n",
       "<polyline clip-path=\"url(#clip212)\" style=\"stroke:#000000; stroke-width:4; stroke-opacity:1; fill:none\" points=\"\n",
       "  1938.49,214.518 1938.49,1233.37 1949.99,1233.37 1949.99,214.518 1938.49,214.518 \n",
       "  \"/>\n",
       "<path clip-path=\"url(#clip212)\" d=\"\n",
       "M1952.86 803.664 L1952.86 1233.37 L1964.36 1233.37 L1964.36 803.664 L1952.86 803.664 L1952.86 803.664  Z\n",
       "  \" fill=\"#009af9\" fill-rule=\"evenodd\" fill-opacity=\"1\"/>\n",
       "<polyline clip-path=\"url(#clip212)\" style=\"stroke:#000000; stroke-width:4; stroke-opacity:1; fill:none\" points=\"\n",
       "  1952.86,803.664 1952.86,1233.37 1964.36,1233.37 1964.36,803.664 1952.86,803.664 \n",
       "  \"/>\n",
       "<path clip-path=\"url(#clip212)\" d=\"\n",
       "M1967.24 425.593 L1967.24 1233.37 L1978.74 1233.37 L1978.74 425.593 L1967.24 425.593 L1967.24 425.593  Z\n",
       "  \" fill=\"#009af9\" fill-rule=\"evenodd\" fill-opacity=\"1\"/>\n",
       "<polyline clip-path=\"url(#clip212)\" style=\"stroke:#000000; stroke-width:4; stroke-opacity:1; fill:none\" points=\"\n",
       "  1967.24,425.593 1967.24,1233.37 1978.74,1233.37 1978.74,425.593 1967.24,425.593 \n",
       "  \"/>\n",
       "<path clip-path=\"url(#clip212)\" d=\"\n",
       "M1981.61 617.022 L1981.61 1233.37 L1993.11 1233.37 L1993.11 617.022 L1981.61 617.022 L1981.61 617.022  Z\n",
       "  \" fill=\"#009af9\" fill-rule=\"evenodd\" fill-opacity=\"1\"/>\n",
       "<polyline clip-path=\"url(#clip212)\" style=\"stroke:#000000; stroke-width:4; stroke-opacity:1; fill:none\" points=\"\n",
       "  1981.61,617.022 1981.61,1233.37 1993.11,1233.37 1993.11,617.022 1981.61,617.022 \n",
       "  \"/>\n",
       "<path clip-path=\"url(#clip212)\" d=\"\n",
       "M1995.98 694.097 L1995.98 1233.37 L2007.48 1233.37 L2007.48 694.097 L1995.98 694.097 L1995.98 694.097  Z\n",
       "  \" fill=\"#009af9\" fill-rule=\"evenodd\" fill-opacity=\"1\"/>\n",
       "<polyline clip-path=\"url(#clip212)\" style=\"stroke:#000000; stroke-width:4; stroke-opacity:1; fill:none\" points=\"\n",
       "  1995.98,694.097 1995.98,1233.37 2007.48,1233.37 2007.48,694.097 1995.98,694.097 \n",
       "  \"/>\n",
       "<path clip-path=\"url(#clip212)\" d=\"\n",
       "M2010.36 807.443 L2010.36 1233.37 L2021.86 1233.37 L2021.86 807.443 L2010.36 807.443 L2010.36 807.443  Z\n",
       "  \" fill=\"#009af9\" fill-rule=\"evenodd\" fill-opacity=\"1\"/>\n",
       "<polyline clip-path=\"url(#clip212)\" style=\"stroke:#000000; stroke-width:4; stroke-opacity:1; fill:none\" points=\"\n",
       "  2010.36,807.443 2010.36,1233.37 2021.86,1233.37 2021.86,807.443 2010.36,807.443 \n",
       "  \"/>\n",
       "<path clip-path=\"url(#clip212)\" d=\"\n",
       "M2024.73 624.326 L2024.73 1233.37 L2036.23 1233.37 L2036.23 624.326 L2024.73 624.326 L2024.73 624.326  Z\n",
       "  \" fill=\"#009af9\" fill-rule=\"evenodd\" fill-opacity=\"1\"/>\n",
       "<polyline clip-path=\"url(#clip212)\" style=\"stroke:#000000; stroke-width:4; stroke-opacity:1; fill:none\" points=\"\n",
       "  2024.73,624.326 2024.73,1233.37 2036.23,1233.37 2036.23,624.326 2024.73,624.326 \n",
       "  \"/>\n",
       "<path clip-path=\"url(#clip212)\" d=\"\n",
       "M2039.1 850.514 L2039.1 1233.37 L2050.6 1233.37 L2050.6 850.514 L2039.1 850.514 L2039.1 850.514  Z\n",
       "  \" fill=\"#009af9\" fill-rule=\"evenodd\" fill-opacity=\"1\"/>\n",
       "<polyline clip-path=\"url(#clip212)\" style=\"stroke:#000000; stroke-width:4; stroke-opacity:1; fill:none\" points=\"\n",
       "  2039.1,850.514 2039.1,1233.37 2050.6,1233.37 2050.6,850.514 2039.1,850.514 \n",
       "  \"/>\n",
       "<path clip-path=\"url(#clip212)\" d=\"\n",
       "M2053.48 625.082 L2053.48 1233.37 L2064.98 1233.37 L2064.98 625.082 L2053.48 625.082 L2053.48 625.082  Z\n",
       "  \" fill=\"#009af9\" fill-rule=\"evenodd\" fill-opacity=\"1\"/>\n",
       "<polyline clip-path=\"url(#clip212)\" style=\"stroke:#000000; stroke-width:4; stroke-opacity:1; fill:none\" points=\"\n",
       "  2053.48,625.082 2053.48,1233.37 2064.98,1233.37 2064.98,625.082 2053.48,625.082 \n",
       "  \"/>\n",
       "<path clip-path=\"url(#clip212)\" d=\"\n",
       "M2067.85 658.582 L2067.85 1233.37 L2079.35 1233.37 L2079.35 658.582 L2067.85 658.582 L2067.85 658.582  Z\n",
       "  \" fill=\"#009af9\" fill-rule=\"evenodd\" fill-opacity=\"1\"/>\n",
       "<polyline clip-path=\"url(#clip212)\" style=\"stroke:#000000; stroke-width:4; stroke-opacity:1; fill:none\" points=\"\n",
       "  2067.85,658.582 2067.85,1233.37 2079.35,1233.37 2079.35,658.582 2067.85,658.582 \n",
       "  \"/>\n",
       "<path clip-path=\"url(#clip212)\" d=\"\n",
       "M2082.22 549.518 L2082.22 1233.37 L2093.72 1233.37 L2093.72 549.518 L2082.22 549.518 L2082.22 549.518  Z\n",
       "  \" fill=\"#009af9\" fill-rule=\"evenodd\" fill-opacity=\"1\"/>\n",
       "<polyline clip-path=\"url(#clip212)\" style=\"stroke:#000000; stroke-width:4; stroke-opacity:1; fill:none\" points=\"\n",
       "  2082.22,549.518 2082.22,1233.37 2093.72,1233.37 2093.72,549.518 2082.22,549.518 \n",
       "  \"/>\n",
       "<path clip-path=\"url(#clip212)\" d=\"\n",
       "M2096.6 631.379 L2096.6 1233.37 L2108.1 1233.37 L2108.1 631.379 L2096.6 631.379 L2096.6 631.379  Z\n",
       "  \" fill=\"#009af9\" fill-rule=\"evenodd\" fill-opacity=\"1\"/>\n",
       "<polyline clip-path=\"url(#clip212)\" style=\"stroke:#000000; stroke-width:4; stroke-opacity:1; fill:none\" points=\"\n",
       "  2096.6,631.379 2096.6,1233.37 2108.1,1233.37 2108.1,631.379 2096.6,631.379 \n",
       "  \"/>\n",
       "<path clip-path=\"url(#clip212)\" d=\"\n",
       "M2110.97 618.533 L2110.97 1233.37 L2122.47 1233.37 L2122.47 618.533 L2110.97 618.533 L2110.97 618.533  Z\n",
       "  \" fill=\"#009af9\" fill-rule=\"evenodd\" fill-opacity=\"1\"/>\n",
       "<polyline clip-path=\"url(#clip212)\" style=\"stroke:#000000; stroke-width:4; stroke-opacity:1; fill:none\" points=\"\n",
       "  2110.97,618.533 2110.97,1233.37 2122.47,1233.37 2122.47,618.533 2110.97,618.533 \n",
       "  \"/>\n",
       "<path clip-path=\"url(#clip212)\" d=\"\n",
       "M2125.34 803.413 L2125.34 1233.37 L2136.84 1233.37 L2136.84 803.413 L2125.34 803.413 L2125.34 803.413  Z\n",
       "  \" fill=\"#009af9\" fill-rule=\"evenodd\" fill-opacity=\"1\"/>\n",
       "<polyline clip-path=\"url(#clip212)\" style=\"stroke:#000000; stroke-width:4; stroke-opacity:1; fill:none\" points=\"\n",
       "  2125.34,803.413 2125.34,1233.37 2136.84,1233.37 2136.84,803.413 2125.34,803.413 \n",
       "  \"/>\n",
       "<path clip-path=\"url(#clip212)\" d=\"\n",
       "M2139.72 921.544 L2139.72 1233.37 L2151.22 1233.37 L2151.22 921.544 L2139.72 921.544 L2139.72 921.544  Z\n",
       "  \" fill=\"#009af9\" fill-rule=\"evenodd\" fill-opacity=\"1\"/>\n",
       "<polyline clip-path=\"url(#clip212)\" style=\"stroke:#000000; stroke-width:4; stroke-opacity:1; fill:none\" points=\"\n",
       "  2139.72,921.544 2139.72,1233.37 2151.22,1233.37 2151.22,921.544 2139.72,921.544 \n",
       "  \"/>\n",
       "<path clip-path=\"url(#clip212)\" d=\"\n",
       "M2154.09 949.755 L2154.09 1233.37 L2165.59 1233.37 L2165.59 949.755 L2154.09 949.755 L2154.09 949.755  Z\n",
       "  \" fill=\"#009af9\" fill-rule=\"evenodd\" fill-opacity=\"1\"/>\n",
       "<polyline clip-path=\"url(#clip212)\" style=\"stroke:#000000; stroke-width:4; stroke-opacity:1; fill:none\" points=\"\n",
       "  2154.09,949.755 2154.09,1233.37 2165.59,1233.37 2165.59,949.755 2154.09,949.755 \n",
       "  \"/>\n",
       "<path clip-path=\"url(#clip212)\" d=\"\n",
       "M2168.46 851.522 L2168.46 1233.37 L2179.96 1233.37 L2179.96 851.522 L2168.46 851.522 L2168.46 851.522  Z\n",
       "  \" fill=\"#009af9\" fill-rule=\"evenodd\" fill-opacity=\"1\"/>\n",
       "<polyline clip-path=\"url(#clip212)\" style=\"stroke:#000000; stroke-width:4; stroke-opacity:1; fill:none\" points=\"\n",
       "  2168.46,851.522 2168.46,1233.37 2179.96,1233.37 2179.96,851.522 2168.46,851.522 \n",
       "  \"/>\n",
       "<path clip-path=\"url(#clip212)\" d=\"\n",
       "M2182.84 813.74 L2182.84 1233.37 L2194.34 1233.37 L2194.34 813.74 L2182.84 813.74 L2182.84 813.74  Z\n",
       "  \" fill=\"#009af9\" fill-rule=\"evenodd\" fill-opacity=\"1\"/>\n",
       "<polyline clip-path=\"url(#clip212)\" style=\"stroke:#000000; stroke-width:4; stroke-opacity:1; fill:none\" points=\"\n",
       "  2182.84,813.74 2182.84,1233.37 2194.34,1233.37 2194.34,813.74 2182.84,813.74 \n",
       "  \"/>\n",
       "<path clip-path=\"url(#clip212)\" d=\"\n",
       "M2197.21 856.559 L2197.21 1233.37 L2208.71 1233.37 L2208.71 856.559 L2197.21 856.559 L2197.21 856.559  Z\n",
       "  \" fill=\"#009af9\" fill-rule=\"evenodd\" fill-opacity=\"1\"/>\n",
       "<polyline clip-path=\"url(#clip212)\" style=\"stroke:#000000; stroke-width:4; stroke-opacity:1; fill:none\" points=\"\n",
       "  2197.21,856.559 2197.21,1233.37 2208.71,1233.37 2208.71,856.559 2197.21,856.559 \n",
       "  \"/>\n",
       "<path clip-path=\"url(#clip212)\" d=\"\n",
       "M2211.59 906.431 L2211.59 1233.37 L2223.08 1233.37 L2223.08 906.431 L2211.59 906.431 L2211.59 906.431  Z\n",
       "  \" fill=\"#009af9\" fill-rule=\"evenodd\" fill-opacity=\"1\"/>\n",
       "<polyline clip-path=\"url(#clip212)\" style=\"stroke:#000000; stroke-width:4; stroke-opacity:1; fill:none\" points=\"\n",
       "  2211.59,906.431 2211.59,1233.37 2223.08,1233.37 2223.08,906.431 2211.59,906.431 \n",
       "  \"/>\n",
       "<path clip-path=\"url(#clip212)\" d=\"\n",
       "M2225.96 961.845 L2225.96 1233.37 L2237.46 1233.37 L2237.46 961.845 L2225.96 961.845 L2225.96 961.845  Z\n",
       "  \" fill=\"#009af9\" fill-rule=\"evenodd\" fill-opacity=\"1\"/>\n",
       "<polyline clip-path=\"url(#clip212)\" style=\"stroke:#000000; stroke-width:4; stroke-opacity:1; fill:none\" points=\"\n",
       "  2225.96,961.845 2225.96,1233.37 2237.46,1233.37 2237.46,961.845 2225.96,961.845 \n",
       "  \"/>\n",
       "<polyline clip-path=\"url(#clip212)\" style=\"stroke:#ff0000; stroke-width:8; stroke-opacity:1; fill:none\" points=\"\n",
       "  377.534,1233.37 391.908,1233.37 406.281,1233.37 420.655,1233.37 435.028,1233.37 449.402,1233.37 463.775,1233.35 478.148,1233.35 492.522,1233.35 506.895,1233.35 \n",
       "  521.269,1233.35 535.642,1233.35 550.016,1233.35 564.389,1233.37 578.763,1233.37 593.136,1233.37 607.509,1233.37 621.883,1233.37 636.256,1233.37 650.63,1233.37 \n",
       "  665.003,1233.37 679.377,1233.37 693.75,1233.37 708.123,1233.37 722.497,1233.37 736.87,1233.37 751.244,1233.37 765.617,1233.37 779.991,1233.37 794.364,1233.37 \n",
       "  808.738,1233.37 823.111,1233.37 837.484,1233.37 851.858,1233.37 866.231,1233.37 880.605,1233.37 894.978,1233.35 909.352,1233.35 923.725,1233.3 938.098,1233.3 \n",
       "  952.472,1233.3 966.845,1233.27 981.219,1233.22 995.592,1233.27 1009.97,1233.22 1024.34,1233.12 1038.71,1232.84 1053.09,1232.62 1067.46,1232.39 1081.83,1231.94 \n",
       "  1096.21,1231.21 1110.58,1230.25 1124.95,1230.02 1139.33,1228.33 1153.7,1223.98 1168.07,1219.42 1182.45,1214.05 1196.82,1208.71 1211.19,1199.09 1225.57,1190.88 \n",
       "  1239.94,1183.85 1254.31,1176.22 1268.69,1157.15 1283.06,1145.36 1297.43,1132.77 1311.81,1105.06 1326.18,1097.18 1340.55,1073 1354.93,1049.73 1369.3,1047.81 \n",
       "  1383.68,1021.97 1398.05,988.317 1412.42,993.607 1426.8,974.59 1441.17,961.442 1455.54,941.921 1469.92,919.353 1484.29,910.134 1498.66,915.902 1513.04,888.8 \n",
       "  1527.41,882.075 1541.78,884.417 1556.16,890.991 1570.53,898.296 1584.9,884.77 1599.28,874.266 1613.65,891.344 1628.02,892.15 1642.4,880.311 1656.77,855.023 \n",
       "  1671.14,830.338 1685.52,798.602 1699.89,779.383 1714.26,745.959 1728.64,716.111 1743.01,692.082 1757.38,684.752 1771.76,658.254 1786.13,643.368 1800.5,631.454 \n",
       "  1814.88,600.221 1829.25,587.224 1843.63,593.345 1858,592.564 1872.37,589.844 1886.75,598.886 1901.12,603.571 1915.49,651.781 1929.87,683.442 1944.24,611.631 \n",
       "  1958.61,632.109 1972.99,611.631 1987.36,627.424 2001.73,633.872 2016.11,632.537 2030.48,598.105 2044.85,688.958 2059.23,663.443 2073.6,696.716 2087.97,687.069 \n",
       "  2102.35,678.128 2116.72,651.126 2131.09,676.717 2145.47,686.868 2159.84,733.239 2174.21,760.82 2188.59,798.551 2202.96,830.716 2217.33,871.848 2231.71,894.492 \n",
       "  \n",
       "  \"/>\n",
       "<path clip-path=\"url(#clip210)\" d=\"\n",
       "M328.486 448.912 L808.138 448.912 L808.138 267.472 L328.486 267.472  Z\n",
       "  \" fill=\"#ffffff\" fill-rule=\"evenodd\" fill-opacity=\"1\"/>\n",
       "<polyline clip-path=\"url(#clip210)\" style=\"stroke:#000000; stroke-width:4; stroke-opacity:1; fill:none\" points=\"\n",
       "  328.486,448.912 808.138,448.912 808.138,267.472 328.486,267.472 328.486,448.912 \n",
       "  \"/>\n",
       "<path clip-path=\"url(#clip210)\" d=\"\n",
       "M352.486 352.144 L496.486 352.144 L496.486 303.76 L352.486 303.76 L352.486 352.144  Z\n",
       "  \" fill=\"#009af9\" fill-rule=\"evenodd\" fill-opacity=\"1\"/>\n",
       "<polyline clip-path=\"url(#clip210)\" style=\"stroke:#000000; stroke-width:4; stroke-opacity:1; fill:none\" points=\"\n",
       "  352.486,352.144 496.486,352.144 496.486,303.76 352.486,303.76 352.486,352.144 \n",
       "  \"/>\n",
       "<path clip-path=\"url(#clip210)\" d=\"M 0 0 M525.162 314.515 L525.162 341.39 L530.81 341.39 Q537.963 341.39 541.273 338.149 Q544.607 334.908 544.607 327.917 Q544.607 320.973 541.273 317.755 Q537.963 314.515 530.81 314.515 L525.162 314.515 M520.486 310.672 L530.093 310.672 Q540.139 310.672 544.838 314.862 Q549.537 319.029 549.537 327.917 Q549.537 336.853 544.815 341.042 Q540.093 345.232 530.093 345.232 L520.486 345.232 L520.486 310.672 Z\" fill=\"#000000\" fill-rule=\"evenodd\" fill-opacity=\"1\" /><path clip-path=\"url(#clip210)\" d=\"M 0 0 M565.787 332.2 Q560.625 332.2 558.634 333.38 Q556.644 334.561 556.644 337.408 Q556.644 339.677 558.125 341.019 Q559.63 342.339 562.199 342.339 Q565.741 342.339 567.87 339.839 Q570.023 337.316 570.023 333.149 L570.023 332.2 L565.787 332.2 M574.282 330.441 L574.282 345.232 L570.023 345.232 L570.023 341.297 Q568.565 343.658 566.389 344.792 Q564.213 345.903 561.065 345.903 Q557.083 345.903 554.722 343.681 Q552.384 341.436 552.384 337.686 Q552.384 333.311 555.301 331.089 Q558.241 328.866 564.051 328.866 L570.023 328.866 L570.023 328.45 Q570.023 325.51 568.079 323.913 Q566.157 322.292 562.662 322.292 Q560.44 322.292 558.333 322.825 Q556.227 323.357 554.283 324.422 L554.283 320.487 Q556.621 319.584 558.82 319.144 Q561.019 318.681 563.102 318.681 Q568.727 318.681 571.505 321.598 Q574.282 324.515 574.282 330.441 Z\" fill=\"#000000\" fill-rule=\"evenodd\" fill-opacity=\"1\" /><path clip-path=\"url(#clip210)\" d=\"M 0 0 M578.75 319.306 L583.009 319.306 L583.009 345.232 L578.75 345.232 L578.75 319.306 M578.75 309.214 L583.009 309.214 L583.009 314.607 L578.75 314.607 L578.75 309.214 Z\" fill=\"#000000\" fill-rule=\"evenodd\" fill-opacity=\"1\" /><path clip-path=\"url(#clip210)\" d=\"M 0 0 M587.477 309.214 L591.736 309.214 L591.736 345.232 L587.477 345.232 L587.477 309.214 Z\" fill=\"#000000\" fill-rule=\"evenodd\" fill-opacity=\"1\" /><path clip-path=\"url(#clip210)\" d=\"M 0 0 M606.991 347.64 Q605.185 352.269 603.472 353.681 Q601.759 355.093 598.889 355.093 L595.486 355.093 L595.486 351.528 L597.986 351.528 Q599.745 351.528 600.717 350.695 Q601.69 349.862 602.87 346.76 L603.634 344.815 L593.148 319.306 L597.662 319.306 L605.764 339.584 L613.866 319.306 L618.379 319.306 L606.991 347.64 Z\" fill=\"#000000\" fill-rule=\"evenodd\" fill-opacity=\"1\" /><path clip-path=\"url(#clip210)\" d=\"M 0 0 M663.981 313.334 L663.981 318.265 Q661.62 316.066 658.935 314.978 Q656.273 313.89 653.264 313.89 Q647.338 313.89 644.189 317.524 Q641.041 321.135 641.041 327.987 Q641.041 334.816 644.189 338.45 Q647.338 342.061 653.264 342.061 Q656.273 342.061 658.935 340.973 Q661.62 339.885 663.981 337.686 L663.981 342.57 Q661.527 344.237 658.773 345.07 Q656.041 345.903 652.986 345.903 Q645.139 345.903 640.625 341.112 Q636.111 336.297 636.111 327.987 Q636.111 319.654 640.625 314.862 Q645.139 310.047 652.986 310.047 Q656.088 310.047 658.819 310.88 Q661.574 311.691 663.981 313.334 Z\" fill=\"#000000\" fill-rule=\"evenodd\" fill-opacity=\"1\" /><path clip-path=\"url(#clip210)\" d=\"M 0 0 M680.231 332.2 Q675.069 332.2 673.078 333.38 Q671.087 334.561 671.087 337.408 Q671.087 339.677 672.569 341.019 Q674.074 342.339 676.643 342.339 Q680.185 342.339 682.314 339.839 Q684.467 337.316 684.467 333.149 L684.467 332.2 L680.231 332.2 M688.726 330.441 L688.726 345.232 L684.467 345.232 L684.467 341.297 Q683.009 343.658 680.833 344.792 Q678.657 345.903 675.509 345.903 Q671.527 345.903 669.166 343.681 Q666.828 341.436 666.828 337.686 Q666.828 333.311 669.745 331.089 Q672.685 328.866 678.495 328.866 L684.467 328.866 L684.467 328.45 Q684.467 325.51 682.523 323.913 Q680.601 322.292 677.106 322.292 Q674.884 322.292 672.777 322.825 Q670.671 323.357 668.726 324.422 L668.726 320.487 Q671.064 319.584 673.263 319.144 Q675.462 318.681 677.546 318.681 Q683.171 318.681 685.949 321.598 Q688.726 324.515 688.726 330.441 Z\" fill=\"#000000\" fill-rule=\"evenodd\" fill-opacity=\"1\" /><path clip-path=\"url(#clip210)\" d=\"M 0 0 M709.722 320.07 L709.722 324.098 Q707.916 323.172 705.972 322.709 Q704.027 322.246 701.944 322.246 Q698.773 322.246 697.175 323.218 Q695.601 324.191 695.601 326.135 Q695.601 327.616 696.735 328.473 Q697.87 329.306 701.296 330.07 L702.754 330.394 Q707.291 331.366 709.189 333.149 Q711.11 334.908 711.11 338.079 Q711.11 341.69 708.24 343.797 Q705.393 345.903 700.393 345.903 Q698.31 345.903 696.041 345.487 Q693.796 345.093 691.296 344.283 L691.296 339.885 Q693.657 341.112 695.948 341.737 Q698.24 342.339 700.485 342.339 Q703.495 342.339 705.115 341.32 Q706.735 340.278 706.735 338.403 Q706.735 336.667 705.555 335.741 Q704.397 334.816 700.439 333.959 L698.958 333.612 Q694.999 332.778 693.24 331.066 Q691.481 329.329 691.481 326.32 Q691.481 322.663 694.073 320.672 Q696.666 318.681 701.435 318.681 Q703.796 318.681 705.879 319.029 Q707.962 319.376 709.722 320.07 Z\" fill=\"#000000\" fill-rule=\"evenodd\" fill-opacity=\"1\" /><path clip-path=\"url(#clip210)\" d=\"M 0 0 M737.754 331.204 L737.754 333.288 L718.171 333.288 Q718.448 337.686 720.809 340.001 Q723.194 342.292 727.43 342.292 Q729.883 342.292 732.175 341.69 Q734.49 341.089 736.758 339.885 L736.758 343.913 Q734.467 344.885 732.059 345.394 Q729.652 345.903 727.175 345.903 Q720.971 345.903 717.337 342.292 Q713.726 338.681 713.726 332.524 Q713.726 326.158 717.152 322.431 Q720.601 318.681 726.434 318.681 Q731.666 318.681 734.698 322.061 Q737.754 325.417 737.754 331.204 M733.495 329.954 Q733.448 326.459 731.527 324.376 Q729.629 322.292 726.481 322.292 Q722.916 322.292 720.763 324.306 Q718.634 326.32 718.309 329.978 L733.495 329.954 Z\" fill=\"#000000\" fill-rule=\"evenodd\" fill-opacity=\"1\" /><path clip-path=\"url(#clip210)\" d=\"M 0 0 M758.749 320.07 L758.749 324.098 Q756.944 323.172 754.999 322.709 Q753.055 322.246 750.971 322.246 Q747.8 322.246 746.203 323.218 Q744.629 324.191 744.629 326.135 Q744.629 327.616 745.763 328.473 Q746.897 329.306 750.323 330.07 L751.781 330.394 Q756.319 331.366 758.217 333.149 Q760.138 334.908 760.138 338.079 Q760.138 341.69 757.268 343.797 Q754.42 345.903 749.42 345.903 Q747.337 345.903 745.069 345.487 Q742.823 345.093 740.323 344.283 L740.323 339.885 Q742.684 341.112 744.976 341.737 Q747.268 342.339 749.513 342.339 Q752.522 342.339 754.143 341.32 Q755.763 340.278 755.763 338.403 Q755.763 336.667 754.582 335.741 Q753.425 334.816 749.467 333.959 L747.985 333.612 Q744.027 332.778 742.268 331.066 Q740.508 329.329 740.508 326.32 Q740.508 322.663 743.101 320.672 Q745.694 318.681 750.462 318.681 Q752.823 318.681 754.906 319.029 Q756.99 319.376 758.749 320.07 Z\" fill=\"#000000\" fill-rule=\"evenodd\" fill-opacity=\"1\" /><polyline clip-path=\"url(#clip210)\" style=\"stroke:#ff0000; stroke-width:4; stroke-opacity:1; fill:none\" points=\"\n",
       "  352.486,388.432 496.486,388.432 \n",
       "  \"/>\n",
       "<path clip-path=\"url(#clip210)\" d=\"M 0 0 M520.486 371.152 L542.709 371.152 L542.709 373.143 L530.162 405.712 L525.278 405.712 L537.084 375.087 L520.486 375.087 L520.486 371.152 Z\" fill=\"#000000\" fill-rule=\"evenodd\" fill-opacity=\"1\" /><path clip-path=\"url(#clip210)\" d=\"M 0 0 M545.023 390.828 L557.5 390.828 L557.5 394.624 L545.023 394.624 L545.023 390.828 Z\" fill=\"#000000\" fill-rule=\"evenodd\" fill-opacity=\"1\" /><path clip-path=\"url(#clip210)\" d=\"M 0 0 M579.028 383.722 L579.028 369.694 L583.287 369.694 L583.287 405.712 L579.028 405.712 L579.028 401.823 Q577.685 404.138 575.625 405.272 Q573.588 406.383 570.718 406.383 Q566.019 406.383 563.056 402.633 Q560.116 398.883 560.116 392.772 Q560.116 386.661 563.056 382.911 Q566.019 379.161 570.718 379.161 Q573.588 379.161 575.625 380.296 Q577.685 381.407 579.028 383.722 M564.514 392.772 Q564.514 397.471 566.435 400.157 Q568.38 402.819 571.759 402.819 Q575.139 402.819 577.083 400.157 Q579.028 397.471 579.028 392.772 Q579.028 388.073 577.083 385.411 Q575.139 382.726 571.759 382.726 Q568.38 382.726 566.435 385.411 Q564.514 388.073 564.514 392.772 Z\" fill=\"#000000\" fill-rule=\"evenodd\" fill-opacity=\"1\" /><path clip-path=\"url(#clip210)\" d=\"M 0 0 M599.537 392.68 Q594.375 392.68 592.384 393.86 Q590.393 395.041 590.393 397.888 Q590.393 400.157 591.875 401.499 Q593.38 402.819 595.949 402.819 Q599.491 402.819 601.62 400.319 Q603.773 397.796 603.773 393.629 L603.773 392.68 L599.537 392.68 M608.032 390.921 L608.032 405.712 L603.773 405.712 L603.773 401.777 Q602.315 404.138 600.139 405.272 Q597.963 406.383 594.815 406.383 Q590.833 406.383 588.472 404.161 Q586.134 401.916 586.134 398.166 Q586.134 393.791 589.051 391.569 Q591.991 389.346 597.801 389.346 L603.773 389.346 L603.773 388.93 Q603.773 385.99 601.829 384.393 Q599.907 382.772 596.412 382.772 Q594.19 382.772 592.083 383.305 Q589.977 383.837 588.032 384.902 L588.032 380.967 Q590.37 380.064 592.569 379.624 Q594.768 379.161 596.852 379.161 Q602.477 379.161 605.255 382.078 Q608.032 384.995 608.032 390.921 Z\" fill=\"#000000\" fill-rule=\"evenodd\" fill-opacity=\"1\" /><path clip-path=\"url(#clip210)\" d=\"M 0 0 M623.287 408.12 Q621.481 412.749 619.768 414.161 Q618.055 415.573 615.185 415.573 L611.782 415.573 L611.782 412.008 L614.282 412.008 Q616.041 412.008 617.014 411.175 Q617.986 410.342 619.166 407.24 L619.93 405.295 L609.444 379.786 L613.958 379.786 L622.06 400.064 L630.162 379.786 L634.676 379.786 L623.287 408.12 Z\" fill=\"#000000\" fill-rule=\"evenodd\" fill-opacity=\"1\" /><path clip-path=\"url(#clip210)\" d=\"M 0 0 M665.949 375.759 L659.606 392.958 L672.314 392.958 L665.949 375.759 M663.31 371.152 L668.611 371.152 L681.782 405.712 L676.921 405.712 L673.773 396.846 L658.194 396.846 L655.046 405.712 L650.115 405.712 L663.31 371.152 Z\" fill=\"#000000\" fill-rule=\"evenodd\" fill-opacity=\"1\" /><path clip-path=\"url(#clip210)\" d=\"M 0 0 M680.416 379.786 L684.93 379.786 L693.032 401.545 L701.134 379.786 L705.647 379.786 L695.925 405.712 L690.138 405.712 L680.416 379.786 Z\" fill=\"#000000\" fill-rule=\"evenodd\" fill-opacity=\"1\" /><path clip-path=\"url(#clip210)\" d=\"M 0 0 M727.175 392.448 Q727.175 387.819 725.254 385.272 Q723.356 382.726 719.907 382.726 Q716.481 382.726 714.559 385.272 Q712.661 387.819 712.661 392.448 Q712.661 397.055 714.559 399.601 Q716.481 402.147 719.907 402.147 Q723.356 402.147 725.254 399.601 Q727.175 397.055 727.175 392.448 M731.434 402.495 Q731.434 409.115 728.495 412.332 Q725.555 415.573 719.49 415.573 Q717.245 415.573 715.254 415.226 Q713.263 414.902 711.388 414.207 L711.388 410.064 Q713.263 411.082 715.092 411.569 Q716.921 412.055 718.819 412.055 Q723.009 412.055 725.092 409.856 Q727.175 407.68 727.175 403.258 L727.175 401.152 Q725.856 403.444 723.796 404.578 Q721.735 405.712 718.865 405.712 Q714.097 405.712 711.18 402.078 Q708.263 398.444 708.263 392.448 Q708.263 386.43 711.18 382.796 Q714.097 379.161 718.865 379.161 Q721.735 379.161 723.796 380.296 Q725.856 381.43 727.175 383.722 L727.175 379.786 L731.434 379.786 L731.434 402.495 Z\" fill=\"#000000\" fill-rule=\"evenodd\" fill-opacity=\"1\" /></svg>\n"
      ]
     },
     "execution_count": 78,
     "metadata": {},
     "output_type": "execute_result"
    }
   ],
   "source": [
    "graph_epidemiological_curve(dfs,\"Illinois\")"
   ]
  },
  {
   "cell_type": "code",
   "execution_count": 79,
   "metadata": {
    "scrolled": true
   },
   "outputs": [
    {
     "data": {
      "image/svg+xml": [
       "<?xml version=\"1.0\" encoding=\"utf-8\"?>\n",
       "<svg xmlns=\"http://www.w3.org/2000/svg\" xmlns:xlink=\"http://www.w3.org/1999/xlink\" width=\"600\" height=\"400\" viewBox=\"0 0 2400 1600\">\n",
       "<defs>\n",
       "  <clipPath id=\"clip250\">\n",
       "    <rect x=\"0\" y=\"0\" width=\"2400\" height=\"1600\"/>\n",
       "  </clipPath>\n",
       "</defs>\n",
       "<path clip-path=\"url(#clip250)\" d=\"\n",
       "M0 1600 L2400 1600 L2400 0 L0 0  Z\n",
       "  \" fill=\"#ffffff\" fill-rule=\"evenodd\" fill-opacity=\"1\"/>\n",
       "<defs>\n",
       "  <clipPath id=\"clip251\">\n",
       "    <rect x=\"480\" y=\"0\" width=\"1681\" height=\"1600\"/>\n",
       "  </clipPath>\n",
       "</defs>\n",
       "<path clip-path=\"url(#clip250)\" d=\"\n",
       "M253.246 1263.94 L2352.76 1263.94 L2352.76 183.952 L253.246 183.952  Z\n",
       "  \" fill=\"#ffffff\" fill-rule=\"evenodd\" fill-opacity=\"1\"/>\n",
       "<defs>\n",
       "  <clipPath id=\"clip252\">\n",
       "    <rect x=\"253\" y=\"183\" width=\"2101\" height=\"1081\"/>\n",
       "  </clipPath>\n",
       "</defs>\n",
       "<polyline clip-path=\"url(#clip252)\" style=\"stroke:#000000; stroke-width:2; stroke-opacity:0.1; fill:none\" points=\"\n",
       "  374.481,1263.94 374.481,183.952 \n",
       "  \"/>\n",
       "<polyline clip-path=\"url(#clip252)\" style=\"stroke:#000000; stroke-width:2; stroke-opacity:0.1; fill:none\" points=\"\n",
       "  576.02,1263.94 576.02,183.952 \n",
       "  \"/>\n",
       "<polyline clip-path=\"url(#clip252)\" style=\"stroke:#000000; stroke-width:2; stroke-opacity:0.1; fill:none\" points=\"\n",
       "  777.559,1263.94 777.559,183.952 \n",
       "  \"/>\n",
       "<polyline clip-path=\"url(#clip252)\" style=\"stroke:#000000; stroke-width:2; stroke-opacity:0.1; fill:none\" points=\"\n",
       "  979.098,1263.94 979.098,183.952 \n",
       "  \"/>\n",
       "<polyline clip-path=\"url(#clip252)\" style=\"stroke:#000000; stroke-width:2; stroke-opacity:0.1; fill:none\" points=\"\n",
       "  1180.64,1263.94 1180.64,183.952 \n",
       "  \"/>\n",
       "<polyline clip-path=\"url(#clip252)\" style=\"stroke:#000000; stroke-width:2; stroke-opacity:0.1; fill:none\" points=\"\n",
       "  1382.18,1263.94 1382.18,183.952 \n",
       "  \"/>\n",
       "<polyline clip-path=\"url(#clip252)\" style=\"stroke:#000000; stroke-width:2; stroke-opacity:0.1; fill:none\" points=\"\n",
       "  1583.72,1263.94 1583.72,183.952 \n",
       "  \"/>\n",
       "<polyline clip-path=\"url(#clip252)\" style=\"stroke:#000000; stroke-width:2; stroke-opacity:0.1; fill:none\" points=\"\n",
       "  1785.26,1263.94 1785.26,183.952 \n",
       "  \"/>\n",
       "<polyline clip-path=\"url(#clip252)\" style=\"stroke:#000000; stroke-width:2; stroke-opacity:0.1; fill:none\" points=\"\n",
       "  1986.79,1263.94 1986.79,183.952 \n",
       "  \"/>\n",
       "<polyline clip-path=\"url(#clip252)\" style=\"stroke:#000000; stroke-width:2; stroke-opacity:0.1; fill:none\" points=\"\n",
       "  2188.33,1263.94 2188.33,183.952 \n",
       "  \"/>\n",
       "<polyline clip-path=\"url(#clip252)\" style=\"stroke:#000000; stroke-width:2; stroke-opacity:0.1; fill:none\" points=\"\n",
       "  253.246,1233.37 2352.76,1233.37 \n",
       "  \"/>\n",
       "<polyline clip-path=\"url(#clip252)\" style=\"stroke:#000000; stroke-width:2; stroke-opacity:0.1; fill:none\" points=\"\n",
       "  253.246,996.978 2352.76,996.978 \n",
       "  \"/>\n",
       "<polyline clip-path=\"url(#clip252)\" style=\"stroke:#000000; stroke-width:2; stroke-opacity:0.1; fill:none\" points=\"\n",
       "  253.246,760.585 2352.76,760.585 \n",
       "  \"/>\n",
       "<polyline clip-path=\"url(#clip252)\" style=\"stroke:#000000; stroke-width:2; stroke-opacity:0.1; fill:none\" points=\"\n",
       "  253.246,524.192 2352.76,524.192 \n",
       "  \"/>\n",
       "<polyline clip-path=\"url(#clip252)\" style=\"stroke:#000000; stroke-width:2; stroke-opacity:0.1; fill:none\" points=\"\n",
       "  253.246,287.8 2352.76,287.8 \n",
       "  \"/>\n",
       "<polyline clip-path=\"url(#clip250)\" style=\"stroke:#000000; stroke-width:4; stroke-opacity:1; fill:none\" points=\"\n",
       "  253.246,1263.94 2352.76,1263.94 \n",
       "  \"/>\n",
       "<polyline clip-path=\"url(#clip250)\" style=\"stroke:#000000; stroke-width:4; stroke-opacity:1; fill:none\" points=\"\n",
       "  253.246,1263.94 253.246,183.952 \n",
       "  \"/>\n",
       "<polyline clip-path=\"url(#clip250)\" style=\"stroke:#000000; stroke-width:4; stroke-opacity:1; fill:none\" points=\"\n",
       "  374.481,1263.94 374.481,1250.98 \n",
       "  \"/>\n",
       "<polyline clip-path=\"url(#clip250)\" style=\"stroke:#000000; stroke-width:4; stroke-opacity:1; fill:none\" points=\"\n",
       "  576.02,1263.94 576.02,1250.98 \n",
       "  \"/>\n",
       "<polyline clip-path=\"url(#clip250)\" style=\"stroke:#000000; stroke-width:4; stroke-opacity:1; fill:none\" points=\"\n",
       "  777.559,1263.94 777.559,1250.98 \n",
       "  \"/>\n",
       "<polyline clip-path=\"url(#clip250)\" style=\"stroke:#000000; stroke-width:4; stroke-opacity:1; fill:none\" points=\"\n",
       "  979.098,1263.94 979.098,1250.98 \n",
       "  \"/>\n",
       "<polyline clip-path=\"url(#clip250)\" style=\"stroke:#000000; stroke-width:4; stroke-opacity:1; fill:none\" points=\"\n",
       "  1180.64,1263.94 1180.64,1250.98 \n",
       "  \"/>\n",
       "<polyline clip-path=\"url(#clip250)\" style=\"stroke:#000000; stroke-width:4; stroke-opacity:1; fill:none\" points=\"\n",
       "  1382.18,1263.94 1382.18,1250.98 \n",
       "  \"/>\n",
       "<polyline clip-path=\"url(#clip250)\" style=\"stroke:#000000; stroke-width:4; stroke-opacity:1; fill:none\" points=\"\n",
       "  1583.72,1263.94 1583.72,1250.98 \n",
       "  \"/>\n",
       "<polyline clip-path=\"url(#clip250)\" style=\"stroke:#000000; stroke-width:4; stroke-opacity:1; fill:none\" points=\"\n",
       "  1785.26,1263.94 1785.26,1250.98 \n",
       "  \"/>\n",
       "<polyline clip-path=\"url(#clip250)\" style=\"stroke:#000000; stroke-width:4; stroke-opacity:1; fill:none\" points=\"\n",
       "  1986.79,1263.94 1986.79,1250.98 \n",
       "  \"/>\n",
       "<polyline clip-path=\"url(#clip250)\" style=\"stroke:#000000; stroke-width:4; stroke-opacity:1; fill:none\" points=\"\n",
       "  2188.33,1263.94 2188.33,1250.98 \n",
       "  \"/>\n",
       "<polyline clip-path=\"url(#clip250)\" style=\"stroke:#000000; stroke-width:4; stroke-opacity:1; fill:none\" points=\"\n",
       "  253.246,1233.37 278.44,1233.37 \n",
       "  \"/>\n",
       "<polyline clip-path=\"url(#clip250)\" style=\"stroke:#000000; stroke-width:4; stroke-opacity:1; fill:none\" points=\"\n",
       "  253.246,996.978 278.44,996.978 \n",
       "  \"/>\n",
       "<polyline clip-path=\"url(#clip250)\" style=\"stroke:#000000; stroke-width:4; stroke-opacity:1; fill:none\" points=\"\n",
       "  253.246,760.585 278.44,760.585 \n",
       "  \"/>\n",
       "<polyline clip-path=\"url(#clip250)\" style=\"stroke:#000000; stroke-width:4; stroke-opacity:1; fill:none\" points=\"\n",
       "  253.246,524.192 278.44,524.192 \n",
       "  \"/>\n",
       "<polyline clip-path=\"url(#clip250)\" style=\"stroke:#000000; stroke-width:4; stroke-opacity:1; fill:none\" points=\"\n",
       "  253.246,287.8 278.44,287.8 \n",
       "  \"/>\n",
       "<path clip-path=\"url(#clip250)\" d=\"M 0 0 M237.637 1465.87 L249.176 1454.33 L251.959 1457.11 L236.442 1472.63 L233.659 1469.84 Q233.594 1466.01 233.561 1459.5 Q233.528 1452.95 233.414 1451.17 Q233.217 1447.8 232.612 1445.95 Q232.006 1444.06 230.811 1442.87 Q228.863 1440.92 226.261 1441.07 Q223.675 1441.2 221.481 1443.39 Q219.926 1444.95 218.732 1447.22 Q217.553 1449.48 216.686 1452.54 L213.346 1449.2 Q214.541 1446.4 215.867 1444.26 Q217.193 1442.12 218.633 1440.68 Q222.431 1436.88 226.588 1436.52 Q230.746 1436.16 233.921 1439.33 Q235.427 1440.84 236.213 1442.77 Q236.998 1444.67 237.342 1447.99 Q237.408 1448.88 237.489 1453.34 Q237.555 1457.8 237.637 1465.87 Z\" fill=\"#000000\" fill-rule=\"evenodd\" fill-opacity=\"1\" /><path clip-path=\"url(#clip250)\" d=\"M 0 0 M240.354 1424.19 Q237.8 1426.75 239.028 1430.56 Q240.256 1434.34 245.297 1439.38 Q250.322 1444.41 254.119 1445.65 Q257.917 1446.86 260.47 1444.31 Q263.04 1441.74 261.812 1437.96 Q260.585 1434.14 255.56 1429.12 Q250.518 1424.08 246.721 1422.87 Q242.924 1421.62 240.354 1424.19 M237.735 1421.57 Q241.843 1417.47 247.261 1418.56 Q252.679 1419.63 258.866 1425.81 Q265.037 1431.98 266.117 1437.42 Q267.198 1442.82 263.089 1446.93 Q258.981 1451.04 253.563 1449.97 Q248.145 1448.88 241.974 1442.71 Q235.787 1436.52 234.707 1431.12 Q233.627 1425.68 237.735 1421.57 Z\" fill=\"#000000\" fill-rule=\"evenodd\" fill-opacity=\"1\" /><path clip-path=\"url(#clip250)\" d=\"M 0 0 M274.711 1428.79 L286.25 1417.25 L289.033 1420.04 L273.516 1435.55 L270.733 1432.77 Q270.668 1428.94 270.635 1422.43 Q270.602 1415.88 270.488 1414.09 Q270.291 1410.72 269.685 1408.87 Q269.08 1406.99 267.885 1405.8 Q265.937 1403.85 263.335 1403.99 Q260.748 1404.13 258.555 1406.32 Q257 1407.87 255.805 1410.15 Q254.627 1412.41 253.759 1415.47 L250.42 1412.13 Q251.615 1409.33 252.941 1407.19 Q254.267 1405.04 255.707 1403.6 Q259.505 1399.8 263.662 1399.44 Q267.82 1399.08 270.995 1402.26 Q272.501 1403.77 273.286 1405.7 Q274.072 1407.6 274.416 1410.92 Q274.481 1411.8 274.563 1416.27 Q274.629 1420.72 274.711 1428.79 Z\" fill=\"#000000\" fill-rule=\"evenodd\" fill-opacity=\"1\" /><path clip-path=\"url(#clip250)\" d=\"M 0 0 M277.428 1387.12 Q274.874 1389.67 276.102 1393.49 Q277.329 1397.27 282.371 1402.31 Q287.396 1407.33 291.193 1408.58 Q294.991 1409.79 297.544 1407.24 Q300.114 1404.67 298.886 1400.88 Q297.659 1397.07 292.634 1392.05 Q287.592 1387 283.795 1385.79 Q279.997 1384.55 277.428 1387.12 M274.809 1384.5 Q278.917 1380.39 284.335 1381.49 Q289.753 1382.55 295.94 1388.74 Q302.111 1394.91 303.191 1400.34 Q304.271 1405.75 300.163 1409.85 Q296.055 1413.96 290.637 1412.9 Q285.219 1411.8 279.048 1405.63 Q272.861 1399.44 271.781 1394.04 Q270.7 1388.61 274.809 1384.5 Z\" fill=\"#000000\" fill-rule=\"evenodd\" fill-opacity=\"1\" /><path clip-path=\"url(#clip250)\" d=\"M 0 0 M299.246 1388.77 L308.069 1379.95 L310.753 1382.63 L301.931 1391.46 L299.246 1388.77 Z\" fill=\"#000000\" fill-rule=\"evenodd\" fill-opacity=\"1\" /><path clip-path=\"url(#clip250)\" d=\"M 0 0 M306.988 1357.56 Q304.435 1360.11 305.663 1363.93 Q306.89 1367.71 311.932 1372.75 Q316.957 1377.77 320.754 1379.02 Q324.551 1380.23 327.105 1377.67 Q329.675 1375.1 328.447 1371.32 Q327.219 1367.51 322.194 1362.48 Q317.153 1357.44 313.356 1356.23 Q309.558 1354.99 306.988 1357.56 M304.37 1354.94 Q308.478 1350.83 313.896 1351.93 Q319.314 1352.99 325.501 1359.18 Q331.672 1365.35 332.752 1370.78 Q333.832 1376.19 329.724 1380.29 Q325.615 1384.4 320.198 1383.34 Q314.78 1382.24 308.609 1376.07 Q302.422 1369.88 301.341 1364.48 Q300.261 1359.05 304.37 1354.94 Z\" fill=\"#000000\" fill-rule=\"evenodd\" fill-opacity=\"1\" /><path clip-path=\"url(#clip250)\" d=\"M 0 0 M339.07 1364.43 L344.471 1359.03 L325.828 1340.39 L321.131 1347.44 L318.119 1344.43 L322.784 1337.41 L326.09 1334.1 L347.745 1355.76 L353.147 1350.36 L355.929 1353.14 L341.853 1367.22 L339.07 1364.43 Z\" fill=\"#000000\" fill-rule=\"evenodd\" fill-opacity=\"1\" /><path clip-path=\"url(#clip250)\" d=\"M 0 0 M347.041 1340.98 L355.864 1332.15 L358.548 1334.84 L349.726 1343.66 L347.041 1340.98 Z\" fill=\"#000000\" fill-rule=\"evenodd\" fill-opacity=\"1\" /><path clip-path=\"url(#clip250)\" d=\"M 0 0 M370.038 1333.46 L381.578 1321.92 L384.361 1324.71 L368.844 1340.22 L366.061 1337.44 Q365.996 1333.61 365.963 1327.1 Q365.93 1320.55 365.815 1318.77 Q365.619 1315.39 365.013 1313.54 Q364.408 1311.66 363.213 1310.47 Q361.265 1308.52 358.663 1308.67 Q356.076 1308.8 353.883 1310.99 Q352.328 1312.55 351.133 1314.82 Q349.955 1317.08 349.087 1320.14 L345.748 1316.8 Q346.943 1314 348.269 1311.86 Q349.595 1309.71 351.035 1308.27 Q354.832 1304.48 358.99 1304.12 Q363.147 1303.76 366.323 1306.93 Q367.829 1308.44 368.614 1310.37 Q369.4 1312.27 369.744 1315.59 Q369.809 1316.47 369.891 1320.94 Q369.957 1325.39 370.038 1333.46 Z\" fill=\"#000000\" fill-rule=\"evenodd\" fill-opacity=\"1\" /><path clip-path=\"url(#clip250)\" d=\"M 0 0 M375.473 1290.48 L380.17 1311.87 L388.518 1303.53 L375.473 1290.48 M371.724 1288.47 L375.882 1284.31 L391.808 1300.24 L395.294 1296.75 L398.044 1299.5 L394.558 1302.99 L400.319 1308.75 L397.03 1312.04 L391.268 1306.28 L380.236 1317.31 L377.044 1314.12 L371.724 1288.47 Z\" fill=\"#000000\" fill-rule=\"evenodd\" fill-opacity=\"1\" /><path clip-path=\"url(#clip250)\" d=\"M 0 0 M439.291 1465.75 L450.83 1454.21 L453.613 1456.99 L438.096 1472.51 L435.313 1469.73 Q435.248 1465.9 435.215 1459.38 Q435.182 1452.84 435.068 1451.05 Q434.871 1447.68 434.266 1445.83 Q433.66 1443.95 432.465 1442.75 Q430.517 1440.81 427.915 1440.95 Q425.329 1441.08 423.135 1443.28 Q421.58 1444.83 420.385 1447.11 Q419.207 1449.37 418.339 1452.43 L415 1449.09 Q416.195 1446.29 417.521 1444.15 Q418.847 1442 420.287 1440.56 Q424.085 1436.76 428.242 1436.4 Q432.4 1436.04 435.575 1439.22 Q437.081 1440.72 437.866 1442.66 Q438.652 1444.55 438.996 1447.88 Q439.061 1448.76 439.143 1453.23 Q439.209 1457.68 439.291 1465.75 Z\" fill=\"#000000\" fill-rule=\"evenodd\" fill-opacity=\"1\" /><path clip-path=\"url(#clip250)\" d=\"M 0 0 M442.008 1424.08 Q439.454 1426.63 440.682 1430.45 Q441.909 1434.23 446.951 1439.27 Q451.976 1444.29 455.773 1445.54 Q459.571 1446.75 462.124 1444.19 Q464.694 1441.62 463.466 1437.84 Q462.239 1434.03 457.214 1429.01 Q452.172 1423.96 448.375 1422.75 Q444.577 1421.51 442.008 1424.08 M439.389 1421.46 Q443.497 1417.35 448.915 1418.45 Q454.333 1419.51 460.52 1425.7 Q466.691 1431.87 467.771 1437.3 Q468.851 1442.71 464.743 1446.81 Q460.635 1450.92 455.217 1449.86 Q449.799 1448.76 443.628 1442.59 Q437.441 1436.4 436.361 1431 Q435.28 1425.57 439.389 1421.46 Z\" fill=\"#000000\" fill-rule=\"evenodd\" fill-opacity=\"1\" /><path clip-path=\"url(#clip250)\" d=\"M 0 0 M476.364 1428.68 L487.904 1417.14 L490.686 1419.92 L475.169 1435.44 L472.387 1432.66 Q472.321 1428.82 472.289 1422.31 Q472.256 1415.76 472.141 1413.98 Q471.945 1410.61 471.339 1408.76 Q470.734 1406.88 469.539 1405.68 Q467.591 1403.73 464.988 1403.88 Q462.402 1404.01 460.209 1406.2 Q458.654 1407.76 457.459 1410.03 Q456.281 1412.29 455.413 1415.35 L452.074 1412.01 Q453.269 1409.22 454.595 1407.07 Q455.921 1404.93 457.361 1403.49 Q461.158 1399.69 465.316 1399.33 Q469.473 1398.97 472.649 1402.14 Q474.155 1403.65 474.94 1405.58 Q475.726 1407.48 476.07 1410.8 Q476.135 1411.69 476.217 1416.16 Q476.282 1420.61 476.364 1428.68 Z\" fill=\"#000000\" fill-rule=\"evenodd\" fill-opacity=\"1\" /><path clip-path=\"url(#clip250)\" d=\"M 0 0 M479.081 1387 Q476.528 1389.56 477.756 1393.37 Q478.983 1397.15 484.025 1402.19 Q489.05 1407.22 492.847 1408.46 Q496.644 1409.67 499.198 1407.12 Q501.768 1404.55 500.54 1400.77 Q499.312 1396.96 494.287 1391.93 Q489.246 1386.89 485.449 1385.68 Q481.651 1384.43 479.081 1387 M476.463 1384.39 Q480.571 1380.28 485.989 1381.37 Q491.407 1382.44 497.594 1388.62 Q503.765 1394.8 504.845 1400.23 Q505.925 1405.63 501.817 1409.74 Q497.708 1413.85 492.291 1412.78 Q486.873 1411.69 480.702 1405.52 Q474.515 1399.33 473.434 1393.93 Q472.354 1388.49 476.463 1384.39 Z\" fill=\"#000000\" fill-rule=\"evenodd\" fill-opacity=\"1\" /><path clip-path=\"url(#clip250)\" d=\"M 0 0 M500.9 1388.66 L509.723 1379.84 L512.407 1382.52 L503.585 1391.34 L500.9 1388.66 Z\" fill=\"#000000\" fill-rule=\"evenodd\" fill-opacity=\"1\" /><path clip-path=\"url(#clip250)\" d=\"M 0 0 M508.642 1357.44 Q506.089 1360 507.316 1363.81 Q508.544 1367.59 513.585 1372.63 Q518.61 1377.66 522.408 1378.9 Q526.205 1380.11 528.759 1377.56 Q531.328 1374.99 530.101 1371.21 Q528.873 1367.4 523.848 1362.37 Q518.807 1357.33 515.009 1356.12 Q511.212 1354.87 508.642 1357.44 M506.023 1354.82 Q510.132 1350.72 515.55 1351.81 Q520.967 1352.88 527.155 1359.06 Q533.325 1365.23 534.406 1370.67 Q535.486 1376.07 531.378 1380.18 Q527.269 1384.29 521.851 1383.22 Q516.433 1382.13 510.263 1375.96 Q504.076 1369.77 502.995 1364.37 Q501.915 1358.93 506.023 1354.82 Z\" fill=\"#000000\" fill-rule=\"evenodd\" fill-opacity=\"1\" /><path clip-path=\"url(#clip250)\" d=\"M 0 0 M542.999 1362.04 L554.538 1350.5 L557.321 1353.29 L541.804 1368.8 L539.022 1366.02 Q538.956 1362.19 538.923 1355.68 Q538.891 1349.13 538.776 1347.34 Q538.58 1343.97 537.974 1342.12 Q537.368 1340.24 536.173 1339.05 Q534.226 1337.1 531.623 1337.25 Q529.037 1337.38 526.844 1339.57 Q525.289 1341.12 524.094 1343.4 Q522.915 1345.66 522.048 1348.72 L518.709 1345.38 Q519.904 1342.58 521.229 1340.44 Q522.555 1338.29 523.996 1336.85 Q527.793 1333.06 531.95 1332.69 Q536.108 1332.33 539.283 1335.51 Q540.789 1337.02 541.575 1338.95 Q542.361 1340.85 542.704 1344.17 Q542.77 1345.05 542.852 1349.52 Q542.917 1353.97 542.999 1362.04 Z\" fill=\"#000000\" fill-rule=\"evenodd\" fill-opacity=\"1\" /><path clip-path=\"url(#clip250)\" d=\"M 0 0 M548.433 1341.12 L557.256 1332.3 L559.94 1334.99 L551.118 1343.81 L548.433 1341.12 Z\" fill=\"#000000\" fill-rule=\"evenodd\" fill-opacity=\"1\" /><path clip-path=\"url(#clip250)\" d=\"M 0 0 M556.175 1309.91 Q553.622 1312.46 554.849 1316.28 Q556.077 1320.06 561.118 1325.1 Q566.143 1330.13 569.941 1331.37 Q573.738 1332.58 576.292 1330.03 Q578.862 1327.46 577.634 1323.68 Q576.406 1319.86 571.381 1314.84 Q566.34 1309.8 562.542 1308.58 Q558.745 1307.34 556.175 1309.91 M553.556 1307.29 Q557.665 1303.18 563.083 1304.28 Q568.5 1305.34 574.688 1311.53 Q580.858 1317.7 581.939 1323.14 Q583.019 1328.54 578.911 1332.65 Q574.802 1336.75 569.384 1335.69 Q563.967 1334.59 557.796 1328.42 Q551.609 1322.24 550.528 1316.83 Q549.448 1311.4 553.556 1307.29 Z\" fill=\"#000000\" fill-rule=\"evenodd\" fill-opacity=\"1\" /><path clip-path=\"url(#clip250)\" d=\"M 0 0 M565.194 1296.54 L580.908 1280.82 L582.315 1282.23 L596.474 1314.13 L593.02 1317.59 L579.713 1287.58 L567.977 1299.32 L565.194 1296.54 Z\" fill=\"#000000\" fill-rule=\"evenodd\" fill-opacity=\"1\" /><path clip-path=\"url(#clip250)\" d=\"M 0 0 M642.188 1464.39 L653.728 1452.85 L656.51 1455.64 L640.993 1471.15 L638.211 1468.37 Q638.145 1464.54 638.113 1458.03 Q638.08 1451.48 637.965 1449.69 Q637.769 1446.32 637.163 1444.47 Q636.558 1442.59 635.363 1441.4 Q633.415 1439.45 630.812 1439.6 Q628.226 1439.73 626.033 1441.92 Q624.478 1443.47 623.283 1445.75 Q622.105 1448.01 621.237 1451.07 L617.898 1447.73 Q619.093 1444.93 620.419 1442.79 Q621.745 1440.64 623.185 1439.2 Q626.982 1435.4 631.14 1435.04 Q635.297 1434.68 638.473 1437.86 Q639.979 1439.37 640.764 1441.3 Q641.55 1443.2 641.894 1446.52 Q641.959 1447.4 642.041 1451.87 Q642.106 1456.32 642.188 1464.39 Z\" fill=\"#000000\" fill-rule=\"evenodd\" fill-opacity=\"1\" /><path clip-path=\"url(#clip250)\" d=\"M 0 0 M644.905 1422.72 Q642.352 1425.27 643.58 1429.09 Q644.807 1432.87 649.849 1437.91 Q654.874 1442.93 658.671 1444.18 Q662.468 1445.39 665.022 1442.84 Q667.592 1440.27 666.364 1436.49 Q665.136 1432.67 660.111 1427.65 Q655.07 1422.61 651.273 1421.39 Q647.475 1420.15 644.905 1422.72 M642.287 1420.1 Q646.395 1415.99 651.813 1417.09 Q657.231 1418.15 663.418 1424.34 Q669.589 1430.51 670.669 1435.95 Q671.749 1441.35 667.641 1445.45 Q663.532 1449.56 658.114 1448.5 Q652.697 1447.4 646.526 1441.23 Q640.339 1435.04 639.258 1429.64 Q638.178 1424.21 642.287 1420.1 Z\" fill=\"#000000\" fill-rule=\"evenodd\" fill-opacity=\"1\" /><path clip-path=\"url(#clip250)\" d=\"M 0 0 M679.262 1427.32 L690.802 1415.78 L693.584 1418.56 L678.067 1434.08 L675.285 1431.3 Q675.219 1427.47 675.186 1420.95 Q675.154 1414.4 675.039 1412.62 Q674.843 1409.25 674.237 1407.4 Q673.631 1405.52 672.437 1404.32 Q670.489 1402.37 667.886 1402.52 Q665.3 1402.65 663.107 1404.85 Q661.552 1406.4 660.357 1408.68 Q659.178 1410.93 658.311 1414 L654.972 1410.66 Q656.167 1407.86 657.492 1405.71 Q658.818 1403.57 660.259 1402.13 Q664.056 1398.33 668.214 1397.97 Q672.371 1397.61 675.547 1400.79 Q677.052 1402.29 677.838 1404.22 Q678.624 1406.12 678.967 1409.45 Q679.033 1410.33 679.115 1414.8 Q679.18 1419.25 679.262 1427.32 Z\" fill=\"#000000\" fill-rule=\"evenodd\" fill-opacity=\"1\" /><path clip-path=\"url(#clip250)\" d=\"M 0 0 M681.979 1385.65 Q679.426 1388.2 680.653 1392.01 Q681.881 1395.79 686.922 1400.84 Q691.947 1405.86 695.745 1407.1 Q699.542 1408.32 702.096 1405.76 Q704.665 1403.19 703.438 1399.41 Q702.21 1395.6 697.185 1390.57 Q692.144 1385.53 688.346 1384.32 Q684.549 1383.08 681.979 1385.65 M679.36 1383.03 Q683.469 1378.92 688.887 1380.02 Q694.304 1381.08 700.492 1387.27 Q706.662 1393.44 707.743 1398.87 Q708.823 1404.27 704.715 1408.38 Q700.606 1412.49 695.188 1411.43 Q689.77 1410.33 683.6 1404.16 Q677.413 1397.97 676.332 1392.57 Q675.252 1387.14 679.36 1383.03 Z\" fill=\"#000000\" fill-rule=\"evenodd\" fill-opacity=\"1\" /><path clip-path=\"url(#clip250)\" d=\"M 0 0 M703.798 1387.3 L712.62 1378.48 L715.305 1381.16 L706.482 1389.98 L703.798 1387.3 Z\" fill=\"#000000\" fill-rule=\"evenodd\" fill-opacity=\"1\" /><path clip-path=\"url(#clip250)\" d=\"M 0 0 M711.54 1356.09 Q708.987 1358.64 710.214 1362.45 Q711.442 1366.23 716.483 1371.27 Q721.508 1376.3 725.306 1377.54 Q729.103 1378.75 731.656 1376.2 Q734.226 1373.63 732.999 1369.85 Q731.771 1366.04 726.746 1361.01 Q721.705 1355.97 717.907 1354.76 Q714.11 1353.52 711.54 1356.09 M708.921 1353.47 Q713.03 1349.36 718.447 1350.45 Q723.865 1351.52 730.052 1357.71 Q736.223 1363.88 737.303 1369.31 Q738.384 1374.71 734.275 1378.82 Q730.167 1382.93 724.749 1381.86 Q719.331 1380.77 713.16 1374.6 Q706.973 1368.41 705.893 1363.01 Q704.813 1357.57 708.921 1353.47 Z\" fill=\"#000000\" fill-rule=\"evenodd\" fill-opacity=\"1\" /><path clip-path=\"url(#clip250)\" d=\"M 0 0 M745.897 1360.68 L757.436 1349.14 L760.219 1351.93 L744.702 1367.44 L741.919 1364.66 Q741.854 1360.83 741.821 1354.32 Q741.788 1347.77 741.674 1345.99 Q741.477 1342.61 740.872 1340.76 Q740.266 1338.88 739.071 1337.69 Q737.123 1335.74 734.521 1335.89 Q731.935 1336.02 729.741 1338.21 Q728.186 1339.77 726.992 1342.04 Q725.813 1344.3 724.946 1347.36 L721.606 1344.02 Q722.801 1341.22 724.127 1339.08 Q725.453 1336.93 726.893 1335.49 Q730.691 1331.7 734.848 1331.34 Q739.006 1330.98 742.181 1334.15 Q743.687 1335.66 744.473 1337.59 Q745.258 1339.49 745.602 1342.81 Q745.668 1343.69 745.749 1348.16 Q745.815 1352.61 745.897 1360.68 Z\" fill=\"#000000\" fill-rule=\"evenodd\" fill-opacity=\"1\" /><path clip-path=\"url(#clip250)\" d=\"M 0 0 M751.331 1339.77 L760.153 1330.94 L762.838 1333.63 L754.015 1342.45 L751.331 1339.77 Z\" fill=\"#000000\" fill-rule=\"evenodd\" fill-opacity=\"1\" /><path clip-path=\"url(#clip250)\" d=\"M 0 0 M774.328 1332.25 L785.868 1320.71 L788.65 1323.5 L773.133 1339.01 L770.351 1336.23 Q770.285 1332.4 770.253 1325.89 Q770.22 1319.34 770.105 1317.55 Q769.909 1314.18 769.303 1312.33 Q768.698 1310.45 767.503 1309.26 Q765.555 1307.31 762.952 1307.46 Q760.366 1307.59 758.173 1309.78 Q756.618 1311.33 755.423 1313.61 Q754.244 1315.87 753.377 1318.93 L750.038 1315.59 Q751.233 1312.79 752.559 1310.65 Q753.884 1308.5 755.325 1307.06 Q759.122 1303.27 763.28 1302.9 Q767.437 1302.54 770.613 1305.72 Q772.118 1307.23 772.904 1309.16 Q773.69 1311.06 774.034 1314.38 Q774.099 1315.26 774.181 1319.73 Q774.246 1324.18 774.328 1332.25 Z\" fill=\"#000000\" fill-rule=\"evenodd\" fill-opacity=\"1\" /><path clip-path=\"url(#clip250)\" d=\"M 0 0 M790.025 1316.56 L795.427 1311.15 L776.783 1292.51 L772.086 1299.57 L769.074 1296.55 L773.739 1289.53 L777.045 1286.23 L798.7 1307.88 L804.102 1302.48 L806.884 1305.26 L792.808 1319.34 L790.025 1316.56 Z\" fill=\"#000000\" fill-rule=\"evenodd\" fill-opacity=\"1\" /><path clip-path=\"url(#clip250)\" d=\"M 0 0 M840.945 1467.18 L852.484 1455.64 L855.267 1458.42 L839.75 1473.94 L836.967 1471.15 Q836.902 1467.32 836.869 1460.81 Q836.837 1454.26 836.722 1452.48 Q836.526 1449.11 835.92 1447.26 Q835.314 1445.37 834.119 1444.18 Q832.172 1442.23 829.569 1442.38 Q826.983 1442.51 824.79 1444.7 Q823.235 1446.26 822.04 1448.53 Q820.861 1450.79 819.994 1453.85 L816.655 1450.51 Q817.85 1447.71 819.175 1445.57 Q820.501 1443.43 821.942 1441.98 Q825.739 1438.19 829.896 1437.83 Q834.054 1437.47 837.229 1440.64 Q838.735 1442.15 839.521 1444.08 Q840.307 1445.98 840.65 1449.3 Q840.716 1450.19 840.798 1454.65 Q840.863 1459.11 840.945 1467.18 Z\" fill=\"#000000\" fill-rule=\"evenodd\" fill-opacity=\"1\" /><path clip-path=\"url(#clip250)\" d=\"M 0 0 M843.662 1425.5 Q841.109 1428.06 842.336 1431.87 Q843.564 1435.65 848.605 1440.69 Q853.63 1445.72 857.428 1446.96 Q861.225 1448.17 863.778 1445.62 Q866.348 1443.05 865.121 1439.27 Q863.893 1435.45 858.868 1430.43 Q853.827 1425.39 850.029 1424.18 Q846.232 1422.93 843.662 1425.5 M841.043 1422.88 Q845.152 1418.77 850.569 1419.87 Q855.987 1420.94 862.174 1427.12 Q868.345 1433.29 869.425 1438.73 Q870.506 1444.13 866.397 1448.24 Q862.289 1452.35 856.871 1451.28 Q851.453 1450.19 845.283 1444.01 Q839.095 1437.83 838.015 1432.43 Q836.935 1426.99 841.043 1422.88 Z\" fill=\"#000000\" fill-rule=\"evenodd\" fill-opacity=\"1\" /><path clip-path=\"url(#clip250)\" d=\"M 0 0 M878.019 1430.1 L889.558 1418.56 L892.341 1421.34 L876.824 1436.86 L874.041 1434.08 Q873.976 1430.25 873.943 1423.73 Q873.91 1417.19 873.796 1415.4 Q873.599 1412.03 872.994 1410.18 Q872.388 1408.3 871.193 1407.1 Q869.245 1405.16 866.643 1405.3 Q864.057 1405.43 861.863 1407.63 Q860.308 1409.18 859.114 1411.46 Q857.935 1413.72 857.068 1416.78 L853.728 1413.44 Q854.923 1410.64 856.249 1408.5 Q857.575 1406.35 859.015 1404.91 Q862.813 1401.11 866.97 1400.75 Q871.128 1400.39 874.303 1403.57 Q875.809 1405.07 876.595 1407.01 Q877.38 1408.9 877.724 1412.23 Q877.79 1413.11 877.871 1417.58 Q877.937 1422.03 878.019 1430.1 Z\" fill=\"#000000\" fill-rule=\"evenodd\" fill-opacity=\"1\" /><path clip-path=\"url(#clip250)\" d=\"M 0 0 M880.736 1388.43 Q878.182 1390.98 879.41 1394.8 Q880.638 1398.58 885.679 1403.62 Q890.704 1408.64 894.501 1409.89 Q898.299 1411.1 900.852 1408.54 Q903.422 1405.98 902.194 1402.19 Q900.967 1398.38 895.942 1393.36 Q890.9 1388.31 887.103 1387.1 Q883.306 1385.86 880.736 1388.43 M878.117 1385.81 Q882.225 1381.7 887.643 1382.8 Q893.061 1383.86 899.248 1390.05 Q905.419 1396.22 906.499 1401.65 Q907.58 1407.06 903.471 1411.16 Q899.363 1415.27 893.945 1414.21 Q888.527 1413.11 882.356 1406.94 Q876.169 1400.75 875.089 1395.35 Q874.009 1389.92 878.117 1385.81 Z\" fill=\"#000000\" fill-rule=\"evenodd\" fill-opacity=\"1\" /><path clip-path=\"url(#clip250)\" d=\"M 0 0 M902.555 1390.08 L911.377 1381.26 L914.061 1383.94 L905.239 1392.77 L902.555 1390.08 Z\" fill=\"#000000\" fill-rule=\"evenodd\" fill-opacity=\"1\" /><path clip-path=\"url(#clip250)\" d=\"M 0 0 M910.297 1358.87 Q907.743 1361.42 908.971 1365.23 Q910.198 1369.02 915.24 1374.06 Q920.265 1379.08 924.062 1380.33 Q927.86 1381.54 930.413 1378.98 Q932.983 1376.41 931.755 1372.63 Q930.528 1368.82 925.503 1363.79 Q920.461 1358.75 916.664 1357.54 Q912.866 1356.3 910.297 1358.87 M907.678 1356.25 Q911.786 1352.14 917.204 1353.24 Q922.622 1354.3 928.809 1360.49 Q934.98 1366.66 936.06 1372.09 Q937.14 1377.49 933.032 1381.6 Q928.924 1385.71 923.506 1384.65 Q918.088 1383.55 911.917 1377.38 Q905.73 1371.19 904.65 1365.79 Q903.569 1360.36 907.678 1356.25 Z\" fill=\"#000000\" fill-rule=\"evenodd\" fill-opacity=\"1\" /><path clip-path=\"url(#clip250)\" d=\"M 0 0 M941.429 1345.9 Q944.31 1344.04 947.24 1344.32 Q950.186 1344.58 952.543 1346.94 Q956.16 1350.55 955.653 1355.02 Q955.145 1359.49 950.562 1364.07 Q949.024 1365.61 947.076 1366.94 Q945.161 1368.26 942.82 1369.39 L939.628 1366.2 Q941.805 1365.63 943.851 1364.4 Q945.897 1363.17 947.681 1361.39 Q950.791 1358.28 951.184 1355.43 Q951.593 1352.57 949.253 1350.23 Q947.092 1348.06 944.359 1348.38 Q941.625 1348.65 938.925 1351.35 L936.076 1354.2 L933.359 1351.49 L936.338 1348.51 Q938.777 1346.07 939.105 1343.81 Q939.416 1341.53 937.582 1339.7 Q935.7 1337.82 933.359 1338.16 Q931.019 1338.47 928.531 1340.96 Q927.172 1342.32 925.912 1344.17 Q924.652 1346.02 923.408 1348.51 L920.461 1345.56 Q921.82 1343.15 923.195 1341.26 Q924.586 1339.34 926.043 1337.88 Q929.808 1334.12 933.719 1333.64 Q937.615 1333.15 940.529 1336.07 Q942.558 1338.1 942.804 1340.67 Q943.033 1343.22 941.429 1345.9 Z\" fill=\"#000000\" fill-rule=\"evenodd\" fill-opacity=\"1\" /><path clip-path=\"url(#clip250)\" d=\"M 0 0 M950.759 1341.88 L959.581 1333.06 L962.265 1335.74 L953.443 1344.56 L950.759 1341.88 Z\" fill=\"#000000\" fill-rule=\"evenodd\" fill-opacity=\"1\" /><path clip-path=\"url(#clip250)\" d=\"M 0 0 M958.501 1310.66 Q955.947 1313.22 957.175 1317.03 Q958.403 1320.81 963.444 1325.85 Q968.469 1330.88 972.266 1332.12 Q976.064 1333.33 978.617 1330.78 Q981.187 1328.21 979.959 1324.43 Q978.732 1320.62 973.707 1315.59 Q968.665 1310.55 964.868 1309.34 Q961.071 1308.09 958.501 1310.66 M955.882 1308.04 Q959.99 1303.94 965.408 1305.03 Q970.826 1306.1 977.013 1312.28 Q983.184 1318.45 984.264 1323.89 Q985.345 1329.29 981.236 1333.4 Q977.128 1337.51 971.71 1336.44 Q966.292 1335.35 960.121 1329.18 Q953.934 1322.99 952.854 1317.59 Q951.774 1312.15 955.882 1308.04 Z\" fill=\"#000000\" fill-rule=\"evenodd\" fill-opacity=\"1\" /><path clip-path=\"url(#clip250)\" d=\"M 0 0 M986.736 1299.88 Q984.51 1302.1 984.723 1304.93 Q984.952 1307.75 987.603 1310.4 Q990.239 1313.04 993.07 1313.28 Q995.902 1313.5 998.128 1311.27 Q1000.35 1309.04 1000.12 1306.23 Q999.896 1303.38 997.261 1300.74 Q994.609 1298.09 991.777 1297.88 Q988.962 1297.65 986.736 1299.88 M982.938 1282.95 L985.95 1285.96 Q984.117 1286.62 982.529 1287.58 Q980.958 1288.53 979.714 1289.78 Q976.44 1293.05 976.915 1297 Q977.406 1300.92 981.629 1305.64 Q981.171 1303.25 981.875 1301.04 Q982.562 1298.81 984.313 1297.06 Q987.996 1293.38 992.366 1293.49 Q996.737 1293.58 1000.58 1297.42 Q1004.35 1301.19 1004.4 1305.69 Q1004.45 1310.19 1000.75 1313.89 Q996.508 1318.13 991.024 1317.13 Q985.525 1316.11 979.354 1309.94 Q973.56 1304.15 972.872 1297.96 Q972.168 1291.76 976.8 1287.13 Q978.044 1285.88 979.55 1284.87 Q981.072 1283.84 982.938 1282.95 Z\" fill=\"#000000\" fill-rule=\"evenodd\" fill-opacity=\"1\" /><path clip-path=\"url(#clip250)\" d=\"M 0 0 M1043.73 1465.93 L1055.27 1454.39 L1058.05 1457.17 L1042.53 1472.69 L1039.75 1469.91 Q1039.69 1466.08 1039.65 1459.56 Q1039.62 1453.02 1039.51 1451.23 Q1039.31 1447.86 1038.7 1446.01 Q1038.1 1444.13 1036.9 1442.93 Q1034.95 1440.99 1032.35 1441.13 Q1029.77 1441.26 1027.57 1443.46 Q1026.02 1445.01 1024.82 1447.29 Q1023.64 1449.55 1022.78 1452.61 L1019.44 1449.27 Q1020.63 1446.47 1021.96 1444.33 Q1023.28 1442.18 1024.72 1440.74 Q1028.52 1436.94 1032.68 1436.58 Q1036.84 1436.22 1040.01 1439.4 Q1041.52 1440.9 1042.3 1442.84 Q1043.09 1444.73 1043.43 1448.06 Q1043.5 1448.94 1043.58 1453.41 Q1043.65 1457.86 1043.73 1465.93 Z\" fill=\"#000000\" fill-rule=\"evenodd\" fill-opacity=\"1\" /><path clip-path=\"url(#clip250)\" d=\"M 0 0 M1046.45 1424.26 Q1043.89 1426.81 1045.12 1430.63 Q1046.35 1434.41 1051.39 1439.45 Q1056.41 1444.47 1060.21 1445.72 Q1064.01 1446.93 1066.56 1444.37 Q1069.13 1441.8 1067.9 1438.02 Q1066.68 1434.21 1061.65 1429.19 Q1056.61 1424.14 1052.81 1422.93 Q1049.02 1421.69 1046.45 1424.26 M1043.83 1421.64 Q1047.93 1417.53 1053.35 1418.63 Q1058.77 1419.69 1064.96 1425.88 Q1071.13 1432.05 1072.21 1437.48 Q1073.29 1442.89 1069.18 1446.99 Q1065.07 1451.1 1059.65 1450.04 Q1054.24 1448.94 1048.07 1442.77 Q1041.88 1436.58 1040.8 1431.18 Q1039.72 1425.75 1043.83 1421.64 Z\" fill=\"#000000\" fill-rule=\"evenodd\" fill-opacity=\"1\" /><path clip-path=\"url(#clip250)\" d=\"M 0 0 M1080.8 1428.86 L1092.34 1417.32 L1095.12 1420.1 L1079.61 1435.62 L1076.82 1432.84 Q1076.76 1429.01 1076.73 1422.49 Q1076.69 1415.94 1076.58 1414.16 Q1076.38 1410.79 1075.78 1408.94 Q1075.17 1407.06 1073.98 1405.86 Q1072.03 1403.91 1069.43 1404.06 Q1066.84 1404.19 1064.65 1406.38 Q1063.09 1407.94 1061.9 1410.21 Q1060.72 1412.47 1059.85 1415.53 L1056.51 1412.19 Q1057.71 1409.4 1059.03 1407.25 Q1060.36 1405.11 1061.8 1403.67 Q1065.6 1399.87 1069.75 1399.51 Q1073.91 1399.15 1077.09 1402.32 Q1078.59 1403.83 1079.38 1405.76 Q1080.16 1407.66 1080.51 1410.98 Q1080.57 1411.87 1080.65 1416.34 Q1080.72 1420.79 1080.8 1428.86 Z\" fill=\"#000000\" fill-rule=\"evenodd\" fill-opacity=\"1\" /><path clip-path=\"url(#clip250)\" d=\"M 0 0 M1083.52 1387.18 Q1080.97 1389.74 1082.19 1393.55 Q1083.42 1397.33 1088.46 1402.37 Q1093.49 1407.4 1097.28 1408.64 Q1101.08 1409.85 1103.64 1407.3 Q1106.21 1404.73 1104.98 1400.95 Q1103.75 1397.14 1098.73 1392.11 Q1093.68 1387.07 1089.89 1385.86 Q1086.09 1384.61 1083.52 1387.18 M1080.9 1384.57 Q1085.01 1380.46 1090.43 1381.55 Q1095.84 1382.62 1102.03 1388.8 Q1108.2 1394.98 1109.28 1400.41 Q1110.36 1405.81 1106.25 1409.92 Q1102.15 1414.03 1096.73 1412.96 Q1091.31 1411.87 1085.14 1405.7 Q1078.95 1399.51 1077.87 1394.11 Q1076.79 1388.67 1080.9 1384.57 Z\" fill=\"#000000\" fill-rule=\"evenodd\" fill-opacity=\"1\" /><path clip-path=\"url(#clip250)\" d=\"M 0 0 M1105.34 1388.84 L1114.16 1380.02 L1116.84 1382.7 L1108.02 1391.52 L1105.34 1388.84 Z\" fill=\"#000000\" fill-rule=\"evenodd\" fill-opacity=\"1\" /><path clip-path=\"url(#clip250)\" d=\"M 0 0 M1113.08 1357.62 Q1110.53 1360.18 1111.75 1363.99 Q1112.98 1367.77 1118.02 1372.81 Q1123.05 1377.84 1126.85 1379.08 Q1130.64 1380.29 1133.2 1377.74 Q1135.77 1375.17 1134.54 1371.39 Q1133.31 1367.58 1128.29 1362.55 Q1123.24 1357.51 1119.45 1356.3 Q1115.65 1355.05 1113.08 1357.62 M1110.46 1355 Q1114.57 1350.9 1119.99 1351.99 Q1125.41 1353.06 1131.59 1359.24 Q1137.76 1365.41 1138.84 1370.85 Q1139.92 1376.25 1135.82 1380.36 Q1131.71 1384.47 1126.29 1383.4 Q1120.87 1382.31 1114.7 1376.14 Q1108.51 1369.95 1107.43 1364.55 Q1106.35 1359.11 1110.46 1355 Z\" fill=\"#000000\" fill-rule=\"evenodd\" fill-opacity=\"1\" /><path clip-path=\"url(#clip250)\" d=\"M 0 0 M1144.21 1344.66 Q1147.09 1342.79 1150.02 1343.07 Q1152.97 1343.33 1155.33 1345.69 Q1158.94 1349.31 1158.44 1353.78 Q1157.93 1358.25 1153.35 1362.83 Q1151.81 1364.37 1149.86 1365.69 Q1147.94 1367.02 1145.6 1368.15 L1142.41 1364.96 Q1144.59 1364.38 1146.63 1363.16 Q1148.68 1361.93 1150.46 1360.14 Q1153.57 1357.03 1153.97 1354.19 Q1154.38 1351.32 1152.04 1348.98 Q1149.88 1346.82 1147.14 1347.13 Q1144.41 1347.41 1141.71 1350.11 L1138.86 1352.96 L1136.14 1350.24 L1139.12 1347.26 Q1141.56 1344.82 1141.89 1342.56 Q1142.2 1340.29 1140.37 1338.46 Q1138.48 1336.57 1136.14 1336.92 Q1133.8 1337.23 1131.31 1339.72 Q1129.96 1341.08 1128.7 1342.93 Q1127.43 1344.77 1126.19 1347.26 L1123.24 1344.32 Q1124.6 1341.91 1125.98 1340.01 Q1127.37 1338.1 1128.83 1336.64 Q1132.59 1332.88 1136.5 1332.4 Q1140.4 1331.91 1143.31 1334.82 Q1145.34 1336.85 1145.59 1339.42 Q1145.82 1341.98 1144.21 1344.66 Z\" fill=\"#000000\" fill-rule=\"evenodd\" fill-opacity=\"1\" /><path clip-path=\"url(#clip250)\" d=\"M 0 0 M1153.54 1340.63 L1162.36 1331.81 L1165.05 1334.5 L1156.23 1343.32 L1153.54 1340.63 Z\" fill=\"#000000\" fill-rule=\"evenodd\" fill-opacity=\"1\" /><path clip-path=\"url(#clip250)\" d=\"M 0 0 M1176.54 1333.12 L1188.08 1321.58 L1190.86 1324.36 L1175.34 1339.88 L1172.56 1337.1 Q1172.5 1333.27 1172.46 1326.75 Q1172.43 1320.21 1172.32 1318.42 Q1172.12 1315.05 1171.51 1313.2 Q1170.91 1311.32 1169.71 1310.12 Q1167.77 1308.18 1165.16 1308.32 Q1162.58 1308.45 1160.38 1310.65 Q1158.83 1312.2 1157.63 1314.48 Q1156.46 1316.74 1155.59 1319.8 L1152.25 1316.46 Q1153.44 1313.66 1154.77 1311.51 Q1156.1 1309.37 1157.54 1307.93 Q1161.33 1304.13 1165.49 1303.77 Q1169.65 1303.41 1172.82 1306.59 Q1174.33 1308.09 1175.12 1310.03 Q1175.9 1311.92 1176.24 1315.25 Q1176.31 1316.13 1176.39 1320.6 Q1176.46 1325.05 1176.54 1333.12 Z\" fill=\"#000000\" fill-rule=\"evenodd\" fill-opacity=\"1\" /><path clip-path=\"url(#clip250)\" d=\"M 0 0 M1179.26 1291.45 Q1176.7 1294 1177.93 1297.81 Q1179.16 1301.6 1184.2 1306.64 Q1189.22 1311.66 1193.02 1312.91 Q1196.82 1314.12 1199.37 1311.56 Q1201.94 1308.99 1200.71 1305.21 Q1199.49 1301.4 1194.46 1296.37 Q1189.42 1291.33 1185.62 1290.12 Q1181.83 1288.88 1179.26 1291.45 M1176.64 1288.83 Q1180.75 1284.72 1186.16 1285.82 Q1191.58 1286.88 1197.77 1293.07 Q1203.94 1299.24 1205.02 1304.67 Q1206.1 1310.07 1201.99 1314.18 Q1197.88 1318.29 1192.47 1317.23 Q1187.05 1316.13 1180.88 1309.96 Q1174.69 1303.77 1173.61 1298.37 Q1172.53 1292.94 1176.64 1288.83 Z\" fill=\"#000000\" fill-rule=\"evenodd\" fill-opacity=\"1\" /><path clip-path=\"url(#clip250)\" d=\"M 0 0 M1243.79 1467.4 L1255.33 1455.87 L1258.12 1458.65 L1242.6 1474.16 L1239.82 1471.38 Q1239.75 1467.55 1239.72 1461.04 Q1239.69 1454.49 1239.57 1452.71 Q1239.37 1449.33 1238.77 1447.48 Q1238.16 1445.6 1236.97 1444.41 Q1235.02 1442.46 1232.42 1442.61 Q1229.83 1442.74 1227.64 1444.93 Q1226.08 1446.49 1224.89 1448.76 Q1223.71 1451.02 1222.84 1454.08 L1219.5 1450.74 Q1220.7 1447.94 1222.02 1445.8 Q1223.35 1443.65 1224.79 1442.21 Q1228.59 1438.42 1232.75 1438.06 Q1236.9 1437.7 1240.08 1440.87 Q1241.58 1442.38 1242.37 1444.31 Q1243.16 1446.21 1243.5 1449.53 Q1243.57 1450.41 1243.65 1454.88 Q1243.71 1459.34 1243.79 1467.4 Z\" fill=\"#000000\" fill-rule=\"evenodd\" fill-opacity=\"1\" /><path clip-path=\"url(#clip250)\" d=\"M 0 0 M1246.51 1425.73 Q1243.96 1428.28 1245.19 1432.1 Q1246.41 1435.88 1251.45 1440.92 Q1256.48 1445.95 1260.28 1447.19 Q1264.07 1448.4 1266.63 1445.85 Q1269.2 1443.28 1267.97 1439.5 Q1266.74 1435.68 1261.72 1430.66 Q1256.68 1425.62 1252.88 1424.41 Q1249.08 1423.16 1246.51 1425.73 M1243.89 1423.11 Q1248 1419 1253.42 1420.1 Q1258.84 1421.16 1265.02 1427.35 Q1271.19 1433.52 1272.27 1438.96 Q1273.36 1444.36 1269.25 1448.47 Q1265.14 1452.58 1259.72 1451.51 Q1254.3 1450.41 1248.13 1444.24 Q1241.94 1438.06 1240.86 1432.66 Q1239.78 1427.22 1243.89 1423.11 Z\" fill=\"#000000\" fill-rule=\"evenodd\" fill-opacity=\"1\" /><path clip-path=\"url(#clip250)\" d=\"M 0 0 M1280.87 1430.33 L1292.41 1418.79 L1295.19 1421.57 L1279.67 1437.09 L1276.89 1434.31 Q1276.83 1430.48 1276.79 1423.96 Q1276.76 1417.42 1276.65 1415.63 Q1276.45 1412.26 1275.84 1410.41 Q1275.24 1408.53 1274.04 1407.33 Q1272.09 1405.39 1269.49 1405.53 Q1266.91 1405.66 1264.71 1407.86 Q1263.16 1409.41 1261.96 1411.69 Q1260.78 1413.95 1259.92 1417.01 L1256.58 1413.67 Q1257.77 1410.87 1259.1 1408.72 Q1260.42 1406.58 1261.86 1405.14 Q1265.66 1401.34 1269.82 1400.98 Q1273.98 1400.62 1277.15 1403.8 Q1278.66 1405.3 1279.44 1407.24 Q1280.23 1409.13 1280.57 1412.46 Q1280.64 1413.34 1280.72 1417.81 Q1280.79 1422.26 1280.87 1430.33 Z\" fill=\"#000000\" fill-rule=\"evenodd\" fill-opacity=\"1\" /><path clip-path=\"url(#clip250)\" d=\"M 0 0 M1283.59 1388.66 Q1281.03 1391.21 1282.26 1395.02 Q1283.49 1398.81 1288.53 1403.85 Q1293.55 1408.87 1297.35 1410.12 Q1301.15 1411.33 1303.7 1408.77 Q1306.27 1406.2 1305.04 1402.42 Q1303.82 1398.61 1298.79 1393.58 Q1293.75 1388.54 1289.95 1387.33 Q1286.15 1386.09 1283.59 1388.66 M1280.97 1386.04 Q1285.07 1381.93 1290.49 1383.03 Q1295.91 1384.09 1302.1 1390.28 Q1308.27 1396.45 1309.35 1401.88 Q1310.43 1407.28 1306.32 1411.39 Q1302.21 1415.5 1296.79 1414.44 Q1291.38 1413.34 1285.21 1407.17 Q1279.02 1400.98 1277.94 1395.58 Q1276.86 1390.15 1280.97 1386.04 Z\" fill=\"#000000\" fill-rule=\"evenodd\" fill-opacity=\"1\" /><path clip-path=\"url(#clip250)\" d=\"M 0 0 M1305.4 1390.31 L1314.23 1381.49 L1316.91 1384.17 L1308.09 1393 L1305.4 1390.31 Z\" fill=\"#000000\" fill-rule=\"evenodd\" fill-opacity=\"1\" /><path clip-path=\"url(#clip250)\" d=\"M 0 0 M1313.15 1359.1 Q1310.59 1361.65 1311.82 1365.46 Q1313.05 1369.25 1318.09 1374.29 Q1323.11 1379.31 1326.91 1380.56 Q1330.71 1381.77 1333.26 1379.21 Q1335.83 1376.64 1334.6 1372.86 Q1333.38 1369.05 1328.35 1364.02 Q1323.31 1358.98 1319.51 1357.77 Q1315.72 1356.53 1313.15 1359.1 M1310.53 1356.48 Q1314.64 1352.37 1320.05 1353.47 Q1325.47 1354.53 1331.66 1360.72 Q1337.83 1366.89 1338.91 1372.32 Q1339.99 1377.72 1335.88 1381.83 Q1331.77 1385.94 1326.36 1384.88 Q1320.94 1383.78 1314.77 1377.61 Q1308.58 1371.42 1307.5 1366.02 Q1306.42 1360.59 1310.53 1356.48 Z\" fill=\"#000000\" fill-rule=\"evenodd\" fill-opacity=\"1\" /><path clip-path=\"url(#clip250)\" d=\"M 0 0 M1334.96 1338.69 L1339.66 1360.08 L1348.01 1351.73 L1334.96 1338.69 M1331.22 1336.67 L1335.37 1332.51 L1351.3 1348.44 L1354.79 1344.95 L1357.54 1347.7 L1354.05 1351.19 L1359.81 1356.95 L1356.52 1360.24 L1350.76 1354.48 L1339.73 1365.51 L1336.54 1362.32 L1331.22 1336.67 Z\" fill=\"#000000\" fill-rule=\"evenodd\" fill-opacity=\"1\" /><path clip-path=\"url(#clip250)\" d=\"M 0 0 M1354.41 1341.3 L1363.23 1332.48 L1365.92 1335.17 L1357.09 1343.99 L1354.41 1341.3 Z\" fill=\"#000000\" fill-rule=\"evenodd\" fill-opacity=\"1\" /><path clip-path=\"url(#clip250)\" d=\"M 0 0 M1362.15 1310.09 Q1359.6 1312.64 1360.83 1316.46 Q1362.05 1320.24 1367.1 1325.28 Q1372.12 1330.31 1375.92 1331.55 Q1379.72 1332.76 1382.27 1330.21 Q1384.84 1327.64 1383.61 1323.86 Q1382.38 1320.04 1377.36 1315.02 Q1372.32 1309.98 1368.52 1308.76 Q1364.72 1307.52 1362.15 1310.09 M1359.53 1307.47 Q1363.64 1303.36 1369.06 1304.46 Q1374.48 1305.52 1380.66 1311.71 Q1386.84 1317.88 1387.92 1323.32 Q1389 1328.72 1384.89 1332.83 Q1380.78 1336.93 1375.36 1335.87 Q1369.94 1334.77 1363.77 1328.6 Q1357.59 1322.42 1356.51 1317.01 Q1355.42 1311.58 1359.53 1307.47 Z\" fill=\"#000000\" fill-rule=\"evenodd\" fill-opacity=\"1\" /><path clip-path=\"url(#clip250)\" d=\"M 0 0 M1393.28 1297.13 Q1396.17 1295.26 1399.1 1295.54 Q1402.04 1295.8 1404.4 1298.16 Q1408.02 1301.78 1407.51 1306.24 Q1407 1310.71 1402.42 1315.3 Q1400.88 1316.83 1398.93 1318.16 Q1397.02 1319.49 1394.68 1320.62 L1391.48 1317.42 Q1393.66 1316.85 1395.71 1315.62 Q1397.75 1314.4 1399.54 1312.61 Q1402.65 1309.5 1403.04 1306.65 Q1403.45 1303.79 1401.11 1301.45 Q1398.95 1299.29 1396.21 1299.6 Q1393.48 1299.88 1390.78 1302.58 L1387.93 1305.43 L1385.21 1302.71 L1388.19 1299.73 Q1390.63 1297.29 1390.96 1295.03 Q1391.27 1292.76 1389.44 1290.92 Q1387.56 1289.04 1385.21 1289.38 Q1382.87 1289.7 1380.39 1292.18 Q1379.03 1293.54 1377.77 1295.39 Q1376.51 1297.24 1375.26 1299.73 L1372.32 1296.78 Q1373.68 1294.38 1375.05 1292.48 Q1376.44 1290.56 1377.9 1289.11 Q1381.66 1285.34 1385.57 1284.87 Q1389.47 1284.38 1392.38 1287.29 Q1394.41 1289.32 1394.66 1291.89 Q1394.89 1294.44 1393.28 1297.13 Z\" fill=\"#000000\" fill-rule=\"evenodd\" fill-opacity=\"1\" /><path clip-path=\"url(#clip250)\" d=\"M 0 0 M1446.38 1466.36 L1457.92 1454.82 L1460.7 1457.6 L1445.19 1473.12 L1442.4 1470.33 Q1442.34 1466.5 1442.31 1459.99 Q1442.27 1453.44 1442.16 1451.66 Q1441.96 1448.29 1441.36 1446.44 Q1440.75 1444.55 1439.56 1443.36 Q1437.61 1441.41 1435.01 1441.56 Q1432.42 1441.69 1430.23 1443.88 Q1428.67 1445.44 1427.48 1447.71 Q1426.3 1449.97 1425.43 1453.03 L1422.09 1449.69 Q1423.29 1446.9 1424.61 1444.75 Q1425.94 1442.61 1427.38 1441.17 Q1431.18 1437.37 1435.33 1437.01 Q1439.49 1436.65 1442.67 1439.82 Q1444.17 1441.33 1444.96 1443.26 Q1445.74 1445.16 1446.09 1448.48 Q1446.15 1449.37 1446.23 1453.84 Q1446.3 1458.29 1446.38 1466.36 Z\" fill=\"#000000\" fill-rule=\"evenodd\" fill-opacity=\"1\" /><path clip-path=\"url(#clip250)\" d=\"M 0 0 M1449.1 1424.68 Q1446.54 1427.24 1447.77 1431.05 Q1449 1434.83 1454.04 1439.87 Q1459.07 1444.9 1462.86 1446.14 Q1466.66 1447.35 1469.21 1444.8 Q1471.78 1442.23 1470.56 1438.45 Q1469.33 1434.64 1464.3 1429.61 Q1459.26 1424.57 1455.47 1423.36 Q1451.67 1422.11 1449.1 1424.68 M1446.48 1422.06 Q1450.59 1417.96 1456.01 1419.05 Q1461.42 1420.12 1467.61 1426.3 Q1473.78 1432.48 1474.86 1437.91 Q1475.94 1443.31 1471.83 1447.42 Q1467.73 1451.53 1462.31 1450.46 Q1456.89 1449.37 1450.72 1443.2 Q1444.53 1437.01 1443.45 1431.61 Q1442.37 1426.17 1446.48 1422.06 Z\" fill=\"#000000\" fill-rule=\"evenodd\" fill-opacity=\"1\" /><path clip-path=\"url(#clip250)\" d=\"M 0 0 M1483.45 1429.28 L1494.99 1417.74 L1497.78 1420.53 L1482.26 1436.04 L1479.48 1433.26 Q1479.41 1429.43 1479.38 1422.92 Q1479.35 1416.37 1479.23 1414.58 Q1479.04 1411.21 1478.43 1409.36 Q1477.82 1407.48 1476.63 1406.29 Q1474.68 1404.34 1472.08 1404.49 Q1469.49 1404.62 1467.3 1406.81 Q1465.74 1408.36 1464.55 1410.64 Q1463.37 1412.9 1462.5 1415.96 L1459.16 1412.62 Q1460.36 1409.82 1461.69 1407.68 Q1463.01 1405.53 1464.45 1404.09 Q1468.25 1400.3 1472.41 1399.94 Q1476.56 1399.58 1479.74 1402.75 Q1481.25 1404.26 1482.03 1406.19 Q1482.82 1408.09 1483.16 1411.41 Q1483.23 1412.29 1483.31 1416.76 Q1483.37 1421.21 1483.45 1429.28 Z\" fill=\"#000000\" fill-rule=\"evenodd\" fill-opacity=\"1\" /><path clip-path=\"url(#clip250)\" d=\"M 0 0 M1486.17 1387.61 Q1483.62 1390.16 1484.85 1393.98 Q1486.07 1397.76 1491.12 1402.8 Q1496.14 1407.82 1499.94 1409.07 Q1503.73 1410.28 1506.29 1407.73 Q1508.86 1405.16 1507.63 1401.38 Q1506.4 1397.56 1501.38 1392.54 Q1496.34 1387.5 1492.54 1386.28 Q1488.74 1385.04 1486.17 1387.61 M1483.55 1384.99 Q1487.66 1380.88 1493.08 1381.98 Q1498.5 1383.04 1504.68 1389.23 Q1510.86 1395.4 1511.94 1400.84 Q1513.02 1406.24 1508.91 1410.35 Q1504.8 1414.45 1499.38 1413.39 Q1493.96 1412.29 1487.79 1406.12 Q1481.61 1399.94 1480.52 1394.53 Q1479.44 1389.1 1483.55 1384.99 Z\" fill=\"#000000\" fill-rule=\"evenodd\" fill-opacity=\"1\" /><path clip-path=\"url(#clip250)\" d=\"M 0 0 M1507.99 1389.26 L1516.81 1380.44 L1519.5 1383.13 L1510.68 1391.95 L1507.99 1389.26 Z\" fill=\"#000000\" fill-rule=\"evenodd\" fill-opacity=\"1\" /><path clip-path=\"url(#clip250)\" d=\"M 0 0 M1515.73 1358.05 Q1513.18 1360.6 1514.41 1364.42 Q1515.63 1368.2 1520.68 1373.24 Q1525.7 1378.26 1529.5 1379.51 Q1533.3 1380.72 1535.85 1378.17 Q1538.42 1375.6 1537.19 1371.81 Q1535.96 1368 1530.94 1362.98 Q1525.9 1357.93 1522.1 1356.72 Q1518.3 1355.48 1515.73 1358.05 M1513.11 1355.43 Q1517.22 1351.32 1522.64 1352.42 Q1528.06 1353.48 1534.25 1359.67 Q1540.42 1365.84 1541.5 1371.27 Q1542.58 1376.68 1538.47 1380.78 Q1534.36 1384.89 1528.94 1383.83 Q1523.52 1382.73 1517.35 1376.56 Q1511.17 1370.37 1510.09 1364.97 Q1509.01 1359.54 1513.11 1355.43 Z\" fill=\"#000000\" fill-rule=\"evenodd\" fill-opacity=\"1\" /><path clip-path=\"url(#clip250)\" d=\"M 0 0 M1537.55 1337.64 L1542.25 1359.03 L1550.6 1350.68 L1537.55 1337.64 M1533.8 1335.62 L1537.96 1331.47 L1553.89 1347.39 L1557.37 1343.91 L1560.12 1346.66 L1556.64 1350.14 L1562.4 1355.9 L1559.11 1359.19 L1553.35 1353.43 L1542.31 1364.47 L1539.12 1361.27 L1533.8 1335.62 Z\" fill=\"#000000\" fill-rule=\"evenodd\" fill-opacity=\"1\" /><path clip-path=\"url(#clip250)\" d=\"M 0 0 M1557 1340.26 L1565.82 1331.43 L1568.5 1334.12 L1559.68 1342.94 L1557 1340.26 Z\" fill=\"#000000\" fill-rule=\"evenodd\" fill-opacity=\"1\" /><path clip-path=\"url(#clip250)\" d=\"M 0 0 M1577.72 1335.02 L1583.12 1329.62 L1564.48 1310.97 L1559.78 1318.03 L1556.77 1315.02 L1561.43 1308 L1564.74 1304.69 L1586.39 1326.34 L1591.8 1320.94 L1594.58 1323.73 L1580.5 1337.8 L1577.72 1335.02 Z\" fill=\"#000000\" fill-rule=\"evenodd\" fill-opacity=\"1\" /><path clip-path=\"url(#clip250)\" d=\"M 0 0 M1572.89 1296.54 L1588.6 1280.82 L1590.01 1282.23 L1604.17 1314.13 L1600.72 1317.59 L1587.41 1287.58 L1575.67 1299.32 L1572.89 1296.54 Z\" fill=\"#000000\" fill-rule=\"evenodd\" fill-opacity=\"1\" /><path clip-path=\"url(#clip250)\" d=\"M 0 0 M1648.33 1465.95 L1659.87 1454.41 L1662.65 1457.19 L1647.13 1472.71 L1644.35 1469.93 Q1644.29 1466.1 1644.25 1459.58 Q1644.22 1453.03 1644.11 1451.25 Q1643.91 1447.88 1643.3 1446.03 Q1642.7 1444.15 1641.5 1442.95 Q1639.56 1441 1636.95 1441.15 Q1634.37 1441.28 1632.17 1443.47 Q1630.62 1445.03 1629.42 1447.3 Q1628.25 1449.56 1627.38 1452.62 L1624.04 1449.29 Q1625.23 1446.49 1626.56 1444.34 Q1627.89 1442.2 1629.33 1440.76 Q1633.12 1436.96 1637.28 1436.6 Q1641.44 1436.24 1644.61 1439.42 Q1646.12 1440.92 1646.91 1442.85 Q1647.69 1444.75 1648.03 1448.07 Q1648.1 1448.96 1648.18 1453.43 Q1648.25 1457.88 1648.33 1465.95 Z\" fill=\"#000000\" fill-rule=\"evenodd\" fill-opacity=\"1\" /><path clip-path=\"url(#clip250)\" d=\"M 0 0 M1651.05 1424.27 Q1648.49 1426.83 1649.72 1430.64 Q1650.95 1434.42 1655.99 1439.46 Q1661.01 1444.49 1664.81 1445.73 Q1668.61 1446.94 1671.16 1444.39 Q1673.73 1441.82 1672.51 1438.04 Q1671.28 1434.23 1666.25 1429.2 Q1661.21 1424.16 1657.41 1422.95 Q1653.62 1421.7 1651.05 1424.27 M1648.43 1421.66 Q1652.54 1417.55 1657.95 1418.64 Q1663.37 1419.71 1669.56 1425.9 Q1675.73 1432.07 1676.81 1437.5 Q1677.89 1442.9 1673.78 1447.01 Q1669.67 1451.12 1664.26 1450.05 Q1658.84 1448.96 1652.67 1442.79 Q1646.48 1436.6 1645.4 1431.2 Q1644.32 1425.76 1648.43 1421.66 Z\" fill=\"#000000\" fill-rule=\"evenodd\" fill-opacity=\"1\" /><path clip-path=\"url(#clip250)\" d=\"M 0 0 M1685.4 1428.87 L1696.94 1417.33 L1699.73 1420.12 L1684.21 1435.63 L1681.43 1432.85 Q1681.36 1429.02 1681.33 1422.51 Q1681.29 1415.96 1681.18 1414.18 Q1680.98 1410.8 1680.38 1408.95 Q1679.77 1407.07 1678.58 1405.88 Q1676.63 1403.93 1674.03 1404.08 Q1671.44 1404.21 1669.25 1406.4 Q1667.69 1407.96 1666.5 1410.23 Q1665.32 1412.49 1664.45 1415.55 L1661.11 1412.21 Q1662.31 1409.41 1663.63 1407.27 Q1664.96 1405.12 1666.4 1403.68 Q1670.2 1399.89 1674.35 1399.53 Q1678.51 1399.17 1681.69 1402.34 Q1683.19 1403.85 1683.98 1405.78 Q1684.76 1407.68 1685.11 1411 Q1685.17 1411.88 1685.26 1416.35 Q1685.32 1420.8 1685.4 1428.87 Z\" fill=\"#000000\" fill-rule=\"evenodd\" fill-opacity=\"1\" /><path clip-path=\"url(#clip250)\" d=\"M 0 0 M1688.12 1387.2 Q1685.57 1389.75 1686.79 1393.57 Q1688.02 1397.35 1693.06 1402.39 Q1698.09 1407.42 1701.89 1408.66 Q1705.68 1409.87 1708.24 1407.32 Q1710.81 1404.75 1709.58 1400.97 Q1708.35 1397.15 1703.33 1392.13 Q1698.29 1387.09 1694.49 1385.88 Q1690.69 1384.63 1688.12 1387.2 M1685.5 1384.58 Q1689.61 1380.47 1695.03 1381.57 Q1700.45 1382.63 1706.63 1388.82 Q1712.8 1394.99 1713.88 1400.43 Q1714.96 1405.83 1710.86 1409.94 Q1706.75 1414.04 1701.33 1412.98 Q1695.91 1411.88 1689.74 1405.71 Q1683.55 1399.53 1682.47 1394.12 Q1681.39 1388.69 1685.5 1384.58 Z\" fill=\"#000000\" fill-rule=\"evenodd\" fill-opacity=\"1\" /><path clip-path=\"url(#clip250)\" d=\"M 0 0 M1709.94 1388.85 L1718.76 1380.03 L1721.45 1382.72 L1712.62 1391.54 L1709.94 1388.85 Z\" fill=\"#000000\" fill-rule=\"evenodd\" fill-opacity=\"1\" /><path clip-path=\"url(#clip250)\" d=\"M 0 0 M1717.68 1357.64 Q1715.13 1360.19 1716.36 1364.01 Q1717.58 1367.79 1722.62 1372.83 Q1727.65 1377.85 1731.45 1379.1 Q1735.24 1380.31 1737.8 1377.76 Q1740.37 1375.19 1739.14 1371.41 Q1737.91 1367.59 1732.89 1362.57 Q1727.85 1357.53 1724.05 1356.31 Q1720.25 1355.07 1717.68 1357.64 M1715.06 1355.02 Q1719.17 1350.91 1724.59 1352.01 Q1730.01 1353.07 1736.19 1359.26 Q1742.36 1365.43 1743.44 1370.87 Q1744.52 1376.27 1740.42 1380.38 Q1736.31 1384.48 1730.89 1383.42 Q1725.47 1382.32 1719.3 1376.15 Q1713.11 1369.97 1712.03 1364.56 Q1710.95 1359.13 1715.06 1355.02 Z\" fill=\"#000000\" fill-rule=\"evenodd\" fill-opacity=\"1\" /><path clip-path=\"url(#clip250)\" d=\"M 0 0 M1727.57 1343.4 L1740.55 1330.42 L1743.33 1333.2 L1733.38 1343.15 L1739.37 1349.14 Q1739.84 1348.18 1740.45 1347.34 Q1741.04 1346.49 1741.76 1345.77 Q1745.85 1341.68 1750.48 1341.53 Q1755.12 1341.39 1758.95 1345.22 Q1762.89 1349.16 1762.63 1353.81 Q1762.35 1358.44 1757.88 1362.91 Q1756.34 1364.45 1754.48 1365.79 Q1752.63 1367.12 1750.4 1368.3 L1747.08 1364.97 Q1749.35 1364.3 1751.32 1363.12 Q1753.28 1361.94 1755.03 1360.19 Q1757.86 1357.36 1758.03 1354.22 Q1758.19 1351.08 1755.64 1348.52 Q1753.09 1345.97 1749.94 1346.13 Q1746.8 1346.3 1743.97 1349.13 Q1742.64 1350.45 1741.61 1352.07 Q1740.6 1353.68 1739.84 1355.68 L1727.57 1343.4 Z\" fill=\"#000000\" fill-rule=\"evenodd\" fill-opacity=\"1\" /><path clip-path=\"url(#clip250)\" d=\"M 0 0 M1757.9 1340.9 L1766.72 1332.07 L1769.4 1334.76 L1760.58 1343.58 L1757.9 1340.9 Z\" fill=\"#000000\" fill-rule=\"evenodd\" fill-opacity=\"1\" /><path clip-path=\"url(#clip250)\" d=\"M 0 0 M1765.64 1309.68 Q1763.09 1312.23 1764.31 1316.05 Q1765.54 1319.83 1770.58 1324.87 Q1775.61 1329.9 1779.41 1331.14 Q1783.2 1332.35 1785.76 1329.8 Q1788.33 1327.23 1787.1 1323.45 Q1785.87 1319.63 1780.85 1314.61 Q1775.8 1309.57 1772.01 1308.36 Q1768.21 1307.11 1765.64 1309.68 M1763.02 1307.06 Q1767.13 1302.95 1772.55 1304.05 Q1777.97 1305.11 1784.15 1311.3 Q1790.32 1317.47 1791.4 1322.91 Q1792.48 1328.31 1788.38 1332.42 Q1784.27 1336.53 1778.85 1335.46 Q1773.43 1334.36 1767.26 1328.19 Q1761.07 1322.01 1759.99 1316.61 Q1758.91 1311.17 1763.02 1307.06 Z\" fill=\"#000000\" fill-rule=\"evenodd\" fill-opacity=\"1\" /><path clip-path=\"url(#clip250)\" d=\"M 0 0 M1797.72 1316.56 L1803.12 1311.15 L1784.48 1292.51 L1779.78 1299.57 L1776.77 1296.55 L1781.44 1289.53 L1784.74 1286.23 L1806.4 1307.88 L1811.8 1302.48 L1814.58 1305.26 L1800.5 1319.34 L1797.72 1316.56 Z\" fill=\"#000000\" fill-rule=\"evenodd\" fill-opacity=\"1\" /><path clip-path=\"url(#clip250)\" d=\"M 0 0 M1850.57 1465.24 L1862.11 1453.7 L1864.89 1456.49 L1849.38 1472 L1846.6 1469.22 Q1846.53 1465.39 1846.5 1458.88 Q1846.46 1452.33 1846.35 1450.55 Q1846.15 1447.17 1845.55 1445.32 Q1844.94 1443.44 1843.75 1442.25 Q1841.8 1440.3 1839.2 1440.45 Q1836.61 1440.58 1834.42 1442.77 Q1832.86 1444.33 1831.67 1446.6 Q1830.49 1448.86 1829.62 1451.92 L1826.28 1448.58 Q1827.48 1445.78 1828.8 1443.64 Q1830.13 1441.49 1831.57 1440.05 Q1835.37 1436.26 1839.52 1435.9 Q1843.68 1435.54 1846.86 1438.71 Q1848.36 1440.22 1849.15 1442.15 Q1849.93 1444.05 1850.28 1447.37 Q1850.34 1448.25 1850.43 1452.72 Q1850.49 1457.17 1850.57 1465.24 Z\" fill=\"#000000\" fill-rule=\"evenodd\" fill-opacity=\"1\" /><path clip-path=\"url(#clip250)\" d=\"M 0 0 M1853.29 1423.57 Q1850.74 1426.12 1851.96 1429.94 Q1853.19 1433.72 1858.23 1438.76 Q1863.26 1443.79 1867.06 1445.03 Q1870.85 1446.24 1873.41 1443.69 Q1875.98 1441.12 1874.75 1437.34 Q1873.52 1433.52 1868.5 1428.5 Q1863.45 1423.46 1859.66 1422.24 Q1855.86 1421 1853.29 1423.57 M1850.67 1420.95 Q1854.78 1416.84 1860.2 1417.94 Q1865.61 1419 1871.8 1425.19 Q1877.97 1431.36 1879.05 1436.8 Q1880.13 1442.2 1876.02 1446.31 Q1871.92 1450.41 1866.5 1449.35 Q1861.08 1448.25 1854.91 1442.08 Q1848.72 1435.9 1847.64 1430.49 Q1846.56 1425.06 1850.67 1420.95 Z\" fill=\"#000000\" fill-rule=\"evenodd\" fill-opacity=\"1\" /><path clip-path=\"url(#clip250)\" d=\"M 0 0 M1887.65 1428.17 L1899.19 1416.63 L1901.97 1419.41 L1886.45 1434.93 L1883.67 1432.15 Q1883.6 1428.32 1883.57 1421.8 Q1883.54 1415.26 1883.42 1413.47 Q1883.23 1410.1 1882.62 1408.25 Q1882.02 1406.37 1880.82 1405.17 Q1878.87 1403.23 1876.27 1403.37 Q1873.68 1403.5 1871.49 1405.7 Q1869.94 1407.25 1868.74 1409.53 Q1867.56 1411.79 1866.7 1414.85 L1863.36 1411.51 Q1864.55 1408.71 1865.88 1406.56 Q1867.2 1404.42 1868.64 1402.98 Q1872.44 1399.18 1876.6 1398.82 Q1880.76 1398.46 1883.93 1401.64 Q1885.44 1403.14 1886.22 1405.07 Q1887.01 1406.97 1887.35 1410.3 Q1887.42 1411.18 1887.5 1415.65 Q1887.56 1420.1 1887.65 1428.17 Z\" fill=\"#000000\" fill-rule=\"evenodd\" fill-opacity=\"1\" /><path clip-path=\"url(#clip250)\" d=\"M 0 0 M1890.36 1386.5 Q1887.81 1389.05 1889.04 1392.86 Q1890.27 1396.65 1895.31 1401.69 Q1900.33 1406.71 1904.13 1407.96 Q1907.93 1409.17 1910.48 1406.61 Q1913.05 1404.04 1911.82 1400.26 Q1910.59 1396.45 1905.57 1391.42 Q1900.53 1386.38 1896.73 1385.17 Q1892.93 1383.93 1890.36 1386.5 M1887.74 1383.88 Q1891.85 1379.77 1897.27 1380.87 Q1902.69 1381.93 1908.88 1388.12 Q1915.05 1394.29 1916.13 1399.72 Q1917.21 1405.12 1913.1 1409.23 Q1908.99 1413.34 1903.57 1412.28 Q1898.15 1411.18 1891.98 1405.01 Q1885.8 1398.82 1884.72 1393.42 Q1883.64 1387.99 1887.74 1383.88 Z\" fill=\"#000000\" fill-rule=\"evenodd\" fill-opacity=\"1\" /><path clip-path=\"url(#clip250)\" d=\"M 0 0 M1912.18 1388.15 L1921 1379.33 L1923.69 1382.01 L1914.87 1390.83 L1912.18 1388.15 Z\" fill=\"#000000\" fill-rule=\"evenodd\" fill-opacity=\"1\" /><path clip-path=\"url(#clip250)\" d=\"M 0 0 M1919.92 1356.94 Q1917.37 1359.49 1918.6 1363.3 Q1919.83 1367.08 1924.87 1372.13 Q1929.89 1377.15 1933.69 1378.39 Q1937.49 1379.61 1940.04 1377.05 Q1942.61 1374.48 1941.38 1370.7 Q1940.16 1366.89 1935.13 1361.86 Q1930.09 1356.82 1926.29 1355.61 Q1922.49 1354.37 1919.92 1356.94 M1917.31 1354.32 Q1921.41 1350.21 1926.83 1351.31 Q1932.25 1352.37 1938.44 1358.56 Q1944.61 1364.73 1945.69 1370.16 Q1946.77 1375.56 1942.66 1379.67 Q1938.55 1383.78 1933.13 1382.72 Q1927.72 1381.62 1921.54 1375.45 Q1915.36 1369.26 1914.28 1363.86 Q1913.2 1358.43 1917.31 1354.32 Z\" fill=\"#000000\" fill-rule=\"evenodd\" fill-opacity=\"1\" /><path clip-path=\"url(#clip250)\" d=\"M 0 0 M1929.81 1342.7 L1942.79 1329.72 L1945.57 1332.5 L1935.62 1342.45 L1941.61 1348.44 Q1942.09 1347.48 1942.69 1346.64 Q1943.28 1345.79 1944 1345.07 Q1948.09 1340.98 1952.73 1340.83 Q1957.36 1340.68 1961.19 1344.51 Q1965.13 1348.46 1964.87 1353.11 Q1964.59 1357.74 1960.12 1362.21 Q1958.59 1363.75 1956.72 1365.09 Q1954.87 1366.41 1952.64 1367.59 L1949.32 1364.27 Q1951.6 1363.6 1953.56 1362.42 Q1955.52 1361.24 1957.28 1359.49 Q1960.11 1356.66 1960.27 1353.52 Q1960.44 1350.37 1957.88 1347.82 Q1955.33 1345.27 1952.19 1345.43 Q1949.04 1345.59 1946.21 1348.42 Q1944.89 1349.75 1943.85 1351.37 Q1942.84 1352.98 1942.09 1354.97 L1929.81 1342.7 Z\" fill=\"#000000\" fill-rule=\"evenodd\" fill-opacity=\"1\" /><path clip-path=\"url(#clip250)\" d=\"M 0 0 M1960.14 1340.19 L1968.96 1331.37 L1971.65 1334.05 L1962.83 1342.88 L1960.14 1340.19 Z\" fill=\"#000000\" fill-rule=\"evenodd\" fill-opacity=\"1\" /><path clip-path=\"url(#clip250)\" d=\"M 0 0 M1980.86 1334.95 L1986.26 1329.55 L1967.62 1310.91 L1962.92 1317.96 L1959.91 1314.95 L1964.58 1307.93 L1967.88 1304.62 L1989.54 1326.28 L1994.94 1320.88 L1997.72 1323.66 L1983.65 1337.74 L1980.86 1334.95 Z\" fill=\"#000000\" fill-rule=\"evenodd\" fill-opacity=\"1\" /><path clip-path=\"url(#clip250)\" d=\"M 0 0 M1976.9 1295.6 L1989.88 1282.62 L1992.66 1285.41 L1982.71 1295.36 L1988.7 1301.35 Q1989.18 1300.38 1989.78 1299.55 Q1990.37 1298.7 1991.09 1297.98 Q1995.18 1293.89 1999.82 1293.74 Q2004.45 1293.59 2008.28 1297.42 Q2012.22 1301.37 2011.96 1306.01 Q2011.68 1310.65 2007.22 1315.12 Q2005.68 1316.65 2003.81 1318 Q2001.96 1319.32 1999.74 1320.5 L1996.41 1317.18 Q1998.69 1316.51 2000.65 1315.33 Q2002.62 1314.15 2004.37 1312.4 Q2007.2 1309.57 2007.36 1306.42 Q2007.53 1303.28 2004.97 1300.73 Q2002.42 1298.17 1999.28 1298.34 Q1996.13 1298.5 1993.3 1301.33 Q1991.98 1302.66 1990.95 1304.28 Q1989.93 1305.88 1989.18 1307.88 L1976.9 1295.6 Z\" fill=\"#000000\" fill-rule=\"evenodd\" fill-opacity=\"1\" /><path clip-path=\"url(#clip250)\" d=\"M 0 0 M2051.8 1465.56 L2063.34 1454.02 L2066.12 1456.8 L2050.61 1472.32 L2047.82 1469.53 Q2047.76 1465.7 2047.73 1459.19 Q2047.69 1452.64 2047.58 1450.86 Q2047.38 1447.48 2046.78 1445.64 Q2046.17 1443.75 2044.98 1442.56 Q2043.03 1440.61 2040.42 1440.76 Q2037.84 1440.89 2035.65 1443.08 Q2034.09 1444.64 2032.9 1446.91 Q2031.72 1449.17 2030.85 1452.23 L2027.51 1448.89 Q2028.71 1446.09 2030.03 1443.95 Q2031.36 1441.8 2032.8 1440.36 Q2036.59 1436.57 2040.75 1436.21 Q2044.91 1435.85 2048.09 1439.02 Q2049.59 1440.53 2050.38 1442.46 Q2051.16 1444.36 2051.51 1447.68 Q2051.57 1448.56 2051.65 1453.03 Q2051.72 1457.49 2051.8 1465.56 Z\" fill=\"#000000\" fill-rule=\"evenodd\" fill-opacity=\"1\" /><path clip-path=\"url(#clip250)\" d=\"M 0 0 M2054.52 1423.88 Q2051.96 1426.44 2053.19 1430.25 Q2054.42 1434.03 2059.46 1439.07 Q2064.49 1444.1 2068.28 1445.34 Q2072.08 1446.55 2074.63 1444 Q2077.2 1441.43 2075.98 1437.65 Q2074.75 1433.83 2069.72 1428.81 Q2064.68 1423.77 2060.89 1422.56 Q2057.09 1421.31 2054.52 1423.88 M2051.9 1421.26 Q2056.01 1417.15 2061.43 1418.25 Q2066.84 1419.32 2073.03 1425.5 Q2079.2 1431.67 2080.28 1437.11 Q2081.36 1442.51 2077.25 1446.62 Q2073.14 1450.73 2067.73 1449.66 Q2062.31 1448.56 2056.14 1442.39 Q2049.95 1436.21 2048.87 1430.81 Q2047.79 1425.37 2051.9 1421.26 Z\" fill=\"#000000\" fill-rule=\"evenodd\" fill-opacity=\"1\" /><path clip-path=\"url(#clip250)\" d=\"M 0 0 M2088.87 1428.48 L2100.41 1416.94 L2103.2 1419.72 L2087.68 1435.24 L2084.9 1432.46 Q2084.83 1428.63 2084.8 1422.11 Q2084.77 1415.57 2084.65 1413.78 Q2084.46 1410.41 2083.85 1408.56 Q2083.24 1406.68 2082.05 1405.48 Q2080.1 1403.54 2077.5 1403.68 Q2074.91 1403.81 2072.72 1406.01 Q2071.16 1407.56 2069.97 1409.84 Q2068.79 1412.1 2067.92 1415.16 L2064.58 1411.82 Q2065.78 1409.02 2067.1 1406.88 Q2068.43 1404.73 2069.87 1403.29 Q2073.67 1399.49 2077.83 1399.13 Q2081.98 1398.77 2085.16 1401.95 Q2086.66 1403.45 2087.45 1405.39 Q2088.24 1407.28 2088.58 1410.61 Q2088.65 1411.49 2088.73 1415.96 Q2088.79 1420.41 2088.87 1428.48 Z\" fill=\"#000000\" fill-rule=\"evenodd\" fill-opacity=\"1\" /><path clip-path=\"url(#clip250)\" d=\"M 0 0 M2091.59 1386.81 Q2089.04 1389.36 2090.27 1393.18 Q2091.49 1396.96 2096.53 1402 Q2101.56 1407.02 2105.36 1408.27 Q2109.15 1409.48 2111.71 1406.92 Q2114.28 1404.35 2113.05 1400.57 Q2111.82 1396.76 2106.8 1391.73 Q2101.76 1386.69 2097.96 1385.48 Q2094.16 1384.24 2091.59 1386.81 M2088.97 1384.19 Q2093.08 1380.08 2098.5 1381.18 Q2103.92 1382.24 2110.1 1388.43 Q2116.27 1394.6 2117.36 1400.03 Q2118.44 1405.43 2114.33 1409.54 Q2110.22 1413.65 2104.8 1412.59 Q2099.38 1411.49 2093.21 1405.32 Q2087.02 1399.13 2085.94 1393.73 Q2084.86 1388.3 2088.97 1384.19 Z\" fill=\"#000000\" fill-rule=\"evenodd\" fill-opacity=\"1\" /><path clip-path=\"url(#clip250)\" d=\"M 0 0 M2113.41 1388.46 L2122.23 1379.64 L2124.92 1382.32 L2116.09 1391.15 L2113.41 1388.46 Z\" fill=\"#000000\" fill-rule=\"evenodd\" fill-opacity=\"1\" /><path clip-path=\"url(#clip250)\" d=\"M 0 0 M2121.15 1357.25 Q2118.6 1359.8 2119.83 1363.61 Q2121.05 1367.4 2126.1 1372.44 Q2131.12 1377.46 2134.92 1378.71 Q2138.72 1379.92 2141.27 1377.36 Q2143.84 1374.79 2142.61 1371.01 Q2141.38 1367.2 2136.36 1362.17 Q2131.32 1357.13 2127.52 1355.92 Q2123.72 1354.68 2121.15 1357.25 M2118.53 1354.63 Q2122.64 1350.52 2128.06 1351.62 Q2133.48 1352.68 2139.66 1358.87 Q2145.84 1365.04 2146.92 1370.47 Q2148 1375.87 2143.89 1379.98 Q2139.78 1384.09 2134.36 1383.03 Q2128.94 1381.93 2122.77 1375.76 Q2116.59 1369.57 2115.51 1364.17 Q2114.43 1358.74 2118.53 1354.63 Z\" fill=\"#000000\" fill-rule=\"evenodd\" fill-opacity=\"1\" /><path clip-path=\"url(#clip250)\" d=\"M 0 0 M2131.04 1343.01 L2144.02 1330.03 L2146.8 1332.81 L2136.85 1342.76 L2142.84 1348.75 Q2143.31 1347.79 2143.92 1346.95 Q2144.51 1346.1 2145.23 1345.38 Q2149.32 1341.29 2153.95 1341.14 Q2158.59 1340.99 2162.42 1344.82 Q2166.36 1348.77 2166.1 1353.42 Q2165.82 1358.05 2161.35 1362.52 Q2159.81 1364.06 2157.95 1365.4 Q2156.1 1366.72 2153.87 1367.9 L2150.55 1364.58 Q2152.82 1363.91 2154.79 1362.73 Q2156.75 1361.55 2158.5 1359.8 Q2161.34 1356.97 2161.5 1353.83 Q2161.66 1350.68 2159.11 1348.13 Q2156.56 1345.58 2153.41 1345.74 Q2150.27 1345.9 2147.44 1348.74 Q2146.11 1350.06 2145.08 1351.68 Q2144.07 1353.29 2143.31 1355.28 L2131.04 1343.01 Z\" fill=\"#000000\" fill-rule=\"evenodd\" fill-opacity=\"1\" /><path clip-path=\"url(#clip250)\" d=\"M 0 0 M2161.37 1340.5 L2170.19 1331.68 L2172.88 1334.36 L2164.05 1343.19 L2161.37 1340.5 Z\" fill=\"#000000\" fill-rule=\"evenodd\" fill-opacity=\"1\" /><path clip-path=\"url(#clip250)\" d=\"M 0 0 M2184.37 1332.99 L2195.91 1321.45 L2198.69 1324.23 L2183.17 1339.75 L2180.39 1336.97 Q2180.32 1333.14 2180.29 1326.62 Q2180.26 1320.08 2180.14 1318.29 Q2179.95 1314.92 2179.34 1313.07 Q2178.74 1311.19 2177.54 1309.99 Q2175.59 1308.04 2172.99 1308.19 Q2170.4 1308.32 2168.21 1310.52 Q2166.66 1312.07 2165.46 1314.35 Q2164.28 1316.61 2163.42 1319.67 L2160.08 1316.33 Q2161.27 1313.53 2162.6 1311.38 Q2163.92 1309.24 2165.36 1307.8 Q2169.16 1304 2173.32 1303.64 Q2177.48 1303.28 2180.65 1306.46 Q2182.16 1307.96 2182.94 1309.89 Q2183.73 1311.79 2184.07 1315.12 Q2184.14 1316 2184.22 1320.47 Q2184.28 1324.92 2184.37 1332.99 Z\" fill=\"#000000\" fill-rule=\"evenodd\" fill-opacity=\"1\" /><path clip-path=\"url(#clip250)\" d=\"M 0 0 M2201.86 1320.04 L2198.85 1317.03 Q2200.69 1316.38 2202.27 1315.41 Q2203.86 1314.44 2205.09 1313.22 Q2208.36 1309.94 2207.89 1306.03 Q2207.41 1302.09 2203.17 1297.36 Q2203.63 1299.71 2202.93 1301.92 Q2202.22 1304.13 2200.46 1305.9 Q2196.79 1309.57 2192.44 1309.5 Q2188.08 1309.4 2184.24 1305.56 Q2180.47 1301.79 2180.42 1297.29 Q2180.37 1292.79 2184.07 1289.09 Q2188.31 1284.85 2193.79 1285.88 Q2199.28 1286.88 2205.46 1293.07 Q2211.24 1298.85 2211.95 1305.05 Q2212.65 1311.22 2208.02 1315.85 Q2206.77 1317.1 2205.25 1318.13 Q2203.73 1319.16 2201.86 1320.04 M2198.08 1303.1 Q2200.31 1300.88 2200.08 1298.06 Q2199.87 1295.23 2197.22 1292.58 Q2194.58 1289.94 2191.75 1289.73 Q2188.92 1289.48 2186.69 1291.71 Q2184.46 1293.94 2184.69 1296.78 Q2184.92 1299.6 2187.56 1302.23 Q2190.21 1304.89 2193.02 1305.11 Q2195.86 1305.33 2198.08 1303.1 Z\" fill=\"#000000\" fill-rule=\"evenodd\" fill-opacity=\"1\" /><path clip-path=\"url(#clip250)\" d=\"M 0 0 M217.301 1219.17 Q213.69 1219.17 211.862 1222.73 Q210.056 1226.28 210.056 1233.41 Q210.056 1240.51 211.862 1244.08 Q213.69 1247.62 217.301 1247.62 Q220.936 1247.62 222.741 1244.08 Q224.57 1240.51 224.57 1233.41 Q224.57 1226.28 222.741 1222.73 Q220.936 1219.17 217.301 1219.17 M217.301 1215.47 Q223.111 1215.47 226.167 1220.07 Q229.246 1224.66 229.246 1233.41 Q229.246 1242.13 226.167 1246.74 Q223.111 1251.32 217.301 1251.32 Q211.491 1251.32 208.412 1246.74 Q205.357 1242.13 205.357 1233.41 Q205.357 1224.66 208.412 1220.07 Q211.491 1215.47 217.301 1215.47 Z\" fill=\"#000000\" fill-rule=\"evenodd\" fill-opacity=\"1\" /><path clip-path=\"url(#clip250)\" d=\"M 0 0 M154.316 979.698 L172.672 979.698 L172.672 983.633 L158.598 983.633 L158.598 992.106 Q159.616 991.758 160.635 991.596 Q161.653 991.411 162.672 991.411 Q168.459 991.411 171.839 994.583 Q175.218 997.754 175.218 1003.17 Q175.218 1008.75 171.746 1011.85 Q168.274 1014.93 161.954 1014.93 Q159.778 1014.93 157.51 1014.56 Q155.265 1014.19 152.857 1013.45 L152.857 1008.75 Q154.941 1009.88 157.163 1010.44 Q159.385 1010.99 161.862 1010.99 Q165.866 1010.99 168.204 1008.89 Q170.542 1006.78 170.542 1003.17 Q170.542 999.559 168.204 997.453 Q165.866 995.346 161.862 995.346 Q159.987 995.346 158.112 995.763 Q156.26 996.18 154.316 997.059 L154.316 979.698 Z\" fill=\"#000000\" fill-rule=\"evenodd\" fill-opacity=\"1\" /><path clip-path=\"url(#clip250)\" d=\"M 0 0 M190.288 982.777 Q186.677 982.777 184.848 986.342 Q183.042 989.883 183.042 997.013 Q183.042 1004.12 184.848 1007.68 Q186.677 1011.23 190.288 1011.23 Q193.922 1011.23 195.727 1007.68 Q197.556 1004.12 197.556 997.013 Q197.556 989.883 195.727 986.342 Q193.922 982.777 190.288 982.777 M190.288 979.073 Q196.098 979.073 199.153 983.68 Q202.232 988.263 202.232 997.013 Q202.232 1005.74 199.153 1010.35 Q196.098 1014.93 190.288 1014.93 Q184.477 1014.93 181.399 1010.35 Q178.343 1005.74 178.343 997.013 Q178.343 988.263 181.399 983.68 Q184.477 979.073 190.288 979.073 Z\" fill=\"#000000\" fill-rule=\"evenodd\" fill-opacity=\"1\" /><path clip-path=\"url(#clip250)\" d=\"M 0 0 M217.301 982.777 Q213.69 982.777 211.862 986.342 Q210.056 989.883 210.056 997.013 Q210.056 1004.12 211.862 1007.68 Q213.69 1011.23 217.301 1011.23 Q220.936 1011.23 222.741 1007.68 Q224.57 1004.12 224.57 997.013 Q224.57 989.883 222.741 986.342 Q220.936 982.777 217.301 982.777 M217.301 979.073 Q223.111 979.073 226.167 983.68 Q229.246 988.263 229.246 997.013 Q229.246 1005.74 226.167 1010.35 Q223.111 1014.93 217.301 1014.93 Q211.491 1014.93 208.412 1010.35 Q205.357 1005.74 205.357 997.013 Q205.357 988.263 208.412 983.68 Q211.491 979.073 217.301 979.073 Z\" fill=\"#000000\" fill-rule=\"evenodd\" fill-opacity=\"1\" /><path clip-path=\"url(#clip250)\" d=\"M 0 0 M128.297 773.93 L135.936 773.93 L135.936 747.565 L127.626 749.231 L127.626 744.972 L135.89 743.305 L140.566 743.305 L140.566 773.93 L148.204 773.93 L148.204 777.865 L128.297 777.865 L128.297 773.93 Z\" fill=\"#000000\" fill-rule=\"evenodd\" fill-opacity=\"1\" /><path clip-path=\"url(#clip250)\" d=\"M 0 0 M163.274 746.384 Q159.663 746.384 157.834 749.949 Q156.029 753.491 156.029 760.62 Q156.029 767.727 157.834 771.291 Q159.663 774.833 163.274 774.833 Q166.908 774.833 168.714 771.291 Q170.542 767.727 170.542 760.62 Q170.542 753.491 168.714 749.949 Q166.908 746.384 163.274 746.384 M163.274 742.68 Q169.084 742.68 172.14 747.287 Q175.218 751.87 175.218 760.62 Q175.218 769.347 172.14 773.953 Q169.084 778.537 163.274 778.537 Q157.464 778.537 154.385 773.953 Q151.329 769.347 151.329 760.62 Q151.329 751.87 154.385 747.287 Q157.464 742.68 163.274 742.68 Z\" fill=\"#000000\" fill-rule=\"evenodd\" fill-opacity=\"1\" /><path clip-path=\"url(#clip250)\" d=\"M 0 0 M190.288 746.384 Q186.677 746.384 184.848 749.949 Q183.042 753.491 183.042 760.62 Q183.042 767.727 184.848 771.291 Q186.677 774.833 190.288 774.833 Q193.922 774.833 195.727 771.291 Q197.556 767.727 197.556 760.62 Q197.556 753.491 195.727 749.949 Q193.922 746.384 190.288 746.384 M190.288 742.68 Q196.098 742.68 199.153 747.287 Q202.232 751.87 202.232 760.62 Q202.232 769.347 199.153 773.953 Q196.098 778.537 190.288 778.537 Q184.477 778.537 181.399 773.953 Q178.343 769.347 178.343 760.62 Q178.343 751.87 181.399 747.287 Q184.477 742.68 190.288 742.68 Z\" fill=\"#000000\" fill-rule=\"evenodd\" fill-opacity=\"1\" /><path clip-path=\"url(#clip250)\" d=\"M 0 0 M217.301 746.384 Q213.69 746.384 211.862 749.949 Q210.056 753.491 210.056 760.62 Q210.056 767.727 211.862 771.291 Q213.69 774.833 217.301 774.833 Q220.936 774.833 222.741 771.291 Q224.57 767.727 224.57 760.62 Q224.57 753.491 222.741 749.949 Q220.936 746.384 217.301 746.384 M217.301 742.68 Q223.111 742.68 226.167 747.287 Q229.246 751.87 229.246 760.62 Q229.246 769.347 226.167 773.953 Q223.111 778.537 217.301 778.537 Q211.491 778.537 208.412 773.953 Q205.357 769.347 205.357 760.62 Q205.357 751.87 208.412 747.287 Q211.491 742.68 217.301 742.68 Z\" fill=\"#000000\" fill-rule=\"evenodd\" fill-opacity=\"1\" /><path clip-path=\"url(#clip250)\" d=\"M 0 0 M129.293 537.537 L136.931 537.537 L136.931 511.172 L128.621 512.838 L128.621 508.579 L136.885 506.912 L141.561 506.912 L141.561 537.537 L149.2 537.537 L149.2 541.472 L129.293 541.472 L129.293 537.537 Z\" fill=\"#000000\" fill-rule=\"evenodd\" fill-opacity=\"1\" /><path clip-path=\"url(#clip250)\" d=\"M 0 0 M154.316 506.912 L172.672 506.912 L172.672 510.848 L158.598 510.848 L158.598 519.32 Q159.616 518.973 160.635 518.811 Q161.653 518.625 162.672 518.625 Q168.459 518.625 171.839 521.797 Q175.218 524.968 175.218 530.385 Q175.218 535.963 171.746 539.065 Q168.274 542.144 161.954 542.144 Q159.778 542.144 157.51 541.773 Q155.265 541.403 152.857 540.662 L152.857 535.963 Q154.941 537.097 157.163 537.653 Q159.385 538.209 161.862 538.209 Q165.866 538.209 168.204 536.102 Q170.542 533.996 170.542 530.385 Q170.542 526.773 168.204 524.667 Q165.866 522.561 161.862 522.561 Q159.987 522.561 158.112 522.977 Q156.26 523.394 154.316 524.273 L154.316 506.912 Z\" fill=\"#000000\" fill-rule=\"evenodd\" fill-opacity=\"1\" /><path clip-path=\"url(#clip250)\" d=\"M 0 0 M190.288 509.991 Q186.677 509.991 184.848 513.556 Q183.042 517.098 183.042 524.227 Q183.042 531.334 184.848 534.898 Q186.677 538.44 190.288 538.44 Q193.922 538.44 195.727 534.898 Q197.556 531.334 197.556 524.227 Q197.556 517.098 195.727 513.556 Q193.922 509.991 190.288 509.991 M190.288 506.287 Q196.098 506.287 199.153 510.894 Q202.232 515.477 202.232 524.227 Q202.232 532.954 199.153 537.56 Q196.098 542.144 190.288 542.144 Q184.477 542.144 181.399 537.56 Q178.343 532.954 178.343 524.227 Q178.343 515.477 181.399 510.894 Q184.477 506.287 190.288 506.287 Z\" fill=\"#000000\" fill-rule=\"evenodd\" fill-opacity=\"1\" /><path clip-path=\"url(#clip250)\" d=\"M 0 0 M217.301 509.991 Q213.69 509.991 211.862 513.556 Q210.056 517.098 210.056 524.227 Q210.056 531.334 211.862 534.898 Q213.69 538.44 217.301 538.44 Q220.936 538.44 222.741 534.898 Q224.57 531.334 224.57 524.227 Q224.57 517.098 222.741 513.556 Q220.936 509.991 217.301 509.991 M217.301 506.287 Q223.111 506.287 226.167 510.894 Q229.246 515.477 229.246 524.227 Q229.246 532.954 226.167 537.56 Q223.111 542.144 217.301 542.144 Q211.491 542.144 208.412 537.56 Q205.357 532.954 205.357 524.227 Q205.357 515.477 208.412 510.894 Q211.491 506.287 217.301 506.287 Z\" fill=\"#000000\" fill-rule=\"evenodd\" fill-opacity=\"1\" /><path clip-path=\"url(#clip250)\" d=\"M 0 0 M131.885 301.144 L148.204 301.144 L148.204 305.08 L126.26 305.08 L126.26 301.144 Q128.922 298.39 133.505 293.76 Q138.112 289.107 139.292 287.765 Q141.538 285.242 142.417 283.506 Q143.32 281.746 143.32 280.057 Q143.32 277.302 141.376 275.566 Q139.455 273.83 136.353 273.83 Q134.154 273.83 131.7 274.594 Q129.269 275.357 126.492 276.908 L126.492 272.186 Q129.316 271.052 131.769 270.473 Q134.223 269.895 136.26 269.895 Q141.63 269.895 144.825 272.58 Q148.019 275.265 148.019 279.756 Q148.019 281.885 147.209 283.807 Q146.422 285.705 144.316 288.297 Q143.737 288.969 140.635 292.186 Q137.533 295.381 131.885 301.144 Z\" fill=\"#000000\" fill-rule=\"evenodd\" fill-opacity=\"1\" /><path clip-path=\"url(#clip250)\" d=\"M 0 0 M163.274 273.598 Q159.663 273.598 157.834 277.163 Q156.029 280.705 156.029 287.834 Q156.029 294.941 157.834 298.506 Q159.663 302.047 163.274 302.047 Q166.908 302.047 168.714 298.506 Q170.542 294.941 170.542 287.834 Q170.542 280.705 168.714 277.163 Q166.908 273.598 163.274 273.598 M163.274 269.895 Q169.084 269.895 172.14 274.501 Q175.218 279.084 175.218 287.834 Q175.218 296.561 172.14 301.168 Q169.084 305.751 163.274 305.751 Q157.464 305.751 154.385 301.168 Q151.329 296.561 151.329 287.834 Q151.329 279.084 154.385 274.501 Q157.464 269.895 163.274 269.895 Z\" fill=\"#000000\" fill-rule=\"evenodd\" fill-opacity=\"1\" /><path clip-path=\"url(#clip250)\" d=\"M 0 0 M190.288 273.598 Q186.677 273.598 184.848 277.163 Q183.042 280.705 183.042 287.834 Q183.042 294.941 184.848 298.506 Q186.677 302.047 190.288 302.047 Q193.922 302.047 195.727 298.506 Q197.556 294.941 197.556 287.834 Q197.556 280.705 195.727 277.163 Q193.922 273.598 190.288 273.598 M190.288 269.895 Q196.098 269.895 199.153 274.501 Q202.232 279.084 202.232 287.834 Q202.232 296.561 199.153 301.168 Q196.098 305.751 190.288 305.751 Q184.477 305.751 181.399 301.168 Q178.343 296.561 178.343 287.834 Q178.343 279.084 181.399 274.501 Q184.477 269.895 190.288 269.895 Z\" fill=\"#000000\" fill-rule=\"evenodd\" fill-opacity=\"1\" /><path clip-path=\"url(#clip250)\" d=\"M 0 0 M217.301 273.598 Q213.69 273.598 211.862 277.163 Q210.056 280.705 210.056 287.834 Q210.056 294.941 211.862 298.506 Q213.69 302.047 217.301 302.047 Q220.936 302.047 222.741 298.506 Q224.57 294.941 224.57 287.834 Q224.57 280.705 222.741 277.163 Q220.936 273.598 217.301 273.598 M217.301 269.895 Q223.111 269.895 226.167 274.501 Q229.246 279.084 229.246 287.834 Q229.246 296.561 226.167 301.168 Q223.111 305.751 217.301 305.751 Q211.491 305.751 208.412 301.168 Q205.357 296.561 205.357 287.834 Q205.357 279.084 208.412 274.501 Q211.491 269.895 217.301 269.895 Z\" fill=\"#000000\" fill-rule=\"evenodd\" fill-opacity=\"1\" /><path clip-path=\"url(#clip250)\" d=\"M 0 0 M997.664 12.096 L1008.68 12.096 L1035.5 62.6918 L1035.5 12.096 L1043.44 12.096 L1043.44 72.576 L1032.42 72.576 L1005.6 21.9802 L1005.6 72.576 L997.664 72.576 L997.664 12.096 Z\" fill=\"#000000\" fill-rule=\"evenodd\" fill-opacity=\"1\" /><path clip-path=\"url(#clip250)\" d=\"M 0 0 M1090.07 48.0275 L1090.07 51.6733 L1055.79 51.6733 Q1056.28 59.3701 1060.41 63.421 Q1064.58 67.4314 1072 67.4314 Q1076.29 67.4314 1080.3 66.3781 Q1084.35 65.3249 1088.32 63.2184 L1088.32 70.267 Q1084.31 71.9684 1080.1 72.8596 Q1075.89 73.7508 1071.55 73.7508 Q1060.7 73.7508 1054.34 67.4314 Q1048.02 61.1119 1048.02 50.3365 Q1048.02 39.1965 1054.01 32.6746 Q1060.05 26.1121 1070.26 26.1121 Q1079.41 26.1121 1084.72 32.0264 Q1090.07 37.9003 1090.07 48.0275 M1082.61 45.84 Q1082.53 39.7232 1079.17 36.0774 Q1075.85 32.4315 1070.34 32.4315 Q1064.1 32.4315 1060.33 35.9558 Q1056.6 39.4801 1056.04 45.8805 L1082.61 45.84 Z\" fill=\"#000000\" fill-rule=\"evenodd\" fill-opacity=\"1\" /><path clip-path=\"url(#clip250)\" d=\"M 0 0 M1093.55 27.2059 L1101 27.2059 L1110.32 62.6108 L1119.6 27.2059 L1128.39 27.2059 L1137.7 62.6108 L1146.98 27.2059 L1154.43 27.2059 L1142.56 72.576 L1133.77 72.576 L1124.01 35.3887 L1114.21 72.576 L1105.42 72.576 L1093.55 27.2059 Z\" fill=\"#000000\" fill-rule=\"evenodd\" fill-opacity=\"1\" /><path clip-path=\"url(#clip250)\" d=\"M 0 0 M1197.13 18.8205 L1197.13 65.8515 L1207.01 65.8515 Q1219.53 65.8515 1225.32 60.1802 Q1231.16 54.509 1231.16 42.2752 Q1231.16 30.1225 1225.32 24.4918 Q1219.53 18.8205 1207.01 18.8205 L1197.13 18.8205 M1188.95 12.096 L1205.76 12.096 Q1223.34 12.096 1231.56 19.4281 Q1239.79 26.7198 1239.79 42.2752 Q1239.79 57.9117 1231.52 65.2439 Q1223.26 72.576 1205.76 72.576 L1188.95 72.576 L1188.95 12.096 Z\" fill=\"#000000\" fill-rule=\"evenodd\" fill-opacity=\"1\" /><path clip-path=\"url(#clip250)\" d=\"M 0 0 M1268.22 49.7694 Q1259.19 49.7694 1255.71 51.8354 Q1252.22 53.9013 1252.22 58.8839 Q1252.22 62.8538 1254.82 65.2034 Q1257.45 67.5124 1261.94 67.5124 Q1268.14 67.5124 1271.87 63.1374 Q1275.64 58.7219 1275.64 51.4303 L1275.64 49.7694 L1268.22 49.7694 M1283.09 46.6907 L1283.09 72.576 L1275.64 72.576 L1275.64 65.6895 Q1273.08 69.8214 1269.28 71.8063 Q1265.47 73.7508 1259.96 73.7508 Q1252.99 73.7508 1248.86 69.8619 Q1244.77 65.9325 1244.77 59.3701 Q1244.77 51.7138 1249.87 47.825 Q1255.02 43.9361 1265.19 43.9361 L1275.64 43.9361 L1275.64 43.2069 Q1275.64 38.0623 1272.23 35.2672 Q1268.87 32.4315 1262.76 32.4315 Q1258.87 32.4315 1255.18 33.3632 Q1251.49 34.295 1248.09 36.1584 L1248.09 29.2718 Q1252.18 27.692 1256.03 26.9223 Q1259.88 26.1121 1263.52 26.1121 Q1273.37 26.1121 1278.23 31.2163 Q1283.09 36.3204 1283.09 46.6907 Z\" fill=\"#000000\" fill-rule=\"evenodd\" fill-opacity=\"1\" /><path clip-path=\"url(#clip250)\" d=\"M 0 0 M1290.91 27.2059 L1298.36 27.2059 L1298.36 72.576 L1290.91 72.576 L1290.91 27.2059 M1290.91 9.54393 L1298.36 9.54393 L1298.36 18.9825 L1290.91 18.9825 L1290.91 9.54393 Z\" fill=\"#000000\" fill-rule=\"evenodd\" fill-opacity=\"1\" /><path clip-path=\"url(#clip250)\" d=\"M 0 0 M1306.18 9.54393 L1313.63 9.54393 L1313.63 72.576 L1306.18 72.576 L1306.18 9.54393 Z\" fill=\"#000000\" fill-rule=\"evenodd\" fill-opacity=\"1\" /><path clip-path=\"url(#clip250)\" d=\"M 0 0 M1340.33 76.7889 Q1337.17 84.8907 1334.17 87.3618 Q1331.17 89.8329 1326.15 89.8329 L1320.2 89.8329 L1320.2 83.5945 L1324.57 83.5945 Q1327.65 83.5945 1329.35 82.1361 Q1331.05 80.6778 1333.12 75.2496 L1334.46 71.8468 L1316.11 27.2059 L1324 27.2059 L1338.18 62.6918 L1352.36 27.2059 L1360.26 27.2059 L1340.33 76.7889 Z\" fill=\"#000000\" fill-rule=\"evenodd\" fill-opacity=\"1\" /><path clip-path=\"url(#clip250)\" d=\"M 0 0 M1440.06 16.7545 L1440.06 25.383 Q1435.93 21.5346 1431.23 19.6307 Q1426.57 17.7268 1421.31 17.7268 Q1410.94 17.7268 1405.43 24.0867 Q1399.92 30.4061 1399.92 42.3968 Q1399.92 54.3469 1405.43 60.7069 Q1410.94 67.0263 1421.31 67.0263 Q1426.57 67.0263 1431.23 65.1223 Q1435.93 63.2184 1440.06 59.3701 L1440.06 67.9175 Q1435.77 70.8341 1430.95 72.2924 Q1426.17 73.7508 1420.82 73.7508 Q1407.09 73.7508 1399.19 65.3654 Q1391.29 56.9395 1391.29 42.3968 Q1391.29 27.8135 1399.19 19.4281 Q1407.09 11.0023 1420.82 11.0023 Q1426.25 11.0023 1431.03 12.4606 Q1435.85 13.8784 1440.06 16.7545 Z\" fill=\"#000000\" fill-rule=\"evenodd\" fill-opacity=\"1\" /><path clip-path=\"url(#clip250)\" d=\"M 0 0 M1468.5 49.7694 Q1459.47 49.7694 1455.98 51.8354 Q1452.5 53.9013 1452.5 58.8839 Q1452.5 62.8538 1455.09 65.2034 Q1457.73 67.5124 1462.22 67.5124 Q1468.42 67.5124 1472.15 63.1374 Q1475.91 58.7219 1475.91 51.4303 L1475.91 49.7694 L1468.5 49.7694 M1483.37 46.6907 L1483.37 72.576 L1475.91 72.576 L1475.91 65.6895 Q1473.36 69.8214 1469.55 71.8063 Q1465.75 73.7508 1460.24 73.7508 Q1453.27 73.7508 1449.14 69.8619 Q1445.05 65.9325 1445.05 59.3701 Q1445.05 51.7138 1450.15 47.825 Q1455.29 43.9361 1465.46 43.9361 L1475.91 43.9361 L1475.91 43.2069 Q1475.91 38.0623 1472.51 35.2672 Q1469.15 32.4315 1463.03 32.4315 Q1459.14 32.4315 1455.46 33.3632 Q1451.77 34.295 1448.37 36.1584 L1448.37 29.2718 Q1452.46 27.692 1456.31 26.9223 Q1460.16 26.1121 1463.8 26.1121 Q1473.65 26.1121 1478.51 31.2163 Q1483.37 36.3204 1483.37 46.6907 Z\" fill=\"#000000\" fill-rule=\"evenodd\" fill-opacity=\"1\" /><path clip-path=\"url(#clip250)\" d=\"M 0 0 M1520.11 28.5427 L1520.11 35.5912 Q1516.95 33.9709 1513.55 33.1607 Q1510.14 32.3505 1506.5 32.3505 Q1500.95 32.3505 1498.15 34.0519 Q1495.4 35.7533 1495.4 39.156 Q1495.4 41.7486 1497.38 43.2475 Q1499.37 44.7058 1505.36 46.0426 L1507.92 46.6097 Q1515.86 48.3111 1519.18 51.4303 Q1522.54 54.509 1522.54 60.0587 Q1522.54 66.3781 1517.52 70.0644 Q1512.53 73.7508 1503.78 73.7508 Q1500.14 73.7508 1496.17 73.0216 Q1492.24 72.3329 1487.86 70.9151 L1487.86 63.2184 Q1492 65.3654 1496.01 66.4591 Q1500.02 67.5124 1503.95 67.5124 Q1509.21 67.5124 1512.05 65.73 Q1514.88 63.9071 1514.88 60.6258 Q1514.88 57.5877 1512.82 55.9673 Q1510.79 54.3469 1503.86 52.8481 L1501.27 52.2405 Q1494.35 50.7821 1491.27 47.7845 Q1488.19 44.7463 1488.19 39.4801 Q1488.19 33.0797 1492.72 29.5959 Q1497.26 26.1121 1505.61 26.1121 Q1509.74 26.1121 1513.38 26.7198 Q1517.03 27.3274 1520.11 28.5427 Z\" fill=\"#000000\" fill-rule=\"evenodd\" fill-opacity=\"1\" /><path clip-path=\"url(#clip250)\" d=\"M 0 0 M1569.17 48.0275 L1569.17 51.6733 L1534.89 51.6733 Q1535.38 59.3701 1539.51 63.421 Q1543.69 67.4314 1551.1 67.4314 Q1555.39 67.4314 1559.4 66.3781 Q1563.45 65.3249 1567.42 63.2184 L1567.42 70.267 Q1563.41 71.9684 1559.2 72.8596 Q1554.99 73.7508 1550.65 73.7508 Q1539.8 73.7508 1533.44 67.4314 Q1527.12 61.1119 1527.12 50.3365 Q1527.12 39.1965 1533.11 32.6746 Q1539.15 26.1121 1549.36 26.1121 Q1558.51 26.1121 1563.82 32.0264 Q1569.17 37.9003 1569.17 48.0275 M1561.71 45.84 Q1561.63 39.7232 1558.27 36.0774 Q1554.95 32.4315 1549.44 32.4315 Q1543.2 32.4315 1539.43 35.9558 Q1535.71 39.4801 1535.14 45.8805 L1561.71 45.84 Z\" fill=\"#000000\" fill-rule=\"evenodd\" fill-opacity=\"1\" /><path clip-path=\"url(#clip250)\" d=\"M 0 0 M1605.91 28.5427 L1605.91 35.5912 Q1602.75 33.9709 1599.34 33.1607 Q1595.94 32.3505 1592.3 32.3505 Q1586.75 32.3505 1583.95 34.0519 Q1581.2 35.7533 1581.2 39.156 Q1581.2 41.7486 1583.18 43.2475 Q1585.17 44.7058 1591.16 46.0426 L1593.71 46.6097 Q1601.65 48.3111 1604.98 51.4303 Q1608.34 54.509 1608.34 60.0587 Q1608.34 66.3781 1603.31 70.0644 Q1598.33 73.7508 1589.58 73.7508 Q1585.94 73.7508 1581.97 73.0216 Q1578.04 72.3329 1573.66 70.9151 L1573.66 63.2184 Q1577.79 65.3654 1581.8 66.4591 Q1585.81 67.5124 1589.74 67.5124 Q1595.01 67.5124 1597.85 65.73 Q1600.68 63.9071 1600.68 60.6258 Q1600.68 57.5877 1598.62 55.9673 Q1596.59 54.3469 1589.66 52.8481 L1587.07 52.2405 Q1580.14 50.7821 1577.06 47.7845 Q1573.99 44.7463 1573.99 39.4801 Q1573.99 33.0797 1578.52 29.5959 Q1583.06 26.1121 1591.4 26.1121 Q1595.54 26.1121 1599.18 26.7198 Q1602.83 27.3274 1605.91 28.5427 Z\" fill=\"#000000\" fill-rule=\"evenodd\" fill-opacity=\"1\" /><path clip-path=\"url(#clip250)\" d=\"M 0 0 M1130.78 107.475 L1130.78 116.103 Q1126.64 112.255 1121.95 110.351 Q1117.29 108.447 1112.02 108.447 Q1101.65 108.447 1096.14 114.807 Q1090.63 121.126 1090.63 133.117 Q1090.63 145.067 1096.14 151.427 Q1101.65 157.746 1112.02 157.746 Q1117.29 157.746 1121.95 155.842 Q1126.64 153.938 1130.78 150.09 L1130.78 158.637 Q1126.48 161.554 1121.66 163.012 Q1116.88 164.471 1111.53 164.471 Q1097.8 164.471 1089.9 156.085 Q1082 147.66 1082 133.117 Q1082 118.534 1089.9 110.148 Q1097.8 101.722 1111.53 101.722 Q1116.96 101.722 1121.74 103.181 Q1126.56 104.598 1130.78 107.475 Z\" fill=\"#000000\" fill-rule=\"evenodd\" fill-opacity=\"1\" /><path clip-path=\"url(#clip250)\" d=\"M 0 0 M1156.18 123.152 Q1150.18 123.152 1146.7 127.851 Q1143.21 132.509 1143.21 140.651 Q1143.21 148.794 1146.66 153.493 Q1150.14 158.151 1156.18 158.151 Q1162.13 158.151 1165.61 153.452 Q1169.1 148.753 1169.1 140.651 Q1169.1 132.59 1165.61 127.891 Q1162.13 123.152 1156.18 123.152 M1156.18 116.832 Q1165.9 116.832 1171.45 123.152 Q1177 129.471 1177 140.651 Q1177 151.791 1171.45 158.151 Q1165.9 164.471 1156.18 164.471 Q1146.41 164.471 1140.86 158.151 Q1135.35 151.791 1135.35 140.651 Q1135.35 129.471 1140.86 123.152 Q1146.41 116.832 1156.18 116.832 Z\" fill=\"#000000\" fill-rule=\"evenodd\" fill-opacity=\"1\" /><path clip-path=\"url(#clip250)\" d=\"M 0 0 M1202.4 123.152 Q1196.4 123.152 1192.92 127.851 Q1189.43 132.509 1189.43 140.651 Q1189.43 148.794 1192.88 153.493 Q1196.36 158.151 1202.4 158.151 Q1208.35 158.151 1211.84 153.452 Q1215.32 148.753 1215.32 140.651 Q1215.32 132.59 1211.84 127.891 Q1208.35 123.152 1202.4 123.152 M1202.4 116.832 Q1212.12 116.832 1217.67 123.152 Q1223.22 129.471 1223.22 140.651 Q1223.22 151.791 1217.67 158.151 Q1212.12 164.471 1202.4 164.471 Q1192.63 164.471 1187.08 158.151 Q1181.57 151.791 1181.57 140.651 Q1181.57 129.471 1187.08 123.152 Q1192.63 116.832 1202.4 116.832 Z\" fill=\"#000000\" fill-rule=\"evenodd\" fill-opacity=\"1\" /><path clip-path=\"url(#clip250)\" d=\"M 0 0 M1230.75 100.264 L1238.25 100.264 L1238.25 137.492 L1260.49 117.926 L1270.01 117.926 L1245.94 139.153 L1271.02 163.296 L1261.3 163.296 L1238.25 141.138 L1238.25 163.296 L1230.75 163.296 L1230.75 100.264 Z\" fill=\"#000000\" fill-rule=\"evenodd\" fill-opacity=\"1\" /><path clip-path=\"url(#clip250)\" d=\"M 0 0 M1280.74 153.007 L1289.29 153.007 L1289.29 159.974 L1282.65 172.937 L1277.42 172.937 L1280.74 159.974 L1280.74 153.007 Z\" fill=\"#000000\" fill-rule=\"evenodd\" fill-opacity=\"1\" /><path clip-path=\"url(#clip250)\" d=\"M 0 0 M1323.8 102.816 L1331.99 102.816 L1331.99 163.296 L1323.8 163.296 L1323.8 102.816 Z\" fill=\"#000000\" fill-rule=\"evenodd\" fill-opacity=\"1\" /><path clip-path=\"url(#clip250)\" d=\"M 0 0 M1339.8 100.264 L1347.26 100.264 L1347.26 163.296 L1339.8 163.296 L1339.8 100.264 Z\" fill=\"#000000\" fill-rule=\"evenodd\" fill-opacity=\"1\" /><path clip-path=\"url(#clip250)\" d=\"M 0 0 M1355.08 100.264 L1362.53 100.264 L1362.53 163.296 L1355.08 163.296 L1355.08 100.264 Z\" fill=\"#000000\" fill-rule=\"evenodd\" fill-opacity=\"1\" /><path clip-path=\"url(#clip250)\" d=\"M 0 0 M1370.35 117.926 L1377.8 117.926 L1377.8 163.296 L1370.35 163.296 L1370.35 117.926 M1370.35 100.264 L1377.8 100.264 L1377.8 109.703 L1370.35 109.703 L1370.35 100.264 Z\" fill=\"#000000\" fill-rule=\"evenodd\" fill-opacity=\"1\" /><path clip-path=\"url(#clip250)\" d=\"M 0 0 M1423.33 135.912 L1423.33 163.296 L1415.88 163.296 L1415.88 136.155 Q1415.88 129.714 1413.37 126.514 Q1410.86 123.314 1405.83 123.314 Q1399.8 123.314 1396.31 127.162 Q1392.83 131.01 1392.83 137.654 L1392.83 163.296 L1385.34 163.296 L1385.34 117.926 L1392.83 117.926 L1392.83 124.974 Q1395.5 120.883 1399.11 118.858 Q1402.75 116.832 1407.49 116.832 Q1415.31 116.832 1419.32 121.693 Q1423.33 126.514 1423.33 135.912 Z\" fill=\"#000000\" fill-rule=\"evenodd\" fill-opacity=\"1\" /><path clip-path=\"url(#clip250)\" d=\"M 0 0 M1448.73 123.152 Q1442.74 123.152 1439.25 127.851 Q1435.77 132.509 1435.77 140.651 Q1435.77 148.794 1439.21 153.493 Q1442.7 158.151 1448.73 158.151 Q1454.69 158.151 1458.17 153.452 Q1461.65 148.753 1461.65 140.651 Q1461.65 132.59 1458.17 127.891 Q1454.69 123.152 1448.73 123.152 M1448.73 116.832 Q1458.45 116.832 1464 123.152 Q1469.55 129.471 1469.55 140.651 Q1469.55 151.791 1464 158.151 Q1458.45 164.471 1448.73 164.471 Q1438.97 164.471 1433.42 158.151 Q1427.91 151.791 1427.91 140.651 Q1427.91 129.471 1433.42 123.152 Q1438.97 116.832 1448.73 116.832 Z\" fill=\"#000000\" fill-rule=\"evenodd\" fill-opacity=\"1\" /><path clip-path=\"url(#clip250)\" d=\"M 0 0 M1477.37 117.926 L1484.83 117.926 L1484.83 163.296 L1477.37 163.296 L1477.37 117.926 M1477.37 100.264 L1484.83 100.264 L1484.83 109.703 L1477.37 109.703 L1477.37 100.264 Z\" fill=\"#000000\" fill-rule=\"evenodd\" fill-opacity=\"1\" /><path clip-path=\"url(#clip250)\" d=\"M 0 0 M1521.57 119.263 L1521.57 126.311 Q1518.41 124.691 1515 123.881 Q1511.6 123.071 1507.96 123.071 Q1502.41 123.071 1499.61 124.772 Q1496.86 126.473 1496.86 129.876 Q1496.86 132.469 1498.84 133.967 Q1500.83 135.426 1506.82 136.763 L1509.37 137.33 Q1517.31 139.031 1520.64 142.15 Q1524 145.229 1524 150.779 Q1524 157.098 1518.97 160.784 Q1513.99 164.471 1505.24 164.471 Q1501.6 164.471 1497.63 163.742 Q1493.7 163.053 1489.32 161.635 L1489.32 153.938 Q1493.45 156.085 1497.46 157.179 Q1501.47 158.232 1505.4 158.232 Q1510.67 158.232 1513.51 156.45 Q1516.34 154.627 1516.34 151.346 Q1516.34 148.308 1514.28 146.687 Q1512.25 145.067 1505.32 143.568 L1502.73 142.96 Q1495.8 141.502 1492.72 138.504 Q1489.65 135.466 1489.65 130.2 Q1489.65 123.8 1494.18 120.316 Q1498.72 116.832 1507.07 116.832 Q1511.2 116.832 1514.84 117.44 Q1518.49 118.047 1521.57 119.263 Z\" fill=\"#000000\" fill-rule=\"evenodd\" fill-opacity=\"1\" /><path clip-path=\"url(#clip250)\" d=\"M 0 0 M1242.13 1508.28 L1242.13 1545.24 L1249.89 1545.24 Q1259.73 1545.24 1264.28 1540.78 Q1268.86 1536.32 1268.86 1526.71 Q1268.86 1517.16 1264.28 1512.74 Q1259.73 1508.28 1249.89 1508.28 L1242.13 1508.28 M1235.7 1503 L1248.91 1503 Q1262.72 1503 1269.18 1508.76 Q1275.64 1514.49 1275.64 1526.71 Q1275.64 1539 1269.15 1544.76 Q1262.66 1550.52 1248.91 1550.52 L1235.7 1550.52 L1235.7 1503 Z\" fill=\"#000000\" fill-rule=\"evenodd\" fill-opacity=\"1\" /><path clip-path=\"url(#clip250)\" d=\"M 0 0 M1297.99 1532.6 Q1290.89 1532.6 1288.15 1534.22 Q1285.42 1535.85 1285.42 1539.76 Q1285.42 1542.88 1287.45 1544.73 Q1289.52 1546.54 1293.05 1546.54 Q1297.92 1546.54 1300.85 1543.1 Q1303.81 1539.63 1303.81 1533.91 L1303.81 1532.6 L1297.99 1532.6 M1309.67 1530.18 L1309.67 1550.52 L1303.81 1550.52 L1303.81 1545.11 Q1301.81 1548.36 1298.82 1549.92 Q1295.82 1551.44 1291.49 1551.44 Q1286.02 1551.44 1282.77 1548.39 Q1279.56 1545.3 1279.56 1540.14 Q1279.56 1534.13 1283.57 1531.07 Q1287.61 1528.02 1295.6 1528.02 L1303.81 1528.02 L1303.81 1527.44 Q1303.81 1523.4 1301.14 1521.21 Q1298.5 1518.98 1293.69 1518.98 Q1290.64 1518.98 1287.74 1519.71 Q1284.84 1520.44 1282.17 1521.91 L1282.17 1516.5 Q1285.38 1515.25 1288.41 1514.65 Q1291.43 1514.01 1294.3 1514.01 Q1302.03 1514.01 1305.85 1518.02 Q1309.67 1522.03 1309.67 1530.18 Z\" fill=\"#000000\" fill-rule=\"evenodd\" fill-opacity=\"1\" /><path clip-path=\"url(#clip250)\" d=\"M 0 0 M1321.6 1504.75 L1321.6 1514.87 L1333.67 1514.87 L1333.67 1519.42 L1321.6 1519.42 L1321.6 1538.78 Q1321.6 1543.14 1322.78 1544.38 Q1323.99 1545.62 1327.65 1545.62 L1333.67 1545.62 L1333.67 1550.52 L1327.65 1550.52 Q1320.87 1550.52 1318.29 1548.01 Q1315.72 1545.46 1315.72 1538.78 L1315.72 1519.42 L1311.42 1519.42 L1311.42 1514.87 L1315.72 1514.87 L1315.72 1504.75 L1321.6 1504.75 Z\" fill=\"#000000\" fill-rule=\"evenodd\" fill-opacity=\"1\" /><path clip-path=\"url(#clip250)\" d=\"M 0 0 M1370.3 1531.23 L1370.3 1534.1 L1343.38 1534.1 Q1343.76 1540.14 1347 1543.33 Q1350.28 1546.48 1356.11 1546.48 Q1359.48 1546.48 1362.63 1545.65 Q1365.81 1544.82 1368.93 1543.17 L1368.93 1548.71 Q1365.78 1550.04 1362.47 1550.74 Q1359.16 1551.44 1355.76 1551.44 Q1347.23 1551.44 1342.23 1546.48 Q1337.26 1541.51 1337.26 1533.05 Q1337.26 1524.29 1341.97 1519.17 Q1346.72 1514.01 1354.74 1514.01 Q1361.93 1514.01 1366.1 1518.66 Q1370.3 1523.27 1370.3 1531.23 M1364.45 1529.51 Q1364.38 1524.71 1361.74 1521.84 Q1359.13 1518.98 1354.8 1518.98 Q1349.9 1518.98 1346.94 1521.75 Q1344.01 1524.52 1343.57 1529.54 L1364.45 1529.51 Z\" fill=\"#000000\" fill-rule=\"evenodd\" fill-opacity=\"1\" /><path clip-path=\"url(#clip250)\" d=\"M 0 0 M40.4842 882.992 L40.4842 874.334 L80.238 853.264 L40.4842 853.264 L40.4842 847.025 L88.0042 847.025 L88.0042 855.683 L48.2503 876.753 L88.0042 876.753 L88.0042 882.992 L40.4842 882.992 Z\" fill=\"#000000\" fill-rule=\"evenodd\" fill-opacity=\"1\" /><path clip-path=\"url(#clip250)\" d=\"M 0 0 M68.7161 810.391 L71.5806 810.391 L71.5806 837.318 Q77.6281 836.936 80.8109 833.689 Q83.9619 830.411 83.9619 824.586 Q83.9619 821.212 83.1344 818.061 Q82.3069 814.879 80.6518 811.759 L86.1899 811.759 Q87.5267 814.91 88.227 818.221 Q88.9272 821.531 88.9272 824.936 Q88.9272 833.466 83.9619 838.464 Q78.9967 843.429 70.5303 843.429 Q61.7774 843.429 56.6531 838.718 Q51.4968 833.976 51.4968 825.955 Q51.4968 818.762 56.1438 814.592 Q60.7589 810.391 68.7161 810.391 M66.9973 816.247 Q62.1912 816.311 59.3266 818.953 Q56.4621 821.563 56.4621 825.891 Q56.4621 830.793 59.2312 833.753 Q62.0002 836.681 67.0292 837.127 L66.9973 816.247 Z\" fill=\"#000000\" fill-rule=\"evenodd\" fill-opacity=\"1\" /><path clip-path=\"url(#clip250)\" d=\"M 0 0 M52.3562 807.654 L52.3562 801.797 L80.1743 794.477 L52.3562 787.188 L52.3562 780.281 L80.1743 772.96 L52.3562 765.672 L52.3562 759.815 L88.0042 769.141 L88.0042 776.048 L58.7856 783.718 L88.0042 791.421 L88.0042 798.328 L52.3562 807.654 Z\" fill=\"#000000\" fill-rule=\"evenodd\" fill-opacity=\"1\" /><path clip-path=\"url(#clip250)\" d=\"M 0 0 M44.1444 697.113 L50.9239 697.113 Q47.9002 700.36 46.4043 704.052 Q44.9083 707.712 44.9083 711.85 Q44.9083 719.998 49.9054 724.326 Q54.8707 728.655 64.2919 728.655 Q73.6813 728.655 78.6784 724.326 Q83.6436 719.998 83.6436 711.85 Q83.6436 707.712 82.1477 704.052 Q80.6518 700.36 77.6281 697.113 L84.3439 697.113 Q86.6355 700.487 87.7814 704.274 Q88.9272 708.03 88.9272 712.232 Q88.9272 723.021 82.3387 729.228 Q75.7183 735.435 64.2919 735.435 Q52.8336 735.435 46.2451 729.228 Q39.6248 723.021 39.6248 712.232 Q39.6248 707.967 40.7706 704.211 Q41.8846 700.423 44.1444 697.113 Z\" fill=\"#000000\" fill-rule=\"evenodd\" fill-opacity=\"1\" /><path clip-path=\"url(#clip250)\" d=\"M 0 0 M70.0847 674.769 Q70.0847 681.867 71.7079 684.604 Q73.3312 687.342 77.2461 687.342 Q80.3653 687.342 82.2114 685.305 Q84.0256 683.236 84.0256 679.703 Q84.0256 674.833 80.5881 671.905 Q77.1188 668.945 71.3897 668.945 L70.0847 668.945 L70.0847 674.769 M67.6657 663.088 L88.0042 663.088 L88.0042 668.945 L82.5933 668.945 Q85.8398 670.95 87.3994 673.942 Q88.9272 676.934 88.9272 681.262 Q88.9272 686.737 85.8716 689.983 Q82.7843 693.198 77.6281 693.198 Q71.6125 693.198 68.5569 689.188 Q65.5014 685.146 65.5014 677.157 L65.5014 668.945 L64.9285 668.945 Q60.8862 668.945 58.6901 671.618 Q56.4621 674.26 56.4621 679.066 Q56.4621 682.122 57.1941 685.018 Q57.9262 687.915 59.3903 690.588 L53.9795 690.588 Q52.7381 687.374 52.1334 684.35 Q51.4968 681.326 51.4968 678.462 Q51.4968 670.727 55.5072 666.908 Q59.5176 663.088 67.6657 663.088 Z\" fill=\"#000000\" fill-rule=\"evenodd\" fill-opacity=\"1\" /><path clip-path=\"url(#clip250)\" d=\"M 0 0 M53.4065 634.22 L58.9447 634.22 Q57.6716 636.702 57.035 639.376 Q56.3984 642.05 56.3984 644.914 Q56.3984 649.275 57.7352 651.471 Q59.072 653.635 61.7456 653.635 Q63.7826 653.635 64.9603 652.076 Q66.1061 650.516 67.1565 645.805 L67.6021 643.8 Q68.9389 637.562 71.3897 634.952 Q73.8086 632.31 78.1691 632.31 Q83.1344 632.31 86.0308 636.257 Q88.9272 640.172 88.9272 647.047 Q88.9272 649.911 88.3543 653.031 Q87.8132 656.118 86.6992 659.555 L80.6518 659.555 Q82.3387 656.309 83.198 653.158 Q84.0256 650.007 84.0256 646.919 Q84.0256 642.782 82.6251 640.554 Q81.1929 638.326 78.6147 638.326 Q76.2276 638.326 74.9545 639.949 Q73.6813 641.54 72.5037 646.983 L72.0262 649.02 Q70.8804 654.463 68.5251 656.882 Q66.138 659.301 62.0002 659.301 Q56.9713 659.301 54.2341 655.736 Q51.4968 652.171 51.4968 645.614 Q51.4968 642.368 51.9743 639.503 Q52.4517 636.639 53.4065 634.22 Z\" fill=\"#000000\" fill-rule=\"evenodd\" fill-opacity=\"1\" /><path clip-path=\"url(#clip250)\" d=\"M 0 0 M68.7161 595.676 L71.5806 595.676 L71.5806 622.602 Q77.6281 622.221 80.8109 618.974 Q83.9619 615.696 83.9619 609.871 Q83.9619 606.497 83.1344 603.346 Q82.3069 600.163 80.6518 597.044 L86.1899 597.044 Q87.5267 600.195 88.227 603.505 Q88.9272 606.815 88.9272 610.221 Q88.9272 618.751 83.9619 623.748 Q78.9967 628.714 70.5303 628.714 Q61.7774 628.714 56.6531 624.003 Q51.4968 619.26 51.4968 611.24 Q51.4968 604.046 56.1438 599.877 Q60.7589 595.676 68.7161 595.676 M66.9973 601.532 Q62.1912 601.596 59.3266 604.237 Q56.4621 606.847 56.4621 611.176 Q56.4621 616.078 59.2312 619.038 Q62.0002 621.966 67.0292 622.411 L66.9973 601.532 Z\" fill=\"#000000\" fill-rule=\"evenodd\" fill-opacity=\"1\" /><path clip-path=\"url(#clip250)\" d=\"M 0 0 M53.4065 566.807 L58.9447 566.807 Q57.6716 569.29 57.035 571.963 Q56.3984 574.637 56.3984 577.501 Q56.3984 581.862 57.7352 584.058 Q59.072 586.222 61.7456 586.222 Q63.7826 586.222 64.9603 584.663 Q66.1061 583.103 67.1565 578.393 L67.6021 576.387 Q68.9389 570.149 71.3897 567.539 Q73.8086 564.897 78.1691 564.897 Q83.1344 564.897 86.0308 568.844 Q88.9272 572.759 88.9272 579.634 Q88.9272 582.498 88.3543 585.618 Q87.8132 588.705 86.6992 592.143 L80.6518 592.143 Q82.3387 588.896 83.198 585.745 Q84.0256 582.594 84.0256 579.507 Q84.0256 575.369 82.6251 573.141 Q81.1929 570.913 78.6147 570.913 Q76.2276 570.913 74.9545 572.536 Q73.6813 574.128 72.5037 579.57 L72.0262 581.607 Q70.8804 587.05 68.5251 589.469 Q66.138 591.888 62.0002 591.888 Q56.9713 591.888 54.2341 588.323 Q51.4968 584.758 51.4968 578.202 Q51.4968 574.955 51.9743 572.091 Q52.4517 569.226 53.4065 566.807 Z\" fill=\"#000000\" fill-rule=\"evenodd\" fill-opacity=\"1\" /><path clip-path=\"url(#clip252)\" d=\"\n",
       "M368.723 1233.37 L368.723 1233.37 L380.239 1233.37 L380.239 1233.37 L368.723 1233.37 L368.723 1233.37  Z\n",
       "  \" fill=\"#009af9\" fill-rule=\"evenodd\" fill-opacity=\"1\"/>\n",
       "<polyline clip-path=\"url(#clip252)\" style=\"stroke:#000000; stroke-width:4; stroke-opacity:1; fill:none\" points=\"\n",
       "  368.723,1233.37 368.723,1233.37 380.239,1233.37 368.723,1233.37 \n",
       "  \"/>\n",
       "<path clip-path=\"url(#clip252)\" d=\"\n",
       "M383.118 1233.37 L383.118 1233.37 L394.635 1233.37 L394.635 1233.37 L383.118 1233.37 L383.118 1233.37  Z\n",
       "  \" fill=\"#009af9\" fill-rule=\"evenodd\" fill-opacity=\"1\"/>\n",
       "<polyline clip-path=\"url(#clip252)\" style=\"stroke:#000000; stroke-width:4; stroke-opacity:1; fill:none\" points=\"\n",
       "  383.118,1233.37 383.118,1233.37 394.635,1233.37 383.118,1233.37 \n",
       "  \"/>\n",
       "<path clip-path=\"url(#clip252)\" d=\"\n",
       "M397.514 1233.37 L397.514 1233.37 L409.03 1233.37 L409.03 1233.37 L397.514 1233.37 L397.514 1233.37  Z\n",
       "  \" fill=\"#009af9\" fill-rule=\"evenodd\" fill-opacity=\"1\"/>\n",
       "<polyline clip-path=\"url(#clip252)\" style=\"stroke:#000000; stroke-width:4; stroke-opacity:1; fill:none\" points=\"\n",
       "  397.514,1233.37 397.514,1233.37 409.03,1233.37 397.514,1233.37 \n",
       "  \"/>\n",
       "<path clip-path=\"url(#clip252)\" d=\"\n",
       "M411.909 1233.37 L411.909 1233.37 L423.426 1233.37 L423.426 1233.37 L411.909 1233.37 L411.909 1233.37  Z\n",
       "  \" fill=\"#009af9\" fill-rule=\"evenodd\" fill-opacity=\"1\"/>\n",
       "<polyline clip-path=\"url(#clip252)\" style=\"stroke:#000000; stroke-width:4; stroke-opacity:1; fill:none\" points=\"\n",
       "  411.909,1233.37 411.909,1233.37 423.426,1233.37 411.909,1233.37 \n",
       "  \"/>\n",
       "<path clip-path=\"url(#clip252)\" d=\"\n",
       "M426.305 1233.37 L426.305 1233.37 L437.822 1233.37 L437.822 1233.37 L426.305 1233.37 L426.305 1233.37  Z\n",
       "  \" fill=\"#009af9\" fill-rule=\"evenodd\" fill-opacity=\"1\"/>\n",
       "<polyline clip-path=\"url(#clip252)\" style=\"stroke:#000000; stroke-width:4; stroke-opacity:1; fill:none\" points=\"\n",
       "  426.305,1233.37 426.305,1233.37 437.822,1233.37 426.305,1233.37 \n",
       "  \"/>\n",
       "<path clip-path=\"url(#clip252)\" d=\"\n",
       "M440.701 1233.37 L440.701 1233.37 L452.217 1233.37 L452.217 1233.37 L440.701 1233.37 L440.701 1233.37  Z\n",
       "  \" fill=\"#009af9\" fill-rule=\"evenodd\" fill-opacity=\"1\"/>\n",
       "<polyline clip-path=\"url(#clip252)\" style=\"stroke:#000000; stroke-width:4; stroke-opacity:1; fill:none\" points=\"\n",
       "  440.701,1233.37 440.701,1233.37 452.217,1233.37 440.701,1233.37 \n",
       "  \"/>\n",
       "<path clip-path=\"url(#clip252)\" d=\"\n",
       "M455.096 1232.9 L455.096 1233.37 L466.613 1233.37 L466.613 1232.9 L455.096 1232.9 L455.096 1232.9  Z\n",
       "  \" fill=\"#009af9\" fill-rule=\"evenodd\" fill-opacity=\"1\"/>\n",
       "<polyline clip-path=\"url(#clip252)\" style=\"stroke:#000000; stroke-width:4; stroke-opacity:1; fill:none\" points=\"\n",
       "  455.096,1232.9 455.096,1233.37 466.613,1233.37 466.613,1232.9 455.096,1232.9 \n",
       "  \"/>\n",
       "<path clip-path=\"url(#clip252)\" d=\"\n",
       "M469.492 1233.37 L469.492 1233.37 L481.009 1233.37 L481.009 1233.37 L469.492 1233.37 L469.492 1233.37  Z\n",
       "  \" fill=\"#009af9\" fill-rule=\"evenodd\" fill-opacity=\"1\"/>\n",
       "<polyline clip-path=\"url(#clip252)\" style=\"stroke:#000000; stroke-width:4; stroke-opacity:1; fill:none\" points=\"\n",
       "  469.492,1233.37 469.492,1233.37 481.009,1233.37 469.492,1233.37 \n",
       "  \"/>\n",
       "<path clip-path=\"url(#clip252)\" d=\"\n",
       "M483.888 1233.37 L483.888 1233.37 L495.404 1233.37 L495.404 1233.37 L483.888 1233.37 L483.888 1233.37  Z\n",
       "  \" fill=\"#009af9\" fill-rule=\"evenodd\" fill-opacity=\"1\"/>\n",
       "<polyline clip-path=\"url(#clip252)\" style=\"stroke:#000000; stroke-width:4; stroke-opacity:1; fill:none\" points=\"\n",
       "  483.888,1233.37 483.888,1233.37 495.404,1233.37 483.888,1233.37 \n",
       "  \"/>\n",
       "<path clip-path=\"url(#clip252)\" d=\"\n",
       "M498.283 1233.37 L498.283 1233.37 L509.8 1233.37 L509.8 1233.37 L498.283 1233.37 L498.283 1233.37  Z\n",
       "  \" fill=\"#009af9\" fill-rule=\"evenodd\" fill-opacity=\"1\"/>\n",
       "<polyline clip-path=\"url(#clip252)\" style=\"stroke:#000000; stroke-width:4; stroke-opacity:1; fill:none\" points=\"\n",
       "  498.283,1233.37 498.283,1233.37 509.8,1233.37 498.283,1233.37 \n",
       "  \"/>\n",
       "<path clip-path=\"url(#clip252)\" d=\"\n",
       "M512.679 1233.37 L512.679 1233.37 L524.196 1233.37 L524.196 1233.37 L512.679 1233.37 L512.679 1233.37  Z\n",
       "  \" fill=\"#009af9\" fill-rule=\"evenodd\" fill-opacity=\"1\"/>\n",
       "<polyline clip-path=\"url(#clip252)\" style=\"stroke:#000000; stroke-width:4; stroke-opacity:1; fill:none\" points=\"\n",
       "  512.679,1233.37 512.679,1233.37 524.196,1233.37 512.679,1233.37 \n",
       "  \"/>\n",
       "<path clip-path=\"url(#clip252)\" d=\"\n",
       "M527.075 1233.37 L527.075 1233.37 L538.591 1233.37 L538.591 1233.37 L527.075 1233.37 L527.075 1233.37  Z\n",
       "  \" fill=\"#009af9\" fill-rule=\"evenodd\" fill-opacity=\"1\"/>\n",
       "<polyline clip-path=\"url(#clip252)\" style=\"stroke:#000000; stroke-width:4; stroke-opacity:1; fill:none\" points=\"\n",
       "  527.075,1233.37 527.075,1233.37 538.591,1233.37 527.075,1233.37 \n",
       "  \"/>\n",
       "<path clip-path=\"url(#clip252)\" d=\"\n",
       "M541.47 1233.37 L541.47 1233.37 L552.987 1233.37 L552.987 1233.37 L541.47 1233.37 L541.47 1233.37  Z\n",
       "  \" fill=\"#009af9\" fill-rule=\"evenodd\" fill-opacity=\"1\"/>\n",
       "<polyline clip-path=\"url(#clip252)\" style=\"stroke:#000000; stroke-width:4; stroke-opacity:1; fill:none\" points=\"\n",
       "  541.47,1233.37 541.47,1233.37 552.987,1233.37 541.47,1233.37 \n",
       "  \"/>\n",
       "<path clip-path=\"url(#clip252)\" d=\"\n",
       "M555.866 1233.37 L555.866 1233.37 L567.383 1233.37 L567.383 1233.37 L555.866 1233.37 L555.866 1233.37  Z\n",
       "  \" fill=\"#009af9\" fill-rule=\"evenodd\" fill-opacity=\"1\"/>\n",
       "<polyline clip-path=\"url(#clip252)\" style=\"stroke:#000000; stroke-width:4; stroke-opacity:1; fill:none\" points=\"\n",
       "  555.866,1233.37 555.866,1233.37 567.383,1233.37 555.866,1233.37 \n",
       "  \"/>\n",
       "<path clip-path=\"url(#clip252)\" d=\"\n",
       "M570.262 1233.37 L570.262 1233.37 L581.778 1233.37 L581.778 1233.37 L570.262 1233.37 L570.262 1233.37  Z\n",
       "  \" fill=\"#009af9\" fill-rule=\"evenodd\" fill-opacity=\"1\"/>\n",
       "<polyline clip-path=\"url(#clip252)\" style=\"stroke:#000000; stroke-width:4; stroke-opacity:1; fill:none\" points=\"\n",
       "  570.262,1233.37 570.262,1233.37 581.778,1233.37 570.262,1233.37 \n",
       "  \"/>\n",
       "<path clip-path=\"url(#clip252)\" d=\"\n",
       "M584.657 1233.37 L584.657 1233.37 L596.174 1233.37 L596.174 1233.37 L584.657 1233.37 L584.657 1233.37  Z\n",
       "  \" fill=\"#009af9\" fill-rule=\"evenodd\" fill-opacity=\"1\"/>\n",
       "<polyline clip-path=\"url(#clip252)\" style=\"stroke:#000000; stroke-width:4; stroke-opacity:1; fill:none\" points=\"\n",
       "  584.657,1233.37 584.657,1233.37 596.174,1233.37 584.657,1233.37 \n",
       "  \"/>\n",
       "<path clip-path=\"url(#clip252)\" d=\"\n",
       "M599.053 1233.37 L599.053 1233.37 L610.57 1233.37 L610.57 1233.37 L599.053 1233.37 L599.053 1233.37  Z\n",
       "  \" fill=\"#009af9\" fill-rule=\"evenodd\" fill-opacity=\"1\"/>\n",
       "<polyline clip-path=\"url(#clip252)\" style=\"stroke:#000000; stroke-width:4; stroke-opacity:1; fill:none\" points=\"\n",
       "  599.053,1233.37 599.053,1233.37 610.57,1233.37 599.053,1233.37 \n",
       "  \"/>\n",
       "<path clip-path=\"url(#clip252)\" d=\"\n",
       "M613.449 1233.37 L613.449 1233.37 L624.965 1233.37 L624.965 1233.37 L613.449 1233.37 L613.449 1233.37  Z\n",
       "  \" fill=\"#009af9\" fill-rule=\"evenodd\" fill-opacity=\"1\"/>\n",
       "<polyline clip-path=\"url(#clip252)\" style=\"stroke:#000000; stroke-width:4; stroke-opacity:1; fill:none\" points=\"\n",
       "  613.449,1233.37 613.449,1233.37 624.965,1233.37 613.449,1233.37 \n",
       "  \"/>\n",
       "<path clip-path=\"url(#clip252)\" d=\"\n",
       "M627.844 1233.37 L627.844 1233.37 L639.361 1233.37 L639.361 1233.37 L627.844 1233.37 L627.844 1233.37  Z\n",
       "  \" fill=\"#009af9\" fill-rule=\"evenodd\" fill-opacity=\"1\"/>\n",
       "<polyline clip-path=\"url(#clip252)\" style=\"stroke:#000000; stroke-width:4; stroke-opacity:1; fill:none\" points=\"\n",
       "  627.844,1233.37 627.844,1233.37 639.361,1233.37 627.844,1233.37 \n",
       "  \"/>\n",
       "<path clip-path=\"url(#clip252)\" d=\"\n",
       "M642.24 1233.37 L642.24 1233.37 L653.757 1233.37 L653.757 1233.37 L642.24 1233.37 L642.24 1233.37  Z\n",
       "  \" fill=\"#009af9\" fill-rule=\"evenodd\" fill-opacity=\"1\"/>\n",
       "<polyline clip-path=\"url(#clip252)\" style=\"stroke:#000000; stroke-width:4; stroke-opacity:1; fill:none\" points=\"\n",
       "  642.24,1233.37 642.24,1233.37 653.757,1233.37 642.24,1233.37 \n",
       "  \"/>\n",
       "<path clip-path=\"url(#clip252)\" d=\"\n",
       "M656.636 1233.37 L656.636 1233.37 L668.152 1233.37 L668.152 1233.37 L656.636 1233.37 L656.636 1233.37  Z\n",
       "  \" fill=\"#009af9\" fill-rule=\"evenodd\" fill-opacity=\"1\"/>\n",
       "<polyline clip-path=\"url(#clip252)\" style=\"stroke:#000000; stroke-width:4; stroke-opacity:1; fill:none\" points=\"\n",
       "  656.636,1233.37 656.636,1233.37 668.152,1233.37 656.636,1233.37 \n",
       "  \"/>\n",
       "<path clip-path=\"url(#clip252)\" d=\"\n",
       "M671.031 1233.37 L671.031 1233.37 L682.548 1233.37 L682.548 1233.37 L671.031 1233.37 L671.031 1233.37  Z\n",
       "  \" fill=\"#009af9\" fill-rule=\"evenodd\" fill-opacity=\"1\"/>\n",
       "<polyline clip-path=\"url(#clip252)\" style=\"stroke:#000000; stroke-width:4; stroke-opacity:1; fill:none\" points=\"\n",
       "  671.031,1233.37 671.031,1233.37 682.548,1233.37 671.031,1233.37 \n",
       "  \"/>\n",
       "<path clip-path=\"url(#clip252)\" d=\"\n",
       "M685.427 1233.37 L685.427 1233.37 L696.944 1233.37 L696.944 1233.37 L685.427 1233.37 L685.427 1233.37  Z\n",
       "  \" fill=\"#009af9\" fill-rule=\"evenodd\" fill-opacity=\"1\"/>\n",
       "<polyline clip-path=\"url(#clip252)\" style=\"stroke:#000000; stroke-width:4; stroke-opacity:1; fill:none\" points=\"\n",
       "  685.427,1233.37 685.427,1233.37 696.944,1233.37 685.427,1233.37 \n",
       "  \"/>\n",
       "<path clip-path=\"url(#clip252)\" d=\"\n",
       "M699.823 1233.37 L699.823 1233.37 L711.339 1233.37 L711.339 1233.37 L699.823 1233.37 L699.823 1233.37  Z\n",
       "  \" fill=\"#009af9\" fill-rule=\"evenodd\" fill-opacity=\"1\"/>\n",
       "<polyline clip-path=\"url(#clip252)\" style=\"stroke:#000000; stroke-width:4; stroke-opacity:1; fill:none\" points=\"\n",
       "  699.823,1233.37 699.823,1233.37 711.339,1233.37 699.823,1233.37 \n",
       "  \"/>\n",
       "<path clip-path=\"url(#clip252)\" d=\"\n",
       "M714.218 1233.37 L714.218 1233.37 L725.735 1233.37 L725.735 1233.37 L714.218 1233.37 L714.218 1233.37  Z\n",
       "  \" fill=\"#009af9\" fill-rule=\"evenodd\" fill-opacity=\"1\"/>\n",
       "<polyline clip-path=\"url(#clip252)\" style=\"stroke:#000000; stroke-width:4; stroke-opacity:1; fill:none\" points=\"\n",
       "  714.218,1233.37 714.218,1233.37 725.735,1233.37 714.218,1233.37 \n",
       "  \"/>\n",
       "<path clip-path=\"url(#clip252)\" d=\"\n",
       "M728.614 1233.37 L728.614 1233.37 L740.131 1233.37 L740.131 1233.37 L728.614 1233.37 L728.614 1233.37  Z\n",
       "  \" fill=\"#009af9\" fill-rule=\"evenodd\" fill-opacity=\"1\"/>\n",
       "<polyline clip-path=\"url(#clip252)\" style=\"stroke:#000000; stroke-width:4; stroke-opacity:1; fill:none\" points=\"\n",
       "  728.614,1233.37 728.614,1233.37 740.131,1233.37 728.614,1233.37 \n",
       "  \"/>\n",
       "<path clip-path=\"url(#clip252)\" d=\"\n",
       "M743.01 1233.37 L743.01 1233.37 L754.526 1233.37 L754.526 1233.37 L743.01 1233.37 L743.01 1233.37  Z\n",
       "  \" fill=\"#009af9\" fill-rule=\"evenodd\" fill-opacity=\"1\"/>\n",
       "<polyline clip-path=\"url(#clip252)\" style=\"stroke:#000000; stroke-width:4; stroke-opacity:1; fill:none\" points=\"\n",
       "  743.01,1233.37 743.01,1233.37 754.526,1233.37 743.01,1233.37 \n",
       "  \"/>\n",
       "<path clip-path=\"url(#clip252)\" d=\"\n",
       "M757.405 1233.37 L757.405 1233.37 L768.922 1233.37 L768.922 1233.37 L757.405 1233.37 L757.405 1233.37  Z\n",
       "  \" fill=\"#009af9\" fill-rule=\"evenodd\" fill-opacity=\"1\"/>\n",
       "<polyline clip-path=\"url(#clip252)\" style=\"stroke:#000000; stroke-width:4; stroke-opacity:1; fill:none\" points=\"\n",
       "  757.405,1233.37 757.405,1233.37 768.922,1233.37 757.405,1233.37 \n",
       "  \"/>\n",
       "<path clip-path=\"url(#clip252)\" d=\"\n",
       "M771.801 1233.37 L771.801 1233.37 L783.318 1233.37 L783.318 1233.37 L771.801 1233.37 L771.801 1233.37  Z\n",
       "  \" fill=\"#009af9\" fill-rule=\"evenodd\" fill-opacity=\"1\"/>\n",
       "<polyline clip-path=\"url(#clip252)\" style=\"stroke:#000000; stroke-width:4; stroke-opacity:1; fill:none\" points=\"\n",
       "  771.801,1233.37 771.801,1233.37 783.318,1233.37 771.801,1233.37 \n",
       "  \"/>\n",
       "<path clip-path=\"url(#clip252)\" d=\"\n",
       "M786.197 1233.37 L786.197 1233.37 L797.713 1233.37 L797.713 1233.37 L786.197 1233.37 L786.197 1233.37  Z\n",
       "  \" fill=\"#009af9\" fill-rule=\"evenodd\" fill-opacity=\"1\"/>\n",
       "<polyline clip-path=\"url(#clip252)\" style=\"stroke:#000000; stroke-width:4; stroke-opacity:1; fill:none\" points=\"\n",
       "  786.197,1233.37 786.197,1233.37 797.713,1233.37 786.197,1233.37 \n",
       "  \"/>\n",
       "<path clip-path=\"url(#clip252)\" d=\"\n",
       "M800.592 1233.37 L800.592 1233.37 L812.109 1233.37 L812.109 1233.37 L800.592 1233.37 L800.592 1233.37  Z\n",
       "  \" fill=\"#009af9\" fill-rule=\"evenodd\" fill-opacity=\"1\"/>\n",
       "<polyline clip-path=\"url(#clip252)\" style=\"stroke:#000000; stroke-width:4; stroke-opacity:1; fill:none\" points=\"\n",
       "  800.592,1233.37 800.592,1233.37 812.109,1233.37 800.592,1233.37 \n",
       "  \"/>\n",
       "<path clip-path=\"url(#clip252)\" d=\"\n",
       "M814.988 1233.37 L814.988 1233.37 L826.504 1233.37 L826.504 1233.37 L814.988 1233.37 L814.988 1233.37  Z\n",
       "  \" fill=\"#009af9\" fill-rule=\"evenodd\" fill-opacity=\"1\"/>\n",
       "<polyline clip-path=\"url(#clip252)\" style=\"stroke:#000000; stroke-width:4; stroke-opacity:1; fill:none\" points=\"\n",
       "  814.988,1233.37 814.988,1233.37 826.504,1233.37 814.988,1233.37 \n",
       "  \"/>\n",
       "<path clip-path=\"url(#clip252)\" d=\"\n",
       "M829.384 1233.37 L829.384 1233.37 L840.9 1233.37 L840.9 1233.37 L829.384 1233.37 L829.384 1233.37  Z\n",
       "  \" fill=\"#009af9\" fill-rule=\"evenodd\" fill-opacity=\"1\"/>\n",
       "<polyline clip-path=\"url(#clip252)\" style=\"stroke:#000000; stroke-width:4; stroke-opacity:1; fill:none\" points=\"\n",
       "  829.384,1233.37 829.384,1233.37 840.9,1233.37 829.384,1233.37 \n",
       "  \"/>\n",
       "<path clip-path=\"url(#clip252)\" d=\"\n",
       "M843.779 1233.37 L843.779 1233.37 L855.296 1233.37 L855.296 1233.37 L843.779 1233.37 L843.779 1233.37  Z\n",
       "  \" fill=\"#009af9\" fill-rule=\"evenodd\" fill-opacity=\"1\"/>\n",
       "<polyline clip-path=\"url(#clip252)\" style=\"stroke:#000000; stroke-width:4; stroke-opacity:1; fill:none\" points=\"\n",
       "  843.779,1233.37 843.779,1233.37 855.296,1233.37 843.779,1233.37 \n",
       "  \"/>\n",
       "<path clip-path=\"url(#clip252)\" d=\"\n",
       "M858.175 1233.37 L858.175 1233.37 L869.691 1233.37 L869.691 1233.37 L858.175 1233.37 L858.175 1233.37  Z\n",
       "  \" fill=\"#009af9\" fill-rule=\"evenodd\" fill-opacity=\"1\"/>\n",
       "<polyline clip-path=\"url(#clip252)\" style=\"stroke:#000000; stroke-width:4; stroke-opacity:1; fill:none\" points=\"\n",
       "  858.175,1233.37 858.175,1233.37 869.691,1233.37 858.175,1233.37 \n",
       "  \"/>\n",
       "<path clip-path=\"url(#clip252)\" d=\"\n",
       "M872.571 1233.37 L872.571 1233.37 L884.087 1233.37 L884.087 1233.37 L872.571 1233.37 L872.571 1233.37  Z\n",
       "  \" fill=\"#009af9\" fill-rule=\"evenodd\" fill-opacity=\"1\"/>\n",
       "<polyline clip-path=\"url(#clip252)\" style=\"stroke:#000000; stroke-width:4; stroke-opacity:1; fill:none\" points=\"\n",
       "  872.571,1233.37 872.571,1233.37 884.087,1233.37 872.571,1233.37 \n",
       "  \"/>\n",
       "<path clip-path=\"url(#clip252)\" d=\"\n",
       "M886.966 1232.9 L886.966 1233.37 L898.483 1233.37 L898.483 1232.9 L886.966 1232.9 L886.966 1232.9  Z\n",
       "  \" fill=\"#009af9\" fill-rule=\"evenodd\" fill-opacity=\"1\"/>\n",
       "<polyline clip-path=\"url(#clip252)\" style=\"stroke:#000000; stroke-width:4; stroke-opacity:1; fill:none\" points=\"\n",
       "  886.966,1232.9 886.966,1233.37 898.483,1233.37 898.483,1232.9 886.966,1232.9 \n",
       "  \"/>\n",
       "<path clip-path=\"url(#clip252)\" d=\"\n",
       "M901.362 1233.37 L901.362 1233.37 L912.878 1233.37 L912.878 1233.37 L901.362 1233.37 L901.362 1233.37  Z\n",
       "  \" fill=\"#009af9\" fill-rule=\"evenodd\" fill-opacity=\"1\"/>\n",
       "<polyline clip-path=\"url(#clip252)\" style=\"stroke:#000000; stroke-width:4; stroke-opacity:1; fill:none\" points=\"\n",
       "  901.362,1233.37 901.362,1233.37 912.878,1233.37 901.362,1233.37 \n",
       "  \"/>\n",
       "<path clip-path=\"url(#clip252)\" d=\"\n",
       "M915.758 1232.9 L915.758 1233.37 L927.274 1233.37 L927.274 1232.9 L915.758 1232.9 L915.758 1232.9  Z\n",
       "  \" fill=\"#009af9\" fill-rule=\"evenodd\" fill-opacity=\"1\"/>\n",
       "<polyline clip-path=\"url(#clip252)\" style=\"stroke:#000000; stroke-width:4; stroke-opacity:1; fill:none\" points=\"\n",
       "  915.758,1232.9 915.758,1233.37 927.274,1233.37 927.274,1232.9 915.758,1232.9 \n",
       "  \"/>\n",
       "<path clip-path=\"url(#clip252)\" d=\"\n",
       "M930.153 1233.37 L930.153 1233.37 L941.67 1233.37 L941.67 1233.37 L930.153 1233.37 L930.153 1233.37  Z\n",
       "  \" fill=\"#009af9\" fill-rule=\"evenodd\" fill-opacity=\"1\"/>\n",
       "<polyline clip-path=\"url(#clip252)\" style=\"stroke:#000000; stroke-width:4; stroke-opacity:1; fill:none\" points=\"\n",
       "  930.153,1233.37 930.153,1233.37 941.67,1233.37 930.153,1233.37 \n",
       "  \"/>\n",
       "<path clip-path=\"url(#clip252)\" d=\"\n",
       "M944.549 1233.37 L944.549 1233.37 L956.065 1233.37 L956.065 1233.37 L944.549 1233.37 L944.549 1233.37  Z\n",
       "  \" fill=\"#009af9\" fill-rule=\"evenodd\" fill-opacity=\"1\"/>\n",
       "<polyline clip-path=\"url(#clip252)\" style=\"stroke:#000000; stroke-width:4; stroke-opacity:1; fill:none\" points=\"\n",
       "  944.549,1233.37 944.549,1233.37 956.065,1233.37 944.549,1233.37 \n",
       "  \"/>\n",
       "<path clip-path=\"url(#clip252)\" d=\"\n",
       "M958.945 1232.9 L958.945 1233.37 L970.461 1233.37 L970.461 1232.9 L958.945 1232.9 L958.945 1232.9  Z\n",
       "  \" fill=\"#009af9\" fill-rule=\"evenodd\" fill-opacity=\"1\"/>\n",
       "<polyline clip-path=\"url(#clip252)\" style=\"stroke:#000000; stroke-width:4; stroke-opacity:1; fill:none\" points=\"\n",
       "  958.945,1232.9 958.945,1233.37 970.461,1233.37 970.461,1232.9 958.945,1232.9 \n",
       "  \"/>\n",
       "<path clip-path=\"url(#clip252)\" d=\"\n",
       "M973.34 1232.9 L973.34 1233.37 L984.857 1233.37 L984.857 1232.9 L973.34 1232.9 L973.34 1232.9  Z\n",
       "  \" fill=\"#009af9\" fill-rule=\"evenodd\" fill-opacity=\"1\"/>\n",
       "<polyline clip-path=\"url(#clip252)\" style=\"stroke:#000000; stroke-width:4; stroke-opacity:1; fill:none\" points=\"\n",
       "  973.34,1232.9 973.34,1233.37 984.857,1233.37 984.857,1232.9 973.34,1232.9 \n",
       "  \"/>\n",
       "<path clip-path=\"url(#clip252)\" d=\"\n",
       "M987.736 1233.37 L987.736 1233.37 L999.252 1233.37 L999.252 1233.37 L987.736 1233.37 L987.736 1233.37  Z\n",
       "  \" fill=\"#009af9\" fill-rule=\"evenodd\" fill-opacity=\"1\"/>\n",
       "<polyline clip-path=\"url(#clip252)\" style=\"stroke:#000000; stroke-width:4; stroke-opacity:1; fill:none\" points=\"\n",
       "  987.736,1233.37 987.736,1233.37 999.252,1233.37 987.736,1233.37 \n",
       "  \"/>\n",
       "<path clip-path=\"url(#clip252)\" d=\"\n",
       "M1002.13 1232.9 L1002.13 1233.37 L1013.65 1233.37 L1013.65 1232.9 L1002.13 1232.9 L1002.13 1232.9  Z\n",
       "  \" fill=\"#009af9\" fill-rule=\"evenodd\" fill-opacity=\"1\"/>\n",
       "<polyline clip-path=\"url(#clip252)\" style=\"stroke:#000000; stroke-width:4; stroke-opacity:1; fill:none\" points=\"\n",
       "  1002.13,1232.9 1002.13,1233.37 1013.65,1233.37 1013.65,1232.9 1002.13,1232.9 \n",
       "  \"/>\n",
       "<path clip-path=\"url(#clip252)\" d=\"\n",
       "M1016.53 1231.48 L1016.53 1233.37 L1028.04 1233.37 L1028.04 1231.48 L1016.53 1231.48 L1016.53 1231.48  Z\n",
       "  \" fill=\"#009af9\" fill-rule=\"evenodd\" fill-opacity=\"1\"/>\n",
       "<polyline clip-path=\"url(#clip252)\" style=\"stroke:#000000; stroke-width:4; stroke-opacity:1; fill:none\" points=\"\n",
       "  1016.53,1231.48 1016.53,1233.37 1028.04,1233.37 1028.04,1231.48 1016.53,1231.48 \n",
       "  \"/>\n",
       "<path clip-path=\"url(#clip252)\" d=\"\n",
       "M1030.92 1230.53 L1030.92 1233.37 L1042.44 1233.37 L1042.44 1230.53 L1030.92 1230.53 L1030.92 1230.53  Z\n",
       "  \" fill=\"#009af9\" fill-rule=\"evenodd\" fill-opacity=\"1\"/>\n",
       "<polyline clip-path=\"url(#clip252)\" style=\"stroke:#000000; stroke-width:4; stroke-opacity:1; fill:none\" points=\"\n",
       "  1030.92,1230.53 1030.92,1233.37 1042.44,1233.37 1042.44,1230.53 1030.92,1230.53 \n",
       "  \"/>\n",
       "<path clip-path=\"url(#clip252)\" d=\"\n",
       "M1045.32 1231.01 L1045.32 1233.37 L1056.84 1233.37 L1056.84 1231.01 L1045.32 1231.01 L1045.32 1231.01  Z\n",
       "  \" fill=\"#009af9\" fill-rule=\"evenodd\" fill-opacity=\"1\"/>\n",
       "<polyline clip-path=\"url(#clip252)\" style=\"stroke:#000000; stroke-width:4; stroke-opacity:1; fill:none\" points=\"\n",
       "  1045.32,1231.01 1045.32,1233.37 1056.84,1233.37 1056.84,1231.01 1045.32,1231.01 \n",
       "  \"/>\n",
       "<path clip-path=\"url(#clip252)\" d=\"\n",
       "M1059.71 1231.01 L1059.71 1233.37 L1071.23 1233.37 L1071.23 1231.01 L1059.71 1231.01 L1059.71 1231.01  Z\n",
       "  \" fill=\"#009af9\" fill-rule=\"evenodd\" fill-opacity=\"1\"/>\n",
       "<polyline clip-path=\"url(#clip252)\" style=\"stroke:#000000; stroke-width:4; stroke-opacity:1; fill:none\" points=\"\n",
       "  1059.71,1231.01 1059.71,1233.37 1071.23,1233.37 1071.23,1231.01 1059.71,1231.01 \n",
       "  \"/>\n",
       "<path clip-path=\"url(#clip252)\" d=\"\n",
       "M1074.11 1227.23 L1074.11 1233.37 L1085.63 1233.37 L1085.63 1227.23 L1074.11 1227.23 L1074.11 1227.23  Z\n",
       "  \" fill=\"#009af9\" fill-rule=\"evenodd\" fill-opacity=\"1\"/>\n",
       "<polyline clip-path=\"url(#clip252)\" style=\"stroke:#000000; stroke-width:4; stroke-opacity:1; fill:none\" points=\"\n",
       "  1074.11,1227.23 1074.11,1233.37 1085.63,1233.37 1085.63,1227.23 1074.11,1227.23 \n",
       "  \"/>\n",
       "<path clip-path=\"url(#clip252)\" d=\"\n",
       "M1088.51 1228.17 L1088.51 1233.37 L1100.02 1233.37 L1100.02 1228.17 L1088.51 1228.17 L1088.51 1228.17  Z\n",
       "  \" fill=\"#009af9\" fill-rule=\"evenodd\" fill-opacity=\"1\"/>\n",
       "<polyline clip-path=\"url(#clip252)\" style=\"stroke:#000000; stroke-width:4; stroke-opacity:1; fill:none\" points=\"\n",
       "  1088.51,1228.17 1088.51,1233.37 1100.02,1233.37 1100.02,1228.17 1088.51,1228.17 \n",
       "  \"/>\n",
       "<path clip-path=\"url(#clip252)\" d=\"\n",
       "M1102.9 1221.55 L1102.9 1233.37 L1114.42 1233.37 L1114.42 1221.55 L1102.9 1221.55 L1102.9 1221.55  Z\n",
       "  \" fill=\"#009af9\" fill-rule=\"evenodd\" fill-opacity=\"1\"/>\n",
       "<polyline clip-path=\"url(#clip252)\" style=\"stroke:#000000; stroke-width:4; stroke-opacity:1; fill:none\" points=\"\n",
       "  1102.9,1221.55 1102.9,1233.37 1114.42,1233.37 1114.42,1221.55 1102.9,1221.55 \n",
       "  \"/>\n",
       "<path clip-path=\"url(#clip252)\" d=\"\n",
       "M1117.3 1233.37 L1117.3 1233.37 L1128.81 1233.37 L1128.81 1233.37 L1117.3 1233.37 L1117.3 1233.37  Z\n",
       "  \" fill=\"#009af9\" fill-rule=\"evenodd\" fill-opacity=\"1\"/>\n",
       "<polyline clip-path=\"url(#clip252)\" style=\"stroke:#000000; stroke-width:4; stroke-opacity:1; fill:none\" points=\"\n",
       "  1117.3,1233.37 1117.3,1233.37 1128.81,1233.37 1117.3,1233.37 \n",
       "  \"/>\n",
       "<path clip-path=\"url(#clip252)\" d=\"\n",
       "M1131.69 1218.71 L1131.69 1233.37 L1143.21 1233.37 L1143.21 1218.71 L1131.69 1218.71 L1131.69 1218.71  Z\n",
       "  \" fill=\"#009af9\" fill-rule=\"evenodd\" fill-opacity=\"1\"/>\n",
       "<polyline clip-path=\"url(#clip252)\" style=\"stroke:#000000; stroke-width:4; stroke-opacity:1; fill:none\" points=\"\n",
       "  1131.69,1218.71 1131.69,1233.37 1143.21,1233.37 1143.21,1218.71 1131.69,1218.71 \n",
       "  \"/>\n",
       "<path clip-path=\"url(#clip252)\" d=\"\n",
       "M1146.09 1199.33 L1146.09 1233.37 L1157.6 1233.37 L1157.6 1199.33 L1146.09 1199.33 L1146.09 1199.33  Z\n",
       "  \" fill=\"#009af9\" fill-rule=\"evenodd\" fill-opacity=\"1\"/>\n",
       "<polyline clip-path=\"url(#clip252)\" style=\"stroke:#000000; stroke-width:4; stroke-opacity:1; fill:none\" points=\"\n",
       "  1146.09,1199.33 1146.09,1233.37 1157.6,1233.37 1157.6,1199.33 1146.09,1199.33 \n",
       "  \"/>\n",
       "<path clip-path=\"url(#clip252)\" d=\"\n",
       "M1160.48 1186.09 L1160.48 1233.37 L1172 1233.37 L1172 1186.09 L1160.48 1186.09 L1160.48 1186.09  Z\n",
       "  \" fill=\"#009af9\" fill-rule=\"evenodd\" fill-opacity=\"1\"/>\n",
       "<polyline clip-path=\"url(#clip252)\" style=\"stroke:#000000; stroke-width:4; stroke-opacity:1; fill:none\" points=\"\n",
       "  1160.48,1186.09 1160.48,1233.37 1172,1233.37 1172,1186.09 1160.48,1186.09 \n",
       "  \"/>\n",
       "<path clip-path=\"url(#clip252)\" d=\"\n",
       "M1174.88 1170.49 L1174.88 1233.37 L1186.4 1233.37 L1186.4 1170.49 L1174.88 1170.49 L1174.88 1170.49  Z\n",
       "  \" fill=\"#009af9\" fill-rule=\"evenodd\" fill-opacity=\"1\"/>\n",
       "<polyline clip-path=\"url(#clip252)\" style=\"stroke:#000000; stroke-width:4; stroke-opacity:1; fill:none\" points=\"\n",
       "  1174.88,1170.49 1174.88,1233.37 1186.4,1233.37 1186.4,1170.49 1174.88,1170.49 \n",
       "  \"/>\n",
       "<path clip-path=\"url(#clip252)\" d=\"\n",
       "M1189.28 1169.07 L1189.28 1233.37 L1200.79 1233.37 L1200.79 1169.07 L1189.28 1169.07 L1189.28 1169.07  Z\n",
       "  \" fill=\"#009af9\" fill-rule=\"evenodd\" fill-opacity=\"1\"/>\n",
       "<polyline clip-path=\"url(#clip252)\" style=\"stroke:#000000; stroke-width:4; stroke-opacity:1; fill:none\" points=\"\n",
       "  1189.28,1169.07 1189.28,1233.37 1200.79,1233.37 1200.79,1169.07 1189.28,1169.07 \n",
       "  \"/>\n",
       "<path clip-path=\"url(#clip252)\" d=\"\n",
       "M1203.67 1111.87 L1203.67 1233.37 L1215.19 1233.37 L1215.19 1111.87 L1203.67 1111.87 L1203.67 1111.87  Z\n",
       "  \" fill=\"#009af9\" fill-rule=\"evenodd\" fill-opacity=\"1\"/>\n",
       "<polyline clip-path=\"url(#clip252)\" style=\"stroke:#000000; stroke-width:4; stroke-opacity:1; fill:none\" points=\"\n",
       "  1203.67,1111.87 1203.67,1233.37 1215.19,1233.37 1215.19,1111.87 1203.67,1111.87 \n",
       "  \"/>\n",
       "<path clip-path=\"url(#clip252)\" d=\"\n",
       "M1218.07 1178.06 L1218.07 1233.37 L1229.58 1233.37 L1229.58 1178.06 L1218.07 1178.06 L1218.07 1178.06  Z\n",
       "  \" fill=\"#009af9\" fill-rule=\"evenodd\" fill-opacity=\"1\"/>\n",
       "<polyline clip-path=\"url(#clip252)\" style=\"stroke:#000000; stroke-width:4; stroke-opacity:1; fill:none\" points=\"\n",
       "  1218.07,1178.06 1218.07,1233.37 1229.58,1233.37 1229.58,1178.06 1218.07,1178.06 \n",
       "  \"/>\n",
       "<path clip-path=\"url(#clip252)\" d=\"\n",
       "M1232.46 1104.77 L1232.46 1233.37 L1243.98 1233.37 L1243.98 1104.77 L1232.46 1104.77 L1232.46 1104.77  Z\n",
       "  \" fill=\"#009af9\" fill-rule=\"evenodd\" fill-opacity=\"1\"/>\n",
       "<polyline clip-path=\"url(#clip252)\" style=\"stroke:#000000; stroke-width:4; stroke-opacity:1; fill:none\" points=\"\n",
       "  1232.46,1104.77 1232.46,1233.37 1243.98,1233.37 1243.98,1104.77 1232.46,1104.77 \n",
       "  \"/>\n",
       "<path clip-path=\"url(#clip252)\" d=\"\n",
       "M1246.86 1127.47 L1246.86 1233.37 L1258.37 1233.37 L1258.37 1127.47 L1246.86 1127.47 L1246.86 1127.47  Z\n",
       "  \" fill=\"#009af9\" fill-rule=\"evenodd\" fill-opacity=\"1\"/>\n",
       "<polyline clip-path=\"url(#clip252)\" style=\"stroke:#000000; stroke-width:4; stroke-opacity:1; fill:none\" points=\"\n",
       "  1246.86,1127.47 1246.86,1233.37 1258.37,1233.37 1258.37,1127.47 1246.86,1127.47 \n",
       "  \"/>\n",
       "<path clip-path=\"url(#clip252)\" d=\"\n",
       "M1261.25 1003.6 L1261.25 1233.37 L1272.77 1233.37 L1272.77 1003.6 L1261.25 1003.6 L1261.25 1003.6  Z\n",
       "  \" fill=\"#009af9\" fill-rule=\"evenodd\" fill-opacity=\"1\"/>\n",
       "<polyline clip-path=\"url(#clip252)\" style=\"stroke:#000000; stroke-width:4; stroke-opacity:1; fill:none\" points=\"\n",
       "  1261.25,1003.6 1261.25,1233.37 1272.77,1233.37 1272.77,1003.6 1261.25,1003.6 \n",
       "  \"/>\n",
       "<path clip-path=\"url(#clip252)\" d=\"\n",
       "M1275.65 1074.99 L1275.65 1233.37 L1287.17 1233.37 L1287.17 1074.99 L1275.65 1074.99 L1275.65 1074.99  Z\n",
       "  \" fill=\"#009af9\" fill-rule=\"evenodd\" fill-opacity=\"1\"/>\n",
       "<polyline clip-path=\"url(#clip252)\" style=\"stroke:#000000; stroke-width:4; stroke-opacity:1; fill:none\" points=\"\n",
       "  1275.65,1074.99 1275.65,1233.37 1287.17,1233.37 1287.17,1074.99 1275.65,1074.99 \n",
       "  \"/>\n",
       "<path clip-path=\"url(#clip252)\" d=\"\n",
       "M1290.04 1056.55 L1290.04 1233.37 L1301.56 1233.37 L1301.56 1056.55 L1290.04 1056.55 L1290.04 1056.55  Z\n",
       "  \" fill=\"#009af9\" fill-rule=\"evenodd\" fill-opacity=\"1\"/>\n",
       "<polyline clip-path=\"url(#clip252)\" style=\"stroke:#000000; stroke-width:4; stroke-opacity:1; fill:none\" points=\"\n",
       "  1290.04,1056.55 1290.04,1233.37 1301.56,1233.37 1301.56,1056.55 1290.04,1056.55 \n",
       "  \"/>\n",
       "<path clip-path=\"url(#clip252)\" d=\"\n",
       "M1304.44 840.013 L1304.44 1233.37 L1315.96 1233.37 L1315.96 840.013 L1304.44 840.013 L1304.44 840.013  Z\n",
       "  \" fill=\"#009af9\" fill-rule=\"evenodd\" fill-opacity=\"1\"/>\n",
       "<polyline clip-path=\"url(#clip252)\" style=\"stroke:#000000; stroke-width:4; stroke-opacity:1; fill:none\" points=\"\n",
       "  1304.44,840.013 1304.44,1233.37 1315.96,1233.37 1315.96,840.013 1304.44,840.013 \n",
       "  \"/>\n",
       "<path clip-path=\"url(#clip252)\" d=\"\n",
       "M1318.84 1100.05 L1318.84 1233.37 L1330.35 1233.37 L1330.35 1100.05 L1318.84 1100.05 L1318.84 1100.05  Z\n",
       "  \" fill=\"#009af9\" fill-rule=\"evenodd\" fill-opacity=\"1\"/>\n",
       "<polyline clip-path=\"url(#clip252)\" style=\"stroke:#000000; stroke-width:4; stroke-opacity:1; fill:none\" points=\"\n",
       "  1318.84,1100.05 1318.84,1233.37 1330.35,1233.37 1330.35,1100.05 1318.84,1100.05 \n",
       "  \"/>\n",
       "<path clip-path=\"url(#clip252)\" d=\"\n",
       "M1333.23 869.799 L1333.23 1233.37 L1344.75 1233.37 L1344.75 869.799 L1333.23 869.799 L1333.23 869.799  Z\n",
       "  \" fill=\"#009af9\" fill-rule=\"evenodd\" fill-opacity=\"1\"/>\n",
       "<polyline clip-path=\"url(#clip252)\" style=\"stroke:#000000; stroke-width:4; stroke-opacity:1; fill:none\" points=\"\n",
       "  1333.23,869.799 1333.23,1233.37 1344.75,1233.37 1344.75,869.799 1333.23,869.799 \n",
       "  \"/>\n",
       "<path clip-path=\"url(#clip252)\" d=\"\n",
       "M1347.63 923.224 L1347.63 1233.37 L1359.14 1233.37 L1359.14 923.224 L1347.63 923.224 L1347.63 923.224  Z\n",
       "  \" fill=\"#009af9\" fill-rule=\"evenodd\" fill-opacity=\"1\"/>\n",
       "<polyline clip-path=\"url(#clip252)\" style=\"stroke:#000000; stroke-width:4; stroke-opacity:1; fill:none\" points=\"\n",
       "  1347.63,923.224 1347.63,1233.37 1359.14,1233.37 1359.14,923.224 1347.63,923.224 \n",
       "  \"/>\n",
       "<path clip-path=\"url(#clip252)\" d=\"\n",
       "M1362.02 1033.38 L1362.02 1233.37 L1373.54 1233.37 L1373.54 1033.38 L1362.02 1033.38 L1362.02 1033.38  Z\n",
       "  \" fill=\"#009af9\" fill-rule=\"evenodd\" fill-opacity=\"1\"/>\n",
       "<polyline clip-path=\"url(#clip252)\" style=\"stroke:#000000; stroke-width:4; stroke-opacity:1; fill:none\" points=\"\n",
       "  1362.02,1033.38 1362.02,1233.37 1373.54,1233.37 1373.54,1033.38 1362.02,1033.38 \n",
       "  \"/>\n",
       "<path clip-path=\"url(#clip252)\" d=\"\n",
       "M1376.42 808.81 L1376.42 1233.37 L1387.94 1233.37 L1387.94 808.81 L1376.42 808.81 L1376.42 808.81  Z\n",
       "  \" fill=\"#009af9\" fill-rule=\"evenodd\" fill-opacity=\"1\"/>\n",
       "<polyline clip-path=\"url(#clip252)\" style=\"stroke:#000000; stroke-width:4; stroke-opacity:1; fill:none\" points=\"\n",
       "  1376.42,808.81 1376.42,1233.37 1387.94,1233.37 1387.94,808.81 1376.42,808.81 \n",
       "  \"/>\n",
       "<path clip-path=\"url(#clip252)\" d=\"\n",
       "M1390.81 776.66 L1390.81 1233.37 L1402.33 1233.37 L1402.33 776.66 L1390.81 776.66 L1390.81 776.66  Z\n",
       "  \" fill=\"#009af9\" fill-rule=\"evenodd\" fill-opacity=\"1\"/>\n",
       "<polyline clip-path=\"url(#clip252)\" style=\"stroke:#000000; stroke-width:4; stroke-opacity:1; fill:none\" points=\"\n",
       "  1390.81,776.66 1390.81,1233.37 1402.33,1233.37 1402.33,776.66 1390.81,776.66 \n",
       "  \"/>\n",
       "<path clip-path=\"url(#clip252)\" d=\"\n",
       "M1405.21 947.809 L1405.21 1233.37 L1416.73 1233.37 L1416.73 947.809 L1405.21 947.809 L1405.21 947.809  Z\n",
       "  \" fill=\"#009af9\" fill-rule=\"evenodd\" fill-opacity=\"1\"/>\n",
       "<polyline clip-path=\"url(#clip252)\" style=\"stroke:#000000; stroke-width:4; stroke-opacity:1; fill:none\" points=\"\n",
       "  1405.21,947.809 1405.21,1233.37 1416.73,1233.37 1416.73,947.809 1405.21,947.809 \n",
       "  \"/>\n",
       "<path clip-path=\"url(#clip252)\" d=\"\n",
       "M1419.61 909.513 L1419.61 1233.37 L1431.12 1233.37 L1431.12 909.513 L1419.61 909.513 L1419.61 909.513  Z\n",
       "  \" fill=\"#009af9\" fill-rule=\"evenodd\" fill-opacity=\"1\"/>\n",
       "<polyline clip-path=\"url(#clip252)\" style=\"stroke:#000000; stroke-width:4; stroke-opacity:1; fill:none\" points=\"\n",
       "  1419.61,909.513 1419.61,1233.37 1431.12,1233.37 1431.12,909.513 1419.61,909.513 \n",
       "  \"/>\n",
       "<path clip-path=\"url(#clip252)\" d=\"\n",
       "M1434 864.126 L1434 1233.37 L1445.52 1233.37 L1445.52 864.126 L1434 864.126 L1434 864.126  Z\n",
       "  \" fill=\"#009af9\" fill-rule=\"evenodd\" fill-opacity=\"1\"/>\n",
       "<polyline clip-path=\"url(#clip252)\" style=\"stroke:#000000; stroke-width:4; stroke-opacity:1; fill:none\" points=\"\n",
       "  1434,864.126 1434,1233.37 1445.52,1233.37 1445.52,864.126 1434,864.126 \n",
       "  \"/>\n",
       "<path clip-path=\"url(#clip252)\" d=\"\n",
       "M1448.4 755.385 L1448.4 1233.37 L1459.91 1233.37 L1459.91 755.385 L1448.4 755.385 L1448.4 755.385  Z\n",
       "  \" fill=\"#009af9\" fill-rule=\"evenodd\" fill-opacity=\"1\"/>\n",
       "<polyline clip-path=\"url(#clip252)\" style=\"stroke:#000000; stroke-width:4; stroke-opacity:1; fill:none\" points=\"\n",
       "  1448.4,755.385 1448.4,1233.37 1459.91,1233.37 1459.91,755.385 1448.4,755.385 \n",
       "  \"/>\n",
       "<path clip-path=\"url(#clip252)\" d=\"\n",
       "M1462.79 810.228 L1462.79 1233.37 L1474.31 1233.37 L1474.31 810.228 L1462.79 810.228 L1462.79 810.228  Z\n",
       "  \" fill=\"#009af9\" fill-rule=\"evenodd\" fill-opacity=\"1\"/>\n",
       "<polyline clip-path=\"url(#clip252)\" style=\"stroke:#000000; stroke-width:4; stroke-opacity:1; fill:none\" points=\"\n",
       "  1462.79,810.228 1462.79,1233.37 1474.31,1233.37 1474.31,810.228 1462.79,810.228 \n",
       "  \"/>\n",
       "<path clip-path=\"url(#clip252)\" d=\"\n",
       "M1477.19 733.637 L1477.19 1233.37 L1488.7 1233.37 L1488.7 733.637 L1477.19 733.637 L1477.19 733.637  Z\n",
       "  \" fill=\"#009af9\" fill-rule=\"evenodd\" fill-opacity=\"1\"/>\n",
       "<polyline clip-path=\"url(#clip252)\" style=\"stroke:#000000; stroke-width:4; stroke-opacity:1; fill:none\" points=\"\n",
       "  1477.19,733.637 1477.19,1233.37 1488.7,1233.37 1488.7,733.637 1477.19,733.637 \n",
       "  \"/>\n",
       "<path clip-path=\"url(#clip252)\" d=\"\n",
       "M1491.58 786.589 L1491.58 1233.37 L1503.1 1233.37 L1503.1 786.589 L1491.58 786.589 L1491.58 786.589  Z\n",
       "  \" fill=\"#009af9\" fill-rule=\"evenodd\" fill-opacity=\"1\"/>\n",
       "<polyline clip-path=\"url(#clip252)\" style=\"stroke:#000000; stroke-width:4; stroke-opacity:1; fill:none\" points=\"\n",
       "  1491.58,786.589 1491.58,1233.37 1503.1,1233.37 1503.1,786.589 1491.58,786.589 \n",
       "  \"/>\n",
       "<path clip-path=\"url(#clip252)\" d=\"\n",
       "M1505.98 681.157 L1505.98 1233.37 L1517.5 1233.37 L1517.5 681.157 L1505.98 681.157 L1505.98 681.157  Z\n",
       "  \" fill=\"#009af9\" fill-rule=\"evenodd\" fill-opacity=\"1\"/>\n",
       "<polyline clip-path=\"url(#clip252)\" style=\"stroke:#000000; stroke-width:4; stroke-opacity:1; fill:none\" points=\"\n",
       "  1505.98,681.157 1505.98,1233.37 1517.5,1233.37 1517.5,681.157 1505.98,681.157 \n",
       "  \"/>\n",
       "<path clip-path=\"url(#clip252)\" d=\"\n",
       "M1520.38 813.065 L1520.38 1233.37 L1531.89 1233.37 L1531.89 813.065 L1520.38 813.065 L1520.38 813.065  Z\n",
       "  \" fill=\"#009af9\" fill-rule=\"evenodd\" fill-opacity=\"1\"/>\n",
       "<polyline clip-path=\"url(#clip252)\" style=\"stroke:#000000; stroke-width:4; stroke-opacity:1; fill:none\" points=\"\n",
       "  1520.38,813.065 1520.38,1233.37 1531.89,1233.37 1531.89,813.065 1520.38,813.065 \n",
       "  \"/>\n",
       "<path clip-path=\"url(#clip252)\" d=\"\n",
       "M1534.77 831.976 L1534.77 1233.37 L1546.29 1233.37 L1546.29 831.976 L1534.77 831.976 L1534.77 831.976  Z\n",
       "  \" fill=\"#009af9\" fill-rule=\"evenodd\" fill-opacity=\"1\"/>\n",
       "<polyline clip-path=\"url(#clip252)\" style=\"stroke:#000000; stroke-width:4; stroke-opacity:1; fill:none\" points=\"\n",
       "  1534.77,831.976 1534.77,1233.37 1546.29,1233.37 1546.29,831.976 1534.77,831.976 \n",
       "  \"/>\n",
       "<path clip-path=\"url(#clip252)\" d=\"\n",
       "M1549.17 768.623 L1549.17 1233.37 L1560.68 1233.37 L1560.68 768.623 L1549.17 768.623 L1549.17 768.623  Z\n",
       "  \" fill=\"#009af9\" fill-rule=\"evenodd\" fill-opacity=\"1\"/>\n",
       "<polyline clip-path=\"url(#clip252)\" style=\"stroke:#000000; stroke-width:4; stroke-opacity:1; fill:none\" points=\"\n",
       "  1549.17,768.623 1549.17,1233.37 1560.68,1233.37 1560.68,768.623 1549.17,768.623 \n",
       "  \"/>\n",
       "<path clip-path=\"url(#clip252)\" d=\"\n",
       "M1563.56 864.126 L1563.56 1233.37 L1575.08 1233.37 L1575.08 864.126 L1563.56 864.126 L1563.56 864.126  Z\n",
       "  \" fill=\"#009af9\" fill-rule=\"evenodd\" fill-opacity=\"1\"/>\n",
       "<polyline clip-path=\"url(#clip252)\" style=\"stroke:#000000; stroke-width:4; stroke-opacity:1; fill:none\" points=\"\n",
       "  1563.56,864.126 1563.56,1233.37 1575.08,1233.37 1575.08,864.126 1563.56,864.126 \n",
       "  \"/>\n",
       "<path clip-path=\"url(#clip252)\" d=\"\n",
       "M1577.96 616.858 L1577.96 1233.37 L1589.47 1233.37 L1589.47 616.858 L1577.96 616.858 L1577.96 616.858  Z\n",
       "  \" fill=\"#009af9\" fill-rule=\"evenodd\" fill-opacity=\"1\"/>\n",
       "<polyline clip-path=\"url(#clip252)\" style=\"stroke:#000000; stroke-width:4; stroke-opacity:1; fill:none\" points=\"\n",
       "  1577.96,616.858 1577.96,1233.37 1589.47,1233.37 1589.47,616.858 1577.96,616.858 \n",
       "  \"/>\n",
       "<path clip-path=\"url(#clip252)\" d=\"\n",
       "M1592.35 758.694 L1592.35 1233.37 L1603.87 1233.37 L1603.87 758.694 L1592.35 758.694 L1592.35 758.694  Z\n",
       "  \" fill=\"#009af9\" fill-rule=\"evenodd\" fill-opacity=\"1\"/>\n",
       "<polyline clip-path=\"url(#clip252)\" style=\"stroke:#000000; stroke-width:4; stroke-opacity:1; fill:none\" points=\"\n",
       "  1592.35,758.694 1592.35,1233.37 1603.87,1233.37 1603.87,758.694 1592.35,758.694 \n",
       "  \"/>\n",
       "<path clip-path=\"url(#clip252)\" d=\"\n",
       "M1606.75 818.738 L1606.75 1233.37 L1618.27 1233.37 L1618.27 818.738 L1606.75 818.738 L1606.75 818.738  Z\n",
       "  \" fill=\"#009af9\" fill-rule=\"evenodd\" fill-opacity=\"1\"/>\n",
       "<polyline clip-path=\"url(#clip252)\" style=\"stroke:#000000; stroke-width:4; stroke-opacity:1; fill:none\" points=\"\n",
       "  1606.75,818.738 1606.75,1233.37 1618.27,1233.37 1618.27,818.738 1606.75,818.738 \n",
       "  \"/>\n",
       "<path clip-path=\"url(#clip252)\" d=\"\n",
       "M1621.14 841.432 L1621.14 1233.37 L1632.66 1233.37 L1632.66 841.432 L1621.14 841.432 L1621.14 841.432  Z\n",
       "  \" fill=\"#009af9\" fill-rule=\"evenodd\" fill-opacity=\"1\"/>\n",
       "<polyline clip-path=\"url(#clip252)\" style=\"stroke:#000000; stroke-width:4; stroke-opacity:1; fill:none\" points=\"\n",
       "  1621.14,841.432 1621.14,1233.37 1632.66,1233.37 1632.66,841.432 1621.14,841.432 \n",
       "  \"/>\n",
       "<path clip-path=\"url(#clip252)\" d=\"\n",
       "M1635.54 722.763 L1635.54 1233.37 L1647.06 1233.37 L1647.06 722.763 L1635.54 722.763 L1635.54 722.763  Z\n",
       "  \" fill=\"#009af9\" fill-rule=\"evenodd\" fill-opacity=\"1\"/>\n",
       "<polyline clip-path=\"url(#clip252)\" style=\"stroke:#000000; stroke-width:4; stroke-opacity:1; fill:none\" points=\"\n",
       "  1635.54,722.763 1635.54,1233.37 1647.06,1233.37 1647.06,722.763 1635.54,722.763 \n",
       "  \"/>\n",
       "<path clip-path=\"url(#clip252)\" d=\"\n",
       "M1649.94 588.019 L1649.94 1233.37 L1661.45 1233.37 L1661.45 588.019 L1649.94 588.019 L1649.94 588.019  Z\n",
       "  \" fill=\"#009af9\" fill-rule=\"evenodd\" fill-opacity=\"1\"/>\n",
       "<polyline clip-path=\"url(#clip252)\" style=\"stroke:#000000; stroke-width:4; stroke-opacity:1; fill:none\" points=\"\n",
       "  1649.94,588.019 1649.94,1233.37 1661.45,1233.37 1661.45,588.019 1649.94,588.019 \n",
       "  \"/>\n",
       "<path clip-path=\"url(#clip252)\" d=\"\n",
       "M1664.33 635.297 L1664.33 1233.37 L1675.85 1233.37 L1675.85 635.297 L1664.33 635.297 L1664.33 635.297  Z\n",
       "  \" fill=\"#009af9\" fill-rule=\"evenodd\" fill-opacity=\"1\"/>\n",
       "<polyline clip-path=\"url(#clip252)\" style=\"stroke:#000000; stroke-width:4; stroke-opacity:1; fill:none\" points=\"\n",
       "  1664.33,635.297 1664.33,1233.37 1675.85,1233.37 1675.85,635.297 1664.33,635.297 \n",
       "  \"/>\n",
       "<path clip-path=\"url(#clip252)\" d=\"\n",
       "M1678.73 379.993 L1678.73 1233.37 L1690.24 1233.37 L1690.24 379.993 L1678.73 379.993 L1678.73 379.993  Z\n",
       "  \" fill=\"#009af9\" fill-rule=\"evenodd\" fill-opacity=\"1\"/>\n",
       "<polyline clip-path=\"url(#clip252)\" style=\"stroke:#000000; stroke-width:4; stroke-opacity:1; fill:none\" points=\"\n",
       "  1678.73,379.993 1678.73,1233.37 1690.24,1233.37 1690.24,379.993 1678.73,379.993 \n",
       "  \"/>\n",
       "<path clip-path=\"url(#clip252)\" d=\"\n",
       "M1693.12 551.614 L1693.12 1233.37 L1704.64 1233.37 L1704.64 551.614 L1693.12 551.614 L1693.12 551.614  Z\n",
       "  \" fill=\"#009af9\" fill-rule=\"evenodd\" fill-opacity=\"1\"/>\n",
       "<polyline clip-path=\"url(#clip252)\" style=\"stroke:#000000; stroke-width:4; stroke-opacity:1; fill:none\" points=\"\n",
       "  1693.12,551.614 1693.12,1233.37 1704.64,1233.37 1704.64,551.614 1693.12,551.614 \n",
       "  \"/>\n",
       "<path clip-path=\"url(#clip252)\" d=\"\n",
       "M1707.52 516.628 L1707.52 1233.37 L1719.04 1233.37 L1719.04 516.628 L1707.52 516.628 L1707.52 516.628  Z\n",
       "  \" fill=\"#009af9\" fill-rule=\"evenodd\" fill-opacity=\"1\"/>\n",
       "<polyline clip-path=\"url(#clip252)\" style=\"stroke:#000000; stroke-width:4; stroke-opacity:1; fill:none\" points=\"\n",
       "  1707.52,516.628 1707.52,1233.37 1719.04,1233.37 1719.04,516.628 1707.52,516.628 \n",
       "  \"/>\n",
       "<path clip-path=\"url(#clip252)\" d=\"\n",
       "M1721.91 581.4 L1721.91 1233.37 L1733.43 1233.37 L1733.43 581.4 L1721.91 581.4 L1721.91 581.4  Z\n",
       "  \" fill=\"#009af9\" fill-rule=\"evenodd\" fill-opacity=\"1\"/>\n",
       "<polyline clip-path=\"url(#clip252)\" style=\"stroke:#000000; stroke-width:4; stroke-opacity:1; fill:none\" points=\"\n",
       "  1721.91,581.4 1721.91,1233.37 1733.43,1233.37 1733.43,581.4 1721.91,581.4 \n",
       "  \"/>\n",
       "<path clip-path=\"url(#clip252)\" d=\"\n",
       "M1736.31 526.084 L1736.31 1233.37 L1747.83 1233.37 L1747.83 526.084 L1736.31 526.084 L1736.31 526.084  Z\n",
       "  \" fill=\"#009af9\" fill-rule=\"evenodd\" fill-opacity=\"1\"/>\n",
       "<polyline clip-path=\"url(#clip252)\" style=\"stroke:#000000; stroke-width:4; stroke-opacity:1; fill:none\" points=\"\n",
       "  1736.31,526.084 1736.31,1233.37 1747.83,1233.37 1747.83,526.084 1736.31,526.084 \n",
       "  \"/>\n",
       "<path clip-path=\"url(#clip252)\" d=\"\n",
       "M1750.71 556.815 L1750.71 1233.37 L1762.22 1233.37 L1762.22 556.815 L1750.71 556.815 L1750.71 556.815  Z\n",
       "  \" fill=\"#009af9\" fill-rule=\"evenodd\" fill-opacity=\"1\"/>\n",
       "<polyline clip-path=\"url(#clip252)\" style=\"stroke:#000000; stroke-width:4; stroke-opacity:1; fill:none\" points=\"\n",
       "  1750.71,556.815 1750.71,1233.37 1762.22,1233.37 1762.22,556.815 1750.71,556.815 \n",
       "  \"/>\n",
       "<path clip-path=\"url(#clip252)\" d=\"\n",
       "M1765.1 461.312 L1765.1 1233.37 L1776.62 1233.37 L1776.62 461.312 L1765.1 461.312 L1765.1 461.312  Z\n",
       "  \" fill=\"#009af9\" fill-rule=\"evenodd\" fill-opacity=\"1\"/>\n",
       "<polyline clip-path=\"url(#clip252)\" style=\"stroke:#000000; stroke-width:4; stroke-opacity:1; fill:none\" points=\"\n",
       "  1765.1,461.312 1765.1,1233.37 1776.62,1233.37 1776.62,461.312 1765.1,461.312 \n",
       "  \"/>\n",
       "<path clip-path=\"url(#clip252)\" d=\"\n",
       "M1779.5 214.518 L1779.5 1233.37 L1791.01 1233.37 L1791.01 214.518 L1779.5 214.518 L1779.5 214.518  Z\n",
       "  \" fill=\"#009af9\" fill-rule=\"evenodd\" fill-opacity=\"1\"/>\n",
       "<polyline clip-path=\"url(#clip252)\" style=\"stroke:#000000; stroke-width:4; stroke-opacity:1; fill:none\" points=\"\n",
       "  1779.5,214.518 1779.5,1233.37 1791.01,1233.37 1791.01,214.518 1779.5,214.518 \n",
       "  \"/>\n",
       "<path clip-path=\"url(#clip252)\" d=\"\n",
       "M1793.89 496.298 L1793.89 1233.37 L1805.41 1233.37 L1805.41 496.298 L1793.89 496.298 L1793.89 496.298  Z\n",
       "  \" fill=\"#009af9\" fill-rule=\"evenodd\" fill-opacity=\"1\"/>\n",
       "<polyline clip-path=\"url(#clip252)\" style=\"stroke:#000000; stroke-width:4; stroke-opacity:1; fill:none\" points=\"\n",
       "  1793.89,496.298 1793.89,1233.37 1805.41,1233.37 1805.41,496.298 1793.89,496.298 \n",
       "  \"/>\n",
       "<path clip-path=\"url(#clip252)\" d=\"\n",
       "M1808.29 241.939 L1808.29 1233.37 L1819.8 1233.37 L1819.8 241.939 L1808.29 241.939 L1808.29 241.939  Z\n",
       "  \" fill=\"#009af9\" fill-rule=\"evenodd\" fill-opacity=\"1\"/>\n",
       "<polyline clip-path=\"url(#clip252)\" style=\"stroke:#000000; stroke-width:4; stroke-opacity:1; fill:none\" points=\"\n",
       "  1808.29,241.939 1808.29,1233.37 1819.8,1233.37 1819.8,241.939 1808.29,241.939 \n",
       "  \"/>\n",
       "<path clip-path=\"url(#clip252)\" d=\"\n",
       "M1822.68 575.726 L1822.68 1233.37 L1834.2 1233.37 L1834.2 575.726 L1822.68 575.726 L1822.68 575.726  Z\n",
       "  \" fill=\"#009af9\" fill-rule=\"evenodd\" fill-opacity=\"1\"/>\n",
       "<polyline clip-path=\"url(#clip252)\" style=\"stroke:#000000; stroke-width:4; stroke-opacity:1; fill:none\" points=\"\n",
       "  1822.68,575.726 1822.68,1233.37 1834.2,1233.37 1834.2,575.726 1822.68,575.726 \n",
       "  \"/>\n",
       "<path clip-path=\"url(#clip252)\" d=\"\n",
       "M1837.08 520.41 L1837.08 1233.37 L1848.6 1233.37 L1848.6 520.41 L1837.08 520.41 L1837.08 520.41  Z\n",
       "  \" fill=\"#009af9\" fill-rule=\"evenodd\" fill-opacity=\"1\"/>\n",
       "<polyline clip-path=\"url(#clip252)\" style=\"stroke:#000000; stroke-width:4; stroke-opacity:1; fill:none\" points=\"\n",
       "  1837.08,520.41 1837.08,1233.37 1848.6,1233.37 1848.6,520.41 1837.08,520.41 \n",
       "  \"/>\n",
       "<path clip-path=\"url(#clip252)\" d=\"\n",
       "M1851.48 540.267 L1851.48 1233.37 L1862.99 1233.37 L1862.99 540.267 L1851.48 540.267 L1851.48 540.267  Z\n",
       "  \" fill=\"#009af9\" fill-rule=\"evenodd\" fill-opacity=\"1\"/>\n",
       "<polyline clip-path=\"url(#clip252)\" style=\"stroke:#000000; stroke-width:4; stroke-opacity:1; fill:none\" points=\"\n",
       "  1851.48,540.267 1851.48,1233.37 1862.99,1233.37 1862.99,540.267 1851.48,540.267 \n",
       "  \"/>\n",
       "<path clip-path=\"url(#clip252)\" d=\"\n",
       "M1865.87 452.329 L1865.87 1233.37 L1877.39 1233.37 L1877.39 452.329 L1865.87 452.329 L1865.87 452.329  Z\n",
       "  \" fill=\"#009af9\" fill-rule=\"evenodd\" fill-opacity=\"1\"/>\n",
       "<polyline clip-path=\"url(#clip252)\" style=\"stroke:#000000; stroke-width:4; stroke-opacity:1; fill:none\" points=\"\n",
       "  1865.87,452.329 1865.87,1233.37 1877.39,1233.37 1877.39,452.329 1865.87,452.329 \n",
       "  \"/>\n",
       "<path clip-path=\"url(#clip252)\" d=\"\n",
       "M1880.27 337.442 L1880.27 1233.37 L1891.78 1233.37 L1891.78 337.442 L1880.27 337.442 L1880.27 337.442  Z\n",
       "  \" fill=\"#009af9\" fill-rule=\"evenodd\" fill-opacity=\"1\"/>\n",
       "<polyline clip-path=\"url(#clip252)\" style=\"stroke:#000000; stroke-width:4; stroke-opacity:1; fill:none\" points=\"\n",
       "  1880.27,337.442 1880.27,1233.37 1891.78,1233.37 1891.78,337.442 1880.27,337.442 \n",
       "  \"/>\n",
       "<path clip-path=\"url(#clip252)\" d=\"\n",
       "M1894.66 553.505 L1894.66 1233.37 L1906.18 1233.37 L1906.18 553.505 L1894.66 553.505 L1894.66 553.505  Z\n",
       "  \" fill=\"#009af9\" fill-rule=\"evenodd\" fill-opacity=\"1\"/>\n",
       "<polyline clip-path=\"url(#clip252)\" style=\"stroke:#000000; stroke-width:4; stroke-opacity:1; fill:none\" points=\"\n",
       "  1894.66,553.505 1894.66,1233.37 1906.18,1233.37 1906.18,553.505 1894.66,553.505 \n",
       "  \"/>\n",
       "<path clip-path=\"url(#clip252)\" d=\"\n",
       "M1909.06 769.568 L1909.06 1233.37 L1920.57 1233.37 L1920.57 769.568 L1909.06 769.568 L1909.06 769.568  Z\n",
       "  \" fill=\"#009af9\" fill-rule=\"evenodd\" fill-opacity=\"1\"/>\n",
       "<polyline clip-path=\"url(#clip252)\" style=\"stroke:#000000; stroke-width:4; stroke-opacity:1; fill:none\" points=\"\n",
       "  1909.06,769.568 1909.06,1233.37 1920.57,1233.37 1920.57,769.568 1909.06,769.568 \n",
       "  \"/>\n",
       "<path clip-path=\"url(#clip252)\" d=\"\n",
       "M1923.45 890.129 L1923.45 1233.37 L1934.97 1233.37 L1934.97 890.129 L1923.45 890.129 L1923.45 890.129  Z\n",
       "  \" fill=\"#009af9\" fill-rule=\"evenodd\" fill-opacity=\"1\"/>\n",
       "<polyline clip-path=\"url(#clip252)\" style=\"stroke:#000000; stroke-width:4; stroke-opacity:1; fill:none\" points=\"\n",
       "  1923.45,890.129 1923.45,1233.37 1934.97,1233.37 1934.97,890.129 1923.45,890.129 \n",
       "  \"/>\n",
       "<path clip-path=\"url(#clip252)\" d=\"\n",
       "M1937.85 245.722 L1937.85 1233.37 L1949.37 1233.37 L1949.37 245.722 L1937.85 245.722 L1937.85 245.722  Z\n",
       "  \" fill=\"#009af9\" fill-rule=\"evenodd\" fill-opacity=\"1\"/>\n",
       "<polyline clip-path=\"url(#clip252)\" style=\"stroke:#000000; stroke-width:4; stroke-opacity:1; fill:none\" points=\"\n",
       "  1937.85,245.722 1937.85,1233.37 1949.37,1233.37 1949.37,245.722 1937.85,245.722 \n",
       "  \"/>\n",
       "<path clip-path=\"url(#clip252)\" d=\"\n",
       "M1952.25 790.844 L1952.25 1233.37 L1963.76 1233.37 L1963.76 790.844 L1952.25 790.844 L1952.25 790.844  Z\n",
       "  \" fill=\"#009af9\" fill-rule=\"evenodd\" fill-opacity=\"1\"/>\n",
       "<polyline clip-path=\"url(#clip252)\" style=\"stroke:#000000; stroke-width:4; stroke-opacity:1; fill:none\" points=\"\n",
       "  1952.25,790.844 1952.25,1233.37 1963.76,1233.37 1963.76,790.844 1952.25,790.844 \n",
       "  \"/>\n",
       "<path clip-path=\"url(#clip252)\" d=\"\n",
       "M1966.64 263.687 L1966.64 1233.37 L1978.16 1233.37 L1978.16 263.687 L1966.64 263.687 L1966.64 263.687  Z\n",
       "  \" fill=\"#009af9\" fill-rule=\"evenodd\" fill-opacity=\"1\"/>\n",
       "<polyline clip-path=\"url(#clip252)\" style=\"stroke:#000000; stroke-width:4; stroke-opacity:1; fill:none\" points=\"\n",
       "  1966.64,263.687 1966.64,1233.37 1978.16,1233.37 1978.16,263.687 1966.64,263.687 \n",
       "  \"/>\n",
       "<path clip-path=\"url(#clip252)\" d=\"\n",
       "M1981.04 548.777 L1981.04 1233.37 L1992.55 1233.37 L1992.55 548.777 L1981.04 548.777 L1981.04 548.777  Z\n",
       "  \" fill=\"#009af9\" fill-rule=\"evenodd\" fill-opacity=\"1\"/>\n",
       "<polyline clip-path=\"url(#clip252)\" style=\"stroke:#000000; stroke-width:4; stroke-opacity:1; fill:none\" points=\"\n",
       "  1981.04,548.777 1981.04,1233.37 1992.55,1233.37 1992.55,548.777 1981.04,548.777 \n",
       "  \"/>\n",
       "<path clip-path=\"url(#clip252)\" d=\"\n",
       "M1995.43 615.44 L1995.43 1233.37 L2006.95 1233.37 L2006.95 615.44 L1995.43 615.44 L1995.43 615.44  Z\n",
       "  \" fill=\"#009af9\" fill-rule=\"evenodd\" fill-opacity=\"1\"/>\n",
       "<polyline clip-path=\"url(#clip252)\" style=\"stroke:#000000; stroke-width:4; stroke-opacity:1; fill:none\" points=\"\n",
       "  1995.43,615.44 1995.43,1233.37 2006.95,1233.37 2006.95,615.44 1995.43,615.44 \n",
       "  \"/>\n",
       "<path clip-path=\"url(#clip252)\" d=\"\n",
       "M2009.83 757.749 L2009.83 1233.37 L2021.34 1233.37 L2021.34 757.749 L2009.83 757.749 L2009.83 757.749  Z\n",
       "  \" fill=\"#009af9\" fill-rule=\"evenodd\" fill-opacity=\"1\"/>\n",
       "<polyline clip-path=\"url(#clip252)\" style=\"stroke:#000000; stroke-width:4; stroke-opacity:1; fill:none\" points=\"\n",
       "  2009.83,757.749 2009.83,1233.37 2021.34,1233.37 2021.34,757.749 2009.83,757.749 \n",
       "  \"/>\n",
       "<path clip-path=\"url(#clip252)\" d=\"\n",
       "M2024.22 537.43 L2024.22 1233.37 L2035.74 1233.37 L2035.74 537.43 L2024.22 537.43 L2024.22 537.43  Z\n",
       "  \" fill=\"#009af9\" fill-rule=\"evenodd\" fill-opacity=\"1\"/>\n",
       "<polyline clip-path=\"url(#clip252)\" style=\"stroke:#000000; stroke-width:4; stroke-opacity:1; fill:none\" points=\"\n",
       "  2024.22,537.43 2024.22,1233.37 2035.74,1233.37 2035.74,537.43 2024.22,537.43 \n",
       "  \"/>\n",
       "<path clip-path=\"url(#clip252)\" d=\"\n",
       "M2038.62 760.113 L2038.62 1233.37 L2050.14 1233.37 L2050.14 760.113 L2038.62 760.113 L2038.62 760.113  Z\n",
       "  \" fill=\"#009af9\" fill-rule=\"evenodd\" fill-opacity=\"1\"/>\n",
       "<polyline clip-path=\"url(#clip252)\" style=\"stroke:#000000; stroke-width:4; stroke-opacity:1; fill:none\" points=\"\n",
       "  2038.62,760.113 2038.62,1233.37 2050.14,1233.37 2050.14,760.113 2038.62,760.113 \n",
       "  \"/>\n",
       "<path clip-path=\"url(#clip252)\" d=\"\n",
       "M2053.01 513.791 L2053.01 1233.37 L2064.53 1233.37 L2064.53 513.791 L2053.01 513.791 L2053.01 513.791  Z\n",
       "  \" fill=\"#009af9\" fill-rule=\"evenodd\" fill-opacity=\"1\"/>\n",
       "<polyline clip-path=\"url(#clip252)\" style=\"stroke:#000000; stroke-width:4; stroke-opacity:1; fill:none\" points=\"\n",
       "  2053.01,513.791 2053.01,1233.37 2064.53,1233.37 2064.53,513.791 2053.01,513.791 \n",
       "  \"/>\n",
       "<path clip-path=\"url(#clip252)\" d=\"\n",
       "M2067.41 600.784 L2067.41 1233.37 L2078.93 1233.37 L2078.93 600.784 L2067.41 600.784 L2067.41 600.784  Z\n",
       "  \" fill=\"#009af9\" fill-rule=\"evenodd\" fill-opacity=\"1\"/>\n",
       "<polyline clip-path=\"url(#clip252)\" style=\"stroke:#000000; stroke-width:4; stroke-opacity:1; fill:none\" points=\"\n",
       "  2067.41,600.784 2067.41,1233.37 2078.93,1233.37 2078.93,600.784 2067.41,600.784 \n",
       "  \"/>\n",
       "<path clip-path=\"url(#clip252)\" d=\"\n",
       "M2081.81 572.417 L2081.81 1233.37 L2093.32 1233.37 L2093.32 572.417 L2081.81 572.417 L2081.81 572.417  Z\n",
       "  \" fill=\"#009af9\" fill-rule=\"evenodd\" fill-opacity=\"1\"/>\n",
       "<polyline clip-path=\"url(#clip252)\" style=\"stroke:#000000; stroke-width:4; stroke-opacity:1; fill:none\" points=\"\n",
       "  2081.81,572.417 2081.81,1233.37 2093.32,1233.37 2093.32,572.417 2081.81,572.417 \n",
       "  \"/>\n",
       "<path clip-path=\"url(#clip252)\" d=\"\n",
       "M2096.2 539.322 L2096.2 1233.37 L2107.72 1233.37 L2107.72 539.322 L2096.2 539.322 L2096.2 539.322  Z\n",
       "  \" fill=\"#009af9\" fill-rule=\"evenodd\" fill-opacity=\"1\"/>\n",
       "<polyline clip-path=\"url(#clip252)\" style=\"stroke:#000000; stroke-width:4; stroke-opacity:1; fill:none\" points=\"\n",
       "  2096.2,539.322 2096.2,1233.37 2107.72,1233.37 2107.72,539.322 2096.2,539.322 \n",
       "  \"/>\n",
       "<path clip-path=\"url(#clip252)\" d=\"\n",
       "M2110.6 480.223 L2110.6 1233.37 L2122.11 1233.37 L2122.11 480.223 L2110.6 480.223 L2110.6 480.223  Z\n",
       "  \" fill=\"#009af9\" fill-rule=\"evenodd\" fill-opacity=\"1\"/>\n",
       "<polyline clip-path=\"url(#clip252)\" style=\"stroke:#000000; stroke-width:4; stroke-opacity:1; fill:none\" points=\"\n",
       "  2110.6,480.223 2110.6,1233.37 2122.11,1233.37 2122.11,480.223 2110.6,480.223 \n",
       "  \"/>\n",
       "<path clip-path=\"url(#clip252)\" d=\"\n",
       "M2124.99 719.453 L2124.99 1233.37 L2136.51 1233.37 L2136.51 719.453 L2124.99 719.453 L2124.99 719.453  Z\n",
       "  \" fill=\"#009af9\" fill-rule=\"evenodd\" fill-opacity=\"1\"/>\n",
       "<polyline clip-path=\"url(#clip252)\" style=\"stroke:#000000; stroke-width:4; stroke-opacity:1; fill:none\" points=\"\n",
       "  2124.99,719.453 2124.99,1233.37 2136.51,1233.37 2136.51,719.453 2124.99,719.453 \n",
       "  \"/>\n",
       "<path clip-path=\"url(#clip252)\" d=\"\n",
       "M2139.39 892.02 L2139.39 1233.37 L2150.91 1233.37 L2150.91 892.02 L2139.39 892.02 L2139.39 892.02  Z\n",
       "  \" fill=\"#009af9\" fill-rule=\"evenodd\" fill-opacity=\"1\"/>\n",
       "<polyline clip-path=\"url(#clip252)\" style=\"stroke:#000000; stroke-width:4; stroke-opacity:1; fill:none\" points=\"\n",
       "  2139.39,892.02 2139.39,1233.37 2150.91,1233.37 2150.91,892.02 2139.39,892.02 \n",
       "  \"/>\n",
       "<path clip-path=\"url(#clip252)\" d=\"\n",
       "M2153.78 901.476 L2153.78 1233.37 L2165.3 1233.37 L2165.3 901.476 L2153.78 901.476 L2153.78 901.476  Z\n",
       "  \" fill=\"#009af9\" fill-rule=\"evenodd\" fill-opacity=\"1\"/>\n",
       "<polyline clip-path=\"url(#clip252)\" style=\"stroke:#000000; stroke-width:4; stroke-opacity:1; fill:none\" points=\"\n",
       "  2153.78,901.476 2153.78,1233.37 2165.3,1233.37 2165.3,901.476 2153.78,901.476 \n",
       "  \"/>\n",
       "<path clip-path=\"url(#clip252)\" d=\"\n",
       "M2168.18 862.234 L2168.18 1233.37 L2179.7 1233.37 L2179.7 862.234 L2168.18 862.234 L2168.18 862.234  Z\n",
       "  \" fill=\"#009af9\" fill-rule=\"evenodd\" fill-opacity=\"1\"/>\n",
       "<polyline clip-path=\"url(#clip252)\" style=\"stroke:#000000; stroke-width:4; stroke-opacity:1; fill:none\" points=\"\n",
       "  2168.18,862.234 2168.18,1233.37 2179.7,1233.37 2179.7,862.234 2168.18,862.234 \n",
       "  \"/>\n",
       "<path clip-path=\"url(#clip252)\" d=\"\n",
       "M2182.58 779.497 L2182.58 1233.37 L2194.09 1233.37 L2194.09 779.497 L2182.58 779.497 L2182.58 779.497  Z\n",
       "  \" fill=\"#009af9\" fill-rule=\"evenodd\" fill-opacity=\"1\"/>\n",
       "<polyline clip-path=\"url(#clip252)\" style=\"stroke:#000000; stroke-width:4; stroke-opacity:1; fill:none\" points=\"\n",
       "  2182.58,779.497 2182.58,1233.37 2194.09,1233.37 2194.09,779.497 2182.58,779.497 \n",
       "  \"/>\n",
       "<path clip-path=\"url(#clip252)\" d=\"\n",
       "M2196.97 830.085 L2196.97 1233.37 L2208.49 1233.37 L2208.49 830.085 L2196.97 830.085 L2196.97 830.085  Z\n",
       "  \" fill=\"#009af9\" fill-rule=\"evenodd\" fill-opacity=\"1\"/>\n",
       "<polyline clip-path=\"url(#clip252)\" style=\"stroke:#000000; stroke-width:4; stroke-opacity:1; fill:none\" points=\"\n",
       "  2196.97,830.085 2196.97,1233.37 2208.49,1233.37 2208.49,830.085 2196.97,830.085 \n",
       "  \"/>\n",
       "<path clip-path=\"url(#clip252)\" d=\"\n",
       "M2211.37 852.306 L2211.37 1233.37 L2222.88 1233.37 L2222.88 852.306 L2211.37 852.306 L2211.37 852.306  Z\n",
       "  \" fill=\"#009af9\" fill-rule=\"evenodd\" fill-opacity=\"1\"/>\n",
       "<polyline clip-path=\"url(#clip252)\" style=\"stroke:#000000; stroke-width:4; stroke-opacity:1; fill:none\" points=\"\n",
       "  2211.37,852.306 2211.37,1233.37 2222.88,1233.37 2222.88,852.306 2211.37,852.306 \n",
       "  \"/>\n",
       "<path clip-path=\"url(#clip252)\" d=\"\n",
       "M2225.76 963.883 L2225.76 1233.37 L2237.28 1233.37 L2237.28 963.883 L2225.76 963.883 L2225.76 963.883  Z\n",
       "  \" fill=\"#009af9\" fill-rule=\"evenodd\" fill-opacity=\"1\"/>\n",
       "<polyline clip-path=\"url(#clip252)\" style=\"stroke:#000000; stroke-width:4; stroke-opacity:1; fill:none\" points=\"\n",
       "  2225.76,963.883 2225.76,1233.37 2237.28,1233.37 2237.28,963.883 2225.76,963.883 \n",
       "  \"/>\n",
       "<polyline clip-path=\"url(#clip252)\" style=\"stroke:#ff0000; stroke-width:8; stroke-opacity:1; fill:none\" points=\"\n",
       "  374.481,1233.37 388.876,1233.37 403.272,1233.37 417.668,1233.37 432.063,1233.37 446.459,1233.37 460.855,1233.32 475.25,1233.32 489.646,1233.32 504.042,1233.32 \n",
       "  518.437,1233.32 532.833,1233.32 547.229,1233.32 561.624,1233.37 576.02,1233.37 590.416,1233.37 604.811,1233.37 619.207,1233.37 633.603,1233.37 647.998,1233.37 \n",
       "  662.394,1233.37 676.79,1233.37 691.185,1233.37 705.581,1233.37 719.977,1233.37 734.372,1233.37 748.768,1233.37 763.164,1233.37 777.559,1233.37 791.955,1233.37 \n",
       "  806.351,1233.37 820.746,1233.37 835.142,1233.37 849.538,1233.37 863.933,1233.37 878.329,1233.37 892.725,1233.32 907.12,1233.32 921.516,1233.23 935.911,1233.23 \n",
       "  950.307,1233.23 964.703,1233.18 979.098,1233.09 993.494,1233.18 1007.89,1233.09 1022.29,1232.9 1036.68,1232.47 1051.08,1232.14 1065.47,1231.91 1079.87,1231.05 \n",
       "  1094.26,1230.35 1108.66,1228.69 1123.06,1228.97 1137.45,1227.27 1151.85,1222.78 1166.24,1216.35 1180.64,1208.27 1195.03,1199.8 1209.43,1184.15 1223.82,1176.21 \n",
       "  1238.22,1159.95 1252.62,1149.69 1267.01,1123.64 1281.41,1109.97 1295.8,1093.9 1310.2,1055.08 1324.59,1043.93 1338.99,1010.36 1353.39,981.187 1367.78,985.442 \n",
       "  1382.18,947.383 1396.57,907.433 1410.97,922.798 1425.36,895.613 1439.76,894.809 1454.16,870.792 1468.55,838.926 1482.95,828.194 1497.34,829.612 1511.74,791.506 \n",
       "  1526.13,777.748 1540.53,773.162 1554.92,775.053 1569.32,782.759 1583.72,766.07 1598.11,762.051 1612.51,781.719 1626.9,785.785 1641.3,770.183 1655.69,744.369 \n",
       "  1670.09,711.699 1684.49,677.848 1698.88,648.251 1713.28,605.086 1727.67,567.972 1742.07,539.842 1756.46,535.397 1770.86,510.529 1785.26,486.89 1799.65,478.994 \n",
       "  1814.05,439.753 1828.44,438.949 1842.84,438.145 1857.23,435.782 1871.63,434.505 1886.03,452.045 1900.42,460.225 1914.82,535.587 1929.21,580.501 1943.61,541.26 \n",
       "  1958,577.097 1972.4,550.148 1986.79,580.312 2001.19,589.153 2015.59,587.498 2029.98,537.1 2044.38,610.57 2058.77,570.998 2073.17,619.175 2087.56,622.532 \n",
       "  2101.96,611.658 2116.36,571.991 2130.75,597.994 2145.15,616.858 2159.54,672.222 2173.94,709.572 2188.33,739.168 2202.73,780.726 2217.13,833.867 2231.52,868.806 \n",
       "  \n",
       "  \"/>\n",
       "<path clip-path=\"url(#clip250)\" d=\"\n",
       "M325.246 448.912 L804.897 448.912 L804.897 267.472 L325.246 267.472  Z\n",
       "  \" fill=\"#ffffff\" fill-rule=\"evenodd\" fill-opacity=\"1\"/>\n",
       "<polyline clip-path=\"url(#clip250)\" style=\"stroke:#000000; stroke-width:4; stroke-opacity:1; fill:none\" points=\"\n",
       "  325.246,448.912 804.897,448.912 804.897,267.472 325.246,267.472 325.246,448.912 \n",
       "  \"/>\n",
       "<path clip-path=\"url(#clip250)\" d=\"\n",
       "M349.246 352.144 L493.246 352.144 L493.246 303.76 L349.246 303.76 L349.246 352.144  Z\n",
       "  \" fill=\"#009af9\" fill-rule=\"evenodd\" fill-opacity=\"1\"/>\n",
       "<polyline clip-path=\"url(#clip250)\" style=\"stroke:#000000; stroke-width:4; stroke-opacity:1; fill:none\" points=\"\n",
       "  349.246,352.144 493.246,352.144 493.246,303.76 349.246,303.76 349.246,352.144 \n",
       "  \"/>\n",
       "<path clip-path=\"url(#clip250)\" d=\"M 0 0 M521.922 314.515 L521.922 341.39 L527.57 341.39 Q534.722 341.39 538.033 338.149 Q541.366 334.908 541.366 327.917 Q541.366 320.973 538.033 317.755 Q534.722 314.515 527.57 314.515 L521.922 314.515 M517.246 310.672 L526.852 310.672 Q536.898 310.672 541.597 314.862 Q546.296 319.029 546.296 327.917 Q546.296 336.853 541.574 341.042 Q536.852 345.232 526.852 345.232 L517.246 345.232 L517.246 310.672 Z\" fill=\"#000000\" fill-rule=\"evenodd\" fill-opacity=\"1\" /><path clip-path=\"url(#clip250)\" d=\"M 0 0 M562.546 332.2 Q557.384 332.2 555.394 333.38 Q553.403 334.561 553.403 337.408 Q553.403 339.677 554.884 341.019 Q556.389 342.339 558.958 342.339 Q562.5 342.339 564.63 339.839 Q566.782 337.316 566.782 333.149 L566.782 332.2 L562.546 332.2 M571.042 330.441 L571.042 345.232 L566.782 345.232 L566.782 341.297 Q565.324 343.658 563.148 344.792 Q560.972 345.903 557.824 345.903 Q553.843 345.903 551.482 343.681 Q549.144 341.436 549.144 337.686 Q549.144 333.311 552.06 331.089 Q555 328.866 560.81 328.866 L566.782 328.866 L566.782 328.45 Q566.782 325.51 564.838 323.913 Q562.917 322.292 559.421 322.292 Q557.199 322.292 555.093 322.825 Q552.986 323.357 551.042 324.422 L551.042 320.487 Q553.38 319.584 555.579 319.144 Q557.778 318.681 559.861 318.681 Q565.486 318.681 568.264 321.598 Q571.042 324.515 571.042 330.441 Z\" fill=\"#000000\" fill-rule=\"evenodd\" fill-opacity=\"1\" /><path clip-path=\"url(#clip250)\" d=\"M 0 0 M575.509 319.306 L579.769 319.306 L579.769 345.232 L575.509 345.232 L575.509 319.306 M575.509 309.214 L579.769 309.214 L579.769 314.607 L575.509 314.607 L575.509 309.214 Z\" fill=\"#000000\" fill-rule=\"evenodd\" fill-opacity=\"1\" /><path clip-path=\"url(#clip250)\" d=\"M 0 0 M584.236 309.214 L588.495 309.214 L588.495 345.232 L584.236 345.232 L584.236 309.214 Z\" fill=\"#000000\" fill-rule=\"evenodd\" fill-opacity=\"1\" /><path clip-path=\"url(#clip250)\" d=\"M 0 0 M603.75 347.64 Q601.944 352.269 600.231 353.681 Q598.518 355.093 595.648 355.093 L592.245 355.093 L592.245 351.528 L594.745 351.528 Q596.505 351.528 597.477 350.695 Q598.449 349.862 599.63 346.76 L600.393 344.815 L589.907 319.306 L594.421 319.306 L602.523 339.584 L610.625 319.306 L615.139 319.306 L603.75 347.64 Z\" fill=\"#000000\" fill-rule=\"evenodd\" fill-opacity=\"1\" /><path clip-path=\"url(#clip250)\" d=\"M 0 0 M660.74 313.334 L660.74 318.265 Q658.379 316.066 655.694 314.978 Q653.032 313.89 650.023 313.89 Q644.097 313.89 640.949 317.524 Q637.801 321.135 637.801 327.987 Q637.801 334.816 640.949 338.45 Q644.097 342.061 650.023 342.061 Q653.032 342.061 655.694 340.973 Q658.379 339.885 660.74 337.686 L660.74 342.57 Q658.287 344.237 655.532 345.07 Q652.801 345.903 649.745 345.903 Q641.898 345.903 637.384 341.112 Q632.87 336.297 632.87 327.987 Q632.87 319.654 637.384 314.862 Q641.898 310.047 649.745 310.047 Q652.847 310.047 655.578 310.88 Q658.333 311.691 660.74 313.334 Z\" fill=\"#000000\" fill-rule=\"evenodd\" fill-opacity=\"1\" /><path clip-path=\"url(#clip250)\" d=\"M 0 0 M676.99 332.2 Q671.828 332.2 669.837 333.38 Q667.847 334.561 667.847 337.408 Q667.847 339.677 669.328 341.019 Q670.833 342.339 673.402 342.339 Q676.944 342.339 679.074 339.839 Q681.226 337.316 681.226 333.149 L681.226 332.2 L676.99 332.2 M685.486 330.441 L685.486 345.232 L681.226 345.232 L681.226 341.297 Q679.768 343.658 677.592 344.792 Q675.416 345.903 672.268 345.903 Q668.287 345.903 665.925 343.681 Q663.588 341.436 663.588 337.686 Q663.588 333.311 666.504 331.089 Q669.444 328.866 675.254 328.866 L681.226 328.866 L681.226 328.45 Q681.226 325.51 679.282 323.913 Q677.361 322.292 673.865 322.292 Q671.643 322.292 669.537 322.825 Q667.43 323.357 665.486 324.422 L665.486 320.487 Q667.824 319.584 670.023 319.144 Q672.222 318.681 674.305 318.681 Q679.93 318.681 682.708 321.598 Q685.486 324.515 685.486 330.441 Z\" fill=\"#000000\" fill-rule=\"evenodd\" fill-opacity=\"1\" /><path clip-path=\"url(#clip250)\" d=\"M 0 0 M706.481 320.07 L706.481 324.098 Q704.675 323.172 702.731 322.709 Q700.786 322.246 698.703 322.246 Q695.532 322.246 693.935 323.218 Q692.361 324.191 692.361 326.135 Q692.361 327.616 693.495 328.473 Q694.629 329.306 698.055 330.07 L699.513 330.394 Q704.05 331.366 705.948 333.149 Q707.87 334.908 707.87 338.079 Q707.87 341.69 704.999 343.797 Q702.152 345.903 697.152 345.903 Q695.069 345.903 692.8 345.487 Q690.555 345.093 688.055 344.283 L688.055 339.885 Q690.416 341.112 692.708 341.737 Q694.999 342.339 697.245 342.339 Q700.254 342.339 701.874 341.32 Q703.495 340.278 703.495 338.403 Q703.495 336.667 702.314 335.741 Q701.157 334.816 697.198 333.959 L695.717 333.612 Q691.759 332.778 689.999 331.066 Q688.24 329.329 688.24 326.32 Q688.24 322.663 690.833 320.672 Q693.425 318.681 698.194 318.681 Q700.555 318.681 702.638 319.029 Q704.722 319.376 706.481 320.07 Z\" fill=\"#000000\" fill-rule=\"evenodd\" fill-opacity=\"1\" /><path clip-path=\"url(#clip250)\" d=\"M 0 0 M734.513 331.204 L734.513 333.288 L714.93 333.288 Q715.208 337.686 717.569 340.001 Q719.953 342.292 724.189 342.292 Q726.643 342.292 728.934 341.69 Q731.249 341.089 733.518 339.885 L733.518 343.913 Q731.226 344.885 728.819 345.394 Q726.411 345.903 723.934 345.903 Q717.731 345.903 714.097 342.292 Q710.485 338.681 710.485 332.524 Q710.485 326.158 713.911 322.431 Q717.36 318.681 723.194 318.681 Q728.425 318.681 731.458 322.061 Q734.513 325.417 734.513 331.204 M730.254 329.954 Q730.208 326.459 728.286 324.376 Q726.388 322.292 723.24 322.292 Q719.675 322.292 717.522 324.306 Q715.393 326.32 715.069 329.978 L730.254 329.954 Z\" fill=\"#000000\" fill-rule=\"evenodd\" fill-opacity=\"1\" /><path clip-path=\"url(#clip250)\" d=\"M 0 0 M755.508 320.07 L755.508 324.098 Q753.703 323.172 751.758 322.709 Q749.814 322.246 747.731 322.246 Q744.559 322.246 742.962 323.218 Q741.388 324.191 741.388 326.135 Q741.388 327.616 742.522 328.473 Q743.657 329.306 747.082 330.07 L748.541 330.394 Q753.078 331.366 754.976 333.149 Q756.897 334.908 756.897 338.079 Q756.897 341.69 754.027 343.797 Q751.18 345.903 746.18 345.903 Q744.096 345.903 741.828 345.487 Q739.582 345.093 737.083 344.283 L737.083 339.885 Q739.444 341.112 741.735 341.737 Q744.027 342.339 746.272 342.339 Q749.282 342.339 750.902 341.32 Q752.522 340.278 752.522 338.403 Q752.522 336.667 751.342 335.741 Q750.184 334.816 746.226 333.959 L744.744 333.612 Q740.786 332.778 739.027 331.066 Q737.268 329.329 737.268 326.32 Q737.268 322.663 739.86 320.672 Q742.453 318.681 747.221 318.681 Q749.582 318.681 751.666 319.029 Q753.749 319.376 755.508 320.07 Z\" fill=\"#000000\" fill-rule=\"evenodd\" fill-opacity=\"1\" /><polyline clip-path=\"url(#clip250)\" style=\"stroke:#ff0000; stroke-width:4; stroke-opacity:1; fill:none\" points=\"\n",
       "  349.246,388.432 493.246,388.432 \n",
       "  \"/>\n",
       "<path clip-path=\"url(#clip250)\" d=\"M 0 0 M517.246 371.152 L539.468 371.152 L539.468 373.143 L526.922 405.712 L522.037 405.712 L533.843 375.087 L517.246 375.087 L517.246 371.152 Z\" fill=\"#000000\" fill-rule=\"evenodd\" fill-opacity=\"1\" /><path clip-path=\"url(#clip250)\" d=\"M 0 0 M541.783 390.828 L554.259 390.828 L554.259 394.624 L541.783 394.624 L541.783 390.828 Z\" fill=\"#000000\" fill-rule=\"evenodd\" fill-opacity=\"1\" /><path clip-path=\"url(#clip250)\" d=\"M 0 0 M575.787 383.722 L575.787 369.694 L580.046 369.694 L580.046 405.712 L575.787 405.712 L575.787 401.823 Q574.444 404.138 572.384 405.272 Q570.347 406.383 567.477 406.383 Q562.778 406.383 559.815 402.633 Q556.875 398.883 556.875 392.772 Q556.875 386.661 559.815 382.911 Q562.778 379.161 567.477 379.161 Q570.347 379.161 572.384 380.296 Q574.444 381.407 575.787 383.722 M561.273 392.772 Q561.273 397.471 563.195 400.157 Q565.139 402.819 568.519 402.819 Q571.898 402.819 573.843 400.157 Q575.787 397.471 575.787 392.772 Q575.787 388.073 573.843 385.411 Q571.898 382.726 568.519 382.726 Q565.139 382.726 563.195 385.411 Q561.273 388.073 561.273 392.772 Z\" fill=\"#000000\" fill-rule=\"evenodd\" fill-opacity=\"1\" /><path clip-path=\"url(#clip250)\" d=\"M 0 0 M596.296 392.68 Q591.134 392.68 589.143 393.86 Q587.153 395.041 587.153 397.888 Q587.153 400.157 588.634 401.499 Q590.139 402.819 592.708 402.819 Q596.25 402.819 598.38 400.319 Q600.532 397.796 600.532 393.629 L600.532 392.68 L596.296 392.68 M604.792 390.921 L604.792 405.712 L600.532 405.712 L600.532 401.777 Q599.074 404.138 596.898 405.272 Q594.722 406.383 591.574 406.383 Q587.593 406.383 585.231 404.161 Q582.894 401.916 582.894 398.166 Q582.894 393.791 585.81 391.569 Q588.75 389.346 594.56 389.346 L600.532 389.346 L600.532 388.93 Q600.532 385.99 598.588 384.393 Q596.667 382.772 593.171 382.772 Q590.949 382.772 588.843 383.305 Q586.736 383.837 584.792 384.902 L584.792 380.967 Q587.13 380.064 589.329 379.624 Q591.528 379.161 593.611 379.161 Q599.236 379.161 602.014 382.078 Q604.792 384.995 604.792 390.921 Z\" fill=\"#000000\" fill-rule=\"evenodd\" fill-opacity=\"1\" /><path clip-path=\"url(#clip250)\" d=\"M 0 0 M620.046 408.12 Q618.241 412.749 616.528 414.161 Q614.815 415.573 611.944 415.573 L608.542 415.573 L608.542 412.008 L611.042 412.008 Q612.801 412.008 613.773 411.175 Q614.745 410.342 615.926 407.24 L616.69 405.295 L606.204 379.786 L610.717 379.786 L618.819 400.064 L626.921 379.786 L631.435 379.786 L620.046 408.12 Z\" fill=\"#000000\" fill-rule=\"evenodd\" fill-opacity=\"1\" /><path clip-path=\"url(#clip250)\" d=\"M 0 0 M662.708 375.759 L656.365 392.958 L669.074 392.958 L662.708 375.759 M660.069 371.152 L665.37 371.152 L678.541 405.712 L673.68 405.712 L670.532 396.846 L654.953 396.846 L651.805 405.712 L646.875 405.712 L660.069 371.152 Z\" fill=\"#000000\" fill-rule=\"evenodd\" fill-opacity=\"1\" /><path clip-path=\"url(#clip250)\" d=\"M 0 0 M677.175 379.786 L681.689 379.786 L689.791 401.545 L697.893 379.786 L702.407 379.786 L692.685 405.712 L686.898 405.712 L677.175 379.786 Z\" fill=\"#000000\" fill-rule=\"evenodd\" fill-opacity=\"1\" /><path clip-path=\"url(#clip250)\" d=\"M 0 0 M723.934 392.448 Q723.934 387.819 722.013 385.272 Q720.115 382.726 716.666 382.726 Q713.24 382.726 711.319 385.272 Q709.421 387.819 709.421 392.448 Q709.421 397.055 711.319 399.601 Q713.24 402.147 716.666 402.147 Q720.115 402.147 722.013 399.601 Q723.934 397.055 723.934 392.448 M728.194 402.495 Q728.194 409.115 725.254 412.332 Q722.314 415.573 716.249 415.573 Q714.004 415.573 712.013 415.226 Q710.022 414.902 708.147 414.207 L708.147 410.064 Q710.022 411.082 711.851 411.569 Q713.68 412.055 715.578 412.055 Q719.768 412.055 721.851 409.856 Q723.934 407.68 723.934 403.258 L723.934 401.152 Q722.615 403.444 720.555 404.578 Q718.495 405.712 715.624 405.712 Q710.856 405.712 707.939 402.078 Q705.022 398.444 705.022 392.448 Q705.022 386.43 707.939 382.796 Q710.856 379.161 715.624 379.161 Q718.495 379.161 720.555 380.296 Q722.615 381.43 723.934 383.722 L723.934 379.786 L728.194 379.786 L728.194 402.495 Z\" fill=\"#000000\" fill-rule=\"evenodd\" fill-opacity=\"1\" /></svg>\n"
      ]
     },
     "execution_count": 79,
     "metadata": {},
     "output_type": "execute_result"
    }
   ],
   "source": [
    "graph_epidemiological_curve(dfc,\"Illinois\",\"Cook\")"
   ]
  },
  {
   "cell_type": "code",
   "execution_count": 81,
   "metadata": {
    "scrolled": false
   },
   "outputs": [
    {
     "data": {
      "image/svg+xml": [
       "<?xml version=\"1.0\" encoding=\"utf-8\"?>\n",
       "<svg xmlns=\"http://www.w3.org/2000/svg\" xmlns:xlink=\"http://www.w3.org/1999/xlink\" width=\"600\" height=\"400\" viewBox=\"0 0 2400 1600\">\n",
       "<defs>\n",
       "  <clipPath id=\"clip330\">\n",
       "    <rect x=\"0\" y=\"0\" width=\"2400\" height=\"1600\"/>\n",
       "  </clipPath>\n",
       "</defs>\n",
       "<path clip-path=\"url(#clip330)\" d=\"\n",
       "M0 1600 L2400 1600 L2400 0 L0 0  Z\n",
       "  \" fill=\"#ffffff\" fill-rule=\"evenodd\" fill-opacity=\"1\"/>\n",
       "<defs>\n",
       "  <clipPath id=\"clip331\">\n",
       "    <rect x=\"480\" y=\"0\" width=\"1681\" height=\"1600\"/>\n",
       "  </clipPath>\n",
       "</defs>\n",
       "<path clip-path=\"url(#clip330)\" d=\"\n",
       "M253.246 1264.17 L2352.76 1264.17 L2352.76 183.952 L253.246 183.952  Z\n",
       "  \" fill=\"#ffffff\" fill-rule=\"evenodd\" fill-opacity=\"1\"/>\n",
       "<defs>\n",
       "  <clipPath id=\"clip332\">\n",
       "    <rect x=\"253\" y=\"183\" width=\"2101\" height=\"1081\"/>\n",
       "  </clipPath>\n",
       "</defs>\n",
       "<polyline clip-path=\"url(#clip332)\" style=\"stroke:#000000; stroke-width:2; stroke-opacity:0.1; fill:none\" points=\"\n",
       "  374.571,1264.17 374.571,183.952 \n",
       "  \"/>\n",
       "<polyline clip-path=\"url(#clip332)\" style=\"stroke:#000000; stroke-width:2; stroke-opacity:0.1; fill:none\" points=\"\n",
       "  579.264,1264.17 579.264,183.952 \n",
       "  \"/>\n",
       "<polyline clip-path=\"url(#clip332)\" style=\"stroke:#000000; stroke-width:2; stroke-opacity:0.1; fill:none\" points=\"\n",
       "  783.957,1264.17 783.957,183.952 \n",
       "  \"/>\n",
       "<polyline clip-path=\"url(#clip332)\" style=\"stroke:#000000; stroke-width:2; stroke-opacity:0.1; fill:none\" points=\"\n",
       "  988.651,1264.17 988.651,183.952 \n",
       "  \"/>\n",
       "<polyline clip-path=\"url(#clip332)\" style=\"stroke:#000000; stroke-width:2; stroke-opacity:0.1; fill:none\" points=\"\n",
       "  1193.34,1264.17 1193.34,183.952 \n",
       "  \"/>\n",
       "<polyline clip-path=\"url(#clip332)\" style=\"stroke:#000000; stroke-width:2; stroke-opacity:0.1; fill:none\" points=\"\n",
       "  1398.04,1264.17 1398.04,183.952 \n",
       "  \"/>\n",
       "<polyline clip-path=\"url(#clip332)\" style=\"stroke:#000000; stroke-width:2; stroke-opacity:0.1; fill:none\" points=\"\n",
       "  1602.73,1264.17 1602.73,183.952 \n",
       "  \"/>\n",
       "<polyline clip-path=\"url(#clip332)\" style=\"stroke:#000000; stroke-width:2; stroke-opacity:0.1; fill:none\" points=\"\n",
       "  1807.42,1264.17 1807.42,183.952 \n",
       "  \"/>\n",
       "<polyline clip-path=\"url(#clip332)\" style=\"stroke:#000000; stroke-width:2; stroke-opacity:0.1; fill:none\" points=\"\n",
       "  2012.12,1264.17 2012.12,183.952 \n",
       "  \"/>\n",
       "<polyline clip-path=\"url(#clip332)\" style=\"stroke:#000000; stroke-width:2; stroke-opacity:0.1; fill:none\" points=\"\n",
       "  2216.81,1264.17 2216.81,183.952 \n",
       "  \"/>\n",
       "<polyline clip-path=\"url(#clip332)\" style=\"stroke:#000000; stroke-width:2; stroke-opacity:0.1; fill:none\" points=\"\n",
       "  253.246,1233.6 2352.76,1233.6 \n",
       "  \"/>\n",
       "<polyline clip-path=\"url(#clip332)\" style=\"stroke:#000000; stroke-width:2; stroke-opacity:0.1; fill:none\" points=\"\n",
       "  253.246,989.682 2352.76,989.682 \n",
       "  \"/>\n",
       "<polyline clip-path=\"url(#clip332)\" style=\"stroke:#000000; stroke-width:2; stroke-opacity:0.1; fill:none\" points=\"\n",
       "  253.246,745.769 2352.76,745.769 \n",
       "  \"/>\n",
       "<polyline clip-path=\"url(#clip332)\" style=\"stroke:#000000; stroke-width:2; stroke-opacity:0.1; fill:none\" points=\"\n",
       "  253.246,501.855 2352.76,501.855 \n",
       "  \"/>\n",
       "<polyline clip-path=\"url(#clip332)\" style=\"stroke:#000000; stroke-width:2; stroke-opacity:0.1; fill:none\" points=\"\n",
       "  253.246,257.941 2352.76,257.941 \n",
       "  \"/>\n",
       "<polyline clip-path=\"url(#clip330)\" style=\"stroke:#000000; stroke-width:4; stroke-opacity:1; fill:none\" points=\"\n",
       "  253.246,1264.17 2352.76,1264.17 \n",
       "  \"/>\n",
       "<polyline clip-path=\"url(#clip330)\" style=\"stroke:#000000; stroke-width:4; stroke-opacity:1; fill:none\" points=\"\n",
       "  253.246,1264.17 253.246,183.952 \n",
       "  \"/>\n",
       "<polyline clip-path=\"url(#clip330)\" style=\"stroke:#000000; stroke-width:4; stroke-opacity:1; fill:none\" points=\"\n",
       "  374.571,1264.17 374.571,1251.21 \n",
       "  \"/>\n",
       "<polyline clip-path=\"url(#clip330)\" style=\"stroke:#000000; stroke-width:4; stroke-opacity:1; fill:none\" points=\"\n",
       "  579.264,1264.17 579.264,1251.21 \n",
       "  \"/>\n",
       "<polyline clip-path=\"url(#clip330)\" style=\"stroke:#000000; stroke-width:4; stroke-opacity:1; fill:none\" points=\"\n",
       "  783.957,1264.17 783.957,1251.21 \n",
       "  \"/>\n",
       "<polyline clip-path=\"url(#clip330)\" style=\"stroke:#000000; stroke-width:4; stroke-opacity:1; fill:none\" points=\"\n",
       "  988.651,1264.17 988.651,1251.21 \n",
       "  \"/>\n",
       "<polyline clip-path=\"url(#clip330)\" style=\"stroke:#000000; stroke-width:4; stroke-opacity:1; fill:none\" points=\"\n",
       "  1193.34,1264.17 1193.34,1251.21 \n",
       "  \"/>\n",
       "<polyline clip-path=\"url(#clip330)\" style=\"stroke:#000000; stroke-width:4; stroke-opacity:1; fill:none\" points=\"\n",
       "  1398.04,1264.17 1398.04,1251.21 \n",
       "  \"/>\n",
       "<polyline clip-path=\"url(#clip330)\" style=\"stroke:#000000; stroke-width:4; stroke-opacity:1; fill:none\" points=\"\n",
       "  1602.73,1264.17 1602.73,1251.21 \n",
       "  \"/>\n",
       "<polyline clip-path=\"url(#clip330)\" style=\"stroke:#000000; stroke-width:4; stroke-opacity:1; fill:none\" points=\"\n",
       "  1807.42,1264.17 1807.42,1251.21 \n",
       "  \"/>\n",
       "<polyline clip-path=\"url(#clip330)\" style=\"stroke:#000000; stroke-width:4; stroke-opacity:1; fill:none\" points=\"\n",
       "  2012.12,1264.17 2012.12,1251.21 \n",
       "  \"/>\n",
       "<polyline clip-path=\"url(#clip330)\" style=\"stroke:#000000; stroke-width:4; stroke-opacity:1; fill:none\" points=\"\n",
       "  2216.81,1264.17 2216.81,1251.21 \n",
       "  \"/>\n",
       "<polyline clip-path=\"url(#clip330)\" style=\"stroke:#000000; stroke-width:4; stroke-opacity:1; fill:none\" points=\"\n",
       "  253.246,1233.6 278.44,1233.6 \n",
       "  \"/>\n",
       "<polyline clip-path=\"url(#clip330)\" style=\"stroke:#000000; stroke-width:4; stroke-opacity:1; fill:none\" points=\"\n",
       "  253.246,989.682 278.44,989.682 \n",
       "  \"/>\n",
       "<polyline clip-path=\"url(#clip330)\" style=\"stroke:#000000; stroke-width:4; stroke-opacity:1; fill:none\" points=\"\n",
       "  253.246,745.769 278.44,745.769 \n",
       "  \"/>\n",
       "<polyline clip-path=\"url(#clip330)\" style=\"stroke:#000000; stroke-width:4; stroke-opacity:1; fill:none\" points=\"\n",
       "  253.246,501.855 278.44,501.855 \n",
       "  \"/>\n",
       "<polyline clip-path=\"url(#clip330)\" style=\"stroke:#000000; stroke-width:4; stroke-opacity:1; fill:none\" points=\"\n",
       "  253.246,257.941 278.44,257.941 \n",
       "  \"/>\n",
       "<path clip-path=\"url(#clip330)\" d=\"M 0 0 M237.956 1465.87 L249.496 1454.33 L252.278 1457.11 L236.761 1472.63 L233.979 1469.85 Q233.913 1466.02 233.88 1459.5 Q233.848 1452.95 233.733 1451.17 Q233.537 1447.8 232.931 1445.95 Q232.325 1444.07 231.13 1442.87 Q229.183 1440.92 226.58 1441.07 Q223.994 1441.2 221.801 1443.39 Q220.246 1444.95 219.051 1447.23 Q217.872 1449.48 217.005 1452.54 L213.666 1449.21 Q214.861 1446.41 216.186 1444.26 Q217.512 1442.12 218.953 1440.68 Q222.75 1436.88 226.907 1436.52 Q231.065 1436.16 234.24 1439.34 Q235.746 1440.84 236.532 1442.77 Q237.318 1444.67 237.661 1447.99 Q237.727 1448.88 237.809 1453.35 Q237.874 1457.8 237.956 1465.87 Z\" fill=\"#000000\" fill-rule=\"evenodd\" fill-opacity=\"1\" /><path clip-path=\"url(#clip330)\" d=\"M 0 0 M240.673 1424.2 Q238.12 1426.75 239.347 1430.56 Q240.575 1434.34 245.616 1439.38 Q250.641 1444.41 254.439 1445.65 Q258.236 1446.86 260.79 1444.31 Q263.359 1441.74 262.132 1437.96 Q260.904 1434.15 255.879 1429.12 Q250.838 1424.08 247.04 1422.87 Q243.243 1421.63 240.673 1424.2 M238.054 1421.58 Q242.163 1417.47 247.58 1418.56 Q252.998 1419.63 259.185 1425.82 Q265.356 1431.99 266.437 1437.42 Q267.517 1442.82 263.408 1446.93 Q259.3 1451.04 253.882 1449.97 Q248.464 1448.88 242.294 1442.71 Q236.106 1436.52 235.026 1431.12 Q233.946 1425.68 238.054 1421.58 Z\" fill=\"#000000\" fill-rule=\"evenodd\" fill-opacity=\"1\" /><path clip-path=\"url(#clip330)\" d=\"M 0 0 M275.03 1428.79 L286.569 1417.26 L289.352 1420.04 L273.835 1435.55 L271.052 1432.77 Q270.987 1428.94 270.954 1422.43 Q270.921 1415.88 270.807 1414.1 Q270.61 1410.72 270.005 1408.87 Q269.399 1406.99 268.204 1405.8 Q266.256 1403.85 263.654 1404 Q261.068 1404.13 258.874 1406.32 Q257.319 1407.88 256.125 1410.15 Q254.946 1412.41 254.079 1415.47 L250.739 1412.13 Q251.934 1409.33 253.26 1407.19 Q254.586 1405.04 256.026 1403.6 Q259.824 1399.81 263.981 1399.45 Q268.139 1399.09 271.314 1402.26 Q272.82 1403.77 273.606 1405.7 Q274.391 1407.6 274.735 1410.92 Q274.801 1411.8 274.882 1416.27 Q274.948 1420.73 275.03 1428.79 Z\" fill=\"#000000\" fill-rule=\"evenodd\" fill-opacity=\"1\" /><path clip-path=\"url(#clip330)\" d=\"M 0 0 M277.747 1387.12 Q275.193 1389.67 276.421 1393.49 Q277.649 1397.27 282.69 1402.31 Q287.715 1407.34 291.512 1408.58 Q295.31 1409.79 297.863 1407.24 Q300.433 1404.67 299.205 1400.89 Q297.978 1397.07 292.953 1392.05 Q287.911 1387.01 284.114 1385.8 Q280.317 1384.55 277.747 1387.12 M275.128 1384.5 Q279.236 1380.39 284.654 1381.49 Q290.072 1382.55 296.259 1388.74 Q302.43 1394.91 303.51 1400.35 Q304.591 1405.75 300.482 1409.86 Q296.374 1413.97 290.956 1412.9 Q285.538 1411.8 279.367 1405.63 Q273.18 1399.45 272.1 1394.05 Q271.02 1388.61 275.128 1384.5 Z\" fill=\"#000000\" fill-rule=\"evenodd\" fill-opacity=\"1\" /><path clip-path=\"url(#clip330)\" d=\"M 0 0 M299.566 1388.77 L308.388 1379.95 L311.072 1382.64 L302.25 1391.46 L299.566 1388.77 Z\" fill=\"#000000\" fill-rule=\"evenodd\" fill-opacity=\"1\" /><path clip-path=\"url(#clip330)\" d=\"M 0 0 M307.308 1357.56 Q304.754 1360.11 305.982 1363.93 Q307.21 1367.71 312.251 1372.75 Q317.276 1377.78 321.073 1379.02 Q324.871 1380.23 327.424 1377.68 Q329.994 1375.11 328.766 1371.33 Q327.539 1367.51 322.514 1362.49 Q317.472 1357.45 313.675 1356.23 Q309.878 1354.99 307.308 1357.56 M304.689 1354.94 Q308.797 1350.83 314.215 1351.93 Q319.633 1352.99 325.82 1359.18 Q331.991 1365.35 333.071 1370.79 Q334.151 1376.19 330.043 1380.3 Q325.935 1384.4 320.517 1383.34 Q315.099 1382.24 308.928 1376.07 Q302.741 1369.89 301.661 1364.48 Q300.58 1359.05 304.689 1354.94 Z\" fill=\"#000000\" fill-rule=\"evenodd\" fill-opacity=\"1\" /><path clip-path=\"url(#clip330)\" d=\"M 0 0 M339.389 1364.44 L344.791 1359.03 L326.147 1340.39 L321.45 1347.44 L318.438 1344.43 L323.103 1337.41 L326.409 1334.1 L348.064 1355.76 L353.466 1350.36 L356.248 1353.14 L342.172 1367.22 L339.389 1364.44 Z\" fill=\"#000000\" fill-rule=\"evenodd\" fill-opacity=\"1\" /><path clip-path=\"url(#clip330)\" d=\"M 0 0 M347.361 1340.98 L356.183 1332.16 L358.867 1334.84 L350.045 1343.66 L347.361 1340.98 Z\" fill=\"#000000\" fill-rule=\"evenodd\" fill-opacity=\"1\" /><path clip-path=\"url(#clip330)\" d=\"M 0 0 M370.358 1333.47 L381.897 1321.93 L384.68 1324.71 L369.163 1340.23 L366.38 1337.44 Q366.315 1333.61 366.282 1327.1 Q366.249 1320.55 366.135 1318.77 Q365.938 1315.4 365.333 1313.55 Q364.727 1311.66 363.532 1310.47 Q361.584 1308.52 358.982 1308.67 Q356.396 1308.8 354.202 1310.99 Q352.647 1312.55 351.453 1314.82 Q350.274 1317.08 349.407 1320.14 L346.067 1316.8 Q347.262 1314 348.588 1311.86 Q349.914 1309.72 351.354 1308.28 Q355.152 1304.48 359.309 1304.12 Q363.467 1303.76 366.642 1306.93 Q368.148 1308.44 368.934 1310.37 Q369.719 1312.27 370.063 1315.59 Q370.129 1316.48 370.21 1320.94 Q370.276 1325.4 370.358 1333.47 Z\" fill=\"#000000\" fill-rule=\"evenodd\" fill-opacity=\"1\" /><path clip-path=\"url(#clip330)\" d=\"M 0 0 M382.208 1300.11 Q379.982 1302.33 380.195 1305.17 Q380.424 1307.98 383.076 1310.63 Q385.711 1313.27 388.543 1313.51 Q391.374 1313.73 393.6 1311.5 Q395.827 1309.27 395.597 1306.46 Q395.368 1303.61 392.733 1300.98 Q390.081 1298.32 387.25 1298.11 Q384.434 1297.88 382.208 1300.11 M378.411 1283.18 L381.423 1286.2 Q379.589 1286.85 378.002 1287.82 Q376.43 1288.77 375.186 1290.01 Q371.913 1293.28 372.387 1297.23 Q372.878 1301.16 377.101 1305.87 Q376.643 1303.48 377.347 1301.27 Q378.034 1299.04 379.786 1297.29 Q383.469 1293.61 387.839 1293.72 Q392.209 1293.81 396.056 1297.65 Q399.82 1301.42 399.869 1305.92 Q399.919 1310.42 396.219 1314.12 Q391.98 1318.36 386.497 1317.36 Q380.997 1316.35 374.826 1310.17 Q369.032 1304.38 368.344 1298.19 Q367.641 1291.99 372.273 1287.36 Q373.517 1286.11 375.023 1285.1 Q376.545 1284.07 378.411 1283.18 Z\" fill=\"#000000\" fill-rule=\"evenodd\" fill-opacity=\"1\" /><path clip-path=\"url(#clip330)\" d=\"M 0 0 M442.027 1466.49 L453.567 1454.95 L456.349 1457.73 L440.832 1473.25 L438.05 1470.47 Q437.984 1466.64 437.952 1460.12 Q437.919 1453.58 437.804 1451.79 Q437.608 1448.42 437.002 1446.57 Q436.397 1444.69 435.202 1443.49 Q433.254 1441.55 430.651 1441.69 Q428.065 1441.82 425.872 1444.02 Q424.317 1445.57 423.122 1447.85 Q421.944 1450.11 421.076 1453.17 L417.737 1449.83 Q418.932 1447.03 420.258 1444.88 Q421.583 1442.74 423.024 1441.3 Q426.821 1437.5 430.979 1437.14 Q435.136 1436.78 438.312 1439.96 Q439.817 1441.46 440.603 1443.39 Q441.389 1445.29 441.733 1448.62 Q441.798 1449.5 441.88 1453.97 Q441.945 1458.42 442.027 1466.49 Z\" fill=\"#000000\" fill-rule=\"evenodd\" fill-opacity=\"1\" /><path clip-path=\"url(#clip330)\" d=\"M 0 0 M444.744 1424.82 Q442.191 1427.37 443.418 1431.18 Q444.646 1434.97 449.687 1440.01 Q454.712 1445.03 458.51 1446.28 Q462.307 1447.49 464.861 1444.93 Q467.431 1442.36 466.203 1438.58 Q464.975 1434.77 459.95 1429.74 Q454.909 1424.7 451.112 1423.49 Q447.314 1422.25 444.744 1424.82 M442.125 1422.2 Q446.234 1418.09 451.652 1419.19 Q457.07 1420.25 463.257 1426.44 Q469.427 1432.61 470.508 1438.04 Q471.588 1443.44 467.48 1447.55 Q463.371 1451.66 457.953 1450.6 Q452.536 1449.5 446.365 1443.33 Q440.178 1437.14 439.097 1431.74 Q438.017 1426.31 442.125 1422.2 Z\" fill=\"#000000\" fill-rule=\"evenodd\" fill-opacity=\"1\" /><path clip-path=\"url(#clip330)\" d=\"M 0 0 M479.101 1429.42 L490.641 1417.88 L493.423 1420.66 L477.906 1436.18 L475.124 1433.39 Q475.058 1429.56 475.025 1423.05 Q474.993 1416.5 474.878 1414.72 Q474.682 1411.35 474.076 1409.5 Q473.47 1407.61 472.275 1406.42 Q470.328 1404.47 467.725 1404.62 Q465.139 1404.75 462.946 1406.94 Q461.391 1408.5 460.196 1410.77 Q459.017 1413.03 458.15 1416.09 L454.811 1412.75 Q456.006 1409.95 457.331 1407.81 Q458.657 1405.67 460.098 1404.23 Q463.895 1400.43 468.053 1400.07 Q472.21 1399.71 475.385 1402.88 Q476.891 1404.39 477.677 1406.32 Q478.463 1408.22 478.806 1411.54 Q478.872 1412.43 478.954 1416.89 Q479.019 1421.35 479.101 1429.42 Z\" fill=\"#000000\" fill-rule=\"evenodd\" fill-opacity=\"1\" /><path clip-path=\"url(#clip330)\" d=\"M 0 0 M481.818 1387.74 Q479.265 1390.3 480.492 1394.11 Q481.72 1397.89 486.761 1402.93 Q491.786 1407.96 495.584 1409.2 Q499.381 1410.41 501.935 1407.86 Q504.504 1405.29 503.277 1401.51 Q502.049 1397.7 497.024 1392.67 Q491.983 1387.63 488.185 1386.42 Q484.388 1385.17 481.818 1387.74 M479.199 1385.12 Q483.308 1381.02 488.725 1382.11 Q494.143 1383.18 500.33 1389.36 Q506.501 1395.53 507.582 1400.97 Q508.662 1406.37 504.553 1410.48 Q500.445 1414.59 495.027 1413.52 Q489.609 1412.43 483.439 1406.26 Q477.251 1400.07 476.171 1394.67 Q475.091 1389.23 479.199 1385.12 Z\" fill=\"#000000\" fill-rule=\"evenodd\" fill-opacity=\"1\" /><path clip-path=\"url(#clip330)\" d=\"M 0 0 M503.637 1389.4 L512.459 1380.57 L515.144 1383.26 L506.321 1392.08 L503.637 1389.4 Z\" fill=\"#000000\" fill-rule=\"evenodd\" fill-opacity=\"1\" /><path clip-path=\"url(#clip330)\" d=\"M 0 0 M511.379 1358.18 Q508.826 1360.74 510.053 1364.55 Q511.281 1368.33 516.322 1373.37 Q521.347 1378.4 525.145 1379.64 Q528.942 1380.85 531.495 1378.3 Q534.065 1375.73 532.838 1371.95 Q531.61 1368.13 526.585 1363.11 Q521.544 1358.07 517.746 1356.86 Q513.949 1355.61 511.379 1358.18 M508.76 1355.56 Q512.868 1351.46 518.286 1352.55 Q523.704 1353.62 529.891 1359.8 Q536.062 1365.97 537.142 1371.41 Q538.223 1376.81 534.114 1380.92 Q530.006 1385.03 524.588 1383.96 Q519.17 1382.87 512.999 1376.69 Q506.812 1370.51 505.732 1365.11 Q504.652 1359.67 508.76 1355.56 Z\" fill=\"#000000\" fill-rule=\"evenodd\" fill-opacity=\"1\" /><path clip-path=\"url(#clip330)\" d=\"M 0 0 M545.736 1362.78 L557.275 1351.24 L560.058 1354.02 L544.541 1369.54 L541.758 1366.76 Q541.693 1362.93 541.66 1356.41 Q541.627 1349.87 541.513 1348.08 Q541.316 1344.71 540.711 1342.86 Q540.105 1340.98 538.91 1339.78 Q536.962 1337.84 534.36 1337.98 Q531.774 1338.12 529.58 1340.31 Q528.025 1341.86 526.83 1344.14 Q525.652 1346.4 524.784 1349.46 L521.445 1346.12 Q522.64 1343.32 523.966 1341.18 Q525.292 1339.03 526.732 1337.59 Q530.53 1333.79 534.687 1333.43 Q538.845 1333.07 542.02 1336.25 Q543.526 1337.76 544.312 1339.69 Q545.097 1341.59 545.441 1344.91 Q545.506 1345.79 545.588 1350.26 Q545.654 1354.71 545.736 1362.78 Z\" fill=\"#000000\" fill-rule=\"evenodd\" fill-opacity=\"1\" /><path clip-path=\"url(#clip330)\" d=\"M 0 0 M551.17 1341.86 L559.992 1333.04 L562.677 1335.73 L553.854 1344.55 L551.17 1341.86 Z\" fill=\"#000000\" fill-rule=\"evenodd\" fill-opacity=\"1\" /><path clip-path=\"url(#clip330)\" d=\"M 0 0 M558.912 1310.65 Q556.359 1313.2 557.586 1317.02 Q558.814 1320.8 563.855 1325.84 Q568.88 1330.86 572.678 1332.11 Q576.475 1333.32 579.028 1330.77 Q581.598 1328.2 580.371 1324.42 Q579.143 1320.6 574.118 1315.58 Q569.077 1310.53 565.279 1309.32 Q561.482 1308.08 558.912 1310.65 M556.293 1308.03 Q560.401 1303.92 565.819 1305.02 Q571.237 1306.08 577.424 1312.27 Q583.595 1318.44 584.675 1323.87 Q585.756 1329.28 581.647 1333.38 Q577.539 1337.49 572.121 1336.43 Q566.703 1335.33 560.532 1329.16 Q554.345 1322.97 553.265 1317.57 Q552.185 1312.14 556.293 1308.03 Z\" fill=\"#000000\" fill-rule=\"evenodd\" fill-opacity=\"1\" /><path clip-path=\"url(#clip330)\" d=\"M 0 0 M592.794 1320.27 L589.782 1317.26 Q591.615 1316.61 593.203 1315.64 Q594.791 1314.68 596.019 1313.45 Q599.292 1310.17 598.817 1306.26 Q598.343 1302.32 594.103 1297.59 Q594.562 1299.94 593.858 1302.15 Q593.154 1304.36 591.386 1306.13 Q587.72 1309.8 583.366 1309.73 Q579.012 1309.63 575.166 1305.79 Q571.401 1302.02 571.352 1297.52 Q571.303 1293.02 575.002 1289.32 Q579.241 1285.08 584.725 1286.11 Q590.208 1287.11 596.395 1293.3 Q602.173 1299.08 602.877 1305.28 Q603.581 1311.45 598.948 1316.08 Q597.704 1317.33 596.182 1318.36 Q594.66 1319.39 592.794 1320.27 M589.013 1303.33 Q591.239 1301.11 591.01 1298.29 Q590.797 1295.46 588.145 1292.81 Q585.51 1290.17 582.678 1289.96 Q579.847 1289.71 577.621 1291.94 Q575.395 1294.17 575.624 1297.01 Q575.853 1299.83 578.488 1302.47 Q581.14 1305.12 583.955 1305.35 Q586.787 1305.56 589.013 1303.33 Z\" fill=\"#000000\" fill-rule=\"evenodd\" fill-opacity=\"1\" /><path clip-path=\"url(#clip330)\" d=\"M 0 0 M648.177 1465.03 L659.717 1453.49 L662.499 1456.28 L646.982 1471.79 L644.2 1469.01 Q644.134 1465.18 644.102 1458.67 Q644.069 1452.12 643.954 1450.34 Q643.758 1446.96 643.152 1445.11 Q642.547 1443.23 641.352 1442.04 Q639.404 1440.09 636.801 1440.24 Q634.215 1440.37 632.022 1442.56 Q630.467 1444.12 629.272 1446.39 Q628.093 1448.65 627.226 1451.71 L623.887 1448.37 Q625.082 1445.57 626.408 1443.43 Q627.733 1441.28 629.174 1439.84 Q632.971 1436.05 637.129 1435.69 Q641.286 1435.33 644.462 1438.5 Q645.967 1440.01 646.753 1441.94 Q647.539 1443.84 647.883 1447.16 Q647.948 1448.04 648.03 1452.51 Q648.095 1456.96 648.177 1465.03 Z\" fill=\"#000000\" fill-rule=\"evenodd\" fill-opacity=\"1\" /><path clip-path=\"url(#clip330)\" d=\"M 0 0 M650.894 1423.36 Q648.341 1425.91 649.568 1429.73 Q650.796 1433.51 655.837 1438.55 Q660.862 1443.57 664.66 1444.82 Q668.457 1446.03 671.011 1443.48 Q673.58 1440.91 672.353 1437.13 Q671.125 1433.31 666.1 1428.29 Q661.059 1423.25 657.261 1422.03 Q653.464 1420.79 650.894 1423.36 M648.275 1420.74 Q652.384 1416.63 657.802 1417.73 Q663.219 1418.79 669.407 1424.98 Q675.577 1431.15 676.658 1436.59 Q677.738 1441.99 673.63 1446.1 Q669.521 1450.2 664.103 1449.14 Q658.686 1448.04 652.515 1441.87 Q646.328 1435.69 645.247 1430.28 Q644.167 1424.85 648.275 1420.74 Z\" fill=\"#000000\" fill-rule=\"evenodd\" fill-opacity=\"1\" /><path clip-path=\"url(#clip330)\" d=\"M 0 0 M685.251 1427.96 L696.791 1416.42 L699.573 1419.2 L684.056 1434.72 L681.274 1431.94 Q681.208 1428.11 681.175 1421.59 Q681.143 1415.05 681.028 1413.26 Q680.832 1409.89 680.226 1408.04 Q679.62 1406.16 678.425 1404.96 Q676.478 1403.01 673.875 1403.16 Q671.289 1403.29 669.096 1405.49 Q667.541 1407.04 666.346 1409.32 Q665.167 1411.58 664.3 1414.64 L660.961 1411.3 Q662.156 1408.5 663.481 1406.35 Q664.807 1404.21 666.248 1402.77 Q670.045 1398.97 674.202 1398.61 Q678.36 1398.25 681.535 1401.43 Q683.041 1402.93 683.827 1404.86 Q684.613 1406.76 684.956 1410.09 Q685.022 1410.97 685.104 1415.44 Q685.169 1419.89 685.251 1427.96 Z\" fill=\"#000000\" fill-rule=\"evenodd\" fill-opacity=\"1\" /><path clip-path=\"url(#clip330)\" d=\"M 0 0 M687.968 1386.29 Q685.415 1388.84 686.642 1392.65 Q687.87 1396.43 692.911 1401.48 Q697.936 1406.5 701.734 1407.75 Q705.531 1408.96 708.085 1406.4 Q710.654 1403.83 709.427 1400.05 Q708.199 1396.24 703.174 1391.21 Q698.133 1386.17 694.335 1384.96 Q690.538 1383.72 687.968 1386.29 M685.349 1383.67 Q689.458 1379.56 694.875 1380.66 Q700.293 1381.72 706.48 1387.91 Q712.651 1394.08 713.732 1399.51 Q714.812 1404.91 710.703 1409.02 Q706.595 1413.13 701.177 1412.07 Q695.759 1410.97 689.589 1404.8 Q683.401 1398.61 682.321 1393.21 Q681.241 1387.78 685.349 1383.67 Z\" fill=\"#000000\" fill-rule=\"evenodd\" fill-opacity=\"1\" /><path clip-path=\"url(#clip330)\" d=\"M 0 0 M709.787 1387.94 L718.609 1379.12 L721.294 1381.8 L712.471 1390.62 L709.787 1387.94 Z\" fill=\"#000000\" fill-rule=\"evenodd\" fill-opacity=\"1\" /><path clip-path=\"url(#clip330)\" d=\"M 0 0 M717.529 1356.73 Q714.975 1359.28 716.203 1363.09 Q717.431 1366.87 722.472 1371.92 Q727.497 1376.94 731.295 1378.18 Q735.092 1379.4 737.645 1376.84 Q740.215 1374.27 738.988 1370.49 Q737.76 1366.68 732.735 1361.65 Q727.694 1356.61 723.896 1355.4 Q720.099 1354.16 717.529 1356.73 M714.91 1354.11 Q719.018 1350 724.436 1351.1 Q729.854 1352.16 736.041 1358.35 Q742.212 1364.52 743.292 1369.95 Q744.373 1375.35 740.264 1379.46 Q736.156 1383.57 730.738 1382.51 Q725.32 1381.41 719.149 1375.24 Q712.962 1369.05 711.882 1363.65 Q710.802 1358.22 714.91 1354.11 Z\" fill=\"#000000\" fill-rule=\"evenodd\" fill-opacity=\"1\" /><path clip-path=\"url(#clip330)\" d=\"M 0 0 M751.886 1361.33 L763.425 1349.79 L766.208 1352.57 L750.691 1368.09 L747.908 1365.3 Q747.843 1361.47 747.81 1354.96 Q747.777 1348.41 747.663 1346.63 Q747.466 1343.25 746.861 1341.41 Q746.255 1339.52 745.06 1338.33 Q743.112 1336.38 740.51 1336.53 Q737.924 1336.66 735.73 1338.85 Q734.175 1340.41 732.98 1342.68 Q731.802 1344.94 730.934 1348 L727.595 1344.66 Q728.79 1341.86 730.116 1339.72 Q731.442 1337.58 732.882 1336.13 Q736.68 1332.34 740.837 1331.98 Q744.995 1331.62 748.17 1334.79 Q749.676 1336.3 750.462 1338.23 Q751.247 1340.13 751.591 1343.45 Q751.656 1344.34 751.738 1348.8 Q751.804 1353.26 751.886 1361.33 Z\" fill=\"#000000\" fill-rule=\"evenodd\" fill-opacity=\"1\" /><path clip-path=\"url(#clip330)\" d=\"M 0 0 M757.32 1340.41 L766.142 1331.58 L768.827 1334.27 L760.004 1343.09 L757.32 1340.41 Z\" fill=\"#000000\" fill-rule=\"evenodd\" fill-opacity=\"1\" /><path clip-path=\"url(#clip330)\" d=\"M 0 0 M780.317 1332.89 L791.857 1321.35 L794.639 1324.14 L779.122 1339.65 L776.34 1336.87 Q776.274 1333.04 776.241 1326.53 Q776.209 1319.98 776.094 1318.2 Q775.898 1314.82 775.292 1312.97 Q774.686 1311.09 773.492 1309.9 Q771.544 1307.95 768.941 1308.1 Q766.355 1308.23 764.162 1310.42 Q762.607 1311.98 761.412 1314.25 Q760.233 1316.51 759.366 1319.57 L756.027 1316.23 Q757.222 1313.43 758.547 1311.29 Q759.873 1309.14 761.314 1307.7 Q765.111 1303.91 769.269 1303.55 Q773.426 1303.19 776.601 1306.36 Q778.107 1307.87 778.893 1309.8 Q779.679 1311.7 780.022 1315.02 Q780.088 1315.9 780.17 1320.37 Q780.235 1324.82 780.317 1332.89 Z\" fill=\"#000000\" fill-rule=\"evenodd\" fill-opacity=\"1\" /><path clip-path=\"url(#clip330)\" d=\"M 0 0 M795.065 1297.36 Q797.946 1295.49 800.875 1295.77 Q803.822 1296.03 806.179 1298.39 Q809.796 1302.01 809.289 1306.48 Q808.781 1310.94 804.198 1315.53 Q802.66 1317.07 800.712 1318.39 Q798.797 1319.72 796.456 1320.85 L793.264 1317.65 Q795.441 1317.08 797.487 1315.85 Q799.533 1314.63 801.317 1312.84 Q804.427 1309.73 804.82 1306.88 Q805.229 1304.02 802.889 1301.68 Q800.728 1299.52 797.995 1299.83 Q795.261 1300.11 792.56 1302.81 L789.712 1305.66 L786.995 1302.94 L789.974 1299.96 Q792.413 1297.52 792.74 1295.26 Q793.051 1292.99 791.218 1291.16 Q789.336 1289.27 786.995 1289.62 Q784.655 1289.93 782.167 1292.42 Q780.808 1293.77 779.548 1295.62 Q778.287 1297.47 777.043 1299.96 L774.097 1297.01 Q775.456 1294.61 776.831 1292.71 Q778.222 1290.79 779.679 1289.34 Q783.443 1285.57 787.355 1285.1 Q791.251 1284.61 794.164 1287.52 Q796.194 1289.55 796.44 1292.12 Q796.669 1294.67 795.065 1297.36 Z\" fill=\"#000000\" fill-rule=\"evenodd\" fill-opacity=\"1\" /><path clip-path=\"url(#clip330)\" d=\"M 0 0 M850.677 1467.23 L862.217 1455.69 L864.999 1458.47 L849.482 1473.99 L846.7 1471.2 Q846.634 1467.37 846.601 1460.86 Q846.569 1454.31 846.454 1452.53 Q846.258 1449.16 845.652 1447.31 Q845.046 1445.42 843.852 1444.23 Q841.904 1442.28 839.301 1442.43 Q836.715 1442.56 834.522 1444.75 Q832.967 1446.31 831.772 1448.58 Q830.593 1450.84 829.726 1453.9 L826.387 1450.56 Q827.582 1447.77 828.907 1445.62 Q830.233 1443.48 831.674 1442.04 Q835.471 1438.24 839.629 1437.88 Q843.786 1437.52 846.961 1440.69 Q848.467 1442.2 849.253 1444.13 Q850.039 1446.03 850.382 1449.35 Q850.448 1450.24 850.53 1454.71 Q850.595 1459.16 850.677 1467.23 Z\" fill=\"#000000\" fill-rule=\"evenodd\" fill-opacity=\"1\" /><path clip-path=\"url(#clip330)\" d=\"M 0 0 M853.394 1425.55 Q850.841 1428.11 852.068 1431.92 Q853.296 1435.7 858.337 1440.74 Q863.362 1445.77 867.16 1447.01 Q870.957 1448.22 873.511 1445.67 Q876.08 1443.1 874.853 1439.32 Q873.625 1435.51 868.6 1430.48 Q863.559 1425.44 859.761 1424.23 Q855.964 1422.98 853.394 1425.55 M850.775 1422.93 Q854.884 1418.83 860.302 1419.92 Q865.719 1420.99 871.907 1427.17 Q878.077 1433.34 879.158 1438.78 Q880.238 1444.18 876.129 1448.29 Q872.021 1452.4 866.603 1451.33 Q861.185 1450.24 855.015 1444.07 Q848.827 1437.88 847.747 1432.48 Q846.667 1427.04 850.775 1422.93 Z\" fill=\"#000000\" fill-rule=\"evenodd\" fill-opacity=\"1\" /><path clip-path=\"url(#clip330)\" d=\"M 0 0 M887.751 1430.15 L899.29 1418.61 L902.073 1421.4 L886.556 1436.91 L883.773 1434.13 Q883.708 1430.3 883.675 1423.79 Q883.642 1417.24 883.528 1415.45 Q883.331 1412.08 882.726 1410.23 Q882.12 1408.35 880.925 1407.16 Q878.978 1405.21 876.375 1405.36 Q873.789 1405.49 871.596 1407.68 Q870.041 1409.23 868.846 1411.51 Q867.667 1413.77 866.8 1416.83 L863.461 1413.49 Q864.655 1410.69 865.981 1408.55 Q867.307 1406.4 868.747 1404.96 Q872.545 1401.17 876.702 1400.81 Q880.86 1400.44 884.035 1403.62 Q885.541 1405.13 886.327 1407.06 Q887.112 1408.96 887.456 1412.28 Q887.522 1413.16 887.604 1417.63 Q887.669 1422.08 887.751 1430.15 Z\" fill=\"#000000\" fill-rule=\"evenodd\" fill-opacity=\"1\" /><path clip-path=\"url(#clip330)\" d=\"M 0 0 M890.468 1388.48 Q887.915 1391.03 889.142 1394.85 Q890.37 1398.63 895.411 1403.67 Q900.436 1408.69 904.234 1409.94 Q908.031 1411.15 910.584 1408.6 Q913.154 1406.03 911.927 1402.25 Q910.699 1398.43 905.674 1393.41 Q900.633 1388.37 896.835 1387.15 Q893.038 1385.91 890.468 1388.48 M887.849 1385.86 Q891.957 1381.75 897.375 1382.85 Q902.793 1383.91 908.98 1390.1 Q915.151 1396.27 916.231 1401.71 Q917.312 1407.11 913.203 1411.22 Q909.095 1415.32 903.677 1414.26 Q898.259 1413.16 892.088 1406.99 Q885.901 1400.81 884.821 1395.4 Q883.741 1389.97 887.849 1385.86 Z\" fill=\"#000000\" fill-rule=\"evenodd\" fill-opacity=\"1\" /><path clip-path=\"url(#clip330)\" d=\"M 0 0 M912.287 1390.13 L921.109 1381.31 L923.793 1384 L914.971 1392.82 L912.287 1390.13 Z\" fill=\"#000000\" fill-rule=\"evenodd\" fill-opacity=\"1\" /><path clip-path=\"url(#clip330)\" d=\"M 0 0 M920.029 1358.92 Q917.475 1361.47 918.703 1365.29 Q919.931 1369.07 924.972 1374.11 Q929.997 1379.13 933.794 1380.38 Q937.592 1381.59 940.145 1379.04 Q942.715 1376.47 941.487 1372.68 Q940.26 1368.87 935.235 1363.85 Q930.193 1358.8 926.396 1357.59 Q922.599 1356.35 920.029 1358.92 M917.41 1356.3 Q921.518 1352.19 926.936 1353.29 Q932.354 1354.35 938.541 1360.54 Q944.712 1366.71 945.792 1372.14 Q946.873 1377.55 942.764 1381.65 Q938.656 1385.76 933.238 1384.7 Q927.82 1383.6 921.649 1377.43 Q915.462 1371.24 914.382 1365.84 Q913.301 1360.41 917.41 1356.3 Z\" fill=\"#000000\" fill-rule=\"evenodd\" fill-opacity=\"1\" /><path clip-path=\"url(#clip330)\" d=\"M 0 0 M951.161 1345.96 Q954.042 1344.09 956.972 1344.37 Q959.918 1344.63 962.275 1346.99 Q965.892 1350.6 965.385 1355.07 Q964.877 1359.54 960.294 1364.12 Q958.756 1365.66 956.808 1366.99 Q954.893 1368.31 952.552 1369.44 L949.36 1366.25 Q951.537 1365.68 953.583 1364.45 Q955.629 1363.22 957.414 1361.44 Q960.524 1358.33 960.916 1355.48 Q961.326 1352.62 958.985 1350.28 Q956.824 1348.12 954.091 1348.43 Q951.357 1348.71 948.657 1351.41 L945.809 1354.25 L943.091 1351.54 L946.07 1348.56 Q948.509 1346.12 948.837 1343.86 Q949.148 1341.59 947.314 1339.75 Q945.432 1337.87 943.091 1338.21 Q940.751 1338.52 938.263 1341.01 Q936.904 1342.37 935.644 1344.22 Q934.384 1346.07 933.14 1348.56 L930.193 1345.61 Q931.552 1343.21 932.927 1341.31 Q934.318 1339.39 935.775 1337.94 Q939.54 1334.17 943.452 1333.7 Q947.347 1333.2 950.261 1336.12 Q952.29 1338.15 952.536 1340.72 Q952.765 1343.27 951.161 1345.96 Z\" fill=\"#000000\" fill-rule=\"evenodd\" fill-opacity=\"1\" /><path clip-path=\"url(#clip330)\" d=\"M 0 0 M960.491 1341.93 L969.313 1333.11 L971.998 1335.79 L963.175 1344.61 L960.491 1341.93 Z\" fill=\"#000000\" fill-rule=\"evenodd\" fill-opacity=\"1\" /><path clip-path=\"url(#clip330)\" d=\"M 0 0 M968.233 1310.71 Q965.679 1313.27 966.907 1317.08 Q968.135 1320.86 973.176 1325.9 Q978.201 1330.93 981.999 1332.17 Q985.796 1333.38 988.349 1330.83 Q990.919 1328.26 989.692 1324.48 Q988.464 1320.67 983.439 1315.64 Q978.398 1310.6 974.6 1309.39 Q970.803 1308.15 968.233 1310.71 M965.614 1308.1 Q969.722 1303.99 975.14 1305.08 Q980.558 1306.15 986.745 1312.34 Q992.916 1318.51 993.996 1323.94 Q995.077 1329.34 990.968 1333.45 Q986.86 1337.56 981.442 1336.49 Q976.024 1335.4 969.853 1329.23 Q963.666 1323.04 962.586 1317.64 Q961.506 1312.2 965.614 1308.1 Z\" fill=\"#000000\" fill-rule=\"evenodd\" fill-opacity=\"1\" /><path clip-path=\"url(#clip330)\" d=\"M 0 0 M997.99 1302.27 Q995.633 1304.63 995.535 1307.24 Q995.453 1309.85 997.663 1312.06 Q999.873 1314.27 1002.48 1314.18 Q1005.09 1314.09 1007.45 1311.73 Q1009.81 1309.37 1009.91 1306.75 Q1009.99 1304.12 1007.79 1301.93 Q1005.58 1299.72 1002.97 1299.81 Q1000.36 1299.9 997.99 1302.27 M993.276 1304.17 Q990.625 1305.77 987.973 1305.51 Q985.338 1305.23 983.242 1303.14 Q980.313 1300.21 980.689 1296.43 Q981.082 1292.63 984.716 1288.99 Q988.366 1285.34 992.147 1284.97 Q995.928 1284.59 998.858 1287.52 Q1000.95 1289.62 1001.21 1292.27 Q1001.49 1294.9 999.905 1297.54 Q1002.85 1295.71 1005.8 1296 Q1008.76 1296.28 1011.1 1298.62 Q1014.65 1302.17 1014.37 1306.25 Q1014.11 1310.31 1010.07 1314.35 Q1006.03 1318.39 1001.95 1318.67 Q997.892 1318.93 994.34 1315.38 Q991.999 1313.04 991.721 1310.08 Q991.443 1307.11 993.276 1304.17 M986.843 1300.16 Q988.742 1302.06 990.985 1301.94 Q993.243 1301.81 995.388 1299.67 Q997.515 1297.54 997.646 1295.28 Q997.794 1293 995.895 1291.11 Q993.996 1289.21 991.721 1289.35 Q989.462 1289.49 987.335 1291.61 Q985.19 1293.76 985.059 1296.02 Q984.945 1298.26 986.843 1300.16 Z\" fill=\"#000000\" fill-rule=\"evenodd\" fill-opacity=\"1\" /><path clip-path=\"url(#clip330)\" d=\"M 0 0 M1057.56 1465.03 L1069.1 1453.49 L1071.89 1456.28 L1056.37 1471.79 L1053.59 1469.01 Q1053.52 1465.18 1053.49 1458.67 Q1053.46 1452.12 1053.34 1450.34 Q1053.14 1446.96 1052.54 1445.11 Q1051.93 1443.23 1050.74 1442.04 Q1048.79 1440.09 1046.19 1440.24 Q1043.6 1440.37 1041.41 1442.56 Q1039.85 1444.12 1038.66 1446.39 Q1037.48 1448.65 1036.61 1451.71 L1033.27 1448.37 Q1034.47 1445.57 1035.79 1443.43 Q1037.12 1441.28 1038.56 1439.84 Q1042.36 1436.05 1046.52 1435.69 Q1050.67 1435.33 1053.85 1438.5 Q1055.35 1440.01 1056.14 1441.94 Q1056.93 1443.84 1057.27 1447.16 Q1057.33 1448.04 1057.42 1452.51 Q1057.48 1456.96 1057.56 1465.03 Z\" fill=\"#000000\" fill-rule=\"evenodd\" fill-opacity=\"1\" /><path clip-path=\"url(#clip330)\" d=\"M 0 0 M1060.28 1423.36 Q1057.73 1425.91 1058.95 1429.73 Q1060.18 1433.51 1065.22 1438.55 Q1070.25 1443.57 1074.05 1444.82 Q1077.84 1446.03 1080.4 1443.48 Q1082.97 1440.91 1081.74 1437.13 Q1080.51 1433.31 1075.49 1428.29 Q1070.45 1423.25 1066.65 1422.03 Q1062.85 1420.79 1060.28 1423.36 M1057.66 1420.74 Q1061.77 1416.63 1067.19 1417.73 Q1072.61 1418.79 1078.79 1424.98 Q1084.96 1431.15 1086.04 1436.59 Q1087.12 1441.99 1083.02 1446.1 Q1078.91 1450.2 1073.49 1449.14 Q1068.07 1448.04 1061.9 1441.87 Q1055.71 1435.69 1054.63 1430.28 Q1053.55 1424.85 1057.66 1420.74 Z\" fill=\"#000000\" fill-rule=\"evenodd\" fill-opacity=\"1\" /><path clip-path=\"url(#clip330)\" d=\"M 0 0 M1094.64 1427.96 L1106.18 1416.42 L1108.96 1419.2 L1093.44 1434.72 L1090.66 1431.94 Q1090.59 1428.11 1090.56 1421.59 Q1090.53 1415.05 1090.41 1413.26 Q1090.22 1409.89 1089.61 1408.04 Q1089.01 1406.16 1087.81 1404.96 Q1085.86 1403.01 1083.26 1403.16 Q1080.68 1403.29 1078.48 1405.49 Q1076.93 1407.04 1075.73 1409.32 Q1074.55 1411.58 1073.69 1414.64 L1070.35 1411.3 Q1071.54 1408.5 1072.87 1406.35 Q1074.19 1404.21 1075.63 1402.77 Q1079.43 1398.97 1083.59 1398.61 Q1087.75 1398.25 1090.92 1401.43 Q1092.43 1402.93 1093.21 1404.86 Q1094 1406.76 1094.34 1410.09 Q1094.41 1410.97 1094.49 1415.44 Q1094.56 1419.89 1094.64 1427.96 Z\" fill=\"#000000\" fill-rule=\"evenodd\" fill-opacity=\"1\" /><path clip-path=\"url(#clip330)\" d=\"M 0 0 M1097.35 1386.29 Q1094.8 1388.84 1096.03 1392.65 Q1097.26 1396.43 1102.3 1401.48 Q1107.32 1406.5 1111.12 1407.75 Q1114.92 1408.96 1117.47 1406.4 Q1120.04 1403.83 1118.81 1400.05 Q1117.59 1396.24 1112.56 1391.21 Q1107.52 1386.17 1103.72 1384.96 Q1099.92 1383.72 1097.35 1386.29 M1094.74 1383.67 Q1098.84 1379.56 1104.26 1380.66 Q1109.68 1381.72 1115.87 1387.91 Q1122.04 1394.08 1123.12 1399.51 Q1124.2 1404.91 1120.09 1409.02 Q1115.98 1413.13 1110.56 1412.07 Q1105.15 1410.97 1098.97 1404.8 Q1092.79 1398.61 1091.71 1393.21 Q1090.63 1387.78 1094.74 1383.67 Z\" fill=\"#000000\" fill-rule=\"evenodd\" fill-opacity=\"1\" /><path clip-path=\"url(#clip330)\" d=\"M 0 0 M1119.17 1387.94 L1128 1379.12 L1130.68 1381.8 L1121.86 1390.62 L1119.17 1387.94 Z\" fill=\"#000000\" fill-rule=\"evenodd\" fill-opacity=\"1\" /><path clip-path=\"url(#clip330)\" d=\"M 0 0 M1126.92 1356.73 Q1124.36 1359.28 1125.59 1363.09 Q1126.82 1366.87 1131.86 1371.92 Q1136.88 1376.94 1140.68 1378.18 Q1144.48 1379.4 1147.03 1376.84 Q1149.6 1374.27 1148.37 1370.49 Q1147.15 1366.68 1142.12 1361.65 Q1137.08 1356.61 1133.28 1355.4 Q1129.49 1354.16 1126.92 1356.73 M1124.3 1354.11 Q1128.4 1350 1133.82 1351.1 Q1139.24 1352.16 1145.43 1358.35 Q1151.6 1364.52 1152.68 1369.95 Q1153.76 1375.35 1149.65 1379.46 Q1145.54 1383.57 1140.12 1382.51 Q1134.71 1381.41 1128.54 1375.24 Q1122.35 1369.05 1121.27 1363.65 Q1120.19 1358.22 1124.3 1354.11 Z\" fill=\"#000000\" fill-rule=\"evenodd\" fill-opacity=\"1\" /><path clip-path=\"url(#clip330)\" d=\"M 0 0 M1158.05 1343.76 Q1160.93 1341.9 1163.86 1342.17 Q1166.8 1342.44 1169.16 1344.79 Q1172.78 1348.41 1172.27 1352.88 Q1171.76 1357.35 1167.18 1361.93 Q1165.64 1363.47 1163.69 1364.8 Q1161.78 1366.12 1159.44 1367.25 L1156.25 1364.06 Q1158.42 1363.49 1160.47 1362.26 Q1162.52 1361.03 1164.3 1359.25 Q1167.41 1356.14 1167.8 1353.29 Q1168.21 1350.42 1165.87 1348.08 Q1163.71 1345.92 1160.98 1346.23 Q1158.24 1346.51 1155.54 1349.21 L1152.7 1352.06 L1149.98 1349.34 L1152.96 1346.36 Q1155.4 1343.93 1155.72 1341.67 Q1156.03 1339.39 1154.2 1337.56 Q1152.32 1335.68 1149.98 1336.02 Q1147.64 1336.33 1145.15 1338.82 Q1143.79 1340.18 1142.53 1342.03 Q1141.27 1343.88 1140.03 1346.36 L1137.08 1343.42 Q1138.44 1341.01 1139.81 1339.11 Q1141.2 1337.2 1142.66 1335.74 Q1146.43 1331.98 1150.34 1331.5 Q1154.23 1331.01 1157.15 1333.92 Q1159.18 1335.95 1159.42 1338.52 Q1159.65 1341.08 1158.05 1343.76 Z\" fill=\"#000000\" fill-rule=\"evenodd\" fill-opacity=\"1\" /><path clip-path=\"url(#clip330)\" d=\"M 0 0 M1167.38 1339.74 L1176.2 1330.91 L1178.88 1333.6 L1170.06 1342.42 L1167.38 1339.74 Z\" fill=\"#000000\" fill-rule=\"evenodd\" fill-opacity=\"1\" /><path clip-path=\"url(#clip330)\" d=\"M 0 0 M1190.37 1332.22 L1201.91 1320.68 L1204.7 1323.47 L1189.18 1338.98 L1186.4 1336.2 Q1186.33 1332.37 1186.3 1325.86 Q1186.27 1319.31 1186.15 1317.52 Q1185.96 1314.15 1185.35 1312.3 Q1184.74 1310.42 1183.55 1309.23 Q1181.6 1307.28 1179 1307.42 Q1176.41 1307.56 1174.22 1309.75 Q1172.66 1311.3 1171.47 1313.58 Q1170.29 1315.84 1169.42 1318.9 L1166.08 1315.56 Q1167.28 1312.76 1168.6 1310.62 Q1169.93 1308.47 1171.37 1307.03 Q1175.17 1303.23 1179.33 1302.87 Q1183.48 1302.51 1186.66 1305.69 Q1188.16 1307.2 1188.95 1309.13 Q1189.74 1311.03 1190.08 1314.35 Q1190.15 1315.23 1190.23 1319.7 Q1190.29 1324.15 1190.37 1332.22 Z\" fill=\"#000000\" fill-rule=\"evenodd\" fill-opacity=\"1\" /><path clip-path=\"url(#clip330)\" d=\"M 0 0 M1208.35 1314.25 L1219.89 1302.71 L1222.67 1305.49 L1207.15 1321.01 L1204.37 1318.23 Q1204.3 1314.4 1204.27 1307.88 Q1204.24 1301.34 1204.12 1299.55 Q1203.93 1296.18 1203.32 1294.33 Q1202.72 1292.45 1201.52 1291.25 Q1199.57 1289.31 1196.97 1289.45 Q1194.38 1289.58 1192.19 1291.78 Q1190.64 1293.33 1189.44 1295.61 Q1188.26 1297.87 1187.4 1300.93 L1184.06 1297.59 Q1185.25 1294.79 1186.58 1292.64 Q1187.9 1290.5 1189.34 1289.06 Q1193.14 1285.26 1197.3 1284.9 Q1201.46 1284.54 1204.63 1287.72 Q1206.14 1289.22 1206.92 1291.16 Q1207.71 1293.05 1208.05 1296.38 Q1208.12 1297.26 1208.2 1301.73 Q1208.26 1306.18 1208.35 1314.25 Z\" fill=\"#000000\" fill-rule=\"evenodd\" fill-opacity=\"1\" /><path clip-path=\"url(#clip330)\" d=\"M 0 0 M1259.9 1467.39 L1271.44 1455.85 L1274.22 1458.63 L1258.7 1474.15 L1255.92 1471.37 Q1255.86 1467.54 1255.82 1461.02 Q1255.79 1454.48 1255.68 1452.69 Q1255.48 1449.32 1254.87 1447.47 Q1254.27 1445.59 1253.07 1444.39 Q1251.13 1442.45 1248.52 1442.59 Q1245.94 1442.72 1243.74 1444.92 Q1242.19 1446.47 1240.99 1448.75 Q1239.82 1451.01 1238.95 1454.07 L1235.61 1450.73 Q1236.8 1447.93 1238.13 1445.78 Q1239.46 1443.64 1240.9 1442.2 Q1244.69 1438.4 1248.85 1438.04 Q1253.01 1437.68 1256.18 1440.86 Q1257.69 1442.36 1258.48 1444.3 Q1259.26 1446.19 1259.61 1449.52 Q1259.67 1450.4 1259.75 1454.87 Q1259.82 1459.32 1259.9 1467.39 Z\" fill=\"#000000\" fill-rule=\"evenodd\" fill-opacity=\"1\" /><path clip-path=\"url(#clip330)\" d=\"M 0 0 M1262.62 1425.72 Q1260.06 1428.27 1261.29 1432.08 Q1262.52 1435.87 1267.56 1440.91 Q1272.59 1445.93 1276.38 1447.18 Q1280.18 1448.39 1282.73 1445.83 Q1285.3 1443.26 1284.08 1439.48 Q1282.85 1435.67 1277.82 1430.64 Q1272.78 1425.6 1268.98 1424.39 Q1265.19 1423.15 1262.62 1425.72 M1260 1423.1 Q1264.11 1418.99 1269.52 1420.09 Q1274.94 1421.15 1281.13 1427.34 Q1287.3 1433.51 1288.38 1438.94 Q1289.46 1444.34 1285.35 1448.45 Q1281.24 1452.56 1275.83 1451.5 Q1270.41 1450.4 1264.24 1444.23 Q1258.05 1438.04 1256.97 1432.64 Q1255.89 1427.21 1260 1423.1 Z\" fill=\"#000000\" fill-rule=\"evenodd\" fill-opacity=\"1\" /><path clip-path=\"url(#clip330)\" d=\"M 0 0 M1296.97 1430.32 L1308.51 1418.78 L1311.3 1421.56 L1295.78 1437.08 L1293 1434.29 Q1292.93 1430.46 1292.9 1423.95 Q1292.87 1417.4 1292.75 1415.62 Q1292.55 1412.25 1291.95 1410.4 Q1291.34 1408.51 1290.15 1407.32 Q1288.2 1405.37 1285.6 1405.52 Q1283.01 1405.65 1280.82 1407.84 Q1279.26 1409.4 1278.07 1411.67 Q1276.89 1413.93 1276.02 1416.99 L1272.68 1413.65 Q1273.88 1410.86 1275.2 1408.71 Q1276.53 1406.57 1277.97 1405.13 Q1281.77 1401.33 1285.93 1400.97 Q1290.08 1400.61 1293.26 1403.78 Q1294.76 1405.29 1295.55 1407.22 Q1296.34 1409.12 1296.68 1412.44 Q1296.74 1413.33 1296.83 1417.8 Q1296.89 1422.25 1296.97 1430.32 Z\" fill=\"#000000\" fill-rule=\"evenodd\" fill-opacity=\"1\" /><path clip-path=\"url(#clip330)\" d=\"M 0 0 M1299.69 1388.64 Q1297.14 1391.2 1298.36 1395.01 Q1299.59 1398.79 1304.63 1403.83 Q1309.66 1408.86 1313.46 1410.1 Q1317.25 1411.31 1319.81 1408.76 Q1322.38 1406.19 1321.15 1402.41 Q1319.92 1398.6 1314.9 1393.57 Q1309.86 1388.53 1306.06 1387.32 Q1302.26 1386.07 1299.69 1388.64 M1297.07 1386.02 Q1301.18 1381.92 1306.6 1383.01 Q1312.02 1384.08 1318.2 1390.26 Q1324.37 1396.43 1325.45 1401.87 Q1326.53 1407.27 1322.43 1411.38 Q1318.32 1415.49 1312.9 1414.42 Q1307.48 1413.33 1301.31 1407.16 Q1295.12 1400.97 1294.04 1395.57 Q1292.96 1390.13 1297.07 1386.02 Z\" fill=\"#000000\" fill-rule=\"evenodd\" fill-opacity=\"1\" /><path clip-path=\"url(#clip330)\" d=\"M 0 0 M1321.51 1390.3 L1330.33 1381.47 L1333.02 1384.16 L1324.19 1392.98 L1321.51 1390.3 Z\" fill=\"#000000\" fill-rule=\"evenodd\" fill-opacity=\"1\" /><path clip-path=\"url(#clip330)\" d=\"M 0 0 M1329.25 1359.08 Q1326.7 1361.64 1327.93 1365.45 Q1329.15 1369.23 1334.19 1374.27 Q1339.22 1379.3 1343.02 1380.54 Q1346.81 1381.75 1349.37 1379.2 Q1351.94 1376.63 1350.71 1372.85 Q1349.48 1369.03 1344.46 1364.01 Q1339.42 1358.97 1335.62 1357.76 Q1331.82 1356.51 1329.25 1359.08 M1326.63 1356.46 Q1330.74 1352.36 1336.16 1353.45 Q1341.58 1354.52 1347.76 1360.7 Q1353.93 1366.87 1355.01 1372.31 Q1356.1 1377.71 1351.99 1381.82 Q1347.88 1385.93 1342.46 1384.86 Q1337.04 1383.77 1330.87 1377.6 Q1324.68 1371.41 1323.6 1366.01 Q1322.52 1360.57 1326.63 1356.46 Z\" fill=\"#000000\" fill-rule=\"evenodd\" fill-opacity=\"1\" /><path clip-path=\"url(#clip330)\" d=\"M 0 0 M1351.07 1338.67 L1355.77 1360.06 L1364.12 1351.72 L1351.07 1338.67 M1347.32 1336.66 L1351.48 1332.5 L1367.41 1348.43 L1370.89 1344.94 L1373.64 1347.69 L1370.16 1351.18 L1375.92 1356.94 L1372.63 1360.23 L1366.87 1354.47 L1355.83 1365.5 L1352.64 1362.31 L1347.32 1336.66 Z\" fill=\"#000000\" fill-rule=\"evenodd\" fill-opacity=\"1\" /><path clip-path=\"url(#clip330)\" d=\"M 0 0 M1370.52 1341.29 L1379.34 1332.47 L1382.02 1335.15 L1373.2 1343.97 L1370.52 1341.29 Z\" fill=\"#000000\" fill-rule=\"evenodd\" fill-opacity=\"1\" /><path clip-path=\"url(#clip330)\" d=\"M 0 0 M1378.26 1310.08 Q1375.7 1312.63 1376.93 1316.44 Q1378.16 1320.22 1383.2 1325.27 Q1388.23 1330.29 1392.02 1331.54 Q1395.82 1332.75 1398.37 1330.19 Q1400.94 1327.62 1399.72 1323.84 Q1398.49 1320.03 1393.46 1315 Q1388.42 1309.96 1384.62 1308.75 Q1380.83 1307.51 1378.26 1310.08 M1375.64 1307.46 Q1379.75 1303.35 1385.17 1304.45 Q1390.58 1305.51 1396.77 1311.7 Q1402.94 1317.87 1404.02 1323.3 Q1405.1 1328.7 1400.99 1332.81 Q1396.88 1336.92 1391.47 1335.86 Q1386.05 1334.76 1379.88 1328.59 Q1373.69 1322.4 1372.61 1317 Q1371.53 1311.57 1375.64 1307.46 Z\" fill=\"#000000\" fill-rule=\"evenodd\" fill-opacity=\"1\" /><path clip-path=\"url(#clip330)\" d=\"M 0 0 M1388.14 1295.84 L1401.12 1282.86 L1403.91 1285.64 L1393.95 1295.59 L1399.95 1301.58 Q1400.42 1300.62 1401.03 1299.78 Q1401.62 1298.93 1402.34 1298.21 Q1406.43 1294.12 1411.06 1293.97 Q1415.69 1293.82 1419.52 1297.65 Q1423.47 1301.6 1423.2 1306.25 Q1422.93 1310.88 1418.46 1315.35 Q1416.92 1316.89 1415.05 1318.23 Q1413.2 1319.55 1410.98 1320.73 L1407.65 1317.41 Q1409.93 1316.74 1411.89 1315.56 Q1413.86 1314.38 1415.61 1312.63 Q1418.44 1309.8 1418.61 1306.66 Q1418.77 1303.51 1416.22 1300.96 Q1413.66 1298.41 1410.52 1298.57 Q1407.38 1298.73 1404.54 1301.57 Q1403.22 1302.89 1402.19 1304.51 Q1401.17 1306.12 1400.42 1308.11 L1388.14 1295.84 Z\" fill=\"#000000\" fill-rule=\"evenodd\" fill-opacity=\"1\" /><path clip-path=\"url(#clip330)\" d=\"M 0 0 M1464.89 1467.1 L1476.43 1455.56 L1479.21 1458.34 L1463.69 1473.86 L1460.91 1471.07 Q1460.84 1467.24 1460.81 1460.73 Q1460.78 1454.18 1460.66 1452.4 Q1460.47 1449.03 1459.86 1447.18 Q1459.26 1445.29 1458.06 1444.1 Q1456.11 1442.15 1453.51 1442.3 Q1450.93 1442.43 1448.73 1444.62 Q1447.18 1446.18 1445.98 1448.45 Q1444.8 1450.71 1443.94 1453.77 L1440.6 1450.43 Q1441.79 1447.63 1443.12 1445.49 Q1444.44 1443.35 1445.88 1441.91 Q1449.68 1438.11 1453.84 1437.75 Q1458 1437.39 1461.17 1440.56 Q1462.68 1442.07 1463.46 1444 Q1464.25 1445.9 1464.59 1449.22 Q1464.66 1450.11 1464.74 1454.57 Q1464.81 1459.03 1464.89 1467.1 Z\" fill=\"#000000\" fill-rule=\"evenodd\" fill-opacity=\"1\" /><path clip-path=\"url(#clip330)\" d=\"M 0 0 M1467.6 1425.42 Q1465.05 1427.98 1466.28 1431.79 Q1467.51 1435.57 1472.55 1440.61 Q1477.57 1445.64 1481.37 1446.88 Q1485.17 1448.09 1487.72 1445.54 Q1490.29 1442.97 1489.06 1439.19 Q1487.84 1435.37 1482.81 1430.35 Q1477.77 1425.31 1473.97 1424.1 Q1470.17 1422.85 1467.6 1425.42 M1464.99 1422.8 Q1469.09 1418.7 1474.51 1419.79 Q1479.93 1420.86 1486.12 1427.04 Q1492.29 1433.21 1493.37 1438.65 Q1494.45 1444.05 1490.34 1448.16 Q1486.23 1452.27 1480.81 1451.2 Q1475.4 1450.11 1469.23 1443.94 Q1463.04 1437.75 1461.96 1432.35 Q1460.88 1426.91 1464.99 1422.8 Z\" fill=\"#000000\" fill-rule=\"evenodd\" fill-opacity=\"1\" /><path clip-path=\"url(#clip330)\" d=\"M 0 0 M1501.96 1430.02 L1513.5 1418.48 L1516.28 1421.27 L1500.77 1436.78 L1497.98 1434 Q1497.92 1430.17 1497.89 1423.65 Q1497.85 1417.11 1497.74 1415.32 Q1497.54 1411.95 1496.94 1410.1 Q1496.33 1408.22 1495.14 1407.02 Q1493.19 1405.08 1490.59 1405.22 Q1488 1405.36 1485.81 1407.55 Q1484.25 1409.1 1483.06 1411.38 Q1481.88 1413.64 1481.01 1416.7 L1477.67 1413.36 Q1478.87 1410.56 1480.19 1408.42 Q1481.52 1406.27 1482.96 1404.83 Q1486.76 1401.03 1490.91 1400.67 Q1495.07 1400.31 1498.25 1403.49 Q1499.75 1405 1500.54 1406.93 Q1501.32 1408.83 1501.67 1412.15 Q1501.73 1413.03 1501.81 1417.5 Q1501.88 1421.95 1501.96 1430.02 Z\" fill=\"#000000\" fill-rule=\"evenodd\" fill-opacity=\"1\" /><path clip-path=\"url(#clip330)\" d=\"M 0 0 M1504.68 1388.35 Q1502.13 1390.9 1503.35 1394.72 Q1504.58 1398.5 1509.62 1403.54 Q1514.65 1408.56 1518.44 1409.81 Q1522.24 1411.02 1524.79 1408.47 Q1527.36 1405.9 1526.14 1402.11 Q1524.91 1398.3 1519.88 1393.28 Q1514.84 1388.23 1511.05 1387.02 Q1507.25 1385.78 1504.68 1388.35 M1502.06 1385.73 Q1506.17 1381.62 1511.59 1382.72 Q1517 1383.78 1523.19 1389.97 Q1529.36 1396.14 1530.44 1401.57 Q1531.52 1406.98 1527.41 1411.08 Q1523.31 1415.19 1517.89 1414.13 Q1512.47 1413.03 1506.3 1406.86 Q1500.11 1400.67 1499.03 1395.27 Q1497.95 1389.84 1502.06 1385.73 Z\" fill=\"#000000\" fill-rule=\"evenodd\" fill-opacity=\"1\" /><path clip-path=\"url(#clip330)\" d=\"M 0 0 M1526.5 1390 L1535.32 1381.18 L1538 1383.86 L1529.18 1392.69 L1526.5 1390 Z\" fill=\"#000000\" fill-rule=\"evenodd\" fill-opacity=\"1\" /><path clip-path=\"url(#clip330)\" d=\"M 0 0 M1534.24 1358.79 Q1531.69 1361.34 1532.91 1365.16 Q1534.14 1368.94 1539.18 1373.98 Q1544.21 1379 1548 1380.25 Q1551.8 1381.46 1554.36 1378.9 Q1556.93 1376.33 1555.7 1372.55 Q1554.47 1368.74 1549.45 1363.71 Q1544.4 1358.67 1540.61 1357.46 Q1536.81 1356.22 1534.24 1358.79 M1531.62 1356.17 Q1535.73 1352.06 1541.15 1353.16 Q1546.56 1354.22 1552.75 1360.41 Q1558.92 1366.58 1560 1372.01 Q1561.08 1377.42 1556.97 1381.52 Q1552.87 1385.63 1547.45 1384.57 Q1542.03 1383.47 1535.86 1377.3 Q1529.67 1371.11 1528.59 1365.71 Q1527.51 1360.28 1531.62 1356.17 Z\" fill=\"#000000\" fill-rule=\"evenodd\" fill-opacity=\"1\" /><path clip-path=\"url(#clip330)\" d=\"M 0 0 M1556.06 1338.38 L1560.76 1359.77 L1569.1 1351.42 L1556.06 1338.38 M1552.31 1336.36 L1556.47 1332.21 L1572.39 1348.13 L1575.88 1344.65 L1578.63 1347.4 L1575.14 1350.88 L1580.9 1356.64 L1577.61 1359.93 L1571.85 1354.17 L1560.82 1365.2 L1557.63 1362.01 L1552.31 1336.36 Z\" fill=\"#000000\" fill-rule=\"evenodd\" fill-opacity=\"1\" /><path clip-path=\"url(#clip330)\" d=\"M 0 0 M1575.5 1341 L1584.33 1332.17 L1587.01 1334.86 L1578.19 1343.68 L1575.5 1341 Z\" fill=\"#000000\" fill-rule=\"evenodd\" fill-opacity=\"1\" /><path clip-path=\"url(#clip330)\" d=\"M 0 0 M1596.23 1335.76 L1601.63 1330.36 L1582.98 1311.71 L1578.29 1318.77 L1575.27 1315.76 L1579.94 1308.73 L1583.25 1305.43 L1604.9 1327.08 L1610.3 1321.68 L1613.08 1324.46 L1599.01 1338.54 L1596.23 1335.76 Z\" fill=\"#000000\" fill-rule=\"evenodd\" fill-opacity=\"1\" /><path clip-path=\"url(#clip330)\" d=\"M 0 0 M1616.26 1320.27 L1613.25 1317.26 Q1615.08 1316.61 1616.67 1315.64 Q1618.26 1314.68 1619.48 1313.45 Q1622.76 1310.17 1622.28 1306.26 Q1621.81 1302.32 1617.57 1297.59 Q1618.03 1299.94 1617.32 1302.15 Q1616.62 1304.36 1614.85 1306.13 Q1611.19 1309.8 1606.83 1309.73 Q1602.48 1309.63 1598.63 1305.79 Q1594.87 1302.02 1594.82 1297.52 Q1594.77 1293.02 1598.47 1289.32 Q1602.71 1285.08 1608.19 1286.11 Q1613.67 1287.11 1619.86 1293.3 Q1625.64 1299.08 1626.34 1305.28 Q1627.05 1311.45 1622.41 1316.08 Q1621.17 1317.33 1619.65 1318.36 Q1618.13 1319.39 1616.26 1320.27 M1612.48 1303.33 Q1614.71 1301.11 1614.48 1298.29 Q1614.26 1295.46 1611.61 1292.81 Q1608.98 1290.17 1606.14 1289.96 Q1603.31 1289.71 1601.09 1291.94 Q1598.86 1294.17 1599.09 1297.01 Q1599.32 1299.83 1601.95 1302.47 Q1604.61 1305.12 1607.42 1305.35 Q1610.25 1305.56 1612.48 1303.33 Z\" fill=\"#000000\" fill-rule=\"evenodd\" fill-opacity=\"1\" /><path clip-path=\"url(#clip330)\" d=\"M 0 0 M1670.09 1466.59 L1681.63 1455.05 L1684.41 1457.83 L1668.89 1473.35 L1666.11 1470.57 Q1666.05 1466.74 1666.01 1460.22 Q1665.98 1453.67 1665.87 1451.89 Q1665.67 1448.52 1665.06 1446.67 Q1664.46 1444.79 1663.26 1443.59 Q1661.31 1441.64 1658.71 1441.79 Q1656.13 1441.92 1653.93 1444.12 Q1652.38 1445.67 1651.18 1447.95 Q1650 1450.2 1649.14 1453.26 L1645.8 1449.93 Q1646.99 1447.13 1648.32 1444.98 Q1649.64 1442.84 1651.08 1441.4 Q1654.88 1437.6 1659.04 1437.24 Q1663.2 1436.88 1666.37 1440.06 Q1667.88 1441.56 1668.66 1443.49 Q1669.45 1445.39 1669.79 1448.71 Q1669.86 1449.6 1669.94 1454.07 Q1670.01 1458.52 1670.09 1466.59 Z\" fill=\"#000000\" fill-rule=\"evenodd\" fill-opacity=\"1\" /><path clip-path=\"url(#clip330)\" d=\"M 0 0 M1672.81 1424.92 Q1670.25 1427.47 1671.48 1431.28 Q1672.71 1435.06 1677.75 1440.1 Q1682.77 1445.13 1686.57 1446.37 Q1690.37 1447.59 1692.92 1445.03 Q1695.49 1442.46 1694.26 1438.68 Q1693.04 1434.87 1688.01 1429.84 Q1682.97 1424.8 1679.17 1423.59 Q1675.38 1422.35 1672.81 1424.92 M1670.19 1422.3 Q1674.29 1418.19 1679.71 1419.28 Q1685.13 1420.35 1691.32 1426.54 Q1697.49 1432.71 1698.57 1438.14 Q1699.65 1443.54 1695.54 1447.65 Q1691.43 1451.76 1686.01 1450.7 Q1680.6 1449.6 1674.43 1443.43 Q1668.24 1437.24 1667.16 1431.84 Q1666.08 1426.4 1670.19 1422.3 Z\" fill=\"#000000\" fill-rule=\"evenodd\" fill-opacity=\"1\" /><path clip-path=\"url(#clip330)\" d=\"M 0 0 M1707.16 1429.51 L1718.7 1417.98 L1721.48 1420.76 L1705.97 1436.27 L1703.18 1433.49 Q1703.12 1429.66 1703.09 1423.15 Q1703.05 1416.6 1702.94 1414.82 Q1702.74 1411.44 1702.14 1409.59 Q1701.53 1407.71 1700.34 1406.52 Q1698.39 1404.57 1695.79 1404.72 Q1693.2 1404.85 1691.01 1407.04 Q1689.45 1408.6 1688.26 1410.87 Q1687.08 1413.13 1686.21 1416.19 L1682.87 1412.85 Q1684.07 1410.05 1685.39 1407.91 Q1686.72 1405.76 1688.16 1404.32 Q1691.96 1400.53 1696.11 1400.17 Q1700.27 1399.81 1703.45 1402.98 Q1704.95 1404.49 1705.74 1406.42 Q1706.52 1408.32 1706.87 1411.64 Q1706.93 1412.52 1707.01 1416.99 Q1707.08 1421.45 1707.16 1429.51 Z\" fill=\"#000000\" fill-rule=\"evenodd\" fill-opacity=\"1\" /><path clip-path=\"url(#clip330)\" d=\"M 0 0 M1709.88 1387.84 Q1707.33 1390.39 1708.55 1394.21 Q1709.78 1397.99 1714.82 1403.03 Q1719.85 1408.06 1723.64 1409.3 Q1727.44 1410.51 1730 1407.96 Q1732.57 1405.39 1731.34 1401.61 Q1730.11 1397.79 1725.09 1392.77 Q1720.04 1387.73 1716.25 1386.52 Q1712.45 1385.27 1709.88 1387.84 M1707.26 1385.22 Q1711.37 1381.11 1716.79 1382.21 Q1722.2 1383.27 1728.39 1389.46 Q1734.56 1395.63 1735.64 1401.07 Q1736.72 1406.47 1732.61 1410.58 Q1728.51 1414.69 1723.09 1413.62 Q1717.67 1412.52 1711.5 1406.35 Q1705.31 1400.17 1704.23 1394.77 Q1703.15 1389.33 1707.26 1385.22 Z\" fill=\"#000000\" fill-rule=\"evenodd\" fill-opacity=\"1\" /><path clip-path=\"url(#clip330)\" d=\"M 0 0 M1731.7 1389.49 L1740.52 1380.67 L1743.2 1383.36 L1734.38 1392.18 L1731.7 1389.49 Z\" fill=\"#000000\" fill-rule=\"evenodd\" fill-opacity=\"1\" /><path clip-path=\"url(#clip330)\" d=\"M 0 0 M1739.44 1358.28 Q1736.89 1360.83 1738.11 1364.65 Q1739.34 1368.43 1744.38 1373.47 Q1749.41 1378.5 1753.21 1379.74 Q1757 1380.95 1759.56 1378.4 Q1762.13 1375.83 1760.9 1372.05 Q1759.67 1368.23 1754.65 1363.21 Q1749.6 1358.17 1745.81 1356.95 Q1742.01 1355.71 1739.44 1358.28 M1736.82 1355.66 Q1740.93 1351.55 1746.35 1352.65 Q1751.77 1353.71 1757.95 1359.9 Q1764.12 1366.07 1765.2 1371.51 Q1766.28 1376.91 1762.18 1381.02 Q1758.07 1385.12 1752.65 1384.06 Q1747.23 1382.96 1741.06 1376.79 Q1734.87 1370.61 1733.79 1365.2 Q1732.71 1359.77 1736.82 1355.66 Z\" fill=\"#000000\" fill-rule=\"evenodd\" fill-opacity=\"1\" /><path clip-path=\"url(#clip330)\" d=\"M 0 0 M1749.33 1344.04 L1762.31 1331.06 L1765.09 1333.84 L1755.14 1343.79 L1761.13 1349.79 Q1761.6 1348.82 1762.21 1347.99 Q1762.8 1347.13 1763.52 1346.41 Q1767.61 1342.32 1772.24 1342.17 Q1776.87 1342.03 1780.7 1345.86 Q1784.65 1349.8 1784.39 1354.45 Q1784.11 1359.08 1779.64 1363.55 Q1778.1 1365.09 1776.24 1366.43 Q1774.39 1367.76 1772.16 1368.94 L1768.84 1365.61 Q1771.11 1364.94 1773.08 1363.76 Q1775.04 1362.59 1776.79 1360.83 Q1779.62 1358 1779.79 1354.86 Q1779.95 1351.72 1777.4 1349.16 Q1774.84 1346.61 1771.7 1346.77 Q1768.56 1346.94 1765.73 1349.77 Q1764.4 1351.1 1763.37 1352.72 Q1762.36 1354.32 1761.6 1356.32 L1749.33 1344.04 Z\" fill=\"#000000\" fill-rule=\"evenodd\" fill-opacity=\"1\" /><path clip-path=\"url(#clip330)\" d=\"M 0 0 M1779.66 1341.54 L1788.48 1332.71 L1791.16 1335.4 L1782.34 1344.22 L1779.66 1341.54 Z\" fill=\"#000000\" fill-rule=\"evenodd\" fill-opacity=\"1\" /><path clip-path=\"url(#clip330)\" d=\"M 0 0 M1787.4 1310.32 Q1784.85 1312.88 1786.07 1316.69 Q1787.3 1320.47 1792.34 1325.51 Q1797.37 1330.54 1801.16 1331.78 Q1804.96 1332.99 1807.52 1330.44 Q1810.08 1327.87 1808.86 1324.09 Q1807.63 1320.27 1802.6 1315.25 Q1797.56 1310.21 1793.77 1309 Q1789.97 1307.75 1787.4 1310.32 M1784.78 1307.7 Q1788.89 1303.59 1794.31 1304.69 Q1799.72 1305.76 1805.91 1311.94 Q1812.08 1318.11 1813.16 1323.55 Q1814.24 1328.95 1810.13 1333.06 Q1806.03 1337.17 1800.61 1336.1 Q1795.19 1335.01 1789.02 1328.83 Q1782.83 1322.65 1781.75 1317.25 Q1780.67 1311.81 1784.78 1307.7 Z\" fill=\"#000000\" fill-rule=\"evenodd\" fill-opacity=\"1\" /><path clip-path=\"url(#clip330)\" d=\"M 0 0 M1818.53 1297.36 Q1821.41 1295.49 1824.34 1295.77 Q1827.29 1296.03 1829.64 1298.39 Q1833.26 1302.01 1832.75 1306.48 Q1832.25 1310.94 1827.66 1315.53 Q1826.13 1317.07 1824.18 1318.39 Q1822.26 1319.72 1819.92 1320.85 L1816.73 1317.65 Q1818.91 1317.08 1820.95 1315.85 Q1823 1314.63 1824.78 1312.84 Q1827.89 1309.73 1828.29 1306.88 Q1828.7 1304.02 1826.35 1301.68 Q1824.19 1299.52 1821.46 1299.83 Q1818.73 1300.11 1816.03 1302.81 L1813.18 1305.66 L1810.46 1302.94 L1813.44 1299.96 Q1815.88 1297.52 1816.21 1295.26 Q1816.52 1292.99 1814.68 1291.16 Q1812.8 1289.27 1810.46 1289.62 Q1808.12 1289.93 1805.63 1292.42 Q1804.27 1293.77 1803.01 1295.62 Q1801.75 1297.47 1800.51 1299.96 L1797.56 1297.01 Q1798.92 1294.61 1800.3 1292.71 Q1801.69 1290.79 1803.14 1289.34 Q1806.91 1285.57 1810.82 1285.1 Q1814.72 1284.61 1817.63 1287.52 Q1819.66 1289.55 1819.91 1292.12 Q1820.13 1294.67 1818.53 1297.36 Z\" fill=\"#000000\" fill-rule=\"evenodd\" fill-opacity=\"1\" /><path clip-path=\"url(#clip330)\" d=\"M 0 0 M1875.83 1465.54 L1887.37 1454 L1890.15 1456.78 L1874.63 1472.3 L1871.85 1469.52 Q1871.79 1465.69 1871.75 1459.17 Q1871.72 1452.63 1871.61 1450.84 Q1871.41 1447.47 1870.8 1445.62 Q1870.2 1443.74 1869 1442.54 Q1867.06 1440.6 1864.45 1440.74 Q1861.87 1440.87 1859.67 1443.07 Q1858.12 1444.62 1856.92 1446.9 Q1855.75 1449.16 1854.88 1452.22 L1851.54 1448.88 Q1852.73 1446.08 1854.06 1443.94 Q1855.39 1441.79 1856.83 1440.35 Q1860.62 1436.55 1864.78 1436.19 Q1868.94 1435.83 1872.11 1439.01 Q1873.62 1440.51 1874.4 1442.45 Q1875.19 1444.34 1875.53 1447.67 Q1875.6 1448.55 1875.68 1453.02 Q1875.75 1457.47 1875.83 1465.54 Z\" fill=\"#000000\" fill-rule=\"evenodd\" fill-opacity=\"1\" /><path clip-path=\"url(#clip330)\" d=\"M 0 0 M1878.55 1423.87 Q1875.99 1426.42 1877.22 1430.23 Q1878.45 1434.02 1883.49 1439.06 Q1888.51 1444.08 1892.31 1445.33 Q1896.11 1446.54 1898.66 1443.98 Q1901.23 1441.41 1900 1437.63 Q1898.78 1433.82 1893.75 1428.79 Q1888.71 1423.75 1884.91 1422.54 Q1881.12 1421.3 1878.55 1423.87 M1875.93 1421.25 Q1880.04 1417.14 1885.45 1418.24 Q1890.87 1419.3 1897.06 1425.49 Q1903.23 1431.66 1904.31 1437.09 Q1905.39 1442.49 1901.28 1446.6 Q1897.17 1450.71 1891.76 1449.65 Q1886.34 1448.55 1880.17 1442.38 Q1873.98 1436.19 1872.9 1430.79 Q1871.82 1425.36 1875.93 1421.25 Z\" fill=\"#000000\" fill-rule=\"evenodd\" fill-opacity=\"1\" /><path clip-path=\"url(#clip330)\" d=\"M 0 0 M1912.9 1428.47 L1924.44 1416.93 L1927.22 1419.71 L1911.71 1435.23 L1908.93 1432.44 Q1908.86 1428.61 1908.83 1422.1 Q1908.79 1415.55 1908.68 1413.77 Q1908.48 1410.4 1907.88 1408.55 Q1907.27 1406.66 1906.08 1405.47 Q1904.13 1403.52 1901.53 1403.67 Q1898.94 1403.8 1896.75 1405.99 Q1895.19 1407.55 1894 1409.82 Q1892.82 1412.08 1891.95 1415.14 L1888.61 1411.8 Q1889.81 1409.01 1891.13 1406.86 Q1892.46 1404.72 1893.9 1403.28 Q1897.7 1399.48 1901.85 1399.12 Q1906.01 1398.76 1909.19 1401.93 Q1910.69 1403.44 1911.48 1405.37 Q1912.26 1407.27 1912.61 1410.59 Q1912.67 1411.48 1912.76 1415.95 Q1912.82 1420.4 1912.9 1428.47 Z\" fill=\"#000000\" fill-rule=\"evenodd\" fill-opacity=\"1\" /><path clip-path=\"url(#clip330)\" d=\"M 0 0 M1915.62 1386.79 Q1913.07 1389.35 1914.29 1393.16 Q1915.52 1396.94 1920.56 1401.98 Q1925.59 1407.01 1929.39 1408.25 Q1933.18 1409.46 1935.74 1406.91 Q1938.31 1404.34 1937.08 1400.56 Q1935.85 1396.75 1930.83 1391.72 Q1925.78 1386.68 1921.99 1385.47 Q1918.19 1384.22 1915.62 1386.79 M1913 1384.18 Q1917.11 1380.07 1922.53 1381.16 Q1927.95 1382.23 1934.13 1388.41 Q1940.3 1394.59 1941.38 1400.02 Q1942.46 1405.42 1938.36 1409.53 Q1934.25 1413.64 1928.83 1412.57 Q1923.41 1411.48 1917.24 1405.31 Q1911.05 1399.12 1909.97 1393.72 Q1908.89 1388.28 1913 1384.18 Z\" fill=\"#000000\" fill-rule=\"evenodd\" fill-opacity=\"1\" /><path clip-path=\"url(#clip330)\" d=\"M 0 0 M1937.44 1388.45 L1946.26 1379.62 L1948.95 1382.31 L1940.12 1391.13 L1937.44 1388.45 Z\" fill=\"#000000\" fill-rule=\"evenodd\" fill-opacity=\"1\" /><path clip-path=\"url(#clip330)\" d=\"M 0 0 M1945.18 1357.23 Q1942.63 1359.79 1943.85 1363.6 Q1945.08 1367.38 1950.12 1372.42 Q1955.15 1377.45 1958.95 1378.69 Q1962.74 1379.9 1965.3 1377.35 Q1967.87 1374.78 1966.64 1371 Q1965.41 1367.18 1960.39 1362.16 Q1955.35 1357.12 1951.55 1355.91 Q1947.75 1354.66 1945.18 1357.23 M1942.56 1354.61 Q1946.67 1350.51 1952.09 1351.6 Q1957.51 1352.67 1963.69 1358.85 Q1969.86 1365.02 1970.94 1370.46 Q1972.02 1375.86 1967.92 1379.97 Q1963.81 1384.08 1958.39 1383.01 Q1952.97 1381.92 1946.8 1375.75 Q1940.61 1369.56 1939.53 1364.16 Q1938.45 1358.72 1942.56 1354.61 Z\" fill=\"#000000\" fill-rule=\"evenodd\" fill-opacity=\"1\" /><path clip-path=\"url(#clip330)\" d=\"M 0 0 M1955.07 1342.99 L1968.05 1330.01 L1970.83 1332.8 L1960.88 1342.75 L1966.87 1348.74 Q1967.34 1347.77 1967.95 1346.94 Q1968.54 1346.09 1969.26 1345.37 Q1973.35 1341.27 1977.98 1341.13 Q1982.61 1340.98 1986.44 1344.81 Q1990.39 1348.75 1990.13 1353.4 Q1989.85 1358.04 1985.38 1362.5 Q1983.84 1364.04 1981.98 1365.38 Q1980.13 1366.71 1977.9 1367.89 L1974.58 1364.57 Q1976.85 1363.89 1978.82 1362.72 Q1980.78 1361.54 1982.53 1359.79 Q1985.36 1356.95 1985.53 1353.81 Q1985.69 1350.67 1983.14 1348.12 Q1980.59 1345.56 1977.44 1345.73 Q1974.3 1345.89 1971.47 1348.72 Q1970.14 1350.05 1969.11 1351.67 Q1968.1 1353.27 1967.34 1355.27 L1955.07 1342.99 Z\" fill=\"#000000\" fill-rule=\"evenodd\" fill-opacity=\"1\" /><path clip-path=\"url(#clip330)\" d=\"M 0 0 M1985.4 1340.49 L1994.22 1331.67 L1996.9 1334.35 L1988.08 1343.17 L1985.4 1340.49 Z\" fill=\"#000000\" fill-rule=\"evenodd\" fill-opacity=\"1\" /><path clip-path=\"url(#clip330)\" d=\"M 0 0 M2006.12 1335.25 L2011.52 1329.85 L1992.88 1311.21 L1988.18 1318.26 L1985.17 1315.25 L1989.83 1308.23 L1993.14 1304.92 L2014.79 1326.58 L2020.2 1321.17 L2022.98 1323.96 L2008.9 1338.03 L2006.12 1335.25 Z\" fill=\"#000000\" fill-rule=\"evenodd\" fill-opacity=\"1\" /><path clip-path=\"url(#clip330)\" d=\"M 0 0 M2001.29 1296.77 L2017 1281.06 L2018.41 1282.46 L2032.57 1314.37 L2029.12 1317.82 L2015.81 1287.82 L2004.07 1299.55 L2001.29 1296.77 Z\" fill=\"#000000\" fill-rule=\"evenodd\" fill-opacity=\"1\" /><path clip-path=\"url(#clip330)\" d=\"M 0 0 M2080.34 1465.72 L2091.88 1454.18 L2094.66 1456.96 L2079.15 1472.48 L2076.36 1469.7 Q2076.3 1465.87 2076.27 1459.35 Q2076.23 1452.81 2076.12 1451.02 Q2075.92 1447.65 2075.32 1445.8 Q2074.71 1443.92 2073.52 1442.72 Q2071.57 1440.78 2068.97 1440.92 Q2066.38 1441.05 2064.19 1443.25 Q2062.63 1444.8 2061.44 1447.08 Q2060.26 1449.34 2059.39 1452.4 L2056.05 1449.06 Q2057.25 1446.26 2058.57 1444.12 Q2059.9 1441.97 2061.34 1440.53 Q2065.14 1436.73 2069.29 1436.37 Q2073.45 1436.01 2076.63 1439.19 Q2078.13 1440.69 2078.92 1442.63 Q2079.7 1444.52 2080.05 1447.85 Q2080.11 1448.73 2080.19 1453.2 Q2080.26 1457.65 2080.34 1465.72 Z\" fill=\"#000000\" fill-rule=\"evenodd\" fill-opacity=\"1\" /><path clip-path=\"url(#clip330)\" d=\"M 0 0 M2083.06 1424.05 Q2080.51 1426.6 2081.73 1430.42 Q2082.96 1434.2 2088 1439.24 Q2093.03 1444.26 2096.82 1445.51 Q2100.62 1446.72 2103.18 1444.16 Q2105.75 1441.59 2104.52 1437.81 Q2103.29 1434 2098.27 1428.97 Q2093.22 1423.93 2089.43 1422.72 Q2085.63 1421.48 2083.06 1424.05 M2080.44 1421.43 Q2084.55 1417.32 2089.97 1418.42 Q2095.38 1419.48 2101.57 1425.67 Q2107.74 1431.84 2108.82 1437.27 Q2109.9 1442.67 2105.79 1446.78 Q2101.69 1450.89 2096.27 1449.83 Q2090.85 1448.73 2084.68 1442.56 Q2078.49 1436.37 2077.41 1430.97 Q2076.33 1425.54 2080.44 1421.43 Z\" fill=\"#000000\" fill-rule=\"evenodd\" fill-opacity=\"1\" /><path clip-path=\"url(#clip330)\" d=\"M 0 0 M2117.42 1428.65 L2128.96 1417.11 L2131.74 1419.89 L2116.22 1435.41 L2113.44 1432.62 Q2113.37 1428.79 2113.34 1422.28 Q2113.31 1415.73 2113.19 1413.95 Q2113 1410.58 2112.39 1408.73 Q2111.79 1406.84 2110.59 1405.65 Q2108.64 1403.7 2106.04 1403.85 Q2103.45 1403.98 2101.26 1406.17 Q2099.71 1407.73 2098.51 1410 Q2097.33 1412.26 2096.46 1415.32 L2093.13 1411.98 Q2094.32 1409.19 2095.65 1407.04 Q2096.97 1404.9 2098.41 1403.46 Q2102.21 1399.66 2106.37 1399.3 Q2110.53 1398.94 2113.7 1402.11 Q2115.21 1403.62 2115.99 1405.55 Q2116.78 1407.45 2117.12 1410.77 Q2117.19 1411.66 2117.27 1416.13 Q2117.33 1420.58 2117.42 1428.65 Z\" fill=\"#000000\" fill-rule=\"evenodd\" fill-opacity=\"1\" /><path clip-path=\"url(#clip330)\" d=\"M 0 0 M2120.13 1386.97 Q2117.58 1389.53 2118.81 1393.34 Q2120.03 1397.12 2125.08 1402.16 Q2130.1 1407.19 2133.9 1408.43 Q2137.7 1409.64 2140.25 1407.09 Q2142.82 1404.52 2141.59 1400.74 Q2140.36 1396.93 2135.34 1391.9 Q2130.3 1386.86 2126.5 1385.65 Q2122.7 1384.4 2120.13 1386.97 M2117.51 1384.36 Q2121.62 1380.25 2127.04 1381.34 Q2132.46 1382.41 2138.65 1388.59 Q2144.82 1394.77 2145.9 1400.2 Q2146.98 1405.6 2142.87 1409.71 Q2138.76 1413.82 2133.34 1412.75 Q2127.92 1411.66 2121.75 1405.49 Q2115.57 1399.3 2114.49 1393.9 Q2113.41 1388.46 2117.51 1384.36 Z\" fill=\"#000000\" fill-rule=\"evenodd\" fill-opacity=\"1\" /><path clip-path=\"url(#clip330)\" d=\"M 0 0 M2141.95 1388.63 L2150.77 1379.8 L2153.46 1382.49 L2144.64 1391.31 L2141.95 1388.63 Z\" fill=\"#000000\" fill-rule=\"evenodd\" fill-opacity=\"1\" /><path clip-path=\"url(#clip330)\" d=\"M 0 0 M2149.69 1357.41 Q2147.14 1359.97 2148.37 1363.78 Q2149.6 1367.56 2154.64 1372.6 Q2159.66 1377.63 2163.46 1378.87 Q2167.26 1380.08 2169.81 1377.53 Q2172.38 1374.96 2171.15 1371.18 Q2169.92 1367.36 2164.9 1362.34 Q2159.86 1357.3 2156.06 1356.09 Q2152.26 1354.84 2149.69 1357.41 M2147.08 1354.79 Q2151.18 1350.69 2156.6 1351.78 Q2162.02 1352.85 2168.21 1359.03 Q2174.38 1365.2 2175.46 1370.64 Q2176.54 1376.04 2172.43 1380.15 Q2168.32 1384.26 2162.9 1383.19 Q2157.49 1382.1 2151.31 1375.93 Q2145.13 1369.74 2144.05 1364.34 Q2142.97 1358.9 2147.08 1354.79 Z\" fill=\"#000000\" fill-rule=\"evenodd\" fill-opacity=\"1\" /><path clip-path=\"url(#clip330)\" d=\"M 0 0 M2159.58 1343.17 L2172.56 1330.19 L2175.34 1332.98 L2165.39 1342.93 L2171.38 1348.92 Q2171.86 1347.95 2172.46 1347.12 Q2173.05 1346.27 2173.77 1345.55 Q2177.86 1341.45 2182.5 1341.31 Q2187.13 1341.16 2190.96 1344.99 Q2194.9 1348.93 2194.64 1353.58 Q2194.36 1358.22 2189.89 1362.68 Q2188.36 1364.22 2186.49 1365.56 Q2184.64 1366.89 2182.41 1368.07 L2179.09 1364.75 Q2181.37 1364.08 2183.33 1362.9 Q2185.29 1361.72 2187.05 1359.97 Q2189.88 1357.13 2190.04 1353.99 Q2190.21 1350.85 2187.65 1348.3 Q2185.1 1345.74 2181.96 1345.91 Q2178.81 1346.07 2175.98 1348.9 Q2174.66 1350.23 2173.62 1351.85 Q2172.61 1353.45 2171.86 1355.45 L2159.58 1343.17 Z\" fill=\"#000000\" fill-rule=\"evenodd\" fill-opacity=\"1\" /><path clip-path=\"url(#clip330)\" d=\"M 0 0 M2189.91 1340.67 L2198.73 1331.85 L2201.42 1334.53 L2192.59 1343.35 L2189.91 1340.67 Z\" fill=\"#000000\" fill-rule=\"evenodd\" fill-opacity=\"1\" /><path clip-path=\"url(#clip330)\" d=\"M 0 0 M2209.68 1315.59 Q2212.56 1313.73 2215.49 1314 Q2218.44 1314.27 2220.8 1316.62 Q2224.41 1320.24 2223.91 1324.71 Q2223.4 1329.18 2218.82 1333.76 Q2217.28 1335.3 2215.33 1336.63 Q2213.42 1337.95 2211.07 1339.08 L2207.88 1335.89 Q2210.06 1335.32 2212.11 1334.09 Q2214.15 1332.86 2215.94 1331.08 Q2219.05 1327.97 2219.44 1325.12 Q2219.85 1322.25 2217.51 1319.91 Q2215.35 1317.75 2212.61 1318.06 Q2209.88 1318.34 2207.18 1321.04 L2204.33 1323.89 L2201.61 1321.17 L2204.59 1318.2 Q2207.03 1315.76 2207.36 1313.5 Q2207.67 1311.22 2205.84 1309.39 Q2203.95 1307.51 2201.61 1307.85 Q2199.27 1308.16 2196.79 1310.65 Q2195.43 1312.01 2194.17 1313.86 Q2192.91 1315.71 2191.66 1318.2 L2188.72 1315.25 Q2190.07 1312.84 2191.45 1310.94 Q2192.84 1309.03 2194.3 1307.57 Q2198.06 1303.81 2201.97 1303.33 Q2205.87 1302.84 2208.78 1305.76 Q2210.81 1307.79 2211.06 1310.35 Q2211.29 1312.91 2209.68 1315.59 Z\" fill=\"#000000\" fill-rule=\"evenodd\" fill-opacity=\"1\" /><path clip-path=\"url(#clip330)\" d=\"M 0 0 M2229.28 1316.79 L2234.68 1311.39 L2216.03 1292.74 L2211.34 1299.8 L2208.32 1296.79 L2212.99 1289.76 L2216.3 1286.46 L2237.95 1308.11 L2243.35 1302.71 L2246.13 1305.49 L2232.06 1319.57 L2229.28 1316.79 Z\" fill=\"#000000\" fill-rule=\"evenodd\" fill-opacity=\"1\" /><path clip-path=\"url(#clip330)\" d=\"M 0 0 M217.301 1219.39 Q213.69 1219.39 211.862 1222.96 Q210.056 1226.5 210.056 1233.63 Q210.056 1240.74 211.862 1244.3 Q213.69 1247.84 217.301 1247.84 Q220.936 1247.84 222.741 1244.3 Q224.57 1240.74 224.57 1233.63 Q224.57 1226.5 222.741 1222.96 Q220.936 1219.39 217.301 1219.39 M217.301 1215.69 Q223.111 1215.69 226.167 1220.3 Q229.246 1224.88 229.246 1233.63 Q229.246 1242.36 226.167 1246.96 Q223.111 1251.55 217.301 1251.55 Q211.491 1251.55 208.412 1246.96 Q205.357 1242.36 205.357 1233.63 Q205.357 1224.88 208.412 1220.3 Q211.491 1215.69 217.301 1215.69 Z\" fill=\"#000000\" fill-rule=\"evenodd\" fill-opacity=\"1\" /><path clip-path=\"url(#clip330)\" d=\"M 0 0 M154.316 972.402 L172.672 972.402 L172.672 976.338 L158.598 976.338 L158.598 984.81 Q159.616 984.462 160.635 984.3 Q161.653 984.115 162.672 984.115 Q168.459 984.115 171.839 987.287 Q175.218 990.458 175.218 995.874 Q175.218 1001.45 171.746 1004.55 Q168.274 1007.63 161.954 1007.63 Q159.778 1007.63 157.51 1007.26 Q155.265 1006.89 152.857 1006.15 L152.857 1001.45 Q154.941 1002.59 157.163 1003.14 Q159.385 1003.7 161.862 1003.7 Q165.866 1003.7 168.204 1001.59 Q170.542 999.486 170.542 995.874 Q170.542 992.263 168.204 990.157 Q165.866 988.05 161.862 988.05 Q159.987 988.05 158.112 988.467 Q156.26 988.884 154.316 989.763 L154.316 972.402 Z\" fill=\"#000000\" fill-rule=\"evenodd\" fill-opacity=\"1\" /><path clip-path=\"url(#clip330)\" d=\"M 0 0 M190.288 975.481 Q186.677 975.481 184.848 979.046 Q183.042 982.588 183.042 989.717 Q183.042 996.824 184.848 1000.39 Q186.677 1003.93 190.288 1003.93 Q193.922 1003.93 195.727 1000.39 Q197.556 996.824 197.556 989.717 Q197.556 982.588 195.727 979.046 Q193.922 975.481 190.288 975.481 M190.288 971.777 Q196.098 971.777 199.153 976.384 Q202.232 980.967 202.232 989.717 Q202.232 998.444 199.153 1003.05 Q196.098 1007.63 190.288 1007.63 Q184.477 1007.63 181.399 1003.05 Q178.343 998.444 178.343 989.717 Q178.343 980.967 181.399 976.384 Q184.477 971.777 190.288 971.777 Z\" fill=\"#000000\" fill-rule=\"evenodd\" fill-opacity=\"1\" /><path clip-path=\"url(#clip330)\" d=\"M 0 0 M217.301 975.481 Q213.69 975.481 211.862 979.046 Q210.056 982.588 210.056 989.717 Q210.056 996.824 211.862 1000.39 Q213.69 1003.93 217.301 1003.93 Q220.936 1003.93 222.741 1000.39 Q224.57 996.824 224.57 989.717 Q224.57 982.588 222.741 979.046 Q220.936 975.481 217.301 975.481 M217.301 971.777 Q223.111 971.777 226.167 976.384 Q229.246 980.967 229.246 989.717 Q229.246 998.444 226.167 1003.05 Q223.111 1007.63 217.301 1007.63 Q211.491 1007.63 208.412 1003.05 Q205.357 998.444 205.357 989.717 Q205.357 980.967 208.412 976.384 Q211.491 971.777 217.301 971.777 Z\" fill=\"#000000\" fill-rule=\"evenodd\" fill-opacity=\"1\" /><path clip-path=\"url(#clip330)\" d=\"M 0 0 M128.297 759.113 L135.936 759.113 L135.936 732.748 L127.626 734.414 L127.626 730.155 L135.89 728.489 L140.566 728.489 L140.566 759.113 L148.204 759.113 L148.204 763.049 L128.297 763.049 L128.297 759.113 Z\" fill=\"#000000\" fill-rule=\"evenodd\" fill-opacity=\"1\" /><path clip-path=\"url(#clip330)\" d=\"M 0 0 M163.274 731.567 Q159.663 731.567 157.834 735.132 Q156.029 738.674 156.029 745.803 Q156.029 752.91 157.834 756.475 Q159.663 760.016 163.274 760.016 Q166.908 760.016 168.714 756.475 Q170.542 752.91 170.542 745.803 Q170.542 738.674 168.714 735.132 Q166.908 731.567 163.274 731.567 M163.274 727.864 Q169.084 727.864 172.14 732.47 Q175.218 737.053 175.218 745.803 Q175.218 754.53 172.14 759.137 Q169.084 763.72 163.274 763.72 Q157.464 763.72 154.385 759.137 Q151.329 754.53 151.329 745.803 Q151.329 737.053 154.385 732.47 Q157.464 727.864 163.274 727.864 Z\" fill=\"#000000\" fill-rule=\"evenodd\" fill-opacity=\"1\" /><path clip-path=\"url(#clip330)\" d=\"M 0 0 M190.288 731.567 Q186.677 731.567 184.848 735.132 Q183.042 738.674 183.042 745.803 Q183.042 752.91 184.848 756.475 Q186.677 760.016 190.288 760.016 Q193.922 760.016 195.727 756.475 Q197.556 752.91 197.556 745.803 Q197.556 738.674 195.727 735.132 Q193.922 731.567 190.288 731.567 M190.288 727.864 Q196.098 727.864 199.153 732.47 Q202.232 737.053 202.232 745.803 Q202.232 754.53 199.153 759.137 Q196.098 763.72 190.288 763.72 Q184.477 763.72 181.399 759.137 Q178.343 754.53 178.343 745.803 Q178.343 737.053 181.399 732.47 Q184.477 727.864 190.288 727.864 Z\" fill=\"#000000\" fill-rule=\"evenodd\" fill-opacity=\"1\" /><path clip-path=\"url(#clip330)\" d=\"M 0 0 M217.301 731.567 Q213.69 731.567 211.862 735.132 Q210.056 738.674 210.056 745.803 Q210.056 752.91 211.862 756.475 Q213.69 760.016 217.301 760.016 Q220.936 760.016 222.741 756.475 Q224.57 752.91 224.57 745.803 Q224.57 738.674 222.741 735.132 Q220.936 731.567 217.301 731.567 M217.301 727.864 Q223.111 727.864 226.167 732.47 Q229.246 737.053 229.246 745.803 Q229.246 754.53 226.167 759.137 Q223.111 763.72 217.301 763.72 Q211.491 763.72 208.412 759.137 Q205.357 754.53 205.357 745.803 Q205.357 737.053 208.412 732.47 Q211.491 727.864 217.301 727.864 Z\" fill=\"#000000\" fill-rule=\"evenodd\" fill-opacity=\"1\" /><path clip-path=\"url(#clip330)\" d=\"M 0 0 M129.293 515.2 L136.931 515.2 L136.931 488.834 L128.621 490.501 L128.621 486.241 L136.885 484.575 L141.561 484.575 L141.561 515.2 L149.2 515.2 L149.2 519.135 L129.293 519.135 L129.293 515.2 Z\" fill=\"#000000\" fill-rule=\"evenodd\" fill-opacity=\"1\" /><path clip-path=\"url(#clip330)\" d=\"M 0 0 M154.316 484.575 L172.672 484.575 L172.672 488.51 L158.598 488.51 L158.598 496.982 Q159.616 496.635 160.635 496.473 Q161.653 496.288 162.672 496.288 Q168.459 496.288 171.839 499.459 Q175.218 502.63 175.218 508.047 Q175.218 513.626 171.746 516.727 Q168.274 519.806 161.954 519.806 Q159.778 519.806 157.51 519.436 Q155.265 519.065 152.857 518.325 L152.857 513.626 Q154.941 514.76 157.163 515.315 Q159.385 515.871 161.862 515.871 Q165.866 515.871 168.204 513.764 Q170.542 511.658 170.542 508.047 Q170.542 504.436 168.204 502.329 Q165.866 500.223 161.862 500.223 Q159.987 500.223 158.112 500.639 Q156.26 501.056 154.316 501.936 L154.316 484.575 Z\" fill=\"#000000\" fill-rule=\"evenodd\" fill-opacity=\"1\" /><path clip-path=\"url(#clip330)\" d=\"M 0 0 M190.288 487.653 Q186.677 487.653 184.848 491.218 Q183.042 494.76 183.042 501.889 Q183.042 508.996 184.848 512.561 Q186.677 516.102 190.288 516.102 Q193.922 516.102 195.727 512.561 Q197.556 508.996 197.556 501.889 Q197.556 494.76 195.727 491.218 Q193.922 487.653 190.288 487.653 M190.288 483.95 Q196.098 483.95 199.153 488.556 Q202.232 493.14 202.232 501.889 Q202.232 510.616 199.153 515.223 Q196.098 519.806 190.288 519.806 Q184.477 519.806 181.399 515.223 Q178.343 510.616 178.343 501.889 Q178.343 493.14 181.399 488.556 Q184.477 483.95 190.288 483.95 Z\" fill=\"#000000\" fill-rule=\"evenodd\" fill-opacity=\"1\" /><path clip-path=\"url(#clip330)\" d=\"M 0 0 M217.301 487.653 Q213.69 487.653 211.862 491.218 Q210.056 494.76 210.056 501.889 Q210.056 508.996 211.862 512.561 Q213.69 516.102 217.301 516.102 Q220.936 516.102 222.741 512.561 Q224.57 508.996 224.57 501.889 Q224.57 494.76 222.741 491.218 Q220.936 487.653 217.301 487.653 M217.301 483.95 Q223.111 483.95 226.167 488.556 Q229.246 493.14 229.246 501.889 Q229.246 510.616 226.167 515.223 Q223.111 519.806 217.301 519.806 Q211.491 519.806 208.412 515.223 Q205.357 510.616 205.357 501.889 Q205.357 493.14 208.412 488.556 Q211.491 483.95 217.301 483.95 Z\" fill=\"#000000\" fill-rule=\"evenodd\" fill-opacity=\"1\" /><path clip-path=\"url(#clip330)\" d=\"M 0 0 M131.885 271.286 L148.204 271.286 L148.204 275.221 L126.26 275.221 L126.26 271.286 Q128.922 268.531 133.505 263.902 Q138.112 259.249 139.292 257.906 Q141.538 255.383 142.417 253.647 Q143.32 251.888 143.32 250.198 Q143.32 247.443 141.376 245.707 Q139.455 243.971 136.353 243.971 Q134.154 243.971 131.7 244.735 Q129.269 245.499 126.492 247.05 L126.492 242.328 Q129.316 241.193 131.769 240.615 Q134.223 240.036 136.26 240.036 Q141.63 240.036 144.825 242.721 Q148.019 245.406 148.019 249.897 Q148.019 252.027 147.209 253.948 Q146.422 255.846 144.316 258.439 Q143.737 259.11 140.635 262.327 Q137.533 265.522 131.885 271.286 Z\" fill=\"#000000\" fill-rule=\"evenodd\" fill-opacity=\"1\" /><path clip-path=\"url(#clip330)\" d=\"M 0 0 M163.274 243.74 Q159.663 243.74 157.834 247.304 Q156.029 250.846 156.029 257.976 Q156.029 265.082 157.834 268.647 Q159.663 272.189 163.274 272.189 Q166.908 272.189 168.714 268.647 Q170.542 265.082 170.542 257.976 Q170.542 250.846 168.714 247.304 Q166.908 243.74 163.274 243.74 M163.274 240.036 Q169.084 240.036 172.14 244.642 Q175.218 249.226 175.218 257.976 Q175.218 266.702 172.14 271.309 Q169.084 275.892 163.274 275.892 Q157.464 275.892 154.385 271.309 Q151.329 266.702 151.329 257.976 Q151.329 249.226 154.385 244.642 Q157.464 240.036 163.274 240.036 Z\" fill=\"#000000\" fill-rule=\"evenodd\" fill-opacity=\"1\" /><path clip-path=\"url(#clip330)\" d=\"M 0 0 M190.288 243.74 Q186.677 243.74 184.848 247.304 Q183.042 250.846 183.042 257.976 Q183.042 265.082 184.848 268.647 Q186.677 272.189 190.288 272.189 Q193.922 272.189 195.727 268.647 Q197.556 265.082 197.556 257.976 Q197.556 250.846 195.727 247.304 Q193.922 243.74 190.288 243.74 M190.288 240.036 Q196.098 240.036 199.153 244.642 Q202.232 249.226 202.232 257.976 Q202.232 266.702 199.153 271.309 Q196.098 275.892 190.288 275.892 Q184.477 275.892 181.399 271.309 Q178.343 266.702 178.343 257.976 Q178.343 249.226 181.399 244.642 Q184.477 240.036 190.288 240.036 Z\" fill=\"#000000\" fill-rule=\"evenodd\" fill-opacity=\"1\" /><path clip-path=\"url(#clip330)\" d=\"M 0 0 M217.301 243.74 Q213.69 243.74 211.862 247.304 Q210.056 250.846 210.056 257.976 Q210.056 265.082 211.862 268.647 Q213.69 272.189 217.301 272.189 Q220.936 272.189 222.741 268.647 Q224.57 265.082 224.57 257.976 Q224.57 250.846 222.741 247.304 Q220.936 243.74 217.301 243.74 M217.301 240.036 Q223.111 240.036 226.167 244.642 Q229.246 249.226 229.246 257.976 Q229.246 266.702 226.167 271.309 Q223.111 275.892 217.301 275.892 Q211.491 275.892 208.412 271.309 Q205.357 266.702 205.357 257.976 Q205.357 249.226 208.412 244.642 Q211.491 240.036 217.301 240.036 Z\" fill=\"#000000\" fill-rule=\"evenodd\" fill-opacity=\"1\" /><path clip-path=\"url(#clip330)\" d=\"M 0 0 M997.664 12.096 L1008.68 12.096 L1035.5 62.6918 L1035.5 12.096 L1043.44 12.096 L1043.44 72.576 L1032.42 72.576 L1005.6 21.9802 L1005.6 72.576 L997.664 72.576 L997.664 12.096 Z\" fill=\"#000000\" fill-rule=\"evenodd\" fill-opacity=\"1\" /><path clip-path=\"url(#clip330)\" d=\"M 0 0 M1090.07 48.0275 L1090.07 51.6733 L1055.79 51.6733 Q1056.28 59.3701 1060.41 63.421 Q1064.58 67.4314 1072 67.4314 Q1076.29 67.4314 1080.3 66.3781 Q1084.35 65.3249 1088.32 63.2184 L1088.32 70.267 Q1084.31 71.9684 1080.1 72.8596 Q1075.89 73.7508 1071.55 73.7508 Q1060.7 73.7508 1054.34 67.4314 Q1048.02 61.1119 1048.02 50.3365 Q1048.02 39.1965 1054.01 32.6746 Q1060.05 26.1121 1070.26 26.1121 Q1079.41 26.1121 1084.72 32.0264 Q1090.07 37.9003 1090.07 48.0275 M1082.61 45.84 Q1082.53 39.7232 1079.17 36.0774 Q1075.85 32.4315 1070.34 32.4315 Q1064.1 32.4315 1060.33 35.9558 Q1056.6 39.4801 1056.04 45.8805 L1082.61 45.84 Z\" fill=\"#000000\" fill-rule=\"evenodd\" fill-opacity=\"1\" /><path clip-path=\"url(#clip330)\" d=\"M 0 0 M1093.55 27.2059 L1101 27.2059 L1110.32 62.6108 L1119.6 27.2059 L1128.39 27.2059 L1137.7 62.6108 L1146.98 27.2059 L1154.43 27.2059 L1142.56 72.576 L1133.77 72.576 L1124.01 35.3887 L1114.21 72.576 L1105.42 72.576 L1093.55 27.2059 Z\" fill=\"#000000\" fill-rule=\"evenodd\" fill-opacity=\"1\" /><path clip-path=\"url(#clip330)\" d=\"M 0 0 M1197.13 18.8205 L1197.13 65.8515 L1207.01 65.8515 Q1219.53 65.8515 1225.32 60.1802 Q1231.16 54.509 1231.16 42.2752 Q1231.16 30.1225 1225.32 24.4918 Q1219.53 18.8205 1207.01 18.8205 L1197.13 18.8205 M1188.95 12.096 L1205.76 12.096 Q1223.34 12.096 1231.56 19.4281 Q1239.79 26.7198 1239.79 42.2752 Q1239.79 57.9117 1231.52 65.2439 Q1223.26 72.576 1205.76 72.576 L1188.95 72.576 L1188.95 12.096 Z\" fill=\"#000000\" fill-rule=\"evenodd\" fill-opacity=\"1\" /><path clip-path=\"url(#clip330)\" d=\"M 0 0 M1268.22 49.7694 Q1259.19 49.7694 1255.71 51.8354 Q1252.22 53.9013 1252.22 58.8839 Q1252.22 62.8538 1254.82 65.2034 Q1257.45 67.5124 1261.94 67.5124 Q1268.14 67.5124 1271.87 63.1374 Q1275.64 58.7219 1275.64 51.4303 L1275.64 49.7694 L1268.22 49.7694 M1283.09 46.6907 L1283.09 72.576 L1275.64 72.576 L1275.64 65.6895 Q1273.08 69.8214 1269.28 71.8063 Q1265.47 73.7508 1259.96 73.7508 Q1252.99 73.7508 1248.86 69.8619 Q1244.77 65.9325 1244.77 59.3701 Q1244.77 51.7138 1249.87 47.825 Q1255.02 43.9361 1265.19 43.9361 L1275.64 43.9361 L1275.64 43.2069 Q1275.64 38.0623 1272.23 35.2672 Q1268.87 32.4315 1262.76 32.4315 Q1258.87 32.4315 1255.18 33.3632 Q1251.49 34.295 1248.09 36.1584 L1248.09 29.2718 Q1252.18 27.692 1256.03 26.9223 Q1259.88 26.1121 1263.52 26.1121 Q1273.37 26.1121 1278.23 31.2163 Q1283.09 36.3204 1283.09 46.6907 Z\" fill=\"#000000\" fill-rule=\"evenodd\" fill-opacity=\"1\" /><path clip-path=\"url(#clip330)\" d=\"M 0 0 M1290.91 27.2059 L1298.36 27.2059 L1298.36 72.576 L1290.91 72.576 L1290.91 27.2059 M1290.91 9.54393 L1298.36 9.54393 L1298.36 18.9825 L1290.91 18.9825 L1290.91 9.54393 Z\" fill=\"#000000\" fill-rule=\"evenodd\" fill-opacity=\"1\" /><path clip-path=\"url(#clip330)\" d=\"M 0 0 M1306.18 9.54393 L1313.63 9.54393 L1313.63 72.576 L1306.18 72.576 L1306.18 9.54393 Z\" fill=\"#000000\" fill-rule=\"evenodd\" fill-opacity=\"1\" /><path clip-path=\"url(#clip330)\" d=\"M 0 0 M1340.33 76.7889 Q1337.17 84.8907 1334.17 87.3618 Q1331.17 89.8329 1326.15 89.8329 L1320.2 89.8329 L1320.2 83.5945 L1324.57 83.5945 Q1327.65 83.5945 1329.35 82.1361 Q1331.05 80.6778 1333.12 75.2496 L1334.46 71.8468 L1316.11 27.2059 L1324 27.2059 L1338.18 62.6918 L1352.36 27.2059 L1360.26 27.2059 L1340.33 76.7889 Z\" fill=\"#000000\" fill-rule=\"evenodd\" fill-opacity=\"1\" /><path clip-path=\"url(#clip330)\" d=\"M 0 0 M1440.06 16.7545 L1440.06 25.383 Q1435.93 21.5346 1431.23 19.6307 Q1426.57 17.7268 1421.31 17.7268 Q1410.94 17.7268 1405.43 24.0867 Q1399.92 30.4061 1399.92 42.3968 Q1399.92 54.3469 1405.43 60.7069 Q1410.94 67.0263 1421.31 67.0263 Q1426.57 67.0263 1431.23 65.1223 Q1435.93 63.2184 1440.06 59.3701 L1440.06 67.9175 Q1435.77 70.8341 1430.95 72.2924 Q1426.17 73.7508 1420.82 73.7508 Q1407.09 73.7508 1399.19 65.3654 Q1391.29 56.9395 1391.29 42.3968 Q1391.29 27.8135 1399.19 19.4281 Q1407.09 11.0023 1420.82 11.0023 Q1426.25 11.0023 1431.03 12.4606 Q1435.85 13.8784 1440.06 16.7545 Z\" fill=\"#000000\" fill-rule=\"evenodd\" fill-opacity=\"1\" /><path clip-path=\"url(#clip330)\" d=\"M 0 0 M1468.5 49.7694 Q1459.47 49.7694 1455.98 51.8354 Q1452.5 53.9013 1452.5 58.8839 Q1452.5 62.8538 1455.09 65.2034 Q1457.73 67.5124 1462.22 67.5124 Q1468.42 67.5124 1472.15 63.1374 Q1475.91 58.7219 1475.91 51.4303 L1475.91 49.7694 L1468.5 49.7694 M1483.37 46.6907 L1483.37 72.576 L1475.91 72.576 L1475.91 65.6895 Q1473.36 69.8214 1469.55 71.8063 Q1465.75 73.7508 1460.24 73.7508 Q1453.27 73.7508 1449.14 69.8619 Q1445.05 65.9325 1445.05 59.3701 Q1445.05 51.7138 1450.15 47.825 Q1455.29 43.9361 1465.46 43.9361 L1475.91 43.9361 L1475.91 43.2069 Q1475.91 38.0623 1472.51 35.2672 Q1469.15 32.4315 1463.03 32.4315 Q1459.14 32.4315 1455.46 33.3632 Q1451.77 34.295 1448.37 36.1584 L1448.37 29.2718 Q1452.46 27.692 1456.31 26.9223 Q1460.16 26.1121 1463.8 26.1121 Q1473.65 26.1121 1478.51 31.2163 Q1483.37 36.3204 1483.37 46.6907 Z\" fill=\"#000000\" fill-rule=\"evenodd\" fill-opacity=\"1\" /><path clip-path=\"url(#clip330)\" d=\"M 0 0 M1520.11 28.5427 L1520.11 35.5912 Q1516.95 33.9709 1513.55 33.1607 Q1510.14 32.3505 1506.5 32.3505 Q1500.95 32.3505 1498.15 34.0519 Q1495.4 35.7533 1495.4 39.156 Q1495.4 41.7486 1497.38 43.2475 Q1499.37 44.7058 1505.36 46.0426 L1507.92 46.6097 Q1515.86 48.3111 1519.18 51.4303 Q1522.54 54.509 1522.54 60.0587 Q1522.54 66.3781 1517.52 70.0644 Q1512.53 73.7508 1503.78 73.7508 Q1500.14 73.7508 1496.17 73.0216 Q1492.24 72.3329 1487.86 70.9151 L1487.86 63.2184 Q1492 65.3654 1496.01 66.4591 Q1500.02 67.5124 1503.95 67.5124 Q1509.21 67.5124 1512.05 65.73 Q1514.88 63.9071 1514.88 60.6258 Q1514.88 57.5877 1512.82 55.9673 Q1510.79 54.3469 1503.86 52.8481 L1501.27 52.2405 Q1494.35 50.7821 1491.27 47.7845 Q1488.19 44.7463 1488.19 39.4801 Q1488.19 33.0797 1492.72 29.5959 Q1497.26 26.1121 1505.61 26.1121 Q1509.74 26.1121 1513.38 26.7198 Q1517.03 27.3274 1520.11 28.5427 Z\" fill=\"#000000\" fill-rule=\"evenodd\" fill-opacity=\"1\" /><path clip-path=\"url(#clip330)\" d=\"M 0 0 M1569.17 48.0275 L1569.17 51.6733 L1534.89 51.6733 Q1535.38 59.3701 1539.51 63.421 Q1543.69 67.4314 1551.1 67.4314 Q1555.39 67.4314 1559.4 66.3781 Q1563.45 65.3249 1567.42 63.2184 L1567.42 70.267 Q1563.41 71.9684 1559.2 72.8596 Q1554.99 73.7508 1550.65 73.7508 Q1539.8 73.7508 1533.44 67.4314 Q1527.12 61.1119 1527.12 50.3365 Q1527.12 39.1965 1533.11 32.6746 Q1539.15 26.1121 1549.36 26.1121 Q1558.51 26.1121 1563.82 32.0264 Q1569.17 37.9003 1569.17 48.0275 M1561.71 45.84 Q1561.63 39.7232 1558.27 36.0774 Q1554.95 32.4315 1549.44 32.4315 Q1543.2 32.4315 1539.43 35.9558 Q1535.71 39.4801 1535.14 45.8805 L1561.71 45.84 Z\" fill=\"#000000\" fill-rule=\"evenodd\" fill-opacity=\"1\" /><path clip-path=\"url(#clip330)\" d=\"M 0 0 M1605.91 28.5427 L1605.91 35.5912 Q1602.75 33.9709 1599.34 33.1607 Q1595.94 32.3505 1592.3 32.3505 Q1586.75 32.3505 1583.95 34.0519 Q1581.2 35.7533 1581.2 39.156 Q1581.2 41.7486 1583.18 43.2475 Q1585.17 44.7058 1591.16 46.0426 L1593.71 46.6097 Q1601.65 48.3111 1604.98 51.4303 Q1608.34 54.509 1608.34 60.0587 Q1608.34 66.3781 1603.31 70.0644 Q1598.33 73.7508 1589.58 73.7508 Q1585.94 73.7508 1581.97 73.0216 Q1578.04 72.3329 1573.66 70.9151 L1573.66 63.2184 Q1577.79 65.3654 1581.8 66.4591 Q1585.81 67.5124 1589.74 67.5124 Q1595.01 67.5124 1597.85 65.73 Q1600.68 63.9071 1600.68 60.6258 Q1600.68 57.5877 1598.62 55.9673 Q1596.59 54.3469 1589.66 52.8481 L1587.07 52.2405 Q1580.14 50.7821 1577.06 47.7845 Q1573.99 44.7463 1573.99 39.4801 Q1573.99 33.0797 1578.52 29.5959 Q1583.06 26.1121 1591.4 26.1121 Q1595.54 26.1121 1599.18 26.7198 Q1602.83 27.3274 1605.91 28.5427 Z\" fill=\"#000000\" fill-rule=\"evenodd\" fill-opacity=\"1\" /><path clip-path=\"url(#clip330)\" d=\"M 0 0 M888.978 102.816 L897.161 102.816 L897.161 156.409 L926.611 156.409 L926.611 163.296 L888.978 163.296 L888.978 102.816 Z\" fill=\"#000000\" fill-rule=\"evenodd\" fill-opacity=\"1\" /><path clip-path=\"url(#clip330)\" d=\"M 0 0 M950.552 123.152 Q944.557 123.152 941.073 127.851 Q937.589 132.509 937.589 140.651 Q937.589 148.794 941.032 153.493 Q944.516 158.151 950.552 158.151 Q956.507 158.151 959.99 153.452 Q963.474 148.753 963.474 140.651 Q963.474 132.59 959.99 127.891 Q956.507 123.152 950.552 123.152 M950.552 116.832 Q960.274 116.832 965.824 123.152 Q971.374 129.471 971.374 140.651 Q971.374 151.791 965.824 158.151 Q960.274 164.471 950.552 164.471 Q940.789 164.471 935.239 158.151 Q929.73 151.791 929.73 140.651 Q929.73 129.471 935.239 123.152 Q940.789 116.832 950.552 116.832 Z\" fill=\"#000000\" fill-rule=\"evenodd\" fill-opacity=\"1\" /><path clip-path=\"url(#clip330)\" d=\"M 0 0 M1008.12 119.263 L1008.12 126.311 Q1004.96 124.691 1001.55 123.881 Q998.15 123.071 994.504 123.071 Q988.954 123.071 986.159 124.772 Q983.405 126.473 983.405 129.876 Q983.405 132.469 985.39 133.967 Q987.375 135.426 993.37 136.763 L995.922 137.33 Q1003.86 139.031 1007.18 142.15 Q1010.55 145.229 1010.55 150.779 Q1010.55 157.098 1005.52 160.784 Q1000.54 164.471 991.79 164.471 Q988.144 164.471 984.174 163.742 Q980.245 163.053 975.87 161.635 L975.87 153.938 Q980.002 156.085 984.012 157.179 Q988.023 158.232 991.952 158.232 Q997.218 158.232 1000.05 156.45 Q1002.89 154.627 1002.89 151.346 Q1002.89 148.308 1000.82 146.687 Q998.798 145.067 991.871 143.568 L989.279 142.96 Q982.351 141.502 979.273 138.504 Q976.194 135.466 976.194 130.2 Q976.194 123.8 980.731 120.316 Q985.268 116.832 993.613 116.832 Q997.745 116.832 1001.39 117.44 Q1005.04 118.047 1008.12 119.263 Z\" fill=\"#000000\" fill-rule=\"evenodd\" fill-opacity=\"1\" /><path clip-path=\"url(#clip330)\" d=\"M 0 0 M1065.27 110.877 L1054.17 140.976 L1076.41 140.976 L1065.27 110.877 M1060.66 102.816 L1069.93 102.816 L1092.98 163.296 L1084.47 163.296 L1078.97 147.781 L1051.7 147.781 L1046.19 163.296 L1037.57 163.296 L1060.66 102.816 Z\" fill=\"#000000\" fill-rule=\"evenodd\" fill-opacity=\"1\" /><path clip-path=\"url(#clip330)\" d=\"M 0 0 M1138.51 135.912 L1138.51 163.296 L1131.06 163.296 L1131.06 136.155 Q1131.06 129.714 1128.55 126.514 Q1126.04 123.314 1121.01 123.314 Q1114.98 123.314 1111.49 127.162 Q1108.01 131.01 1108.01 137.654 L1108.01 163.296 L1100.52 163.296 L1100.52 117.926 L1108.01 117.926 L1108.01 124.974 Q1110.68 120.883 1114.29 118.858 Q1117.94 116.832 1122.67 116.832 Q1130.49 116.832 1134.5 121.693 Q1138.51 126.514 1138.51 135.912 Z\" fill=\"#000000\" fill-rule=\"evenodd\" fill-opacity=\"1\" /><path clip-path=\"url(#clip330)\" d=\"M 0 0 M1176.19 140.084 Q1176.19 131.983 1172.83 127.527 Q1169.5 123.071 1163.47 123.071 Q1157.47 123.071 1154.11 127.527 Q1150.79 131.983 1150.79 140.084 Q1150.79 148.146 1154.11 152.602 Q1157.47 157.058 1163.47 157.058 Q1169.5 157.058 1172.83 152.602 Q1176.19 148.146 1176.19 140.084 M1183.64 157.665 Q1183.64 169.251 1178.5 174.882 Q1173.35 180.553 1162.74 180.553 Q1158.81 180.553 1155.33 179.945 Q1151.84 179.378 1148.56 178.163 L1148.56 170.912 Q1151.84 172.694 1155.04 173.545 Q1158.24 174.395 1161.56 174.395 Q1168.9 174.395 1172.54 170.547 Q1176.19 166.739 1176.19 159.002 L1176.19 155.316 Q1173.88 159.326 1170.27 161.311 Q1166.67 163.296 1161.64 163.296 Q1153.3 163.296 1148.2 156.936 Q1143.09 150.576 1143.09 140.084 Q1143.09 129.552 1148.2 123.192 Q1153.3 116.832 1161.64 116.832 Q1166.67 116.832 1170.27 118.817 Q1173.88 120.802 1176.19 124.812 L1176.19 117.926 L1183.64 117.926 L1183.64 157.665 Z\" fill=\"#000000\" fill-rule=\"evenodd\" fill-opacity=\"1\" /><path clip-path=\"url(#clip330)\" d=\"M 0 0 M1230.27 138.748 L1230.27 142.393 L1196 142.393 Q1196.48 150.09 1200.61 154.141 Q1204.79 158.151 1212.2 158.151 Q1216.49 158.151 1220.5 157.098 Q1224.56 156.045 1228.52 153.938 L1228.52 160.987 Q1224.51 162.688 1220.3 163.58 Q1216.09 164.471 1211.75 164.471 Q1200.9 164.471 1194.54 158.151 Q1188.22 151.832 1188.22 141.057 Q1188.22 129.917 1194.21 123.395 Q1200.25 116.832 1210.46 116.832 Q1219.61 116.832 1224.92 122.746 Q1230.27 128.62 1230.27 138.748 M1222.81 136.56 Q1222.73 130.443 1219.37 126.797 Q1216.05 123.152 1210.54 123.152 Q1204.3 123.152 1200.53 126.676 Q1196.81 130.2 1196.24 136.601 L1222.81 136.56 Z\" fill=\"#000000\" fill-rule=\"evenodd\" fill-opacity=\"1\" /><path clip-path=\"url(#clip330)\" d=\"M 0 0 M1238.09 100.264 L1245.54 100.264 L1245.54 163.296 L1238.09 163.296 L1238.09 100.264 Z\" fill=\"#000000\" fill-rule=\"evenodd\" fill-opacity=\"1\" /><path clip-path=\"url(#clip330)\" d=\"M 0 0 M1292.16 138.748 L1292.16 142.393 L1257.89 142.393 Q1258.38 150.09 1262.51 154.141 Q1266.68 158.151 1274.1 158.151 Q1278.39 158.151 1282.4 157.098 Q1286.45 156.045 1290.42 153.938 L1290.42 160.987 Q1286.41 162.688 1282.2 163.58 Q1277.99 164.471 1273.65 164.471 Q1262.8 164.471 1256.44 158.151 Q1250.12 151.832 1250.12 141.057 Q1250.12 129.917 1256.11 123.395 Q1262.15 116.832 1272.36 116.832 Q1281.51 116.832 1286.82 122.746 Q1292.16 128.62 1292.16 138.748 M1284.71 136.56 Q1284.63 130.443 1281.27 126.797 Q1277.95 123.152 1272.44 123.152 Q1266.2 123.152 1262.43 126.676 Q1258.7 130.2 1258.14 136.601 L1284.71 136.56 Z\" fill=\"#000000\" fill-rule=\"evenodd\" fill-opacity=\"1\" /><path clip-path=\"url(#clip330)\" d=\"M 0 0 M1328.91 119.263 L1328.91 126.311 Q1325.75 124.691 1322.34 123.881 Q1318.94 123.071 1315.3 123.071 Q1309.75 123.071 1306.95 124.772 Q1304.2 126.473 1304.2 129.876 Q1304.2 132.469 1306.18 133.967 Q1308.17 135.426 1314.16 136.763 L1316.71 137.33 Q1324.65 139.031 1327.97 142.15 Q1331.34 145.229 1331.34 150.779 Q1331.34 157.098 1326.31 160.784 Q1321.33 164.471 1312.58 164.471 Q1308.94 164.471 1304.97 163.742 Q1301.04 163.053 1296.66 161.635 L1296.66 153.938 Q1300.79 156.085 1304.8 157.179 Q1308.81 158.232 1312.74 158.232 Q1318.01 158.232 1320.85 156.45 Q1323.68 154.627 1323.68 151.346 Q1323.68 148.308 1321.61 146.687 Q1319.59 145.067 1312.66 143.568 L1310.07 142.96 Q1303.14 141.502 1300.06 138.504 Q1296.99 135.466 1296.99 130.2 Q1296.99 123.8 1301.52 120.316 Q1306.06 116.832 1314.4 116.832 Q1318.54 116.832 1322.18 117.44 Q1325.83 118.047 1328.91 119.263 Z\" fill=\"#000000\" fill-rule=\"evenodd\" fill-opacity=\"1\" /><path clip-path=\"url(#clip330)\" d=\"M 0 0 M1341.06 153.007 L1349.61 153.007 L1349.61 159.974 L1342.96 172.937 L1337.74 172.937 L1341.06 159.974 L1341.06 153.007 Z\" fill=\"#000000\" fill-rule=\"evenodd\" fill-opacity=\"1\" /><path clip-path=\"url(#clip330)\" d=\"M 0 0 M1429.41 107.475 L1429.41 116.103 Q1425.28 112.255 1420.58 110.351 Q1415.92 108.447 1410.65 108.447 Q1400.28 108.447 1394.77 114.807 Q1389.26 121.126 1389.26 133.117 Q1389.26 145.067 1394.77 151.427 Q1400.28 157.746 1410.65 157.746 Q1415.92 157.746 1420.58 155.842 Q1425.28 153.938 1429.41 150.09 L1429.41 158.637 Q1425.12 161.554 1420.29 163.012 Q1415.51 164.471 1410.17 164.471 Q1396.43 164.471 1388.54 156.085 Q1380.64 147.66 1380.64 133.117 Q1380.64 118.534 1388.54 110.148 Q1396.43 101.722 1410.17 101.722 Q1415.6 101.722 1420.38 103.181 Q1425.2 104.598 1429.41 107.475 Z\" fill=\"#000000\" fill-rule=\"evenodd\" fill-opacity=\"1\" /><path clip-path=\"url(#clip330)\" d=\"M 0 0 M1457.85 140.489 Q1448.81 140.489 1445.33 142.555 Q1441.85 144.621 1441.85 149.604 Q1441.85 153.574 1444.44 155.923 Q1447.07 158.232 1451.57 158.232 Q1457.77 158.232 1461.49 153.857 Q1465.26 149.442 1465.26 142.15 L1465.26 140.489 L1457.85 140.489 M1472.71 137.411 L1472.71 163.296 L1465.26 163.296 L1465.26 156.409 Q1462.71 160.541 1458.9 162.526 Q1455.09 164.471 1449.58 164.471 Q1442.62 164.471 1438.48 160.582 Q1434.39 156.653 1434.39 150.09 Q1434.39 142.434 1439.5 138.545 Q1444.64 134.656 1454.81 134.656 L1465.26 134.656 L1465.26 133.927 Q1465.26 128.782 1461.86 125.987 Q1458.49 123.152 1452.38 123.152 Q1448.49 123.152 1444.8 124.083 Q1441.12 125.015 1437.71 126.878 L1437.71 119.992 Q1441.81 118.412 1445.65 117.642 Q1449.5 116.832 1453.15 116.832 Q1462.99 116.832 1467.85 121.936 Q1472.71 127.04 1472.71 137.411 Z\" fill=\"#000000\" fill-rule=\"evenodd\" fill-opacity=\"1\" /><path clip-path=\"url(#clip330)\" d=\"M 0 0 M1480.53 100.264 L1487.99 100.264 L1487.99 163.296 L1480.53 163.296 L1480.53 100.264 Z\" fill=\"#000000\" fill-rule=\"evenodd\" fill-opacity=\"1\" /><path clip-path=\"url(#clip330)\" d=\"M 0 0 M1495.8 117.926 L1503.26 117.926 L1503.26 163.296 L1495.8 163.296 L1495.8 117.926 M1495.8 100.264 L1503.26 100.264 L1503.26 109.703 L1495.8 109.703 L1495.8 100.264 Z\" fill=\"#000000\" fill-rule=\"evenodd\" fill-opacity=\"1\" /><path clip-path=\"url(#clip330)\" d=\"M 0 0 M1534.04 100.264 L1534.04 106.462 L1526.91 106.462 Q1522.9 106.462 1521.32 108.082 Q1519.78 109.703 1519.78 113.915 L1519.78 117.926 L1532.06 117.926 L1532.06 123.719 L1519.78 123.719 L1519.78 163.296 L1512.29 163.296 L1512.29 123.719 L1505.16 123.719 L1505.16 117.926 L1512.29 117.926 L1512.29 114.766 Q1512.29 107.191 1515.82 103.748 Q1519.34 100.264 1527 100.264 L1534.04 100.264 Z\" fill=\"#000000\" fill-rule=\"evenodd\" fill-opacity=\"1\" /><path clip-path=\"url(#clip330)\" d=\"M 0 0 M1559.44 123.152 Q1553.45 123.152 1549.96 127.851 Q1546.48 132.509 1546.48 140.651 Q1546.48 148.794 1549.92 153.493 Q1553.41 158.151 1559.44 158.151 Q1565.4 158.151 1568.88 153.452 Q1572.37 148.753 1572.37 140.651 Q1572.37 132.59 1568.88 127.891 Q1565.4 123.152 1559.44 123.152 M1559.44 116.832 Q1569.17 116.832 1574.72 123.152 Q1580.26 129.471 1580.26 140.651 Q1580.26 151.791 1574.72 158.151 Q1569.17 164.471 1559.44 164.471 Q1549.68 164.471 1544.13 158.151 Q1538.62 151.791 1538.62 140.651 Q1538.62 129.471 1544.13 123.152 Q1549.68 116.832 1559.44 116.832 Z\" fill=\"#000000\" fill-rule=\"evenodd\" fill-opacity=\"1\" /><path clip-path=\"url(#clip330)\" d=\"M 0 0 M1614.37 124.893 Q1613.12 124.164 1611.62 123.84 Q1610.16 123.476 1608.38 123.476 Q1602.06 123.476 1598.66 127.608 Q1595.29 131.699 1595.29 139.396 L1595.29 163.296 L1587.8 163.296 L1587.8 117.926 L1595.29 117.926 L1595.29 124.974 Q1597.64 120.843 1601.41 118.858 Q1605.18 116.832 1610.57 116.832 Q1611.34 116.832 1612.27 116.954 Q1613.2 117.035 1614.33 117.237 L1614.37 124.893 Z\" fill=\"#000000\" fill-rule=\"evenodd\" fill-opacity=\"1\" /><path clip-path=\"url(#clip330)\" d=\"M 0 0 M1658.45 135.912 L1658.45 163.296 L1650.99 163.296 L1650.99 136.155 Q1650.99 129.714 1648.48 126.514 Q1645.97 123.314 1640.95 123.314 Q1634.91 123.314 1631.43 127.162 Q1627.94 131.01 1627.94 137.654 L1627.94 163.296 L1620.45 163.296 L1620.45 117.926 L1627.94 117.926 L1627.94 124.974 Q1630.62 120.883 1634.22 118.858 Q1637.87 116.832 1642.61 116.832 Q1650.43 116.832 1654.44 121.693 Q1658.45 126.514 1658.45 135.912 Z\" fill=\"#000000\" fill-rule=\"evenodd\" fill-opacity=\"1\" /><path clip-path=\"url(#clip330)\" d=\"M 0 0 M1666.27 117.926 L1673.72 117.926 L1673.72 163.296 L1666.27 163.296 L1666.27 117.926 M1666.27 100.264 L1673.72 100.264 L1673.72 109.703 L1666.27 109.703 L1666.27 100.264 Z\" fill=\"#000000\" fill-rule=\"evenodd\" fill-opacity=\"1\" /><path clip-path=\"url(#clip330)\" d=\"M 0 0 M1702.16 140.489 Q1693.12 140.489 1689.64 142.555 Q1686.16 144.621 1686.16 149.604 Q1686.16 153.574 1688.75 155.923 Q1691.38 158.232 1695.88 158.232 Q1702.08 158.232 1705.8 153.857 Q1709.57 149.442 1709.57 142.15 L1709.57 140.489 L1702.16 140.489 M1717.02 137.411 L1717.02 163.296 L1709.57 163.296 L1709.57 156.409 Q1707.02 160.541 1703.21 162.526 Q1699.4 164.471 1693.89 164.471 Q1686.93 164.471 1682.79 160.582 Q1678.7 156.653 1678.7 150.09 Q1678.7 142.434 1683.81 138.545 Q1688.95 134.656 1699.12 134.656 L1709.57 134.656 L1709.57 133.927 Q1709.57 128.782 1706.17 125.987 Q1702.8 123.152 1696.69 123.152 Q1692.8 123.152 1689.11 124.083 Q1685.43 125.015 1682.02 126.878 L1682.02 119.992 Q1686.12 118.412 1689.96 117.642 Q1693.81 116.832 1697.46 116.832 Q1707.3 116.832 1712.16 121.936 Q1717.02 127.04 1717.02 137.411 Z\" fill=\"#000000\" fill-rule=\"evenodd\" fill-opacity=\"1\" /><path clip-path=\"url(#clip330)\" d=\"M 0 0 M1242.13 1508.27 L1242.13 1545.22 L1249.89 1545.22 Q1259.73 1545.22 1264.28 1540.77 Q1268.86 1536.31 1268.86 1526.7 Q1268.86 1517.15 1264.28 1512.73 Q1259.73 1508.27 1249.89 1508.27 L1242.13 1508.27 M1235.7 1502.99 L1248.91 1502.99 Q1262.72 1502.99 1269.18 1508.75 Q1275.64 1514.48 1275.64 1526.7 Q1275.64 1538.98 1269.15 1544.74 Q1262.66 1550.51 1248.91 1550.51 L1235.7 1550.51 L1235.7 1502.99 Z\" fill=\"#000000\" fill-rule=\"evenodd\" fill-opacity=\"1\" /><path clip-path=\"url(#clip330)\" d=\"M 0 0 M1297.99 1532.59 Q1290.89 1532.59 1288.15 1534.21 Q1285.42 1535.83 1285.42 1539.75 Q1285.42 1542.87 1287.45 1544.71 Q1289.52 1546.53 1293.05 1546.53 Q1297.92 1546.53 1300.85 1543.09 Q1303.81 1539.62 1303.81 1533.89 L1303.81 1532.59 L1297.99 1532.59 M1309.67 1530.17 L1309.67 1550.51 L1303.81 1550.51 L1303.81 1545.1 Q1301.81 1548.34 1298.82 1549.9 Q1295.82 1551.43 1291.49 1551.43 Q1286.02 1551.43 1282.77 1548.37 Q1279.56 1545.29 1279.56 1540.13 Q1279.56 1534.11 1283.57 1531.06 Q1287.61 1528 1295.6 1528 L1303.81 1528 L1303.81 1527.43 Q1303.81 1523.39 1301.14 1521.19 Q1298.5 1518.96 1293.69 1518.96 Q1290.64 1518.96 1287.74 1519.7 Q1284.84 1520.43 1282.17 1521.89 L1282.17 1516.48 Q1285.38 1515.24 1288.41 1514.64 Q1291.43 1514 1294.3 1514 Q1302.03 1514 1305.85 1518.01 Q1309.67 1522.02 1309.67 1530.17 Z\" fill=\"#000000\" fill-rule=\"evenodd\" fill-opacity=\"1\" /><path clip-path=\"url(#clip330)\" d=\"M 0 0 M1321.6 1504.74 L1321.6 1514.86 L1333.67 1514.86 L1333.67 1519.41 L1321.6 1519.41 L1321.6 1538.76 Q1321.6 1543.12 1322.78 1544.36 Q1323.99 1545.6 1327.65 1545.6 L1333.67 1545.6 L1333.67 1550.51 L1327.65 1550.51 Q1320.87 1550.51 1318.29 1547.99 Q1315.72 1545.45 1315.72 1538.76 L1315.72 1519.41 L1311.42 1519.41 L1311.42 1514.86 L1315.72 1514.86 L1315.72 1504.74 L1321.6 1504.74 Z\" fill=\"#000000\" fill-rule=\"evenodd\" fill-opacity=\"1\" /><path clip-path=\"url(#clip330)\" d=\"M 0 0 M1370.3 1531.22 L1370.3 1534.08 L1343.38 1534.08 Q1343.76 1540.13 1347 1543.31 Q1350.28 1546.46 1356.11 1546.46 Q1359.48 1546.46 1362.63 1545.64 Q1365.81 1544.81 1368.93 1543.15 L1368.93 1548.69 Q1365.78 1550.03 1362.47 1550.73 Q1359.16 1551.43 1355.76 1551.43 Q1347.23 1551.43 1342.23 1546.46 Q1337.26 1541.5 1337.26 1533.03 Q1337.26 1524.28 1341.97 1519.15 Q1346.72 1514 1354.74 1514 Q1361.93 1514 1366.1 1518.65 Q1370.3 1523.26 1370.3 1531.22 M1364.45 1529.5 Q1364.38 1524.69 1361.74 1521.83 Q1359.13 1518.96 1354.8 1518.96 Q1349.9 1518.96 1346.94 1521.73 Q1344.01 1524.5 1343.57 1529.53 L1364.45 1529.5 Z\" fill=\"#000000\" fill-rule=\"evenodd\" fill-opacity=\"1\" /><path clip-path=\"url(#clip330)\" d=\"M 0 0 M40.4842 883.107 L40.4842 874.45 L80.238 853.38 L40.4842 853.38 L40.4842 847.141 L88.0042 847.141 L88.0042 855.799 L48.2503 876.869 L88.0042 876.869 L88.0042 883.107 L40.4842 883.107 Z\" fill=\"#000000\" fill-rule=\"evenodd\" fill-opacity=\"1\" /><path clip-path=\"url(#clip330)\" d=\"M 0 0 M68.7161 810.507 L71.5806 810.507 L71.5806 837.433 Q77.6281 837.052 80.8109 833.805 Q83.9619 830.527 83.9619 824.702 Q83.9619 821.328 83.1344 818.177 Q82.3069 814.994 80.6518 811.875 L86.1899 811.875 Q87.5267 815.026 88.227 818.336 Q88.9272 821.647 88.9272 825.052 Q88.9272 833.582 83.9619 838.579 Q78.9967 843.545 70.5303 843.545 Q61.7774 843.545 56.6531 838.834 Q51.4968 834.091 51.4968 826.071 Q51.4968 818.877 56.1438 814.708 Q60.7589 810.507 68.7161 810.507 M66.9973 816.363 Q62.1912 816.427 59.3266 819.068 Q56.4621 821.678 56.4621 826.007 Q56.4621 830.909 59.2312 833.869 Q62.0002 836.797 67.0292 837.243 L66.9973 816.363 Z\" fill=\"#000000\" fill-rule=\"evenodd\" fill-opacity=\"1\" /><path clip-path=\"url(#clip330)\" d=\"M 0 0 M52.3562 807.769 L52.3562 801.913 L80.1743 794.592 L52.3562 787.304 L52.3562 780.397 L80.1743 773.076 L52.3562 765.787 L52.3562 759.931 L88.0042 769.257 L88.0042 776.164 L58.7856 783.834 L88.0042 791.537 L88.0042 798.444 L52.3562 807.769 Z\" fill=\"#000000\" fill-rule=\"evenodd\" fill-opacity=\"1\" /><path clip-path=\"url(#clip330)\" d=\"M 0 0 M44.1444 697.229 L50.9239 697.229 Q47.9002 700.475 46.4043 704.167 Q44.9083 707.828 44.9083 711.965 Q44.9083 720.113 49.9054 724.442 Q54.8707 728.771 64.2919 728.771 Q73.6813 728.771 78.6784 724.442 Q83.6436 720.113 83.6436 711.965 Q83.6436 707.828 82.1477 704.167 Q80.6518 700.475 77.6281 697.229 L84.3439 697.229 Q86.6355 700.603 87.7814 704.39 Q88.9272 708.146 88.9272 712.347 Q88.9272 723.137 82.3387 729.344 Q75.7183 735.55 64.2919 735.55 Q52.8336 735.55 46.2451 729.344 Q39.6248 723.137 39.6248 712.347 Q39.6248 708.082 40.7706 704.327 Q41.8846 700.539 44.1444 697.229 Z\" fill=\"#000000\" fill-rule=\"evenodd\" fill-opacity=\"1\" /><path clip-path=\"url(#clip330)\" d=\"M 0 0 M70.0847 674.885 Q70.0847 681.983 71.7079 684.72 Q73.3312 687.457 77.2461 687.457 Q80.3653 687.457 82.2114 685.42 Q84.0256 683.352 84.0256 679.819 Q84.0256 674.949 80.5881 672.021 Q77.1188 669.061 71.3897 669.061 L70.0847 669.061 L70.0847 674.885 M67.6657 663.204 L88.0042 663.204 L88.0042 669.061 L82.5933 669.061 Q85.8398 671.066 87.3994 674.058 Q88.9272 677.049 88.9272 681.378 Q88.9272 686.853 85.8716 690.099 Q82.7843 693.314 77.6281 693.314 Q71.6125 693.314 68.5569 689.303 Q65.5014 685.261 65.5014 677.272 L65.5014 669.061 L64.9285 669.061 Q60.8862 669.061 58.6901 671.734 Q56.4621 674.376 56.4621 679.182 Q56.4621 682.238 57.1941 685.134 Q57.9262 688.03 59.3903 690.704 L53.9795 690.704 Q52.7381 687.489 52.1334 684.466 Q51.4968 681.442 51.4968 678.577 Q51.4968 670.843 55.5072 667.024 Q59.5176 663.204 67.6657 663.204 Z\" fill=\"#000000\" fill-rule=\"evenodd\" fill-opacity=\"1\" /><path clip-path=\"url(#clip330)\" d=\"M 0 0 M53.4065 634.336 L58.9447 634.336 Q57.6716 636.818 57.035 639.492 Q56.3984 642.165 56.3984 645.03 Q56.3984 649.39 57.7352 651.587 Q59.072 653.751 61.7456 653.751 Q63.7826 653.751 64.9603 652.191 Q66.1061 650.632 67.1565 645.921 L67.6021 643.916 Q68.9389 637.678 71.3897 635.068 Q73.8086 632.426 78.1691 632.426 Q83.1344 632.426 86.0308 636.373 Q88.9272 640.288 88.9272 647.163 Q88.9272 650.027 88.3543 653.146 Q87.8132 656.234 86.6992 659.671 L80.6518 659.671 Q82.3387 656.425 83.198 653.274 Q84.0256 650.123 84.0256 647.035 Q84.0256 642.897 82.6251 640.669 Q81.1929 638.441 78.6147 638.441 Q76.2276 638.441 74.9545 640.065 Q73.6813 641.656 72.5037 647.099 L72.0262 649.136 Q70.8804 654.579 68.5251 656.998 Q66.138 659.416 62.0002 659.416 Q56.9713 659.416 54.2341 655.852 Q51.4968 652.287 51.4968 645.73 Q51.4968 642.484 51.9743 639.619 Q52.4517 636.755 53.4065 634.336 Z\" fill=\"#000000\" fill-rule=\"evenodd\" fill-opacity=\"1\" /><path clip-path=\"url(#clip330)\" d=\"M 0 0 M68.7161 595.791 L71.5806 595.791 L71.5806 622.718 Q77.6281 622.336 80.8109 619.09 Q83.9619 615.811 83.9619 609.987 Q83.9619 606.613 83.1344 603.462 Q82.3069 600.279 80.6518 597.16 L86.1899 597.16 Q87.5267 600.311 88.227 603.621 Q88.9272 606.931 88.9272 610.337 Q88.9272 618.867 83.9619 623.864 Q78.9967 628.829 70.5303 628.829 Q61.7774 628.829 56.6531 624.119 Q51.4968 619.376 51.4968 611.355 Q51.4968 604.162 56.1438 599.993 Q60.7589 595.791 68.7161 595.791 M66.9973 601.648 Q62.1912 601.711 59.3266 604.353 Q56.4621 606.963 56.4621 611.292 Q56.4621 616.193 59.2312 619.153 Q62.0002 622.082 67.0292 622.527 L66.9973 601.648 Z\" fill=\"#000000\" fill-rule=\"evenodd\" fill-opacity=\"1\" /><path clip-path=\"url(#clip330)\" d=\"M 0 0 M53.4065 566.923 L58.9447 566.923 Q57.6716 569.405 57.035 572.079 Q56.3984 574.753 56.3984 577.617 Q56.3984 581.978 57.7352 584.174 Q59.072 586.338 61.7456 586.338 Q63.7826 586.338 64.9603 584.779 Q66.1061 583.219 67.1565 578.508 L67.6021 576.503 Q68.9389 570.265 71.3897 567.655 Q73.8086 565.013 78.1691 565.013 Q83.1344 565.013 86.0308 568.96 Q88.9272 572.875 88.9272 579.75 Q88.9272 582.614 88.3543 585.733 Q87.8132 588.821 86.6992 592.258 L80.6518 592.258 Q82.3387 589.012 83.198 585.861 Q84.0256 582.71 84.0256 579.622 Q84.0256 575.485 82.6251 573.257 Q81.1929 571.029 78.6147 571.029 Q76.2276 571.029 74.9545 572.652 Q73.6813 574.243 72.5037 579.686 L72.0262 581.723 Q70.8804 587.166 68.5251 589.585 Q66.138 592.004 62.0002 592.004 Q56.9713 592.004 54.2341 588.439 Q51.4968 584.874 51.4968 578.317 Q51.4968 575.071 51.9743 572.206 Q52.4517 569.342 53.4065 566.923 Z\" fill=\"#000000\" fill-rule=\"evenodd\" fill-opacity=\"1\" /><path clip-path=\"url(#clip332)\" d=\"\n",
       "M368.723 1233.6 L368.723 1233.6 L380.419 1233.6 L380.419 1233.6 L368.723 1233.6 L368.723 1233.6  Z\n",
       "  \" fill=\"#009af9\" fill-rule=\"evenodd\" fill-opacity=\"1\"/>\n",
       "<polyline clip-path=\"url(#clip332)\" style=\"stroke:#000000; stroke-width:4; stroke-opacity:1; fill:none\" points=\"\n",
       "  368.723,1233.6 368.723,1233.6 380.419,1233.6 368.723,1233.6 \n",
       "  \"/>\n",
       "<path clip-path=\"url(#clip332)\" d=\"\n",
       "M383.343 1233.6 L383.343 1233.6 L395.04 1233.6 L395.04 1233.6 L383.343 1233.6 L383.343 1233.6  Z\n",
       "  \" fill=\"#009af9\" fill-rule=\"evenodd\" fill-opacity=\"1\"/>\n",
       "<polyline clip-path=\"url(#clip332)\" style=\"stroke:#000000; stroke-width:4; stroke-opacity:1; fill:none\" points=\"\n",
       "  383.343,1233.6 383.343,1233.6 395.04,1233.6 383.343,1233.6 \n",
       "  \"/>\n",
       "<path clip-path=\"url(#clip332)\" d=\"\n",
       "M397.964 1233.6 L397.964 1233.6 L409.661 1233.6 L409.661 1233.6 L397.964 1233.6 L397.964 1233.6  Z\n",
       "  \" fill=\"#009af9\" fill-rule=\"evenodd\" fill-opacity=\"1\"/>\n",
       "<polyline clip-path=\"url(#clip332)\" style=\"stroke:#000000; stroke-width:4; stroke-opacity:1; fill:none\" points=\"\n",
       "  397.964,1233.6 397.964,1233.6 409.661,1233.6 397.964,1233.6 \n",
       "  \"/>\n",
       "<path clip-path=\"url(#clip332)\" d=\"\n",
       "M412.585 1233.6 L412.585 1233.6 L424.282 1233.6 L424.282 1233.6 L412.585 1233.6 L412.585 1233.6  Z\n",
       "  \" fill=\"#009af9\" fill-rule=\"evenodd\" fill-opacity=\"1\"/>\n",
       "<polyline clip-path=\"url(#clip332)\" style=\"stroke:#000000; stroke-width:4; stroke-opacity:1; fill:none\" points=\"\n",
       "  412.585,1233.6 412.585,1233.6 424.282,1233.6 412.585,1233.6 \n",
       "  \"/>\n",
       "<path clip-path=\"url(#clip332)\" d=\"\n",
       "M427.206 1233.6 L427.206 1233.6 L438.903 1233.6 L438.903 1233.6 L427.206 1233.6 L427.206 1233.6  Z\n",
       "  \" fill=\"#009af9\" fill-rule=\"evenodd\" fill-opacity=\"1\"/>\n",
       "<polyline clip-path=\"url(#clip332)\" style=\"stroke:#000000; stroke-width:4; stroke-opacity:1; fill:none\" points=\"\n",
       "  427.206,1233.6 427.206,1233.6 438.903,1233.6 427.206,1233.6 \n",
       "  \"/>\n",
       "<path clip-path=\"url(#clip332)\" d=\"\n",
       "M441.827 1233.6 L441.827 1233.6 L453.524 1233.6 L453.524 1233.6 L441.827 1233.6 L441.827 1233.6  Z\n",
       "  \" fill=\"#009af9\" fill-rule=\"evenodd\" fill-opacity=\"1\"/>\n",
       "<polyline clip-path=\"url(#clip332)\" style=\"stroke:#000000; stroke-width:4; stroke-opacity:1; fill:none\" points=\"\n",
       "  441.827,1233.6 441.827,1233.6 453.524,1233.6 441.827,1233.6 \n",
       "  \"/>\n",
       "<path clip-path=\"url(#clip332)\" d=\"\n",
       "M456.448 1233.6 L456.448 1233.6 L468.145 1233.6 L468.145 1233.6 L456.448 1233.6 L456.448 1233.6  Z\n",
       "  \" fill=\"#009af9\" fill-rule=\"evenodd\" fill-opacity=\"1\"/>\n",
       "<polyline clip-path=\"url(#clip332)\" style=\"stroke:#000000; stroke-width:4; stroke-opacity:1; fill:none\" points=\"\n",
       "  456.448,1233.6 456.448,1233.6 468.145,1233.6 456.448,1233.6 \n",
       "  \"/>\n",
       "<path clip-path=\"url(#clip332)\" d=\"\n",
       "M471.069 1233.6 L471.069 1233.6 L482.766 1233.6 L482.766 1233.6 L471.069 1233.6 L471.069 1233.6  Z\n",
       "  \" fill=\"#009af9\" fill-rule=\"evenodd\" fill-opacity=\"1\"/>\n",
       "<polyline clip-path=\"url(#clip332)\" style=\"stroke:#000000; stroke-width:4; stroke-opacity:1; fill:none\" points=\"\n",
       "  471.069,1233.6 471.069,1233.6 482.766,1233.6 471.069,1233.6 \n",
       "  \"/>\n",
       "<path clip-path=\"url(#clip332)\" d=\"\n",
       "M485.69 1233.6 L485.69 1233.6 L497.387 1233.6 L497.387 1233.6 L485.69 1233.6 L485.69 1233.6  Z\n",
       "  \" fill=\"#009af9\" fill-rule=\"evenodd\" fill-opacity=\"1\"/>\n",
       "<polyline clip-path=\"url(#clip332)\" style=\"stroke:#000000; stroke-width:4; stroke-opacity:1; fill:none\" points=\"\n",
       "  485.69,1233.6 485.69,1233.6 497.387,1233.6 485.69,1233.6 \n",
       "  \"/>\n",
       "<path clip-path=\"url(#clip332)\" d=\"\n",
       "M500.311 1233.6 L500.311 1233.6 L512.008 1233.6 L512.008 1233.6 L500.311 1233.6 L500.311 1233.6  Z\n",
       "  \" fill=\"#009af9\" fill-rule=\"evenodd\" fill-opacity=\"1\"/>\n",
       "<polyline clip-path=\"url(#clip332)\" style=\"stroke:#000000; stroke-width:4; stroke-opacity:1; fill:none\" points=\"\n",
       "  500.311,1233.6 500.311,1233.6 512.008,1233.6 500.311,1233.6 \n",
       "  \"/>\n",
       "<path clip-path=\"url(#clip332)\" d=\"\n",
       "M514.932 1233.6 L514.932 1233.6 L526.629 1233.6 L526.629 1233.6 L514.932 1233.6 L514.932 1233.6  Z\n",
       "  \" fill=\"#009af9\" fill-rule=\"evenodd\" fill-opacity=\"1\"/>\n",
       "<polyline clip-path=\"url(#clip332)\" style=\"stroke:#000000; stroke-width:4; stroke-opacity:1; fill:none\" points=\"\n",
       "  514.932,1233.6 514.932,1233.6 526.629,1233.6 514.932,1233.6 \n",
       "  \"/>\n",
       "<path clip-path=\"url(#clip332)\" d=\"\n",
       "M529.553 1233.6 L529.553 1233.6 L541.25 1233.6 L541.25 1233.6 L529.553 1233.6 L529.553 1233.6  Z\n",
       "  \" fill=\"#009af9\" fill-rule=\"evenodd\" fill-opacity=\"1\"/>\n",
       "<polyline clip-path=\"url(#clip332)\" style=\"stroke:#000000; stroke-width:4; stroke-opacity:1; fill:none\" points=\"\n",
       "  529.553,1233.6 529.553,1233.6 541.25,1233.6 529.553,1233.6 \n",
       "  \"/>\n",
       "<path clip-path=\"url(#clip332)\" d=\"\n",
       "M544.174 1233.6 L544.174 1233.6 L555.871 1233.6 L555.871 1233.6 L544.174 1233.6 L544.174 1233.6  Z\n",
       "  \" fill=\"#009af9\" fill-rule=\"evenodd\" fill-opacity=\"1\"/>\n",
       "<polyline clip-path=\"url(#clip332)\" style=\"stroke:#000000; stroke-width:4; stroke-opacity:1; fill:none\" points=\"\n",
       "  544.174,1233.6 544.174,1233.6 555.871,1233.6 544.174,1233.6 \n",
       "  \"/>\n",
       "<path clip-path=\"url(#clip332)\" d=\"\n",
       "M558.795 1233.6 L558.795 1233.6 L570.492 1233.6 L570.492 1233.6 L558.795 1233.6 L558.795 1233.6  Z\n",
       "  \" fill=\"#009af9\" fill-rule=\"evenodd\" fill-opacity=\"1\"/>\n",
       "<polyline clip-path=\"url(#clip332)\" style=\"stroke:#000000; stroke-width:4; stroke-opacity:1; fill:none\" points=\"\n",
       "  558.795,1233.6 558.795,1233.6 570.492,1233.6 558.795,1233.6 \n",
       "  \"/>\n",
       "<path clip-path=\"url(#clip332)\" d=\"\n",
       "M573.416 1233.6 L573.416 1233.6 L585.112 1233.6 L585.112 1233.6 L573.416 1233.6 L573.416 1233.6  Z\n",
       "  \" fill=\"#009af9\" fill-rule=\"evenodd\" fill-opacity=\"1\"/>\n",
       "<polyline clip-path=\"url(#clip332)\" style=\"stroke:#000000; stroke-width:4; stroke-opacity:1; fill:none\" points=\"\n",
       "  573.416,1233.6 573.416,1233.6 585.112,1233.6 573.416,1233.6 \n",
       "  \"/>\n",
       "<path clip-path=\"url(#clip332)\" d=\"\n",
       "M588.037 1233.6 L588.037 1233.6 L599.733 1233.6 L599.733 1233.6 L588.037 1233.6 L588.037 1233.6  Z\n",
       "  \" fill=\"#009af9\" fill-rule=\"evenodd\" fill-opacity=\"1\"/>\n",
       "<polyline clip-path=\"url(#clip332)\" style=\"stroke:#000000; stroke-width:4; stroke-opacity:1; fill:none\" points=\"\n",
       "  588.037,1233.6 588.037,1233.6 599.733,1233.6 588.037,1233.6 \n",
       "  \"/>\n",
       "<path clip-path=\"url(#clip332)\" d=\"\n",
       "M602.658 1233.6 L602.658 1233.6 L614.354 1233.6 L614.354 1233.6 L602.658 1233.6 L602.658 1233.6  Z\n",
       "  \" fill=\"#009af9\" fill-rule=\"evenodd\" fill-opacity=\"1\"/>\n",
       "<polyline clip-path=\"url(#clip332)\" style=\"stroke:#000000; stroke-width:4; stroke-opacity:1; fill:none\" points=\"\n",
       "  602.658,1233.6 602.658,1233.6 614.354,1233.6 602.658,1233.6 \n",
       "  \"/>\n",
       "<path clip-path=\"url(#clip332)\" d=\"\n",
       "M617.279 1233.6 L617.279 1233.6 L628.975 1233.6 L628.975 1233.6 L617.279 1233.6 L617.279 1233.6  Z\n",
       "  \" fill=\"#009af9\" fill-rule=\"evenodd\" fill-opacity=\"1\"/>\n",
       "<polyline clip-path=\"url(#clip332)\" style=\"stroke:#000000; stroke-width:4; stroke-opacity:1; fill:none\" points=\"\n",
       "  617.279,1233.6 617.279,1233.6 628.975,1233.6 617.279,1233.6 \n",
       "  \"/>\n",
       "<path clip-path=\"url(#clip332)\" d=\"\n",
       "M631.899 1233.6 L631.899 1233.6 L643.596 1233.6 L643.596 1233.6 L631.899 1233.6 L631.899 1233.6  Z\n",
       "  \" fill=\"#009af9\" fill-rule=\"evenodd\" fill-opacity=\"1\"/>\n",
       "<polyline clip-path=\"url(#clip332)\" style=\"stroke:#000000; stroke-width:4; stroke-opacity:1; fill:none\" points=\"\n",
       "  631.899,1233.6 631.899,1233.6 643.596,1233.6 631.899,1233.6 \n",
       "  \"/>\n",
       "<path clip-path=\"url(#clip332)\" d=\"\n",
       "M646.52 1233.6 L646.52 1233.6 L658.217 1233.6 L658.217 1233.6 L646.52 1233.6 L646.52 1233.6  Z\n",
       "  \" fill=\"#009af9\" fill-rule=\"evenodd\" fill-opacity=\"1\"/>\n",
       "<polyline clip-path=\"url(#clip332)\" style=\"stroke:#000000; stroke-width:4; stroke-opacity:1; fill:none\" points=\"\n",
       "  646.52,1233.6 646.52,1233.6 658.217,1233.6 646.52,1233.6 \n",
       "  \"/>\n",
       "<path clip-path=\"url(#clip332)\" d=\"\n",
       "M661.141 1233.6 L661.141 1233.6 L672.838 1233.6 L672.838 1233.6 L661.141 1233.6 L661.141 1233.6  Z\n",
       "  \" fill=\"#009af9\" fill-rule=\"evenodd\" fill-opacity=\"1\"/>\n",
       "<polyline clip-path=\"url(#clip332)\" style=\"stroke:#000000; stroke-width:4; stroke-opacity:1; fill:none\" points=\"\n",
       "  661.141,1233.6 661.141,1233.6 672.838,1233.6 661.141,1233.6 \n",
       "  \"/>\n",
       "<path clip-path=\"url(#clip332)\" d=\"\n",
       "M675.762 1233.6 L675.762 1233.6 L687.459 1233.6 L687.459 1233.6 L675.762 1233.6 L675.762 1233.6  Z\n",
       "  \" fill=\"#009af9\" fill-rule=\"evenodd\" fill-opacity=\"1\"/>\n",
       "<polyline clip-path=\"url(#clip332)\" style=\"stroke:#000000; stroke-width:4; stroke-opacity:1; fill:none\" points=\"\n",
       "  675.762,1233.6 675.762,1233.6 687.459,1233.6 675.762,1233.6 \n",
       "  \"/>\n",
       "<path clip-path=\"url(#clip332)\" d=\"\n",
       "M690.383 1233.6 L690.383 1233.6 L702.08 1233.6 L702.08 1233.6 L690.383 1233.6 L690.383 1233.6  Z\n",
       "  \" fill=\"#009af9\" fill-rule=\"evenodd\" fill-opacity=\"1\"/>\n",
       "<polyline clip-path=\"url(#clip332)\" style=\"stroke:#000000; stroke-width:4; stroke-opacity:1; fill:none\" points=\"\n",
       "  690.383,1233.6 690.383,1233.6 702.08,1233.6 690.383,1233.6 \n",
       "  \"/>\n",
       "<path clip-path=\"url(#clip332)\" d=\"\n",
       "M705.004 1233.6 L705.004 1233.6 L716.701 1233.6 L716.701 1233.6 L705.004 1233.6 L705.004 1233.6  Z\n",
       "  \" fill=\"#009af9\" fill-rule=\"evenodd\" fill-opacity=\"1\"/>\n",
       "<polyline clip-path=\"url(#clip332)\" style=\"stroke:#000000; stroke-width:4; stroke-opacity:1; fill:none\" points=\"\n",
       "  705.004,1233.6 705.004,1233.6 716.701,1233.6 705.004,1233.6 \n",
       "  \"/>\n",
       "<path clip-path=\"url(#clip332)\" d=\"\n",
       "M719.625 1233.6 L719.625 1233.6 L731.322 1233.6 L731.322 1233.6 L719.625 1233.6 L719.625 1233.6  Z\n",
       "  \" fill=\"#009af9\" fill-rule=\"evenodd\" fill-opacity=\"1\"/>\n",
       "<polyline clip-path=\"url(#clip332)\" style=\"stroke:#000000; stroke-width:4; stroke-opacity:1; fill:none\" points=\"\n",
       "  719.625,1233.6 719.625,1233.6 731.322,1233.6 719.625,1233.6 \n",
       "  \"/>\n",
       "<path clip-path=\"url(#clip332)\" d=\"\n",
       "M734.246 1233.6 L734.246 1233.6 L745.943 1233.6 L745.943 1233.6 L734.246 1233.6 L734.246 1233.6  Z\n",
       "  \" fill=\"#009af9\" fill-rule=\"evenodd\" fill-opacity=\"1\"/>\n",
       "<polyline clip-path=\"url(#clip332)\" style=\"stroke:#000000; stroke-width:4; stroke-opacity:1; fill:none\" points=\"\n",
       "  734.246,1233.6 734.246,1233.6 745.943,1233.6 734.246,1233.6 \n",
       "  \"/>\n",
       "<path clip-path=\"url(#clip332)\" d=\"\n",
       "M748.867 1233.6 L748.867 1233.6 L760.564 1233.6 L760.564 1233.6 L748.867 1233.6 L748.867 1233.6  Z\n",
       "  \" fill=\"#009af9\" fill-rule=\"evenodd\" fill-opacity=\"1\"/>\n",
       "<polyline clip-path=\"url(#clip332)\" style=\"stroke:#000000; stroke-width:4; stroke-opacity:1; fill:none\" points=\"\n",
       "  748.867,1233.6 748.867,1233.6 760.564,1233.6 748.867,1233.6 \n",
       "  \"/>\n",
       "<path clip-path=\"url(#clip332)\" d=\"\n",
       "M763.488 1233.6 L763.488 1233.6 L775.185 1233.6 L775.185 1233.6 L763.488 1233.6 L763.488 1233.6  Z\n",
       "  \" fill=\"#009af9\" fill-rule=\"evenodd\" fill-opacity=\"1\"/>\n",
       "<polyline clip-path=\"url(#clip332)\" style=\"stroke:#000000; stroke-width:4; stroke-opacity:1; fill:none\" points=\"\n",
       "  763.488,1233.6 763.488,1233.6 775.185,1233.6 763.488,1233.6 \n",
       "  \"/>\n",
       "<path clip-path=\"url(#clip332)\" d=\"\n",
       "M778.109 1233.6 L778.109 1233.6 L789.806 1233.6 L789.806 1233.6 L778.109 1233.6 L778.109 1233.6  Z\n",
       "  \" fill=\"#009af9\" fill-rule=\"evenodd\" fill-opacity=\"1\"/>\n",
       "<polyline clip-path=\"url(#clip332)\" style=\"stroke:#000000; stroke-width:4; stroke-opacity:1; fill:none\" points=\"\n",
       "  778.109,1233.6 778.109,1233.6 789.806,1233.6 778.109,1233.6 \n",
       "  \"/>\n",
       "<path clip-path=\"url(#clip332)\" d=\"\n",
       "M792.73 1233.6 L792.73 1233.6 L804.427 1233.6 L804.427 1233.6 L792.73 1233.6 L792.73 1233.6  Z\n",
       "  \" fill=\"#009af9\" fill-rule=\"evenodd\" fill-opacity=\"1\"/>\n",
       "<polyline clip-path=\"url(#clip332)\" style=\"stroke:#000000; stroke-width:4; stroke-opacity:1; fill:none\" points=\"\n",
       "  792.73,1233.6 792.73,1233.6 804.427,1233.6 792.73,1233.6 \n",
       "  \"/>\n",
       "<path clip-path=\"url(#clip332)\" d=\"\n",
       "M807.351 1233.6 L807.351 1233.6 L819.048 1233.6 L819.048 1233.6 L807.351 1233.6 L807.351 1233.6  Z\n",
       "  \" fill=\"#009af9\" fill-rule=\"evenodd\" fill-opacity=\"1\"/>\n",
       "<polyline clip-path=\"url(#clip332)\" style=\"stroke:#000000; stroke-width:4; stroke-opacity:1; fill:none\" points=\"\n",
       "  807.351,1233.6 807.351,1233.6 819.048,1233.6 807.351,1233.6 \n",
       "  \"/>\n",
       "<path clip-path=\"url(#clip332)\" d=\"\n",
       "M821.972 1233.6 L821.972 1233.6 L833.669 1233.6 L833.669 1233.6 L821.972 1233.6 L821.972 1233.6  Z\n",
       "  \" fill=\"#009af9\" fill-rule=\"evenodd\" fill-opacity=\"1\"/>\n",
       "<polyline clip-path=\"url(#clip332)\" style=\"stroke:#000000; stroke-width:4; stroke-opacity:1; fill:none\" points=\"\n",
       "  821.972,1233.6 821.972,1233.6 833.669,1233.6 821.972,1233.6 \n",
       "  \"/>\n",
       "<path clip-path=\"url(#clip332)\" d=\"\n",
       "M836.593 1233.6 L836.593 1233.6 L848.289 1233.6 L848.289 1233.6 L836.593 1233.6 L836.593 1233.6  Z\n",
       "  \" fill=\"#009af9\" fill-rule=\"evenodd\" fill-opacity=\"1\"/>\n",
       "<polyline clip-path=\"url(#clip332)\" style=\"stroke:#000000; stroke-width:4; stroke-opacity:1; fill:none\" points=\"\n",
       "  836.593,1233.6 836.593,1233.6 848.289,1233.6 836.593,1233.6 \n",
       "  \"/>\n",
       "<path clip-path=\"url(#clip332)\" d=\"\n",
       "M851.214 1233.6 L851.214 1233.6 L862.91 1233.6 L862.91 1233.6 L851.214 1233.6 L851.214 1233.6  Z\n",
       "  \" fill=\"#009af9\" fill-rule=\"evenodd\" fill-opacity=\"1\"/>\n",
       "<polyline clip-path=\"url(#clip332)\" style=\"stroke:#000000; stroke-width:4; stroke-opacity:1; fill:none\" points=\"\n",
       "  851.214,1233.6 851.214,1233.6 862.91,1233.6 851.214,1233.6 \n",
       "  \"/>\n",
       "<path clip-path=\"url(#clip332)\" d=\"\n",
       "M865.835 1233.6 L865.835 1233.6 L877.531 1233.6 L877.531 1233.6 L865.835 1233.6 L865.835 1233.6  Z\n",
       "  \" fill=\"#009af9\" fill-rule=\"evenodd\" fill-opacity=\"1\"/>\n",
       "<polyline clip-path=\"url(#clip332)\" style=\"stroke:#000000; stroke-width:4; stroke-opacity:1; fill:none\" points=\"\n",
       "  865.835,1233.6 865.835,1233.6 877.531,1233.6 865.835,1233.6 \n",
       "  \"/>\n",
       "<path clip-path=\"url(#clip332)\" d=\"\n",
       "M880.456 1233.6 L880.456 1233.6 L892.152 1233.6 L892.152 1233.6 L880.456 1233.6 L880.456 1233.6  Z\n",
       "  \" fill=\"#009af9\" fill-rule=\"evenodd\" fill-opacity=\"1\"/>\n",
       "<polyline clip-path=\"url(#clip332)\" style=\"stroke:#000000; stroke-width:4; stroke-opacity:1; fill:none\" points=\"\n",
       "  880.456,1233.6 880.456,1233.6 892.152,1233.6 880.456,1233.6 \n",
       "  \"/>\n",
       "<path clip-path=\"url(#clip332)\" d=\"\n",
       "M895.076 1233.6 L895.076 1233.6 L906.773 1233.6 L906.773 1233.6 L895.076 1233.6 L895.076 1233.6  Z\n",
       "  \" fill=\"#009af9\" fill-rule=\"evenodd\" fill-opacity=\"1\"/>\n",
       "<polyline clip-path=\"url(#clip332)\" style=\"stroke:#000000; stroke-width:4; stroke-opacity:1; fill:none\" points=\"\n",
       "  895.076,1233.6 895.076,1233.6 906.773,1233.6 895.076,1233.6 \n",
       "  \"/>\n",
       "<path clip-path=\"url(#clip332)\" d=\"\n",
       "M909.697 1233.6 L909.697 1233.6 L921.394 1233.6 L921.394 1233.6 L909.697 1233.6 L909.697 1233.6  Z\n",
       "  \" fill=\"#009af9\" fill-rule=\"evenodd\" fill-opacity=\"1\"/>\n",
       "<polyline clip-path=\"url(#clip332)\" style=\"stroke:#000000; stroke-width:4; stroke-opacity:1; fill:none\" points=\"\n",
       "  909.697,1233.6 909.697,1233.6 921.394,1233.6 909.697,1233.6 \n",
       "  \"/>\n",
       "<path clip-path=\"url(#clip332)\" d=\"\n",
       "M924.318 1230.67 L924.318 1233.6 L936.015 1233.6 L936.015 1230.67 L924.318 1230.67 L924.318 1230.67  Z\n",
       "  \" fill=\"#009af9\" fill-rule=\"evenodd\" fill-opacity=\"1\"/>\n",
       "<polyline clip-path=\"url(#clip332)\" style=\"stroke:#000000; stroke-width:4; stroke-opacity:1; fill:none\" points=\"\n",
       "  924.318,1230.67 924.318,1233.6 936.015,1233.6 936.015,1230.67 924.318,1230.67 \n",
       "  \"/>\n",
       "<path clip-path=\"url(#clip332)\" d=\"\n",
       "M938.939 1231.64 L938.939 1233.6 L950.636 1233.6 L950.636 1231.64 L938.939 1231.64 L938.939 1231.64  Z\n",
       "  \" fill=\"#009af9\" fill-rule=\"evenodd\" fill-opacity=\"1\"/>\n",
       "<polyline clip-path=\"url(#clip332)\" style=\"stroke:#000000; stroke-width:4; stroke-opacity:1; fill:none\" points=\"\n",
       "  938.939,1231.64 938.939,1233.6 950.636,1233.6 950.636,1231.64 938.939,1231.64 \n",
       "  \"/>\n",
       "<path clip-path=\"url(#clip332)\" d=\"\n",
       "M953.56 1232.62 L953.56 1233.6 L965.257 1233.6 L965.257 1232.62 L953.56 1232.62 L953.56 1232.62  Z\n",
       "  \" fill=\"#009af9\" fill-rule=\"evenodd\" fill-opacity=\"1\"/>\n",
       "<polyline clip-path=\"url(#clip332)\" style=\"stroke:#000000; stroke-width:4; stroke-opacity:1; fill:none\" points=\"\n",
       "  953.56,1232.62 953.56,1233.6 965.257,1233.6 965.257,1232.62 953.56,1232.62 \n",
       "  \"/>\n",
       "<path clip-path=\"url(#clip332)\" d=\"\n",
       "M968.181 1233.11 L968.181 1233.6 L979.878 1233.6 L979.878 1233.11 L968.181 1233.11 L968.181 1233.11  Z\n",
       "  \" fill=\"#009af9\" fill-rule=\"evenodd\" fill-opacity=\"1\"/>\n",
       "<polyline clip-path=\"url(#clip332)\" style=\"stroke:#000000; stroke-width:4; stroke-opacity:1; fill:none\" points=\"\n",
       "  968.181,1233.11 968.181,1233.6 979.878,1233.6 979.878,1233.11 968.181,1233.11 \n",
       "  \"/>\n",
       "<path clip-path=\"url(#clip332)\" d=\"\n",
       "M982.802 1233.6 L982.802 1233.6 L994.499 1233.6 L994.499 1233.6 L982.802 1233.6 L982.802 1233.6  Z\n",
       "  \" fill=\"#009af9\" fill-rule=\"evenodd\" fill-opacity=\"1\"/>\n",
       "<polyline clip-path=\"url(#clip332)\" style=\"stroke:#000000; stroke-width:4; stroke-opacity:1; fill:none\" points=\"\n",
       "  982.802,1233.6 982.802,1233.6 994.499,1233.6 982.802,1233.6 \n",
       "  \"/>\n",
       "<path clip-path=\"url(#clip332)\" d=\"\n",
       "M997.423 1231.16 L997.423 1233.6 L1009.12 1233.6 L1009.12 1231.16 L997.423 1231.16 L997.423 1231.16  Z\n",
       "  \" fill=\"#009af9\" fill-rule=\"evenodd\" fill-opacity=\"1\"/>\n",
       "<polyline clip-path=\"url(#clip332)\" style=\"stroke:#000000; stroke-width:4; stroke-opacity:1; fill:none\" points=\"\n",
       "  997.423,1231.16 997.423,1233.6 1009.12,1233.6 1009.12,1231.16 997.423,1231.16 \n",
       "  \"/>\n",
       "<path clip-path=\"url(#clip332)\" d=\"\n",
       "M1012.04 1233.11 L1012.04 1233.6 L1023.74 1233.6 L1023.74 1233.11 L1012.04 1233.11 L1012.04 1233.11  Z\n",
       "  \" fill=\"#009af9\" fill-rule=\"evenodd\" fill-opacity=\"1\"/>\n",
       "<polyline clip-path=\"url(#clip332)\" style=\"stroke:#000000; stroke-width:4; stroke-opacity:1; fill:none\" points=\"\n",
       "  1012.04,1233.11 1012.04,1233.6 1023.74,1233.6 1023.74,1233.11 1012.04,1233.11 \n",
       "  \"/>\n",
       "<path clip-path=\"url(#clip332)\" d=\"\n",
       "M1026.66 1229.69 L1026.66 1233.6 L1038.36 1233.6 L1038.36 1229.69 L1026.66 1229.69 L1026.66 1229.69  Z\n",
       "  \" fill=\"#009af9\" fill-rule=\"evenodd\" fill-opacity=\"1\"/>\n",
       "<polyline clip-path=\"url(#clip332)\" style=\"stroke:#000000; stroke-width:4; stroke-opacity:1; fill:none\" points=\"\n",
       "  1026.66,1229.69 1026.66,1233.6 1038.36,1233.6 1038.36,1229.69 1026.66,1229.69 \n",
       "  \"/>\n",
       "<path clip-path=\"url(#clip332)\" d=\"\n",
       "M1041.29 1231.64 L1041.29 1233.6 L1052.98 1233.6 L1052.98 1231.64 L1041.29 1231.64 L1041.29 1231.64  Z\n",
       "  \" fill=\"#009af9\" fill-rule=\"evenodd\" fill-opacity=\"1\"/>\n",
       "<polyline clip-path=\"url(#clip332)\" style=\"stroke:#000000; stroke-width:4; stroke-opacity:1; fill:none\" points=\"\n",
       "  1041.29,1231.64 1041.29,1233.6 1052.98,1233.6 1052.98,1231.64 1041.29,1231.64 \n",
       "  \"/>\n",
       "<path clip-path=\"url(#clip332)\" d=\"\n",
       "M1055.91 1229.69 L1055.91 1233.6 L1067.6 1233.6 L1067.6 1229.69 L1055.91 1229.69 L1055.91 1229.69  Z\n",
       "  \" fill=\"#009af9\" fill-rule=\"evenodd\" fill-opacity=\"1\"/>\n",
       "<polyline clip-path=\"url(#clip332)\" style=\"stroke:#000000; stroke-width:4; stroke-opacity:1; fill:none\" points=\"\n",
       "  1055.91,1229.69 1055.91,1233.6 1067.6,1233.6 1067.6,1229.69 1055.91,1229.69 \n",
       "  \"/>\n",
       "<path clip-path=\"url(#clip332)\" d=\"\n",
       "M1070.53 1227.25 L1070.53 1233.6 L1082.22 1233.6 L1082.22 1227.25 L1070.53 1227.25 L1070.53 1227.25  Z\n",
       "  \" fill=\"#009af9\" fill-rule=\"evenodd\" fill-opacity=\"1\"/>\n",
       "<polyline clip-path=\"url(#clip332)\" style=\"stroke:#000000; stroke-width:4; stroke-opacity:1; fill:none\" points=\"\n",
       "  1070.53,1227.25 1070.53,1233.6 1082.22,1233.6 1082.22,1227.25 1070.53,1227.25 \n",
       "  \"/>\n",
       "<path clip-path=\"url(#clip332)\" d=\"\n",
       "M1085.15 1225.79 L1085.15 1233.6 L1096.85 1233.6 L1096.85 1225.79 L1085.15 1225.79 L1085.15 1225.79  Z\n",
       "  \" fill=\"#009af9\" fill-rule=\"evenodd\" fill-opacity=\"1\"/>\n",
       "<polyline clip-path=\"url(#clip332)\" style=\"stroke:#000000; stroke-width:4; stroke-opacity:1; fill:none\" points=\"\n",
       "  1085.15,1225.79 1085.15,1233.6 1096.85,1233.6 1096.85,1225.79 1085.15,1225.79 \n",
       "  \"/>\n",
       "<path clip-path=\"url(#clip332)\" d=\"\n",
       "M1099.77 1221.4 L1099.77 1233.6 L1111.47 1233.6 L1111.47 1221.4 L1099.77 1221.4 L1099.77 1221.4  Z\n",
       "  \" fill=\"#009af9\" fill-rule=\"evenodd\" fill-opacity=\"1\"/>\n",
       "<polyline clip-path=\"url(#clip332)\" style=\"stroke:#000000; stroke-width:4; stroke-opacity:1; fill:none\" points=\"\n",
       "  1099.77,1221.4 1099.77,1233.6 1111.47,1233.6 1111.47,1221.4 1099.77,1221.4 \n",
       "  \"/>\n",
       "<path clip-path=\"url(#clip332)\" d=\"\n",
       "M1114.39 1209.2 L1114.39 1233.6 L1126.09 1233.6 L1126.09 1209.2 L1114.39 1209.2 L1114.39 1209.2  Z\n",
       "  \" fill=\"#009af9\" fill-rule=\"evenodd\" fill-opacity=\"1\"/>\n",
       "<polyline clip-path=\"url(#clip332)\" style=\"stroke:#000000; stroke-width:4; stroke-opacity:1; fill:none\" points=\"\n",
       "  1114.39,1209.2 1114.39,1233.6 1126.09,1233.6 1126.09,1209.2 1114.39,1209.2 \n",
       "  \"/>\n",
       "<path clip-path=\"url(#clip332)\" d=\"\n",
       "M1129.01 1211.16 L1129.01 1233.6 L1140.71 1233.6 L1140.71 1211.16 L1129.01 1211.16 L1129.01 1211.16  Z\n",
       "  \" fill=\"#009af9\" fill-rule=\"evenodd\" fill-opacity=\"1\"/>\n",
       "<polyline clip-path=\"url(#clip332)\" style=\"stroke:#000000; stroke-width:4; stroke-opacity:1; fill:none\" points=\"\n",
       "  1129.01,1211.16 1129.01,1233.6 1140.71,1233.6 1140.71,1211.16 1129.01,1211.16 \n",
       "  \"/>\n",
       "<path clip-path=\"url(#clip332)\" d=\"\n",
       "M1143.63 1213.6 L1143.63 1233.6 L1155.33 1233.6 L1155.33 1213.6 L1143.63 1213.6 L1143.63 1213.6  Z\n",
       "  \" fill=\"#009af9\" fill-rule=\"evenodd\" fill-opacity=\"1\"/>\n",
       "<polyline clip-path=\"url(#clip332)\" style=\"stroke:#000000; stroke-width:4; stroke-opacity:1; fill:none\" points=\"\n",
       "  1143.63,1213.6 1143.63,1233.6 1155.33,1233.6 1155.33,1213.6 1143.63,1213.6 \n",
       "  \"/>\n",
       "<path clip-path=\"url(#clip332)\" d=\"\n",
       "M1158.25 1203.84 L1158.25 1233.6 L1169.95 1233.6 L1169.95 1203.84 L1158.25 1203.84 L1158.25 1203.84  Z\n",
       "  \" fill=\"#009af9\" fill-rule=\"evenodd\" fill-opacity=\"1\"/>\n",
       "<polyline clip-path=\"url(#clip332)\" style=\"stroke:#000000; stroke-width:4; stroke-opacity:1; fill:none\" points=\"\n",
       "  1158.25,1203.84 1158.25,1233.6 1169.95,1233.6 1169.95,1203.84 1158.25,1203.84 \n",
       "  \"/>\n",
       "<path clip-path=\"url(#clip332)\" d=\"\n",
       "M1172.87 1204.81 L1172.87 1233.6 L1184.57 1233.6 L1184.57 1204.81 L1172.87 1204.81 L1172.87 1204.81  Z\n",
       "  \" fill=\"#009af9\" fill-rule=\"evenodd\" fill-opacity=\"1\"/>\n",
       "<polyline clip-path=\"url(#clip332)\" style=\"stroke:#000000; stroke-width:4; stroke-opacity:1; fill:none\" points=\"\n",
       "  1172.87,1204.81 1172.87,1233.6 1184.57,1233.6 1184.57,1204.81 1172.87,1204.81 \n",
       "  \"/>\n",
       "<path clip-path=\"url(#clip332)\" d=\"\n",
       "M1187.5 1199.45 L1187.5 1233.6 L1199.19 1233.6 L1199.19 1199.45 L1187.5 1199.45 L1187.5 1199.45  Z\n",
       "  \" fill=\"#009af9\" fill-rule=\"evenodd\" fill-opacity=\"1\"/>\n",
       "<polyline clip-path=\"url(#clip332)\" style=\"stroke:#000000; stroke-width:4; stroke-opacity:1; fill:none\" points=\"\n",
       "  1187.5,1199.45 1187.5,1233.6 1199.19,1233.6 1199.19,1199.45 1187.5,1199.45 \n",
       "  \"/>\n",
       "<path clip-path=\"url(#clip332)\" d=\"\n",
       "M1202.12 1177.5 L1202.12 1233.6 L1213.81 1233.6 L1213.81 1177.5 L1202.12 1177.5 L1202.12 1177.5  Z\n",
       "  \" fill=\"#009af9\" fill-rule=\"evenodd\" fill-opacity=\"1\"/>\n",
       "<polyline clip-path=\"url(#clip332)\" style=\"stroke:#000000; stroke-width:4; stroke-opacity:1; fill:none\" points=\"\n",
       "  1202.12,1177.5 1202.12,1233.6 1213.81,1233.6 1213.81,1177.5 1202.12,1177.5 \n",
       "  \"/>\n",
       "<path clip-path=\"url(#clip332)\" d=\"\n",
       "M1216.74 1172.13 L1216.74 1233.6 L1228.43 1233.6 L1228.43 1172.13 L1216.74 1172.13 L1216.74 1172.13  Z\n",
       "  \" fill=\"#009af9\" fill-rule=\"evenodd\" fill-opacity=\"1\"/>\n",
       "<polyline clip-path=\"url(#clip332)\" style=\"stroke:#000000; stroke-width:4; stroke-opacity:1; fill:none\" points=\"\n",
       "  1216.74,1172.13 1216.74,1233.6 1228.43,1233.6 1228.43,1172.13 1216.74,1172.13 \n",
       "  \"/>\n",
       "<path clip-path=\"url(#clip332)\" d=\"\n",
       "M1231.36 1166.76 L1231.36 1233.6 L1243.05 1233.6 L1243.05 1166.76 L1231.36 1166.76 L1231.36 1166.76  Z\n",
       "  \" fill=\"#009af9\" fill-rule=\"evenodd\" fill-opacity=\"1\"/>\n",
       "<polyline clip-path=\"url(#clip332)\" style=\"stroke:#000000; stroke-width:4; stroke-opacity:1; fill:none\" points=\"\n",
       "  1231.36,1166.76 1231.36,1233.6 1243.05,1233.6 1243.05,1166.76 1231.36,1166.76 \n",
       "  \"/>\n",
       "<path clip-path=\"url(#clip332)\" d=\"\n",
       "M1245.98 1030.17 L1245.98 1233.6 L1257.68 1233.6 L1257.68 1030.17 L1245.98 1030.17 L1245.98 1030.17  Z\n",
       "  \" fill=\"#009af9\" fill-rule=\"evenodd\" fill-opacity=\"1\"/>\n",
       "<polyline clip-path=\"url(#clip332)\" style=\"stroke:#000000; stroke-width:4; stroke-opacity:1; fill:none\" points=\"\n",
       "  1245.98,1030.17 1245.98,1233.6 1257.68,1233.6 1257.68,1030.17 1245.98,1030.17 \n",
       "  \"/>\n",
       "<path clip-path=\"url(#clip332)\" d=\"\n",
       "M1260.6 1112.13 L1260.6 1233.6 L1272.3 1233.6 L1272.3 1112.13 L1260.6 1112.13 L1260.6 1112.13  Z\n",
       "  \" fill=\"#009af9\" fill-rule=\"evenodd\" fill-opacity=\"1\"/>\n",
       "<polyline clip-path=\"url(#clip332)\" style=\"stroke:#000000; stroke-width:4; stroke-opacity:1; fill:none\" points=\"\n",
       "  1260.6,1112.13 1260.6,1233.6 1272.3,1233.6 1272.3,1112.13 1260.6,1112.13 \n",
       "  \"/>\n",
       "<path clip-path=\"url(#clip332)\" d=\"\n",
       "M1275.22 1068.22 L1275.22 1233.6 L1286.92 1233.6 L1286.92 1068.22 L1275.22 1068.22 L1275.22 1068.22  Z\n",
       "  \" fill=\"#009af9\" fill-rule=\"evenodd\" fill-opacity=\"1\"/>\n",
       "<polyline clip-path=\"url(#clip332)\" style=\"stroke:#000000; stroke-width:4; stroke-opacity:1; fill:none\" points=\"\n",
       "  1275.22,1068.22 1275.22,1233.6 1286.92,1233.6 1286.92,1068.22 1275.22,1068.22 \n",
       "  \"/>\n",
       "<path clip-path=\"url(#clip332)\" d=\"\n",
       "M1289.84 1071.64 L1289.84 1233.6 L1301.54 1233.6 L1301.54 1071.64 L1289.84 1071.64 L1289.84 1071.64  Z\n",
       "  \" fill=\"#009af9\" fill-rule=\"evenodd\" fill-opacity=\"1\"/>\n",
       "<polyline clip-path=\"url(#clip332)\" style=\"stroke:#000000; stroke-width:4; stroke-opacity:1; fill:none\" points=\"\n",
       "  1289.84,1071.64 1289.84,1233.6 1301.54,1233.6 1301.54,1071.64 1289.84,1071.64 \n",
       "  \"/>\n",
       "<path clip-path=\"url(#clip332)\" d=\"\n",
       "M1304.46 1068.71 L1304.46 1233.6 L1316.16 1233.6 L1316.16 1068.71 L1304.46 1068.71 L1304.46 1068.71  Z\n",
       "  \" fill=\"#009af9\" fill-rule=\"evenodd\" fill-opacity=\"1\"/>\n",
       "<polyline clip-path=\"url(#clip332)\" style=\"stroke:#000000; stroke-width:4; stroke-opacity:1; fill:none\" points=\"\n",
       "  1304.46,1068.71 1304.46,1233.6 1316.16,1233.6 1316.16,1068.71 1304.46,1068.71 \n",
       "  \"/>\n",
       "<path clip-path=\"url(#clip332)\" d=\"\n",
       "M1319.08 971.633 L1319.08 1233.6 L1330.78 1233.6 L1330.78 971.633 L1319.08 971.633 L1319.08 971.633  Z\n",
       "  \" fill=\"#009af9\" fill-rule=\"evenodd\" fill-opacity=\"1\"/>\n",
       "<polyline clip-path=\"url(#clip332)\" style=\"stroke:#000000; stroke-width:4; stroke-opacity:1; fill:none\" points=\"\n",
       "  1319.08,971.633 1319.08,1233.6 1330.78,1233.6 1330.78,971.633 1319.08,971.633 \n",
       "  \"/>\n",
       "<path clip-path=\"url(#clip332)\" d=\"\n",
       "M1333.7 986.268 L1333.7 1233.6 L1345.4 1233.6 L1345.4 986.268 L1333.7 986.268 L1333.7 986.268  Z\n",
       "  \" fill=\"#009af9\" fill-rule=\"evenodd\" fill-opacity=\"1\"/>\n",
       "<polyline clip-path=\"url(#clip332)\" style=\"stroke:#000000; stroke-width:4; stroke-opacity:1; fill:none\" points=\"\n",
       "  1333.7,986.268 1333.7,1233.6 1345.4,1233.6 1345.4,986.268 1333.7,986.268 \n",
       "  \"/>\n",
       "<path clip-path=\"url(#clip332)\" d=\"\n",
       "M1348.33 976.511 L1348.33 1233.6 L1360.02 1233.6 L1360.02 976.511 L1348.33 976.511 L1348.33 976.511  Z\n",
       "  \" fill=\"#009af9\" fill-rule=\"evenodd\" fill-opacity=\"1\"/>\n",
       "<polyline clip-path=\"url(#clip332)\" style=\"stroke:#000000; stroke-width:4; stroke-opacity:1; fill:none\" points=\"\n",
       "  1348.33,976.511 1348.33,1233.6 1360.02,1233.6 1360.02,976.511 1348.33,976.511 \n",
       "  \"/>\n",
       "<path clip-path=\"url(#clip332)\" d=\"\n",
       "M1362.95 979.438 L1362.95 1233.6 L1374.64 1233.6 L1374.64 979.438 L1362.95 979.438 L1362.95 979.438  Z\n",
       "  \" fill=\"#009af9\" fill-rule=\"evenodd\" fill-opacity=\"1\"/>\n",
       "<polyline clip-path=\"url(#clip332)\" style=\"stroke:#000000; stroke-width:4; stroke-opacity:1; fill:none\" points=\"\n",
       "  1362.95,979.438 1362.95,1233.6 1374.64,1233.6 1374.64,979.438 1362.95,979.438 \n",
       "  \"/>\n",
       "<path clip-path=\"url(#clip332)\" d=\"\n",
       "M1377.57 886.751 L1377.57 1233.6 L1389.26 1233.6 L1389.26 886.751 L1377.57 886.751 L1377.57 886.751  Z\n",
       "  \" fill=\"#009af9\" fill-rule=\"evenodd\" fill-opacity=\"1\"/>\n",
       "<polyline clip-path=\"url(#clip332)\" style=\"stroke:#000000; stroke-width:4; stroke-opacity:1; fill:none\" points=\"\n",
       "  1377.57,886.751 1377.57,1233.6 1389.26,1233.6 1389.26,886.751 1377.57,886.751 \n",
       "  \"/>\n",
       "<path clip-path=\"url(#clip332)\" d=\"\n",
       "M1392.19 910.166 L1392.19 1233.6 L1403.89 1233.6 L1403.89 910.166 L1392.19 910.166 L1392.19 910.166  Z\n",
       "  \" fill=\"#009af9\" fill-rule=\"evenodd\" fill-opacity=\"1\"/>\n",
       "<polyline clip-path=\"url(#clip332)\" style=\"stroke:#000000; stroke-width:4; stroke-opacity:1; fill:none\" points=\"\n",
       "  1392.19,910.166 1392.19,1233.6 1403.89,1233.6 1403.89,910.166 1392.19,910.166 \n",
       "  \"/>\n",
       "<path clip-path=\"url(#clip332)\" d=\"\n",
       "M1406.81 1028.71 L1406.81 1233.6 L1418.51 1233.6 L1418.51 1028.71 L1406.81 1028.71 L1406.81 1028.71  Z\n",
       "  \" fill=\"#009af9\" fill-rule=\"evenodd\" fill-opacity=\"1\"/>\n",
       "<polyline clip-path=\"url(#clip332)\" style=\"stroke:#000000; stroke-width:4; stroke-opacity:1; fill:none\" points=\"\n",
       "  1406.81,1028.71 1406.81,1233.6 1418.51,1233.6 1418.51,1028.71 1406.81,1028.71 \n",
       "  \"/>\n",
       "<path clip-path=\"url(#clip332)\" d=\"\n",
       "M1421.43 965.291 L1421.43 1233.6 L1433.13 1233.6 L1433.13 965.291 L1421.43 965.291 L1421.43 965.291  Z\n",
       "  \" fill=\"#009af9\" fill-rule=\"evenodd\" fill-opacity=\"1\"/>\n",
       "<polyline clip-path=\"url(#clip332)\" style=\"stroke:#000000; stroke-width:4; stroke-opacity:1; fill:none\" points=\"\n",
       "  1421.43,965.291 1421.43,1233.6 1433.13,1233.6 1433.13,965.291 1421.43,965.291 \n",
       "  \"/>\n",
       "<path clip-path=\"url(#clip332)\" d=\"\n",
       "M1436.05 931.143 L1436.05 1233.6 L1447.75 1233.6 L1447.75 931.143 L1436.05 931.143 L1436.05 931.143  Z\n",
       "  \" fill=\"#009af9\" fill-rule=\"evenodd\" fill-opacity=\"1\"/>\n",
       "<polyline clip-path=\"url(#clip332)\" style=\"stroke:#000000; stroke-width:4; stroke-opacity:1; fill:none\" points=\"\n",
       "  1436.05,931.143 1436.05,1233.6 1447.75,1233.6 1447.75,931.143 1436.05,931.143 \n",
       "  \"/>\n",
       "<path clip-path=\"url(#clip332)\" d=\"\n",
       "M1450.67 1026.27 L1450.67 1233.6 L1462.37 1233.6 L1462.37 1026.27 L1450.67 1026.27 L1450.67 1026.27  Z\n",
       "  \" fill=\"#009af9\" fill-rule=\"evenodd\" fill-opacity=\"1\"/>\n",
       "<polyline clip-path=\"url(#clip332)\" style=\"stroke:#000000; stroke-width:4; stroke-opacity:1; fill:none\" points=\"\n",
       "  1450.67,1026.27 1450.67,1233.6 1462.37,1233.6 1462.37,1026.27 1450.67,1026.27 \n",
       "  \"/>\n",
       "<path clip-path=\"url(#clip332)\" d=\"\n",
       "M1465.29 1001.88 L1465.29 1233.6 L1476.99 1233.6 L1476.99 1001.88 L1465.29 1001.88 L1465.29 1001.88  Z\n",
       "  \" fill=\"#009af9\" fill-rule=\"evenodd\" fill-opacity=\"1\"/>\n",
       "<polyline clip-path=\"url(#clip332)\" style=\"stroke:#000000; stroke-width:4; stroke-opacity:1; fill:none\" points=\"\n",
       "  1465.29,1001.88 1465.29,1233.6 1476.99,1233.6 1476.99,1001.88 1465.29,1001.88 \n",
       "  \"/>\n",
       "<path clip-path=\"url(#clip332)\" d=\"\n",
       "M1479.91 1017.49 L1479.91 1233.6 L1491.61 1233.6 L1491.61 1017.49 L1479.91 1017.49 L1479.91 1017.49  Z\n",
       "  \" fill=\"#009af9\" fill-rule=\"evenodd\" fill-opacity=\"1\"/>\n",
       "<polyline clip-path=\"url(#clip332)\" style=\"stroke:#000000; stroke-width:4; stroke-opacity:1; fill:none\" points=\"\n",
       "  1479.91,1017.49 1479.91,1233.6 1491.61,1233.6 1491.61,1017.49 1479.91,1017.49 \n",
       "  \"/>\n",
       "<path clip-path=\"url(#clip332)\" d=\"\n",
       "M1494.54 1077.98 L1494.54 1233.6 L1506.23 1233.6 L1506.23 1077.98 L1494.54 1077.98 L1494.54 1077.98  Z\n",
       "  \" fill=\"#009af9\" fill-rule=\"evenodd\" fill-opacity=\"1\"/>\n",
       "<polyline clip-path=\"url(#clip332)\" style=\"stroke:#000000; stroke-width:4; stroke-opacity:1; fill:none\" points=\"\n",
       "  1494.54,1077.98 1494.54,1233.6 1506.23,1233.6 1506.23,1077.98 1494.54,1077.98 \n",
       "  \"/>\n",
       "<path clip-path=\"url(#clip332)\" d=\"\n",
       "M1509.16 1122.37 L1509.16 1233.6 L1520.85 1233.6 L1520.85 1122.37 L1509.16 1122.37 L1509.16 1122.37  Z\n",
       "  \" fill=\"#009af9\" fill-rule=\"evenodd\" fill-opacity=\"1\"/>\n",
       "<polyline clip-path=\"url(#clip332)\" style=\"stroke:#000000; stroke-width:4; stroke-opacity:1; fill:none\" points=\"\n",
       "  1509.16,1122.37 1509.16,1233.6 1520.85,1233.6 1520.85,1122.37 1509.16,1122.37 \n",
       "  \"/>\n",
       "<path clip-path=\"url(#clip332)\" d=\"\n",
       "M1523.78 927.728 L1523.78 1233.6 L1535.47 1233.6 L1535.47 927.728 L1523.78 927.728 L1523.78 927.728  Z\n",
       "  \" fill=\"#009af9\" fill-rule=\"evenodd\" fill-opacity=\"1\"/>\n",
       "<polyline clip-path=\"url(#clip332)\" style=\"stroke:#000000; stroke-width:4; stroke-opacity:1; fill:none\" points=\"\n",
       "  1523.78,927.728 1523.78,1233.6 1535.47,1233.6 1535.47,927.728 1523.78,927.728 \n",
       "  \"/>\n",
       "<path clip-path=\"url(#clip332)\" d=\"\n",
       "M1538.4 1014.56 L1538.4 1233.6 L1550.09 1233.6 L1550.09 1014.56 L1538.4 1014.56 L1538.4 1014.56  Z\n",
       "  \" fill=\"#009af9\" fill-rule=\"evenodd\" fill-opacity=\"1\"/>\n",
       "<polyline clip-path=\"url(#clip332)\" style=\"stroke:#000000; stroke-width:4; stroke-opacity:1; fill:none\" points=\"\n",
       "  1538.4,1014.56 1538.4,1233.6 1550.09,1233.6 1550.09,1014.56 1538.4,1014.56 \n",
       "  \"/>\n",
       "<path clip-path=\"url(#clip332)\" d=\"\n",
       "M1553.02 1058.95 L1553.02 1233.6 L1564.72 1233.6 L1564.72 1058.95 L1553.02 1058.95 L1553.02 1058.95  Z\n",
       "  \" fill=\"#009af9\" fill-rule=\"evenodd\" fill-opacity=\"1\"/>\n",
       "<polyline clip-path=\"url(#clip332)\" style=\"stroke:#000000; stroke-width:4; stroke-opacity:1; fill:none\" points=\"\n",
       "  1553.02,1058.95 1553.02,1233.6 1564.72,1233.6 1564.72,1058.95 1553.02,1058.95 \n",
       "  \"/>\n",
       "<path clip-path=\"url(#clip332)\" d=\"\n",
       "M1567.64 971.633 L1567.64 1233.6 L1579.34 1233.6 L1579.34 971.633 L1567.64 971.633 L1567.64 971.633  Z\n",
       "  \" fill=\"#009af9\" fill-rule=\"evenodd\" fill-opacity=\"1\"/>\n",
       "<polyline clip-path=\"url(#clip332)\" style=\"stroke:#000000; stroke-width:4; stroke-opacity:1; fill:none\" points=\"\n",
       "  1567.64,971.633 1567.64,1233.6 1579.34,1233.6 1579.34,971.633 1567.64,971.633 \n",
       "  \"/>\n",
       "<path clip-path=\"url(#clip332)\" d=\"\n",
       "M1582.26 926.265 L1582.26 1233.6 L1593.96 1233.6 L1593.96 926.265 L1582.26 926.265 L1582.26 926.265  Z\n",
       "  \" fill=\"#009af9\" fill-rule=\"evenodd\" fill-opacity=\"1\"/>\n",
       "<polyline clip-path=\"url(#clip332)\" style=\"stroke:#000000; stroke-width:4; stroke-opacity:1; fill:none\" points=\"\n",
       "  1582.26,926.265 1582.26,1233.6 1593.96,1233.6 1593.96,926.265 1582.26,926.265 \n",
       "  \"/>\n",
       "<path clip-path=\"url(#clip332)\" d=\"\n",
       "M1596.88 1077.49 L1596.88 1233.6 L1608.58 1233.6 L1608.58 1077.49 L1596.88 1077.49 L1596.88 1077.49  Z\n",
       "  \" fill=\"#009af9\" fill-rule=\"evenodd\" fill-opacity=\"1\"/>\n",
       "<polyline clip-path=\"url(#clip332)\" style=\"stroke:#000000; stroke-width:4; stroke-opacity:1; fill:none\" points=\"\n",
       "  1596.88,1077.49 1596.88,1233.6 1608.58,1233.6 1608.58,1077.49 1596.88,1077.49 \n",
       "  \"/>\n",
       "<path clip-path=\"url(#clip332)\" d=\"\n",
       "M1611.5 514.05 L1611.5 1233.6 L1623.2 1233.6 L1623.2 514.05 L1611.5 514.05 L1611.5 514.05  Z\n",
       "  \" fill=\"#009af9\" fill-rule=\"evenodd\" fill-opacity=\"1\"/>\n",
       "<polyline clip-path=\"url(#clip332)\" style=\"stroke:#000000; stroke-width:4; stroke-opacity:1; fill:none\" points=\"\n",
       "  1611.5,514.05 1611.5,1233.6 1623.2,1233.6 1623.2,514.05 1611.5,514.05 \n",
       "  \"/>\n",
       "<path clip-path=\"url(#clip332)\" d=\"\n",
       "M1626.12 587.712 L1626.12 1233.6 L1637.82 1233.6 L1637.82 587.712 L1626.12 587.712 L1626.12 587.712  Z\n",
       "  \" fill=\"#009af9\" fill-rule=\"evenodd\" fill-opacity=\"1\"/>\n",
       "<polyline clip-path=\"url(#clip332)\" style=\"stroke:#000000; stroke-width:4; stroke-opacity:1; fill:none\" points=\"\n",
       "  1626.12,587.712 1626.12,1233.6 1637.82,1233.6 1637.82,587.712 1626.12,587.712 \n",
       "  \"/>\n",
       "<path clip-path=\"url(#clip332)\" d=\"\n",
       "M1640.74 601.859 L1640.74 1233.6 L1652.44 1233.6 L1652.44 601.859 L1640.74 601.859 L1640.74 601.859  Z\n",
       "  \" fill=\"#009af9\" fill-rule=\"evenodd\" fill-opacity=\"1\"/>\n",
       "<polyline clip-path=\"url(#clip332)\" style=\"stroke:#000000; stroke-width:4; stroke-opacity:1; fill:none\" points=\"\n",
       "  1640.74,601.859 1640.74,1233.6 1652.44,1233.6 1652.44,601.859 1640.74,601.859 \n",
       "  \"/>\n",
       "<path clip-path=\"url(#clip332)\" d=\"\n",
       "M1655.37 710.157 L1655.37 1233.6 L1667.06 1233.6 L1667.06 710.157 L1655.37 710.157 L1655.37 710.157  Z\n",
       "  \" fill=\"#009af9\" fill-rule=\"evenodd\" fill-opacity=\"1\"/>\n",
       "<polyline clip-path=\"url(#clip332)\" style=\"stroke:#000000; stroke-width:4; stroke-opacity:1; fill:none\" points=\"\n",
       "  1655.37,710.157 1655.37,1233.6 1667.06,1233.6 1667.06,710.157 1655.37,710.157 \n",
       "  \"/>\n",
       "<path clip-path=\"url(#clip332)\" d=\"\n",
       "M1669.99 727.719 L1669.99 1233.6 L1681.68 1233.6 L1681.68 727.719 L1669.99 727.719 L1669.99 727.719  Z\n",
       "  \" fill=\"#009af9\" fill-rule=\"evenodd\" fill-opacity=\"1\"/>\n",
       "<polyline clip-path=\"url(#clip332)\" style=\"stroke:#000000; stroke-width:4; stroke-opacity:1; fill:none\" points=\"\n",
       "  1669.99,727.719 1669.99,1233.6 1681.68,1233.6 1681.68,727.719 1669.99,727.719 \n",
       "  \"/>\n",
       "<path clip-path=\"url(#clip332)\" d=\"\n",
       "M1684.61 959.437 L1684.61 1233.6 L1696.3 1233.6 L1696.3 959.437 L1684.61 959.437 L1684.61 959.437  Z\n",
       "  \" fill=\"#009af9\" fill-rule=\"evenodd\" fill-opacity=\"1\"/>\n",
       "<polyline clip-path=\"url(#clip332)\" style=\"stroke:#000000; stroke-width:4; stroke-opacity:1; fill:none\" points=\"\n",
       "  1684.61,959.437 1684.61,1233.6 1696.3,1233.6 1696.3,959.437 1684.61,959.437 \n",
       "  \"/>\n",
       "<path clip-path=\"url(#clip332)\" d=\"\n",
       "M1699.23 1028.22 L1699.23 1233.6 L1710.93 1233.6 L1710.93 1028.22 L1699.23 1028.22 L1699.23 1028.22  Z\n",
       "  \" fill=\"#009af9\" fill-rule=\"evenodd\" fill-opacity=\"1\"/>\n",
       "<polyline clip-path=\"url(#clip332)\" style=\"stroke:#000000; stroke-width:4; stroke-opacity:1; fill:none\" points=\"\n",
       "  1699.23,1028.22 1699.23,1233.6 1710.93,1233.6 1710.93,1028.22 1699.23,1028.22 \n",
       "  \"/>\n",
       "<path clip-path=\"url(#clip332)\" d=\"\n",
       "M1713.85 799.917 L1713.85 1233.6 L1725.55 1233.6 L1725.55 799.917 L1713.85 799.917 L1713.85 799.917  Z\n",
       "  \" fill=\"#009af9\" fill-rule=\"evenodd\" fill-opacity=\"1\"/>\n",
       "<polyline clip-path=\"url(#clip332)\" style=\"stroke:#000000; stroke-width:4; stroke-opacity:1; fill:none\" points=\"\n",
       "  1713.85,799.917 1713.85,1233.6 1725.55,1233.6 1725.55,799.917 1713.85,799.917 \n",
       "  \"/>\n",
       "<path clip-path=\"url(#clip332)\" d=\"\n",
       "M1728.47 960.901 L1728.47 1233.6 L1740.17 1233.6 L1740.17 960.901 L1728.47 960.901 L1728.47 960.901  Z\n",
       "  \" fill=\"#009af9\" fill-rule=\"evenodd\" fill-opacity=\"1\"/>\n",
       "<polyline clip-path=\"url(#clip332)\" style=\"stroke:#000000; stroke-width:4; stroke-opacity:1; fill:none\" points=\"\n",
       "  1728.47,960.901 1728.47,1233.6 1740.17,1233.6 1740.17,960.901 1728.47,960.901 \n",
       "  \"/>\n",
       "<path clip-path=\"url(#clip332)\" d=\"\n",
       "M1743.09 497.464 L1743.09 1233.6 L1754.79 1233.6 L1754.79 497.464 L1743.09 497.464 L1743.09 497.464  Z\n",
       "  \" fill=\"#009af9\" fill-rule=\"evenodd\" fill-opacity=\"1\"/>\n",
       "<polyline clip-path=\"url(#clip332)\" style=\"stroke:#000000; stroke-width:4; stroke-opacity:1; fill:none\" points=\"\n",
       "  1743.09,497.464 1743.09,1233.6 1754.79,1233.6 1754.79,497.464 1743.09,497.464 \n",
       "  \"/>\n",
       "<path clip-path=\"url(#clip332)\" d=\"\n",
       "M1757.71 893.58 L1757.71 1233.6 L1769.41 1233.6 L1769.41 893.58 L1757.71 893.58 L1757.71 893.58  Z\n",
       "  \" fill=\"#009af9\" fill-rule=\"evenodd\" fill-opacity=\"1\"/>\n",
       "<polyline clip-path=\"url(#clip332)\" style=\"stroke:#000000; stroke-width:4; stroke-opacity:1; fill:none\" points=\"\n",
       "  1757.71,893.58 1757.71,1233.6 1769.41,1233.6 1769.41,893.58 1757.71,893.58 \n",
       "  \"/>\n",
       "<path clip-path=\"url(#clip332)\" d=\"\n",
       "M1772.33 729.67 L1772.33 1233.6 L1784.03 1233.6 L1784.03 729.67 L1772.33 729.67 L1772.33 729.67  Z\n",
       "  \" fill=\"#009af9\" fill-rule=\"evenodd\" fill-opacity=\"1\"/>\n",
       "<polyline clip-path=\"url(#clip332)\" style=\"stroke:#000000; stroke-width:4; stroke-opacity:1; fill:none\" points=\"\n",
       "  1772.33,729.67 1772.33,1233.6 1784.03,1233.6 1784.03,729.67 1772.33,729.67 \n",
       "  \"/>\n",
       "<path clip-path=\"url(#clip332)\" d=\"\n",
       "M1786.95 902.361 L1786.95 1233.6 L1798.65 1233.6 L1798.65 902.361 L1786.95 902.361 L1786.95 902.361  Z\n",
       "  \" fill=\"#009af9\" fill-rule=\"evenodd\" fill-opacity=\"1\"/>\n",
       "<polyline clip-path=\"url(#clip332)\" style=\"stroke:#000000; stroke-width:4; stroke-opacity:1; fill:none\" points=\"\n",
       "  1786.95,902.361 1786.95,1233.6 1798.65,1233.6 1798.65,902.361 1786.95,902.361 \n",
       "  \"/>\n",
       "<path clip-path=\"url(#clip332)\" d=\"\n",
       "M1801.57 858.945 L1801.57 1233.6 L1813.27 1233.6 L1813.27 858.945 L1801.57 858.945 L1801.57 858.945  Z\n",
       "  \" fill=\"#009af9\" fill-rule=\"evenodd\" fill-opacity=\"1\"/>\n",
       "<polyline clip-path=\"url(#clip332)\" style=\"stroke:#000000; stroke-width:4; stroke-opacity:1; fill:none\" points=\"\n",
       "  1801.57,858.945 1801.57,1233.6 1813.27,1233.6 1813.27,858.945 1801.57,858.945 \n",
       "  \"/>\n",
       "<path clip-path=\"url(#clip332)\" d=\"\n",
       "M1816.2 962.852 L1816.2 1233.6 L1827.89 1233.6 L1827.89 962.852 L1816.2 962.852 L1816.2 962.852  Z\n",
       "  \" fill=\"#009af9\" fill-rule=\"evenodd\" fill-opacity=\"1\"/>\n",
       "<polyline clip-path=\"url(#clip332)\" style=\"stroke:#000000; stroke-width:4; stroke-opacity:1; fill:none\" points=\"\n",
       "  1816.2,962.852 1816.2,1233.6 1827.89,1233.6 1827.89,962.852 1816.2,962.852 \n",
       "  \"/>\n",
       "<path clip-path=\"url(#clip332)\" d=\"\n",
       "M1830.82 454.048 L1830.82 1233.6 L1842.51 1233.6 L1842.51 454.048 L1830.82 454.048 L1830.82 454.048  Z\n",
       "  \" fill=\"#009af9\" fill-rule=\"evenodd\" fill-opacity=\"1\"/>\n",
       "<polyline clip-path=\"url(#clip332)\" style=\"stroke:#000000; stroke-width:4; stroke-opacity:1; fill:none\" points=\"\n",
       "  1830.82,454.048 1830.82,1233.6 1842.51,1233.6 1842.51,454.048 1830.82,454.048 \n",
       "  \"/>\n",
       "<path clip-path=\"url(#clip332)\" d=\"\n",
       "M1845.44 829.187 L1845.44 1233.6 L1857.13 1233.6 L1857.13 829.187 L1845.44 829.187 L1845.44 829.187  Z\n",
       "  \" fill=\"#009af9\" fill-rule=\"evenodd\" fill-opacity=\"1\"/>\n",
       "<polyline clip-path=\"url(#clip332)\" style=\"stroke:#000000; stroke-width:4; stroke-opacity:1; fill:none\" points=\"\n",
       "  1845.44,829.187 1845.44,1233.6 1857.13,1233.6 1857.13,829.187 1845.44,829.187 \n",
       "  \"/>\n",
       "<path clip-path=\"url(#clip332)\" d=\"\n",
       "M1860.06 851.627 L1860.06 1233.6 L1871.76 1233.6 L1871.76 851.627 L1860.06 851.627 L1860.06 851.627  Z\n",
       "  \" fill=\"#009af9\" fill-rule=\"evenodd\" fill-opacity=\"1\"/>\n",
       "<polyline clip-path=\"url(#clip332)\" style=\"stroke:#000000; stroke-width:4; stroke-opacity:1; fill:none\" points=\"\n",
       "  1860.06,851.627 1860.06,1233.6 1871.76,1233.6 1871.76,851.627 1860.06,851.627 \n",
       "  \"/>\n",
       "<path clip-path=\"url(#clip332)\" d=\"\n",
       "M1874.68 809.674 L1874.68 1233.6 L1886.38 1233.6 L1886.38 809.674 L1874.68 809.674 L1874.68 809.674  Z\n",
       "  \" fill=\"#009af9\" fill-rule=\"evenodd\" fill-opacity=\"1\"/>\n",
       "<polyline clip-path=\"url(#clip332)\" style=\"stroke:#000000; stroke-width:4; stroke-opacity:1; fill:none\" points=\"\n",
       "  1874.68,809.674 1874.68,1233.6 1886.38,1233.6 1886.38,809.674 1874.68,809.674 \n",
       "  \"/>\n",
       "<path clip-path=\"url(#clip332)\" d=\"\n",
       "M1889.3 794.064 L1889.3 1233.6 L1901 1233.6 L1901 794.064 L1889.3 794.064 L1889.3 794.064  Z\n",
       "  \" fill=\"#009af9\" fill-rule=\"evenodd\" fill-opacity=\"1\"/>\n",
       "<polyline clip-path=\"url(#clip332)\" style=\"stroke:#000000; stroke-width:4; stroke-opacity:1; fill:none\" points=\"\n",
       "  1889.3,794.064 1889.3,1233.6 1901,1233.6 1901,794.064 1889.3,794.064 \n",
       "  \"/>\n",
       "<path clip-path=\"url(#clip332)\" d=\"\n",
       "M1903.92 999.439 L1903.92 1233.6 L1915.62 1233.6 L1915.62 999.439 L1903.92 999.439 L1903.92 999.439  Z\n",
       "  \" fill=\"#009af9\" fill-rule=\"evenodd\" fill-opacity=\"1\"/>\n",
       "<polyline clip-path=\"url(#clip332)\" style=\"stroke:#000000; stroke-width:4; stroke-opacity:1; fill:none\" points=\"\n",
       "  1903.92,999.439 1903.92,1233.6 1915.62,1233.6 1915.62,999.439 1903.92,999.439 \n",
       "  \"/>\n",
       "<path clip-path=\"url(#clip332)\" d=\"\n",
       "M1918.54 950.168 L1918.54 1233.6 L1930.24 1233.6 L1930.24 950.168 L1918.54 950.168 L1918.54 950.168  Z\n",
       "  \" fill=\"#009af9\" fill-rule=\"evenodd\" fill-opacity=\"1\"/>\n",
       "<polyline clip-path=\"url(#clip332)\" style=\"stroke:#000000; stroke-width:4; stroke-opacity:1; fill:none\" points=\"\n",
       "  1918.54,950.168 1918.54,1233.6 1930.24,1233.6 1930.24,950.168 1918.54,950.168 \n",
       "  \"/>\n",
       "<path clip-path=\"url(#clip332)\" d=\"\n",
       "M1933.16 783.819 L1933.16 1233.6 L1944.86 1233.6 L1944.86 783.819 L1933.16 783.819 L1933.16 783.819  Z\n",
       "  \" fill=\"#009af9\" fill-rule=\"evenodd\" fill-opacity=\"1\"/>\n",
       "<polyline clip-path=\"url(#clip332)\" style=\"stroke:#000000; stroke-width:4; stroke-opacity:1; fill:none\" points=\"\n",
       "  1933.16,783.819 1933.16,1233.6 1944.86,1233.6 1944.86,783.819 1933.16,783.819 \n",
       "  \"/>\n",
       "<path clip-path=\"url(#clip332)\" d=\"\n",
       "M1947.78 624.787 L1947.78 1233.6 L1959.48 1233.6 L1959.48 624.787 L1947.78 624.787 L1947.78 624.787  Z\n",
       "  \" fill=\"#009af9\" fill-rule=\"evenodd\" fill-opacity=\"1\"/>\n",
       "<polyline clip-path=\"url(#clip332)\" style=\"stroke:#000000; stroke-width:4; stroke-opacity:1; fill:none\" points=\"\n",
       "  1947.78,624.787 1947.78,1233.6 1959.48,1233.6 1959.48,624.787 1947.78,624.787 \n",
       "  \"/>\n",
       "<path clip-path=\"url(#clip332)\" d=\"\n",
       "M1962.41 794.064 L1962.41 1233.6 L1974.1 1233.6 L1974.1 794.064 L1962.41 794.064 L1962.41 794.064  Z\n",
       "  \" fill=\"#009af9\" fill-rule=\"evenodd\" fill-opacity=\"1\"/>\n",
       "<polyline clip-path=\"url(#clip332)\" style=\"stroke:#000000; stroke-width:4; stroke-opacity:1; fill:none\" points=\"\n",
       "  1962.41,794.064 1962.41,1233.6 1974.1,1233.6 1974.1,794.064 1962.41,794.064 \n",
       "  \"/>\n",
       "<path clip-path=\"url(#clip332)\" d=\"\n",
       "M1977.03 779.917 L1977.03 1233.6 L1988.72 1233.6 L1988.72 779.917 L1977.03 779.917 L1977.03 779.917  Z\n",
       "  \" fill=\"#009af9\" fill-rule=\"evenodd\" fill-opacity=\"1\"/>\n",
       "<polyline clip-path=\"url(#clip332)\" style=\"stroke:#000000; stroke-width:4; stroke-opacity:1; fill:none\" points=\"\n",
       "  1977.03,779.917 1977.03,1233.6 1988.72,1233.6 1988.72,779.917 1977.03,779.917 \n",
       "  \"/>\n",
       "<path clip-path=\"url(#clip332)\" d=\"\n",
       "M1991.65 724.304 L1991.65 1233.6 L2003.34 1233.6 L2003.34 724.304 L1991.65 724.304 L1991.65 724.304  Z\n",
       "  \" fill=\"#009af9\" fill-rule=\"evenodd\" fill-opacity=\"1\"/>\n",
       "<polyline clip-path=\"url(#clip332)\" style=\"stroke:#000000; stroke-width:4; stroke-opacity:1; fill:none\" points=\"\n",
       "  1991.65,724.304 1991.65,1233.6 2003.34,1233.6 2003.34,724.304 1991.65,724.304 \n",
       "  \"/>\n",
       "<path clip-path=\"url(#clip332)\" d=\"\n",
       "M2006.27 906.264 L2006.27 1233.6 L2017.96 1233.6 L2017.96 906.264 L2006.27 906.264 L2006.27 906.264  Z\n",
       "  \" fill=\"#009af9\" fill-rule=\"evenodd\" fill-opacity=\"1\"/>\n",
       "<polyline clip-path=\"url(#clip332)\" style=\"stroke:#000000; stroke-width:4; stroke-opacity:1; fill:none\" points=\"\n",
       "  2006.27,906.264 2006.27,1233.6 2017.96,1233.6 2017.96,906.264 2006.27,906.264 \n",
       "  \"/>\n",
       "<path clip-path=\"url(#clip332)\" d=\"\n",
       "M2020.89 1000.9 L2020.89 1233.6 L2032.59 1233.6 L2032.59 1000.9 L2020.89 1000.9 L2020.89 1000.9  Z\n",
       "  \" fill=\"#009af9\" fill-rule=\"evenodd\" fill-opacity=\"1\"/>\n",
       "<polyline clip-path=\"url(#clip332)\" style=\"stroke:#000000; stroke-width:4; stroke-opacity:1; fill:none\" points=\"\n",
       "  2020.89,1000.9 2020.89,1233.6 2032.59,1233.6 2032.59,1000.9 2020.89,1000.9 \n",
       "  \"/>\n",
       "<path clip-path=\"url(#clip332)\" d=\"\n",
       "M2035.51 686.254 L2035.51 1233.6 L2047.21 1233.6 L2047.21 686.254 L2035.51 686.254 L2035.51 686.254  Z\n",
       "  \" fill=\"#009af9\" fill-rule=\"evenodd\" fill-opacity=\"1\"/>\n",
       "<polyline clip-path=\"url(#clip332)\" style=\"stroke:#000000; stroke-width:4; stroke-opacity:1; fill:none\" points=\"\n",
       "  2035.51,686.254 2035.51,1233.6 2047.21,1233.6 2047.21,686.254 2035.51,686.254 \n",
       "  \"/>\n",
       "<path clip-path=\"url(#clip332)\" d=\"\n",
       "M2050.13 607.226 L2050.13 1233.6 L2061.83 1233.6 L2061.83 607.226 L2050.13 607.226 L2050.13 607.226  Z\n",
       "  \" fill=\"#009af9\" fill-rule=\"evenodd\" fill-opacity=\"1\"/>\n",
       "<polyline clip-path=\"url(#clip332)\" style=\"stroke:#000000; stroke-width:4; stroke-opacity:1; fill:none\" points=\"\n",
       "  2050.13,607.226 2050.13,1233.6 2061.83,1233.6 2061.83,607.226 2050.13,607.226 \n",
       "  \"/>\n",
       "<path clip-path=\"url(#clip332)\" d=\"\n",
       "M2064.75 657.96 L2064.75 1233.6 L2076.45 1233.6 L2076.45 657.96 L2064.75 657.96 L2064.75 657.96  Z\n",
       "  \" fill=\"#009af9\" fill-rule=\"evenodd\" fill-opacity=\"1\"/>\n",
       "<polyline clip-path=\"url(#clip332)\" style=\"stroke:#000000; stroke-width:4; stroke-opacity:1; fill:none\" points=\"\n",
       "  2064.75,657.96 2064.75,1233.6 2076.45,1233.6 2076.45,657.96 2064.75,657.96 \n",
       "  \"/>\n",
       "<path clip-path=\"url(#clip332)\" d=\"\n",
       "M2079.37 738.451 L2079.37 1233.6 L2091.07 1233.6 L2091.07 738.451 L2079.37 738.451 L2079.37 738.451  Z\n",
       "  \" fill=\"#009af9\" fill-rule=\"evenodd\" fill-opacity=\"1\"/>\n",
       "<polyline clip-path=\"url(#clip332)\" style=\"stroke:#000000; stroke-width:4; stroke-opacity:1; fill:none\" points=\"\n",
       "  2079.37,738.451 2079.37,1233.6 2091.07,1233.6 2091.07,738.451 2079.37,738.451 \n",
       "  \"/>\n",
       "<path clip-path=\"url(#clip332)\" d=\"\n",
       "M2093.99 744.305 L2093.99 1233.6 L2105.69 1233.6 L2105.69 744.305 L2093.99 744.305 L2093.99 744.305  Z\n",
       "  \" fill=\"#009af9\" fill-rule=\"evenodd\" fill-opacity=\"1\"/>\n",
       "<polyline clip-path=\"url(#clip332)\" style=\"stroke:#000000; stroke-width:4; stroke-opacity:1; fill:none\" points=\"\n",
       "  2093.99,744.305 2093.99,1233.6 2105.69,1233.6 2105.69,744.305 2093.99,744.305 \n",
       "  \"/>\n",
       "<path clip-path=\"url(#clip332)\" d=\"\n",
       "M2108.61 778.453 L2108.61 1233.6 L2120.31 1233.6 L2120.31 778.453 L2108.61 778.453 L2108.61 778.453  Z\n",
       "  \" fill=\"#009af9\" fill-rule=\"evenodd\" fill-opacity=\"1\"/>\n",
       "<polyline clip-path=\"url(#clip332)\" style=\"stroke:#000000; stroke-width:4; stroke-opacity:1; fill:none\" points=\"\n",
       "  2108.61,778.453 2108.61,1233.6 2120.31,1233.6 2120.31,778.453 2108.61,778.453 \n",
       "  \"/>\n",
       "<path clip-path=\"url(#clip332)\" d=\"\n",
       "M2123.24 731.134 L2123.24 1233.6 L2134.93 1233.6 L2134.93 731.134 L2123.24 731.134 L2123.24 731.134  Z\n",
       "  \" fill=\"#009af9\" fill-rule=\"evenodd\" fill-opacity=\"1\"/>\n",
       "<polyline clip-path=\"url(#clip332)\" style=\"stroke:#000000; stroke-width:4; stroke-opacity:1; fill:none\" points=\"\n",
       "  2123.24,731.134 2123.24,1233.6 2134.93,1233.6 2134.93,731.134 2123.24,731.134 \n",
       "  \"/>\n",
       "<path clip-path=\"url(#clip332)\" d=\"\n",
       "M2137.86 353.555 L2137.86 1233.6 L2149.55 1233.6 L2149.55 353.555 L2137.86 353.555 L2137.86 353.555  Z\n",
       "  \" fill=\"#009af9\" fill-rule=\"evenodd\" fill-opacity=\"1\"/>\n",
       "<polyline clip-path=\"url(#clip332)\" style=\"stroke:#000000; stroke-width:4; stroke-opacity:1; fill:none\" points=\"\n",
       "  2137.86,353.555 2137.86,1233.6 2149.55,1233.6 2149.55,353.555 2137.86,353.555 \n",
       "  \"/>\n",
       "<path clip-path=\"url(#clip332)\" d=\"\n",
       "M2152.48 805.284 L2152.48 1233.6 L2164.17 1233.6 L2164.17 805.284 L2152.48 805.284 L2152.48 805.284  Z\n",
       "  \" fill=\"#009af9\" fill-rule=\"evenodd\" fill-opacity=\"1\"/>\n",
       "<polyline clip-path=\"url(#clip332)\" style=\"stroke:#000000; stroke-width:4; stroke-opacity:1; fill:none\" points=\"\n",
       "  2152.48,805.284 2152.48,1233.6 2164.17,1233.6 2164.17,805.284 2152.48,805.284 \n",
       "  \"/>\n",
       "<path clip-path=\"url(#clip332)\" d=\"\n",
       "M2167.1 709.669 L2167.1 1233.6 L2178.8 1233.6 L2178.8 709.669 L2167.1 709.669 L2167.1 709.669  Z\n",
       "  \" fill=\"#009af9\" fill-rule=\"evenodd\" fill-opacity=\"1\"/>\n",
       "<polyline clip-path=\"url(#clip332)\" style=\"stroke:#000000; stroke-width:4; stroke-opacity:1; fill:none\" points=\"\n",
       "  2167.1,709.669 2167.1,1233.6 2178.8,1233.6 2178.8,709.669 2167.1,709.669 \n",
       "  \"/>\n",
       "<path clip-path=\"url(#clip332)\" d=\"\n",
       "M2181.72 361.36 L2181.72 1233.6 L2193.42 1233.6 L2193.42 361.36 L2181.72 361.36 L2181.72 361.36  Z\n",
       "  \" fill=\"#009af9\" fill-rule=\"evenodd\" fill-opacity=\"1\"/>\n",
       "<polyline clip-path=\"url(#clip332)\" style=\"stroke:#000000; stroke-width:4; stroke-opacity:1; fill:none\" points=\"\n",
       "  2181.72,361.36 2181.72,1233.6 2193.42,1233.6 2193.42,361.36 2181.72,361.36 \n",
       "  \"/>\n",
       "<path clip-path=\"url(#clip332)\" d=\"\n",
       "M2196.34 214.524 L2196.34 1233.6 L2208.04 1233.6 L2208.04 214.524 L2196.34 214.524 L2196.34 214.524  Z\n",
       "  \" fill=\"#009af9\" fill-rule=\"evenodd\" fill-opacity=\"1\"/>\n",
       "<polyline clip-path=\"url(#clip332)\" style=\"stroke:#000000; stroke-width:4; stroke-opacity:1; fill:none\" points=\"\n",
       "  2196.34,214.524 2196.34,1233.6 2208.04,1233.6 2208.04,214.524 2196.34,214.524 \n",
       "  \"/>\n",
       "<path clip-path=\"url(#clip332)\" d=\"\n",
       "M2210.96 577.468 L2210.96 1233.6 L2222.66 1233.6 L2222.66 577.468 L2210.96 577.468 L2210.96 577.468  Z\n",
       "  \" fill=\"#009af9\" fill-rule=\"evenodd\" fill-opacity=\"1\"/>\n",
       "<polyline clip-path=\"url(#clip332)\" style=\"stroke:#000000; stroke-width:4; stroke-opacity:1; fill:none\" points=\"\n",
       "  2210.96,577.468 2210.96,1233.6 2222.66,1233.6 2222.66,577.468 2210.96,577.468 \n",
       "  \"/>\n",
       "<path clip-path=\"url(#clip332)\" d=\"\n",
       "M2225.58 759.428 L2225.58 1233.6 L2237.28 1233.6 L2237.28 759.428 L2225.58 759.428 L2225.58 759.428  Z\n",
       "  \" fill=\"#009af9\" fill-rule=\"evenodd\" fill-opacity=\"1\"/>\n",
       "<polyline clip-path=\"url(#clip332)\" style=\"stroke:#000000; stroke-width:4; stroke-opacity:1; fill:none\" points=\"\n",
       "  2225.58,759.428 2225.58,1233.6 2237.28,1233.6 2237.28,759.428 2225.58,759.428 \n",
       "  \"/>\n",
       "<polyline clip-path=\"url(#clip332)\" style=\"stroke:#ff0000; stroke-width:8; stroke-opacity:1; fill:none\" points=\"\n",
       "  374.571,1233.6 389.192,1233.6 403.813,1233.6 418.434,1233.6 433.055,1233.6 447.676,1233.6 462.297,1233.6 476.917,1233.6 491.538,1233.6 506.159,1233.6 \n",
       "  520.78,1233.6 535.401,1233.6 550.022,1233.6 564.643,1233.6 579.264,1233.6 593.885,1233.6 608.506,1233.6 623.127,1233.6 637.748,1233.6 652.369,1233.6 \n",
       "  666.99,1233.6 681.611,1233.6 696.232,1233.6 710.853,1233.6 725.474,1233.6 740.094,1233.6 754.715,1233.6 769.336,1233.6 783.957,1233.6 798.578,1233.6 \n",
       "  813.199,1233.6 827.82,1233.6 842.441,1233.6 857.062,1233.6 871.683,1233.6 886.304,1233.6 900.925,1233.6 915.546,1233.6 930.167,1233.16 944.788,1232.91 \n",
       "  959.409,1232.77 974.03,1232.67 988.651,1232.67 1003.27,1232.33 1017.89,1232.28 1032.51,1232.13 1047.13,1232.13 1061.76,1231.69 1076.38,1230.86 1091,1229.74 \n",
       "  1105.62,1228.38 1120.24,1224.96 1134.86,1222.33 1149.48,1219.74 1164.1,1216.03 1178.72,1212.81 1193.34,1209.06 1207.96,1202.81 1222.59,1197.5 1237.21,1191.16 \n",
       "  1251.83,1164.96 1266.45,1151.84 1281.07,1132.32 1295.69,1114.08 1310.31,1098.52 1324.93,1069.88 1339.55,1044.12 1354.17,1036.47 1368.8,1017.49 1383.42,991.585 \n",
       "  1398.04,968.511 1412.66,962.803 1427.28,961.876 1441.9,954.022 1456.52,961.096 1471.14,964.315 1485.76,982.999 1500.38,1006.95 1515,1020.37 1529.63,1015 \n",
       "  1544.25,1026.9 1558.87,1031.59 1573.49,1027.25 1588.11,1014.22 1602.73,1014.12 1617.35,927.24 1631.97,878.653 1646.59,819.723 1661.21,769.867 1675.83,735.036 \n",
       "  1690.46,739.768 1705.08,732.744 1719.7,773.575 1734.32,826.894 1748.94,811.967 1763.56,838.163 1778.18,838.456 1792.8,830.309 1807.42,806.113 1822.04,829.382 \n",
       "  1836.67,756.989 1851.29,804.357 1865.91,798.405 1880.53,809.82 1895.15,794.356 1909.77,814.406 1924.39,812.601 1939.01,859.725 1953.63,830.504 1968.25,822.309 \n",
       "  1982.87,818.016 1997.5,808.064 2012.12,794.746 2026.74,802.015 2041.36,788.063 2055.98,785.575 2070.6,766.111 2085.22,760.208 2099.84,763.038 2114.46,744.793 \n",
       "  2129.08,706.255 2143.71,658.74 2158.33,687.034 2172.95,694.4 2187.57,640.544 2202.19,564.833 2216.81,536.149 2231.43,540.198 \n",
       "  \"/>\n",
       "<path clip-path=\"url(#clip330)\" d=\"\n",
       "M325.246 448.912 L804.897 448.912 L804.897 267.472 L325.246 267.472  Z\n",
       "  \" fill=\"#ffffff\" fill-rule=\"evenodd\" fill-opacity=\"1\"/>\n",
       "<polyline clip-path=\"url(#clip330)\" style=\"stroke:#000000; stroke-width:4; stroke-opacity:1; fill:none\" points=\"\n",
       "  325.246,448.912 804.897,448.912 804.897,267.472 325.246,267.472 325.246,448.912 \n",
       "  \"/>\n",
       "<path clip-path=\"url(#clip330)\" d=\"\n",
       "M349.246 352.144 L493.246 352.144 L493.246 303.76 L349.246 303.76 L349.246 352.144  Z\n",
       "  \" fill=\"#009af9\" fill-rule=\"evenodd\" fill-opacity=\"1\"/>\n",
       "<polyline clip-path=\"url(#clip330)\" style=\"stroke:#000000; stroke-width:4; stroke-opacity:1; fill:none\" points=\"\n",
       "  349.246,352.144 493.246,352.144 493.246,303.76 349.246,303.76 349.246,352.144 \n",
       "  \"/>\n",
       "<path clip-path=\"url(#clip330)\" d=\"M 0 0 M521.922 314.515 L521.922 341.39 L527.57 341.39 Q534.722 341.39 538.033 338.149 Q541.366 334.908 541.366 327.917 Q541.366 320.973 538.033 317.755 Q534.722 314.515 527.57 314.515 L521.922 314.515 M517.246 310.672 L526.852 310.672 Q536.898 310.672 541.597 314.862 Q546.296 319.029 546.296 327.917 Q546.296 336.853 541.574 341.042 Q536.852 345.232 526.852 345.232 L517.246 345.232 L517.246 310.672 Z\" fill=\"#000000\" fill-rule=\"evenodd\" fill-opacity=\"1\" /><path clip-path=\"url(#clip330)\" d=\"M 0 0 M562.546 332.2 Q557.384 332.2 555.394 333.38 Q553.403 334.561 553.403 337.408 Q553.403 339.677 554.884 341.019 Q556.389 342.339 558.958 342.339 Q562.5 342.339 564.63 339.839 Q566.782 337.316 566.782 333.149 L566.782 332.2 L562.546 332.2 M571.042 330.441 L571.042 345.232 L566.782 345.232 L566.782 341.297 Q565.324 343.658 563.148 344.792 Q560.972 345.903 557.824 345.903 Q553.843 345.903 551.482 343.681 Q549.144 341.436 549.144 337.686 Q549.144 333.311 552.06 331.089 Q555 328.866 560.81 328.866 L566.782 328.866 L566.782 328.45 Q566.782 325.51 564.838 323.913 Q562.917 322.292 559.421 322.292 Q557.199 322.292 555.093 322.825 Q552.986 323.357 551.042 324.422 L551.042 320.487 Q553.38 319.584 555.579 319.144 Q557.778 318.681 559.861 318.681 Q565.486 318.681 568.264 321.598 Q571.042 324.515 571.042 330.441 Z\" fill=\"#000000\" fill-rule=\"evenodd\" fill-opacity=\"1\" /><path clip-path=\"url(#clip330)\" d=\"M 0 0 M575.509 319.306 L579.769 319.306 L579.769 345.232 L575.509 345.232 L575.509 319.306 M575.509 309.214 L579.769 309.214 L579.769 314.607 L575.509 314.607 L575.509 309.214 Z\" fill=\"#000000\" fill-rule=\"evenodd\" fill-opacity=\"1\" /><path clip-path=\"url(#clip330)\" d=\"M 0 0 M584.236 309.214 L588.495 309.214 L588.495 345.232 L584.236 345.232 L584.236 309.214 Z\" fill=\"#000000\" fill-rule=\"evenodd\" fill-opacity=\"1\" /><path clip-path=\"url(#clip330)\" d=\"M 0 0 M603.75 347.64 Q601.944 352.269 600.231 353.681 Q598.518 355.093 595.648 355.093 L592.245 355.093 L592.245 351.528 L594.745 351.528 Q596.505 351.528 597.477 350.695 Q598.449 349.862 599.63 346.76 L600.393 344.815 L589.907 319.306 L594.421 319.306 L602.523 339.584 L610.625 319.306 L615.139 319.306 L603.75 347.64 Z\" fill=\"#000000\" fill-rule=\"evenodd\" fill-opacity=\"1\" /><path clip-path=\"url(#clip330)\" d=\"M 0 0 M660.74 313.334 L660.74 318.265 Q658.379 316.066 655.694 314.978 Q653.032 313.89 650.023 313.89 Q644.097 313.89 640.949 317.524 Q637.801 321.135 637.801 327.987 Q637.801 334.816 640.949 338.45 Q644.097 342.061 650.023 342.061 Q653.032 342.061 655.694 340.973 Q658.379 339.885 660.74 337.686 L660.74 342.57 Q658.287 344.237 655.532 345.07 Q652.801 345.903 649.745 345.903 Q641.898 345.903 637.384 341.112 Q632.87 336.297 632.87 327.987 Q632.87 319.654 637.384 314.862 Q641.898 310.047 649.745 310.047 Q652.847 310.047 655.578 310.88 Q658.333 311.691 660.74 313.334 Z\" fill=\"#000000\" fill-rule=\"evenodd\" fill-opacity=\"1\" /><path clip-path=\"url(#clip330)\" d=\"M 0 0 M676.99 332.2 Q671.828 332.2 669.837 333.38 Q667.847 334.561 667.847 337.408 Q667.847 339.677 669.328 341.019 Q670.833 342.339 673.402 342.339 Q676.944 342.339 679.074 339.839 Q681.226 337.316 681.226 333.149 L681.226 332.2 L676.99 332.2 M685.486 330.441 L685.486 345.232 L681.226 345.232 L681.226 341.297 Q679.768 343.658 677.592 344.792 Q675.416 345.903 672.268 345.903 Q668.287 345.903 665.925 343.681 Q663.588 341.436 663.588 337.686 Q663.588 333.311 666.504 331.089 Q669.444 328.866 675.254 328.866 L681.226 328.866 L681.226 328.45 Q681.226 325.51 679.282 323.913 Q677.361 322.292 673.865 322.292 Q671.643 322.292 669.537 322.825 Q667.43 323.357 665.486 324.422 L665.486 320.487 Q667.824 319.584 670.023 319.144 Q672.222 318.681 674.305 318.681 Q679.93 318.681 682.708 321.598 Q685.486 324.515 685.486 330.441 Z\" fill=\"#000000\" fill-rule=\"evenodd\" fill-opacity=\"1\" /><path clip-path=\"url(#clip330)\" d=\"M 0 0 M706.481 320.07 L706.481 324.098 Q704.675 323.172 702.731 322.709 Q700.786 322.246 698.703 322.246 Q695.532 322.246 693.935 323.218 Q692.361 324.191 692.361 326.135 Q692.361 327.616 693.495 328.473 Q694.629 329.306 698.055 330.07 L699.513 330.394 Q704.05 331.366 705.948 333.149 Q707.87 334.908 707.87 338.079 Q707.87 341.69 704.999 343.797 Q702.152 345.903 697.152 345.903 Q695.069 345.903 692.8 345.487 Q690.555 345.093 688.055 344.283 L688.055 339.885 Q690.416 341.112 692.708 341.737 Q694.999 342.339 697.245 342.339 Q700.254 342.339 701.874 341.32 Q703.495 340.278 703.495 338.403 Q703.495 336.667 702.314 335.741 Q701.157 334.816 697.198 333.959 L695.717 333.612 Q691.759 332.778 689.999 331.066 Q688.24 329.329 688.24 326.32 Q688.24 322.663 690.833 320.672 Q693.425 318.681 698.194 318.681 Q700.555 318.681 702.638 319.029 Q704.722 319.376 706.481 320.07 Z\" fill=\"#000000\" fill-rule=\"evenodd\" fill-opacity=\"1\" /><path clip-path=\"url(#clip330)\" d=\"M 0 0 M734.513 331.204 L734.513 333.288 L714.93 333.288 Q715.208 337.686 717.569 340.001 Q719.953 342.292 724.189 342.292 Q726.643 342.292 728.934 341.69 Q731.249 341.089 733.518 339.885 L733.518 343.913 Q731.226 344.885 728.819 345.394 Q726.411 345.903 723.934 345.903 Q717.731 345.903 714.097 342.292 Q710.485 338.681 710.485 332.524 Q710.485 326.158 713.911 322.431 Q717.36 318.681 723.194 318.681 Q728.425 318.681 731.458 322.061 Q734.513 325.417 734.513 331.204 M730.254 329.954 Q730.208 326.459 728.286 324.376 Q726.388 322.292 723.24 322.292 Q719.675 322.292 717.522 324.306 Q715.393 326.32 715.069 329.978 L730.254 329.954 Z\" fill=\"#000000\" fill-rule=\"evenodd\" fill-opacity=\"1\" /><path clip-path=\"url(#clip330)\" d=\"M 0 0 M755.508 320.07 L755.508 324.098 Q753.703 323.172 751.758 322.709 Q749.814 322.246 747.731 322.246 Q744.559 322.246 742.962 323.218 Q741.388 324.191 741.388 326.135 Q741.388 327.616 742.522 328.473 Q743.657 329.306 747.082 330.07 L748.541 330.394 Q753.078 331.366 754.976 333.149 Q756.897 334.908 756.897 338.079 Q756.897 341.69 754.027 343.797 Q751.18 345.903 746.18 345.903 Q744.096 345.903 741.828 345.487 Q739.582 345.093 737.083 344.283 L737.083 339.885 Q739.444 341.112 741.735 341.737 Q744.027 342.339 746.272 342.339 Q749.282 342.339 750.902 341.32 Q752.522 340.278 752.522 338.403 Q752.522 336.667 751.342 335.741 Q750.184 334.816 746.226 333.959 L744.744 333.612 Q740.786 332.778 739.027 331.066 Q737.268 329.329 737.268 326.32 Q737.268 322.663 739.86 320.672 Q742.453 318.681 747.221 318.681 Q749.582 318.681 751.666 319.029 Q753.749 319.376 755.508 320.07 Z\" fill=\"#000000\" fill-rule=\"evenodd\" fill-opacity=\"1\" /><polyline clip-path=\"url(#clip330)\" style=\"stroke:#ff0000; stroke-width:4; stroke-opacity:1; fill:none\" points=\"\n",
       "  349.246,388.432 493.246,388.432 \n",
       "  \"/>\n",
       "<path clip-path=\"url(#clip330)\" d=\"M 0 0 M517.246 371.152 L539.468 371.152 L539.468 373.143 L526.922 405.712 L522.037 405.712 L533.843 375.087 L517.246 375.087 L517.246 371.152 Z\" fill=\"#000000\" fill-rule=\"evenodd\" fill-opacity=\"1\" /><path clip-path=\"url(#clip330)\" d=\"M 0 0 M541.783 390.828 L554.259 390.828 L554.259 394.624 L541.783 394.624 L541.783 390.828 Z\" fill=\"#000000\" fill-rule=\"evenodd\" fill-opacity=\"1\" /><path clip-path=\"url(#clip330)\" d=\"M 0 0 M575.787 383.722 L575.787 369.694 L580.046 369.694 L580.046 405.712 L575.787 405.712 L575.787 401.823 Q574.444 404.138 572.384 405.272 Q570.347 406.383 567.477 406.383 Q562.778 406.383 559.815 402.633 Q556.875 398.883 556.875 392.772 Q556.875 386.661 559.815 382.911 Q562.778 379.161 567.477 379.161 Q570.347 379.161 572.384 380.296 Q574.444 381.407 575.787 383.722 M561.273 392.772 Q561.273 397.471 563.195 400.157 Q565.139 402.819 568.519 402.819 Q571.898 402.819 573.843 400.157 Q575.787 397.471 575.787 392.772 Q575.787 388.073 573.843 385.411 Q571.898 382.726 568.519 382.726 Q565.139 382.726 563.195 385.411 Q561.273 388.073 561.273 392.772 Z\" fill=\"#000000\" fill-rule=\"evenodd\" fill-opacity=\"1\" /><path clip-path=\"url(#clip330)\" d=\"M 0 0 M596.296 392.68 Q591.134 392.68 589.143 393.86 Q587.153 395.041 587.153 397.888 Q587.153 400.157 588.634 401.499 Q590.139 402.819 592.708 402.819 Q596.25 402.819 598.38 400.319 Q600.532 397.796 600.532 393.629 L600.532 392.68 L596.296 392.68 M604.792 390.921 L604.792 405.712 L600.532 405.712 L600.532 401.777 Q599.074 404.138 596.898 405.272 Q594.722 406.383 591.574 406.383 Q587.593 406.383 585.231 404.161 Q582.894 401.916 582.894 398.166 Q582.894 393.791 585.81 391.569 Q588.75 389.346 594.56 389.346 L600.532 389.346 L600.532 388.93 Q600.532 385.99 598.588 384.393 Q596.667 382.772 593.171 382.772 Q590.949 382.772 588.843 383.305 Q586.736 383.837 584.792 384.902 L584.792 380.967 Q587.13 380.064 589.329 379.624 Q591.528 379.161 593.611 379.161 Q599.236 379.161 602.014 382.078 Q604.792 384.995 604.792 390.921 Z\" fill=\"#000000\" fill-rule=\"evenodd\" fill-opacity=\"1\" /><path clip-path=\"url(#clip330)\" d=\"M 0 0 M620.046 408.12 Q618.241 412.749 616.528 414.161 Q614.815 415.573 611.944 415.573 L608.542 415.573 L608.542 412.008 L611.042 412.008 Q612.801 412.008 613.773 411.175 Q614.745 410.342 615.926 407.24 L616.69 405.295 L606.204 379.786 L610.717 379.786 L618.819 400.064 L626.921 379.786 L631.435 379.786 L620.046 408.12 Z\" fill=\"#000000\" fill-rule=\"evenodd\" fill-opacity=\"1\" /><path clip-path=\"url(#clip330)\" d=\"M 0 0 M662.708 375.759 L656.365 392.958 L669.074 392.958 L662.708 375.759 M660.069 371.152 L665.37 371.152 L678.541 405.712 L673.68 405.712 L670.532 396.846 L654.953 396.846 L651.805 405.712 L646.875 405.712 L660.069 371.152 Z\" fill=\"#000000\" fill-rule=\"evenodd\" fill-opacity=\"1\" /><path clip-path=\"url(#clip330)\" d=\"M 0 0 M677.175 379.786 L681.689 379.786 L689.791 401.545 L697.893 379.786 L702.407 379.786 L692.685 405.712 L686.898 405.712 L677.175 379.786 Z\" fill=\"#000000\" fill-rule=\"evenodd\" fill-opacity=\"1\" /><path clip-path=\"url(#clip330)\" d=\"M 0 0 M723.934 392.448 Q723.934 387.819 722.013 385.272 Q720.115 382.726 716.666 382.726 Q713.24 382.726 711.319 385.272 Q709.421 387.819 709.421 392.448 Q709.421 397.055 711.319 399.601 Q713.24 402.147 716.666 402.147 Q720.115 402.147 722.013 399.601 Q723.934 397.055 723.934 392.448 M728.194 402.495 Q728.194 409.115 725.254 412.332 Q722.314 415.573 716.249 415.573 Q714.004 415.573 712.013 415.226 Q710.022 414.902 708.147 414.207 L708.147 410.064 Q710.022 411.082 711.851 411.569 Q713.68 412.055 715.578 412.055 Q719.768 412.055 721.851 409.856 Q723.934 407.68 723.934 403.258 L723.934 401.152 Q722.615 403.444 720.555 404.578 Q718.495 405.712 715.624 405.712 Q710.856 405.712 707.939 402.078 Q705.022 398.444 705.022 392.448 Q705.022 386.43 707.939 382.796 Q710.856 379.161 715.624 379.161 Q718.495 379.161 720.555 380.296 Q722.615 381.43 723.934 383.722 L723.934 379.786 L728.194 379.786 L728.194 402.495 Z\" fill=\"#000000\" fill-rule=\"evenodd\" fill-opacity=\"1\" /></svg>\n"
      ]
     },
     "execution_count": 81,
     "metadata": {},
     "output_type": "execute_result"
    }
   ],
   "source": [
    "graph_epidemiological_curve(dfc,\"California\",\"Los Angeles\")"
   ]
  },
  {
   "cell_type": "code",
   "execution_count": null,
   "metadata": {},
   "outputs": [],
   "source": []
  }
 ],
 "metadata": {
  "@webio": {
   "lastCommId": "8d8923463d6a4a7da7652e612ce6749f",
   "lastKernelId": "f76cff0d-71eb-4fcb-8f14-2113642ca679"
  },
  "kernelspec": {
   "display_name": "Julia 1.4.1",
   "language": "julia",
   "name": "julia-1.4"
  },
  "language_info": {
   "file_extension": ".jl",
   "mimetype": "application/julia",
   "name": "julia",
   "version": "1.4.1"
  }
 },
 "nbformat": 4,
 "nbformat_minor": 4
}
