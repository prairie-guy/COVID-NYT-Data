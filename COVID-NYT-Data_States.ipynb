{
 "cells": [
  {
   "cell_type": "markdown",
   "metadata": {},
   "source": [
    "### NYT COVID\n",
    "https://github.com/nytimes/covid-19-data"
   ]
  },
  {
   "cell_type": "markdown",
   "metadata": {},
   "source": [
    "### Download selected data and create graphs"
   ]
  },
  {
   "cell_type": "code",
   "execution_count": 17,
   "metadata": {},
   "outputs": [],
   "source": [
    "using CSV, DataFrames, Plots, Dates #, Interact"
   ]
  },
  {
   "cell_type": "code",
   "execution_count": 18,
   "metadata": {
    "scrolled": true
   },
   "outputs": [
    {
     "data": {
      "text/plain": [
       "Plots.GRBackend()"
      ]
     },
     "execution_count": 18,
     "metadata": {},
     "output_type": "execute_result"
    }
   ],
   "source": [
    "gr()\n",
    "#plotly()"
   ]
  },
  {
   "cell_type": "markdown",
   "metadata": {},
   "source": [
    "### Utilities"
   ]
  },
  {
   "cell_type": "code",
   "execution_count": 19,
   "metadata": {},
   "outputs": [
    {
     "data": {
      "text/plain": [
       "percent_change (generic function with 3 methods)"
      ]
     },
     "execution_count": 19,
     "metadata": {},
     "output_type": "execute_result"
    }
   ],
   "source": [
    "function percent_change(df, field, day_idx=0, offset=14) \n",
    "    ## Assumes df selected for state or state/county\n",
    "    ## day_idx is most current day\n",
    "    r,_ = size(df)\n",
    "    r > offset + day_idx || return(NaN)\n",
    "    a,b = df[!,field][[end - day_idx - offset, end - day_idx]]\n",
    "    (b/a -1) *100\n",
    "end"
   ]
  },
  {
   "cell_type": "code",
   "execution_count": 20,
   "metadata": {},
   "outputs": [
    {
     "data": {
      "text/plain": [
       "percent_change_2 (generic function with 1 method)"
      ]
     },
     "execution_count": 20,
     "metadata": {},
     "output_type": "execute_result"
    }
   ],
   "source": [
    "function percent_change_2(df, day::Date, delta::Integer)\n",
    "    d2 = day\n",
    "    d1 = day - Dates.Day(delta)\n",
    "    a,b=filter(r-> r.date == d2 || r.date == d1 ,[:date, field])[:,2]\n",
    "    return (b/a -1) *100\n",
    "end"
   ]
  },
  {
   "cell_type": "code",
   "execution_count": 21,
   "metadata": {},
   "outputs": [
    {
     "data": {
      "text/plain": [
       "moving_avg (generic function with 1 method)"
      ]
     },
     "execution_count": 21,
     "metadata": {},
     "output_type": "execute_result"
    }
   ],
   "source": [
    "function moving_avg(col, days)\n",
    "    total = copy(col)\n",
    "    days <= length(col) + 1 || (total = NaN; return(total))\n",
    "    for i in 1:days-1\n",
    "        new = col[1:i]\n",
    "        append!(new,col[1:end-i])\n",
    "        total = total .+ new\n",
    "    end\n",
    "    total./days\n",
    "end"
   ]
  },
  {
   "cell_type": "code",
   "execution_count": 22,
   "metadata": {
    "scrolled": true
   },
   "outputs": [
    {
     "data": {
      "text/plain": [
       "augment_cols! (generic function with 2 methods)"
      ]
     },
     "execution_count": 22,
     "metadata": {},
     "output_type": "execute_result"
    }
   ],
   "source": [
    "function augment_cols!(df,days_ma=7) # Assumes {:cases, :deaths} exist\n",
    "    df[:,:casesIncrease]   = append!([0],df.cases[2:end] - df.cases[1:end-1])\n",
    "    df[:,:deathsIncrease]  = append!([0],df.deaths[2:end] - df.deaths[1:end-1])\n",
    "    df[:,:casesMA]         = moving_avg(df.cases,days_ma)\n",
    "    df[:,:deathsMA]        = moving_avg(df.deaths,days_ma)\n",
    "    df[:,:casesIncreaseMA] = moving_avg(df.casesIncrease,days_ma)\n",
    "    df[:,:deathsIncreaseMA]= moving_avg(df.deathsIncrease,days_ma)\n",
    "    df\n",
    "end"
   ]
  },
  {
   "cell_type": "code",
   "execution_count": 23,
   "metadata": {},
   "outputs": [],
   "source": [
    "function get_state_population(state::String)::Integer\n",
    "    # Use state abbreviations, i.e., \"IL\"\n",
    "    state = \"US_$(state)\"\n",
    "    url = \"https://open-covid-19.github.io/data/metadata.csv\"\n",
    "    df = CSV.read(download(url),silencewarnings=true)\n",
    "    first(df[df.Key.==state,:Population])\n",
    "end;"
   ]
  },
  {
   "cell_type": "markdown",
   "metadata": {},
   "source": [
    "### Get NYT State COVID Data"
   ]
  },
  {
   "cell_type": "markdown",
   "metadata": {},
   "source": [
    "All data for NYT is ordered from earliest to lastest date"
   ]
  },
  {
   "cell_type": "markdown",
   "metadata": {},
   "source": [
    "#### Download the NYT COVID Data for each State"
   ]
  },
  {
   "cell_type": "code",
   "execution_count": 24,
   "metadata": {},
   "outputs": [
    {
     "data": {
      "text/plain": [
       "get_nyt_state_covid_data! (generic function with 2 methods)"
      ]
     },
     "execution_count": 24,
     "metadata": {},
     "output_type": "execute_result"
    }
   ],
   "source": [
    "function get_nyt_state_covid_data!(ma_days::Integer=7) # All states\n",
    "    url = \"https://raw.githubusercontent.com/nytimes/covid-19-data/master/us-states.csv\"\n",
    "    df = CSV.read(download(url),silencewarnings=true)\n",
    "    df = sort(df)\n",
    "    df[!,:casesIncrease]   .= 0\n",
    "    df[!,:deathsIncrease]  .= 0\n",
    "    df[!,:casesMA]         .= 0.0\n",
    "    df[!,:deathsMA]        .= 0.0\n",
    "    df[!,:casesIncreaseMA] .= 0.0\n",
    "    df[!,:deathsIncreaseMA].= 0.0\n",
    "    for s in groupby(df,:state)\n",
    "        augment_cols!(s,ma_days)\n",
    "    end\n",
    "    df\n",
    "end"
   ]
  },
  {
   "cell_type": "markdown",
   "metadata": {},
   "source": [
    "dfs is a DataFrame of $State$ Data"
   ]
  },
  {
   "cell_type": "code",
   "execution_count": 25,
   "metadata": {},
   "outputs": [],
   "source": [
    "dfs = get_nyt_state_covid_data!();"
   ]
  },
  {
   "cell_type": "markdown",
   "metadata": {},
   "source": [
    "#### Select data for a specific $State$"
   ]
  },
  {
   "cell_type": "code",
   "execution_count": 26,
   "metadata": {
    "scrolled": false
   },
   "outputs": [
    {
     "data": {
      "text/plain": [
       "select_region (generic function with 1 method)"
      ]
     },
     "execution_count": 26,
     "metadata": {},
     "output_type": "execute_result"
    }
   ],
   "source": [
    "select_region(dfs,state::String) = filter(r-> r.state .== state,dfs) # dfs should be for states only"
   ]
  },
  {
   "cell_type": "code",
   "execution_count": 27,
   "metadata": {
    "scrolled": false
   },
   "outputs": [
    {
     "data": {
      "text/html": [
       "<p>DataFrameRow (11 columns)</p><table class=\"data-frame\"><thead><tr><th></th><th>date</th><th>state</th><th>fips</th><th>cases</th><th>deaths</th><th>casesIncrease</th><th>deathsIncrease</th><th>casesMA</th></tr><tr><th></th><th>Date</th><th>String</th><th>Int64</th><th>Int64</th><th>Int64</th><th>Int64</th><th>Int64</th><th>Float64</th></tr></thead><tbody><tr><th>114</th><td>2020-05-16</td><td>Illinois</td><td>17</td><td>92669</td><td>4149</td><td>2141</td><td>74</td><td>85157.9</td></tr></tbody></table>"
      ],
      "text/latex": [
       "\\begin{tabular}{r|ccccccccc}\n",
       "\t& date & state & fips & cases & deaths & casesIncrease & deathsIncrease & casesMA & \\\\\n",
       "\t\\hline\n",
       "\t& Date & String & Int64 & Int64 & Int64 & Int64 & Int64 & Float64 & \\\\\n",
       "\t\\hline\n",
       "\t114 & 2020-05-16 & Illinois & 17 & 92669 & 4149 & 2141 & 74 & 85157.9 & $\\dots$ \\\\\n",
       "\\end{tabular}\n"
      ],
      "text/plain": [
       "DataFrameRow. Omitted printing of 5 columns\n",
       "│ Row │ date       │ state    │ fips  │ cases │ deaths │ casesIncrease │\n",
       "│     │ \u001b[90mDate\u001b[39m       │ \u001b[90mString\u001b[39m   │ \u001b[90mInt64\u001b[39m │ \u001b[90mInt64\u001b[39m │ \u001b[90mInt64\u001b[39m  │ \u001b[90mInt64\u001b[39m         │\n",
       "├─────┼────────────┼──────────┼───────┼───────┼────────┼───────────────┤\n",
       "│ 114 │ 2020-05-16 │ Illinois │ 17    │ 92669 │ 4149   │ 2141          │"
      ]
     },
     "execution_count": 27,
     "metadata": {},
     "output_type": "execute_result"
    }
   ],
   "source": [
    "last(select_region(dfs,\"Illinois\"))"
   ]
  },
  {
   "cell_type": "code",
   "execution_count": 28,
   "metadata": {},
   "outputs": [
    {
     "name": "stdout",
     "output_type": "stream",
     "text": [
      "2020-01-24\t1\t0\t0.0\n",
      "2020-01-25\t1\t0\t0.0\n",
      "2020-01-26\t1\t0\t0.0\n",
      "2020-01-27\t1\t0\t0.0\n",
      "2020-01-28\t1\t0\t0.0\n",
      "2020-01-29\t1\t0\t0.0\n",
      "2020-01-30\t2\t1\t0.14285714285714285\n",
      "2020-01-31\t2\t0\t0.14285714285714285\n",
      "2020-02-01\t2\t0\t0.14285714285714285\n",
      "2020-02-02\t2\t0\t0.14285714285714285\n",
      "2020-02-03\t2\t0\t0.14285714285714285\n",
      "2020-02-04\t2\t0\t0.14285714285714285\n",
      "2020-02-05\t2\t0\t0.14285714285714285\n",
      "2020-02-06\t2\t0\t0.0\n",
      "2020-02-07\t2\t0\t0.0\n",
      "2020-02-08\t2\t0\t0.0\n",
      "2020-02-09\t2\t0\t0.0\n",
      "2020-02-10\t2\t0\t0.0\n",
      "2020-02-11\t2\t0\t0.0\n",
      "2020-02-12\t2\t0\t0.0\n",
      "2020-02-13\t2\t0\t0.0\n",
      "2020-02-14\t2\t0\t0.0\n",
      "2020-02-15\t2\t0\t0.0\n",
      "2020-02-16\t2\t0\t0.0\n",
      "2020-02-17\t2\t0\t0.0\n",
      "2020-02-18\t2\t0\t0.0\n",
      "2020-02-19\t2\t0\t0.0\n",
      "2020-02-20\t2\t0\t0.0\n",
      "2020-02-21\t2\t0\t0.0\n",
      "2020-02-22\t2\t0\t0.0\n",
      "2020-02-23\t2\t0\t0.0\n",
      "2020-02-24\t2\t0\t0.0\n",
      "2020-02-25\t2\t0\t0.0\n",
      "2020-02-26\t2\t0\t0.0\n",
      "2020-02-27\t2\t0\t0.0\n",
      "2020-02-28\t2\t0\t0.0\n",
      "2020-02-29\t3\t1\t0.14285714285714285\n",
      "2020-03-01\t3\t0\t0.14285714285714285\n",
      "2020-03-02\t4\t1\t0.2857142857142857\n",
      "2020-03-03\t4\t0\t0.2857142857142857\n",
      "2020-03-04\t4\t0\t0.2857142857142857\n",
      "2020-03-05\t5\t1\t0.42857142857142855\n",
      "2020-03-06\t6\t1\t0.5714285714285714\n",
      "2020-03-07\t6\t0\t0.42857142857142855\n",
      "2020-03-08\t7\t1\t0.5714285714285714\n",
      "2020-03-09\t11\t4\t1.0\n",
      "2020-03-10\t19\t8\t2.142857142857143\n",
      "2020-03-11\t25\t6\t3.0\n",
      "2020-03-12\t32\t7\t3.857142857142857\n",
      "2020-03-13\t46\t14\t5.714285714285714\n",
      "2020-03-14\t66\t20\t8.571428571428571\n",
      "2020-03-15\t94\t28\t12.428571428571429\n",
      "2020-03-16\t104\t10\t13.285714285714286\n",
      "2020-03-17\t159\t55\t20.0\n",
      "2020-03-18\t286\t127\t37.285714285714285\n",
      "2020-03-19\t420\t134\t55.42857142857143\n",
      "2020-03-20\t583\t163\t76.71428571428571\n",
      "2020-03-21\t751\t168\t97.85714285714286\n",
      "2020-03-22\t1047\t296\t136.14285714285714\n",
      "2020-03-23\t1285\t238\t168.71428571428572\n",
      "2020-03-24\t1535\t250\t196.57142857142858\n",
      "2020-03-25\t1874\t339\t226.85714285714286\n",
      "2020-03-26\t2538\t664\t302.57142857142856\n",
      "2020-03-27\t3029\t491\t349.42857142857144\n",
      "2020-03-28\t3547\t518\t399.42857142857144\n",
      "2020-03-29\t4613\t1066\t509.42857142857144\n",
      "2020-03-30\t5070\t457\t540.7142857142857\n",
      "2020-03-31\t5992\t922\t636.7142857142857\n",
      "2020-04-01\t6978\t986\t729.1428571428571\n",
      "2020-04-02\t7695\t717\t736.7142857142857\n",
      "2020-04-03\t8904\t1209\t839.2857142857143\n",
      "2020-04-04\t10357\t1453\t972.8571428571429\n",
      "2020-04-05\t11276\t919\t951.8571428571429\n",
      "2020-04-06\t12262\t986\t1027.4285714285713\n",
      "2020-04-07\t13549\t1287\t1079.5714285714287\n",
      "2020-04-08\t15078\t1529\t1157.142857142857\n",
      "2020-04-09\t16422\t1344\t1246.7142857142858\n",
      "2020-04-10\t17887\t1465\t1283.2857142857142\n",
      "2020-04-11\t19180\t1293\t1260.4285714285713\n",
      "2020-04-12\t20852\t1672\t1368.0\n",
      "2020-04-13\t22025\t1173\t1394.7142857142858\n",
      "2020-04-14\t23247\t1222\t1385.4285714285713\n",
      "2020-04-15\t24593\t1346\t1359.2857142857142\n",
      "2020-04-16\t25734\t1141\t1330.2857142857142\n",
      "2020-04-17\t27575\t1841\t1384.0\n",
      "2020-04-18\t29160\t1585\t1425.7142857142858\n",
      "2020-04-19\t30357\t1197\t1357.857142857143\n",
      "2020-04-20\t31508\t1151\t1354.7142857142858\n",
      "2020-04-21\t33059\t1551\t1401.7142857142858\n",
      "2020-04-22\t35108\t2049\t1502.142857142857\n",
      "2020-04-23\t36935\t1827\t1600.142857142857\n",
      "2020-04-24\t39658\t2723\t1726.142857142857\n",
      "2020-04-25\t41777\t2119\t1802.4285714285713\n",
      "2020-04-26\t43903\t2126\t1935.142857142857\n",
      "2020-04-27\t45883\t1980\t2053.5714285714284\n",
      "2020-04-28\t48102\t2219\t2149.0\n",
      "2020-04-29\t50355\t2253\t2178.1428571428573\n",
      "2020-04-30\t52918\t2563\t2283.285714285714\n",
      "2020-05-01\t56055\t3137\t2342.4285714285716\n",
      "2020-05-02\t58505\t2450\t2389.714285714286\n",
      "2020-05-03\t61499\t2994\t2513.714285714286\n",
      "2020-05-04\t63840\t2341\t2565.285714285714\n",
      "2020-05-05\t65889\t2049\t2541.0\n",
      "2020-05-06\t68164\t2275\t2544.1428571428573\n",
      "2020-05-07\t70802\t2638\t2554.8571428571427\n",
      "2020-05-08\t73688\t2886\t2519.0\n",
      "2020-05-09\t76008\t2320\t2500.4285714285716\n",
      "2020-05-10\t77662\t1654\t2309.0\n",
      "2020-05-11\t79123\t1461\t2183.285714285714\n",
      "2020-05-12\t83168\t4045\t2468.4285714285716\n",
      "2020-05-13\t84874\t1706\t2387.1428571428573\n",
      "2020-05-14\t88081\t3207\t2468.4285714285716\n",
      "2020-05-15\t90528\t2447\t2405.714285714286\n",
      "2020-05-16\t92669\t2141\t2380.1428571428573\n"
     ]
    }
   ],
   "source": [
    "st = \"Illinois\"\n",
    "for r in eachrow(filter(r->r.state == st,dfs)[:,[:date,:cases,:casesIncrease,:casesIncreaseMA]])\n",
    "    println(\"$(r.date)\\t$(r.cases)\\t$(r.casesIncrease)\\t$(r.casesIncreaseMA)\")\n",
    "end"
   ]
  },
  {
   "cell_type": "markdown",
   "metadata": {},
   "source": [
    "## Percentage Change in New Daily Cases By State"
   ]
  },
  {
   "cell_type": "code",
   "execution_count": 29,
   "metadata": {
    "scrolled": true
   },
   "outputs": [
    {
     "data": {
      "text/plain": [
       "percent_change_cases_by_state (generic function with 3 methods)"
      ]
     },
     "execution_count": 29,
     "metadata": {},
     "output_type": "execute_result"
    }
   ],
   "source": [
    "function percent_change_cases_by_state(df_region,day_index=0,delta=14)\n",
    "    state, cases, pch_casesIncMA = [],[],[]\n",
    "    for k in keys(groupby(df_region,[:state]))\n",
    "        region = select_region(df_region,k.state)\n",
    "        push!(state,k.state)\n",
    "        push!(cases, region[end,:cases])\n",
    "        push!(pch_casesIncMA, round(percent_change(region,:casesIncreaseMA,day_index,delta)))    \n",
    "    end\n",
    "    sort(DataFrame(state=state,cases=cases,pch_casesIncMA=pch_casesIncMA),[:state]) \n",
    "end"
   ]
  },
  {
   "cell_type": "code",
   "execution_count": 30,
   "metadata": {},
   "outputs": [
    {
     "data": {
      "text/html": [
       "<table class=\"data-frame\"><thead><tr><th></th><th>state</th><th>cases</th><th>pch_casesIncMA</th></tr><tr><th></th><th>Any</th><th>Any</th><th>Any</th></tr></thead><tbody><p>55 rows × 3 columns</p><tr><th>1</th><td>Alabama</td><td>11674</td><td>-0.0</td></tr><tr><th>2</th><td>Alaska</td><td>392</td><td>15.0</td></tr><tr><th>3</th><td>Arizona</td><td>13631</td><td>8.0</td></tr><tr><th>4</th><td>Arkansas</td><td>4578</td><td>33.0</td></tr><tr><th>5</th><td>California</td><td>78933</td><td>-3.0</td></tr><tr><th>6</th><td>Colorado</td><td>21604</td><td>-14.0</td></tr><tr><th>7</th><td>Connecticut</td><td>36703</td><td>-4.0</td></tr><tr><th>8</th><td>Delaware</td><td>7547</td><td>8.0</td></tr><tr><th>9</th><td>District of Columbia</td><td>7042</td><td>-16.0</td></tr><tr><th>10</th><td>Florida</td><td>44803</td><td>9.0</td></tr><tr><th>11</th><td>Georgia</td><td>35655</td><td>1.0</td></tr><tr><th>12</th><td>Guam</td><td>1123</td><td>0.0</td></tr><tr><th>13</th><td>Hawaii</td><td>629</td><td>-18.0</td></tr><tr><th>14</th><td>Idaho</td><td>2419</td><td>13.0</td></tr><tr><th>15</th><td>Illinois</td><td>92669</td><td>-0.0</td></tr><tr><th>16</th><td>Indiana</td><td>27919</td><td>-2.0</td></tr><tr><th>17</th><td>Iowa</td><td>14328</td><td>-8.0</td></tr><tr><th>18</th><td>Kansas</td><td>8060</td><td>-31.0</td></tr><tr><th>19</th><td>Kentucky</td><td>7773</td><td>13.0</td></tr><tr><th>20</th><td>Louisiana</td><td>34117</td><td>19.0</td></tr><tr><th>21</th><td>Maine</td><td>1648</td><td>-8.0</td></tr><tr><th>22</th><td>Maryland</td><td>38083</td><td>-3.0</td></tr><tr><th>23</th><td>Massachusetts</td><td>84933</td><td>-3.0</td></tr><tr><th>24</th><td>Michigan</td><td>50416</td><td>13.0</td></tr><tr><th>25</th><td>Minnesota</td><td>14978</td><td>-3.0</td></tr><tr><th>26</th><td>Mississippi</td><td>11123</td><td>5.0</td></tr><tr><th>27</th><td>Missouri</td><td>10794</td><td>-12.0</td></tr><tr><th>28</th><td>Montana</td><td>468</td><td>67.0</td></tr><tr><th>29</th><td>Nebraska</td><td>10220</td><td>-14.0</td></tr><tr><th>30</th><td>Nevada</td><td>6819</td><td>4.0</td></tr><tr><th>&vellip;</th><td>&vellip;</td><td>&vellip;</td><td>&vellip;</td></tr></tbody></table>"
      ],
      "text/latex": [
       "\\begin{tabular}{r|ccc}\n",
       "\t& state & cases & pch\\_casesIncMA\\\\\n",
       "\t\\hline\n",
       "\t& Any & Any & Any\\\\\n",
       "\t\\hline\n",
       "\t1 & Alabama & 11674 & -0.0 \\\\\n",
       "\t2 & Alaska & 392 & 15.0 \\\\\n",
       "\t3 & Arizona & 13631 & 8.0 \\\\\n",
       "\t4 & Arkansas & 4578 & 33.0 \\\\\n",
       "\t5 & California & 78933 & -3.0 \\\\\n",
       "\t6 & Colorado & 21604 & -14.0 \\\\\n",
       "\t7 & Connecticut & 36703 & -4.0 \\\\\n",
       "\t8 & Delaware & 7547 & 8.0 \\\\\n",
       "\t9 & District of Columbia & 7042 & -16.0 \\\\\n",
       "\t10 & Florida & 44803 & 9.0 \\\\\n",
       "\t11 & Georgia & 35655 & 1.0 \\\\\n",
       "\t12 & Guam & 1123 & 0.0 \\\\\n",
       "\t13 & Hawaii & 629 & -18.0 \\\\\n",
       "\t14 & Idaho & 2419 & 13.0 \\\\\n",
       "\t15 & Illinois & 92669 & -0.0 \\\\\n",
       "\t16 & Indiana & 27919 & -2.0 \\\\\n",
       "\t17 & Iowa & 14328 & -8.0 \\\\\n",
       "\t18 & Kansas & 8060 & -31.0 \\\\\n",
       "\t19 & Kentucky & 7773 & 13.0 \\\\\n",
       "\t20 & Louisiana & 34117 & 19.0 \\\\\n",
       "\t21 & Maine & 1648 & -8.0 \\\\\n",
       "\t22 & Maryland & 38083 & -3.0 \\\\\n",
       "\t23 & Massachusetts & 84933 & -3.0 \\\\\n",
       "\t24 & Michigan & 50416 & 13.0 \\\\\n",
       "\t25 & Minnesota & 14978 & -3.0 \\\\\n",
       "\t26 & Mississippi & 11123 & 5.0 \\\\\n",
       "\t27 & Missouri & 10794 & -12.0 \\\\\n",
       "\t28 & Montana & 468 & 67.0 \\\\\n",
       "\t29 & Nebraska & 10220 & -14.0 \\\\\n",
       "\t30 & Nevada & 6819 & 4.0 \\\\\n",
       "\t$\\dots$ & $\\dots$ & $\\dots$ & $\\dots$ \\\\\n",
       "\\end{tabular}\n"
      ],
      "text/plain": [
       "55×3 DataFrame\n",
       "│ Row │ state                │ cases │ pch_casesIncMA │\n",
       "│     │ \u001b[90mAny\u001b[39m                  │ \u001b[90mAny\u001b[39m   │ \u001b[90mAny\u001b[39m            │\n",
       "├─────┼──────────────────────┼───────┼────────────────┤\n",
       "│ 1   │ Alabama              │ 11674 │ -0.0           │\n",
       "│ 2   │ Alaska               │ 392   │ 15.0           │\n",
       "│ 3   │ Arizona              │ 13631 │ 8.0            │\n",
       "│ 4   │ Arkansas             │ 4578  │ 33.0           │\n",
       "│ 5   │ California           │ 78933 │ -3.0           │\n",
       "│ 6   │ Colorado             │ 21604 │ -14.0          │\n",
       "│ 7   │ Connecticut          │ 36703 │ -4.0           │\n",
       "│ 8   │ Delaware             │ 7547  │ 8.0            │\n",
       "│ 9   │ District of Columbia │ 7042  │ -16.0          │\n",
       "│ 10  │ Florida              │ 44803 │ 9.0            │\n",
       "⋮\n",
       "│ 45  │ South Dakota         │ 3959  │ -41.0          │\n",
       "│ 46  │ Tennessee            │ 17204 │ 0.0            │\n",
       "│ 47  │ Texas                │ 47866 │ 8.0            │\n",
       "│ 48  │ Utah                 │ 7068  │ -5.0           │\n",
       "│ 49  │ Vermont              │ 934   │ -38.0          │\n",
       "│ 50  │ Virgin Islands       │ 69    │ -100.0         │\n",
       "│ 51  │ Virginia             │ 29683 │ -0.0           │\n",
       "│ 52  │ Washington           │ 19426 │ -12.0          │\n",
       "│ 53  │ West Virginia        │ 1470  │ -4.0           │\n",
       "│ 54  │ Wisconsin            │ 12368 │ 21.0           │\n",
       "│ 55  │ Wyoming              │ 741   │ 54.0           │"
      ]
     },
     "execution_count": 30,
     "metadata": {},
     "output_type": "execute_result"
    }
   ],
   "source": [
    "# Using dfs, returning df_state_delta\n",
    "dfsd = percent_change_cases_by_state(dfs,0,3)"
   ]
  },
  {
   "cell_type": "code",
   "execution_count": 31,
   "metadata": {
    "scrolled": false
   },
   "outputs": [
    {
     "ename": "LoadError",
     "evalue": "UndefVarError: @manipulate not defined",
     "output_type": "error",
     "traceback": [
      "UndefVarError: @manipulate not defined",
      ""
     ]
    }
   ],
   "source": [
    "# Using dfs\n",
    "days_ma = 7\n",
    "@manipulate for idx = 3:-1:0\n",
    "    index = idx*7\n",
    "    dfsd = sort(percent_change_cases_by_state(dfs,index,days_ma),[:pch_casesIncMA])\n",
    "    regions,deltas = dfsd.state, dfsd.pch_casesIncMA\n",
    "    bar(regions,deltas,ylimits=(-100,100),\n",
    "        xrotation=45,size=(1000,800),color=:orange,\n",
    "        xticks=(1:1:length(regions), regions),yticks=-100:10:100)\n",
    "    xlabel!(\"States\")\n",
    "    ylabel!(\"Change (%) In Daily Cases\")\n",
    "    title!(\"Change in New Cases (% Change over Two Weeks)\")\n",
    "end"
   ]
  },
  {
   "cell_type": "code",
   "execution_count": 16,
   "metadata": {},
   "outputs": [
    {
     "name": "stderr",
     "output_type": "stream",
     "text": [
      "\u001b[32m\u001b[1m   Updating\u001b[22m\u001b[39m registry at `~/.julia/registries/General`\n"
     ]
    },
    {
     "name": "stdout",
     "output_type": "stream",
     "text": [
      "\u001b[?25l\u001b[2K"
     ]
    },
    {
     "name": "stderr",
     "output_type": "stream",
     "text": [
      "\u001b[32m\u001b[1m   Updating\u001b[22m\u001b[39m git-repo `https://github.com/JuliaRegistries/General.git`\n"
     ]
    },
    {
     "name": "stdout",
     "output_type": "stream",
     "text": [
      "\u001b[?25h"
     ]
    },
    {
     "name": "stderr",
     "output_type": "stream",
     "text": [
      "\u001b[32m\u001b[1m  Resolving\u001b[22m\u001b[39m package versions...\n",
      "\u001b[32m\u001b[1m  Installed\u001b[22m\u001b[39m AssetRegistry ───────── v0.1.0\n",
      "\u001b[32m\u001b[1m  Installed\u001b[22m\u001b[39m FunctionalCollections ─ v0.5.0\n",
      "\u001b[32m\u001b[1m  Installed\u001b[22m\u001b[39m Pidfile ─────────────── v1.1.0\n",
      "\u001b[32m\u001b[1m  Installed\u001b[22m\u001b[39m Observables ─────────── v0.2.3\n",
      "\u001b[32m\u001b[1m  Installed\u001b[22m\u001b[39m Interact ────────────── v0.10.3\n",
      "\u001b[32m\u001b[1m  Installed\u001b[22m\u001b[39m WebSockets ──────────── v1.5.2\n",
      "\u001b[32m\u001b[1m  Installed\u001b[22m\u001b[39m InteractBase ────────── v0.10.3\n",
      "\u001b[32m\u001b[1m  Installed\u001b[22m\u001b[39m WebIO ───────────────── v0.8.14\n",
      "\u001b[32m\u001b[1m  Installed\u001b[22m\u001b[39m IniFile ─────────────── v0.5.0\n",
      "\u001b[32m\u001b[1m  Installed\u001b[22m\u001b[39m Widgets ─────────────── v0.6.2\n",
      "\u001b[32m\u001b[1m  Installed\u001b[22m\u001b[39m Knockout ────────────── v0.2.4\n",
      "\u001b[32m\u001b[1m  Installed\u001b[22m\u001b[39m JSExpr ──────────────── v0.5.2\n",
      "\u001b[32m\u001b[1m  Installed\u001b[22m\u001b[39m CSSUtil ─────────────── v0.1.1\n",
      "\u001b[32m\u001b[1m  Installed\u001b[22m\u001b[39m HTTP ────────────────── v0.8.14\n",
      "\u001b[32m\u001b[1m   Updating\u001b[22m\u001b[39m `~/.julia/environments/v1.4/Project.toml`\n",
      " \u001b[90m [c601a237]\u001b[39m\u001b[92m + Interact v0.10.3\u001b[39m\n",
      "\u001b[32m\u001b[1m   Updating\u001b[22m\u001b[39m `~/.julia/environments/v1.4/Manifest.toml`\n",
      " \u001b[90m [bf4720bc]\u001b[39m\u001b[92m + AssetRegistry v0.1.0\u001b[39m\n",
      " \u001b[90m [70588ee8]\u001b[39m\u001b[92m + CSSUtil v0.1.1\u001b[39m\n",
      " \u001b[90m [de31a74c]\u001b[39m\u001b[92m + FunctionalCollections v0.5.0\u001b[39m\n",
      " \u001b[90m [cd3eb016]\u001b[39m\u001b[92m + HTTP v0.8.14\u001b[39m\n",
      " \u001b[90m [83e8ac13]\u001b[39m\u001b[92m + IniFile v0.5.0\u001b[39m\n",
      " \u001b[90m [c601a237]\u001b[39m\u001b[92m + Interact v0.10.3\u001b[39m\n",
      " \u001b[90m [d3863d7c]\u001b[39m\u001b[92m + InteractBase v0.10.3\u001b[39m\n",
      " \u001b[90m [97c1335a]\u001b[39m\u001b[92m + JSExpr v0.5.2\u001b[39m\n",
      " \u001b[90m [bcebb21b]\u001b[39m\u001b[92m + Knockout v0.2.4\u001b[39m\n",
      " \u001b[90m [510215fc]\u001b[39m\u001b[92m + Observables v0.2.3\u001b[39m\n",
      " \u001b[90m [fa939f87]\u001b[39m\u001b[92m + Pidfile v1.1.0\u001b[39m\n",
      " \u001b[90m [0f1e0344]\u001b[39m\u001b[92m + WebIO v0.8.14\u001b[39m\n",
      " \u001b[90m [104b5d7c]\u001b[39m\u001b[92m + WebSockets v1.5.2\u001b[39m\n",
      " \u001b[90m [cc8bc4a8]\u001b[39m\u001b[92m + Widgets v0.6.2\u001b[39m\n",
      "\u001b[32m\u001b[1m   Building\u001b[22m\u001b[39m WebIO ───────→ `~/.julia/packages/WebIO/nTMDV/deps/build.log`\n",
      "\u001b[32m\u001b[1m   Building\u001b[22m\u001b[39m Knockout ────→ `~/.julia/packages/Knockout/IP1uR/deps/build.log`\n",
      "\u001b[32m\u001b[1m   Building\u001b[22m\u001b[39m InteractBase → `~/.julia/packages/InteractBase/9mFwe/deps/build.log`\n",
      "\u001b[32m\u001b[1m   Building\u001b[22m\u001b[39m Interact ────→ `~/.julia/packages/Interact/SbgIk/deps/build.log`\n"
     ]
    }
   ],
   "source": [
    "] add Interact"
   ]
  },
  {
   "cell_type": "code",
   "execution_count": null,
   "metadata": {},
   "outputs": [],
   "source": []
  }
 ],
 "metadata": {
  "@webio": {
   "lastCommId": "c3ce51794dbb43c3819c24bbc8fef75e",
   "lastKernelId": "a9be0ee5-6aac-4cdf-839f-210ce6c5d294"
  },
  "kernelspec": {
   "display_name": "Julia 1.4.1",
   "language": "julia",
   "name": "julia-1.4"
  },
  "language_info": {
   "file_extension": ".jl",
   "mimetype": "application/julia",
   "name": "julia",
   "version": "1.4.1"
  }
 },
 "nbformat": 4,
 "nbformat_minor": 4
}
